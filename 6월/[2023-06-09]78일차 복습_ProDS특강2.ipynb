{
 "cells": [
  {
   "cell_type": "markdown",
   "id": "6d7964ba",
   "metadata": {},
   "source": [
    "# ProDS 실기문제 복습"
   ]
  },
  {
   "cell_type": "markdown",
   "id": "6d1e30e0",
   "metadata": {},
   "source": [
    "## 문제 6"
   ]
  },
  {
   "cell_type": "code",
   "execution_count": 6,
   "id": "358accbc",
   "metadata": {},
   "outputs": [],
   "source": [
    "# =============================================================================\n",
    "# 구분자 : comma(“,”), 4,323 Rows, 19 Columns, UTF-8 인코딩\n",
    "\n",
    "# 주택 관련 정보를 바탕으로 주택 가격을 예측해 보고자 한다. \n",
    "# 다음은 확보한 주택 관련 데이터로 총 19개 컬럼으로 구성되어\n",
    "# 있다.\n",
    "\n",
    "# 컬 럼 / 정 의 / Type\n",
    "# id / 매물 번호 / Double\n",
    "# date / 날짜 / String\n",
    "# price / 거래 가격 / Double\n",
    "# bedrooms / 방 개수 / Double\n",
    "# bathrooms / 화장실 개수 (화장실은 있으나 샤워기 없는 경우 0.5로 처리) / Double\n",
    "# sqft_living / 건축물 면적 / Double\n",
    "# sqft_lot / 대지 면적 / Double\n",
    "# floors / 건축물의 층수 / Double\n",
    "# waterfront / 강변 조망 가능 여부 (0 / 1) / Double\n",
    "# view / 경관 (나쁨에서 좋음으로 0 ~ 4로 표시) / Double\n",
    "# condition / 관리 상태 (나쁨에서 좋음으로 1 ~ 5로 표시) / Double\n",
    "# grade / 등급 (낮음에서 높음으로 1 ~ 13으로 표시) / Double\n",
    "# sqft_above / 지상 면적 / Double\n",
    "# sqft_basement / 지하실 면적 / Double\n",
    "# yr_built / 건축 연도 / Double\n",
    "# yr_renovated / 개축 연도 / Double\n",
    "# zipcode / 우편번호 / Double\n",
    "# sqft_living15 / 15개의 인근 주택의 평균 건물 면적 / Double\n",
    "# sqft_lot15 / 15개의 인근 주택의 평균 대지 면적 / Double\n",
    "# ============================================================================="
   ]
  },
  {
   "cell_type": "code",
   "execution_count": 7,
   "id": "ee8bc17c",
   "metadata": {},
   "outputs": [],
   "source": [
    "# 패키지 호출\n",
    "import pandas as pd\n",
    "import numpy as np"
   ]
  },
  {
   "cell_type": "code",
   "execution_count": 8,
   "id": "fa14b761",
   "metadata": {},
   "outputs": [
    {
     "data": {
      "text/html": [
       "<div>\n",
       "<style scoped>\n",
       "    .dataframe tbody tr th:only-of-type {\n",
       "        vertical-align: middle;\n",
       "    }\n",
       "\n",
       "    .dataframe tbody tr th {\n",
       "        vertical-align: top;\n",
       "    }\n",
       "\n",
       "    .dataframe thead th {\n",
       "        text-align: right;\n",
       "    }\n",
       "</style>\n",
       "<table border=\"1\" class=\"dataframe\">\n",
       "  <thead>\n",
       "    <tr style=\"text-align: right;\">\n",
       "      <th></th>\n",
       "      <th>id</th>\n",
       "      <th>date</th>\n",
       "      <th>price</th>\n",
       "      <th>bedrooms</th>\n",
       "      <th>bathrooms</th>\n",
       "      <th>sqft_living</th>\n",
       "      <th>sqft_lot</th>\n",
       "      <th>floors</th>\n",
       "      <th>waterfront</th>\n",
       "      <th>view</th>\n",
       "      <th>condition</th>\n",
       "      <th>grade</th>\n",
       "      <th>sqft_above</th>\n",
       "      <th>sqft_basement</th>\n",
       "      <th>yr_built</th>\n",
       "      <th>yr_renovated</th>\n",
       "      <th>zipcode</th>\n",
       "      <th>sqft_living15</th>\n",
       "      <th>sqft_lot15</th>\n",
       "    </tr>\n",
       "  </thead>\n",
       "  <tbody>\n",
       "    <tr>\n",
       "      <th>0</th>\n",
       "      <td>2597000006</td>\n",
       "      <td>20150309T000000</td>\n",
       "      <td>347500.0</td>\n",
       "      <td>3</td>\n",
       "      <td>1.50</td>\n",
       "      <td>1180</td>\n",
       "      <td>8353</td>\n",
       "      <td>1.0</td>\n",
       "      <td>0</td>\n",
       "      <td>0</td>\n",
       "      <td>3</td>\n",
       "      <td>7</td>\n",
       "      <td>1180</td>\n",
       "      <td>0</td>\n",
       "      <td>1960</td>\n",
       "      <td>0</td>\n",
       "      <td>98155</td>\n",
       "      <td>1710</td>\n",
       "      <td>8748</td>\n",
       "    </tr>\n",
       "    <tr>\n",
       "      <th>1</th>\n",
       "      <td>8813400345</td>\n",
       "      <td>20150414T000000</td>\n",
       "      <td>575000.0</td>\n",
       "      <td>2</td>\n",
       "      <td>1.00</td>\n",
       "      <td>980</td>\n",
       "      <td>3663</td>\n",
       "      <td>1.0</td>\n",
       "      <td>0</td>\n",
       "      <td>0</td>\n",
       "      <td>5</td>\n",
       "      <td>7</td>\n",
       "      <td>980</td>\n",
       "      <td>0</td>\n",
       "      <td>1909</td>\n",
       "      <td>0</td>\n",
       "      <td>98105</td>\n",
       "      <td>1620</td>\n",
       "      <td>3706</td>\n",
       "    </tr>\n",
       "    <tr>\n",
       "      <th>2</th>\n",
       "      <td>226059106</td>\n",
       "      <td>20150102T000000</td>\n",
       "      <td>489500.0</td>\n",
       "      <td>3</td>\n",
       "      <td>1.75</td>\n",
       "      <td>2090</td>\n",
       "      <td>65558</td>\n",
       "      <td>1.0</td>\n",
       "      <td>0</td>\n",
       "      <td>0</td>\n",
       "      <td>3</td>\n",
       "      <td>8</td>\n",
       "      <td>1330</td>\n",
       "      <td>760</td>\n",
       "      <td>1977</td>\n",
       "      <td>0</td>\n",
       "      <td>98072</td>\n",
       "      <td>2450</td>\n",
       "      <td>47178</td>\n",
       "    </tr>\n",
       "    <tr>\n",
       "      <th>3</th>\n",
       "      <td>8645500270</td>\n",
       "      <td>20141028T000000</td>\n",
       "      <td>246000.0</td>\n",
       "      <td>4</td>\n",
       "      <td>1.75</td>\n",
       "      <td>1720</td>\n",
       "      <td>7455</td>\n",
       "      <td>1.0</td>\n",
       "      <td>0</td>\n",
       "      <td>0</td>\n",
       "      <td>4</td>\n",
       "      <td>7</td>\n",
       "      <td>1020</td>\n",
       "      <td>700</td>\n",
       "      <td>1963</td>\n",
       "      <td>0</td>\n",
       "      <td>98058</td>\n",
       "      <td>1720</td>\n",
       "      <td>7700</td>\n",
       "    </tr>\n",
       "    <tr>\n",
       "      <th>4</th>\n",
       "      <td>7010700550</td>\n",
       "      <td>20141114T000000</td>\n",
       "      <td>595000.0</td>\n",
       "      <td>3</td>\n",
       "      <td>2.50</td>\n",
       "      <td>2030</td>\n",
       "      <td>5100</td>\n",
       "      <td>2.0</td>\n",
       "      <td>0</td>\n",
       "      <td>0</td>\n",
       "      <td>3</td>\n",
       "      <td>7</td>\n",
       "      <td>2030</td>\n",
       "      <td>0</td>\n",
       "      <td>2008</td>\n",
       "      <td>0</td>\n",
       "      <td>98199</td>\n",
       "      <td>1790</td>\n",
       "      <td>4380</td>\n",
       "    </tr>\n",
       "  </tbody>\n",
       "</table>\n",
       "</div>"
      ],
      "text/plain": [
       "           id             date     price  bedrooms  bathrooms  sqft_living  \\\n",
       "0  2597000006  20150309T000000  347500.0         3       1.50         1180   \n",
       "1  8813400345  20150414T000000  575000.0         2       1.00          980   \n",
       "2   226059106  20150102T000000  489500.0         3       1.75         2090   \n",
       "3  8645500270  20141028T000000  246000.0         4       1.75         1720   \n",
       "4  7010700550  20141114T000000  595000.0         3       2.50         2030   \n",
       "\n",
       "   sqft_lot  floors  waterfront  view  condition  grade  sqft_above  \\\n",
       "0      8353     1.0           0     0          3      7        1180   \n",
       "1      3663     1.0           0     0          5      7         980   \n",
       "2     65558     1.0           0     0          3      8        1330   \n",
       "3      7455     1.0           0     0          4      7        1020   \n",
       "4      5100     2.0           0     0          3      7        2030   \n",
       "\n",
       "   sqft_basement  yr_built  yr_renovated  zipcode  sqft_living15  sqft_lot15  \n",
       "0              0      1960             0    98155           1710        8748  \n",
       "1              0      1909             0    98105           1620        3706  \n",
       "2            760      1977             0    98072           2450       47178  \n",
       "3            700      1963             0    98058           1720        7700  \n",
       "4              0      2008             0    98199           1790        4380  "
      ]
     },
     "execution_count": 8,
     "metadata": {},
     "output_type": "execute_result"
    }
   ],
   "source": [
    "# 데이터 불러오기\n",
    "csvFile = 'C:/Users/chunc/Desktop/Bootcamp/python/python/ProDs/Dataset/DataSet_06.csv'\n",
    "data6 = pd.read_csv(csvFile)\n",
    "data6.head()"
   ]
  },
  {
   "cell_type": "code",
   "execution_count": 9,
   "id": "ef4ca3b7",
   "metadata": {},
   "outputs": [
    {
     "name": "stdout",
     "output_type": "stream",
     "text": [
      "<class 'pandas.core.frame.DataFrame'>\n",
      "RangeIndex: 4323 entries, 0 to 4322\n",
      "Data columns (total 19 columns):\n",
      " #   Column         Non-Null Count  Dtype  \n",
      "---  ------         --------------  -----  \n",
      " 0   id             4323 non-null   int64  \n",
      " 1   date           4323 non-null   object \n",
      " 2   price          4323 non-null   float64\n",
      " 3   bedrooms       4323 non-null   int64  \n",
      " 4   bathrooms      4323 non-null   float64\n",
      " 5   sqft_living    4323 non-null   int64  \n",
      " 6   sqft_lot       4323 non-null   int64  \n",
      " 7   floors         4323 non-null   float64\n",
      " 8   waterfront     4323 non-null   int64  \n",
      " 9   view           4323 non-null   int64  \n",
      " 10  condition      4323 non-null   int64  \n",
      " 11  grade          4323 non-null   int64  \n",
      " 12  sqft_above     4323 non-null   int64  \n",
      " 13  sqft_basement  4323 non-null   int64  \n",
      " 14  yr_built       4323 non-null   int64  \n",
      " 15  yr_renovated   4323 non-null   int64  \n",
      " 16  zipcode        4323 non-null   int64  \n",
      " 17  sqft_living15  4323 non-null   int64  \n",
      " 18  sqft_lot15     4323 non-null   int64  \n",
      "dtypes: float64(3), int64(15), object(1)\n",
      "memory usage: 641.8+ KB\n"
     ]
    }
   ],
   "source": [
    "data6.info()"
   ]
  },
  {
   "cell_type": "code",
   "execution_count": 10,
   "id": "0e86008d",
   "metadata": {},
   "outputs": [],
   "source": [
    "# =============================================================================\n",
    "# 1.강변 조망이 가능한지 여부(waterfront)에 따라 평균 주택 가격을 계산하고 조망이\n",
    "# 가능한 경우와 그렇지 않은 경우의 평균 가격 차이의 절대값을 구하시오. 답은\n",
    "# 소수점 이하는 버리고 정수부만 기술하시오. (답안 예시) 1234567\n",
    "# ============================================================================="
   ]
  },
  {
   "cell_type": "code",
   "execution_count": 11,
   "id": "05436ea9",
   "metadata": {},
   "outputs": [],
   "source": [
    "# 강변 조망의 여부에 따라 평균주택 가격 도출\n",
    "q6_1_0 = data6[data6.waterfront == 0]['price'].mean()\n",
    "q6_1_1 = data6[data6.waterfront == 1]['price'].mean()"
   ]
  },
  {
   "cell_type": "code",
   "execution_count": 12,
   "id": "e8e126c3",
   "metadata": {},
   "outputs": [
    {
     "data": {
      "text/plain": [
       "1167272.0"
      ]
     },
     "execution_count": 12,
     "metadata": {},
     "output_type": "execute_result"
    }
   ],
   "source": [
    "# 평균가격 차이의 절대값\n",
    "np.trunc(abs(q6_1_0 - q6_1_1))"
   ]
  },
  {
   "cell_type": "code",
   "execution_count": 13,
   "id": "ed6355e1",
   "metadata": {},
   "outputs": [],
   "source": [
    "# =============================================================================\n",
    "# 2.price, bedrooms, bathrooms, sqft_living, sqft_lot, floors, yr_built 등 7개의 변수 간의\n",
    "# 상관분석을 수행하고 price와의 상관계수의 절대값이 가장 큰 변수와 가장 작은\n",
    "# 변수를 차례로 기술하시오. (답안 예시) view, zipcode\n",
    "# \n",
    "# ============================================================================="
   ]
  },
  {
   "cell_type": "code",
   "execution_count": 14,
   "id": "030faa7e",
   "metadata": {},
   "outputs": [],
   "source": [
    "var_list = ['price', 'bedrooms', 'bathrooms', 'sqft_living', 'sqft_lot', 'floors', 'yr_built']"
   ]
  },
  {
   "cell_type": "code",
   "execution_count": 15,
   "id": "bab944f1",
   "metadata": {},
   "outputs": [
    {
     "data": {
      "text/plain": [
       "bedrooms       0.279824\n",
       "bathrooms      0.534277\n",
       "sqft_living    0.709157\n",
       "sqft_lot       0.106341\n",
       "floors         0.270423\n",
       "yr_built       0.059895\n",
       "Name: price, dtype: float64"
      ]
     },
     "execution_count": 15,
     "metadata": {},
     "output_type": "execute_result"
    }
   ],
   "source": [
    "# 상관계수\n",
    "q6_2 = data6[var_list].corr()['price'].drop('price')\n",
    "q6_2"
   ]
  },
  {
   "cell_type": "code",
   "execution_count": 16,
   "id": "5d3cff56",
   "metadata": {},
   "outputs": [
    {
     "data": {
      "text/plain": [
       "('sqft_living', 'yr_built')"
      ]
     },
     "execution_count": 16,
     "metadata": {},
     "output_type": "execute_result"
    }
   ],
   "source": [
    "# price와의 상관계수의 절대값이 가장 큰 변수와 가장 작은 변수\n",
    "q6_2.abs().idxmax(), q6_2.abs().idxmin()"
   ]
  },
  {
   "cell_type": "code",
   "execution_count": 17,
   "id": "b1702897",
   "metadata": {},
   "outputs": [],
   "source": [
    "# =============================================================================\n",
    "# 3. id, date, 그리고 zipcode를 제외한 모든 변수를 독립변수로, price를 종속변수로 하여\n",
    "# 회귀분석을 수행하시오. 통계적 유의성을 갖지 못하는 독립변수를 제거하면 회귀\n",
    "# 모형에 남는 변수는 모두\n",
    "# 몇 개인가? 이 때 음의 회귀계수를 가지는 변수는 몇 개인가? (답안 예시) 5, 3\n",
    "# =============================================================================\n",
    "\n",
    "# =============================================================================\n",
    "# (참고)\n",
    "# import pandas as pd\n",
    "# import numpy as np\n",
    "# from sklearn.linear_model import LinearRegression\n",
    "# from statsmodels.formula.api import ols\n",
    "# ============================================================================="
   ]
  },
  {
   "cell_type": "code",
   "execution_count": 18,
   "id": "41d642c3",
   "metadata": {},
   "outputs": [],
   "source": [
    "# statsmodel 패키지 불러오기\n",
    "import pandas as pd\n",
    "import numpy as np\n",
    "from sklearn.linear_model import LinearRegression\n",
    "from statsmodels.formula.api import ols"
   ]
  },
  {
   "cell_type": "code",
   "execution_count": 19,
   "id": "91f0653b",
   "metadata": {},
   "outputs": [],
   "source": [
    "var_list = data6.columns.drop(['id', 'date', 'zipcode'])\n",
    "var_list2 = data6.columns.drop(['id', 'date', 'zipcode', 'price'])"
   ]
  },
  {
   "cell_type": "code",
   "execution_count": 20,
   "id": "a066d60b",
   "metadata": {},
   "outputs": [
    {
     "data": {
      "text/plain": [
       "Index(['bedrooms', 'bathrooms', 'sqft_living', 'sqft_lot', 'floors',\n",
       "       'waterfront', 'view', 'condition', 'grade', 'sqft_above',\n",
       "       'sqft_basement', 'yr_built', 'yr_renovated', 'sqft_living15',\n",
       "       'sqft_lot15'],\n",
       "      dtype='object')"
      ]
     },
     "execution_count": 20,
     "metadata": {},
     "output_type": "execute_result"
    }
   ],
   "source": [
    "var_list2"
   ]
  },
  {
   "cell_type": "code",
   "execution_count": 21,
   "id": "fce05fe7",
   "metadata": {},
   "outputs": [
    {
     "data": {
      "text/plain": [
       "'price~bedrooms+bathrooms'"
      ]
     },
     "execution_count": 21,
     "metadata": {},
     "output_type": "execute_result"
    }
   ],
   "source": [
    "'price~' + 'bedrooms+bathrooms'"
   ]
  },
  {
   "cell_type": "code",
   "execution_count": 22,
   "id": "dbd3af59",
   "metadata": {},
   "outputs": [
    {
     "data": {
      "text/plain": [
       "'bedrooms+bathrooms+sqft_living+sqft_lot+floors+waterfront+view+condition+grade+sqft_above+sqft_basement+yr_built+yr_renovated+sqft_living15+sqft_lot15'"
      ]
     },
     "execution_count": 22,
     "metadata": {},
     "output_type": "execute_result"
    }
   ],
   "source": [
    "# join을 사용하게 되면 var_list2에 있는 변수목록이 문자열 연산을 통해 출력이 된다\n",
    "'+'.join(var_list2)"
   ]
  },
  {
   "cell_type": "code",
   "execution_count": 23,
   "id": "cbf50d9b",
   "metadata": {},
   "outputs": [
    {
     "data": {
      "text/plain": [
       "'price~bedrooms+bathrooms+sqft_living+sqft_lot+floors+waterfront+view+condition+grade+sqft_above+sqft_basement+yr_built+yr_renovated+sqft_living15+sqft_lot15'"
      ]
     },
     "execution_count": 23,
     "metadata": {},
     "output_type": "execute_result"
    }
   ],
   "source": [
    "form1 = 'price~' + '+'.join(var_list2)\n",
    "form1"
   ]
  },
  {
   "cell_type": "code",
   "execution_count": 24,
   "id": "fce0ce95",
   "metadata": {},
   "outputs": [],
   "source": [
    "# ols메서드를 사용한 회귀분석\n",
    "lm1 = ols(form1, data6).fit()"
   ]
  },
  {
   "cell_type": "code",
   "execution_count": 25,
   "id": "3626d280",
   "metadata": {},
   "outputs": [
    {
     "data": {
      "text/plain": [
       "0       303167.404363\n",
       "1       494555.779137\n",
       "2       526394.280931\n",
       "3       381742.870130\n",
       "4       326405.856590\n",
       "            ...      \n",
       "4318    218820.959470\n",
       "4319    700129.403303\n",
       "4320    403050.034203\n",
       "4321    530431.529542\n",
       "4322    462692.590490\n",
       "Length: 4323, dtype: float64"
      ]
     },
     "execution_count": 25,
     "metadata": {},
     "output_type": "execute_result"
    }
   ],
   "source": [
    "# 예측된 price값 출력\n",
    "lm1.predict(data6)"
   ]
  },
  {
   "cell_type": "code",
   "execution_count": 26,
   "id": "9fcf191e",
   "metadata": {},
   "outputs": [
    {
     "data": {
      "text/html": [
       "<table class=\"simpletable\">\n",
       "<caption>OLS Regression Results</caption>\n",
       "<tr>\n",
       "  <th>Dep. Variable:</th>          <td>price</td>      <th>  R-squared:         </th> <td>   0.681</td> \n",
       "</tr>\n",
       "<tr>\n",
       "  <th>Model:</th>                   <td>OLS</td>       <th>  Adj. R-squared:    </th> <td>   0.680</td> \n",
       "</tr>\n",
       "<tr>\n",
       "  <th>Method:</th>             <td>Least Squares</td>  <th>  F-statistic:       </th> <td>   656.0</td> \n",
       "</tr>\n",
       "<tr>\n",
       "  <th>Date:</th>             <td>Fri, 09 Jun 2023</td> <th>  Prob (F-statistic):</th>  <td>  0.00</td>  \n",
       "</tr>\n",
       "<tr>\n",
       "  <th>Time:</th>                 <td>21:30:41</td>     <th>  Log-Likelihood:    </th> <td> -58960.</td> \n",
       "</tr>\n",
       "<tr>\n",
       "  <th>No. Observations:</th>      <td>  4323</td>      <th>  AIC:               </th> <td>1.180e+05</td>\n",
       "</tr>\n",
       "<tr>\n",
       "  <th>Df Residuals:</th>          <td>  4308</td>      <th>  BIC:               </th> <td>1.180e+05</td>\n",
       "</tr>\n",
       "<tr>\n",
       "  <th>Df Model:</th>              <td>    14</td>      <th>                     </th>     <td> </td>    \n",
       "</tr>\n",
       "<tr>\n",
       "  <th>Covariance Type:</th>      <td>nonrobust</td>    <th>                     </th>     <td> </td>    \n",
       "</tr>\n",
       "</table>\n",
       "<table class=\"simpletable\">\n",
       "<tr>\n",
       "        <td></td>           <th>coef</th>     <th>std err</th>      <th>t</th>      <th>P>|t|</th>  <th>[0.025</th>    <th>0.975]</th>  \n",
       "</tr>\n",
       "<tr>\n",
       "  <th>Intercept</th>     <td> 6.302e+06</td> <td> 2.95e+05</td> <td>   21.401</td> <td> 0.000</td> <td> 5.73e+06</td> <td> 6.88e+06</td>\n",
       "</tr>\n",
       "<tr>\n",
       "  <th>bedrooms</th>      <td>  -2.5e+04</td> <td> 3680.510</td> <td>   -6.791</td> <td> 0.000</td> <td>-3.22e+04</td> <td>-1.78e+04</td>\n",
       "</tr>\n",
       "<tr>\n",
       "  <th>bathrooms</th>     <td> 5.179e+04</td> <td> 7163.408</td> <td>    7.230</td> <td> 0.000</td> <td> 3.77e+04</td> <td> 6.58e+04</td>\n",
       "</tr>\n",
       "<tr>\n",
       "  <th>sqft_living</th>   <td>   92.3081</td> <td>    5.074</td> <td>   18.192</td> <td> 0.000</td> <td>   82.360</td> <td>  102.256</td>\n",
       "</tr>\n",
       "<tr>\n",
       "  <th>sqft_lot</th>      <td>    0.0054</td> <td>    0.093</td> <td>    0.059</td> <td> 0.953</td> <td>   -0.176</td> <td>    0.187</td>\n",
       "</tr>\n",
       "<tr>\n",
       "  <th>floors</th>        <td> 3.748e+04</td> <td> 8141.392</td> <td>    4.604</td> <td> 0.000</td> <td> 2.15e+04</td> <td> 5.34e+04</td>\n",
       "</tr>\n",
       "<tr>\n",
       "  <th>waterfront</th>    <td> 6.277e+05</td> <td> 3.91e+04</td> <td>   16.064</td> <td> 0.000</td> <td> 5.51e+05</td> <td> 7.04e+05</td>\n",
       "</tr>\n",
       "<tr>\n",
       "  <th>view</th>          <td>  4.04e+04</td> <td> 4797.344</td> <td>    8.421</td> <td> 0.000</td> <td>  3.1e+04</td> <td> 4.98e+04</td>\n",
       "</tr>\n",
       "<tr>\n",
       "  <th>condition</th>     <td> 1.571e+04</td> <td> 5317.387</td> <td>    2.954</td> <td> 0.003</td> <td> 5280.918</td> <td> 2.61e+04</td>\n",
       "</tr>\n",
       "<tr>\n",
       "  <th>grade</th>         <td> 1.306e+05</td> <td> 4700.604</td> <td>   27.789</td> <td> 0.000</td> <td> 1.21e+05</td> <td>  1.4e+05</td>\n",
       "</tr>\n",
       "<tr>\n",
       "  <th>sqft_above</th>    <td>   33.7358</td> <td>    4.981</td> <td>    6.773</td> <td> 0.000</td> <td>   23.971</td> <td>   43.501</td>\n",
       "</tr>\n",
       "<tr>\n",
       "  <th>sqft_basement</th> <td>   58.5722</td> <td>    5.840</td> <td>   10.030</td> <td> 0.000</td> <td>   47.123</td> <td>   70.021</td>\n",
       "</tr>\n",
       "<tr>\n",
       "  <th>yr_built</th>      <td>-3666.8957</td> <td>  150.805</td> <td>  -24.316</td> <td> 0.000</td> <td>-3962.551</td> <td>-3371.241</td>\n",
       "</tr>\n",
       "<tr>\n",
       "  <th>yr_renovated</th>  <td>   17.7032</td> <td>    8.265</td> <td>    2.142</td> <td> 0.032</td> <td>    1.499</td> <td>   33.908</td>\n",
       "</tr>\n",
       "<tr>\n",
       "  <th>sqft_living15</th> <td>   23.0114</td> <td>    7.561</td> <td>    3.044</td> <td> 0.002</td> <td>    8.188</td> <td>   37.834</td>\n",
       "</tr>\n",
       "<tr>\n",
       "  <th>sqft_lot15</th>    <td>   -0.2323</td> <td>    0.142</td> <td>   -1.637</td> <td> 0.102</td> <td>   -0.511</td> <td>    0.046</td>\n",
       "</tr>\n",
       "</table>\n",
       "<table class=\"simpletable\">\n",
       "<tr>\n",
       "  <th>Omnibus:</th>       <td>2170.721</td> <th>  Durbin-Watson:     </th> <td>   2.011</td> \n",
       "</tr>\n",
       "<tr>\n",
       "  <th>Prob(Omnibus):</th>  <td> 0.000</td>  <th>  Jarque-Bera (JB):  </th> <td>38362.875</td>\n",
       "</tr>\n",
       "<tr>\n",
       "  <th>Skew:</th>           <td> 1.971</td>  <th>  Prob(JB):          </th> <td>    0.00</td> \n",
       "</tr>\n",
       "<tr>\n",
       "  <th>Kurtosis:</th>       <td>17.051</td>  <th>  Cond. No.          </th> <td>1.11e+17</td> \n",
       "</tr>\n",
       "</table><br/><br/>Notes:<br/>[1] Standard Errors assume that the covariance matrix of the errors is correctly specified.<br/>[2] The smallest eigenvalue is 1.31e-21. This might indicate that there are<br/>strong multicollinearity problems or that the design matrix is singular."
      ],
      "text/latex": [
       "\\begin{center}\n",
       "\\begin{tabular}{lclc}\n",
       "\\toprule\n",
       "\\textbf{Dep. Variable:}    &      price       & \\textbf{  R-squared:         } &     0.681   \\\\\n",
       "\\textbf{Model:}            &       OLS        & \\textbf{  Adj. R-squared:    } &     0.680   \\\\\n",
       "\\textbf{Method:}           &  Least Squares   & \\textbf{  F-statistic:       } &     656.0   \\\\\n",
       "\\textbf{Date:}             & Fri, 09 Jun 2023 & \\textbf{  Prob (F-statistic):} &     0.00    \\\\\n",
       "\\textbf{Time:}             &     21:30:41     & \\textbf{  Log-Likelihood:    } &   -58960.   \\\\\n",
       "\\textbf{No. Observations:} &        4323      & \\textbf{  AIC:               } & 1.180e+05   \\\\\n",
       "\\textbf{Df Residuals:}     &        4308      & \\textbf{  BIC:               } & 1.180e+05   \\\\\n",
       "\\textbf{Df Model:}         &          14      & \\textbf{                     } &             \\\\\n",
       "\\textbf{Covariance Type:}  &    nonrobust     & \\textbf{                     } &             \\\\\n",
       "\\bottomrule\n",
       "\\end{tabular}\n",
       "\\begin{tabular}{lcccccc}\n",
       "                        & \\textbf{coef} & \\textbf{std err} & \\textbf{t} & \\textbf{P$> |$t$|$} & \\textbf{[0.025} & \\textbf{0.975]}  \\\\\n",
       "\\midrule\n",
       "\\textbf{Intercept}      &    6.302e+06  &     2.95e+05     &    21.401  &         0.000        &     5.73e+06    &     6.88e+06     \\\\\n",
       "\\textbf{bedrooms}       &     -2.5e+04  &     3680.510     &    -6.791  &         0.000        &    -3.22e+04    &    -1.78e+04     \\\\\n",
       "\\textbf{bathrooms}      &    5.179e+04  &     7163.408     &     7.230  &         0.000        &     3.77e+04    &     6.58e+04     \\\\\n",
       "\\textbf{sqft\\_living}   &      92.3081  &        5.074     &    18.192  &         0.000        &       82.360    &      102.256     \\\\\n",
       "\\textbf{sqft\\_lot}      &       0.0054  &        0.093     &     0.059  &         0.953        &       -0.176    &        0.187     \\\\\n",
       "\\textbf{floors}         &    3.748e+04  &     8141.392     &     4.604  &         0.000        &     2.15e+04    &     5.34e+04     \\\\\n",
       "\\textbf{waterfront}     &    6.277e+05  &     3.91e+04     &    16.064  &         0.000        &     5.51e+05    &     7.04e+05     \\\\\n",
       "\\textbf{view}           &     4.04e+04  &     4797.344     &     8.421  &         0.000        &      3.1e+04    &     4.98e+04     \\\\\n",
       "\\textbf{condition}      &    1.571e+04  &     5317.387     &     2.954  &         0.003        &     5280.918    &     2.61e+04     \\\\\n",
       "\\textbf{grade}          &    1.306e+05  &     4700.604     &    27.789  &         0.000        &     1.21e+05    &      1.4e+05     \\\\\n",
       "\\textbf{sqft\\_above}    &      33.7358  &        4.981     &     6.773  &         0.000        &       23.971    &       43.501     \\\\\n",
       "\\textbf{sqft\\_basement} &      58.5722  &        5.840     &    10.030  &         0.000        &       47.123    &       70.021     \\\\\n",
       "\\textbf{yr\\_built}      &   -3666.8957  &      150.805     &   -24.316  &         0.000        &    -3962.551    &    -3371.241     \\\\\n",
       "\\textbf{yr\\_renovated}  &      17.7032  &        8.265     &     2.142  &         0.032        &        1.499    &       33.908     \\\\\n",
       "\\textbf{sqft\\_living15} &      23.0114  &        7.561     &     3.044  &         0.002        &        8.188    &       37.834     \\\\\n",
       "\\textbf{sqft\\_lot15}    &      -0.2323  &        0.142     &    -1.637  &         0.102        &       -0.511    &        0.046     \\\\\n",
       "\\bottomrule\n",
       "\\end{tabular}\n",
       "\\begin{tabular}{lclc}\n",
       "\\textbf{Omnibus:}       & 2170.721 & \\textbf{  Durbin-Watson:     } &     2.011  \\\\\n",
       "\\textbf{Prob(Omnibus):} &   0.000  & \\textbf{  Jarque-Bera (JB):  } & 38362.875  \\\\\n",
       "\\textbf{Skew:}          &   1.971  & \\textbf{  Prob(JB):          } &      0.00  \\\\\n",
       "\\textbf{Kurtosis:}      &  17.051  & \\textbf{  Cond. No.          } &  1.11e+17  \\\\\n",
       "\\bottomrule\n",
       "\\end{tabular}\n",
       "%\\caption{OLS Regression Results}\n",
       "\\end{center}\n",
       "\n",
       "Notes: \\newline\n",
       " [1] Standard Errors assume that the covariance matrix of the errors is correctly specified. \\newline\n",
       " [2] The smallest eigenvalue is 1.31e-21. This might indicate that there are \\newline\n",
       " strong multicollinearity problems or that the design matrix is singular."
      ],
      "text/plain": [
       "<class 'statsmodels.iolib.summary.Summary'>\n",
       "\"\"\"\n",
       "                            OLS Regression Results                            \n",
       "==============================================================================\n",
       "Dep. Variable:                  price   R-squared:                       0.681\n",
       "Model:                            OLS   Adj. R-squared:                  0.680\n",
       "Method:                 Least Squares   F-statistic:                     656.0\n",
       "Date:                Fri, 09 Jun 2023   Prob (F-statistic):               0.00\n",
       "Time:                        21:30:41   Log-Likelihood:                -58960.\n",
       "No. Observations:                4323   AIC:                         1.180e+05\n",
       "Df Residuals:                    4308   BIC:                         1.180e+05\n",
       "Df Model:                          14                                         \n",
       "Covariance Type:            nonrobust                                         \n",
       "=================================================================================\n",
       "                    coef    std err          t      P>|t|      [0.025      0.975]\n",
       "---------------------------------------------------------------------------------\n",
       "Intercept      6.302e+06   2.95e+05     21.401      0.000    5.73e+06    6.88e+06\n",
       "bedrooms        -2.5e+04   3680.510     -6.791      0.000   -3.22e+04   -1.78e+04\n",
       "bathrooms      5.179e+04   7163.408      7.230      0.000    3.77e+04    6.58e+04\n",
       "sqft_living      92.3081      5.074     18.192      0.000      82.360     102.256\n",
       "sqft_lot          0.0054      0.093      0.059      0.953      -0.176       0.187\n",
       "floors         3.748e+04   8141.392      4.604      0.000    2.15e+04    5.34e+04\n",
       "waterfront     6.277e+05   3.91e+04     16.064      0.000    5.51e+05    7.04e+05\n",
       "view            4.04e+04   4797.344      8.421      0.000     3.1e+04    4.98e+04\n",
       "condition      1.571e+04   5317.387      2.954      0.003    5280.918    2.61e+04\n",
       "grade          1.306e+05   4700.604     27.789      0.000    1.21e+05     1.4e+05\n",
       "sqft_above       33.7358      4.981      6.773      0.000      23.971      43.501\n",
       "sqft_basement    58.5722      5.840     10.030      0.000      47.123      70.021\n",
       "yr_built      -3666.8957    150.805    -24.316      0.000   -3962.551   -3371.241\n",
       "yr_renovated     17.7032      8.265      2.142      0.032       1.499      33.908\n",
       "sqft_living15    23.0114      7.561      3.044      0.002       8.188      37.834\n",
       "sqft_lot15       -0.2323      0.142     -1.637      0.102      -0.511       0.046\n",
       "==============================================================================\n",
       "Omnibus:                     2170.721   Durbin-Watson:                   2.011\n",
       "Prob(Omnibus):                  0.000   Jarque-Bera (JB):            38362.875\n",
       "Skew:                           1.971   Prob(JB):                         0.00\n",
       "Kurtosis:                      17.051   Cond. No.                     1.11e+17\n",
       "==============================================================================\n",
       "\n",
       "Notes:\n",
       "[1] Standard Errors assume that the covariance matrix of the errors is correctly specified.\n",
       "[2] The smallest eigenvalue is 1.31e-21. This might indicate that there are\n",
       "strong multicollinearity problems or that the design matrix is singular.\n",
       "\"\"\""
      ]
     },
     "execution_count": 26,
     "metadata": {},
     "output_type": "execute_result"
    }
   ],
   "source": [
    "# 회귀분석의 요약정보 확인\n",
    "lm1.summary()"
   ]
  },
  {
   "cell_type": "code",
   "execution_count": 27,
   "id": "9b730891",
   "metadata": {},
   "outputs": [
    {
     "data": {
      "text/plain": [
       "True"
      ]
     },
     "execution_count": 27,
     "metadata": {},
     "output_type": "execute_result"
    }
   ],
   "source": [
    "# F통계량의 p-value를 통해 회귀식의 유의성 판단\n",
    "lm1.f_pvalue < 0.05"
   ]
  },
  {
   "cell_type": "code",
   "execution_count": 28,
   "id": "0a55f546",
   "metadata": {},
   "outputs": [
    {
     "data": {
      "text/plain": [
       "Intercept        6.302495e+06\n",
       "bedrooms        -2.499553e+04\n",
       "bathrooms        5.179234e+04\n",
       "sqft_living      9.230807e+01\n",
       "sqft_lot         5.444844e-03\n",
       "floors           3.748199e+04\n",
       "waterfront       6.276528e+05\n",
       "view             4.039778e+04\n",
       "condition        1.570573e+04\n",
       "grade            1.306274e+05\n",
       "sqft_above       3.373577e+01\n",
       "sqft_basement    5.857222e+01\n",
       "yr_built        -3.666896e+03\n",
       "yr_renovated     1.770319e+01\n",
       "sqft_living15    2.301144e+01\n",
       "sqft_lot15      -2.322904e-01\n",
       "dtype: float64"
      ]
     },
     "execution_count": 28,
     "metadata": {},
     "output_type": "execute_result"
    }
   ],
   "source": [
    "# 상수 및 회귀계수 호출\n",
    "lm1.params"
   ]
  },
  {
   "cell_type": "code",
   "execution_count": 29,
   "id": "0775c1c1",
   "metadata": {},
   "outputs": [
    {
     "data": {
      "text/plain": [
       "Intercept         True\n",
       "bedrooms          True\n",
       "bathrooms         True\n",
       "sqft_living       True\n",
       "sqft_lot         False\n",
       "floors            True\n",
       "waterfront        True\n",
       "view              True\n",
       "condition         True\n",
       "grade             True\n",
       "sqft_above        True\n",
       "sqft_basement     True\n",
       "yr_built          True\n",
       "yr_renovated      True\n",
       "sqft_living15     True\n",
       "sqft_lot15       False\n",
       "dtype: bool"
      ]
     },
     "execution_count": 29,
     "metadata": {},
     "output_type": "execute_result"
    }
   ],
   "source": [
    "# 상수 및 회귀계수의 개별 p-value 검정\n",
    "lm1.pvalues < 0.05"
   ]
  },
  {
   "cell_type": "code",
   "execution_count": 30,
   "id": "fa75ba9b",
   "metadata": {},
   "outputs": [
    {
     "data": {
      "text/plain": [
       "Index(['bedrooms', 'bathrooms', 'sqft_living', 'floors', 'waterfront', 'view',\n",
       "       'condition', 'grade', 'sqft_above', 'sqft_basement', 'yr_built',\n",
       "       'yr_renovated', 'sqft_living15'],\n",
       "      dtype='object')"
      ]
     },
     "execution_count": 30,
     "metadata": {},
     "output_type": "execute_result"
    }
   ],
   "source": [
    "# 유의확률이 0.05보다 작은 회귀계수의 인덱스 도출\n",
    "# 상수항 제외, 유의미한 변수 추출\n",
    "sel_var = lm1.pvalues.index[lm1.pvalues < 0.05].drop('Intercept')\n",
    "sel_var"
   ]
  },
  {
   "cell_type": "code",
   "execution_count": 31,
   "id": "d28718f2",
   "metadata": {},
   "outputs": [
    {
     "data": {
      "text/plain": [
       "13"
      ]
     },
     "execution_count": 31,
     "metadata": {},
     "output_type": "execute_result"
    }
   ],
   "source": [
    "# 3번의 답1, 모형에 남는 변수(유의미한 변수의 개수)\n",
    "len(sel_var)"
   ]
  },
  {
   "cell_type": "code",
   "execution_count": 32,
   "id": "176aa5aa",
   "metadata": {},
   "outputs": [
    {
     "data": {
      "text/plain": [
       "2"
      ]
     },
     "execution_count": 32,
     "metadata": {},
     "output_type": "execute_result"
    }
   ],
   "source": [
    "# 3번의 답2, 음수인 회귀계수의 개수\n",
    "(lm1.params[sel_var] < 0).sum()"
   ]
  },
  {
   "cell_type": "markdown",
   "id": "851a109e",
   "metadata": {},
   "source": [
    "### 이상치 확인"
   ]
  },
  {
   "cell_type": "code",
   "execution_count": 33,
   "id": "63b8cb2a",
   "metadata": {},
   "outputs": [
    {
     "data": {
      "text/html": [
       "<div>\n",
       "<style scoped>\n",
       "    .dataframe tbody tr th:only-of-type {\n",
       "        vertical-align: middle;\n",
       "    }\n",
       "\n",
       "    .dataframe tbody tr th {\n",
       "        vertical-align: top;\n",
       "    }\n",
       "\n",
       "    .dataframe thead th {\n",
       "        text-align: right;\n",
       "    }\n",
       "</style>\n",
       "<table border=\"1\" class=\"dataframe\">\n",
       "  <thead>\n",
       "    <tr style=\"text-align: right;\">\n",
       "      <th></th>\n",
       "      <th>id</th>\n",
       "      <th>date</th>\n",
       "      <th>price</th>\n",
       "      <th>bedrooms</th>\n",
       "      <th>bathrooms</th>\n",
       "      <th>sqft_living</th>\n",
       "      <th>sqft_lot</th>\n",
       "      <th>floors</th>\n",
       "      <th>waterfront</th>\n",
       "      <th>view</th>\n",
       "      <th>condition</th>\n",
       "      <th>grade</th>\n",
       "      <th>sqft_above</th>\n",
       "      <th>sqft_basement</th>\n",
       "      <th>yr_built</th>\n",
       "      <th>yr_renovated</th>\n",
       "      <th>zipcode</th>\n",
       "      <th>sqft_living15</th>\n",
       "      <th>sqft_lot15</th>\n",
       "    </tr>\n",
       "  </thead>\n",
       "  <tbody>\n",
       "    <tr>\n",
       "      <th>163</th>\n",
       "      <td>7768700300</td>\n",
       "      <td>20141205T000000</td>\n",
       "      <td>2575000.0</td>\n",
       "      <td>4</td>\n",
       "      <td>4.25</td>\n",
       "      <td>5540</td>\n",
       "      <td>15408</td>\n",
       "      <td>2.0</td>\n",
       "      <td>0</td>\n",
       "      <td>1</td>\n",
       "      <td>3</td>\n",
       "      <td>11</td>\n",
       "      <td>4280</td>\n",
       "      <td>1260</td>\n",
       "      <td>2006</td>\n",
       "      <td>0</td>\n",
       "      <td>98004</td>\n",
       "      <td>3570</td>\n",
       "      <td>14750</td>\n",
       "    </tr>\n",
       "    <tr>\n",
       "      <th>187</th>\n",
       "      <td>2402100895</td>\n",
       "      <td>20140625T000000</td>\n",
       "      <td>640000.0</td>\n",
       "      <td>33</td>\n",
       "      <td>1.75</td>\n",
       "      <td>1620</td>\n",
       "      <td>6000</td>\n",
       "      <td>1.0</td>\n",
       "      <td>0</td>\n",
       "      <td>0</td>\n",
       "      <td>5</td>\n",
       "      <td>7</td>\n",
       "      <td>1040</td>\n",
       "      <td>580</td>\n",
       "      <td>1947</td>\n",
       "      <td>0</td>\n",
       "      <td>98103</td>\n",
       "      <td>1330</td>\n",
       "      <td>4700</td>\n",
       "    </tr>\n",
       "    <tr>\n",
       "      <th>248</th>\n",
       "      <td>2424049029</td>\n",
       "      <td>20140529T000000</td>\n",
       "      <td>3100000.0</td>\n",
       "      <td>6</td>\n",
       "      <td>4.25</td>\n",
       "      <td>6980</td>\n",
       "      <td>15682</td>\n",
       "      <td>3.0</td>\n",
       "      <td>0</td>\n",
       "      <td>4</td>\n",
       "      <td>4</td>\n",
       "      <td>12</td>\n",
       "      <td>5330</td>\n",
       "      <td>1650</td>\n",
       "      <td>1999</td>\n",
       "      <td>0</td>\n",
       "      <td>98040</td>\n",
       "      <td>3930</td>\n",
       "      <td>18367</td>\n",
       "    </tr>\n",
       "    <tr>\n",
       "      <th>265</th>\n",
       "      <td>1954700410</td>\n",
       "      <td>20140801T000000</td>\n",
       "      <td>2546000.0</td>\n",
       "      <td>4</td>\n",
       "      <td>3.00</td>\n",
       "      <td>4190</td>\n",
       "      <td>8805</td>\n",
       "      <td>2.5</td>\n",
       "      <td>0</td>\n",
       "      <td>2</td>\n",
       "      <td>5</td>\n",
       "      <td>9</td>\n",
       "      <td>3490</td>\n",
       "      <td>700</td>\n",
       "      <td>1928</td>\n",
       "      <td>0</td>\n",
       "      <td>98112</td>\n",
       "      <td>3780</td>\n",
       "      <td>8558</td>\n",
       "    </tr>\n",
       "    <tr>\n",
       "      <th>382</th>\n",
       "      <td>1118000320</td>\n",
       "      <td>20150508T000000</td>\n",
       "      <td>3400000.0</td>\n",
       "      <td>4</td>\n",
       "      <td>4.00</td>\n",
       "      <td>4260</td>\n",
       "      <td>11765</td>\n",
       "      <td>2.0</td>\n",
       "      <td>0</td>\n",
       "      <td>0</td>\n",
       "      <td>3</td>\n",
       "      <td>11</td>\n",
       "      <td>3280</td>\n",
       "      <td>980</td>\n",
       "      <td>1939</td>\n",
       "      <td>2010</td>\n",
       "      <td>98112</td>\n",
       "      <td>4260</td>\n",
       "      <td>10408</td>\n",
       "    </tr>\n",
       "    <tr>\n",
       "      <th>530</th>\n",
       "      <td>4386700135</td>\n",
       "      <td>20141114T000000</td>\n",
       "      <td>2250000.0</td>\n",
       "      <td>4</td>\n",
       "      <td>2.25</td>\n",
       "      <td>4760</td>\n",
       "      <td>8036</td>\n",
       "      <td>2.5</td>\n",
       "      <td>0</td>\n",
       "      <td>0</td>\n",
       "      <td>5</td>\n",
       "      <td>9</td>\n",
       "      <td>3390</td>\n",
       "      <td>1370</td>\n",
       "      <td>1916</td>\n",
       "      <td>0</td>\n",
       "      <td>98112</td>\n",
       "      <td>2950</td>\n",
       "      <td>9323</td>\n",
       "    </tr>\n",
       "    <tr>\n",
       "      <th>863</th>\n",
       "      <td>3625049042</td>\n",
       "      <td>20141011T000000</td>\n",
       "      <td>3635000.0</td>\n",
       "      <td>5</td>\n",
       "      <td>6.00</td>\n",
       "      <td>5490</td>\n",
       "      <td>19897</td>\n",
       "      <td>2.0</td>\n",
       "      <td>0</td>\n",
       "      <td>0</td>\n",
       "      <td>3</td>\n",
       "      <td>12</td>\n",
       "      <td>5490</td>\n",
       "      <td>0</td>\n",
       "      <td>2005</td>\n",
       "      <td>0</td>\n",
       "      <td>98039</td>\n",
       "      <td>2910</td>\n",
       "      <td>17600</td>\n",
       "    </tr>\n",
       "    <tr>\n",
       "      <th>1065</th>\n",
       "      <td>9808100150</td>\n",
       "      <td>20150402T000000</td>\n",
       "      <td>3345000.0</td>\n",
       "      <td>5</td>\n",
       "      <td>3.75</td>\n",
       "      <td>5350</td>\n",
       "      <td>15360</td>\n",
       "      <td>1.0</td>\n",
       "      <td>0</td>\n",
       "      <td>1</td>\n",
       "      <td>3</td>\n",
       "      <td>11</td>\n",
       "      <td>3040</td>\n",
       "      <td>2310</td>\n",
       "      <td>2008</td>\n",
       "      <td>0</td>\n",
       "      <td>98004</td>\n",
       "      <td>3740</td>\n",
       "      <td>15940</td>\n",
       "    </tr>\n",
       "    <tr>\n",
       "      <th>1067</th>\n",
       "      <td>3025300095</td>\n",
       "      <td>20141009T000000</td>\n",
       "      <td>2500000.0</td>\n",
       "      <td>4</td>\n",
       "      <td>4.50</td>\n",
       "      <td>4300</td>\n",
       "      <td>19844</td>\n",
       "      <td>2.0</td>\n",
       "      <td>0</td>\n",
       "      <td>0</td>\n",
       "      <td>3</td>\n",
       "      <td>11</td>\n",
       "      <td>4300</td>\n",
       "      <td>0</td>\n",
       "      <td>1985</td>\n",
       "      <td>1999</td>\n",
       "      <td>98039</td>\n",
       "      <td>3070</td>\n",
       "      <td>19845</td>\n",
       "    </tr>\n",
       "    <tr>\n",
       "      <th>1091</th>\n",
       "      <td>7524900003</td>\n",
       "      <td>20141210T000000</td>\n",
       "      <td>3278000.0</td>\n",
       "      <td>2</td>\n",
       "      <td>1.75</td>\n",
       "      <td>6840</td>\n",
       "      <td>10000</td>\n",
       "      <td>2.5</td>\n",
       "      <td>1</td>\n",
       "      <td>4</td>\n",
       "      <td>3</td>\n",
       "      <td>11</td>\n",
       "      <td>4350</td>\n",
       "      <td>2490</td>\n",
       "      <td>2001</td>\n",
       "      <td>0</td>\n",
       "      <td>98008</td>\n",
       "      <td>3120</td>\n",
       "      <td>12300</td>\n",
       "    </tr>\n",
       "    <tr>\n",
       "      <th>1240</th>\n",
       "      <td>1118000110</td>\n",
       "      <td>20140529T000000</td>\n",
       "      <td>2453500.0</td>\n",
       "      <td>4</td>\n",
       "      <td>3.50</td>\n",
       "      <td>4730</td>\n",
       "      <td>13586</td>\n",
       "      <td>1.5</td>\n",
       "      <td>0</td>\n",
       "      <td>0</td>\n",
       "      <td>5</td>\n",
       "      <td>10</td>\n",
       "      <td>4270</td>\n",
       "      <td>460</td>\n",
       "      <td>1935</td>\n",
       "      <td>0</td>\n",
       "      <td>98112</td>\n",
       "      <td>3710</td>\n",
       "      <td>8828</td>\n",
       "    </tr>\n",
       "    <tr>\n",
       "      <th>1296</th>\n",
       "      <td>3025300226</td>\n",
       "      <td>20140515T000000</td>\n",
       "      <td>2100000.0</td>\n",
       "      <td>4</td>\n",
       "      <td>1.75</td>\n",
       "      <td>3550</td>\n",
       "      <td>19865</td>\n",
       "      <td>2.0</td>\n",
       "      <td>0</td>\n",
       "      <td>0</td>\n",
       "      <td>3</td>\n",
       "      <td>9</td>\n",
       "      <td>3550</td>\n",
       "      <td>0</td>\n",
       "      <td>1962</td>\n",
       "      <td>2002</td>\n",
       "      <td>98039</td>\n",
       "      <td>3000</td>\n",
       "      <td>19862</td>\n",
       "    </tr>\n",
       "    <tr>\n",
       "      <th>1540</th>\n",
       "      <td>2525049086</td>\n",
       "      <td>20141003T000000</td>\n",
       "      <td>2720000.0</td>\n",
       "      <td>4</td>\n",
       "      <td>3.25</td>\n",
       "      <td>3990</td>\n",
       "      <td>18115</td>\n",
       "      <td>2.0</td>\n",
       "      <td>0</td>\n",
       "      <td>0</td>\n",
       "      <td>4</td>\n",
       "      <td>11</td>\n",
       "      <td>3990</td>\n",
       "      <td>0</td>\n",
       "      <td>1989</td>\n",
       "      <td>0</td>\n",
       "      <td>98039</td>\n",
       "      <td>3450</td>\n",
       "      <td>16087</td>\n",
       "    </tr>\n",
       "    <tr>\n",
       "      <th>1650</th>\n",
       "      <td>1370800515</td>\n",
       "      <td>20141030T000000</td>\n",
       "      <td>2950000.0</td>\n",
       "      <td>4</td>\n",
       "      <td>4.25</td>\n",
       "      <td>4470</td>\n",
       "      <td>5884</td>\n",
       "      <td>2.0</td>\n",
       "      <td>0</td>\n",
       "      <td>1</td>\n",
       "      <td>3</td>\n",
       "      <td>11</td>\n",
       "      <td>3230</td>\n",
       "      <td>1240</td>\n",
       "      <td>2010</td>\n",
       "      <td>0</td>\n",
       "      <td>98199</td>\n",
       "      <td>2570</td>\n",
       "      <td>6000</td>\n",
       "    </tr>\n",
       "    <tr>\n",
       "      <th>2153</th>\n",
       "      <td>121039042</td>\n",
       "      <td>20150313T000000</td>\n",
       "      <td>425000.0</td>\n",
       "      <td>3</td>\n",
       "      <td>2.75</td>\n",
       "      <td>3610</td>\n",
       "      <td>107386</td>\n",
       "      <td>1.5</td>\n",
       "      <td>1</td>\n",
       "      <td>3</td>\n",
       "      <td>3</td>\n",
       "      <td>8</td>\n",
       "      <td>3130</td>\n",
       "      <td>480</td>\n",
       "      <td>1918</td>\n",
       "      <td>1962</td>\n",
       "      <td>98023</td>\n",
       "      <td>2630</td>\n",
       "      <td>42126</td>\n",
       "    </tr>\n",
       "    <tr>\n",
       "      <th>2232</th>\n",
       "      <td>518500480</td>\n",
       "      <td>20140811T000000</td>\n",
       "      <td>3000000.0</td>\n",
       "      <td>3</td>\n",
       "      <td>3.50</td>\n",
       "      <td>4410</td>\n",
       "      <td>10756</td>\n",
       "      <td>2.0</td>\n",
       "      <td>1</td>\n",
       "      <td>4</td>\n",
       "      <td>3</td>\n",
       "      <td>11</td>\n",
       "      <td>3430</td>\n",
       "      <td>980</td>\n",
       "      <td>2014</td>\n",
       "      <td>0</td>\n",
       "      <td>98056</td>\n",
       "      <td>3550</td>\n",
       "      <td>5634</td>\n",
       "    </tr>\n",
       "    <tr>\n",
       "      <th>2346</th>\n",
       "      <td>8964800890</td>\n",
       "      <td>20150109T000000</td>\n",
       "      <td>3200000.0</td>\n",
       "      <td>3</td>\n",
       "      <td>3.25</td>\n",
       "      <td>4560</td>\n",
       "      <td>13363</td>\n",
       "      <td>1.0</td>\n",
       "      <td>0</td>\n",
       "      <td>4</td>\n",
       "      <td>3</td>\n",
       "      <td>11</td>\n",
       "      <td>2760</td>\n",
       "      <td>1800</td>\n",
       "      <td>1995</td>\n",
       "      <td>0</td>\n",
       "      <td>98004</td>\n",
       "      <td>4060</td>\n",
       "      <td>13362</td>\n",
       "    </tr>\n",
       "    <tr>\n",
       "      <th>2365</th>\n",
       "      <td>4131900066</td>\n",
       "      <td>20140825T000000</td>\n",
       "      <td>3100000.0</td>\n",
       "      <td>3</td>\n",
       "      <td>3.00</td>\n",
       "      <td>3920</td>\n",
       "      <td>13085</td>\n",
       "      <td>2.0</td>\n",
       "      <td>1</td>\n",
       "      <td>4</td>\n",
       "      <td>4</td>\n",
       "      <td>11</td>\n",
       "      <td>3920</td>\n",
       "      <td>0</td>\n",
       "      <td>1996</td>\n",
       "      <td>0</td>\n",
       "      <td>98040</td>\n",
       "      <td>3450</td>\n",
       "      <td>13287</td>\n",
       "    </tr>\n",
       "    <tr>\n",
       "      <th>2476</th>\n",
       "      <td>5316101075</td>\n",
       "      <td>20140926T000000</td>\n",
       "      <td>2885000.0</td>\n",
       "      <td>7</td>\n",
       "      <td>3.00</td>\n",
       "      <td>5350</td>\n",
       "      <td>14400</td>\n",
       "      <td>2.5</td>\n",
       "      <td>0</td>\n",
       "      <td>0</td>\n",
       "      <td>4</td>\n",
       "      <td>10</td>\n",
       "      <td>5020</td>\n",
       "      <td>330</td>\n",
       "      <td>1910</td>\n",
       "      <td>0</td>\n",
       "      <td>98112</td>\n",
       "      <td>3050</td>\n",
       "      <td>7469</td>\n",
       "    </tr>\n",
       "    <tr>\n",
       "      <th>2537</th>\n",
       "      <td>3859900060</td>\n",
       "      <td>20150112T000000</td>\n",
       "      <td>2750000.0</td>\n",
       "      <td>5</td>\n",
       "      <td>4.00</td>\n",
       "      <td>6300</td>\n",
       "      <td>16065</td>\n",
       "      <td>2.0</td>\n",
       "      <td>0</td>\n",
       "      <td>1</td>\n",
       "      <td>3</td>\n",
       "      <td>12</td>\n",
       "      <td>4360</td>\n",
       "      <td>1940</td>\n",
       "      <td>2004</td>\n",
       "      <td>0</td>\n",
       "      <td>98004</td>\n",
       "      <td>3260</td>\n",
       "      <td>17287</td>\n",
       "    </tr>\n",
       "    <tr>\n",
       "      <th>2913</th>\n",
       "      <td>3126059023</td>\n",
       "      <td>20150303T000000</td>\n",
       "      <td>3395000.0</td>\n",
       "      <td>4</td>\n",
       "      <td>3.50</td>\n",
       "      <td>4730</td>\n",
       "      <td>47870</td>\n",
       "      <td>1.0</td>\n",
       "      <td>1</td>\n",
       "      <td>4</td>\n",
       "      <td>3</td>\n",
       "      <td>10</td>\n",
       "      <td>2940</td>\n",
       "      <td>1790</td>\n",
       "      <td>1954</td>\n",
       "      <td>0</td>\n",
       "      <td>98033</td>\n",
       "      <td>3250</td>\n",
       "      <td>49346</td>\n",
       "    </tr>\n",
       "    <tr>\n",
       "      <th>2946</th>\n",
       "      <td>5700004028</td>\n",
       "      <td>20150417T000000</td>\n",
       "      <td>2450000.0</td>\n",
       "      <td>4</td>\n",
       "      <td>4.25</td>\n",
       "      <td>4250</td>\n",
       "      <td>6552</td>\n",
       "      <td>2.0</td>\n",
       "      <td>0</td>\n",
       "      <td>3</td>\n",
       "      <td>4</td>\n",
       "      <td>10</td>\n",
       "      <td>2870</td>\n",
       "      <td>1380</td>\n",
       "      <td>2008</td>\n",
       "      <td>0</td>\n",
       "      <td>98144</td>\n",
       "      <td>3640</td>\n",
       "      <td>8841</td>\n",
       "    </tr>\n",
       "    <tr>\n",
       "      <th>3045</th>\n",
       "      <td>2154970020</td>\n",
       "      <td>20140703T000000</td>\n",
       "      <td>2351960.0</td>\n",
       "      <td>4</td>\n",
       "      <td>4.25</td>\n",
       "      <td>5010</td>\n",
       "      <td>19412</td>\n",
       "      <td>2.0</td>\n",
       "      <td>0</td>\n",
       "      <td>1</td>\n",
       "      <td>3</td>\n",
       "      <td>11</td>\n",
       "      <td>4000</td>\n",
       "      <td>1010</td>\n",
       "      <td>2014</td>\n",
       "      <td>0</td>\n",
       "      <td>98040</td>\n",
       "      <td>3820</td>\n",
       "      <td>17064</td>\n",
       "    </tr>\n",
       "    <tr>\n",
       "      <th>3593</th>\n",
       "      <td>685000115</td>\n",
       "      <td>20141007T000000</td>\n",
       "      <td>2150000.0</td>\n",
       "      <td>8</td>\n",
       "      <td>6.00</td>\n",
       "      <td>4340</td>\n",
       "      <td>9415</td>\n",
       "      <td>2.0</td>\n",
       "      <td>0</td>\n",
       "      <td>0</td>\n",
       "      <td>3</td>\n",
       "      <td>8</td>\n",
       "      <td>4340</td>\n",
       "      <td>0</td>\n",
       "      <td>1967</td>\n",
       "      <td>0</td>\n",
       "      <td>98004</td>\n",
       "      <td>2050</td>\n",
       "      <td>9100</td>\n",
       "    </tr>\n",
       "    <tr>\n",
       "      <th>3848</th>\n",
       "      <td>3623500205</td>\n",
       "      <td>20140513T000000</td>\n",
       "      <td>2450000.0</td>\n",
       "      <td>4</td>\n",
       "      <td>4.50</td>\n",
       "      <td>5030</td>\n",
       "      <td>11023</td>\n",
       "      <td>2.0</td>\n",
       "      <td>0</td>\n",
       "      <td>2</td>\n",
       "      <td>3</td>\n",
       "      <td>11</td>\n",
       "      <td>3250</td>\n",
       "      <td>1780</td>\n",
       "      <td>2008</td>\n",
       "      <td>0</td>\n",
       "      <td>98040</td>\n",
       "      <td>3640</td>\n",
       "      <td>11490</td>\n",
       "    </tr>\n",
       "    <tr>\n",
       "      <th>3929</th>\n",
       "      <td>9362000040</td>\n",
       "      <td>20140623T000000</td>\n",
       "      <td>3400000.0</td>\n",
       "      <td>3</td>\n",
       "      <td>4.50</td>\n",
       "      <td>5230</td>\n",
       "      <td>17826</td>\n",
       "      <td>2.0</td>\n",
       "      <td>1</td>\n",
       "      <td>4</td>\n",
       "      <td>3</td>\n",
       "      <td>10</td>\n",
       "      <td>3740</td>\n",
       "      <td>1490</td>\n",
       "      <td>2005</td>\n",
       "      <td>0</td>\n",
       "      <td>98040</td>\n",
       "      <td>3670</td>\n",
       "      <td>17826</td>\n",
       "    </tr>\n",
       "  </tbody>\n",
       "</table>\n",
       "</div>"
      ],
      "text/plain": [
       "              id             date      price  bedrooms  bathrooms  \\\n",
       "163   7768700300  20141205T000000  2575000.0         4       4.25   \n",
       "187   2402100895  20140625T000000   640000.0        33       1.75   \n",
       "248   2424049029  20140529T000000  3100000.0         6       4.25   \n",
       "265   1954700410  20140801T000000  2546000.0         4       3.00   \n",
       "382   1118000320  20150508T000000  3400000.0         4       4.00   \n",
       "530   4386700135  20141114T000000  2250000.0         4       2.25   \n",
       "863   3625049042  20141011T000000  3635000.0         5       6.00   \n",
       "1065  9808100150  20150402T000000  3345000.0         5       3.75   \n",
       "1067  3025300095  20141009T000000  2500000.0         4       4.50   \n",
       "1091  7524900003  20141210T000000  3278000.0         2       1.75   \n",
       "1240  1118000110  20140529T000000  2453500.0         4       3.50   \n",
       "1296  3025300226  20140515T000000  2100000.0         4       1.75   \n",
       "1540  2525049086  20141003T000000  2720000.0         4       3.25   \n",
       "1650  1370800515  20141030T000000  2950000.0         4       4.25   \n",
       "2153   121039042  20150313T000000   425000.0         3       2.75   \n",
       "2232   518500480  20140811T000000  3000000.0         3       3.50   \n",
       "2346  8964800890  20150109T000000  3200000.0         3       3.25   \n",
       "2365  4131900066  20140825T000000  3100000.0         3       3.00   \n",
       "2476  5316101075  20140926T000000  2885000.0         7       3.00   \n",
       "2537  3859900060  20150112T000000  2750000.0         5       4.00   \n",
       "2913  3126059023  20150303T000000  3395000.0         4       3.50   \n",
       "2946  5700004028  20150417T000000  2450000.0         4       4.25   \n",
       "3045  2154970020  20140703T000000  2351960.0         4       4.25   \n",
       "3593   685000115  20141007T000000  2150000.0         8       6.00   \n",
       "3848  3623500205  20140513T000000  2450000.0         4       4.50   \n",
       "3929  9362000040  20140623T000000  3400000.0         3       4.50   \n",
       "\n",
       "      sqft_living  sqft_lot  floors  waterfront  view  condition  grade  \\\n",
       "163          5540     15408     2.0           0     1          3     11   \n",
       "187          1620      6000     1.0           0     0          5      7   \n",
       "248          6980     15682     3.0           0     4          4     12   \n",
       "265          4190      8805     2.5           0     2          5      9   \n",
       "382          4260     11765     2.0           0     0          3     11   \n",
       "530          4760      8036     2.5           0     0          5      9   \n",
       "863          5490     19897     2.0           0     0          3     12   \n",
       "1065         5350     15360     1.0           0     1          3     11   \n",
       "1067         4300     19844     2.0           0     0          3     11   \n",
       "1091         6840     10000     2.5           1     4          3     11   \n",
       "1240         4730     13586     1.5           0     0          5     10   \n",
       "1296         3550     19865     2.0           0     0          3      9   \n",
       "1540         3990     18115     2.0           0     0          4     11   \n",
       "1650         4470      5884     2.0           0     1          3     11   \n",
       "2153         3610    107386     1.5           1     3          3      8   \n",
       "2232         4410     10756     2.0           1     4          3     11   \n",
       "2346         4560     13363     1.0           0     4          3     11   \n",
       "2365         3920     13085     2.0           1     4          4     11   \n",
       "2476         5350     14400     2.5           0     0          4     10   \n",
       "2537         6300     16065     2.0           0     1          3     12   \n",
       "2913         4730     47870     1.0           1     4          3     10   \n",
       "2946         4250      6552     2.0           0     3          4     10   \n",
       "3045         5010     19412     2.0           0     1          3     11   \n",
       "3593         4340      9415     2.0           0     0          3      8   \n",
       "3848         5030     11023     2.0           0     2          3     11   \n",
       "3929         5230     17826     2.0           1     4          3     10   \n",
       "\n",
       "      sqft_above  sqft_basement  yr_built  yr_renovated  zipcode  \\\n",
       "163         4280           1260      2006             0    98004   \n",
       "187         1040            580      1947             0    98103   \n",
       "248         5330           1650      1999             0    98040   \n",
       "265         3490            700      1928             0    98112   \n",
       "382         3280            980      1939          2010    98112   \n",
       "530         3390           1370      1916             0    98112   \n",
       "863         5490              0      2005             0    98039   \n",
       "1065        3040           2310      2008             0    98004   \n",
       "1067        4300              0      1985          1999    98039   \n",
       "1091        4350           2490      2001             0    98008   \n",
       "1240        4270            460      1935             0    98112   \n",
       "1296        3550              0      1962          2002    98039   \n",
       "1540        3990              0      1989             0    98039   \n",
       "1650        3230           1240      2010             0    98199   \n",
       "2153        3130            480      1918          1962    98023   \n",
       "2232        3430            980      2014             0    98056   \n",
       "2346        2760           1800      1995             0    98004   \n",
       "2365        3920              0      1996             0    98040   \n",
       "2476        5020            330      1910             0    98112   \n",
       "2537        4360           1940      2004             0    98004   \n",
       "2913        2940           1790      1954             0    98033   \n",
       "2946        2870           1380      2008             0    98144   \n",
       "3045        4000           1010      2014             0    98040   \n",
       "3593        4340              0      1967             0    98004   \n",
       "3848        3250           1780      2008             0    98040   \n",
       "3929        3740           1490      2005             0    98040   \n",
       "\n",
       "      sqft_living15  sqft_lot15  \n",
       "163            3570       14750  \n",
       "187            1330        4700  \n",
       "248            3930       18367  \n",
       "265            3780        8558  \n",
       "382            4260       10408  \n",
       "530            2950        9323  \n",
       "863            2910       17600  \n",
       "1065           3740       15940  \n",
       "1067           3070       19845  \n",
       "1091           3120       12300  \n",
       "1240           3710        8828  \n",
       "1296           3000       19862  \n",
       "1540           3450       16087  \n",
       "1650           2570        6000  \n",
       "2153           2630       42126  \n",
       "2232           3550        5634  \n",
       "2346           4060       13362  \n",
       "2365           3450       13287  \n",
       "2476           3050        7469  \n",
       "2537           3260       17287  \n",
       "2913           3250       49346  \n",
       "2946           3640        8841  \n",
       "3045           3820       17064  \n",
       "3593           2050        9100  \n",
       "3848           3640       11490  \n",
       "3929           3670       17826  "
      ]
     },
     "execution_count": 33,
     "metadata": {},
     "output_type": "execute_result"
    }
   ],
   "source": [
    "# 이상치 체크\n",
    "# bonf(p)이용\n",
    "# 귀무가설: 이상치가 아니다 vs 대립가설: 이상치이다\n",
    "data6[lm1.outlier_test()['bonf(p)'] < 0.05]"
   ]
  },
  {
   "cell_type": "code",
   "execution_count": 34,
   "id": "8b6acf46",
   "metadata": {},
   "outputs": [
    {
     "data": {
      "text/html": [
       "<div>\n",
       "<style scoped>\n",
       "    .dataframe tbody tr th:only-of-type {\n",
       "        vertical-align: middle;\n",
       "    }\n",
       "\n",
       "    .dataframe tbody tr th {\n",
       "        vertical-align: top;\n",
       "    }\n",
       "\n",
       "    .dataframe thead th {\n",
       "        text-align: right;\n",
       "    }\n",
       "</style>\n",
       "<table border=\"1\" class=\"dataframe\">\n",
       "  <thead>\n",
       "    <tr style=\"text-align: right;\">\n",
       "      <th></th>\n",
       "      <th>id</th>\n",
       "      <th>date</th>\n",
       "      <th>price</th>\n",
       "      <th>bedrooms</th>\n",
       "      <th>bathrooms</th>\n",
       "      <th>sqft_living</th>\n",
       "      <th>sqft_lot</th>\n",
       "      <th>floors</th>\n",
       "      <th>waterfront</th>\n",
       "      <th>view</th>\n",
       "      <th>condition</th>\n",
       "      <th>grade</th>\n",
       "      <th>sqft_above</th>\n",
       "      <th>sqft_basement</th>\n",
       "      <th>yr_built</th>\n",
       "      <th>yr_renovated</th>\n",
       "      <th>zipcode</th>\n",
       "      <th>sqft_living15</th>\n",
       "      <th>sqft_lot15</th>\n",
       "    </tr>\n",
       "  </thead>\n",
       "  <tbody>\n",
       "    <tr>\n",
       "      <th>0</th>\n",
       "      <td>2597000006</td>\n",
       "      <td>20150309T000000</td>\n",
       "      <td>347500.0</td>\n",
       "      <td>3</td>\n",
       "      <td>1.50</td>\n",
       "      <td>1180</td>\n",
       "      <td>8353</td>\n",
       "      <td>1.0</td>\n",
       "      <td>0</td>\n",
       "      <td>0</td>\n",
       "      <td>3</td>\n",
       "      <td>7</td>\n",
       "      <td>1180</td>\n",
       "      <td>0</td>\n",
       "      <td>1960</td>\n",
       "      <td>0</td>\n",
       "      <td>98155</td>\n",
       "      <td>1710</td>\n",
       "      <td>8748</td>\n",
       "    </tr>\n",
       "    <tr>\n",
       "      <th>1</th>\n",
       "      <td>8813400345</td>\n",
       "      <td>20150414T000000</td>\n",
       "      <td>575000.0</td>\n",
       "      <td>2</td>\n",
       "      <td>1.00</td>\n",
       "      <td>980</td>\n",
       "      <td>3663</td>\n",
       "      <td>1.0</td>\n",
       "      <td>0</td>\n",
       "      <td>0</td>\n",
       "      <td>5</td>\n",
       "      <td>7</td>\n",
       "      <td>980</td>\n",
       "      <td>0</td>\n",
       "      <td>1909</td>\n",
       "      <td>0</td>\n",
       "      <td>98105</td>\n",
       "      <td>1620</td>\n",
       "      <td>3706</td>\n",
       "    </tr>\n",
       "    <tr>\n",
       "      <th>2</th>\n",
       "      <td>226059106</td>\n",
       "      <td>20150102T000000</td>\n",
       "      <td>489500.0</td>\n",
       "      <td>3</td>\n",
       "      <td>1.75</td>\n",
       "      <td>2090</td>\n",
       "      <td>65558</td>\n",
       "      <td>1.0</td>\n",
       "      <td>0</td>\n",
       "      <td>0</td>\n",
       "      <td>3</td>\n",
       "      <td>8</td>\n",
       "      <td>1330</td>\n",
       "      <td>760</td>\n",
       "      <td>1977</td>\n",
       "      <td>0</td>\n",
       "      <td>98072</td>\n",
       "      <td>2450</td>\n",
       "      <td>47178</td>\n",
       "    </tr>\n",
       "    <tr>\n",
       "      <th>3</th>\n",
       "      <td>8645500270</td>\n",
       "      <td>20141028T000000</td>\n",
       "      <td>246000.0</td>\n",
       "      <td>4</td>\n",
       "      <td>1.75</td>\n",
       "      <td>1720</td>\n",
       "      <td>7455</td>\n",
       "      <td>1.0</td>\n",
       "      <td>0</td>\n",
       "      <td>0</td>\n",
       "      <td>4</td>\n",
       "      <td>7</td>\n",
       "      <td>1020</td>\n",
       "      <td>700</td>\n",
       "      <td>1963</td>\n",
       "      <td>0</td>\n",
       "      <td>98058</td>\n",
       "      <td>1720</td>\n",
       "      <td>7700</td>\n",
       "    </tr>\n",
       "    <tr>\n",
       "      <th>4</th>\n",
       "      <td>7010700550</td>\n",
       "      <td>20141114T000000</td>\n",
       "      <td>595000.0</td>\n",
       "      <td>3</td>\n",
       "      <td>2.50</td>\n",
       "      <td>2030</td>\n",
       "      <td>5100</td>\n",
       "      <td>2.0</td>\n",
       "      <td>0</td>\n",
       "      <td>0</td>\n",
       "      <td>3</td>\n",
       "      <td>7</td>\n",
       "      <td>2030</td>\n",
       "      <td>0</td>\n",
       "      <td>2008</td>\n",
       "      <td>0</td>\n",
       "      <td>98199</td>\n",
       "      <td>1790</td>\n",
       "      <td>4380</td>\n",
       "    </tr>\n",
       "    <tr>\n",
       "      <th>...</th>\n",
       "      <td>...</td>\n",
       "      <td>...</td>\n",
       "      <td>...</td>\n",
       "      <td>...</td>\n",
       "      <td>...</td>\n",
       "      <td>...</td>\n",
       "      <td>...</td>\n",
       "      <td>...</td>\n",
       "      <td>...</td>\n",
       "      <td>...</td>\n",
       "      <td>...</td>\n",
       "      <td>...</td>\n",
       "      <td>...</td>\n",
       "      <td>...</td>\n",
       "      <td>...</td>\n",
       "      <td>...</td>\n",
       "      <td>...</td>\n",
       "      <td>...</td>\n",
       "      <td>...</td>\n",
       "    </tr>\n",
       "    <tr>\n",
       "      <th>4318</th>\n",
       "      <td>7663700531</td>\n",
       "      <td>20150106T000000</td>\n",
       "      <td>325000.0</td>\n",
       "      <td>2</td>\n",
       "      <td>1.00</td>\n",
       "      <td>620</td>\n",
       "      <td>14823</td>\n",
       "      <td>1.0</td>\n",
       "      <td>0</td>\n",
       "      <td>0</td>\n",
       "      <td>3</td>\n",
       "      <td>6</td>\n",
       "      <td>620</td>\n",
       "      <td>0</td>\n",
       "      <td>1926</td>\n",
       "      <td>0</td>\n",
       "      <td>98125</td>\n",
       "      <td>1400</td>\n",
       "      <td>7930</td>\n",
       "    </tr>\n",
       "    <tr>\n",
       "      <th>4319</th>\n",
       "      <td>7399200770</td>\n",
       "      <td>20141209T000000</td>\n",
       "      <td>417400.0</td>\n",
       "      <td>3</td>\n",
       "      <td>3.00</td>\n",
       "      <td>2680</td>\n",
       "      <td>12285</td>\n",
       "      <td>1.0</td>\n",
       "      <td>0</td>\n",
       "      <td>0</td>\n",
       "      <td>4</td>\n",
       "      <td>8</td>\n",
       "      <td>2680</td>\n",
       "      <td>0</td>\n",
       "      <td>1970</td>\n",
       "      <td>0</td>\n",
       "      <td>98055</td>\n",
       "      <td>2610</td>\n",
       "      <td>9558</td>\n",
       "    </tr>\n",
       "    <tr>\n",
       "      <th>4320</th>\n",
       "      <td>1324300126</td>\n",
       "      <td>20150313T000000</td>\n",
       "      <td>415000.0</td>\n",
       "      <td>2</td>\n",
       "      <td>2.50</td>\n",
       "      <td>1160</td>\n",
       "      <td>1219</td>\n",
       "      <td>3.0</td>\n",
       "      <td>0</td>\n",
       "      <td>0</td>\n",
       "      <td>3</td>\n",
       "      <td>8</td>\n",
       "      <td>1160</td>\n",
       "      <td>0</td>\n",
       "      <td>2007</td>\n",
       "      <td>0</td>\n",
       "      <td>98107</td>\n",
       "      <td>1320</td>\n",
       "      <td>2800</td>\n",
       "    </tr>\n",
       "    <tr>\n",
       "      <th>4321</th>\n",
       "      <td>8562750250</td>\n",
       "      <td>20140704T000000</td>\n",
       "      <td>600000.0</td>\n",
       "      <td>3</td>\n",
       "      <td>2.50</td>\n",
       "      <td>2320</td>\n",
       "      <td>7609</td>\n",
       "      <td>2.0</td>\n",
       "      <td>0</td>\n",
       "      <td>0</td>\n",
       "      <td>3</td>\n",
       "      <td>8</td>\n",
       "      <td>2320</td>\n",
       "      <td>0</td>\n",
       "      <td>2003</td>\n",
       "      <td>0</td>\n",
       "      <td>98027</td>\n",
       "      <td>2590</td>\n",
       "      <td>4000</td>\n",
       "    </tr>\n",
       "    <tr>\n",
       "      <th>4322</th>\n",
       "      <td>4036800170</td>\n",
       "      <td>20140623T000000</td>\n",
       "      <td>453000.0</td>\n",
       "      <td>4</td>\n",
       "      <td>1.75</td>\n",
       "      <td>2120</td>\n",
       "      <td>7420</td>\n",
       "      <td>1.0</td>\n",
       "      <td>0</td>\n",
       "      <td>0</td>\n",
       "      <td>4</td>\n",
       "      <td>7</td>\n",
       "      <td>1060</td>\n",
       "      <td>1060</td>\n",
       "      <td>1956</td>\n",
       "      <td>0</td>\n",
       "      <td>98008</td>\n",
       "      <td>1540</td>\n",
       "      <td>7420</td>\n",
       "    </tr>\n",
       "  </tbody>\n",
       "</table>\n",
       "<p>4297 rows × 19 columns</p>\n",
       "</div>"
      ],
      "text/plain": [
       "              id             date     price  bedrooms  bathrooms  sqft_living  \\\n",
       "0     2597000006  20150309T000000  347500.0         3       1.50         1180   \n",
       "1     8813400345  20150414T000000  575000.0         2       1.00          980   \n",
       "2      226059106  20150102T000000  489500.0         3       1.75         2090   \n",
       "3     8645500270  20141028T000000  246000.0         4       1.75         1720   \n",
       "4     7010700550  20141114T000000  595000.0         3       2.50         2030   \n",
       "...          ...              ...       ...       ...        ...          ...   \n",
       "4318  7663700531  20150106T000000  325000.0         2       1.00          620   \n",
       "4319  7399200770  20141209T000000  417400.0         3       3.00         2680   \n",
       "4320  1324300126  20150313T000000  415000.0         2       2.50         1160   \n",
       "4321  8562750250  20140704T000000  600000.0         3       2.50         2320   \n",
       "4322  4036800170  20140623T000000  453000.0         4       1.75         2120   \n",
       "\n",
       "      sqft_lot  floors  waterfront  view  condition  grade  sqft_above  \\\n",
       "0         8353     1.0           0     0          3      7        1180   \n",
       "1         3663     1.0           0     0          5      7         980   \n",
       "2        65558     1.0           0     0          3      8        1330   \n",
       "3         7455     1.0           0     0          4      7        1020   \n",
       "4         5100     2.0           0     0          3      7        2030   \n",
       "...        ...     ...         ...   ...        ...    ...         ...   \n",
       "4318     14823     1.0           0     0          3      6         620   \n",
       "4319     12285     1.0           0     0          4      8        2680   \n",
       "4320      1219     3.0           0     0          3      8        1160   \n",
       "4321      7609     2.0           0     0          3      8        2320   \n",
       "4322      7420     1.0           0     0          4      7        1060   \n",
       "\n",
       "      sqft_basement  yr_built  yr_renovated  zipcode  sqft_living15  \\\n",
       "0                 0      1960             0    98155           1710   \n",
       "1                 0      1909             0    98105           1620   \n",
       "2               760      1977             0    98072           2450   \n",
       "3               700      1963             0    98058           1720   \n",
       "4                 0      2008             0    98199           1790   \n",
       "...             ...       ...           ...      ...            ...   \n",
       "4318              0      1926             0    98125           1400   \n",
       "4319              0      1970             0    98055           2610   \n",
       "4320              0      2007             0    98107           1320   \n",
       "4321              0      2003             0    98027           2590   \n",
       "4322           1060      1956             0    98008           1540   \n",
       "\n",
       "      sqft_lot15  \n",
       "0           8748  \n",
       "1           3706  \n",
       "2          47178  \n",
       "3           7700  \n",
       "4           4380  \n",
       "...          ...  \n",
       "4318        7930  \n",
       "4319        9558  \n",
       "4320        2800  \n",
       "4321        4000  \n",
       "4322        7420  \n",
       "\n",
       "[4297 rows x 19 columns]"
      ]
     },
     "execution_count": 34,
     "metadata": {},
     "output_type": "execute_result"
    }
   ],
   "source": [
    "# 이상치 제외한 데이터\n",
    "q6_3 = data6[lm1.outlier_test()['bonf(p)'] >= 0.05]\n",
    "q6_3"
   ]
  },
  {
   "cell_type": "code",
   "execution_count": 35,
   "id": "9851644b",
   "metadata": {},
   "outputs": [
    {
     "data": {
      "text/plain": [
       "<matplotlib.collections.PathCollection at 0x21f62881eb0>"
      ]
     },
     "execution_count": 35,
     "metadata": {},
     "output_type": "execute_result"
    },
    {
     "name": "stderr",
     "output_type": "stream",
     "text": [
      "D:\\Anaconda\\envs\\pythonEx\\lib\\site-packages\\IPython\\core\\events.py:89: UserWarning: Glyph 8722 (\\N{MINUS SIGN}) missing from current font.\n",
      "  func(*args, **kwargs)\n",
      "D:\\Anaconda\\envs\\pythonEx\\lib\\site-packages\\IPython\\core\\pylabtools.py:152: UserWarning: Glyph 8722 (\\N{MINUS SIGN}) missing from current font.\n",
      "  fig.canvas.print_figure(bytes_io, **kw)\n"
     ]
    },
    {
     "data": {
      "image/png": "[encoded data removed]",
      "text/plain": [
       "<Figure size 640x480 with 1 Axes>"
      ]
     },
     "metadata": {},
     "output_type": "display_data"
    }
   ],
   "source": [
    "# 산점도를 이용해서 잔차 분포확인\n",
    "import matplotlib.pyplot as plt\n",
    "\n",
    "plt.scatter(lm1.fittedvalues, lm1.resid)"
   ]
  },
  {
   "cell_type": "markdown",
   "id": "1324f9db",
   "metadata": {},
   "source": [
    "### 이상치를 제거한 후 모델링 진행"
   ]
  },
  {
   "cell_type": "code",
   "execution_count": 36,
   "id": "61758086",
   "metadata": {},
   "outputs": [
    {
     "data": {
      "text/html": [
       "<table class=\"simpletable\">\n",
       "<caption>OLS Regression Results</caption>\n",
       "<tr>\n",
       "  <th>Dep. Variable:</th>          <td>price</td>      <th>  R-squared:         </th> <td>   0.694</td> \n",
       "</tr>\n",
       "<tr>\n",
       "  <th>Model:</th>                   <td>OLS</td>       <th>  Adj. R-squared:    </th> <td>   0.693</td> \n",
       "</tr>\n",
       "<tr>\n",
       "  <th>Method:</th>             <td>Least Squares</td>  <th>  F-statistic:       </th> <td>   694.9</td> \n",
       "</tr>\n",
       "<tr>\n",
       "  <th>Date:</th>             <td>Fri, 09 Jun 2023</td> <th>  Prob (F-statistic):</th>  <td>  0.00</td>  \n",
       "</tr>\n",
       "<tr>\n",
       "  <th>Time:</th>                 <td>21:31:11</td>     <th>  Log-Likelihood:    </th> <td> -57946.</td> \n",
       "</tr>\n",
       "<tr>\n",
       "  <th>No. Observations:</th>      <td>  4297</td>      <th>  AIC:               </th> <td>1.159e+05</td>\n",
       "</tr>\n",
       "<tr>\n",
       "  <th>Df Residuals:</th>          <td>  4282</td>      <th>  BIC:               </th> <td>1.160e+05</td>\n",
       "</tr>\n",
       "<tr>\n",
       "  <th>Df Model:</th>              <td>    14</td>      <th>                     </th>     <td> </td>    \n",
       "</tr>\n",
       "<tr>\n",
       "  <th>Covariance Type:</th>      <td>nonrobust</td>    <th>                     </th>     <td> </td>    \n",
       "</tr>\n",
       "</table>\n",
       "<table class=\"simpletable\">\n",
       "<tr>\n",
       "        <td></td>           <th>coef</th>     <th>std err</th>      <th>t</th>      <th>P>|t|</th>  <th>[0.025</th>    <th>0.975]</th>  \n",
       "</tr>\n",
       "<tr>\n",
       "  <th>Intercept</th>     <td> 6.094e+06</td> <td> 2.54e+05</td> <td>   23.946</td> <td> 0.000</td> <td> 5.59e+06</td> <td> 6.59e+06</td>\n",
       "</tr>\n",
       "<tr>\n",
       "  <th>bedrooms</th>      <td>-2.871e+04</td> <td> 3772.256</td> <td>   -7.611</td> <td> 0.000</td> <td>-3.61e+04</td> <td>-2.13e+04</td>\n",
       "</tr>\n",
       "<tr>\n",
       "  <th>bathrooms</th>     <td> 5.103e+04</td> <td> 6289.879</td> <td>    8.113</td> <td> 0.000</td> <td> 3.87e+04</td> <td> 6.34e+04</td>\n",
       "</tr>\n",
       "<tr>\n",
       "  <th>sqft_living</th>   <td>   77.2816</td> <td>    4.537</td> <td>   17.032</td> <td> 0.000</td> <td>   68.386</td> <td>   86.177</td>\n",
       "</tr>\n",
       "<tr>\n",
       "  <th>sqft_lot</th>      <td>    0.0788</td> <td>    0.080</td> <td>    0.989</td> <td> 0.322</td> <td>   -0.077</td> <td>    0.235</td>\n",
       "</tr>\n",
       "<tr>\n",
       "  <th>floors</th>        <td> 4.145e+04</td> <td> 7037.582</td> <td>    5.890</td> <td> 0.000</td> <td> 2.77e+04</td> <td> 5.53e+04</td>\n",
       "</tr>\n",
       "<tr>\n",
       "  <th>waterfront</th>    <td> 5.049e+05</td> <td> 3.65e+04</td> <td>   13.826</td> <td> 0.000</td> <td> 4.33e+05</td> <td> 5.77e+05</td>\n",
       "</tr>\n",
       "<tr>\n",
       "  <th>view</th>          <td> 3.741e+04</td> <td> 4151.110</td> <td>    9.012</td> <td> 0.000</td> <td> 2.93e+04</td> <td> 4.55e+04</td>\n",
       "</tr>\n",
       "<tr>\n",
       "  <th>condition</th>     <td> 1.625e+04</td> <td> 4576.747</td> <td>    3.551</td> <td> 0.000</td> <td> 7277.107</td> <td> 2.52e+04</td>\n",
       "</tr>\n",
       "<tr>\n",
       "  <th>grade</th>         <td>  1.23e+05</td> <td> 4061.657</td> <td>   30.292</td> <td> 0.000</td> <td> 1.15e+05</td> <td> 1.31e+05</td>\n",
       "</tr>\n",
       "<tr>\n",
       "  <th>sqft_above</th>    <td>   26.5380</td> <td>    4.328</td> <td>    6.132</td> <td> 0.000</td> <td>   18.053</td> <td>   35.022</td>\n",
       "</tr>\n",
       "<tr>\n",
       "  <th>sqft_basement</th> <td>   50.7438</td> <td>    5.124</td> <td>    9.903</td> <td> 0.000</td> <td>   40.698</td> <td>   60.789</td>\n",
       "</tr>\n",
       "<tr>\n",
       "  <th>yr_built</th>      <td>-3519.5120</td> <td>  130.253</td> <td>  -27.021</td> <td> 0.000</td> <td>-3774.875</td> <td>-3264.149</td>\n",
       "</tr>\n",
       "<tr>\n",
       "  <th>yr_renovated</th>  <td>   21.1753</td> <td>    7.162</td> <td>    2.956</td> <td> 0.003</td> <td>    7.133</td> <td>   35.217</td>\n",
       "</tr>\n",
       "<tr>\n",
       "  <th>sqft_living15</th> <td>   33.9867</td> <td>    6.531</td> <td>    5.204</td> <td> 0.000</td> <td>   21.182</td> <td>   46.792</td>\n",
       "</tr>\n",
       "<tr>\n",
       "  <th>sqft_lot15</th>    <td>   -0.1971</td> <td>    0.122</td> <td>   -1.617</td> <td> 0.106</td> <td>   -0.436</td> <td>    0.042</td>\n",
       "</tr>\n",
       "</table>\n",
       "<table class=\"simpletable\">\n",
       "<tr>\n",
       "  <th>Omnibus:</th>       <td>946.037</td> <th>  Durbin-Watson:     </th> <td>   2.026</td>\n",
       "</tr>\n",
       "<tr>\n",
       "  <th>Prob(Omnibus):</th> <td> 0.000</td>  <th>  Jarque-Bera (JB):  </th> <td>3975.491</td>\n",
       "</tr>\n",
       "<tr>\n",
       "  <th>Skew:</th>          <td> 1.021</td>  <th>  Prob(JB):          </th> <td>    0.00</td>\n",
       "</tr>\n",
       "<tr>\n",
       "  <th>Kurtosis:</th>      <td> 7.247</td>  <th>  Cond. No.          </th> <td>1.64e+17</td>\n",
       "</tr>\n",
       "</table><br/><br/>Notes:<br/>[1] Standard Errors assume that the covariance matrix of the errors is correctly specified.<br/>[2] The smallest eigenvalue is 6.04e-22. This might indicate that there are<br/>strong multicollinearity problems or that the design matrix is singular."
      ],
      "text/latex": [
       "\\begin{center}\n",
       "\\begin{tabular}{lclc}\n",
       "\\toprule\n",
       "\\textbf{Dep. Variable:}    &      price       & \\textbf{  R-squared:         } &     0.694   \\\\\n",
       "\\textbf{Model:}            &       OLS        & \\textbf{  Adj. R-squared:    } &     0.693   \\\\\n",
       "\\textbf{Method:}           &  Least Squares   & \\textbf{  F-statistic:       } &     694.9   \\\\\n",
       "\\textbf{Date:}             & Fri, 09 Jun 2023 & \\textbf{  Prob (F-statistic):} &     0.00    \\\\\n",
       "\\textbf{Time:}             &     21:31:11     & \\textbf{  Log-Likelihood:    } &   -57946.   \\\\\n",
       "\\textbf{No. Observations:} &        4297      & \\textbf{  AIC:               } & 1.159e+05   \\\\\n",
       "\\textbf{Df Residuals:}     &        4282      & \\textbf{  BIC:               } & 1.160e+05   \\\\\n",
       "\\textbf{Df Model:}         &          14      & \\textbf{                     } &             \\\\\n",
       "\\textbf{Covariance Type:}  &    nonrobust     & \\textbf{                     } &             \\\\\n",
       "\\bottomrule\n",
       "\\end{tabular}\n",
       "\\begin{tabular}{lcccccc}\n",
       "                        & \\textbf{coef} & \\textbf{std err} & \\textbf{t} & \\textbf{P$> |$t$|$} & \\textbf{[0.025} & \\textbf{0.975]}  \\\\\n",
       "\\midrule\n",
       "\\textbf{Intercept}      &    6.094e+06  &     2.54e+05     &    23.946  &         0.000        &     5.59e+06    &     6.59e+06     \\\\\n",
       "\\textbf{bedrooms}       &   -2.871e+04  &     3772.256     &    -7.611  &         0.000        &    -3.61e+04    &    -2.13e+04     \\\\\n",
       "\\textbf{bathrooms}      &    5.103e+04  &     6289.879     &     8.113  &         0.000        &     3.87e+04    &     6.34e+04     \\\\\n",
       "\\textbf{sqft\\_living}   &      77.2816  &        4.537     &    17.032  &         0.000        &       68.386    &       86.177     \\\\\n",
       "\\textbf{sqft\\_lot}      &       0.0788  &        0.080     &     0.989  &         0.322        &       -0.077    &        0.235     \\\\\n",
       "\\textbf{floors}         &    4.145e+04  &     7037.582     &     5.890  &         0.000        &     2.77e+04    &     5.53e+04     \\\\\n",
       "\\textbf{waterfront}     &    5.049e+05  &     3.65e+04     &    13.826  &         0.000        &     4.33e+05    &     5.77e+05     \\\\\n",
       "\\textbf{view}           &    3.741e+04  &     4151.110     &     9.012  &         0.000        &     2.93e+04    &     4.55e+04     \\\\\n",
       "\\textbf{condition}      &    1.625e+04  &     4576.747     &     3.551  &         0.000        &     7277.107    &     2.52e+04     \\\\\n",
       "\\textbf{grade}          &     1.23e+05  &     4061.657     &    30.292  &         0.000        &     1.15e+05    &     1.31e+05     \\\\\n",
       "\\textbf{sqft\\_above}    &      26.5380  &        4.328     &     6.132  &         0.000        &       18.053    &       35.022     \\\\\n",
       "\\textbf{sqft\\_basement} &      50.7438  &        5.124     &     9.903  &         0.000        &       40.698    &       60.789     \\\\\n",
       "\\textbf{yr\\_built}      &   -3519.5120  &      130.253     &   -27.021  &         0.000        &    -3774.875    &    -3264.149     \\\\\n",
       "\\textbf{yr\\_renovated}  &      21.1753  &        7.162     &     2.956  &         0.003        &        7.133    &       35.217     \\\\\n",
       "\\textbf{sqft\\_living15} &      33.9867  &        6.531     &     5.204  &         0.000        &       21.182    &       46.792     \\\\\n",
       "\\textbf{sqft\\_lot15}    &      -0.1971  &        0.122     &    -1.617  &         0.106        &       -0.436    &        0.042     \\\\\n",
       "\\bottomrule\n",
       "\\end{tabular}\n",
       "\\begin{tabular}{lclc}\n",
       "\\textbf{Omnibus:}       & 946.037 & \\textbf{  Durbin-Watson:     } &    2.026  \\\\\n",
       "\\textbf{Prob(Omnibus):} &   0.000 & \\textbf{  Jarque-Bera (JB):  } & 3975.491  \\\\\n",
       "\\textbf{Skew:}          &   1.021 & \\textbf{  Prob(JB):          } &     0.00  \\\\\n",
       "\\textbf{Kurtosis:}      &   7.247 & \\textbf{  Cond. No.          } & 1.64e+17  \\\\\n",
       "\\bottomrule\n",
       "\\end{tabular}\n",
       "%\\caption{OLS Regression Results}\n",
       "\\end{center}\n",
       "\n",
       "Notes: \\newline\n",
       " [1] Standard Errors assume that the covariance matrix of the errors is correctly specified. \\newline\n",
       " [2] The smallest eigenvalue is 6.04e-22. This might indicate that there are \\newline\n",
       " strong multicollinearity problems or that the design matrix is singular."
      ],
      "text/plain": [
       "<class 'statsmodels.iolib.summary.Summary'>\n",
       "\"\"\"\n",
       "                            OLS Regression Results                            \n",
       "==============================================================================\n",
       "Dep. Variable:                  price   R-squared:                       0.694\n",
       "Model:                            OLS   Adj. R-squared:                  0.693\n",
       "Method:                 Least Squares   F-statistic:                     694.9\n",
       "Date:                Fri, 09 Jun 2023   Prob (F-statistic):               0.00\n",
       "Time:                        21:31:11   Log-Likelihood:                -57946.\n",
       "No. Observations:                4297   AIC:                         1.159e+05\n",
       "Df Residuals:                    4282   BIC:                         1.160e+05\n",
       "Df Model:                          14                                         \n",
       "Covariance Type:            nonrobust                                         \n",
       "=================================================================================\n",
       "                    coef    std err          t      P>|t|      [0.025      0.975]\n",
       "---------------------------------------------------------------------------------\n",
       "Intercept      6.094e+06   2.54e+05     23.946      0.000    5.59e+06    6.59e+06\n",
       "bedrooms      -2.871e+04   3772.256     -7.611      0.000   -3.61e+04   -2.13e+04\n",
       "bathrooms      5.103e+04   6289.879      8.113      0.000    3.87e+04    6.34e+04\n",
       "sqft_living      77.2816      4.537     17.032      0.000      68.386      86.177\n",
       "sqft_lot          0.0788      0.080      0.989      0.322      -0.077       0.235\n",
       "floors         4.145e+04   7037.582      5.890      0.000    2.77e+04    5.53e+04\n",
       "waterfront     5.049e+05   3.65e+04     13.826      0.000    4.33e+05    5.77e+05\n",
       "view           3.741e+04   4151.110      9.012      0.000    2.93e+04    4.55e+04\n",
       "condition      1.625e+04   4576.747      3.551      0.000    7277.107    2.52e+04\n",
       "grade           1.23e+05   4061.657     30.292      0.000    1.15e+05    1.31e+05\n",
       "sqft_above       26.5380      4.328      6.132      0.000      18.053      35.022\n",
       "sqft_basement    50.7438      5.124      9.903      0.000      40.698      60.789\n",
       "yr_built      -3519.5120    130.253    -27.021      0.000   -3774.875   -3264.149\n",
       "yr_renovated     21.1753      7.162      2.956      0.003       7.133      35.217\n",
       "sqft_living15    33.9867      6.531      5.204      0.000      21.182      46.792\n",
       "sqft_lot15       -0.1971      0.122     -1.617      0.106      -0.436       0.042\n",
       "==============================================================================\n",
       "Omnibus:                      946.037   Durbin-Watson:                   2.026\n",
       "Prob(Omnibus):                  0.000   Jarque-Bera (JB):             3975.491\n",
       "Skew:                           1.021   Prob(JB):                         0.00\n",
       "Kurtosis:                       7.247   Cond. No.                     1.64e+17\n",
       "==============================================================================\n",
       "\n",
       "Notes:\n",
       "[1] Standard Errors assume that the covariance matrix of the errors is correctly specified.\n",
       "[2] The smallest eigenvalue is 6.04e-22. This might indicate that there are\n",
       "strong multicollinearity problems or that the design matrix is singular.\n",
       "\"\"\""
      ]
     },
     "execution_count": 36,
     "metadata": {},
     "output_type": "execute_result"
    }
   ],
   "source": [
    "# 이상치를 제거한 데이터로 모델링 진행 (q6_3데이터 이용)\n",
    "lm2 = ols(form1, q6_3).fit()\n",
    "lm2.summary()"
   ]
  },
  {
   "cell_type": "code",
   "execution_count": 37,
   "id": "d0f8b34e",
   "metadata": {},
   "outputs": [
    {
     "data": {
      "text/plain": [
       "<matplotlib.collections.PathCollection at 0x21f62810eb0>"
      ]
     },
     "execution_count": 37,
     "metadata": {},
     "output_type": "execute_result"
    },
    {
     "name": "stderr",
     "output_type": "stream",
     "text": [
      "D:\\Anaconda\\envs\\pythonEx\\lib\\site-packages\\IPython\\core\\events.py:89: UserWarning: Glyph 8722 (\\N{MINUS SIGN}) missing from current font.\n",
      "  func(*args, **kwargs)\n",
      "D:\\Anaconda\\envs\\pythonEx\\lib\\site-packages\\IPython\\core\\pylabtools.py:152: UserWarning: Glyph 8722 (\\N{MINUS SIGN}) missing from current font.\n",
      "  fig.canvas.print_figure(bytes_io, **kw)\n"
     ]
    },
    {
     "data": {
      "image/png": "[encoded data removed]",
      "text/plain": [
       "<Figure size 640x480 with 1 Axes>"
      ]
     },
     "metadata": {},
     "output_type": "display_data"
    }
   ],
   "source": [
    "# 산점도 확인\n",
    "plt.scatter(lm2.fittedvalues, lm2.resid)"
   ]
  },
  {
   "cell_type": "code",
   "execution_count": 38,
   "id": "fd74b122",
   "metadata": {},
   "outputs": [],
   "source": [
    "# 유의미한 변수로 다시 모델링\n",
    "form2='price~' + '+'.join(sel_var)"
   ]
  },
  {
   "cell_type": "code",
   "execution_count": 39,
   "id": "ddf6e127",
   "metadata": {},
   "outputs": [
    {
     "data": {
      "text/html": [
       "<table class=\"simpletable\">\n",
       "<caption>OLS Regression Results</caption>\n",
       "<tr>\n",
       "  <th>Dep. Variable:</th>          <td>price</td>      <th>  R-squared:         </th> <td>   0.694</td> \n",
       "</tr>\n",
       "<tr>\n",
       "  <th>Model:</th>                   <td>OLS</td>       <th>  Adj. R-squared:    </th> <td>   0.693</td> \n",
       "</tr>\n",
       "<tr>\n",
       "  <th>Method:</th>             <td>Least Squares</td>  <th>  F-statistic:       </th> <td>   810.4</td> \n",
       "</tr>\n",
       "<tr>\n",
       "  <th>Date:</th>             <td>Fri, 09 Jun 2023</td> <th>  Prob (F-statistic):</th>  <td>  0.00</td>  \n",
       "</tr>\n",
       "<tr>\n",
       "  <th>Time:</th>                 <td>21:31:11</td>     <th>  Log-Likelihood:    </th> <td> -57947.</td> \n",
       "</tr>\n",
       "<tr>\n",
       "  <th>No. Observations:</th>      <td>  4297</td>      <th>  AIC:               </th> <td>1.159e+05</td>\n",
       "</tr>\n",
       "<tr>\n",
       "  <th>Df Residuals:</th>          <td>  4284</td>      <th>  BIC:               </th> <td>1.160e+05</td>\n",
       "</tr>\n",
       "<tr>\n",
       "  <th>Df Model:</th>              <td>    12</td>      <th>                     </th>     <td> </td>    \n",
       "</tr>\n",
       "<tr>\n",
       "  <th>Covariance Type:</th>      <td>nonrobust</td>    <th>                     </th>     <td> </td>    \n",
       "</tr>\n",
       "</table>\n",
       "<table class=\"simpletable\">\n",
       "<tr>\n",
       "        <td></td>           <th>coef</th>     <th>std err</th>      <th>t</th>      <th>P>|t|</th>  <th>[0.025</th>    <th>0.975]</th>  \n",
       "</tr>\n",
       "<tr>\n",
       "  <th>Intercept</th>     <td> 6.113e+06</td> <td> 2.54e+05</td> <td>   24.044</td> <td> 0.000</td> <td> 5.61e+06</td> <td> 6.61e+06</td>\n",
       "</tr>\n",
       "<tr>\n",
       "  <th>bedrooms</th>      <td>-2.819e+04</td> <td> 3745.030</td> <td>   -7.526</td> <td> 0.000</td> <td>-3.55e+04</td> <td>-2.08e+04</td>\n",
       "</tr>\n",
       "<tr>\n",
       "  <th>bathrooms</th>     <td> 5.118e+04</td> <td> 6289.730</td> <td>    8.137</td> <td> 0.000</td> <td> 3.89e+04</td> <td> 6.35e+04</td>\n",
       "</tr>\n",
       "<tr>\n",
       "  <th>sqft_living</th>   <td>   76.5826</td> <td>    4.489</td> <td>   17.059</td> <td> 0.000</td> <td>   67.781</td> <td>   85.384</td>\n",
       "</tr>\n",
       "<tr>\n",
       "  <th>floors</th>        <td>  4.24e+04</td> <td> 6995.217</td> <td>    6.061</td> <td> 0.000</td> <td> 2.87e+04</td> <td> 5.61e+04</td>\n",
       "</tr>\n",
       "<tr>\n",
       "  <th>waterfront</th>    <td> 5.047e+05</td> <td> 3.65e+04</td> <td>   13.822</td> <td> 0.000</td> <td> 4.33e+05</td> <td> 5.76e+05</td>\n",
       "</tr>\n",
       "<tr>\n",
       "  <th>view</th>          <td> 3.744e+04</td> <td> 4149.922</td> <td>    9.021</td> <td> 0.000</td> <td> 2.93e+04</td> <td> 4.56e+04</td>\n",
       "</tr>\n",
       "<tr>\n",
       "  <th>condition</th>     <td> 1.623e+04</td> <td> 4576.828</td> <td>    3.545</td> <td> 0.000</td> <td> 7253.462</td> <td> 2.52e+04</td>\n",
       "</tr>\n",
       "<tr>\n",
       "  <th>grade</th>         <td> 1.234e+05</td> <td> 4055.499</td> <td>   30.430</td> <td> 0.000</td> <td> 1.15e+05</td> <td> 1.31e+05</td>\n",
       "</tr>\n",
       "<tr>\n",
       "  <th>sqft_above</th>    <td>   25.7731</td> <td>    4.242</td> <td>    6.076</td> <td> 0.000</td> <td>   17.457</td> <td>   34.089</td>\n",
       "</tr>\n",
       "<tr>\n",
       "  <th>sqft_basement</th> <td>   50.8094</td> <td>    5.120</td> <td>    9.924</td> <td> 0.000</td> <td>   40.772</td> <td>   60.847</td>\n",
       "</tr>\n",
       "<tr>\n",
       "  <th>yr_built</th>      <td>-3531.3371</td> <td>  130.060</td> <td>  -27.152</td> <td> 0.000</td> <td>-3786.322</td> <td>-3276.353</td>\n",
       "</tr>\n",
       "<tr>\n",
       "  <th>yr_renovated</th>  <td>   21.0744</td> <td>    7.163</td> <td>    2.942</td> <td> 0.003</td> <td>    7.032</td> <td>   35.117</td>\n",
       "</tr>\n",
       "<tr>\n",
       "  <th>sqft_living15</th> <td>   33.6406</td> <td>    6.517</td> <td>    5.162</td> <td> 0.000</td> <td>   20.863</td> <td>   46.418</td>\n",
       "</tr>\n",
       "</table>\n",
       "<table class=\"simpletable\">\n",
       "<tr>\n",
       "  <th>Omnibus:</th>       <td>948.603</td> <th>  Durbin-Watson:     </th> <td>   2.026</td>\n",
       "</tr>\n",
       "<tr>\n",
       "  <th>Prob(Omnibus):</th> <td> 0.000</td>  <th>  Jarque-Bera (JB):  </th> <td>3990.627</td>\n",
       "</tr>\n",
       "<tr>\n",
       "  <th>Skew:</th>          <td> 1.023</td>  <th>  Prob(JB):          </th> <td>    0.00</td>\n",
       "</tr>\n",
       "<tr>\n",
       "  <th>Kurtosis:</th>      <td> 7.255</td>  <th>  Cond. No.          </th> <td>1.12e+16</td>\n",
       "</tr>\n",
       "</table><br/><br/>Notes:<br/>[1] Standard Errors assume that the covariance matrix of the errors is correctly specified.<br/>[2] The smallest eigenvalue is 5.78e-22. This might indicate that there are<br/>strong multicollinearity problems or that the design matrix is singular."
      ],
      "text/latex": [
       "\\begin{center}\n",
       "\\begin{tabular}{lclc}\n",
       "\\toprule\n",
       "\\textbf{Dep. Variable:}    &      price       & \\textbf{  R-squared:         } &     0.694   \\\\\n",
       "\\textbf{Model:}            &       OLS        & \\textbf{  Adj. R-squared:    } &     0.693   \\\\\n",
       "\\textbf{Method:}           &  Least Squares   & \\textbf{  F-statistic:       } &     810.4   \\\\\n",
       "\\textbf{Date:}             & Fri, 09 Jun 2023 & \\textbf{  Prob (F-statistic):} &     0.00    \\\\\n",
       "\\textbf{Time:}             &     21:31:11     & \\textbf{  Log-Likelihood:    } &   -57947.   \\\\\n",
       "\\textbf{No. Observations:} &        4297      & \\textbf{  AIC:               } & 1.159e+05   \\\\\n",
       "\\textbf{Df Residuals:}     &        4284      & \\textbf{  BIC:               } & 1.160e+05   \\\\\n",
       "\\textbf{Df Model:}         &          12      & \\textbf{                     } &             \\\\\n",
       "\\textbf{Covariance Type:}  &    nonrobust     & \\textbf{                     } &             \\\\\n",
       "\\bottomrule\n",
       "\\end{tabular}\n",
       "\\begin{tabular}{lcccccc}\n",
       "                        & \\textbf{coef} & \\textbf{std err} & \\textbf{t} & \\textbf{P$> |$t$|$} & \\textbf{[0.025} & \\textbf{0.975]}  \\\\\n",
       "\\midrule\n",
       "\\textbf{Intercept}      &    6.113e+06  &     2.54e+05     &    24.044  &         0.000        &     5.61e+06    &     6.61e+06     \\\\\n",
       "\\textbf{bedrooms}       &   -2.819e+04  &     3745.030     &    -7.526  &         0.000        &    -3.55e+04    &    -2.08e+04     \\\\\n",
       "\\textbf{bathrooms}      &    5.118e+04  &     6289.730     &     8.137  &         0.000        &     3.89e+04    &     6.35e+04     \\\\\n",
       "\\textbf{sqft\\_living}   &      76.5826  &        4.489     &    17.059  &         0.000        &       67.781    &       85.384     \\\\\n",
       "\\textbf{floors}         &     4.24e+04  &     6995.217     &     6.061  &         0.000        &     2.87e+04    &     5.61e+04     \\\\\n",
       "\\textbf{waterfront}     &    5.047e+05  &     3.65e+04     &    13.822  &         0.000        &     4.33e+05    &     5.76e+05     \\\\\n",
       "\\textbf{view}           &    3.744e+04  &     4149.922     &     9.021  &         0.000        &     2.93e+04    &     4.56e+04     \\\\\n",
       "\\textbf{condition}      &    1.623e+04  &     4576.828     &     3.545  &         0.000        &     7253.462    &     2.52e+04     \\\\\n",
       "\\textbf{grade}          &    1.234e+05  &     4055.499     &    30.430  &         0.000        &     1.15e+05    &     1.31e+05     \\\\\n",
       "\\textbf{sqft\\_above}    &      25.7731  &        4.242     &     6.076  &         0.000        &       17.457    &       34.089     \\\\\n",
       "\\textbf{sqft\\_basement} &      50.8094  &        5.120     &     9.924  &         0.000        &       40.772    &       60.847     \\\\\n",
       "\\textbf{yr\\_built}      &   -3531.3371  &      130.060     &   -27.152  &         0.000        &    -3786.322    &    -3276.353     \\\\\n",
       "\\textbf{yr\\_renovated}  &      21.0744  &        7.163     &     2.942  &         0.003        &        7.032    &       35.117     \\\\\n",
       "\\textbf{sqft\\_living15} &      33.6406  &        6.517     &     5.162  &         0.000        &       20.863    &       46.418     \\\\\n",
       "\\bottomrule\n",
       "\\end{tabular}\n",
       "\\begin{tabular}{lclc}\n",
       "\\textbf{Omnibus:}       & 948.603 & \\textbf{  Durbin-Watson:     } &    2.026  \\\\\n",
       "\\textbf{Prob(Omnibus):} &   0.000 & \\textbf{  Jarque-Bera (JB):  } & 3990.627  \\\\\n",
       "\\textbf{Skew:}          &   1.023 & \\textbf{  Prob(JB):          } &     0.00  \\\\\n",
       "\\textbf{Kurtosis:}      &   7.255 & \\textbf{  Cond. No.          } & 1.12e+16  \\\\\n",
       "\\bottomrule\n",
       "\\end{tabular}\n",
       "%\\caption{OLS Regression Results}\n",
       "\\end{center}\n",
       "\n",
       "Notes: \\newline\n",
       " [1] Standard Errors assume that the covariance matrix of the errors is correctly specified. \\newline\n",
       " [2] The smallest eigenvalue is 5.78e-22. This might indicate that there are \\newline\n",
       " strong multicollinearity problems or that the design matrix is singular."
      ],
      "text/plain": [
       "<class 'statsmodels.iolib.summary.Summary'>\n",
       "\"\"\"\n",
       "                            OLS Regression Results                            \n",
       "==============================================================================\n",
       "Dep. Variable:                  price   R-squared:                       0.694\n",
       "Model:                            OLS   Adj. R-squared:                  0.693\n",
       "Method:                 Least Squares   F-statistic:                     810.4\n",
       "Date:                Fri, 09 Jun 2023   Prob (F-statistic):               0.00\n",
       "Time:                        21:31:11   Log-Likelihood:                -57947.\n",
       "No. Observations:                4297   AIC:                         1.159e+05\n",
       "Df Residuals:                    4284   BIC:                         1.160e+05\n",
       "Df Model:                          12                                         \n",
       "Covariance Type:            nonrobust                                         \n",
       "=================================================================================\n",
       "                    coef    std err          t      P>|t|      [0.025      0.975]\n",
       "---------------------------------------------------------------------------------\n",
       "Intercept      6.113e+06   2.54e+05     24.044      0.000    5.61e+06    6.61e+06\n",
       "bedrooms      -2.819e+04   3745.030     -7.526      0.000   -3.55e+04   -2.08e+04\n",
       "bathrooms      5.118e+04   6289.730      8.137      0.000    3.89e+04    6.35e+04\n",
       "sqft_living      76.5826      4.489     17.059      0.000      67.781      85.384\n",
       "floors          4.24e+04   6995.217      6.061      0.000    2.87e+04    5.61e+04\n",
       "waterfront     5.047e+05   3.65e+04     13.822      0.000    4.33e+05    5.76e+05\n",
       "view           3.744e+04   4149.922      9.021      0.000    2.93e+04    4.56e+04\n",
       "condition      1.623e+04   4576.828      3.545      0.000    7253.462    2.52e+04\n",
       "grade          1.234e+05   4055.499     30.430      0.000    1.15e+05    1.31e+05\n",
       "sqft_above       25.7731      4.242      6.076      0.000      17.457      34.089\n",
       "sqft_basement    50.8094      5.120      9.924      0.000      40.772      60.847\n",
       "yr_built      -3531.3371    130.060    -27.152      0.000   -3786.322   -3276.353\n",
       "yr_renovated     21.0744      7.163      2.942      0.003       7.032      35.117\n",
       "sqft_living15    33.6406      6.517      5.162      0.000      20.863      46.418\n",
       "==============================================================================\n",
       "Omnibus:                      948.603   Durbin-Watson:                   2.026\n",
       "Prob(Omnibus):                  0.000   Jarque-Bera (JB):             3990.627\n",
       "Skew:                           1.023   Prob(JB):                         0.00\n",
       "Kurtosis:                       7.255   Cond. No.                     1.12e+16\n",
       "==============================================================================\n",
       "\n",
       "Notes:\n",
       "[1] Standard Errors assume that the covariance matrix of the errors is correctly specified.\n",
       "[2] The smallest eigenvalue is 5.78e-22. This might indicate that there are\n",
       "strong multicollinearity problems or that the design matrix is singular.\n",
       "\"\"\""
      ]
     },
     "execution_count": 39,
     "metadata": {},
     "output_type": "execute_result"
    }
   ],
   "source": [
    "lm3 = ols(form2, q6_3).fit()\n",
    "lm3.summary()"
   ]
  },
  {
   "cell_type": "code",
   "execution_count": 40,
   "id": "4e683dd4",
   "metadata": {},
   "outputs": [],
   "source": [
    "# 모델1,2,3의 pred 비교\n",
    "lm1_pred = lm1.predict(q6_3)\n",
    "lm2_pred = lm2.predict(q6_3)\n",
    "lm3_pred = lm3.predict(q6_3)"
   ]
  },
  {
   "cell_type": "code",
   "execution_count": 41,
   "id": "08e68ff0",
   "metadata": {},
   "outputs": [],
   "source": [
    "from sklearn.metrics import mean_absolute_error, mean_squared_error, mean_absolute_percentage_error\n",
    "\n",
    "# 각 모델들의 MAE\n",
    "lm1_mae = mean_absolute_error(q6_3.price, lm1_pred)\n",
    "lm2_mae = mean_absolute_error(q6_3.price, lm2_pred)\n",
    "lm3_mae = mean_absolute_error(q6_3.price, lm3_pred)"
   ]
  },
  {
   "cell_type": "code",
   "execution_count": 42,
   "id": "19068249",
   "metadata": {},
   "outputs": [
    {
     "data": {
      "text/plain": [
       "(128760.28240440151, 125054.45674041584, 125103.35713732374)"
      ]
     },
     "execution_count": 42,
     "metadata": {},
     "output_type": "execute_result"
    }
   ],
   "source": [
    "# MAR값 비교\n",
    "lm1_mae, lm2_mae, lm3_mae"
   ]
  },
  {
   "cell_type": "markdown",
   "id": "bac18907",
   "metadata": {},
   "source": [
    "## 문제 2"
   ]
  },
  {
   "cell_type": "code",
   "execution_count": 43,
   "id": "20668e2e",
   "metadata": {},
   "outputs": [],
   "source": [
    "# =============================================================================\n",
    "# 구분자 : comma(“,”), 200 Rows, 6 Columns, UTF-8 인코딩\n",
    "\n",
    "# 환자의 상태와 그에 따라 처방된 약에 대한 정보를 분석하고자한다\n",
    "# \n",
    "# 컬 럼 / 정 의  / Type\n",
    "# Age  / 연령 / Integer\n",
    "# Sex / 성별 / String\n",
    "# BP / 혈압 레벨 / String\n",
    "# Cholesterol / 콜레스테롤 레벨 /  String\n",
    "# Na_to_k / 혈액 내 칼륨에 대비한 나트륨 비율 / Double\n",
    "# Drug / Drug Type / String\n",
    "# =============================================================================\n",
    "# ============================================================================="
   ]
  },
  {
   "cell_type": "code",
   "execution_count": 44,
   "id": "c8e1c6e6",
   "metadata": {},
   "outputs": [],
   "source": [
    "# 패키지 호출\n",
    "import pandas as pd\n",
    "import numpy as np"
   ]
  },
  {
   "cell_type": "code",
   "execution_count": 45,
   "id": "7d80a0cb",
   "metadata": {},
   "outputs": [
    {
     "data": {
      "text/html": [
       "<div>\n",
       "<style scoped>\n",
       "    .dataframe tbody tr th:only-of-type {\n",
       "        vertical-align: middle;\n",
       "    }\n",
       "\n",
       "    .dataframe tbody tr th {\n",
       "        vertical-align: top;\n",
       "    }\n",
       "\n",
       "    .dataframe thead th {\n",
       "        text-align: right;\n",
       "    }\n",
       "</style>\n",
       "<table border=\"1\" class=\"dataframe\">\n",
       "  <thead>\n",
       "    <tr style=\"text-align: right;\">\n",
       "      <th></th>\n",
       "      <th>Age</th>\n",
       "      <th>Sex</th>\n",
       "      <th>BP</th>\n",
       "      <th>Cholesterol</th>\n",
       "      <th>Na_to_K</th>\n",
       "      <th>Drug</th>\n",
       "    </tr>\n",
       "  </thead>\n",
       "  <tbody>\n",
       "    <tr>\n",
       "      <th>0</th>\n",
       "      <td>23</td>\n",
       "      <td>F</td>\n",
       "      <td>HIGH</td>\n",
       "      <td>HIGH</td>\n",
       "      <td>25.355</td>\n",
       "      <td>DrugY</td>\n",
       "    </tr>\n",
       "    <tr>\n",
       "      <th>1</th>\n",
       "      <td>47</td>\n",
       "      <td>M</td>\n",
       "      <td>LOW</td>\n",
       "      <td>HIGH</td>\n",
       "      <td>13.093</td>\n",
       "      <td>drugC</td>\n",
       "    </tr>\n",
       "    <tr>\n",
       "      <th>2</th>\n",
       "      <td>47</td>\n",
       "      <td>M</td>\n",
       "      <td>LOW</td>\n",
       "      <td>HIGH</td>\n",
       "      <td>10.114</td>\n",
       "      <td>drugC</td>\n",
       "    </tr>\n",
       "    <tr>\n",
       "      <th>3</th>\n",
       "      <td>28</td>\n",
       "      <td>F</td>\n",
       "      <td>NORMAL</td>\n",
       "      <td>HIGH</td>\n",
       "      <td>7.798</td>\n",
       "      <td>drugX</td>\n",
       "    </tr>\n",
       "    <tr>\n",
       "      <th>4</th>\n",
       "      <td>61</td>\n",
       "      <td>F</td>\n",
       "      <td>LOW</td>\n",
       "      <td>HIGH</td>\n",
       "      <td>18.043</td>\n",
       "      <td>DrugY</td>\n",
       "    </tr>\n",
       "  </tbody>\n",
       "</table>\n",
       "</div>"
      ],
      "text/plain": [
       "   Age Sex      BP Cholesterol  Na_to_K   Drug\n",
       "0   23   F    HIGH        HIGH   25.355  DrugY\n",
       "1   47   M     LOW        HIGH   13.093  drugC\n",
       "2   47   M     LOW        HIGH   10.114  drugC\n",
       "3   28   F  NORMAL        HIGH    7.798  drugX\n",
       "4   61   F     LOW        HIGH   18.043  DrugY"
      ]
     },
     "execution_count": 45,
     "metadata": {},
     "output_type": "execute_result"
    }
   ],
   "source": [
    "# 데이터 불러오기\n",
    "csvFile = 'C:/Users/chunc/Desktop/Bootcamp/python/python/ProDs/Dataset/DataSet_02.csv'\n",
    "data2 = pd.read_csv(csvFile)\n",
    "data2.head()"
   ]
  },
  {
   "cell_type": "code",
   "execution_count": 46,
   "id": "3bf2c099",
   "metadata": {},
   "outputs": [
    {
     "name": "stdout",
     "output_type": "stream",
     "text": [
      "<class 'pandas.core.frame.DataFrame'>\n",
      "RangeIndex: 200 entries, 0 to 199\n",
      "Data columns (total 6 columns):\n",
      " #   Column       Non-Null Count  Dtype  \n",
      "---  ------       --------------  -----  \n",
      " 0   Age          200 non-null    int64  \n",
      " 1   Sex          200 non-null    object \n",
      " 2   BP           200 non-null    object \n",
      " 3   Cholesterol  200 non-null    object \n",
      " 4   Na_to_K      200 non-null    float64\n",
      " 5   Drug         200 non-null    object \n",
      "dtypes: float64(1), int64(1), object(4)\n",
      "memory usage: 9.5+ KB\n"
     ]
    }
   ],
   "source": [
    "data2.info()"
   ]
  },
  {
   "cell_type": "code",
   "execution_count": 47,
   "id": "b48dcd36",
   "metadata": {},
   "outputs": [
    {
     "data": {
      "text/plain": [
       "Index(['Age', 'Sex', 'BP', 'Cholesterol', 'Na_to_K', 'Drug'], dtype='object')"
      ]
     },
     "execution_count": 47,
     "metadata": {},
     "output_type": "execute_result"
    }
   ],
   "source": [
    "data2.columns"
   ]
  },
  {
   "cell_type": "code",
   "execution_count": 48,
   "id": "7161de73",
   "metadata": {},
   "outputs": [],
   "source": [
    "# =============================================================================\n",
    "# 1.해당 데이터에 대한 EDA를 수행하고, 여성으로 혈압이 High, Cholesterol이 Normal인\n",
    "# 환자의 전체에 대비한 비율이 얼마인지 소수점 네 번째 자리에서 반올림하여 소수점 셋째\n",
    "# 자리까지 기술하시오. (답안 예시) 0.123\n",
    "# ============================================================================="
   ]
  },
  {
   "cell_type": "code",
   "execution_count": 49,
   "id": "0b17f2a0",
   "metadata": {},
   "outputs": [
    {
     "data": {
      "text/plain": [
       "Sex  BP      Cholesterol\n",
       "F    HIGH    NORMAL         0.105\n",
       "M    HIGH    NORMAL         0.105\n",
       "     LOW     NORMAL         0.095\n",
       "     NORMAL  HIGH           0.095\n",
       "F    NORMAL  HIGH           0.090\n",
       "M    HIGH    HIGH           0.090\n",
       "F    HIGH    HIGH           0.085\n",
       "M    LOW     HIGH           0.085\n",
       "F    LOW     HIGH           0.070\n",
       "             NORMAL         0.070\n",
       "     NORMAL  NORMAL         0.060\n",
       "M    NORMAL  NORMAL         0.050\n",
       "dtype: float64"
      ]
     },
     "execution_count": 49,
     "metadata": {},
     "output_type": "execute_result"
    }
   ],
   "source": [
    "# 성별, 혈압, 콜레스테롤의 비율 구하기\n",
    "q2_1 = data2[['Sex', 'BP', 'Cholesterol']].value_counts(normalize = True)\n",
    "q2_1"
   ]
  },
  {
   "cell_type": "code",
   "execution_count": 50,
   "id": "a00a6ae9",
   "metadata": {},
   "outputs": [
    {
     "data": {
      "text/plain": [
       "pandas.core.series.Series"
      ]
     },
     "execution_count": 50,
     "metadata": {},
     "output_type": "execute_result"
    }
   ],
   "source": [
    "# 시리즈타입 확인\n",
    "type(q2_1)"
   ]
  },
  {
   "cell_type": "code",
   "execution_count": 51,
   "id": "c25b730c",
   "metadata": {},
   "outputs": [
    {
     "data": {
      "text/plain": [
       "MultiIndex([('F',   'HIGH', 'NORMAL'),\n",
       "            ('M',   'HIGH', 'NORMAL'),\n",
       "            ('M',    'LOW', 'NORMAL'),\n",
       "            ('M', 'NORMAL',   'HIGH'),\n",
       "            ('F', 'NORMAL',   'HIGH'),\n",
       "            ('M',   'HIGH',   'HIGH'),\n",
       "            ('F',   'HIGH',   'HIGH'),\n",
       "            ('M',    'LOW',   'HIGH'),\n",
       "            ('F',    'LOW',   'HIGH'),\n",
       "            ('F',    'LOW', 'NORMAL'),\n",
       "            ('F', 'NORMAL', 'NORMAL'),\n",
       "            ('M', 'NORMAL', 'NORMAL')],\n",
       "           names=['Sex', 'BP', 'Cholesterol'])"
      ]
     },
     "execution_count": 51,
     "metadata": {},
     "output_type": "execute_result"
    }
   ],
   "source": [
    "q2_1.index"
   ]
  },
  {
   "cell_type": "code",
   "execution_count": 52,
   "id": "33424934",
   "metadata": {},
   "outputs": [
    {
     "data": {
      "text/plain": [
       "0.105"
      ]
     },
     "execution_count": 52,
     "metadata": {},
     "output_type": "execute_result"
    }
   ],
   "source": [
    "# 멀티인덱스를 이용하여 답 구하기\n",
    "q2_1[('F', 'HIGH', 'NORMAL')]"
   ]
  },
  {
   "cell_type": "code",
   "execution_count": 53,
   "id": "90de96e0",
   "metadata": {},
   "outputs": [
    {
     "data": {
      "text/plain": [
       "Sex  Cholesterol\n",
       "F    NORMAL         0.105\n",
       "M    NORMAL         0.105\n",
       "     NORMAL         0.095\n",
       "     HIGH           0.095\n",
       "F    HIGH           0.090\n",
       "M    HIGH           0.090\n",
       "F    HIGH           0.085\n",
       "M    HIGH           0.085\n",
       "F    HIGH           0.070\n",
       "     NORMAL         0.070\n",
       "     NORMAL         0.060\n",
       "M    NORMAL         0.050\n",
       "dtype: float64"
      ]
     },
     "execution_count": 53,
     "metadata": {},
     "output_type": "execute_result"
    }
   ],
   "source": [
    "# 참고\n",
    "# 인덱스 제거, BP컬럼이 없어진 것을 볼 수 있다\n",
    "# inplace=True -> 제거 내용이 저장됨\n",
    "q2_1.droplevel(1)"
   ]
  },
  {
   "cell_type": "code",
   "execution_count": 54,
   "id": "77eb262f",
   "metadata": {},
   "outputs": [
    {
     "data": {
      "text/plain": [
       "0     0.105\n",
       "1     0.105\n",
       "2     0.095\n",
       "3     0.095\n",
       "4     0.090\n",
       "5     0.090\n",
       "6     0.085\n",
       "7     0.085\n",
       "8     0.070\n",
       "9     0.070\n",
       "10    0.060\n",
       "11    0.050\n",
       "dtype: float64"
      ]
     },
     "execution_count": 54,
     "metadata": {},
     "output_type": "execute_result"
    }
   ],
   "source": [
    "# 인덱스 번호 재설정\n",
    "# 변경 내용 저장 -> inplace=True 사용\n",
    "q2_1.reset_index(drop = True)"
   ]
  },
  {
   "cell_type": "code",
   "execution_count": 55,
   "id": "55a6c87b",
   "metadata": {},
   "outputs": [],
   "source": [
    "# =============================================================================\n",
    "# 2. Age, Sex, BP, Cholesterol 및 Na_to_k 값이 Drug 타입에 영향을 미치는지 확인하기\n",
    "# 위하여 아래와 같이 데이터를 변환하고 분석을 수행하시오. \n",
    "# - Age_gr 컬럼을 만들고, Age가 20 미만은 ‘10’, 20부터 30 미만은 ‘20’, 30부터 40 미만은\n",
    "# ‘30’, 40부터 50 미만은 ‘40’, 50부터 60 미만은 ‘50’, 60이상은 ‘60’으로 변환하시오. \n",
    "# - Na_K_gr 컬럼을 만들고 Na_to_k 값이 10이하는 ‘Lv1’, 20이하는 ‘Lv2’, 30이하는 ‘Lv3’, 30 \n",
    "# 초과는 ‘Lv4’로 변환하시오.\n",
    "# - Sex, BP, Cholesterol, Age_gr, Na_K_gr이 Drug 변수와 영향이 있는지 독립성 검정을\n",
    "# 수행하시오.\n",
    "# - 검정 수행 결과, Drug 타입과 연관성이 있는 변수는 몇 개인가? 연관성이 있는 변수\n",
    "# 가운데 가장 큰 p-value를 찾아 소수점 여섯 번째 자리 이하는 버리고 소수점 다섯\n",
    "# 번째 자리까지 기술하시오.\n",
    "# (답안 예시) 3, 1.23456\n",
    "# ============================================================================="
   ]
  },
  {
   "cell_type": "code",
   "execution_count": 56,
   "id": "6217b229",
   "metadata": {},
   "outputs": [],
   "source": [
    "# Age_gr컬럼 만들기\n",
    "# data2의 데이터 복사\n",
    "q2_2 = data2.copy()"
   ]
  },
  {
   "cell_type": "code",
   "execution_count": 57,
   "id": "927a62fd",
   "metadata": {},
   "outputs": [],
   "source": [
    "# 조건\n",
    "\n",
    "# 조건에 해당하는 위치번호 리턴\n",
    "# np.where(조건)\n",
    "\n",
    "# 조건에 따라 분기해서 처리 후 결합해서 데이터셋 리턴\n",
    "# np.where(조건, 참인 경우 실행문, 거짓인 경우 실행문)"
   ]
  },
  {
   "cell_type": "code",
   "execution_count": 58,
   "id": "a3b60775",
   "metadata": {},
   "outputs": [],
   "source": [
    "q2_2['Age_gr'] = np.where(q2_2.Age < 20, 10,\n",
    "                          np.where(q2_2.Age < 30, 20,\n",
    "                                np.where(q2_2.Age < 40, 30,\n",
    "                                    np.where(q2_2.Age < 50, 40,\n",
    "                                        np.where(q2_2.Age < 60, 50, 60)))))"
   ]
  },
  {
   "cell_type": "code",
   "execution_count": 59,
   "id": "e8dbd272",
   "metadata": {},
   "outputs": [],
   "source": [
    "# 결측치데이터를 처리하고 범주화를 실시하기\n",
    "q2_2['Age_gr'] = np.where(q2_2.Age.isna(), q2_2.Age,\n",
    "                    np.where(q2_2.Age < 20, 10,\n",
    "                        np.where(q2_2.Age < 30, 20,\n",
    "                            np.where(q2_2.Age < 40, 30,\n",
    "                                np.where(q2_2.Age < 50, 40,\n",
    "                                    np.where(q2_2.Age < 60, 50, 60))))))"
   ]
  },
  {
   "cell_type": "code",
   "execution_count": 60,
   "id": "d3e1f695",
   "metadata": {},
   "outputs": [],
   "source": [
    "# Na_K_gr 컬럼 만들기\n",
    "q2_2['Na_K_gr'] = np.where(q2_2.Na_to_K <= 10, 'Lv1',\n",
    "                    np.where(q2_2.Na_to_K <= 20, 'Lv2',\n",
    "                        np.where(q2_2.Na_to_K <= 30, 'Lv3','Lv4')))"
   ]
  },
  {
   "cell_type": "code",
   "execution_count": 61,
   "id": "d305214c",
   "metadata": {},
   "outputs": [
    {
     "data": {
      "text/html": [
       "<div>\n",
       "<style scoped>\n",
       "    .dataframe tbody tr th:only-of-type {\n",
       "        vertical-align: middle;\n",
       "    }\n",
       "\n",
       "    .dataframe tbody tr th {\n",
       "        vertical-align: top;\n",
       "    }\n",
       "\n",
       "    .dataframe thead th {\n",
       "        text-align: right;\n",
       "    }\n",
       "</style>\n",
       "<table border=\"1\" class=\"dataframe\">\n",
       "  <thead>\n",
       "    <tr style=\"text-align: right;\">\n",
       "      <th>Drug</th>\n",
       "      <th>DrugY</th>\n",
       "      <th>drugA</th>\n",
       "      <th>drugB</th>\n",
       "      <th>drugC</th>\n",
       "      <th>drugX</th>\n",
       "    </tr>\n",
       "    <tr>\n",
       "      <th>Sex</th>\n",
       "      <th></th>\n",
       "      <th></th>\n",
       "      <th></th>\n",
       "      <th></th>\n",
       "      <th></th>\n",
       "    </tr>\n",
       "  </thead>\n",
       "  <tbody>\n",
       "    <tr>\n",
       "      <th>F</th>\n",
       "      <td>47</td>\n",
       "      <td>9</td>\n",
       "      <td>6</td>\n",
       "      <td>7</td>\n",
       "      <td>27</td>\n",
       "    </tr>\n",
       "    <tr>\n",
       "      <th>M</th>\n",
       "      <td>44</td>\n",
       "      <td>14</td>\n",
       "      <td>10</td>\n",
       "      <td>9</td>\n",
       "      <td>27</td>\n",
       "    </tr>\n",
       "  </tbody>\n",
       "</table>\n",
       "</div>"
      ],
      "text/plain": [
       "Drug  DrugY  drugA  drugB  drugC  drugX\n",
       "Sex                                    \n",
       "F        47      9      6      7     27\n",
       "M        44     14     10      9     27"
      ]
     },
     "execution_count": 61,
     "metadata": {},
     "output_type": "execute_result"
    }
   ],
   "source": [
    "# Sex, BP, Cholesterol, Age_gr, Na_K_gr이 Drug 변수와 영향이 있는지 독립성 검정 수행\n",
    "# 두 변수끼리 빈도 작성 -> 작성된 빈도를 입력으로 카이제곱 검정 수행\n",
    "\n",
    "# Sex와 Drug 교차표\n",
    "tab = pd.crosstab(index = q2_2['Sex'], columns = q2_2['Drug'])\n",
    "tab"
   ]
  },
  {
   "cell_type": "code",
   "execution_count": 62,
   "id": "98b658f3",
   "metadata": {},
   "outputs": [
    {
     "data": {
      "text/plain": [
       "Chi2ContingencyResult(statistic=2.119248418109203, pvalue=0.7138369773987128, dof=4, expected_freq=array([[43.68, 11.04,  7.68,  7.68, 25.92],\n",
       "       [47.32, 11.96,  8.32,  8.32, 28.08]]))"
      ]
     },
     "execution_count": 62,
     "metadata": {},
     "output_type": "execute_result"
    }
   ],
   "source": [
    "# 카이제곱 검정\n",
    "from scipy.stats import chi2_contingency\n",
    "chi2_contingency(tab)"
   ]
  },
  {
   "cell_type": "code",
   "execution_count": 63,
   "id": "4bd4cedc",
   "metadata": {},
   "outputs": [],
   "source": [
    "for_list = ['Sex', 'BP', 'Cholesterol', 'Age_gr', 'Na_K_gr']"
   ]
  },
  {
   "cell_type": "code",
   "execution_count": 64,
   "id": "d266e591",
   "metadata": {},
   "outputs": [],
   "source": [
    "q2_2_sel_var = []\n",
    "for i in for_list:\n",
    "    tab = pd.crosstab(index = q2_2[i], columns = q2_2['Drug'])\n",
    "    chi_out = chi2_contingency(tab)\n",
    "    pvalue = chi_out[1]\n",
    "    q2_2_sel_var.append([i, pvalue])"
   ]
  },
  {
   "cell_type": "code",
   "execution_count": 65,
   "id": "c1ecd0fe",
   "metadata": {},
   "outputs": [
    {
     "data": {
      "text/plain": [
       "[['Sex', 0.7138369773987128],\n",
       " ['BP', 5.0417334144665895e-27],\n",
       " ['Cholesterol', 0.0005962588389856497],\n",
       " ['Age_gr', 0.0007010113024729462],\n",
       " ['Na_K_gr', 1.1254641594413981e-14]]"
      ]
     },
     "execution_count": 65,
     "metadata": {},
     "output_type": "execute_result"
    }
   ],
   "source": [
    "q2_2_sel_var"
   ]
  },
  {
   "cell_type": "code",
   "execution_count": 66,
   "id": "1c8bac40",
   "metadata": {},
   "outputs": [
    {
     "data": {
      "text/html": [
       "<div>\n",
       "<style scoped>\n",
       "    .dataframe tbody tr th:only-of-type {\n",
       "        vertical-align: middle;\n",
       "    }\n",
       "\n",
       "    .dataframe tbody tr th {\n",
       "        vertical-align: top;\n",
       "    }\n",
       "\n",
       "    .dataframe thead th {\n",
       "        text-align: right;\n",
       "    }\n",
       "</style>\n",
       "<table border=\"1\" class=\"dataframe\">\n",
       "  <thead>\n",
       "    <tr style=\"text-align: right;\">\n",
       "      <th></th>\n",
       "      <th>var</th>\n",
       "      <th>pvalue</th>\n",
       "    </tr>\n",
       "  </thead>\n",
       "  <tbody>\n",
       "    <tr>\n",
       "      <th>0</th>\n",
       "      <td>Sex</td>\n",
       "      <td>7.138370e-01</td>\n",
       "    </tr>\n",
       "    <tr>\n",
       "      <th>1</th>\n",
       "      <td>BP</td>\n",
       "      <td>5.041733e-27</td>\n",
       "    </tr>\n",
       "    <tr>\n",
       "      <th>2</th>\n",
       "      <td>Cholesterol</td>\n",
       "      <td>5.962588e-04</td>\n",
       "    </tr>\n",
       "    <tr>\n",
       "      <th>3</th>\n",
       "      <td>Age_gr</td>\n",
       "      <td>7.010113e-04</td>\n",
       "    </tr>\n",
       "    <tr>\n",
       "      <th>4</th>\n",
       "      <td>Na_K_gr</td>\n",
       "      <td>1.125464e-14</td>\n",
       "    </tr>\n",
       "  </tbody>\n",
       "</table>\n",
       "</div>"
      ],
      "text/plain": [
       "           var        pvalue\n",
       "0          Sex  7.138370e-01\n",
       "1           BP  5.041733e-27\n",
       "2  Cholesterol  5.962588e-04\n",
       "3       Age_gr  7.010113e-04\n",
       "4      Na_K_gr  1.125464e-14"
      ]
     },
     "execution_count": 66,
     "metadata": {},
     "output_type": "execute_result"
    }
   ],
   "source": [
    "# H0: 독립이다\n",
    "# H1: 독립이 아니다(연고나성이 있다)\n",
    "q2_2_sel_var = pd.DataFrame(q2_2_sel_var, columns = ['var', 'pvalue'])\n",
    "q2_2_sel_var"
   ]
  },
  {
   "cell_type": "code",
   "execution_count": 67,
   "id": "1fe5a072",
   "metadata": {},
   "outputs": [
    {
     "data": {
      "text/html": [
       "<div>\n",
       "<style scoped>\n",
       "    .dataframe tbody tr th:only-of-type {\n",
       "        vertical-align: middle;\n",
       "    }\n",
       "\n",
       "    .dataframe tbody tr th {\n",
       "        vertical-align: top;\n",
       "    }\n",
       "\n",
       "    .dataframe thead th {\n",
       "        text-align: right;\n",
       "    }\n",
       "</style>\n",
       "<table border=\"1\" class=\"dataframe\">\n",
       "  <thead>\n",
       "    <tr style=\"text-align: right;\">\n",
       "      <th></th>\n",
       "      <th>var</th>\n",
       "      <th>pvalue</th>\n",
       "    </tr>\n",
       "  </thead>\n",
       "  <tbody>\n",
       "    <tr>\n",
       "      <th>1</th>\n",
       "      <td>BP</td>\n",
       "      <td>5.041733e-27</td>\n",
       "    </tr>\n",
       "    <tr>\n",
       "      <th>2</th>\n",
       "      <td>Cholesterol</td>\n",
       "      <td>5.962588e-04</td>\n",
       "    </tr>\n",
       "    <tr>\n",
       "      <th>3</th>\n",
       "      <td>Age_gr</td>\n",
       "      <td>7.010113e-04</td>\n",
       "    </tr>\n",
       "    <tr>\n",
       "      <th>4</th>\n",
       "      <td>Na_K_gr</td>\n",
       "      <td>1.125464e-14</td>\n",
       "    </tr>\n",
       "  </tbody>\n",
       "</table>\n",
       "</div>"
      ],
      "text/plain": [
       "           var        pvalue\n",
       "1           BP  5.041733e-27\n",
       "2  Cholesterol  5.962588e-04\n",
       "3       Age_gr  7.010113e-04\n",
       "4      Na_K_gr  1.125464e-14"
      ]
     },
     "execution_count": 67,
     "metadata": {},
     "output_type": "execute_result"
    }
   ],
   "source": [
    "# Drug 타입과 연관성이 있는 변수\n",
    "q2_2_out = q2_2_sel_var.loc[q2_2_sel_var.pvalue < 0.05]\n",
    "q2_2_out"
   ]
  },
  {
   "cell_type": "code",
   "execution_count": 68,
   "id": "82944188",
   "metadata": {},
   "outputs": [
    {
     "data": {
      "text/plain": [
       "4"
      ]
     },
     "execution_count": 68,
     "metadata": {},
     "output_type": "execute_result"
    }
   ],
   "source": [
    "# 연관성 있는 변수의 개수\n",
    "len(q2_2_out)"
   ]
  },
  {
   "cell_type": "code",
   "execution_count": 69,
   "id": "4f217fa9",
   "metadata": {},
   "outputs": [
    {
     "data": {
      "text/plain": [
       "0.0007"
      ]
     },
     "execution_count": 69,
     "metadata": {},
     "output_type": "execute_result"
    }
   ],
   "source": [
    "# 가장 큰 p-value를 찾아 소수점 여섯 번째 자리 이하는 버리고 소수점 다섯번째 자리까지 기술\n",
    "np.trunc(q2_2_out['pvalue'].max() * 100000) / 100000"
   ]
  },
  {
   "cell_type": "code",
   "execution_count": 70,
   "id": "2150de54",
   "metadata": {},
   "outputs": [],
   "source": [
    "# =============================================================================\n",
    "# 3.Sex, BP, Cholesterol 등 세 개의 변수를 다음과 같이 변환하고 의사결정나무를 이용한\n",
    "# 분석을 수행하시오.\n",
    "# - Sex는 M을 0, F를 1로 변환하여 Sex_cd 변수 생성\n",
    "# - BP는 LOW는 0, NORMAL은 1 그리고 HIGH는 2로 변환하여 BP_cd 변수 생성\n",
    "# - Cholesterol은 NORMAL은 0, HIGH는 1로 변환하여 Ch_cd 생성\n",
    "# - Age, Na_to_k, Sex_cd, BP_cd, Ch_cd를 Feature로, Drug을 Label로 하여 의사결정나무를\n",
    "# 수행하고 Root Node의 split feature와 split value를 기술하시오. \n",
    "# 이 때 split value는 소수점 셋째 자리까지 반올림하여 기술하시오. (답안 예시) Age, \n",
    "# 12.345\n",
    "# ============================================================================="
   ]
  },
  {
   "cell_type": "code",
   "execution_count": 71,
   "id": "34cf57a3",
   "metadata": {},
   "outputs": [],
   "source": [
    "# 데이터 복제\n",
    "q2_3 = data2.copy()"
   ]
  },
  {
   "cell_type": "code",
   "execution_count": 72,
   "id": "e31ae2f1",
   "metadata": {},
   "outputs": [],
   "source": [
    "# 변수변환\n",
    "q2_3['Sex_cd'] = np.where(q2_3.Sex == 'M', 0, 1)\n",
    "q2_3['BP_cd'] = np.where(q2_3.BP == 'LOW', 0, np.where(q2_3.BP == 'NORMAL', 1, 2))\n",
    "q2_3['Ch_cd'] = np.where(q2_3.Cholesterol == 'NORMAL', 0, 1)"
   ]
  },
  {
   "cell_type": "code",
   "execution_count": 73,
   "id": "ec93be0c",
   "metadata": {},
   "outputs": [
    {
     "data": {
      "text/plain": [
       "0    104\n",
       "1     96\n",
       "Name: Sex_cd, dtype: int64"
      ]
     },
     "execution_count": 73,
     "metadata": {},
     "output_type": "execute_result"
    }
   ],
   "source": [
    "# 변환 확인\n",
    "q2_3['Sex_cd'].value_counts()"
   ]
  },
  {
   "cell_type": "code",
   "execution_count": 74,
   "id": "7187678d",
   "metadata": {},
   "outputs": [],
   "source": [
    "q2_3_var_list = ['Age', 'Na_to_K', 'Sex_cd', 'BP_cd', 'Ch_cd']"
   ]
  },
  {
   "cell_type": "code",
   "execution_count": 75,
   "id": "1dc222ca",
   "metadata": {},
   "outputs": [],
   "source": [
    "# 의사결정나무 패키지 불러오기\n",
    "from sklearn.tree import DecisionTreeClassifier, plot_tree, export_text"
   ]
  },
  {
   "cell_type": "code",
   "execution_count": 76,
   "id": "ba536cd5",
   "metadata": {},
   "outputs": [],
   "source": [
    "# 의사결정트리 모델링\n",
    "dt = DecisionTreeClassifier().fit(q2_3[q2_3_var_list], q2_3['Drug'])"
   ]
  },
  {
   "cell_type": "code",
   "execution_count": 77,
   "id": "a4520d61",
   "metadata": {},
   "outputs": [
    {
     "data": {
      "text/plain": [
       "array(['DrugY', 'drugA', 'drugB', 'drugC', 'drugX'], dtype=object)"
      ]
     },
     "execution_count": 77,
     "metadata": {},
     "output_type": "execute_result"
    }
   ],
   "source": [
    "dt.classes_"
   ]
  },
  {
   "cell_type": "code",
   "execution_count": 78,
   "id": "684b163f",
   "metadata": {},
   "outputs": [],
   "source": [
    "import matplotlib.pyplot as plt"
   ]
  },
  {
   "cell_type": "code",
   "execution_count": 79,
   "id": "8a988e5a",
   "metadata": {},
   "outputs": [
    {
     "data": {
      "text/plain": [
       "[Text(0.6666666666666666, 0.9, 'Na_to_K <= 14.829\\ngini = 0.694\\nsamples = 200\\nvalue = [91, 23, 16, 16, 54]\\nclass = DrugY'),\n",
       " Text(0.5555555555555556, 0.7, 'BP_cd <= 1.5\\ngini = 0.667\\nsamples = 109\\nvalue = [0, 23, 16, 16, 54]\\nclass = drugX'),\n",
       " Text(0.3333333333333333, 0.5, 'BP_cd <= 0.5\\ngini = 0.353\\nsamples = 70\\nvalue = [0, 0, 0, 16, 54]\\nclass = drugX'),\n",
       " Text(0.2222222222222222, 0.3, 'Ch_cd <= 0.5\\ngini = 0.498\\nsamples = 34\\nvalue = [0, 0, 0, 16, 18]\\nclass = drugX'),\n",
       " Text(0.1111111111111111, 0.1, 'gini = 0.0\\nsamples = 18\\nvalue = [0, 0, 0, 0, 18]\\nclass = drugX'),\n",
       " Text(0.3333333333333333, 0.1, 'gini = 0.0\\nsamples = 16\\nvalue = [0, 0, 0, 16, 0]\\nclass = drugC'),\n",
       " Text(0.4444444444444444, 0.3, 'gini = 0.0\\nsamples = 36\\nvalue = [0, 0, 0, 0, 36]\\nclass = drugX'),\n",
       " Text(0.7777777777777778, 0.5, 'Age <= 50.5\\ngini = 0.484\\nsamples = 39\\nvalue = [0, 23, 16, 0, 0]\\nclass = drugA'),\n",
       " Text(0.6666666666666666, 0.3, 'gini = 0.0\\nsamples = 23\\nvalue = [0, 23, 0, 0, 0]\\nclass = drugA'),\n",
       " Text(0.8888888888888888, 0.3, 'gini = 0.0\\nsamples = 16\\nvalue = [0, 0, 16, 0, 0]\\nclass = drugB'),\n",
       " Text(0.7777777777777778, 0.7, 'gini = 0.0\\nsamples = 91\\nvalue = [91, 0, 0, 0, 0]\\nclass = DrugY')]"
      ]
     },
     "execution_count": 79,
     "metadata": {},
     "output_type": "execute_result"
    },
    {
     "data": {
      "image/png": "[encoded data removed]",
      "text/plain": [
       "<Figure size 1000x800 with 1 Axes>"
      ]
     },
     "metadata": {},
     "output_type": "display_data"
    }
   ],
   "source": [
    "# 트리맵 시각화\n",
    "plt.figure(figsize = (10, 8))\n",
    "\n",
    "plot_tree(dt, feature_names = q2_3_var_list, class_names = dt.classes_, filled = True, precision = 3, rounded = True,\n",
    "         fontsize = 7)"
   ]
  },
  {
   "cell_type": "code",
   "execution_count": 80,
   "id": "e6a334a2",
   "metadata": {},
   "outputs": [
    {
     "data": {
      "text/plain": [
       "Age        0.135954\n",
       "Na_to_K    0.476282\n",
       "Sex_cd     0.000000\n",
       "BP_cd      0.265718\n",
       "Ch_cd      0.122046\n",
       "dtype: float64"
      ]
     },
     "execution_count": 80,
     "metadata": {},
     "output_type": "execute_result"
    }
   ],
   "source": [
    "# dt모델에서 변수들의 중요도\n",
    "q2_3_imp = pd.Series(dt.feature_importances_, index = q2_3_var_list)\n",
    "q2_3_imp"
   ]
  },
  {
   "cell_type": "code",
   "execution_count": 81,
   "id": "9a8e3b7a",
   "metadata": {},
   "outputs": [
    {
     "data": {
      "text/plain": [
       "Na_to_K    0.476282\n",
       "BP_cd      0.265718\n",
       "Age        0.135954\n",
       "Ch_cd      0.122046\n",
       "Sex_cd     0.000000\n",
       "dtype: float64"
      ]
     },
     "execution_count": 81,
     "metadata": {},
     "output_type": "execute_result"
    }
   ],
   "source": [
    "# 오름차순 정렬\n",
    "q2_3_imp2 = q2_3_imp.sort_values(ascending = False)\n",
    "q2_3_imp2"
   ]
  },
  {
   "cell_type": "code",
   "execution_count": 82,
   "id": "4bb8832b",
   "metadata": {},
   "outputs": [
    {
     "data": {
      "text/plain": [
       "Na_to_K     True\n",
       "BP_cd       True\n",
       "Age         True\n",
       "Ch_cd      False\n",
       "Sex_cd     False\n",
       "dtype: bool"
      ]
     },
     "execution_count": 82,
     "metadata": {},
     "output_type": "execute_result"
    }
   ],
   "source": [
    "# 중요변수비율의 누적합\n",
    "q2_3_imp2.cumsum() < 0.90"
   ]
  },
  {
   "cell_type": "code",
   "execution_count": 83,
   "id": "a7d7b405",
   "metadata": {},
   "outputs": [
    {
     "data": {
      "text/plain": [
       "Index(['Na_to_K', 'BP_cd', 'Age'], dtype='object')"
      ]
     },
     "execution_count": 83,
     "metadata": {},
     "output_type": "execute_result"
    }
   ],
   "source": [
    "# 누적합 조건에 맞는 변수이름 출력\n",
    "q2_3_imp2.index[q2_3_imp2.cumsum() < 0.90]"
   ]
  },
  {
   "cell_type": "code",
   "execution_count": 84,
   "id": "389ffac5",
   "metadata": {},
   "outputs": [
    {
     "name": "stdout",
     "output_type": "stream",
     "text": [
      "|--- Na_to_K <= 14.829\n",
      "|   |--- BP_cd <= 1.500\n",
      "|   |   |--- BP_cd <= 0.500\n",
      "|   |   |   |--- Ch_cd <= 0.500\n",
      "|   |   |   |   |--- class: drugX\n",
      "|   |   |   |--- Ch_cd >  0.500\n",
      "|   |   |   |   |--- class: drugC\n",
      "|   |   |--- BP_cd >  0.500\n",
      "|   |   |   |--- class: drugX\n",
      "|   |--- BP_cd >  1.500\n",
      "|   |   |--- Age <= 50.500\n",
      "|   |   |   |--- class: drugA\n",
      "|   |   |--- Age >  50.500\n",
      "|   |   |   |--- class: drugB\n",
      "|--- Na_to_K >  14.829\n",
      "|   |--- class: DrugY\n",
      "\n"
     ]
    }
   ],
   "source": [
    "# Root Node의 split feature와 split value\n",
    "# export_text: 트리맵을 텍스트화로 나타내준다\n",
    "print(export_text(dt, feature_names = q2_3_var_list, decimals = 3))"
   ]
  },
  {
   "cell_type": "markdown",
   "id": "f83c9014",
   "metadata": {},
   "source": [
    "* 답안 작성 시, Na_to_K, 14.829 와 같이 입력하면 된다."
   ]
  },
  {
   "cell_type": "markdown",
   "id": "79cc462c",
   "metadata": {},
   "source": [
    "## 문제 3"
   ]
  },
  {
   "cell_type": "code",
   "execution_count": 85,
   "id": "a1746bcd",
   "metadata": {},
   "outputs": [],
   "source": [
    "# =============================================================================\n",
    "# 구분자 : comma(“,”), 5,001 Rows, 8 Columns, UTF-8 인코딩\n",
    "# 안경 체인을 운영하고 있는 한 회사에서 고객 사진을 바탕으로 안경의 사이즈를\n",
    "# 맞춤 제작하는 비즈니스를 기획하고 있다. 우선 데이터만으로 고객의 성별을\n",
    "# 파악하는 것이 가능할 지를 연구하고자 한다.\n",
    "#\n",
    "# 컬 럼 / 정 의 / Type\n",
    "# long_hair / 머리카락 길이 (0 – 길지 않은 경우 / 1 – 긴\n",
    "# 경우) / Integer\n",
    "# forehead_width_cm / 이마의 폭 (cm) / Double\n",
    "# forehead_height_cm / 이마의 높이 (cm) / Double\n",
    "# nose_wide / 코의 넓이 (0 – 넓지 않은 경우 / 1 – 넓은 경우) / Integer\n",
    "# nose_long / 코의 길이 (0 – 길지 않은 경우 / 1 – 긴 경우) / Integer\n",
    "# lips_thin / 입술이 얇은지 여부 0 – 얇지 않은 경우 / 1 –\n",
    "# 얇은 경우) / Integer\n",
    "# distance_nose_to_lip_long / 인중의 길이(0 – 인중이 짧은 경우 / 1 – 인중이\n",
    "# 긴 경우) / Integer\n",
    "# gender / 성별 (Female / Male) / String\n",
    "# =============================================================================\n",
    "# ============================================================================="
   ]
  },
  {
   "cell_type": "code",
   "execution_count": 86,
   "id": "76d17516",
   "metadata": {},
   "outputs": [],
   "source": [
    "# 패키지 호출\n",
    "import pandas as pd\n",
    "import numpy as np"
   ]
  },
  {
   "cell_type": "code",
   "execution_count": 87,
   "id": "177c59ed",
   "metadata": {},
   "outputs": [
    {
     "data": {
      "text/html": [
       "<div>\n",
       "<style scoped>\n",
       "    .dataframe tbody tr th:only-of-type {\n",
       "        vertical-align: middle;\n",
       "    }\n",
       "\n",
       "    .dataframe tbody tr th {\n",
       "        vertical-align: top;\n",
       "    }\n",
       "\n",
       "    .dataframe thead th {\n",
       "        text-align: right;\n",
       "    }\n",
       "</style>\n",
       "<table border=\"1\" class=\"dataframe\">\n",
       "  <thead>\n",
       "    <tr style=\"text-align: right;\">\n",
       "      <th></th>\n",
       "      <th>long_hair</th>\n",
       "      <th>forehead_width_cm</th>\n",
       "      <th>forehead_height_cm</th>\n",
       "      <th>nose_wide</th>\n",
       "      <th>nose_long</th>\n",
       "      <th>lips_thin</th>\n",
       "      <th>distance_nose_to_lip_long</th>\n",
       "      <th>gender</th>\n",
       "    </tr>\n",
       "  </thead>\n",
       "  <tbody>\n",
       "    <tr>\n",
       "      <th>0</th>\n",
       "      <td>1</td>\n",
       "      <td>11.8</td>\n",
       "      <td>6.1</td>\n",
       "      <td>1</td>\n",
       "      <td>0</td>\n",
       "      <td>1</td>\n",
       "      <td>1</td>\n",
       "      <td>Male</td>\n",
       "    </tr>\n",
       "    <tr>\n",
       "      <th>1</th>\n",
       "      <td>0</td>\n",
       "      <td>14.0</td>\n",
       "      <td>5.4</td>\n",
       "      <td>0</td>\n",
       "      <td>0</td>\n",
       "      <td>1</td>\n",
       "      <td>0</td>\n",
       "      <td>Female</td>\n",
       "    </tr>\n",
       "    <tr>\n",
       "      <th>2</th>\n",
       "      <td>0</td>\n",
       "      <td>11.8</td>\n",
       "      <td>6.3</td>\n",
       "      <td>1</td>\n",
       "      <td>1</td>\n",
       "      <td>1</td>\n",
       "      <td>1</td>\n",
       "      <td>Male</td>\n",
       "    </tr>\n",
       "    <tr>\n",
       "      <th>3</th>\n",
       "      <td>0</td>\n",
       "      <td>14.4</td>\n",
       "      <td>6.1</td>\n",
       "      <td>0</td>\n",
       "      <td>1</td>\n",
       "      <td>1</td>\n",
       "      <td>1</td>\n",
       "      <td>Male</td>\n",
       "    </tr>\n",
       "    <tr>\n",
       "      <th>4</th>\n",
       "      <td>1</td>\n",
       "      <td>13.5</td>\n",
       "      <td>5.9</td>\n",
       "      <td>0</td>\n",
       "      <td>0</td>\n",
       "      <td>0</td>\n",
       "      <td>0</td>\n",
       "      <td>Female</td>\n",
       "    </tr>\n",
       "  </tbody>\n",
       "</table>\n",
       "</div>"
      ],
      "text/plain": [
       "   long_hair  forehead_width_cm  forehead_height_cm  nose_wide  nose_long  \\\n",
       "0          1               11.8                 6.1          1          0   \n",
       "1          0               14.0                 5.4          0          0   \n",
       "2          0               11.8                 6.3          1          1   \n",
       "3          0               14.4                 6.1          0          1   \n",
       "4          1               13.5                 5.9          0          0   \n",
       "\n",
       "   lips_thin  distance_nose_to_lip_long  gender  \n",
       "0          1                          1    Male  \n",
       "1          1                          0  Female  \n",
       "2          1                          1    Male  \n",
       "3          1                          1    Male  \n",
       "4          0                          0  Female  "
      ]
     },
     "execution_count": 87,
     "metadata": {},
     "output_type": "execute_result"
    }
   ],
   "source": [
    "csvFile = 'C:/Users/chunc/Desktop/Bootcamp/python/python/ProDs/Dataset/DataSet_03.csv'\n",
    "data3 = pd.read_csv(csvFile)\n",
    "data3.head()"
   ]
  },
  {
   "cell_type": "code",
   "execution_count": 88,
   "id": "c38aa70c",
   "metadata": {},
   "outputs": [
    {
     "name": "stdout",
     "output_type": "stream",
     "text": [
      "<class 'pandas.core.frame.DataFrame'>\n",
      "RangeIndex: 5001 entries, 0 to 5000\n",
      "Data columns (total 8 columns):\n",
      " #   Column                     Non-Null Count  Dtype  \n",
      "---  ------                     --------------  -----  \n",
      " 0   long_hair                  5001 non-null   int64  \n",
      " 1   forehead_width_cm          5001 non-null   float64\n",
      " 2   forehead_height_cm         5001 non-null   float64\n",
      " 3   nose_wide                  5001 non-null   int64  \n",
      " 4   nose_long                  5001 non-null   int64  \n",
      " 5   lips_thin                  5001 non-null   int64  \n",
      " 6   distance_nose_to_lip_long  5001 non-null   int64  \n",
      " 7   gender                     5001 non-null   object \n",
      "dtypes: float64(2), int64(5), object(1)\n",
      "memory usage: 312.7+ KB\n"
     ]
    }
   ],
   "source": [
    "data3.info()"
   ]
  },
  {
   "cell_type": "code",
   "execution_count": 89,
   "id": "e71cf1c6",
   "metadata": {},
   "outputs": [
    {
     "data": {
      "text/plain": [
       "Index(['long_hair', 'forehead_width_cm', 'forehead_height_cm', 'nose_wide',\n",
       "       'nose_long', 'lips_thin', 'distance_nose_to_lip_long', 'gender'],\n",
       "      dtype='object')"
      ]
     },
     "execution_count": 89,
     "metadata": {},
     "output_type": "execute_result"
    }
   ],
   "source": [
    "data3.columns"
   ]
  },
  {
   "cell_type": "code",
   "execution_count": 90,
   "id": "a16d5fd1",
   "metadata": {},
   "outputs": [],
   "source": [
    "# =============================================================================\n",
    "# 1.이마의 폭(forehead_width_cm)과 높이(forehead_height_cm) 사이의\n",
    "# 비율(forehead_ratio)에 대해서 평균으로부터 3 표준편차 밖의 경우를 이상치로\n",
    "# 정의할 때, 이상치에 해당하는 데이터는 몇 개인가? (답안 예시) 10\n",
    "# =============================================================================\n"
   ]
  },
  {
   "cell_type": "code",
   "execution_count": 91,
   "id": "e5faf39f",
   "metadata": {},
   "outputs": [],
   "source": [
    "# 데이터 복제\n",
    "q3_1 = data3.copy()"
   ]
  },
  {
   "cell_type": "code",
   "execution_count": 92,
   "id": "2ba6e505",
   "metadata": {},
   "outputs": [],
   "source": [
    "# 비율 변수 생성\n",
    "q3_1['forehead_ratio'] = q3_1['forehead_width_cm'] / q3_1['forehead_height_cm']"
   ]
  },
  {
   "cell_type": "code",
   "execution_count": 93,
   "id": "b05420f9",
   "metadata": {},
   "outputs": [
    {
     "data": {
      "text/plain": [
       "2.233618718921451"
      ]
     },
     "execution_count": 93,
     "metadata": {},
     "output_type": "execute_result"
    }
   ],
   "source": [
    "# 평균\n",
    "xbar = q3_1['forehead_ratio'].mean()\n",
    "xbar"
   ]
  },
  {
   "cell_type": "code",
   "execution_count": 94,
   "id": "ca1d56d3",
   "metadata": {},
   "outputs": [
    {
     "data": {
      "text/plain": [
       "0.26452529699735255"
      ]
     },
     "execution_count": 94,
     "metadata": {},
     "output_type": "execute_result"
    }
   ],
   "source": [
    "# 표준편차\n",
    "ss = q3_1['forehead_ratio'].std()\n",
    "ss"
   ]
  },
  {
   "cell_type": "code",
   "execution_count": 95,
   "id": "3424b05a",
   "metadata": {},
   "outputs": [],
   "source": [
    "# 이상치 정의\n",
    "UB = xbar + (3 * ss)\n",
    "LB = xbar - (3 * ss)"
   ]
  },
  {
   "cell_type": "code",
   "execution_count": 96,
   "id": "9d784bd3",
   "metadata": {},
   "outputs": [
    {
     "data": {
      "text/plain": [
       "0       False\n",
       "1       False\n",
       "2       False\n",
       "3       False\n",
       "4       False\n",
       "        ...  \n",
       "4996    False\n",
       "4997    False\n",
       "4998    False\n",
       "4999    False\n",
       "5000    False\n",
       "Name: forehead_ratio, Length: 5001, dtype: bool"
      ]
     },
     "execution_count": 96,
     "metadata": {},
     "output_type": "execute_result"
    }
   ],
   "source": [
    "# 이상치 유무확인\n",
    "(q3_1['forehead_ratio'] > UB) | (q3_1['forehead_ratio'] < LB)"
   ]
  },
  {
   "cell_type": "code",
   "execution_count": 97,
   "id": "4bd0f91e",
   "metadata": {},
   "outputs": [
    {
     "data": {
      "text/plain": [
       "3"
      ]
     },
     "execution_count": 97,
     "metadata": {},
     "output_type": "execute_result"
    }
   ],
   "source": [
    "# 이상치에 해당하는 데이터 개수\n",
    "((q3_1['forehead_ratio'] > UB) | (q3_1['forehead_ratio'] < LB)).sum()"
   ]
  },
  {
   "cell_type": "code",
   "execution_count": 98,
   "id": "985c637d",
   "metadata": {},
   "outputs": [],
   "source": [
    "# =============================================================================\n",
    "# 2.성별에 따라 forehead_ratio 평균에 차이가 있는지 적절한 통계 검정을 수행하시오.\n",
    "# - 검정은 이분산을 가정하고 수행한다.\n",
    "# - 검정통계량의 추정치는 절대값을 취한 후 소수점 셋째 자리까지 반올림하여\n",
    "# 기술하시오.\n",
    "# - 신뢰수준 99%에서 양측 검정을 수행하고 결과는 귀무가설 기각의 경우 Y로, 그렇지\n",
    "# 않을 경우 N으로 답하시오. (답안 예시) 1.234, Y\n",
    "# ============================================================================="
   ]
  },
  {
   "cell_type": "code",
   "execution_count": 99,
   "id": "c02b9df7",
   "metadata": {},
   "outputs": [],
   "source": [
    "from scipy.stats import ttest_1samp, ttest_ind, ttest_rel, bartlett, levene\n",
    "# ttest_1samp: 일표본 t검정\n",
    "# ttest_in: 독립인 이표본 t검정\n",
    "# ttest_rel: 대응인 이표본 t검정\n",
    "# bartlett, levene: 등분산 검정"
   ]
  },
  {
   "cell_type": "code",
   "execution_count": 100,
   "id": "a94283dc",
   "metadata": {},
   "outputs": [],
   "source": [
    "g_m = q3_1[q3_1.gender == 'Male']['forehead_ratio']\n",
    "g_f = q3_1[q3_1.gender == 'Female']['forehead_ratio']"
   ]
  },
  {
   "cell_type": "code",
   "execution_count": 101,
   "id": "5449831b",
   "metadata": {},
   "outputs": [
    {
     "data": {
      "text/plain": [
       "BartlettResult(statistic=213.42228096491922, pvalue=2.4617792693952707e-48)"
      ]
     },
     "execution_count": 101,
     "metadata": {},
     "output_type": "execute_result"
    }
   ],
   "source": [
    "# 등분산 검정\n",
    "bar_out = bartlett(g_m, g_f)\n",
    "bar_out"
   ]
  },
  {
   "cell_type": "code",
   "execution_count": 102,
   "id": "62e6d8f7",
   "metadata": {},
   "outputs": [
    {
     "data": {
      "text/plain": [
       "2.4617792693952707e-48"
      ]
     },
     "execution_count": 102,
     "metadata": {},
     "output_type": "execute_result"
    }
   ],
   "source": [
    "# H0: 등분산 이다 vs H1: 이분산이다\n",
    "bar_out.pvalue"
   ]
  },
  {
   "cell_type": "code",
   "execution_count": 103,
   "id": "654a205d",
   "metadata": {},
   "outputs": [
    {
     "data": {
      "text/plain": [
       "Ttest_indResult(statistic=2.9994984197511543, pvalue=0.0027186702390657176)"
      ]
     },
     "execution_count": 103,
     "metadata": {},
     "output_type": "execute_result"
    }
   ],
   "source": [
    "# 독립인 이표본 t검정\n",
    "ttest_out = ttest_ind(g_m, g_f, equal_var = False)\n",
    "ttest_out"
   ]
  },
  {
   "cell_type": "code",
   "execution_count": 104,
   "id": "6a59603c",
   "metadata": {},
   "outputs": [
    {
     "data": {
      "text/plain": [
       "2.999"
      ]
     },
     "execution_count": 104,
     "metadata": {},
     "output_type": "execute_result"
    }
   ],
   "source": [
    "# 검정통계량의 추정치는 절대값을 취한 후 소수점 셋째 자리까지 반올림\n",
    "round(abs(ttest_out.statistic), 3)"
   ]
  },
  {
   "cell_type": "code",
   "execution_count": 105,
   "id": "671cf82b",
   "metadata": {},
   "outputs": [
    {
     "data": {
      "text/plain": [
       "True"
      ]
     },
     "execution_count": 105,
     "metadata": {},
     "output_type": "execute_result"
    }
   ],
   "source": [
    "# 가설검증\n",
    "ttest_out.pvalue < 0.01"
   ]
  },
  {
   "cell_type": "markdown",
   "id": "880237a0",
   "metadata": {},
   "source": [
    "* 검정통계량 2.999, 귀무가설 기각, 이분산이다. Y"
   ]
  },
  {
   "cell_type": "code",
   "execution_count": 106,
   "id": "b7493daf",
   "metadata": {},
   "outputs": [],
   "source": [
    "# =============================================================================\n",
    "# 3.주어진 데이터를 사용하여 성별을 구분할 수 있는지 로지스틱 회귀분석을 적용하여\n",
    "# 알아 보고자 한다. \n",
    "# - 데이터를 7대 3으로 나누어 각각 Train과 Test set로 사용한다. 이 때 seed는 123으로\n",
    "# 한다.\n",
    "# - 원 데이터에 있는 7개의 변수만 Feature로 사용하고 gender를 label로 사용한다.\n",
    "# (forehead_ratio는 사용하지 않음)\n",
    "# - 로지스틱 회귀분석 예측 함수와 Test dataset를 사용하여 예측을 수행하고 정확도를\n",
    "# 평가한다. 이 때 임계값은 0.5를 사용한다. \n",
    "# - Male의 Precision 값을 소수점 둘째 자리까지 반올림하여 기술하시오. (답안 예시) \n",
    "# 0.12\n",
    "# \n",
    "# \n",
    "# (참고) \n",
    "# from sklearn.linear_model import LogisticRegression\n",
    "# from sklearn.model_selection import train_test_split\n",
    "# from sklearn import metrics\n",
    "# train_test_split 의 random_state = 123\n",
    "# ============================================================================="
   ]
  },
  {
   "cell_type": "code",
   "execution_count": 107,
   "id": "ca99a962",
   "metadata": {},
   "outputs": [],
   "source": [
    "# 데이터를 7대 3으로 나누어 각각 Train과 Test set로 분할\n",
    "from sklearn.model_selection import train_test_split\n",
    "\n",
    "train, test=train_test_split(data3, test_size = 0.3, random_state = 123)"
   ]
  },
  {
   "cell_type": "code",
   "execution_count": 108,
   "id": "d8b11851",
   "metadata": {},
   "outputs": [],
   "source": [
    "# 2. 입력 변수 선정\n",
    "var_list = train.columns.drop('gender')"
   ]
  },
  {
   "cell_type": "code",
   "execution_count": 109,
   "id": "5bd91bfe",
   "metadata": {},
   "outputs": [],
   "source": [
    "# 3. Test dataset를 사용하여 예측을 수행하고 정확도를\n",
    "# 평가한다. 이 때 임계값은 0.5를 사용한다. \n",
    "# - Male의 Precision 값을 소수점 둘째 자리까지 반올림하여 기술\n",
    "from sklearn.linear_model import LogisticRegression\n",
    "from sklearn.metrics import precision_score, classification_report"
   ]
  },
  {
   "cell_type": "code",
   "execution_count": 110,
   "id": "44ca3d39",
   "metadata": {},
   "outputs": [],
   "source": [
    "logit = LogisticRegression().fit(train[var_list], train['gender'])\n",
    "pred_class = logit.predict(test[var_list])\n",
    "pred_pr = logit.predict_proba(test[var_list])"
   ]
  },
  {
   "cell_type": "code",
   "execution_count": 111,
   "id": "05c37313",
   "metadata": {},
   "outputs": [
    {
     "data": {
      "text/plain": [
       "0.96"
      ]
     },
     "execution_count": 111,
     "metadata": {},
     "output_type": "execute_result"
    }
   ],
   "source": [
    "# 임계값이 0.8인 경우\n",
    "pred_class2 = np.where(pred_pr[:,1] >= 0.8, 'Male', 'Female')\n",
    "round(precision_score(test['gender'], pred_class, pos_label = 'Male'), 2)"
   ]
  },
  {
   "cell_type": "code",
   "execution_count": 112,
   "id": "1753b16e",
   "metadata": {},
   "outputs": [
    {
     "name": "stdout",
     "output_type": "stream",
     "text": [
      "              precision    recall  f1-score   support\n",
      "\n",
      "      Female       0.97      0.96      0.96       743\n",
      "        Male       0.96      0.97      0.97       758\n",
      "\n",
      "    accuracy                           0.97      1501\n",
      "   macro avg       0.97      0.97      0.97      1501\n",
      "weighted avg       0.97      0.97      0.97      1501\n",
      "\n"
     ]
    }
   ],
   "source": [
    "print(classification_report(test['gender'], pred_class))"
   ]
  },
  {
   "cell_type": "code",
   "execution_count": null,
   "id": "b8da56dd",
   "metadata": {},
   "outputs": [],
   "source": []
  }
 ],
 "metadata": {
  "kernelspec": {
   "display_name": "Python 3 (ipykernel)",
   "language": "python",
   "name": "python3"
  },
  "language_info": {
   "codemirror_mode": {
    "name": "ipython",
    "version": 3
   },
   "file_extension": ".py",
   "mimetype": "text/x-python",
   "name": "python",
   "nbconvert_exporter": "python",
   "pygments_lexer": "ipython3",
   "version": "3.8.16"
  }
 },
 "nbformat": 4,
 "nbformat_minor": 5
}
