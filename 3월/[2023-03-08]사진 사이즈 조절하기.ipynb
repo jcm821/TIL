{
 "cells": [
  {
   "cell_type": "markdown",
   "id": "67bc8187",
   "metadata": {},
   "source": [
    "## 이미지의 사이즈 조절하기"
   ]
  },
  {
   "cell_type": "markdown",
   "id": "8266f0e3",
   "metadata": {},
   "source": [
    "### opencv 사용"
   ]
  },
  {
   "cell_type": "markdown",
   "id": "5b1e2138",
   "metadata": {},
   "source": [
    "### 목표\n",
    "* 이미지의 크기가 다 다른 이미지를 가져와서 이미지가 640X480보다 크면 사이즈를 줄이고 그것보다 작다면 원본 그대로 출력\n",
    "* 이미지의 크기를 가져오는 방법\n",
    "* 이미지를 줄이는 방법\n"
   ]
  },
  {
   "cell_type": "code",
   "execution_count": 1,
   "id": "11890064",
   "metadata": {},
   "outputs": [],
   "source": [
    "# 필요 패키지 실행\n",
    "import cv2\n",
    "import numpy as np\n",
    "import random"
   ]
  },
  {
   "cell_type": "code",
   "execution_count": 4,
   "id": "749a508e",
   "metadata": {},
   "outputs": [],
   "source": [
    "# 이미지 불러오기\n",
    "img1 = cv2.imread('./data/dogLarge.jpg')"
   ]
  },
  {
   "cell_type": "code",
   "execution_count": 5,
   "id": "5f2cf84f",
   "metadata": {},
   "outputs": [
    {
     "name": "stdout",
     "output_type": "stream",
     "text": [
      "(1280, 1920, 3)\n"
     ]
    }
   ],
   "source": [
    "# shape정보에서 (세로길이, 가로길이, 색) 순임을 잘 기억해 둔다\n",
    "imgSize = img1.shape\n",
    "print(imgSize)"
   ]
  },
  {
   "cell_type": "code",
   "execution_count": 6,
   "id": "422651ad",
   "metadata": {},
   "outputs": [
    {
     "name": "stdout",
     "output_type": "stream",
     "text": [
      "<class 'tuple'>\n"
     ]
    }
   ],
   "source": [
    "# 이미지의 정보형식은 튜플형태이다\n",
    "print(type(imgSize))"
   ]
  },
  {
   "cell_type": "code",
   "execution_count": 7,
   "id": "23982350",
   "metadata": {},
   "outputs": [
    {
     "name": "stdout",
     "output_type": "stream",
     "text": [
      "1280 1920\n"
     ]
    }
   ],
   "source": [
    "# 튜플형태의 데이터 인덱스 보기\n",
    "print(imgSize[0], imgSize[1])"
   ]
  },
  {
   "cell_type": "code",
   "execution_count": 10,
   "id": "4b2633b3",
   "metadata": {},
   "outputs": [
    {
     "data": {
      "text/plain": [
       "120"
      ]
     },
     "execution_count": 10,
     "metadata": {},
     "output_type": "execute_result"
    }
   ],
   "source": [
    "# 조건문을 통해 이미지를 조정하기\n",
    "# resize함수 사용\n",
    "if imgSize[0] > 480 or imgSize[1] > 640:\n",
    "    img1 = cv2.resize(img1, dsize = (640, 480), interpolation = cv2.INTER_AREA)\n",
    "    \n",
    "cv2.imshow('img', img1)\n",
    "cv2.waitKey(0)"
   ]
  },
  {
   "cell_type": "code",
   "execution_count": null,
   "id": "75cc6333",
   "metadata": {},
   "outputs": [],
   "source": []
  }
 ],
 "metadata": {
  "kernelspec": {
   "display_name": "Python 3 (ipykernel)",
   "language": "python",
   "name": "python3"
  },
  "language_info": {
   "codemirror_mode": {
    "name": "ipython",
    "version": 3
   },
   "file_extension": ".py",
   "mimetype": "text/x-python",
   "name": "python",
   "nbconvert_exporter": "python",
   "pygments_lexer": "ipython3",
   "version": "3.8.16"
  }
 },
 "nbformat": 4,
 "nbformat_minor": 5
}
