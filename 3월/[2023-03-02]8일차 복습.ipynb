{
 "cells": [
  {
   "cell_type": "markdown",
   "id": "621aa67d",
   "metadata": {},
   "source": [
    "## 1. Series의 Type"
   ]
  },
  {
   "cell_type": "code",
   "execution_count": 1,
   "id": "f683e853",
   "metadata": {},
   "outputs": [
    {
     "data": {
      "text/html": [
       "<div>\n",
       "<style scoped>\n",
       "    .dataframe tbody tr th:only-of-type {\n",
       "        vertical-align: middle;\n",
       "    }\n",
       "\n",
       "    .dataframe tbody tr th {\n",
       "        vertical-align: top;\n",
       "    }\n",
       "\n",
       "    .dataframe thead th {\n",
       "        text-align: right;\n",
       "    }\n",
       "</style>\n",
       "<table border=\"1\" class=\"dataframe\">\n",
       "  <thead>\n",
       "    <tr style=\"text-align: right;\">\n",
       "      <th></th>\n",
       "      <th>이름</th>\n",
       "      <th>그룹</th>\n",
       "      <th>소속사</th>\n",
       "      <th>성별</th>\n",
       "      <th>생년월일</th>\n",
       "      <th>키</th>\n",
       "      <th>혈액형</th>\n",
       "      <th>브랜드평판지수</th>\n",
       "    </tr>\n",
       "  </thead>\n",
       "  <tbody>\n",
       "    <tr>\n",
       "      <th>0</th>\n",
       "      <td>지민</td>\n",
       "      <td>방탄소년단</td>\n",
       "      <td>빅히트</td>\n",
       "      <td>남자</td>\n",
       "      <td>1995-10-13</td>\n",
       "      <td>173.6</td>\n",
       "      <td>A</td>\n",
       "      <td>10523260</td>\n",
       "    </tr>\n",
       "    <tr>\n",
       "      <th>1</th>\n",
       "      <td>지드래곤</td>\n",
       "      <td>빅뱅</td>\n",
       "      <td>YG</td>\n",
       "      <td>남자</td>\n",
       "      <td>1988-08-18</td>\n",
       "      <td>177.0</td>\n",
       "      <td>A</td>\n",
       "      <td>9916947</td>\n",
       "    </tr>\n",
       "    <tr>\n",
       "      <th>2</th>\n",
       "      <td>강다니엘</td>\n",
       "      <td>NaN</td>\n",
       "      <td>커넥트</td>\n",
       "      <td>남자</td>\n",
       "      <td>1996-12-10</td>\n",
       "      <td>180.0</td>\n",
       "      <td>A</td>\n",
       "      <td>8273745</td>\n",
       "    </tr>\n",
       "    <tr>\n",
       "      <th>3</th>\n",
       "      <td>뷔</td>\n",
       "      <td>방탄소년단</td>\n",
       "      <td>빅히트</td>\n",
       "      <td>남자</td>\n",
       "      <td>1995-12-30</td>\n",
       "      <td>178.0</td>\n",
       "      <td>AB</td>\n",
       "      <td>8073501</td>\n",
       "    </tr>\n",
       "    <tr>\n",
       "      <th>4</th>\n",
       "      <td>화사</td>\n",
       "      <td>마마무</td>\n",
       "      <td>RBW</td>\n",
       "      <td>여자</td>\n",
       "      <td>1995-07-23</td>\n",
       "      <td>162.1</td>\n",
       "      <td>A</td>\n",
       "      <td>7650928</td>\n",
       "    </tr>\n",
       "  </tbody>\n",
       "</table>\n",
       "</div>"
      ],
      "text/plain": [
       "     이름     그룹  소속사  성별        생년월일      키 혈액형   브랜드평판지수\n",
       "0    지민  방탄소년단  빅히트  남자  1995-10-13  173.6   A  10523260\n",
       "1  지드래곤     빅뱅   YG  남자  1988-08-18  177.0   A   9916947\n",
       "2  강다니엘    NaN  커넥트  남자  1996-12-10  180.0   A   8273745\n",
       "3     뷔  방탄소년단  빅히트  남자  1995-12-30  178.0  AB   8073501\n",
       "4    화사    마마무  RBW  여자  1995-07-23  162.1   A   7650928"
      ]
     },
     "execution_count": 1,
     "metadata": {},
     "output_type": "execute_result"
    }
   ],
   "source": [
    "# 데이터프레임 로드\n",
    "import pandas as pd\n",
    "df = pd.read_csv('C:/Users/chunc/Desktop/취업캠프/python/python/korean-idol.csv')\n",
    "df.head()"
   ]
  },
  {
   "cell_type": "markdown",
   "id": "f802a820",
   "metadata": {},
   "source": [
    "### 1-1. type 확인하기"
   ]
  },
  {
   "cell_type": "code",
   "execution_count": 2,
   "id": "30a22fc8",
   "metadata": {},
   "outputs": [
    {
     "name": "stdout",
     "output_type": "stream",
     "text": [
      "<class 'pandas.core.frame.DataFrame'>\n",
      "RangeIndex: 15 entries, 0 to 14\n",
      "Data columns (total 8 columns):\n",
      " #   Column   Non-Null Count  Dtype  \n",
      "---  ------   --------------  -----  \n",
      " 0   이름       15 non-null     object \n",
      " 1   그룹       14 non-null     object \n",
      " 2   소속사      15 non-null     object \n",
      " 3   성별       15 non-null     object \n",
      " 4   생년월일     15 non-null     object \n",
      " 5   키        13 non-null     float64\n",
      " 6   혈액형      15 non-null     object \n",
      " 7   브랜드평판지수  15 non-null     int64  \n",
      "dtypes: float64(1), int64(1), object(6)\n",
      "memory usage: 1.1+ KB\n"
     ]
    }
   ],
   "source": [
    "df.info()"
   ]
  },
  {
   "cell_type": "markdown",
   "id": "bc1f0c7d",
   "metadata": {},
   "source": [
    "* object: 일반 문자열 타입\n",
    "* float: 실수\n",
    "* int: 정수\n",
    "* category: 카테고리\n",
    "* datetime: 시간"
   ]
  },
  {
   "cell_type": "markdown",
   "id": "06b103a2",
   "metadata": {},
   "source": [
    "### 1-2. type 변환하기"
   ]
  },
  {
   "cell_type": "markdown",
   "id": "497cfc65",
   "metadata": {},
   "source": [
    "* type 변환을 위해서는 **astype**이라는 메서드를 사용한다."
   ]
  },
  {
   "cell_type": "markdown",
   "id": "8f18e07d",
   "metadata": {},
   "source": [
    "키 column은 현재 float으로 명시되어있는데, 이것을 정수형인 int type으로 변경해 본다."
   ]
  },
  {
   "cell_type": "code",
   "execution_count": 3,
   "id": "105fcbe8",
   "metadata": {},
   "outputs": [
    {
     "data": {
      "text/plain": [
       "dtype('float64')"
      ]
     },
     "execution_count": 3,
     "metadata": {},
     "output_type": "execute_result"
    }
   ],
   "source": [
    "df['키'].dtypes"
   ]
  },
  {
   "cell_type": "code",
   "execution_count": 4,
   "id": "5dd00e1d",
   "metadata": {},
   "outputs": [
    {
     "data": {
      "text/plain": [
       "0     173.6\n",
       "1     177.0\n",
       "2     180.0\n",
       "3     178.0\n",
       "4     162.1\n",
       "5     178.0\n",
       "6     182.3\n",
       "7       NaN\n",
       "8     179.2\n",
       "9     167.1\n",
       "10      NaN\n",
       "11    183.0\n",
       "12    175.0\n",
       "13    176.0\n",
       "14    174.0\n",
       "Name: 키, dtype: float64"
      ]
     },
     "execution_count": 4,
     "metadata": {},
     "output_type": "execute_result"
    }
   ],
   "source": [
    "df['키']"
   ]
  },
  {
   "cell_type": "code",
   "execution_count": 5,
   "id": "58929d6e",
   "metadata": {},
   "outputs": [],
   "source": [
    "# NaN값이 있는경우 오류가 나기 떄문에 fillna를 사용하여 빈값을 채워주고 실행\n",
    "df['키'].fillna(df['키'].mean(), inplace = True)"
   ]
  },
  {
   "cell_type": "code",
   "execution_count": 6,
   "id": "fe9beadb",
   "metadata": {},
   "outputs": [
    {
     "data": {
      "text/plain": [
       "0     173\n",
       "1     177\n",
       "2     180\n",
       "3     178\n",
       "4     162\n",
       "5     178\n",
       "6     182\n",
       "7     175\n",
       "8     179\n",
       "9     167\n",
       "10    175\n",
       "11    183\n",
       "12    175\n",
       "13    176\n",
       "14    174\n",
       "Name: 키, dtype: int32"
      ]
     },
     "execution_count": 6,
     "metadata": {},
     "output_type": "execute_result"
    }
   ],
   "source": [
    "# '키'컬럼이 float64 -> int타입으로 변경할때\n",
    "# astype()함수는 데이터 타입을 변경\n",
    "# 소수점 미만을 절삭\n",
    "df['키'].astype(int)"
   ]
  },
  {
   "cell_type": "code",
   "execution_count": 7,
   "id": "cdc28d9e",
   "metadata": {},
   "outputs": [
    {
     "data": {
      "text/plain": [
       "0          173.6\n",
       "1          177.0\n",
       "2          180.0\n",
       "3          178.0\n",
       "4          162.1\n",
       "5          178.0\n",
       "6          182.3\n",
       "7     175.792308\n",
       "8          179.2\n",
       "9          167.1\n",
       "10    175.792308\n",
       "11         183.0\n",
       "12         175.0\n",
       "13         176.0\n",
       "14         174.0\n",
       "Name: 키, dtype: object"
      ]
     },
     "execution_count": 7,
     "metadata": {},
     "output_type": "execute_result"
    }
   ],
   "source": [
    "# 문자형으로 바꿔주기\n",
    "df['키'].astype(object)"
   ]
  },
  {
   "cell_type": "code",
   "execution_count": 8,
   "id": "fdd4a573",
   "metadata": {},
   "outputs": [
    {
     "data": {
      "text/plain": [
       "0     173.600000\n",
       "1     177.000000\n",
       "2     180.000000\n",
       "3     178.000000\n",
       "4     162.100000\n",
       "5     178.000000\n",
       "6     182.300000\n",
       "7     175.792308\n",
       "8     179.200000\n",
       "9     167.100000\n",
       "10    175.792308\n",
       "11    183.000000\n",
       "12    175.000000\n",
       "13    176.000000\n",
       "14    174.000000\n",
       "Name: 키, dtype: float64"
      ]
     },
     "execution_count": 8,
     "metadata": {},
     "output_type": "execute_result"
    }
   ],
   "source": [
    "# float형으로 다시 바꿔주기\n",
    "# fillna(df['키'].mean()의 값이 소수6번째자리까지 표현되어서 실수형 표기방식이 커진것dlek\n",
    "df['키'].astype(float)"
   ]
  },
  {
   "cell_type": "markdown",
   "id": "957ed2ca",
   "metadata": {},
   "source": [
    "### 1-3. 날짜 변환하기(datetime 타입)"
   ]
  },
  {
   "cell_type": "markdown",
   "id": "a92bd07d",
   "metadata": {},
   "source": [
    "* 날자를 변환하기 위해서는 판다스 to_datetime이라는 메소드 사용한다."
   ]
  },
  {
   "cell_type": "markdown",
   "id": "3b0584e5",
   "metadata": {},
   "source": [
    "현재 날짜 column은 dtype이 object(문자열)타입으로 되어 있다."
   ]
  },
  {
   "cell_type": "code",
   "execution_count": 9,
   "id": "33d695f9",
   "metadata": {},
   "outputs": [
    {
     "data": {
      "text/plain": [
       "0     1995-10-13\n",
       "1     1988-08-18\n",
       "2     1996-12-10\n",
       "3     1995-12-30\n",
       "4     1995-07-23\n",
       "5     1997-09-01\n",
       "6     1995-08-09\n",
       "7     1998-08-26\n",
       "8     1992-12-04\n",
       "9     1994-03-22\n",
       "10    1989-03-09\n",
       "11    1997-03-30\n",
       "12    1995-07-21\n",
       "13    1995-06-08\n",
       "14    1993-03-09\n",
       "Name: 생년월일, dtype: object"
      ]
     },
     "execution_count": 9,
     "metadata": {},
     "output_type": "execute_result"
    }
   ],
   "source": [
    "df['생년월일']"
   ]
  },
  {
   "cell_type": "code",
   "execution_count": 10,
   "id": "7c35c503",
   "metadata": {},
   "outputs": [
    {
     "data": {
      "text/plain": [
       "'1995-10-13'"
      ]
     },
     "execution_count": 10,
     "metadata": {},
     "output_type": "execute_result"
    }
   ],
   "source": [
    "df['생년월일'][0]"
   ]
  },
  {
   "cell_type": "code",
   "execution_count": 11,
   "id": "56030f6f",
   "metadata": {
    "scrolled": true
   },
   "outputs": [
    {
     "data": {
      "text/plain": [
       "0    1995-10-13\n",
       "1    1988-08-18\n",
       "2    1996-12-10\n",
       "3    1995-12-30\n",
       "4    1995-07-23\n",
       "5    1997-09-01\n",
       "6    1995-08-09\n",
       "7    1998-08-26\n",
       "8    1992-12-04\n",
       "9    1994-03-22\n",
       "10   1989-03-09\n",
       "11   1997-03-30\n",
       "12   1995-07-21\n",
       "13   1995-06-08\n",
       "14   1993-03-09\n",
       "Name: 생년월일, dtype: datetime64[ns]"
      ]
     },
     "execution_count": 11,
     "metadata": {},
     "output_type": "execute_result"
    }
   ],
   "source": [
    "# datetype바꾸기\n",
    "# 민약 df['생년월일'].to_datetime()으로 실행할 경우, 오류 발생\n",
    "pd.to_datetime(df['생년월일'])"
   ]
  },
  {
   "cell_type": "markdown",
   "id": "3094ada6",
   "metadata": {},
   "source": [
    "변환된 것을 **df['날짜'] column에 다시 대입**을 해줘야 정상적으로 변환된 값이 들어 갑니다."
   ]
  },
  {
   "cell_type": "code",
   "execution_count": 13,
   "id": "cf73e132",
   "metadata": {},
   "outputs": [
    {
     "data": {
      "text/plain": [
       "0    1995-10-13\n",
       "1    1988-08-18\n",
       "2    1996-12-10\n",
       "3    1995-12-30\n",
       "4    1995-07-23\n",
       "5    1997-09-01\n",
       "6    1995-08-09\n",
       "7    1998-08-26\n",
       "8    1992-12-04\n",
       "9    1994-03-22\n",
       "10   1989-03-09\n",
       "11   1997-03-30\n",
       "12   1995-07-21\n",
       "13   1995-06-08\n",
       "14   1993-03-09\n",
       "Name: 생년월일, dtype: datetime64[ns]"
      ]
     },
     "execution_count": 13,
     "metadata": {},
     "output_type": "execute_result"
    }
   ],
   "source": [
    "# 변환된 값을 다시 대입해주어야 한다\n",
    "df['생년월일'] = pd.to_datetime(df['생년월일'])\n",
    "df['생년월일']"
   ]
  },
  {
   "cell_type": "markdown",
   "id": "d42d8d5f",
   "metadata": {},
   "source": [
    "#### python에서 일반적으로 문자열 형태로 표기할때"
   ]
  },
  {
   "cell_type": "markdown",
   "id": "ab67a934",
   "metadata": {},
   "source": [
    "'1997-07-21', '1997.07.21'"
   ]
  },
  {
   "cell_type": "code",
   "execution_count": 14,
   "id": "63a4c7d2",
   "metadata": {},
   "outputs": [
    {
     "name": "stdout",
     "output_type": "stream",
     "text": [
      "<class 'pandas.core.frame.DataFrame'>\n",
      "RangeIndex: 15 entries, 0 to 14\n",
      "Data columns (total 8 columns):\n",
      " #   Column   Non-Null Count  Dtype         \n",
      "---  ------   --------------  -----         \n",
      " 0   이름       15 non-null     object        \n",
      " 1   그룹       14 non-null     object        \n",
      " 2   소속사      15 non-null     object        \n",
      " 3   성별       15 non-null     object        \n",
      " 4   생년월일     15 non-null     datetime64[ns]\n",
      " 5   키        15 non-null     float64       \n",
      " 6   혈액형      15 non-null     object        \n",
      " 7   브랜드평판지수  15 non-null     int64         \n",
      "dtypes: datetime64[ns](1), float64(1), int64(1), object(5)\n",
      "memory usage: 1.1+ KB\n"
     ]
    }
   ],
   "source": [
    "df.info()"
   ]
  },
  {
   "cell_type": "markdown",
   "id": "6e1a54ac",
   "metadata": {},
   "source": [
    "datetime 타입으로 변환해준 중요한 이유\n",
    "* 매우손쉽게 월, 일, 요일 등등의 날짜 정보를 세부적으로 추출해낼 수 있다.\n",
    "* datetime의 약어인 'dt'에는 다양한 정보들을 제공해 준다."
   ]
  },
  {
   "cell_type": "code",
   "execution_count": 15,
   "id": "ebabb613",
   "metadata": {},
   "outputs": [
    {
     "data": {
      "text/html": [
       "<div>\n",
       "<style scoped>\n",
       "    .dataframe tbody tr th:only-of-type {\n",
       "        vertical-align: middle;\n",
       "    }\n",
       "\n",
       "    .dataframe tbody tr th {\n",
       "        vertical-align: top;\n",
       "    }\n",
       "\n",
       "    .dataframe thead th {\n",
       "        text-align: right;\n",
       "    }\n",
       "</style>\n",
       "<table border=\"1\" class=\"dataframe\">\n",
       "  <thead>\n",
       "    <tr style=\"text-align: right;\">\n",
       "      <th></th>\n",
       "      <th>이름</th>\n",
       "      <th>그룹</th>\n",
       "      <th>소속사</th>\n",
       "      <th>성별</th>\n",
       "      <th>생년월일</th>\n",
       "      <th>키</th>\n",
       "      <th>혈액형</th>\n",
       "      <th>브랜드평판지수</th>\n",
       "    </tr>\n",
       "  </thead>\n",
       "  <tbody>\n",
       "    <tr>\n",
       "      <th>0</th>\n",
       "      <td>지민</td>\n",
       "      <td>방탄소년단</td>\n",
       "      <td>빅히트</td>\n",
       "      <td>남자</td>\n",
       "      <td>1995-10-13</td>\n",
       "      <td>173.6</td>\n",
       "      <td>A</td>\n",
       "      <td>10523260</td>\n",
       "    </tr>\n",
       "    <tr>\n",
       "      <th>1</th>\n",
       "      <td>지드래곤</td>\n",
       "      <td>빅뱅</td>\n",
       "      <td>YG</td>\n",
       "      <td>남자</td>\n",
       "      <td>1988-08-18</td>\n",
       "      <td>177.0</td>\n",
       "      <td>A</td>\n",
       "      <td>9916947</td>\n",
       "    </tr>\n",
       "    <tr>\n",
       "      <th>2</th>\n",
       "      <td>강다니엘</td>\n",
       "      <td>NaN</td>\n",
       "      <td>커넥트</td>\n",
       "      <td>남자</td>\n",
       "      <td>1996-12-10</td>\n",
       "      <td>180.0</td>\n",
       "      <td>A</td>\n",
       "      <td>8273745</td>\n",
       "    </tr>\n",
       "    <tr>\n",
       "      <th>3</th>\n",
       "      <td>뷔</td>\n",
       "      <td>방탄소년단</td>\n",
       "      <td>빅히트</td>\n",
       "      <td>남자</td>\n",
       "      <td>1995-12-30</td>\n",
       "      <td>178.0</td>\n",
       "      <td>AB</td>\n",
       "      <td>8073501</td>\n",
       "    </tr>\n",
       "    <tr>\n",
       "      <th>4</th>\n",
       "      <td>화사</td>\n",
       "      <td>마마무</td>\n",
       "      <td>RBW</td>\n",
       "      <td>여자</td>\n",
       "      <td>1995-07-23</td>\n",
       "      <td>162.1</td>\n",
       "      <td>A</td>\n",
       "      <td>7650928</td>\n",
       "    </tr>\n",
       "  </tbody>\n",
       "</table>\n",
       "</div>"
      ],
      "text/plain": [
       "     이름     그룹  소속사  성별       생년월일      키 혈액형   브랜드평판지수\n",
       "0    지민  방탄소년단  빅히트  남자 1995-10-13  173.6   A  10523260\n",
       "1  지드래곤     빅뱅   YG  남자 1988-08-18  177.0   A   9916947\n",
       "2  강다니엘    NaN  커넥트  남자 1996-12-10  180.0   A   8273745\n",
       "3     뷔  방탄소년단  빅히트  남자 1995-12-30  178.0  AB   8073501\n",
       "4    화사    마마무  RBW  여자 1995-07-23  162.1   A   7650928"
      ]
     },
     "execution_count": 15,
     "metadata": {},
     "output_type": "execute_result"
    }
   ],
   "source": [
    "df.head()"
   ]
  },
  {
   "cell_type": "code",
   "execution_count": 18,
   "id": "43f7f75a",
   "metadata": {},
   "outputs": [
    {
     "data": {
      "text/plain": [
       "0     4\n",
       "1     3\n",
       "2     1\n",
       "3     5\n",
       "4     6\n",
       "5     0\n",
       "6     2\n",
       "7     2\n",
       "8     4\n",
       "9     1\n",
       "10    3\n",
       "11    6\n",
       "12    4\n",
       "13    3\n",
       "14    1\n",
       "Name: 생년월일, dtype: int64"
      ]
     },
     "execution_count": 18,
     "metadata": {},
     "output_type": "execute_result"
    }
   ],
   "source": [
    "# df['생년월일']의 데이터타입이 datetime인 경우에 가능\n",
    "# 월요일: 0, 일요일: 6\n",
    "# 날짜의 요일들 확인 -> 0 ~ 6사이의 숫자로 표시\n",
    "df['생년월일'].dt.dayofweek"
   ]
  },
  {
   "cell_type": "markdown",
   "id": "fb203ff7",
   "metadata": {},
   "source": [
    "**월요일: 0 화요일: 1, 수요일: 2, 목요일: 3, 금요일: 4, 토요일: 5, 일요일: 6**"
   ]
  },
  {
   "cell_type": "code",
   "execution_count": 19,
   "id": "ceccddbe",
   "metadata": {},
   "outputs": [
    {
     "data": {
      "text/plain": [
       "0     1995\n",
       "1     1988\n",
       "2     1996\n",
       "3     1995\n",
       "4     1995\n",
       "5     1997\n",
       "6     1995\n",
       "7     1998\n",
       "8     1992\n",
       "9     1994\n",
       "10    1989\n",
       "11    1997\n",
       "12    1995\n",
       "13    1995\n",
       "14    1993\n",
       "Name: 생년월일, dtype: int64"
      ]
     },
     "execution_count": 19,
     "metadata": {},
     "output_type": "execute_result"
    }
   ],
   "source": [
    "df['생년월일'].dt.year"
   ]
  },
  {
   "cell_type": "code",
   "execution_count": 21,
   "id": "2f93ea00",
   "metadata": {},
   "outputs": [
    {
     "data": {
      "text/html": [
       "<div>\n",
       "<style scoped>\n",
       "    .dataframe tbody tr th:only-of-type {\n",
       "        vertical-align: middle;\n",
       "    }\n",
       "\n",
       "    .dataframe tbody tr th {\n",
       "        vertical-align: top;\n",
       "    }\n",
       "\n",
       "    .dataframe thead th {\n",
       "        text-align: right;\n",
       "    }\n",
       "</style>\n",
       "<table border=\"1\" class=\"dataframe\">\n",
       "  <thead>\n",
       "    <tr style=\"text-align: right;\">\n",
       "      <th></th>\n",
       "      <th>이름</th>\n",
       "      <th>그룹</th>\n",
       "      <th>소속사</th>\n",
       "      <th>성별</th>\n",
       "      <th>생년월일</th>\n",
       "      <th>키</th>\n",
       "      <th>혈액형</th>\n",
       "      <th>브랜드평판지수</th>\n",
       "    </tr>\n",
       "  </thead>\n",
       "  <tbody>\n",
       "    <tr>\n",
       "      <th>0</th>\n",
       "      <td>지민</td>\n",
       "      <td>방탄소년단</td>\n",
       "      <td>빅히트</td>\n",
       "      <td>남자</td>\n",
       "      <td>1995-10-13</td>\n",
       "      <td>173.6</td>\n",
       "      <td>A</td>\n",
       "      <td>10523260</td>\n",
       "    </tr>\n",
       "    <tr>\n",
       "      <th>3</th>\n",
       "      <td>뷔</td>\n",
       "      <td>방탄소년단</td>\n",
       "      <td>빅히트</td>\n",
       "      <td>남자</td>\n",
       "      <td>1995-12-30</td>\n",
       "      <td>178.0</td>\n",
       "      <td>AB</td>\n",
       "      <td>8073501</td>\n",
       "    </tr>\n",
       "    <tr>\n",
       "      <th>4</th>\n",
       "      <td>화사</td>\n",
       "      <td>마마무</td>\n",
       "      <td>RBW</td>\n",
       "      <td>여자</td>\n",
       "      <td>1995-07-23</td>\n",
       "      <td>162.1</td>\n",
       "      <td>A</td>\n",
       "      <td>7650928</td>\n",
       "    </tr>\n",
       "    <tr>\n",
       "      <th>6</th>\n",
       "      <td>민현</td>\n",
       "      <td>뉴이스트</td>\n",
       "      <td>플레디스</td>\n",
       "      <td>남자</td>\n",
       "      <td>1995-08-09</td>\n",
       "      <td>182.3</td>\n",
       "      <td>O</td>\n",
       "      <td>4989792</td>\n",
       "    </tr>\n",
       "    <tr>\n",
       "      <th>12</th>\n",
       "      <td>백호</td>\n",
       "      <td>뉴이스트</td>\n",
       "      <td>플레디스</td>\n",
       "      <td>남자</td>\n",
       "      <td>1995-07-21</td>\n",
       "      <td>175.0</td>\n",
       "      <td>AB</td>\n",
       "      <td>3301654</td>\n",
       "    </tr>\n",
       "    <tr>\n",
       "      <th>13</th>\n",
       "      <td>JR</td>\n",
       "      <td>뉴이스트</td>\n",
       "      <td>플레디스</td>\n",
       "      <td>남자</td>\n",
       "      <td>1995-06-08</td>\n",
       "      <td>176.0</td>\n",
       "      <td>O</td>\n",
       "      <td>3274137</td>\n",
       "    </tr>\n",
       "  </tbody>\n",
       "</table>\n",
       "</div>"
      ],
      "text/plain": [
       "    이름     그룹   소속사  성별       생년월일      키 혈액형   브랜드평판지수\n",
       "0   지민  방탄소년단   빅히트  남자 1995-10-13  173.6   A  10523260\n",
       "3    뷔  방탄소년단   빅히트  남자 1995-12-30  178.0  AB   8073501\n",
       "4   화사    마마무   RBW  여자 1995-07-23  162.1   A   7650928\n",
       "6   민현   뉴이스트  플레디스  남자 1995-08-09  182.3   O   4989792\n",
       "12  백호   뉴이스트  플레디스  남자 1995-07-21  175.0  AB   3301654\n",
       "13  JR   뉴이스트  플레디스  남자 1995-06-08  176.0   O   3274137"
      ]
     },
     "execution_count": 21,
     "metadata": {},
     "output_type": "execute_result"
    }
   ],
   "source": [
    "df[df['생년월일'].dt.year == 1995]"
   ]
  },
  {
   "cell_type": "code",
   "execution_count": 22,
   "id": "0cfe8252",
   "metadata": {},
   "outputs": [
    {
     "data": {
      "text/plain": [
       "0     10\n",
       "1      8\n",
       "2     12\n",
       "3     12\n",
       "4      7\n",
       "5      9\n",
       "6      8\n",
       "7      8\n",
       "8     12\n",
       "9      3\n",
       "10     3\n",
       "11     3\n",
       "12     7\n",
       "13     6\n",
       "14     3\n",
       "Name: 생년월일, dtype: int64"
      ]
     },
     "execution_count": 22,
     "metadata": {},
     "output_type": "execute_result"
    }
   ],
   "source": [
    "df['생년월일'].dt.month"
   ]
  },
  {
   "cell_type": "code",
   "execution_count": 23,
   "id": "3f9ae5e4",
   "metadata": {},
   "outputs": [
    {
     "data": {
      "text/plain": [
       "0     13\n",
       "1     18\n",
       "2     10\n",
       "3     30\n",
       "4     23\n",
       "5      1\n",
       "6      9\n",
       "7     26\n",
       "8      4\n",
       "9     22\n",
       "10     9\n",
       "11    30\n",
       "12    21\n",
       "13     8\n",
       "14     9\n",
       "Name: 생년월일, dtype: int64"
      ]
     },
     "execution_count": 23,
     "metadata": {},
     "output_type": "execute_result"
    }
   ],
   "source": [
    "df['생년월일'].dt.day"
   ]
  },
  {
   "cell_type": "code",
   "execution_count": 24,
   "id": "c0604624",
   "metadata": {},
   "outputs": [
    {
     "data": {
      "text/plain": [
       "0     0\n",
       "1     0\n",
       "2     0\n",
       "3     0\n",
       "4     0\n",
       "5     0\n",
       "6     0\n",
       "7     0\n",
       "8     0\n",
       "9     0\n",
       "10    0\n",
       "11    0\n",
       "12    0\n",
       "13    0\n",
       "14    0\n",
       "Name: 생년월일, dtype: int64"
      ]
     },
     "execution_count": 24,
     "metadata": {},
     "output_type": "execute_result"
    }
   ],
   "source": [
    "df['생년월일'].dt.hour"
   ]
  },
  {
   "cell_type": "code",
   "execution_count": 25,
   "id": "dccde9da",
   "metadata": {},
   "outputs": [
    {
     "data": {
      "text/plain": [
       "0     0\n",
       "1     0\n",
       "2     0\n",
       "3     0\n",
       "4     0\n",
       "5     0\n",
       "6     0\n",
       "7     0\n",
       "8     0\n",
       "9     0\n",
       "10    0\n",
       "11    0\n",
       "12    0\n",
       "13    0\n",
       "14    0\n",
       "Name: 생년월일, dtype: int64"
      ]
     },
     "execution_count": 25,
     "metadata": {},
     "output_type": "execute_result"
    }
   ],
   "source": [
    "df['생년월일'].dt.minute"
   ]
  },
  {
   "cell_type": "code",
   "execution_count": 26,
   "id": "9734cd85",
   "metadata": {},
   "outputs": [
    {
     "data": {
      "text/plain": [
       "0     0\n",
       "1     0\n",
       "2     0\n",
       "3     0\n",
       "4     0\n",
       "5     0\n",
       "6     0\n",
       "7     0\n",
       "8     0\n",
       "9     0\n",
       "10    0\n",
       "11    0\n",
       "12    0\n",
       "13    0\n",
       "14    0\n",
       "Name: 생년월일, dtype: int64"
      ]
     },
     "execution_count": 26,
     "metadata": {},
     "output_type": "execute_result"
    }
   ],
   "source": [
    "df['생년월일'].dt.second"
   ]
  },
  {
   "cell_type": "code",
   "execution_count": 30,
   "id": "e5761c14",
   "metadata": {},
   "outputs": [],
   "source": [
    "df['생일_년'] = df['생년월일'].dt.year\n",
    "df['생일_월'] = df['생년월일'].dt.month\n",
    "df['생일_일'] = df['생년월일'].dt.day"
   ]
  },
  {
   "cell_type": "code",
   "execution_count": 31,
   "id": "0878e218",
   "metadata": {},
   "outputs": [
    {
     "data": {
      "text/html": [
       "<div>\n",
       "<style scoped>\n",
       "    .dataframe tbody tr th:only-of-type {\n",
       "        vertical-align: middle;\n",
       "    }\n",
       "\n",
       "    .dataframe tbody tr th {\n",
       "        vertical-align: top;\n",
       "    }\n",
       "\n",
       "    .dataframe thead th {\n",
       "        text-align: right;\n",
       "    }\n",
       "</style>\n",
       "<table border=\"1\" class=\"dataframe\">\n",
       "  <thead>\n",
       "    <tr style=\"text-align: right;\">\n",
       "      <th></th>\n",
       "      <th>이름</th>\n",
       "      <th>그룹</th>\n",
       "      <th>소속사</th>\n",
       "      <th>성별</th>\n",
       "      <th>생년월일</th>\n",
       "      <th>키</th>\n",
       "      <th>혈액형</th>\n",
       "      <th>브랜드평판지수</th>\n",
       "      <th>생일_년</th>\n",
       "      <th>생일_월</th>\n",
       "      <th>생일_일</th>\n",
       "    </tr>\n",
       "  </thead>\n",
       "  <tbody>\n",
       "    <tr>\n",
       "      <th>0</th>\n",
       "      <td>지민</td>\n",
       "      <td>방탄소년단</td>\n",
       "      <td>빅히트</td>\n",
       "      <td>남자</td>\n",
       "      <td>1995-10-13</td>\n",
       "      <td>173.6</td>\n",
       "      <td>A</td>\n",
       "      <td>10523260</td>\n",
       "      <td>1995</td>\n",
       "      <td>10</td>\n",
       "      <td>13</td>\n",
       "    </tr>\n",
       "    <tr>\n",
       "      <th>1</th>\n",
       "      <td>지드래곤</td>\n",
       "      <td>빅뱅</td>\n",
       "      <td>YG</td>\n",
       "      <td>남자</td>\n",
       "      <td>1988-08-18</td>\n",
       "      <td>177.0</td>\n",
       "      <td>A</td>\n",
       "      <td>9916947</td>\n",
       "      <td>1988</td>\n",
       "      <td>8</td>\n",
       "      <td>18</td>\n",
       "    </tr>\n",
       "    <tr>\n",
       "      <th>2</th>\n",
       "      <td>강다니엘</td>\n",
       "      <td>NaN</td>\n",
       "      <td>커넥트</td>\n",
       "      <td>남자</td>\n",
       "      <td>1996-12-10</td>\n",
       "      <td>180.0</td>\n",
       "      <td>A</td>\n",
       "      <td>8273745</td>\n",
       "      <td>1996</td>\n",
       "      <td>12</td>\n",
       "      <td>10</td>\n",
       "    </tr>\n",
       "    <tr>\n",
       "      <th>3</th>\n",
       "      <td>뷔</td>\n",
       "      <td>방탄소년단</td>\n",
       "      <td>빅히트</td>\n",
       "      <td>남자</td>\n",
       "      <td>1995-12-30</td>\n",
       "      <td>178.0</td>\n",
       "      <td>AB</td>\n",
       "      <td>8073501</td>\n",
       "      <td>1995</td>\n",
       "      <td>12</td>\n",
       "      <td>30</td>\n",
       "    </tr>\n",
       "    <tr>\n",
       "      <th>4</th>\n",
       "      <td>화사</td>\n",
       "      <td>마마무</td>\n",
       "      <td>RBW</td>\n",
       "      <td>여자</td>\n",
       "      <td>1995-07-23</td>\n",
       "      <td>162.1</td>\n",
       "      <td>A</td>\n",
       "      <td>7650928</td>\n",
       "      <td>1995</td>\n",
       "      <td>7</td>\n",
       "      <td>23</td>\n",
       "    </tr>\n",
       "  </tbody>\n",
       "</table>\n",
       "</div>"
      ],
      "text/plain": [
       "     이름     그룹  소속사  성별       생년월일      키 혈액형   브랜드평판지수  생일_년  생일_월  생일_일\n",
       "0    지민  방탄소년단  빅히트  남자 1995-10-13  173.6   A  10523260  1995    10    13\n",
       "1  지드래곤     빅뱅   YG  남자 1988-08-18  177.0   A   9916947  1988     8    18\n",
       "2  강다니엘    NaN  커넥트  남자 1996-12-10  180.0   A   8273745  1996    12    10\n",
       "3     뷔  방탄소년단  빅히트  남자 1995-12-30  178.0  AB   8073501  1995    12    30\n",
       "4    화사    마마무  RBW  여자 1995-07-23  162.1   A   7650928  1995     7    23"
      ]
     },
     "execution_count": 31,
     "metadata": {},
     "output_type": "execute_result"
    }
   ],
   "source": [
    "df.head()"
   ]
  },
  {
   "cell_type": "markdown",
   "id": "fd4b626f",
   "metadata": {},
   "source": [
    "## 2. apply함수"
   ]
  },
  {
   "cell_type": "code",
   "execution_count": 32,
   "id": "72931f3e",
   "metadata": {},
   "outputs": [
    {
     "data": {
      "text/html": [
       "<div>\n",
       "<style scoped>\n",
       "    .dataframe tbody tr th:only-of-type {\n",
       "        vertical-align: middle;\n",
       "    }\n",
       "\n",
       "    .dataframe tbody tr th {\n",
       "        vertical-align: top;\n",
       "    }\n",
       "\n",
       "    .dataframe thead th {\n",
       "        text-align: right;\n",
       "    }\n",
       "</style>\n",
       "<table border=\"1\" class=\"dataframe\">\n",
       "  <thead>\n",
       "    <tr style=\"text-align: right;\">\n",
       "      <th></th>\n",
       "      <th>이름</th>\n",
       "      <th>그룹</th>\n",
       "      <th>소속사</th>\n",
       "      <th>성별</th>\n",
       "      <th>생년월일</th>\n",
       "      <th>키</th>\n",
       "      <th>혈액형</th>\n",
       "      <th>브랜드평판지수</th>\n",
       "    </tr>\n",
       "  </thead>\n",
       "  <tbody>\n",
       "    <tr>\n",
       "      <th>0</th>\n",
       "      <td>지민</td>\n",
       "      <td>방탄소년단</td>\n",
       "      <td>빅히트</td>\n",
       "      <td>남자</td>\n",
       "      <td>1995-10-13</td>\n",
       "      <td>173.6</td>\n",
       "      <td>A</td>\n",
       "      <td>10523260</td>\n",
       "    </tr>\n",
       "    <tr>\n",
       "      <th>1</th>\n",
       "      <td>지드래곤</td>\n",
       "      <td>빅뱅</td>\n",
       "      <td>YG</td>\n",
       "      <td>남자</td>\n",
       "      <td>1988-08-18</td>\n",
       "      <td>177.0</td>\n",
       "      <td>A</td>\n",
       "      <td>9916947</td>\n",
       "    </tr>\n",
       "    <tr>\n",
       "      <th>2</th>\n",
       "      <td>강다니엘</td>\n",
       "      <td>NaN</td>\n",
       "      <td>커넥트</td>\n",
       "      <td>남자</td>\n",
       "      <td>1996-12-10</td>\n",
       "      <td>180.0</td>\n",
       "      <td>A</td>\n",
       "      <td>8273745</td>\n",
       "    </tr>\n",
       "    <tr>\n",
       "      <th>3</th>\n",
       "      <td>뷔</td>\n",
       "      <td>방탄소년단</td>\n",
       "      <td>빅히트</td>\n",
       "      <td>남자</td>\n",
       "      <td>1995-12-30</td>\n",
       "      <td>178.0</td>\n",
       "      <td>AB</td>\n",
       "      <td>8073501</td>\n",
       "    </tr>\n",
       "    <tr>\n",
       "      <th>4</th>\n",
       "      <td>화사</td>\n",
       "      <td>마마무</td>\n",
       "      <td>RBW</td>\n",
       "      <td>여자</td>\n",
       "      <td>1995-07-23</td>\n",
       "      <td>162.1</td>\n",
       "      <td>A</td>\n",
       "      <td>7650928</td>\n",
       "    </tr>\n",
       "  </tbody>\n",
       "</table>\n",
       "</div>"
      ],
      "text/plain": [
       "     이름     그룹  소속사  성별        생년월일      키 혈액형   브랜드평판지수\n",
       "0    지민  방탄소년단  빅히트  남자  1995-10-13  173.6   A  10523260\n",
       "1  지드래곤     빅뱅   YG  남자  1988-08-18  177.0   A   9916947\n",
       "2  강다니엘    NaN  커넥트  남자  1996-12-10  180.0   A   8273745\n",
       "3     뷔  방탄소년단  빅히트  남자  1995-12-30  178.0  AB   8073501\n",
       "4    화사    마마무  RBW  여자  1995-07-23  162.1   A   7650928"
      ]
     },
     "execution_count": 32,
     "metadata": {},
     "output_type": "execute_result"
    }
   ],
   "source": [
    "# 데이터프레임 로드\n",
    "import pandas as pd\n",
    "df = pd.read_csv('C:/Users/chunc/Desktop/취업캠프/python/python/korean-idol.csv')\n",
    "df.head()"
   ]
  },
  {
   "cell_type": "markdown",
   "id": "9e9e3b18",
   "metadata": {},
   "source": [
    "apply는 Series나 DataFrame에 좀 더 구체적인 로직을 적용하고 싶은 경우 활용한다.\n",
    "* apply를 적용하기 위해서는 함수가 먼저 정의되어야 한다.\n",
    "* apply는 정의한 로직 함수를 인자로 넘겨준다."
   ]
  },
  {
   "cell_type": "code",
   "execution_count": 33,
   "id": "a4eafe18",
   "metadata": {},
   "outputs": [],
   "source": [
    "# '성별' 컬럼의 '남자', '여자'를 1과 0으로 변경\n",
    "df.loc[df['성별'] == '남자', '성별'] = 1\n",
    "df.loc[df['성별'] == '여자', '성별'] = 0"
   ]
  },
  {
   "cell_type": "code",
   "execution_count": 35,
   "id": "9f308e34",
   "metadata": {},
   "outputs": [
    {
     "data": {
      "text/html": [
       "<div>\n",
       "<style scoped>\n",
       "    .dataframe tbody tr th:only-of-type {\n",
       "        vertical-align: middle;\n",
       "    }\n",
       "\n",
       "    .dataframe tbody tr th {\n",
       "        vertical-align: top;\n",
       "    }\n",
       "\n",
       "    .dataframe thead th {\n",
       "        text-align: right;\n",
       "    }\n",
       "</style>\n",
       "<table border=\"1\" class=\"dataframe\">\n",
       "  <thead>\n",
       "    <tr style=\"text-align: right;\">\n",
       "      <th></th>\n",
       "      <th>이름</th>\n",
       "      <th>그룹</th>\n",
       "      <th>소속사</th>\n",
       "      <th>성별</th>\n",
       "      <th>생년월일</th>\n",
       "      <th>키</th>\n",
       "      <th>혈액형</th>\n",
       "      <th>브랜드평판지수</th>\n",
       "    </tr>\n",
       "  </thead>\n",
       "  <tbody>\n",
       "    <tr>\n",
       "      <th>0</th>\n",
       "      <td>지민</td>\n",
       "      <td>방탄소년단</td>\n",
       "      <td>빅히트</td>\n",
       "      <td>1</td>\n",
       "      <td>1995-10-13</td>\n",
       "      <td>173.6</td>\n",
       "      <td>A</td>\n",
       "      <td>10523260</td>\n",
       "    </tr>\n",
       "    <tr>\n",
       "      <th>1</th>\n",
       "      <td>지드래곤</td>\n",
       "      <td>빅뱅</td>\n",
       "      <td>YG</td>\n",
       "      <td>1</td>\n",
       "      <td>1988-08-18</td>\n",
       "      <td>177.0</td>\n",
       "      <td>A</td>\n",
       "      <td>9916947</td>\n",
       "    </tr>\n",
       "    <tr>\n",
       "      <th>2</th>\n",
       "      <td>강다니엘</td>\n",
       "      <td>NaN</td>\n",
       "      <td>커넥트</td>\n",
       "      <td>1</td>\n",
       "      <td>1996-12-10</td>\n",
       "      <td>180.0</td>\n",
       "      <td>A</td>\n",
       "      <td>8273745</td>\n",
       "    </tr>\n",
       "    <tr>\n",
       "      <th>3</th>\n",
       "      <td>뷔</td>\n",
       "      <td>방탄소년단</td>\n",
       "      <td>빅히트</td>\n",
       "      <td>1</td>\n",
       "      <td>1995-12-30</td>\n",
       "      <td>178.0</td>\n",
       "      <td>AB</td>\n",
       "      <td>8073501</td>\n",
       "    </tr>\n",
       "    <tr>\n",
       "      <th>4</th>\n",
       "      <td>화사</td>\n",
       "      <td>마마무</td>\n",
       "      <td>RBW</td>\n",
       "      <td>0</td>\n",
       "      <td>1995-07-23</td>\n",
       "      <td>162.1</td>\n",
       "      <td>A</td>\n",
       "      <td>7650928</td>\n",
       "    </tr>\n",
       "    <tr>\n",
       "      <th>5</th>\n",
       "      <td>정국</td>\n",
       "      <td>방탄소년단</td>\n",
       "      <td>빅히트</td>\n",
       "      <td>1</td>\n",
       "      <td>1997-09-01</td>\n",
       "      <td>178.0</td>\n",
       "      <td>A</td>\n",
       "      <td>5208335</td>\n",
       "    </tr>\n",
       "    <tr>\n",
       "      <th>6</th>\n",
       "      <td>민현</td>\n",
       "      <td>뉴이스트</td>\n",
       "      <td>플레디스</td>\n",
       "      <td>1</td>\n",
       "      <td>1995-08-09</td>\n",
       "      <td>182.3</td>\n",
       "      <td>O</td>\n",
       "      <td>4989792</td>\n",
       "    </tr>\n",
       "    <tr>\n",
       "      <th>7</th>\n",
       "      <td>소연</td>\n",
       "      <td>아이들</td>\n",
       "      <td>큐브</td>\n",
       "      <td>0</td>\n",
       "      <td>1998-08-26</td>\n",
       "      <td>NaN</td>\n",
       "      <td>B</td>\n",
       "      <td>4668615</td>\n",
       "    </tr>\n",
       "    <tr>\n",
       "      <th>8</th>\n",
       "      <td>진</td>\n",
       "      <td>방탄소년단</td>\n",
       "      <td>빅히트</td>\n",
       "      <td>1</td>\n",
       "      <td>1992-12-04</td>\n",
       "      <td>179.2</td>\n",
       "      <td>O</td>\n",
       "      <td>4570308</td>\n",
       "    </tr>\n",
       "    <tr>\n",
       "      <th>9</th>\n",
       "      <td>하성운</td>\n",
       "      <td>핫샷</td>\n",
       "      <td>스타크루이엔티</td>\n",
       "      <td>1</td>\n",
       "      <td>1994-03-22</td>\n",
       "      <td>167.1</td>\n",
       "      <td>A</td>\n",
       "      <td>4036489</td>\n",
       "    </tr>\n",
       "    <tr>\n",
       "      <th>10</th>\n",
       "      <td>태연</td>\n",
       "      <td>소녀시대</td>\n",
       "      <td>SM</td>\n",
       "      <td>0</td>\n",
       "      <td>1989-03-09</td>\n",
       "      <td>NaN</td>\n",
       "      <td>A</td>\n",
       "      <td>3918661</td>\n",
       "    </tr>\n",
       "    <tr>\n",
       "      <th>11</th>\n",
       "      <td>차은우</td>\n",
       "      <td>아스트로</td>\n",
       "      <td>판타지오</td>\n",
       "      <td>1</td>\n",
       "      <td>1997-03-30</td>\n",
       "      <td>183.0</td>\n",
       "      <td>B</td>\n",
       "      <td>3506027</td>\n",
       "    </tr>\n",
       "    <tr>\n",
       "      <th>12</th>\n",
       "      <td>백호</td>\n",
       "      <td>뉴이스트</td>\n",
       "      <td>플레디스</td>\n",
       "      <td>1</td>\n",
       "      <td>1995-07-21</td>\n",
       "      <td>175.0</td>\n",
       "      <td>AB</td>\n",
       "      <td>3301654</td>\n",
       "    </tr>\n",
       "    <tr>\n",
       "      <th>13</th>\n",
       "      <td>JR</td>\n",
       "      <td>뉴이스트</td>\n",
       "      <td>플레디스</td>\n",
       "      <td>1</td>\n",
       "      <td>1995-06-08</td>\n",
       "      <td>176.0</td>\n",
       "      <td>O</td>\n",
       "      <td>3274137</td>\n",
       "    </tr>\n",
       "    <tr>\n",
       "      <th>14</th>\n",
       "      <td>슈가</td>\n",
       "      <td>방탄소년단</td>\n",
       "      <td>빅히트</td>\n",
       "      <td>1</td>\n",
       "      <td>1993-03-09</td>\n",
       "      <td>174.0</td>\n",
       "      <td>O</td>\n",
       "      <td>2925442</td>\n",
       "    </tr>\n",
       "  </tbody>\n",
       "</table>\n",
       "</div>"
      ],
      "text/plain": [
       "      이름     그룹      소속사 성별        생년월일      키 혈액형   브랜드평판지수\n",
       "0     지민  방탄소년단      빅히트  1  1995-10-13  173.6   A  10523260\n",
       "1   지드래곤     빅뱅       YG  1  1988-08-18  177.0   A   9916947\n",
       "2   강다니엘    NaN      커넥트  1  1996-12-10  180.0   A   8273745\n",
       "3      뷔  방탄소년단      빅히트  1  1995-12-30  178.0  AB   8073501\n",
       "4     화사    마마무      RBW  0  1995-07-23  162.1   A   7650928\n",
       "5     정국  방탄소년단      빅히트  1  1997-09-01  178.0   A   5208335\n",
       "6     민현   뉴이스트     플레디스  1  1995-08-09  182.3   O   4989792\n",
       "7     소연    아이들       큐브  0  1998-08-26    NaN   B   4668615\n",
       "8      진  방탄소년단      빅히트  1  1992-12-04  179.2   O   4570308\n",
       "9    하성운     핫샷  스타크루이엔티  1  1994-03-22  167.1   A   4036489\n",
       "10    태연   소녀시대       SM  0  1989-03-09    NaN   A   3918661\n",
       "11   차은우   아스트로     판타지오  1  1997-03-30  183.0   B   3506027\n",
       "12    백호   뉴이스트     플레디스  1  1995-07-21  175.0  AB   3301654\n",
       "13    JR   뉴이스트     플레디스  1  1995-06-08  176.0   O   3274137\n",
       "14    슈가  방탄소년단      빅히트  1  1993-03-09  174.0   O   2925442"
      ]
     },
     "execution_count": 35,
     "metadata": {},
     "output_type": "execute_result"
    }
   ],
   "source": [
    "df"
   ]
  },
  {
   "cell_type": "markdown",
   "id": "9f046188",
   "metadata": {},
   "source": [
    "### 2-1. 남자/여자 문자열 데이터로 구성된 '성별' column을 1 / 0 으로 바꾸기"
   ]
  },
  {
   "cell_type": "code",
   "execution_count": 43,
   "id": "e90f2ea7",
   "metadata": {},
   "outputs": [
    {
     "data": {
      "text/html": [
       "<div>\n",
       "<style scoped>\n",
       "    .dataframe tbody tr th:only-of-type {\n",
       "        vertical-align: middle;\n",
       "    }\n",
       "\n",
       "    .dataframe tbody tr th {\n",
       "        vertical-align: top;\n",
       "    }\n",
       "\n",
       "    .dataframe thead th {\n",
       "        text-align: right;\n",
       "    }\n",
       "</style>\n",
       "<table border=\"1\" class=\"dataframe\">\n",
       "  <thead>\n",
       "    <tr style=\"text-align: right;\">\n",
       "      <th></th>\n",
       "      <th>이름</th>\n",
       "      <th>그룹</th>\n",
       "      <th>소속사</th>\n",
       "      <th>성별</th>\n",
       "      <th>생년월일</th>\n",
       "      <th>키</th>\n",
       "      <th>혈액형</th>\n",
       "      <th>브랜드평판지수</th>\n",
       "    </tr>\n",
       "  </thead>\n",
       "  <tbody>\n",
       "    <tr>\n",
       "      <th>0</th>\n",
       "      <td>지민</td>\n",
       "      <td>방탄소년단</td>\n",
       "      <td>빅히트</td>\n",
       "      <td>남자</td>\n",
       "      <td>1995-10-13</td>\n",
       "      <td>173.6</td>\n",
       "      <td>A</td>\n",
       "      <td>10523260</td>\n",
       "    </tr>\n",
       "    <tr>\n",
       "      <th>1</th>\n",
       "      <td>지드래곤</td>\n",
       "      <td>빅뱅</td>\n",
       "      <td>YG</td>\n",
       "      <td>남자</td>\n",
       "      <td>1988-08-18</td>\n",
       "      <td>177.0</td>\n",
       "      <td>A</td>\n",
       "      <td>9916947</td>\n",
       "    </tr>\n",
       "    <tr>\n",
       "      <th>2</th>\n",
       "      <td>강다니엘</td>\n",
       "      <td>NaN</td>\n",
       "      <td>커넥트</td>\n",
       "      <td>남자</td>\n",
       "      <td>1996-12-10</td>\n",
       "      <td>180.0</td>\n",
       "      <td>A</td>\n",
       "      <td>8273745</td>\n",
       "    </tr>\n",
       "    <tr>\n",
       "      <th>3</th>\n",
       "      <td>뷔</td>\n",
       "      <td>방탄소년단</td>\n",
       "      <td>빅히트</td>\n",
       "      <td>남자</td>\n",
       "      <td>1995-12-30</td>\n",
       "      <td>178.0</td>\n",
       "      <td>AB</td>\n",
       "      <td>8073501</td>\n",
       "    </tr>\n",
       "    <tr>\n",
       "      <th>4</th>\n",
       "      <td>화사</td>\n",
       "      <td>마마무</td>\n",
       "      <td>RBW</td>\n",
       "      <td>여자</td>\n",
       "      <td>1995-07-23</td>\n",
       "      <td>162.1</td>\n",
       "      <td>A</td>\n",
       "      <td>7650928</td>\n",
       "    </tr>\n",
       "  </tbody>\n",
       "</table>\n",
       "</div>"
      ],
      "text/plain": [
       "     이름     그룹  소속사  성별        생년월일      키 혈액형   브랜드평판지수\n",
       "0    지민  방탄소년단  빅히트  남자  1995-10-13  173.6   A  10523260\n",
       "1  지드래곤     빅뱅   YG  남자  1988-08-18  177.0   A   9916947\n",
       "2  강다니엘    NaN  커넥트  남자  1996-12-10  180.0   A   8273745\n",
       "3     뷔  방탄소년단  빅히트  남자  1995-12-30  178.0  AB   8073501\n",
       "4    화사    마마무  RBW  여자  1995-07-23  162.1   A   7650928"
      ]
     },
     "execution_count": 43,
     "metadata": {},
     "output_type": "execute_result"
    }
   ],
   "source": [
    "# 파일 불러오기\n",
    "df = pd.read_csv('C:/Users/chunc/Desktop/취업캠프/python-20230220T004050Z-001/python/korean-idol.csv')\n",
    "df.head()"
   ]
  },
  {
   "cell_type": "code",
   "execution_count": 37,
   "id": "46439441",
   "metadata": {},
   "outputs": [],
   "source": [
    "# 방법1: 기존 함수 사용\n",
    "# 반드시 return값이 존재해야 함\n",
    "# 먼저 apply에 활용할 함수 정의\n",
    "def male_or_female(x):\n",
    "    if x == '남자':\n",
    "        return 1\n",
    "    elif x == '여자':\n",
    "        return 0\n"
   ]
  },
  {
   "cell_type": "code",
   "execution_count": 38,
   "id": "8573d3a1",
   "metadata": {},
   "outputs": [],
   "source": [
    "# python에서 .map()과 유사(python함수)\n",
    "# apply()함수는 pandas의 데이터타입에 최적화된 함수\n",
    "df['성별_NEW'] = df['성별'].apply(male_or_female)"
   ]
  },
  {
   "cell_type": "code",
   "execution_count": 39,
   "id": "b9711fa3",
   "metadata": {},
   "outputs": [
    {
     "data": {
      "text/html": [
       "<div>\n",
       "<style scoped>\n",
       "    .dataframe tbody tr th:only-of-type {\n",
       "        vertical-align: middle;\n",
       "    }\n",
       "\n",
       "    .dataframe tbody tr th {\n",
       "        vertical-align: top;\n",
       "    }\n",
       "\n",
       "    .dataframe thead th {\n",
       "        text-align: right;\n",
       "    }\n",
       "</style>\n",
       "<table border=\"1\" class=\"dataframe\">\n",
       "  <thead>\n",
       "    <tr style=\"text-align: right;\">\n",
       "      <th></th>\n",
       "      <th>이름</th>\n",
       "      <th>그룹</th>\n",
       "      <th>소속사</th>\n",
       "      <th>성별</th>\n",
       "      <th>생년월일</th>\n",
       "      <th>키</th>\n",
       "      <th>혈액형</th>\n",
       "      <th>브랜드평판지수</th>\n",
       "      <th>성별_NEW</th>\n",
       "    </tr>\n",
       "  </thead>\n",
       "  <tbody>\n",
       "    <tr>\n",
       "      <th>0</th>\n",
       "      <td>지민</td>\n",
       "      <td>방탄소년단</td>\n",
       "      <td>빅히트</td>\n",
       "      <td>남자</td>\n",
       "      <td>1995-10-13</td>\n",
       "      <td>173.6</td>\n",
       "      <td>A</td>\n",
       "      <td>10523260</td>\n",
       "      <td>1</td>\n",
       "    </tr>\n",
       "    <tr>\n",
       "      <th>1</th>\n",
       "      <td>지드래곤</td>\n",
       "      <td>빅뱅</td>\n",
       "      <td>YG</td>\n",
       "      <td>남자</td>\n",
       "      <td>1988-08-18</td>\n",
       "      <td>177.0</td>\n",
       "      <td>A</td>\n",
       "      <td>9916947</td>\n",
       "      <td>1</td>\n",
       "    </tr>\n",
       "    <tr>\n",
       "      <th>2</th>\n",
       "      <td>강다니엘</td>\n",
       "      <td>NaN</td>\n",
       "      <td>커넥트</td>\n",
       "      <td>남자</td>\n",
       "      <td>1996-12-10</td>\n",
       "      <td>180.0</td>\n",
       "      <td>A</td>\n",
       "      <td>8273745</td>\n",
       "      <td>1</td>\n",
       "    </tr>\n",
       "    <tr>\n",
       "      <th>3</th>\n",
       "      <td>뷔</td>\n",
       "      <td>방탄소년단</td>\n",
       "      <td>빅히트</td>\n",
       "      <td>남자</td>\n",
       "      <td>1995-12-30</td>\n",
       "      <td>178.0</td>\n",
       "      <td>AB</td>\n",
       "      <td>8073501</td>\n",
       "      <td>1</td>\n",
       "    </tr>\n",
       "    <tr>\n",
       "      <th>4</th>\n",
       "      <td>화사</td>\n",
       "      <td>마마무</td>\n",
       "      <td>RBW</td>\n",
       "      <td>여자</td>\n",
       "      <td>1995-07-23</td>\n",
       "      <td>162.1</td>\n",
       "      <td>A</td>\n",
       "      <td>7650928</td>\n",
       "      <td>0</td>\n",
       "    </tr>\n",
       "    <tr>\n",
       "      <th>5</th>\n",
       "      <td>정국</td>\n",
       "      <td>방탄소년단</td>\n",
       "      <td>빅히트</td>\n",
       "      <td>남자</td>\n",
       "      <td>1997-09-01</td>\n",
       "      <td>178.0</td>\n",
       "      <td>A</td>\n",
       "      <td>5208335</td>\n",
       "      <td>1</td>\n",
       "    </tr>\n",
       "    <tr>\n",
       "      <th>6</th>\n",
       "      <td>민현</td>\n",
       "      <td>뉴이스트</td>\n",
       "      <td>플레디스</td>\n",
       "      <td>남자</td>\n",
       "      <td>1995-08-09</td>\n",
       "      <td>182.3</td>\n",
       "      <td>O</td>\n",
       "      <td>4989792</td>\n",
       "      <td>1</td>\n",
       "    </tr>\n",
       "    <tr>\n",
       "      <th>7</th>\n",
       "      <td>소연</td>\n",
       "      <td>아이들</td>\n",
       "      <td>큐브</td>\n",
       "      <td>여자</td>\n",
       "      <td>1998-08-26</td>\n",
       "      <td>NaN</td>\n",
       "      <td>B</td>\n",
       "      <td>4668615</td>\n",
       "      <td>0</td>\n",
       "    </tr>\n",
       "    <tr>\n",
       "      <th>8</th>\n",
       "      <td>진</td>\n",
       "      <td>방탄소년단</td>\n",
       "      <td>빅히트</td>\n",
       "      <td>남자</td>\n",
       "      <td>1992-12-04</td>\n",
       "      <td>179.2</td>\n",
       "      <td>O</td>\n",
       "      <td>4570308</td>\n",
       "      <td>1</td>\n",
       "    </tr>\n",
       "    <tr>\n",
       "      <th>9</th>\n",
       "      <td>하성운</td>\n",
       "      <td>핫샷</td>\n",
       "      <td>스타크루이엔티</td>\n",
       "      <td>남자</td>\n",
       "      <td>1994-03-22</td>\n",
       "      <td>167.1</td>\n",
       "      <td>A</td>\n",
       "      <td>4036489</td>\n",
       "      <td>1</td>\n",
       "    </tr>\n",
       "    <tr>\n",
       "      <th>10</th>\n",
       "      <td>태연</td>\n",
       "      <td>소녀시대</td>\n",
       "      <td>SM</td>\n",
       "      <td>여자</td>\n",
       "      <td>1989-03-09</td>\n",
       "      <td>NaN</td>\n",
       "      <td>A</td>\n",
       "      <td>3918661</td>\n",
       "      <td>0</td>\n",
       "    </tr>\n",
       "    <tr>\n",
       "      <th>11</th>\n",
       "      <td>차은우</td>\n",
       "      <td>아스트로</td>\n",
       "      <td>판타지오</td>\n",
       "      <td>남자</td>\n",
       "      <td>1997-03-30</td>\n",
       "      <td>183.0</td>\n",
       "      <td>B</td>\n",
       "      <td>3506027</td>\n",
       "      <td>1</td>\n",
       "    </tr>\n",
       "    <tr>\n",
       "      <th>12</th>\n",
       "      <td>백호</td>\n",
       "      <td>뉴이스트</td>\n",
       "      <td>플레디스</td>\n",
       "      <td>남자</td>\n",
       "      <td>1995-07-21</td>\n",
       "      <td>175.0</td>\n",
       "      <td>AB</td>\n",
       "      <td>3301654</td>\n",
       "      <td>1</td>\n",
       "    </tr>\n",
       "    <tr>\n",
       "      <th>13</th>\n",
       "      <td>JR</td>\n",
       "      <td>뉴이스트</td>\n",
       "      <td>플레디스</td>\n",
       "      <td>남자</td>\n",
       "      <td>1995-06-08</td>\n",
       "      <td>176.0</td>\n",
       "      <td>O</td>\n",
       "      <td>3274137</td>\n",
       "      <td>1</td>\n",
       "    </tr>\n",
       "    <tr>\n",
       "      <th>14</th>\n",
       "      <td>슈가</td>\n",
       "      <td>방탄소년단</td>\n",
       "      <td>빅히트</td>\n",
       "      <td>남자</td>\n",
       "      <td>1993-03-09</td>\n",
       "      <td>174.0</td>\n",
       "      <td>O</td>\n",
       "      <td>2925442</td>\n",
       "      <td>1</td>\n",
       "    </tr>\n",
       "  </tbody>\n",
       "</table>\n",
       "</div>"
      ],
      "text/plain": [
       "      이름     그룹      소속사  성별        생년월일      키 혈액형   브랜드평판지수  성별_NEW\n",
       "0     지민  방탄소년단      빅히트  남자  1995-10-13  173.6   A  10523260       1\n",
       "1   지드래곤     빅뱅       YG  남자  1988-08-18  177.0   A   9916947       1\n",
       "2   강다니엘    NaN      커넥트  남자  1996-12-10  180.0   A   8273745       1\n",
       "3      뷔  방탄소년단      빅히트  남자  1995-12-30  178.0  AB   8073501       1\n",
       "4     화사    마마무      RBW  여자  1995-07-23  162.1   A   7650928       0\n",
       "5     정국  방탄소년단      빅히트  남자  1997-09-01  178.0   A   5208335       1\n",
       "6     민현   뉴이스트     플레디스  남자  1995-08-09  182.3   O   4989792       1\n",
       "7     소연    아이들       큐브  여자  1998-08-26    NaN   B   4668615       0\n",
       "8      진  방탄소년단      빅히트  남자  1992-12-04  179.2   O   4570308       1\n",
       "9    하성운     핫샷  스타크루이엔티  남자  1994-03-22  167.1   A   4036489       1\n",
       "10    태연   소녀시대       SM  여자  1989-03-09    NaN   A   3918661       0\n",
       "11   차은우   아스트로     판타지오  남자  1997-03-30  183.0   B   3506027       1\n",
       "12    백호   뉴이스트     플레디스  남자  1995-07-21  175.0  AB   3301654       1\n",
       "13    JR   뉴이스트     플레디스  남자  1995-06-08  176.0   O   3274137       1\n",
       "14    슈가  방탄소년단      빅히트  남자  1993-03-09  174.0   O   2925442       1"
      ]
     },
     "execution_count": 39,
     "metadata": {},
     "output_type": "execute_result"
    }
   ],
   "source": [
    "df"
   ]
  },
  {
   "cell_type": "markdown",
   "id": "0914e9da",
   "metadata": {},
   "source": [
    "람다 함수 생성하기"
   ]
  },
  {
   "cell_type": "code",
   "execution_count": 41,
   "id": "8bfae3f0",
   "metadata": {},
   "outputs": [
    {
     "name": "stdout",
     "output_type": "stream",
     "text": [
      "7\n"
     ]
    }
   ],
   "source": [
    "# 람다함수 예1\n",
    "add = lambda a,b: a+b\n",
    "result = add(3, 4)\n",
    "print(result)"
   ]
  },
  {
   "cell_type": "code",
   "execution_count": 42,
   "id": "535cd94b",
   "metadata": {},
   "outputs": [],
   "source": [
    "# 람다함수 예2\n",
    "score = lambda x:'A등급' if x >= 80 else 'B등급'"
   ]
  },
  {
   "cell_type": "code",
   "execution_count": 44,
   "id": "32dca3c3",
   "metadata": {},
   "outputs": [],
   "source": [
    "# 람다함수를 사용한 경우\n",
    "male_or_female = lambda x:1 if x == '남자' else 0\n",
    "df['성별_NEW'] = df['성별'].apply(male_or_female)"
   ]
  },
  {
   "cell_type": "code",
   "execution_count": 45,
   "id": "b73bb3f5",
   "metadata": {},
   "outputs": [
    {
     "data": {
      "text/html": [
       "<div>\n",
       "<style scoped>\n",
       "    .dataframe tbody tr th:only-of-type {\n",
       "        vertical-align: middle;\n",
       "    }\n",
       "\n",
       "    .dataframe tbody tr th {\n",
       "        vertical-align: top;\n",
       "    }\n",
       "\n",
       "    .dataframe thead th {\n",
       "        text-align: right;\n",
       "    }\n",
       "</style>\n",
       "<table border=\"1\" class=\"dataframe\">\n",
       "  <thead>\n",
       "    <tr style=\"text-align: right;\">\n",
       "      <th></th>\n",
       "      <th>이름</th>\n",
       "      <th>그룹</th>\n",
       "      <th>소속사</th>\n",
       "      <th>성별</th>\n",
       "      <th>생년월일</th>\n",
       "      <th>키</th>\n",
       "      <th>혈액형</th>\n",
       "      <th>브랜드평판지수</th>\n",
       "      <th>성별_NEW</th>\n",
       "    </tr>\n",
       "  </thead>\n",
       "  <tbody>\n",
       "    <tr>\n",
       "      <th>0</th>\n",
       "      <td>지민</td>\n",
       "      <td>방탄소년단</td>\n",
       "      <td>빅히트</td>\n",
       "      <td>남자</td>\n",
       "      <td>1995-10-13</td>\n",
       "      <td>173.6</td>\n",
       "      <td>A</td>\n",
       "      <td>10523260</td>\n",
       "      <td>1</td>\n",
       "    </tr>\n",
       "    <tr>\n",
       "      <th>1</th>\n",
       "      <td>지드래곤</td>\n",
       "      <td>빅뱅</td>\n",
       "      <td>YG</td>\n",
       "      <td>남자</td>\n",
       "      <td>1988-08-18</td>\n",
       "      <td>177.0</td>\n",
       "      <td>A</td>\n",
       "      <td>9916947</td>\n",
       "      <td>1</td>\n",
       "    </tr>\n",
       "    <tr>\n",
       "      <th>2</th>\n",
       "      <td>강다니엘</td>\n",
       "      <td>NaN</td>\n",
       "      <td>커넥트</td>\n",
       "      <td>남자</td>\n",
       "      <td>1996-12-10</td>\n",
       "      <td>180.0</td>\n",
       "      <td>A</td>\n",
       "      <td>8273745</td>\n",
       "      <td>1</td>\n",
       "    </tr>\n",
       "    <tr>\n",
       "      <th>3</th>\n",
       "      <td>뷔</td>\n",
       "      <td>방탄소년단</td>\n",
       "      <td>빅히트</td>\n",
       "      <td>남자</td>\n",
       "      <td>1995-12-30</td>\n",
       "      <td>178.0</td>\n",
       "      <td>AB</td>\n",
       "      <td>8073501</td>\n",
       "      <td>1</td>\n",
       "    </tr>\n",
       "    <tr>\n",
       "      <th>4</th>\n",
       "      <td>화사</td>\n",
       "      <td>마마무</td>\n",
       "      <td>RBW</td>\n",
       "      <td>여자</td>\n",
       "      <td>1995-07-23</td>\n",
       "      <td>162.1</td>\n",
       "      <td>A</td>\n",
       "      <td>7650928</td>\n",
       "      <td>0</td>\n",
       "    </tr>\n",
       "    <tr>\n",
       "      <th>5</th>\n",
       "      <td>정국</td>\n",
       "      <td>방탄소년단</td>\n",
       "      <td>빅히트</td>\n",
       "      <td>남자</td>\n",
       "      <td>1997-09-01</td>\n",
       "      <td>178.0</td>\n",
       "      <td>A</td>\n",
       "      <td>5208335</td>\n",
       "      <td>1</td>\n",
       "    </tr>\n",
       "    <tr>\n",
       "      <th>6</th>\n",
       "      <td>민현</td>\n",
       "      <td>뉴이스트</td>\n",
       "      <td>플레디스</td>\n",
       "      <td>남자</td>\n",
       "      <td>1995-08-09</td>\n",
       "      <td>182.3</td>\n",
       "      <td>O</td>\n",
       "      <td>4989792</td>\n",
       "      <td>1</td>\n",
       "    </tr>\n",
       "    <tr>\n",
       "      <th>7</th>\n",
       "      <td>소연</td>\n",
       "      <td>아이들</td>\n",
       "      <td>큐브</td>\n",
       "      <td>여자</td>\n",
       "      <td>1998-08-26</td>\n",
       "      <td>NaN</td>\n",
       "      <td>B</td>\n",
       "      <td>4668615</td>\n",
       "      <td>0</td>\n",
       "    </tr>\n",
       "    <tr>\n",
       "      <th>8</th>\n",
       "      <td>진</td>\n",
       "      <td>방탄소년단</td>\n",
       "      <td>빅히트</td>\n",
       "      <td>남자</td>\n",
       "      <td>1992-12-04</td>\n",
       "      <td>179.2</td>\n",
       "      <td>O</td>\n",
       "      <td>4570308</td>\n",
       "      <td>1</td>\n",
       "    </tr>\n",
       "    <tr>\n",
       "      <th>9</th>\n",
       "      <td>하성운</td>\n",
       "      <td>핫샷</td>\n",
       "      <td>스타크루이엔티</td>\n",
       "      <td>남자</td>\n",
       "      <td>1994-03-22</td>\n",
       "      <td>167.1</td>\n",
       "      <td>A</td>\n",
       "      <td>4036489</td>\n",
       "      <td>1</td>\n",
       "    </tr>\n",
       "    <tr>\n",
       "      <th>10</th>\n",
       "      <td>태연</td>\n",
       "      <td>소녀시대</td>\n",
       "      <td>SM</td>\n",
       "      <td>여자</td>\n",
       "      <td>1989-03-09</td>\n",
       "      <td>NaN</td>\n",
       "      <td>A</td>\n",
       "      <td>3918661</td>\n",
       "      <td>0</td>\n",
       "    </tr>\n",
       "    <tr>\n",
       "      <th>11</th>\n",
       "      <td>차은우</td>\n",
       "      <td>아스트로</td>\n",
       "      <td>판타지오</td>\n",
       "      <td>남자</td>\n",
       "      <td>1997-03-30</td>\n",
       "      <td>183.0</td>\n",
       "      <td>B</td>\n",
       "      <td>3506027</td>\n",
       "      <td>1</td>\n",
       "    </tr>\n",
       "    <tr>\n",
       "      <th>12</th>\n",
       "      <td>백호</td>\n",
       "      <td>뉴이스트</td>\n",
       "      <td>플레디스</td>\n",
       "      <td>남자</td>\n",
       "      <td>1995-07-21</td>\n",
       "      <td>175.0</td>\n",
       "      <td>AB</td>\n",
       "      <td>3301654</td>\n",
       "      <td>1</td>\n",
       "    </tr>\n",
       "    <tr>\n",
       "      <th>13</th>\n",
       "      <td>JR</td>\n",
       "      <td>뉴이스트</td>\n",
       "      <td>플레디스</td>\n",
       "      <td>남자</td>\n",
       "      <td>1995-06-08</td>\n",
       "      <td>176.0</td>\n",
       "      <td>O</td>\n",
       "      <td>3274137</td>\n",
       "      <td>1</td>\n",
       "    </tr>\n",
       "    <tr>\n",
       "      <th>14</th>\n",
       "      <td>슈가</td>\n",
       "      <td>방탄소년단</td>\n",
       "      <td>빅히트</td>\n",
       "      <td>남자</td>\n",
       "      <td>1993-03-09</td>\n",
       "      <td>174.0</td>\n",
       "      <td>O</td>\n",
       "      <td>2925442</td>\n",
       "      <td>1</td>\n",
       "    </tr>\n",
       "  </tbody>\n",
       "</table>\n",
       "</div>"
      ],
      "text/plain": [
       "      이름     그룹      소속사  성별        생년월일      키 혈액형   브랜드평판지수  성별_NEW\n",
       "0     지민  방탄소년단      빅히트  남자  1995-10-13  173.6   A  10523260       1\n",
       "1   지드래곤     빅뱅       YG  남자  1988-08-18  177.0   A   9916947       1\n",
       "2   강다니엘    NaN      커넥트  남자  1996-12-10  180.0   A   8273745       1\n",
       "3      뷔  방탄소년단      빅히트  남자  1995-12-30  178.0  AB   8073501       1\n",
       "4     화사    마마무      RBW  여자  1995-07-23  162.1   A   7650928       0\n",
       "5     정국  방탄소년단      빅히트  남자  1997-09-01  178.0   A   5208335       1\n",
       "6     민현   뉴이스트     플레디스  남자  1995-08-09  182.3   O   4989792       1\n",
       "7     소연    아이들       큐브  여자  1998-08-26    NaN   B   4668615       0\n",
       "8      진  방탄소년단      빅히트  남자  1992-12-04  179.2   O   4570308       1\n",
       "9    하성운     핫샷  스타크루이엔티  남자  1994-03-22  167.1   A   4036489       1\n",
       "10    태연   소녀시대       SM  여자  1989-03-09    NaN   A   3918661       0\n",
       "11   차은우   아스트로     판타지오  남자  1997-03-30  183.0   B   3506027       1\n",
       "12    백호   뉴이스트     플레디스  남자  1995-07-21  175.0  AB   3301654       1\n",
       "13    JR   뉴이스트     플레디스  남자  1995-06-08  176.0   O   3274137       1\n",
       "14    슈가  방탄소년단      빅히트  남자  1993-03-09  174.0   O   2925442       1"
      ]
     },
     "execution_count": 45,
     "metadata": {},
     "output_type": "execute_result"
    }
   ],
   "source": [
    "df"
   ]
  },
  {
   "cell_type": "markdown",
   "id": "d0e05500",
   "metadata": {},
   "source": [
    "## 3. lambda함수의 적용"
   ]
  },
  {
   "cell_type": "markdown",
   "id": "b6124ce6",
   "metadata": {},
   "source": [
    "* lambda를 1줄로 작성하는 간단 함수식\n",
    "* return을 별도로 명시하지 않는다"
   ]
  },
  {
   "cell_type": "code",
   "execution_count": 46,
   "id": "95cdf767",
   "metadata": {},
   "outputs": [],
   "source": [
    "f = lambda x:1 if x == '남자' else 0"
   ]
  },
  {
   "cell_type": "markdown",
   "id": "d57c43a3",
   "metadata": {},
   "source": [
    "해당 함수를 기존에 정의한 데이터 프레임중 특정 컬럼에 대해 적용하려면 다음과 같이 적용하면 된다."
   ]
  },
  {
   "cell_type": "markdown",
   "id": "aff35530",
   "metadata": {},
   "source": [
    "* 데이터프레임['컬럼'].apply(함수명)"
   ]
  },
  {
   "cell_type": "code",
   "execution_count": 47,
   "id": "09eae6b1",
   "metadata": {},
   "outputs": [
    {
     "data": {
      "text/plain": [
       "0     1\n",
       "1     1\n",
       "2     1\n",
       "3     1\n",
       "4     0\n",
       "5     1\n",
       "6     1\n",
       "7     0\n",
       "8     1\n",
       "9     1\n",
       "10    0\n",
       "11    1\n",
       "12    1\n",
       "13    1\n",
       "14    1\n",
       "Name: 성별, dtype: int64"
      ]
     },
     "execution_count": 47,
     "metadata": {},
     "output_type": "execute_result"
    }
   ],
   "source": [
    "df['성별'].apply(f)"
   ]
  },
  {
   "cell_type": "code",
   "execution_count": 48,
   "id": "0e172a8b",
   "metadata": {},
   "outputs": [],
   "source": [
    "df['키/2'] = df['키'].apply(lambda x:x / 2)"
   ]
  },
  {
   "cell_type": "code",
   "execution_count": 49,
   "id": "b1e3e92a",
   "metadata": {},
   "outputs": [
    {
     "data": {
      "text/html": [
       "<div>\n",
       "<style scoped>\n",
       "    .dataframe tbody tr th:only-of-type {\n",
       "        vertical-align: middle;\n",
       "    }\n",
       "\n",
       "    .dataframe tbody tr th {\n",
       "        vertical-align: top;\n",
       "    }\n",
       "\n",
       "    .dataframe thead th {\n",
       "        text-align: right;\n",
       "    }\n",
       "</style>\n",
       "<table border=\"1\" class=\"dataframe\">\n",
       "  <thead>\n",
       "    <tr style=\"text-align: right;\">\n",
       "      <th></th>\n",
       "      <th>이름</th>\n",
       "      <th>그룹</th>\n",
       "      <th>소속사</th>\n",
       "      <th>성별</th>\n",
       "      <th>생년월일</th>\n",
       "      <th>키</th>\n",
       "      <th>혈액형</th>\n",
       "      <th>브랜드평판지수</th>\n",
       "      <th>성별_NEW</th>\n",
       "      <th>키/2</th>\n",
       "    </tr>\n",
       "  </thead>\n",
       "  <tbody>\n",
       "    <tr>\n",
       "      <th>0</th>\n",
       "      <td>지민</td>\n",
       "      <td>방탄소년단</td>\n",
       "      <td>빅히트</td>\n",
       "      <td>남자</td>\n",
       "      <td>1995-10-13</td>\n",
       "      <td>173.6</td>\n",
       "      <td>A</td>\n",
       "      <td>10523260</td>\n",
       "      <td>1</td>\n",
       "      <td>86.80</td>\n",
       "    </tr>\n",
       "    <tr>\n",
       "      <th>1</th>\n",
       "      <td>지드래곤</td>\n",
       "      <td>빅뱅</td>\n",
       "      <td>YG</td>\n",
       "      <td>남자</td>\n",
       "      <td>1988-08-18</td>\n",
       "      <td>177.0</td>\n",
       "      <td>A</td>\n",
       "      <td>9916947</td>\n",
       "      <td>1</td>\n",
       "      <td>88.50</td>\n",
       "    </tr>\n",
       "    <tr>\n",
       "      <th>2</th>\n",
       "      <td>강다니엘</td>\n",
       "      <td>NaN</td>\n",
       "      <td>커넥트</td>\n",
       "      <td>남자</td>\n",
       "      <td>1996-12-10</td>\n",
       "      <td>180.0</td>\n",
       "      <td>A</td>\n",
       "      <td>8273745</td>\n",
       "      <td>1</td>\n",
       "      <td>90.00</td>\n",
       "    </tr>\n",
       "    <tr>\n",
       "      <th>3</th>\n",
       "      <td>뷔</td>\n",
       "      <td>방탄소년단</td>\n",
       "      <td>빅히트</td>\n",
       "      <td>남자</td>\n",
       "      <td>1995-12-30</td>\n",
       "      <td>178.0</td>\n",
       "      <td>AB</td>\n",
       "      <td>8073501</td>\n",
       "      <td>1</td>\n",
       "      <td>89.00</td>\n",
       "    </tr>\n",
       "    <tr>\n",
       "      <th>4</th>\n",
       "      <td>화사</td>\n",
       "      <td>마마무</td>\n",
       "      <td>RBW</td>\n",
       "      <td>여자</td>\n",
       "      <td>1995-07-23</td>\n",
       "      <td>162.1</td>\n",
       "      <td>A</td>\n",
       "      <td>7650928</td>\n",
       "      <td>0</td>\n",
       "      <td>81.05</td>\n",
       "    </tr>\n",
       "  </tbody>\n",
       "</table>\n",
       "</div>"
      ],
      "text/plain": [
       "     이름     그룹  소속사  성별        생년월일      키 혈액형   브랜드평판지수  성별_NEW    키/2\n",
       "0    지민  방탄소년단  빅히트  남자  1995-10-13  173.6   A  10523260       1  86.80\n",
       "1  지드래곤     빅뱅   YG  남자  1988-08-18  177.0   A   9916947       1  88.50\n",
       "2  강다니엘    NaN  커넥트  남자  1996-12-10  180.0   A   8273745       1  90.00\n",
       "3     뷔  방탄소년단  빅히트  남자  1995-12-30  178.0  AB   8073501       1  89.00\n",
       "4    화사    마마무  RBW  여자  1995-07-23  162.1   A   7650928       0  81.05"
      ]
     },
     "execution_count": 49,
     "metadata": {},
     "output_type": "execute_result"
    }
   ],
   "source": [
    "df.head()"
   ]
  },
  {
   "cell_type": "code",
   "execution_count": 50,
   "id": "f1fa3a2c",
   "metadata": {},
   "outputs": [
    {
     "data": {
      "text/plain": [
       "0     30136.96\n",
       "1     31329.00\n",
       "2     32400.00\n",
       "3     31684.00\n",
       "4     26276.41\n",
       "5     31684.00\n",
       "6     33233.29\n",
       "7          NaN\n",
       "8     32112.64\n",
       "9     27922.41\n",
       "10         NaN\n",
       "11    33489.00\n",
       "12    30625.00\n",
       "13    30976.00\n",
       "14    30276.00\n",
       "Name: 키, dtype: float64"
      ]
     },
     "execution_count": 50,
     "metadata": {},
     "output_type": "execute_result"
    }
   ],
   "source": [
    "df['키'].apply(lambda x: x**2)"
   ]
  },
  {
   "cell_type": "markdown",
   "id": "8d6b2f4b",
   "metadata": {},
   "source": [
    "apply에 함수식을 만들어서 적용해주것과 동일하기 때문에, 복잡한 조건식은 함수로 간단한 계산식은 lambda로 적용할 수 있다."
   ]
  },
  {
   "cell_type": "markdown",
   "id": "83a22f07",
   "metadata": {},
   "source": [
    "## 4. map - 값을 매핑"
   ]
  },
  {
   "cell_type": "code",
   "execution_count": 51,
   "id": "60f6a4a2",
   "metadata": {},
   "outputs": [
    {
     "data": {
      "text/html": [
       "<div>\n",
       "<style scoped>\n",
       "    .dataframe tbody tr th:only-of-type {\n",
       "        vertical-align: middle;\n",
       "    }\n",
       "\n",
       "    .dataframe tbody tr th {\n",
       "        vertical-align: top;\n",
       "    }\n",
       "\n",
       "    .dataframe thead th {\n",
       "        text-align: right;\n",
       "    }\n",
       "</style>\n",
       "<table border=\"1\" class=\"dataframe\">\n",
       "  <thead>\n",
       "    <tr style=\"text-align: right;\">\n",
       "      <th></th>\n",
       "      <th>이름</th>\n",
       "      <th>그룹</th>\n",
       "      <th>소속사</th>\n",
       "      <th>성별</th>\n",
       "      <th>생년월일</th>\n",
       "      <th>키</th>\n",
       "      <th>혈액형</th>\n",
       "      <th>브랜드평판지수</th>\n",
       "      <th>성별_NEW</th>\n",
       "      <th>키/2</th>\n",
       "    </tr>\n",
       "  </thead>\n",
       "  <tbody>\n",
       "    <tr>\n",
       "      <th>0</th>\n",
       "      <td>지민</td>\n",
       "      <td>방탄소년단</td>\n",
       "      <td>빅히트</td>\n",
       "      <td>남자</td>\n",
       "      <td>1995-10-13</td>\n",
       "      <td>173.6</td>\n",
       "      <td>A</td>\n",
       "      <td>10523260</td>\n",
       "      <td>1</td>\n",
       "      <td>86.80</td>\n",
       "    </tr>\n",
       "    <tr>\n",
       "      <th>1</th>\n",
       "      <td>지드래곤</td>\n",
       "      <td>빅뱅</td>\n",
       "      <td>YG</td>\n",
       "      <td>남자</td>\n",
       "      <td>1988-08-18</td>\n",
       "      <td>177.0</td>\n",
       "      <td>A</td>\n",
       "      <td>9916947</td>\n",
       "      <td>1</td>\n",
       "      <td>88.50</td>\n",
       "    </tr>\n",
       "    <tr>\n",
       "      <th>2</th>\n",
       "      <td>강다니엘</td>\n",
       "      <td>NaN</td>\n",
       "      <td>커넥트</td>\n",
       "      <td>남자</td>\n",
       "      <td>1996-12-10</td>\n",
       "      <td>180.0</td>\n",
       "      <td>A</td>\n",
       "      <td>8273745</td>\n",
       "      <td>1</td>\n",
       "      <td>90.00</td>\n",
       "    </tr>\n",
       "    <tr>\n",
       "      <th>3</th>\n",
       "      <td>뷔</td>\n",
       "      <td>방탄소년단</td>\n",
       "      <td>빅히트</td>\n",
       "      <td>남자</td>\n",
       "      <td>1995-12-30</td>\n",
       "      <td>178.0</td>\n",
       "      <td>AB</td>\n",
       "      <td>8073501</td>\n",
       "      <td>1</td>\n",
       "      <td>89.00</td>\n",
       "    </tr>\n",
       "    <tr>\n",
       "      <th>4</th>\n",
       "      <td>화사</td>\n",
       "      <td>마마무</td>\n",
       "      <td>RBW</td>\n",
       "      <td>여자</td>\n",
       "      <td>1995-07-23</td>\n",
       "      <td>162.1</td>\n",
       "      <td>A</td>\n",
       "      <td>7650928</td>\n",
       "      <td>0</td>\n",
       "      <td>81.05</td>\n",
       "    </tr>\n",
       "  </tbody>\n",
       "</table>\n",
       "</div>"
      ],
      "text/plain": [
       "     이름     그룹  소속사  성별        생년월일      키 혈액형   브랜드평판지수  성별_NEW    키/2\n",
       "0    지민  방탄소년단  빅히트  남자  1995-10-13  173.6   A  10523260       1  86.80\n",
       "1  지드래곤     빅뱅   YG  남자  1988-08-18  177.0   A   9916947       1  88.50\n",
       "2  강다니엘    NaN  커넥트  남자  1996-12-10  180.0   A   8273745       1  90.00\n",
       "3     뷔  방탄소년단  빅히트  남자  1995-12-30  178.0  AB   8073501       1  89.00\n",
       "4    화사    마마무  RBW  여자  1995-07-23  162.1   A   7650928       0  81.05"
      ]
     },
     "execution_count": 51,
     "metadata": {},
     "output_type": "execute_result"
    }
   ],
   "source": [
    "df.head()"
   ]
  },
  {
   "cell_type": "code",
   "execution_count": 53,
   "id": "c243723e",
   "metadata": {},
   "outputs": [],
   "source": [
    "# python dict의 정의로\n",
    "my_map = {\n",
    "    '남자': 1,\n",
    "    '여자': 0\n",
    "}"
   ]
  },
  {
   "cell_type": "code",
   "execution_count": 54,
   "id": "7065b20b",
   "metadata": {},
   "outputs": [
    {
     "data": {
      "text/plain": [
       "0     1\n",
       "1     1\n",
       "2     1\n",
       "3     1\n",
       "4     0\n",
       "5     1\n",
       "6     1\n",
       "7     0\n",
       "8     1\n",
       "9     1\n",
       "10    0\n",
       "11    1\n",
       "12    1\n",
       "13    1\n",
       "14    1\n",
       "Name: 성별, dtype: int64"
      ]
     },
     "execution_count": 54,
     "metadata": {},
     "output_type": "execute_result"
    }
   ],
   "source": [
    "# map이라는 함수를 사용할 때는 dict{} 하나가 정의되어있어야 하고\n",
    "# .map({dict})\n",
    "df['성별'].map(my_map)"
   ]
  },
  {
   "cell_type": "code",
   "execution_count": 55,
   "id": "0ab80359",
   "metadata": {},
   "outputs": [],
   "source": [
    "my_map = {\n",
    "    '남자': 'male',\n",
    "    '여자': 'female'\n",
    "}"
   ]
  },
  {
   "cell_type": "code",
   "execution_count": 56,
   "id": "b88f2a9f",
   "metadata": {},
   "outputs": [
    {
     "data": {
      "text/plain": [
       "0       male\n",
       "1       male\n",
       "2       male\n",
       "3       male\n",
       "4     female\n",
       "5       male\n",
       "6       male\n",
       "7     female\n",
       "8       male\n",
       "9       male\n",
       "10    female\n",
       "11      male\n",
       "12      male\n",
       "13      male\n",
       "14      male\n",
       "Name: 성별, dtype: object"
      ]
     },
     "execution_count": 56,
     "metadata": {},
     "output_type": "execute_result"
    }
   ],
   "source": [
    "df['성별'].map(my_map)"
   ]
  },
  {
   "cell_type": "markdown",
   "id": "4350f332",
   "metadata": {},
   "source": [
    "### applyTest데이터로 람다함수 연습하기"
   ]
  },
  {
   "cell_type": "code",
   "execution_count": 1,
   "id": "6cf6aa05",
   "metadata": {},
   "outputs": [],
   "source": [
    "import pandas as pd\n",
    "csvFile = 'C:/Users/chunc/Desktop/취업캠프/python/python/pandas/pandas/applyTest.csv'"
   ]
  },
  {
   "cell_type": "code",
   "execution_count": 2,
   "id": "f130c3e8",
   "metadata": {},
   "outputs": [
    {
     "data": {
      "text/html": [
       "<div>\n",
       "<style scoped>\n",
       "    .dataframe tbody tr th:only-of-type {\n",
       "        vertical-align: middle;\n",
       "    }\n",
       "\n",
       "    .dataframe tbody tr th {\n",
       "        vertical-align: top;\n",
       "    }\n",
       "\n",
       "    .dataframe thead th {\n",
       "        text-align: right;\n",
       "    }\n",
       "</style>\n",
       "<table border=\"1\" class=\"dataframe\">\n",
       "  <thead>\n",
       "    <tr style=\"text-align: right;\">\n",
       "      <th></th>\n",
       "      <th>op1</th>\n",
       "      <th>op2</th>\n",
       "      <th>result</th>\n",
       "    </tr>\n",
       "  </thead>\n",
       "  <tbody>\n",
       "    <tr>\n",
       "      <th>0</th>\n",
       "      <td>3</td>\n",
       "      <td>5</td>\n",
       "      <td>NaN</td>\n",
       "    </tr>\n",
       "    <tr>\n",
       "      <th>1</th>\n",
       "      <td>7</td>\n",
       "      <td>6</td>\n",
       "      <td>NaN</td>\n",
       "    </tr>\n",
       "    <tr>\n",
       "      <th>2</th>\n",
       "      <td>6</td>\n",
       "      <td>7</td>\n",
       "      <td>NaN</td>\n",
       "    </tr>\n",
       "    <tr>\n",
       "      <th>3</th>\n",
       "      <td>4</td>\n",
       "      <td>98</td>\n",
       "      <td>NaN</td>\n",
       "    </tr>\n",
       "    <tr>\n",
       "      <th>4</th>\n",
       "      <td>3</td>\n",
       "      <td>8</td>\n",
       "      <td>NaN</td>\n",
       "    </tr>\n",
       "    <tr>\n",
       "      <th>5</th>\n",
       "      <td>1</td>\n",
       "      <td>6</td>\n",
       "      <td>NaN</td>\n",
       "    </tr>\n",
       "  </tbody>\n",
       "</table>\n",
       "</div>"
      ],
      "text/plain": [
       "   op1  op2  result\n",
       "0    3    5     NaN\n",
       "1    7    6     NaN\n",
       "2    6    7     NaN\n",
       "3    4   98     NaN\n",
       "4    3    8     NaN\n",
       "5    1    6     NaN"
      ]
     },
     "execution_count": 2,
     "metadata": {},
     "output_type": "execute_result"
    }
   ],
   "source": [
    "df = pd.read_csv(csvFile)\n",
    "df"
   ]
  },
  {
   "cell_type": "code",
   "execution_count": 3,
   "id": "36525219",
   "metadata": {},
   "outputs": [
    {
     "data": {
      "text/html": [
       "<div>\n",
       "<style scoped>\n",
       "    .dataframe tbody tr th:only-of-type {\n",
       "        vertical-align: middle;\n",
       "    }\n",
       "\n",
       "    .dataframe tbody tr th {\n",
       "        vertical-align: top;\n",
       "    }\n",
       "\n",
       "    .dataframe thead th {\n",
       "        text-align: right;\n",
       "    }\n",
       "</style>\n",
       "<table border=\"1\" class=\"dataframe\">\n",
       "  <thead>\n",
       "    <tr style=\"text-align: right;\">\n",
       "      <th></th>\n",
       "      <th>op1</th>\n",
       "      <th>op2</th>\n",
       "    </tr>\n",
       "  </thead>\n",
       "  <tbody>\n",
       "    <tr>\n",
       "      <th>0</th>\n",
       "      <td>3</td>\n",
       "      <td>5</td>\n",
       "    </tr>\n",
       "    <tr>\n",
       "      <th>1</th>\n",
       "      <td>7</td>\n",
       "      <td>6</td>\n",
       "    </tr>\n",
       "    <tr>\n",
       "      <th>2</th>\n",
       "      <td>6</td>\n",
       "      <td>7</td>\n",
       "    </tr>\n",
       "    <tr>\n",
       "      <th>3</th>\n",
       "      <td>4</td>\n",
       "      <td>98</td>\n",
       "    </tr>\n",
       "    <tr>\n",
       "      <th>4</th>\n",
       "      <td>3</td>\n",
       "      <td>8</td>\n",
       "    </tr>\n",
       "    <tr>\n",
       "      <th>5</th>\n",
       "      <td>1</td>\n",
       "      <td>6</td>\n",
       "    </tr>\n",
       "  </tbody>\n",
       "</table>\n",
       "</div>"
      ],
      "text/plain": [
       "   op1  op2\n",
       "0    3    5\n",
       "1    7    6\n",
       "2    6    7\n",
       "3    4   98\n",
       "4    3    8\n",
       "5    1    6"
      ]
     },
     "execution_count": 3,
     "metadata": {},
     "output_type": "execute_result"
    }
   ],
   "source": [
    "# result 컬럼 삭제\n",
    "df.drop('result', axis = 1, inplace = True)\n",
    "df"
   ]
  },
  {
   "cell_type": "code",
   "execution_count": 4,
   "id": "bf01120f",
   "metadata": {},
   "outputs": [
    {
     "data": {
      "text/html": [
       "<div>\n",
       "<style scoped>\n",
       "    .dataframe tbody tr th:only-of-type {\n",
       "        vertical-align: middle;\n",
       "    }\n",
       "\n",
       "    .dataframe tbody tr th {\n",
       "        vertical-align: top;\n",
       "    }\n",
       "\n",
       "    .dataframe thead th {\n",
       "        text-align: right;\n",
       "    }\n",
       "</style>\n",
       "<table border=\"1\" class=\"dataframe\">\n",
       "  <thead>\n",
       "    <tr style=\"text-align: right;\">\n",
       "      <th></th>\n",
       "      <th>op1</th>\n",
       "      <th>op2</th>\n",
       "      <th>result</th>\n",
       "    </tr>\n",
       "  </thead>\n",
       "  <tbody>\n",
       "    <tr>\n",
       "      <th>0</th>\n",
       "      <td>3</td>\n",
       "      <td>5</td>\n",
       "      <td>15</td>\n",
       "    </tr>\n",
       "    <tr>\n",
       "      <th>1</th>\n",
       "      <td>7</td>\n",
       "      <td>6</td>\n",
       "      <td>42</td>\n",
       "    </tr>\n",
       "    <tr>\n",
       "      <th>2</th>\n",
       "      <td>6</td>\n",
       "      <td>7</td>\n",
       "      <td>42</td>\n",
       "    </tr>\n",
       "    <tr>\n",
       "      <th>3</th>\n",
       "      <td>4</td>\n",
       "      <td>98</td>\n",
       "      <td>392</td>\n",
       "    </tr>\n",
       "    <tr>\n",
       "      <th>4</th>\n",
       "      <td>3</td>\n",
       "      <td>8</td>\n",
       "      <td>24</td>\n",
       "    </tr>\n",
       "    <tr>\n",
       "      <th>5</th>\n",
       "      <td>1</td>\n",
       "      <td>6</td>\n",
       "      <td>6</td>\n",
       "    </tr>\n",
       "  </tbody>\n",
       "</table>\n",
       "</div>"
      ],
      "text/plain": [
       "   op1  op2  result\n",
       "0    3    5      15\n",
       "1    7    6      42\n",
       "2    6    7      42\n",
       "3    4   98     392\n",
       "4    3    8      24\n",
       "5    1    6       6"
      ]
     },
     "execution_count": 4,
     "metadata": {},
     "output_type": "execute_result"
    }
   ],
   "source": [
    "# op1 * op2 = result계산하는 람다함수 생성, apply와 map함수 사용해서 'result'컬럼에 저장하기\n",
    "# 방법1\n",
    "df['result'] = df.apply(lambda x: x['op1'] * x['op2'], axis = 1)\n",
    "df"
   ]
  },
  {
   "cell_type": "code",
   "execution_count": 5,
   "id": "55483ee7",
   "metadata": {},
   "outputs": [
    {
     "data": {
      "text/html": [
       "<div>\n",
       "<style scoped>\n",
       "    .dataframe tbody tr th:only-of-type {\n",
       "        vertical-align: middle;\n",
       "    }\n",
       "\n",
       "    .dataframe tbody tr th {\n",
       "        vertical-align: top;\n",
       "    }\n",
       "\n",
       "    .dataframe thead th {\n",
       "        text-align: right;\n",
       "    }\n",
       "</style>\n",
       "<table border=\"1\" class=\"dataframe\">\n",
       "  <thead>\n",
       "    <tr style=\"text-align: right;\">\n",
       "      <th></th>\n",
       "      <th>op1</th>\n",
       "      <th>op2</th>\n",
       "      <th>result</th>\n",
       "    </tr>\n",
       "  </thead>\n",
       "  <tbody>\n",
       "    <tr>\n",
       "      <th>0</th>\n",
       "      <td>3</td>\n",
       "      <td>5</td>\n",
       "      <td>-2</td>\n",
       "    </tr>\n",
       "    <tr>\n",
       "      <th>1</th>\n",
       "      <td>7</td>\n",
       "      <td>6</td>\n",
       "      <td>1</td>\n",
       "    </tr>\n",
       "    <tr>\n",
       "      <th>2</th>\n",
       "      <td>6</td>\n",
       "      <td>7</td>\n",
       "      <td>-1</td>\n",
       "    </tr>\n",
       "    <tr>\n",
       "      <th>3</th>\n",
       "      <td>4</td>\n",
       "      <td>98</td>\n",
       "      <td>-94</td>\n",
       "    </tr>\n",
       "    <tr>\n",
       "      <th>4</th>\n",
       "      <td>3</td>\n",
       "      <td>8</td>\n",
       "      <td>-5</td>\n",
       "    </tr>\n",
       "    <tr>\n",
       "      <th>5</th>\n",
       "      <td>1</td>\n",
       "      <td>6</td>\n",
       "      <td>-5</td>\n",
       "    </tr>\n",
       "  </tbody>\n",
       "</table>\n",
       "</div>"
      ],
      "text/plain": [
       "   op1  op2  result\n",
       "0    3    5      -2\n",
       "1    7    6       1\n",
       "2    6    7      -1\n",
       "3    4   98     -94\n",
       "4    3    8      -5\n",
       "5    1    6      -5"
      ]
     },
     "execution_count": 5,
     "metadata": {},
     "output_type": "execute_result"
    }
   ],
   "source": [
    "# 방법2\n",
    "my_sub = lambda x: x['op1'] - x['op2']\n",
    "df['result'] = df.apply(my_sub, axis = 1)\n",
    "df"
   ]
  },
  {
   "cell_type": "code",
   "execution_count": 7,
   "id": "6a2c30c7",
   "metadata": {},
   "outputs": [
    {
     "data": {
      "text/html": [
       "<div>\n",
       "<style scoped>\n",
       "    .dataframe tbody tr th:only-of-type {\n",
       "        vertical-align: middle;\n",
       "    }\n",
       "\n",
       "    .dataframe tbody tr th {\n",
       "        vertical-align: top;\n",
       "    }\n",
       "\n",
       "    .dataframe thead th {\n",
       "        text-align: right;\n",
       "    }\n",
       "</style>\n",
       "<table border=\"1\" class=\"dataframe\">\n",
       "  <thead>\n",
       "    <tr style=\"text-align: right;\">\n",
       "      <th></th>\n",
       "      <th>1</th>\n",
       "      <th>2</th>\n",
       "      <th>3</th>\n",
       "      <th>4</th>\n",
       "    </tr>\n",
       "  </thead>\n",
       "  <tbody>\n",
       "    <tr>\n",
       "      <th>0</th>\n",
       "      <td>I</td>\n",
       "      <td>am</td>\n",
       "      <td>a</td>\n",
       "      <td>boy</td>\n",
       "    </tr>\n",
       "    <tr>\n",
       "      <th>1</th>\n",
       "      <td>You</td>\n",
       "      <td>are</td>\n",
       "      <td>a</td>\n",
       "      <td>girl</td>\n",
       "    </tr>\n",
       "    <tr>\n",
       "      <th>2</th>\n",
       "      <td>This</td>\n",
       "      <td>is</td>\n",
       "      <td>a</td>\n",
       "      <td>pen</td>\n",
       "    </tr>\n",
       "  </tbody>\n",
       "</table>\n",
       "</div>"
      ],
      "text/plain": [
       "      1    2   3     4\n",
       "0     I  am    a   boy\n",
       "1   You  are  a   girl\n",
       "2  This   is  a    pen"
      ]
     },
     "execution_count": 7,
     "metadata": {},
     "output_type": "execute_result"
    }
   ],
   "source": [
    "# 컬럼명이 없는데이터는 첫번째 value값이 컬럼명으로 지정될 때도 있다 -> header = None\n",
    "# 아래의 경우는 파일자체에서 수정했다\n",
    "csvFile1 = 'C:/Users/chunc/Desktop/취업캠프/python/python/pandas/pandas/applyTest2.csv'\n",
    "df2 = pd.read_csv(csvFile1)\n",
    "df2"
   ]
  },
  {
   "cell_type": "code",
   "execution_count": 8,
   "id": "fb096793",
   "metadata": {},
   "outputs": [],
   "source": [
    "# 1, 2, 3, 4의 컬럼을 더해서 하나의 문자열로 만들기\n",
    "# apply, 일반함수 또는 람다함수 사용\n",
    "# strip()를 이용하여 문자열사이에 들어간 공백 제거\n",
    "# 인덱싱 방법1\n",
    "my_add = lambda x: x['1'].strip() + ' ' + x['2'].strip() + ' ' + x['3'].strip() + ' ' +x['4'].strip()\n",
    "df2['result'] = df2.apply(my_add, axis = 1)"
   ]
  },
  {
   "cell_type": "code",
   "execution_count": 9,
   "id": "2f869052",
   "metadata": {},
   "outputs": [
    {
     "data": {
      "text/html": [
       "<div>\n",
       "<style scoped>\n",
       "    .dataframe tbody tr th:only-of-type {\n",
       "        vertical-align: middle;\n",
       "    }\n",
       "\n",
       "    .dataframe tbody tr th {\n",
       "        vertical-align: top;\n",
       "    }\n",
       "\n",
       "    .dataframe thead th {\n",
       "        text-align: right;\n",
       "    }\n",
       "</style>\n",
       "<table border=\"1\" class=\"dataframe\">\n",
       "  <thead>\n",
       "    <tr style=\"text-align: right;\">\n",
       "      <th></th>\n",
       "      <th>1</th>\n",
       "      <th>2</th>\n",
       "      <th>3</th>\n",
       "      <th>4</th>\n",
       "      <th>result</th>\n",
       "    </tr>\n",
       "  </thead>\n",
       "  <tbody>\n",
       "    <tr>\n",
       "      <th>0</th>\n",
       "      <td>I</td>\n",
       "      <td>am</td>\n",
       "      <td>a</td>\n",
       "      <td>boy</td>\n",
       "      <td>I am a boy</td>\n",
       "    </tr>\n",
       "    <tr>\n",
       "      <th>1</th>\n",
       "      <td>You</td>\n",
       "      <td>are</td>\n",
       "      <td>a</td>\n",
       "      <td>girl</td>\n",
       "      <td>You are a girl</td>\n",
       "    </tr>\n",
       "    <tr>\n",
       "      <th>2</th>\n",
       "      <td>This</td>\n",
       "      <td>is</td>\n",
       "      <td>a</td>\n",
       "      <td>pen</td>\n",
       "      <td>This is a pen</td>\n",
       "    </tr>\n",
       "  </tbody>\n",
       "</table>\n",
       "</div>"
      ],
      "text/plain": [
       "      1    2   3     4          result\n",
       "0     I  am    a   boy      I am a boy\n",
       "1   You  are  a   girl  You are a girl\n",
       "2  This   is  a    pen   This is a pen"
      ]
     },
     "execution_count": 9,
     "metadata": {},
     "output_type": "execute_result"
    }
   ],
   "source": [
    "df2"
   ]
  },
  {
   "cell_type": "code",
   "execution_count": 10,
   "id": "86537aa1",
   "metadata": {},
   "outputs": [
    {
     "data": {
      "text/html": [
       "<div>\n",
       "<style scoped>\n",
       "    .dataframe tbody tr th:only-of-type {\n",
       "        vertical-align: middle;\n",
       "    }\n",
       "\n",
       "    .dataframe tbody tr th {\n",
       "        vertical-align: top;\n",
       "    }\n",
       "\n",
       "    .dataframe thead th {\n",
       "        text-align: right;\n",
       "    }\n",
       "</style>\n",
       "<table border=\"1\" class=\"dataframe\">\n",
       "  <thead>\n",
       "    <tr style=\"text-align: right;\">\n",
       "      <th></th>\n",
       "      <th>1</th>\n",
       "      <th>2</th>\n",
       "      <th>3</th>\n",
       "      <th>4</th>\n",
       "      <th>result</th>\n",
       "    </tr>\n",
       "  </thead>\n",
       "  <tbody>\n",
       "    <tr>\n",
       "      <th>0</th>\n",
       "      <td>I</td>\n",
       "      <td>am</td>\n",
       "      <td>a</td>\n",
       "      <td>boy</td>\n",
       "      <td>I am a boy</td>\n",
       "    </tr>\n",
       "    <tr>\n",
       "      <th>1</th>\n",
       "      <td>You</td>\n",
       "      <td>are</td>\n",
       "      <td>a</td>\n",
       "      <td>girl</td>\n",
       "      <td>You are a girl</td>\n",
       "    </tr>\n",
       "    <tr>\n",
       "      <th>2</th>\n",
       "      <td>This</td>\n",
       "      <td>is</td>\n",
       "      <td>a</td>\n",
       "      <td>pen</td>\n",
       "      <td>This is a pen</td>\n",
       "    </tr>\n",
       "  </tbody>\n",
       "</table>\n",
       "</div>"
      ],
      "text/plain": [
       "      1    2   3     4          result\n",
       "0     I  am    a   boy      I am a boy\n",
       "1   You  are  a   girl  You are a girl\n",
       "2  This   is  a    pen   This is a pen"
      ]
     },
     "execution_count": 10,
     "metadata": {},
     "output_type": "execute_result"
    }
   ],
   "source": [
    "# 인덱싱 방법2\n",
    "my_add = lambda x: x[0].strip() + ' ' + x[1].strip() + ' ' + x[2].strip() + ' ' + x[3].strip()\n",
    "df2['result'] = df2.apply(my_add, axis = 1)\n",
    "df2"
   ]
  },
  {
   "cell_type": "code",
   "execution_count": 11,
   "id": "ecc453de",
   "metadata": {},
   "outputs": [
    {
     "name": "stdout",
     "output_type": "stream",
     "text": [
      "1      I\n",
      "2    am \n",
      "Name: 0, dtype: object\n",
      "1    You\n",
      "2    are\n",
      "Name: 1, dtype: object\n",
      "1    This\n",
      "2      is\n",
      "Name: 2, dtype: object\n"
     ]
    },
    {
     "data": {
      "text/plain": [
       "0    None\n",
       "1    None\n",
       "2    None\n",
       "dtype: object"
      ]
     },
     "execution_count": 11,
     "metadata": {},
     "output_type": "execute_result"
    }
   ],
   "source": [
    "# 데이터프레임에서 참조하고 싶은 칼럼만 추출하고싶을때\n",
    "# 데이터프레임의 '1', '2' 칼럼을 리스트에 넣고 실행\n",
    "col = ['1', '2']\n",
    "df2[col].apply(lambda x: print(x), axis = 1)"
   ]
  },
  {
   "cell_type": "markdown",
   "id": "bbb6e484",
   "metadata": {},
   "source": [
    "## 5. Column과 Column간 연산(+, -, *, /, %)"
   ]
  },
  {
   "cell_type": "markdown",
   "id": "4aad5d17",
   "metadata": {},
   "source": [
    "### 예제 DataFrame 생성"
   ]
  },
  {
   "cell_type": "code",
   "execution_count": 13,
   "id": "d4319f3c",
   "metadata": {},
   "outputs": [
    {
     "data": {
      "text/html": [
       "<div>\n",
       "<style scoped>\n",
       "    .dataframe tbody tr th:only-of-type {\n",
       "        vertical-align: middle;\n",
       "    }\n",
       "\n",
       "    .dataframe tbody tr th {\n",
       "        vertical-align: top;\n",
       "    }\n",
       "\n",
       "    .dataframe thead th {\n",
       "        text-align: right;\n",
       "    }\n",
       "</style>\n",
       "<table border=\"1\" class=\"dataframe\">\n",
       "  <thead>\n",
       "    <tr style=\"text-align: right;\">\n",
       "      <th></th>\n",
       "      <th>통계</th>\n",
       "      <th>미술</th>\n",
       "      <th>체육</th>\n",
       "    </tr>\n",
       "  </thead>\n",
       "  <tbody>\n",
       "    <tr>\n",
       "      <th>0</th>\n",
       "      <td>60</td>\n",
       "      <td>50</td>\n",
       "      <td>70</td>\n",
       "    </tr>\n",
       "    <tr>\n",
       "      <th>1</th>\n",
       "      <td>70</td>\n",
       "      <td>55</td>\n",
       "      <td>65</td>\n",
       "    </tr>\n",
       "    <tr>\n",
       "      <th>2</th>\n",
       "      <td>80</td>\n",
       "      <td>80</td>\n",
       "      <td>50</td>\n",
       "    </tr>\n",
       "    <tr>\n",
       "      <th>3</th>\n",
       "      <td>85</td>\n",
       "      <td>100</td>\n",
       "      <td>95</td>\n",
       "    </tr>\n",
       "    <tr>\n",
       "      <th>4</th>\n",
       "      <td>75</td>\n",
       "      <td>95</td>\n",
       "      <td>100</td>\n",
       "    </tr>\n",
       "  </tbody>\n",
       "</table>\n",
       "</div>"
      ],
      "text/plain": [
       "   통계   미술   체육\n",
       "0  60   50   70\n",
       "1  70   55   65\n",
       "2  80   80   50\n",
       "3  85  100   95\n",
       "4  75   95  100"
      ]
     },
     "execution_count": 13,
     "metadata": {},
     "output_type": "execute_result"
    }
   ],
   "source": [
    "df = pd.DataFrame({'통계': [60, 70, 80, 85, 75], '미술': [50, 55, 80, 100, 95], '체육': [70, 65, 50, 95, 100] })\n",
    "df"
   ]
  },
  {
   "cell_type": "code",
   "execution_count": 14,
   "id": "8ad7d4c8",
   "metadata": {},
   "outputs": [
    {
     "data": {
      "text/plain": [
       "pandas.core.series.Series"
      ]
     },
     "execution_count": 14,
     "metadata": {},
     "output_type": "execute_result"
    }
   ],
   "source": [
    "type(df['통계'])"
   ]
  },
  {
   "cell_type": "code",
   "execution_count": 15,
   "id": "9ae961d2",
   "metadata": {},
   "outputs": [
    {
     "name": "stdout",
     "output_type": "stream",
     "text": [
      "<class 'pandas.core.frame.DataFrame'>\n",
      "RangeIndex: 5 entries, 0 to 4\n",
      "Data columns (total 3 columns):\n",
      " #   Column  Non-Null Count  Dtype\n",
      "---  ------  --------------  -----\n",
      " 0   통계      5 non-null      int64\n",
      " 1   미술      5 non-null      int64\n",
      " 2   체육      5 non-null      int64\n",
      "dtypes: int64(3)\n",
      "memory usage: 248.0 bytes\n"
     ]
    }
   ],
   "source": [
    "# 데이터의 타입 먼저 확인\n",
    "df.info()"
   ]
  },
  {
   "cell_type": "code",
   "execution_count": 16,
   "id": "766dc461",
   "metadata": {},
   "outputs": [
    {
     "data": {
      "text/plain": [
       "0    180\n",
       "1    190\n",
       "2    210\n",
       "3    280\n",
       "4    270\n",
       "dtype: int64"
      ]
     },
     "execution_count": 16,
     "metadata": {},
     "output_type": "execute_result"
    }
   ],
   "source": [
    "df['통계'] + df['미술'] + df['체육']"
   ]
  },
  {
   "cell_type": "code",
   "execution_count": 17,
   "id": "19f3216f",
   "metadata": {},
   "outputs": [
    {
     "data": {
      "text/plain": [
       "0    10\n",
       "1    15\n",
       "2     0\n",
       "3   -15\n",
       "4   -20\n",
       "dtype: int64"
      ]
     },
     "execution_count": 17,
     "metadata": {},
     "output_type": "execute_result"
    }
   ],
   "source": [
    "df['통계'] - df['미술']"
   ]
  },
  {
   "cell_type": "code",
   "execution_count": 18,
   "id": "8b8f91d3",
   "metadata": {},
   "outputs": [
    {
     "data": {
      "text/plain": [
       "0    3000\n",
       "1    3850\n",
       "2    6400\n",
       "3    8500\n",
       "4    7125\n",
       "dtype: int64"
      ]
     },
     "execution_count": 18,
     "metadata": {},
     "output_type": "execute_result"
    }
   ],
   "source": [
    "df['통계'] * df['미술']"
   ]
  },
  {
   "cell_type": "code",
   "execution_count": 19,
   "id": "8798427a",
   "metadata": {},
   "outputs": [
    {
     "data": {
      "text/plain": [
       "0    1.200000\n",
       "1    1.272727\n",
       "2    1.000000\n",
       "3    0.850000\n",
       "4    0.789474\n",
       "dtype: float64"
      ]
     },
     "execution_count": 19,
     "metadata": {},
     "output_type": "execute_result"
    }
   ],
   "source": [
    "df['통계'] / df['미술']"
   ]
  },
  {
   "cell_type": "code",
   "execution_count": 20,
   "id": "e3fe4651",
   "metadata": {},
   "outputs": [
    {
     "data": {
      "text/plain": [
       "0    10\n",
       "1    15\n",
       "2     0\n",
       "3    85\n",
       "4    75\n",
       "dtype: int64"
      ]
     },
     "execution_count": 20,
     "metadata": {},
     "output_type": "execute_result"
    }
   ],
   "source": [
    "df['통계'] % df['미술']"
   ]
  },
  {
   "cell_type": "markdown",
   "id": "c2e5d61a",
   "metadata": {},
   "source": [
    "## 6. Column과 숫자 간 연산(+, -, *, /, %)"
   ]
  },
  {
   "cell_type": "code",
   "execution_count": 21,
   "id": "febede43",
   "metadata": {},
   "outputs": [
    {
     "data": {
      "text/html": [
       "<div>\n",
       "<style scoped>\n",
       "    .dataframe tbody tr th:only-of-type {\n",
       "        vertical-align: middle;\n",
       "    }\n",
       "\n",
       "    .dataframe tbody tr th {\n",
       "        vertical-align: top;\n",
       "    }\n",
       "\n",
       "    .dataframe thead th {\n",
       "        text-align: right;\n",
       "    }\n",
       "</style>\n",
       "<table border=\"1\" class=\"dataframe\">\n",
       "  <thead>\n",
       "    <tr style=\"text-align: right;\">\n",
       "      <th></th>\n",
       "      <th>통계</th>\n",
       "      <th>미술</th>\n",
       "      <th>체육</th>\n",
       "    </tr>\n",
       "  </thead>\n",
       "  <tbody>\n",
       "    <tr>\n",
       "      <th>0</th>\n",
       "      <td>60</td>\n",
       "      <td>50</td>\n",
       "      <td>70</td>\n",
       "    </tr>\n",
       "    <tr>\n",
       "      <th>1</th>\n",
       "      <td>70</td>\n",
       "      <td>55</td>\n",
       "      <td>65</td>\n",
       "    </tr>\n",
       "    <tr>\n",
       "      <th>2</th>\n",
       "      <td>80</td>\n",
       "      <td>80</td>\n",
       "      <td>50</td>\n",
       "    </tr>\n",
       "    <tr>\n",
       "      <th>3</th>\n",
       "      <td>85</td>\n",
       "      <td>100</td>\n",
       "      <td>95</td>\n",
       "    </tr>\n",
       "    <tr>\n",
       "      <th>4</th>\n",
       "      <td>75</td>\n",
       "      <td>95</td>\n",
       "      <td>100</td>\n",
       "    </tr>\n",
       "  </tbody>\n",
       "</table>\n",
       "</div>"
      ],
      "text/plain": [
       "   통계   미술   체육\n",
       "0  60   50   70\n",
       "1  70   55   65\n",
       "2  80   80   50\n",
       "3  85  100   95\n",
       "4  75   95  100"
      ]
     },
     "execution_count": 21,
     "metadata": {},
     "output_type": "execute_result"
    }
   ],
   "source": [
    "df"
   ]
  },
  {
   "cell_type": "code",
   "execution_count": 22,
   "id": "b09f61cf",
   "metadata": {},
   "outputs": [
    {
     "data": {
      "text/plain": [
       "0    70\n",
       "1    80\n",
       "2    90\n",
       "3    95\n",
       "4    85\n",
       "Name: 통계, dtype: int64"
      ]
     },
     "execution_count": 22,
     "metadata": {},
     "output_type": "execute_result"
    }
   ],
   "source": [
    "df['통계'] + 10"
   ]
  },
  {
   "cell_type": "code",
   "execution_count": 23,
   "id": "f92edbe2",
   "metadata": {},
   "outputs": [
    {
     "data": {
      "text/plain": [
       "0    50\n",
       "1    60\n",
       "2    70\n",
       "3    75\n",
       "4    65\n",
       "Name: 통계, dtype: int64"
      ]
     },
     "execution_count": 23,
     "metadata": {},
     "output_type": "execute_result"
    }
   ],
   "source": [
    "df['통계'] - 10"
   ]
  },
  {
   "cell_type": "code",
   "execution_count": 24,
   "id": "fdd2dcb4",
   "metadata": {},
   "outputs": [
    {
     "data": {
      "text/plain": [
       "0    600\n",
       "1    700\n",
       "2    800\n",
       "3    850\n",
       "4    750\n",
       "Name: 통계, dtype: int64"
      ]
     },
     "execution_count": 24,
     "metadata": {},
     "output_type": "execute_result"
    }
   ],
   "source": [
    "df['통계'] * 10"
   ]
  },
  {
   "cell_type": "code",
   "execution_count": 25,
   "id": "1479d890",
   "metadata": {},
   "outputs": [
    {
     "data": {
      "text/plain": [
       "0    6.0\n",
       "1    7.0\n",
       "2    8.0\n",
       "3    8.5\n",
       "4    7.5\n",
       "Name: 통계, dtype: float64"
      ]
     },
     "execution_count": 25,
     "metadata": {},
     "output_type": "execute_result"
    }
   ],
   "source": [
    "df['통계'] / 10"
   ]
  },
  {
   "cell_type": "code",
   "execution_count": 26,
   "id": "c640ce7f",
   "metadata": {},
   "outputs": [
    {
     "data": {
      "text/plain": [
       "0    0\n",
       "1    0\n",
       "2    0\n",
       "3    5\n",
       "4    5\n",
       "Name: 통계, dtype: int64"
      ]
     },
     "execution_count": 26,
     "metadata": {},
     "output_type": "execute_result"
    }
   ],
   "source": [
    "df['통계'] % 10"
   ]
  },
  {
   "cell_type": "markdown",
   "id": "0e3fa997",
   "metadata": {},
   "source": [
    "## 7. 복합 연산"
   ]
  },
  {
   "cell_type": "code",
   "execution_count": 27,
   "id": "6d350a1b",
   "metadata": {},
   "outputs": [
    {
     "data": {
      "text/html": [
       "<div>\n",
       "<style scoped>\n",
       "    .dataframe tbody tr th:only-of-type {\n",
       "        vertical-align: middle;\n",
       "    }\n",
       "\n",
       "    .dataframe tbody tr th {\n",
       "        vertical-align: top;\n",
       "    }\n",
       "\n",
       "    .dataframe thead th {\n",
       "        text-align: right;\n",
       "    }\n",
       "</style>\n",
       "<table border=\"1\" class=\"dataframe\">\n",
       "  <thead>\n",
       "    <tr style=\"text-align: right;\">\n",
       "      <th></th>\n",
       "      <th>통계</th>\n",
       "      <th>미술</th>\n",
       "      <th>체육</th>\n",
       "    </tr>\n",
       "  </thead>\n",
       "  <tbody>\n",
       "    <tr>\n",
       "      <th>0</th>\n",
       "      <td>60</td>\n",
       "      <td>50</td>\n",
       "      <td>70</td>\n",
       "    </tr>\n",
       "    <tr>\n",
       "      <th>1</th>\n",
       "      <td>70</td>\n",
       "      <td>55</td>\n",
       "      <td>65</td>\n",
       "    </tr>\n",
       "    <tr>\n",
       "      <th>2</th>\n",
       "      <td>80</td>\n",
       "      <td>80</td>\n",
       "      <td>50</td>\n",
       "    </tr>\n",
       "    <tr>\n",
       "      <th>3</th>\n",
       "      <td>85</td>\n",
       "      <td>100</td>\n",
       "      <td>95</td>\n",
       "    </tr>\n",
       "    <tr>\n",
       "      <th>4</th>\n",
       "      <td>75</td>\n",
       "      <td>95</td>\n",
       "      <td>100</td>\n",
       "    </tr>\n",
       "  </tbody>\n",
       "</table>\n",
       "</div>"
      ],
      "text/plain": [
       "   통계   미술   체육\n",
       "0  60   50   70\n",
       "1  70   55   65\n",
       "2  80   80   50\n",
       "3  85  100   95\n",
       "4  75   95  100"
      ]
     },
     "execution_count": 27,
     "metadata": {},
     "output_type": "execute_result"
    }
   ],
   "source": [
    "df = pd.DataFrame({'통계': [60, 70, 80, 85, 75], '미술': [50, 55, 80, 100, 95], '체육': [70, 65, 50, 95, 100] })\n",
    "df"
   ]
  },
  {
   "cell_type": "code",
   "execution_count": 28,
   "id": "7dd60cee",
   "metadata": {},
   "outputs": [
    {
     "data": {
      "text/html": [
       "<div>\n",
       "<style scoped>\n",
       "    .dataframe tbody tr th:only-of-type {\n",
       "        vertical-align: middle;\n",
       "    }\n",
       "\n",
       "    .dataframe tbody tr th {\n",
       "        vertical-align: top;\n",
       "    }\n",
       "\n",
       "    .dataframe thead th {\n",
       "        text-align: right;\n",
       "    }\n",
       "</style>\n",
       "<table border=\"1\" class=\"dataframe\">\n",
       "  <thead>\n",
       "    <tr style=\"text-align: right;\">\n",
       "      <th></th>\n",
       "      <th>통계</th>\n",
       "      <th>미술</th>\n",
       "      <th>체육</th>\n",
       "      <th>통계미술합계</th>\n",
       "    </tr>\n",
       "  </thead>\n",
       "  <tbody>\n",
       "    <tr>\n",
       "      <th>0</th>\n",
       "      <td>60</td>\n",
       "      <td>50</td>\n",
       "      <td>70</td>\n",
       "      <td>120</td>\n",
       "    </tr>\n",
       "    <tr>\n",
       "      <th>1</th>\n",
       "      <td>70</td>\n",
       "      <td>55</td>\n",
       "      <td>65</td>\n",
       "      <td>135</td>\n",
       "    </tr>\n",
       "    <tr>\n",
       "      <th>2</th>\n",
       "      <td>80</td>\n",
       "      <td>80</td>\n",
       "      <td>50</td>\n",
       "      <td>170</td>\n",
       "    </tr>\n",
       "    <tr>\n",
       "      <th>3</th>\n",
       "      <td>85</td>\n",
       "      <td>100</td>\n",
       "      <td>95</td>\n",
       "      <td>195</td>\n",
       "    </tr>\n",
       "    <tr>\n",
       "      <th>4</th>\n",
       "      <td>75</td>\n",
       "      <td>95</td>\n",
       "      <td>100</td>\n",
       "      <td>180</td>\n",
       "    </tr>\n",
       "  </tbody>\n",
       "</table>\n",
       "</div>"
      ],
      "text/plain": [
       "   통계   미술   체육  통계미술합계\n",
       "0  60   50   70     120\n",
       "1  70   55   65     135\n",
       "2  80   80   50     170\n",
       "3  85  100   95     195\n",
       "4  75   95  100     180"
      ]
     },
     "execution_count": 28,
     "metadata": {},
     "output_type": "execute_result"
    }
   ],
   "source": [
    "df['통계미술합계'] = df['통계'] + df['미술'] + 10\n",
    "df"
   ]
  },
  {
   "cell_type": "code",
   "execution_count": 29,
   "id": "e8b1729d",
   "metadata": {},
   "outputs": [
    {
     "data": {
      "text/plain": [
       "0     40\n",
       "1     60\n",
       "2    110\n",
       "3     90\n",
       "4     70\n",
       "dtype: int64"
      ]
     },
     "execution_count": 29,
     "metadata": {},
     "output_type": "execute_result"
    }
   ],
   "source": [
    "df['통계'] + df['미술'] - df['체육']"
   ]
  },
  {
   "cell_type": "code",
   "execution_count": 30,
   "id": "1b0ea58e",
   "metadata": {},
   "outputs": [
    {
     "data": {
      "text/html": [
       "<div>\n",
       "<style scoped>\n",
       "    .dataframe tbody tr th:only-of-type {\n",
       "        vertical-align: middle;\n",
       "    }\n",
       "\n",
       "    .dataframe tbody tr th {\n",
       "        vertical-align: top;\n",
       "    }\n",
       "\n",
       "    .dataframe thead th {\n",
       "        text-align: right;\n",
       "    }\n",
       "</style>\n",
       "<table border=\"1\" class=\"dataframe\">\n",
       "  <thead>\n",
       "    <tr style=\"text-align: right;\">\n",
       "      <th></th>\n",
       "      <th>통계</th>\n",
       "      <th>미술</th>\n",
       "      <th>체육</th>\n",
       "      <th>통계미술합계</th>\n",
       "    </tr>\n",
       "  </thead>\n",
       "  <tbody>\n",
       "    <tr>\n",
       "      <th>0</th>\n",
       "      <td>60</td>\n",
       "      <td>50</td>\n",
       "      <td>70</td>\n",
       "      <td>120</td>\n",
       "    </tr>\n",
       "    <tr>\n",
       "      <th>1</th>\n",
       "      <td>70</td>\n",
       "      <td>55</td>\n",
       "      <td>65</td>\n",
       "      <td>135</td>\n",
       "    </tr>\n",
       "    <tr>\n",
       "      <th>2</th>\n",
       "      <td>80</td>\n",
       "      <td>80</td>\n",
       "      <td>50</td>\n",
       "      <td>170</td>\n",
       "    </tr>\n",
       "    <tr>\n",
       "      <th>3</th>\n",
       "      <td>85</td>\n",
       "      <td>100</td>\n",
       "      <td>95</td>\n",
       "      <td>195</td>\n",
       "    </tr>\n",
       "    <tr>\n",
       "      <th>4</th>\n",
       "      <td>75</td>\n",
       "      <td>95</td>\n",
       "      <td>100</td>\n",
       "      <td>180</td>\n",
       "    </tr>\n",
       "  </tbody>\n",
       "</table>\n",
       "</div>"
      ],
      "text/plain": [
       "   통계   미술   체육  통계미술합계\n",
       "0  60   50   70     120\n",
       "1  70   55   65     135\n",
       "2  80   80   50     170\n",
       "3  85  100   95     195\n",
       "4  75   95  100     180"
      ]
     },
     "execution_count": 30,
     "metadata": {},
     "output_type": "execute_result"
    }
   ],
   "source": [
    "df"
   ]
  },
  {
   "cell_type": "markdown",
   "id": "0fab1541",
   "metadata": {},
   "source": [
    "## 8. mean(), sum()을 axis기준으로 연산"
   ]
  },
  {
   "cell_type": "code",
   "execution_count": 31,
   "id": "7ee8e3ee",
   "metadata": {},
   "outputs": [
    {
     "data": {
      "text/plain": [
       "통계         74.0\n",
       "미술         76.0\n",
       "체육         76.0\n",
       "통계미술합계    160.0\n",
       "dtype: float64"
      ]
     },
     "execution_count": 31,
     "metadata": {},
     "output_type": "execute_result"
    }
   ],
   "source": [
    "# 컬럼별 평균값 (세로로 더한것의 평균)\n",
    "df.mean(axis = 0)"
   ]
  },
  {
   "cell_type": "code",
   "execution_count": 32,
   "id": "c7d76e80",
   "metadata": {},
   "outputs": [
    {
     "data": {
      "text/plain": [
       "0     75.00\n",
       "1     81.25\n",
       "2     95.00\n",
       "3    118.75\n",
       "4    112.50\n",
       "dtype: float64"
      ]
     },
     "execution_count": 32,
     "metadata": {},
     "output_type": "execute_result"
    }
   ],
   "source": [
    "# 행별 평균값 (가로로 더한것의 평균)\n",
    "df.mean(axis = 1)"
   ]
  },
  {
   "cell_type": "code",
   "execution_count": 33,
   "id": "46a33571",
   "metadata": {},
   "outputs": [
    {
     "data": {
      "text/plain": [
       "통계        370\n",
       "미술        380\n",
       "체육        380\n",
       "통계미술합계    800\n",
       "dtype: int64"
      ]
     },
     "execution_count": 33,
     "metadata": {},
     "output_type": "execute_result"
    }
   ],
   "source": [
    "# 컬럼별 합산값 (세로로 더한것)\n",
    "df.sum(axis = 0)"
   ]
  },
  {
   "cell_type": "code",
   "execution_count": 34,
   "id": "bc5a5f79",
   "metadata": {},
   "outputs": [
    {
     "data": {
      "text/plain": [
       "0    300\n",
       "1    325\n",
       "2    380\n",
       "3    475\n",
       "4    450\n",
       "dtype: int64"
      ]
     },
     "execution_count": 34,
     "metadata": {},
     "output_type": "execute_result"
    }
   ],
   "source": [
    "# 행별 합산값 (가로로 더한것)\n",
    "df.sum(axis = 1)"
   ]
  },
  {
   "cell_type": "markdown",
   "id": "9dfc8f6e",
   "metadata": {},
   "source": [
    "## 9. NaN값이 존재할 경우의 연산"
   ]
  },
  {
   "cell_type": "code",
   "execution_count": 36,
   "id": "562c1f56",
   "metadata": {},
   "outputs": [
    {
     "data": {
      "text/html": [
       "<div>\n",
       "<style scoped>\n",
       "    .dataframe tbody tr th:only-of-type {\n",
       "        vertical-align: middle;\n",
       "    }\n",
       "\n",
       "    .dataframe tbody tr th {\n",
       "        vertical-align: top;\n",
       "    }\n",
       "\n",
       "    .dataframe thead th {\n",
       "        text-align: right;\n",
       "    }\n",
       "</style>\n",
       "<table border=\"1\" class=\"dataframe\">\n",
       "  <thead>\n",
       "    <tr style=\"text-align: right;\">\n",
       "      <th></th>\n",
       "      <th>통계</th>\n",
       "      <th>미술</th>\n",
       "      <th>체육</th>\n",
       "    </tr>\n",
       "  </thead>\n",
       "  <tbody>\n",
       "    <tr>\n",
       "      <th>0</th>\n",
       "      <td>60.0</td>\n",
       "      <td>50.0</td>\n",
       "      <td>70.0</td>\n",
       "    </tr>\n",
       "    <tr>\n",
       "      <th>1</th>\n",
       "      <td>70.0</td>\n",
       "      <td>NaN</td>\n",
       "      <td>65.0</td>\n",
       "    </tr>\n",
       "    <tr>\n",
       "      <th>2</th>\n",
       "      <td>NaN</td>\n",
       "      <td>80.0</td>\n",
       "      <td>50.0</td>\n",
       "    </tr>\n",
       "    <tr>\n",
       "      <th>3</th>\n",
       "      <td>85.0</td>\n",
       "      <td>100.0</td>\n",
       "      <td>NaN</td>\n",
       "    </tr>\n",
       "    <tr>\n",
       "      <th>4</th>\n",
       "      <td>75.0</td>\n",
       "      <td>95.0</td>\n",
       "      <td>100.0</td>\n",
       "    </tr>\n",
       "  </tbody>\n",
       "</table>\n",
       "</div>"
      ],
      "text/plain": [
       "     통계     미술     체육\n",
       "0  60.0   50.0   70.0\n",
       "1  70.0    NaN   65.0\n",
       "2   NaN   80.0   50.0\n",
       "3  85.0  100.0    NaN\n",
       "4  75.0   95.0  100.0"
      ]
     },
     "execution_count": 36,
     "metadata": {},
     "output_type": "execute_result"
    }
   ],
   "source": [
    "import numpy as np\n",
    "df = pd.DataFrame({'통계': [60, 70, np.nan , 85, 75], '미술': [50, np.nan , 80, 100, 95], '체육': [70, 65, 50, np.nan , 100] })\n",
    "df"
   ]
  },
  {
   "cell_type": "code",
   "execution_count": 37,
   "id": "61056ba2",
   "metadata": {},
   "outputs": [
    {
     "data": {
      "text/plain": [
       "0    30.0\n",
       "1    35.0\n",
       "2     NaN\n",
       "3    42.5\n",
       "4    37.5\n",
       "Name: 통계, dtype: float64"
      ]
     },
     "execution_count": 37,
     "metadata": {},
     "output_type": "execute_result"
    }
   ],
   "source": [
    "df['통계'] / 2"
   ]
  },
  {
   "cell_type": "code",
   "execution_count": 38,
   "id": "fea6838a",
   "metadata": {},
   "outputs": [
    {
     "data": {
      "text/plain": [
       "0    16.666667\n",
       "1    14.285714\n",
       "2          NaN\n",
       "3    11.764706\n",
       "4    13.333333\n",
       "Name: 통계, dtype: float64"
      ]
     },
     "execution_count": 38,
     "metadata": {},
     "output_type": "execute_result"
    }
   ],
   "source": [
    "1000 / df['통계'] "
   ]
  },
  {
   "cell_type": "code",
   "execution_count": 39,
   "id": "25d91998",
   "metadata": {},
   "outputs": [
    {
     "data": {
      "text/plain": [
       "0   NaN\n",
       "1   NaN\n",
       "2   NaN\n",
       "3   NaN\n",
       "4   NaN\n",
       "Name: 통계, dtype: float64"
      ]
     },
     "execution_count": 39,
     "metadata": {},
     "output_type": "execute_result"
    }
   ],
   "source": [
    "df['통계'] / np.nan"
   ]
  },
  {
   "cell_type": "code",
   "execution_count": 40,
   "id": "2ec6ba12",
   "metadata": {},
   "outputs": [
    {
     "data": {
      "text/plain": [
       "0   NaN\n",
       "1   NaN\n",
       "2   NaN\n",
       "3   NaN\n",
       "4   NaN\n",
       "Name: 통계, dtype: float64"
      ]
     },
     "execution_count": 40,
     "metadata": {},
     "output_type": "execute_result"
    }
   ],
   "source": [
    "np.nan / df['통계']"
   ]
  },
  {
   "cell_type": "markdown",
   "id": "0168ea07",
   "metadata": {},
   "source": [
    "## 10. DataFrame 과 DataFrame간 연산"
   ]
  },
  {
   "cell_type": "code",
   "execution_count": 41,
   "id": "4c7fe06c",
   "metadata": {},
   "outputs": [],
   "source": [
    "df1 = pd.DataFrame({'통계': [60, 70, 80, 85, 75], '미술': [50, 55, 80, 100, 95], '체육': [70, 65, 50, 95, 100] })"
   ]
  },
  {
   "cell_type": "code",
   "execution_count": 42,
   "id": "cf66ebfc",
   "metadata": {},
   "outputs": [],
   "source": [
    "df2 = pd.DataFrame({'통계': ['good', 'bad', 'ok' , 'good', 'ok'], '미술': [50, 60 , 80, 100, 95], '체육': [70, 65, 50, 70 , 100] })"
   ]
  },
  {
   "cell_type": "code",
   "execution_count": 43,
   "id": "5a3a09f6",
   "metadata": {},
   "outputs": [
    {
     "data": {
      "text/html": [
       "<div>\n",
       "<style scoped>\n",
       "    .dataframe tbody tr th:only-of-type {\n",
       "        vertical-align: middle;\n",
       "    }\n",
       "\n",
       "    .dataframe tbody tr th {\n",
       "        vertical-align: top;\n",
       "    }\n",
       "\n",
       "    .dataframe thead th {\n",
       "        text-align: right;\n",
       "    }\n",
       "</style>\n",
       "<table border=\"1\" class=\"dataframe\">\n",
       "  <thead>\n",
       "    <tr style=\"text-align: right;\">\n",
       "      <th></th>\n",
       "      <th>통계</th>\n",
       "      <th>미술</th>\n",
       "      <th>체육</th>\n",
       "    </tr>\n",
       "  </thead>\n",
       "  <tbody>\n",
       "    <tr>\n",
       "      <th>0</th>\n",
       "      <td>60</td>\n",
       "      <td>50</td>\n",
       "      <td>70</td>\n",
       "    </tr>\n",
       "    <tr>\n",
       "      <th>1</th>\n",
       "      <td>70</td>\n",
       "      <td>55</td>\n",
       "      <td>65</td>\n",
       "    </tr>\n",
       "    <tr>\n",
       "      <th>2</th>\n",
       "      <td>80</td>\n",
       "      <td>80</td>\n",
       "      <td>50</td>\n",
       "    </tr>\n",
       "    <tr>\n",
       "      <th>3</th>\n",
       "      <td>85</td>\n",
       "      <td>100</td>\n",
       "      <td>95</td>\n",
       "    </tr>\n",
       "    <tr>\n",
       "      <th>4</th>\n",
       "      <td>75</td>\n",
       "      <td>95</td>\n",
       "      <td>100</td>\n",
       "    </tr>\n",
       "  </tbody>\n",
       "</table>\n",
       "</div>"
      ],
      "text/plain": [
       "   통계   미술   체육\n",
       "0  60   50   70\n",
       "1  70   55   65\n",
       "2  80   80   50\n",
       "3  85  100   95\n",
       "4  75   95  100"
      ]
     },
     "execution_count": 43,
     "metadata": {},
     "output_type": "execute_result"
    }
   ],
   "source": [
    "df1"
   ]
  },
  {
   "cell_type": "code",
   "execution_count": 44,
   "id": "dad7fc08",
   "metadata": {},
   "outputs": [
    {
     "data": {
      "text/html": [
       "<div>\n",
       "<style scoped>\n",
       "    .dataframe tbody tr th:only-of-type {\n",
       "        vertical-align: middle;\n",
       "    }\n",
       "\n",
       "    .dataframe tbody tr th {\n",
       "        vertical-align: top;\n",
       "    }\n",
       "\n",
       "    .dataframe thead th {\n",
       "        text-align: right;\n",
       "    }\n",
       "</style>\n",
       "<table border=\"1\" class=\"dataframe\">\n",
       "  <thead>\n",
       "    <tr style=\"text-align: right;\">\n",
       "      <th></th>\n",
       "      <th>통계</th>\n",
       "      <th>미술</th>\n",
       "      <th>체육</th>\n",
       "    </tr>\n",
       "  </thead>\n",
       "  <tbody>\n",
       "    <tr>\n",
       "      <th>0</th>\n",
       "      <td>good</td>\n",
       "      <td>50</td>\n",
       "      <td>70</td>\n",
       "    </tr>\n",
       "    <tr>\n",
       "      <th>1</th>\n",
       "      <td>bad</td>\n",
       "      <td>60</td>\n",
       "      <td>65</td>\n",
       "    </tr>\n",
       "    <tr>\n",
       "      <th>2</th>\n",
       "      <td>ok</td>\n",
       "      <td>80</td>\n",
       "      <td>50</td>\n",
       "    </tr>\n",
       "    <tr>\n",
       "      <th>3</th>\n",
       "      <td>good</td>\n",
       "      <td>100</td>\n",
       "      <td>70</td>\n",
       "    </tr>\n",
       "    <tr>\n",
       "      <th>4</th>\n",
       "      <td>ok</td>\n",
       "      <td>95</td>\n",
       "      <td>100</td>\n",
       "    </tr>\n",
       "  </tbody>\n",
       "</table>\n",
       "</div>"
      ],
      "text/plain": [
       "     통계   미술   체육\n",
       "0  good   50   70\n",
       "1   bad   60   65\n",
       "2    ok   80   50\n",
       "3  good  100   70\n",
       "4    ok   95  100"
      ]
     },
     "execution_count": 44,
     "metadata": {},
     "output_type": "execute_result"
    }
   ],
   "source": [
    "df2"
   ]
  },
  {
   "cell_type": "code",
   "execution_count": 45,
   "id": "936622da",
   "metadata": {},
   "outputs": [
    {
     "ename": "TypeError",
     "evalue": "unsupported operand type(s) for +: 'int' and 'str'",
     "output_type": "error",
     "traceback": [
      "\u001b[1;31m---------------------------------------------------------------------------\u001b[0m",
      "\u001b[1;31mTypeError\u001b[0m                                 Traceback (most recent call last)",
      "File \u001b[1;32mC:\\Anaconda3\\lib\\site-packages\\pandas\\core\\ops\\array_ops.py:163\u001b[0m, in \u001b[0;36m_na_arithmetic_op\u001b[1;34m(left, right, op, is_cmp)\u001b[0m\n\u001b[0;32m    162\u001b[0m \u001b[38;5;28;01mtry\u001b[39;00m:\n\u001b[1;32m--> 163\u001b[0m     result \u001b[38;5;241m=\u001b[39m \u001b[43mfunc\u001b[49m\u001b[43m(\u001b[49m\u001b[43mleft\u001b[49m\u001b[43m,\u001b[49m\u001b[43m \u001b[49m\u001b[43mright\u001b[49m\u001b[43m)\u001b[49m\n\u001b[0;32m    164\u001b[0m \u001b[38;5;28;01mexcept\u001b[39;00m \u001b[38;5;167;01mTypeError\u001b[39;00m:\n",
      "File \u001b[1;32mC:\\Anaconda3\\lib\\site-packages\\pandas\\core\\computation\\expressions.py:239\u001b[0m, in \u001b[0;36mevaluate\u001b[1;34m(op, a, b, use_numexpr)\u001b[0m\n\u001b[0;32m    237\u001b[0m     \u001b[38;5;28;01mif\u001b[39;00m use_numexpr:\n\u001b[0;32m    238\u001b[0m         \u001b[38;5;66;03m# error: \"None\" not callable\u001b[39;00m\n\u001b[1;32m--> 239\u001b[0m         \u001b[38;5;28;01mreturn\u001b[39;00m \u001b[43m_evaluate\u001b[49m\u001b[43m(\u001b[49m\u001b[43mop\u001b[49m\u001b[43m,\u001b[49m\u001b[43m \u001b[49m\u001b[43mop_str\u001b[49m\u001b[43m,\u001b[49m\u001b[43m \u001b[49m\u001b[43ma\u001b[49m\u001b[43m,\u001b[49m\u001b[43m \u001b[49m\u001b[43mb\u001b[49m\u001b[43m)\u001b[49m  \u001b[38;5;66;03m# type: ignore[misc]\u001b[39;00m\n\u001b[0;32m    240\u001b[0m \u001b[38;5;28;01mreturn\u001b[39;00m _evaluate_standard(op, op_str, a, b)\n",
      "File \u001b[1;32mC:\\Anaconda3\\lib\\site-packages\\pandas\\core\\computation\\expressions.py:128\u001b[0m, in \u001b[0;36m_evaluate_numexpr\u001b[1;34m(op, op_str, a, b)\u001b[0m\n\u001b[0;32m    127\u001b[0m \u001b[38;5;28;01mif\u001b[39;00m result \u001b[38;5;129;01mis\u001b[39;00m \u001b[38;5;28;01mNone\u001b[39;00m:\n\u001b[1;32m--> 128\u001b[0m     result \u001b[38;5;241m=\u001b[39m \u001b[43m_evaluate_standard\u001b[49m\u001b[43m(\u001b[49m\u001b[43mop\u001b[49m\u001b[43m,\u001b[49m\u001b[43m \u001b[49m\u001b[43mop_str\u001b[49m\u001b[43m,\u001b[49m\u001b[43m \u001b[49m\u001b[43ma\u001b[49m\u001b[43m,\u001b[49m\u001b[43m \u001b[49m\u001b[43mb\u001b[49m\u001b[43m)\u001b[49m\n\u001b[0;32m    130\u001b[0m \u001b[38;5;28;01mreturn\u001b[39;00m result\n",
      "File \u001b[1;32mC:\\Anaconda3\\lib\\site-packages\\pandas\\core\\computation\\expressions.py:69\u001b[0m, in \u001b[0;36m_evaluate_standard\u001b[1;34m(op, op_str, a, b)\u001b[0m\n\u001b[0;32m     68\u001b[0m     _store_test_result(\u001b[38;5;28;01mFalse\u001b[39;00m)\n\u001b[1;32m---> 69\u001b[0m \u001b[38;5;28;01mreturn\u001b[39;00m \u001b[43mop\u001b[49m\u001b[43m(\u001b[49m\u001b[43ma\u001b[49m\u001b[43m,\u001b[49m\u001b[43m \u001b[49m\u001b[43mb\u001b[49m\u001b[43m)\u001b[49m\n",
      "\u001b[1;31mTypeError\u001b[0m: unsupported operand type(s) for +: 'int' and 'str'",
      "\nDuring handling of the above exception, another exception occurred:\n",
      "\u001b[1;31mTypeError\u001b[0m                                 Traceback (most recent call last)",
      "Cell \u001b[1;32mIn [45], line 1\u001b[0m\n\u001b[1;32m----> 1\u001b[0m \u001b[43mdf1\u001b[49m\u001b[43m \u001b[49m\u001b[38;5;241;43m+\u001b[39;49m\u001b[43m \u001b[49m\u001b[43mdf2\u001b[49m\n",
      "File \u001b[1;32mC:\\Anaconda3\\lib\\site-packages\\pandas\\core\\ops\\common.py:70\u001b[0m, in \u001b[0;36m_unpack_zerodim_and_defer.<locals>.new_method\u001b[1;34m(self, other)\u001b[0m\n\u001b[0;32m     66\u001b[0m             \u001b[38;5;28;01mreturn\u001b[39;00m \u001b[38;5;28mNotImplemented\u001b[39m\n\u001b[0;32m     68\u001b[0m other \u001b[38;5;241m=\u001b[39m item_from_zerodim(other)\n\u001b[1;32m---> 70\u001b[0m \u001b[38;5;28;01mreturn\u001b[39;00m \u001b[43mmethod\u001b[49m\u001b[43m(\u001b[49m\u001b[38;5;28;43mself\u001b[39;49m\u001b[43m,\u001b[49m\u001b[43m \u001b[49m\u001b[43mother\u001b[49m\u001b[43m)\u001b[49m\n",
      "File \u001b[1;32mC:\\Anaconda3\\lib\\site-packages\\pandas\\core\\arraylike.py:100\u001b[0m, in \u001b[0;36mOpsMixin.__add__\u001b[1;34m(self, other)\u001b[0m\n\u001b[0;32m     98\u001b[0m \u001b[38;5;129m@unpack_zerodim_and_defer\u001b[39m(\u001b[38;5;124m\"\u001b[39m\u001b[38;5;124m__add__\u001b[39m\u001b[38;5;124m\"\u001b[39m)\n\u001b[0;32m     99\u001b[0m \u001b[38;5;28;01mdef\u001b[39;00m \u001b[38;5;21m__add__\u001b[39m(\u001b[38;5;28mself\u001b[39m, other):\n\u001b[1;32m--> 100\u001b[0m     \u001b[38;5;28;01mreturn\u001b[39;00m \u001b[38;5;28;43mself\u001b[39;49m\u001b[38;5;241;43m.\u001b[39;49m\u001b[43m_arith_method\u001b[49m\u001b[43m(\u001b[49m\u001b[43mother\u001b[49m\u001b[43m,\u001b[49m\u001b[43m \u001b[49m\u001b[43moperator\u001b[49m\u001b[38;5;241;43m.\u001b[39;49m\u001b[43madd\u001b[49m\u001b[43m)\u001b[49m\n",
      "File \u001b[1;32mC:\\Anaconda3\\lib\\site-packages\\pandas\\core\\frame.py:6955\u001b[0m, in \u001b[0;36mDataFrame._arith_method\u001b[1;34m(self, other, op)\u001b[0m\n\u001b[0;32m   6951\u001b[0m other \u001b[38;5;241m=\u001b[39m ops\u001b[38;5;241m.\u001b[39mmaybe_prepare_scalar_for_op(other, (\u001b[38;5;28mself\u001b[39m\u001b[38;5;241m.\u001b[39mshape[axis],))\n\u001b[0;32m   6953\u001b[0m \u001b[38;5;28mself\u001b[39m, other \u001b[38;5;241m=\u001b[39m ops\u001b[38;5;241m.\u001b[39malign_method_FRAME(\u001b[38;5;28mself\u001b[39m, other, axis, flex\u001b[38;5;241m=\u001b[39m\u001b[38;5;28;01mTrue\u001b[39;00m, level\u001b[38;5;241m=\u001b[39m\u001b[38;5;28;01mNone\u001b[39;00m)\n\u001b[1;32m-> 6955\u001b[0m new_data \u001b[38;5;241m=\u001b[39m \u001b[38;5;28;43mself\u001b[39;49m\u001b[38;5;241;43m.\u001b[39;49m\u001b[43m_dispatch_frame_op\u001b[49m\u001b[43m(\u001b[49m\u001b[43mother\u001b[49m\u001b[43m,\u001b[49m\u001b[43m \u001b[49m\u001b[43mop\u001b[49m\u001b[43m,\u001b[49m\u001b[43m \u001b[49m\u001b[43maxis\u001b[49m\u001b[38;5;241;43m=\u001b[39;49m\u001b[43maxis\u001b[49m\u001b[43m)\u001b[49m\n\u001b[0;32m   6956\u001b[0m \u001b[38;5;28;01mreturn\u001b[39;00m \u001b[38;5;28mself\u001b[39m\u001b[38;5;241m.\u001b[39m_construct_result(new_data)\n",
      "File \u001b[1;32mC:\\Anaconda3\\lib\\site-packages\\pandas\\core\\frame.py:6994\u001b[0m, in \u001b[0;36mDataFrame._dispatch_frame_op\u001b[1;34m(self, right, func, axis)\u001b[0m\n\u001b[0;32m   6988\u001b[0m     \u001b[38;5;66;03m# TODO: The previous assertion `assert right._indexed_same(self)`\u001b[39;00m\n\u001b[0;32m   6989\u001b[0m     \u001b[38;5;66;03m#  fails in cases with empty columns reached via\u001b[39;00m\n\u001b[0;32m   6990\u001b[0m     \u001b[38;5;66;03m#  _frame_arith_method_with_reindex\u001b[39;00m\n\u001b[0;32m   6991\u001b[0m \n\u001b[0;32m   6992\u001b[0m     \u001b[38;5;66;03m# TODO operate_blockwise expects a manager of the same type\u001b[39;00m\n\u001b[0;32m   6993\u001b[0m     \u001b[38;5;28;01mwith\u001b[39;00m np\u001b[38;5;241m.\u001b[39merrstate(\u001b[38;5;28mall\u001b[39m\u001b[38;5;241m=\u001b[39m\u001b[38;5;124m\"\u001b[39m\u001b[38;5;124mignore\u001b[39m\u001b[38;5;124m\"\u001b[39m):\n\u001b[1;32m-> 6994\u001b[0m         bm \u001b[38;5;241m=\u001b[39m \u001b[38;5;28;43mself\u001b[39;49m\u001b[38;5;241;43m.\u001b[39;49m\u001b[43m_mgr\u001b[49m\u001b[38;5;241;43m.\u001b[39;49m\u001b[43moperate_blockwise\u001b[49m\u001b[43m(\u001b[49m\n\u001b[0;32m   6995\u001b[0m \u001b[43m            \u001b[49m\u001b[38;5;66;43;03m# error: Argument 1 to \"operate_blockwise\" of \"ArrayManager\" has\u001b[39;49;00m\n\u001b[0;32m   6996\u001b[0m \u001b[43m            \u001b[49m\u001b[38;5;66;43;03m# incompatible type \"Union[ArrayManager, BlockManager]\"; expected\u001b[39;49;00m\n\u001b[0;32m   6997\u001b[0m \u001b[43m            \u001b[49m\u001b[38;5;66;43;03m# \"ArrayManager\"\u001b[39;49;00m\n\u001b[0;32m   6998\u001b[0m \u001b[43m            \u001b[49m\u001b[38;5;66;43;03m# error: Argument 1 to \"operate_blockwise\" of \"BlockManager\" has\u001b[39;49;00m\n\u001b[0;32m   6999\u001b[0m \u001b[43m            \u001b[49m\u001b[38;5;66;43;03m# incompatible type \"Union[ArrayManager, BlockManager]\"; expected\u001b[39;49;00m\n\u001b[0;32m   7000\u001b[0m \u001b[43m            \u001b[49m\u001b[38;5;66;43;03m# \"BlockManager\"\u001b[39;49;00m\n\u001b[0;32m   7001\u001b[0m \u001b[43m            \u001b[49m\u001b[43mright\u001b[49m\u001b[38;5;241;43m.\u001b[39;49m\u001b[43m_mgr\u001b[49m\u001b[43m,\u001b[49m\u001b[43m  \u001b[49m\u001b[38;5;66;43;03m# type: ignore[arg-type]\u001b[39;49;00m\n\u001b[0;32m   7002\u001b[0m \u001b[43m            \u001b[49m\u001b[43marray_op\u001b[49m\u001b[43m,\u001b[49m\n\u001b[0;32m   7003\u001b[0m \u001b[43m        \u001b[49m\u001b[43m)\u001b[49m\n\u001b[0;32m   7004\u001b[0m     \u001b[38;5;28;01mreturn\u001b[39;00m \u001b[38;5;28mself\u001b[39m\u001b[38;5;241m.\u001b[39m_constructor(bm)\n\u001b[0;32m   7006\u001b[0m \u001b[38;5;28;01melif\u001b[39;00m \u001b[38;5;28misinstance\u001b[39m(right, Series) \u001b[38;5;129;01mand\u001b[39;00m axis \u001b[38;5;241m==\u001b[39m \u001b[38;5;241m1\u001b[39m:\n\u001b[0;32m   7007\u001b[0m     \u001b[38;5;66;03m# axis=1 means we want to operate row-by-row\u001b[39;00m\n",
      "File \u001b[1;32mC:\\Anaconda3\\lib\\site-packages\\pandas\\core\\internals\\managers.py:1419\u001b[0m, in \u001b[0;36mBlockManager.operate_blockwise\u001b[1;34m(self, other, array_op)\u001b[0m\n\u001b[0;32m   1415\u001b[0m \u001b[38;5;28;01mdef\u001b[39;00m \u001b[38;5;21moperate_blockwise\u001b[39m(\u001b[38;5;28mself\u001b[39m, other: BlockManager, array_op) \u001b[38;5;241m-\u001b[39m\u001b[38;5;241m>\u001b[39m BlockManager:\n\u001b[0;32m   1416\u001b[0m     \u001b[38;5;124;03m\"\"\"\u001b[39;00m\n\u001b[0;32m   1417\u001b[0m \u001b[38;5;124;03m    Apply array_op blockwise with another (aligned) BlockManager.\u001b[39;00m\n\u001b[0;32m   1418\u001b[0m \u001b[38;5;124;03m    \"\"\"\u001b[39;00m\n\u001b[1;32m-> 1419\u001b[0m     \u001b[38;5;28;01mreturn\u001b[39;00m \u001b[43moperate_blockwise\u001b[49m\u001b[43m(\u001b[49m\u001b[38;5;28;43mself\u001b[39;49m\u001b[43m,\u001b[49m\u001b[43m \u001b[49m\u001b[43mother\u001b[49m\u001b[43m,\u001b[49m\u001b[43m \u001b[49m\u001b[43marray_op\u001b[49m\u001b[43m)\u001b[49m\n",
      "File \u001b[1;32mC:\\Anaconda3\\lib\\site-packages\\pandas\\core\\internals\\ops.py:63\u001b[0m, in \u001b[0;36moperate_blockwise\u001b[1;34m(left, right, array_op)\u001b[0m\n\u001b[0;32m     61\u001b[0m res_blks: \u001b[38;5;28mlist\u001b[39m[Block] \u001b[38;5;241m=\u001b[39m []\n\u001b[0;32m     62\u001b[0m \u001b[38;5;28;01mfor\u001b[39;00m lvals, rvals, locs, left_ea, right_ea, rblk \u001b[38;5;129;01min\u001b[39;00m _iter_block_pairs(left, right):\n\u001b[1;32m---> 63\u001b[0m     res_values \u001b[38;5;241m=\u001b[39m \u001b[43marray_op\u001b[49m\u001b[43m(\u001b[49m\u001b[43mlvals\u001b[49m\u001b[43m,\u001b[49m\u001b[43m \u001b[49m\u001b[43mrvals\u001b[49m\u001b[43m)\u001b[49m\n\u001b[0;32m     64\u001b[0m     \u001b[38;5;28;01mif\u001b[39;00m left_ea \u001b[38;5;129;01mand\u001b[39;00m \u001b[38;5;129;01mnot\u001b[39;00m right_ea \u001b[38;5;129;01mand\u001b[39;00m \u001b[38;5;28mhasattr\u001b[39m(res_values, \u001b[38;5;124m\"\u001b[39m\u001b[38;5;124mreshape\u001b[39m\u001b[38;5;124m\"\u001b[39m):\n\u001b[0;32m     65\u001b[0m         res_values \u001b[38;5;241m=\u001b[39m res_values\u001b[38;5;241m.\u001b[39mreshape(\u001b[38;5;241m1\u001b[39m, \u001b[38;5;241m-\u001b[39m\u001b[38;5;241m1\u001b[39m)\n",
      "File \u001b[1;32mC:\\Anaconda3\\lib\\site-packages\\pandas\\core\\ops\\array_ops.py:222\u001b[0m, in \u001b[0;36marithmetic_op\u001b[1;34m(left, right, op)\u001b[0m\n\u001b[0;32m    217\u001b[0m \u001b[38;5;28;01melse\u001b[39;00m:\n\u001b[0;32m    218\u001b[0m     \u001b[38;5;66;03m# TODO we should handle EAs consistently and move this check before the if/else\u001b[39;00m\n\u001b[0;32m    219\u001b[0m     \u001b[38;5;66;03m# (https://github.com/pandas-dev/pandas/issues/41165)\u001b[39;00m\n\u001b[0;32m    220\u001b[0m     _bool_arith_check(op, left, right)\n\u001b[1;32m--> 222\u001b[0m     res_values \u001b[38;5;241m=\u001b[39m \u001b[43m_na_arithmetic_op\u001b[49m\u001b[43m(\u001b[49m\u001b[43mleft\u001b[49m\u001b[43m,\u001b[49m\u001b[43m \u001b[49m\u001b[43mright\u001b[49m\u001b[43m,\u001b[49m\u001b[43m \u001b[49m\u001b[43mop\u001b[49m\u001b[43m)\u001b[49m\n\u001b[0;32m    224\u001b[0m \u001b[38;5;28;01mreturn\u001b[39;00m res_values\n",
      "File \u001b[1;32mC:\\Anaconda3\\lib\\site-packages\\pandas\\core\\ops\\array_ops.py:170\u001b[0m, in \u001b[0;36m_na_arithmetic_op\u001b[1;34m(left, right, op, is_cmp)\u001b[0m\n\u001b[0;32m    164\u001b[0m \u001b[38;5;28;01mexcept\u001b[39;00m \u001b[38;5;167;01mTypeError\u001b[39;00m:\n\u001b[0;32m    165\u001b[0m     \u001b[38;5;28;01mif\u001b[39;00m \u001b[38;5;129;01mnot\u001b[39;00m is_cmp \u001b[38;5;129;01mand\u001b[39;00m (is_object_dtype(left\u001b[38;5;241m.\u001b[39mdtype) \u001b[38;5;129;01mor\u001b[39;00m is_object_dtype(right)):\n\u001b[0;32m    166\u001b[0m         \u001b[38;5;66;03m# For object dtype, fallback to a masked operation (only operating\u001b[39;00m\n\u001b[0;32m    167\u001b[0m         \u001b[38;5;66;03m#  on the non-missing values)\u001b[39;00m\n\u001b[0;32m    168\u001b[0m         \u001b[38;5;66;03m# Don't do this for comparisons, as that will handle complex numbers\u001b[39;00m\n\u001b[0;32m    169\u001b[0m         \u001b[38;5;66;03m#  incorrectly, see GH#32047\u001b[39;00m\n\u001b[1;32m--> 170\u001b[0m         result \u001b[38;5;241m=\u001b[39m \u001b[43m_masked_arith_op\u001b[49m\u001b[43m(\u001b[49m\u001b[43mleft\u001b[49m\u001b[43m,\u001b[49m\u001b[43m \u001b[49m\u001b[43mright\u001b[49m\u001b[43m,\u001b[49m\u001b[43m \u001b[49m\u001b[43mop\u001b[49m\u001b[43m)\u001b[49m\n\u001b[0;32m    171\u001b[0m     \u001b[38;5;28;01melse\u001b[39;00m:\n\u001b[0;32m    172\u001b[0m         \u001b[38;5;28;01mraise\u001b[39;00m\n",
      "File \u001b[1;32mC:\\Anaconda3\\lib\\site-packages\\pandas\\core\\ops\\array_ops.py:108\u001b[0m, in \u001b[0;36m_masked_arith_op\u001b[1;34m(x, y, op)\u001b[0m\n\u001b[0;32m    106\u001b[0m     \u001b[38;5;66;03m# See GH#5284, GH#5035, GH#19448 for historical reference\u001b[39;00m\n\u001b[0;32m    107\u001b[0m     \u001b[38;5;28;01mif\u001b[39;00m mask\u001b[38;5;241m.\u001b[39many():\n\u001b[1;32m--> 108\u001b[0m         result[mask] \u001b[38;5;241m=\u001b[39m \u001b[43mop\u001b[49m\u001b[43m(\u001b[49m\u001b[43mxrav\u001b[49m\u001b[43m[\u001b[49m\u001b[43mmask\u001b[49m\u001b[43m]\u001b[49m\u001b[43m,\u001b[49m\u001b[43m \u001b[49m\u001b[43myrav\u001b[49m\u001b[43m[\u001b[49m\u001b[43mmask\u001b[49m\u001b[43m]\u001b[49m\u001b[43m)\u001b[49m\n\u001b[0;32m    110\u001b[0m \u001b[38;5;28;01melse\u001b[39;00m:\n\u001b[0;32m    111\u001b[0m     \u001b[38;5;28;01mif\u001b[39;00m \u001b[38;5;129;01mnot\u001b[39;00m is_scalar(y):\n",
      "\u001b[1;31mTypeError\u001b[0m: unsupported operand type(s) for +: 'int' and 'str'"
     ]
    }
   ],
   "source": [
    "df1 + df2"
   ]
  },
  {
   "cell_type": "code",
   "execution_count": 46,
   "id": "81adfe8d",
   "metadata": {},
   "outputs": [
    {
     "data": {
      "text/html": [
       "<div>\n",
       "<style scoped>\n",
       "    .dataframe tbody tr th:only-of-type {\n",
       "        vertical-align: middle;\n",
       "    }\n",
       "\n",
       "    .dataframe tbody tr th {\n",
       "        vertical-align: top;\n",
       "    }\n",
       "\n",
       "    .dataframe thead th {\n",
       "        text-align: right;\n",
       "    }\n",
       "</style>\n",
       "<table border=\"1\" class=\"dataframe\">\n",
       "  <thead>\n",
       "    <tr style=\"text-align: right;\">\n",
       "      <th></th>\n",
       "      <th>통계</th>\n",
       "      <th>미술</th>\n",
       "      <th>체육</th>\n",
       "    </tr>\n",
       "  </thead>\n",
       "  <tbody>\n",
       "    <tr>\n",
       "      <th>0</th>\n",
       "      <td>70</td>\n",
       "      <td>60</td>\n",
       "      <td>80</td>\n",
       "    </tr>\n",
       "    <tr>\n",
       "      <th>1</th>\n",
       "      <td>80</td>\n",
       "      <td>65</td>\n",
       "      <td>75</td>\n",
       "    </tr>\n",
       "    <tr>\n",
       "      <th>2</th>\n",
       "      <td>90</td>\n",
       "      <td>90</td>\n",
       "      <td>60</td>\n",
       "    </tr>\n",
       "    <tr>\n",
       "      <th>3</th>\n",
       "      <td>95</td>\n",
       "      <td>110</td>\n",
       "      <td>105</td>\n",
       "    </tr>\n",
       "    <tr>\n",
       "      <th>4</th>\n",
       "      <td>85</td>\n",
       "      <td>105</td>\n",
       "      <td>110</td>\n",
       "    </tr>\n",
       "  </tbody>\n",
       "</table>\n",
       "</div>"
      ],
      "text/plain": [
       "   통계   미술   체육\n",
       "0  70   60   80\n",
       "1  80   65   75\n",
       "2  90   90   60\n",
       "3  95  110  105\n",
       "4  85  105  110"
      ]
     },
     "execution_count": 46,
     "metadata": {},
     "output_type": "execute_result"
    }
   ],
   "source": [
    "# 문자열이 포함된 DataFrame의 브로드캐스팅 연산\n",
    "df1 + 10"
   ]
  },
  {
   "cell_type": "code",
   "execution_count": 47,
   "id": "39d35c41",
   "metadata": {},
   "outputs": [
    {
     "ename": "TypeError",
     "evalue": "can only concatenate str (not \"int\") to str",
     "output_type": "error",
     "traceback": [
      "\u001b[1;31m---------------------------------------------------------------------------\u001b[0m",
      "\u001b[1;31mTypeError\u001b[0m                                 Traceback (most recent call last)",
      "File \u001b[1;32mC:\\Anaconda3\\lib\\site-packages\\pandas\\core\\ops\\array_ops.py:163\u001b[0m, in \u001b[0;36m_na_arithmetic_op\u001b[1;34m(left, right, op, is_cmp)\u001b[0m\n\u001b[0;32m    162\u001b[0m \u001b[38;5;28;01mtry\u001b[39;00m:\n\u001b[1;32m--> 163\u001b[0m     result \u001b[38;5;241m=\u001b[39m \u001b[43mfunc\u001b[49m\u001b[43m(\u001b[49m\u001b[43mleft\u001b[49m\u001b[43m,\u001b[49m\u001b[43m \u001b[49m\u001b[43mright\u001b[49m\u001b[43m)\u001b[49m\n\u001b[0;32m    164\u001b[0m \u001b[38;5;28;01mexcept\u001b[39;00m \u001b[38;5;167;01mTypeError\u001b[39;00m:\n",
      "File \u001b[1;32mC:\\Anaconda3\\lib\\site-packages\\pandas\\core\\computation\\expressions.py:239\u001b[0m, in \u001b[0;36mevaluate\u001b[1;34m(op, a, b, use_numexpr)\u001b[0m\n\u001b[0;32m    237\u001b[0m     \u001b[38;5;28;01mif\u001b[39;00m use_numexpr:\n\u001b[0;32m    238\u001b[0m         \u001b[38;5;66;03m# error: \"None\" not callable\u001b[39;00m\n\u001b[1;32m--> 239\u001b[0m         \u001b[38;5;28;01mreturn\u001b[39;00m \u001b[43m_evaluate\u001b[49m\u001b[43m(\u001b[49m\u001b[43mop\u001b[49m\u001b[43m,\u001b[49m\u001b[43m \u001b[49m\u001b[43mop_str\u001b[49m\u001b[43m,\u001b[49m\u001b[43m \u001b[49m\u001b[43ma\u001b[49m\u001b[43m,\u001b[49m\u001b[43m \u001b[49m\u001b[43mb\u001b[49m\u001b[43m)\u001b[49m  \u001b[38;5;66;03m# type: ignore[misc]\u001b[39;00m\n\u001b[0;32m    240\u001b[0m \u001b[38;5;28;01mreturn\u001b[39;00m _evaluate_standard(op, op_str, a, b)\n",
      "File \u001b[1;32mC:\\Anaconda3\\lib\\site-packages\\pandas\\core\\computation\\expressions.py:128\u001b[0m, in \u001b[0;36m_evaluate_numexpr\u001b[1;34m(op, op_str, a, b)\u001b[0m\n\u001b[0;32m    127\u001b[0m \u001b[38;5;28;01mif\u001b[39;00m result \u001b[38;5;129;01mis\u001b[39;00m \u001b[38;5;28;01mNone\u001b[39;00m:\n\u001b[1;32m--> 128\u001b[0m     result \u001b[38;5;241m=\u001b[39m \u001b[43m_evaluate_standard\u001b[49m\u001b[43m(\u001b[49m\u001b[43mop\u001b[49m\u001b[43m,\u001b[49m\u001b[43m \u001b[49m\u001b[43mop_str\u001b[49m\u001b[43m,\u001b[49m\u001b[43m \u001b[49m\u001b[43ma\u001b[49m\u001b[43m,\u001b[49m\u001b[43m \u001b[49m\u001b[43mb\u001b[49m\u001b[43m)\u001b[49m\n\u001b[0;32m    130\u001b[0m \u001b[38;5;28;01mreturn\u001b[39;00m result\n",
      "File \u001b[1;32mC:\\Anaconda3\\lib\\site-packages\\pandas\\core\\computation\\expressions.py:69\u001b[0m, in \u001b[0;36m_evaluate_standard\u001b[1;34m(op, op_str, a, b)\u001b[0m\n\u001b[0;32m     68\u001b[0m     _store_test_result(\u001b[38;5;28;01mFalse\u001b[39;00m)\n\u001b[1;32m---> 69\u001b[0m \u001b[38;5;28;01mreturn\u001b[39;00m \u001b[43mop\u001b[49m\u001b[43m(\u001b[49m\u001b[43ma\u001b[49m\u001b[43m,\u001b[49m\u001b[43m \u001b[49m\u001b[43mb\u001b[49m\u001b[43m)\u001b[49m\n",
      "\u001b[1;31mTypeError\u001b[0m: can only concatenate str (not \"int\") to str",
      "\nDuring handling of the above exception, another exception occurred:\n",
      "\u001b[1;31mTypeError\u001b[0m                                 Traceback (most recent call last)",
      "Cell \u001b[1;32mIn [47], line 1\u001b[0m\n\u001b[1;32m----> 1\u001b[0m \u001b[43mdf2\u001b[49m\u001b[43m \u001b[49m\u001b[38;5;241;43m+\u001b[39;49m\u001b[43m \u001b[49m\u001b[38;5;241;43m10\u001b[39;49m\n",
      "File \u001b[1;32mC:\\Anaconda3\\lib\\site-packages\\pandas\\core\\ops\\common.py:70\u001b[0m, in \u001b[0;36m_unpack_zerodim_and_defer.<locals>.new_method\u001b[1;34m(self, other)\u001b[0m\n\u001b[0;32m     66\u001b[0m             \u001b[38;5;28;01mreturn\u001b[39;00m \u001b[38;5;28mNotImplemented\u001b[39m\n\u001b[0;32m     68\u001b[0m other \u001b[38;5;241m=\u001b[39m item_from_zerodim(other)\n\u001b[1;32m---> 70\u001b[0m \u001b[38;5;28;01mreturn\u001b[39;00m \u001b[43mmethod\u001b[49m\u001b[43m(\u001b[49m\u001b[38;5;28;43mself\u001b[39;49m\u001b[43m,\u001b[49m\u001b[43m \u001b[49m\u001b[43mother\u001b[49m\u001b[43m)\u001b[49m\n",
      "File \u001b[1;32mC:\\Anaconda3\\lib\\site-packages\\pandas\\core\\arraylike.py:100\u001b[0m, in \u001b[0;36mOpsMixin.__add__\u001b[1;34m(self, other)\u001b[0m\n\u001b[0;32m     98\u001b[0m \u001b[38;5;129m@unpack_zerodim_and_defer\u001b[39m(\u001b[38;5;124m\"\u001b[39m\u001b[38;5;124m__add__\u001b[39m\u001b[38;5;124m\"\u001b[39m)\n\u001b[0;32m     99\u001b[0m \u001b[38;5;28;01mdef\u001b[39;00m \u001b[38;5;21m__add__\u001b[39m(\u001b[38;5;28mself\u001b[39m, other):\n\u001b[1;32m--> 100\u001b[0m     \u001b[38;5;28;01mreturn\u001b[39;00m \u001b[38;5;28;43mself\u001b[39;49m\u001b[38;5;241;43m.\u001b[39;49m\u001b[43m_arith_method\u001b[49m\u001b[43m(\u001b[49m\u001b[43mother\u001b[49m\u001b[43m,\u001b[49m\u001b[43m \u001b[49m\u001b[43moperator\u001b[49m\u001b[38;5;241;43m.\u001b[39;49m\u001b[43madd\u001b[49m\u001b[43m)\u001b[49m\n",
      "File \u001b[1;32mC:\\Anaconda3\\lib\\site-packages\\pandas\\core\\frame.py:6955\u001b[0m, in \u001b[0;36mDataFrame._arith_method\u001b[1;34m(self, other, op)\u001b[0m\n\u001b[0;32m   6951\u001b[0m other \u001b[38;5;241m=\u001b[39m ops\u001b[38;5;241m.\u001b[39mmaybe_prepare_scalar_for_op(other, (\u001b[38;5;28mself\u001b[39m\u001b[38;5;241m.\u001b[39mshape[axis],))\n\u001b[0;32m   6953\u001b[0m \u001b[38;5;28mself\u001b[39m, other \u001b[38;5;241m=\u001b[39m ops\u001b[38;5;241m.\u001b[39malign_method_FRAME(\u001b[38;5;28mself\u001b[39m, other, axis, flex\u001b[38;5;241m=\u001b[39m\u001b[38;5;28;01mTrue\u001b[39;00m, level\u001b[38;5;241m=\u001b[39m\u001b[38;5;28;01mNone\u001b[39;00m)\n\u001b[1;32m-> 6955\u001b[0m new_data \u001b[38;5;241m=\u001b[39m \u001b[38;5;28;43mself\u001b[39;49m\u001b[38;5;241;43m.\u001b[39;49m\u001b[43m_dispatch_frame_op\u001b[49m\u001b[43m(\u001b[49m\u001b[43mother\u001b[49m\u001b[43m,\u001b[49m\u001b[43m \u001b[49m\u001b[43mop\u001b[49m\u001b[43m,\u001b[49m\u001b[43m \u001b[49m\u001b[43maxis\u001b[49m\u001b[38;5;241;43m=\u001b[39;49m\u001b[43maxis\u001b[49m\u001b[43m)\u001b[49m\n\u001b[0;32m   6956\u001b[0m \u001b[38;5;28;01mreturn\u001b[39;00m \u001b[38;5;28mself\u001b[39m\u001b[38;5;241m.\u001b[39m_construct_result(new_data)\n",
      "File \u001b[1;32mC:\\Anaconda3\\lib\\site-packages\\pandas\\core\\frame.py:6982\u001b[0m, in \u001b[0;36mDataFrame._dispatch_frame_op\u001b[1;34m(self, right, func, axis)\u001b[0m\n\u001b[0;32m   6979\u001b[0m \u001b[38;5;28;01mif\u001b[39;00m \u001b[38;5;129;01mnot\u001b[39;00m is_list_like(right):\n\u001b[0;32m   6980\u001b[0m     \u001b[38;5;66;03m# i.e. scalar, faster than checking np.ndim(right) == 0\u001b[39;00m\n\u001b[0;32m   6981\u001b[0m     \u001b[38;5;28;01mwith\u001b[39;00m np\u001b[38;5;241m.\u001b[39merrstate(\u001b[38;5;28mall\u001b[39m\u001b[38;5;241m=\u001b[39m\u001b[38;5;124m\"\u001b[39m\u001b[38;5;124mignore\u001b[39m\u001b[38;5;124m\"\u001b[39m):\n\u001b[1;32m-> 6982\u001b[0m         bm \u001b[38;5;241m=\u001b[39m \u001b[38;5;28;43mself\u001b[39;49m\u001b[38;5;241;43m.\u001b[39;49m\u001b[43m_mgr\u001b[49m\u001b[38;5;241;43m.\u001b[39;49m\u001b[43mapply\u001b[49m\u001b[43m(\u001b[49m\u001b[43marray_op\u001b[49m\u001b[43m,\u001b[49m\u001b[43m \u001b[49m\u001b[43mright\u001b[49m\u001b[38;5;241;43m=\u001b[39;49m\u001b[43mright\u001b[49m\u001b[43m)\u001b[49m\n\u001b[0;32m   6983\u001b[0m     \u001b[38;5;28;01mreturn\u001b[39;00m \u001b[38;5;28mself\u001b[39m\u001b[38;5;241m.\u001b[39m_constructor(bm)\n\u001b[0;32m   6985\u001b[0m \u001b[38;5;28;01melif\u001b[39;00m \u001b[38;5;28misinstance\u001b[39m(right, DataFrame):\n",
      "File \u001b[1;32mC:\\Anaconda3\\lib\\site-packages\\pandas\\core\\internals\\managers.py:302\u001b[0m, in \u001b[0;36mBaseBlockManager.apply\u001b[1;34m(self, f, align_keys, ignore_failures, **kwargs)\u001b[0m\n\u001b[0;32m    300\u001b[0m \u001b[38;5;28;01mtry\u001b[39;00m:\n\u001b[0;32m    301\u001b[0m     \u001b[38;5;28;01mif\u001b[39;00m callable(f):\n\u001b[1;32m--> 302\u001b[0m         applied \u001b[38;5;241m=\u001b[39m b\u001b[38;5;241m.\u001b[39mapply(f, \u001b[38;5;241m*\u001b[39m\u001b[38;5;241m*\u001b[39mkwargs)\n\u001b[0;32m    303\u001b[0m     \u001b[38;5;28;01melse\u001b[39;00m:\n\u001b[0;32m    304\u001b[0m         applied \u001b[38;5;241m=\u001b[39m \u001b[38;5;28mgetattr\u001b[39m(b, f)(\u001b[38;5;241m*\u001b[39m\u001b[38;5;241m*\u001b[39mkwargs)\n",
      "File \u001b[1;32mC:\\Anaconda3\\lib\\site-packages\\pandas\\core\\internals\\blocks.py:402\u001b[0m, in \u001b[0;36mBlock.apply\u001b[1;34m(self, func, **kwargs)\u001b[0m\n\u001b[0;32m    396\u001b[0m \u001b[38;5;129m@final\u001b[39m\n\u001b[0;32m    397\u001b[0m \u001b[38;5;28;01mdef\u001b[39;00m \u001b[38;5;21mapply\u001b[39m(\u001b[38;5;28mself\u001b[39m, func, \u001b[38;5;241m*\u001b[39m\u001b[38;5;241m*\u001b[39mkwargs) \u001b[38;5;241m-\u001b[39m\u001b[38;5;241m>\u001b[39m \u001b[38;5;28mlist\u001b[39m[Block]:\n\u001b[0;32m    398\u001b[0m     \u001b[38;5;124;03m\"\"\"\u001b[39;00m\n\u001b[0;32m    399\u001b[0m \u001b[38;5;124;03m    apply the function to my values; return a block if we are not\u001b[39;00m\n\u001b[0;32m    400\u001b[0m \u001b[38;5;124;03m    one\u001b[39;00m\n\u001b[0;32m    401\u001b[0m \u001b[38;5;124;03m    \"\"\"\u001b[39;00m\n\u001b[1;32m--> 402\u001b[0m     result \u001b[38;5;241m=\u001b[39m func(\u001b[38;5;28mself\u001b[39m\u001b[38;5;241m.\u001b[39mvalues, \u001b[38;5;241m*\u001b[39m\u001b[38;5;241m*\u001b[39mkwargs)\n\u001b[0;32m    404\u001b[0m     \u001b[38;5;28;01mreturn\u001b[39;00m \u001b[38;5;28mself\u001b[39m\u001b[38;5;241m.\u001b[39m_split_op_result(result)\n",
      "File \u001b[1;32mC:\\Anaconda3\\lib\\site-packages\\pandas\\core\\ops\\array_ops.py:222\u001b[0m, in \u001b[0;36marithmetic_op\u001b[1;34m(left, right, op)\u001b[0m\n\u001b[0;32m    217\u001b[0m \u001b[38;5;28;01melse\u001b[39;00m:\n\u001b[0;32m    218\u001b[0m     \u001b[38;5;66;03m# TODO we should handle EAs consistently and move this check before the if/else\u001b[39;00m\n\u001b[0;32m    219\u001b[0m     \u001b[38;5;66;03m# (https://github.com/pandas-dev/pandas/issues/41165)\u001b[39;00m\n\u001b[0;32m    220\u001b[0m     _bool_arith_check(op, left, right)\n\u001b[1;32m--> 222\u001b[0m     res_values \u001b[38;5;241m=\u001b[39m \u001b[43m_na_arithmetic_op\u001b[49m\u001b[43m(\u001b[49m\u001b[43mleft\u001b[49m\u001b[43m,\u001b[49m\u001b[43m \u001b[49m\u001b[43mright\u001b[49m\u001b[43m,\u001b[49m\u001b[43m \u001b[49m\u001b[43mop\u001b[49m\u001b[43m)\u001b[49m\n\u001b[0;32m    224\u001b[0m \u001b[38;5;28;01mreturn\u001b[39;00m res_values\n",
      "File \u001b[1;32mC:\\Anaconda3\\lib\\site-packages\\pandas\\core\\ops\\array_ops.py:170\u001b[0m, in \u001b[0;36m_na_arithmetic_op\u001b[1;34m(left, right, op, is_cmp)\u001b[0m\n\u001b[0;32m    164\u001b[0m \u001b[38;5;28;01mexcept\u001b[39;00m \u001b[38;5;167;01mTypeError\u001b[39;00m:\n\u001b[0;32m    165\u001b[0m     \u001b[38;5;28;01mif\u001b[39;00m \u001b[38;5;129;01mnot\u001b[39;00m is_cmp \u001b[38;5;129;01mand\u001b[39;00m (is_object_dtype(left\u001b[38;5;241m.\u001b[39mdtype) \u001b[38;5;129;01mor\u001b[39;00m is_object_dtype(right)):\n\u001b[0;32m    166\u001b[0m         \u001b[38;5;66;03m# For object dtype, fallback to a masked operation (only operating\u001b[39;00m\n\u001b[0;32m    167\u001b[0m         \u001b[38;5;66;03m#  on the non-missing values)\u001b[39;00m\n\u001b[0;32m    168\u001b[0m         \u001b[38;5;66;03m# Don't do this for comparisons, as that will handle complex numbers\u001b[39;00m\n\u001b[0;32m    169\u001b[0m         \u001b[38;5;66;03m#  incorrectly, see GH#32047\u001b[39;00m\n\u001b[1;32m--> 170\u001b[0m         result \u001b[38;5;241m=\u001b[39m \u001b[43m_masked_arith_op\u001b[49m\u001b[43m(\u001b[49m\u001b[43mleft\u001b[49m\u001b[43m,\u001b[49m\u001b[43m \u001b[49m\u001b[43mright\u001b[49m\u001b[43m,\u001b[49m\u001b[43m \u001b[49m\u001b[43mop\u001b[49m\u001b[43m)\u001b[49m\n\u001b[0;32m    171\u001b[0m     \u001b[38;5;28;01melse\u001b[39;00m:\n\u001b[0;32m    172\u001b[0m         \u001b[38;5;28;01mraise\u001b[39;00m\n",
      "File \u001b[1;32mC:\\Anaconda3\\lib\\site-packages\\pandas\\core\\ops\\array_ops.py:127\u001b[0m, in \u001b[0;36m_masked_arith_op\u001b[1;34m(x, y, op)\u001b[0m\n\u001b[0;32m    124\u001b[0m         mask \u001b[38;5;241m=\u001b[39m np\u001b[38;5;241m.\u001b[39mwhere(y \u001b[38;5;241m==\u001b[39m \u001b[38;5;241m1\u001b[39m, \u001b[38;5;28;01mFalse\u001b[39;00m, mask)\n\u001b[0;32m    126\u001b[0m     \u001b[38;5;28;01mif\u001b[39;00m mask\u001b[38;5;241m.\u001b[39many():\n\u001b[1;32m--> 127\u001b[0m         result[mask] \u001b[38;5;241m=\u001b[39m \u001b[43mop\u001b[49m\u001b[43m(\u001b[49m\u001b[43mxrav\u001b[49m\u001b[43m[\u001b[49m\u001b[43mmask\u001b[49m\u001b[43m]\u001b[49m\u001b[43m,\u001b[49m\u001b[43m \u001b[49m\u001b[43my\u001b[49m\u001b[43m)\u001b[49m\n\u001b[0;32m    129\u001b[0m np\u001b[38;5;241m.\u001b[39mputmask(result, \u001b[38;5;241m~\u001b[39mmask, np\u001b[38;5;241m.\u001b[39mnan)\n\u001b[0;32m    130\u001b[0m result \u001b[38;5;241m=\u001b[39m result\u001b[38;5;241m.\u001b[39mreshape(x\u001b[38;5;241m.\u001b[39mshape)  \u001b[38;5;66;03m# 2D compat\u001b[39;00m\n",
      "\u001b[1;31mTypeError\u001b[0m: can only concatenate str (not \"int\") to str"
     ]
    }
   ],
   "source": [
    "df2 + 10"
   ]
  },
  {
   "cell_type": "code",
   "execution_count": 48,
   "id": "81236108",
   "metadata": {},
   "outputs": [
    {
     "data": {
      "text/html": [
       "<div>\n",
       "<style scoped>\n",
       "    .dataframe tbody tr th:only-of-type {\n",
       "        vertical-align: middle;\n",
       "    }\n",
       "\n",
       "    .dataframe tbody tr th {\n",
       "        vertical-align: top;\n",
       "    }\n",
       "\n",
       "    .dataframe thead th {\n",
       "        text-align: right;\n",
       "    }\n",
       "</style>\n",
       "<table border=\"1\" class=\"dataframe\">\n",
       "  <thead>\n",
       "    <tr style=\"text-align: right;\">\n",
       "      <th></th>\n",
       "      <th>미술</th>\n",
       "      <th>체육</th>\n",
       "    </tr>\n",
       "  </thead>\n",
       "  <tbody>\n",
       "    <tr>\n",
       "      <th>0</th>\n",
       "      <td>60</td>\n",
       "      <td>80</td>\n",
       "    </tr>\n",
       "    <tr>\n",
       "      <th>1</th>\n",
       "      <td>70</td>\n",
       "      <td>75</td>\n",
       "    </tr>\n",
       "    <tr>\n",
       "      <th>2</th>\n",
       "      <td>90</td>\n",
       "      <td>60</td>\n",
       "    </tr>\n",
       "    <tr>\n",
       "      <th>3</th>\n",
       "      <td>110</td>\n",
       "      <td>80</td>\n",
       "    </tr>\n",
       "    <tr>\n",
       "      <th>4</th>\n",
       "      <td>105</td>\n",
       "      <td>110</td>\n",
       "    </tr>\n",
       "  </tbody>\n",
       "</table>\n",
       "</div>"
      ],
      "text/plain": [
       "    미술   체육\n",
       "0   60   80\n",
       "1   70   75\n",
       "2   90   60\n",
       "3  110   80\n",
       "4  105  110"
      ]
     },
     "execution_count": 48,
     "metadata": {},
     "output_type": "execute_result"
    }
   ],
   "source": [
    "# 문자열을 제외하고 컬럼별 덧셈을 하고자 할 때\n",
    "col = ['미술', '체육']\n",
    "df2[col] + 10"
   ]
  },
  {
   "cell_type": "markdown",
   "id": "4569daf4",
   "metadata": {},
   "source": [
    "column의 순서가 바뀌어 있는 경우"
   ]
  },
  {
   "cell_type": "code",
   "execution_count": 49,
   "id": "b541557d",
   "metadata": {},
   "outputs": [],
   "source": [
    "df1 = pd.DataFrame({'미술': [10, 20, 30, 40, 50], '통계':[60, 70, 80, 90, 100] })\n",
    "df2 = pd.DataFrame({'통계': [10, 20, 30, 40, 50], '미술': [60, 70, 80, 90, 100] })"
   ]
  },
  {
   "cell_type": "code",
   "execution_count": 50,
   "id": "2252cab2",
   "metadata": {},
   "outputs": [
    {
     "data": {
      "text/html": [
       "<div>\n",
       "<style scoped>\n",
       "    .dataframe tbody tr th:only-of-type {\n",
       "        vertical-align: middle;\n",
       "    }\n",
       "\n",
       "    .dataframe tbody tr th {\n",
       "        vertical-align: top;\n",
       "    }\n",
       "\n",
       "    .dataframe thead th {\n",
       "        text-align: right;\n",
       "    }\n",
       "</style>\n",
       "<table border=\"1\" class=\"dataframe\">\n",
       "  <thead>\n",
       "    <tr style=\"text-align: right;\">\n",
       "      <th></th>\n",
       "      <th>미술</th>\n",
       "      <th>통계</th>\n",
       "    </tr>\n",
       "  </thead>\n",
       "  <tbody>\n",
       "    <tr>\n",
       "      <th>0</th>\n",
       "      <td>10</td>\n",
       "      <td>60</td>\n",
       "    </tr>\n",
       "    <tr>\n",
       "      <th>1</th>\n",
       "      <td>20</td>\n",
       "      <td>70</td>\n",
       "    </tr>\n",
       "    <tr>\n",
       "      <th>2</th>\n",
       "      <td>30</td>\n",
       "      <td>80</td>\n",
       "    </tr>\n",
       "    <tr>\n",
       "      <th>3</th>\n",
       "      <td>40</td>\n",
       "      <td>90</td>\n",
       "    </tr>\n",
       "    <tr>\n",
       "      <th>4</th>\n",
       "      <td>50</td>\n",
       "      <td>100</td>\n",
       "    </tr>\n",
       "  </tbody>\n",
       "</table>\n",
       "</div>"
      ],
      "text/plain": [
       "   미술   통계\n",
       "0  10   60\n",
       "1  20   70\n",
       "2  30   80\n",
       "3  40   90\n",
       "4  50  100"
      ]
     },
     "execution_count": 50,
     "metadata": {},
     "output_type": "execute_result"
    }
   ],
   "source": [
    "df1"
   ]
  },
  {
   "cell_type": "code",
   "execution_count": 51,
   "id": "2b386976",
   "metadata": {},
   "outputs": [
    {
     "data": {
      "text/html": [
       "<div>\n",
       "<style scoped>\n",
       "    .dataframe tbody tr th:only-of-type {\n",
       "        vertical-align: middle;\n",
       "    }\n",
       "\n",
       "    .dataframe tbody tr th {\n",
       "        vertical-align: top;\n",
       "    }\n",
       "\n",
       "    .dataframe thead th {\n",
       "        text-align: right;\n",
       "    }\n",
       "</style>\n",
       "<table border=\"1\" class=\"dataframe\">\n",
       "  <thead>\n",
       "    <tr style=\"text-align: right;\">\n",
       "      <th></th>\n",
       "      <th>통계</th>\n",
       "      <th>미술</th>\n",
       "    </tr>\n",
       "  </thead>\n",
       "  <tbody>\n",
       "    <tr>\n",
       "      <th>0</th>\n",
       "      <td>10</td>\n",
       "      <td>60</td>\n",
       "    </tr>\n",
       "    <tr>\n",
       "      <th>1</th>\n",
       "      <td>20</td>\n",
       "      <td>70</td>\n",
       "    </tr>\n",
       "    <tr>\n",
       "      <th>2</th>\n",
       "      <td>30</td>\n",
       "      <td>80</td>\n",
       "    </tr>\n",
       "    <tr>\n",
       "      <th>3</th>\n",
       "      <td>40</td>\n",
       "      <td>90</td>\n",
       "    </tr>\n",
       "    <tr>\n",
       "      <th>4</th>\n",
       "      <td>50</td>\n",
       "      <td>100</td>\n",
       "    </tr>\n",
       "  </tbody>\n",
       "</table>\n",
       "</div>"
      ],
      "text/plain": [
       "   통계   미술\n",
       "0  10   60\n",
       "1  20   70\n",
       "2  30   80\n",
       "3  40   90\n",
       "4  50  100"
      ]
     },
     "execution_count": 51,
     "metadata": {},
     "output_type": "execute_result"
    }
   ],
   "source": [
    "df2"
   ]
  },
  {
   "cell_type": "code",
   "execution_count": 52,
   "id": "fb849e75",
   "metadata": {},
   "outputs": [
    {
     "data": {
      "text/html": [
       "<div>\n",
       "<style scoped>\n",
       "    .dataframe tbody tr th:only-of-type {\n",
       "        vertical-align: middle;\n",
       "    }\n",
       "\n",
       "    .dataframe tbody tr th {\n",
       "        vertical-align: top;\n",
       "    }\n",
       "\n",
       "    .dataframe thead th {\n",
       "        text-align: right;\n",
       "    }\n",
       "</style>\n",
       "<table border=\"1\" class=\"dataframe\">\n",
       "  <thead>\n",
       "    <tr style=\"text-align: right;\">\n",
       "      <th></th>\n",
       "      <th>미술</th>\n",
       "      <th>통계</th>\n",
       "    </tr>\n",
       "  </thead>\n",
       "  <tbody>\n",
       "    <tr>\n",
       "      <th>0</th>\n",
       "      <td>70</td>\n",
       "      <td>70</td>\n",
       "    </tr>\n",
       "    <tr>\n",
       "      <th>1</th>\n",
       "      <td>90</td>\n",
       "      <td>90</td>\n",
       "    </tr>\n",
       "    <tr>\n",
       "      <th>2</th>\n",
       "      <td>110</td>\n",
       "      <td>110</td>\n",
       "    </tr>\n",
       "    <tr>\n",
       "      <th>3</th>\n",
       "      <td>130</td>\n",
       "      <td>130</td>\n",
       "    </tr>\n",
       "    <tr>\n",
       "      <th>4</th>\n",
       "      <td>150</td>\n",
       "      <td>150</td>\n",
       "    </tr>\n",
       "  </tbody>\n",
       "</table>\n",
       "</div>"
      ],
      "text/plain": [
       "    미술   통계\n",
       "0   70   70\n",
       "1   90   90\n",
       "2  110  110\n",
       "3  130  130\n",
       "4  150  150"
      ]
     },
     "execution_count": 52,
     "metadata": {},
     "output_type": "execute_result"
    }
   ],
   "source": [
    "# 순서가 바뀌어도 column별 덧셈이 정상적으로 수행해진다\n",
    "df1 + df2"
   ]
  },
  {
   "cell_type": "markdown",
   "id": "4e8e19de",
   "metadata": {},
   "source": [
    "행의갯수가 다른경우"
   ]
  },
  {
   "cell_type": "code",
   "execution_count": 53,
   "id": "fc6e00b9",
   "metadata": {},
   "outputs": [],
   "source": [
    "df1 = pd.DataFrame({'미술': [10, 20, 30, 40, 50, 60], '통계':[60, 70, 80, 90, 100, 110] })\n",
    "df2 = pd.DataFrame({'통계': [10, 20, 30, 40, 50], '미술': [60, 70, 80, 90, 100] })"
   ]
  },
  {
   "cell_type": "code",
   "execution_count": 54,
   "id": "5ffaed7c",
   "metadata": {},
   "outputs": [
    {
     "data": {
      "text/html": [
       "<div>\n",
       "<style scoped>\n",
       "    .dataframe tbody tr th:only-of-type {\n",
       "        vertical-align: middle;\n",
       "    }\n",
       "\n",
       "    .dataframe tbody tr th {\n",
       "        vertical-align: top;\n",
       "    }\n",
       "\n",
       "    .dataframe thead th {\n",
       "        text-align: right;\n",
       "    }\n",
       "</style>\n",
       "<table border=\"1\" class=\"dataframe\">\n",
       "  <thead>\n",
       "    <tr style=\"text-align: right;\">\n",
       "      <th></th>\n",
       "      <th>미술</th>\n",
       "      <th>통계</th>\n",
       "    </tr>\n",
       "  </thead>\n",
       "  <tbody>\n",
       "    <tr>\n",
       "      <th>0</th>\n",
       "      <td>70.0</td>\n",
       "      <td>70.0</td>\n",
       "    </tr>\n",
       "    <tr>\n",
       "      <th>1</th>\n",
       "      <td>90.0</td>\n",
       "      <td>90.0</td>\n",
       "    </tr>\n",
       "    <tr>\n",
       "      <th>2</th>\n",
       "      <td>110.0</td>\n",
       "      <td>110.0</td>\n",
       "    </tr>\n",
       "    <tr>\n",
       "      <th>3</th>\n",
       "      <td>130.0</td>\n",
       "      <td>130.0</td>\n",
       "    </tr>\n",
       "    <tr>\n",
       "      <th>4</th>\n",
       "      <td>150.0</td>\n",
       "      <td>150.0</td>\n",
       "    </tr>\n",
       "    <tr>\n",
       "      <th>5</th>\n",
       "      <td>NaN</td>\n",
       "      <td>NaN</td>\n",
       "    </tr>\n",
       "  </tbody>\n",
       "</table>\n",
       "</div>"
      ],
      "text/plain": [
       "      미술     통계\n",
       "0   70.0   70.0\n",
       "1   90.0   90.0\n",
       "2  110.0  110.0\n",
       "3  130.0  130.0\n",
       "4  150.0  150.0\n",
       "5    NaN    NaN"
      ]
     },
     "execution_count": 54,
     "metadata": {},
     "output_type": "execute_result"
    }
   ],
   "source": [
    "df1 + df2"
   ]
  },
  {
   "cell_type": "markdown",
   "id": "3b1db7e6",
   "metadata": {},
   "source": [
    "위와 같이 행의 개수가 다른부분만 NaN값이 나타난다."
   ]
  },
  {
   "cell_type": "code",
   "execution_count": null,
   "id": "be93a084",
   "metadata": {},
   "outputs": [],
   "source": []
  }
 ],
 "metadata": {
  "kernelspec": {
   "display_name": "Python 3 (ipykernel)",
   "language": "python",
   "name": "python3"
  },
  "language_info": {
   "codemirror_mode": {
    "name": "ipython",
    "version": 3
   },
   "file_extension": ".py",
   "mimetype": "text/x-python",
   "name": "python",
   "nbconvert_exporter": "python",
   "pygments_lexer": "ipython3",
   "version": "3.9.7"
  }
 },
 "nbformat": 4,
 "nbformat_minor": 5
}
