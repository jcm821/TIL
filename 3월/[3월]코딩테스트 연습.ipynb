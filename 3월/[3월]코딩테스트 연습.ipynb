{
 "cells": [
  {
   "cell_type": "code",
   "execution_count": 1,
   "id": "2c47a6da",
   "metadata": {},
   "outputs": [
    {
     "name": "stdout",
     "output_type": "stream",
     "text": [
      "5 4\n",
      "1\n"
     ]
    }
   ],
   "source": [
    "a, b = map(int, input().split())\n",
    "print(a - b)"
   ]
  },
  {
   "cell_type": "code",
   "execution_count": 13,
   "id": "d6ac7719",
   "metadata": {},
   "outputs": [
    {
     "name": "stdout",
     "output_type": "stream",
     "text": [
      "5 8 4\n",
      "1\n",
      "1\n",
      "0\n",
      "0\n"
     ]
    }
   ],
   "source": [
    "a, b, c = map(int, input().split())\n",
    "print((a + b) % c)\n",
    "print(((a % c) + (b % c)) % c)\n",
    "print((a * b) % c)\n",
    "print(((a % c) * (b % c)) % c)"
   ]
  },
  {
   "cell_type": "code",
   "execution_count": 19,
   "id": "87c985fb",
   "metadata": {},
   "outputs": [
    {
     "name": "stdout",
     "output_type": "stream",
     "text": [
      "joonas\n",
      "joonas??!\n",
      "0.0009999275207519531\n"
     ]
    }
   ],
   "source": [
    "word = input()\n",
    "if word == word:\n",
    "    print('{}'.format(word) + '??!')"
   ]
  },
  {
   "cell_type": "code",
   "execution_count": 23,
   "id": "1e42aaf1",
   "metadata": {},
   "outputs": [
    {
     "name": "stdout",
     "output_type": "stream",
     "text": [
      "2541\n",
      "1998\n"
     ]
    }
   ],
   "source": [
    "y = int(input())\n",
    "\n",
    "print(y - 543)"
   ]
  },
  {
   "cell_type": "code",
   "execution_count": 26,
   "id": "48c92a4f",
   "metadata": {},
   "outputs": [
    {
     "name": "stdout",
     "output_type": "stream",
     "text": [
      "77 77 7777\n",
      "7931\n"
     ]
    }
   ],
   "source": [
    "a, b, c = map(int, input().split())\n",
    "print(a+b+c)"
   ]
  },
  {
   "cell_type": "code",
   "execution_count": 31,
   "id": "330df073",
   "metadata": {},
   "outputs": [
    {
     "name": "stdout",
     "output_type": "stream",
     "text": [
      "472\n",
      "385\n",
      "2360\n",
      "3776\n",
      "1416\n",
      "181720\n"
     ]
    }
   ],
   "source": [
    "a = int(input())\n",
    "b = input()\n",
    "B = list(map(int, b))\n",
    "i, j, k = a*B[-1], a*B[-2], a*B[-3]\n",
    "print(i)\n",
    "print(j)\n",
    "print(k)\n",
    "print(a*int(b))"
   ]
  },
  {
   "cell_type": "code",
   "execution_count": 33,
   "id": "9923c568",
   "metadata": {},
   "outputs": [
    {
     "name": "stdout",
     "output_type": "stream",
     "text": [
      "\\    /\\\n",
      " )  ( ')\n",
      "(  /  )\n",
      " \\(__) |\n"
     ]
    }
   ],
   "source": [
    "print('\\\\    /\\\\')\n",
    "print(\" )  ( ')\")\n",
    "print(\"(  /  )\")\n",
    "print(\" \\\\(__) |\")\n",
    "\n"
   ]
  },
  {
   "cell_type": "code",
   "execution_count": 4,
   "id": "8cb81dc7",
   "metadata": {},
   "outputs": [
    {
     "name": "stdout",
     "output_type": "stream",
     "text": [
      "2000\n",
      "1\n"
     ]
    }
   ],
   "source": [
    "y = int(input())\n",
    "if y % 4 == 0 and (y % 100 != 0 or y % 400 == 0):\n",
    "    print('1')\n",
    "else:\n",
    "    print('0')"
   ]
  },
  {
   "cell_type": "code",
   "execution_count": 6,
   "id": "9a0e958c",
   "metadata": {},
   "outputs": [
    {
     "name": "stdout",
     "output_type": "stream",
     "text": [
      "9\n",
      "-13\n",
      "4\n"
     ]
    }
   ],
   "source": [
    "x = int(input())\n",
    "y = int(input())\n",
    "if x > 0 and y > 0:\n",
    "    print('1')\n",
    "elif x < 0 and y > 0:\n",
    "    print('2')\n",
    "elif x <0 and y < 0:\n",
    "    print('3')\n",
    "else:\n",
    "    print('4')"
   ]
  },
  {
   "cell_type": "code",
   "execution_count": 1,
   "id": "693049ea",
   "metadata": {},
   "outputs": [
    {
     "name": "stdout",
     "output_type": "stream",
     "text": [
      "0 45\n",
      "0 0\n"
     ]
    }
   ],
   "source": [
    "# 시계 맞추기(2884문제)\n",
    "# 방법 1\n",
    "h, m = map(int, input().split())\n",
    "# 45분 보다 크면 분에서 45를 빼기\n",
    "if m >= 45:\n",
    "    print(h, m - 45)\n",
    "# 45분 보다 작고 시가 0보다 크면 시 - 1, 분 - 45\n",
    "elif m < 45 and h > 0:\n",
    "    print(h - 1, m - 45)\n",
    "else:\n",
    "# 시가 0이고 분이 45보다 작은 경우 23시이고 분 + 15\n",
    "    print(23, m + 15)\n",
    "    \n",
    "# 방법 2\n",
    "h, m = map(int, input().split())\n",
    "# 분이 44보다 크면 분에서 45만 뺴기\n",
    "if m > 44:\n",
    "    print(h, m - 45)\n",
    "# 분이 45보다 작고 시가 0보다 크면 시-1, 분-45\n",
    "elif m < 45 and h > 0:\n",
    "    print(h - 1, m + 45)\n",
    "# 시가 0이고 분이 45보다 작으면 23시 분+15\n",
    "else:\n",
    "    print(23, m + 15)"
   ]
  },
  {
   "cell_type": "code",
   "execution_count": 3,
   "id": "6cbfcc43",
   "metadata": {},
   "outputs": [
    {
     "name": "stdout",
     "output_type": "stream",
     "text": [
      "2\n",
      "2 X 1 = 2\n",
      "2 X 2 = 4\n",
      "2 X 3 = 6\n",
      "2 X 4 = 8\n",
      "2 X 5 = 10\n",
      "2 X 6 = 12\n",
      "2 X 7 = 14\n",
      "2 X 8 = 16\n",
      "2 X 9 = 18\n"
     ]
    }
   ],
   "source": [
    "# 구구단\n",
    "n = int(input())\n",
    "for i in range(1, 10):\n",
    "    print('{} X {} = {}'.format(n, i, n * i))"
   ]
  },
  {
   "cell_type": "code",
   "execution_count": 6,
   "id": "02aa6eb2",
   "metadata": {},
   "outputs": [
    {
     "name": "stdout",
     "output_type": "stream",
     "text": [
      "5\n",
      "1 1\n",
      "2\n",
      "2 3\n",
      "5\n",
      "3 4\n",
      "7\n",
      "9 8\n",
      "17\n",
      "5 2\n",
      "7\n"
     ]
    }
   ],
   "source": [
    "# 두 정수 A와 B를 입력받은 다음, A+B를 출력하는 프로그램을 작성하시오(10950문제)\n",
    "t = int(input())\n",
    "for i in range(t):\n",
    "    a, b = map(int, input().split())\n",
    "    print(a + b)"
   ]
  },
  {
   "cell_type": "code",
   "execution_count": 13,
   "id": "666dd242",
   "metadata": {},
   "outputs": [
    {
     "name": "stdout",
     "output_type": "stream",
     "text": [
      "3\n",
      "1\n",
      "3\n",
      "6\n"
     ]
    }
   ],
   "source": [
    "# n이 주어졌을 때, 1부터 n까지 합을 구하는 프로그램을 작성하시오.(8393문제)\n",
    "n = int(input())\n",
    "sum = 0\n",
    "for i in range(1, n + 1):\n",
    "    sum += i\n",
    "    print(sum)"
   ]
  },
  {
   "cell_type": "code",
   "execution_count": 17,
   "id": "81023493",
   "metadata": {},
   "outputs": [
    {
     "name": "stdout",
     "output_type": "stream",
     "text": [
      "260000\n",
      "4\n",
      "20000 5\n",
      "30000 2\n",
      "10000 6\n",
      "5000 8\n",
      "Yes\n"
     ]
    }
   ],
   "source": [
    "# 영수중 문제(25304문제)\n",
    "# 총 금액\n",
    "X = int(input())\n",
    "# 물건 종류의 수\n",
    "N = int(input())\n",
    "i = 1\n",
    "total = 0\n",
    "\n",
    "while i <= N:\n",
    "    a, b = map(int, input().split())\n",
    "    result = (a * b)\n",
    "    total += result\n",
    "    i += 1\n",
    "if total == X:\n",
    "    print('Yes')\n",
    "else:\n",
    "    print(\"No\")"
   ]
  },
  {
   "cell_type": "code",
   "execution_count": null,
   "id": "8afc8f32",
   "metadata": {},
   "outputs": [],
   "source": [
    "# sys라이브러리를 이용한 for문 합 문제(15552문제)\n",
    "import sys\n",
    "\n",
    "T = int(input())\n",
    "for i in range(T):\n",
    "    a, b = map(int, sys.stdin.readline().split())\n",
    "    print(a+b)"
   ]
  },
  {
   "cell_type": "code",
   "execution_count": 15,
   "id": "c9fc04a5",
   "metadata": {},
   "outputs": [
    {
     "name": "stdout",
     "output_type": "stream",
     "text": [
      "5\n",
      "1 1\n",
      "Case #1: 2\n",
      "2 3\n",
      "Case #2: 5\n",
      "3 4\n",
      "Case #3: 7\n",
      "9 8\n",
      "Case #4: 17\n",
      "5 2\n",
      "Case #5: 7\n"
     ]
    }
   ],
   "source": [
    "# 두 정수 A와 B를 입력받은 다음, A+B를 출력하는 프로그램을 작성하시오. (11021문제)\n",
    "t = int(input())\n",
    "for i in range(1, t + 1):\n",
    "    a, b = map(int, input().split())\n",
    "    print('Case #{}: {}'.format(i, a+b))"
   ]
  },
  {
   "cell_type": "code",
   "execution_count": 16,
   "id": "d8acaa91",
   "metadata": {},
   "outputs": [
    {
     "name": "stdout",
     "output_type": "stream",
     "text": [
      "5\n",
      "1 1\n",
      "Case #1: 1 + 1 = 2\n",
      "2 3\n",
      "Case #2: 2 + 3 = 5\n",
      "3 4\n",
      "Case #3: 3 + 4 = 7\n",
      "9 8\n",
      "Case #4: 9 + 8 = 17\n",
      "5 2\n",
      "Case #5: 5 + 2 = 7\n"
     ]
    }
   ],
   "source": [
    "# 두 정수 A와 B를 입력받은 다음, A+B를 출력하는 프로그램을 작성하시오. (11022문제)\n",
    "t = int(input())\n",
    "for i in range(1, t + 1):\n",
    "    a, b = map(int, input().split())\n",
    "    print('Case #{}: {} + {} = {}'.format(i, a, b, a + b))"
   ]
  },
  {
   "cell_type": "code",
   "execution_count": 18,
   "id": "b13626cd",
   "metadata": {},
   "outputs": [
    {
     "name": "stdout",
     "output_type": "stream",
     "text": [
      "5\n",
      "*\n",
      "**\n",
      "***\n",
      "****\n",
      "*****\n"
     ]
    }
   ],
   "source": [
    "# 별찍기 분제(2438문제)\n",
    "n = int(input())\n",
    "for i in range(1, n + 1):\n",
    "    print('*'*i)"
   ]
  },
  {
   "cell_type": "code",
   "execution_count": 23,
   "id": "a0b98a14",
   "metadata": {},
   "outputs": [
    {
     "name": "stdout",
     "output_type": "stream",
     "text": [
      "5\n",
      "     *\n",
      "    **\n",
      "   ***\n",
      "  ****\n",
      " *****\n"
     ]
    }
   ],
   "source": [
    "# 별찍기 분제(2439문제)\n",
    "n = int(input())\n",
    "for i in range(1, n + 1):\n",
    "    print(' ' * (n - i), '*' * i)"
   ]
  },
  {
   "cell_type": "code",
   "execution_count": null,
   "id": "3476c5f0",
   "metadata": {},
   "outputs": [],
   "source": []
  }
 ],
 "metadata": {
  "kernelspec": {
   "display_name": "Python 3 (ipykernel)",
   "language": "python",
   "name": "python3"
  },
  "language_info": {
   "codemirror_mode": {
    "name": "ipython",
    "version": 3
   },
   "file_extension": ".py",
   "mimetype": "text/x-python",
   "name": "python",
   "nbconvert_exporter": "python",
   "pygments_lexer": "ipython3",
   "version": "3.8.16"
  }
 },
 "nbformat": 4,
 "nbformat_minor": 5
}
