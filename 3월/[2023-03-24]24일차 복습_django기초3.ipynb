{
 "cells": [
  {
   "cell_type": "markdown",
   "id": "cd21d6e3",
   "metadata": {},
   "source": [
    "# 클래스함수 복습"
   ]
  },
  {
   "cell_type": "markdown",
   "id": "07c67761",
   "metadata": {},
   "source": [
    "## 객체와 클래스"
   ]
  },
  {
   "cell_type": "markdown",
   "id": "6c7eb28b",
   "metadata": {},
   "source": [
    "|개념|설명|\n",
    "|----|----|\n",
    "|객체(Object)|실생활에 존재하는 실제적인 물건 또는 개념|\n",
    "|속성(attribute)|객체가 가지고 있는 변수|\n",
    "|행동(action)|객체가 실제로 작동할 수 있는 함수, 메소드|"
   ]
  },
  {
   "cell_type": "markdown",
   "id": "34c8777d",
   "metadata": {},
   "source": [
    "* 클래스(class): 객체가 가져야 할 기본 정보를 담은 코드\n",
    "* 인스턴스(instance): 실제로 생성되는 객체"
   ]
  },
  {
   "cell_type": "code",
   "execution_count": 1,
   "id": "26acb8d5",
   "metadata": {},
   "outputs": [],
   "source": [
    "# 클래스 구현하기\n",
    "class SoccerPlayer(object):\n",
    "    def __init__(self, name, position, back_number):\n",
    "        # 이 클래스에서 사용할 변수 정의\n",
    "        # self변수는 클래스에서 생성된 인스턴스에 접근하는 예약어, 생성된 인스턴스를 지정하는 변수\n",
    "        self.name = name\n",
    "        self.position = position\n",
    "        self.back_number = back_number\n",
    "        \n",
    "    # self를 매개변수에 반드시 넣어야, 인스턴스가 사용할 수 있는 함수로 선언된다\n",
    "    def change_back_number(self, new_number):\n",
    "        print('선수의 등번호를 변경한다: From %d to %d' % (self.back_number, new_number))\n",
    "        self.back_number = new_number\n",
    "    \n",
    "    # 클래스로 인스턴스를 생성했을 때, 그 인스턴스 자체를 print()함수로 화면에 출력하면 나오는 값\n",
    "    def __str__(self):\n",
    "        return \"Hello, My name is %s. I play in %s in center.\" % (self.name, self.position)"
   ]
  },
  {
   "cell_type": "code",
   "execution_count": 2,
   "id": "6cf883ea",
   "metadata": {},
   "outputs": [
    {
     "name": "stdout",
     "output_type": "stream",
     "text": [
      "Hello, My name is lee. I play in MF in center.\n",
      "현재 선수의 등번호는:  10\n",
      "선수의 등번호를 변경한다: From 10 to 9\n",
      "현재 선수의 등번호는:  9\n"
     ]
    }
   ],
   "source": [
    "lee = SoccerPlayer('lee', 'MF', 10)\n",
    "\n",
    "print(lee)\n",
    "print('현재 선수의 등번호는: ', lee.back_number)\n",
    "lee.change_back_number(9)\n",
    "print('현재 선수의 등번호는: ', lee.back_number)"
   ]
  },
  {
   "cell_type": "code",
   "execution_count": null,
   "id": "5b331139",
   "metadata": {},
   "outputs": [],
   "source": [
    "# 클래스 구현 확장\n",
    "# 데이터\n",
    "names = ['Messi', 'Ramos', 'Ronaldo', 'Park', 'Buffon']\n",
    "positions = ['LW', 'CB', 'ST', 'RM', 'GK']\n",
    "numbers = [10, 4, 7, 13, 1]\n",
    "\n",
    "# 전체 SoccerPlayer 코드\n",
    "class SoccerPlayer(object):\n",
    "    def __init__(self, name, position, back_number):\n",
    "        self.name = name\n",
    "        self.position = position\n",
    "        self.back_number = back_number\n",
    "\n",
    "    def change_back_number(self, new_number):\n",
    "        print('선수의 등번호를 변경한다: From %d to %d' % (self.back_number, new_number))\n",
    "        self.back_number = new_number\n",
    "    \n",
    "    def __str__(self):\n",
    "        return \"Hello, My name is %s. I play in %s in center.\" % (self.name, self.position)"
   ]
  },
  {
   "cell_type": "code",
   "execution_count": null,
   "id": "258c89d0",
   "metadata": {},
   "outputs": [],
   "source": [
    "# 클래스-인스턴스\n",
    "player_objects = [SoccerPlayer(name, position, number) for name, position, number in zip(names, positions, numbers)]\n",
    "print(player_objects[0])"
   ]
  },
  {
   "cell_type": "markdown",
   "id": "98112ca0",
   "metadata": {},
   "source": [
    "## 노트북 프로그램 만들기"
   ]
  },
  {
   "cell_type": "markdown",
   "id": "016d4a59",
   "metadata": {},
   "source": [
    "* 노트를 정리하는 프로그램\n",
    "* 사용자는 노트북에 콘텐츠를 적을 수 있다.\n",
    "* 노트는 노트북에 삽입\n",
    "* 노트북은 타이틀이 있다.\n",
    "* 노트북은 노트가 삽입될 때 페이지를 생성, 최대 300페이지까지 저장할 수 있다.\n",
    "* 300페이지를 넘기면 노트는 더는 삽입하지 못한다."
   ]
  },
  {
   "cell_type": "code",
   "execution_count": 5,
   "id": "295d2028",
   "metadata": {},
   "outputs": [],
   "source": [
    "# vscode에서 실행\n",
    "# note.py\n",
    "class Note(object):\n",
    "    def __init__(self, contents):\n",
    "        self.contents = contents\n",
    "\n",
    "    def get_number_of_lines(self):\n",
    "        return self.contents.count('\\n')\n",
    "    \n",
    "    def get_number_of_character(self):\n",
    "        return len(self.contents)\n",
    "    \n",
    "    def remove(self):\n",
    "        self.contents = '삭제된 노트입니다.'\n",
    "\n",
    "    def __str__(self):\n",
    "        return self.contents\n",
    "    "
   ]
  },
  {
   "cell_type": "code",
   "execution_count": 6,
   "id": "a8cab258",
   "metadata": {},
   "outputs": [],
   "source": [
    "class NoteBook(object):\n",
    "    def __init__(self, name):\n",
    "        self.name = name\n",
    "        self.pages = 0\n",
    "        self.notes = {}\n",
    "\n",
    "\n",
    "\n",
    "    def add_note(self, note, page_number = 0):\n",
    "        if len(self.notes.keys()) < 300:\n",
    "            if page_number == 0:\n",
    "                if self.pages < 301:\n",
    "                    self.notes[self.pages] = note\n",
    "                    self.pages += 1\n",
    "                else:\n",
    "                    for i in range(300):\n",
    "                        if i not in list(self.notes,keys()):\n",
    "                            self.notes[self.pages] = note\n",
    "            else:\n",
    "                if page_number not in self.notes.keys():\n",
    "                    self.notes[page_number] = note\n",
    "                else:\n",
    "                    print('해당 페이지에는 이미 노트가 존재합니다.')\n",
    "        else:\n",
    "            print('더 이상 노트를 추가하지 못합니다.')\n",
    "\n",
    "    def remove_note(self, page_number):\n",
    "        del self.notes[page_number]\n",
    "\n",
    "    def get_number_of_all_lines(self):\n",
    "        result = 0\n",
    "        for k in self.notes.keys():\n",
    "            result += self.notes[k].get_number_of_characters()\n",
    "        return result\n",
    "    \n",
    "\n",
    "    def get_number_of_all_pages(self):\n",
    "        return len(self.notes.keys())\n",
    "    \n",
    "    def __str__(self):\n",
    "        return self.name\n",
    "    "
   ]
  },
  {
   "cell_type": "code",
   "execution_count": null,
   "id": "a5d27739",
   "metadata": {},
   "outputs": [],
   "source": [
    "from note import Note\n",
    "from notebook import NoteBook\n",
    "\n",
    "good_sentence = \"\"\"행복의 문이 하나 닫히면 다른 문이 열린다. 그러나 우리는 종종 닫힌 문을 멍하니 바라보다가 \n",
    "우리를 향해 열린 문을 보지 못하게 된다. - 헬렌 켈러\"\"\"\n",
    "note_1 = Note(good_sentence)\n",
    "print(note_1)\n",
    "good_sentence = \"\"\"Stay hungry stay foolish - steve jobs\"\"\"\n",
    "note_2 = Note(good_sentence)\n",
    "good_sentence = \"\"\"바보같고,멍청하고,생각없이,마음을 비우는 연습이 필요해 -배네딕트 컴버비치\"\"\"\n",
    "note_3 = Note(good_sentence)\n",
    "wise_saying_notebook = NoteBook('명언 노트')\n",
    "wise_saying_notebook.add_note(note_1, 1)\n",
    "wise_saying_notebook.add_note(note_2, 2)\n",
    "wise_saying_notebook.add_note(note_3, 3)\n",
    "print(wise_saying_notebook.get_number_of_all_pages())\n",
    "print(note_3)\n",
    "note_3.remove()\n",
    "print(wise_saying_notebook)\n",
    "print(note_1)\n",
    "print(note_2)\n",
    "print(note_3)\n"
   ]
  },
  {
   "cell_type": "markdown",
   "id": "86d46c4f",
   "metadata": {},
   "source": [
    "## 상속"
   ]
  },
  {
   "cell_type": "markdown",
   "id": "c79c311a",
   "metadata": {},
   "source": [
    "* 부모 클래스로부터 값과 메소드를 물려받아 자식 클래스를 생성하는 것, 자식이 부모의 특성을 포함하여 생성되는 것"
   ]
  },
  {
   "cell_type": "code",
   "execution_count": 8,
   "id": "048beb90",
   "metadata": {},
   "outputs": [],
   "source": [
    "# 부모 클래스 Person 선언\n",
    "class Person(object):\n",
    "    # 생성자 생성\n",
    "    def __init__(self, name, age, gender):\n",
    "        self.name = name\n",
    "        self.age = age\n",
    "        self.gender = gender\n",
    "    # 메서드 선언\n",
    "    def about_me(self):\n",
    "        print('저의 이름은', self.name, '이고요, 제 나이는', str(self.age), '살입니다.')"
   ]
  },
  {
   "cell_type": "markdown",
   "id": "34f91fc4",
   "metadata": {},
   "source": [
    "* 부모클래스의 __init__()함수를 그대로 사용하고자 할 때 별도의 함수를 만들지 않아도 된다.\n",
    "* 기존 함수를 사용하면서 새로운 내용을 추가하기 위해서는 자식 클래스에 __init__()함수를 생성하면서 super().__init__(매개변수)를 사용해여함\n",
    "* super()는 부모 클래스를 가리킨다.\n",
    "* 다중 상속도 지원한다."
   ]
  },
  {
   "cell_type": "code",
   "execution_count": 9,
   "id": "482a4d89",
   "metadata": {},
   "outputs": [],
   "source": [
    "# 부모클래스 Person으로부터 상속\n",
    "class Employee(Person):\n",
    "    def __init__(self, name, age, gender, salary, hire_date):\n",
    "        # 부모 객체 사용\n",
    "        super().__init__(name, age, gender)\n",
    "        self.salary = salary\n",
    "        # 속성값 추가\n",
    "        self.hire_date = hire_date\n",
    "    \n",
    "    # 새로운 메서드 추가\n",
    "    def do_work(self):\n",
    "        print('열심히 일을 한다.')\n",
    "        \n",
    "    def about_me(self):\n",
    "        # 부모 클래스 함수 재정의(overriding)\n",
    "        super().about_me()\n",
    "        print('제 급여는', self.salary, '원이고, 제 입사일은', self.hire_date, '입니다.')"
   ]
  },
  {
   "cell_type": "markdown",
   "id": "512a075b",
   "metadata": {},
   "source": [
    "# 장고를 이용하여 게시판 앱 만들기"
   ]
  },
  {
   "cell_type": "markdown",
   "id": "4134d759",
   "metadata": {},
   "source": [
    "## 스타일 적용하기"
   ]
  },
  {
   "cell_type": "markdown",
   "id": "43f2bacf",
   "metadata": {},
   "source": [
    "* 게시판에 스타일을 부여하기 위해 정적파일인 css를 적용해준다.\n",
    "* 적용을 위해 static이라는 이름의 디렉토리를 mysite디렉토리와 동등한 위치에 생성해준다.\n",
    "* static디렉토리 안에 css폴더를 추가로 만들어 준 뒤 부트스트랩 파일을 복사해준다.\n",
    "* 이후, setting.py에 경로를 추가해준다."
   ]
  },
  {
   "cell_type": "code",
   "execution_count": null,
   "id": "578a18c8",
   "metadata": {},
   "outputs": [],
   "source": [
    "# config/settings.py파일에서 추가\n",
    "# Static파일의 경로를 설정해준다\n",
    "# 파일의 하단에 위치\n",
    "STATIC_URL = '/static/'\n",
    "STATICFILES_DIRS = [\n",
    "    BASE_DIR / 'static',\n",
    "]"
   ]
  },
  {
   "cell_type": "markdown",
   "id": "48c6501e",
   "metadata": {},
   "source": [
    "* static/css폴더 안에 추가해준 부트스트랩 파일을 탬플릿에 스타일을 적용해준다.\n",
    "* templates폴더에 bbsnote폴더와 동일한 위치에서 base.html파일을 생성한다.\n",
    "* 장고는 템플릿 상속 기능을 제공하므로, 기본틀을 만들어 활용히 가능하다.\n",
    "* base.html파일을 통해 기본 틀을 만들어 놓고 사용하고자 한다."
   ]
  },
  {
   "cell_type": "code",
   "execution_count": null,
   "id": "9703602f",
   "metadata": {},
   "outputs": [],
   "source": [
    "# templates/base.html파일을 생성한 후에 내용추가\n",
    "{% load static %}\n",
    "<!DOCTYPE html>\n",
    "<html lang=\"ko\">\n",
    "<head>\n",
    "    <meta charset=\"UTF-8\">\n",
    "    <meta http-equiv=\"X-UA-Compatible\" content=\"IE=edge\">\n",
    "    <meta name=\"viewport\" content=\"width=device-width, initial-scale=1.0\">\n",
    "    <title>Document</title>\n",
    "    <link rel=\"stylesheet\" type=\"text/css\" href=\"{% static 'css/bootstrap.min.css' %}\">\n",
    "</head>\n",
    "<body>\n",
    "    # bodt태그 안 block content태그는 base.html을 상속받은 템플릿파일에서 구현해야 하는 영역이다\n",
    "    <!-- 기본 팸플릿 안에 삽입될 내용 Start -->\n",
    "    {% block content %}\n",
    "    {% endblock %}\n",
    "    <!-- 기본 팸플릿 안에 삽입될 내용 End -->\n",
    "</body>\n",
    "</html>"
   ]
  },
  {
   "cell_type": "markdown",
   "id": "c648e1fd",
   "metadata": {},
   "source": [
    "* 작성된 base.html을 상속받기 위한 템플릿 태그를 추가하고, block content 사이에 들어갈 내용을 구성해 준다."
   ]
  },
  {
   "cell_type": "code",
   "execution_count": null,
   "id": "9bdd4944",
   "metadata": {},
   "outputs": [],
   "source": [
    "# templates/bbsnote/board_list.html파일을 수정\n",
    "# base.html의 템플릿을 확장해서 가져온다\n",
    "{% extends 'base.html' %}\n",
    "# block content ~endblock사이에 base.html의 형식을 상속받을 내용을 덧붙여준다.\n",
    "{% block content %}\n",
    "<div class=\"container my-3\">\n",
    "    <table class=\"table\">\n",
    "        <thead>\n",
    "        <tr class=\"text-center thead-dark\"> \n",
    "            <th></th>           \n",
    "            <th style=\"width:50%\">제목</th>\n",
    "            <th>작성일시</th>\n",
    "        </tr>\n",
    "        </thead>\n",
    "        <tbody>\n",
    "        {% if board_list %}\n",
    "            {% for board in board_list %}\n",
    "            <tr class=\"text-center\">\n",
    "                <td></td>\n",
    "                <td class=\"text-left\">\n",
    "                    <a href=\"{% url 'bbsnote:detail' board.id %}\">{{ board.subject }}</a>                \n",
    "                </td>            \n",
    "                <td>{{ board.create_date }}</td>\n",
    "            </tr>\n",
    "            {% endfor %}\n",
    "            {% else %}\n",
    "            <tr>\n",
    "                <td colspan=\"3\">글이 없습니다.</td>\n",
    "            </tr>\n",
    "            {% endif %}\n",
    "            </tbody>\n",
    "        </table> \n",
    "        <!-- 해당경로로 데이터를 get방식으로 넘겨받는다 -->\n",
    "        <a href=\"{% url 'bbsnote:board_create' %}\" class=\"btn btn-primary\">등록</a>\n",
    "</div>\n",
    "{% endblock %}"
   ]
  },
  {
   "attachments": {
    "image.png": {
     "image/png": "[encoded data removed]"
    }
   },
   "cell_type": "markdown",
   "id": "24f0c022",
   "metadata": {},
   "source": [
    "![image.png](attachment:image.png)"
   ]
  },
  {
   "cell_type": "markdown",
   "id": "1fe0a481",
   "metadata": {},
   "source": [
    "* 부트스트랩을 활용하여 스타일을 적용하면 기존의 html사이트보다 깔끔해진것을 알 수 있다."
   ]
  },
  {
   "cell_type": "markdown",
   "id": "7c2fc259",
   "metadata": {},
   "source": [
    "## 게시글 등록 기능 만들기"
   ]
  },
  {
   "cell_type": "code",
   "execution_count": null,
   "id": "08cb1354",
   "metadata": {},
   "outputs": [],
   "source": [
    "# bbsnote폴더내에 forms.py파일을 추가로 생성\n",
    "from django import forms\n",
    "from bbsnote.models import Board\n",
    "# from .models import Board로 실행해도 상관없다\n",
    "\n",
    "class BoardForm(forms.ModelForm):\n",
    "    # class안에 class를 선언해준다\n",
    "    class Meta:\n",
    "        # model을 DB의 Board로 선언\n",
    "        model = Board\n",
    "        fields = ['subject', 'content']"
   ]
  },
  {
   "cell_type": "markdown",
   "id": "0febdeb4",
   "metadata": {},
   "source": [
    "### 모델 폼: forms.ModelForm을 상속받음\n",
    "* 모델과 연결된 폼, 모델 폼 객체를 저장하면 연결된 모델의 데이터를 저장 할 수 있다.\n",
    "* Meta클래스를 내부 클래스에 반드시 가져가야 하며, 모델 폼이 사용할 모델과 모델의 필드를 작성해야 한다."
   ]
  },
  {
   "cell_type": "markdown",
   "id": "fe625fc3",
   "metadata": {},
   "source": [
    "### 폼: forms.Form을 상속받음\n",
    "* 모델 폼과 다르게 직접 필드를 정의하고, 위젯 설정을 해줘야 한다."
   ]
  },
  {
   "cell_type": "code",
   "execution_count": null,
   "id": "cb69a59e",
   "metadata": {},
   "outputs": [],
   "source": [
    "# bbsnote/urls.py파일에 게시글 등록 폼의 경로를 설정\n",
    "urlpatterns = [\n",
    "    path('', views.index, name='index'),\n",
    "    path('<int:board_id>/', views.detail, name='detail'),\n",
    "    path('comment/create/<int:board_id>/', views.comment_create, name='comment_create'),\n",
    "    # 'board/create/'경로에 들어오면 뷰 함수 board_create과 매칭하여 호출\n",
    "    path('board/create/', views.board_create, name='board_create'),\n",
    "]"
   ]
  },
  {
   "cell_type": "code",
   "execution_count": null,
   "id": "2b168b38",
   "metadata": {},
   "outputs": [],
   "source": [
    "# bbsnote/view.py파일에 board_create함수를 생성\n",
    "def board_create(request):\n",
    "    # 요청이 POST방식으로 들어왔으면(게시글에서 submit을 눌렀으면)\n",
    "    if request.method == 'POST':\n",
    "        # request.POST의 내용을 사용하여 BoardForm에 저장 후 form이라는 변수에 할당\n",
    "        form = BoardForm(request.POST)\n",
    "        # form에 내용이 있다면(is_valid는 True, False의 값을 가짐)\n",
    "        if form.is_valid():\n",
    "            # 저장을 하되 오토커밋을 하지 않는다(mysql의 커밋과 유사한 개냠)\n",
    "            board = form.save(commit=False)\n",
    "            board.create_date = timezone.now()\n",
    "            # board를 커밋한다\n",
    "            board.save()\n",
    "            return redirect('bbsnote:index')\n",
    "    # POST요청이 아니라면\n",
    "    else:\n",
    "        form = BoardForm()\n",
    "    # 'bbsnote/board_form.html' 탬플릿을 사용하여 응답을 생성하고, 템플릿 context에 'form'변수로 폼 객체를 전달\n",
    "    return render(request, 'bbsnote/board_form.html', {'form':form})"
   ]
  },
  {
   "cell_type": "markdown",
   "id": "27c897b9",
   "metadata": {},
   "source": [
    "* board_create함수에서 전달된 BoardForm객체가 form.as_p의form이다.\n",
    "* form.as_p는 subject, content에 값을 입력할 수 있는 HTML코드를 자동으로 만들어준다."
   ]
  },
  {
   "cell_type": "code",
   "execution_count": null,
   "id": "65aa5d2d",
   "metadata": {},
   "outputs": [],
   "source": [
    "# templates/bbsnote폴더 안에 board_form.html파일 생성\n",
    "# 방법1: {{form.as_p}}를 사용하는 방법\n",
    "{% extends 'base.html' %}\n",
    "{% block content %}\n",
    "<div class=\"container\">\n",
    "    <h5 class=\"my-3 border-bottom pb-2\">게시글 등록</h5>\n",
    "    <form method=\"post\" class=\"post-form my-3\">\n",
    "        {% csrf_token %}\n",
    "        <!-- 방법1 -->\n",
    "        {{form.as_p}}\n",
    "        <button type=\"submit\" class=\"btn btn-primary\">저장</button>\n",
    "    </form>\n",
    "</div>\n",
    "{% endblock %}"
   ]
  },
  {
   "cell_type": "code",
   "execution_count": null,
   "id": "43664e8e",
   "metadata": {},
   "outputs": [],
   "source": [
    "# {{form.as_p}}를 사용시 부트스트랩 옵션을 추가하려면 수동적으로 추가해줘야 한다.\n",
    "# bbsnote/forms.py파일에서 선언했던 BoardForm의 Meta클래스에서 제공하는 widgets으로 가능하다.\n",
    "# 이를 통해 부트스트래핑을 적용하여 subject와 content의 레이아웃을 조절할 수 있다.\n",
    "# 단, 개별적으로 수정해야된다는 부분이 복잡하고 불편하므로\n",
    "# form.html파일에서 부트스트래핑 옵션을 작성후 html파일만 수정하는 방법을 추천한다.\n",
    "# bbsnote/forms.py파일 하단에 아래 내용 추가\n",
    "widgets = {\n",
    "    'subject': forms.TextInput(attrs={'class':'form-control'}),\n",
    "    'content': forms.Textarea(attrs={'class':'form-control', 'rows':10}),\n",
    "}\n",
    "# labels를 통해 컬럼명을 바꿔줄 수 있다.\n",
    "labels = {\n",
    "    'subject': '제목',\n",
    "    'content': '내용',\n",
    "}"
   ]
  },
  {
   "cell_type": "code",
   "execution_count": null,
   "id": "cdd20143",
   "metadata": {},
   "outputs": [],
   "source": [
    "# 방법2: board_form.html에서 다음 부트스트랩 코드를 추가({{% form.as_p}}는 제거)\n",
    "{% extends 'base.html' %}\n",
    "{% block content %}\n",
    "<div class=\"container\">\n",
    "    <h5 class=\"my-3 border-bottom pb-2\">게시글 등록</h5>\n",
    "    <form method=\"post\" class=\"post-form my-3\">\n",
    "        {% csrf_token %}\n",
    "        <!-- 방법2 -->\n",
    "        <div class=\"form-group\">\n",
    "            <label for=\"subject\">제목</label>\n",
    "            <input type=\"text\" class=\"form-control\" name=\"subject\" id=\"subject\"\n",
    "                value=\"{{ form.subject.value|default_if_none:'' }}\">\n",
    "        </div>\n",
    "        <div class=\"form-group\">\n",
    "            <label for=\"content\">내용</label>\n",
    "            <textarea class=\"form-control\" name=\"content\"\n",
    "                id=\"content\" rows=\"10\">{{ form.content.value|default_if_none:'' }}</textarea>\n",
    "        </div>\n",
    "        \n",
    "        <button type=\"submit\" class=\"btn btn-primary\">저장</button>\n",
    "    </form>\n",
    "</div>\n",
    "{% endblock %}\n"
   ]
  },
  {
   "attachments": {
    "image.png": {
     "image/png": "[encoded data removed]"
    }
   },
   "cell_type": "markdown",
   "id": "ade62e97",
   "metadata": {},
   "source": [
    "![image.png](attachment:image.png)"
   ]
  },
  {
   "cell_type": "markdown",
   "id": "9c366fda",
   "metadata": {},
   "source": [
    "* 두 방법 모두 결과는 위와 같은 화면이 나온다. 하지만, 장기적으로 추가항목이 많아지게 된담녀 방법2가 수정하기 훨씬 수월할 것이다."
   ]
  },
  {
   "cell_type": "code",
   "execution_count": null,
   "id": "5db54e48",
   "metadata": {},
   "outputs": [],
   "source": []
  }
 ],
 "metadata": {
  "kernelspec": {
   "display_name": "Python 3 (ipykernel)",
   "language": "python",
   "name": "python3"
  },
  "language_info": {
   "codemirror_mode": {
    "name": "ipython",
    "version": 3
   },
   "file_extension": ".py",
   "mimetype": "text/x-python",
   "name": "python",
   "nbconvert_exporter": "python",
   "pygments_lexer": "ipython3",
   "version": "3.8.16"
  }
 },
 "nbformat": 4,
 "nbformat_minor": 5
}
