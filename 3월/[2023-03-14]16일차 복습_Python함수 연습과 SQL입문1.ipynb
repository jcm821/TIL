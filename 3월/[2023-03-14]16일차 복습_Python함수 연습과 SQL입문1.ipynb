{
 "cells": [
  {
   "cell_type": "markdown",
   "id": "0064db39",
   "metadata": {},
   "source": [
    "# 1. python 함수 연습"
   ]
  },
  {
   "cell_type": "markdown",
   "id": "c98818c6",
   "metadata": {},
   "source": [
    "참고하면 좋은 사이트: https://github.com/Play-with-data/datasalon"
   ]
  },
  {
   "cell_type": "markdown",
   "id": "ffcbdbb1",
   "metadata": {},
   "source": [
    "## 리스트에서 확장자로 요소 구분하기"
   ]
  },
  {
   "cell_type": "code",
   "execution_count": 1,
   "id": "bfecdc8d",
   "metadata": {},
   "outputs": [
    {
     "name": "stdout",
     "output_type": "stream",
     "text": [
      "['a.txt', 'b.txt']\n"
     ]
    }
   ],
   "source": [
    "# 1. txt파일만 골라내기\n",
    "# 파일의 확장자를 확인\n",
    "sample = ['a.txt','b.txt', 'c.md','d.jpg','e.doc']\n",
    "result = []\n",
    "\n",
    "for word in sample:\n",
    "    front, back = word.split('.')\n",
    "    if back == 'txt':\n",
    "        result.append(word)\n",
    "print(result)"
   ]
  },
  {
   "cell_type": "code",
   "execution_count": 2,
   "id": "75edb49c",
   "metadata": {},
   "outputs": [
    {
     "name": "stdout",
     "output_type": "stream",
     "text": [
      "['a.txt', 'b.txt', 'c.md']\n"
     ]
    }
   ],
   "source": [
    "# 2. txt파일과 md파일만 골라내기\n",
    "sample = ['a.txt','b.txt', 'c.md','d.jpg','e.doc']\n",
    "result = []\n",
    "\n",
    "for word in sample:\n",
    "    frpnt, back = word.split('.')\n",
    "    if back == 'txt' or back == 'md':\n",
    "        result.append(word)\n",
    "print(result)"
   ]
  },
  {
   "cell_type": "markdown",
   "id": "bd2ce652",
   "metadata": {},
   "source": [
    "## 3, 6, 9 게임"
   ]
  },
  {
   "cell_type": "code",
   "execution_count": 3,
   "id": "0127b05d",
   "metadata": {},
   "outputs": [
    {
     "name": "stdout",
     "output_type": "stream",
     "text": [
      "1 2 박수 4 5 박수 7 8 박수 10 11 12 박수 14 15 박수 17 18 박수 20 21 22 박수 24 25 박수 27 28 박수 박수 박수 박수 박수박수 박수 박수 박수박수 박수 박수 박수박수 40 41 42 박수 44 45 박수 47 48 박수 50 51 52 박수 54 55 박수 57 58 박수 박수 박수 박수 박수박수 박수 박수 박수박수 박수 박수 박수박수 70 71 72 박수 74 75 박수 77 78 박수 80 81 82 박수 84 85 박수 87 88 박수 박수 박수 박수 박수박수 박수 박수 박수박수 박수 박수 박수박수 100 "
     ]
    }
   ],
   "source": [
    "# 3, 6, 9 게임\n",
    "# 1 ~ 100까지의 숫자를 풀력하는데 3, 6, 9가 들어간 숫자가 나오면 '박수' 출력\n",
    "# 방법 1\n",
    "for i in range(1, 101):\n",
    "    count = 0\n",
    "    word = str(i)\n",
    "    for j in word:\n",
    "        if j == '3' or j == '6' or j == '9':\n",
    "            count += 1\n",
    "    if count == 0:\n",
    "        print(i, end = ' ')\n",
    "    else:\n",
    "        print(count * '박수', end = ' ')"
   ]
  },
  {
   "cell_type": "code",
   "execution_count": 4,
   "id": "2fb1883e",
   "metadata": {},
   "outputs": [
    {
     "name": "stdout",
     "output_type": "stream",
     "text": [
      "숫자를 입력하시오: 50\n",
      "1\n",
      "2\n",
      "박수 \n",
      "4\n",
      "5\n",
      "박수 \n",
      "7\n",
      "8\n",
      "박수 \n",
      "10\n",
      "11\n",
      "12\n",
      "박수 \n",
      "14\n",
      "15\n",
      "박수 \n",
      "17\n",
      "18\n",
      "박수 \n",
      "20\n",
      "21\n",
      "22\n",
      "박수 \n",
      "24\n",
      "25\n",
      "박수 \n",
      "27\n",
      "28\n",
      "박수 \n",
      "박수 \n",
      "박수 \n",
      "박수 \n",
      "박수 박수 \n",
      "박수 \n",
      "박수 \n",
      "박수 박수 \n",
      "박수 \n",
      "박수 \n",
      "박수 박수 \n",
      "40\n",
      "41\n",
      "42\n",
      "박수 \n",
      "44\n",
      "45\n",
      "박수 \n",
      "47\n",
      "48\n",
      "박수 \n",
      "50\n"
     ]
    }
   ],
   "source": [
    "# 방법 2\n",
    "# 범위를 직접 입력하는 방법\n",
    "\n",
    "# 입력받은 문자열을 정수로 변환해서 n에 저장\n",
    "n = int(input('숫자를 입력하시오: '))\n",
    "\n",
    "for i in range(1, n + 1):\n",
    "    # 숫자를 문자열로 변환\n",
    "    myStr = str(i)\n",
    "    \n",
    "    # 3, 6, 9를 카운트 하는 변수\n",
    "    count = 0\n",
    "    \n",
    "    # 문자열 '13' -> '1', '3'\n",
    "    for s in myStr:\n",
    "        if s == '3' or s == '6' or s == '9':\n",
    "            count += 1\n",
    "            print('박수', end = ' ')\n",
    "    if count > 0:\n",
    "        print('')\n",
    "    else:\n",
    "        print(myStr)"
   ]
  },
  {
   "cell_type": "markdown",
   "id": "383aa2c9",
   "metadata": {},
   "source": [
    "## 로또번호 추출하기"
   ]
  },
  {
   "cell_type": "code",
   "execution_count": 5,
   "id": "76c5dd83",
   "metadata": {},
   "outputs": [
    {
     "name": "stdout",
     "output_type": "stream",
     "text": [
      "[8, 38, 27, 42, 30, 30]\n"
     ]
    }
   ],
   "source": [
    "# 로또게임, 1 ~ 45까지 숫자를 선택\n",
    "# 로또 번호를 정렬, 내 번호도 정렬\n",
    "# 네 번호가 있으면 (input함수 사용) 내 번호가 몇개나 맞았는지 확인\n",
    "# 방법 1\n",
    "import numpy as np\n",
    "\n",
    "# 로또 번호 출력\n",
    "result = []\n",
    "while len(result) < 6:\n",
    "    num = np.random.randint(1, 46)\n",
    "    result.append(num)\n",
    "print(result)"
   ]
  },
  {
   "cell_type": "code",
   "execution_count": 6,
   "id": "6df1b767",
   "metadata": {},
   "outputs": [
    {
     "name": "stdout",
     "output_type": "stream",
     "text": [
      "로또번호를 입력하세요: 2 3 4 5 6 43\n"
     ]
    }
   ],
   "source": [
    "# 내가 입력할 로또번호(split을 통해 띄어쓰기 활용)\n",
    "# 입력할 번호를 리스트에 정수형으로 저장\n",
    "myNum = input('로또번호를 입력하세요: ').split()\n",
    "myList = []\n",
    "for i in myNum:\n",
    "    myList.append(int(i))"
   ]
  },
  {
   "cell_type": "code",
   "execution_count": 7,
   "id": "7309f746",
   "metadata": {},
   "outputs": [
    {
     "name": "stdout",
     "output_type": "stream",
     "text": [
      "0\n"
     ]
    }
   ],
   "source": [
    "isSame = 0\n",
    "for myStr in myList:\n",
    "    if myStr in result:\n",
    "        isSame += 1\n",
    "print(isSame)"
   ]
  },
  {
   "cell_type": "code",
   "execution_count": 8,
   "id": "2f452cee",
   "metadata": {},
   "outputs": [
    {
     "name": "stdout",
     "output_type": "stream",
     "text": [
      "로또 숫자를 입력하세요: 2,23,8,19,5,7\n",
      "[7, 9, 16, 24, 28, 33]\n",
      "7  \n",
      "로또 추첨기와 동일한 숫자의 갯수는:1\n"
     ]
    }
   ],
   "source": [
    "# 방법 2\n",
    "# 로또 숫자의 개수\n",
    "num = 6\n",
    "myNumList = []\n",
    "\n",
    "# 키보드로 6개의 숫자를 입력 받는다.\n",
    "myNumList = input('로또 숫자를 입력하세요: ').split(',')\n",
    "# 입력받은 문자를 정수형으로 변환\n",
    "myNumList = list(map(int, myNumList))\n",
    "\n",
    "# 로또 숫자 추첨기\n",
    "numList = np.random.choice(45, num, replace = False)\n",
    "numList = sorted(numList)\n",
    "print(numList)\n",
    "\n",
    "count = 0\n",
    "\n",
    "for myNum in myNumList:\n",
    "    for num in numList:\n",
    "        if myNum == num:\n",
    "            count += 1\n",
    "            print(myNum, end = ' ')\n",
    "print(' ')\n",
    "print('로또 추첨기와 동일한 숫자의 갯수는:{}'.format(count))"
   ]
  },
  {
   "cell_type": "code",
   "execution_count": 9,
   "id": "7b4db4c9",
   "metadata": {},
   "outputs": [],
   "source": [
    "# 방법 3\n",
    "# 로또추출기를 함수화하기\n",
    "\n",
    "\n",
    "# 로또 번호 추출기\n",
    "def lottoNumGen(auto, lottoCount):\n",
    "    myNumList = []\n",
    "    if auto == False:\n",
    "        # 키보드로 6개의 숫자를 입력 받는다.\n",
    "        myNumList = (input(\"로또 숫자를 입력하세요: \").split(','))\n",
    "        myNumList = list(map(int, myNumList))\n",
    "    else:\n",
    "        myNumList = np.random.choice(45, num, replace=False)\n",
    "        myNumList = sorted(numList)\n",
    "    return myNumList\n",
    "\n",
    "    \n",
    "def lottoMachine(num):\n",
    "    numList = np.random.choice(45, num, replace=False)\n",
    "    numList = sorted(numList)\n",
    "    return numList\n",
    "\n",
    "# 로또 숫자 비교기\n",
    "# 비교해서 결과값까지 출력\n",
    "def lottoCompare(myNumList, numList):\n",
    "    count = 0\n",
    "    for myNum in myNumList:\n",
    "        for num in numList:\n",
    "        \n",
    "            if myNum == num:\n",
    "                count += 1\n",
    "                print(myNum, end = ' ')\n"
   ]
  },
  {
   "cell_type": "code",
   "execution_count": 10,
   "id": "176159cd",
   "metadata": {},
   "outputs": [
    {
     "name": "stdout",
     "output_type": "stream",
     "text": [
      "생성된 로또 번호: [7, 9, 16, 24, 28, 33]\n",
      "추첨된 로또 번호: [3, 13, 23, 32, 39, 41]\n"
     ]
    }
   ],
   "source": [
    "# 함수 실행\n",
    "DEBUG = True\n",
    "\n",
    "# 로또 숫자의 개수\n",
    "num = 6\n",
    "\n",
    "# 로또 번호 추출기 호출\n",
    "# 자동으로 생성하려면 첫번째 인수에 True\n",
    "# 수동으로 생성하려면 첫번째 인수에 False\n",
    "myNumList = lottoNumGen(True, num)\n",
    "if DEBUG == True:\n",
    "    print('생성된 로또 번호: {}'.format(myNumList))\n",
    "    \n",
    "# 로또 추첨기 호출\n",
    "numList = lottoMachine(num)\n",
    "if DEBUG == True:\n",
    "    print('추첨된 로또 번호: {}'.format(numList))\n",
    "    \n",
    "lottoCompare(myNumList, numList)"
   ]
  },
  {
   "cell_type": "markdown",
   "id": "27d546a2",
   "metadata": {},
   "source": [
    "# 2. 대한민국 인구데이터 활용"
   ]
  },
  {
   "cell_type": "code",
   "execution_count": 11,
   "id": "d2a51905",
   "metadata": {},
   "outputs": [
    {
     "data": {
      "text/html": [
       "<div>\n",
       "<style scoped>\n",
       "    .dataframe tbody tr th:only-of-type {\n",
       "        vertical-align: middle;\n",
       "    }\n",
       "\n",
       "    .dataframe tbody tr th {\n",
       "        vertical-align: top;\n",
       "    }\n",
       "\n",
       "    .dataframe thead th {\n",
       "        text-align: right;\n",
       "    }\n",
       "</style>\n",
       "<table border=\"1\" class=\"dataframe\">\n",
       "  <thead>\n",
       "    <tr style=\"text-align: right;\">\n",
       "      <th></th>\n",
       "      <th>행정구역(시군구)별</th>\n",
       "      <th>2022.12</th>\n",
       "      <th>2022.12.1</th>\n",
       "      <th>2022.12.2</th>\n",
       "      <th>2023.01</th>\n",
       "      <th>2023.01.1</th>\n",
       "      <th>2023.01.2</th>\n",
       "      <th>2023.02</th>\n",
       "      <th>2023.02.1</th>\n",
       "      <th>2023.02.2</th>\n",
       "      <th>...</th>\n",
       "      <th>2019.2</th>\n",
       "      <th>2020</th>\n",
       "      <th>2020.1</th>\n",
       "      <th>2020.2</th>\n",
       "      <th>2021</th>\n",
       "      <th>2021.1</th>\n",
       "      <th>2021.2</th>\n",
       "      <th>2022</th>\n",
       "      <th>2022.1</th>\n",
       "      <th>2022.2</th>\n",
       "    </tr>\n",
       "  </thead>\n",
       "  <tbody>\n",
       "    <tr>\n",
       "      <th>0</th>\n",
       "      <td>행정구역(시군구)별</td>\n",
       "      <td>총인구수 (명)</td>\n",
       "      <td>남자인구수 (명)</td>\n",
       "      <td>여자인구수 (명)</td>\n",
       "      <td>총인구수 (명)</td>\n",
       "      <td>남자인구수 (명)</td>\n",
       "      <td>여자인구수 (명)</td>\n",
       "      <td>총인구수 (명)</td>\n",
       "      <td>남자인구수 (명)</td>\n",
       "      <td>여자인구수 (명)</td>\n",
       "      <td>...</td>\n",
       "      <td>여자인구수 (명)</td>\n",
       "      <td>총인구수 (명)</td>\n",
       "      <td>남자인구수 (명)</td>\n",
       "      <td>여자인구수 (명)</td>\n",
       "      <td>총인구수 (명)</td>\n",
       "      <td>남자인구수 (명)</td>\n",
       "      <td>여자인구수 (명)</td>\n",
       "      <td>총인구수 (명)</td>\n",
       "      <td>남자인구수 (명)</td>\n",
       "      <td>여자인구수 (명)</td>\n",
       "    </tr>\n",
       "    <tr>\n",
       "      <th>1</th>\n",
       "      <td>전국</td>\n",
       "      <td>51439038</td>\n",
       "      <td>25636951</td>\n",
       "      <td>25802087</td>\n",
       "      <td>51430018</td>\n",
       "      <td>25631538</td>\n",
       "      <td>25798480</td>\n",
       "      <td>51421479</td>\n",
       "      <td>25626211</td>\n",
       "      <td>25795268</td>\n",
       "      <td>...</td>\n",
       "      <td>25985045</td>\n",
       "      <td>51829023</td>\n",
       "      <td>25841029</td>\n",
       "      <td>25987994</td>\n",
       "      <td>51638809</td>\n",
       "      <td>25746684</td>\n",
       "      <td>25892125</td>\n",
       "      <td>51439038</td>\n",
       "      <td>25636951</td>\n",
       "      <td>25802087</td>\n",
       "    </tr>\n",
       "    <tr>\n",
       "      <th>2</th>\n",
       "      <td>서울특별시</td>\n",
       "      <td>9428372</td>\n",
       "      <td>4570048</td>\n",
       "      <td>4858324</td>\n",
       "      <td>9424873</td>\n",
       "      <td>4567739</td>\n",
       "      <td>4857134</td>\n",
       "      <td>9427583</td>\n",
       "      <td>4567957</td>\n",
       "      <td>4859626</td>\n",
       "      <td>...</td>\n",
       "      <td>4985048</td>\n",
       "      <td>9668465</td>\n",
       "      <td>4701723</td>\n",
       "      <td>4966742</td>\n",
       "      <td>9509458</td>\n",
       "      <td>4618040</td>\n",
       "      <td>4891418</td>\n",
       "      <td>9428372</td>\n",
       "      <td>4570048</td>\n",
       "      <td>4858324</td>\n",
       "    </tr>\n",
       "    <tr>\n",
       "      <th>3</th>\n",
       "      <td>부산광역시</td>\n",
       "      <td>3317812</td>\n",
       "      <td>1619915</td>\n",
       "      <td>1697897</td>\n",
       "      <td>3316107</td>\n",
       "      <td>1618749</td>\n",
       "      <td>1697358</td>\n",
       "      <td>3315516</td>\n",
       "      <td>1618202</td>\n",
       "      <td>1697314</td>\n",
       "      <td>...</td>\n",
       "      <td>1738424</td>\n",
       "      <td>3391946</td>\n",
       "      <td>1661000</td>\n",
       "      <td>1730946</td>\n",
       "      <td>3350380</td>\n",
       "      <td>1639044</td>\n",
       "      <td>1711336</td>\n",
       "      <td>3317812</td>\n",
       "      <td>1619915</td>\n",
       "      <td>1697897</td>\n",
       "    </tr>\n",
       "    <tr>\n",
       "      <th>4</th>\n",
       "      <td>대구광역시</td>\n",
       "      <td>2363691</td>\n",
       "      <td>1162865</td>\n",
       "      <td>1200826</td>\n",
       "      <td>2362880</td>\n",
       "      <td>1162217</td>\n",
       "      <td>1200663</td>\n",
       "      <td>2360662</td>\n",
       "      <td>1160942</td>\n",
       "      <td>1199720</td>\n",
       "      <td>...</td>\n",
       "      <td>1232745</td>\n",
       "      <td>2418346</td>\n",
       "      <td>1193109</td>\n",
       "      <td>1225237</td>\n",
       "      <td>2385412</td>\n",
       "      <td>1175632</td>\n",
       "      <td>1209780</td>\n",
       "      <td>2363691</td>\n",
       "      <td>1162865</td>\n",
       "      <td>1200826</td>\n",
       "    </tr>\n",
       "  </tbody>\n",
       "</table>\n",
       "<p>5 rows × 40 columns</p>\n",
       "</div>"
      ],
      "text/plain": [
       "   행정구역(시군구)별   2022.12  2022.12.1  2022.12.2   2023.01  2023.01.1  2023.01.2  \\\n",
       "0  행정구역(시군구)별  총인구수 (명)  남자인구수 (명)  여자인구수 (명)  총인구수 (명)  남자인구수 (명)  여자인구수 (명)   \n",
       "1          전국  51439038   25636951   25802087  51430018   25631538   25798480   \n",
       "2       서울특별시   9428372    4570048    4858324   9424873    4567739    4857134   \n",
       "3       부산광역시   3317812    1619915    1697897   3316107    1618749    1697358   \n",
       "4       대구광역시   2363691    1162865    1200826   2362880    1162217    1200663   \n",
       "\n",
       "    2023.02  2023.02.1  2023.02.2  ...     2019.2      2020     2020.1  \\\n",
       "0  총인구수 (명)  남자인구수 (명)  여자인구수 (명)  ...  여자인구수 (명)  총인구수 (명)  남자인구수 (명)   \n",
       "1  51421479   25626211   25795268  ...   25985045  51829023   25841029   \n",
       "2   9427583    4567957    4859626  ...    4985048   9668465    4701723   \n",
       "3   3315516    1618202    1697314  ...    1738424   3391946    1661000   \n",
       "4   2360662    1160942    1199720  ...    1232745   2418346    1193109   \n",
       "\n",
       "      2020.2      2021     2021.1     2021.2      2022     2022.1     2022.2  \n",
       "0  여자인구수 (명)  총인구수 (명)  남자인구수 (명)  여자인구수 (명)  총인구수 (명)  남자인구수 (명)  여자인구수 (명)  \n",
       "1   25987994  51638809   25746684   25892125  51439038   25636951   25802087  \n",
       "2    4966742   9509458    4618040    4891418   9428372    4570048    4858324  \n",
       "3    1730946   3350380    1639044    1711336   3317812    1619915    1697897  \n",
       "4    1225237   2385412    1175632    1209780   2363691    1162865    1200826  \n",
       "\n",
       "[5 rows x 40 columns]"
      ]
     },
     "execution_count": 11,
     "metadata": {},
     "output_type": "execute_result"
    }
   ],
   "source": [
    "# csv파일 불러오기\n",
    "import pandas as pd\n",
    "csvFile = 'C:/Users/chunc/Desktop/취업캠프/python/python/대한민국인구10년통계.csv'\n",
    "df = pd.read_csv(csvFile, encoding = 'euc-kr')\n",
    "df.head()"
   ]
  },
  {
   "cell_type": "code",
   "execution_count": 12,
   "id": "fecc9134",
   "metadata": {},
   "outputs": [
    {
     "name": "stdout",
     "output_type": "stream",
     "text": [
      "<class 'pandas.core.frame.DataFrame'>\n",
      "RangeIndex: 19 entries, 0 to 18\n",
      "Data columns (total 40 columns):\n",
      " #   Column      Non-Null Count  Dtype \n",
      "---  ------      --------------  ----- \n",
      " 0   행정구역(시군구)별  19 non-null     object\n",
      " 1   2022.12     19 non-null     object\n",
      " 2   2022.12.1   19 non-null     object\n",
      " 3   2022.12.2   19 non-null     object\n",
      " 4   2023.01     19 non-null     object\n",
      " 5   2023.01.1   19 non-null     object\n",
      " 6   2023.01.2   19 non-null     object\n",
      " 7   2023.02     19 non-null     object\n",
      " 8   2023.02.1   19 non-null     object\n",
      " 9   2023.02.2   19 non-null     object\n",
      " 10  2013        19 non-null     object\n",
      " 11  2013.1      19 non-null     object\n",
      " 12  2013.2      19 non-null     object\n",
      " 13  2014        19 non-null     object\n",
      " 14  2014.1      19 non-null     object\n",
      " 15  2014.2      19 non-null     object\n",
      " 16  2015        19 non-null     object\n",
      " 17  2015.1      19 non-null     object\n",
      " 18  2015.2      19 non-null     object\n",
      " 19  2016        19 non-null     object\n",
      " 20  2016.1      19 non-null     object\n",
      " 21  2016.2      19 non-null     object\n",
      " 22  2017        19 non-null     object\n",
      " 23  2017.1      19 non-null     object\n",
      " 24  2017.2      19 non-null     object\n",
      " 25  2018        19 non-null     object\n",
      " 26  2018.1      19 non-null     object\n",
      " 27  2018.2      19 non-null     object\n",
      " 28  2019        19 non-null     object\n",
      " 29  2019.1      19 non-null     object\n",
      " 30  2019.2      19 non-null     object\n",
      " 31  2020        19 non-null     object\n",
      " 32  2020.1      19 non-null     object\n",
      " 33  2020.2      19 non-null     object\n",
      " 34  2021        19 non-null     object\n",
      " 35  2021.1      19 non-null     object\n",
      " 36  2021.2      19 non-null     object\n",
      " 37  2022        19 non-null     object\n",
      " 38  2022.1      19 non-null     object\n",
      " 39  2022.2      19 non-null     object\n",
      "dtypes: object(40)\n",
      "memory usage: 6.1+ KB\n"
     ]
    }
   ],
   "source": [
    "df.info()"
   ]
  },
  {
   "cell_type": "code",
   "execution_count": 13,
   "id": "e88733d2",
   "metadata": {},
   "outputs": [],
   "source": [
    "# 불필요한 컬럼 삭제\n",
    "delColList = ['2022.12', '2022.12.1', '2022.12.2', '2023.01',\n",
    "       '2023.01.1', '2023.01.2', '2023.02', '2023.02.1', '2023.02.2']\n",
    "df.drop(delColList, axis = 1, inplace = True)"
   ]
  },
  {
   "cell_type": "code",
   "execution_count": 14,
   "id": "d6ff9c25",
   "metadata": {},
   "outputs": [
    {
     "data": {
      "text/html": [
       "<div>\n",
       "<style scoped>\n",
       "    .dataframe tbody tr th:only-of-type {\n",
       "        vertical-align: middle;\n",
       "    }\n",
       "\n",
       "    .dataframe tbody tr th {\n",
       "        vertical-align: top;\n",
       "    }\n",
       "\n",
       "    .dataframe thead th {\n",
       "        text-align: right;\n",
       "    }\n",
       "</style>\n",
       "<table border=\"1\" class=\"dataframe\">\n",
       "  <thead>\n",
       "    <tr style=\"text-align: right;\">\n",
       "      <th></th>\n",
       "      <th>행정구역(시군구)별</th>\n",
       "      <th>2013</th>\n",
       "      <th>2013.1</th>\n",
       "      <th>2013.2</th>\n",
       "      <th>2014</th>\n",
       "      <th>2014.1</th>\n",
       "      <th>2014.2</th>\n",
       "      <th>2015</th>\n",
       "      <th>2015.1</th>\n",
       "      <th>2015.2</th>\n",
       "      <th>...</th>\n",
       "      <th>2019.2</th>\n",
       "      <th>2020</th>\n",
       "      <th>2020.1</th>\n",
       "      <th>2020.2</th>\n",
       "      <th>2021</th>\n",
       "      <th>2021.1</th>\n",
       "      <th>2021.2</th>\n",
       "      <th>2022</th>\n",
       "      <th>2022.1</th>\n",
       "      <th>2022.2</th>\n",
       "    </tr>\n",
       "  </thead>\n",
       "  <tbody>\n",
       "    <tr>\n",
       "      <th>0</th>\n",
       "      <td>행정구역(시군구)별</td>\n",
       "      <td>총인구수 (명)</td>\n",
       "      <td>남자인구수 (명)</td>\n",
       "      <td>여자인구수 (명)</td>\n",
       "      <td>총인구수 (명)</td>\n",
       "      <td>남자인구수 (명)</td>\n",
       "      <td>여자인구수 (명)</td>\n",
       "      <td>총인구수 (명)</td>\n",
       "      <td>남자인구수 (명)</td>\n",
       "      <td>여자인구수 (명)</td>\n",
       "      <td>...</td>\n",
       "      <td>여자인구수 (명)</td>\n",
       "      <td>총인구수 (명)</td>\n",
       "      <td>남자인구수 (명)</td>\n",
       "      <td>여자인구수 (명)</td>\n",
       "      <td>총인구수 (명)</td>\n",
       "      <td>남자인구수 (명)</td>\n",
       "      <td>여자인구수 (명)</td>\n",
       "      <td>총인구수 (명)</td>\n",
       "      <td>남자인구수 (명)</td>\n",
       "      <td>여자인구수 (명)</td>\n",
       "    </tr>\n",
       "    <tr>\n",
       "      <th>1</th>\n",
       "      <td>전국</td>\n",
       "      <td>51141463</td>\n",
       "      <td>25588336</td>\n",
       "      <td>25553127</td>\n",
       "      <td>51327916</td>\n",
       "      <td>25669296</td>\n",
       "      <td>25658620</td>\n",
       "      <td>51529338</td>\n",
       "      <td>25758186</td>\n",
       "      <td>25771152</td>\n",
       "      <td>...</td>\n",
       "      <td>25985045</td>\n",
       "      <td>51829023</td>\n",
       "      <td>25841029</td>\n",
       "      <td>25987994</td>\n",
       "      <td>51638809</td>\n",
       "      <td>25746684</td>\n",
       "      <td>25892125</td>\n",
       "      <td>51439038</td>\n",
       "      <td>25636951</td>\n",
       "      <td>25802087</td>\n",
       "    </tr>\n",
       "    <tr>\n",
       "      <th>2</th>\n",
       "      <td>서울특별시</td>\n",
       "      <td>10143645</td>\n",
       "      <td>5007869</td>\n",
       "      <td>5135776</td>\n",
       "      <td>10103233</td>\n",
       "      <td>4979768</td>\n",
       "      <td>5123465</td>\n",
       "      <td>10022181</td>\n",
       "      <td>4930943</td>\n",
       "      <td>5091238</td>\n",
       "      <td>...</td>\n",
       "      <td>4985048</td>\n",
       "      <td>9668465</td>\n",
       "      <td>4701723</td>\n",
       "      <td>4966742</td>\n",
       "      <td>9509458</td>\n",
       "      <td>4618040</td>\n",
       "      <td>4891418</td>\n",
       "      <td>9428372</td>\n",
       "      <td>4570048</td>\n",
       "      <td>4858324</td>\n",
       "    </tr>\n",
       "    <tr>\n",
       "      <th>3</th>\n",
       "      <td>부산광역시</td>\n",
       "      <td>3527635</td>\n",
       "      <td>1747000</td>\n",
       "      <td>1780635</td>\n",
       "      <td>3519401</td>\n",
       "      <td>1740417</td>\n",
       "      <td>1778984</td>\n",
       "      <td>3513777</td>\n",
       "      <td>1735570</td>\n",
       "      <td>1778207</td>\n",
       "      <td>...</td>\n",
       "      <td>1738424</td>\n",
       "      <td>3391946</td>\n",
       "      <td>1661000</td>\n",
       "      <td>1730946</td>\n",
       "      <td>3350380</td>\n",
       "      <td>1639044</td>\n",
       "      <td>1711336</td>\n",
       "      <td>3317812</td>\n",
       "      <td>1619915</td>\n",
       "      <td>1697897</td>\n",
       "    </tr>\n",
       "    <tr>\n",
       "      <th>4</th>\n",
       "      <td>대구광역시</td>\n",
       "      <td>2501588</td>\n",
       "      <td>1246071</td>\n",
       "      <td>1255517</td>\n",
       "      <td>2493264</td>\n",
       "      <td>1241119</td>\n",
       "      <td>1252145</td>\n",
       "      <td>2487829</td>\n",
       "      <td>1237291</td>\n",
       "      <td>1250538</td>\n",
       "      <td>...</td>\n",
       "      <td>1232745</td>\n",
       "      <td>2418346</td>\n",
       "      <td>1193109</td>\n",
       "      <td>1225237</td>\n",
       "      <td>2385412</td>\n",
       "      <td>1175632</td>\n",
       "      <td>1209780</td>\n",
       "      <td>2363691</td>\n",
       "      <td>1162865</td>\n",
       "      <td>1200826</td>\n",
       "    </tr>\n",
       "  </tbody>\n",
       "</table>\n",
       "<p>5 rows × 31 columns</p>\n",
       "</div>"
      ],
      "text/plain": [
       "   행정구역(시군구)별      2013     2013.1     2013.2      2014     2014.1     2014.2  \\\n",
       "0  행정구역(시군구)별  총인구수 (명)  남자인구수 (명)  여자인구수 (명)  총인구수 (명)  남자인구수 (명)  여자인구수 (명)   \n",
       "1          전국  51141463   25588336   25553127  51327916   25669296   25658620   \n",
       "2       서울특별시  10143645    5007869    5135776  10103233    4979768    5123465   \n",
       "3       부산광역시   3527635    1747000    1780635   3519401    1740417    1778984   \n",
       "4       대구광역시   2501588    1246071    1255517   2493264    1241119    1252145   \n",
       "\n",
       "       2015     2015.1     2015.2  ...     2019.2      2020     2020.1  \\\n",
       "0  총인구수 (명)  남자인구수 (명)  여자인구수 (명)  ...  여자인구수 (명)  총인구수 (명)  남자인구수 (명)   \n",
       "1  51529338   25758186   25771152  ...   25985045  51829023   25841029   \n",
       "2  10022181    4930943    5091238  ...    4985048   9668465    4701723   \n",
       "3   3513777    1735570    1778207  ...    1738424   3391946    1661000   \n",
       "4   2487829    1237291    1250538  ...    1232745   2418346    1193109   \n",
       "\n",
       "      2020.2      2021     2021.1     2021.2      2022     2022.1     2022.2  \n",
       "0  여자인구수 (명)  총인구수 (명)  남자인구수 (명)  여자인구수 (명)  총인구수 (명)  남자인구수 (명)  여자인구수 (명)  \n",
       "1   25987994  51638809   25746684   25892125  51439038   25636951   25802087  \n",
       "2    4966742   9509458    4618040    4891418   9428372    4570048    4858324  \n",
       "3    1730946   3350380    1639044    1711336   3317812    1619915    1697897  \n",
       "4    1225237   2385412    1175632    1209780   2363691    1162865    1200826  \n",
       "\n",
       "[5 rows x 31 columns]"
      ]
     },
     "execution_count": 14,
     "metadata": {},
     "output_type": "execute_result"
    }
   ],
   "source": [
    "df.head()"
   ]
  },
  {
   "cell_type": "code",
   "execution_count": 15,
   "id": "a6b2e4d0",
   "metadata": {},
   "outputs": [],
   "source": [
    "# 0번 행을 컬럼명을 변경 후 삭제하기\n",
    "df = df.rename(columns = df.iloc[0])\n",
    "df.head()\n",
    "# 0번 행 삭제\n",
    "df.drop(0, inplace = True)"
   ]
  },
  {
   "cell_type": "code",
   "execution_count": 16,
   "id": "59759398",
   "metadata": {},
   "outputs": [
    {
     "data": {
      "text/plain": [
       "Index(['행정구역(시군구)별', '총인구수 (명)', '남자인구수 (명)', '여자인구수 (명)', '총인구수 (명)',\n",
       "       '남자인구수 (명)', '여자인구수 (명)', '총인구수 (명)', '남자인구수 (명)', '여자인구수 (명)',\n",
       "       '총인구수 (명)', '남자인구수 (명)', '여자인구수 (명)', '총인구수 (명)', '남자인구수 (명)',\n",
       "       '여자인구수 (명)', '총인구수 (명)', '남자인구수 (명)', '여자인구수 (명)', '총인구수 (명)',\n",
       "       '남자인구수 (명)', '여자인구수 (명)', '총인구수 (명)', '남자인구수 (명)', '여자인구수 (명)',\n",
       "       '총인구수 (명)', '남자인구수 (명)', '여자인구수 (명)', '총인구수 (명)', '남자인구수 (명)',\n",
       "       '여자인구수 (명)'],\n",
       "      dtype='object')"
      ]
     },
     "execution_count": 16,
     "metadata": {},
     "output_type": "execute_result"
    }
   ],
   "source": [
    "# 연도가 표기되어 있지 않는 컬럼명을 읽어온다\n",
    "df.columns"
   ]
  },
  {
   "cell_type": "code",
   "execution_count": 17,
   "id": "5a957c4f",
   "metadata": {},
   "outputs": [],
   "source": [
    "# 바꿀컬럼명을 따로 만들어준다\n",
    "# 앞의 셀에서 df.columns값을 복사해서 가져온다\n",
    "tempList = ['행정구역(시군구)별', '총인구수 (명)', '남자인구수 (명)', '여자인구수 (명)', '총인구수 (명)',\n",
    "       '남자인구수 (명)', '여자인구수 (명)', '총인구수 (명)', '남자인구수 (명)', '여자인구수 (명)',\n",
    "       '총인구수 (명)', '남자인구수 (명)', '여자인구수 (명)', '총인구수 (명)', '남자인구수 (명)',\n",
    "       '여자인구수 (명)', '총인구수 (명)', '남자인구수 (명)', '여자인구수 (명)', '총인구수 (명)',\n",
    "       '남자인구수 (명)', '여자인구수 (명)', '총인구수 (명)', '남자인구수 (명)', '여자인구수 (명)',\n",
    "       '총인구수 (명)', '남자인구수 (명)', '여자인구수 (명)', '총인구수 (명)', '남자인구수 (명)',\n",
    "       '여자인구수 (명)']"
   ]
  },
  {
   "cell_type": "code",
   "execution_count": 18,
   "id": "0e99f7d0",
   "metadata": {},
   "outputs": [
    {
     "data": {
      "text/plain": [
       "['이건', '삭제하는', '코드다.']"
      ]
     },
     "execution_count": 18,
     "metadata": {},
     "output_type": "execute_result"
    }
   ],
   "source": [
    "# 괄호안의 문자열을 삭제하는 코드\n",
    "import re\n",
    "\n",
    "pattern = r'\\([^)]*\\)'\n",
    "x = '이건 (괄호 안의 불필요한 정보를) 삭제하는 코드다.'\n",
    "text = re.sub(pattern = pattern, repl = '', string = x)\n",
    "text\n",
    "\n",
    "text.split()"
   ]
  },
  {
   "cell_type": "code",
   "execution_count": 19,
   "id": "4c7665be",
   "metadata": {},
   "outputs": [],
   "source": [
    "# 컬럼명을 함수를 사용하여 변경하기\n",
    "# tempList에서 '()'내용 삭제하기 + 문자열안에 공백(strip()함수사용)이 있다면 공백 삭제\n",
    "import re\n",
    "newColName = []\n",
    "pattern = r'\\([^)]*\\)'\n",
    "year = 2012\n",
    "\n",
    "# 한번에 for문의 로직을 생각하지 말고\n",
    "# 1. 괄호안에 있는 내용 삭제하기\n",
    "# 2. 문자열 안에 공백 삭제\n",
    "# 3. 연도가 삭제된 상태, 연도 추가\n",
    "# 4. 0번 list는 연도를 추가하면 안됨\n",
    "\n",
    "for i, word in enumerate(tempList):\n",
    "    text = re.sub(pattern = pattern, repl = '', string = word)\n",
    "    # print('정규식결과: {}'.format(text))\n",
    "    text = text.strip()\n",
    "    # print('strip결과: {}'.format(text))\n",
    "    if i % 3 == 1:\n",
    "        # i가 3개마다 년도를 증가시키게 하기 위함\n",
    "        year += 1\n",
    "        \n",
    "    if i != 0:\n",
    "        text = '{}'.format(year) + ' ' + text\n",
    "        # text = str(year) + ' ' + text\n",
    "        \n",
    "    # print('{}, 문자열결과:{}'.format(i, text))\n",
    "    newColName.append(text)\n",
    "    # newColName.append(re.sub(pattern=pattern, repl = '', string = word))"
   ]
  },
  {
   "cell_type": "code",
   "execution_count": 20,
   "id": "bf709761",
   "metadata": {},
   "outputs": [
    {
     "data": {
      "text/plain": [
       "['행정구역별',\n",
       " '2013 총인구수',\n",
       " '2013 남자인구수',\n",
       " '2013 여자인구수',\n",
       " '2014 총인구수',\n",
       " '2014 남자인구수',\n",
       " '2014 여자인구수',\n",
       " '2015 총인구수',\n",
       " '2015 남자인구수',\n",
       " '2015 여자인구수',\n",
       " '2016 총인구수',\n",
       " '2016 남자인구수',\n",
       " '2016 여자인구수',\n",
       " '2017 총인구수',\n",
       " '2017 남자인구수',\n",
       " '2017 여자인구수',\n",
       " '2018 총인구수',\n",
       " '2018 남자인구수',\n",
       " '2018 여자인구수',\n",
       " '2019 총인구수',\n",
       " '2019 남자인구수',\n",
       " '2019 여자인구수',\n",
       " '2020 총인구수',\n",
       " '2020 남자인구수',\n",
       " '2020 여자인구수',\n",
       " '2021 총인구수',\n",
       " '2021 남자인구수',\n",
       " '2021 여자인구수',\n",
       " '2022 총인구수',\n",
       " '2022 남자인구수',\n",
       " '2022 여자인구수']"
      ]
     },
     "execution_count": 20,
     "metadata": {},
     "output_type": "execute_result"
    }
   ],
   "source": [
    "newColName"
   ]
  },
  {
   "cell_type": "markdown",
   "id": "7698eed2",
   "metadata": {},
   "source": [
    "위와 같이 단순 수정이 아니어도 함수를 통해 컬럼명을 바꿀 수 있다."
   ]
  },
  {
   "cell_type": "code",
   "execution_count": 21,
   "id": "c2e9ebca",
   "metadata": {},
   "outputs": [
    {
     "data": {
      "text/plain": [
       "Index(['행정구역별', '2013 총인구수', '2013 남자인구수', '2013 여자인구수', '2014 총인구수',\n",
       "       '2014 남자인구수', '2014 여자인구수', '2015 총인구수', '2015 남자인구수', '2015 여자인구수',\n",
       "       '2016 총인구수', '2016 남자인구수', '2016 여자인구수', '2017 총인구수', '2017 남자인구수',\n",
       "       '2017 여자인구수', '2018 총인구수', '2018 남자인구수', '2018 여자인구수', '2019 총인구수',\n",
       "       '2019 남자인구수', '2019 여자인구수', '2020 총인구수', '2020 남자인구수', '2020 여자인구수',\n",
       "       '2021 총인구수', '2021 남자인구수', '2021 여자인구수', '2022 총인구수', '2022 남자인구수',\n",
       "       '2022 여자인구수'],\n",
       "      dtype='object')"
      ]
     },
     "execution_count": 21,
     "metadata": {},
     "output_type": "execute_result"
    }
   ],
   "source": [
    "# 변경한 컬럼 적용\n",
    "df.columns = newColName\n",
    "df.columns"
   ]
  },
  {
   "cell_type": "code",
   "execution_count": 22,
   "id": "15fcaac1",
   "metadata": {},
   "outputs": [
    {
     "data": {
      "text/html": [
       "<div>\n",
       "<style scoped>\n",
       "    .dataframe tbody tr th:only-of-type {\n",
       "        vertical-align: middle;\n",
       "    }\n",
       "\n",
       "    .dataframe tbody tr th {\n",
       "        vertical-align: top;\n",
       "    }\n",
       "\n",
       "    .dataframe thead th {\n",
       "        text-align: right;\n",
       "    }\n",
       "</style>\n",
       "<table border=\"1\" class=\"dataframe\">\n",
       "  <thead>\n",
       "    <tr style=\"text-align: right;\">\n",
       "      <th></th>\n",
       "      <th>행정구역별</th>\n",
       "      <th>2013 총인구수</th>\n",
       "      <th>2013 남자인구수</th>\n",
       "      <th>2013 여자인구수</th>\n",
       "      <th>2014 총인구수</th>\n",
       "      <th>2014 남자인구수</th>\n",
       "      <th>2014 여자인구수</th>\n",
       "      <th>2015 총인구수</th>\n",
       "      <th>2015 남자인구수</th>\n",
       "      <th>2015 여자인구수</th>\n",
       "      <th>...</th>\n",
       "      <th>2019 여자인구수</th>\n",
       "      <th>2020 총인구수</th>\n",
       "      <th>2020 남자인구수</th>\n",
       "      <th>2020 여자인구수</th>\n",
       "      <th>2021 총인구수</th>\n",
       "      <th>2021 남자인구수</th>\n",
       "      <th>2021 여자인구수</th>\n",
       "      <th>2022 총인구수</th>\n",
       "      <th>2022 남자인구수</th>\n",
       "      <th>2022 여자인구수</th>\n",
       "    </tr>\n",
       "  </thead>\n",
       "  <tbody>\n",
       "    <tr>\n",
       "      <th>1</th>\n",
       "      <td>전국</td>\n",
       "      <td>51141463</td>\n",
       "      <td>25588336</td>\n",
       "      <td>25553127</td>\n",
       "      <td>51327916</td>\n",
       "      <td>25669296</td>\n",
       "      <td>25658620</td>\n",
       "      <td>51529338</td>\n",
       "      <td>25758186</td>\n",
       "      <td>25771152</td>\n",
       "      <td>...</td>\n",
       "      <td>25985045</td>\n",
       "      <td>51829023</td>\n",
       "      <td>25841029</td>\n",
       "      <td>25987994</td>\n",
       "      <td>51638809</td>\n",
       "      <td>25746684</td>\n",
       "      <td>25892125</td>\n",
       "      <td>51439038</td>\n",
       "      <td>25636951</td>\n",
       "      <td>25802087</td>\n",
       "    </tr>\n",
       "    <tr>\n",
       "      <th>2</th>\n",
       "      <td>서울특별시</td>\n",
       "      <td>10143645</td>\n",
       "      <td>5007869</td>\n",
       "      <td>5135776</td>\n",
       "      <td>10103233</td>\n",
       "      <td>4979768</td>\n",
       "      <td>5123465</td>\n",
       "      <td>10022181</td>\n",
       "      <td>4930943</td>\n",
       "      <td>5091238</td>\n",
       "      <td>...</td>\n",
       "      <td>4985048</td>\n",
       "      <td>9668465</td>\n",
       "      <td>4701723</td>\n",
       "      <td>4966742</td>\n",
       "      <td>9509458</td>\n",
       "      <td>4618040</td>\n",
       "      <td>4891418</td>\n",
       "      <td>9428372</td>\n",
       "      <td>4570048</td>\n",
       "      <td>4858324</td>\n",
       "    </tr>\n",
       "    <tr>\n",
       "      <th>3</th>\n",
       "      <td>부산광역시</td>\n",
       "      <td>3527635</td>\n",
       "      <td>1747000</td>\n",
       "      <td>1780635</td>\n",
       "      <td>3519401</td>\n",
       "      <td>1740417</td>\n",
       "      <td>1778984</td>\n",
       "      <td>3513777</td>\n",
       "      <td>1735570</td>\n",
       "      <td>1778207</td>\n",
       "      <td>...</td>\n",
       "      <td>1738424</td>\n",
       "      <td>3391946</td>\n",
       "      <td>1661000</td>\n",
       "      <td>1730946</td>\n",
       "      <td>3350380</td>\n",
       "      <td>1639044</td>\n",
       "      <td>1711336</td>\n",
       "      <td>3317812</td>\n",
       "      <td>1619915</td>\n",
       "      <td>1697897</td>\n",
       "    </tr>\n",
       "    <tr>\n",
       "      <th>4</th>\n",
       "      <td>대구광역시</td>\n",
       "      <td>2501588</td>\n",
       "      <td>1246071</td>\n",
       "      <td>1255517</td>\n",
       "      <td>2493264</td>\n",
       "      <td>1241119</td>\n",
       "      <td>1252145</td>\n",
       "      <td>2487829</td>\n",
       "      <td>1237291</td>\n",
       "      <td>1250538</td>\n",
       "      <td>...</td>\n",
       "      <td>1232745</td>\n",
       "      <td>2418346</td>\n",
       "      <td>1193109</td>\n",
       "      <td>1225237</td>\n",
       "      <td>2385412</td>\n",
       "      <td>1175632</td>\n",
       "      <td>1209780</td>\n",
       "      <td>2363691</td>\n",
       "      <td>1162865</td>\n",
       "      <td>1200826</td>\n",
       "    </tr>\n",
       "    <tr>\n",
       "      <th>5</th>\n",
       "      <td>인천광역시</td>\n",
       "      <td>2879782</td>\n",
       "      <td>1448835</td>\n",
       "      <td>1430947</td>\n",
       "      <td>2902608</td>\n",
       "      <td>1459074</td>\n",
       "      <td>1443534</td>\n",
       "      <td>2925815</td>\n",
       "      <td>1469869</td>\n",
       "      <td>1455946</td>\n",
       "      <td>...</td>\n",
       "      <td>1474777</td>\n",
       "      <td>2942828</td>\n",
       "      <td>1473943</td>\n",
       "      <td>1468885</td>\n",
       "      <td>2948375</td>\n",
       "      <td>1476373</td>\n",
       "      <td>1472002</td>\n",
       "      <td>2967314</td>\n",
       "      <td>1485175</td>\n",
       "      <td>1482139</td>\n",
       "    </tr>\n",
       "  </tbody>\n",
       "</table>\n",
       "<p>5 rows × 31 columns</p>\n",
       "</div>"
      ],
      "text/plain": [
       "   행정구역별 2013 총인구수 2013 남자인구수 2013 여자인구수 2014 총인구수 2014 남자인구수 2014 여자인구수  \\\n",
       "1     전국  51141463   25588336   25553127  51327916   25669296   25658620   \n",
       "2  서울특별시  10143645    5007869    5135776  10103233    4979768    5123465   \n",
       "3  부산광역시   3527635    1747000    1780635   3519401    1740417    1778984   \n",
       "4  대구광역시   2501588    1246071    1255517   2493264    1241119    1252145   \n",
       "5  인천광역시   2879782    1448835    1430947   2902608    1459074    1443534   \n",
       "\n",
       "  2015 총인구수 2015 남자인구수 2015 여자인구수  ... 2019 여자인구수 2020 총인구수 2020 남자인구수  \\\n",
       "1  51529338   25758186   25771152  ...   25985045  51829023   25841029   \n",
       "2  10022181    4930943    5091238  ...    4985048   9668465    4701723   \n",
       "3   3513777    1735570    1778207  ...    1738424   3391946    1661000   \n",
       "4   2487829    1237291    1250538  ...    1232745   2418346    1193109   \n",
       "5   2925815    1469869    1455946  ...    1474777   2942828    1473943   \n",
       "\n",
       "  2020 여자인구수 2021 총인구수 2021 남자인구수 2021 여자인구수 2022 총인구수 2022 남자인구수 2022 여자인구수  \n",
       "1   25987994  51638809   25746684   25892125  51439038   25636951   25802087  \n",
       "2    4966742   9509458    4618040    4891418   9428372    4570048    4858324  \n",
       "3    1730946   3350380    1639044    1711336   3317812    1619915    1697897  \n",
       "4    1225237   2385412    1175632    1209780   2363691    1162865    1200826  \n",
       "5    1468885   2948375    1476373    1472002   2967314    1485175    1482139  \n",
       "\n",
       "[5 rows x 31 columns]"
      ]
     },
     "execution_count": 22,
     "metadata": {},
     "output_type": "execute_result"
    }
   ],
   "source": [
    "df.head()"
   ]
  },
  {
   "cell_type": "code",
   "execution_count": 23,
   "id": "3d23572f",
   "metadata": {},
   "outputs": [],
   "source": [
    "# 정리된 데이터를 가지고 년도별 총 인구수를 기반으로 지역별 인구 변화를\n",
    "# bar chart로 확인\n",
    "# 총인구수의 데이터 타입 변환(행정구역별 컬럼만 제외하고 나머지는 모두 int타입으로 변경)\n",
    "df2 = df.iloc[:,1:].astype('int')"
   ]
  },
  {
   "cell_type": "code",
   "execution_count": 24,
   "id": "7c8db8c2",
   "metadata": {},
   "outputs": [
    {
     "name": "stdout",
     "output_type": "stream",
     "text": [
      "<class 'pandas.core.frame.DataFrame'>\n",
      "RangeIndex: 18 entries, 1 to 18\n",
      "Data columns (total 30 columns):\n",
      " #   Column      Non-Null Count  Dtype\n",
      "---  ------      --------------  -----\n",
      " 0   2013 총인구수   18 non-null     int32\n",
      " 1   2013 남자인구수  18 non-null     int32\n",
      " 2   2013 여자인구수  18 non-null     int32\n",
      " 3   2014 총인구수   18 non-null     int32\n",
      " 4   2014 남자인구수  18 non-null     int32\n",
      " 5   2014 여자인구수  18 non-null     int32\n",
      " 6   2015 총인구수   18 non-null     int32\n",
      " 7   2015 남자인구수  18 non-null     int32\n",
      " 8   2015 여자인구수  18 non-null     int32\n",
      " 9   2016 총인구수   18 non-null     int32\n",
      " 10  2016 남자인구수  18 non-null     int32\n",
      " 11  2016 여자인구수  18 non-null     int32\n",
      " 12  2017 총인구수   18 non-null     int32\n",
      " 13  2017 남자인구수  18 non-null     int32\n",
      " 14  2017 여자인구수  18 non-null     int32\n",
      " 15  2018 총인구수   18 non-null     int32\n",
      " 16  2018 남자인구수  18 non-null     int32\n",
      " 17  2018 여자인구수  18 non-null     int32\n",
      " 18  2019 총인구수   18 non-null     int32\n",
      " 19  2019 남자인구수  18 non-null     int32\n",
      " 20  2019 여자인구수  18 non-null     int32\n",
      " 21  2020 총인구수   18 non-null     int32\n",
      " 22  2020 남자인구수  18 non-null     int32\n",
      " 23  2020 여자인구수  18 non-null     int32\n",
      " 24  2021 총인구수   18 non-null     int32\n",
      " 25  2021 남자인구수  18 non-null     int32\n",
      " 26  2021 여자인구수  18 non-null     int32\n",
      " 27  2022 총인구수   18 non-null     int32\n",
      " 28  2022 남자인구수  18 non-null     int32\n",
      " 29  2022 여자인구수  18 non-null     int32\n",
      "dtypes: int32(30)\n",
      "memory usage: 2.2 KB\n"
     ]
    }
   ],
   "source": [
    "df2.info()"
   ]
  },
  {
   "cell_type": "code",
   "execution_count": 25,
   "id": "2888a12c",
   "metadata": {},
   "outputs": [],
   "source": [
    "# df2에 행정구열별 컬럼 추가\n",
    "# insert함수의 1st:컬럼이 들어갈 위치 index, 2nd: 추가할 컬럼의 이름, 3rd: 컬럼에 추가될 데이터\n",
    "df2.insert(0, '행정구역별', df['행정구역별'])"
   ]
  },
  {
   "cell_type": "code",
   "execution_count": 26,
   "id": "2ffeab20",
   "metadata": {},
   "outputs": [
    {
     "data": {
      "text/plain": [
       "1          전국\n",
       "2       서울특별시\n",
       "3       부산광역시\n",
       "4       대구광역시\n",
       "5       인천광역시\n",
       "6       광주광역시\n",
       "7       대전광역시\n",
       "8       울산광역시\n",
       "9     세종특별자치시\n",
       "10        경기도\n",
       "11        강원도\n",
       "12       충청북도\n",
       "13       충청남도\n",
       "14       전라북도\n",
       "15       전라남도\n",
       "16       경상북도\n",
       "17       경상남도\n",
       "18    제주특별자치도\n",
       "Name: 행정구역별, dtype: object"
      ]
     },
     "execution_count": 26,
     "metadata": {},
     "output_type": "execute_result"
    }
   ],
   "source": [
    "df2['행정구역별']"
   ]
  },
  {
   "cell_type": "code",
   "execution_count": 27,
   "id": "c74818f9",
   "metadata": {},
   "outputs": [
    {
     "name": "stdout",
     "output_type": "stream",
     "text": [
      "<class 'pandas.core.frame.DataFrame'>\n",
      "RangeIndex: 18 entries, 1 to 18\n",
      "Data columns (total 31 columns):\n",
      " #   Column      Non-Null Count  Dtype \n",
      "---  ------      --------------  ----- \n",
      " 0   행정구역별       18 non-null     object\n",
      " 1   2013 총인구수   18 non-null     int32 \n",
      " 2   2013 남자인구수  18 non-null     int32 \n",
      " 3   2013 여자인구수  18 non-null     int32 \n",
      " 4   2014 총인구수   18 non-null     int32 \n",
      " 5   2014 남자인구수  18 non-null     int32 \n",
      " 6   2014 여자인구수  18 non-null     int32 \n",
      " 7   2015 총인구수   18 non-null     int32 \n",
      " 8   2015 남자인구수  18 non-null     int32 \n",
      " 9   2015 여자인구수  18 non-null     int32 \n",
      " 10  2016 총인구수   18 non-null     int32 \n",
      " 11  2016 남자인구수  18 non-null     int32 \n",
      " 12  2016 여자인구수  18 non-null     int32 \n",
      " 13  2017 총인구수   18 non-null     int32 \n",
      " 14  2017 남자인구수  18 non-null     int32 \n",
      " 15  2017 여자인구수  18 non-null     int32 \n",
      " 16  2018 총인구수   18 non-null     int32 \n",
      " 17  2018 남자인구수  18 non-null     int32 \n",
      " 18  2018 여자인구수  18 non-null     int32 \n",
      " 19  2019 총인구수   18 non-null     int32 \n",
      " 20  2019 남자인구수  18 non-null     int32 \n",
      " 21  2019 여자인구수  18 non-null     int32 \n",
      " 22  2020 총인구수   18 non-null     int32 \n",
      " 23  2020 남자인구수  18 non-null     int32 \n",
      " 24  2020 여자인구수  18 non-null     int32 \n",
      " 25  2021 총인구수   18 non-null     int32 \n",
      " 26  2021 남자인구수  18 non-null     int32 \n",
      " 27  2021 여자인구수  18 non-null     int32 \n",
      " 28  2022 총인구수   18 non-null     int32 \n",
      " 29  2022 남자인구수  18 non-null     int32 \n",
      " 30  2022 여자인구수  18 non-null     int32 \n",
      "dtypes: int32(30), object(1)\n",
      "memory usage: 2.4+ KB\n"
     ]
    }
   ],
   "source": [
    "df2.info()"
   ]
  },
  {
   "cell_type": "code",
   "execution_count": 28,
   "id": "b4f28b25",
   "metadata": {},
   "outputs": [
    {
     "data": {
      "text/plain": [
       "<Axes: ylabel='행정구역별'>"
      ]
     },
     "execution_count": 28,
     "metadata": {},
     "output_type": "execute_result"
    },
    {
     "data": {
      "image/png": "[encoded data removed]",
      "text/plain": [
       "<Figure size 640x480 with 1 Axes>"
      ]
     },
     "metadata": {},
     "output_type": "display_data"
    }
   ],
   "source": [
    "# 그래프 그리기\n",
    "# 방법 1\n",
    "df2.plot.barh(x = '행정구역별', y = '2013 총인구수', rot = 0)"
   ]
  },
  {
   "cell_type": "code",
   "execution_count": 29,
   "id": "0e1c03b8",
   "metadata": {},
   "outputs": [
    {
     "data": {
      "image/png": "[encoded data removed]",
      "text/plain": [
       "<Figure size 640x480 with 1 Axes>"
      ]
     },
     "metadata": {},
     "output_type": "display_data"
    },
    {
     "data": {
      "image/png": "[encoded data removed]",
      "text/plain": [
       "<Figure size 640x480 with 1 Axes>"
      ]
     },
     "metadata": {},
     "output_type": "display_data"
    },
    {
     "data": {
      "image/png": "[encoded data removed]",
      "text/plain": [
       "<Figure size 640x480 with 1 Axes>"
      ]
     },
     "metadata": {},
     "output_type": "display_data"
    },
    {
     "data": {
      "image/png": "[encoded data removed]",
      "text/plain": [
       "<Figure size 640x480 with 1 Axes>"
      ]
     },
     "metadata": {},
     "output_type": "display_data"
    },
    {
     "data": {
      "image/png": "[encoded data removed]",
      "text/plain": [
       "<Figure size 640x480 with 1 Axes>"
      ]
     },
     "metadata": {},
     "output_type": "display_data"
    },
    {
     "data": {
      "image/png": "[encoded data removed]",
      "text/plain": [
       "<Figure size 640x480 with 1 Axes>"
      ]
     },
     "metadata": {},
     "output_type": "display_data"
    },
    {
     "data": {
      "image/png": "[encoded data removed]",
      "text/plain": [
       "<Figure size 640x480 with 1 Axes>"
      ]
     },
     "metadata": {},
     "output_type": "display_data"
    },
    {
     "data": {
      "image/png": "[encoded data removed]",
      "text/plain": [
       "<Figure size 640x480 with 1 Axes>"
      ]
     },
     "metadata": {},
     "output_type": "display_data"
    },
    {
     "data": {
      "image/png": "[encoded data removed]",
      "text/plain": [
       "<Figure size 640x480 with 1 Axes>"
      ]
     },
     "metadata": {},
     "output_type": "display_data"
    },
    {
     "data": {
      "image/png": "[encoded data removed]",
      "text/plain": [
       "<Figure size 640x480 with 1 Axes>"
      ]
     },
     "metadata": {},
     "output_type": "display_data"
    }
   ],
   "source": [
    "# for문을 사용하여 총인구수의 그래프 출력\n",
    "# 별도의 연도컬럼을 먼저 생성해준다\n",
    "colList = []\n",
    "year = 2013\n",
    "for colyear in range(year, year + 10):\n",
    "    name = str(year) + ' ' + '총인구수'\n",
    "    colList.append(name)\n",
    "    \n",
    "# 앞에 만든 컬럼을 y값에 대입\n",
    "for colName in colList:\n",
    "    df2.plot.barh(x = '행정구역별', y = colName, rot = 0)"
   ]
  },
  {
   "cell_type": "markdown",
   "id": "112922d7",
   "metadata": {},
   "source": [
    "연도별 그래프를 그렸으나 시각적으로 비교하기 힘드므로 지역별로 그래프를 보고자 한다."
   ]
  },
  {
   "cell_type": "code",
   "execution_count": 30,
   "id": "1907e3c7",
   "metadata": {},
   "outputs": [
    {
     "data": {
      "text/plain": [
       "<BarContainer object of 10 artists>"
      ]
     },
     "execution_count": 30,
     "metadata": {},
     "output_type": "execute_result"
    },
    {
     "data": {
      "image/png": "[encoded data removed]",
      "text/plain": [
       "<Figure size 640x480 with 1 Axes>"
      ]
     },
     "metadata": {},
     "output_type": "display_data"
    }
   ],
   "source": [
    "# 서울특별시의 인구수 변화\n",
    "# 3x - 2\n",
    "import matplotlib.pyplot as plt\n",
    "# 그래프의 x데이터 생성\n",
    "x = []\n",
    "for year in range(2013, 2013 + 10):\n",
    "    x.append(year)\n",
    "\n",
    "# 그래프의 y데이터 생성\n",
    "Seoul = []\n",
    "for i in range(1, 30, 3):\n",
    "    Seoul.append(df2.iloc[1, i])\n",
    "plt.bar(x, Seoul)"
   ]
  },
  {
   "cell_type": "markdown",
   "id": "7bd5fc2b",
   "metadata": {},
   "source": [
    "# 3. 서울시 부동산 실거래가 데이터 연습"
   ]
  },
  {
   "cell_type": "code",
   "execution_count": 31,
   "id": "dab02ac9",
   "metadata": {},
   "outputs": [
    {
     "name": "stderr",
     "output_type": "stream",
     "text": [
      "C:\\Users\\chunc\\AppData\\Local\\Temp\\ipykernel_29404\\1505511924.py:4: DtypeWarning: Columns (7,15,19,20) have mixed types. Specify dtype option on import or set low_memory=False.\n",
      "  df = pd.read_csv(csvFile, encoding = 'euc-kr')\n"
     ]
    }
   ],
   "source": [
    "# 파일 불러오기\n",
    "import pandas as pd\n",
    "csvFile = 'C:/Users/chunc/Desktop/취업캠프/python/python/서울시 부동산 실거래가 정보.csv'\n",
    "df = pd.read_csv(csvFile, encoding = 'euc-kr')"
   ]
  },
  {
   "cell_type": "code",
   "execution_count": 32,
   "id": "35425ebf",
   "metadata": {},
   "outputs": [
    {
     "data": {
      "text/html": [
       "<div>\n",
       "<style scoped>\n",
       "    .dataframe tbody tr th:only-of-type {\n",
       "        vertical-align: middle;\n",
       "    }\n",
       "\n",
       "    .dataframe tbody tr th {\n",
       "        vertical-align: top;\n",
       "    }\n",
       "\n",
       "    .dataframe thead th {\n",
       "        text-align: right;\n",
       "    }\n",
       "</style>\n",
       "<table border=\"1\" class=\"dataframe\">\n",
       "  <thead>\n",
       "    <tr style=\"text-align: right;\">\n",
       "      <th></th>\n",
       "      <th>접수연도</th>\n",
       "      <th>자치구코드</th>\n",
       "      <th>자치구명</th>\n",
       "      <th>법정동코드</th>\n",
       "      <th>법정동명</th>\n",
       "      <th>지번구분</th>\n",
       "      <th>지번구분명</th>\n",
       "      <th>본번</th>\n",
       "      <th>부번</th>\n",
       "      <th>건물명</th>\n",
       "      <th>...</th>\n",
       "      <th>물건금액(만원)</th>\n",
       "      <th>건물면적(㎡)</th>\n",
       "      <th>토지면적(㎡)</th>\n",
       "      <th>층</th>\n",
       "      <th>권리구분</th>\n",
       "      <th>취소일</th>\n",
       "      <th>건축년도</th>\n",
       "      <th>건물용도</th>\n",
       "      <th>신고구분</th>\n",
       "      <th>신고한 개업공인중개사 시군구명</th>\n",
       "    </tr>\n",
       "  </thead>\n",
       "  <tbody>\n",
       "    <tr>\n",
       "      <th>0</th>\n",
       "      <td>2023</td>\n",
       "      <td>11500</td>\n",
       "      <td>강서구</td>\n",
       "      <td>10100</td>\n",
       "      <td>염창동</td>\n",
       "      <td>1.0</td>\n",
       "      <td>대지</td>\n",
       "      <td>294.0</td>\n",
       "      <td>0.0</td>\n",
       "      <td>길훈</td>\n",
       "      <td>...</td>\n",
       "      <td>65000</td>\n",
       "      <td>59.94</td>\n",
       "      <td>0.00</td>\n",
       "      <td>9.0</td>\n",
       "      <td>NaN</td>\n",
       "      <td>NaN</td>\n",
       "      <td>1999.0</td>\n",
       "      <td>아파트</td>\n",
       "      <td>중개거래</td>\n",
       "      <td>서울 강서구</td>\n",
       "    </tr>\n",
       "    <tr>\n",
       "      <th>1</th>\n",
       "      <td>2023</td>\n",
       "      <td>11305</td>\n",
       "      <td>강북구</td>\n",
       "      <td>10300</td>\n",
       "      <td>수유동</td>\n",
       "      <td>1.0</td>\n",
       "      <td>대지</td>\n",
       "      <td>738.0</td>\n",
       "      <td>0.0</td>\n",
       "      <td>한원힐트리움수유</td>\n",
       "      <td>...</td>\n",
       "      <td>23300</td>\n",
       "      <td>27.39</td>\n",
       "      <td>0.00</td>\n",
       "      <td>5.0</td>\n",
       "      <td>NaN</td>\n",
       "      <td>NaN</td>\n",
       "      <td>2020.0</td>\n",
       "      <td>아파트</td>\n",
       "      <td>중개거래</td>\n",
       "      <td>서울 강북구</td>\n",
       "    </tr>\n",
       "    <tr>\n",
       "      <th>2</th>\n",
       "      <td>2023</td>\n",
       "      <td>11500</td>\n",
       "      <td>강서구</td>\n",
       "      <td>10300</td>\n",
       "      <td>화곡동</td>\n",
       "      <td>1.0</td>\n",
       "      <td>대지</td>\n",
       "      <td>408.0</td>\n",
       "      <td>93.0</td>\n",
       "      <td>(408-93)</td>\n",
       "      <td>...</td>\n",
       "      <td>9500</td>\n",
       "      <td>27.93</td>\n",
       "      <td>20.73</td>\n",
       "      <td>-1.0</td>\n",
       "      <td>NaN</td>\n",
       "      <td>NaN</td>\n",
       "      <td>1986.0</td>\n",
       "      <td>연립다세대</td>\n",
       "      <td>직거래</td>\n",
       "      <td>NaN</td>\n",
       "    </tr>\n",
       "    <tr>\n",
       "      <th>3</th>\n",
       "      <td>2023</td>\n",
       "      <td>11530</td>\n",
       "      <td>구로구</td>\n",
       "      <td>10200</td>\n",
       "      <td>구로동</td>\n",
       "      <td>1.0</td>\n",
       "      <td>대지</td>\n",
       "      <td>98.0</td>\n",
       "      <td>12.0</td>\n",
       "      <td>파인마루오피스텔</td>\n",
       "      <td>...</td>\n",
       "      <td>15700</td>\n",
       "      <td>24.36</td>\n",
       "      <td>35.26</td>\n",
       "      <td>5.0</td>\n",
       "      <td>NaN</td>\n",
       "      <td>NaN</td>\n",
       "      <td>2016.0</td>\n",
       "      <td>오피스텔</td>\n",
       "      <td>중개거래</td>\n",
       "      <td>경기 하남시, 서울 구로구</td>\n",
       "    </tr>\n",
       "    <tr>\n",
       "      <th>4</th>\n",
       "      <td>2023</td>\n",
       "      <td>11530</td>\n",
       "      <td>구로구</td>\n",
       "      <td>10200</td>\n",
       "      <td>구로동</td>\n",
       "      <td>1.0</td>\n",
       "      <td>대지</td>\n",
       "      <td>104.0</td>\n",
       "      <td>3.0</td>\n",
       "      <td>해담채3</td>\n",
       "      <td>...</td>\n",
       "      <td>12000</td>\n",
       "      <td>13.39</td>\n",
       "      <td>0.00</td>\n",
       "      <td>15.0</td>\n",
       "      <td>NaN</td>\n",
       "      <td>NaN</td>\n",
       "      <td>2014.0</td>\n",
       "      <td>아파트</td>\n",
       "      <td>중개거래</td>\n",
       "      <td>서울 구로구</td>\n",
       "    </tr>\n",
       "  </tbody>\n",
       "</table>\n",
       "<p>5 rows × 21 columns</p>\n",
       "</div>"
      ],
      "text/plain": [
       "   접수연도  자치구코드 자치구명  법정동코드 법정동명  지번구분 지번구분명     본번    부번       건물명  ...  \\\n",
       "0  2023  11500  강서구  10100  염창동   1.0    대지  294.0   0.0        길훈  ...   \n",
       "1  2023  11305  강북구  10300  수유동   1.0    대지  738.0   0.0  한원힐트리움수유  ...   \n",
       "2  2023  11500  강서구  10300  화곡동   1.0    대지  408.0  93.0  (408-93)  ...   \n",
       "3  2023  11530  구로구  10200  구로동   1.0    대지   98.0  12.0  파인마루오피스텔  ...   \n",
       "4  2023  11530  구로구  10200  구로동   1.0    대지  104.0   3.0      해담채3  ...   \n",
       "\n",
       "   물건금액(만원)  건물면적(㎡)  토지면적(㎡)     층  권리구분 취소일    건축년도   건물용도  신고구분  \\\n",
       "0     65000    59.94     0.00   9.0   NaN NaN  1999.0    아파트  중개거래   \n",
       "1     23300    27.39     0.00   5.0   NaN NaN  2020.0    아파트  중개거래   \n",
       "2      9500    27.93    20.73  -1.0   NaN NaN  1986.0  연립다세대   직거래   \n",
       "3     15700    24.36    35.26   5.0   NaN NaN  2016.0   오피스텔  중개거래   \n",
       "4     12000    13.39     0.00  15.0   NaN NaN  2014.0    아파트  중개거래   \n",
       "\n",
       "  신고한 개업공인중개사 시군구명  \n",
       "0           서울 강서구  \n",
       "1           서울 강북구  \n",
       "2              NaN  \n",
       "3   경기 하남시, 서울 구로구  \n",
       "4           서울 구로구  \n",
       "\n",
       "[5 rows x 21 columns]"
      ]
     },
     "execution_count": 32,
     "metadata": {},
     "output_type": "execute_result"
    }
   ],
   "source": [
    "df.head()"
   ]
  },
  {
   "cell_type": "code",
   "execution_count": 33,
   "id": "81def1f4",
   "metadata": {},
   "outputs": [
    {
     "name": "stdout",
     "output_type": "stream",
     "text": [
      "<class 'pandas.core.frame.DataFrame'>\n",
      "RangeIndex: 2646181 entries, 0 to 2646180\n",
      "Data columns (total 21 columns):\n",
      " #   Column            Dtype  \n",
      "---  ------            -----  \n",
      " 0   접수연도              int64  \n",
      " 1   자치구코드             int64  \n",
      " 2   자치구명              object \n",
      " 3   법정동코드             int64  \n",
      " 4   법정동명              object \n",
      " 5   지번구분              float64\n",
      " 6   지번구분명             object \n",
      " 7   본번                object \n",
      " 8   부번                float64\n",
      " 9   건물명               object \n",
      " 10  계약일               int64  \n",
      " 11  물건금액(만원)          int64  \n",
      " 12  건물면적(㎡)           float64\n",
      " 13  토지면적(㎡)           float64\n",
      " 14  층                 float64\n",
      " 15  권리구분              object \n",
      " 16  취소일               float64\n",
      " 17  건축년도              float64\n",
      " 18  건물용도              object \n",
      " 19  신고구분              object \n",
      " 20  신고한 개업공인중개사 시군구명  object \n",
      "dtypes: float64(7), int64(5), object(9)\n",
      "memory usage: 424.0+ MB\n"
     ]
    }
   ],
   "source": [
    "df.info()"
   ]
  },
  {
   "cell_type": "code",
   "execution_count": 34,
   "id": "1038d2f2",
   "metadata": {},
   "outputs": [
    {
     "data": {
      "text/plain": [
       "(2646181, 21)"
      ]
     },
     "execution_count": 34,
     "metadata": {},
     "output_type": "execute_result"
    }
   ],
   "source": [
    "df.shape"
   ]
  },
  {
   "cell_type": "code",
   "execution_count": 35,
   "id": "b93f63eb",
   "metadata": {},
   "outputs": [],
   "source": [
    "# 접수연도의 타입바꾸기\n",
    "df['접수연도'] = df['접수연도'].astype('int16')"
   ]
  },
  {
   "cell_type": "code",
   "execution_count": 36,
   "id": "3e581339",
   "metadata": {},
   "outputs": [],
   "source": [
    "# 건축연도도 타입을 바꿔준다\n",
    "df['건축년도'] = df['건축년도'].astype('float16')"
   ]
  },
  {
   "cell_type": "code",
   "execution_count": 37,
   "id": "3f7a5f9e",
   "metadata": {},
   "outputs": [
    {
     "name": "stdout",
     "output_type": "stream",
     "text": [
      "<class 'pandas.core.frame.DataFrame'>\n",
      "RangeIndex: 2646181 entries, 0 to 2646180\n",
      "Data columns (total 21 columns):\n",
      " #   Column            Dtype  \n",
      "---  ------            -----  \n",
      " 0   접수연도              int16  \n",
      " 1   자치구코드             int64  \n",
      " 2   자치구명              object \n",
      " 3   법정동코드             int64  \n",
      " 4   법정동명              object \n",
      " 5   지번구분              float64\n",
      " 6   지번구분명             object \n",
      " 7   본번                object \n",
      " 8   부번                float64\n",
      " 9   건물명               object \n",
      " 10  계약일               int64  \n",
      " 11  물건금액(만원)          int64  \n",
      " 12  건물면적(㎡)           float64\n",
      " 13  토지면적(㎡)           float64\n",
      " 14  층                 float64\n",
      " 15  권리구분              object \n",
      " 16  취소일               float64\n",
      " 17  건축년도              float16\n",
      " 18  건물용도              object \n",
      " 19  신고구분              object \n",
      " 20  신고한 개업공인중개사 시군구명  object \n",
      "dtypes: float16(1), float64(6), int16(1), int64(4), object(9)\n",
      "memory usage: 393.7+ MB\n"
     ]
    }
   ],
   "source": [
    "df.info()"
   ]
  },
  {
   "cell_type": "markdown",
   "id": "82236970",
   "metadata": {},
   "source": [
    "데이터의 크기가 상당히 커서 메모리의 공간을 많이 차지하게 될 경우, 데이터타입을 줄여줌으로써 메모리용량을 확보할 수 있다."
   ]
  },
  {
   "cell_type": "code",
   "execution_count": 38,
   "id": "b04b3b82",
   "metadata": {},
   "outputs": [
    {
     "data": {
      "text/plain": [
       "array(['강서구', '강북구', '구로구', '은평구', '동작구', '도봉구', '강동구', '양천구', '성북구',\n",
       "       '노원구', '마포구', '서대문구', '서초구', '중구', '용산구', '송파구', '광진구', '영등포구',\n",
       "       '종로구', '관악구', '동대문구', '중랑구', '강남구', '금천구', '성동구'], dtype=object)"
      ]
     },
     "execution_count": 38,
     "metadata": {},
     "output_type": "execute_result"
    }
   ],
   "source": [
    "# 자치구 현황\n",
    "df['자치구명'].unique()"
   ]
  },
  {
   "cell_type": "code",
   "execution_count": 39,
   "id": "85f4fdfc",
   "metadata": {},
   "outputs": [
    {
     "data": {
      "text/html": [
       "<div>\n",
       "<style scoped>\n",
       "    .dataframe tbody tr th:only-of-type {\n",
       "        vertical-align: middle;\n",
       "    }\n",
       "\n",
       "    .dataframe tbody tr th {\n",
       "        vertical-align: top;\n",
       "    }\n",
       "\n",
       "    .dataframe thead th {\n",
       "        text-align: right;\n",
       "    }\n",
       "</style>\n",
       "<table border=\"1\" class=\"dataframe\">\n",
       "  <thead>\n",
       "    <tr style=\"text-align: right;\">\n",
       "      <th></th>\n",
       "      <th>접수연도</th>\n",
       "      <th>자치구코드</th>\n",
       "      <th>자치구명</th>\n",
       "      <th>법정동코드</th>\n",
       "      <th>법정동명</th>\n",
       "      <th>지번구분</th>\n",
       "      <th>지번구분명</th>\n",
       "      <th>본번</th>\n",
       "      <th>부번</th>\n",
       "      <th>건물명</th>\n",
       "      <th>...</th>\n",
       "      <th>물건금액(만원)</th>\n",
       "      <th>건물면적(㎡)</th>\n",
       "      <th>토지면적(㎡)</th>\n",
       "      <th>층</th>\n",
       "      <th>권리구분</th>\n",
       "      <th>취소일</th>\n",
       "      <th>건축년도</th>\n",
       "      <th>건물용도</th>\n",
       "      <th>신고구분</th>\n",
       "      <th>신고한 개업공인중개사 시군구명</th>\n",
       "    </tr>\n",
       "  </thead>\n",
       "  <tbody>\n",
       "    <tr>\n",
       "      <th>18</th>\n",
       "      <td>2023</td>\n",
       "      <td>11650</td>\n",
       "      <td>서초구</td>\n",
       "      <td>10800</td>\n",
       "      <td>서초동</td>\n",
       "      <td>1.0</td>\n",
       "      <td>대지</td>\n",
       "      <td>1445.0</td>\n",
       "      <td>14.0</td>\n",
       "      <td>더？서초</td>\n",
       "      <td>...</td>\n",
       "      <td>38700</td>\n",
       "      <td>38.94</td>\n",
       "      <td>55.32</td>\n",
       "      <td>7.0</td>\n",
       "      <td>NaN</td>\n",
       "      <td>NaN</td>\n",
       "      <td>2006.0</td>\n",
       "      <td>오피스텔</td>\n",
       "      <td>직거래</td>\n",
       "      <td>NaN</td>\n",
       "    </tr>\n",
       "    <tr>\n",
       "      <th>28</th>\n",
       "      <td>2023</td>\n",
       "      <td>11650</td>\n",
       "      <td>서초구</td>\n",
       "      <td>10800</td>\n",
       "      <td>서초동</td>\n",
       "      <td>1.0</td>\n",
       "      <td>대지</td>\n",
       "      <td>1445.0</td>\n",
       "      <td>14.0</td>\n",
       "      <td>더？서초</td>\n",
       "      <td>...</td>\n",
       "      <td>38700</td>\n",
       "      <td>38.94</td>\n",
       "      <td>55.32</td>\n",
       "      <td>7.0</td>\n",
       "      <td>NaN</td>\n",
       "      <td>NaN</td>\n",
       "      <td>2006.0</td>\n",
       "      <td>오피스텔</td>\n",
       "      <td>직거래</td>\n",
       "      <td>NaN</td>\n",
       "    </tr>\n",
       "    <tr>\n",
       "      <th>39</th>\n",
       "      <td>2023</td>\n",
       "      <td>11650</td>\n",
       "      <td>서초구</td>\n",
       "      <td>10800</td>\n",
       "      <td>서초동</td>\n",
       "      <td>1.0</td>\n",
       "      <td>대지</td>\n",
       "      <td>1674.0</td>\n",
       "      <td>5.0</td>\n",
       "      <td>하림인터내셔날 오피스텔</td>\n",
       "      <td>...</td>\n",
       "      <td>29500</td>\n",
       "      <td>24.12</td>\n",
       "      <td>40.19</td>\n",
       "      <td>10.0</td>\n",
       "      <td>NaN</td>\n",
       "      <td>NaN</td>\n",
       "      <td>2013.0</td>\n",
       "      <td>오피스텔</td>\n",
       "      <td>중개거래</td>\n",
       "      <td>서울 서초구</td>\n",
       "    </tr>\n",
       "    <tr>\n",
       "      <th>57</th>\n",
       "      <td>2023</td>\n",
       "      <td>11650</td>\n",
       "      <td>서초구</td>\n",
       "      <td>10800</td>\n",
       "      <td>서초동</td>\n",
       "      <td>1.0</td>\n",
       "      <td>대지</td>\n",
       "      <td>1469.0</td>\n",
       "      <td>6.0</td>\n",
       "      <td>서초아트빌(1469)</td>\n",
       "      <td>...</td>\n",
       "      <td>70000</td>\n",
       "      <td>74.94</td>\n",
       "      <td>44.33</td>\n",
       "      <td>3.0</td>\n",
       "      <td>NaN</td>\n",
       "      <td>NaN</td>\n",
       "      <td>2002.0</td>\n",
       "      <td>연립다세대</td>\n",
       "      <td>중개거래</td>\n",
       "      <td>서울 서초구</td>\n",
       "    </tr>\n",
       "    <tr>\n",
       "      <th>77</th>\n",
       "      <td>2023</td>\n",
       "      <td>11650</td>\n",
       "      <td>서초구</td>\n",
       "      <td>10100</td>\n",
       "      <td>방배동</td>\n",
       "      <td>1.0</td>\n",
       "      <td>대지</td>\n",
       "      <td>822.0</td>\n",
       "      <td>22.0</td>\n",
       "      <td>데코아트빌9차</td>\n",
       "      <td>...</td>\n",
       "      <td>53000</td>\n",
       "      <td>26.50</td>\n",
       "      <td>18.20</td>\n",
       "      <td>3.0</td>\n",
       "      <td>NaN</td>\n",
       "      <td>NaN</td>\n",
       "      <td>2021.0</td>\n",
       "      <td>연립다세대</td>\n",
       "      <td>직거래</td>\n",
       "      <td>NaN</td>\n",
       "    </tr>\n",
       "  </tbody>\n",
       "</table>\n",
       "<p>5 rows × 21 columns</p>\n",
       "</div>"
      ],
      "text/plain": [
       "    접수연도  자치구코드 자치구명  법정동코드 법정동명  지번구분 지번구분명      본번    부번           건물명  ...  \\\n",
       "18  2023  11650  서초구  10800  서초동   1.0    대지  1445.0  14.0          더？서초  ...   \n",
       "28  2023  11650  서초구  10800  서초동   1.0    대지  1445.0  14.0          더？서초  ...   \n",
       "39  2023  11650  서초구  10800  서초동   1.0    대지  1674.0   5.0  하림인터내셔날 오피스텔  ...   \n",
       "57  2023  11650  서초구  10800  서초동   1.0    대지  1469.0   6.0   서초아트빌(1469)  ...   \n",
       "77  2023  11650  서초구  10100  방배동   1.0    대지   822.0  22.0       데코아트빌9차  ...   \n",
       "\n",
       "    물건금액(만원)  건물면적(㎡)  토지면적(㎡)     층  권리구분 취소일    건축년도   건물용도  신고구분  \\\n",
       "18     38700    38.94    55.32   7.0   NaN NaN  2006.0   오피스텔   직거래   \n",
       "28     38700    38.94    55.32   7.0   NaN NaN  2006.0   오피스텔   직거래   \n",
       "39     29500    24.12    40.19  10.0   NaN NaN  2013.0   오피스텔  중개거래   \n",
       "57     70000    74.94    44.33   3.0   NaN NaN  2002.0  연립다세대  중개거래   \n",
       "77     53000    26.50    18.20   3.0   NaN NaN  2021.0  연립다세대   직거래   \n",
       "\n",
       "   신고한 개업공인중개사 시군구명  \n",
       "18              NaN  \n",
       "28              NaN  \n",
       "39           서울 서초구  \n",
       "57           서울 서초구  \n",
       "77              NaN  \n",
       "\n",
       "[5 rows x 21 columns]"
      ]
     },
     "execution_count": 39,
     "metadata": {},
     "output_type": "execute_result"
    }
   ],
   "source": [
    "# 서초구의 데이터만 선택해서 df2생성\n",
    "df2 = df[df['자치구명'] == '서초구']\n",
    "df2.head()"
   ]
  },
  {
   "cell_type": "code",
   "execution_count": 40,
   "id": "efa74b27",
   "metadata": {},
   "outputs": [
    {
     "data": {
      "text/plain": [
       "array([2023, 2022, 2021, 2020, 2019, 2018, 2017, 2016, 2015, 2014, 2013,\n",
       "       2012, 2011, 2010, 2009, 2008, 2007, 2006], dtype=int16)"
      ]
     },
     "execution_count": 40,
     "metadata": {},
     "output_type": "execute_result"
    }
   ],
   "source": [
    "# unique()를 통해 데이터의 정보 확인\n",
    "df2['접수연도'].unique()"
   ]
  },
  {
   "cell_type": "code",
   "execution_count": 41,
   "id": "188f9d29",
   "metadata": {},
   "outputs": [
    {
     "data": {
      "text/plain": [
       "array(['오피스텔', '연립다세대', '아파트', '단독다가구'], dtype=object)"
      ]
     },
     "execution_count": 41,
     "metadata": {},
     "output_type": "execute_result"
    }
   ],
   "source": [
    "df2['건물용도'].unique()"
   ]
  },
  {
   "cell_type": "code",
   "execution_count": 42,
   "id": "f163136c",
   "metadata": {},
   "outputs": [],
   "source": [
    "apt_df2 = df2[df2['건물용도'] == '아파트']"
   ]
  },
  {
   "cell_type": "code",
   "execution_count": 43,
   "id": "f29fa25c",
   "metadata": {},
   "outputs": [
    {
     "data": {
      "text/plain": [
       "62884"
      ]
     },
     "execution_count": 43,
     "metadata": {},
     "output_type": "execute_result"
    }
   ],
   "source": [
    "# 서초구의 아파트 데이터 갯수는 62884\n",
    "len(apt_df2)"
   ]
  },
  {
   "cell_type": "code",
   "execution_count": 44,
   "id": "183d8e9f",
   "metadata": {},
   "outputs": [
    {
     "data": {
      "text/plain": [
       "2015    5814\n",
       "2006    5441\n",
       "2009    5406\n",
       "2016    5353\n",
       "2017    5253\n",
       "2014    5076\n",
       "2020    3767\n",
       "2018    3576\n",
       "2013    3228\n",
       "2010    3207\n",
       "2019    2959\n",
       "2011    2915\n",
       "2021    2569\n",
       "2022    2497\n",
       "2008    2028\n",
       "2012    1921\n",
       "2007    1757\n",
       "2023     117\n",
       "Name: 접수연도, dtype: int64"
      ]
     },
     "execution_count": 44,
     "metadata": {},
     "output_type": "execute_result"
    }
   ],
   "source": [
    "# 접수멸로 데이터는 몇개씩 있을까?\n",
    "apt_df2['접수연도'].value_counts()"
   ]
  },
  {
   "cell_type": "code",
   "execution_count": 47,
   "id": "77e3a7b2",
   "metadata": {},
   "outputs": [
    {
     "name": "stderr",
     "output_type": "stream",
     "text": [
      "C:\\Users\\chunc\\AppData\\Local\\Temp\\ipykernel_29404\\540764662.py:2: SettingWithCopyWarning: \n",
      "A value is trying to be set on a copy of a slice from a DataFrame\n",
      "\n",
      "See the caveats in the documentation: https://pandas.pydata.org/pandas-docs/stable/user_guide/indexing.html#returning-a-view-versus-a-copy\n",
      "  apt_df2.sort_values(by = '접수연도', inplace = True)\n"
     ]
    },
    {
     "data": {
      "text/html": [
       "<div>\n",
       "<style scoped>\n",
       "    .dataframe tbody tr th:only-of-type {\n",
       "        vertical-align: middle;\n",
       "    }\n",
       "\n",
       "    .dataframe tbody tr th {\n",
       "        vertical-align: top;\n",
       "    }\n",
       "\n",
       "    .dataframe thead th {\n",
       "        text-align: right;\n",
       "    }\n",
       "</style>\n",
       "<table border=\"1\" class=\"dataframe\">\n",
       "  <thead>\n",
       "    <tr style=\"text-align: right;\">\n",
       "      <th></th>\n",
       "      <th>접수연도</th>\n",
       "      <th>자치구코드</th>\n",
       "      <th>자치구명</th>\n",
       "      <th>법정동코드</th>\n",
       "      <th>법정동명</th>\n",
       "      <th>지번구분</th>\n",
       "      <th>지번구분명</th>\n",
       "      <th>본번</th>\n",
       "      <th>부번</th>\n",
       "      <th>건물명</th>\n",
       "      <th>...</th>\n",
       "      <th>물건금액(만원)</th>\n",
       "      <th>건물면적(㎡)</th>\n",
       "      <th>토지면적(㎡)</th>\n",
       "      <th>층</th>\n",
       "      <th>권리구분</th>\n",
       "      <th>취소일</th>\n",
       "      <th>건축년도</th>\n",
       "      <th>건물용도</th>\n",
       "      <th>신고구분</th>\n",
       "      <th>신고한 개업공인중개사 시군구명</th>\n",
       "    </tr>\n",
       "  </thead>\n",
       "  <tbody>\n",
       "    <tr>\n",
       "      <th>2646174</th>\n",
       "      <td>2006</td>\n",
       "      <td>11650</td>\n",
       "      <td>서초구</td>\n",
       "      <td>10600</td>\n",
       "      <td>잠원동</td>\n",
       "      <td>1.0</td>\n",
       "      <td>대지</td>\n",
       "      <td>73.0</td>\n",
       "      <td>0.0</td>\n",
       "      <td>신반포2</td>\n",
       "      <td>...</td>\n",
       "      <td>56700</td>\n",
       "      <td>79.42</td>\n",
       "      <td>NaN</td>\n",
       "      <td>4.0</td>\n",
       "      <td>NaN</td>\n",
       "      <td>NaN</td>\n",
       "      <td>1978.0</td>\n",
       "      <td>아파트</td>\n",
       "      <td>NaN</td>\n",
       "      <td>NaN</td>\n",
       "    </tr>\n",
       "    <tr>\n",
       "      <th>2510468</th>\n",
       "      <td>2006</td>\n",
       "      <td>11650</td>\n",
       "      <td>서초구</td>\n",
       "      <td>10600</td>\n",
       "      <td>잠원동</td>\n",
       "      <td>1.0</td>\n",
       "      <td>대지</td>\n",
       "      <td>67.0</td>\n",
       "      <td>2.0</td>\n",
       "      <td>브라운스톤잠원</td>\n",
       "      <td>...</td>\n",
       "      <td>90500</td>\n",
       "      <td>84.94</td>\n",
       "      <td>NaN</td>\n",
       "      <td>14.0</td>\n",
       "      <td>NaN</td>\n",
       "      <td>NaN</td>\n",
       "      <td>2003.0</td>\n",
       "      <td>아파트</td>\n",
       "      <td>NaN</td>\n",
       "      <td>NaN</td>\n",
       "    </tr>\n",
       "    <tr>\n",
       "      <th>2511185</th>\n",
       "      <td>2006</td>\n",
       "      <td>11650</td>\n",
       "      <td>서초구</td>\n",
       "      <td>10600</td>\n",
       "      <td>잠원동</td>\n",
       "      <td>1.0</td>\n",
       "      <td>대지</td>\n",
       "      <td>63.0</td>\n",
       "      <td>2.0</td>\n",
       "      <td>신반포청구</td>\n",
       "      <td>...</td>\n",
       "      <td>65000</td>\n",
       "      <td>59.91</td>\n",
       "      <td>NaN</td>\n",
       "      <td>15.0</td>\n",
       "      <td>NaN</td>\n",
       "      <td>NaN</td>\n",
       "      <td>1998.0</td>\n",
       "      <td>아파트</td>\n",
       "      <td>NaN</td>\n",
       "      <td>NaN</td>\n",
       "    </tr>\n",
       "    <tr>\n",
       "      <th>2494672</th>\n",
       "      <td>2006</td>\n",
       "      <td>11650</td>\n",
       "      <td>서초구</td>\n",
       "      <td>10600</td>\n",
       "      <td>잠원동</td>\n",
       "      <td>1.0</td>\n",
       "      <td>대지</td>\n",
       "      <td>60.0</td>\n",
       "      <td>7.0</td>\n",
       "      <td>녹원한신</td>\n",
       "      <td>...</td>\n",
       "      <td>81000</td>\n",
       "      <td>84.75</td>\n",
       "      <td>NaN</td>\n",
       "      <td>8.0</td>\n",
       "      <td>NaN</td>\n",
       "      <td>NaN</td>\n",
       "      <td>1995.0</td>\n",
       "      <td>아파트</td>\n",
       "      <td>NaN</td>\n",
       "      <td>NaN</td>\n",
       "    </tr>\n",
       "    <tr>\n",
       "      <th>2510538</th>\n",
       "      <td>2006</td>\n",
       "      <td>11650</td>\n",
       "      <td>서초구</td>\n",
       "      <td>10300</td>\n",
       "      <td>우면동</td>\n",
       "      <td>1.0</td>\n",
       "      <td>대지</td>\n",
       "      <td>59.0</td>\n",
       "      <td>0.0</td>\n",
       "      <td>동고</td>\n",
       "      <td>...</td>\n",
       "      <td>66500</td>\n",
       "      <td>84.96</td>\n",
       "      <td>NaN</td>\n",
       "      <td>3.0</td>\n",
       "      <td>NaN</td>\n",
       "      <td>NaN</td>\n",
       "      <td>1995.0</td>\n",
       "      <td>아파트</td>\n",
       "      <td>NaN</td>\n",
       "      <td>NaN</td>\n",
       "    </tr>\n",
       "    <tr>\n",
       "      <th>2510633</th>\n",
       "      <td>2006</td>\n",
       "      <td>11650</td>\n",
       "      <td>서초구</td>\n",
       "      <td>10800</td>\n",
       "      <td>서초동</td>\n",
       "      <td>1.0</td>\n",
       "      <td>대지</td>\n",
       "      <td>1336.0</td>\n",
       "      <td>0.0</td>\n",
       "      <td>우성1</td>\n",
       "      <td>...</td>\n",
       "      <td>85000</td>\n",
       "      <td>100.81</td>\n",
       "      <td>NaN</td>\n",
       "      <td>4.0</td>\n",
       "      <td>NaN</td>\n",
       "      <td>NaN</td>\n",
       "      <td>1979.0</td>\n",
       "      <td>아파트</td>\n",
       "      <td>NaN</td>\n",
       "      <td>NaN</td>\n",
       "    </tr>\n",
       "    <tr>\n",
       "      <th>2510663</th>\n",
       "      <td>2006</td>\n",
       "      <td>11650</td>\n",
       "      <td>서초구</td>\n",
       "      <td>10200</td>\n",
       "      <td>양재동</td>\n",
       "      <td>1.0</td>\n",
       "      <td>대지</td>\n",
       "      <td>154.0</td>\n",
       "      <td>2.0</td>\n",
       "      <td>우성</td>\n",
       "      <td>...</td>\n",
       "      <td>54500</td>\n",
       "      <td>73.15</td>\n",
       "      <td>NaN</td>\n",
       "      <td>8.0</td>\n",
       "      <td>NaN</td>\n",
       "      <td>NaN</td>\n",
       "      <td>1991.0</td>\n",
       "      <td>아파트</td>\n",
       "      <td>NaN</td>\n",
       "      <td>NaN</td>\n",
       "    </tr>\n",
       "    <tr>\n",
       "      <th>2510721</th>\n",
       "      <td>2006</td>\n",
       "      <td>11650</td>\n",
       "      <td>서초구</td>\n",
       "      <td>10100</td>\n",
       "      <td>방배동</td>\n",
       "      <td>1.0</td>\n",
       "      <td>대지</td>\n",
       "      <td>2626.0</td>\n",
       "      <td>0.0</td>\n",
       "      <td>삼성래미안1</td>\n",
       "      <td>...</td>\n",
       "      <td>46000</td>\n",
       "      <td>59.90</td>\n",
       "      <td>NaN</td>\n",
       "      <td>2.0</td>\n",
       "      <td>NaN</td>\n",
       "      <td>NaN</td>\n",
       "      <td>2003.0</td>\n",
       "      <td>아파트</td>\n",
       "      <td>NaN</td>\n",
       "      <td>NaN</td>\n",
       "    </tr>\n",
       "    <tr>\n",
       "      <th>2510731</th>\n",
       "      <td>2006</td>\n",
       "      <td>11650</td>\n",
       "      <td>서초구</td>\n",
       "      <td>10200</td>\n",
       "      <td>양재동</td>\n",
       "      <td>1.0</td>\n",
       "      <td>대지</td>\n",
       "      <td>154.0</td>\n",
       "      <td>2.0</td>\n",
       "      <td>우성</td>\n",
       "      <td>...</td>\n",
       "      <td>66000</td>\n",
       "      <td>84.58</td>\n",
       "      <td>NaN</td>\n",
       "      <td>9.0</td>\n",
       "      <td>NaN</td>\n",
       "      <td>NaN</td>\n",
       "      <td>1991.0</td>\n",
       "      <td>아파트</td>\n",
       "      <td>NaN</td>\n",
       "      <td>NaN</td>\n",
       "    </tr>\n",
       "    <tr>\n",
       "      <th>2510741</th>\n",
       "      <td>2006</td>\n",
       "      <td>11650</td>\n",
       "      <td>서초구</td>\n",
       "      <td>10800</td>\n",
       "      <td>서초동</td>\n",
       "      <td>1.0</td>\n",
       "      <td>대지</td>\n",
       "      <td>1472.0</td>\n",
       "      <td>21.0</td>\n",
       "      <td>새티스2</td>\n",
       "      <td>...</td>\n",
       "      <td>31500</td>\n",
       "      <td>75.60</td>\n",
       "      <td>NaN</td>\n",
       "      <td>5.0</td>\n",
       "      <td>NaN</td>\n",
       "      <td>NaN</td>\n",
       "      <td>2002.0</td>\n",
       "      <td>아파트</td>\n",
       "      <td>NaN</td>\n",
       "      <td>NaN</td>\n",
       "    </tr>\n",
       "  </tbody>\n",
       "</table>\n",
       "<p>10 rows × 21 columns</p>\n",
       "</div>"
      ],
      "text/plain": [
       "         접수연도  자치구코드 자치구명  법정동코드 법정동명  지번구분 지번구분명      본번    부번      건물명  ...  \\\n",
       "2646174  2006  11650  서초구  10600  잠원동   1.0    대지    73.0   0.0     신반포2  ...   \n",
       "2510468  2006  11650  서초구  10600  잠원동   1.0    대지    67.0   2.0  브라운스톤잠원  ...   \n",
       "2511185  2006  11650  서초구  10600  잠원동   1.0    대지    63.0   2.0    신반포청구  ...   \n",
       "2494672  2006  11650  서초구  10600  잠원동   1.0    대지    60.0   7.0     녹원한신  ...   \n",
       "2510538  2006  11650  서초구  10300  우면동   1.0    대지    59.0   0.0       동고  ...   \n",
       "2510633  2006  11650  서초구  10800  서초동   1.0    대지  1336.0   0.0      우성1  ...   \n",
       "2510663  2006  11650  서초구  10200  양재동   1.0    대지   154.0   2.0       우성  ...   \n",
       "2510721  2006  11650  서초구  10100  방배동   1.0    대지  2626.0   0.0   삼성래미안1  ...   \n",
       "2510731  2006  11650  서초구  10200  양재동   1.0    대지   154.0   2.0       우성  ...   \n",
       "2510741  2006  11650  서초구  10800  서초동   1.0    대지  1472.0  21.0     새티스2  ...   \n",
       "\n",
       "         물건금액(만원)  건물면적(㎡)  토지면적(㎡)     층  권리구분 취소일    건축년도  건물용도 신고구분  \\\n",
       "2646174     56700    79.42      NaN   4.0   NaN NaN  1978.0   아파트  NaN   \n",
       "2510468     90500    84.94      NaN  14.0   NaN NaN  2003.0   아파트  NaN   \n",
       "2511185     65000    59.91      NaN  15.0   NaN NaN  1998.0   아파트  NaN   \n",
       "2494672     81000    84.75      NaN   8.0   NaN NaN  1995.0   아파트  NaN   \n",
       "2510538     66500    84.96      NaN   3.0   NaN NaN  1995.0   아파트  NaN   \n",
       "2510633     85000   100.81      NaN   4.0   NaN NaN  1979.0   아파트  NaN   \n",
       "2510663     54500    73.15      NaN   8.0   NaN NaN  1991.0   아파트  NaN   \n",
       "2510721     46000    59.90      NaN   2.0   NaN NaN  2003.0   아파트  NaN   \n",
       "2510731     66000    84.58      NaN   9.0   NaN NaN  1991.0   아파트  NaN   \n",
       "2510741     31500    75.60      NaN   5.0   NaN NaN  2002.0   아파트  NaN   \n",
       "\n",
       "        신고한 개업공인중개사 시군구명  \n",
       "2646174              NaN  \n",
       "2510468              NaN  \n",
       "2511185              NaN  \n",
       "2494672              NaN  \n",
       "2510538              NaN  \n",
       "2510633              NaN  \n",
       "2510663              NaN  \n",
       "2510721              NaN  \n",
       "2510731              NaN  \n",
       "2510741              NaN  \n",
       "\n",
       "[10 rows x 21 columns]"
      ]
     },
     "execution_count": 47,
     "metadata": {},
     "output_type": "execute_result"
    }
   ],
   "source": [
    "# 접수연도별로 정렿\n",
    "apt_df2.sort_values(by = '접수연도', inplace = True)\n",
    "apt_df2.head(10)"
   ]
  },
  {
   "cell_type": "code",
   "execution_count": 48,
   "id": "b8b7f02c",
   "metadata": {},
   "outputs": [
    {
     "data": {
      "text/html": [
       "<div>\n",
       "<style scoped>\n",
       "    .dataframe tbody tr th:only-of-type {\n",
       "        vertical-align: middle;\n",
       "    }\n",
       "\n",
       "    .dataframe tbody tr th {\n",
       "        vertical-align: top;\n",
       "    }\n",
       "\n",
       "    .dataframe thead th {\n",
       "        text-align: right;\n",
       "    }\n",
       "</style>\n",
       "<table border=\"1\" class=\"dataframe\">\n",
       "  <thead>\n",
       "    <tr style=\"text-align: right;\">\n",
       "      <th></th>\n",
       "      <th>접수연도</th>\n",
       "      <th>자치구코드</th>\n",
       "      <th>자치구명</th>\n",
       "      <th>법정동코드</th>\n",
       "      <th>법정동명</th>\n",
       "      <th>지번구분</th>\n",
       "      <th>지번구분명</th>\n",
       "      <th>본번</th>\n",
       "      <th>부번</th>\n",
       "      <th>건물명</th>\n",
       "      <th>...</th>\n",
       "      <th>물건금액(만원)</th>\n",
       "      <th>건물면적(㎡)</th>\n",
       "      <th>토지면적(㎡)</th>\n",
       "      <th>층</th>\n",
       "      <th>권리구분</th>\n",
       "      <th>취소일</th>\n",
       "      <th>건축년도</th>\n",
       "      <th>건물용도</th>\n",
       "      <th>신고구분</th>\n",
       "      <th>신고한 개업공인중개사 시군구명</th>\n",
       "    </tr>\n",
       "  </thead>\n",
       "  <tbody>\n",
       "    <tr>\n",
       "      <th>2331049</th>\n",
       "      <td>2007</td>\n",
       "      <td>11650</td>\n",
       "      <td>서초구</td>\n",
       "      <td>10700</td>\n",
       "      <td>반포동</td>\n",
       "      <td>1.0</td>\n",
       "      <td>대지</td>\n",
       "      <td>20.0</td>\n",
       "      <td>43.0</td>\n",
       "      <td>반포자이</td>\n",
       "      <td>...</td>\n",
       "      <td>256500</td>\n",
       "      <td>244.54</td>\n",
       "      <td>0.0</td>\n",
       "      <td>12.0</td>\n",
       "      <td>입주권</td>\n",
       "      <td>NaN</td>\n",
       "      <td>0.0</td>\n",
       "      <td>아파트</td>\n",
       "      <td>NaN</td>\n",
       "      <td>NaN</td>\n",
       "    </tr>\n",
       "    <tr>\n",
       "      <th>2351312</th>\n",
       "      <td>2007</td>\n",
       "      <td>11650</td>\n",
       "      <td>서초구</td>\n",
       "      <td>10700</td>\n",
       "      <td>반포동</td>\n",
       "      <td>1.0</td>\n",
       "      <td>대지</td>\n",
       "      <td>20.0</td>\n",
       "      <td>43.0</td>\n",
       "      <td>반포자이</td>\n",
       "      <td>...</td>\n",
       "      <td>277500</td>\n",
       "      <td>244.97</td>\n",
       "      <td>0.0</td>\n",
       "      <td>24.0</td>\n",
       "      <td>입주권</td>\n",
       "      <td>NaN</td>\n",
       "      <td>0.0</td>\n",
       "      <td>아파트</td>\n",
       "      <td>NaN</td>\n",
       "      <td>NaN</td>\n",
       "    </tr>\n",
       "    <tr>\n",
       "      <th>2337548</th>\n",
       "      <td>2007</td>\n",
       "      <td>11650</td>\n",
       "      <td>서초구</td>\n",
       "      <td>10700</td>\n",
       "      <td>반포동</td>\n",
       "      <td>1.0</td>\n",
       "      <td>대지</td>\n",
       "      <td>20.0</td>\n",
       "      <td>43.0</td>\n",
       "      <td>반포자이</td>\n",
       "      <td>...</td>\n",
       "      <td>122000</td>\n",
       "      <td>84.94</td>\n",
       "      <td>0.0</td>\n",
       "      <td>15.0</td>\n",
       "      <td>입주권</td>\n",
       "      <td>NaN</td>\n",
       "      <td>0.0</td>\n",
       "      <td>아파트</td>\n",
       "      <td>NaN</td>\n",
       "      <td>NaN</td>\n",
       "    </tr>\n",
       "    <tr>\n",
       "      <th>2339170</th>\n",
       "      <td>2007</td>\n",
       "      <td>11650</td>\n",
       "      <td>서초구</td>\n",
       "      <td>10700</td>\n",
       "      <td>반포동</td>\n",
       "      <td>1.0</td>\n",
       "      <td>대지</td>\n",
       "      <td>20.0</td>\n",
       "      <td>43.0</td>\n",
       "      <td>반포자이</td>\n",
       "      <td>...</td>\n",
       "      <td>281383</td>\n",
       "      <td>194.52</td>\n",
       "      <td>0.0</td>\n",
       "      <td>20.0</td>\n",
       "      <td>입주권</td>\n",
       "      <td>NaN</td>\n",
       "      <td>0.0</td>\n",
       "      <td>아파트</td>\n",
       "      <td>NaN</td>\n",
       "      <td>NaN</td>\n",
       "    </tr>\n",
       "    <tr>\n",
       "      <th>2306102</th>\n",
       "      <td>2007</td>\n",
       "      <td>11650</td>\n",
       "      <td>서초구</td>\n",
       "      <td>10700</td>\n",
       "      <td>반포동</td>\n",
       "      <td>1.0</td>\n",
       "      <td>대지</td>\n",
       "      <td>20.0</td>\n",
       "      <td>43.0</td>\n",
       "      <td>반포자이</td>\n",
       "      <td>...</td>\n",
       "      <td>225000</td>\n",
       "      <td>194.52</td>\n",
       "      <td>0.0</td>\n",
       "      <td>7.0</td>\n",
       "      <td>입주권</td>\n",
       "      <td>NaN</td>\n",
       "      <td>0.0</td>\n",
       "      <td>아파트</td>\n",
       "      <td>NaN</td>\n",
       "      <td>NaN</td>\n",
       "    </tr>\n",
       "  </tbody>\n",
       "</table>\n",
       "<p>5 rows × 21 columns</p>\n",
       "</div>"
      ],
      "text/plain": [
       "         접수연도  자치구코드 자치구명  법정동코드 법정동명  지번구분 지번구분명    본번    부번   건물명  ...  \\\n",
       "2331049  2007  11650  서초구  10700  반포동   1.0    대지  20.0  43.0  반포자이  ...   \n",
       "2351312  2007  11650  서초구  10700  반포동   1.0    대지  20.0  43.0  반포자이  ...   \n",
       "2337548  2007  11650  서초구  10700  반포동   1.0    대지  20.0  43.0  반포자이  ...   \n",
       "2339170  2007  11650  서초구  10700  반포동   1.0    대지  20.0  43.0  반포자이  ...   \n",
       "2306102  2007  11650  서초구  10700  반포동   1.0    대지  20.0  43.0  반포자이  ...   \n",
       "\n",
       "         물건금액(만원)  건물면적(㎡)  토지면적(㎡)     층  권리구분 취소일  건축년도  건물용도 신고구분  \\\n",
       "2331049    256500   244.54      0.0  12.0   입주권 NaN   0.0   아파트  NaN   \n",
       "2351312    277500   244.97      0.0  24.0   입주권 NaN   0.0   아파트  NaN   \n",
       "2337548    122000    84.94      0.0  15.0   입주권 NaN   0.0   아파트  NaN   \n",
       "2339170    281383   194.52      0.0  20.0   입주권 NaN   0.0   아파트  NaN   \n",
       "2306102    225000   194.52      0.0   7.0   입주권 NaN   0.0   아파트  NaN   \n",
       "\n",
       "        신고한 개업공인중개사 시군구명  \n",
       "2331049              NaN  \n",
       "2351312              NaN  \n",
       "2337548              NaN  \n",
       "2339170              NaN  \n",
       "2306102              NaN  \n",
       "\n",
       "[5 rows x 21 columns]"
      ]
     },
     "execution_count": 48,
     "metadata": {},
     "output_type": "execute_result"
    }
   ],
   "source": [
    "# 반포자이의 데이터 추출\n",
    "apt_xi_df2 = apt_df2[apt_df2['건물명'] == '반포자이']\n",
    "apt_xi_df2.head()"
   ]
  },
  {
   "cell_type": "code",
   "execution_count": 49,
   "id": "2b722251",
   "metadata": {},
   "outputs": [
    {
     "data": {
      "text/plain": [
       "array([nan, '중개거래'], dtype=object)"
      ]
     },
     "execution_count": 49,
     "metadata": {},
     "output_type": "execute_result"
    }
   ],
   "source": [
    "# apt_xi_df2 데이터프레임의 결측치 데이터를 해결\n",
    "apt_xi_df2['신고구분'].unique()"
   ]
  },
  {
   "cell_type": "code",
   "execution_count": 50,
   "id": "4fba3be6",
   "metadata": {},
   "outputs": [
    {
     "data": {
      "text/plain": [
       "입주권    80\n",
       "분양권     2\n",
       "Name: 권리구분, dtype: int64"
      ]
     },
     "execution_count": 50,
     "metadata": {},
     "output_type": "execute_result"
    }
   ],
   "source": [
    "# '신고구분'에 NaN값인 경우 '권리구분'이 모두 입주권인가?\n",
    "temp_df = apt_xi_df2[apt_xi_df2['신고구분'].isnull()]\n",
    "temp_df['권리구분'].value_counts()"
   ]
  },
  {
   "cell_type": "markdown",
   "id": "861a64ce",
   "metadata": {},
   "source": [
    "답: No, 신고구분이 'Nan'이어도 권리구분은 입주권과 분양권이 나뉜다."
   ]
  },
  {
   "cell_type": "code",
   "execution_count": 51,
   "id": "e627b3dc",
   "metadata": {},
   "outputs": [
    {
     "data": {
      "text/plain": [
       "중개거래    77\n",
       "Name: 신고구분, dtype: int64"
      ]
     },
     "execution_count": 51,
     "metadata": {},
     "output_type": "execute_result"
    }
   ],
   "source": [
    "# '권리구분'이 NaN인 경우 모두 중개거래인가?\n",
    "temp_df1 = apt_xi_df2[apt_xi_df2['권리구분'].isnull()]\n",
    "temp_df1['신고구분'].value_counts()"
   ]
  },
  {
   "cell_type": "markdown",
   "id": "6c395ffa",
   "metadata": {},
   "source": [
    "답: Yes, 권리구분이 NaN인 경우 모두 중개거래이다."
   ]
  },
  {
   "cell_type": "code",
   "execution_count": 52,
   "id": "5c3f1be3",
   "metadata": {},
   "outputs": [
    {
     "name": "stdout",
     "output_type": "stream",
     "text": [
      "77\n",
      "77\n"
     ]
    }
   ],
   "source": [
    "temp1_df = apt_xi_df2[apt_xi_df2['신고구분'] == '중개거래']\n",
    "print(temp1_df['권리구분'].isnull().count())\n",
    "print(len(temp1_df))"
   ]
  },
  {
   "cell_type": "markdown",
   "id": "27ba9aa5",
   "metadata": {},
   "source": [
    "신고구분이 중개거래인 경우 권리구분은 모두 NaN값이고 그 반대도 동일한 것으로 보아 신고구분과 권리구분은 유사한 특징이라 판단된다."
   ]
  },
  {
   "cell_type": "code",
   "execution_count": 53,
   "id": "b7bf1321",
   "metadata": {},
   "outputs": [
    {
     "data": {
      "text/html": [
       "<div>\n",
       "<style scoped>\n",
       "    .dataframe tbody tr th:only-of-type {\n",
       "        vertical-align: middle;\n",
       "    }\n",
       "\n",
       "    .dataframe tbody tr th {\n",
       "        vertical-align: top;\n",
       "    }\n",
       "\n",
       "    .dataframe thead th {\n",
       "        text-align: right;\n",
       "    }\n",
       "</style>\n",
       "<table border=\"1\" class=\"dataframe\">\n",
       "  <thead>\n",
       "    <tr style=\"text-align: right;\">\n",
       "      <th></th>\n",
       "      <th>접수연도</th>\n",
       "      <th>자치구코드</th>\n",
       "      <th>자치구명</th>\n",
       "      <th>법정동코드</th>\n",
       "      <th>법정동명</th>\n",
       "      <th>지번구분</th>\n",
       "      <th>지번구분명</th>\n",
       "      <th>본번</th>\n",
       "      <th>부번</th>\n",
       "      <th>건물명</th>\n",
       "      <th>...</th>\n",
       "      <th>물건금액(만원)</th>\n",
       "      <th>건물면적(㎡)</th>\n",
       "      <th>토지면적(㎡)</th>\n",
       "      <th>층</th>\n",
       "      <th>권리구분</th>\n",
       "      <th>취소일</th>\n",
       "      <th>건축년도</th>\n",
       "      <th>건물용도</th>\n",
       "      <th>신고구분</th>\n",
       "      <th>신고한 개업공인중개사 시군구명</th>\n",
       "    </tr>\n",
       "  </thead>\n",
       "  <tbody>\n",
       "    <tr>\n",
       "      <th>430107</th>\n",
       "      <td>2020</td>\n",
       "      <td>11650</td>\n",
       "      <td>서초구</td>\n",
       "      <td>10700</td>\n",
       "      <td>반포동</td>\n",
       "      <td>1.0</td>\n",
       "      <td>대지</td>\n",
       "      <td>0020</td>\n",
       "      <td>43.0</td>\n",
       "      <td>반포자이</td>\n",
       "      <td>...</td>\n",
       "      <td>400000</td>\n",
       "      <td>194.52</td>\n",
       "      <td>NaN</td>\n",
       "      <td>18.0</td>\n",
       "      <td>NaN</td>\n",
       "      <td>20201110.0</td>\n",
       "      <td>2009.0</td>\n",
       "      <td>아파트</td>\n",
       "      <td>NaN</td>\n",
       "      <td>NaN</td>\n",
       "    </tr>\n",
       "    <tr>\n",
       "      <th>427784</th>\n",
       "      <td>2020</td>\n",
       "      <td>11650</td>\n",
       "      <td>서초구</td>\n",
       "      <td>10700</td>\n",
       "      <td>반포동</td>\n",
       "      <td>1.0</td>\n",
       "      <td>대지</td>\n",
       "      <td>0020</td>\n",
       "      <td>43.0</td>\n",
       "      <td>반포자이</td>\n",
       "      <td>...</td>\n",
       "      <td>405000</td>\n",
       "      <td>244.54</td>\n",
       "      <td>NaN</td>\n",
       "      <td>6.0</td>\n",
       "      <td>NaN</td>\n",
       "      <td>20200910.0</td>\n",
       "      <td>2009.0</td>\n",
       "      <td>아파트</td>\n",
       "      <td>NaN</td>\n",
       "      <td>NaN</td>\n",
       "    </tr>\n",
       "    <tr>\n",
       "      <th>377984</th>\n",
       "      <td>2020</td>\n",
       "      <td>11650</td>\n",
       "      <td>서초구</td>\n",
       "      <td>10700</td>\n",
       "      <td>반포동</td>\n",
       "      <td>1.0</td>\n",
       "      <td>대지</td>\n",
       "      <td>20.0</td>\n",
       "      <td>43.0</td>\n",
       "      <td>반포자이</td>\n",
       "      <td>...</td>\n",
       "      <td>270000</td>\n",
       "      <td>84.94</td>\n",
       "      <td>NaN</td>\n",
       "      <td>16.0</td>\n",
       "      <td>NaN</td>\n",
       "      <td>20201221.0</td>\n",
       "      <td>2009.0</td>\n",
       "      <td>아파트</td>\n",
       "      <td>NaN</td>\n",
       "      <td>NaN</td>\n",
       "    </tr>\n",
       "    <tr>\n",
       "      <th>459462</th>\n",
       "      <td>2020</td>\n",
       "      <td>11650</td>\n",
       "      <td>서초구</td>\n",
       "      <td>10700</td>\n",
       "      <td>반포동</td>\n",
       "      <td>1.0</td>\n",
       "      <td>대지</td>\n",
       "      <td>0020</td>\n",
       "      <td>43.0</td>\n",
       "      <td>반포자이</td>\n",
       "      <td>...</td>\n",
       "      <td>362000</td>\n",
       "      <td>165.05</td>\n",
       "      <td>NaN</td>\n",
       "      <td>5.0</td>\n",
       "      <td>NaN</td>\n",
       "      <td>20200730.0</td>\n",
       "      <td>2009.0</td>\n",
       "      <td>아파트</td>\n",
       "      <td>NaN</td>\n",
       "      <td>NaN</td>\n",
       "    </tr>\n",
       "    <tr>\n",
       "      <th>359579</th>\n",
       "      <td>2021</td>\n",
       "      <td>11650</td>\n",
       "      <td>서초구</td>\n",
       "      <td>10700</td>\n",
       "      <td>반포동</td>\n",
       "      <td>1.0</td>\n",
       "      <td>대지</td>\n",
       "      <td>20.0</td>\n",
       "      <td>43.0</td>\n",
       "      <td>반포자이</td>\n",
       "      <td>...</td>\n",
       "      <td>300000</td>\n",
       "      <td>85.00</td>\n",
       "      <td>0.0</td>\n",
       "      <td>5.0</td>\n",
       "      <td>NaN</td>\n",
       "      <td>20210517.0</td>\n",
       "      <td>2009.0</td>\n",
       "      <td>아파트</td>\n",
       "      <td>NaN</td>\n",
       "      <td>NaN</td>\n",
       "    </tr>\n",
       "    <tr>\n",
       "      <th>351774</th>\n",
       "      <td>2021</td>\n",
       "      <td>11650</td>\n",
       "      <td>서초구</td>\n",
       "      <td>10700</td>\n",
       "      <td>반포동</td>\n",
       "      <td>1.0</td>\n",
       "      <td>대지</td>\n",
       "      <td>20.0</td>\n",
       "      <td>43.0</td>\n",
       "      <td>반포자이</td>\n",
       "      <td>...</td>\n",
       "      <td>275000</td>\n",
       "      <td>85.00</td>\n",
       "      <td>0.0</td>\n",
       "      <td>6.0</td>\n",
       "      <td>NaN</td>\n",
       "      <td>20210319.0</td>\n",
       "      <td>2009.0</td>\n",
       "      <td>아파트</td>\n",
       "      <td>NaN</td>\n",
       "      <td>NaN</td>\n",
       "    </tr>\n",
       "    <tr>\n",
       "      <th>13987</th>\n",
       "      <td>2022</td>\n",
       "      <td>11650</td>\n",
       "      <td>서초구</td>\n",
       "      <td>10700</td>\n",
       "      <td>반포동</td>\n",
       "      <td>1.0</td>\n",
       "      <td>대지</td>\n",
       "      <td>20.0</td>\n",
       "      <td>43.0</td>\n",
       "      <td>반포자이</td>\n",
       "      <td>...</td>\n",
       "      <td>530000</td>\n",
       "      <td>194.52</td>\n",
       "      <td>0.0</td>\n",
       "      <td>17.0</td>\n",
       "      <td>NaN</td>\n",
       "      <td>20230228.0</td>\n",
       "      <td>2009.0</td>\n",
       "      <td>아파트</td>\n",
       "      <td>중개거래</td>\n",
       "      <td>서울 서초구</td>\n",
       "    </tr>\n",
       "  </tbody>\n",
       "</table>\n",
       "<p>7 rows × 21 columns</p>\n",
       "</div>"
      ],
      "text/plain": [
       "        접수연도  자치구코드 자치구명  법정동코드 법정동명  지번구분 지번구분명    본번    부번   건물명  ...  \\\n",
       "430107  2020  11650  서초구  10700  반포동   1.0    대지  0020  43.0  반포자이  ...   \n",
       "427784  2020  11650  서초구  10700  반포동   1.0    대지  0020  43.0  반포자이  ...   \n",
       "377984  2020  11650  서초구  10700  반포동   1.0    대지  20.0  43.0  반포자이  ...   \n",
       "459462  2020  11650  서초구  10700  반포동   1.0    대지  0020  43.0  반포자이  ...   \n",
       "359579  2021  11650  서초구  10700  반포동   1.0    대지  20.0  43.0  반포자이  ...   \n",
       "351774  2021  11650  서초구  10700  반포동   1.0    대지  20.0  43.0  반포자이  ...   \n",
       "13987   2022  11650  서초구  10700  반포동   1.0    대지  20.0  43.0  반포자이  ...   \n",
       "\n",
       "        물건금액(만원)  건물면적(㎡)  토지면적(㎡)     층  권리구분         취소일    건축년도  건물용도  \\\n",
       "430107    400000   194.52      NaN  18.0   NaN  20201110.0  2009.0   아파트   \n",
       "427784    405000   244.54      NaN   6.0   NaN  20200910.0  2009.0   아파트   \n",
       "377984    270000    84.94      NaN  16.0   NaN  20201221.0  2009.0   아파트   \n",
       "459462    362000   165.05      NaN   5.0   NaN  20200730.0  2009.0   아파트   \n",
       "359579    300000    85.00      0.0   5.0   NaN  20210517.0  2009.0   아파트   \n",
       "351774    275000    85.00      0.0   6.0   NaN  20210319.0  2009.0   아파트   \n",
       "13987     530000   194.52      0.0  17.0   NaN  20230228.0  2009.0   아파트   \n",
       "\n",
       "        신고구분 신고한 개업공인중개사 시군구명  \n",
       "430107   NaN              NaN  \n",
       "427784   NaN              NaN  \n",
       "377984   NaN              NaN  \n",
       "459462   NaN              NaN  \n",
       "359579   NaN              NaN  \n",
       "351774   NaN              NaN  \n",
       "13987   중개거래           서울 서초구  \n",
       "\n",
       "[7 rows x 21 columns]"
      ]
     },
     "execution_count": 53,
     "metadata": {},
     "output_type": "execute_result"
    }
   ],
   "source": [
    "# 취소일의 데이터 확인\n",
    "apt_xi_df2[apt_xi_df2['취소일'].notnull() == True]"
   ]
  },
  {
   "cell_type": "code",
   "execution_count": 54,
   "id": "12e96a8d",
   "metadata": {},
   "outputs": [
    {
     "data": {
      "text/plain": [
       "입주권    80\n",
       "분양권     2\n",
       "Name: 권리구분, dtype: int64"
      ]
     },
     "execution_count": 54,
     "metadata": {},
     "output_type": "execute_result"
    }
   ],
   "source": [
    "# '신고한 개업공인중개사 시군구명'이 NaN인 경우 모두 '권리구분'이 입주권인가?\n",
    "temp_df2 = apt_xi_df2[apt_xi_df2['신고한 개업공인중개사 시군구명'].isnull()]\n",
    "temp_df2['권리구분'].value_counts()"
   ]
  },
  {
   "cell_type": "markdown",
   "id": "3d143d6b",
   "metadata": {},
   "source": [
    "답: No, '신고한 개업공인중개사 시군구명'이 NaN인 경우도 입주권과 분양권 둘로 나뉜다."
   ]
  },
  {
   "cell_type": "markdown",
   "id": "0225a212",
   "metadata": {},
   "source": [
    "# 4. SQL의 기초"
   ]
  },
  {
   "cell_type": "markdown",
   "id": "f61d95dd",
   "metadata": {},
   "source": [
    "## 데이터베이스"
   ]
  },
  {
   "cell_type": "markdown",
   "id": "8a014e3a",
   "metadata": {},
   "source": [
    "* 데이터베이스란, 데이터의 집합을 의미한다."
   ]
  },
  {
   "cell_type": "markdown",
   "id": "4c9d1bd1",
   "metadata": {},
   "source": [
    "## DBMS"
   ]
  },
  {
   "cell_type": "markdown",
   "id": "9c31d869",
   "metadata": {},
   "source": [
    "* 데이터베이스를 관리하고 운영하는 소프트웨어를 뜻한다."
   ]
  },
  {
   "cell_type": "markdown",
   "id": "91707afd",
   "metadata": {},
   "source": [
    "## DBMS 종류"
   ]
  },
  {
   "cell_type": "markdown",
   "id": "4d4bc6e1",
   "metadata": {},
   "source": [
    "|  DBMS | 제작사  | 작동 운영체제  | 최신버전  | 기타  |\n",
    "|---|---|---|---|---|\n",
    "| MySQL  | Oracle  | Unix, Linux, Windows, Mac  | 8.0   | 오픈 소스(무료), 상용  |\n",
    "| MariaDB  | MariaDB   |  Unix, Linux, Windows | 10.6  | 오픈 소스(무료), MySQL 초기 개발자들이 독립해서 만듦 |\n",
    "| PostgreSQL | PostgreSQL  | Unix, Linux, Windows, Mac  | 12  | 오픈 소스(무료)  |\n",
    "|  Oracle | Oracle |  Unix, Linux, Windows |  18c | 상용 시장 점유율 1위  |\n",
    "|  SQL Server |  Microsoft | Windows  | 2019 | 주로 중/대형급 시장에서 사용 |\n",
    "| DB2 | IBM  | Unix, Linux, Windows  |  11 |  메인프레임 시장 점유율 1위 |\n",
    "| Access  | Microsoft | Windows  | 2019 | PC용  |\n",
    "| SQLite  | SQLite  |  Android, iOS | 3  | 모바일 전용, 오픈 소스(무료) |"
   ]
  },
  {
   "cell_type": "markdown",
   "id": "2160c24f",
   "metadata": {},
   "source": [
    "## DBMS의 발전과정"
   ]
  },
  {
   "cell_type": "markdown",
   "id": "d8a5a12a",
   "metadata": {},
   "source": [
    "### 1. 종이에 펜으로 기록\n",
    "* 컴퓨터가 없었던 시기 수기로 정보 작성"
   ]
  },
  {
   "cell_type": "markdown",
   "id": "7146dbfa",
   "metadata": {},
   "source": [
    "### 2. 컴퓨터에 파일로 저장\n",
    "* 엑셀과 같은 스프레드 시트를 활용하여 정보를 관리\n",
    "* 기록된 내용을 **파일**의 형태로 저장하여 필요할 때마다 열어서 사용\n",
    "* 엑셀은 저장파일을 한번에 한명의 사용자만 열어서 작업할 수 있음\n",
    "* 데이터의 양이 많은경우, 여러 명이 각자의 파일을 만들어서 작업하게 되는 번거로움 발생\n",
    "* 데이터 중복, 누락 등의 문제가 발생"
   ]
  },
  {
   "cell_type": "markdown",
   "id": "8a67d84e",
   "metadata": {},
   "source": [
    "### 3. DBMS의 대두와 보급\n",
    "* 파일의 단점을 보완하면서 대량의 데이터를 효율적으로 관리하고 운영하기 위해서 등장"
   ]
  },
  {
   "cell_type": "markdown",
   "id": "107b942a",
   "metadata": {},
   "source": [
    "## DBMS의 분류"
   ]
  },
  {
   "cell_type": "markdown",
   "id": "de415e1e",
   "metadata": {},
   "source": [
    "* 대표적으로 계층형, 망형, 관계형, 객체지향형, 객체관계형등으로 분류"
   ]
  },
  {
   "cell_type": "markdown",
   "id": "b71e7d16",
   "metadata": {},
   "source": [
    "### 관계형 DBMS"
   ]
  },
  {
   "cell_type": "markdown",
   "id": "c81c2601",
   "metadata": {},
   "source": [
    "* RDBMS라고 부른다.\n",
    "* 테이블이라는 최소단위로 구성, 테이블은 하나 이상의 열과 행으로 이루어져 있다.\n",
    "* SQL은 관계형 데이터베이스에서 사용되는 언어, '씨퀄'이라고도 읽는다.\n",
    "* SQL은 데이터베이스를 구축, 관리하고 활용하기 위해 사용한다."
   ]
  },
  {
   "cell_type": "code",
   "execution_count": null,
   "id": "5d653858",
   "metadata": {},
   "outputs": [],
   "source": []
  }
 ],
 "metadata": {
  "kernelspec": {
   "display_name": "Python 3 (ipykernel)",
   "language": "python",
   "name": "python3"
  },
  "language_info": {
   "codemirror_mode": {
    "name": "ipython",
    "version": 3
   },
   "file_extension": ".py",
   "mimetype": "text/x-python",
   "name": "python",
   "nbconvert_exporter": "python",
   "pygments_lexer": "ipython3",
   "version": "3.8.16"
  }
 },
 "nbformat": 4,
 "nbformat_minor": 5
}
