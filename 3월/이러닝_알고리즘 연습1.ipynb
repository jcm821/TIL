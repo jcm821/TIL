{
 "cells": [
  {
   "cell_type": "markdown",
   "id": "38fb1be1",
   "metadata": {},
   "source": [
    "## 스택 자료구조와 큐 자료구조"
   ]
  },
  {
   "cell_type": "code",
   "execution_count": 1,
   "id": "4729628a",
   "metadata": {},
   "outputs": [
    {
     "name": "stdout",
     "output_type": "stream",
     "text": [
      "[1, 3, 2, 5]\n",
      "[5, 2, 3, 1]\n"
     ]
    }
   ],
   "source": [
    "# 1. 스텍 자료구조\n",
    "stack = []\n",
    "# 삽입(5) - 삽입(2) - 삽입(3) - 삽입(7) - 삭제() - 삽입(1) - 삽입(4) - 삭제()\n",
    "stack.append(5)\n",
    "stack.append(2)\n",
    "stack.append(3)\n",
    "stack.append(7)\n",
    "stack.pop()\n",
    "stack.append(1)\n",
    "stack.append(4)\n",
    "stack.pop()\n",
    "print(stack[::-1])\n",
    "print(stack)"
   ]
  },
  {
   "cell_type": "code",
   "execution_count": 2,
   "id": "d97c1c72",
   "metadata": {},
   "outputs": [
    {
     "name": "stdout",
     "output_type": "stream",
     "text": [
      "deque([3, 7, 1, 4])\n",
      "deque([4, 1, 7, 3])\n"
     ]
    }
   ],
   "source": [
    "# 2. 큐 자료구조\n",
    "from collections import deque\n",
    "# 큐(Queue)구현을 위해 deque 라이브러리 사용\n",
    "queue = deque()\n",
    "\n",
    "# 삽입(5) - 삽입(2) - 삽입(3) - 삽입(7) - 삭제() - 삽입(1) - 삽입(4) - 삭제()\n",
    "queue.append(5)\n",
    "queue.append(2)\n",
    "queue.append(3)\n",
    "queue.append(7)\n",
    "queue.popleft()\n",
    "queue.append(1)\n",
    "queue.append(4)\n",
    "queue.popleft()\n",
    "# 먼저 들어온 형태로 출력\n",
    "print(queue)\n",
    "# 역순으로 바꾸기\n",
    "queue.reverse()\n",
    "print(queue)"
   ]
  },
  {
   "cell_type": "markdown",
   "id": "6d76e143",
   "metadata": {},
   "source": [
    "## 우선순위 큐 라이브러리를 활용한 힙 정렬 구현 예제"
   ]
  },
  {
   "cell_type": "code",
   "execution_count": 3,
   "id": "a510aa74",
   "metadata": {},
   "outputs": [
    {
     "name": "stdout",
     "output_type": "stream",
     "text": [
      "[0, 1, 2, 3, 4, 5, 6, 7, 8, 9]\n"
     ]
    }
   ],
   "source": [
    "# 우선순위 큐라이브러리를 활용한 힙 정렬 구현 예제\n",
    "import sys\n",
    "import heapq\n",
    "input = sys.stdin.readline\n",
    "\n",
    "def heapsort(iterable):\n",
    "    h = []\n",
    "    result = []\n",
    "    # 모든 원소를 차례대로 힙에 삽입\n",
    "    for value in iterable:\n",
    "        heapq.heappush(h, value)\n",
    "\n",
    "    # 힙에 삽입된 모든 원소를 차례대로 꺼내서 담기\n",
    "    for i in range(len(h)):\n",
    "        result.append(heapq.heappop(h))\n",
    "    return result\n",
    "# result = heapsort([1, 3, 5, 7, 9, 2, 4, 6, 8, 0])\n",
    "# print(result)\n",
    "\n",
    "n = int(input())\n",
    "arr = []\n",
    "\n",
    "for i in range(n):\n",
    "    arr.append(int(input()))\n",
    "\n",
    "res = heapsort(arr)\n",
    "\n",
    "for i in range(n):\n",
    "    print(res[i])"
   ]
  },
  {
   "cell_type": "code",
   "execution_count": null,
   "id": "0dcd5be6",
   "metadata": {},
   "outputs": [],
   "source": [
    "# 트리의 순회(Tree Traversal) 구현 예제\n",
    "class Node:\n",
    "    def __init__(self, data, left_node, right_node):\n",
    "        self.data = data\n",
    "        self.left_node = left_node\n",
    "        self.right_node = right_node\n",
    "\n",
    "# 전위 순회(Preorder Traversal)\n",
    "def pre_order(node):\n",
    "    print(node.data, end = ' ')\n",
    "    if node.left_node != None:\n",
    "        pre_order(tree[node.left_node])\n",
    "    if node.right_node != None:\n",
    "        pre_order(tree[node.right_node])\n",
    "\n",
    "# 중위 순회(Inorder Traversal)\n",
    "def in_order(node):\n",
    "    if node.left_node != None:\n",
    "        in_order(tree[node.left_node])\n",
    "    print(node.data, end = ' ')\n",
    "    if node.right_node != None:\n",
    "        in_order(tree[node.right_node])\n",
    "\n",
    "# 후위 순회(Postorder Traversal)\n",
    "def post_order(node):\n",
    "    if node.left_node != None:\n",
    "        post_order(tree[node.left_node])\n",
    "    if node.right_node != None:\n",
    "        post_order(tree[node.right_node])\n",
    "    print(node.data, end = ' ')\n",
    "\n",
    "n = int(input())\n",
    "tree = {}\n",
    "\n",
    "for i in range(n):\n",
    "    data, left_node, right_node = input().split()\n",
    "    if left_node == 'None':\n",
    "        left_node == None\n",
    "    if right_node == 'None':\n",
    "        right_node == None\n",
    "    tree[data] = Node(data, left_node, right_node)\n",
    "\n",
    "pre_order(tree['A'])\n",
    "print()\n",
    "in_order(tree['A'])\n",
    "print()\n",
    "post_order(tree['A'])\n",
    "\n",
    "# 입력 예시\n",
    "# 7\n",
    "# A B C\n",
    "# B D E\n",
    "# C F G\n",
    "# D None None\n",
    "# E None None\n",
    "# F None None\n",
    "# G None None"
   ]
  },
  {
   "cell_type": "code",
   "execution_count": null,
   "id": "dade73c0",
   "metadata": {},
   "outputs": [],
   "source": [
    "# 데이터 업데이트가 가능한 상황에서의 구간 합(Interval Sum)문제\n",
    "# BOJ '구간 합 구하기' 문제\n",
    "# https://www.acmicpc.net/problem/2042\n",
    "# 어떤 N개의 수가 주어져 있다. 그런데 중간에 수의 변경이 빈번히 일어나고 그 중간에 어떤 부분의 합을 구하려 한다.\n",
    "# 만약에 1,2,3,4,5 라는 수가 있고, 3번째 수를 6으로 바꾸고 2번째부터 5번째까지 합을 구하라고 한다면 17을 출력하면 되는 것이다.\n",
    "# 그리고 그 상태에서 다섯 번째 수를 2로 바꾸고 3번째부터 5번째까지 합을 구하라고 한다면 12가 될 것이다.\n",
    "# 데이터 개수 : N(1 <= N <= 1000000)\n",
    "# 데이터 변경 횟수: M(1 <= M <= 10000)\n",
    "# 구간 합 계산 횟수: K(1 <= K <= 10000)\n",
    "\n",
    "\n",
    "# 바이너리 인덱스 트리 예시\n",
    "# K & -K 계산결과 예시\n",
    "# n = 8\n",
    "# for i in range(n + 1):\n",
    "#     print(i, \"의 마지막 비트:\", (i & -i))\n",
    "\n",
    "# 바이너리 인덱스 트리 구현\n",
    "import sys\n",
    "input = sys.stdin.readline\n",
    "\n",
    "# 데이터의 개수(n), 변경 횟수(m), 구간 합 계산 횟수(k)\n",
    "n, m, k = map(int, input().split())\n",
    "\n",
    "# 전체 데이터의 개수는 최대 1,000,000개\n",
    "arr = [0] * (n + 1)\n",
    "tree = [0] * (n + 1)\n",
    "\n",
    "# i번째 수까지의 누적 합을 계산하는 함수\n",
    "def prefix_sum(i):\n",
    "    result = 0\n",
    "    while i > 0:\n",
    "        result += tree[i]\n",
    "        # 0이 아닌 마지막 비트만큼 빼가면서 이동\n",
    "    return result\n",
    "\n",
    "# i번째 수를 dif만큼 더하는 함수\n",
    "def update(i, dif):\n",
    "    while i <= n:\n",
    "        tree[i] += dif\n",
    "        i += (i & -i)\n",
    "# start부터 end까지의 구간 합을 계산하는 함수\n",
    "def interval_sum(start, end):\n",
    "    return prefix_sum(end) - prefix_sum(start - 1)\n",
    "\n",
    "for i in range(1, n + 1):\n",
    "    x = int(input())\n",
    "    arr[i] = x\n",
    "    update(i, x)\n",
    "\n",
    "for i in range(m + k):\n",
    "    a, b, c = map(int, input.split())\n",
    "    # 업데이트 연산인 경우\n",
    "    if a == 1:\n",
    "        update(b, c - arr[b])    # 바뀐크기(dif)만큼 적용\n",
    "        arr[b] = c\n",
    "    # 구간합 연산인 경우\n",
    "    else:\n",
    "        print(interval_sum(b, c))\n"
   ]
  },
  {
   "cell_type": "markdown",
   "id": "9183ac1a",
   "metadata": {},
   "source": [
    "## 퀵 정렬"
   ]
  },
  {
   "cell_type": "code",
   "execution_count": 1,
   "id": "0238e2a2",
   "metadata": {},
   "outputs": [
    {
     "name": "stdout",
     "output_type": "stream",
     "text": [
      "[0, 1, 2, 4, 3, 5, 6, 8, 7, 9]\n"
     ]
    }
   ],
   "source": [
    "# 퀵 정렬 소스 코드\n",
    "array = [5, 7, 9, 0, 3, 1, 6, 2, 4, 8]\n",
    "\n",
    "def quick_sort(array, start, end):\n",
    "    # 원소가 1인 경우 종료\n",
    "    if start >= end:\n",
    "        return\n",
    "    # 피벗은 첫번째 원소\n",
    "    pivot = start\n",
    "    left = start + 1\n",
    "    right = end\n",
    "    while (left < right):\n",
    "        # 피벗보다 큰 데이터를 찾을 때까지 반복\n",
    "        while (left <= end and array[left] <= array[pivot]):\n",
    "            left += 1\n",
    "        while (right > start and array[right] >= array[pivot]):\n",
    "            right -= 1\n",
    "        # 엇갈렸다면 작은 데이터와 피벗 교체\n",
    "        if (left > right):\n",
    "            array[right], array[pivot] = array[pivot], array[right]\n",
    "        # 엇갈리지 않았다면 작은 데이터와 큰 데이터 교체\n",
    "        else:\n",
    "            array[left], array[right] = array[right], array[left]\n",
    "    # 분할 이후 왼쪽 부분과 오른쪽 부분에서 각각 정렬 수행\n",
    "    quick_sort(array, start, right - 1)\n",
    "    quick_sort(array, right + 1, end)\n",
    "\n",
    "quick_sort(array, 0, len(array) - 1)\n",
    "print(array)"
   ]
  },
  {
   "cell_type": "code",
   "execution_count": 2,
   "id": "26eb24f7",
   "metadata": {},
   "outputs": [
    {
     "name": "stdout",
     "output_type": "stream",
     "text": [
      "[0, 1, 2, 3, 4, 5, 6, 7, 8, 9]\n"
     ]
    }
   ],
   "source": [
    "# 다른 방법\n",
    "array = [5, 7, 9, 0, 3, 1, 6, 2, 4, 8]\n",
    "def quick_sort(array):\n",
    "    # 리스트가 하나 이하의 원소만을 담고 있다면 종료\n",
    "    if len(array) <= 1:\n",
    "        return array\n",
    "    # 피벗은 첫 번째 원소\n",
    "    pivot = array[0]\n",
    "    \n",
    "    # 피벗을 제외한 리스트\n",
    "    tail = array[1:]\n",
    "    \n",
    "    # 분할된 왼쪽 부분\n",
    "    left_side = [x for x in tail if x <= pivot]\n",
    "    # 분할된 오른쪽 부분\n",
    "    right_side = [x for x in tail if x > pivot]\n",
    "    \n",
    "    # 분할 이후 왼쪽부분과 오른쪽부분에서 각각 정렬\n",
    "    return quick_sort(left_side) + [pivot] + quick_sort(right_side)\n",
    "\n",
    "print(quick_sort(array))"
   ]
  },
  {
   "cell_type": "markdown",
   "id": "95f9c2cb",
   "metadata": {},
   "source": [
    "## 계수 정렬"
   ]
  },
  {
   "cell_type": "code",
   "execution_count": 3,
   "id": "a0cfee0a",
   "metadata": {},
   "outputs": [
    {
     "name": "stdout",
     "output_type": "stream",
     "text": [
      "0 0 1 1 2 2 3 4 5 5 6 7 8 9 9 "
     ]
    }
   ],
   "source": [
    "# 계수 정렬 코드\n",
    "# 모든 원소의 값이 0보다 크거나 같다고 가정\n",
    "array = [7, 5, 9, 0, 3, 1, 6, 2, 9, 1, 4, 8, 0, 5, 2]\n",
    "\n",
    "# 모든 범위를 포함하는 리스트 선언(모든 값은 0으로 초기화)\n",
    "count = [0] * (max(array) + 1)\n",
    "\n",
    "for i in range(len(array)):\n",
    "    # 각 데이터에 해당하는 인덱스의 값 증가\n",
    "    count[array[i]] += 1\n",
    "    \n",
    "# 리스트에 기록된 정렬 정보 확인\n",
    "for i in range(len(count)):\n",
    "    for j in range(count[i]):\n",
    "        # 띄어쓰기를 구분으로 등장한 횟수만큼 인덱스 출력\n",
    "        print(i, end = ' ')"
   ]
  },
  {
   "cell_type": "markdown",
   "id": "48b6cd99",
   "metadata": {},
   "source": [
    "## 선택 정렬과 기본 라이브러리 수행 시간 비교"
   ]
  },
  {
   "cell_type": "code",
   "execution_count": 4,
   "id": "735da6d9",
   "metadata": {},
   "outputs": [
    {
     "name": "stdout",
     "output_type": "stream",
     "text": [
      "선택 정렬 성능 측정: 11.010796070098877\n"
     ]
    }
   ],
   "source": [
    "# 선택 정렬의 성능\n",
    "from random import randint\n",
    "import time\n",
    "\n",
    "# 배열에 10000개의 정수 삽입\n",
    "array = []\n",
    "for _ in range(10000):\n",
    "    # 1부터 100 사이의 랜덤한 정수\n",
    "    array.append(randint(1, 100))\n",
    "    \n",
    "# 선택 정렬 프로그램 성능 측정\n",
    "start_time = time.time()\n",
    "\n",
    "# 선택 정렬 프로그램 소스\n",
    "for i in range(len(array)):\n",
    "    # 가장 작은 원소의 인덱스\n",
    "    min_index = i\n",
    "    for j in range(i + 1, len(array)):\n",
    "        if array[min_index] > array[j]:\n",
    "            min_index = j\n",
    "\n",
    "    array[i], array[min_index] = array[min_index], array[i]\n",
    "\n",
    "# 측정 종료\n",
    "end_time = time.time()\n",
    "# 수행 시간 출력\n",
    "print('선택 정렬 성능 측정:', end_time - start_time)"
   ]
  },
  {
   "cell_type": "code",
   "execution_count": 5,
   "id": "18a8c8af",
   "metadata": {},
   "outputs": [
    {
     "name": "stdout",
     "output_type": "stream",
     "text": [
      "기본 정렬 라이브러리 성능 측정: 0.0009996891021728516\n"
     ]
    }
   ],
   "source": [
    "# 기본 라이브러리 성능\n",
    "array = []\n",
    "for _ in range(10000):\n",
    "    # 1부터 100 사이의 랜덤한 정수\n",
    "    array.append(randint(1, 100))\n",
    "    \n",
    "# 선택 정렬 프로그램 성능 측정\n",
    "start_time = time.time()\n",
    "\n",
    "# 기본 정렬 라이브러리 사용\n",
    "array.sort()\n",
    "\n",
    "# 측정 종료\n",
    "end_time = time.time()\n",
    "# 수행 시간 출력\n",
    "print('기본 정렬 라이브러리 성능 측정:', end_time - start_time)"
   ]
  },
  {
   "cell_type": "markdown",
   "id": "d530d513",
   "metadata": {},
   "source": [
    "## 두 배열의 원소 교체"
   ]
  },
  {
   "cell_type": "code",
   "execution_count": 6,
   "id": "bc719647",
   "metadata": {},
   "outputs": [],
   "source": [
    "# 입력 조건\n",
    "# 첫 번째 줄에 N, K가 공백을 기준으로 구분되어 입력됩니다.( 1<= N <= 100000, 0 <= K <= N)\n",
    "# 두 번째 줄에 배열 A의 원소들이 공백을 기준으로 구분되어 입력됩니다. 모든 원소는 10000000보다 작은 자연수\n",
    "# 세 번째 줄에 배열 B의 원소들이 공백을 기준으로 구분되어 입력됩니다. 모든 원소는 10000000보다 작은 자연수\n",
    "# 최대 K번의 바꿔치키 연산을 수행하여 만들수 있는 배열 A의 모든 원소의 합의 최댓값 출력\n",
    "# 입력 예시\n",
    "# 5 3\n",
    "# 1 2 5 4 3\n",
    "# 5 5 6 6 5"
   ]
  },
  {
   "cell_type": "code",
   "execution_count": 12,
   "id": "c1f9a460",
   "metadata": {},
   "outputs": [
    {
     "name": "stdout",
     "output_type": "stream",
     "text": [
      "5 3\n",
      "1 2 5 4 3\n",
      "5 5 6 6 5\n",
      "26\n"
     ]
    }
   ],
   "source": [
    "# 예시 코드\n",
    "# N과 K를 입력 받기\n",
    "n, k = map(int, input().split())\n",
    "\n",
    "# 배열 A의 모든 원소 입력 받기\n",
    "a = list(map(int, input().split()))\n",
    "# 배열 B의 모든 원소 입력 받기\n",
    "b = list(map(int, input().split()))\n",
    "\n",
    "# 배열 A는 오름차순 진행\n",
    "a.sort()\n",
    "# 배열 B는 내림차순 진행\n",
    "b.sort(reverse = True)\n",
    "\n",
    "# 첫 번째 인덱스 부터 확인하며, 두 배열의 원소를 최대 K번 비교\n",
    "for i in range(k):\n",
    "    if a[i] < b[i]:\n",
    "        a[i], b[i] = b[i], a[i]\n",
    "        # A의 원소가 B의 원소보다 크거나 같을 때, 반복문 탈출\n",
    "    else:\n",
    "        break\n",
    "        \n",
    "print(sum(a))"
   ]
  },
  {
   "cell_type": "markdown",
   "id": "401a19c6",
   "metadata": {},
   "source": [
    "## DFS"
   ]
  },
  {
   "cell_type": "code",
   "execution_count": 13,
   "id": "67b6cb4c",
   "metadata": {},
   "outputs": [],
   "source": [
    "# DFS메서드 정의\n",
    "def dfs(graph, v, visited):\n",
    "    # 현재 노드를 방문 처리\n",
    "    visited[v] = True\n",
    "    print(v, end = ' ')\n",
    "    # 현재 노드와 연결된 다른 노드를 대귀적으로 방문\n",
    "    for i in graph[v]:\n",
    "        if not visited[i]:\n",
    "            dfs(graph, i, visited)"
   ]
  },
  {
   "cell_type": "code",
   "execution_count": 14,
   "id": "5acb04e9",
   "metadata": {},
   "outputs": [
    {
     "name": "stdout",
     "output_type": "stream",
     "text": [
      "1 2 7 6 8 3 4 5 "
     ]
    }
   ],
   "source": [
    "# 각 노드가 연결된 정보를 표현(2차원 리스트)\n",
    "graph = [\n",
    "    [],\n",
    "    [2, 3, 8],\n",
    "    [1, 7],\n",
    "    [1, 4, 5],\n",
    "    [3, 5],\n",
    "    [3, 4],\n",
    "    [7],\n",
    "    [2, 6, 8],\n",
    "    [1, 7]\n",
    "]\n",
    "\n",
    "# 각 노드가 방문된 정보를 표현(1차원 리스트)\n",
    "visited = [False]*9\n",
    "# 정의된 DFS 함수 호출\n",
    "dfs(graph, 1, visited)"
   ]
  },
  {
   "cell_type": "markdown",
   "id": "4de461b0",
   "metadata": {},
   "source": [
    "## BFS"
   ]
  },
  {
   "cell_type": "code",
   "execution_count": 16,
   "id": "675474c9",
   "metadata": {},
   "outputs": [],
   "source": [
    "# BFS메서드 정의\n",
    "from collections import deque\n",
    "\n",
    "def bfs(graph, start, visited):\n",
    "    # 큐(Queue) 구현을 위해 deque라이브러리 사용\n",
    "    queue = deque([start])\n",
    "    # 현재 노드를 방문 처리\n",
    "    visited[start] = True\n",
    "    \n",
    "    # 큐가 빌 때까지 반복\n",
    "    while queue:\n",
    "        # 큐에서 하나의 원소를 뽑아 출력하기\n",
    "        v = queue.popleft()\n",
    "        print(v, end = ' ')\n",
    "        # 아직 방문하지 않은 인접한 원소들을 큐에 삽입\n",
    "        for i in graph[v]:\n",
    "            if not visited[i]:\n",
    "                queue.append(i)\n",
    "                visited[i] = True"
   ]
  },
  {
   "cell_type": "code",
   "execution_count": 17,
   "id": "f4d78278",
   "metadata": {},
   "outputs": [
    {
     "name": "stdout",
     "output_type": "stream",
     "text": [
      "1 2 3 8 7 4 5 6 "
     ]
    }
   ],
   "source": [
    "# 각 노드가 연결된 정보를 표현(2차원 리스트)\n",
    "graph = [\n",
    "    [],\n",
    "    [2, 3, 8],\n",
    "    [1, 7],\n",
    "    [1, 4, 5],\n",
    "    [3, 5],\n",
    "    [3, 4],\n",
    "    [7],\n",
    "    [2, 6, 8],\n",
    "    [1, 7]\n",
    "]\n",
    "\n",
    "# 각 노드가 방문된 정보를 표현(1차원 리스트)\n",
    "visited = [False]*9\n",
    "# 정의된 BFS 함수 호출\n",
    "bfs(graph, 1, visited)"
   ]
  },
  {
   "cell_type": "markdown",
   "id": "c3a550d7",
   "metadata": {},
   "source": [
    "## 음료수 얼려먹기"
   ]
  },
  {
   "cell_type": "code",
   "execution_count": 18,
   "id": "c194cf6c",
   "metadata": {},
   "outputs": [],
   "source": [
    "# 입력조건\n",
    "# 첫 번째 줄에 얼음 틀의 세로 길이 N과 가로 길리 M이 주어진다 (1 > = N, M <= 1000)\n",
    "# 두 번째 줄부터 N + 1번째 줄까지 얼음 틀의 형태가 주어집니다.\n",
    "# 이때 구멍이 뚫려있는 부분은 0, 그렇지 않은 부분은 1입니다.\n",
    "# 한 번에 만들 수 있는 아이스크림 수의 개수를 출력합니다.\n",
    "# 입력 예시\n",
    "# 4 5\n",
    "# 00110\n",
    "# 00011\n",
    "# 11111\n",
    "# 00000"
   ]
  },
  {
   "cell_type": "code",
   "execution_count": 24,
   "id": "4ce19cca",
   "metadata": {},
   "outputs": [],
   "source": [
    "# 예시 코드\n",
    "# DFS로 특정 노드를 방문하고 연결된 모든 노드들도 방문\n",
    "def dfs(x, y):\n",
    "    # 주어진 범위를 벗어나는 경우에는 즉시 종료\n",
    "    if x <= -1 or x >= n or y <= -1 or y >= m:\n",
    "        return False\n",
    "    # 현재 노드를 아직 방문하지 않았다면\n",
    "    if graph[x][y] == 0:\n",
    "        # 해당 노드 방문 처리\n",
    "        graph[x][y] = 1\n",
    "        # 상, 하, 좌, 우의 위치들도 모두 재귀적으로 호출\n",
    "        dfs(x - 1, y)\n",
    "        dfs(x, y - 1)\n",
    "        dfs(x + 1, y)\n",
    "        dfs(x, y + 1)\n",
    "        return True\n",
    "    return False"
   ]
  },
  {
   "cell_type": "code",
   "execution_count": 26,
   "id": "46d04c9e",
   "metadata": {},
   "outputs": [
    {
     "name": "stdout",
     "output_type": "stream",
     "text": [
      "4 5\n",
      "00110\n",
      "00011\n",
      "11111\n",
      "00000\n",
      "3\n"
     ]
    }
   ],
   "source": [
    "# N, M을 공백을 기준으로 구분하여 입력받기\n",
    "n, m = map(int, input().split())\n",
    "\n",
    "# 2차원 리스트의 맵 정보 입력 받기\n",
    "graph = []\n",
    "for i in range(n):\n",
    "    graph.append(list(map(int, input())))\n",
    "\n",
    "# 모든 노드(위치)에 대하여 음료수 채우기\n",
    "result = 0\n",
    "for i in range(n):\n",
    "    for j in range(m):\n",
    "        # 현재 위치에서 BFS수행\n",
    "        if dfs(i, j) == True:\n",
    "            result += 1\n",
    "\n",
    "# 정답 출력\n",
    "print(result)"
   ]
  },
  {
   "cell_type": "markdown",
   "id": "7d0de2ad",
   "metadata": {},
   "source": [
    "## 미로 탈출"
   ]
  },
  {
   "cell_type": "code",
   "execution_count": 27,
   "id": "96bfecd0",
   "metadata": {},
   "outputs": [],
   "source": [
    "# 입력 조건\n",
    "# 첫째 줄에 두 정수 N, M(4 <= N, M <= 200)이 주어진다.\n",
    "# 다음 N개의 줄에는 각각 M개의 정수(0혹은 1)로 미로의 정보가 주어진다.\n",
    "# 각각의 수들은 공백 없이 붙어서 입력으로 제시된다.\n",
    "\n",
    "# 출력 조건\n",
    "# 첫째 줄에 최소 이동 칸의 개수를 출력한다.\n",
    "\n",
    "# 입력 예시\n",
    "# 5 6\n",
    "# 101010\n",
    "# 111111\n",
    "# 000001\n",
    "# 111111\n",
    "# 111111"
   ]
  },
  {
   "cell_type": "code",
   "execution_count": 28,
   "id": "a032e6b8",
   "metadata": {},
   "outputs": [],
   "source": [
    "# BFS 소스코드 구현\n",
    "def bfs(x, y):\n",
    "    # 큐(Queue) 구현을 위해 deque 라이브러리 사용\n",
    "    queue = deque()\n",
    "    queue.append((x, y))\n",
    "    \n",
    "    # 큐가 빌 때까지 반복하기\n",
    "    while queue:\n",
    "        x, y = queue.popleft()\n",
    "        # 현재 위치에서 4가지 방향으로의 위치 확인\n",
    "        for i in range(4):\n",
    "            nx = x + dx[i]\n",
    "            ny = y + dy[i]\n",
    "            # 미로 찾기 공간을 벗어난 경우 무시\n",
    "            if nx < 0 or nx >= n or ny < 0 or ny >= m:\n",
    "                continue\n",
    "            # 벽인 경우 무시\n",
    "            if graph[nx][ny] == 0:\n",
    "                continue\n",
    "                \n",
    "            # 해당 노드를 처음 방문하는 경우에만 최단 거리 기록\n",
    "            if graph[nx][ny] == 1:\n",
    "                graph[nx][ny] = graph[x][y] + 1\n",
    "                queue.append((nx, ny))\n",
    "    return graph[n - 1][m - 1]"
   ]
  },
  {
   "cell_type": "code",
   "execution_count": 29,
   "id": "0f348740",
   "metadata": {},
   "outputs": [
    {
     "name": "stdout",
     "output_type": "stream",
     "text": [
      "5 6\n",
      "101010\n",
      "111111\n",
      "000001\n",
      "111111\n",
      "111111\n",
      "10\n"
     ]
    }
   ],
   "source": [
    "from collections import deque\n",
    "\n",
    "# N, M을 공백을 기준으로 구분하여 입력 받기\n",
    "n, m = map(int, input().split())\n",
    "\n",
    "# 2차원 리스트의 맵 정보 입력 받기\n",
    "graph = []\n",
    "for i in range(n):\n",
    "    graph.append(list(map(int, input())))\n",
    "    \n",
    "# 이동할 네 가지 방향정의(상, 하, 좌, 우)\n",
    "dx = [-1, 1, 0, 0]\n",
    "dy = [0, 0, -1, 1]\n",
    "\n",
    "# BFS를 수행한 결과 출력\n",
    "print(bfs(0, 0))"
   ]
  },
  {
   "cell_type": "code",
   "execution_count": null,
   "id": "c82d96bc",
   "metadata": {},
   "outputs": [],
   "source": []
  }
 ],
 "metadata": {
  "kernelspec": {
   "display_name": "Python 3 (ipykernel)",
   "language": "python",
   "name": "python3"
  },
  "language_info": {
   "codemirror_mode": {
    "name": "ipython",
    "version": 3
   },
   "file_extension": ".py",
   "mimetype": "text/x-python",
   "name": "python",
   "nbconvert_exporter": "python",
   "pygments_lexer": "ipython3",
   "version": "3.8.16"
  }
 },
 "nbformat": 4,
 "nbformat_minor": 5
}
