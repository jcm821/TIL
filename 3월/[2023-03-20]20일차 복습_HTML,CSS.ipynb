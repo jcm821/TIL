{
 "cells": [
  {
   "cell_type": "markdown",
   "id": "368fca3b",
   "metadata": {},
   "source": [
    "# Web Programming"
   ]
  },
  {
   "cell_type": "markdown",
   "id": "a98b8fce",
   "metadata": {},
   "source": [
    "# HTML & CSS & Java Script"
   ]
  },
  {
   "cell_type": "markdown",
   "id": "89a2a270",
   "metadata": {},
   "source": [
    "### HTML(Hyper Text MarkUp Language)\n",
    "* 웹브라우저에서 문서 및 웹 페이지가 표시되는 방법을 규정하는 언어\n",
    "* 어떠한 웹사이트에서든 블록(block)을 구성하는 데 사용되는 언어\n",
    "* 문서의 뼈대를 구축"
   ]
  },
  {
   "cell_type": "markdown",
   "id": "83ae2047",
   "metadata": {},
   "source": [
    "### CSS(Cascading Style Sheets, 캐스케이딩 스타일 시트)\n",
    "* HTML로 만들어진 문서의 컬러, 퐁트 스타일, 레이아웃 등의 스타일을 지정하는 방식을 규정하는 스타일 시트 언어\n",
    "* 웹사이트를 보다 매력적으로 만들어주는 기능(디자인의 기능)"
   ]
  },
  {
   "cell_type": "markdown",
   "id": "0178de26",
   "metadata": {},
   "source": [
    "### Java Script\n",
    "* 웹사이트가 로딩된 이후에 CSS와 HTML 구성요소들을 변경할 수 있게 해주며, 이를 통해서 웹사이트를 보다 인터랙티브(interactive)하게 만들 수 있음\n",
    "* HTML로 뼈대를 만들고 CSS로 디자인을 입힌 웹 문서에 움직임을 넣어주는 역할"
   ]
  },
  {
   "cell_type": "markdown",
   "id": "d4279911",
   "metadata": {},
   "source": [
    "# HTML의 태그관련 용어"
   ]
  },
  {
   "cell_type": "markdown",
   "id": "c25227eb",
   "metadata": {},
   "source": [
    "* 태그의 형식은 시작태그(<요소명>), 종료태그(</요소명>)로 이루어져 있다."
   ]
  },
  {
   "cell_type": "markdown",
   "id": "852f435b",
   "metadata": {},
   "source": [
    "## 기본 용어\n",
    "* html: 웹에서 정보를 표현할 목적으로 만든 마크업 언어\n",
    "* html: ....../html -> 브라우저에 HTML문서임을 알려준다.\n",
    "* head: 문서의 각종 정보와 문서 자체에 대한 설명을 담는 부분\n",
    "* base: 문서의 각종 정보와 문서 자체에 대한 설명을 담는 부분\n",
    "* title: 문서의 제목을 표시하는 부분 표시\n",
    "* body: 웹브라우저 화면에 실제로 출력해서 보여 주려는 모든 정보 또는 내용이 들어가는 부분을 말한다."
   ]
  },
  {
   "cell_type": "markdown",
   "id": "794807ee",
   "metadata": {},
   "source": [
    "## 텍스트 표현\n",
    "* br: 줄바꿈을 지정\n",
    "* p(paragraph): 독립된 단락 생성\n",
    "* hr: 수평선을 그려주는 태그\n",
    "* h1~h6: 제목글자의 크기, 숫자가 작을수록 크기가 크다.\n",
    "* blockquote: 상하 여백으로 구분되는 단락을 생성하고 들여쓰기 수행\n",
    "* b: 글씨를 진하게 표시\n",
    "* i: 이탤릭체(기울임체) 표시\n",
    "* ul~li: 순서가 없는 목록\n",
    "* ol~li: 순서가 있는 목록\n",
    "* span: 텍스트를 위한 인라인 수준의 컨테이너, 한 줄 공간을 생성, 요소 앞뒤로 자동 줄 바꿈 수행"
   ]
  },
  {
   "cell_type": "markdown",
   "id": "beeef340",
   "metadata": {},
   "source": [
    "## 테이블 표현\n",
    "* table: 표를 말하며, 데이터를 표시하기 위한 셀들의 집합으로 각 셀은 행과 열에 의해서 구분된다.\n",
    "* tr: 테이블의 행을 정의하는 태그, td나 tr태그를 포함하지 않으면 사용불가하다.\n",
    "* td: 텍스트나 이미지 같은 데이터가 표시되는 표준 셀을 만들때 사용, 반드시 tr태그 내에서 사용\n",
    "* th: 행또는 열의 제목을 표시하는 헤더 셀\n",
    "* caption: 테이블 전체에 해당하는 제목 표시\n",
    "* figcaption: 이미지나 다이어그램, 사진과 같이 문서의 주요 흐름과는 독립적인 콘텐츠를 정의하는 요소의 캡션(caption)을 정의"
   ]
  },
  {
   "cell_type": "markdown",
   "id": "23864ebc",
   "metadata": {},
   "source": [
    "## 그림과 링크 표현\n",
    "* img: 웹 문서에 이미지를 삽입하는 표시, 종료태그없이 시작태그에만 사용. 인라인 요소이므로 줄바꿈 위해서 'br'사용\n",
    "* a: 하이퍼링크를 걸어주는 태그\n",
    "    * href: 클릭 시 이동할 링크\n",
    "    * target: 링크를 여는방법(_self, _blank등이 있다)"
   ]
  },
  {
   "cell_type": "markdown",
   "id": "4fb7ca98",
   "metadata": {},
   "source": [
    "## form 태그"
   ]
  },
  {
   "cell_type": "markdown",
   "id": "f0187474",
   "metadata": {},
   "source": [
    "* 웹 페이지에서의 입력 양식 의미 (예:로그인 창, 회원가입 폼 등이 해당)\n",
    "* 텍스트 필드에 글자를 입력하거나, 체크박스나 라디오 버튼을 클릭하고 제출 버튼을 누르면 백엔드 서버에 양식이 전달되어 정보를 처리"
   ]
  },
  {
   "cell_type": "markdown",
   "id": "77a01a40",
   "metadata": {},
   "source": [
    "### form의 옵션\n",
    "* name: 폼의 이름\n",
    "* action: 폼 데이터가 전소오디는 백엔드 url\n",
    "* method: 폼 전송 방식(GET/POST)"
   ]
  },
  {
   "cell_type": "markdown",
   "id": "50b92123",
   "metadata": {},
   "source": [
    "### GET과 POST의 차이점\n",
    "* get: 주소 표시줄에 사용자가 입력한 내용이 그대로 나타남. 또한 데이터가 256byte ~ 4096byte까지만 넘길 수 있다.\n",
    "* post: 입력 내용 길이에 제한을 받지 않고 사용자가 입력한 내용이 드러나지 않음"
   ]
  },
  {
   "cell_type": "markdown",
   "id": "ca251154",
   "metadata": {},
   "source": [
    "|   |GET|POST|\n",
    "|---|---|---|\n",
    "| 캐시  | O  | X  |\n",
    "| 브라우저 기록 | O | X |\n",
    "| 북마크 추가 | O | X |\n",
    "| 데이터 길이 제한 | O | X |\n",
    "| HTTP 응답 코드 |200(Ok)| 201(Created)|\n",
    "|언제 주로 사용하는가?|리소스 요청 |리소스 생성|\n",
    "|리소스 전달 방식|쿼리스트링|HTTP Body|\n",
    "|indempotent | O | X|\n"
   ]
  },
  {
   "cell_type": "markdown",
   "id": "3a5aa643",
   "metadata": {},
   "source": [
    "## input 태그\n",
    "* form 태그는 전체 양식을 의미, 화면에 보이지 않는 추상적인 태그이다.\n",
    "* 실제 사용자가 양식을 입력하기 위한 태그는 input태그 등이 사용된다.\n",
    "* type속성을 통해 종류를 나타내며, name을 통해 데이터의 이름, value를 통해 기본 값을 지정한다."
   ]
  },
  {
   "cell_type": "markdown",
   "id": "c66964a7",
   "metadata": {},
   "source": [
    "### type속성에 사용 가능 유형1\n",
    "* text: 일반 문자\n",
    "* password: 비밀번호\n",
    "* button: 버튼\n",
    "* submit: 양식 제출용 버튼\n",
    "* reset: 양식 초기화용 버튼\n",
    "* radio: 한개만 선택할 수 있는 컴포넌트\n",
    "* checkbox: 다수를 선택할 수 있는 컴포넌트\n",
    "* file: 파일 업로드\n",
    "* hidden: 사용자에게 보이지 않는 숨은 요소\n",
    "* email: 메일 주소\n",
    "* url: URL주소\n",
    "* search: 검색 상자\n",
    "* tel: 전화번호\n",
    "* 이외에도 datetime, date, month, week, time과 같은 유형도 사용가능하다."
   ]
  },
  {
   "cell_type": "markdown",
   "id": "7dde109f",
   "metadata": {},
   "source": [
    "### type속성에 사용 가능 유형2\n",
    "* autofocus: 페이지 호출 시 첫번쨰로 커서를 표현할 수 있음\n",
    "* placeholder: 텍스트 입력 시 도움이 되도록 힌트를 보여주고, 클릭 시 사라지게 할 수 있다.\n",
    "* required: form을 submit할 때 필수 값으로 지정해서 값이 등록되었는지 확인 할 수 있음\n",
    "* min, max, step: 최대값, 최소값, 범위 내 숫자의 간격 (사용가능 유형: date, datetime, month, week, time, number, range)\n",
    "* size, minlength, maxlength: size로 텍스트와 관련된 필드에서 화면에 몇 글자까지 보이게 할지 지정<br>\n",
    "(minlength는 최대 글자 수, maxlength는 최소 글자 수)"
   ]
  },
  {
   "cell_type": "markdown",
   "id": "3c550944",
   "metadata": {},
   "source": [
    "### select, optgroup, option\n",
    "* 주어진 옵션 중에서 선택할 수 있도록 하는 드롭다운 목록"
   ]
  },
  {
   "cell_type": "markdown",
   "id": "8a501e97",
   "metadata": {},
   "source": [
    "### textarea\n",
    "* 여러 줄의 텍스트를 입력할 수 있도록 함"
   ]
  },
  {
   "cell_type": "markdown",
   "id": "52a4d8d3",
   "metadata": {},
   "source": [
    "# CSS(Cascading Style Sheets)"
   ]
  },
  {
   "cell_type": "markdown",
   "id": "0a2d4d5d",
   "metadata": {},
   "source": [
    "* 웹 문서의 디자인 요소 담당\n",
    "* 선택자 { 스타일 속성: 속성 값} 의 형태"
   ]
  },
  {
   "cell_type": "code",
   "execution_count": null,
   "id": "352cab99",
   "metadata": {},
   "outputs": [],
   "source": [
    "p {text-align : center; } /* 텍스트 단락을 중앙 정렬 */"
   ]
  },
  {
   "cell_type": "markdown",
   "id": "3ad270ac",
   "metadata": {},
   "source": [
    "## 스타일 시트\n",
    "* 스타일 규칙들을 관리하기 쉽도록 한 군데에 묶어 놓는 것"
   ]
  },
  {
   "cell_type": "markdown",
   "id": "6cf6cef0",
   "metadata": {},
   "source": [
    "## 주요 선택자"
   ]
  },
  {
   "cell_type": "markdown",
   "id": "ccdf296f",
   "metadata": {},
   "source": [
    "### 전체 선택자\n",
    "* 스타일의 모든 요소에 적용할 때 사용\n"
   ]
  },
  {
   "cell_type": "code",
   "execution_count": null,
   "id": "dc866237",
   "metadata": {},
   "outputs": [],
   "source": [
    "* {\n",
    "    margin: 0; padding: 0;\n",
    "}"
   ]
  },
  {
   "cell_type": "markdown",
   "id": "ffeffb66",
   "metadata": {},
   "source": [
    "### 태그 선택자\n",
    "* 특정 태그가 쓰인 모든 요소에 스타일 적용"
   ]
  },
  {
   "cell_type": "code",
   "execution_count": null,
   "id": "19ed1d63",
   "metadata": {},
   "outputs": [],
   "source": [
    "p { text-align: center; } /* 텍스트 단락을 중앙 정렬 */\n",
    "h2 { color: darkblue; }"
   ]
  },
  {
   "cell_type": "markdown",
   "id": "993e5fc6",
   "metadata": {},
   "source": [
    "### 클래스 선택자\n",
    "* 태그 대신 클래스 이름을 선택하여 지정된 클래스에 스타일 적용\n",
    "* 한꺼번에 둘 이상의 클래스에도 적용 가능"
   ]
  },
  {
   "cell_type": "code",
   "execution_count": null,
   "id": "dcb40100",
   "metadata": {},
   "outputs": [],
   "source": [
    ".reg {\n",
    "    font-size: 14px;\n",
    "    color:darkblue;\n",
    "}"
   ]
  },
  {
   "cell_type": "markdown",
   "id": "be7b6fd0",
   "metadata": {},
   "source": [
    "### id 선택자\n",
    "* 웹 문서 안의 특정 부분에 스타일 적용\n",
    "* 클래스 선택자는 문서 안에서 여러 번 적용할 수 있지만, id선택자는 문서 안에서 한 번만 적용 가능"
   ]
  },
  {
   "cell_type": "code",
   "execution_count": null,
   "id": "9ce48315",
   "metadata": {},
   "outputs": [],
   "source": [
    "#container {\n",
    "    width:600px; /* 너비 */\n",
    "    padding:15px; /* 테두리와 내용 사이의 여백 */\n",
    "    border:1px dotted gray; /* 테두리 스타일 */\n",
    "}"
   ]
  },
  {
   "cell_type": "markdown",
   "id": "0dd65741",
   "metadata": {},
   "source": [
    "### 그룹 선택자\n",
    "* 두 개 이상의 요소에 같은 스타일 적용"
   ]
  },
  {
   "cell_type": "code",
   "execution_count": null,
   "id": "c2c78aa3",
   "metadata": {},
   "outputs": [],
   "source": [
    "h1, h2 {text-align: center; }"
   ]
  },
  {
   "cell_type": "markdown",
   "id": "865b95b8",
   "metadata": {},
   "source": [
    "## 텍스트 관련 스타일 - 글꼴"
   ]
  },
  {
   "cell_type": "markdown",
   "id": "e39cefee",
   "metadata": {},
   "source": [
    "### font-family\n",
    "* 텍스트를 사용하는 요소들에 사용"
   ]
  },
  {
   "cell_type": "code",
   "execution_count": null,
   "id": "050df147",
   "metadata": {},
   "outputs": [],
   "source": [
    "p {font-family: \"맑은 고딕\"; }\n",
    "# 맑은 고딕으로 설정하되 해당 글꼴이 없으면 돋움, 돋움이 없으면 굴림으로 설정\n",
    "body {font-family: \"맑은 고딕\", 돋음, 굴림}"
   ]
  },
  {
   "cell_type": "markdown",
   "id": "4866f1ea",
   "metadata": {},
   "source": [
    "### @font-face\n",
    "* 웹 폰트 추가\n",
    "* 웹 문서를 작성할 때 웹 문서 안에 글꼴 정보도 함께 저장했다가 사용자가 웹 문서에 접속하면 글꼴을 사용자 시스템으로 다운로드 시키는 방식\n",
    "* 구글 웹 폰트를 사용하거나, 웹 폰트를 업로드해 사용할 수 있음"
   ]
  },
  {
   "cell_type": "code",
   "execution_count": null,
   "id": "5a993fcc",
   "metadata": {},
   "outputs": [],
   "source": [
    "@import url(\"웹 폰트주소\")\n",
    "@font-face{\n",
    "    src:url('폰트이름.ttf');\n",
    "    font-family: '폰트명';\n",
    "}"
   ]
  },
  {
   "cell_type": "markdown",
   "id": "f728a9ae",
   "metadata": {},
   "source": [
    "### font-size\n",
    "* 글자 크기 조절"
   ]
  },
  {
   "cell_type": "markdown",
   "id": "3c2dc69b",
   "metadata": {},
   "source": [
    "|단위|설명|\n",
    "|----|----|\n",
    "|em|해당 글꼴의 대문자 M의 너비를 기준으로 크기 조절(1em == 16px)|\n",
    "|ex|해당 글꼴의 소문자 x의 높이를 기준으로 크기를 조절|\n",
    "|px|모니터에 따라 상대적 크기|\n",
    "|pt|일반 문서에 사용하는 단위|"
   ]
  },
  {
   "cell_type": "markdown",
   "id": "07233c2c",
   "metadata": {},
   "source": [
    "* 일반적으로 px를 사용하지만, 모바일에서 확인하는 경우 디바이스 기준으로 크기가 표시되기 때문에 다양한 디바이스를 고려하여 em을 사용하는 추세이다."
   ]
  },
  {
   "cell_type": "markdown",
   "id": "88d6f86b",
   "metadata": {},
   "source": [
    "### font-weight\n",
    "* 글자 크기 지정"
   ]
  },
  {
   "cell_type": "markdown",
   "id": "21f612b6",
   "metadata": {},
   "source": [
    "|속성 값|설명|\n",
    "|----|----|\n",
    "|normal|기본값|\n",
    "|bold, lighter, border|굵게, 원래 굵기보다 더 가늘게, 원래 굵기보다 더 굵게|\n",
    "|100~900수치|400은 normal, 700은 bold|\n"
   ]
  },
  {
   "cell_type": "markdown",
   "id": "088d5db9",
   "metadata": {},
   "source": [
    "### font-style\n",
    "* 글자 스타일 지정"
   ]
  },
  {
   "cell_type": "markdown",
   "id": "52203935",
   "metadata": {},
   "source": [
    "|속성 값|설명|\n",
    "|----|----|\n",
    "|normal|기본값|\n",
    "|italic|이탤릭체로 표시|\n",
    "\n"
   ]
  },
  {
   "cell_type": "markdown",
   "id": "fdc7e04c",
   "metadata": {},
   "source": [
    "### font\n",
    "* font-weight, font-style, font-family 등의 속성을 한꺼번에 묶어 약식으로 표현 가능"
   ]
  },
  {
   "cell_type": "code",
   "execution_count": null,
   "id": "c3695142",
   "metadata": {},
   "outputs": [],
   "source": [
    "p.txt{\n",
    "    font: italic 12px 돋움; /* 글꼴 스타일, 크기, 글꼴 */\n",
    "}"
   ]
  },
  {
   "cell_type": "markdown",
   "id": "c1ffdbc4",
   "metadata": {},
   "source": [
    "### color\n",
    "* 글자 색 지정\n",
    "* 색상 값은 16진수, rgb(rgba), hsl(hsla)또는 색상이름으로 표기 가능"
   ]
  },
  {
   "cell_type": "code",
   "execution_count": null,
   "id": "8dba07c8",
   "metadata": {},
   "outputs": [],
   "source": [
    "h1 {color:rgb(0, 200, 0);} /* rgb 값 사용 */\n",
    "h2 {color:blue;} /* 색상 이름 사용 */\n",
    ".accent {color:#f00;} /* 16진수 사용 */"
   ]
  },
  {
   "cell_type": "markdown",
   "id": "99f2ea67",
   "metadata": {},
   "source": [
    "#### 16진수 표기법\n",
    "* #ffff00처럼 #기호 다음에 6자리의 16진수를 쓰는 것이 가장 일반적인 방법"
   ]
  },
  {
   "cell_type": "markdown",
   "id": "4b1c9a5c",
   "metadata": {},
   "source": [
    "#### rgb와 rgba 표기법\n",
    "* rgb(255, 0, 0) 혹은 rgba(255, 0, 0, 0.5)로 표기하고, 십진수로 표현\n",
    "* rgba의 a는 불투명도 값을 나타내고, 0에서 1사이 수로 지정 가능."
   ]
  },
  {
   "cell_type": "markdown",
   "id": "783a83e2",
   "metadata": {},
   "source": [
    "#### hsl과 hsla 표기법\n",
    "* hsl(360, 100%, 0%)혹은 hsla(360, 100%, 0%, 0.5)로 표현\n",
    "* hue(색상), saturation(채도), lightness(밝기)의미\n",
    "* hsla의 a는 불투명도 값을 나타내고, 0에서 1사이 수로 지정 가능"
   ]
  },
  {
   "cell_type": "markdown",
   "id": "0cf69750",
   "metadata": {},
   "source": [
    "#### 색상 이름 표기법\n",
    "* 통상적으로 잘 알려진 red, blue, green등의 색상 이름으로 표시 가능\n",
    "* 색상 추출방법 -> 구글에서 컬러 피커 검색"
   ]
  },
  {
   "cell_type": "markdown",
   "id": "902b9530",
   "metadata": {},
   "source": [
    "### text-decoration\n",
    "* 텍스트 밑에 줄을 긋거나 취소선 표시"
   ]
  },
  {
   "cell_type": "markdown",
   "id": "66b079e1",
   "metadata": {},
   "source": [
    "| 속성값 |설명|\n",
    "|----|----|\n",
    "|none|기본값|\n",
    "|underline|밑줄 표시|\n",
    "|overline|영역 위로 선 표시|\n",
    "|line-through|영역을 가로지르는 선(취소 선) 표시|"
   ]
  },
  {
   "cell_type": "markdown",
   "id": "af16153a",
   "metadata": {},
   "source": [
    "### text-transform\n",
    "* 영문자의 대소문자 변환"
   ]
  },
  {
   "cell_type": "markdown",
   "id": "fca82d53",
   "metadata": {},
   "source": [
    "| 속성값 |설명|\n",
    "|----|----|\n",
    "|none|기본값|\n",
    "|capitalize|첫번째 글자를 대문자로 변환|\n",
    "|uppercase|모든 글자를 대문자로 변환|\n",
    "|lowercase|모든 글자를 소문자로 변환|"
   ]
  },
  {
   "cell_type": "markdown",
   "id": "bd5fc0e4",
   "metadata": {},
   "source": [
    "### letter-spacing, word-spacing\n",
    "* letter-spacing속성은 낱 글자 사이 간격 조절\n",
    "* word-spacing속성은 단어와 단어 사이 간격 조절\n",
    "* 주로 letter-spacing사용"
   ]
  },
  {
   "cell_type": "markdown",
   "id": "e69cdbeb",
   "metadata": {},
   "source": [
    "## 텍스트 관련 스타일 - 문단 관련"
   ]
  },
  {
   "cell_type": "markdown",
   "id": "1b3cf454",
   "metadata": {},
   "source": [
    "### text-align\n",
    "* 텍스트 정렬"
   ]
  },
  {
   "cell_type": "markdown",
   "id": "e564e71f",
   "metadata": {},
   "source": [
    "### line-height\n",
    "* 문단의 줄 간격 조절"
   ]
  },
  {
   "cell_type": "markdown",
   "id": "2608c1dd",
   "metadata": {},
   "source": [
    "### text-oveflow\n",
    "* white-space: nowrap으로 지정해서 줄 바꿈 하지 않을 경우 넘치는 텍스트를 처리하는 것"
   ]
  },
  {
   "cell_type": "markdown",
   "id": "0cf3e3e2",
   "metadata": {},
   "source": [
    "## 텍스트 관련 스타일 - 목록 관련"
   ]
  },
  {
   "cell_type": "markdown",
   "id": "6c927315",
   "metadata": {},
   "source": [
    "### list-style-type\n",
    "* 순서 없는 목록에서 기본적으로 * 사용\n",
    "* 순서 목록에서 숫자가 기본적으로 붙고, 속성을 이용하여 숫자 스타일 변경 가능"
   ]
  },
  {
   "cell_type": "markdown",
   "id": "d9ab9194",
   "metadata": {},
   "source": [
    "### list-style-image\n",
    "* url(이미지경로)형태로 불릿을 이미지로 변경해서 지정 가능"
   ]
  },
  {
   "cell_type": "markdown",
   "id": "9b3e9d34",
   "metadata": {},
   "source": [
    "## 배경"
   ]
  },
  {
   "cell_type": "markdown",
   "id": "69273eca",
   "metadata": {},
   "source": [
    "### background-color\n",
    "* 16진수나 rgb값 또는 색상 이름을 사용하여 지정"
   ]
  },
  {
   "cell_type": "markdown",
   "id": "831c7f94",
   "metadata": {},
   "source": [
    "### background-image\n",
    "* 배경에 이미지를 넣고자 할때 사용"
   ]
  },
  {
   "cell_type": "markdown",
   "id": "393eff5c",
   "metadata": {},
   "source": [
    "### background-repeat\n",
    "* 배경 이미지 반복여부 지정"
   ]
  },
  {
   "cell_type": "markdown",
   "id": "b887cc03",
   "metadata": {},
   "source": [
    "| 속성값 |설명|\n",
    "|----|----|\n",
    "|repeat|기본값, 화면에 가득찰 때까지 가로와 세로로 반복해서 채움|\n",
    "|repeat-x|브라우저 창 너비와 같아질 때까지 가로로 반복|\n",
    "|repeat-y|브라우저 창 너비와 같아질 때까지 세로로 반복|\n",
    "|no-repeat|한 번만 표시하고 반복되지 않음|"
   ]
  },
  {
   "cell_type": "markdown",
   "id": "bc955ca2",
   "metadata": {},
   "source": [
    "### background-size\n",
    "* 배경 이미지 크기 조절"
   ]
  },
  {
   "cell_type": "markdown",
   "id": "c3661a58",
   "metadata": {},
   "source": [
    "| 속성값 |설명|\n",
    "|----|----|\n",
    "|auto|기본값, 원래 배경 이미지 크기만큼 표시|\n",
    "|contain|요소 안에 배경 이미지가 다 들어오도록 확대 혹은 축소 표시|\n",
    "|cover|배경 이미지로 모든 요소를 덮도록 이미지를 확대 혹은 축소|\n"
   ]
  },
  {
   "cell_type": "markdown",
   "id": "4a23d97f",
   "metadata": {},
   "source": [
    "### background-position\n",
    "* 배경 이미지가 표시되는 위치를 조절\n",
    "* 키워드 표시법: left, center, right 중에서 수직위치는 top, bottom, center중에서 선택\n",
    "* 백분율 표시법: 주어진 요소의 해당 위치에 배경 이미지의 위치를 백분율로 맞춤\n",
    "* 길이 표시법: 배경 이미지 위치를 길이로 지정"
   ]
  },
  {
   "cell_type": "markdown",
   "id": "ef82a488",
   "metadata": {},
   "source": [
    "## CSS 박스모델"
   ]
  },
  {
   "cell_type": "markdown",
   "id": "54aca5a2",
   "metadata": {},
   "source": [
    "### CSS 박스모델"
   ]
  },
  {
   "cell_type": "markdown",
   "id": "cccd64cb",
   "metadata": {},
   "source": [
    "* 웹 문서에서 내용 배치 시 각 요소를 박스 형태로 구성하는 것\n",
    "* 각 박스 모델은 콘텐츠 영역과 테두리, 여백들로 구성\n",
    "* CSS를 사용한 레이아웃의 기본"
   ]
  },
  {
   "cell_type": "markdown",
   "id": "886b130a",
   "metadata": {},
   "source": [
    "### 박스모델\n",
    "* 실제 콘텐츠 영역, 박스와 영역 사이의 여백인 패딩(padding), 박스의 테두리(border), 박스 모델 사이의 여백인 마진(margin)등의 요소로 구성됨"
   ]
  },
  {
   "cell_type": "markdown",
   "id": "77d908fb",
   "metadata": {},
   "source": [
    "### 블록 레벨 요소\n",
    "* 태그를 사용해 컨텐츠를 추가했을 떄 한 줄을 통째로 차지하는 요소\n",
    "* 양 옆으로 다른 요소가 올 수 없음, 너비, 마진, 패딩 이용하여 크기나 위치 지정 가능\n",
    "* 예: div, p, hn, ul, ol, form, table, fieldset, address"
   ]
  },
  {
   "cell_type": "markdown",
   "id": "1bc27f33",
   "metadata": {},
   "source": [
    "### 인라인 레벨 요소\n",
    "* 화면에 표시되는 컨텐츠만큼만 차지하고 한 줄을 차지하지 않는 요소\n",
    "* 여러 개의 인라인 레벨 표현이 가능\n",
    "* 예: img, strong, br, sub, span, input, textarea, label, button"
   ]
  },
  {
   "cell_type": "markdown",
   "id": "be0ec6f6",
   "metadata": {},
   "source": [
    "### display속성\n",
    "* 필요에 따라 인라인 레벨과 블록 레벨을 변경할 수 있다."
   ]
  },
  {
   "cell_type": "markdown",
   "id": "888be14a",
   "metadata": {},
   "source": [
    "1. display:block -> 해당요소를 블록레벨로 지정, img같은 인라인 레벨 요소도 블록 레벨 요소로 변경 가능\n",
    "2. display:inline -> 블록 레벨 요소를 인라인 레벨로 변경, 서로 다른 줄에 배치되는 요소들을 한 줄로 함께 표시 가능\n",
    "3. display:inline-block -> 인라인 레벨로 배치하면서 내용에는 블랙 레벨 속성 지정, 두 가지 특성을 모두 가질 수 있음\n",
    "4. display:none -> 해당 요소를 화면에 전혀 표시하지 않음, 공간 조차 처리 하지 않도록 처리"
   ]
  },
  {
   "cell_type": "markdown",
   "id": "6d8c3d4f",
   "metadata": {},
   "source": [
    "### border-style\n",
    "* 박스의 테두리 스타일 지정"
   ]
  },
  {
   "cell_type": "markdown",
   "id": "32c10c43",
   "metadata": {},
   "source": [
    "### border-width\n",
    "* 테두리 두께 지정 -> 1px이나 3px처럼 크기를 직접 입력할 수도 있고, thin 이나 medium, thick같은 키워드 중에서 선택가능, 한꺼번에 표시할 때 시계방향으로 적용"
   ]
  },
  {
   "cell_type": "markdown",
   "id": "e70786de",
   "metadata": {},
   "source": [
    "### border-color\n",
    "* 박스의 테두리 색상을 지정"
   ]
  },
  {
   "cell_type": "markdown",
   "id": "8700f264",
   "metadata": {},
   "source": [
    "### border\n",
    "* 테두리 스타일, 두께, 색상 등 여러 속성을 동시 묶어 표현 가능"
   ]
  },
  {
   "cell_type": "markdown",
   "id": "0b5e8872",
   "metadata": {},
   "source": [
    "### border-radius\n",
    "* 박스 모서리 둥글게 처리"
   ]
  },
  {
   "cell_type": "markdown",
   "id": "87b5d0ff",
   "metadata": {},
   "source": [
    "## CSS 박스모델 - 여백 관련 속성"
   ]
  },
  {
   "cell_type": "markdown",
   "id": "47e5ce42",
   "metadata": {},
   "source": [
    "### margin\n",
    "* 현재 요소 주변의 여백\n",
    "* 한 요소와 다른 요소 사이의 간격 조절이 가능해짐\n",
    "* 크기나 백분율 등으로 값 지정 가능\n",
    "* 마진 속성 값 개수에 따라 어느 방향에 적용할지 결정 됨\n"
   ]
  },
  {
   "cell_type": "markdown",
   "id": "7abe3899",
   "metadata": {},
   "source": [
    "### padding\n",
    "* 콘텐츠 영역과 테두리 사이의 여백\n",
    "* 테두리 안쪽의 여백\n",
    "* margin 속성과 사용법이 비슷"
   ]
  },
  {
   "cell_type": "markdown",
   "id": "7841ef40",
   "metadata": {},
   "source": [
    "## HTML5와 CSS3 - CSS3 연결 선택자"
   ]
  },
  {
   "cell_type": "markdown",
   "id": "dc09cf00",
   "metadata": {},
   "source": [
    "### 하위 선택자(desendant selector)\n",
    "* 부모 요소에 포함된 하위 요소 모두에 스타일이 적용되는 것"
   ]
  },
  {
   "cell_type": "code",
   "execution_count": null,
   "id": "5871d496",
   "metadata": {},
   "outputs": [],
   "source": [
    " section p { text -\n",
    "    align : center; }"
   ]
  },
  {
   "cell_type": "markdown",
   "id": "841e3bf5",
   "metadata": {},
   "source": [
    "### 자식 선택자(child selector)\n",
    "* 부모 요소에 포함된 자식 요소에만 스타일이 적용되는 것"
   ]
  },
  {
   "cell_type": "code",
   "execution_count": null,
   "id": "0e336a16",
   "metadata": {},
   "outputs": [],
   "source": [
    "selecion > p { text -\n",
    "    align : center; }"
   ]
  },
  {
   "cell_type": "markdown",
   "id": "450ac666",
   "metadata": {},
   "source": [
    "### 인접 형제 선택자(adjacent selector)\n",
    "* 문서 구조상 같은 부모를 가진 형제 요소 중 첫 번째 동생요소에 스타일이 적용"
   ]
  },
  {
   "cell_type": "code",
   "execution_count": null,
   "id": "e4dc196f",
   "metadata": {},
   "outputs": [],
   "source": [
    "h1 + ul { text -\n",
    "    align: center; }"
   ]
  },
  {
   "cell_type": "markdown",
   "id": "e0aa9bfd",
   "metadata": {},
   "source": [
    "### 형제 선택자\n",
    "* 인접 형제 선택자와 달리 모든 형제 요소에 적용"
   ]
  },
  {
   "cell_type": "code",
   "execution_count": null,
   "id": "85c48257",
   "metadata": {},
   "outputs": [],
   "source": [
    "h1 ~ ul { text -\n",
    "    align: center; }"
   ]
  },
  {
   "cell_type": "markdown",
   "id": "74b6ef30",
   "metadata": {},
   "source": [
    "## HTML5와 CSS3 - CSS3 속성 가상 클래스"
   ]
  },
  {
   "cell_type": "markdown",
   "id": "53573630",
   "metadata": {},
   "source": [
    "### 가상 클래스(pseudo class)\n",
    "* 웹 요소에 사용자가 클릭하거나 마우스를 올려놓는 등 특정 동작을 할 때 스타일 적용을 위해 사용"
   ]
  },
  {
   "cell_type": "markdown",
   "id": "55ec5d4e",
   "metadata": {},
   "source": [
    "1. :link - 문서 링크 중에서 사용자가 아직 방문하지 않은 링크에 스타일 적용\n",
    "2. :visited - 문서 링크 중에서 한 번 이상 방문한 링크에 대한 스타일 적용\n",
    "3. :hover - 웹 요소 위로 마우스 커서를 올려놓을 때 스타일 적용\n",
    "4. :active - 링크나 이미지 등의 웹 요소를 누르고 있을 때 스타일 적용\n",
    "5. :focus - 웹 요소에 포커스가 맞춰졌을 때 스타일 적용"
   ]
  },
  {
   "cell_type": "markdown",
   "id": "4c1a8fdf",
   "metadata": {},
   "source": [
    "* 사용자 동작 외에도 웹 요소의 상태에 따라 스타일 적용을 위해 사용"
   ]
  },
  {
   "cell_type": "markdown",
   "id": "684281b5",
   "metadata": {},
   "source": [
    "1. :endable와 :disabled - 해당 요소가 사용 가능한 상태일 때:enabled, 해당 요소가 사용 불가능일 때:disabled 사용\n",
    "2. :checked - 라디오 박스나 체크 박스에서 사용자가 해당 항목을 선택했을 때 스타일 적용"
   ]
  },
  {
   "cell_type": "markdown",
   "id": "94df5ffa",
   "metadata": {},
   "source": [
    "## 반응형 웹"
   ]
  },
  {
   "cell_type": "markdown",
   "id": "d10b04bb",
   "metadata": {},
   "source": [
    "* 사용자가 접속한 다양한 스마트 기기 환경에 따라 제작된 사이트의 레이앗웃을 자연스럽게 바꾸어 보여주는 디자인\n",
    "* 하나의 사이트를 제작하여 다양한 기기에서 볼 수 있도록 하는 것"
   ]
  },
  {
   "cell_type": "markdown",
   "id": "fe25fffc",
   "metadata": {},
   "source": [
    "### 장점\n",
    "* W3C에서 웹 표준으로 지정한 HTML과 CSS로 이루어져 있기 때문에 웨어러블 기기 및 스마트 TV나 게임 콘솔 등 웹 표준을 지원하는 어떤 스마트 기기에서든 접속 가능\n",
    "* CSS를 조절하여 스마트 폰이나 태블릿에서 가로 모드로 돌렸을 때 너비가 변경되면 그에 맞추어 레이아웃을 바꿔 보여줄 수 있음\n",
    "* 기기에 맞춰 제각각의 사이트를 생성한 것이 아니라 하나로 제작하여 다양한 디바이스에 맞춰 지게 한 것이기 때문에 유지나 관리가 용이 - 반응형 웹 사이트 제작 기술은 최신 모던 브라우저에만 지원하기 때문에 하위 버전의 브라우저까지 사용할 수 없다는 단접을 지님"
   ]
  },
  {
   "cell_type": "markdown",
   "id": "aa463ab8",
   "metadata": {},
   "source": [
    "### 뷰포트(viewport)\n",
    "* 접속한 사용자에게 보여지는 화면 영역(실제 내용이 표시되는 영역)"
   ]
  },
  {
   "cell_type": "code",
   "execution_count": null,
   "id": "c94ce7b4",
   "metadata": {},
   "outputs": [],
   "source": [
    "<meta name = \"viewport\" content = \"width=device-width, initial-scale=1\""
   ]
  },
  {
   "cell_type": "markdown",
   "id": "8ff9a174",
   "metadata": {},
   "source": [
    "### 미디어 쿼리(Media Queries)\n",
    "* 사이트에 접속하는 장치에 따라 특정한 CSS스타일을 구분지어 적용될 수 있게 하는 CSS3모듈\n",
    "* 가로, 세로, 너비 값 지정에 따라 지정\n",
    "* 화면회전 - 스마트폰이나 태블릿은 기기를 세로나 가로로 보게 되고 그에 따라 사이트의 화면 방향도 변하게 된다\n",
    "* orientation속성으로 화면 방향 체크가능\n",
    "* portrait는 세로, landscape는 가로"
   ]
  },
  {
   "cell_type": "code",
   "execution_count": null,
   "id": "a4160eef",
   "metadata": {},
   "outputs": [],
   "source": [
    "@media screen and (orientation:landscape) {\n",
    "    body {background-color:orange;}\n",
    "}\n",
    "@media screen and (orientation:portrait) {\n",
    "    body {background-color:yellow;}\n",
    "}"
   ]
  }
 ],
 "metadata": {
  "kernelspec": {
   "display_name": "Python 3 (ipykernel)",
   "language": "python",
   "name": "python3"
  },
  "language_info": {
   "codemirror_mode": {
    "name": "ipython",
    "version": 3
   },
   "file_extension": ".py",
   "mimetype": "text/x-python",
   "name": "python",
   "nbconvert_exporter": "python",
   "pygments_lexer": "ipython3",
   "version": "3.8.16"
  }
 },
 "nbformat": 4,
 "nbformat_minor": 5
}
