{
 "cells": [
  {
   "cell_type": "markdown",
   "id": "785c1de5",
   "metadata": {},
   "source": [
    "## 보다 쾌적한 실행을 위해서는 파이참, 스파이더 개발환경에서 연습하는것이 좋다."
   ]
  },
  {
   "cell_type": "markdown",
   "id": "758716a1",
   "metadata": {},
   "source": [
    "### 주사위 사진을 차례대로 출력"
   ]
  },
  {
   "cell_type": "code",
   "execution_count": 3,
   "id": "4ebb6396",
   "metadata": {},
   "outputs": [
    {
     "name": "stdout",
     "output_type": "stream",
     "text": [
      "Collecting opencv-python\n",
      "  Using cached opencv_python-4.7.0.72-cp37-abi3-win_amd64.whl (38.2 MB)\n",
      "Requirement already satisfied: numpy>=1.19.3 in c:\\anaconda3\\lib\\site-packages (from opencv-python) (1.21.5)\n",
      "Installing collected packages: opencv-python\n",
      "Successfully installed opencv-python-4.7.0.72\n"
     ]
    }
   ],
   "source": [
    "!pip install opencv-python"
   ]
  },
  {
   "cell_type": "code",
   "execution_count": 11,
   "id": "6c38052a",
   "metadata": {},
   "outputs": [
    {
     "name": "stdout",
     "output_type": "stream",
     "text": [
      "4.7.0\n"
     ]
    }
   ],
   "source": [
    "print(cv2.__version__)"
   ]
  },
  {
   "cell_type": "code",
   "execution_count": 2,
   "id": "b4f22708",
   "metadata": {},
   "outputs": [],
   "source": [
    "# 필요 패키지 실행\n",
    "# opencv활용\n",
    "import cv2\n",
    "import numpy as np\n",
    "import random"
   ]
  },
  {
   "cell_type": "code",
   "execution_count": 3,
   "id": "12f65d56",
   "metadata": {},
   "outputs": [],
   "source": [
    "# 이미지 불러오기\n",
    "img1 = cv2.imread('./data/dice1.jpg')\n",
    "img2 = cv2.imread('./data/dice2.jpg')\n",
    "img3 = cv2.imread('./data/dice3.jpg')\n",
    "img4 = cv2.imread('./data/dice4.jpg')\n",
    "img5 = cv2.imread('./data/dice5.jpg')\n",
    "img6 = cv2.imread('./data/dice6.jpg')"
   ]
  },
  {
   "cell_type": "code",
   "execution_count": 5,
   "id": "6eeccd9a",
   "metadata": {},
   "outputs": [
    {
     "name": "stdout",
     "output_type": "stream",
     "text": [
      "1\n",
      "1\n",
      "6\n",
      "3\n",
      "3\n",
      "3\n"
     ]
    }
   ],
   "source": [
    "# 반복문을 사용하여 주사위 숫자에 맞는 이미지 출력\n",
    "# for문 사용시\n",
    "imgList = [img1, img2, img3, img4, img5, img6]\n",
    "for img in imgList:\n",
    "    diceNum = random.randrange(1, 7)\n",
    "    print(diceNum)\n",
    "    # 이미지 화면에 출력\n",
    "    # imshow('창 이름', '출력할 배열')\n",
    "    # imgList의 인덱스는 0부터 시작하므로 -1을 해주어야 한다\n",
    "    cv2.imshow('img', imgList[diceNum - 1])\n",
    "    \n",
    "    # 원래 waitKey함수는 일정시간 키 입력을 기다리는 함수인데\n",
    "    # 입력값이 0이면 키 입력이 들어올때 까지 대기한다\n",
    "    key = cv2.waitKey(0)\n",
    "    \n",
    "    # 입력된 키값을 ASCII형태로 반환해준다\n",
    "    # print(key)\n",
    "    \n",
    "    # 문자열 키값을 유니코드형태로 반환해준다\n",
    "    if key == ord('x'):\n",
    "        break\n",
    "        \n",
    "    # 모든 창을 닫기\n",
    "    cv2.destroyAllWindows()"
   ]
  },
  {
   "cell_type": "code",
   "execution_count": 7,
   "id": "a5a436d4",
   "metadata": {},
   "outputs": [
    {
     "name": "stdout",
     "output_type": "stream",
     "text": [
      "4\n",
      "2\n",
      "1\n",
      "1\n",
      "3\n",
      "3\n",
      "5\n",
      "2\n",
      "4\n",
      "4\n",
      "4\n"
     ]
    }
   ],
   "source": [
    "# while문 사용시\n",
    "while True:\n",
    "    diceNum = random.randrange(1, 7)\n",
    "    print(diceNum)\n",
    "    \n",
    "    cv2.imshow('img', imgList[diceNum - 1])\n",
    "    \n",
    "    key = cv2.waitKey(0)\n",
    "    \n",
    "    if key == ord('x'):\n",
    "        break\n",
    "    cv2.destroyAllWindows()"
   ]
  },
  {
   "cell_type": "markdown",
   "id": "8ed31956",
   "metadata": {},
   "source": [
    "### 주사위를 던진 결과를 리스트에 저장, 출력결과를 3개씩 나오게 하기"
   ]
  },
  {
   "cell_type": "code",
   "execution_count": 3,
   "id": "e2b631d6",
   "metadata": {},
   "outputs": [],
   "source": [
    "# 별도의 리스트를 하나 더 추가해준다\n",
    "imgList = [img1, img2, img3, img4, img5, img6]\n",
    "winName = ['1st', '2nd', '3nd']\n",
    "\n",
    "while True:\n",
    "    diceNum = []\n",
    "    for i in range(3):\n",
    "        diceNum.append(random.randrange(1, 7))\n",
    "        \n",
    "    for i, name in enumerate(winName):\n",
    "        cv2.imshow(name, imgList[diceNum[i] - 1])\n",
    "        # 윈도우 창 위치 조정\n",
    "        cv2.moveWindow(name, 100 + (i * 170), 100)\n",
    "        \n",
    "    key = cv2.waitKey(0)\n",
    "    if key == ord('x'):\n",
    "        break\n",
    "        \n",
    "    # 모든 창 닫기\n",
    "    cv2.destroyAllWindows()"
   ]
  },
  {
   "cell_type": "markdown",
   "id": "a9ce906a",
   "metadata": {},
   "source": [
    "### 주사위의 눈금의 함이 10일 때만 출력하기"
   ]
  },
  {
   "cell_type": "markdown",
   "id": "3606ae00",
   "metadata": {},
   "source": [
    "#### 1. 주사위를 2개만 던졌을 경우"
   ]
  },
  {
   "cell_type": "code",
   "execution_count": 4,
   "id": "0d45eb86",
   "metadata": {},
   "outputs": [],
   "source": [
    "# 주사위를 2개 던졌을 경우\n",
    "imgList = [img1, img2, img3, img4, img5, img6]\n",
    "winName = ['1st', '2nd']\n",
    "while True:\n",
    "    diceNum = []\n",
    "    for i in range(2):\n",
    "        diceNum.append(random.randrange(1, 7))\n",
    "    # print(np.sum(diceNum))\n",
    "    if np.sum(diceNum) == 10:\n",
    "        for i, name in enumerate(winName):\n",
    "            cv2.imshow(name, imgList[diceNum[i] - 1])\n",
    "            # 윈도우 창 위치 조절\n",
    "            cv2.moveWindow(name, 100 + (i * 170), 100)\n",
    "    key = cv2.waitKey(0)\n",
    "    if key == ord('x'):\n",
    "        break\n",
    "# 모든 창 닫기\n",
    "cv2.destroyAllWindows()"
   ]
  },
  {
   "cell_type": "markdown",
   "id": "dca6c659",
   "metadata": {},
   "source": [
    "#### 2. 주사위를 3개 던졌을 경우"
   ]
  },
  {
   "cell_type": "code",
   "execution_count": null,
   "id": "ce9868b6",
   "metadata": {},
   "outputs": [],
   "source": [
    "# 주사위를 3개 던졌을 경우\n",
    "imgList = [img1, img2, img3, img4, img5, img6]  \n",
    "winName = ['1st', '2nd', '3rd']\n",
    "while True:\n",
    "    diceNum = []\n",
    "    for i in range(3):\n",
    "        diceNum.append(random.randrange(1, 7))\n",
    "    if sum(diceNum) == 10:\n",
    "        for i, name in enumerate(winName):\n",
    "            cv2.imshow(name, imgList[diceNum[i] -1])\n",
    "            # 윈도우 창 위치 조절\n",
    "            cv2.moveWindow(name, 100 + (i * 170), 100)\n",
    "    key = cv2.waitKey(0)\n",
    "    if key == ord('x'):\n",
    "       break\n",
    "# 모든 창 닫기\n",
    "cv2.destroyAllWindows()"
   ]
  }
 ],
 "metadata": {
  "kernelspec": {
   "display_name": "Python 3 (ipykernel)",
   "language": "python",
   "name": "python3"
  },
  "language_info": {
   "codemirror_mode": {
    "name": "ipython",
    "version": 3
   },
   "file_extension": ".py",
   "mimetype": "text/x-python",
   "name": "python",
   "nbconvert_exporter": "python",
   "pygments_lexer": "ipython3",
   "version": "3.9.7"
  }
 },
 "nbformat": 4,
 "nbformat_minor": 5
}
