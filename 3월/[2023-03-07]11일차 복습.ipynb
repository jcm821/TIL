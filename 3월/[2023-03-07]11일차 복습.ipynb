{
 "cells": [
  {
   "cell_type": "markdown",
   "id": "5dcc7f19",
   "metadata": {},
   "source": [
    "## 종합연습문제"
   ]
  },
  {
   "cell_type": "code",
   "execution_count": 13,
   "id": "fb365d0d",
   "metadata": {},
   "outputs": [
    {
     "data": {
      "text/html": [
       "<div>\n",
       "<style scoped>\n",
       "    .dataframe tbody tr th:only-of-type {\n",
       "        vertical-align: middle;\n",
       "    }\n",
       "\n",
       "    .dataframe tbody tr th {\n",
       "        vertical-align: top;\n",
       "    }\n",
       "\n",
       "    .dataframe thead th {\n",
       "        text-align: right;\n",
       "    }\n",
       "</style>\n",
       "<table border=\"1\" class=\"dataframe\">\n",
       "  <thead>\n",
       "    <tr style=\"text-align: right;\">\n",
       "      <th></th>\n",
       "      <th>문제</th>\n",
       "      <th>Unnamed: 1</th>\n",
       "      <th>Unnamed: 2</th>\n",
       "    </tr>\n",
       "  </thead>\n",
       "  <tbody>\n",
       "    <tr>\n",
       "      <th>0</th>\n",
       "      <td>문제0. 본파일을 읽어서 아래의 문제들을 데이터프레임으로 출력하세요.</td>\n",
       "      <td>NaN</td>\n",
       "      <td>NaN</td>\n",
       "    </tr>\n",
       "    <tr>\n",
       "      <th>1</th>\n",
       "      <td>문제1. 1+2+3+…..10000의 결과값을 구하세요</td>\n",
       "      <td>NaN</td>\n",
       "      <td>NaN</td>\n",
       "    </tr>\n",
       "    <tr>\n",
       "      <th>2</th>\n",
       "      <td>문제2. 문제1을 함수로 변경하세요. 함수명 : myAdder()</td>\n",
       "      <td>NaN</td>\n",
       "      <td>NaN</td>\n",
       "    </tr>\n",
       "    <tr>\n",
       "      <th>3</th>\n",
       "      <td>문제3. myAdder2()함수는 사용자가 덧셈의 시작값과 마지막 값을 설정할 수 ...</td>\n",
       "      <td>함수의 입력값으로 두 수를 입력받고 결과값을 리턴</td>\n",
       "      <td>파이썬 파일을 실행시에 두 수를 입력받아 실행</td>\n",
       "    </tr>\n",
       "    <tr>\n",
       "      <th>4</th>\n",
       "      <td>문제4. 오른쪽의 리스트 값을 정렬하고, 평균값, 중앙값,최소값,최대값, 총합의값을...</td>\n",
       "      <td>myList=[1,7,5,3,2,0,8,9,11,250,320,640]</td>\n",
       "      <td>NaN</td>\n",
       "    </tr>\n",
       "    <tr>\n",
       "      <th>5</th>\n",
       "      <td>문제5. 아래 문자열에서 '인공지능'이라는 단어의 등장 횟수를 카운트하는 프로그램을...</td>\n",
       "      <td>미국의 인공지능(AI)연구소 오픈AI가 개발한 대화형AI ‘챗GPT(ChatGPT)...</td>\n",
       "      <td>NaN</td>\n",
       "    </tr>\n",
       "    <tr>\n",
       "      <th>6</th>\n",
       "      <td>문제 6. 내가 문자열을 입력받아서 입력 받은 문자열을 검색해주는 프로그램을 작성하세요.</td>\n",
       "      <td>NaN</td>\n",
       "      <td>NaN</td>\n",
       "    </tr>\n",
       "    <tr>\n",
       "      <th>7</th>\n",
       "      <td>문제 7. 검색할 키워드를 여러 개 입력 받아서 함수에서 문자열에서 이 키워드가 몇...</td>\n",
       "      <td>keyWord = ['인공지능','AI','GPT']</td>\n",
       "      <td>NaN</td>\n",
       "    </tr>\n",
       "    <tr>\n",
       "      <th>8</th>\n",
       "      <td>문제 8. test.txt파일을 읽어서 '첫번째', '두번째','세번째' '1번째'...</td>\n",
       "      <td>NaN</td>\n",
       "      <td>NaN</td>\n",
       "    </tr>\n",
       "    <tr>\n",
       "      <th>9</th>\n",
       "      <td>문제 9. news.txt파일에서 내용을 읽어서 replaceWord라는 리스트에서...</td>\n",
       "      <td>replaceWord = ['인공지능', 'AI']</td>\n",
       "      <td>NaN</td>\n",
       "    </tr>\n",
       "  </tbody>\n",
       "</table>\n",
       "</div>"
      ],
      "text/plain": [
       "                                                  문제  \\\n",
       "0             문제0. 본파일을 읽어서 아래의 문제들을 데이터프레임으로 출력하세요.   \n",
       "1                     문제1. 1+2+3+…..10000의 결과값을 구하세요   \n",
       "2              문제2. 문제1을 함수로 변경하세요. 함수명 : myAdder()    \n",
       "3  문제3. myAdder2()함수는 사용자가 덧셈의 시작값과 마지막 값을 설정할 수 ...   \n",
       "4  문제4. 오른쪽의 리스트 값을 정렬하고, 평균값, 중앙값,최소값,최대값, 총합의값을...   \n",
       "5  문제5. 아래 문자열에서 '인공지능'이라는 단어의 등장 횟수를 카운트하는 프로그램을...   \n",
       "6  문제 6. 내가 문자열을 입력받아서 입력 받은 문자열을 검색해주는 프로그램을 작성하세요.   \n",
       "7  문제 7. 검색할 키워드를 여러 개 입력 받아서 함수에서 문자열에서 이 키워드가 몇...   \n",
       "8  문제 8. test.txt파일을 읽어서 '첫번째', '두번째','세번째' '1번째'...   \n",
       "9  문제 9. news.txt파일에서 내용을 읽어서 replaceWord라는 리스트에서...   \n",
       "\n",
       "                                          Unnamed: 1  \\\n",
       "0                                                NaN   \n",
       "1                                                NaN   \n",
       "2                                                NaN   \n",
       "3                        함수의 입력값으로 두 수를 입력받고 결과값을 리턴   \n",
       "4            myList=[1,7,5,3,2,0,8,9,11,250,320,640]   \n",
       "5  미국의 인공지능(AI)연구소 오픈AI가 개발한 대화형AI ‘챗GPT(ChatGPT)...   \n",
       "6                                                NaN   \n",
       "7                      keyWord = ['인공지능','AI','GPT']   \n",
       "8                                                NaN   \n",
       "9                       replaceWord = ['인공지능', 'AI']   \n",
       "\n",
       "                  Unnamed: 2  \n",
       "0                        NaN  \n",
       "1                        NaN  \n",
       "2                        NaN  \n",
       "3  파이썬 파일을 실행시에 두 수를 입력받아 실행  \n",
       "4                        NaN  \n",
       "5                        NaN  \n",
       "6                        NaN  \n",
       "7                        NaN  \n",
       "8                        NaN  \n",
       "9                        NaN  "
      ]
     },
     "execution_count": 13,
     "metadata": {},
     "output_type": "execute_result"
    }
   ],
   "source": [
    "# 파일불러오기\n",
    "import pandas as pd\n",
    "csvFile = 'C:/Users/chunc/Desktop/취업캠프/python/python/종합연습문제1수정3.csv'\n",
    "\n",
    "df = pd.read_csv(csvFile, encoding = 'euc-kr')\n",
    "df"
   ]
  },
  {
   "cell_type": "code",
   "execution_count": 18,
   "id": "4dad771c",
   "metadata": {},
   "outputs": [],
   "source": [
    "# 문제번호 출력\n",
    "def printStr(num, col = 0):\n",
    "    print(df.iloc[num, 0])"
   ]
  },
  {
   "cell_type": "code",
   "execution_count": 3,
   "id": "c1d13973",
   "metadata": {},
   "outputs": [
    {
     "name": "stdout",
     "output_type": "stream",
     "text": [
      "문제1. 1+2+3+…..10000의 결과값을 구하세요\n"
     ]
    }
   ],
   "source": [
    "printStr(1)"
   ]
  },
  {
   "cell_type": "code",
   "execution_count": 4,
   "id": "0b66114b",
   "metadata": {},
   "outputs": [
    {
     "name": "stdout",
     "output_type": "stream",
     "text": [
      "50005000\n"
     ]
    }
   ],
   "source": [
    "# 문제1\n",
    "sum = 0\n",
    "for i in range(1, 10001):\n",
    "    sum += i\n",
    "print(sum)"
   ]
  },
  {
   "cell_type": "code",
   "execution_count": 5,
   "id": "24bd5680",
   "metadata": {},
   "outputs": [
    {
     "name": "stdout",
     "output_type": "stream",
     "text": [
      "문제2. 문제1을 함수로 변경하세요. 함수명 : myAdder() \n"
     ]
    }
   ],
   "source": [
    "printStr(2)"
   ]
  },
  {
   "cell_type": "code",
   "execution_count": 6,
   "id": "c49995d5",
   "metadata": {},
   "outputs": [
    {
     "name": "stdout",
     "output_type": "stream",
     "text": [
      "50005000\n"
     ]
    }
   ],
   "source": [
    "# 문제2\n",
    "def myAdder():\n",
    "    sum = 0\n",
    "    for i in range(1, 10001):\n",
    "        sum += i\n",
    "    return sum\n",
    "myadd = myAdder()\n",
    "print(myadd)"
   ]
  },
  {
   "cell_type": "code",
   "execution_count": 7,
   "id": "9e2f22ae",
   "metadata": {},
   "outputs": [
    {
     "name": "stdout",
     "output_type": "stream",
     "text": [
      "문제3. myAdder2()함수는 사용자가 덧셈의 시작값과 마지막 값을 설정할 수 있게 만드세요.\n"
     ]
    }
   ],
   "source": [
    "printStr(3)"
   ]
  },
  {
   "cell_type": "code",
   "execution_count": 8,
   "id": "4953acf9",
   "metadata": {},
   "outputs": [],
   "source": [
    "def myAdder2(start, stop):\n",
    "    result = 0\n",
    "    for i in range(start, stop + 1):\n",
    "        result = result + i\n",
    "    return result"
   ]
  },
  {
   "cell_type": "code",
   "execution_count": 9,
   "id": "c2807e03",
   "metadata": {},
   "outputs": [
    {
     "name": "stdout",
     "output_type": "stream",
     "text": [
      "처음값을 입력하세요: 1\n",
      "마지막값을 입력하세요: 10000\n",
      "50005000\n"
     ]
    }
   ],
   "source": [
    "start = int(input('처음값을 입력하세요: '))\n",
    "stop = int(input('마지막값을 입력하세요: '))\n",
    "myadd2 = myAdder2(start, stop)\n",
    "print(myadd2)"
   ]
  },
  {
   "cell_type": "code",
   "execution_count": 11,
   "id": "2273f35a",
   "metadata": {},
   "outputs": [
    {
     "name": "stdout",
     "output_type": "stream",
     "text": [
      "문제4. 오른쪽의 리스트 값을 정렬하고, 평균값, 중앙값,최소값,최대값, 총합의값을 구하세요.\n"
     ]
    }
   ],
   "source": [
    "printStr(4)"
   ]
  },
  {
   "cell_type": "code",
   "execution_count": 13,
   "id": "354def89",
   "metadata": {},
   "outputs": [
    {
     "data": {
      "text/plain": [
       "[0, 1, 2, 3, 5, 7, 8, 9, 11, 250, 320, 640]"
      ]
     },
     "execution_count": 13,
     "metadata": {},
     "output_type": "execute_result"
    }
   ],
   "source": [
    "# 문제4\n",
    "myList=[1,7,5,3,2,0,8,9,11,250,320,640]\n",
    "myList.sort()\n",
    "myList"
   ]
  },
  {
   "cell_type": "code",
   "execution_count": 1,
   "id": "031dca1b",
   "metadata": {},
   "outputs": [
    {
     "data": {
      "text/plain": [
       "[0, 1, 2, 3, 5, 7, 8, 9, 11, 250, 320, 640]"
      ]
     },
     "execution_count": 1,
     "metadata": {},
     "output_type": "execute_result"
    }
   ],
   "source": [
    "# 다른 방법\n",
    "myList=[1,7,5,3,2,0,8,9,11,250,320,640]\n",
    "result = sorted(myList)\n",
    "result"
   ]
  },
  {
   "cell_type": "code",
   "execution_count": 16,
   "id": "570cf2ba",
   "metadata": {},
   "outputs": [
    {
     "name": "stdout",
     "output_type": "stream",
     "text": [
      "<class 'pandas.core.series.Series'>\n",
      "104.66666666666667\n"
     ]
    }
   ],
   "source": [
    "# 방법2 pd.Series형태로 변환\n",
    "value = pd.Series(myList)\n",
    "print(type(value))\n",
    "print(value.mean())"
   ]
  },
  {
   "cell_type": "code",
   "execution_count": 16,
   "id": "852cbb5a",
   "metadata": {},
   "outputs": [
    {
     "name": "stdout",
     "output_type": "stream",
     "text": [
      "<class 'numpy.ndarray'>\n"
     ]
    },
    {
     "data": {
      "text/plain": [
       "array([  0,   1,   2,   3,   5,   7,   8,   9,  11, 250, 320, 640])"
      ]
     },
     "execution_count": 16,
     "metadata": {},
     "output_type": "execute_result"
    }
   ],
   "source": [
    "# 방법3 numpy함수 사용\n",
    "import numpy as np\n",
    "newList = np.array(myList)\n",
    "print(type(newList))\n",
    "newList"
   ]
  },
  {
   "cell_type": "code",
   "execution_count": 17,
   "id": "0bbcaefc",
   "metadata": {},
   "outputs": [
    {
     "name": "stdout",
     "output_type": "stream",
     "text": [
      "104.66666666666667\n"
     ]
    }
   ],
   "source": [
    "# 평균값\n",
    "myMean = np.mean(myList)\n",
    "print(myMean)"
   ]
  },
  {
   "cell_type": "code",
   "execution_count": 11,
   "id": "f20d4d71",
   "metadata": {},
   "outputs": [
    {
     "name": "stdout",
     "output_type": "stream",
     "text": [
      "104.66666666666667\n"
     ]
    }
   ],
   "source": [
    "# 다른방법\n",
    "myList=[1,7,5,3,2,0,8,9,11,250,320,640]\n",
    "mean = sum(myList) / len(myList)\n",
    "print(mean)"
   ]
  },
  {
   "cell_type": "code",
   "execution_count": 18,
   "id": "f5c0e02f",
   "metadata": {},
   "outputs": [
    {
     "name": "stdout",
     "output_type": "stream",
     "text": [
      "7.5\n"
     ]
    }
   ],
   "source": [
    "# 중앙값\n",
    "myMedian = np.median(myList)\n",
    "print(myMedian)"
   ]
  },
  {
   "cell_type": "code",
   "execution_count": 19,
   "id": "b9ae35f1",
   "metadata": {},
   "outputs": [
    {
     "name": "stdout",
     "output_type": "stream",
     "text": [
      "0\n"
     ]
    }
   ],
   "source": [
    "# 최소값\n",
    "myMin = np.min(myList)\n",
    "print(myMin)"
   ]
  },
  {
   "cell_type": "code",
   "execution_count": 20,
   "id": "ded70d63",
   "metadata": {},
   "outputs": [
    {
     "name": "stdout",
     "output_type": "stream",
     "text": [
      "640\n"
     ]
    }
   ],
   "source": [
    "# 최대값\n",
    "myMax = np.max(myList)\n",
    "print(myMax)"
   ]
  },
  {
   "cell_type": "code",
   "execution_count": 21,
   "id": "67b51f62",
   "metadata": {},
   "outputs": [
    {
     "name": "stdout",
     "output_type": "stream",
     "text": [
      "1256\n"
     ]
    }
   ],
   "source": [
    "# 총합\n",
    "mySum = np.sum(myList)\n",
    "print(mySum)"
   ]
  },
  {
   "cell_type": "code",
   "execution_count": 19,
   "id": "91d99180",
   "metadata": {},
   "outputs": [
    {
     "name": "stdout",
     "output_type": "stream",
     "text": [
      "문제5. 아래 문자열에서 '인공지능'이라는 단어의 등장 횟수를 카운트하는 프로그램을 작성하세요.\n"
     ]
    }
   ],
   "source": [
    "printStr(5)"
   ]
  },
  {
   "cell_type": "code",
   "execution_count": 23,
   "id": "1782af63",
   "metadata": {},
   "outputs": [],
   "source": [
    "myAi = df.iloc[5, 1]"
   ]
  },
  {
   "cell_type": "code",
   "execution_count": 24,
   "id": "4c9ba677",
   "metadata": {},
   "outputs": [
    {
     "data": {
      "text/plain": [
       "2"
      ]
     },
     "execution_count": 24,
     "metadata": {},
     "output_type": "execute_result"
    }
   ],
   "source": [
    "myAi.count('인공지능')"
   ]
  },
  {
   "cell_type": "code",
   "execution_count": 25,
   "id": "bb836711",
   "metadata": {},
   "outputs": [],
   "source": [
    "def myCount():\n",
    "    for word in myAi:\n",
    "        result1 = myAi.count('인공지능')\n",
    "        result2 = myAi.count('AI')\n",
    "    return result1, result2"
   ]
  },
  {
   "cell_type": "code",
   "execution_count": 26,
   "id": "322082ed",
   "metadata": {},
   "outputs": [
    {
     "name": "stdout",
     "output_type": "stream",
     "text": [
      "(2, 16)\n"
     ]
    }
   ],
   "source": [
    "result = myCount()\n",
    "print(result)"
   ]
  },
  {
   "cell_type": "code",
   "execution_count": 27,
   "id": "0e29e4b8",
   "metadata": {},
   "outputs": [
    {
     "name": "stdout",
     "output_type": "stream",
     "text": [
      "문제 6. 내가 문자열을 입력받아서 입력 받은 문자열을 검색해주는 프로그램을 작성하세요.\n"
     ]
    }
   ],
   "source": [
    "printStr(6)"
   ]
  },
  {
   "cell_type": "code",
   "execution_count": 28,
   "id": "d677be42",
   "metadata": {},
   "outputs": [],
   "source": [
    "def mySearch():\n",
    "    keyWord = input('문자열을 입력하세요: ')\n",
    "    result = myAi.count(keyWord)\n",
    "    return result"
   ]
  },
  {
   "cell_type": "code",
   "execution_count": 29,
   "id": "35c5eb04",
   "metadata": {},
   "outputs": [
    {
     "name": "stdout",
     "output_type": "stream",
     "text": [
      "문자열을 입력하세요: AI\n"
     ]
    },
    {
     "data": {
      "text/plain": [
       "16"
      ]
     },
     "execution_count": 29,
     "metadata": {},
     "output_type": "execute_result"
    }
   ],
   "source": [
    "mySearch()"
   ]
  },
  {
   "cell_type": "code",
   "execution_count": 30,
   "id": "ecae0c4a",
   "metadata": {},
   "outputs": [
    {
     "name": "stdout",
     "output_type": "stream",
     "text": [
      "문제 7. 검색할 키워드를 여러 개 입력 받아서 함수에서 문자열에서 이 키워드가 몇번씩 등장하는지 확인\n"
     ]
    }
   ],
   "source": [
    "printStr(7)"
   ]
  },
  {
   "cell_type": "code",
   "execution_count": 20,
   "id": "081212cf",
   "metadata": {},
   "outputs": [],
   "source": [
    "keyWord = ['인공지능', 'AI', 'GPT']\n",
    "\n",
    "def myCount(text, keyWord):\n",
    "    # 카운터를 지정할 리스트를 생산한다\n",
    "    counter = []\n",
    "    for word in keyWord:\n",
    "        counter.append(text.count(word))\n",
    "        \n",
    "    return counter"
   ]
  },
  {
   "cell_type": "code",
   "execution_count": 32,
   "id": "9d6f4914",
   "metadata": {},
   "outputs": [
    {
     "name": "stdout",
     "output_type": "stream",
     "text": [
      "{'인공지능': 2, 'AI': 16, 'GPT': 14}\n"
     ]
    }
   ],
   "source": [
    "# zip()메소드를 이용한다\n",
    "counter = myCount(myAi, keyWord)\n",
    "pair = dict([(key, value) for key, value in zip(keyWord, counter)])\n",
    "print(pair)"
   ]
  },
  {
   "cell_type": "code",
   "execution_count": 33,
   "id": "9456f40d",
   "metadata": {},
   "outputs": [
    {
     "name": "stdout",
     "output_type": "stream",
     "text": [
      "문제 8. test.txt파일을 읽어서 '첫번째', '두번째','세번째' '1번째', '2번째', '3번째'로 변경해서 파일에 저장하시오.\n"
     ]
    }
   ],
   "source": [
    "printStr(8)"
   ]
  },
  {
   "cell_type": "code",
   "execution_count": 34,
   "id": "c606d631",
   "metadata": {},
   "outputs": [],
   "source": [
    "# 1. 파일 열기(test1.txt)\n",
    "# 2. 파일 읽기\n",
    "# 3. 라인마다 단어찾기(단어의 위치)\n",
    "# 4. 문자열을 다른 단어로 대체하기\n",
    "# 5. 저장하기(test2.txt)"
   ]
  },
  {
   "cell_type": "markdown",
   "id": "fc58016c",
   "metadata": {},
   "source": [
    "### 문자열에서 단어를 대체하는 함수(replace)"
   ]
  },
  {
   "cell_type": "code",
   "execution_count": 35,
   "id": "e37f17a1",
   "metadata": {},
   "outputs": [
    {
     "name": "stdout",
     "output_type": "stream",
     "text": [
      "일본의 부가세는 10% 입니다.\n"
     ]
    }
   ],
   "source": [
    "text = \"일본의 부가세는 8% 입니다.\"\n",
    "text_mod = text.replace(\"8\",\"10\")\n",
    "print(text_mod)"
   ]
  },
  {
   "cell_type": "markdown",
   "id": "4854eb20",
   "metadata": {},
   "source": [
    "### Dict타입을 for문에서 Key와 value로 꺼내는 방법"
   ]
  },
  {
   "cell_type": "code",
   "execution_count": 36,
   "id": "66e1e28a",
   "metadata": {},
   "outputs": [
    {
     "name": "stdout",
     "output_type": "stream",
     "text": [
      "첫번째 : 1번째\n",
      "두번째 : 2번째\n",
      "세번째 : 3번째\n"
     ]
    }
   ],
   "source": [
    "myDict = {'첫번째': '1번째', '두번째': '2번째', '세번째': '3번째'}\n",
    "\n",
    "for key, value in myDict.items():\n",
    "    print('{} : {}'.format(key, value))"
   ]
  },
  {
   "cell_type": "markdown",
   "id": "10c656ca",
   "metadata": {},
   "source": [
    "방법1"
   ]
  },
  {
   "cell_type": "code",
   "execution_count": 39,
   "id": "4f68972c",
   "metadata": {},
   "outputs": [
    {
     "name": "stdout",
     "output_type": "stream",
     "text": [
      "['나는', '첫번째', '행이다.']\n",
      "나는 첫번째 행이다.\n",
      "['나는', '두번째', '행이다.']\n",
      "나는 두번째 행이다.\n",
      "['나는', '세번째', '행이다.']\n",
      "나는 세번째 행이다.\n",
      "['나는', '마지막', '행이다.']\n",
      "나는 마지막 행이다.\n"
     ]
    }
   ],
   "source": [
    "# 1 읽어올 파일 경로확인 및 열기\n",
    "readFile = 'C:/Users/chunc/Desktop/취업캠프/python/python/test.txt'\n",
    "writeFile = 'C:/Users/chunc/Desktop/취업캠프/python/python/test2.txt'\n",
    "f = open(readFile, 'r', encoding = 'utf-8')\n",
    "\n",
    "myDict = {'첫번째': '1번째', '두번째': '2번째', '세번째': '3번째'}\n",
    "\n",
    "# 새로 변경된 문자열을 저장할 리스트\n",
    "newText = []\n",
    "\n",
    "# 몇번째 라인인지 확인\n",
    "i = 0\n",
    "\n",
    "# 2. 파일 읽기\n",
    "while True:\n",
    "    text = f.readline()\n",
    "    # 읽어온 한 줄의 문자열에 줄바꿈이 있으면 삭제\n",
    "    text = text.replace('\\n', '')\n",
    "    if not text:\n",
    "        f.close()\n",
    "        break\n",
    "        # peinr(text)\n",
    "    # 하나의 문자열을 공백 기준으로 나눠줌\n",
    "    words = text.split()\n",
    "    print(words)\n",
    "    # 마지막 줄이 아니라면\n",
    "    if i < 3:\n",
    "        # myDict의 key와 value를 참조하여 단어 대체하기\n",
    "        for key, value in myDict.items():\n",
    "            if key == words[1]:\n",
    "                # 3. 문자열을 다른 단어로 대체하기\n",
    "                newText.append(text.replace(key, value))\n",
    "    else:\n",
    "        newText.append(text)\n",
    "        \n",
    "    i += 1\n",
    "    print(text)\n",
    "    \n",
    "    # 4. 저장하기\n",
    "f = open(writeFile, 'wt', encoding = 'utf-8')\n",
    "for line in newText:\n",
    "    # 문자열 맨 뒤에 줄바꿈 문자 추가\n",
    "    f.write(line + '\\n')\n",
    "f.close()"
   ]
  },
  {
   "cell_type": "markdown",
   "id": "a9b7927f",
   "metadata": {},
   "source": [
    "방법2"
   ]
  },
  {
   "cell_type": "code",
   "execution_count": 1,
   "id": "8a7af247",
   "metadata": {},
   "outputs": [],
   "source": [
    "# 읽어온 문자열 = fileReader() : 파일읽기 -> 문자열\n",
    "# 새로운 문자열 = replaceStr(문자열): 문자열을 찾아서 replace하기\n",
    "# fileWriter(저장할 파일명, 새로운 문자열)\n",
    "\n",
    "readFile = 'C:/Users/chunc/Desktop/취업캠프/python/python/test.txt'\n",
    "writeFile = 'C:/Users/chunc/Desktop/취업캠프/python/python/test2.txt'"
   ]
  },
  {
   "cell_type": "code",
   "execution_count": 2,
   "id": "4d81efcb",
   "metadata": {},
   "outputs": [
    {
     "name": "stdout",
     "output_type": "stream",
     "text": [
      "['나는 1번째 행이다.', '나는 2번째 행이다.', '나는 3번째 행이다.']\n"
     ]
    }
   ],
   "source": [
    "def fileReader(filename):\n",
    "    with open(filename, 'rt', encoding='utf-8') as f:\n",
    "        text = f.readlines()\n",
    "    return text\n",
    "\n",
    "def fileWriter(filename, newText):\n",
    "    with open(filename, 'wt', encoding='utf-8') as f:\n",
    "        for line in newText:\n",
    "            # 문자열 맨뒤에 줄바꿈 문자 추가\n",
    "            f.write(line +'\\n')\n",
    "\n",
    "def replaceStr(text, myDict):\n",
    "    newText=[]\n",
    "    i = 0\n",
    "\n",
    "    while True:\n",
    "        if i < 3:\n",
    "            # 읽어온 한 줄의 문자열에 줄바꿈이 있으면 삭제\n",
    "            text[i] = text[i].replace(\"\\n\", \"\")\n",
    "        else:\n",
    "            break\n",
    "\n",
    "        # 하나의 문자열을 공백 기준으로 나눠주는 함수\n",
    "        words = text[i].split()\n",
    "\n",
    "        # 마지막 줄이 아니라면\n",
    "        if i < 3:\n",
    "            # myDict의 key와 value를 참조하여 단어 대체하기\n",
    "            for key,value in myDict.items():\n",
    "                if key == words[1]:\n",
    "                    # 3. 문자열을 다른 단어로 대체하기\n",
    "                    temp = text[i].replace(key, value)\n",
    "                    #print(\"replace이전:{}\".format(text[i]))\n",
    "                    #print(\"replace이후:{}\".format(temp))\n",
    "                    newText.append(temp)          \n",
    "        else:\n",
    "            newText.append(text)     \n",
    "\n",
    "        i += 1\n",
    "\n",
    "    return newText\n",
    "\n",
    "\n",
    "# 함수 호출 및 실행\n",
    "text = fileReader(readFile)\n",
    "myDict = {'첫번째':'1번째','두번째':'2번째','세번째':'3번째'}\n",
    "newText = replaceStr(text, myDict)\n",
    "print(newText)\n",
    "fileWriter(writeFile, newText)"
   ]
  },
  {
   "cell_type": "code",
   "execution_count": 38,
   "id": "65efa5dc",
   "metadata": {},
   "outputs": [
    {
     "name": "stdout",
     "output_type": "stream",
     "text": [
      "문제 9. news.txt파일에서 내용을 읽어서 replaceWord라는 리스트에서 읽어서 ('인공지능')'AI'단어로 대체해서 파일로 저장\n"
     ]
    }
   ],
   "source": [
    "printStr(9)"
   ]
  },
  {
   "cell_type": "markdown",
   "id": "0878bc2f",
   "metadata": {},
   "source": [
    "fileReader와 fileWriter는 위에 만들어둔 것을 활용한다"
   ]
  },
  {
   "cell_type": "markdown",
   "id": "c8a82d67",
   "metadata": {},
   "source": [
    "방법1"
   ]
  },
  {
   "cell_type": "code",
   "execution_count": null,
   "id": "d37fc202",
   "metadata": {},
   "outputs": [],
   "source": [
    "readFile = 'C:/Users/chunc/Desktop/취업캠프/python/python/news.txt'\n",
    "writeFile = 'C:/Users/chunc/Desktop/취업캠프/python/python/news2.txt'"
   ]
  },
  {
   "cell_type": "code",
   "execution_count": null,
   "id": "cebc5b0a",
   "metadata": {},
   "outputs": [],
   "source": [
    "f = open(readFile, 'rt', encoding = 'utf-8')\n",
    "lines = f.readlines()\n",
    "lines\n",
    "f.close()"
   ]
  },
  {
   "cell_type": "code",
   "execution_count": null,
   "id": "de296079",
   "metadata": {},
   "outputs": [],
   "source": [
    "f1 = open(writeFile, 'wt', encoding = 'utf-8')\n",
    "for line in lines:\n",
    "    f1.write(line.replace('인공지능', 'AI'))\n",
    "f1.close()"
   ]
  },
  {
   "cell_type": "markdown",
   "id": "61a0bf7d",
   "metadata": {},
   "source": [
    "방법2(함수를 일반화)"
   ]
  },
  {
   "cell_type": "code",
   "execution_count": 3,
   "id": "29813bfc",
   "metadata": {},
   "outputs": [],
   "source": [
    "readFile = 'C:/Users/chunc/Desktop/취업캠프/python/python/news.txt'\n",
    "writeFile = 'C:/Users/chunc/Desktop/취업캠프/python/python/news2.txt'"
   ]
  },
  {
   "cell_type": "code",
   "execution_count": 4,
   "id": "f874365b",
   "metadata": {},
   "outputs": [
    {
     "data": {
      "text/plain": [
       "{'인공지능': 'AI', '로봇': 'robot'}"
      ]
     },
     "execution_count": 4,
     "metadata": {},
     "output_type": "execute_result"
    }
   ],
   "source": [
    "replaceWord = dict([('인공지능', 'AI'), ('로봇', 'robot')])\n",
    "replaceWord"
   ]
  },
  {
   "cell_type": "code",
   "execution_count": 9,
   "id": "cc5e9fbd",
   "metadata": {},
   "outputs": [],
   "source": [
    "def replaceStr2(text, myDict):\n",
    "    newText = []\n",
    "    for myStr in text:\n",
    "        # news.txt에서 읽어온 문자열을 불필요한 문자열 공백 삭제, 줄바뚬도 삭제\n",
    "        myStr = myStr.strip().replace('\\n', '')\n",
    "        # print(myStr)\n",
    "        \n",
    "        # myDict의 key와 value를 참조하여 단어 대체하기\n",
    "        # myStr을 dict에서 가지고 있는 다른 키값으로 모두 검색해서 변경하려면\n",
    "        # 문자열 변경이 누적되어야 한다\n",
    "        for key, value in myDict.items():\n",
    "            # print(key, value)\n",
    "            myStr = myStr.replace(key, value)\n",
    "        newText.append(myStr)\n",
    "        # break\n",
    "    return newText"
   ]
  },
  {
   "cell_type": "code",
   "execution_count": 10,
   "id": "8f0aa13c",
   "metadata": {},
   "outputs": [
    {
     "name": "stdout",
     "output_type": "stream",
     "text": [
      "['\"미국의 AI(AI)연구소 오픈AI가 개발한 대화형AI ‘챗GPT(ChatGPT)’를 드론이나 robot을 조종하는 데 활용하는 기술이 개발됐다. 그동안 챗GPT를 온라인상서 활용하는 것에서 나아가 물리적 행동을 조작하는 데도 쓰일 수 있게 됐다는 점에서 전문가들은 특히 주의가 필요하다고 지적한다.', '', '6일 주요 외신에 따르면 마이크로소프트(MS)는 지난달 20일 robot팔과 드론과 같은 다양한 robot을 제어하는 소프트웨어 프로그래밍 과정에 챗GPT를 활용하는 방법에 대한 논문을 자사 홈페이지에 공개했다. 그동안 주로 논문 작성이나 시험, 질의응답 형식으로 활용되던 자연어 기반 챗GPT가 드론·robot의 제어 프로그래밍에서도 활용될 수 있다는 것을 입증한 것이다.', '', '사이 벰프라라 MS 자율시스템·로보틱스그룹 수석연구원 연구팀은 챗GPT를 robot 시뮬레이터에 적용하는 방식으로 실험을 진행했다. 현재는 robot을 제어하기 위해 엔지니어가 직접 코딩하는 방식을 사용하고 있지만, 이제는 챗GPT가 사용자의 요구에 맞춰 코드를 만들고 robot을 제어하는 것이다.', '', '연구팀은 자유 대화 형식을 사용해 챗GPT가 robot을 제어할 수 있도록 robot API(운영체제와 응용프로그램 사이 통신에 사용되는 언어)를 학습시켰다. 또 robot 제어 프로그래밍과 관련된 텍스트 프롬프트(명령어) 체계를 만들고, 프롬프트 체계를 공유할 수 있는 오픈 소스 플랫폼 ‘프롬프트크래프트(PromptCraft)’를 만들어 챗GPT의 robot 제어 기술을 향상시킬 수 있도록 했다.', '', 'MS가 공개한 해당 논문 관련 영상을 살펴보면, ‘색깔 블록을 이용해 MS의 로고를 만들어달라’라는 명령어를 입력하자 챗GPT가 만든 코딩에 맞춰 robot팔이 블록을 배열했다. 드론을 대상으로 한 ‘선반에 놓인 콜라 캔을 찾아달라’는 명령어에도 정확한 코딩을 도출해, 드론이 다른 물체가 아닌 콜라 캔만 카메라로 비췄다.', '', '연구팀은 “이번 연구는 챗GPT가 텍스트를 넘어서 생각하고 robot 작업을 돕기 위해 물리적 세계에 대해 추론할 수 있는지 확인하기 위한 것”이라며 “챗GPT가 스스로 많은 일을 할 수 있지만, 여전히 약간의 도움이 필요하다는 것이 밝혀졌다”라고 설명했다.', '이번 MS의 연구 결과와 관련해 AI를 robot 공학에 적용하는 게 시기상조라는 의견도 나온다. 생성 AI에서 흔히 보이는 ‘할루시네이션(hallucination·환각)’ 이슈나 AI 윤리를 정리하지 못한 상태에서 robot에 대한 제어권을 넘기는 것은 위험하다는 주장이다.', '', '마크 코켈버그 오스트리아 비엔나대 기술철학과 교수는 “컴퓨터의 제어권을 AI에게 넘기는 것은 매우 위험한 일이다”라며 “현대 AI의 문제는 사용자에게 투명하지 않다는 것이 가장 크다”고 말했다. 그러면서 코켈버그 교수는 AI가 물리적 기계를 제어하는 것을 생각하는 것조차 위험하다고 경고했다.', '', '국내 전문가들도 코켈버그 교수와 비슷한 의견을 내놨다. 그동안 생성 AI의 문제점이 주로 온라인상에서 벌어졌다면, robot을 조종하는 것은 현실에서 물리력을 동반한 형태로 문제점을 노출할 수 있어 위험할 수 있다는 설명이다.', '', '조성배 연세대 컴퓨터공학과 교수는 “챗GPT나 다른 AI의 기술을 완벽할 수 없기 때문에 원천적으로 위험 부담이 크다”라며 “이전에는 물리 세계와 단절돼 있었지만, robot이나 드론을 활용하는 것은 기존 AI 문제를 해결할 장치를 생각해야 한다”고 지적했다. 이어 “robot에 활용한다면 법적으로나 윤리적으로나 대처할 방안을 마련해야 할 것”이라고 강조했다.', '', '다만 거대모델 AI가 robot 공학으로 발전하는 것은 자연스럽다는 의견도 있었다. 실제로 구글도 지난해 11월 AI가 스스로 robot 제어 코드를 생성하고, 새로운 정보를 습득할 수 있는 모델을 제안한 바 있다.', '', '김기응 한국과학기술원(KAIST) AI대학원 교수는 “챗GPT와 같은 거대모델을 개발하는 기업 입장에서는 AI 기술을 로보틱스 분야로 확장하는 것이 목적”이라며 “이미 다양한 기업에서 시도 중이고, 기존 대형 언어 모델의 문제점과 비슷한 수준이라고 본다”고 말했다.\"']\n"
     ]
    }
   ],
   "source": [
    "text = fileReader(readFile)\n",
    "newText = replaceStr2(text, replaceWord)\n",
    "print(newText)"
   ]
  },
  {
   "cell_type": "code",
   "execution_count": null,
   "id": "0061d4cc",
   "metadata": {},
   "outputs": [],
   "source": []
  }
 ],
 "metadata": {
  "kernelspec": {
   "display_name": "Python 3 (ipykernel)",
   "language": "python",
   "name": "python3"
  },
  "language_info": {
   "codemirror_mode": {
    "name": "ipython",
    "version": 3
   },
   "file_extension": ".py",
   "mimetype": "text/x-python",
   "name": "python",
   "nbconvert_exporter": "python",
   "pygments_lexer": "ipython3",
   "version": "3.9.7"
  }
 },
 "nbformat": 4,
 "nbformat_minor": 5
}
