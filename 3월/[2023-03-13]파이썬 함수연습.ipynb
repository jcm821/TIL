{
 "cells": [
  {
   "cell_type": "code",
   "execution_count": 10,
   "id": "280eb390",
   "metadata": {},
   "outputs": [
    {
     "name": "stdout",
     "output_type": "stream",
     "text": [
      "['a.txt', 'b.txt']\n"
     ]
    }
   ],
   "source": [
    "# 1. txt파일만 골라 내기\n",
    "# 파일의 확장자를 확인\n",
    "sample =['a.txt','b.txt', 'c.md','d.jpg','e.doc']\n",
    "result = []\n",
    "\n",
    "for word in sample:\n",
    "    front, back = word.split('.')\n",
    "    if back == 'txt':\n",
    "        result.append(word)\n",
    "print(result)\n"
   ]
  },
  {
   "cell_type": "code",
   "execution_count": 12,
   "id": "7a0736f8",
   "metadata": {},
   "outputs": [
    {
     "name": "stdout",
     "output_type": "stream",
     "text": [
      "['a.txt', 'b.txt', 'c.md']\n"
     ]
    }
   ],
   "source": [
    "# 2. txt파일과 md파일만 골라 내려면?\n",
    "# 확장자를 분리하고 확장자가 'txt'인지 확인 or 'md'인지 확인\n",
    "sample =['a.txt','b.txt', 'c.md','d.jpg','e.doc']\n",
    "result = []\n",
    "for word in sample:\n",
    "    front, back = word.split('.')\n",
    "    if back == 'txt' or back == 'md':\n",
    "        result.append(word)\n",
    "print(result)"
   ]
  },
  {
   "cell_type": "code",
   "execution_count": 20,
   "id": "26489a12",
   "metadata": {},
   "outputs": [
    {
     "name": "stdout",
     "output_type": "stream",
     "text": [
      "1 2 박수 4 5 박수 7 8 박수 10 11 12 박수 14 15 박수 17 18 박수 20 21 22 박수 24 25 박수 27 28 박수 박수 박수 박수 박수박수 박수 박수 박수박수 박수 박수 박수박수 40 41 42 박수 44 45 박수 47 48 박수 50 51 52 박수 54 55 박수 57 58 박수 박수 박수 박수 박수박수 박수 박수 박수박수 박수 박수 박수박수 70 71 72 박수 74 75 박수 77 78 박수 80 81 82 박수 84 85 박수 87 88 박수 박수 박수 박수 박수박수 박수 박수 박수박수 박수 박수 박수박수 100 "
     ]
    }
   ],
   "source": [
    "# 2. 3, 6, 9 게임\n",
    "# 1~100까지의 숫자를 출력하는데 3, 6, 9가 들어간 숫자가 나오면 출력 '박수'\n",
    "for i in range(1, 101):\n",
    "    count = 0\n",
    "    word = str(i)\n",
    "    for j in word:\n",
    "        if j == '3' or j == '6' or j == '9':\n",
    "            count += 1\n",
    "    if count == 0:\n",
    "        print(i, end =' ')\n",
    "    else:\n",
    "        print(count * '박수', end = ' ')\n",
    "            "
   ]
  },
  {
   "cell_type": "code",
   "execution_count": 4,
   "id": "ecca6640",
   "metadata": {},
   "outputs": [
    {
     "name": "stdout",
     "output_type": "stream",
     "text": [
      "숫자를 입력하시오: 30\n",
      "1\n",
      "2\n",
      "박수 \n",
      "4\n",
      "5\n",
      "박수 \n",
      "7\n",
      "8\n",
      "박수 \n",
      "10\n",
      "11\n",
      "12\n",
      "박수 \n",
      "14\n",
      "15\n",
      "박수 \n",
      "17\n",
      "18\n",
      "박수 \n",
      "20\n",
      "21\n",
      "22\n",
      "박수 \n",
      "24\n",
      "25\n",
      "박수 \n",
      "27\n",
      "28\n",
      "박수 \n",
      "박수 \n"
     ]
    }
   ],
   "source": [
    "# 다른방법\n",
    "\n",
    "# 입력받은 문자열을 정수로 변환해서 n에 저장\n",
    "n = int(input('숫자를 입력하시오: '))\n",
    "\n",
    "for i in range(1, n + 1):\n",
    "    # 숫자를 문자열로 변환\n",
    "    myStr = str(i)\n",
    "    \n",
    "    # 3, 6, 9를 카운트 하는 변수\n",
    "    count = 0\n",
    "    # 문자열 '13' -> '1', '3'\n",
    "    for s in myStr:\n",
    "        if s == '3' or s == '6' or s == '9':\n",
    "            count += 1\n",
    "            print('박수', end = ' ')\n",
    "    if count > 0:\n",
    "        # for문을 빠져나오면 줄바꿈을 하는 것으로\n",
    "        print('')\n",
    "    else:\n",
    "        print(myStr)"
   ]
  },
  {
   "cell_type": "code",
   "execution_count": 42,
   "id": "12e3f173",
   "metadata": {},
   "outputs": [
    {
     "name": "stdout",
     "output_type": "stream",
     "text": [
      "[5, 36, 1, 44, 13, 42]\n"
     ]
    }
   ],
   "source": [
    "# 3. 로또게임 1~45까지 숫자를 선택\n",
    "# 로또 번호를 정렬, 내 번호도 정렬\n",
    "# 내 번호가 있으면(input함수) 내 번호가 몇개나 맞았는지 확인\n",
    "import numpy as np\n",
    "import random\n",
    "\n",
    "# 로또 번호 출력\n",
    "result = []\n",
    "while len(result) < 6:\n",
    "    num = np.random.randint(1, 46)\n",
    "    result.append(num)\n",
    "print(result)"
   ]
  },
  {
   "cell_type": "code",
   "execution_count": 43,
   "id": "f774ce75",
   "metadata": {},
   "outputs": [
    {
     "name": "stdout",
     "output_type": "stream",
     "text": [
      "로또번호를 입력하세요: 3 13 34 21 2 4\n"
     ]
    }
   ],
   "source": [
    "# 내가 입력할 로또번호(split을 통해 띄어쓰기 활용)\n",
    "# 입력한 번호를 리스트에 정수형으로 저장\n",
    "myNum = input('로또번호를 입력하세요: ').split()\n",
    "myList = []\n",
    "for i in myNum:\n",
    "    myList.append(int(i))"
   ]
  },
  {
   "cell_type": "code",
   "execution_count": 44,
   "id": "0adea93c",
   "metadata": {},
   "outputs": [
    {
     "data": {
      "text/plain": [
       "[3, 13, 34, 21, 2, 4]"
      ]
     },
     "execution_count": 44,
     "metadata": {},
     "output_type": "execute_result"
    }
   ],
   "source": [
    "myList"
   ]
  },
  {
   "cell_type": "code",
   "execution_count": 47,
   "id": "1de95e74",
   "metadata": {},
   "outputs": [
    {
     "name": "stdout",
     "output_type": "stream",
     "text": [
      "1\n"
     ]
    }
   ],
   "source": [
    "# 로또번호와 내가 입력한 번호가 몇개나 맞았는지 확인\n",
    "isSame = 0\n",
    "for myStr in myList:\n",
    "    if myStr in result:\n",
    "        isSame += 1\n",
    "print(isSame)"
   ]
  },
  {
   "cell_type": "code",
   "execution_count": 17,
   "id": "26d23b1a",
   "metadata": {},
   "outputs": [
    {
     "name": "stdout",
     "output_type": "stream",
     "text": [
      "로또 숫자를 입력하세요:2,3,4,5,6,7\n",
      "[2, 3, 4, 5, 6, 7]\n",
      "[4, 5, 14, 19, 29, 32]\n",
      "4 5  \n",
      "로또 추첨기와 동일한 숫자의 갯수는:2\n"
     ]
    }
   ],
   "source": [
    "# 다른방법\n",
    "import numpy as np\n",
    "\n",
    "# 로또 숫자의 갯수\n",
    "num = 6 \n",
    "myNumList = []\n",
    "\n",
    "# 키보드로 6개의 숫자를 입력 받는다.\n",
    "#for i in range(num):\n",
    "myNumList = ((input(\"로또 숫자를 입력하세요: \").split(',')))\n",
    "# 입력받은 문자를 정수형으로 변환\n",
    "myNumList = list(map(int, myNumList))\n",
    "\n",
    "# 로또 숫자 추첨기\n",
    "numList = np.random.choice(45, num, replace=False)\n",
    "numList = sorted(numList)\n",
    "print(numList)\n",
    "\n",
    "count = 0\n",
    "\n",
    "for myNum in myNumList:\n",
    "    for num in numList:\n",
    "        \n",
    "        if myNum==num:\n",
    "            count += 1\n",
    "            print(myNum, end = ' ')\n",
    "\n",
    "print(\" \")\n",
    "\n",
    "print(\"로또 추첨기와 동일한 숫자의 갯수는:{}\".format(count))"
   ]
  },
  {
   "cell_type": "code",
   "execution_count": 23,
   "id": "8284fcc6",
   "metadata": {},
   "outputs": [],
   "source": [
    "# 로또게임 함수화\n",
    "# 로또 번호 추출기\n",
    "def lottoNumGen(auto, lottoCount):\n",
    "    myNumList = []\n",
    "    if auto == False:\n",
    "        # 키보드로 6개의 숫자를 입력 받는다.\n",
    "        #for i in range(num):\n",
    "        myNumList = ((input(\"로또 숫자를 입력하세요: \").split(',')))\n",
    "        myNumList = list(map(int, myNumList))\n",
    "    else:\n",
    "        myNumList = np.random.choice(45, num, replace = False)\n",
    "        myNumList = sorted(myNumList)\n",
    "    return myNumList\n",
    "\n",
    "    \n",
    "def lottoMachine(num):\n",
    "    numList = np.random.choice(45, num, replace = False)\n",
    "    numList = sorted(numList)\n",
    "    return numList\n",
    "\n",
    "# 로또 숫자 비교기\n",
    "# 비교해서 결과값까지 출력\n",
    "def lottoCompare(myNumList, numList):\n",
    "    count = 0\n",
    "    for myNum in myNumList:\n",
    "        for num in numList:\n",
    "        \n",
    "            if myNum == num:\n",
    "                count += 1\n",
    "                print(myNum, end = ' ')\n",
    "\n"
   ]
  },
  {
   "cell_type": "code",
   "execution_count": 27,
   "id": "663e1a38",
   "metadata": {},
   "outputs": [
    {
     "name": "stdout",
     "output_type": "stream",
     "text": [
      "생성된 로또 번호:[1, 18, 19, 30, 38, 41]\n",
      "추첨된 로또 번호:[2, 7, 9, 19, 26, 39]\n",
      "19 "
     ]
    }
   ],
   "source": [
    "# 함수 실행\n",
    "DEBUG = True\n",
    "# 로또 숫자의 개수    \n",
    "num = 6\n",
    "\n",
    "# 로또 번호 추출기 호출\n",
    "# 자동으로 생성하려면 첫번째 인수에 True\n",
    "# 수동으로 생성하려면 첫번째 인수에 False\n",
    "myNumList = lottoNumGen(True, num)\n",
    "if DEBUG == True:\n",
    "    print('생성된 로또 번호:{}'.format(myNumList))\n",
    "    \n",
    "    \n",
    "# 로또 추첨기 호출\n",
    "numList = lottoMachine(num)\n",
    "if DEBUG == True:\n",
    "    print('추첨된 로또 번호:{}'.format(numList))\n",
    "    \n",
    "lottoCompare(myNumList, numList)"
   ]
  },
  {
   "cell_type": "markdown",
   "id": "52260fbe",
   "metadata": {},
   "source": [
    "추가 도전:사다리만들기, 미로탈출"
   ]
  },
  {
   "cell_type": "code",
   "execution_count": null,
   "id": "5c3f1999",
   "metadata": {},
   "outputs": [],
   "source": []
  }
 ],
 "metadata": {
  "kernelspec": {
   "display_name": "Python 3 (ipykernel)",
   "language": "python",
   "name": "python3"
  },
  "language_info": {
   "codemirror_mode": {
    "name": "ipython",
    "version": 3
   },
   "file_extension": ".py",
   "mimetype": "text/x-python",
   "name": "python",
   "nbconvert_exporter": "python",
   "pygments_lexer": "ipython3",
   "version": "3.8.16"
  }
 },
 "nbformat": 4,
 "nbformat_minor": 5
}
