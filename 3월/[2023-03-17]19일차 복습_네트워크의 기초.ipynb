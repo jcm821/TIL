{
 "cells": [
  {
   "cell_type": "markdown",
   "id": "f04f149b",
   "metadata": {},
   "source": [
    "# 용어정리"
   ]
  },
  {
   "cell_type": "markdown",
   "id": "7320c46e",
   "metadata": {},
   "source": [
    "## LAN과 WAN"
   ]
  },
  {
   "cell_type": "markdown",
   "id": "f8142448",
   "metadata": {},
   "source": [
    "* **LAN**: '거점내부'를 연결\n",
    "* **WAN**: '거점과 거점', 또는 '거점과 인터넷'을 연결"
   ]
  },
  {
   "cell_type": "markdown",
   "id": "066860b2",
   "metadata": {},
   "source": [
    "### LAN 특징"
   ]
  },
  {
   "cell_type": "markdown",
   "id": "463277a7",
   "metadata": {},
   "source": [
    "* LAN 케이블로 접속하는 유선 랜과 전파로 접속하는 무선 랜이 있다.\n",
    "* 이더넷(Ethernet): 랜에 이용되는 물리적인 회선이나 접속 커넥터에 관해 정해진 규격, OSI참조 모델의 1층과 2층에 해당"
   ]
  },
  {
   "cell_type": "markdown",
   "id": "532be453",
   "metadata": {},
   "source": [
    "### WAN 특징"
   ]
  },
  {
   "cell_type": "markdown",
   "id": "f8a26264",
   "metadata": {},
   "source": [
    "* 통신 3사등의 통신 사업자가 제공하는 통신 회선 서비스를 이용하는 네트워크\n",
    "* 통신 사업자의 설비를 빌려야 하므로 통신 서비스 이용료나 네트워크 기기 임대료를 지불해야 함\n",
    "* 휴대전화와 같은 무선 통신의 왠도 존재한다."
   ]
  },
  {
   "cell_type": "markdown",
   "id": "aec13f90",
   "metadata": {},
   "source": [
    "## 네트워크 구성 요소"
   ]
  },
  {
   "cell_type": "markdown",
   "id": "b22f5716",
   "metadata": {},
   "source": [
    "### 1. PC, 휴대전화 등\n",
    "* 사용자가 일반적으로 이용하는 단말"
   ]
  },
  {
   "cell_type": "markdown",
   "id": "d0b76aec",
   "metadata": {},
   "source": [
    "### 2. 서버\n",
    "* 어떤 서비스를 제공하는 컴퓨터"
   ]
  },
  {
   "cell_type": "markdown",
   "id": "690fa86e",
   "metadata": {},
   "source": [
    "### 3. 스위치\n",
    "* **L2스위치**: 단순히 유선 랜을 묶는 것\n",
    "* **L3스위치**: 네트워크와 네크워크를 연결하는 기능이 있는 것\n",
    "* **L4스위치 또는 L7스위치**: 부하 분산 및 애플리케이션에 맞게 통신을 제어할 수 있는 고급 스위치"
   ]
  },
  {
   "cell_type": "markdown",
   "id": "cdadcddc",
   "metadata": {},
   "source": [
    "### 4. ONU\n",
    "* 광신호와 디지털 신호를 변환하는 장치, 광 모뎀이라고 이해하면 된다."
   ]
  },
  {
   "cell_type": "markdown",
   "id": "b9f7aa83",
   "metadata": {},
   "source": [
    "### 5. 라우터\n",
    "* 네트워크와 네트워크를 연결하는 기능이 있는 네트워크 장비\n",
    "* 랜과 인터넷의 경계에 설지되어 네트워크 간 다리를 놓거나, 거점과 거점을 연결하거나, 여러 단말기오 네트웤 회선을 공용하는 역할"
   ]
  },
  {
   "cell_type": "markdown",
   "id": "55334458",
   "metadata": {},
   "source": [
    "### 6. 방화벽\n",
    "* 라우터와 마찬가지로 네트워크의 경계에 놓이는 장비이지만 라우터와 달리 보안 기능에 중점적이다.\n",
    "* 통신 동작에 수상한 점은 없는지 확인하거나, 안티 바이러스와 안티 스팸, 침입 감지/방어의 역할 수행"
   ]
  },
  {
   "cell_type": "markdown",
   "id": "ad6db740",
   "metadata": {},
   "source": [
    "### 7. 가상 라우터\n",
    "* **VPC**: 퍼블릭 클라우드를 가상 클라우드로 이용하는 기술, 가상적인 데이터 센터\n",
    "* 라우터가 전용 하드웨어로 제공된다면, 가상 라우터는 클라우드에서 실행되는 소프트웨어로 제공된다."
   ]
  },
  {
   "cell_type": "markdown",
   "id": "bc2cb14d",
   "metadata": {},
   "source": [
    "## 네트워크와 인터넷"
   ]
  },
  {
   "cell_type": "markdown",
   "id": "5cf41996",
   "metadata": {},
   "source": [
    "### 인터네트워킹\n",
    "* 'inter' + 'network'\n",
    "* 복수의 네트워크를 서로 연결하는것\n",
    "* 전 세계적으로 인터네트워킹 하는것이 바로 **인터넷**이다."
   ]
  },
  {
   "cell_type": "markdown",
   "id": "5214ba5f",
   "metadata": {},
   "source": [
    "### ISP\n",
    "* KT, SKT, LG U+와 같은 인터넷 서비스 제공자"
   ]
  },
  {
   "cell_type": "markdown",
   "id": "f3764f18",
   "metadata": {},
   "source": [
    "### tracert명령어\n",
    "* 실행한 컴퓨터에서 목적지 컴퓨터까지 가는 네트워크의 IP주소를 조사하는 도구\n",
    "* tracert명령어를 실행하면 컴퓨터에서 해당 서버에 이르는 경로가 목록으로 표시됨"
   ]
  },
  {
   "cell_type": "markdown",
   "id": "ae55c3ce",
   "metadata": {},
   "source": [
    "### 프로토콜\n",
    "* 컴퓨터끼리 통신에 필요한 공통적인 약속\n",
    "* TCP/IP와 UDP등"
   ]
  },
  {
   "cell_type": "markdown",
   "id": "54086de9",
   "metadata": {},
   "source": [
    "## TCP/IP의 기본"
   ]
  },
  {
   "cell_type": "markdown",
   "id": "83915f32",
   "metadata": {},
   "source": [
    "* **TCP/IP**: 인터넷 프로토콜 스위트, TCP(Transmisiion Control Protocol)와 IP(Internet Protocol)를 합친 개념\n",
    "* 수많은 인터넷 통신 프로토콜 세트를 의미, UDP나 ICMP등 다른 프로토콜도 TCP/IP에 포함"
   ]
  },
  {
   "cell_type": "markdown",
   "id": "dbb32514",
   "metadata": {},
   "source": [
    "### TCP/IP vs UDP"
   ]
  },
  {
   "cell_type": "markdown",
   "id": "590bade7",
   "metadata": {},
   "source": [
    "#### TCP/IP의 특징\n",
    "* 연결 지향 방식\n",
    "* 3-way handshaking과정을 통해 연결을 설정하고 4-way handshaking을 통홰 해제\n",
    "* 흐름 제어 및 혼잡 제어\n",
    "* 높은 신뢰성 보장\n",
    "* UDP보다 속도가 느림\n",
    "* 전이중(Full-Duplex), 점대점(Poin to Point)방식\n",
    "* 예: 데이터가 제대로 송,수신될때까지 시도한다"
   ]
  },
  {
   "cell_type": "markdown",
   "id": "d9cc11ef",
   "metadata": {},
   "source": [
    "#### TCP 서버의 특징\n",
    "* 서버소켓은 연결만을 담당\n",
    "* 연결과정에서 반환된 클라이언트 소켓은 데이터의 송수신이 사용됨\n",
    "* 서버와 클라이언트는 1대1로 연결\n",
    "* 스트림 정송으로 전송 데이터의 크기가 무제한\n",
    "* 패킷에 대한 응답을 해야하기 떄문에(시간 지연, CPU 소모) 성능이 낮다.\n",
    "* Streaming 서비스에 불리(손실된 경우 재전송 요청을 하므로)"
   ]
  },
  {
   "cell_type": "markdown",
   "id": "c70c50e8",
   "metadata": {},
   "source": [
    "### UDP\n",
    "* 데이터를 데이터그램 단위로 처리하는 프로토콜\n",
    "* 비연결형 프로토콜\n",
    "* 연결을 위해 할당되는 논리적인 경로가 없어 각각의 패킷은 다른 경로로 전송되고, 각각의 패킷은 독립적인 관계\n",
    "* 데이터를 서로 다른 경로로 독립적으로 처리하게 되는 프로토콜"
   ]
  },
  {
   "cell_type": "markdown",
   "id": "e43fc129",
   "metadata": {},
   "source": [
    "#### UDP 특징\n",
    "* 비연결형 서비스로 데이터그램 방식을 제공\n",
    "* 정보를 주고 받을 때 정보를 보내거나 받는다는 신호절차를 거치지 않는다.\n",
    "* UDP헤더의 CheckSum 필드를 통해 최소한의 오류만 검출함\n",
    "* 신뢰성이 낮음\n",
    "* TCP보다 속도가 빠름\n",
    "* 예: 정보를 송,수신하는 확인절차 진행X"
   ]
  },
  {
   "cell_type": "markdown",
   "id": "0783061e",
   "metadata": {},
   "source": [
    "#### UDP 서버의 특징\n",
    "* UDP에는 연결 자체가 없어서(connect함수 불필요) 서버 소켓과 클라이언트 소켓의 구분이 없음\n",
    "* 소켓 대신 IP기반으로 데이터 전송\n",
    "* 서버와 클라이언트는 1대1, 1대N, N대M 등으로 연결\n",
    "* 데이터그램(메세지) 단위로 전송되며 그 크기는 65535바이트로, 크기가 초과하면 잘라서 보냄\n",
    "* 흐름제어(flow control)가 없어서 패킷이 제대로 전송되었는지, 오류가 없는지 확인할 수 없음\n",
    "* 파일 전송과 같은 신뢰성이 필요한 서비스보다 성능이 중요시 되는 경우에 사용"
   ]
  },
  {
   "cell_type": "markdown",
   "id": "bd60714c",
   "metadata": {},
   "source": [
    "### 흐름제어(Flow Control)와 혼잡제어(Congestion Control)\n",
    "* **흐름제어**: 데이터를 송신하는 곳과 수신하는 곳의 데이터 처리 속도를 조절하여 수신자의 버퍼 오버플로우를 방지하는 것\n",
    "* **혼잡제어**: 네트워크 내의 패킷 수가 넘치게 증가하지 않도록 방지하는 것, 만약 정보의 소통량의 과다하면 패킷을 조금만 전송하여 혼잡 붕괴 현상이 일어나는 것을 막는다."
   ]
  },
  {
   "cell_type": "markdown",
   "id": "e115e5be",
   "metadata": {},
   "source": [
    "### 주소"
   ]
  },
  {
   "cell_type": "markdown",
   "id": "fc02b7a3",
   "metadata": {},
   "source": [
    "#### IP주소\n",
    "* TCP/IP에서 컴퓨터를 식별하려 할당되는 번호\n",
    "* xxx.xxx.xxx.xxx의 형태\n",
    "* **프라이빗 IP주소**: 랜 내부에서 사용되는 것\n",
    "* **글로벌 IP주소**: 인터넷에서 사용되는 것"
   ]
  },
  {
   "cell_type": "markdown",
   "id": "52d0444a",
   "metadata": {},
   "source": [
    "#### MAC주소\n",
    "* 컴퓨터나 라우터 등 네트워크 기기에 처음부터 할당되는 주소\n",
    "* MAC주소를 IP주소와 조합해야 비로소 컴퓨터끼리 통신 가능"
   ]
  },
  {
   "cell_type": "markdown",
   "id": "9801df66",
   "metadata": {},
   "source": [
    "#### ARP\n",
    "* IP패킷을 보내고 싶은 상대의 MAC주소를 조사할 때 이용\n",
    "* IP주소에 대응하는 MAC주소를 알아내려고 네트워크전체에 패킷을 보내면 자신을 찾는 것을 안 컴퓨터가 응답(ARP reply)함으로써 MAC주소와 IP주소를 연결하여 통신할 수 있는 일련의 시스템"
   ]
  },
  {
   "cell_type": "markdown",
   "id": "cdd1212e",
   "metadata": {},
   "source": [
    "#### 브로트캐스트\n",
    "* 네트워크 전체에 패킷을 보내는 것, 각 발신자가 그룹의 모든 수신자에게 메시지를 전송하는 통신 방법"
   ]
  },
  {
   "cell_type": "markdown",
   "id": "0934dda7",
   "metadata": {},
   "source": [
    "### 패킷\n",
    "* **회선 교환**: 아날로그 전화방식, 데이터를 교환하는 동안 계속해서 회선을 점유하는 방식\n",
    "* **패킷 고환**: 주고받는 데이터를 '패킷'이라고 하는 작은 덩어리로 나누고, 회선을 고용해서 복수의 통신을 내보내는 방식\n",
    "* 패킷은 데이터의 주소정보를 포함하는 **헤더**와, 작게 나워진 데이터를 **페이로드**라고 한다."
   ]
  },
  {
   "cell_type": "markdown",
   "id": "24e92f5e",
   "metadata": {},
   "source": [
    "### DHCP\n",
    "* 라우터에서 IP주소를 자동으로 할당하는 기술"
   ]
  },
  {
   "cell_type": "markdown",
   "id": "60aab0c3",
   "metadata": {},
   "source": [
    "### 서브넷 마스크\n",
    "* IPv4주소 -> xxx.xxx.xxx.xxx의 형식\n",
    "* 8자리 2진수 4개\n",
    "* **네트워크부**: 네트워크를 나타내는 정보\n",
    "* **호스트부**: 그 네트워크 안의 커퓨터를 특정하는 정보\n",
    "* IP주소: 192.168.1.1\n",
    "* 서브넷마스크: 255.255.255.0"
   ]
  },
  {
   "cell_type": "markdown",
   "id": "813e8bcc",
   "metadata": {},
   "source": [
    "### HTTP와 HTTPS\n",
    "* HTTP는 암호화가 추가되지 않기 때문에 보안에 취약, HTTPS는 안전하게 데이터를 주고받을 수 있다.\n",
    "* HTTPS 이용 시 암호화/복호화의 과정(SSL)이 필요하므로 HTTP보다 속도가 느림\n",
    "* HTTPS는 인증서를 발급하고, 유지하기 위한 추가 비용 발생"
   ]
  },
  {
   "cell_type": "markdown",
   "id": "615d1aeb",
   "metadata": {},
   "source": [
    "* 명령프롬포트에서 ipconfig /all명령을 입력하면 사용자의 네트워크 정보를 볼 수 있다.\n",
    "* 만약 IPv4주소가 기본설정이아닌 다른 주소로 할당되어 있다면, 공유기가 IP할당을 올바르게 받지 못한것이므로 공유기와 모뎀을 리부팅해본다."
   ]
  },
  {
   "cell_type": "markdown",
   "id": "8bc75cbe",
   "metadata": {},
   "source": [
    "* 명령프롬포트에서 ping명령을 입력하며 네트워크상에 있는 컴퓨터나 호스트에 신호(패킷)를 보내서 정확하게 목적지에 도달했는지 조사할 수 있다.\n",
    "* ping명령어의 대상을 IP주소가 아닌 호스트 이름으로 지정하면 DNS가 자동으로 IP주소로 편환하여 ping명령어를 실행한다."
   ]
  },
  {
   "cell_type": "markdown",
   "id": "8f5cb39a",
   "metadata": {},
   "source": [
    "## 포트포워딩"
   ]
  },
  {
   "cell_type": "markdown",
   "id": "ff28ec69",
   "metadata": {},
   "source": [
    "* 컴퓨터 네트워크 상에서 패킷이 방화벽이나 라우터 같은 네트워크 게이트를 지날 때 IP 주소와 포트 번호 결합의 통신 요청을 다른 곳으로 넘겨주는 네트워크 주소 변환의 응용\n",
    "* 포트(port)를 전달해 주는것, 특정한 포트로 들어오는 데이터 패킷을 다른 포트로 바꿔서 다시 전송해주는 작업\n",
    "* 수신데이터가 NAT 방화벽을 우회하도록 하여 인터넷 연결속도를 개선\n",
    "* 인터넷 속도를 개선해주고 원격으로 기기에 액세스하도록 도와준다.\n",
    "* 포트를 열어두는 작업이므로 해킹과 같은 보안문제에 취약하다는 단점이 존재\n"
   ]
  },
  {
   "cell_type": "markdown",
   "id": "fbb57fe2",
   "metadata": {},
   "source": [
    "### NAT\n",
    "* IP 주소를 변환하는 기술\n",
    "* 명령프롬포트에서 netstat명령어를 통해 컴퓨터에서 어떤 포트가 사용되는지 볼 수 있다.\n",
    "* 1. 자신의 IP주소 - 2. 자신의 포트 번호 - 3. 외부 IP주소 - 4. 외부 포트 번호 - 5. 접속상태\n",
    "* 접속상태: ESTABLISHED = 연결 중, CLSOE_WAIT = 종료대기\n",
    "* 표시된 주소 중 127.0.0.1은 자신을 나타내는 특수한 ip주소이다."
   ]
  },
  {
   "cell_type": "markdown",
   "id": "839524b1",
   "metadata": {},
   "source": [
    "### CIDR\n",
    "* 목적지 여러개를 모은 것\n",
    "* AWS 클라우드 구축 시 물어보는 경우가 있을것이다."
   ]
  },
  {
   "cell_type": "markdown",
   "id": "bd38740d",
   "metadata": {},
   "source": [
    "### 정적라우팅과 동적라우팅"
   ]
  },
  {
   "cell_type": "markdown",
   "id": "d91e7da6",
   "metadata": {},
   "source": [
    "#### 정적라우팅\n",
    "* 라우팅 테이블을 수동으로 관리하는 기술\n",
    "* 네트워크 구축, 네트워크 구성 변경때 사람이 직접 모든 라우팅 테이블을 설정"
   ]
  },
  {
   "cell_type": "markdown",
   "id": "0323b1fd",
   "metadata": {},
   "source": [
    "#### 동적라우팅\n",
    "* 라우터끼리 정기적 또는 필요에 따라 네트워크 접속 경로에 관한 정보 교환\n",
    "* 이를 바탕으로 라우팅 테이블을 자동으로 설정하는 방법\n",
    "* 트래픽이 몰리게 되면 다른 라우터 테이블로 경로를 업데이트 해주는 개념"
   ]
  },
  {
   "cell_type": "markdown",
   "id": "e85fed50",
   "metadata": {},
   "source": [
    "## DNS 와 DDNS의 차이"
   ]
  },
  {
   "cell_type": "markdown",
   "id": "3c7d1560",
   "metadata": {},
   "source": [
    "### 1. DNS(Domain Name System)"
   ]
  },
  {
   "cell_type": "markdown",
   "id": "fa87c35e",
   "metadata": {},
   "source": [
    "* 일반적으로 ip숫자는 xxx.xxx.xxx.xxx과 같이 연속된 12자리 숫자로 되어있어 외우기 힘든 구조\n",
    "* ip주소 대신 도메인(key)를 입력하면 브라우저는 DNS를 운영하는 기업의 서버에게 도메인(key)에 해당하는 ip(value)가 무엇인지 물어보고 ip를 알아내면 그 줏고로 다시 요청을 보내는 시스템\n",
    "* 컴퓨터가 실제로 사용하는 ip주소 대신 인간이 외우기 쉬운 글자들로 주소를 매핑하는 것"
   ]
  },
  {
   "cell_type": "markdown",
   "id": "c922cb23",
   "metadata": {},
   "source": [
    "### 2. DDNS(dynamic Domain Name System)"
   ]
  },
  {
   "cell_type": "markdown",
   "id": "6649f984",
   "metadata": {},
   "source": [
    "* 개인이 사용하는 유동 ip는 계속 바뀌지만 계속 바뀌는 ip를 도메인에 매핑되는 ip로 업데이트 해주면서 기억한다.\n",
    "* DDNS로 등록한 ip값이 바뀌어도 그때그때 바뀔때마다 바뀐 ip를 주기때문에 서버처럼 사용가능\n",
    "* ip값이 고정되어있지 않고 동적으로 계속 바뀌기 때문에 DDNS로 불린다."
   ]
  },
  {
   "cell_type": "markdown",
   "id": "91c13eb2",
   "metadata": {},
   "source": [
    "## Flask를 이용한 웹프로그래밍 기초"
   ]
  },
  {
   "cell_type": "code",
   "execution_count": 2,
   "id": "b9217a9e",
   "metadata": {
    "scrolled": true
   },
   "outputs": [
    {
     "name": "stdout",
     "output_type": "stream",
     "text": [
      "Requirement already satisfied: flask in c:\\anaconda3\\envs\\pythonex\\lib\\site-packages (2.2.3)\n",
      "Requirement already satisfied: Jinja2>=3.0 in c:\\anaconda3\\envs\\pythonex\\lib\\site-packages (from flask) (3.1.2)\n",
      "Requirement already satisfied: click>=8.0 in c:\\anaconda3\\envs\\pythonex\\lib\\site-packages (from flask) (8.1.3)\n",
      "Requirement already satisfied: Werkzeug>=2.2.2 in c:\\anaconda3\\envs\\pythonex\\lib\\site-packages (from flask) (2.2.3)\n",
      "Requirement already satisfied: itsdangerous>=2.0 in c:\\anaconda3\\envs\\pythonex\\lib\\site-packages (from flask) (2.1.2)\n",
      "Requirement already satisfied: importlib-metadata>=3.6.0 in c:\\anaconda3\\envs\\pythonex\\lib\\site-packages (from flask) (6.0.0)\n",
      "Requirement already satisfied: colorama in c:\\anaconda3\\envs\\pythonex\\lib\\site-packages (from click>=8.0->flask) (0.4.6)\n",
      "Requirement already satisfied: zipp>=0.5 in c:\\anaconda3\\envs\\pythonex\\lib\\site-packages (from importlib-metadata>=3.6.0->flask) (3.11.0)\n",
      "Requirement already satisfied: MarkupSafe>=2.0 in c:\\anaconda3\\envs\\pythonex\\lib\\site-packages (from Jinja2>=3.0->flask) (2.1.1)\n"
     ]
    }
   ],
   "source": [
    "# 패키지 설치\n",
    "!pip install flask"
   ]
  },
  {
   "cell_type": "code",
   "execution_count": null,
   "id": "f7efd83d",
   "metadata": {},
   "outputs": [],
   "source": [
    "# flask.Flask\n",
    "from flask import Flask\n",
    "app = Flask(__name__)\n",
    "# 장식자(decorator): 함수 장식자는 함수 코드를 바꾸지 않고도, 장식자 안의 내용만 바꿈으로 함수의 동작 조절\n",
    "@app.route(\"/\")\n",
    "def flaskEx1():\n",
    "    # html코드를 문자열로 입력\n",
    "    # html은 \"header\" + \"body\"로 이루어져 있다\n",
    "    return \"<h1>Hello World!</h1>\"\n",
    "\n",
    "@app.route(\"/melong/\")\n",
    "def melong():\n",
    "    return \"<h1>Melong!!!</h1>\"\n",
    "\n",
    "if __name__ == \"__main__\":\n",
    "    app.run()"
   ]
  },
  {
   "cell_type": "code",
   "execution_count": null,
   "id": "dbe09eb3",
   "metadata": {},
   "outputs": [],
   "source": [
    "# 모듈이 만들어지면 터미널을 통해 실행한다\n",
    "flask --app flaskEx1.py run"
   ]
  },
  {
   "cell_type": "markdown",
   "id": "d50c932e",
   "metadata": {},
   "source": [
    "* 결과"
   ]
  },
  {
   "attachments": {
    "image.png": {
     "image/png": "[encoded data removed]"
    }
   },
   "cell_type": "markdown",
   "id": "d6e33de7",
   "metadata": {},
   "source": [
    "![image.png](attachment:image.png)"
   ]
  },
  {
   "cell_type": "code",
   "execution_count": null,
   "id": "454eca15",
   "metadata": {},
   "outputs": [],
   "source": [
    "# 만들어진 모듈에 다음을 추가해보자\n",
    "# 모듈실행후 주소창은 127.0.0.1:5000/melong/를 입력해준다\n",
    "@app.route(\"/melong/\")\n",
    "def melong():\n",
    "    return \"<h1>Melong!!!</h1>\""
   ]
  },
  {
   "cell_type": "markdown",
   "id": "36dec5b9",
   "metadata": {},
   "source": [
    "* 결과"
   ]
  },
  {
   "attachments": {
    "image.png": {
     "image/png": "[encoded data removed]"
    }
   },
   "cell_type": "markdown",
   "id": "b8f3d498",
   "metadata": {},
   "source": [
    "![image.png](attachment:image.png)"
   ]
  },
  {
   "cell_type": "markdown",
   "id": "abe19cb5",
   "metadata": {},
   "source": [
    "* 참고: https://kkamikoon.tistory.com/entry/Python-Flask-%EC%9B%B9-%ED%8E%98%EC%9D%B4%EC%A7%80-%EB%A7%8C%EB%93%A4%EA%B8%B0-06-MySQL-%EC%97%B0%EB%8F%99%ED%95%98%EA%B8%B0DB-%ED%81%B4%EB%9E%98%EC%8A%A4-%EC%83%9D%EC%84%B1"
   ]
  }
 ],
 "metadata": {
  "kernelspec": {
   "display_name": "Python 3 (ipykernel)",
   "language": "python",
   "name": "python3"
  },
  "language_info": {
   "codemirror_mode": {
    "name": "ipython",
    "version": 3
   },
   "file_extension": ".py",
   "mimetype": "text/x-python",
   "name": "python",
   "nbconvert_exporter": "python",
   "pygments_lexer": "ipython3",
   "version": "3.8.16"
  }
 },
 "nbformat": 4,
 "nbformat_minor": 5
}
