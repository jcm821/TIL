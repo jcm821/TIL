{
 "cells": [
  {
   "cell_type": "code",
   "execution_count": 1,
   "id": "1e59bd91",
   "metadata": {},
   "outputs": [
    {
     "name": "stdout",
     "output_type": "stream",
     "text": [
      "3\n"
     ]
    }
   ],
   "source": [
    "# 피보나치 수열: 단순 재귀\n",
    "# 피보나치 함수(Fibonacci Function)을 재귀함수로 구현\n",
    "def fibo(x):\n",
    "    if x == 1 or x == 2:\n",
    "        return 1\n",
    "    return fibo(x - 1) + fibo(x - 2)\n",
    "print(fibo(4))"
   ]
  },
  {
   "cell_type": "code",
   "execution_count": 2,
   "id": "a1104fc4",
   "metadata": {},
   "outputs": [
    {
     "name": "stdout",
     "output_type": "stream",
     "text": [
      "218922995834555169026\n"
     ]
    }
   ],
   "source": [
    "# 피보나치 수열: 탑다운 다이나믹 프로그래밍\n",
    "# 한 번 계산된 결과를 메모이제이션하기 위한 리스트 초기화\n",
    "d = [0] * 100\n",
    "\n",
    "# 피보나치 함수를 재귀함수로 구현(탑다운 다이나믹 프로그래밍)\n",
    "def fibo(x):\n",
    "    # 종료 조건(1 혹은 2일때 1을 반환)\n",
    "    if x == 1 or x == 2:\n",
    "        return 1\n",
    "    # 이미 계산한 적 있는 문제라면 그대로 변환\n",
    "    if d[x] != 0:\n",
    "        return d[x]\n",
    "    # 아직 계산하지 않은 문제라면 점화식에 따라서 피보나치 결과 반환\n",
    "    d[x] = fibo(x - 1) + fibo(x - 2)\n",
    "    return d[x]\n",
    "print(fibo(99))"
   ]
  },
  {
   "cell_type": "code",
   "execution_count": 3,
   "id": "d7ebb60a",
   "metadata": {},
   "outputs": [
    {
     "name": "stdout",
     "output_type": "stream",
     "text": [
      "218922995834555169026\n"
     ]
    }
   ],
   "source": [
    "# 피보나치 수열: 보텀업 다이나믹 프로그래밍\n",
    "# 앞서 계산된 결과를 저장하기 위한 DP 테이블 초기화\n",
    "d = [0] * 100\n",
    "\n",
    "# 첫번째 피보나치 수와 두번째 피보나치 수는 1\n",
    "d[1] = 1\n",
    "d[2] = 1\n",
    "n = 99\n",
    "\n",
    "# 피보나치 함수 반복문으로 구현\n",
    "for i in range(3, n + 1):\n",
    "    d[i] = d[i - 1] + d[i - 2]\n",
    "\n",
    "print(d[n])"
   ]
  },
  {
   "cell_type": "code",
   "execution_count": 4,
   "id": "1c91c3e0",
   "metadata": {},
   "outputs": [
    {
     "name": "stdout",
     "output_type": "stream",
     "text": [
      "f(6) "
     ]
    },
    {
     "data": {
      "text/plain": [
       "8"
      ]
     },
     "execution_count": 4,
     "metadata": {},
     "output_type": "execute_result"
    }
   ],
   "source": [
    "# 메모이제이션 동작분석\n",
    "def fibo(x):\n",
    "    print('f(' + str(x) +')', end =' ')\n",
    "    if x == 1 or x == 2:\n",
    "        return 1\n",
    "    if d[x] != 0:\n",
    "        return d[x]\n",
    "    d[x] = fibo(x - 1) + fibo(x - 2)\n",
    "    return d[x]\n",
    "fibo(6)"
   ]
  },
  {
   "cell_type": "markdown",
   "id": "ecf5b4af",
   "metadata": {},
   "source": [
    "## 개미전사 문제"
   ]
  },
  {
   "cell_type": "code",
   "execution_count": 5,
   "id": "b7e78bfa",
   "metadata": {},
   "outputs": [],
   "source": [
    "# 개미 전사 문제\n",
    "# 입력 조건\n",
    "# 첫째 줄에 식량창고의 개수 N이 주어집니다 (3 <= N <= 100)\n",
    "# 둘째 줄에 공백을 기준으로 각 식량창고에 저장된 식량의 개수 K가 주어집니다. (0 <= K <= 1000)\n",
    "\n",
    "# 출력 조건\n",
    "# 첫째 줄에 개미 전사가 얻을 수 있는 식량의 최댓값을 출력하세요\n",
    "\n",
    "# 입력 예시\n",
    "# 4\n",
    "# 1 3 1 5\n",
    "\n",
    "# 답안 예시"
   ]
  },
  {
   "cell_type": "code",
   "execution_count": 6,
   "id": "691e91c8",
   "metadata": {},
   "outputs": [
    {
     "name": "stdout",
     "output_type": "stream",
     "text": [
      "4\n",
      "1 3 1 5\n",
      "8\n"
     ]
    }
   ],
   "source": [
    "# 정수 N을 입력 받기\n",
    "n = int(input())\n",
    "\n",
    "# 모든 식량 정보 입력 받기\n",
    "array = list(map(int, input().split()))\n",
    "\n",
    "# 앞서 계산된 결과를 저장하기 위한 DP 테이블 초기화\n",
    "d = [0] * 100\n",
    "\n",
    "# 다이나믹 프로그래밍 진행(보텀업)\n",
    "d[0] = array[0]\n",
    "d[1] = max(array[0], array[1])\n",
    "for i in range(2, n):\n",
    "    d[i] = max(d[i - 1], d[i - 2] + array[i])\n",
    "\n",
    "# 계산된 결과 출력\n",
    "print(d[n - 1])"
   ]
  },
  {
   "cell_type": "markdown",
   "id": "7ba19b2b",
   "metadata": {},
   "source": [
    "## 1로 만들기 문제"
   ]
  },
  {
   "cell_type": "code",
   "execution_count": 7,
   "id": "537d441c",
   "metadata": {},
   "outputs": [],
   "source": [
    "# 1로 만들기 문제\n",
    "# 첫째 줄에 정수 X가 주어집니다 (1 <= X <= 30000)\n",
    "# 첫째 줄에 연산을 하는 횟수의 최솟값을 출력합니다.\n",
    "# 입력 예시\n",
    "# 26"
   ]
  },
  {
   "cell_type": "code",
   "execution_count": 8,
   "id": "199f766c",
   "metadata": {},
   "outputs": [
    {
     "name": "stdout",
     "output_type": "stream",
     "text": [
      "26\n",
      "3\n"
     ]
    }
   ],
   "source": [
    "# 정수 X를 입력 받기\n",
    "x = int(input())\n",
    "\n",
    "# 앞서 계산된 결과를 저장하기 위한 DP테이블 초기화\n",
    "d = [0] * 30001\n",
    "\n",
    "# 다이나믹 프로그래밍 진행(보텀업)\n",
    "for i in range(2, x + 1):\n",
    "    # 현재의 수에서 1을 빼는 경우\n",
    "    d[i] = d[i - 1] + 1\n",
    "    # 현재의 수가 2로 나누어 떨어지는 경우\n",
    "    if i % 2 == 0:\n",
    "        d[i] = min(d[i], d[i // 2] + 1)\n",
    "    # 현재의 수가 3로 나누어 떨어지는 경우\n",
    "    if i % 3 == 0:\n",
    "        d[i] = min(d[i], d[i // 3] + 1)\n",
    "    # 현재의 수가 5로 나누어 떨어지는 경우\n",
    "    if i % 5  == 0:\n",
    "        d[i] = min(d[i], d[i // 5] + 1)\n",
    "\n",
    "print(d[x])"
   ]
  },
  {
   "cell_type": "markdown",
   "id": "2c469654",
   "metadata": {},
   "source": [
    "## 효율적인 화폐 구성 문제"
   ]
  },
  {
   "cell_type": "code",
   "execution_count": 9,
   "id": "c5fe981b",
   "metadata": {},
   "outputs": [],
   "source": [
    "# 효율적인 화폐 구성 문제\n",
    "# 입력 조건\n",
    "# 첫째 줄에 N, M이 주어진다. (1<= N <= 100, 1 <= M <= 10000)\n",
    "# 이후의 N개의 줄에는 각 화폐의 가치가 주어진다. 화폐의 가치는 10000보다 작거나 같은 자연수이다.\n",
    "\n",
    "# 출력 조건\n",
    "# 첫째 줄에 최소 화폐 개수를 출력한다. 불가능할 때는 -1을 출력한다.\n",
    "\n",
    "# 입력 예시1\n",
    "# 2 15\n",
    "# 2\n",
    "# 3\n",
    "\n",
    "# 입력 예시2\n",
    "# 3 4\n",
    "# 3\n",
    "# 5\n",
    "# 7"
   ]
  },
  {
   "cell_type": "code",
   "execution_count": 10,
   "id": "ce904f7c",
   "metadata": {},
   "outputs": [
    {
     "name": "stdout",
     "output_type": "stream",
     "text": [
      "2 15\n",
      "2\n",
      "3\n",
      "5\n"
     ]
    }
   ],
   "source": [
    "# 답안 예시\n",
    "# 정수 N, M을 입력 받기\n",
    "n, m = map(int, input().split())\n",
    "\n",
    "# N개의 화폐 단위 정보를 입력받기\n",
    "array = []\n",
    "for i in range(n):\n",
    "    array.append(int(input()))\n",
    "\n",
    "# 한 번 계산된 결과를 저장하기 위한 DP테이블 초기화\n",
    "d = [10001] * (m + 1)\n",
    "\n",
    "# 다이나믹 프로그램 진행(보텀업)\n",
    "d[0] = 0\n",
    "# 각각의 화폐단위에 대하여\n",
    "for i in range(n):\n",
    "    #각 금액에 대하여\n",
    "    for j in range(array[i], m + 1):\n",
    "        if d[j - array[i]] != 10001:\n",
    "            # (i - k)원을 만드는 방법이 존재하는 경우\n",
    "            d[j] = min(d[j], d[j - array[i]] + 1)\n",
    "\n",
    "\n",
    "# 계산된 결과 출\n",
    "# 최종적으로 M원을 만드는 방법이 없는 경우\n",
    "if d[m] == 10001:\n",
    "    print(-1)\n",
    "else:\n",
    "    print(d[m])"
   ]
  },
  {
   "cell_type": "markdown",
   "id": "55b80432",
   "metadata": {},
   "source": [
    "## 금광 문제"
   ]
  },
  {
   "cell_type": "code",
   "execution_count": 11,
   "id": "84a7756a",
   "metadata": {},
   "outputs": [],
   "source": [
    "# 금광 문제\n",
    "\n",
    "# 입력 조건\n",
    "# 첫째 줄에 테스트 케이스 T가 입력됩니다. (1 <= T <= 1000)\n",
    "# 매 태스트 케이스 첫째 줄에 n과 m이 공백으로 구분되어 입력됩니다. (1 <= n, m <= 20)\n",
    "# 둘째 줄에 n X m개의 위치에 매장된 금의 개수가 공백으로 구분되어 입력됩니다. (1 <= 각 위치에 매장된 금의 개수 <= 100)\n",
    "\n",
    "# 출력 조건\n",
    "# 테스트 케이스마다 채굴자가 얻을 수 있는 최대 금의 최대 크기를 출력합니다. 각 테스트 케이스는 줄 바꿈을 이용해 구분합니다.\n",
    "\n",
    "# 입력 예시\n",
    "# 2\n",
    "# 3 4\n",
    "# 1 3 3 2 2 1 4 1 0 6 4 7\n",
    "# 4 4\n",
    "# 1 3 1 5 2 2 4 1 5 0 2 3 0 6 1 2"
   ]
  },
  {
   "cell_type": "code",
   "execution_count": 12,
   "id": "b53c82b7",
   "metadata": {},
   "outputs": [
    {
     "name": "stdout",
     "output_type": "stream",
     "text": [
      "2\n",
      "3 4\n",
      "1 3 3 2 2 1 4 1 0 6 4 7\n",
      "19\n",
      "4 4\n",
      "1 3 1 5 2 2 4 1 5 0 2 3 0 6 1 2\n",
      "16\n"
     ]
    }
   ],
   "source": [
    "# 답안 예시\n",
    "# 테스트 케이스 입력\n",
    "for tc in range(int(input())):\n",
    "    # 금광 정보 입력\n",
    "    n, m = map(int, input().split())\n",
    "    array = list(map(int, input().split()))\n",
    "\n",
    "    # 다이나믹 프로그래밍을 위한 2차원 DP 테이블 초기화\n",
    "    dp = []\n",
    "    index = 0\n",
    "    for i in range(n):\n",
    "        dp.append(array[index:index + m])\n",
    "        index += m\n",
    "\n",
    "    # 다이나믹 프로그래밍 진행\n",
    "    for j in range(1, m):\n",
    "        for i in range(n):\n",
    "            # 왼쪽 위에서 오는 경우\n",
    "            if i == 0: left_up = 0\n",
    "            else: left_up = dp[i - 1][j - 1]\n",
    "            # 왼쪽 아래에서 오는 경우\n",
    "            if i == n - 1: left_down = 0\n",
    "            else: left_down = dp[i + 1][j - 1]\n",
    "            # 왼쪽에서 오는 경우\n",
    "            left = dp[i][j - 1]\n",
    "            dp[i][j] = dp[i][j] + max(left_up, left_down, left)\n",
    "    result = 0\n",
    "    for i in range(n):\n",
    "        result = max(result, dp[i][m - 1])\n",
    "    print(result)"
   ]
  },
  {
   "cell_type": "markdown",
   "id": "f839d03e",
   "metadata": {},
   "source": [
    "## 병사 배치하기 문제"
   ]
  },
  {
   "cell_type": "code",
   "execution_count": 13,
   "id": "f3de05af",
   "metadata": {},
   "outputs": [],
   "source": [
    "# 병사 배치하기 문제\n",
    "# 입력 조건\n",
    "# 첫째 줄에 N이 주어집니다. (1 <= N <= 2000), 둘째 줄에 각 병사의 전투력이 공백으로 구분되어 차례대로 주어집니다.\n",
    "# 각 병사의 전투력은 10000000보다 작거나 같은 자연수입니다.\n",
    "\n",
    "# 출력 조건\n",
    "# 첫째 줄에 남아 있는 병사의 수가 최대가 되도록 하기 위해서 열외시켜야 하는 병사의 수를 출력합니다.\n",
    "\n",
    "# 입력 예시\n",
    "# 7\n",
    "# 15 11 4 8 5 2 4"
   ]
  },
  {
   "cell_type": "code",
   "execution_count": 14,
   "id": "aedd89f9",
   "metadata": {},
   "outputs": [
    {
     "name": "stdout",
     "output_type": "stream",
     "text": [
      "7\n",
      "15 11 4 8 5 2 4\n",
      "2\n"
     ]
    }
   ],
   "source": [
    "# 답안 예시\n",
    "n = int(input())\n",
    "array = list(map(int, input().split()))\n",
    "# 순서를 뒤집어 '최장 증가 부분 수열' 문제로 변환\n",
    "array.reverse()\n",
    "\n",
    "# 다이나믹 프로그래밍을 위한 1차원 DP테이블 초기화\n",
    "dp = [1] * n\n",
    "\n",
    "# 가장 긴 증가하는 부분 수열(LIS) 알고리즘 수행\n",
    "for i in range(1, n):\n",
    "    for j in range(0, i):\n",
    "        if array[j] < array[i]:\n",
    "            dp[i] = max(dp[i], dp[j] + 1)\n",
    "\n",
    "# 열외해야 하는 병사의 최소 수를 출력\n",
    "print(n - max(dp))"
   ]
  },
  {
   "cell_type": "markdown",
   "id": "3b503aef",
   "metadata": {},
   "source": [
    "## 거스름돈 문제"
   ]
  },
  {
   "cell_type": "code",
   "execution_count": 15,
   "id": "f229f47f",
   "metadata": {},
   "outputs": [
    {
     "name": "stdout",
     "output_type": "stream",
     "text": [
      "10\n"
     ]
    }
   ],
   "source": [
    "# 거스름 돈 문제\n",
    "n = 1260\n",
    "count = 0\n",
    "\n",
    "# 큰 단위의 화폐부터 차례대로 확인하기\n",
    "array = [500, 100, 550, 10]\n",
    "\n",
    "for coin in array:\n",
    "    # 해당 화폐로 거슬러 줄 수 있는 동전의 개수 세기\n",
    "    count += n // coin\n",
    "    n %= coin\n",
    "\n",
    "print(count)"
   ]
  },
  {
   "cell_type": "markdown",
   "id": "759b13bb",
   "metadata": {},
   "source": [
    "## 1이 될 때까지 문제"
   ]
  },
  {
   "cell_type": "code",
   "execution_count": 16,
   "id": "f84005d0",
   "metadata": {},
   "outputs": [],
   "source": [
    "# 1이 될 때까지 문제\n",
    "# 입력 조건\n",
    "# 첫째 줄에 N(1 <= N <= 100000)과 K(2 <= K <= 100000)가 공백을 기준으로 하여 각각 자연수로 주어집니다.\n",
    "\n",
    "# 출력 조건\n",
    "# 첫째 줄에 N이 1이 될때따지 1번 혹은 2번의 과정을 수행해야 하는 횟수의 최솟값을 출력합니다.\n",
    "\n",
    "# 입력 예시\n",
    "# 25 5"
   ]
  },
  {
   "cell_type": "code",
   "execution_count": 17,
   "id": "658b6a4a",
   "metadata": {},
   "outputs": [
    {
     "name": "stdout",
     "output_type": "stream",
     "text": [
      "25 5\n",
      "2\n"
     ]
    }
   ],
   "source": [
    "# 답안 예시\n",
    "# N, K을 공백을 기준으로 구분하여 입력 받기\n",
    "n, k = map(int, input().split())\n",
    "\n",
    "result = 0\n",
    "\n",
    "while True:\n",
    "    # N이 K로 나누어 떨어지는 수가 될 때까지 빼기\n",
    "    target = (n // k) * k\n",
    "    result += (n - target)\n",
    "    n = target\n",
    "    # N이 K보다 작을 때(더 이상 나눌 수 없을 때) 반복문 탈출\n",
    "    if n < k:\n",
    "        break\n",
    "    # K로 나누기\n",
    "    result += 1\n",
    "    n //= k\n",
    "\n",
    "# 마지막으로 남은 수에 대하여 1씩 빼기\n",
    "result += (n - 1)\n",
    "print(result)"
   ]
  },
  {
   "cell_type": "markdown",
   "id": "ba3dfe8c",
   "metadata": {},
   "source": [
    "## 곱하기 혹은 더하기 문제"
   ]
  },
  {
   "cell_type": "code",
   "execution_count": 18,
   "id": "756a0e47",
   "metadata": {},
   "outputs": [],
   "source": [
    "# 곱하기 혹은 더하기 문제\n",
    "\n",
    "# 입력 조건\n",
    "# 첫째 줄에 여러 개의 숫자로 구성된 하나의 문자열 S가 주어집니다. (1 <= S의 길이 <= 20)\n",
    "\n",
    "# 출력 조건\n",
    "# 첫째 줄에 만들어질 수 있는 가장 큰 수를 출력합니다.\n",
    "\n",
    "# 입력 예시1\n",
    "# 02984\n",
    "\n",
    "# 입력 예시2\n",
    "# 567"
   ]
  },
  {
   "cell_type": "code",
   "execution_count": 19,
   "id": "c79dc2ac",
   "metadata": {},
   "outputs": [
    {
     "name": "stdout",
     "output_type": "stream",
     "text": [
      "02984\n",
      "576\n"
     ]
    }
   ],
   "source": [
    "# 답안 예시\n",
    "data = input()\n",
    "\n",
    "# 첫 번째 문자를 숫자로 변경하여 대입\n",
    "result = int(data[0])\n",
    "\n",
    "for i in range(1, len(data)):\n",
    "    # 두 수 중에서 하나라도 '0' 혹은 '1'인 경우, 곱하기보다는 더하기 수행\n",
    "    num = int(data[i])\n",
    "    if num <= 1 or result <= 1:\n",
    "        result += num\n",
    "    else:\n",
    "        result *= num\n",
    "\n",
    "print(result)"
   ]
  },
  {
   "cell_type": "markdown",
   "id": "290a7483",
   "metadata": {},
   "source": [
    "## 모험가 길드 문제"
   ]
  },
  {
   "cell_type": "code",
   "execution_count": 20,
   "id": "d91095cb",
   "metadata": {},
   "outputs": [],
   "source": [
    "# 모험가 길드 문제\n",
    "\n",
    "# 입력 조건\n",
    "# 첫째 줄에 모험가의 수 N이 주어집니다. (1 <= N <= 100000)\n",
    "# 둘째 줄에 각 모험가의 공포도의 값을 N 이하의 자연수로 주어지며, 각 자연수는 공백으로 구분\n",
    "\n",
    "# 출력 조건\n",
    "# 여행을 떠날 수 있는 그룹 수의 최댓값을 출력합니다.\n",
    "\n",
    "# 입력 예시\n",
    "# 5\n",
    "# 2 3 1 2 2"
   ]
  },
  {
   "cell_type": "code",
   "execution_count": 21,
   "id": "dbaa36d6",
   "metadata": {},
   "outputs": [
    {
     "name": "stdout",
     "output_type": "stream",
     "text": [
      "5\n",
      "2 3 1 2 2\n",
      "2\n"
     ]
    }
   ],
   "source": [
    "# 답안 예시\n",
    "n = int(input())\n",
    "data = list(map(int, input().split()))\n",
    "data.sort()\n",
    "\n",
    "# 총 그룹의 수\n",
    "result = 0\n",
    "# 현재 그룹에 포함된 모험가의 수\n",
    "count = 0\n",
    "\n",
    "# 공포도를 낮은 것부터 하나씩 확인하며\n",
    "for i in data:\n",
    "    # 현재 그룹에 해당 모험가를 포함시키기\n",
    "    count += 1\n",
    "    # 현재 그룹에 포함된 모험가의 수가 현재의 공포도 이상이라면, 그룹 결성\n",
    "    if count >= i:\n",
    "        # 총 그룹의 수 증가시키기\n",
    "        result += 1\n",
    "        # 현재 그룹에 포함된 모험가의 수 초기화\n",
    "        count = 0\n",
    "\n",
    "# 총 그룹의 수 출력\n",
    "print(result)"
   ]
  },
  {
   "cell_type": "markdown",
   "id": "a53a5cb1",
   "metadata": {},
   "source": [
    "## 구현문제"
   ]
  },
  {
   "cell_type": "code",
   "execution_count": 22,
   "id": "1a3c00a7",
   "metadata": {},
   "outputs": [
    {
     "name": "stdout",
     "output_type": "stream",
     "text": [
      "( 0 , 0 ) ( 0 , 1 ) ( 0 , 2 ) ( 0 , 3 ) ( 0 , 4 ) \n",
      "( 1 , 0 ) ( 1 , 1 ) ( 1 , 2 ) ( 1 , 3 ) ( 1 , 4 ) \n",
      "( 2 , 0 ) ( 2 , 1 ) ( 2 , 2 ) ( 2 , 3 ) ( 2 , 4 ) \n",
      "( 3 , 0 ) ( 3 , 1 ) ( 3 , 2 ) ( 3 , 3 ) ( 3 , 4 ) \n",
      "( 4 , 0 ) ( 4 , 1 ) ( 4 , 2 ) ( 4 , 3 ) ( 4 , 4 ) \n"
     ]
    }
   ],
   "source": [
    "# 2차원 공간:행렬\n",
    "for i in range(5):\n",
    "    for j in range(5):\n",
    "        print('(', i, ',', j, ')', end = ' ')\n",
    "    print()\n"
   ]
  },
  {
   "cell_type": "code",
   "execution_count": 23,
   "id": "c677ecda",
   "metadata": {},
   "outputs": [
    {
     "name": "stdout",
     "output_type": "stream",
     "text": [
      "2 3\n",
      "1 2\n",
      "2 1\n",
      "3 2\n"
     ]
    }
   ],
   "source": [
    "# 시뮬레이션 및 완전 탐색문제 -> 2차원 공간에서의 방향 벡터 자주 사용\n",
    "# 동, 서, 남, 북\n",
    "# x는 행을 의미\n",
    "dx = [0, -1, 0, 1]\n",
    "# y는 열을 의미\n",
    "dy = [1, 0, -1, 0]\n",
    "\n",
    "# 현재 위치\n",
    "x, y = 2, 2\n",
    "\n",
    "for i in range(4):\n",
    "    # 다음 위치\n",
    "    nx = x + dx[i]\n",
    "    ny = y + dy[i]\n",
    "    print(nx, ny)"
   ]
  },
  {
   "cell_type": "markdown",
   "id": "9224a8eb",
   "metadata": {},
   "source": [
    "## 상하좌우 문제"
   ]
  },
  {
   "cell_type": "code",
   "execution_count": 24,
   "id": "90ac1786",
   "metadata": {},
   "outputs": [],
   "source": [
    "# 상하좌우 문제\n",
    "\n",
    "# 입력 조건\n",
    "# 첫째 줄에 공간의 크기를 나타내는 N이 주어집니다. (1<= N <= 100)\n",
    "# 둘째 줄에 여행가 A가 이동할 계획서 내용이 주어집니다. (1 <= 이동 횟수 <= 100)\n",
    "\n",
    "# 출력 조건\n",
    "# 첫째 줄에 여행가 A가 최종적으로 도달할 지점의 좌표(X, Y)를 공백을 기준으로 구분하여 출력합니다.\n",
    "\n",
    "# 입력 예시\n",
    "# 5\n",
    "# R R R U D D"
   ]
  },
  {
   "cell_type": "code",
   "execution_count": 25,
   "id": "37d9b54b",
   "metadata": {},
   "outputs": [
    {
     "name": "stdout",
     "output_type": "stream",
     "text": [
      "5\n",
      "R R R U D D\n",
      "3 4\n"
     ]
    }
   ],
   "source": [
    "# 답안 예시\n",
    "# N입력 받기\n",
    "n = int(input())\n",
    "x, y = 1, 1\n",
    "plans = input().split()\n",
    "\n",
    "# L, R, U, D에 따른 이동 방향\n",
    "dx = [0, 0, -1, 1]\n",
    "dy = [-1, 1, 0, 0]\n",
    "move_types = ['L', 'R', 'U', 'D']\n",
    "\n",
    "# 이동 계획을 하나씩 확인하기\n",
    "for plan in plans:\n",
    "    # 이동 후 좌표 구하기\n",
    "    for i in range(len(move_types)):\n",
    "        if plan == move_types[i]:\n",
    "            nx = x + dx[i]\n",
    "            ny = y + dy[i]\n",
    "\n",
    "    # 공간을 벗너나는 경우 무시\n",
    "    if nx < 1 or ny < 1 or nx > n or ny > n:\n",
    "        continue\n",
    "\n",
    "    # 이동 수행\n",
    "    x, y = nx, ny\n",
    "print(x, y)"
   ]
  },
  {
   "cell_type": "markdown",
   "id": "b2d6740b",
   "metadata": {},
   "source": [
    "## 시각 문제"
   ]
  },
  {
   "cell_type": "code",
   "execution_count": 26,
   "id": "0b5b0e09",
   "metadata": {},
   "outputs": [],
   "source": [
    "# 시각 문제\n",
    "\n",
    "# 입력 조건\n",
    "# 첫째 줄에 정수 N이 입력됩니다. (0 <= N <= 23)\n",
    "\n",
    "# 출력 조건\n",
    "# 00시 00분 00초부터 N시 59분 59초까지의 모든 시각 중에서 3이 하나라도 포함되는 모든 경우의 수를 출력합니다.\n",
    "\n",
    "# 입력 예시\n",
    "# 5"
   ]
  },
  {
   "cell_type": "code",
   "execution_count": 27,
   "id": "bf6e9bd7",
   "metadata": {},
   "outputs": [
    {
     "name": "stdout",
     "output_type": "stream",
     "text": [
      "5\n",
      "11475\n"
     ]
    }
   ],
   "source": [
    "# 답안 예시\n",
    "# H 입력 받기\n",
    "h = int(input())\n",
    "\n",
    "count = 0\n",
    "for i in range(h + 1):\n",
    "    for j in range(60):\n",
    "        for k in range(60):\n",
    "            # 매 시각 안에 '3'이 포함되어 있다면 카운트 증가\n",
    "            if '3' in str(i) + str(j) + str(k):\n",
    "                count += 1\n",
    "print(count)"
   ]
  },
  {
   "cell_type": "markdown",
   "id": "0f8784cc",
   "metadata": {},
   "source": [
    "## 왕실의 나이트 문제"
   ]
  },
  {
   "cell_type": "code",
   "execution_count": 28,
   "id": "2e2eae28",
   "metadata": {},
   "outputs": [],
   "source": [
    "# 왕실의 나이트 문제\n",
    "\n",
    "# 입력 조건\n",
    "# 첫째 줄에 8 X 8 좌표 평면상에서 현재 나이트가 위치한 곳의 좌표를 나타내는 두 문자로 구성된 문자열이 입력된다.\n",
    "# 입력 문자는 a1처럼 열과 행으로 이뤄진다.\n",
    "\n",
    "# 출력 조건\n",
    "# 첫째 줄에 나이트가 이동할 수 있는 경우의 수를 출력하시오.\n",
    "\n",
    "# 입력 예시\n",
    "# a1"
   ]
  },
  {
   "cell_type": "code",
   "execution_count": 29,
   "id": "57ea7156",
   "metadata": {},
   "outputs": [
    {
     "name": "stdout",
     "output_type": "stream",
     "text": [
      "a1\n",
      "2\n"
     ]
    }
   ],
   "source": [
    "# 답안 예시\n",
    "# 현재 나이트의 위치 입력받기\n",
    "input_data = input()\n",
    "row = int(input_data[1])\n",
    "column = int(ord(input_data[0])) - int(ord('a')) + 1\n",
    "\n",
    "# 나이트가 이동할 수 있는 8가지 방향 정의\n",
    "steps = [(-2, -1), (-1, 2), (1, -2), (2, -1), (2, 1), (1, 2), (-1, 2), (-2, 1)]\n",
    "\n",
    "# 8가지 방향에 대하여 각 위치로 이동이 가능한지 확인\n",
    "result = 0\n",
    "for step in steps:\n",
    "    # 이동하고자 하는 위치 확인\n",
    "    next_row = row + step[0]\n",
    "    next_column = column + step[1]\n",
    "\n",
    "    # 해당 위치로 이동이 가능하다면 카운트 증가\n",
    "    if next_row >= 1 and next_row <= 8 and next_column >= 1 and next_column <= 8:\n",
    "        result += 1\n",
    "\n",
    "print(result)"
   ]
  },
  {
   "cell_type": "markdown",
   "id": "9d646767",
   "metadata": {},
   "source": [
    "## 문자열 재정렬 문제"
   ]
  },
  {
   "cell_type": "code",
   "execution_count": 30,
   "id": "32cfc35e",
   "metadata": {},
   "outputs": [],
   "source": [
    "# 문자열 재정렬 문제\n",
    "\n",
    "# 입력 조건\n",
    "# 첫째 줄에 하나의 문자열 S가 주어집니다. (1 <= S의 길이 <= 10000)\n",
    "\n",
    "# 출력 조건\n",
    "# 첫째 줄에 문제에서 요구하는 정답을 출력합니다.\n",
    "\n",
    "# 입력 예시1\n",
    "# K1KA5CB7\n",
    "\n",
    "# 입력 예시2\n",
    "# AJKDLSI412K4JSJ9D"
   ]
  },
  {
   "cell_type": "code",
   "execution_count": 31,
   "id": "9553c7f9",
   "metadata": {},
   "outputs": [
    {
     "name": "stdout",
     "output_type": "stream",
     "text": [
      "K1KA5CB7\n",
      "ABCKK13\n"
     ]
    }
   ],
   "source": [
    "# 답안 예시\n",
    "data = input()\n",
    "result = []\n",
    "value = 0\n",
    "\n",
    "# 문자를 하나씩 확인하며\n",
    "for x in data:\n",
    "    # 알파벳인 경우 결과 리스트에 삽입\n",
    "    if x.isalpha():\n",
    "        result.append(x)\n",
    "    # 숫자는 따로 더하기\n",
    "    else:\n",
    "        value += int(x)\n",
    "\n",
    "# 알파벳을 오름차순으로 정렬\n",
    "result.sort()\n",
    "\n",
    "# 숫자가 하나라도 존재하는 경우 가장 뒤에 삽입\n",
    "if value != 0:\n",
    "    result.append(str(value))\n",
    "\n",
    "# 최종 결과 출력(리스트를 문자열로 변환하여 출력)\n",
    "print(''.join(result))"
   ]
  },
  {
   "cell_type": "markdown",
   "id": "52ac17cc",
   "metadata": {},
   "source": [
    "## 투 포인터 문제"
   ]
  },
  {
   "cell_type": "code",
   "execution_count": 32,
   "id": "c9028af8",
   "metadata": {},
   "outputs": [
    {
     "name": "stdout",
     "output_type": "stream",
     "text": [
      "3\n"
     ]
    }
   ],
   "source": [
    "# 특정한 합을 가지는 부분 연속 수열 찾기: 투 포인터\n",
    "# 데이터의 개수 N\n",
    "n = 5\n",
    "# 찾고자 하는 부분합 M\n",
    "m = 5\n",
    "# 전체 수열\n",
    "data = [1, 2, 3, 2, 5]\n",
    "\n",
    "count = 0\n",
    "interval_sum = 0\n",
    "end = 0\n",
    "\n",
    "# start를 차례대로 증가시키며 반복\n",
    "for start in range(n):\n",
    "    # end를 가능한 만큼 이동시키기\n",
    "    while interval_sum < m and end < n:\n",
    "        interval_sum += data[end]\n",
    "        end += 1\n",
    "\n",
    "    # 부분합이 m일 때 카운트 증가\n",
    "    if interval_sum == m:\n",
    "        count += 1\n",
    "    interval_sum -= data[start]\n",
    "\n",
    "print(count)"
   ]
  },
  {
   "cell_type": "markdown",
   "id": "ddc68475",
   "metadata": {},
   "source": [
    "## 구간 합 문제"
   ]
  },
  {
   "cell_type": "code",
   "execution_count": 33,
   "id": "cc4f1a87",
   "metadata": {},
   "outputs": [
    {
     "name": "stdout",
     "output_type": "stream",
     "text": [
      "70\n"
     ]
    }
   ],
   "source": [
    "\n",
    "# 구간 합 빠르게 계산하기\n",
    "# 데이터의 개수 N과 데이터 입력받기\n",
    "n = 5\n",
    "data = [10, 20, 30, 40, 50]\n",
    "\n",
    "# 접두사 합(Prefix Sum) 배열 계산\n",
    "sum_value = 0\n",
    "prefix_sum = [0]\n",
    "for i in data:\n",
    "    sum_value += i\n",
    "    prefix_sum.append(sum_value)\n",
    "\n",
    "# 구간 합 계산(세번 째 수부터 네 번째 수까지)\n",
    "left = 3\n",
    "right = 4\n",
    "print(prefix_sum[right] - prefix_sum[left - 1])"
   ]
  }
 ],
 "metadata": {
  "kernelspec": {
   "display_name": "Python 3 (ipykernel)",
   "language": "python",
   "name": "python3"
  },
  "language_info": {
   "codemirror_mode": {
    "name": "ipython",
    "version": 3
   },
   "file_extension": ".py",
   "mimetype": "text/x-python",
   "name": "python",
   "nbconvert_exporter": "python",
   "pygments_lexer": "ipython3",
   "version": "3.8.16"
  }
 },
 "nbformat": 4,
 "nbformat_minor": 5
}
