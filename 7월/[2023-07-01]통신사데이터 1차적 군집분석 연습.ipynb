{
 "cells": [
  {
   "cell_type": "markdown",
   "id": "d1ac69b0",
   "metadata": {},
   "source": [
    "* 참고: https://blog.naver.com/justarose/222880394063"
   ]
  },
  {
   "cell_type": "code",
   "execution_count": 1,
   "id": "2d37d061",
   "metadata": {},
   "outputs": [],
   "source": [
    "# 패키지 불러오기\n",
    "from sklearn.preprocessing import MinMaxScaler\n",
    "from sklearn.cluster import KMeans\n",
    "import matplotlib.pyplot as plt\n",
    "import numpy as np\n",
    "import pandas as pd"
   ]
  },
  {
   "cell_type": "code",
   "execution_count": 2,
   "id": "daf4d6ee",
   "metadata": {},
   "outputs": [
    {
     "data": {
      "text/html": [
       "<div>\n",
       "<style scoped>\n",
       "    .dataframe tbody tr th:only-of-type {\n",
       "        vertical-align: middle;\n",
       "    }\n",
       "\n",
       "    .dataframe tbody tr th {\n",
       "        vertical-align: top;\n",
       "    }\n",
       "\n",
       "    .dataframe thead th {\n",
       "        text-align: right;\n",
       "    }\n",
       "</style>\n",
       "<table border=\"1\" class=\"dataframe\">\n",
       "  <thead>\n",
       "    <tr style=\"text-align: right;\">\n",
       "      <th></th>\n",
       "      <th>행정동코드</th>\n",
       "      <th>자치구</th>\n",
       "      <th>행정동</th>\n",
       "      <th>성별</th>\n",
       "      <th>연령대</th>\n",
       "      <th>총인구수</th>\n",
       "      <th>1인가구수</th>\n",
       "      <th>쇼핑 서비스 사용 미추정 인구수</th>\n",
       "      <th>쇼핑 서비스 사용일수</th>\n",
       "      <th>쇼핑 서비스 사용일수: 4분위수, 25%</th>\n",
       "      <th>쇼핑 서비스 사용일수: 4분위수, 50%</th>\n",
       "      <th>쇼핑 서비스 사용일수: 4분위수, 75%</th>\n",
       "    </tr>\n",
       "  </thead>\n",
       "  <tbody>\n",
       "    <tr>\n",
       "      <th>0</th>\n",
       "      <td>1125070</td>\n",
       "      <td>강동구</td>\n",
       "      <td>둔촌1동</td>\n",
       "      <td>2</td>\n",
       "      <td>25</td>\n",
       "      <td>586.00</td>\n",
       "      <td>319.71</td>\n",
       "      <td>0.00</td>\n",
       "      <td>141.43</td>\n",
       "      <td>50.00</td>\n",
       "      <td>158.33</td>\n",
       "      <td>208.33</td>\n",
       "    </tr>\n",
       "    <tr>\n",
       "      <th>1</th>\n",
       "      <td>1102060</td>\n",
       "      <td>중구</td>\n",
       "      <td>을지로동</td>\n",
       "      <td>2</td>\n",
       "      <td>50</td>\n",
       "      <td>51.00</td>\n",
       "      <td>23.31</td>\n",
       "      <td>18.31</td>\n",
       "      <td>102.00</td>\n",
       "      <td>13.33</td>\n",
       "      <td>81.67</td>\n",
       "      <td>163.33</td>\n",
       "    </tr>\n",
       "    <tr>\n",
       "      <th>2</th>\n",
       "      <td>1125070</td>\n",
       "      <td>강동구</td>\n",
       "      <td>둔촌1동</td>\n",
       "      <td>1</td>\n",
       "      <td>25</td>\n",
       "      <td>740.00</td>\n",
       "      <td>355.32</td>\n",
       "      <td>52.86</td>\n",
       "      <td>127.95</td>\n",
       "      <td>43.33</td>\n",
       "      <td>81.67</td>\n",
       "      <td>201.67</td>\n",
       "    </tr>\n",
       "    <tr>\n",
       "      <th>3</th>\n",
       "      <td>1102057</td>\n",
       "      <td>중구</td>\n",
       "      <td>필동</td>\n",
       "      <td>2</td>\n",
       "      <td>75</td>\n",
       "      <td>152.00</td>\n",
       "      <td>61.90</td>\n",
       "      <td>82.61</td>\n",
       "      <td>34.21</td>\n",
       "      <td>3.33</td>\n",
       "      <td>18.33</td>\n",
       "      <td>30.00</td>\n",
       "    </tr>\n",
       "    <tr>\n",
       "      <th>4</th>\n",
       "      <td>1101067</td>\n",
       "      <td>종로구</td>\n",
       "      <td>창신1동</td>\n",
       "      <td>1</td>\n",
       "      <td>70</td>\n",
       "      <td>108.59</td>\n",
       "      <td>48.88</td>\n",
       "      <td>55.50</td>\n",
       "      <td>34.17</td>\n",
       "      <td>3.33</td>\n",
       "      <td>10.00</td>\n",
       "      <td>35.00</td>\n",
       "    </tr>\n",
       "  </tbody>\n",
       "</table>\n",
       "</div>"
      ],
      "text/plain": [
       "     행정동코드  자치구   행정동  성별  연령대    총인구수   1인가구수  쇼핑 서비스 사용 미추정 인구수  \\\n",
       "0  1125070  강동구  둔촌1동   2   25  586.00  319.71               0.00   \n",
       "1  1102060   중구  을지로동   2   50   51.00   23.31              18.31   \n",
       "2  1125070  강동구  둔촌1동   1   25  740.00  355.32              52.86   \n",
       "3  1102057   중구    필동   2   75  152.00   61.90              82.61   \n",
       "4  1101067  종로구  창신1동   1   70  108.59   48.88              55.50   \n",
       "\n",
       "   쇼핑 서비스 사용일수  쇼핑 서비스 사용일수: 4분위수, 25%  쇼핑 서비스 사용일수: 4분위수, 50%  \\\n",
       "0       141.43                   50.00                  158.33   \n",
       "1       102.00                   13.33                   81.67   \n",
       "2       127.95                   43.33                   81.67   \n",
       "3        34.21                    3.33                   18.33   \n",
       "4        34.17                    3.33                   10.00   \n",
       "\n",
       "   쇼핑 서비스 사용일수: 4분위수, 75%  \n",
       "0                  208.33  \n",
       "1                  163.33  \n",
       "2                  201.67  \n",
       "3                   30.00  \n",
       "4                   35.00  "
      ]
     },
     "execution_count": 2,
     "metadata": {},
     "output_type": "execute_result"
    }
   ],
   "source": [
    "# 통신사 데이터 불러오기\n",
    "excelFile = 'C:/Users/chunc/Desktop/데이터 샘플\\파이널프로젝트 데이터/202211_202301_통신정보(쇼핑전처리).xlsx'\n",
    "df = pd.read_excel(excelFile, usecols = 'A:L')\n",
    "df.head()"
   ]
  },
  {
   "cell_type": "code",
   "execution_count": 3,
   "id": "2b9c9866",
   "metadata": {},
   "outputs": [
    {
     "data": {
      "text/plain": [
       "Index(['행정동코드', '자치구', '행정동', '성별', '연령대', '총인구수', '1인가구수',\n",
       "       '쇼핑 서비스 사용 미추정 인구수', '쇼핑 서비스 사용일수', '쇼핑 서비스 사용일수: 4분위수, 25%',\n",
       "       '쇼핑 서비스 사용일수: 4분위수, 50%', '쇼핑 서비스 사용일수: 4분위수, 75%'],\n",
       "      dtype='object')"
      ]
     },
     "execution_count": 3,
     "metadata": {},
     "output_type": "execute_result"
    }
   ],
   "source": [
    "df.columns"
   ]
  },
  {
   "cell_type": "code",
   "execution_count": 4,
   "id": "f5bac927",
   "metadata": {
    "scrolled": true
   },
   "outputs": [
    {
     "data": {
      "text/html": [
       "<div>\n",
       "<style scoped>\n",
       "    .dataframe tbody tr th:only-of-type {\n",
       "        vertical-align: middle;\n",
       "    }\n",
       "\n",
       "    .dataframe tbody tr th {\n",
       "        vertical-align: top;\n",
       "    }\n",
       "\n",
       "    .dataframe thead th {\n",
       "        text-align: right;\n",
       "    }\n",
       "</style>\n",
       "<table border=\"1\" class=\"dataframe\">\n",
       "  <thead>\n",
       "    <tr style=\"text-align: right;\">\n",
       "      <th></th>\n",
       "      <th>성별</th>\n",
       "      <th>연령대</th>\n",
       "      <th>총인구수</th>\n",
       "      <th>1인가구수</th>\n",
       "      <th>쇼핑 서비스 사용 미추정 인구수</th>\n",
       "      <th>쇼핑 서비스 사용일수</th>\n",
       "    </tr>\n",
       "  </thead>\n",
       "  <tbody>\n",
       "    <tr>\n",
       "      <th>0</th>\n",
       "      <td>2</td>\n",
       "      <td>25</td>\n",
       "      <td>586.00</td>\n",
       "      <td>319.71</td>\n",
       "      <td>0.00</td>\n",
       "      <td>141.43</td>\n",
       "    </tr>\n",
       "    <tr>\n",
       "      <th>1</th>\n",
       "      <td>2</td>\n",
       "      <td>50</td>\n",
       "      <td>51.00</td>\n",
       "      <td>23.31</td>\n",
       "      <td>18.31</td>\n",
       "      <td>102.00</td>\n",
       "    </tr>\n",
       "    <tr>\n",
       "      <th>2</th>\n",
       "      <td>1</td>\n",
       "      <td>25</td>\n",
       "      <td>740.00</td>\n",
       "      <td>355.32</td>\n",
       "      <td>52.86</td>\n",
       "      <td>127.95</td>\n",
       "    </tr>\n",
       "    <tr>\n",
       "      <th>3</th>\n",
       "      <td>2</td>\n",
       "      <td>75</td>\n",
       "      <td>152.00</td>\n",
       "      <td>61.90</td>\n",
       "      <td>82.61</td>\n",
       "      <td>34.21</td>\n",
       "    </tr>\n",
       "    <tr>\n",
       "      <th>4</th>\n",
       "      <td>1</td>\n",
       "      <td>70</td>\n",
       "      <td>108.59</td>\n",
       "      <td>48.88</td>\n",
       "      <td>55.50</td>\n",
       "      <td>34.17</td>\n",
       "    </tr>\n",
       "  </tbody>\n",
       "</table>\n",
       "</div>"
      ],
      "text/plain": [
       "   성별  연령대    총인구수   1인가구수  쇼핑 서비스 사용 미추정 인구수  쇼핑 서비스 사용일수\n",
       "0   2   25  586.00  319.71               0.00       141.43\n",
       "1   2   50   51.00   23.31              18.31       102.00\n",
       "2   1   25  740.00  355.32              52.86       127.95\n",
       "3   2   75  152.00   61.90              82.61        34.21\n",
       "4   1   70  108.59   48.88              55.50        34.17"
      ]
     },
     "execution_count": 4,
     "metadata": {},
     "output_type": "execute_result"
    }
   ],
   "source": [
    "drop_col = ['행정동코드', '자치구', '행정동','쇼핑 서비스 사용일수: 4분위수, 25%',\n",
    "       '쇼핑 서비스 사용일수: 4분위수, 50%', '쇼핑 서비스 사용일수: 4분위수, 75%']\n",
    "new_df = df.drop(drop_col, axis = 1)\n",
    "new_df.head()"
   ]
  },
  {
   "cell_type": "code",
   "execution_count": 5,
   "id": "24949b1e",
   "metadata": {},
   "outputs": [
    {
     "name": "stderr",
     "output_type": "stream",
     "text": [
      "D:\\Anaconda\\envs\\pythonEx\\lib\\site-packages\\sklearn\\cluster\\_kmeans.py:870: FutureWarning: The default value of `n_init` will change from 10 to 'auto' in 1.4. Set the value of `n_init` explicitly to suppress the warning\n",
      "  warnings.warn(\n"
     ]
    },
    {
     "data": {
      "text/html": [
       "<style>#sk-container-id-1 {color: black;background-color: white;}#sk-container-id-1 pre{padding: 0;}#sk-container-id-1 div.sk-toggleable {background-color: white;}#sk-container-id-1 label.sk-toggleable__label {cursor: pointer;display: block;width: 100%;margin-bottom: 0;padding: 0.3em;box-sizing: border-box;text-align: center;}#sk-container-id-1 label.sk-toggleable__label-arrow:before {content: \"▸\";float: left;margin-right: 0.25em;color: #696969;}#sk-container-id-1 label.sk-toggleable__label-arrow:hover:before {color: black;}#sk-container-id-1 div.sk-estimator:hover label.sk-toggleable__label-arrow:before {color: black;}#sk-container-id-1 div.sk-toggleable__content {max-height: 0;max-width: 0;overflow: hidden;text-align: left;background-color: #f0f8ff;}#sk-container-id-1 div.sk-toggleable__content pre {margin: 0.2em;color: black;border-radius: 0.25em;background-color: #f0f8ff;}#sk-container-id-1 input.sk-toggleable__control:checked~div.sk-toggleable__content {max-height: 200px;max-width: 100%;overflow: auto;}#sk-container-id-1 input.sk-toggleable__control:checked~label.sk-toggleable__label-arrow:before {content: \"▾\";}#sk-container-id-1 div.sk-estimator input.sk-toggleable__control:checked~label.sk-toggleable__label {background-color: #d4ebff;}#sk-container-id-1 div.sk-label input.sk-toggleable__control:checked~label.sk-toggleable__label {background-color: #d4ebff;}#sk-container-id-1 input.sk-hidden--visually {border: 0;clip: rect(1px 1px 1px 1px);clip: rect(1px, 1px, 1px, 1px);height: 1px;margin: -1px;overflow: hidden;padding: 0;position: absolute;width: 1px;}#sk-container-id-1 div.sk-estimator {font-family: monospace;background-color: #f0f8ff;border: 1px dotted black;border-radius: 0.25em;box-sizing: border-box;margin-bottom: 0.5em;}#sk-container-id-1 div.sk-estimator:hover {background-color: #d4ebff;}#sk-container-id-1 div.sk-parallel-item::after {content: \"\";width: 100%;border-bottom: 1px solid gray;flex-grow: 1;}#sk-container-id-1 div.sk-label:hover label.sk-toggleable__label {background-color: #d4ebff;}#sk-container-id-1 div.sk-serial::before {content: \"\";position: absolute;border-left: 1px solid gray;box-sizing: border-box;top: 0;bottom: 0;left: 50%;z-index: 0;}#sk-container-id-1 div.sk-serial {display: flex;flex-direction: column;align-items: center;background-color: white;padding-right: 0.2em;padding-left: 0.2em;position: relative;}#sk-container-id-1 div.sk-item {position: relative;z-index: 1;}#sk-container-id-1 div.sk-parallel {display: flex;align-items: stretch;justify-content: center;background-color: white;position: relative;}#sk-container-id-1 div.sk-item::before, #sk-container-id-1 div.sk-parallel-item::before {content: \"\";position: absolute;border-left: 1px solid gray;box-sizing: border-box;top: 0;bottom: 0;left: 50%;z-index: -1;}#sk-container-id-1 div.sk-parallel-item {display: flex;flex-direction: column;z-index: 1;position: relative;background-color: white;}#sk-container-id-1 div.sk-parallel-item:first-child::after {align-self: flex-end;width: 50%;}#sk-container-id-1 div.sk-parallel-item:last-child::after {align-self: flex-start;width: 50%;}#sk-container-id-1 div.sk-parallel-item:only-child::after {width: 0;}#sk-container-id-1 div.sk-dashed-wrapped {border: 1px dashed gray;margin: 0 0.4em 0.5em 0.4em;box-sizing: border-box;padding-bottom: 0.4em;background-color: white;}#sk-container-id-1 div.sk-label label {font-family: monospace;font-weight: bold;display: inline-block;line-height: 1.2em;}#sk-container-id-1 div.sk-label-container {text-align: center;}#sk-container-id-1 div.sk-container {/* jupyter's `normalize.less` sets `[hidden] { display: none; }` but bootstrap.min.css set `[hidden] { display: none !important; }` so we also need the `!important` here to be able to override the default hidden behavior on the sphinx rendered scikit-learn.org. See: https://github.com/scikit-learn/scikit-learn/issues/21755 */display: inline-block !important;position: relative;}#sk-container-id-1 div.sk-text-repr-fallback {display: none;}</style><div id=\"sk-container-id-1\" class=\"sk-top-container\"><div class=\"sk-text-repr-fallback\"><pre>KMeans(n_clusters=3, random_state=0)</pre><b>In a Jupyter environment, please rerun this cell to show the HTML representation or trust the notebook. <br />On GitHub, the HTML representation is unable to render, please try loading this page with nbviewer.org.</b></div><div class=\"sk-container\" hidden><div class=\"sk-item\"><div class=\"sk-estimator sk-toggleable\"><input class=\"sk-toggleable__control sk-hidden--visually\" id=\"sk-estimator-id-1\" type=\"checkbox\" checked><label for=\"sk-estimator-id-1\" class=\"sk-toggleable__label sk-toggleable__label-arrow\">KMeans</label><div class=\"sk-toggleable__content\"><pre>KMeans(n_clusters=3, random_state=0)</pre></div></div></div></div></div>"
      ],
      "text/plain": [
       "KMeans(n_clusters=3, random_state=0)"
      ]
     },
     "execution_count": 5,
     "metadata": {},
     "output_type": "execute_result"
    }
   ],
   "source": [
    "# 군집분석(K-means)\n",
    "kmeans = KMeans(n_clusters = 3, init = 'k-means++', max_iter = 300, random_state = 0)\n",
    "kmeans.fit(new_df)"
   ]
  },
  {
   "cell_type": "markdown",
   "id": "7933e7bb",
   "metadata": {},
   "source": [
    "## 1. 연령대와 쇼핑 서비스 사용일수 간의 군집분석"
   ]
  },
  {
   "cell_type": "code",
   "execution_count": 6,
   "id": "8aed272a",
   "metadata": {},
   "outputs": [
    {
     "name": "stderr",
     "output_type": "stream",
     "text": [
      "D:\\Anaconda\\envs\\pythonEx\\lib\\site-packages\\sklearn\\cluster\\_kmeans.py:870: FutureWarning: The default value of `n_init` will change from 10 to 'auto' in 1.4. Set the value of `n_init` explicitly to suppress the warning\n",
      "  warnings.warn(\n"
     ]
    },
    {
     "data": {
      "text/plain": [
       "array([2, 2, 2, ..., 1, 1, 1])"
      ]
     },
     "execution_count": 6,
     "metadata": {},
     "output_type": "execute_result"
    }
   ],
   "source": [
    "y_pred = kmeans.fit_predict(df[['연령대', '쇼핑 서비스 사용일수']])\n",
    "y_pred"
   ]
  },
  {
   "cell_type": "code",
   "execution_count": 7,
   "id": "9258629b",
   "metadata": {},
   "outputs": [
    {
     "data": {
      "text/html": [
       "<div>\n",
       "<style scoped>\n",
       "    .dataframe tbody tr th:only-of-type {\n",
       "        vertical-align: middle;\n",
       "    }\n",
       "\n",
       "    .dataframe tbody tr th {\n",
       "        vertical-align: top;\n",
       "    }\n",
       "\n",
       "    .dataframe thead th {\n",
       "        text-align: right;\n",
       "    }\n",
       "</style>\n",
       "<table border=\"1\" class=\"dataframe\">\n",
       "  <thead>\n",
       "    <tr style=\"text-align: right;\">\n",
       "      <th></th>\n",
       "      <th>행정동코드</th>\n",
       "      <th>자치구</th>\n",
       "      <th>행정동</th>\n",
       "      <th>성별</th>\n",
       "      <th>연령대</th>\n",
       "      <th>총인구수</th>\n",
       "      <th>1인가구수</th>\n",
       "      <th>쇼핑 서비스 사용 미추정 인구수</th>\n",
       "      <th>쇼핑 서비스 사용일수</th>\n",
       "      <th>쇼핑 서비스 사용일수: 4분위수, 25%</th>\n",
       "      <th>쇼핑 서비스 사용일수: 4분위수, 50%</th>\n",
       "      <th>쇼핑 서비스 사용일수: 4분위수, 75%</th>\n",
       "      <th>cluster</th>\n",
       "    </tr>\n",
       "  </thead>\n",
       "  <tbody>\n",
       "    <tr>\n",
       "      <th>0</th>\n",
       "      <td>1125070</td>\n",
       "      <td>강동구</td>\n",
       "      <td>둔촌1동</td>\n",
       "      <td>2</td>\n",
       "      <td>25</td>\n",
       "      <td>586.00</td>\n",
       "      <td>319.71</td>\n",
       "      <td>0.00</td>\n",
       "      <td>141.43</td>\n",
       "      <td>50.00</td>\n",
       "      <td>158.33</td>\n",
       "      <td>208.33</td>\n",
       "      <td>2</td>\n",
       "    </tr>\n",
       "    <tr>\n",
       "      <th>1</th>\n",
       "      <td>1102060</td>\n",
       "      <td>중구</td>\n",
       "      <td>을지로동</td>\n",
       "      <td>2</td>\n",
       "      <td>50</td>\n",
       "      <td>51.00</td>\n",
       "      <td>23.31</td>\n",
       "      <td>18.31</td>\n",
       "      <td>102.00</td>\n",
       "      <td>13.33</td>\n",
       "      <td>81.67</td>\n",
       "      <td>163.33</td>\n",
       "      <td>2</td>\n",
       "    </tr>\n",
       "    <tr>\n",
       "      <th>2</th>\n",
       "      <td>1125070</td>\n",
       "      <td>강동구</td>\n",
       "      <td>둔촌1동</td>\n",
       "      <td>1</td>\n",
       "      <td>25</td>\n",
       "      <td>740.00</td>\n",
       "      <td>355.32</td>\n",
       "      <td>52.86</td>\n",
       "      <td>127.95</td>\n",
       "      <td>43.33</td>\n",
       "      <td>81.67</td>\n",
       "      <td>201.67</td>\n",
       "      <td>2</td>\n",
       "    </tr>\n",
       "    <tr>\n",
       "      <th>3</th>\n",
       "      <td>1102057</td>\n",
       "      <td>중구</td>\n",
       "      <td>필동</td>\n",
       "      <td>2</td>\n",
       "      <td>75</td>\n",
       "      <td>152.00</td>\n",
       "      <td>61.90</td>\n",
       "      <td>82.61</td>\n",
       "      <td>34.21</td>\n",
       "      <td>3.33</td>\n",
       "      <td>18.33</td>\n",
       "      <td>30.00</td>\n",
       "      <td>1</td>\n",
       "    </tr>\n",
       "    <tr>\n",
       "      <th>4</th>\n",
       "      <td>1101067</td>\n",
       "      <td>종로구</td>\n",
       "      <td>창신1동</td>\n",
       "      <td>1</td>\n",
       "      <td>70</td>\n",
       "      <td>108.59</td>\n",
       "      <td>48.88</td>\n",
       "      <td>55.50</td>\n",
       "      <td>34.17</td>\n",
       "      <td>3.33</td>\n",
       "      <td>10.00</td>\n",
       "      <td>35.00</td>\n",
       "      <td>1</td>\n",
       "    </tr>\n",
       "  </tbody>\n",
       "</table>\n",
       "</div>"
      ],
      "text/plain": [
       "     행정동코드  자치구   행정동  성별  연령대    총인구수   1인가구수  쇼핑 서비스 사용 미추정 인구수  \\\n",
       "0  1125070  강동구  둔촌1동   2   25  586.00  319.71               0.00   \n",
       "1  1102060   중구  을지로동   2   50   51.00   23.31              18.31   \n",
       "2  1125070  강동구  둔촌1동   1   25  740.00  355.32              52.86   \n",
       "3  1102057   중구    필동   2   75  152.00   61.90              82.61   \n",
       "4  1101067  종로구  창신1동   1   70  108.59   48.88              55.50   \n",
       "\n",
       "   쇼핑 서비스 사용일수  쇼핑 서비스 사용일수: 4분위수, 25%  쇼핑 서비스 사용일수: 4분위수, 50%  \\\n",
       "0       141.43                   50.00                  158.33   \n",
       "1       102.00                   13.33                   81.67   \n",
       "2       127.95                   43.33                   81.67   \n",
       "3        34.21                    3.33                   18.33   \n",
       "4        34.17                    3.33                   10.00   \n",
       "\n",
       "   쇼핑 서비스 사용일수: 4분위수, 75%  cluster  \n",
       "0                  208.33        2  \n",
       "1                  163.33        2  \n",
       "2                  201.67        2  \n",
       "3                   30.00        1  \n",
       "4                   35.00        1  "
      ]
     },
     "execution_count": 7,
     "metadata": {},
     "output_type": "execute_result"
    }
   ],
   "source": [
    "df['cluster'] = y_pred\n",
    "df.head()"
   ]
  },
  {
   "cell_type": "code",
   "execution_count": 8,
   "id": "3911d6ec",
   "metadata": {},
   "outputs": [
    {
     "data": {
      "text/plain": [
       "array([[ 35.94548328, 183.09133   ],\n",
       "       [ 67.39835003,  50.22823217],\n",
       "       [ 39.57286432, 120.16711558]])"
      ]
     },
     "execution_count": 8,
     "metadata": {},
     "output_type": "execute_result"
    }
   ],
   "source": [
    "kmeans.cluster_centers_"
   ]
  },
  {
   "cell_type": "markdown",
   "id": "1b36914b",
   "metadata": {},
   "source": [
    "### 스케일링 진행"
   ]
  },
  {
   "cell_type": "code",
   "execution_count": 9,
   "id": "00e54c21",
   "metadata": {},
   "outputs": [],
   "source": [
    "scaler = MinMaxScaler()\n",
    "\n",
    "scaler.fit(df[['쇼핑 서비스 사용일수']])\n",
    "df['day_scaled'] = scaler.transform(df[['쇼핑 서비스 사용일수']])\n",
    "\n",
    "scaler.fit(df[['연령대']])\n",
    "df['year_scaled'] = scaler.transform(df[['연령대']])"
   ]
  },
  {
   "cell_type": "code",
   "execution_count": 10,
   "id": "d76310f9",
   "metadata": {},
   "outputs": [
    {
     "data": {
      "text/html": [
       "<div>\n",
       "<style scoped>\n",
       "    .dataframe tbody tr th:only-of-type {\n",
       "        vertical-align: middle;\n",
       "    }\n",
       "\n",
       "    .dataframe tbody tr th {\n",
       "        vertical-align: top;\n",
       "    }\n",
       "\n",
       "    .dataframe thead th {\n",
       "        text-align: right;\n",
       "    }\n",
       "</style>\n",
       "<table border=\"1\" class=\"dataframe\">\n",
       "  <thead>\n",
       "    <tr style=\"text-align: right;\">\n",
       "      <th></th>\n",
       "      <th>행정동코드</th>\n",
       "      <th>자치구</th>\n",
       "      <th>행정동</th>\n",
       "      <th>성별</th>\n",
       "      <th>연령대</th>\n",
       "      <th>총인구수</th>\n",
       "      <th>1인가구수</th>\n",
       "      <th>쇼핑 서비스 사용 미추정 인구수</th>\n",
       "      <th>쇼핑 서비스 사용일수</th>\n",
       "      <th>쇼핑 서비스 사용일수: 4분위수, 25%</th>\n",
       "      <th>쇼핑 서비스 사용일수: 4분위수, 50%</th>\n",
       "      <th>쇼핑 서비스 사용일수: 4분위수, 75%</th>\n",
       "      <th>cluster</th>\n",
       "      <th>day_scaled</th>\n",
       "      <th>year_scaled</th>\n",
       "    </tr>\n",
       "  </thead>\n",
       "  <tbody>\n",
       "    <tr>\n",
       "      <th>0</th>\n",
       "      <td>1125070</td>\n",
       "      <td>강동구</td>\n",
       "      <td>둔촌1동</td>\n",
       "      <td>2</td>\n",
       "      <td>25</td>\n",
       "      <td>586.00</td>\n",
       "      <td>319.71</td>\n",
       "      <td>0.00</td>\n",
       "      <td>141.43</td>\n",
       "      <td>50.00</td>\n",
       "      <td>158.33</td>\n",
       "      <td>208.33</td>\n",
       "      <td>2</td>\n",
       "      <td>0.416824</td>\n",
       "      <td>0.090909</td>\n",
       "    </tr>\n",
       "    <tr>\n",
       "      <th>1</th>\n",
       "      <td>1102060</td>\n",
       "      <td>중구</td>\n",
       "      <td>을지로동</td>\n",
       "      <td>2</td>\n",
       "      <td>50</td>\n",
       "      <td>51.00</td>\n",
       "      <td>23.31</td>\n",
       "      <td>18.31</td>\n",
       "      <td>102.00</td>\n",
       "      <td>13.33</td>\n",
       "      <td>81.67</td>\n",
       "      <td>163.33</td>\n",
       "      <td>2</td>\n",
       "      <td>0.292690</td>\n",
       "      <td>0.545455</td>\n",
       "    </tr>\n",
       "    <tr>\n",
       "      <th>2</th>\n",
       "      <td>1125070</td>\n",
       "      <td>강동구</td>\n",
       "      <td>둔촌1동</td>\n",
       "      <td>1</td>\n",
       "      <td>25</td>\n",
       "      <td>740.00</td>\n",
       "      <td>355.32</td>\n",
       "      <td>52.86</td>\n",
       "      <td>127.95</td>\n",
       "      <td>43.33</td>\n",
       "      <td>81.67</td>\n",
       "      <td>201.67</td>\n",
       "      <td>2</td>\n",
       "      <td>0.374386</td>\n",
       "      <td>0.090909</td>\n",
       "    </tr>\n",
       "    <tr>\n",
       "      <th>3</th>\n",
       "      <td>1102057</td>\n",
       "      <td>중구</td>\n",
       "      <td>필동</td>\n",
       "      <td>2</td>\n",
       "      <td>75</td>\n",
       "      <td>152.00</td>\n",
       "      <td>61.90</td>\n",
       "      <td>82.61</td>\n",
       "      <td>34.21</td>\n",
       "      <td>3.33</td>\n",
       "      <td>18.33</td>\n",
       "      <td>30.00</td>\n",
       "      <td>1</td>\n",
       "      <td>0.079272</td>\n",
       "      <td>1.000000</td>\n",
       "    </tr>\n",
       "    <tr>\n",
       "      <th>4</th>\n",
       "      <td>1101067</td>\n",
       "      <td>종로구</td>\n",
       "      <td>창신1동</td>\n",
       "      <td>1</td>\n",
       "      <td>70</td>\n",
       "      <td>108.59</td>\n",
       "      <td>48.88</td>\n",
       "      <td>55.50</td>\n",
       "      <td>34.17</td>\n",
       "      <td>3.33</td>\n",
       "      <td>10.00</td>\n",
       "      <td>35.00</td>\n",
       "      <td>1</td>\n",
       "      <td>0.079146</td>\n",
       "      <td>0.909091</td>\n",
       "    </tr>\n",
       "  </tbody>\n",
       "</table>\n",
       "</div>"
      ],
      "text/plain": [
       "     행정동코드  자치구   행정동  성별  연령대    총인구수   1인가구수  쇼핑 서비스 사용 미추정 인구수  \\\n",
       "0  1125070  강동구  둔촌1동   2   25  586.00  319.71               0.00   \n",
       "1  1102060   중구  을지로동   2   50   51.00   23.31              18.31   \n",
       "2  1125070  강동구  둔촌1동   1   25  740.00  355.32              52.86   \n",
       "3  1102057   중구    필동   2   75  152.00   61.90              82.61   \n",
       "4  1101067  종로구  창신1동   1   70  108.59   48.88              55.50   \n",
       "\n",
       "   쇼핑 서비스 사용일수  쇼핑 서비스 사용일수: 4분위수, 25%  쇼핑 서비스 사용일수: 4분위수, 50%  \\\n",
       "0       141.43                   50.00                  158.33   \n",
       "1       102.00                   13.33                   81.67   \n",
       "2       127.95                   43.33                   81.67   \n",
       "3        34.21                    3.33                   18.33   \n",
       "4        34.17                    3.33                   10.00   \n",
       "\n",
       "   쇼핑 서비스 사용일수: 4분위수, 75%  cluster  day_scaled  year_scaled  \n",
       "0                  208.33        2    0.416824     0.090909  \n",
       "1                  163.33        2    0.292690     0.545455  \n",
       "2                  201.67        2    0.374386     0.090909  \n",
       "3                   30.00        1    0.079272     1.000000  \n",
       "4                   35.00        1    0.079146     0.909091  "
      ]
     },
     "execution_count": 10,
     "metadata": {},
     "output_type": "execute_result"
    }
   ],
   "source": [
    "df.head()"
   ]
  },
  {
   "cell_type": "code",
   "execution_count": 11,
   "id": "f298cc37",
   "metadata": {},
   "outputs": [
    {
     "data": {
      "text/plain": [
       "<matplotlib.collections.PathCollection at 0x2887f761fd0>"
      ]
     },
     "execution_count": 11,
     "metadata": {},
     "output_type": "execute_result"
    },
    {
     "data": {
      "image/png": "[encoded data removed]",
      "text/plain": [
       "<Figure size 640x480 with 1 Axes>"
      ]
     },
     "metadata": {},
     "output_type": "display_data"
    }
   ],
   "source": [
    "plt.scatter(df.year_scaled, df.day_scaled)"
   ]
  },
  {
   "cell_type": "code",
   "execution_count": 12,
   "id": "ea0fd238",
   "metadata": {},
   "outputs": [
    {
     "name": "stderr",
     "output_type": "stream",
     "text": [
      "D:\\Anaconda\\envs\\pythonEx\\lib\\site-packages\\sklearn\\cluster\\_kmeans.py:870: FutureWarning: The default value of `n_init` will change from 10 to 'auto' in 1.4. Set the value of `n_init` explicitly to suppress the warning\n",
      "  warnings.warn(\n"
     ]
    },
    {
     "data": {
      "text/plain": [
       "array([2, 0, 2, ..., 1, 1, 1])"
      ]
     },
     "execution_count": 12,
     "metadata": {},
     "output_type": "execute_result"
    }
   ],
   "source": [
    "# 군집분석(K-means)\n",
    "kmeans = KMeans(n_clusters = 3, init = 'k-means++', max_iter = 300, random_state = 0)\n",
    "y_pred = kmeans.fit_predict(df[['year_scaled', 'day_scaled']])\n",
    "y_pred"
   ]
  },
  {
   "cell_type": "code",
   "execution_count": 13,
   "id": "15028ee8",
   "metadata": {},
   "outputs": [
    {
     "data": {
      "text/html": [
       "<div>\n",
       "<style scoped>\n",
       "    .dataframe tbody tr th:only-of-type {\n",
       "        vertical-align: middle;\n",
       "    }\n",
       "\n",
       "    .dataframe tbody tr th {\n",
       "        vertical-align: top;\n",
       "    }\n",
       "\n",
       "    .dataframe thead th {\n",
       "        text-align: right;\n",
       "    }\n",
       "</style>\n",
       "<table border=\"1\" class=\"dataframe\">\n",
       "  <thead>\n",
       "    <tr style=\"text-align: right;\">\n",
       "      <th></th>\n",
       "      <th>행정동코드</th>\n",
       "      <th>자치구</th>\n",
       "      <th>행정동</th>\n",
       "      <th>성별</th>\n",
       "      <th>연령대</th>\n",
       "      <th>총인구수</th>\n",
       "      <th>1인가구수</th>\n",
       "      <th>쇼핑 서비스 사용 미추정 인구수</th>\n",
       "      <th>쇼핑 서비스 사용일수</th>\n",
       "      <th>쇼핑 서비스 사용일수: 4분위수, 25%</th>\n",
       "      <th>쇼핑 서비스 사용일수: 4분위수, 50%</th>\n",
       "      <th>쇼핑 서비스 사용일수: 4분위수, 75%</th>\n",
       "      <th>cluster</th>\n",
       "      <th>day_scaled</th>\n",
       "      <th>year_scaled</th>\n",
       "    </tr>\n",
       "  </thead>\n",
       "  <tbody>\n",
       "    <tr>\n",
       "      <th>0</th>\n",
       "      <td>1125070</td>\n",
       "      <td>강동구</td>\n",
       "      <td>둔촌1동</td>\n",
       "      <td>2</td>\n",
       "      <td>25</td>\n",
       "      <td>586.00</td>\n",
       "      <td>319.71</td>\n",
       "      <td>0.00</td>\n",
       "      <td>141.43</td>\n",
       "      <td>50.00</td>\n",
       "      <td>158.33</td>\n",
       "      <td>208.33</td>\n",
       "      <td>2</td>\n",
       "      <td>0.416824</td>\n",
       "      <td>0.090909</td>\n",
       "    </tr>\n",
       "    <tr>\n",
       "      <th>1</th>\n",
       "      <td>1102060</td>\n",
       "      <td>중구</td>\n",
       "      <td>을지로동</td>\n",
       "      <td>2</td>\n",
       "      <td>50</td>\n",
       "      <td>51.00</td>\n",
       "      <td>23.31</td>\n",
       "      <td>18.31</td>\n",
       "      <td>102.00</td>\n",
       "      <td>13.33</td>\n",
       "      <td>81.67</td>\n",
       "      <td>163.33</td>\n",
       "      <td>0</td>\n",
       "      <td>0.292690</td>\n",
       "      <td>0.545455</td>\n",
       "    </tr>\n",
       "    <tr>\n",
       "      <th>2</th>\n",
       "      <td>1125070</td>\n",
       "      <td>강동구</td>\n",
       "      <td>둔촌1동</td>\n",
       "      <td>1</td>\n",
       "      <td>25</td>\n",
       "      <td>740.00</td>\n",
       "      <td>355.32</td>\n",
       "      <td>52.86</td>\n",
       "      <td>127.95</td>\n",
       "      <td>43.33</td>\n",
       "      <td>81.67</td>\n",
       "      <td>201.67</td>\n",
       "      <td>2</td>\n",
       "      <td>0.374386</td>\n",
       "      <td>0.090909</td>\n",
       "    </tr>\n",
       "    <tr>\n",
       "      <th>3</th>\n",
       "      <td>1102057</td>\n",
       "      <td>중구</td>\n",
       "      <td>필동</td>\n",
       "      <td>2</td>\n",
       "      <td>75</td>\n",
       "      <td>152.00</td>\n",
       "      <td>61.90</td>\n",
       "      <td>82.61</td>\n",
       "      <td>34.21</td>\n",
       "      <td>3.33</td>\n",
       "      <td>18.33</td>\n",
       "      <td>30.00</td>\n",
       "      <td>1</td>\n",
       "      <td>0.079272</td>\n",
       "      <td>1.000000</td>\n",
       "    </tr>\n",
       "    <tr>\n",
       "      <th>4</th>\n",
       "      <td>1101067</td>\n",
       "      <td>종로구</td>\n",
       "      <td>창신1동</td>\n",
       "      <td>1</td>\n",
       "      <td>70</td>\n",
       "      <td>108.59</td>\n",
       "      <td>48.88</td>\n",
       "      <td>55.50</td>\n",
       "      <td>34.17</td>\n",
       "      <td>3.33</td>\n",
       "      <td>10.00</td>\n",
       "      <td>35.00</td>\n",
       "      <td>1</td>\n",
       "      <td>0.079146</td>\n",
       "      <td>0.909091</td>\n",
       "    </tr>\n",
       "  </tbody>\n",
       "</table>\n",
       "</div>"
      ],
      "text/plain": [
       "     행정동코드  자치구   행정동  성별  연령대    총인구수   1인가구수  쇼핑 서비스 사용 미추정 인구수  \\\n",
       "0  1125070  강동구  둔촌1동   2   25  586.00  319.71               0.00   \n",
       "1  1102060   중구  을지로동   2   50   51.00   23.31              18.31   \n",
       "2  1125070  강동구  둔촌1동   1   25  740.00  355.32              52.86   \n",
       "3  1102057   중구    필동   2   75  152.00   61.90              82.61   \n",
       "4  1101067  종로구  창신1동   1   70  108.59   48.88              55.50   \n",
       "\n",
       "   쇼핑 서비스 사용일수  쇼핑 서비스 사용일수: 4분위수, 25%  쇼핑 서비스 사용일수: 4분위수, 50%  \\\n",
       "0       141.43                   50.00                  158.33   \n",
       "1       102.00                   13.33                   81.67   \n",
       "2       127.95                   43.33                   81.67   \n",
       "3        34.21                    3.33                   18.33   \n",
       "4        34.17                    3.33                   10.00   \n",
       "\n",
       "   쇼핑 서비스 사용일수: 4분위수, 75%  cluster  day_scaled  year_scaled  \n",
       "0                  208.33        2    0.416824     0.090909  \n",
       "1                  163.33        0    0.292690     0.545455  \n",
       "2                  201.67        2    0.374386     0.090909  \n",
       "3                   30.00        1    0.079272     1.000000  \n",
       "4                   35.00        1    0.079146     0.909091  "
      ]
     },
     "execution_count": 13,
     "metadata": {},
     "output_type": "execute_result"
    }
   ],
   "source": [
    "df['cluster'] = y_pred\n",
    "df.head()"
   ]
  },
  {
   "cell_type": "code",
   "execution_count": 14,
   "id": "11e67088",
   "metadata": {},
   "outputs": [
    {
     "data": {
      "text/plain": [
       "array([[0.40977293, 0.51544518],\n",
       "       [0.81856857, 0.16258898],\n",
       "       [0.09105192, 0.44202203]])"
      ]
     },
     "execution_count": 14,
     "metadata": {},
     "output_type": "execute_result"
    }
   ],
   "source": [
    "kmeans.cluster_centers_"
   ]
  },
  {
   "cell_type": "code",
   "execution_count": 15,
   "id": "915f9224",
   "metadata": {},
   "outputs": [
    {
     "data": {
      "text/plain": [
       "<matplotlib.legend.Legend at 0x288774b38e0>"
      ]
     },
     "execution_count": 15,
     "metadata": {},
     "output_type": "execute_result"
    },
    {
     "data": {
      "image/png": "[encoded data removed]",
      "text/plain": [
       "<Figure size 640x480 with 1 Axes>"
      ]
     },
     "metadata": {},
     "output_type": "display_data"
    }
   ],
   "source": [
    "df1 = df[df.cluster == 0]\n",
    "df2 = df[df.cluster == 1]\n",
    "df3 = df[df.cluster == 2]\n",
    "plt.scatter(df1.year_scaled, df1.day_scaled, color = 'green')\n",
    "plt.scatter(df2.year_scaled, df2.day_scaled, color = 'red')\n",
    "plt.scatter(df3.year_scaled, df3.day_scaled, color = 'black')\n",
    "plt.scatter(kmeans.cluster_centers_[:,0], kmeans.cluster_centers_[:,1], color = 'purple', marker = '*', label = 'centroid')\n",
    "plt.xlabel('연령대')\n",
    "plt.ylabel('쇼핑 서비스 사용일수')\n",
    "plt.legend()"
   ]
  },
  {
   "cell_type": "markdown",
   "id": "dc91ca74",
   "metadata": {},
   "source": [
    "### Elbow Plot"
   ]
  },
  {
   "cell_type": "code",
   "execution_count": 16,
   "id": "76c46eeb",
   "metadata": {},
   "outputs": [
    {
     "name": "stderr",
     "output_type": "stream",
     "text": [
      "D:\\Anaconda\\envs\\pythonEx\\lib\\site-packages\\sklearn\\cluster\\_kmeans.py:870: FutureWarning: The default value of `n_init` will change from 10 to 'auto' in 1.4. Set the value of `n_init` explicitly to suppress the warning\n",
      "  warnings.warn(\n",
      "D:\\Anaconda\\envs\\pythonEx\\lib\\site-packages\\sklearn\\cluster\\_kmeans.py:870: FutureWarning: The default value of `n_init` will change from 10 to 'auto' in 1.4. Set the value of `n_init` explicitly to suppress the warning\n",
      "  warnings.warn(\n",
      "D:\\Anaconda\\envs\\pythonEx\\lib\\site-packages\\sklearn\\cluster\\_kmeans.py:870: FutureWarning: The default value of `n_init` will change from 10 to 'auto' in 1.4. Set the value of `n_init` explicitly to suppress the warning\n",
      "  warnings.warn(\n",
      "D:\\Anaconda\\envs\\pythonEx\\lib\\site-packages\\sklearn\\cluster\\_kmeans.py:870: FutureWarning: The default value of `n_init` will change from 10 to 'auto' in 1.4. Set the value of `n_init` explicitly to suppress the warning\n",
      "  warnings.warn(\n",
      "D:\\Anaconda\\envs\\pythonEx\\lib\\site-packages\\sklearn\\cluster\\_kmeans.py:870: FutureWarning: The default value of `n_init` will change from 10 to 'auto' in 1.4. Set the value of `n_init` explicitly to suppress the warning\n",
      "  warnings.warn(\n",
      "D:\\Anaconda\\envs\\pythonEx\\lib\\site-packages\\sklearn\\cluster\\_kmeans.py:870: FutureWarning: The default value of `n_init` will change from 10 to 'auto' in 1.4. Set the value of `n_init` explicitly to suppress the warning\n",
      "  warnings.warn(\n",
      "D:\\Anaconda\\envs\\pythonEx\\lib\\site-packages\\sklearn\\cluster\\_kmeans.py:870: FutureWarning: The default value of `n_init` will change from 10 to 'auto' in 1.4. Set the value of `n_init` explicitly to suppress the warning\n",
      "  warnings.warn(\n",
      "D:\\Anaconda\\envs\\pythonEx\\lib\\site-packages\\sklearn\\cluster\\_kmeans.py:870: FutureWarning: The default value of `n_init` will change from 10 to 'auto' in 1.4. Set the value of `n_init` explicitly to suppress the warning\n",
      "  warnings.warn(\n",
      "D:\\Anaconda\\envs\\pythonEx\\lib\\site-packages\\sklearn\\cluster\\_kmeans.py:870: FutureWarning: The default value of `n_init` will change from 10 to 'auto' in 1.4. Set the value of `n_init` explicitly to suppress the warning\n",
      "  warnings.warn(\n"
     ]
    }
   ],
   "source": [
    "sse = []\n",
    "k_rng = range(1, 10)\n",
    "for k in k_rng:\n",
    "    kmeans = KMeans(n_clusters = k)\n",
    "    kmeans.fit(df[['year_scaled', 'day_scaled']])\n",
    "    sse.append(kmeans.inertia_)"
   ]
  },
  {
   "cell_type": "code",
   "execution_count": 17,
   "id": "38de96ba",
   "metadata": {},
   "outputs": [
    {
     "data": {
      "text/plain": [
       "[1347.9257613493803,\n",
       " 356.7996896657351,\n",
       " 201.87738442514714,\n",
       " 110.6032652563267,\n",
       " 72.77816301414097,\n",
       " 52.26778475242531,\n",
       " 40.914884763780705,\n",
       " 32.8115570239737,\n",
       " 26.987799346294018]"
      ]
     },
     "execution_count": 17,
     "metadata": {},
     "output_type": "execute_result"
    }
   ],
   "source": [
    "sse"
   ]
  },
  {
   "cell_type": "code",
   "execution_count": 18,
   "id": "976ccda5",
   "metadata": {},
   "outputs": [
    {
     "data": {
      "text/plain": [
       "[<matplotlib.lines.Line2D at 0x2887f60fe80>]"
      ]
     },
     "execution_count": 18,
     "metadata": {},
     "output_type": "execute_result"
    },
    {
     "data": {
      "image/png": "[encoded data removed]",
      "text/plain": [
       "<Figure size 640x480 with 1 Axes>"
      ]
     },
     "metadata": {},
     "output_type": "display_data"
    }
   ],
   "source": [
    "plt.xlabel('K')\n",
    "plt.ylabel('Sum of squared error')\n",
    "plt.plot(k_rng, sse)"
   ]
  },
  {
   "cell_type": "markdown",
   "id": "f40077aa",
   "metadata": {},
   "source": [
    "## 2. 성별과 쇼핑 서비스 사용일수 간의 군집분석"
   ]
  },
  {
   "cell_type": "markdown",
   "id": "6e4b118a",
   "metadata": {},
   "source": [
    "### 스케일링 진행"
   ]
  },
  {
   "cell_type": "code",
   "execution_count": 19,
   "id": "d12b890b",
   "metadata": {},
   "outputs": [
    {
     "data": {
      "text/html": [
       "<div>\n",
       "<style scoped>\n",
       "    .dataframe tbody tr th:only-of-type {\n",
       "        vertical-align: middle;\n",
       "    }\n",
       "\n",
       "    .dataframe tbody tr th {\n",
       "        vertical-align: top;\n",
       "    }\n",
       "\n",
       "    .dataframe thead th {\n",
       "        text-align: right;\n",
       "    }\n",
       "</style>\n",
       "<table border=\"1\" class=\"dataframe\">\n",
       "  <thead>\n",
       "    <tr style=\"text-align: right;\">\n",
       "      <th></th>\n",
       "      <th>행정동코드</th>\n",
       "      <th>자치구</th>\n",
       "      <th>행정동</th>\n",
       "      <th>성별</th>\n",
       "      <th>연령대</th>\n",
       "      <th>총인구수</th>\n",
       "      <th>1인가구수</th>\n",
       "      <th>쇼핑 서비스 사용 미추정 인구수</th>\n",
       "      <th>쇼핑 서비스 사용일수</th>\n",
       "      <th>쇼핑 서비스 사용일수: 4분위수, 25%</th>\n",
       "      <th>쇼핑 서비스 사용일수: 4분위수, 50%</th>\n",
       "      <th>쇼핑 서비스 사용일수: 4분위수, 75%</th>\n",
       "      <th>cluster</th>\n",
       "      <th>day_scaled</th>\n",
       "      <th>year_scaled</th>\n",
       "      <th>sex_scaled</th>\n",
       "    </tr>\n",
       "  </thead>\n",
       "  <tbody>\n",
       "    <tr>\n",
       "      <th>0</th>\n",
       "      <td>1125070</td>\n",
       "      <td>강동구</td>\n",
       "      <td>둔촌1동</td>\n",
       "      <td>2</td>\n",
       "      <td>25</td>\n",
       "      <td>586.00</td>\n",
       "      <td>319.71</td>\n",
       "      <td>0.00</td>\n",
       "      <td>141.43</td>\n",
       "      <td>50.00</td>\n",
       "      <td>158.33</td>\n",
       "      <td>208.33</td>\n",
       "      <td>2</td>\n",
       "      <td>0.416824</td>\n",
       "      <td>0.090909</td>\n",
       "      <td>1.0</td>\n",
       "    </tr>\n",
       "    <tr>\n",
       "      <th>1</th>\n",
       "      <td>1102060</td>\n",
       "      <td>중구</td>\n",
       "      <td>을지로동</td>\n",
       "      <td>2</td>\n",
       "      <td>50</td>\n",
       "      <td>51.00</td>\n",
       "      <td>23.31</td>\n",
       "      <td>18.31</td>\n",
       "      <td>102.00</td>\n",
       "      <td>13.33</td>\n",
       "      <td>81.67</td>\n",
       "      <td>163.33</td>\n",
       "      <td>0</td>\n",
       "      <td>0.292690</td>\n",
       "      <td>0.545455</td>\n",
       "      <td>1.0</td>\n",
       "    </tr>\n",
       "    <tr>\n",
       "      <th>2</th>\n",
       "      <td>1125070</td>\n",
       "      <td>강동구</td>\n",
       "      <td>둔촌1동</td>\n",
       "      <td>1</td>\n",
       "      <td>25</td>\n",
       "      <td>740.00</td>\n",
       "      <td>355.32</td>\n",
       "      <td>52.86</td>\n",
       "      <td>127.95</td>\n",
       "      <td>43.33</td>\n",
       "      <td>81.67</td>\n",
       "      <td>201.67</td>\n",
       "      <td>2</td>\n",
       "      <td>0.374386</td>\n",
       "      <td>0.090909</td>\n",
       "      <td>0.0</td>\n",
       "    </tr>\n",
       "    <tr>\n",
       "      <th>3</th>\n",
       "      <td>1102057</td>\n",
       "      <td>중구</td>\n",
       "      <td>필동</td>\n",
       "      <td>2</td>\n",
       "      <td>75</td>\n",
       "      <td>152.00</td>\n",
       "      <td>61.90</td>\n",
       "      <td>82.61</td>\n",
       "      <td>34.21</td>\n",
       "      <td>3.33</td>\n",
       "      <td>18.33</td>\n",
       "      <td>30.00</td>\n",
       "      <td>1</td>\n",
       "      <td>0.079272</td>\n",
       "      <td>1.000000</td>\n",
       "      <td>1.0</td>\n",
       "    </tr>\n",
       "    <tr>\n",
       "      <th>4</th>\n",
       "      <td>1101067</td>\n",
       "      <td>종로구</td>\n",
       "      <td>창신1동</td>\n",
       "      <td>1</td>\n",
       "      <td>70</td>\n",
       "      <td>108.59</td>\n",
       "      <td>48.88</td>\n",
       "      <td>55.50</td>\n",
       "      <td>34.17</td>\n",
       "      <td>3.33</td>\n",
       "      <td>10.00</td>\n",
       "      <td>35.00</td>\n",
       "      <td>1</td>\n",
       "      <td>0.079146</td>\n",
       "      <td>0.909091</td>\n",
       "      <td>0.0</td>\n",
       "    </tr>\n",
       "  </tbody>\n",
       "</table>\n",
       "</div>"
      ],
      "text/plain": [
       "     행정동코드  자치구   행정동  성별  연령대    총인구수   1인가구수  쇼핑 서비스 사용 미추정 인구수  \\\n",
       "0  1125070  강동구  둔촌1동   2   25  586.00  319.71               0.00   \n",
       "1  1102060   중구  을지로동   2   50   51.00   23.31              18.31   \n",
       "2  1125070  강동구  둔촌1동   1   25  740.00  355.32              52.86   \n",
       "3  1102057   중구    필동   2   75  152.00   61.90              82.61   \n",
       "4  1101067  종로구  창신1동   1   70  108.59   48.88              55.50   \n",
       "\n",
       "   쇼핑 서비스 사용일수  쇼핑 서비스 사용일수: 4분위수, 25%  쇼핑 서비스 사용일수: 4분위수, 50%  \\\n",
       "0       141.43                   50.00                  158.33   \n",
       "1       102.00                   13.33                   81.67   \n",
       "2       127.95                   43.33                   81.67   \n",
       "3        34.21                    3.33                   18.33   \n",
       "4        34.17                    3.33                   10.00   \n",
       "\n",
       "   쇼핑 서비스 사용일수: 4분위수, 75%  cluster  day_scaled  year_scaled  sex_scaled  \n",
       "0                  208.33        2    0.416824     0.090909         1.0  \n",
       "1                  163.33        0    0.292690     0.545455         1.0  \n",
       "2                  201.67        2    0.374386     0.090909         0.0  \n",
       "3                   30.00        1    0.079272     1.000000         1.0  \n",
       "4                   35.00        1    0.079146     0.909091         0.0  "
      ]
     },
     "execution_count": 19,
     "metadata": {},
     "output_type": "execute_result"
    }
   ],
   "source": [
    "scaler = MinMaxScaler()\n",
    "# 성별컬럼만 별도로 스케일링 진행\n",
    "scaler.fit(df[['성별']])\n",
    "df['sex_scaled'] = scaler.transform(df[['성별']])\n",
    "df.head()"
   ]
  },
  {
   "cell_type": "code",
   "execution_count": 20,
   "id": "fcd75129",
   "metadata": {},
   "outputs": [
    {
     "data": {
      "text/plain": [
       "<matplotlib.collections.PathCollection at 0x2887f3efa30>"
      ]
     },
     "execution_count": 20,
     "metadata": {},
     "output_type": "execute_result"
    },
    {
     "data": {
      "image/png": "[encoded data removed]",
      "text/plain": [
       "<Figure size 640x480 with 1 Axes>"
      ]
     },
     "metadata": {},
     "output_type": "display_data"
    }
   ],
   "source": [
    "plt.scatter(df.sex_scaled, df.day_scaled)"
   ]
  },
  {
   "cell_type": "code",
   "execution_count": 21,
   "id": "dd7b9c76",
   "metadata": {},
   "outputs": [
    {
     "name": "stderr",
     "output_type": "stream",
     "text": [
      "D:\\Anaconda\\envs\\pythonEx\\lib\\site-packages\\sklearn\\cluster\\_kmeans.py:870: FutureWarning: The default value of `n_init` will change from 10 to 'auto' in 1.4. Set the value of `n_init` explicitly to suppress the warning\n",
      "  warnings.warn(\n"
     ]
    },
    {
     "data": {
      "text/plain": [
       "array([1, 2, 0, ..., 0, 2, 2])"
      ]
     },
     "execution_count": 21,
     "metadata": {},
     "output_type": "execute_result"
    }
   ],
   "source": [
    "# 군집분석(K-means)\n",
    "kmeans = KMeans(n_clusters = 3, init = 'k-means++', max_iter = 300, random_state = 0)\n",
    "y_pred = kmeans.fit_predict(df[['sex_scaled', 'day_scaled']])\n",
    "y_pred"
   ]
  },
  {
   "cell_type": "code",
   "execution_count": 22,
   "id": "6bbbd0c1",
   "metadata": {},
   "outputs": [
    {
     "data": {
      "text/html": [
       "<div>\n",
       "<style scoped>\n",
       "    .dataframe tbody tr th:only-of-type {\n",
       "        vertical-align: middle;\n",
       "    }\n",
       "\n",
       "    .dataframe tbody tr th {\n",
       "        vertical-align: top;\n",
       "    }\n",
       "\n",
       "    .dataframe thead th {\n",
       "        text-align: right;\n",
       "    }\n",
       "</style>\n",
       "<table border=\"1\" class=\"dataframe\">\n",
       "  <thead>\n",
       "    <tr style=\"text-align: right;\">\n",
       "      <th></th>\n",
       "      <th>행정동코드</th>\n",
       "      <th>자치구</th>\n",
       "      <th>행정동</th>\n",
       "      <th>성별</th>\n",
       "      <th>연령대</th>\n",
       "      <th>총인구수</th>\n",
       "      <th>1인가구수</th>\n",
       "      <th>쇼핑 서비스 사용 미추정 인구수</th>\n",
       "      <th>쇼핑 서비스 사용일수</th>\n",
       "      <th>쇼핑 서비스 사용일수: 4분위수, 25%</th>\n",
       "      <th>쇼핑 서비스 사용일수: 4분위수, 50%</th>\n",
       "      <th>쇼핑 서비스 사용일수: 4분위수, 75%</th>\n",
       "      <th>cluster</th>\n",
       "      <th>day_scaled</th>\n",
       "      <th>year_scaled</th>\n",
       "      <th>sex_scaled</th>\n",
       "    </tr>\n",
       "  </thead>\n",
       "  <tbody>\n",
       "    <tr>\n",
       "      <th>0</th>\n",
       "      <td>1125070</td>\n",
       "      <td>강동구</td>\n",
       "      <td>둔촌1동</td>\n",
       "      <td>2</td>\n",
       "      <td>25</td>\n",
       "      <td>586.00</td>\n",
       "      <td>319.71</td>\n",
       "      <td>0.00</td>\n",
       "      <td>141.43</td>\n",
       "      <td>50.00</td>\n",
       "      <td>158.33</td>\n",
       "      <td>208.33</td>\n",
       "      <td>1</td>\n",
       "      <td>0.416824</td>\n",
       "      <td>0.090909</td>\n",
       "      <td>1.0</td>\n",
       "    </tr>\n",
       "    <tr>\n",
       "      <th>1</th>\n",
       "      <td>1102060</td>\n",
       "      <td>중구</td>\n",
       "      <td>을지로동</td>\n",
       "      <td>2</td>\n",
       "      <td>50</td>\n",
       "      <td>51.00</td>\n",
       "      <td>23.31</td>\n",
       "      <td>18.31</td>\n",
       "      <td>102.00</td>\n",
       "      <td>13.33</td>\n",
       "      <td>81.67</td>\n",
       "      <td>163.33</td>\n",
       "      <td>2</td>\n",
       "      <td>0.292690</td>\n",
       "      <td>0.545455</td>\n",
       "      <td>1.0</td>\n",
       "    </tr>\n",
       "    <tr>\n",
       "      <th>2</th>\n",
       "      <td>1125070</td>\n",
       "      <td>강동구</td>\n",
       "      <td>둔촌1동</td>\n",
       "      <td>1</td>\n",
       "      <td>25</td>\n",
       "      <td>740.00</td>\n",
       "      <td>355.32</td>\n",
       "      <td>52.86</td>\n",
       "      <td>127.95</td>\n",
       "      <td>43.33</td>\n",
       "      <td>81.67</td>\n",
       "      <td>201.67</td>\n",
       "      <td>0</td>\n",
       "      <td>0.374386</td>\n",
       "      <td>0.090909</td>\n",
       "      <td>0.0</td>\n",
       "    </tr>\n",
       "    <tr>\n",
       "      <th>3</th>\n",
       "      <td>1102057</td>\n",
       "      <td>중구</td>\n",
       "      <td>필동</td>\n",
       "      <td>2</td>\n",
       "      <td>75</td>\n",
       "      <td>152.00</td>\n",
       "      <td>61.90</td>\n",
       "      <td>82.61</td>\n",
       "      <td>34.21</td>\n",
       "      <td>3.33</td>\n",
       "      <td>18.33</td>\n",
       "      <td>30.00</td>\n",
       "      <td>2</td>\n",
       "      <td>0.079272</td>\n",
       "      <td>1.000000</td>\n",
       "      <td>1.0</td>\n",
       "    </tr>\n",
       "    <tr>\n",
       "      <th>4</th>\n",
       "      <td>1101067</td>\n",
       "      <td>종로구</td>\n",
       "      <td>창신1동</td>\n",
       "      <td>1</td>\n",
       "      <td>70</td>\n",
       "      <td>108.59</td>\n",
       "      <td>48.88</td>\n",
       "      <td>55.50</td>\n",
       "      <td>34.17</td>\n",
       "      <td>3.33</td>\n",
       "      <td>10.00</td>\n",
       "      <td>35.00</td>\n",
       "      <td>0</td>\n",
       "      <td>0.079146</td>\n",
       "      <td>0.909091</td>\n",
       "      <td>0.0</td>\n",
       "    </tr>\n",
       "  </tbody>\n",
       "</table>\n",
       "</div>"
      ],
      "text/plain": [
       "     행정동코드  자치구   행정동  성별  연령대    총인구수   1인가구수  쇼핑 서비스 사용 미추정 인구수  \\\n",
       "0  1125070  강동구  둔촌1동   2   25  586.00  319.71               0.00   \n",
       "1  1102060   중구  을지로동   2   50   51.00   23.31              18.31   \n",
       "2  1125070  강동구  둔촌1동   1   25  740.00  355.32              52.86   \n",
       "3  1102057   중구    필동   2   75  152.00   61.90              82.61   \n",
       "4  1101067  종로구  창신1동   1   70  108.59   48.88              55.50   \n",
       "\n",
       "   쇼핑 서비스 사용일수  쇼핑 서비스 사용일수: 4분위수, 25%  쇼핑 서비스 사용일수: 4분위수, 50%  \\\n",
       "0       141.43                   50.00                  158.33   \n",
       "1       102.00                   13.33                   81.67   \n",
       "2       127.95                   43.33                   81.67   \n",
       "3        34.21                    3.33                   18.33   \n",
       "4        34.17                    3.33                   10.00   \n",
       "\n",
       "   쇼핑 서비스 사용일수: 4분위수, 75%  cluster  day_scaled  year_scaled  sex_scaled  \n",
       "0                  208.33        1    0.416824     0.090909         1.0  \n",
       "1                  163.33        2    0.292690     0.545455         1.0  \n",
       "2                  201.67        0    0.374386     0.090909         0.0  \n",
       "3                   30.00        2    0.079272     1.000000         1.0  \n",
       "4                   35.00        0    0.079146     0.909091         0.0  "
      ]
     },
     "execution_count": 22,
     "metadata": {},
     "output_type": "execute_result"
    }
   ],
   "source": [
    "df['cluster'] = y_pred\n",
    "df.head()"
   ]
  },
  {
   "cell_type": "code",
   "execution_count": 23,
   "id": "c7d10797",
   "metadata": {},
   "outputs": [
    {
     "data": {
      "text/plain": [
       "array([[0.        , 0.33080351],\n",
       "       [1.        , 0.53882187],\n",
       "       [1.        , 0.19397688]])"
      ]
     },
     "execution_count": 23,
     "metadata": {},
     "output_type": "execute_result"
    }
   ],
   "source": [
    "kmeans.cluster_centers_"
   ]
  },
  {
   "cell_type": "code",
   "execution_count": 24,
   "id": "0e185b43",
   "metadata": {},
   "outputs": [
    {
     "data": {
      "text/plain": [
       "<matplotlib.legend.Legend at 0x2887f3c43d0>"
      ]
     },
     "execution_count": 24,
     "metadata": {},
     "output_type": "execute_result"
    },
    {
     "data": {
      "image/png": "[encoded data removed]",
      "text/plain": [
       "<Figure size 640x480 with 1 Axes>"
      ]
     },
     "metadata": {},
     "output_type": "display_data"
    }
   ],
   "source": [
    "df1 = df[df.cluster == 0]\n",
    "df2 = df[df.cluster == 1]\n",
    "df3 = df[df.cluster == 2]\n",
    "plt.scatter(df1.sex_scaled, df1.day_scaled, color = 'green')\n",
    "plt.scatter(df2.sex_scaled, df2.day_scaled, color = 'red')\n",
    "plt.scatter(df3.sex_scaled, df3.day_scaled, color = 'black')\n",
    "plt.scatter(kmeans.cluster_centers_[:,0], kmeans.cluster_centers_[:,1], color = 'purple', marker = '*', label = 'centroid')\n",
    "plt.xlabel('성별')\n",
    "plt.ylabel('쇼핑 서비스 사용일수')\n",
    "plt.legend()"
   ]
  },
  {
   "cell_type": "markdown",
   "id": "a45b27eb",
   "metadata": {},
   "source": [
    "### Elbow Plot"
   ]
  },
  {
   "cell_type": "code",
   "execution_count": 25,
   "id": "74225b6d",
   "metadata": {},
   "outputs": [
    {
     "name": "stderr",
     "output_type": "stream",
     "text": [
      "D:\\Anaconda\\envs\\pythonEx\\lib\\site-packages\\sklearn\\cluster\\_kmeans.py:870: FutureWarning: The default value of `n_init` will change from 10 to 'auto' in 1.4. Set the value of `n_init` explicitly to suppress the warning\n",
      "  warnings.warn(\n",
      "D:\\Anaconda\\envs\\pythonEx\\lib\\site-packages\\sklearn\\cluster\\_kmeans.py:870: FutureWarning: The default value of `n_init` will change from 10 to 'auto' in 1.4. Set the value of `n_init` explicitly to suppress the warning\n",
      "  warnings.warn(\n",
      "D:\\Anaconda\\envs\\pythonEx\\lib\\site-packages\\sklearn\\cluster\\_kmeans.py:870: FutureWarning: The default value of `n_init` will change from 10 to 'auto' in 1.4. Set the value of `n_init` explicitly to suppress the warning\n",
      "  warnings.warn(\n",
      "D:\\Anaconda\\envs\\pythonEx\\lib\\site-packages\\sklearn\\cluster\\_kmeans.py:870: FutureWarning: The default value of `n_init` will change from 10 to 'auto' in 1.4. Set the value of `n_init` explicitly to suppress the warning\n",
      "  warnings.warn(\n",
      "D:\\Anaconda\\envs\\pythonEx\\lib\\site-packages\\sklearn\\cluster\\_kmeans.py:870: FutureWarning: The default value of `n_init` will change from 10 to 'auto' in 1.4. Set the value of `n_init` explicitly to suppress the warning\n",
      "  warnings.warn(\n",
      "D:\\Anaconda\\envs\\pythonEx\\lib\\site-packages\\sklearn\\cluster\\_kmeans.py:870: FutureWarning: The default value of `n_init` will change from 10 to 'auto' in 1.4. Set the value of `n_init` explicitly to suppress the warning\n",
      "  warnings.warn(\n",
      "D:\\Anaconda\\envs\\pythonEx\\lib\\site-packages\\sklearn\\cluster\\_kmeans.py:870: FutureWarning: The default value of `n_init` will change from 10 to 'auto' in 1.4. Set the value of `n_init` explicitly to suppress the warning\n",
      "  warnings.warn(\n",
      "D:\\Anaconda\\envs\\pythonEx\\lib\\site-packages\\sklearn\\cluster\\_kmeans.py:870: FutureWarning: The default value of `n_init` will change from 10 to 'auto' in 1.4. Set the value of `n_init` explicitly to suppress the warning\n",
      "  warnings.warn(\n",
      "D:\\Anaconda\\envs\\pythonEx\\lib\\site-packages\\sklearn\\cluster\\_kmeans.py:870: FutureWarning: The default value of `n_init` will change from 10 to 'auto' in 1.4. Set the value of `n_init` explicitly to suppress the warning\n",
      "  warnings.warn(\n"
     ]
    }
   ],
   "source": [
    "sse = []\n",
    "k_rng = range(1, 10)\n",
    "for k in k_rng:\n",
    "    kmeans = KMeans(n_clusters = k)\n",
    "    kmeans.fit(df[['sex_scaled', 'day_scaled']])\n",
    "    sse.append(kmeans.inertia_)"
   ]
  },
  {
   "cell_type": "code",
   "execution_count": 26,
   "id": "4e94e279",
   "metadata": {},
   "outputs": [
    {
     "data": {
      "text/plain": [
       "[2889.7439431675625,\n",
       " 341.850626203937,\n",
       " 190.6480345762955,\n",
       " 74.37646801744084,\n",
       " 48.20656654193305,\n",
       " 29.406162676082985,\n",
       " 23.21353100653888,\n",
       " 17.898024856365698,\n",
       " 14.23938619183617]"
      ]
     },
     "execution_count": 26,
     "metadata": {},
     "output_type": "execute_result"
    }
   ],
   "source": [
    "sse"
   ]
  },
  {
   "cell_type": "code",
   "execution_count": 27,
   "id": "fa79891f",
   "metadata": {},
   "outputs": [
    {
     "data": {
      "text/plain": [
       "[<matplotlib.lines.Line2D at 0x2887f4bfe20>]"
      ]
     },
     "execution_count": 27,
     "metadata": {},
     "output_type": "execute_result"
    },
    {
     "data": {
      "image/png": "[encoded data removed]",
      "text/plain": [
       "<Figure size 640x480 with 1 Axes>"
      ]
     },
     "metadata": {},
     "output_type": "display_data"
    }
   ],
   "source": [
    "plt.xlabel('K')\n",
    "plt.ylabel('Sum of squared error')\n",
    "plt.plot(k_rng, sse)"
   ]
  },
  {
   "cell_type": "markdown",
   "id": "123339a4",
   "metadata": {},
   "source": [
    "## 3. 1인가구수와 쇼핑 서비스 사용일수 간의 군집분석"
   ]
  },
  {
   "cell_type": "code",
   "execution_count": 28,
   "id": "c58d8512",
   "metadata": {},
   "outputs": [
    {
     "data": {
      "text/html": [
       "<div>\n",
       "<style scoped>\n",
       "    .dataframe tbody tr th:only-of-type {\n",
       "        vertical-align: middle;\n",
       "    }\n",
       "\n",
       "    .dataframe tbody tr th {\n",
       "        vertical-align: top;\n",
       "    }\n",
       "\n",
       "    .dataframe thead th {\n",
       "        text-align: right;\n",
       "    }\n",
       "</style>\n",
       "<table border=\"1\" class=\"dataframe\">\n",
       "  <thead>\n",
       "    <tr style=\"text-align: right;\">\n",
       "      <th></th>\n",
       "      <th>행정동코드</th>\n",
       "      <th>자치구</th>\n",
       "      <th>행정동</th>\n",
       "      <th>성별</th>\n",
       "      <th>연령대</th>\n",
       "      <th>총인구수</th>\n",
       "      <th>1인가구수</th>\n",
       "      <th>쇼핑 서비스 사용 미추정 인구수</th>\n",
       "      <th>쇼핑 서비스 사용일수</th>\n",
       "      <th>쇼핑 서비스 사용일수: 4분위수, 25%</th>\n",
       "      <th>쇼핑 서비스 사용일수: 4분위수, 50%</th>\n",
       "      <th>쇼핑 서비스 사용일수: 4분위수, 75%</th>\n",
       "      <th>cluster</th>\n",
       "      <th>day_scaled</th>\n",
       "      <th>year_scaled</th>\n",
       "      <th>sex_scaled</th>\n",
       "      <th>one_scaled</th>\n",
       "    </tr>\n",
       "  </thead>\n",
       "  <tbody>\n",
       "    <tr>\n",
       "      <th>0</th>\n",
       "      <td>1125070</td>\n",
       "      <td>강동구</td>\n",
       "      <td>둔촌1동</td>\n",
       "      <td>2</td>\n",
       "      <td>25</td>\n",
       "      <td>586.00</td>\n",
       "      <td>319.71</td>\n",
       "      <td>0.00</td>\n",
       "      <td>141.43</td>\n",
       "      <td>50.00</td>\n",
       "      <td>158.33</td>\n",
       "      <td>208.33</td>\n",
       "      <td>1</td>\n",
       "      <td>0.416824</td>\n",
       "      <td>0.090909</td>\n",
       "      <td>1.0</td>\n",
       "      <td>0.107603</td>\n",
       "    </tr>\n",
       "    <tr>\n",
       "      <th>1</th>\n",
       "      <td>1102060</td>\n",
       "      <td>중구</td>\n",
       "      <td>을지로동</td>\n",
       "      <td>2</td>\n",
       "      <td>50</td>\n",
       "      <td>51.00</td>\n",
       "      <td>23.31</td>\n",
       "      <td>18.31</td>\n",
       "      <td>102.00</td>\n",
       "      <td>13.33</td>\n",
       "      <td>81.67</td>\n",
       "      <td>163.33</td>\n",
       "      <td>2</td>\n",
       "      <td>0.292690</td>\n",
       "      <td>0.545455</td>\n",
       "      <td>1.0</td>\n",
       "      <td>0.005983</td>\n",
       "    </tr>\n",
       "    <tr>\n",
       "      <th>2</th>\n",
       "      <td>1125070</td>\n",
       "      <td>강동구</td>\n",
       "      <td>둔촌1동</td>\n",
       "      <td>1</td>\n",
       "      <td>25</td>\n",
       "      <td>740.00</td>\n",
       "      <td>355.32</td>\n",
       "      <td>52.86</td>\n",
       "      <td>127.95</td>\n",
       "      <td>43.33</td>\n",
       "      <td>81.67</td>\n",
       "      <td>201.67</td>\n",
       "      <td>0</td>\n",
       "      <td>0.374386</td>\n",
       "      <td>0.090909</td>\n",
       "      <td>0.0</td>\n",
       "      <td>0.119812</td>\n",
       "    </tr>\n",
       "    <tr>\n",
       "      <th>3</th>\n",
       "      <td>1102057</td>\n",
       "      <td>중구</td>\n",
       "      <td>필동</td>\n",
       "      <td>2</td>\n",
       "      <td>75</td>\n",
       "      <td>152.00</td>\n",
       "      <td>61.90</td>\n",
       "      <td>82.61</td>\n",
       "      <td>34.21</td>\n",
       "      <td>3.33</td>\n",
       "      <td>18.33</td>\n",
       "      <td>30.00</td>\n",
       "      <td>2</td>\n",
       "      <td>0.079272</td>\n",
       "      <td>1.000000</td>\n",
       "      <td>1.0</td>\n",
       "      <td>0.019213</td>\n",
       "    </tr>\n",
       "    <tr>\n",
       "      <th>4</th>\n",
       "      <td>1101067</td>\n",
       "      <td>종로구</td>\n",
       "      <td>창신1동</td>\n",
       "      <td>1</td>\n",
       "      <td>70</td>\n",
       "      <td>108.59</td>\n",
       "      <td>48.88</td>\n",
       "      <td>55.50</td>\n",
       "      <td>34.17</td>\n",
       "      <td>3.33</td>\n",
       "      <td>10.00</td>\n",
       "      <td>35.00</td>\n",
       "      <td>0</td>\n",
       "      <td>0.079146</td>\n",
       "      <td>0.909091</td>\n",
       "      <td>0.0</td>\n",
       "      <td>0.014749</td>\n",
       "    </tr>\n",
       "  </tbody>\n",
       "</table>\n",
       "</div>"
      ],
      "text/plain": [
       "     행정동코드  자치구   행정동  성별  연령대    총인구수   1인가구수  쇼핑 서비스 사용 미추정 인구수  \\\n",
       "0  1125070  강동구  둔촌1동   2   25  586.00  319.71               0.00   \n",
       "1  1102060   중구  을지로동   2   50   51.00   23.31              18.31   \n",
       "2  1125070  강동구  둔촌1동   1   25  740.00  355.32              52.86   \n",
       "3  1102057   중구    필동   2   75  152.00   61.90              82.61   \n",
       "4  1101067  종로구  창신1동   1   70  108.59   48.88              55.50   \n",
       "\n",
       "   쇼핑 서비스 사용일수  쇼핑 서비스 사용일수: 4분위수, 25%  쇼핑 서비스 사용일수: 4분위수, 50%  \\\n",
       "0       141.43                   50.00                  158.33   \n",
       "1       102.00                   13.33                   81.67   \n",
       "2       127.95                   43.33                   81.67   \n",
       "3        34.21                    3.33                   18.33   \n",
       "4        34.17                    3.33                   10.00   \n",
       "\n",
       "   쇼핑 서비스 사용일수: 4분위수, 75%  cluster  day_scaled  year_scaled  sex_scaled  \\\n",
       "0                  208.33        1    0.416824     0.090909         1.0   \n",
       "1                  163.33        2    0.292690     0.545455         1.0   \n",
       "2                  201.67        0    0.374386     0.090909         0.0   \n",
       "3                   30.00        2    0.079272     1.000000         1.0   \n",
       "4                   35.00        0    0.079146     0.909091         0.0   \n",
       "\n",
       "   one_scaled  \n",
       "0    0.107603  \n",
       "1    0.005983  \n",
       "2    0.119812  \n",
       "3    0.019213  \n",
       "4    0.014749  "
      ]
     },
     "execution_count": 28,
     "metadata": {},
     "output_type": "execute_result"
    }
   ],
   "source": [
    "scaler = MinMaxScaler()\n",
    "# 1인가구수 컬럼만 별도로 스케일링 진행\n",
    "scaler.fit(df[['1인가구수']])\n",
    "df['one_scaled'] = scaler.transform(df[['1인가구수']])\n",
    "df.head()"
   ]
  },
  {
   "cell_type": "code",
   "execution_count": 29,
   "id": "23cb4de7",
   "metadata": {},
   "outputs": [
    {
     "data": {
      "text/plain": [
       "<matplotlib.collections.PathCollection at 0x2887f9d7be0>"
      ]
     },
     "execution_count": 29,
     "metadata": {},
     "output_type": "execute_result"
    },
    {
     "data": {
      "image/png": "[encoded data removed]",
      "text/plain": [
       "<Figure size 640x480 with 1 Axes>"
      ]
     },
     "metadata": {},
     "output_type": "display_data"
    }
   ],
   "source": [
    "plt.scatter(df.one_scaled, df.day_scaled)"
   ]
  },
  {
   "cell_type": "code",
   "execution_count": 30,
   "id": "e8c65f52",
   "metadata": {},
   "outputs": [
    {
     "name": "stderr",
     "output_type": "stream",
     "text": [
      "D:\\Anaconda\\envs\\pythonEx\\lib\\site-packages\\sklearn\\cluster\\_kmeans.py:870: FutureWarning: The default value of `n_init` will change from 10 to 'auto' in 1.4. Set the value of `n_init` explicitly to suppress the warning\n",
      "  warnings.warn(\n"
     ]
    },
    {
     "data": {
      "text/plain": [
       "array([2, 2, 2, ..., 0, 0, 0])"
      ]
     },
     "execution_count": 30,
     "metadata": {},
     "output_type": "execute_result"
    }
   ],
   "source": [
    "# 군집분석(K-means)\n",
    "kmeans = KMeans(n_clusters = 3, init = 'k-means++', max_iter = 300, random_state = 0)\n",
    "y_pred = kmeans.fit_predict(df[['one_scaled', 'day_scaled']])\n",
    "y_pred"
   ]
  },
  {
   "cell_type": "code",
   "execution_count": 31,
   "id": "3a8565de",
   "metadata": {},
   "outputs": [
    {
     "data": {
      "text/html": [
       "<div>\n",
       "<style scoped>\n",
       "    .dataframe tbody tr th:only-of-type {\n",
       "        vertical-align: middle;\n",
       "    }\n",
       "\n",
       "    .dataframe tbody tr th {\n",
       "        vertical-align: top;\n",
       "    }\n",
       "\n",
       "    .dataframe thead th {\n",
       "        text-align: right;\n",
       "    }\n",
       "</style>\n",
       "<table border=\"1\" class=\"dataframe\">\n",
       "  <thead>\n",
       "    <tr style=\"text-align: right;\">\n",
       "      <th></th>\n",
       "      <th>행정동코드</th>\n",
       "      <th>자치구</th>\n",
       "      <th>행정동</th>\n",
       "      <th>성별</th>\n",
       "      <th>연령대</th>\n",
       "      <th>총인구수</th>\n",
       "      <th>1인가구수</th>\n",
       "      <th>쇼핑 서비스 사용 미추정 인구수</th>\n",
       "      <th>쇼핑 서비스 사용일수</th>\n",
       "      <th>쇼핑 서비스 사용일수: 4분위수, 25%</th>\n",
       "      <th>쇼핑 서비스 사용일수: 4분위수, 50%</th>\n",
       "      <th>쇼핑 서비스 사용일수: 4분위수, 75%</th>\n",
       "      <th>cluster</th>\n",
       "      <th>day_scaled</th>\n",
       "      <th>year_scaled</th>\n",
       "      <th>sex_scaled</th>\n",
       "      <th>one_scaled</th>\n",
       "    </tr>\n",
       "  </thead>\n",
       "  <tbody>\n",
       "    <tr>\n",
       "      <th>0</th>\n",
       "      <td>1125070</td>\n",
       "      <td>강동구</td>\n",
       "      <td>둔촌1동</td>\n",
       "      <td>2</td>\n",
       "      <td>25</td>\n",
       "      <td>586.00</td>\n",
       "      <td>319.71</td>\n",
       "      <td>0.00</td>\n",
       "      <td>141.43</td>\n",
       "      <td>50.00</td>\n",
       "      <td>158.33</td>\n",
       "      <td>208.33</td>\n",
       "      <td>2</td>\n",
       "      <td>0.416824</td>\n",
       "      <td>0.090909</td>\n",
       "      <td>1.0</td>\n",
       "      <td>0.107603</td>\n",
       "    </tr>\n",
       "    <tr>\n",
       "      <th>1</th>\n",
       "      <td>1102060</td>\n",
       "      <td>중구</td>\n",
       "      <td>을지로동</td>\n",
       "      <td>2</td>\n",
       "      <td>50</td>\n",
       "      <td>51.00</td>\n",
       "      <td>23.31</td>\n",
       "      <td>18.31</td>\n",
       "      <td>102.00</td>\n",
       "      <td>13.33</td>\n",
       "      <td>81.67</td>\n",
       "      <td>163.33</td>\n",
       "      <td>2</td>\n",
       "      <td>0.292690</td>\n",
       "      <td>0.545455</td>\n",
       "      <td>1.0</td>\n",
       "      <td>0.005983</td>\n",
       "    </tr>\n",
       "    <tr>\n",
       "      <th>2</th>\n",
       "      <td>1125070</td>\n",
       "      <td>강동구</td>\n",
       "      <td>둔촌1동</td>\n",
       "      <td>1</td>\n",
       "      <td>25</td>\n",
       "      <td>740.00</td>\n",
       "      <td>355.32</td>\n",
       "      <td>52.86</td>\n",
       "      <td>127.95</td>\n",
       "      <td>43.33</td>\n",
       "      <td>81.67</td>\n",
       "      <td>201.67</td>\n",
       "      <td>2</td>\n",
       "      <td>0.374386</td>\n",
       "      <td>0.090909</td>\n",
       "      <td>0.0</td>\n",
       "      <td>0.119812</td>\n",
       "    </tr>\n",
       "    <tr>\n",
       "      <th>3</th>\n",
       "      <td>1102057</td>\n",
       "      <td>중구</td>\n",
       "      <td>필동</td>\n",
       "      <td>2</td>\n",
       "      <td>75</td>\n",
       "      <td>152.00</td>\n",
       "      <td>61.90</td>\n",
       "      <td>82.61</td>\n",
       "      <td>34.21</td>\n",
       "      <td>3.33</td>\n",
       "      <td>18.33</td>\n",
       "      <td>30.00</td>\n",
       "      <td>0</td>\n",
       "      <td>0.079272</td>\n",
       "      <td>1.000000</td>\n",
       "      <td>1.0</td>\n",
       "      <td>0.019213</td>\n",
       "    </tr>\n",
       "    <tr>\n",
       "      <th>4</th>\n",
       "      <td>1101067</td>\n",
       "      <td>종로구</td>\n",
       "      <td>창신1동</td>\n",
       "      <td>1</td>\n",
       "      <td>70</td>\n",
       "      <td>108.59</td>\n",
       "      <td>48.88</td>\n",
       "      <td>55.50</td>\n",
       "      <td>34.17</td>\n",
       "      <td>3.33</td>\n",
       "      <td>10.00</td>\n",
       "      <td>35.00</td>\n",
       "      <td>0</td>\n",
       "      <td>0.079146</td>\n",
       "      <td>0.909091</td>\n",
       "      <td>0.0</td>\n",
       "      <td>0.014749</td>\n",
       "    </tr>\n",
       "  </tbody>\n",
       "</table>\n",
       "</div>"
      ],
      "text/plain": [
       "     행정동코드  자치구   행정동  성별  연령대    총인구수   1인가구수  쇼핑 서비스 사용 미추정 인구수  \\\n",
       "0  1125070  강동구  둔촌1동   2   25  586.00  319.71               0.00   \n",
       "1  1102060   중구  을지로동   2   50   51.00   23.31              18.31   \n",
       "2  1125070  강동구  둔촌1동   1   25  740.00  355.32              52.86   \n",
       "3  1102057   중구    필동   2   75  152.00   61.90              82.61   \n",
       "4  1101067  종로구  창신1동   1   70  108.59   48.88              55.50   \n",
       "\n",
       "   쇼핑 서비스 사용일수  쇼핑 서비스 사용일수: 4분위수, 25%  쇼핑 서비스 사용일수: 4분위수, 50%  \\\n",
       "0       141.43                   50.00                  158.33   \n",
       "1       102.00                   13.33                   81.67   \n",
       "2       127.95                   43.33                   81.67   \n",
       "3        34.21                    3.33                   18.33   \n",
       "4        34.17                    3.33                   10.00   \n",
       "\n",
       "   쇼핑 서비스 사용일수: 4분위수, 75%  cluster  day_scaled  year_scaled  sex_scaled  \\\n",
       "0                  208.33        2    0.416824     0.090909         1.0   \n",
       "1                  163.33        2    0.292690     0.545455         1.0   \n",
       "2                  201.67        2    0.374386     0.090909         0.0   \n",
       "3                   30.00        0    0.079272     1.000000         1.0   \n",
       "4                   35.00        0    0.079146     0.909091         0.0   \n",
       "\n",
       "   one_scaled  \n",
       "0    0.107603  \n",
       "1    0.005983  \n",
       "2    0.119812  \n",
       "3    0.019213  \n",
       "4    0.014749  "
      ]
     },
     "execution_count": 31,
     "metadata": {},
     "output_type": "execute_result"
    }
   ],
   "source": [
    "df['cluster'] = y_pred\n",
    "df.head()"
   ]
  },
  {
   "cell_type": "code",
   "execution_count": 32,
   "id": "b719fff1",
   "metadata": {},
   "outputs": [
    {
     "data": {
      "text/plain": [
       "array([[0.03620897, 0.12697981],\n",
       "       [0.06433105, 0.54665152],\n",
       "       [0.04657842, 0.3457854 ]])"
      ]
     },
     "execution_count": 32,
     "metadata": {},
     "output_type": "execute_result"
    }
   ],
   "source": [
    "kmeans.cluster_centers_"
   ]
  },
  {
   "cell_type": "code",
   "execution_count": 33,
   "id": "5cd67e56",
   "metadata": {},
   "outputs": [
    {
     "data": {
      "text/plain": [
       "<matplotlib.legend.Legend at 0x2887f242eb0>"
      ]
     },
     "execution_count": 33,
     "metadata": {},
     "output_type": "execute_result"
    },
    {
     "data": {
      "image/png": "[encoded data removed]",
      "text/plain": [
       "<Figure size 640x480 with 1 Axes>"
      ]
     },
     "metadata": {},
     "output_type": "display_data"
    }
   ],
   "source": [
    "df1 = df[df.cluster == 0]\n",
    "df2 = df[df.cluster == 1]\n",
    "df3 = df[df.cluster == 2]\n",
    "plt.scatter(df1.one_scaled, df1.day_scaled, color = 'green')\n",
    "plt.scatter(df2.one_scaled, df2.day_scaled, color = 'red')\n",
    "plt.scatter(df3.one_scaled, df3.day_scaled, color = 'black')\n",
    "plt.scatter(kmeans.cluster_centers_[:,0], kmeans.cluster_centers_[:,1], color = 'purple', marker = '*', label = 'centroid')\n",
    "plt.xlabel('1인가구수')\n",
    "plt.ylabel('쇼핑 서비스 사용일수')\n",
    "plt.legend()"
   ]
  },
  {
   "cell_type": "markdown",
   "id": "09f935ce",
   "metadata": {},
   "source": [
    "### Elbow Plot"
   ]
  },
  {
   "cell_type": "code",
   "execution_count": 34,
   "id": "0cb23eb6",
   "metadata": {},
   "outputs": [
    {
     "name": "stderr",
     "output_type": "stream",
     "text": [
      "D:\\Anaconda\\envs\\pythonEx\\lib\\site-packages\\sklearn\\cluster\\_kmeans.py:870: FutureWarning: The default value of `n_init` will change from 10 to 'auto' in 1.4. Set the value of `n_init` explicitly to suppress the warning\n",
      "  warnings.warn(\n",
      "D:\\Anaconda\\envs\\pythonEx\\lib\\site-packages\\sklearn\\cluster\\_kmeans.py:870: FutureWarning: The default value of `n_init` will change from 10 to 'auto' in 1.4. Set the value of `n_init` explicitly to suppress the warning\n",
      "  warnings.warn(\n",
      "D:\\Anaconda\\envs\\pythonEx\\lib\\site-packages\\sklearn\\cluster\\_kmeans.py:870: FutureWarning: The default value of `n_init` will change from 10 to 'auto' in 1.4. Set the value of `n_init` explicitly to suppress the warning\n",
      "  warnings.warn(\n",
      "D:\\Anaconda\\envs\\pythonEx\\lib\\site-packages\\sklearn\\cluster\\_kmeans.py:870: FutureWarning: The default value of `n_init` will change from 10 to 'auto' in 1.4. Set the value of `n_init` explicitly to suppress the warning\n",
      "  warnings.warn(\n",
      "D:\\Anaconda\\envs\\pythonEx\\lib\\site-packages\\sklearn\\cluster\\_kmeans.py:870: FutureWarning: The default value of `n_init` will change from 10 to 'auto' in 1.4. Set the value of `n_init` explicitly to suppress the warning\n",
      "  warnings.warn(\n",
      "D:\\Anaconda\\envs\\pythonEx\\lib\\site-packages\\sklearn\\cluster\\_kmeans.py:870: FutureWarning: The default value of `n_init` will change from 10 to 'auto' in 1.4. Set the value of `n_init` explicitly to suppress the warning\n",
      "  warnings.warn(\n",
      "D:\\Anaconda\\envs\\pythonEx\\lib\\site-packages\\sklearn\\cluster\\_kmeans.py:870: FutureWarning: The default value of `n_init` will change from 10 to 'auto' in 1.4. Set the value of `n_init` explicitly to suppress the warning\n",
      "  warnings.warn(\n",
      "D:\\Anaconda\\envs\\pythonEx\\lib\\site-packages\\sklearn\\cluster\\_kmeans.py:870: FutureWarning: The default value of `n_init` will change from 10 to 'auto' in 1.4. Set the value of `n_init` explicitly to suppress the warning\n",
      "  warnings.warn(\n",
      "D:\\Anaconda\\envs\\pythonEx\\lib\\site-packages\\sklearn\\cluster\\_kmeans.py:870: FutureWarning: The default value of `n_init` will change from 10 to 'auto' in 1.4. Set the value of `n_init` explicitly to suppress the warning\n",
      "  warnings.warn(\n"
     ]
    }
   ],
   "source": [
    "sse = []\n",
    "k_rng = range(1, 10)\n",
    "for k in k_rng:\n",
    "    kmeans = KMeans(n_clusters = k)\n",
    "    kmeans.fit(df[['one_scaled', 'day_scaled']])\n",
    "    sse.append(kmeans.inertia_)"
   ]
  },
  {
   "cell_type": "code",
   "execution_count": 35,
   "id": "fd97c0ed",
   "metadata": {},
   "outputs": [
    {
     "data": {
      "text/plain": [
       "[381.1030224867094,\n",
       " 113.1412408602233,\n",
       " 66.09812058695452,\n",
       " 48.577974227638315,\n",
       " 36.89653364066522,\n",
       " 30.49280753868815,\n",
       " 25.419437702017827,\n",
       " 21.274174385114485,\n",
       " 19.338607766745355]"
      ]
     },
     "execution_count": 35,
     "metadata": {},
     "output_type": "execute_result"
    }
   ],
   "source": [
    "sse"
   ]
  },
  {
   "cell_type": "code",
   "execution_count": 36,
   "id": "f73cbab3",
   "metadata": {},
   "outputs": [
    {
     "data": {
      "text/plain": [
       "[<matplotlib.lines.Line2D at 0x2887ed80100>]"
      ]
     },
     "execution_count": 36,
     "metadata": {},
     "output_type": "execute_result"
    },
    {
     "data": {
      "image/png": "[encoded data removed]",
      "text/plain": [
       "<Figure size 640x480 with 1 Axes>"
      ]
     },
     "metadata": {},
     "output_type": "display_data"
    }
   ],
   "source": [
    "plt.xlabel('K')\n",
    "plt.ylabel('Sum of squared error')\n",
    "plt.plot(k_rng, sse)"
   ]
  },
  {
   "cell_type": "code",
   "execution_count": null,
   "id": "0a0f4cfc",
   "metadata": {},
   "outputs": [],
   "source": []
  }
 ],
 "metadata": {
  "kernelspec": {
   "display_name": "Python 3 (ipykernel)",
   "language": "python",
   "name": "python3"
  },
  "language_info": {
   "codemirror_mode": {
    "name": "ipython",
    "version": 3
   },
   "file_extension": ".py",
   "mimetype": "text/x-python",
   "name": "python",
   "nbconvert_exporter": "python",
   "pygments_lexer": "ipython3",
   "version": "3.8.16"
  }
 },
 "nbformat": 4,
 "nbformat_minor": 5
}
