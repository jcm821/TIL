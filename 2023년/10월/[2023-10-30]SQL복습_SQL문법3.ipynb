{
 "cells": [
  {
   "cell_type": "markdown",
   "id": "efa5eb5d-e71e-42bd-b86f-4bbdf92cd854",
   "metadata": {},
   "source": [
    "# SQL 문법"
   ]
  },
  {
   "cell_type": "markdown",
   "id": "42f09bab-884e-4138-b0bf-55f8062974f6",
   "metadata": {},
   "source": [
    "## INSERT문"
   ]
  },
  {
   "cell_type": "markdown",
   "id": "edc79eb4-fbac-4252-b69e-c8e9323223bb",
   "metadata": {},
   "source": [
    "* 테이블에 행 데이터를 삽입하는 명령어\n",
    "* INSERT INTO 테이블 [(열1, 열2, ...)] VALUES (값1, 값2, ...)\n",
    "* 테이블 이름 다음에 나오는 열은 생략 가능\n",
    "* 열 이름을 생략할 경우 VALUES 다음에 나오는 값들의 순서 및 개수는 테이블을 정의할 때의 열 순서 및 개수와 동일해야 함"
   ]
  },
  {
   "cell_type": "code",
   "execution_count": null,
   "id": "fea73f4f-2128-4361-9180-97c74d735ce9",
   "metadata": {},
   "outputs": [],
   "source": [
    "# 새로운 테이블 hongong1 생성 및 데이터 삽입\n",
    "USE market_db;\n",
    "CREATE TABLE hongong1 (toy_id INT, toy_name CHAR(4), age INT);\n",
    "INSERT INTO hongong1 VALUES (1, '우디', 25);\n",
    "SELECT * FROM hongong1;"
   ]
  },
  {
   "attachments": {
    "065388c7-60d2-492c-bcaa-d9add18b1c60.png": {
     "image/png": "[encoded data removed]"
    }
   },
   "cell_type": "markdown",
   "id": "e793c03b-363f-49e6-a047-8ef487180e02",
   "metadata": {},
   "source": [
    "![image.png](attachment:065388c7-60d2-492c-bcaa-d9add18b1c60.png)"
   ]
  },
  {
   "cell_type": "markdown",
   "id": "7495205f-4549-482e-b2c0-f7d8bed4dded",
   "metadata": {},
   "source": [
    "* 만약 아이디와 이름만 입력하고, 나이는 입력하고 싶지않다면 다음과 같이 테이블 이름 뒤에 입력할 열의 이름을 명시해야 한다.\n",
    "* 이 경우 생략한 나이 열에는 NULL 값이 들어가게 된다."
   ]
  },
  {
   "cell_type": "code",
   "execution_count": null,
   "id": "2ba30eba-e02f-481c-a4e9-2fb548a38553",
   "metadata": {},
   "outputs": [],
   "source": [
    "# NULL값을 삽입 하고 싶을 시\n",
    "INSERT INTO hongong1 (toy_id, toy_name) VALUES (2, '버즈');"
   ]
  },
  {
   "attachments": {
    "39e9e081-803c-4e96-8fe7-b547fc797527.png": {
     "image/png": "[encoded data removed]"
    }
   },
   "cell_type": "markdown",
   "id": "6ec0992c-f107-49a7-9626-759bec6dcb7e",
   "metadata": {},
   "source": [
    "![image.png](attachment:39e9e081-803c-4e96-8fe7-b547fc797527.png)"
   ]
  },
  {
   "cell_type": "markdown",
   "id": "bf92eaaa-1ea0-4ec7-9178-125ddd40e957",
   "metadata": {},
   "source": [
    "* 열의 순서를 바꿔서 입력하고자 할 때는 열 이름과 값을 원하는 순서에 맞춰서 입력하면 된다."
   ]
  },
  {
   "cell_type": "code",
   "execution_count": null,
   "id": "0f929ddc-5e75-44a1-9f38-262b9dc9aa2d",
   "metadata": {},
   "outputs": [],
   "source": [
    "# 열의 순서를 바꿔서 입력하기\n",
    "INSERT INTO hongong1 (toy_name, age, toy_id) VALUES ('제시', 20, 3);"
   ]
  },
  {
   "attachments": {
    "f50191a5-f0c9-419c-b7f2-7b920c8ff3d4.png": {
     "image/png": "[encoded data removed]"
    }
   },
   "cell_type": "markdown",
   "id": "e47c2f9d-0b87-4c3c-9eb8-c4e2c684e457",
   "metadata": {},
   "source": [
    "![image.png](attachment:f50191a5-f0c9-419c-b7f2-7b920c8ff3d4.png)"
   ]
  },
  {
   "cell_type": "markdown",
   "id": "c5c7035b-7bff-40cb-9d51-98da5ee5b528",
   "metadata": {},
   "source": [
    "### AUTO_INCREMENT"
   ]
  },
  {
   "cell_type": "markdown",
   "id": "969c2a5d-de9f-436a-8e2d-3a7a64005687",
   "metadata": {},
   "source": [
    "* 열을 정의할 때부터 1부터 증가하는 값을 입력해준다.\n",
    "* INSERT에서는 해당열이 없다고 생각하고 입력\n",
    "* 주의할 점은 AUTO_INCREMENT로 지정하는 열은 꼭 PRIMARY KEY로 지정해야 한다.\n",
    "* **MySQL**: AUTO_INCREMENT\n",
    "* **MS-SQL(SQL Server)**: IDENTITY(초기값, 증가값)[제약조건]\n",
    "* **Oracle**: MINVALUE 1 \\ START WITH \\ INCREMENT BY \\ 1 CACHE 10"
   ]
  },
  {
   "cell_type": "code",
   "execution_count": null,
   "id": "e852e8ac-65dc-485f-8b92-fedab52a736e",
   "metadata": {},
   "outputs": [],
   "source": [
    "# 자동으로 증가하는 AUTO_INCREMENT\n",
    "CREATE TABLE hongong2 (\n",
    "toy_id INT AUTO_INCREMENT PRIMARY KEY,\n",
    "toy_name CHAR(4),\n",
    "age INT);"
   ]
  },
  {
   "cell_type": "code",
   "execution_count": null,
   "id": "16a20720-4322-42c4-812a-ef99a52a622c",
   "metadata": {},
   "outputs": [],
   "source": [
    "# 데이터 입력\n",
    "# 자동 증가하는 부분은 NULL값으로 채워 넣으면 된다\n",
    "INSERT INTO hongong2 VALUES (NULL, '보핍', 25);\n",
    "INSERT INTO hongong2 VALUES (NULL, '슬링키', 22);\n",
    "INSERT INTO hongong2 VALUES (NULL, '렉스', 21);\n",
    "SELECT * FROM hongong2;"
   ]
  },
  {
   "attachments": {
    "8d8d7058-b40f-4a11-a4a0-cc7163d25092.png": {
     "image/png": "[encoded data removed]"
    }
   },
   "cell_type": "markdown",
   "id": "6059fba5-197c-452f-ab85-c7003f573463",
   "metadata": {},
   "source": [
    "![image.png](attachment:8d8d7058-b40f-4a11-a4a0-cc7163d25092.png)"
   ]
  },
  {
   "cell_type": "code",
   "execution_count": null,
   "id": "240796fd-970e-4bfe-bf83-a94c84472952",
   "metadata": {},
   "outputs": [],
   "source": [
    "# 현재 어느 숫자까지 증가되었는지 확인\n",
    "# 자동 증가로 3까지 입력되었음을 알 수 있음\n",
    "SELECT LAST_INSERT_ID();"
   ]
  },
  {
   "attachments": {
    "64aa76d3-e7c7-4f78-af1a-c8a6feae4a72.png": {
     "image/png": "[encoded data removed]"
    }
   },
   "cell_type": "markdown",
   "id": "cb1fa1de-b74d-4c17-ba16-b1849c99ca14",
   "metadata": {},
   "source": [
    "![image.png](attachment:64aa76d3-e7c7-4f78-af1a-c8a6feae4a72.png)"
   ]
  },
  {
   "cell_type": "markdown",
   "id": "38a76982-0592-45b2-90c6-46afa840fad1",
   "metadata": {},
   "source": [
    "* ALTER TABLE: 테이블을 변경하라는 의미\n",
    "* 테이블의 열 이름 변경, 새로운 열 정의, 열 삭제 등의 작업을 한다."
   ]
  },
  {
   "cell_type": "code",
   "execution_count": null,
   "id": "90186fab-476c-49bf-99cc-456356f0756f",
   "metadata": {},
   "outputs": [],
   "source": [
    "# AUTO_INCREMENT로 입력되는 다음 값을 변경하고자 할 때\n",
    "# 자동증가를 100부터 시작하기 위해 AUTO_INCREMENT를 100으로 저장\n",
    "ALTER TABLE hongong2 AUTO_INCREMENT=100;\n",
    "INSERT INTO hongong2 VALUES (NULL, '재남', 35);\n",
    "SELECT * FROM hongong2;"
   ]
  },
  {
   "attachments": {
    "9cac7bb3-eaa1-4027-9393-11eb3455a4c0.png": {
     "image/png": "[encoded data removed]"
    }
   },
   "cell_type": "markdown",
   "id": "09abacf8-a612-41c7-956b-0102d3bf0d8d",
   "metadata": {},
   "source": [
    "![image.png](attachment:9cac7bb3-eaa1-4027-9393-11eb3455a4c0.png)"
   ]
  },
  {
   "cell_type": "code",
   "execution_count": null,
   "id": "42388679-902a-4db3-bcae-8aaa4ea29a82",
   "metadata": {},
   "outputs": [],
   "source": [
    "# 처음부터 입력되는 값을 1000으로 지정, 다음값은 3씩 증가하도록 설정하는 방법\n",
    "# @@auto_increment_increment를 변경시켜야 함\n",
    "CREATE TABLE hongong3 (\n",
    "toy_id INT AUTO_INCREMENT PRIMARY KEY,\n",
    "toy_name CHAR(4),\n",
    "age INT);\n",
    "# 시작값은 1000으로 지정\n",
    "ALTER TABLE hongong3 AUTO_INCREMENT=1000;\n",
    "# 증가값은 3으로 지정\n",
    "SET @@auto_increment_increment=3;"
   ]
  },
  {
   "cell_type": "code",
   "execution_count": null,
   "id": "0f8a14fc-0f03-4434-84f8-aa383c72fec4",
   "metadata": {},
   "outputs": [],
   "source": [
    "# 데이터 삽입\n",
    "INSERT INTO hongong3 VALUES (NULL, '토마스', 20);\n",
    "INSERT INTO hongong3 VALUES (NULL, '제임스', 23);\n",
    "INSERT INTO hongong3 VALUES (NULL, '고든', 25);\n",
    "SELECT * FROM hongong3;"
   ]
  },
  {
   "attachments": {
    "3c05e318-21ae-40db-8eac-c2f9dbba2232.png": {
     "image/png": "[encoded data removed]"
    }
   },
   "cell_type": "markdown",
   "id": "61b565a7-2cc1-4d3a-a4b3-0f59a8966da0",
   "metadata": {},
   "source": [
    "![image.png](attachment:3c05e318-21ae-40db-8eac-c2f9dbba2232.png)"
   ]
  },
  {
   "cell_type": "markdown",
   "id": "f4fc06ed-eb12-4d50-b5da-ad97bc28d9fa",
   "metadata": {},
   "source": [
    "### 시스템 변수\n",
    "* MySQL에서 자체적으로 가지고 있는 설정값이 저장된 변수\n",
    "* 주로 MySQL의 환경과 관련된 내용이 저장되어 있으며, 그 개수는 500개 이상이다.\n",
    "* 앞에 @@가 붙는 것이 특징, 시스템 변수의 값을 확인하려면 SELECT @@시스템변수를 실행하면 된다.\n",
    "* 전체 시스템 변수의 종류를 알고 싶다면 SHOW GLOBAL VARIABLES를 실행하면 된다."
   ]
  },
  {
   "cell_type": "markdown",
   "id": "f3bdac2a-de9f-482d-a842-f911547d027f",
   "metadata": {},
   "source": [
    "### INSERT INTO ~ SELECT\n",
    "* 다른 테이블에 이미 데이터가 입력되어 있을 때 INSERT INTO ~ SELECT구문을 사용해 해당 테이블의 데이터를 가져와서 한번에 입력할 수 있다.\n",
    "* INSERT INTO 테이블_이름 (열_이름1, 열_이름2, ...) SELECT 문;\n",
    "* 주의할점은 SELECT문의 열 개수는 INSERT할 테이블의 열 개수와 같아야 한다.\n",
    "* SELECT의 열이 3개라면 INSERT될 테이블의 열도 3개여야 한다."
   ]
  },
  {
   "cell_type": "code",
   "execution_count": null,
   "id": "d85efae8-be6f-472d-82d1-95a1af0e2256",
   "metadata": {},
   "outputs": [],
   "source": [
    "# world데이터베이스의 city테이블 개수 조회\n",
    "# 데이터베이스_이름.테이블_이름으로 다른 데이터베이스의 테이블에 접근할 수 있다\n",
    "SELECT COUNT(*) FROM world.city;"
   ]
  },
  {
   "attachments": {
    "0ffdb6d8-6b68-48e4-abee-510a1c8522ec.png": {
     "image/png": "[encoded data removed]"
    }
   },
   "cell_type": "markdown",
   "id": "e0d270fb-770e-4618-9c9c-52a7534a4b31",
   "metadata": {},
   "source": [
    "![image.png](attachment:0ffdb6d8-6b68-48e4-abee-510a1c8522ec.png)"
   ]
  },
  {
   "cell_type": "code",
   "execution_count": null,
   "id": "22d5feeb-fc6b-49eb-9d9b-08d83c9d1606",
   "metadata": {},
   "outputs": [],
   "source": [
    "# 테이블의 구조 확인\n",
    "DESC world.city;"
   ]
  },
  {
   "attachments": {
    "28ed92da-ebbe-4573-b080-7307d67bd422.png": {
     "image/png": "[encoded data removed]"
    }
   },
   "cell_type": "markdown",
   "id": "d16633bf-906b-41ed-8743-478d99771c6f",
   "metadata": {},
   "source": [
    "![image.png](attachment:28ed92da-ebbe-4573-b080-7307d67bd422.png)"
   ]
  },
  {
   "cell_type": "code",
   "execution_count": null,
   "id": "2286ade0-71e6-47c3-9f25-52f41b01e495",
   "metadata": {},
   "outputs": [],
   "source": [
    "# LIMIT을 사용하여 데이터 살펴보기\n",
    "SELECT * FROM world.city LIMIT 5;"
   ]
  },
  {
   "attachments": {
    "6ea7909f-4340-4df7-bc2d-39c018df9fb2.png": {
     "image/png": "[encoded data removed]"
    }
   },
   "cell_type": "markdown",
   "id": "23b3e97d-2461-4dcd-b39d-bcf249bf68e9",
   "metadata": {},
   "source": [
    "![image.png](attachment:6ea7909f-4340-4df7-bc2d-39c018df9fb2.png)"
   ]
  },
  {
   "cell_type": "code",
   "execution_count": null,
   "id": "58a11784-45a9-45db-912e-5155d3b2173b",
   "metadata": {},
   "outputs": [],
   "source": [
    "# 도시이름과 인구를 가져오기\n",
    "# 테이블 생성\n",
    "CREATE TABLE city_popul (city_name CHAR(35), population INT);"
   ]
  },
  {
   "cell_type": "code",
   "execution_count": null,
   "id": "f37321ab-d5d9-4fa2-8b11-6a3e2946a1fc",
   "metadata": {},
   "outputs": [],
   "source": [
    "# world.city 테이블의 내용을 city_popul 테이블에 입력\n",
    "INSERT INTO city_popul\n",
    "SELECT Name, Population FROM world.city;"
   ]
  },
  {
   "attachments": {
    "6dd2de04-b472-4a13-bb05-6b78ed27750e.png": {
     "image/png": "[encoded data removed]"
    }
   },
   "cell_type": "markdown",
   "id": "726637db-3dec-48ea-8576-bc13d51abe0b",
   "metadata": {},
   "source": [
    "![image.png](attachment:6dd2de04-b472-4a13-bb05-6b78ed27750e.png)"
   ]
  },
  {
   "cell_type": "code",
   "execution_count": null,
   "id": "1f251ef0-ce1b-4dde-869c-1e0dd00c7215",
   "metadata": {},
   "outputs": [],
   "source": [
    "# 데이터가 올바르게 입력되었는지 확인해준다\n",
    "# 위의 원본과 동일하게 잘 입력되었음을 알 수 있다\n",
    "SELECT * FROM city_popul LIMIT 5;"
   ]
  },
  {
   "attachments": {
    "723e313f-bfcb-4187-8dab-813af49b05f7.png": {
     "image/png": "[encoded data removed]"
    }
   },
   "cell_type": "markdown",
   "id": "9a088fcb-d6f2-4195-9914-9abc66b405f7",
   "metadata": {},
   "source": [
    "![image.png](attachment:723e313f-bfcb-4187-8dab-813af49b05f7.png)"
   ]
  },
  {
   "cell_type": "markdown",
   "id": "db3c4d6c-a593-4241-b97c-c2ee92618473",
   "metadata": {},
   "source": [
    "## UPDATE문"
   ]
  },
  {
   "cell_type": "markdown",
   "id": "4f990937-8e18-4bb8-a5aa-21787187cfd3",
   "metadata": {},
   "source": [
    "* 기존에 입력되어 있는 값을 수정하는 명령어\n",
    "* UPDATE 테이블_이름 SET 열1=값2, 열2=값2, ... WHERE 조건;\n",
    "* MySQL워크벤치에서는 기본적으로 UPDATE, DELETE를 허용하지 않아 설정을 변경해줘야 한다.\n",
    "* Edit - Preferences메뉴에서 SQL Editor에서 Safe Update항목을 체크 해제한 후 OK를 눌러준다."
   ]
  },
  {
   "cell_type": "code",
   "execution_count": null,
   "id": "5f352a59-848d-4b24-a30d-cbae0039d82c",
   "metadata": {},
   "outputs": [],
   "source": [
    "# city_popul테이블의 도시 이름 변경\n",
    "USE market_db;\n",
    "UPDATE city_popul\n",
    "SET city_name = '서울'\n",
    "WHERE city_name = 'Seoul';\n",
    "SELECT * FROM city_popul WHERE city_name = '서울';"
   ]
  },
  {
   "attachments": {
    "14454628-765d-4b3f-b0b6-36ecdbe002d9.png": {
     "image/png": "[encoded data removed]"
    }
   },
   "cell_type": "markdown",
   "id": "327726f7-6664-41d3-99c3-f32a980bc3b3",
   "metadata": {},
   "source": [
    "![image.png](attachment:14454628-765d-4b3f-b0b6-36ecdbe002d9.png)"
   ]
  },
  {
   "cell_type": "code",
   "execution_count": null,
   "id": "5d275d60-9533-4475-84e2-35ea5ed7a1e7",
   "metadata": {},
   "outputs": [],
   "source": [
    "# 한번에 여러 열의 값을 변경\n",
    "# 도시이릉과 인구 값을 모두 변경\n",
    "UPDATE city_popul\n",
    "SET city_name = '뉴욕', population = 0\n",
    "WHERE city_name = 'New York';\n",
    "SELECT * FROM city_popul WHERE city_name = '뉴욕';"
   ]
  },
  {
   "attachments": {
    "5f0b1156-acd6-4cbc-8e89-7d40c5009a48.png": {
     "image/png": "[encoded data removed]"
    }
   },
   "cell_type": "markdown",
   "id": "a7f4a272-6993-4217-acfd-d571bd8b78d5",
   "metadata": {},
   "source": [
    "![image.png](attachment:5f0b1156-acd6-4cbc-8e89-7d40c5009a48.png)"
   ]
  },
  {
   "cell_type": "markdown",
   "id": "868a9427-4288-437c-8692-1b5aa48b2a6c",
   "metadata": {},
   "source": [
    "### WHERE가 없는 UPDATE문"
   ]
  },
  {
   "cell_type": "markdown",
   "id": "e9e8b91c-623f-4609-aa80-6af243cd6ccc",
   "metadata": {},
   "source": [
    "* UPDATE문에서 WHERE절은 문법상 생략이 가능하지만, WHERE절을 생략하면 테이블의 모든 행의 값이 변경된다.\n",
    "* 일반적으로 전체 행의 값을 변경하는 경우는 별로 없으므로 주의해야 한다."
   ]
  },
  {
   "cell_type": "code",
   "execution_count": null,
   "id": "9a53445c-bc1c-4f72-b2bf-4dbdf3c7ecce",
   "metadata": {},
   "outputs": [],
   "source": [
    "# 다음의 명령어를 실행하게 되면 문제점이 발생한다\n",
    "#이 SQL문을 실행하면 4000개가 넘는 모든 도시이름이 '서울'로 바뀌게 된다\n",
    "UPDATE city_popul\n",
    "SET city_name = '서울';"
   ]
  },
  {
   "cell_type": "code",
   "execution_count": null,
   "id": "8f713f9a-99cd-4037-a553-363b2501684f",
   "metadata": {},
   "outputs": [],
   "source": [
    "# 전체 테이블의 내용을 변경하게 되는  경우: 인구단위를 10000명 단위로 변경하고자 할 때\n",
    "UPDATE city_popul\n",
    "SET population = population / 10000;\n",
    "SELECT * FROM city_popul LIMIT 5;"
   ]
  },
  {
   "attachments": {
    "a55ec2ca-5469-4201-9bab-ff36a095aad3.png": {
     "image/png": "[encoded data removed]"
    }
   },
   "cell_type": "markdown",
   "id": "8eff6a27-9c77-4331-a3bd-8181b7d51928",
   "metadata": {},
   "source": [
    "![image.png](attachment:a55ec2ca-5469-4201-9bab-ff36a095aad3.png)"
   ]
  },
  {
   "cell_type": "markdown",
   "id": "12030800-e444-43b3-bdee-74dd684564dd",
   "metadata": {},
   "source": [
    "* 인구 열이 10000명 단위로 변경되어서 한눈에 보기 편해졌다."
   ]
  },
  {
   "cell_type": "markdown",
   "id": "90201e8e-342f-4fec-b15e-8f35132f7687",
   "metadata": {},
   "source": [
    "## DELETE문"
   ]
  },
  {
   "cell_type": "markdown",
   "id": "b79ddadc-2321-45ca-8f2d-4ef07344ed92",
   "metadata": {},
   "source": [
    "* 테이블의 행 데이터를 삭제해야 하는 경우에 사용하는 명령어\n",
    "* UPDATE와 비슷하게 행 단위로 삭제하며 형식은 다음과 같다.\n",
    "* DELETE FROM 테이블이름 WHERE 조건;\n",
    "* UPDATE와 마찬가지로 WHERE절이 생략되면 전체 행 데이터를 삭제하므로 주의해야 한다."
   ]
  },
  {
   "cell_type": "code",
   "execution_count": null,
   "id": "d51c93da-6366-48ec-b12c-5728010f0403",
   "metadata": {},
   "outputs": [],
   "source": [
    "# 'New'로 시작하는 도시 삭제\n",
    "DELETE FROM city_popul\n",
    "WHERE city_name LIKE 'New%';"
   ]
  },
  {
   "attachments": {
    "94c803a9-0544-484b-9283-29119f089cdc.png": {
     "image/png": "[encoded data removed]"
    }
   },
   "cell_type": "markdown",
   "id": "13c641c7-97e6-40c8-8eef-a0d2b9a47a1b",
   "metadata": {},
   "source": [
    "![image.png](attachment:94c803a9-0544-484b-9283-29119f089cdc.png)"
   ]
  },
  {
   "cell_type": "code",
   "execution_count": null,
   "id": "346594b3-b45c-4047-99fd-749a1a484d22",
   "metadata": {},
   "outputs": [],
   "source": [
    "# 'New'글자로 시작하는 도시 중 상위 몇 건만 삭제하려면 LIMIT구문과 함께 사용하면 된다.\n",
    "# 'New'글자로 시작하는 도시 중 상위 5건만 삭제\n",
    "DELETE FROM city_popul\n",
    "WHERE city_name LIKE 'New%'\n",
    "LIMIT 5;"
   ]
  },
  {
   "cell_type": "markdown",
   "id": "5d01372c-96e3-42fb-a356-88547fcf4c77",
   "metadata": {},
   "source": [
    "* 이미 앞에서 관련데이터가 삭제 되어 0건이 삭제되었다고 표시된다."
   ]
  },
  {
   "attachments": {
    "0305780f-db1a-4c17-b5bf-b9664f118d48.png": {
     "image/png": "[encoded data removed]"
    }
   },
   "cell_type": "markdown",
   "id": "847b80c0-f0ae-4a90-b8ee-932118468fa2",
   "metadata": {},
   "source": [
    "![image.png](attachment:0305780f-db1a-4c17-b5bf-b9664f118d48.png)"
   ]
  },
  {
   "cell_type": "markdown",
   "id": "fc0e32e2-cc0c-45dc-83c3-18dfb0de5826",
   "metadata": {},
   "source": [
    "### 대용량 테이블의 삭제"
   ]
  },
  {
   "cell_type": "code",
   "execution_count": null,
   "id": "f7941988-dd02-4cb5-9b07-ec90f2311667",
   "metadata": {},
   "outputs": [],
   "source": [
    "# 대용량 테이블 생성\n",
    "# 몇십만 건의 데이터를 가진 테이블들이 생성된다.\n",
    "CREATE TABLE big_table1 (SELECT * FROM world.city, sakila.country);\n",
    "CREATE TABLE big_table2 (SELECT * FROM world.city, sakila.country);\n",
    "CREATE TABLE big_table3 (SELECT * FROM world.city, sakila.country);\n",
    "SELECT COUNT(*) FROM big_table1;"
   ]
  },
  {
   "attachments": {
    "8326d0c7-900e-4646-bb75-b51271e9ce19.png": {
     "image/png": "[encoded data removed]"
    }
   },
   "cell_type": "markdown",
   "id": "b110e093-4caf-4ee7-9516-2d764027a146",
   "metadata": {},
   "source": [
    "![image.png](attachment:8326d0c7-900e-4646-bb75-b51271e9ce19.png)"
   ]
  },
  {
   "cell_type": "markdown",
   "id": "01d8ab2d-5046-41d8-81fd-0eb3401f130a",
   "metadata": {},
   "source": [
    "* 동일한 내용의 테이블 3개를 DELETE, DROP, TRUNCATE 등 각각 다른 방법으로 삭제해보면 아래와 같은 차이점이 존재한다."
   ]
  },
  {
   "cell_type": "code",
   "execution_count": null,
   "id": "81fdfee0-9e5f-4d91-b6c3-3c0f8deb42c7",
   "metadata": {},
   "outputs": [],
   "source": [
    "# 1. DELETE\n",
    "# 삭제가 오래걸린다. 데이터가 더 많을 경우 훨씬 오랫동안 삭제를 수행하게 된다\n",
    "DELETE FROM big_table1;"
   ]
  },
  {
   "attachments": {
    "1df524a7-32c6-417f-bf1b-561ff58e1bdc.png": {
     "image/png": "[encoded data removed]"
    }
   },
   "cell_type": "markdown",
   "id": "5177f580-5b0e-4375-872a-3c906ec28c64",
   "metadata": {},
   "source": [
    "![image.png](attachment:1df524a7-32c6-417f-bf1b-561ff58e1bdc.png)"
   ]
  },
  {
   "cell_type": "code",
   "execution_count": null,
   "id": "b8664c83-1c29-42b7-ae65-63c8f563c6d4",
   "metadata": {},
   "outputs": [],
   "source": [
    "# 2. DROP\n",
    "# 테이블 자체를 삭제하여 속도가 상당히 빠르다.\n",
    "DROP TABLE big_table2;"
   ]
  },
  {
   "attachments": {
    "1422ec20-847b-45aa-8d6c-fd5dd19552aa.png": {
     "image/png": "[encoded data removed]"
    }
   },
   "cell_type": "markdown",
   "id": "67929fe7-4365-4a91-a482-450040ba287e",
   "metadata": {},
   "source": [
    "![image.png](attachment:1422ec20-847b-45aa-8d6c-fd5dd19552aa.png)"
   ]
  },
  {
   "cell_type": "code",
   "execution_count": null,
   "id": "2ef6a9bd-3b8d-4232-b014-9b4da0e4f766",
   "metadata": {
    "jp-MarkdownHeadingCollapsed": true
   },
   "outputs": [],
   "source": [
    "# 3. truncate\n",
    "# DELETE와 동일한 효과를 내지만 속도가 매우 빠르다\n",
    "TRUNCATE TABLE big_table3;"
   ]
  },
  {
   "attachments": {
    "b7063739-6216-4b9f-a4e4-8980dd679f21.png": {
     "image/png": "[encoded data removed]"
    }
   },
   "cell_type": "markdown",
   "id": "72fa97aa-1a48-488e-a94f-d6579e671ab8",
   "metadata": {},
   "source": [
    "![image.png](attachment:b7063739-6216-4b9f-a4e4-8980dd679f21.png)"
   ]
  },
  {
   "cell_type": "markdown",
   "id": "184c622f-89b7-4116-8e09-c3fe97f33596",
   "metadata": {},
   "source": [
    "* DROP은 테이블이 아예 없어지지만, DELETE와 TRUNCATE는 빈 테이블을 남긴다.\n",
    "* TRUNCATE은 DELETE와 달리 WHERE문을 사용할 수 없다. 그러므로 TRUNCATE는 조건 없이 전체 행을 삭제할 때만 사용된다.\n",
    "* 대용량 테이블의 전체 내용을 삭제할 때 테이블 자체가 필요 없을 경우 -> DROP\n",
    "* 테이블의 구조는 남겨두고 싶을 경우 -> TRUNCATE\n",
    "* 대량의 행 데이터를 모두 삭제할 때는 DELETE보다 TRUNCATE가 효율적이다."
   ]
  }
 ],
 "metadata": {
  "kernelspec": {
   "display_name": "Python 3 (ipykernel)",
   "language": "python",
   "name": "python3"
  },
  "language_info": {
   "codemirror_mode": {
    "name": "ipython",
    "version": 3
   },
   "file_extension": ".py",
   "mimetype": "text/x-python",
   "name": "python",
   "nbconvert_exporter": "python",
   "pygments_lexer": "ipython3",
   "version": "3.8.18"
  }
 },
 "nbformat": 4,
 "nbformat_minor": 5
}
