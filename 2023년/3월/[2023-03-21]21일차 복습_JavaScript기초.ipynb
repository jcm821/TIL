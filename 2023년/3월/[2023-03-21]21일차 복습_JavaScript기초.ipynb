{
 "cells": [
  {
   "cell_type": "markdown",
   "id": "cc3f75a8",
   "metadata": {},
   "source": [
    "# html 연습"
   ]
  },
  {
   "cell_type": "code",
   "execution_count": null,
   "id": "13a6e1f8",
   "metadata": {},
   "outputs": [],
   "source": [
    "<!DOCTYPE html>\n",
    "<html lang=\"ko\">\n",
    "<head>\n",
    "    <meta charset=\"UTF-8\">\n",
    "    <meta http-equiv=\"X-UA-Compatible\" content=\"IE=edge\">\n",
    "    <meta name=\"viewport\" content=\"width=device-width, initial-scale=1.0\">\n",
    "    <title>내가 처음 만드는 html</title>\n",
    "</head>\n",
    "<body>\n",
    "    <h1>시간</h1>\n",
    "    <P>오늘을 붙들어라. 되도록 이면 내일에 의지하지 말라.<br>\n",
    "        오늘이 일년 중에서 최선의 날이다.<br>\n",
    "        -랄프 왈도 에머슨\n",
    "    </P>\n",
    "    <div>\n",
    "        <a href = \"https://www.naver.com/\" target=\"new\"><img src=\"images/시계.jpg\"</a>\n",
    "        <div>시계이미지입니다.</div>\n",
    "    </div>\n",
    "</body>\n",
    "</html>"
   ]
  },
  {
   "cell_type": "markdown",
   "id": "a0036330",
   "metadata": {},
   "source": [
    "이후 html파일을 열어보면 올바르게 적용이 되는것을 볼 수 있다."
   ]
  },
  {
   "cell_type": "markdown",
   "id": "bcd4f98f",
   "metadata": {},
   "source": [
    "# CSS 추가하는 연습"
   ]
  },
  {
   "cell_type": "code",
   "execution_count": null,
   "id": "4d08d99d",
   "metadata": {},
   "outputs": [],
   "source": [
    "<!DOCTYPE html>\n",
    "<html lang=\"ko\">\n",
    "<head>\n",
    "    <meta charset=\"UTF-8\">\n",
    "    <meta http-equiv=\"X-UA-Compatible\" content=\"IE=edge\">\n",
    "    <meta name=\"viewport\" content=\"width=device-width, initial-scale=1.0\">\n",
    "    <title>내가 처음 만드는 html</title>\n",
    "    <link rel=\"stylesheet\" href = \"css/style.css\"\n",
    "    <style>\n",
    "    \n",
    "    </style>\n",
    "</head>\n",
    "<body>\n",
    "    <h1>시간</h1>\n",
    "    <P>오늘을 붙들어라. 되도록 이면 내일에 의지하지 말라.<br>\n",
    "        <span style=\"color:chartreuse;\">오늘이 일년 중에서 최선의 날이다.</span><br>\n",
    "        -랄프 왈도 에머슨\n",
    "    </P>\n",
    "    <div>\n",
    "    # 스타일 속성을 별도로 css파일을 생성하여 저장한 다음 링크로 호출\n",
    "        <a href = \"https://www.naver.com/\"><img src=\"images/시계.jpg\"</a>\n",
    "        <div>시계이미지입니다.</div>\n",
    "    </div>\n",
    "</body>\n",
    "</html>"
   ]
  },
  {
   "cell_type": "markdown",
   "id": "b0c4de7a",
   "metadata": {},
   "source": [
    "마찬가지로 열었던 html페이지를 새로고침해보면 스타일 적용이 되는것을 알 수 있다."
   ]
  },
  {
   "cell_type": "markdown",
   "id": "65fd354a",
   "metadata": {},
   "source": [
    "# Java Script"
   ]
  },
  {
   "cell_type": "markdown",
   "id": "0af8906f",
   "metadata": {},
   "source": [
    "* Interpreter언어, 프로그램을 번역해서 실행시키는 소프트웨어"
   ]
  },
  {
   "cell_type": "markdown",
   "id": "09d2c1b5",
   "metadata": {},
   "source": [
    "### ECMAScript(코어언어)\n",
    "* ECMA(Ecma International)라는 조직의 TC-39위원회가 표준화 작업을 하고, ECMA-262문서로 공개 됨"
   ]
  },
  {
   "cell_type": "markdown",
   "id": "d75ecea4",
   "metadata": {},
   "source": [
    "### 클라이언트 측의 고유한 기술요소\n",
    "* window인터페이스: 자바스킄립트로 브라우저 또는 창을 조작하는 기능 제공\n",
    "* DOM: 자바스크립트로 HTML의 요소를 제어하는 기능 제공\n",
    "* XMLHttpRequest: 서버와 비동기로 통신하는 기능 제공"
   ]
  },
  {
   "cell_type": "markdown",
   "id": "3338795f",
   "metadata": {},
   "source": [
    "### 서버 측 고유한 기술요소\n",
    "* Node.js: 구글이 개발한 자바스크립트 실행 환경(자주 사용됨)\n",
    "* Aptana Jaxer: 압타나 사가 개발하고 현재는 오픈소스로 개발되고 있는 자바스크립트 실행 환경"
   ]
  },
  {
   "cell_type": "markdown",
   "id": "19a26a81",
   "metadata": {},
   "source": [
    "### ECMAScript6\n",
    "* 2015년 6월에 권고된 새로운 버전, ECMAScript 2015라고도 불림\n",
    "* ECMAScript5 이후 가장 크게 변화, 다른 프로그래밍 언어가 제공하는 다양한 기능을 추가하면서도 이전 자바스크립트 버전과의 호환성 보장\n",
    "* ECMAScript6가 대중화되기 위한 토대가 거의 마련"
   ]
  },
  {
   "cell_type": "markdown",
   "id": "6778bd39",
   "metadata": {},
   "source": [
    "* 자바스크립트 선언 - body혹은 head영역 안에 선언"
   ]
  },
  {
   "cell_type": "code",
   "execution_count": null,
   "id": "b7afb3d2",
   "metadata": {},
   "outputs": [],
   "source": [
    "<script>\n",
    "    alert(\"오늘의 명언입니다\");\n",
    "</script>"
   ]
  },
  {
   "cell_type": "markdown",
   "id": "3b0b3944",
   "metadata": {},
   "source": [
    "## 변수의 선언 방법"
   ]
  },
  {
   "cell_type": "markdown",
   "id": "41deafa0",
   "metadata": {},
   "source": [
    "* 데이터를 계산할 목적으로 잠시 보관하는 저장소\n",
    "* 선언방법은 var키워드를 사용한다.\n",
    "* 변수할당은 =키워드를 사용한다."
   ]
  },
  {
   "cell_type": "markdown",
   "id": "83238be8",
   "metadata": {},
   "source": [
    "### 호이스팅\n",
    "* 프로그램은 작성한 순서에 따라 차례대로 실행되지만,프로그램 중간에서 변수를 선언하더라도 첫머리에 선언된 것처럼 생성되는 것을 말함. 자바스크립트만의 고유한 특징(단, 선언과 동시에 대입되는 코드는 끌어올리지 않는다)"
   ]
  },
  {
   "cell_type": "markdown",
   "id": "8015ac72",
   "metadata": {},
   "source": [
    "## 데이터의 표현"
   ]
  },
  {
   "cell_type": "markdown",
   "id": "def5ca24",
   "metadata": {},
   "source": [
    "* Java와는 다르게 변수에 데이터의 타입 지정을 하지 않음.\n",
    "* 변수에 값이 저장되는 순간 변수의 데이터 타입이 결정됨\n",
    "* 변수에 저장할 수 있는 데이터 타입으로는 문자형, 숫자형, 논리형, 그리고 빈데이터형이 있음"
   ]
  },
  {
   "cell_type": "markdown",
   "id": "05ace46e",
   "metadata": {},
   "source": [
    "### 특수한 표현들\n",
    "* 정의는 되었지만, 값이 할당되지 않았을 때 사용될 표현 -> undefined\n",
    "* 값이 비어 있을 경우 사용할 수 있는 표현 -> null\n",
    "* null은 undefined와 다르게 직접 할당해야 한다."
   ]
  },
  {
   "cell_type": "markdown",
   "id": "330887c3",
   "metadata": {},
   "source": [
    "## 변수 값 변경"
   ]
  },
  {
   "cell_type": "markdown",
   "id": "bb79a77b",
   "metadata": {},
   "source": [
    "### 변수의 값은 언제든지 변경될 수 있다.\n",
    "* var 키워드는 변수의 정의를 담당\n",
    "* var 키워드를 삭제한 후 값을 할당하면,변수 값의 변경을 의미\n",
    "* var 키워드를 삭제하지 않고 변수를 할당하더라도 값의 재할당이 이루어짐"
   ]
  },
  {
   "cell_type": "markdown",
   "id": "b5dc3b4b",
   "metadata": {},
   "source": [
    "### 연산에 의한 변경 - 변수의 값을 변경하는 경우는 보통 연산에 의한 변경이 대부분"
   ]
  },
  {
   "cell_type": "markdown",
   "id": "4aad2b51",
   "metadata": {},
   "source": [
    "## 주석"
   ]
  },
  {
   "cell_type": "markdown",
   "id": "26c444a1",
   "metadata": {},
   "source": [
    "### 코드들에 대한 설명\n",
    "* 복잡한 코드에 대한 풀이를 작성하거나 코드에 작성된 참고자료들의 출저를 작성할 때 사용"
   ]
  },
  {
   "cell_type": "markdown",
   "id": "b2f9ac3b",
   "metadata": {},
   "source": [
    "### Single line Command"
   ]
  },
  {
   "cell_type": "code",
   "execution_count": null,
   "id": "0200ab66",
   "metadata": {},
   "outputs": [],
   "source": [
    "// Double Slash로 주석 작성"
   ]
  },
  {
   "cell_type": "markdown",
   "id": "aed8103e",
   "metadata": {},
   "source": [
    "### Multi line Command"
   ]
  },
  {
   "cell_type": "code",
   "execution_count": null,
   "id": "effe4b47",
   "metadata": {},
   "outputs": [],
   "source": [
    "/*\n",
    "* 여러 줄의 주석을 작성할 때는 멀티라인 주석이 사용된다\n",
    "* 주석\n",
    "*/"
   ]
  },
  {
   "cell_type": "markdown",
   "id": "7a70b99d",
   "metadata": {},
   "source": [
    "## 변수의 사용 - 출력"
   ]
  },
  {
   "cell_type": "markdown",
   "id": "d5ff3684",
   "metadata": {},
   "source": [
    "* alert()은 화면에 경고창을 띄워주는 역할\n",
    "* alert()에 변수를 사용하면 변수의 내용이 경고창으로 나타낸다.\n",
    "* console.log()는 개발자 도구에 변수의 값을 출력하는 역할을 함.\n",
    "* console.log()는 실제 개발 환경에서 디버깅할때 주로 사용\n",
    "* HTML문서내에 Javascript변수의 내용 출력 -> document.write()"
   ]
  },
  {
   "cell_type": "code",
   "execution_count": null,
   "id": "4c74b74f",
   "metadata": {},
   "outputs": [],
   "source": [
    "# 출력방법마다 다르게 나타난다\n",
    "    <script>\n",
    "        var hm = \"안녕하세요\"\n",
    "        alert(hm);\n",
    "        console.log(hm);\n",
    "        document.write(hm);\n",
    "    </script>"
   ]
  },
  {
   "cell_type": "markdown",
   "id": "d61062a4",
   "metadata": {},
   "source": [
    "* alert 사용"
   ]
  },
  {
   "attachments": {
    "image.png": {
     "image/png": "[encoded data removed]"
    }
   },
   "cell_type": "markdown",
   "id": "7184efdf",
   "metadata": {},
   "source": [
    "![image.png](attachment:image.png)"
   ]
  },
  {
   "cell_type": "markdown",
   "id": "e98dbb3f",
   "metadata": {},
   "source": [
    "* console.log 사용"
   ]
  },
  {
   "attachments": {
    "image.png": {
     "image/png": "[encoded data removed]"
    }
   },
   "cell_type": "markdown",
   "id": "6fe73af9",
   "metadata": {},
   "source": [
    "![image.png](attachment:image.png)"
   ]
  },
  {
   "cell_type": "markdown",
   "id": "64f78677",
   "metadata": {},
   "source": [
    "* document.write 사용"
   ]
  },
  {
   "attachments": {
    "image.png": {
     "image/png": "[encoded data removed]"
    }
   },
   "cell_type": "markdown",
   "id": "d5f4a2ff",
   "metadata": {},
   "source": [
    "![image.png](attachment:image.png)"
   ]
  },
  {
   "cell_type": "markdown",
   "id": "4931f401",
   "metadata": {},
   "source": [
    "# 연산"
   ]
  },
  {
   "cell_type": "markdown",
   "id": "1d525ca2",
   "metadata": {},
   "source": [
    "## 대입연산 및 증감연산"
   ]
  },
  {
   "cell_type": "code",
   "execution_count": null,
   "id": "43c4e5bf",
   "metadata": {},
   "outputs": [],
   "source": [
    "# 대입연산\n",
    "<!DOCTYPE html>\n",
    "<html lang=\"en\">\n",
    "<head>\n",
    "    <meta charset=\"UTF-8\">\n",
    "    <meta http-equiv=\"X-UA-Compatible\" content=\"IE=edge\">\n",
    "    <meta name=\"viewport\" content=\"width=device-width, initial-scale=1.0\">\n",
    "    <title> 산술연산</title>\n",
    "    <script>\n",
    "        var num1 = 13;\n",
    "        var num2 = 5;\n",
    "        var result;\n",
    "        result = num1 + num2;\n",
    "        document.write(result, \"<br>\");\n",
    "        result = num1 - num2;\n",
    "        document.write(result, \"<br>\");\n",
    "        result = num1 * num2;\n",
    "        document.write(result, \"<br>\");\n",
    "        result = num1 / num2;\n",
    "        document.write(result, \"<br>\");\n",
    "        result = num1 % num2;\n",
    "        document.write(result, \"<br>\");\n",
    "    </script>\n",
    "</head>\n",
    "<body>\n",
    "    \n",
    "</body>\n",
    "</html>"
   ]
  },
  {
   "attachments": {
    "image.png": {
     "image/png": "[encoded data removed]"
    }
   },
   "cell_type": "markdown",
   "id": "ef2112c5",
   "metadata": {},
   "source": [
    "![image.png](attachment:image.png)"
   ]
  },
  {
   "cell_type": "code",
   "execution_count": null,
   "id": "4721f1f0",
   "metadata": {},
   "outputs": [],
   "source": [
    "# 증감연산\n",
    "<!DOCTYPE html>\n",
    "<html lang=\"en\">\n",
    "<head>\n",
    "    <meta charset=\"UTF-8\">\n",
    "    <meta http-equiv=\"X-UA-Compatible\" content=\"IE=edge\">\n",
    "    <meta name=\"viewport\" content=\"width=device-width, initial-scale=1.0\">\n",
    "    <title> 산술연산</title>\n",
    "    <script>\n",
    "        var num1 = 13;\n",
    "        var num2 = 5;\n",
    "        var result;\n",
    "        num1++;\n",
    "        document.write(num1, \"<br>\");\n",
    "        num1--;\n",
    "        document.write(num1, \"<br>\");\n",
    "        result = num1++;\n",
    "        document.write(result, \"<br>\");\n",
    "        result = num1--;\n",
    "        document.write(result, \"<br>\");\n",
    "    </script>\n",
    "</head>\n",
    "<body>\n",
    "    \n",
    "</body>\n",
    "</html>"
   ]
  },
  {
   "attachments": {
    "image-2.png": {
     "image/png": "[encoded data removed]"
    }
   },
   "cell_type": "markdown",
   "id": "bdcb4f36",
   "metadata": {},
   "source": [
    "![image-2.png](attachment:image-2.png)"
   ]
  },
  {
   "cell_type": "code",
   "execution_count": null,
   "id": "0e68af42",
   "metadata": {},
   "outputs": [],
   "source": [
    "# 문자결합\n",
    "    <script>\n",
    "        var txt1 = \"노는게 제일 좋아\";\n",
    "        var txt2 = \"친구들 모여라\";\n",
    "        var txt3 = 8282;\n",
    "        var txt4 = \"언제나 즐거워\";\n",
    "        var txt5 = \"개구쟁이 뽀로로\";\n",
    "        var result;\n",
    "        result = txt1 + txt2 + txt3 + txt4 + txt5;\n",
    "        document.write(result);\n",
    "    </script>"
   ]
  },
  {
   "attachments": {
    "image.png": {
     "image/png": "[encoded data removed]"
    }
   },
   "cell_type": "markdown",
   "id": "ab5b1995",
   "metadata": {},
   "source": [
    "![image.png](attachment:image.png)"
   ]
  },
  {
   "cell_type": "markdown",
   "id": "713eac4a",
   "metadata": {},
   "source": [
    "## 제어문"
   ]
  },
  {
   "cell_type": "code",
   "execution_count": null,
   "id": "1141e367",
   "metadata": {},
   "outputs": [],
   "source": [
    "# if문\n",
    "    <script>\n",
    "        var number1 = 20;\n",
    "        var number2 = 30;\n",
    "        if (number1 < number2) {\n",
    "            console.log(number1 + '이' + number2 + '보다 작습니다.');\n",
    "            \n",
    "        }\n",
    "    </script>"
   ]
  },
  {
   "attachments": {
    "image.png": {
     "image/png": "[encoded data removed]"
    }
   },
   "cell_type": "markdown",
   "id": "9ffc2891",
   "metadata": {},
   "source": [
    "![image.png](attachment:image.png)"
   ]
  },
  {
   "cell_type": "code",
   "execution_count": null,
   "id": "69c3f7d4",
   "metadata": {},
   "outputs": [],
   "source": [
    "# if~else문\n",
    "<!DOCTYPE html>\n",
    "<html lang=\"en\">\n",
    "<head>\n",
    "    <meta charset=\"UTF-8\">\n",
    "    <meta http-equiv=\"X-UA-Compatible\" content=\"IE=edge\">\n",
    "    <meta name=\"viewport\" content=\"width=device-width, initial-scale=1.0\">\n",
    "    <title> if문</title>\n",
    "    <script>\n",
    "        var number1 = 40;\n",
    "        var number2 = 30;\n",
    "        if (number1 < number2) {\n",
    "            console.log(number1 + '이' + number2 + '보다 작습니다.');    \n",
    "        } else {\n",
    "            console.log(number1 + '이' + number2 + '보다 큽니다.');\n",
    "        }\n",
    "    </script>\n",
    "</head>\n",
    "<body>\n",
    "    \n",
    "</body>\n",
    "</html>"
   ]
  },
  {
   "attachments": {
    "image.png": {
     "image/png": "[encoded data removed]"
    }
   },
   "cell_type": "markdown",
   "id": "f5e6ff2f",
   "metadata": {},
   "source": [
    "![image.png](attachment:image.png)"
   ]
  },
  {
   "cell_type": "code",
   "execution_count": null,
   "id": "3e759b95",
   "metadata": {},
   "outputs": [],
   "source": [
    "# if~ else if ~ else\n",
    "    <script>\n",
    "        var number1 = 30;\n",
    "        var number2 = 20;\n",
    "        var number3 = 50;\n",
    "        if (number1 < number2) {\n",
    "            console.log(number1 + '이' + number2 + '보다 작습니다.');    \n",
    "        } else if (number1 < number3) {\n",
    "            console.log(number1 + '이' + number2 + '보다 작습니다.');\n",
    "        } else {\n",
    "            console.log(number1 + '이' + number2 + \",\" + number3 + '보다 큽니다.');\n",
    "        }\n",
    "    </script>"
   ]
  },
  {
   "attachments": {
    "image.png": {
     "image/png": "[encoded data removed]"
    }
   },
   "cell_type": "markdown",
   "id": "eb53cb93",
   "metadata": {},
   "source": [
    "![image.png](attachment:image.png)"
   ]
  },
  {
   "cell_type": "code",
   "execution_count": null,
   "id": "32355fab",
   "metadata": {},
   "outputs": [],
   "source": [
    "# 두 가지 이상의 조건식과 정해 놓은 조건을 만족하지 않았을 때 실행되는 코드\n",
    "    <script>\n",
    "        var mon = prompt('현재는 몇월입니까?');\n",
    "\n",
    "        if(mon >= 9 && mon < 11) {\n",
    "            document.write('독서의 계절 가을이네요!!');\n",
    "        } else if(mon >= 6 && mon <=8) {\n",
    "            document.write('여행 가기 좋은 여름이네요!!');\n",
    "        } else if(mon >=3 && mon <=5) {\n",
    "            document.write('햇살 가득한 봄이네요!!');\n",
    "        }else{\n",
    "            document.write('스키의 계절 겨울이네요!!');\n",
    "        }\n",
    "    </script>"
   ]
  },
  {
   "cell_type": "markdown",
   "id": "66bfbe06",
   "metadata": {},
   "source": [
    "코드를 저장 후 html웹페이지를 새로고침하면 아래와 같이 나오며, 3을 입력하면 '햇살 가득한 봄이네요!!'라는 출력문이 화면에 나타난다."
   ]
  },
  {
   "attachments": {
    "image.png": {
     "image/png": "[encoded data removed]"
    }
   },
   "cell_type": "markdown",
   "id": "4a9d6754",
   "metadata": {},
   "source": [
    "![image.png](attachment:image.png)"
   ]
  },
  {
   "attachments": {
    "image.png": {
     "image/png": "[encoded data removed]"
    }
   },
   "cell_type": "markdown",
   "id": "abd35516",
   "metadata": {},
   "source": [
    "![image.png](attachment:image.png)"
   ]
  },
  {
   "cell_type": "markdown",
   "id": "7bb1d7a2",
   "metadata": {},
   "source": [
    "## 반복문"
   ]
  },
  {
   "cell_type": "code",
   "execution_count": null,
   "id": "fdab9cee",
   "metadata": {},
   "outputs": [],
   "source": [
    "# for문\n",
    "# 조건식을 만족할 때까지 특정 코드를 반복하여 실행\n",
    "    <script>\n",
    "        for(var i = 0; i < 5; i++) {\n",
    "            console.log(i + '번째 손님 응대 중입니다')\n",
    "        }\n",
    "    </script>"
   ]
  },
  {
   "attachments": {
    "image.png": {
     "image/png": "[encoded data removed]"
    }
   },
   "cell_type": "markdown",
   "id": "81658e41",
   "metadata": {},
   "source": [
    "![image.png](attachment:image.png)"
   ]
  },
  {
   "cell_type": "code",
   "execution_count": null,
   "id": "0ea1fa9b",
   "metadata": {},
   "outputs": [],
   "source": [
    "# 조건식을 만족할 때까지 특정 코드를 반복하여 역순으로 실행\n",
    "    <script>\n",
    "        for(var i = 5; i > 0; i--) {\n",
    "            console.log(i + '번째 손님 응대 중입니다');\n",
    "        }\n",
    "    </script>"
   ]
  },
  {
   "attachments": {
    "image.png": {
     "image/png": "[encoded data removed]"
    }
   },
   "cell_type": "markdown",
   "id": "d38ff0d3",
   "metadata": {},
   "source": [
    "![image.png](attachment:image.png)"
   ]
  },
  {
   "cell_type": "code",
   "execution_count": null,
   "id": "1fd4d6ea",
   "metadata": {},
   "outputs": [],
   "source": [
    "# 중첩for-for안에 for사용하기\n",
    "    <script>\n",
    "        for(var i = 0; i < 2; i ++) {\n",
    "            for(var j = 0; j < 2; j++) {\n",
    "                console.log((i + j) + '번째 손님 응대 중입니다.');\n",
    "            }\n",
    "        }\n",
    "    </script>"
   ]
  },
  {
   "attachments": {
    "image.png": {
     "image/png": "[encoded data removed]"
    }
   },
   "cell_type": "markdown",
   "id": "f3f1ea57",
   "metadata": {},
   "source": [
    "![image.png](attachment:image.png)|"
   ]
  },
  {
   "cell_type": "code",
   "execution_count": null,
   "id": "b487976e",
   "metadata": {},
   "outputs": [],
   "source": [
    "# 반목문과 if문 함께 사용\n",
    "    <script>\n",
    "        for(var i = 0; i < 5; i++) {\n",
    "            console.log(i + '번째 손님 응대 중입니다');\n",
    "            if(i == 3){\n",
    "                console.log(i +'번째 손님! 안 계신가요\"');\n",
    "            }\n",
    "        }\n",
    "    </script>"
   ]
  },
  {
   "attachments": {
    "image.png": {
     "image/png": "[encoded data removed]"
    }
   },
   "cell_type": "markdown",
   "id": "447ef29d",
   "metadata": {},
   "source": [
    "![image.png](attachment:image.png)"
   ]
  },
  {
   "cell_type": "code",
   "execution_count": null,
   "id": "4ed95989",
   "metadata": {},
   "outputs": [],
   "source": [
    "# while문\n",
    "    <script>\n",
    "        var i = 0;\n",
    "        while(i < 5) {\n",
    "            console.log(i + '번째 손님 응대 중입니다.');\n",
    "            i++;\n",
    "        }\n",
    "    </script>"
   ]
  },
  {
   "attachments": {
    "image.png": {
     "image/png": "[encoded data removed]"
    }
   },
   "cell_type": "markdown",
   "id": "11ddb9ea",
   "metadata": {},
   "source": [
    "![image.png](attachment:image.png)"
   ]
  },
  {
   "cell_type": "markdown",
   "id": "5d3e99a7",
   "metadata": {},
   "source": [
    "## 매개변수가 있는 함수"
   ]
  },
  {
   "cell_type": "code",
   "execution_count": null,
   "id": "2e50152a",
   "metadata": {},
   "outputs": [],
   "source": [
    "# 매개변수의 개수가 맞지 않아도 함수는 정상적으로 실행됨\n",
    "    <script>\n",
    "        function getCalcNumbers(numberOne, numberTwo) {\n",
    "            var result = numberOne + numberTwo;\n",
    "            return result;\n",
    "        }\n",
    "        var result = getCalcNumbers(10, 60, 70)\n",
    "        console.log(result);\n",
    "    </script>"
   ]
  },
  {
   "attachments": {
    "image.png": {
     "image/png": "[encoded data removed]"
    }
   },
   "cell_type": "markdown",
   "id": "6e35c4da",
   "metadata": {},
   "source": [
    "![image.png](attachment:image.png)"
   ]
  },
  {
   "cell_type": "code",
   "execution_count": null,
   "id": "54b8b57a",
   "metadata": {},
   "outputs": [],
   "source": [
    "# return문은 함수에서 결과값을 반환할 때 사용. return문이 실행되면 코드는 종료\n",
    "    <script>\n",
    "        function getCalcNumbers() {\n",
    "            var numberOne = 10;\n",
    "            var numberTwo = 20;\n",
    "            var result = numberOne + numberTwo;\n",
    "            return result;\n",
    "        }\n",
    "        var calcResult = getCalcNumbers();\n",
    "        console.log(calcResult);\n",
    "    </script>"
   ]
  },
  {
   "attachments": {
    "image.png": {
     "image/png": "[encoded data removed]"
    }
   },
   "cell_type": "markdown",
   "id": "7420e8f2",
   "metadata": {},
   "source": [
    "![image.png](attachment:image.png)"
   ]
  },
  {
   "cell_type": "markdown",
   "id": "5c6c5bba",
   "metadata": {},
   "source": [
    "## 함수를 리턴하는 함수"
   ]
  },
  {
   "cell_type": "markdown",
   "id": "a8b16e2f",
   "metadata": {},
   "source": [
    "### 중첩함수와 유사하지만, 함수를 리턴하는 점이 다름\n",
    "* 일반 값처럼 함수를 리턴\n",
    "* 함수를 호출함과 동시에 다른 함수로 바꿀 수 있음\n",
    "* 자기 자신을 재정의하는 함수 구현"
   ]
  },
  {
   "cell_type": "code",
   "execution_count": null,
   "id": "91431178",
   "metadata": {},
   "outputs": [],
   "source": [
    "    <script>\n",
    "        function getCalcNumbers(numberOne, numberTwo) {\n",
    "            return function(){ // 값이 아닌 함수를 리턴\n",
    "                return numberOne + numberTwo;\n",
    "            }\n",
    "        }\n",
    "        var calc = getCalcNumbers(10, 80);\n",
    "        var result = calc() // 리턴된 함수 실행\n",
    "        console.log(result);\n",
    "    </script>"
   ]
  },
  {
   "attachments": {
    "image.png": {
     "image/png": "[encoded data removed]"
    }
   },
   "cell_type": "markdown",
   "id": "c17da033",
   "metadata": {},
   "source": [
    "![image.png](attachment:image.png)"
   ]
  },
  {
   "cell_type": "markdown",
   "id": "e2f90945",
   "metadata": {},
   "source": [
    "# 객체"
   ]
  },
  {
   "cell_type": "markdown",
   "id": "1d4ac947",
   "metadata": {},
   "source": [
    "## 내장객체\n",
    "* 자바스크립트 엔진에 내장되어 있어 필요한 경우 생성해서 사용할 수 있는 객체, String, Date, Array, Math 객체 등이 있다."
   ]
  },
  {
   "cell_type": "markdown",
   "id": "82280797",
   "metadata": {},
   "source": [
    "## 브라우저 객체 모델\n",
    "* 브라우저에 계층 구종로 내장되어 있는 객체, window, screen location, history, navigator객체 등이 있다."
   ]
  },
  {
   "cell_type": "markdown",
   "id": "b9aba0fa",
   "metadata": {},
   "source": [
    "## 문서 객체 모델\n",
    "* HTML문서 구조\n",
    "* HTML문서의 기본구조는 최상위 객체로 html이 있으며, 그 하위 객체로는 head, body가 있다.\n",
    "* 자바스크립트의 DOM은 IE8이하 버전에서의 호환성문제로 인해 사용이 어려움 -> jQuery DOM사용"
   ]
  },
  {
   "cell_type": "markdown",
   "id": "49b356ce",
   "metadata": {},
   "source": [
    "# 배열"
   ]
  },
  {
   "cell_type": "markdown",
   "id": "c6783114",
   "metadata": {},
   "source": [
    "* 여러 개의 데이터를 하나의 저장소에 저장하기 위해 배열 객체(Array Object)를 생성"
   ]
  },
  {
   "cell_type": "code",
   "execution_count": null,
   "id": "8d1082ec",
   "metadata": {},
   "outputs": [],
   "source": [
    "# 배열객체 요소 반복문으로 불러오기\n",
    "    <script>\n",
    "        var arr = [2022, 'ktds', true]\n",
    "        document.write(arr[0], '<br>');\n",
    "        document.write(arr[1], '<br>');\n",
    "        document.write(arr[2], '<br>');\n",
    "        \n",
    "        for(var i = 0; i < arr.length; i++){\n",
    "            document.write(arr[i], '<br>');\n",
    "        }\n",
    "        for(i in arr){\n",
    "            document.write(arr[i], '<br>');\n",
    "        }\n",
    "    </script>"
   ]
  },
  {
   "attachments": {
    "image.png": {
     "image/png": "[encoded data removed]"
    }
   },
   "cell_type": "markdown",
   "id": "6f386d5e",
   "metadata": {},
   "source": [
    "![image.png](attachment:image.png)"
   ]
  },
  {
   "cell_type": "markdown",
   "id": "a0e76216",
   "metadata": {},
   "source": [
    "# 함수"
   ]
  },
  {
   "cell_type": "markdown",
   "id": "8d372ccc",
   "metadata": {},
   "source": [
    "* JavaScript는 function기반의 영역 사용\n",
    "* function내부에서 선언된 변수는 function의 모든 영역에서 사용 가능"
   ]
  },
  {
   "cell_type": "markdown",
   "id": "9986a2a5",
   "metadata": {},
   "source": [
    "## 매개변수가 있는 함수\n",
    "* 함수를 호출할 때 전달하고자 하는 값을 입력하여 호출\n",
    "* 매개변수의 개수가 맞지 않아도 함수는 정상적으로 실행\n",
    "* 매개변수에 해당하는 값이 전달되지 않는 경우, undefined로 처리됨, 함수는 정상적으로 실행된다."
   ]
  },
  {
   "cell_type": "markdown",
   "id": "1fbcba6e",
   "metadata": {},
   "source": [
    "## 리턴 함수\n",
    "* return문은 함수에서 결과값을 반환할 때 사용. return문이 실행되면 코드는 종료"
   ]
  },
  {
   "cell_type": "markdown",
   "id": "757181a5",
   "metadata": {},
   "source": [
    "## 중첩 함수\n",
    "* 특정 함수의 내부에 선언된 함수. 지역 함수 또는 내부 함수라고 부르기도 함\n",
    "* 함수 안에 함수가 다시 포함되어, 감추고 싶은 기능 구현, 외부 함수 바깥에서는 내부 함수를 읽거나 쓸 수 없다.\n",
    "* Javascript에는 접근 제한자가 없기 때문에 기능을 감추고 싶다면, 중첩함수로 표현"
   ]
  },
  {
   "cell_type": "markdown",
   "id": "395e7fed",
   "metadata": {},
   "source": [
    "## 재귀 함수\n",
    "* 함수 정의문 내에서 작성한 코드로 함수를 다시 호출하는 것\n",
    "* 함수를 반복문처럼 여러번 호출하기 위해 사용, 재귀 호출이 중간에 멈출 수 있도록 만들어야 함\n",
    "* 호출횟수만큼 메모리 소비량이 늘어나므로, 재귀호출로 문제를 간단하게 해결할 수 있을때만 사용"
   ]
  },
  {
   "cell_type": "markdown",
   "id": "30a0c616",
   "metadata": {},
   "source": [
    "## 콜백 함수\n",
    "* 다른 함수에 인수로 넘겨지는 함수\n",
    "* 함수를 호출할 때 무언가 새로운 일이 생기거나, 그 함수의 실행이 끝나면 지정한 콜백함수를 실행해 주도록 함수에 요청해야 할 때 사용"
   ]
  },
  {
   "cell_type": "markdown",
   "id": "5a5d29d2",
   "metadata": {},
   "source": [
    "## 함수를 리턴하는 함수\n"
   ]
  },
  {
   "cell_type": "markdown",
   "id": "657494eb",
   "metadata": {},
   "source": [
    "### 중첩함수와 유사하지만, 함수를 리턴하는 점이 다름."
   ]
  },
  {
   "cell_type": "markdown",
   "id": "1b6f828f",
   "metadata": {},
   "source": [
    "* 일반 값처럼 함수를 리턴할 수 있음\n",
    "* 함수를 호출함과 동시에 다른 함수로 바꿀 수 있음\n",
    "* 자기 자신을 재정의하는 함수 구현\n",
    "* Private한 변수나 함수를 가릴 때 사용함"
   ]
  },
  {
   "cell_type": "markdown",
   "id": "ee48a401",
   "metadata": {},
   "source": [
    "# 객체의 기초"
   ]
  },
  {
   "cell_type": "markdown",
   "id": "e510f1e2",
   "metadata": {},
   "source": [
    "## 객체 리터럴"
   ]
  },
  {
   "cell_type": "markdown",
   "id": "bc3d3eca",
   "metadata": {},
   "source": [
    "* 자바스크립트에서는 원시타입을 제외한 모든 값이 객체\n",
    "* 가장 기본적인 객체 생성 방법이 객체 리터널이다.\n",
    "* 자바스크립트에서 가장 기본적인 객체 생성 방법은 멤버변수/함수를 선언하는 것이다."
   ]
  },
  {
   "cell_type": "markdown",
   "id": "08b06408",
   "metadata": {},
   "source": [
    "## 생성자"
   ]
  },
  {
   "cell_type": "markdown",
   "id": "8b0d2542",
   "metadata": {},
   "source": [
    "* 생성자를 사용하면 이름이 같은 메소드와 프로퍼티를 가진 객체 여러 개를 효율적으로 생성할 수 있다.\n",
    "* new 키워드를 이용해 객체를 만들어낼 수 있다."
   ]
  },
  {
   "cell_type": "markdown",
   "id": "2f7181f3",
   "metadata": {},
   "source": [
    "# jQuery"
   ]
  },
  {
   "cell_type": "markdown",
   "id": "92112b1f",
   "metadata": {},
   "source": [
    "* Node(Element)를 간편하게 컨트롤 하기 위한 라이브러리\n",
    "* jQuery는 아래 작업들을 편하게 만들어준다\n",
    "    - HTML문서에서 Element찾기\n",
    "    - HTML Content 변경하기\n",
    "    - 사용자의 Action에 반응하기\n",
    "    - 웹 페이지의 내용을 애니메이션 하기\n",
    "    - 네트워크에서 새로운 컨텐츠 받아오기\n",
    "* jQuery로 처리할 수 있는 Element들의 기능들\n",
    "    - CSS\n",
    "    - Event\n",
    "    - Animation\n",
    "    - Create, Modify, Delete 등을 처리\n",
    "* Network\n",
    "    - 비동기 통신을 간편하게 처리"
   ]
  },
  {
   "cell_type": "markdown",
   "id": "854416fc",
   "metadata": {},
   "source": [
    "# AJAX"
   ]
  },
  {
   "cell_type": "markdown",
   "id": "503de2dc",
   "metadata": {},
   "source": [
    "* 일반적인 HTTP요청 - 동기방식\n",
    "* AJAX요청 - 비동기방식 (다나와 같은 사이트에 항목이 바뀌어도 박스가 변하지 않는것을 알 수 있다.)"
   ]
  },
  {
   "cell_type": "markdown",
   "id": "e528049e",
   "metadata": {},
   "source": [
    "## AJAX의 장점"
   ]
  },
  {
   "cell_type": "markdown",
   "id": "b114a028",
   "metadata": {},
   "source": [
    "* 페이지의 갱신없이 서버와 비동기 통신을 가능하게 함\n",
    "* 화면이 새로 로딩되는 것이 아니기에 속도면에서 성능 개선(웹페이지 속도향상)\n",
    "* 별도의 플러그인이 필요하지 않음\n",
    "* http전송 중에도 클라이언트가 웹 어플리케이션과 상호작용 할 수 있음"
   ]
  },
  {
   "cell_type": "code",
   "execution_count": null,
   "id": "7b089614",
   "metadata": {},
   "outputs": [],
   "source": []
  }
 ],
 "metadata": {
  "kernelspec": {
   "display_name": "Python 3 (ipykernel)",
   "language": "python",
   "name": "python3"
  },
  "language_info": {
   "codemirror_mode": {
    "name": "ipython",
    "version": 3
   },
   "file_extension": ".py",
   "mimetype": "text/x-python",
   "name": "python",
   "nbconvert_exporter": "python",
   "pygments_lexer": "ipython3",
   "version": "3.8.16"
  }
 },
 "nbformat": 4,
 "nbformat_minor": 5
}
