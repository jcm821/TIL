{
 "cells": [
  {
   "cell_type": "markdown",
   "id": "bd578054",
   "metadata": {},
   "source": [
    "## 1. Numpy import하기"
   ]
  },
  {
   "cell_type": "code",
   "execution_count": 1,
   "id": "52462ad8",
   "metadata": {},
   "outputs": [],
   "source": [
    "# numpy패키지를 np라는 별칭으로 가져와서 사용한다\n",
    "import numpy as np"
   ]
  },
  {
   "cell_type": "code",
   "execution_count": 2,
   "id": "9622712f",
   "metadata": {},
   "outputs": [
    {
     "name": "stdout",
     "output_type": "stream",
     "text": [
      "1.21.5\n"
     ]
    }
   ],
   "source": [
    "# import한 패키지의 별칭만 다르게 사용하면\n",
    "# 모든 파이썬 패키지의 버전을 확인할 수 있다\n",
    "print(np.__version__)"
   ]
  },
  {
   "cell_type": "code",
   "execution_count": 3,
   "id": "316c662d",
   "metadata": {},
   "outputs": [
    {
     "name": "stdout",
     "output_type": "stream",
     "text": [
      "Package                       Version\n",
      "----------------------------- --------------------\n",
      "absl-py                       1.0.0\n",
      "alabaster                     0.7.12\n",
      "anaconda-client               1.11.0\n",
      "anaconda-navigator            2.1.1\n",
      "anaconda-project              0.11.1\n",
      "anyio                         3.5.0\n",
      "appdirs                       1.4.4\n",
      "argon2-cffi                   21.3.0\n",
      "argon2-cffi-bindings          21.2.0\n",
      "arrow                         1.2.3\n",
      "astroid                       2.6.6\n",
      "astropy                       5.1\n",
      "asttokens                     2.0.5\n",
      "astunparse                    1.6.3\n",
      "atomicwrites                  1.4.0\n",
      "attrs                         21.4.0\n",
      "Automat                       20.2.0\n",
      "autopep8                      1.6.0\n",
      "Babel                         2.9.1\n",
      "backcall                      0.2.0\n",
      "backports.functools-lru-cache 1.6.4\n",
      "backports.tempfile            1.0\n",
      "backports.weakref             1.0.post1\n",
      "bcrypt                        3.2.0\n",
      "beautifulsoup4                4.11.1\n",
      "binaryornot                   0.4.4\n",
      "bitarray                      2.5.1\n",
      "bkcharts                      0.2\n",
      "black                         22.6.0\n",
      "bleach                        4.1.0\n",
      "bokeh                         2.4.3\n",
      "boto3                         1.24.28\n",
      "botocore                      1.27.59\n",
      "Bottleneck                    1.3.5\n",
      "branca                        0.6.0\n",
      "brotlipy                      0.7.0\n",
      "cachetools                    5.0.0\n",
      "certifi                       2022.9.24\n",
      "cffi                          1.15.1\n",
      "chardet                       4.0.0\n",
      "charset-normalizer            2.0.4\n",
      "click                         8.0.4\n",
      "cloudpickle                   2.0.0\n",
      "clyent                        1.2.2\n",
      "colorama                      0.4.5\n",
      "colorcet                      3.0.1\n",
      "comtypes                      1.1.10\n",
      "conda                         22.9.0\n",
      "conda-build                   3.21.6\n",
      "conda-content-trust           0.1.3\n",
      "conda-pack                    0.6.0\n",
      "conda-package-handling        1.9.0\n",
      "conda-repo-cli                1.0.24\n",
      "conda-token                   0.4.0\n",
      "conda-verify                  3.4.2\n",
      "constantly                    15.1.0\n",
      "cookiecutter                  1.7.3\n",
      "cryptography                  38.0.1\n",
      "cssselect                     1.1.0\n",
      "cycler                        0.11.0\n",
      "Cython                        0.29.32\n",
      "cytoolz                       0.12.0\n",
      "daal4py                       2021.6.0\n",
      "dask                          2022.7.0\n",
      "datashader                    0.14.1\n",
      "datashape                     0.5.4\n",
      "debugpy                       1.5.1\n",
      "decorator                     5.1.1\n",
      "defusedxml                    0.7.1\n",
      "diff-match-patch              20200713\n",
      "distributed                   2022.7.0\n",
      "docutils                      0.18.1\n",
      "entrypoints                   0.4\n",
      "et-xmlfile                    1.1.0\n",
      "executing                     0.8.3\n",
      "fastjsonschema                2.16.2\n",
      "filelock                      3.6.0\n",
      "finance-datareader            0.9.50\n",
      "flake8                        3.9.2\n",
      "Flask                         1.1.2\n",
      "flatbuffers                   2.0\n",
      "folium                        0.14.0\n",
      "fonttools                     4.25.0\n",
      "frozendict                    2.3.5\n",
      "fsspec                        2022.10.0\n",
      "future                        0.18.2\n",
      "gast                          0.5.3\n",
      "gensim                        4.1.2\n",
      "geographiclib                 2.0\n",
      "geopy                         2.3.0\n",
      "glob2                         0.7\n",
      "google-auth                   2.6.2\n",
      "google-auth-oauthlib          0.4.6\n",
      "google-pasta                  0.2.0\n",
      "greenlet                      1.1.1\n",
      "grpcio                        1.44.0\n",
      "h5py                          3.7.0\n",
      "HeapDict                      1.0.1\n",
      "holoviews                     1.15.0\n",
      "html5lib                      1.1\n",
      "hvplot                        0.8.0\n",
      "hyperlink                     21.0.0\n",
      "idna                          3.4\n",
      "imagecodecs                   2021.8.26\n",
      "imageio                       2.19.3\n",
      "imagesize                     1.4.1\n",
      "importlib-metadata            4.11.3\n",
      "incremental                   21.3.0\n",
      "inflection                    0.5.1\n",
      "iniconfig                     1.1.1\n",
      "intake                        0.6.5\n",
      "intervaltree                  3.1.0\n",
      "ipykernel                     6.15.2\n",
      "ipython                       8.6.0\n",
      "ipython-genutils              0.2.0\n",
      "ipywidgets                    7.6.5\n",
      "isort                         5.9.3\n",
      "itemadapter                   0.3.0\n",
      "itemloaders                   1.0.4\n",
      "itsdangerous                  2.0.1\n",
      "jdcal                         1.4.1\n",
      "jedi                          0.18.1\n",
      "Jinja2                        2.11.3\n",
      "jinja2-time                   0.2.0\n",
      "jmespath                      0.10.0\n",
      "joblib                        1.1.1\n",
      "JPype1                        1.3.0\n",
      "json5                         0.9.6\n",
      "jsonschema                    4.16.0\n",
      "jupyter                       1.0.0\n",
      "jupyter-client                6.1.12\n",
      "jupyter-console               6.4.0\n",
      "jupyter_core                  4.11.2\n",
      "jupyter-server                1.18.1\n",
      "jupyterlab                    3.4.4\n",
      "jupyterlab-pygments           0.1.2\n",
      "jupyterlab-server             2.10.3\n",
      "jupyterlab-widgets            1.0.0\n",
      "jupyterthemes                 0.20.0\n",
      "keras                         2.8.0\n",
      "Keras-Preprocessing           1.1.2\n",
      "keyring                       23.4.0\n",
      "kiwisolver                    1.4.2\n",
      "konlpy                        0.6.0\n",
      "lazy-object-proxy             1.6.0\n",
      "lesscpy                       0.15.1\n",
      "libarchive-c                  2.9\n",
      "libclang                      13.0.0\n",
      "llvmlite                      0.39.1\n",
      "locket                        1.0.0\n",
      "lxml                          4.9.1\n",
      "lz4                           3.1.3\n",
      "Markdown                      3.3.6\n",
      "MarkupSafe                    2.0.1\n",
      "matplotlib                    3.5.3\n",
      "matplotlib-inline             0.1.6\n",
      "mccabe                        0.6.1\n",
      "menuinst                      1.4.18\n",
      "mistune                       0.8.4\n",
      "mkl-fft                       1.3.1\n",
      "mkl-random                    1.2.2\n",
      "mkl-service                   2.4.0\n",
      "mock                          4.0.3\n",
      "mpmath                        1.2.1\n",
      "msgpack                       1.0.3\n",
      "multipledispatch              0.6.0\n",
      "multitasking                  0.0.11\n",
      "munkres                       1.1.4\n",
      "mypy-extensions               0.4.3\n",
      "navigator-updater             0.2.1\n",
      "nbclassic                     0.4.8\n",
      "nbclient                      0.5.13\n",
      "nbconvert                     6.4.4\n",
      "nbformat                      5.5.0\n",
      "nest-asyncio                  1.5.5\n",
      "networkx                      2.8.4\n",
      "nltk                          3.7\n",
      "nose                          1.3.7\n",
      "notebook                      6.5.2\n",
      "notebook_shim                 0.2.2\n",
      "numba                         0.56.3\n",
      "numexpr                       2.8.3\n",
      "numpy                         1.21.5\n",
      "numpydoc                      1.5.0\n",
      "oauthlib                      3.2.0\n",
      "olefile                       0.46\n",
      "openpyxl                      3.0.10\n",
      "opt-einsum                    3.3.0\n",
      "packaging                     21.3\n",
      "pandas                        1.4.4\n",
      "pandas-datareader             0.10.0\n",
      "pandocfilters                 1.5.0\n",
      "panel                         0.14.1\n",
      "param                         1.12.0\n",
      "paramiko                      2.8.1\n",
      "parsel                        1.6.0\n",
      "parso                         0.8.3\n",
      "partd                         1.2.0\n",
      "pathlib                       1.0.1\n",
      "pathspec                      0.9.0\n",
      "patsy                         0.5.2\n",
      "pep8                          1.7.1\n",
      "pexpect                       4.8.0\n",
      "pickleshare                   0.7.5\n",
      "Pillow                        9.2.0\n",
      "pip                           22.2.2\n",
      "pkginfo                       1.8.3\n",
      "platformdirs                  2.5.2\n",
      "plotly                        5.9.0\n",
      "pluggy                        1.0.0\n",
      "ply                           3.11\n",
      "poyo                          0.5.0\n",
      "prometheus-client             0.14.1\n",
      "prompt-toolkit                3.0.20\n",
      "Protego                       0.1.16\n",
      "protobuf                      3.20.0\n",
      "psutil                        5.9.0\n",
      "ptyprocess                    0.7.0\n",
      "pure-eval                     0.2.2\n",
      "py                            1.11.0\n",
      "pyasn1                        0.4.8\n",
      "pyasn1-modules                0.2.8\n",
      "pycodestyle                   2.7.0\n",
      "pycosat                       0.6.4\n",
      "pycparser                     2.21\n",
      "pyct                          0.4.8\n",
      "pycurl                        7.45.1\n",
      "PyDispatcher                  2.0.5\n",
      "pydocstyle                    6.1.1\n",
      "pyerfa                        2.0.0\n",
      "pyflakes                      2.3.1\n",
      "Pygments                      2.11.2\n",
      "PyHamcrest                    2.0.2\n",
      "PyJWT                         2.4.0\n",
      "pylint                        2.9.6\n",
      "pyls-spyder                   0.4.0\n",
      "PyNaCl                        1.5.0\n",
      "pyodbc                        4.0.34\n",
      "pyOpenSSL                     22.0.0\n",
      "pyparsing                     3.0.9\n",
      "pyrsistent                    0.18.0\n",
      "PySocks                       1.7.1\n",
      "pytest                        7.1.2\n",
      "python-dateutil               2.8.2\n",
      "python-lsp-black              1.0.0\n",
      "python-lsp-jsonrpc            1.0.0\n",
      "python-lsp-server             1.2.4\n",
      "python-slugify                5.0.2\n",
      "python-snappy                 0.6.0\n",
      "pytz                          2022.7.1\n",
      "pyviz-comms                   2.0.2\n",
      "PyWavelets                    1.3.0\n",
      "pywin32                       302\n",
      "pywin32-ctypes                0.2.0\n",
      "pywinpty                      2.0.2\n",
      "PyYAML                        6.0\n",
      "pyzmq                         23.2.0\n",
      "QDarkStyle                    3.0.2\n",
      "qstylizer                     0.1.10\n",
      "QtAwesome                     1.0.3\n",
      "qtconsole                     5.3.2\n",
      "QtPy                          2.2.0\n",
      "queuelib                      1.5.0\n",
      "regex                         2022.7.9\n",
      "requests                      2.28.1\n",
      "requests-file                 1.5.1\n",
      "requests-oauthlib             1.3.1\n",
      "rope                          0.22.0\n",
      "rsa                           4.8\n",
      "Rtree                         0.9.7\n",
      "ruamel-yaml-conda             0.15.100\n",
      "s3transfer                    0.6.0\n",
      "schedule                      1.1.0\n",
      "scikit-image                  0.19.2\n",
      "scikit-learn                  1.0.2\n",
      "scikit-learn-intelex          2021.20221004.171935\n",
      "scipy                         1.9.3\n",
      "Scrapy                        2.6.2\n",
      "seaborn                       0.12.0\n",
      "Send2Trash                    1.8.0\n",
      "sentencepiece                 0.1.96\n",
      "service-identity              18.1.0\n",
      "setuptools                    65.5.0\n",
      "sip                           4.19.13\n",
      "six                           1.16.0\n",
      "smart-open                    5.2.1\n",
      "sniffio                       1.2.0\n",
      "snowballstemmer               2.2.0\n",
      "sortedcollections             2.1.0\n",
      "sortedcontainers              2.4.0\n",
      "soupsieve                     2.3.2.post1\n",
      "soynlp                        0.0.493\n",
      "Sphinx                        5.0.2\n",
      "sphinxcontrib-applehelp       1.0.2\n",
      "sphinxcontrib-devhelp         1.0.2\n",
      "sphinxcontrib-htmlhelp        2.0.0\n",
      "sphinxcontrib-jsmath          1.0.1\n",
      "sphinxcontrib-qthelp          1.0.3\n",
      "sphinxcontrib-serializinghtml 1.1.5\n",
      "spyder                        5.1.5\n",
      "spyder-kernels                2.1.3\n",
      "SQLAlchemy                    1.4.39\n",
      "stack-data                    0.2.0\n",
      "statsmodels                   0.13.2\n",
      "stopwords                     1.0.0\n",
      "sympy                         1.11.1\n",
      "tables                        3.6.1\n",
      "tabulate                      0.8.10\n",
      "TBB                           0.2\n",
      "tblib                         1.7.0\n",
      "tenacity                      8.0.1\n",
      "tensorboard                   2.8.0\n",
      "tensorboard-data-server       0.6.1\n",
      "tensorboard-plugin-wit        1.8.1\n",
      "tensorflow                    2.8.0\n",
      "tensorflow-io-gcs-filesystem  0.24.0\n",
      "termcolor                     1.1.0\n",
      "terminado                     0.13.1\n",
      "testpath                      0.6.0\n",
      "text-unidecode                1.3\n",
      "textdistance                  4.2.1\n",
      "tf-estimator-nightly          2.8.0.dev2021122109\n",
      "threadpoolctl                 2.2.0\n",
      "three-merge                   0.1.1\n",
      "tifffile                      2021.7.2\n",
      "tinycss                       0.4\n",
      "tldextract                    3.2.0\n",
      "toml                          0.10.2\n",
      "tomli                         2.0.1\n",
      "toolz                         0.12.0\n",
      "torch                         1.11.0\n",
      "tornado                       6.1\n",
      "tqdm                          4.64.1\n",
      "traitlets                     5.1.1\n",
      "Twisted                       22.2.0\n",
      "twisted-iocpsupport           1.0.2\n",
      "typing_extensions             4.3.0\n",
      "ujson                         5.4.0\n",
      "Unidecode                     1.2.0\n",
      "urllib3                       1.26.12\n",
      "w3lib                         1.21.0\n",
      "watchdog                      2.1.6\n",
      "wcwidth                       0.2.5\n",
      "webencodings                  0.5.1\n",
      "websocket-client              0.58.0\n",
      "Werkzeug                      2.0.3\n",
      "wheel                         0.37.1\n",
      "widgetsnbextension            3.5.2\n",
      "win-inet-pton                 1.1.0\n",
      "win-unicode-console           0.5\n",
      "wincertstore                  0.2\n",
      "wrapt                         1.12.1\n",
      "xarray                        0.20.1\n",
      "xlrd                          2.0.1\n",
      "XlsxWriter                    3.0.3\n",
      "xlwings                       0.27.15\n",
      "xmltodict                     0.12.0\n",
      "yapf                          0.31.0\n",
      "yfinance                      0.2.12\n",
      "zict                          2.1.0\n",
      "zipp                          3.8.0\n",
      "zope.interface                5.4.0\n"
     ]
    }
   ],
   "source": [
    "# !는 리눅스 터미널 명령어를 사용할떄 붙이는 기호이다\n",
    "!pip list"
   ]
  },
  {
   "cell_type": "code",
   "execution_count": 5,
   "id": "99e30359",
   "metadata": {},
   "outputs": [
    {
     "name": "stdout",
     "output_type": "stream",
     "text": [
      "3.5.3\n"
     ]
    }
   ],
   "source": [
    "# 다른 패키지들도 확인해보자\n",
    "import pandas as pd\n",
    "import matplotlib\n",
    "print(matplotlib.__version__)"
   ]
  },
  {
   "cell_type": "code",
   "execution_count": 6,
   "id": "cdadf3bb",
   "metadata": {},
   "outputs": [],
   "source": [
    "# 현재 설치된 패키지의 버전들을 requirements.txt로 저장\n",
    "!pip freeze > reauirements.txt"
   ]
  },
  {
   "cell_type": "code",
   "execution_count": null,
   "id": "d276c016",
   "metadata": {},
   "outputs": [],
   "source": [
    "# 모든 패키지 설치\n",
    "! pip install -r requirements.txt"
   ]
  },
  {
   "cell_type": "markdown",
   "id": "a6439417",
   "metadata": {},
   "source": [
    "## 2. ndarray 생성하기"
   ]
  },
  {
   "cell_type": "code",
   "execution_count": 8,
   "id": "e08e447b",
   "metadata": {},
   "outputs": [
    {
     "data": {
      "text/plain": [
       "array([1, 2, 3, 4])"
      ]
     },
     "execution_count": 8,
     "metadata": {},
     "output_type": "execute_result"
    }
   ],
   "source": [
    "arr = np.array([1, 2, 3, 4], dtype = int)\n",
    "arr"
   ]
  },
  {
   "cell_type": "code",
   "execution_count": 9,
   "id": "47853636",
   "metadata": {},
   "outputs": [
    {
     "data": {
      "text/plain": [
       "numpy.ndarray"
      ]
     },
     "execution_count": 9,
     "metadata": {},
     "output_type": "execute_result"
    }
   ],
   "source": [
    "type(arr)"
   ]
  },
  {
   "cell_type": "code",
   "execution_count": 10,
   "id": "a28361ba",
   "metadata": {},
   "outputs": [
    {
     "data": {
      "text/plain": [
       "numpy.ndarray"
      ]
     },
     "execution_count": 10,
     "metadata": {},
     "output_type": "execute_result"
    }
   ],
   "source": [
    "arr0 = np.array([1., 2., 3., 4.])\n",
    "type(arr0)"
   ]
  },
  {
   "cell_type": "code",
   "execution_count": 11,
   "id": "de234bcd",
   "metadata": {},
   "outputs": [
    {
     "data": {
      "text/plain": [
       "numpy.float64"
      ]
     },
     "execution_count": 11,
     "metadata": {},
     "output_type": "execute_result"
    }
   ],
   "source": [
    "type(arr0[0])"
   ]
  },
  {
   "cell_type": "markdown",
   "id": "fbe0af37",
   "metadata": {},
   "source": [
    "### 2-1. list로부터 생성하기"
   ]
  },
  {
   "cell_type": "code",
   "execution_count": 13,
   "id": "94d395b5",
   "metadata": {},
   "outputs": [],
   "source": [
    "mylist1 = [1, 2, 3, 4]\n",
    "mylist2 = [[1, 2, 3, 4],\n",
    "          [5, 6, 7, 8]]"
   ]
  },
  {
   "cell_type": "code",
   "execution_count": 15,
   "id": "86fd06f0",
   "metadata": {},
   "outputs": [],
   "source": [
    "arr1 = np.array(mylist1)"
   ]
  },
  {
   "cell_type": "code",
   "execution_count": 16,
   "id": "50860b83",
   "metadata": {},
   "outputs": [],
   "source": [
    "arr2 = np.array(mylist2)"
   ]
  },
  {
   "cell_type": "markdown",
   "id": "fa69e092",
   "metadata": {},
   "source": [
    "### 2-2. shape 확인하기"
   ]
  },
  {
   "cell_type": "code",
   "execution_count": 17,
   "id": "aa65c60c",
   "metadata": {},
   "outputs": [
    {
     "data": {
      "text/plain": [
       "(4,)"
      ]
     },
     "execution_count": 17,
     "metadata": {},
     "output_type": "execute_result"
    }
   ],
   "source": [
    "# 4행으로 만들어진 array\n",
    "arr1.shape"
   ]
  },
  {
   "cell_type": "code",
   "execution_count": 18,
   "id": "aee3bec6",
   "metadata": {},
   "outputs": [
    {
     "data": {
      "text/plain": [
       "(2, 4)"
      ]
     },
     "execution_count": 18,
     "metadata": {},
     "output_type": "execute_result"
    }
   ],
   "source": [
    "# 2행 4열로 만들어진 ndarray\n",
    "arr2.shape"
   ]
  },
  {
   "cell_type": "markdown",
   "id": "83323c03",
   "metadata": {},
   "source": [
    "## 3. array에서의 data타입"
   ]
  },
  {
   "cell_type": "markdown",
   "id": "ed90e107",
   "metadata": {},
   "source": [
    "array에서는 list와 다르게 1개의 단일 데이터 타입만 허용"
   ]
  },
  {
   "cell_type": "markdown",
   "id": "b9730a09",
   "metadata": {},
   "source": [
    "### 3-1. list에서의 data 타입"
   ]
  },
  {
   "cell_type": "code",
   "execution_count": 19,
   "id": "7947b699",
   "metadata": {},
   "outputs": [],
   "source": [
    "mylist = [1, 3.14, 'hello', '1234']"
   ]
  },
  {
   "cell_type": "code",
   "execution_count": 20,
   "id": "af8a61fc",
   "metadata": {},
   "outputs": [
    {
     "data": {
      "text/plain": [
       "list"
      ]
     },
     "execution_count": 20,
     "metadata": {},
     "output_type": "execute_result"
    }
   ],
   "source": [
    "type(mylist)"
   ]
  },
  {
   "cell_type": "code",
   "execution_count": 21,
   "id": "9ab7c128",
   "metadata": {},
   "outputs": [
    {
     "data": {
      "text/plain": [
       "[1, 3.14, 'hello', '1234']"
      ]
     },
     "execution_count": 21,
     "metadata": {},
     "output_type": "execute_result"
    }
   ],
   "source": [
    "mylist"
   ]
  },
  {
   "cell_type": "code",
   "execution_count": 22,
   "id": "2e31a7b4",
   "metadata": {},
   "outputs": [
    {
     "name": "stdout",
     "output_type": "stream",
     "text": [
      "<class 'int'>\n",
      "<class 'float'>\n",
      "<class 'str'>\n",
      "<class 'str'>\n"
     ]
    }
   ],
   "source": [
    "for mem in mylist:\n",
    "    print(type(mem))"
   ]
  },
  {
   "cell_type": "code",
   "execution_count": 23,
   "id": "2aefc14c",
   "metadata": {},
   "outputs": [
    {
     "data": {
      "text/plain": [
       "3.14"
      ]
     },
     "execution_count": 23,
     "metadata": {},
     "output_type": "execute_result"
    }
   ],
   "source": [
    "mylist[1]"
   ]
  },
  {
   "cell_type": "code",
   "execution_count": 24,
   "id": "bd025b5e",
   "metadata": {},
   "outputs": [
    {
     "data": {
      "text/plain": [
       "'1234'"
      ]
     },
     "execution_count": 24,
     "metadata": {},
     "output_type": "execute_result"
    }
   ],
   "source": [
    "mylist[3]"
   ]
  },
  {
   "cell_type": "markdown",
   "id": "86f4ce18",
   "metadata": {},
   "source": [
    "### 3-2. array에서의 data타입이 혼재된 경우"
   ]
  },
  {
   "cell_type": "markdown",
   "id": "53dbaaa7",
   "metadata": {},
   "source": [
    "#### int와 float타입이 섞인 경우"
   ]
  },
  {
   "cell_type": "code",
   "execution_count": 25,
   "id": "0d918b0d",
   "metadata": {},
   "outputs": [],
   "source": [
    "arr = np.array([1, 2, 3, 3.14])"
   ]
  },
  {
   "cell_type": "code",
   "execution_count": 26,
   "id": "01d8e4f7",
   "metadata": {},
   "outputs": [
    {
     "data": {
      "text/plain": [
       "array([1.  , 2.  , 3.  , 3.14])"
      ]
     },
     "execution_count": 26,
     "metadata": {},
     "output_type": "execute_result"
    }
   ],
   "source": [
    "arr"
   ]
  },
  {
   "cell_type": "markdown",
   "id": "140c92e0",
   "metadata": {},
   "source": [
    "np함수가 데이터의 손실을 최소화 시키기위해 타입을 실수형으로 알아서 단일화 시킨다."
   ]
  },
  {
   "cell_type": "markdown",
   "id": "b334bd90",
   "metadata": {},
   "source": [
    "#### 넘파이의 ndarray는 데이터타입을 하나로 통일한다."
   ]
  },
  {
   "cell_type": "code",
   "execution_count": 28,
   "id": "45daa321",
   "metadata": {},
   "outputs": [
    {
     "name": "stdout",
     "output_type": "stream",
     "text": [
      "<class 'str'>\n",
      "<class 'str'>\n",
      "<class 'str'>\n",
      "<class 'str'>\n"
     ]
    }
   ],
   "source": [
    "# ndarray의 데이터타입을 확인\n",
    "for men in arr:\n",
    "    print(type(mem))"
   ]
  },
  {
   "cell_type": "markdown",
   "id": "4880c0d5",
   "metadata": {},
   "source": [
    "#### int와 float 타입이 섞인 경우, dtype을 지정한 경우"
   ]
  },
  {
   "cell_type": "code",
   "execution_count": 29,
   "id": "d8331fc9",
   "metadata": {},
   "outputs": [
    {
     "data": {
      "text/plain": [
       "array([1, 2, 3, 3])"
      ]
     },
     "execution_count": 29,
     "metadata": {},
     "output_type": "execute_result"
    }
   ],
   "source": [
    "arr = np.array([1, 2, 3, 3.14], dtype = int)\n",
    "arr"
   ]
  },
  {
   "cell_type": "markdown",
   "id": "9c438fc5",
   "metadata": {},
   "source": [
    "#### int와 float, str 타입이 혼재된 경우"
   ]
  },
  {
   "cell_type": "code",
   "execution_count": 30,
   "id": "97271f28",
   "metadata": {},
   "outputs": [
    {
     "data": {
      "text/plain": [
       "array(['1', '3.14', 'abx', '1234'], dtype='<U32')"
      ]
     },
     "execution_count": 30,
     "metadata": {},
     "output_type": "execute_result"
    }
   ],
   "source": [
    "arr = np.array([1, 3.14, 'abx', '1234'])\n",
    "arr"
   ]
  },
  {
   "cell_type": "markdown",
   "id": "2cb4ff59",
   "metadata": {},
   "source": [
    "데이터 손실을 최소화 하기위해 타입이 문자열로 단일화 되었다."
   ]
  },
  {
   "cell_type": "markdown",
   "id": "b71118ce",
   "metadata": {},
   "source": [
    "#### int와 str타입이 혼재된 경우, int로 dtype을 지정한 경우"
   ]
  },
  {
   "cell_type": "code",
   "execution_count": 31,
   "id": "ffdbcbda",
   "metadata": {},
   "outputs": [
    {
     "data": {
      "text/plain": [
       "int"
      ]
     },
     "execution_count": 31,
     "metadata": {},
     "output_type": "execute_result"
    }
   ],
   "source": [
    "# 명시적 형변환\n",
    "temp = '1234'\n",
    "value = int(temp)\n",
    "type(value)"
   ]
  },
  {
   "cell_type": "code",
   "execution_count": 32,
   "id": "dbf3a999",
   "metadata": {},
   "outputs": [
    {
     "data": {
      "text/plain": [
       "array([   1,    3, 1234])"
      ]
     },
     "execution_count": 32,
     "metadata": {},
     "output_type": "execute_result"
    }
   ],
   "source": [
    "arr = np.array([1, 3.14, '1234'], dtype = int)\n",
    "arr"
   ]
  },
  {
   "cell_type": "markdown",
   "id": "2a6a1a44",
   "metadata": {},
   "source": [
    "## 4. 슬라이싱(Sling)"
   ]
  },
  {
   "cell_type": "markdown",
   "id": "40929a5f",
   "metadata": {},
   "source": [
    "#### 배열의 부분 선택(잘라내기)"
   ]
  },
  {
   "cell_type": "code",
   "execution_count": 33,
   "id": "3155b5d1",
   "metadata": {},
   "outputs": [
    {
     "data": {
      "text/plain": [
       "[0, 1, 2, 3, 4, 5, 6, 7, 8, 9]"
      ]
     },
     "execution_count": 33,
     "metadata": {},
     "output_type": "execute_result"
    }
   ],
   "source": [
    "# python에서 숫자의 범위 0 ~ 9(10미만)\n",
    "temp = range(10)\n",
    "temp\n",
    "# 리스트형채를 취해야 값이 출력된다\n",
    "list(range(10))"
   ]
  },
  {
   "cell_type": "code",
   "execution_count": 34,
   "id": "191066ce",
   "metadata": {},
   "outputs": [
    {
     "name": "stdout",
     "output_type": "stream",
     "text": [
      "0\n",
      "1\n",
      "2\n",
      "3\n",
      "4\n",
      "5\n",
      "6\n",
      "7\n",
      "8\n",
      "9\n"
     ]
    }
   ],
   "source": [
    "# range()함수는 혼자서 리스트를 생성하지 않는다\n",
    "for i in range(10):\n",
    "    print(i)"
   ]
  },
  {
   "cell_type": "code",
   "execution_count": 36,
   "id": "bcbd07f5",
   "metadata": {},
   "outputs": [
    {
     "data": {
      "text/plain": [
       "array([0, 1, 2, 3, 4, 5, 6, 7, 8, 9])"
      ]
     },
     "execution_count": 36,
     "metadata": {},
     "output_type": "execute_result"
    }
   ],
   "source": [
    "# python 에서 range함수를 사용하여 list를 생성 할 수 있다\n",
    "myList = list(range(10))\n",
    "arr0 = np.array(myList)\n",
    "arr0"
   ]
  },
  {
   "cell_type": "markdown",
   "id": "9008d72f",
   "metadata": {},
   "source": [
    "### 4-1. index를 지정하여 색인"
   ]
  },
  {
   "cell_type": "markdown",
   "id": "999774cb",
   "metadata": {},
   "source": [
    "#### 1차원 array"
   ]
  },
  {
   "cell_type": "code",
   "execution_count": 37,
   "id": "88f209ce",
   "metadata": {},
   "outputs": [],
   "source": [
    "arr = np.array([0, 1, 2, 3, 4, 5, 6, 7, 8, 9])"
   ]
  },
  {
   "cell_type": "code",
   "execution_count": 38,
   "id": "802d509b",
   "metadata": {},
   "outputs": [
    {
     "data": {
      "text/plain": [
       "0"
      ]
     },
     "execution_count": 38,
     "metadata": {},
     "output_type": "execute_result"
    }
   ],
   "source": [
    "arr[0]"
   ]
  },
  {
   "cell_type": "code",
   "execution_count": 39,
   "id": "926c8db6",
   "metadata": {},
   "outputs": [
    {
     "data": {
      "text/plain": [
       "5"
      ]
     },
     "execution_count": 39,
     "metadata": {},
     "output_type": "execute_result"
    }
   ],
   "source": [
    "arr[5]"
   ]
  },
  {
   "cell_type": "code",
   "execution_count": 40,
   "id": "edb5dfe6",
   "metadata": {},
   "outputs": [
    {
     "ename": "IndexError",
     "evalue": "index 10 is out of bounds for axis 0 with size 10",
     "output_type": "error",
     "traceback": [
      "\u001b[1;31m---------------------------------------------------------------------------\u001b[0m",
      "\u001b[1;31mIndexError\u001b[0m                                Traceback (most recent call last)",
      "Cell \u001b[1;32mIn [40], line 1\u001b[0m\n\u001b[1;32m----> 1\u001b[0m \u001b[43marr\u001b[49m\u001b[43m[\u001b[49m\u001b[38;5;241;43m10\u001b[39;49m\u001b[43m]\u001b[49m\n",
      "\u001b[1;31mIndexError\u001b[0m: index 10 is out of bounds for axis 0 with size 10"
     ]
    }
   ],
   "source": [
    "# 10번째 리스트는 없다. 따라서 out of bounds에러 발생\n",
    "arr[10]"
   ]
  },
  {
   "cell_type": "code",
   "execution_count": 41,
   "id": "32059e4b",
   "metadata": {},
   "outputs": [
    {
     "data": {
      "text/plain": [
       "9"
      ]
     },
     "execution_count": 41,
     "metadata": {},
     "output_type": "execute_result"
    }
   ],
   "source": [
    "# -1은 뒤에서부터 첫번째로 계산이 가능하다\n",
    "arr[-1]"
   ]
  },
  {
   "cell_type": "code",
   "execution_count": 42,
   "id": "006c34b9",
   "metadata": {},
   "outputs": [
    {
     "data": {
      "text/plain": [
       "0"
      ]
     },
     "execution_count": 42,
     "metadata": {},
     "output_type": "execute_result"
    }
   ],
   "source": [
    "arr[-10]"
   ]
  },
  {
   "cell_type": "code",
   "execution_count": 43,
   "id": "4f578f97",
   "metadata": {},
   "outputs": [
    {
     "ename": "IndexError",
     "evalue": "index -11 is out of bounds for axis 0 with size 10",
     "output_type": "error",
     "traceback": [
      "\u001b[1;31m---------------------------------------------------------------------------\u001b[0m",
      "\u001b[1;31mIndexError\u001b[0m                                Traceback (most recent call last)",
      "Cell \u001b[1;32mIn [43], line 1\u001b[0m\n\u001b[1;32m----> 1\u001b[0m \u001b[43marr\u001b[49m\u001b[43m[\u001b[49m\u001b[38;5;241;43m-\u001b[39;49m\u001b[38;5;241;43m11\u001b[39;49m\u001b[43m]\u001b[49m\n",
      "\u001b[1;31mIndexError\u001b[0m: index -11 is out of bounds for axis 0 with size 10"
     ]
    }
   ],
   "source": [
    "# 뒤에서 11번째도 존재하지 않아 오류가 발생\n",
    "arr[-11]"
   ]
  },
  {
   "cell_type": "markdown",
   "id": "f7fd2ed6",
   "metadata": {},
   "source": [
    "#### 2차원 array"
   ]
  },
  {
   "cell_type": "code",
   "execution_count": 49,
   "id": "a7854fa7",
   "metadata": {},
   "outputs": [],
   "source": [
    "arr2d = np.array([[1, 2, 3, 4],\n",
    "                  [5, 6, 7, 8],\n",
    "                  [9, 10, 11, 12]])"
   ]
  },
  {
   "cell_type": "code",
   "execution_count": 50,
   "id": "dfc86e2a",
   "metadata": {},
   "outputs": [
    {
     "data": {
      "text/plain": [
       "(3, 4)"
      ]
     },
     "execution_count": 50,
     "metadata": {},
     "output_type": "execute_result"
    }
   ],
   "source": [
    "arr2d.shape"
   ]
  },
  {
   "cell_type": "code",
   "execution_count": 51,
   "id": "25abaf36",
   "metadata": {},
   "outputs": [
    {
     "data": {
      "text/plain": [
       "3"
      ]
     },
     "execution_count": 51,
     "metadata": {},
     "output_type": "execute_result"
    }
   ],
   "source": [
    "# arr2d[행, 열]\n",
    "arr2d[0, 2]"
   ]
  },
  {
   "cell_type": "code",
   "execution_count": 52,
   "id": "e1ef2d93",
   "metadata": {},
   "outputs": [
    {
     "data": {
      "text/plain": [
       "10"
      ]
     },
     "execution_count": 52,
     "metadata": {},
     "output_type": "execute_result"
    }
   ],
   "source": [
    "arr2d[2, 1]"
   ]
  },
  {
   "cell_type": "markdown",
   "id": "b0133591",
   "metadata": {},
   "source": [
    "### 4-2. 범위 색인"
   ]
  },
  {
   "cell_type": "markdown",
   "id": "2195f2fd",
   "metadata": {},
   "source": [
    "#### 1차원"
   ]
  },
  {
   "cell_type": "code",
   "execution_count": 53,
   "id": "2494707d",
   "metadata": {},
   "outputs": [
    {
     "data": {
      "text/plain": [
       "array([0, 1, 2, 3, 4, 5, 6, 7, 8, 9])"
      ]
     },
     "execution_count": 53,
     "metadata": {},
     "output_type": "execute_result"
    }
   ],
   "source": [
    "arr"
   ]
  },
  {
   "cell_type": "code",
   "execution_count": 54,
   "id": "e6d138a4",
   "metadata": {},
   "outputs": [
    {
     "data": {
      "text/plain": [
       "array([1, 2, 3, 4, 5, 6, 7, 8, 9])"
      ]
     },
     "execution_count": 54,
     "metadata": {},
     "output_type": "execute_result"
    }
   ],
   "source": [
    "# index 1이상 끝까지\n",
    "arr[1:]"
   ]
  },
  {
   "cell_type": "code",
   "execution_count": 56,
   "id": "62daccce",
   "metadata": {},
   "outputs": [
    {
     "data": {
      "text/plain": [
       "array([0, 1, 2, 3, 4])"
      ]
     },
     "execution_count": 56,
     "metadata": {},
     "output_type": "execute_result"
    }
   ],
   "source": [
    "# index 5미만 까지\n",
    "arr[:5]"
   ]
  },
  {
   "cell_type": "code",
   "execution_count": 55,
   "id": "e4a5f307",
   "metadata": {},
   "outputs": [
    {
     "data": {
      "text/plain": [
       "array([1, 2, 3, 4])"
      ]
     },
     "execution_count": 55,
     "metadata": {},
     "output_type": "execute_result"
    }
   ],
   "source": [
    "# index1이상 5미만\n",
    "arr[1:5]"
   ]
  },
  {
   "cell_type": "markdown",
   "id": "21b3ded6",
   "metadata": {},
   "source": [
    "#### 2차원"
   ]
  },
  {
   "cell_type": "code",
   "execution_count": 57,
   "id": "7a10570a",
   "metadata": {},
   "outputs": [],
   "source": [
    "arr2d = np.array([[1, 2, 3, 4], \n",
    "                  [5, 6, 7, 8], \n",
    "                  [9, 10, 11, 12]])"
   ]
  },
  {
   "cell_type": "code",
   "execution_count": 59,
   "id": "db5dfe41",
   "metadata": {},
   "outputs": [
    {
     "data": {
      "text/plain": [
       "array([1, 2, 3, 4])"
      ]
     },
     "execution_count": 59,
     "metadata": {},
     "output_type": "execute_result"
    }
   ],
   "source": [
    "# row(행)을 모두 가져오라는 경우\n",
    "# 0행, 모든 열\n",
    "arr2d[0, :]"
   ]
  },
  {
   "cell_type": "code",
   "execution_count": 60,
   "id": "df467a1b",
   "metadata": {},
   "outputs": [
    {
     "data": {
      "text/plain": [
       "(4,)"
      ]
     },
     "execution_count": 60,
     "metadata": {},
     "output_type": "execute_result"
    }
   ],
   "source": [
    "arr2d[0, :].shape"
   ]
  },
  {
   "cell_type": "code",
   "execution_count": 61,
   "id": "ebe26d04",
   "metadata": {},
   "outputs": [
    {
     "data": {
      "text/plain": [
       "array([ 3,  7, 11])"
      ]
     },
     "execution_count": 61,
     "metadata": {},
     "output_type": "execute_result"
    }
   ],
   "source": [
    "# 모등 행의 2열을 가져오려는 경우\n",
    "arr2d[:,2]"
   ]
  },
  {
   "cell_type": "code",
   "execution_count": 62,
   "id": "eea5d74f",
   "metadata": {},
   "outputs": [
    {
     "data": {
      "text/plain": [
       "array([[1, 2, 3, 4],\n",
       "       [5, 6, 7, 8]])"
      ]
     },
     "execution_count": 62,
     "metadata": {},
     "output_type": "execute_result"
    }
   ],
   "source": [
    "# 부분적으로 가져오려는 경우\n",
    "# 0, 1행과 모든 열\n",
    "arr2d[:2, :]"
   ]
  },
  {
   "cell_type": "code",
   "execution_count": 63,
   "id": "fc52d6a5",
   "metadata": {},
   "outputs": [
    {
     "data": {
      "text/plain": [
       "array([[3, 4],\n",
       "       [7, 8]])"
      ]
     },
     "execution_count": 63,
     "metadata": {},
     "output_type": "execute_result"
    }
   ],
   "source": [
    "# 0, 1행과 2열부터 마지막열까지 \n",
    "arr2d[:2, 2:]"
   ]
  },
  {
   "cell_type": "markdown",
   "id": "86e14289",
   "metadata": {},
   "source": [
    "## 5. Fancy 인덱싱"
   ]
  },
  {
   "cell_type": "markdown",
   "id": "99d2cde7",
   "metadata": {},
   "source": [
    "fancy 인덱싱은 범위가 아닌 특정 index의 집합의 값을 선택하여 추출하고 싶을 때 활용한다."
   ]
  },
  {
   "cell_type": "code",
   "execution_count": 64,
   "id": "123737e0",
   "metadata": {},
   "outputs": [],
   "source": [
    "arr = np.array([10, 23, 2, 7, 90, 65, 32, 66, 70])"
   ]
  },
  {
   "cell_type": "code",
   "execution_count": 65,
   "id": "a6229546",
   "metadata": {},
   "outputs": [],
   "source": [
    "# 추출하고 싶은 인덱스를 리스트로 생성\n",
    "idx = [1, 3, 5]"
   ]
  },
  {
   "cell_type": "code",
   "execution_count": 66,
   "id": "04fe6431",
   "metadata": {},
   "outputs": [
    {
     "data": {
      "text/plain": [
       "array([23,  7, 65])"
      ]
     },
     "execution_count": 66,
     "metadata": {},
     "output_type": "execute_result"
    }
   ],
   "source": [
    "arr[idx]"
   ]
  },
  {
   "cell_type": "markdown",
   "id": "1bc44b8f",
   "metadata": {},
   "source": [
    "변수 지정 후 추출도 가능하다."
   ]
  },
  {
   "cell_type": "markdown",
   "id": "a190d6d0",
   "metadata": {},
   "source": [
    "### 5-1. 2차원 array"
   ]
  },
  {
   "cell_type": "code",
   "execution_count": 67,
   "id": "d41a71a1",
   "metadata": {},
   "outputs": [],
   "source": [
    "arr2d = np.array([[1, 2, 3, 4], \n",
    "                  [5, 6, 7, 8], \n",
    "                  [9, 10, 11, 12]])"
   ]
  },
  {
   "cell_type": "code",
   "execution_count": 68,
   "id": "e4c5d922",
   "metadata": {},
   "outputs": [
    {
     "data": {
      "text/plain": [
       "array([[1, 2, 3, 4],\n",
       "       [5, 6, 7, 8]])"
      ]
     },
     "execution_count": 68,
     "metadata": {},
     "output_type": "execute_result"
    }
   ],
   "source": [
    "arr2d[[0, 1], :]"
   ]
  },
  {
   "cell_type": "code",
   "execution_count": 69,
   "id": "1d9341ab",
   "metadata": {},
   "outputs": [
    {
     "data": {
      "text/plain": [
       "array([[ 2,  3,  4],\n",
       "       [ 6,  7,  8],\n",
       "       [10, 11, 12]])"
      ]
     },
     "execution_count": 69,
     "metadata": {},
     "output_type": "execute_result"
    }
   ],
   "source": [
    "arr2d[:, [1, 2, 3]]"
   ]
  },
  {
   "cell_type": "markdown",
   "id": "3f864117",
   "metadata": {},
   "source": [
    "## 6. Boolean 인덱싱"
   ]
  },
  {
   "cell_type": "markdown",
   "id": "68c4fb99",
   "metadata": {},
   "source": [
    "조건필터링을 통하여 Boolean값을 이용한 색인"
   ]
  },
  {
   "cell_type": "code",
   "execution_count": 70,
   "id": "278b575e",
   "metadata": {},
   "outputs": [],
   "source": [
    "arr = np.array([1, 2, 3, 4, 5, 6, 7])"
   ]
  },
  {
   "cell_type": "code",
   "execution_count": 71,
   "id": "df93ebb1",
   "metadata": {},
   "outputs": [],
   "source": [
    "arr2d = np.array([[1, 2, 3, 4], \n",
    "                  [5, 6, 7, 8], \n",
    "                  [9, 10, 11, 12]])"
   ]
  },
  {
   "cell_type": "markdown",
   "id": "53c18e54",
   "metadata": {},
   "source": [
    "### 6-1. True와 False 값으로 색인하기"
   ]
  },
  {
   "cell_type": "code",
   "execution_count": 72,
   "id": "f90a40c1",
   "metadata": {},
   "outputs": [],
   "source": [
    "myTrueFalse = [True, False, True]"
   ]
  },
  {
   "cell_type": "code",
   "execution_count": 73,
   "id": "efa2546e",
   "metadata": {},
   "outputs": [
    {
     "ename": "IndexError",
     "evalue": "boolean index did not match indexed array along dimension 0; dimension is 7 but corresponding boolean dimension is 3",
     "output_type": "error",
     "traceback": [
      "\u001b[1;31m---------------------------------------------------------------------------\u001b[0m",
      "\u001b[1;31mIndexError\u001b[0m                                Traceback (most recent call last)",
      "Cell \u001b[1;32mIn [73], line 2\u001b[0m\n\u001b[0;32m      1\u001b[0m \u001b[38;5;66;03m# arr의 갯수만큼 boolean index의 리스트를 생성해줘야 한다\u001b[39;00m\n\u001b[1;32m----> 2\u001b[0m \u001b[43marr\u001b[49m\u001b[43m[\u001b[49m\u001b[43mmyTrueFalse\u001b[49m\u001b[43m]\u001b[49m\n",
      "\u001b[1;31mIndexError\u001b[0m: boolean index did not match indexed array along dimension 0; dimension is 7 but corresponding boolean dimension is 3"
     ]
    }
   ],
   "source": [
    "# arr의 갯수만큼 boolean index의 리스트를 생성해줘야 한다\n",
    "arr[myTrueFalse]"
   ]
  },
  {
   "cell_type": "code",
   "execution_count": 74,
   "id": "6b9f12f3",
   "metadata": {},
   "outputs": [
    {
     "data": {
      "text/plain": [
       "array([False, False,  True,  True,  True,  True,  True])"
      ]
     },
     "execution_count": 74,
     "metadata": {},
     "output_type": "execute_result"
    }
   ],
   "source": [
    "arr > 2"
   ]
  },
  {
   "cell_type": "code",
   "execution_count": 75,
   "id": "4e449462",
   "metadata": {},
   "outputs": [
    {
     "data": {
      "text/plain": [
       "array([3, 4, 5, 6, 7])"
      ]
     },
     "execution_count": 75,
     "metadata": {},
     "output_type": "execute_result"
    }
   ],
   "source": [
    "arr[arr > 2]"
   ]
  },
  {
   "cell_type": "code",
   "execution_count": 76,
   "id": "90f59b7f",
   "metadata": {},
   "outputs": [],
   "source": [
    "myTrueFalse = [True, False, True, False, True, False, True]"
   ]
  },
  {
   "cell_type": "code",
   "execution_count": 77,
   "id": "af3f5f0a",
   "metadata": {},
   "outputs": [
    {
     "data": {
      "text/plain": [
       "array([1, 3, 5, 7])"
      ]
     },
     "execution_count": 77,
     "metadata": {},
     "output_type": "execute_result"
    }
   ],
   "source": [
    "arr[myTrueFalse]"
   ]
  },
  {
   "cell_type": "markdown",
   "id": "43afce49",
   "metadata": {},
   "source": [
    "### 6-2. 조건필터"
   ]
  },
  {
   "cell_type": "markdown",
   "id": "8bb2279d",
   "metadata": {},
   "source": [
    "조건 연산자를 활용하여 필터를 생성할 수 있다."
   ]
  },
  {
   "cell_type": "code",
   "execution_count": 78,
   "id": "4280a5cc",
   "metadata": {},
   "outputs": [
    {
     "data": {
      "text/plain": [
       "array([[False, False,  True,  True],\n",
       "       [ True,  True,  True,  True],\n",
       "       [ True,  True,  True,  True]])"
      ]
     },
     "execution_count": 78,
     "metadata": {},
     "output_type": "execute_result"
    }
   ],
   "source": [
    "# result에는 boolean index배열이 저장된다\n",
    "result = arr2d > 2\n",
    "result"
   ]
  },
  {
   "cell_type": "markdown",
   "id": "d257ff5f",
   "metadata": {},
   "source": [
    "필터를 활용하여 필터에 True 조건만 색인한다."
   ]
  },
  {
   "cell_type": "markdown",
   "id": "707010be",
   "metadata": {},
   "source": [
    "이럴 때 꺾쇠 괄호로 한 번 더 묶어만 주면 된다(꺾쇠 괄호 안에 조건문 삽입)"
   ]
  },
  {
   "cell_type": "code",
   "execution_count": 79,
   "id": "0a2f7028",
   "metadata": {},
   "outputs": [],
   "source": [
    "arr2d = np.array([[1, 2, 3, 4], \n",
    "                  [5, 6, 7, 8], \n",
    "                  [9, 10, 11, 12]])"
   ]
  },
  {
   "cell_type": "code",
   "execution_count": 80,
   "id": "4a90dbd2",
   "metadata": {},
   "outputs": [
    {
     "data": {
      "text/plain": [
       "array([ 3,  4,  5,  6,  7,  8,  9, 10, 11, 12])"
      ]
     },
     "execution_count": 80,
     "metadata": {},
     "output_type": "execute_result"
    }
   ],
   "source": [
    "arr2d[ arr2d > 2 ]"
   ]
  },
  {
   "cell_type": "code",
   "execution_count": 81,
   "id": "8bf17c6a",
   "metadata": {},
   "outputs": [
    {
     "data": {
      "text/plain": [
       "array([1, 2, 3, 4])"
      ]
     },
     "execution_count": 81,
     "metadata": {},
     "output_type": "execute_result"
    }
   ],
   "source": [
    "arr2d[ arr2d < 5 ]"
   ]
  },
  {
   "cell_type": "markdown",
   "id": "2ea23801",
   "metadata": {},
   "source": [
    "## 7. arange"
   ]
  },
  {
   "cell_type": "markdown",
   "id": "2599ba9f",
   "metadata": {},
   "source": [
    "* array + range = arange"
   ]
  },
  {
   "cell_type": "markdown",
   "id": "35a01c13",
   "metadata": {},
   "source": [
    "### 7-1. 순서대로 리스트에 값을 생성하려면"
   ]
  },
  {
   "cell_type": "code",
   "execution_count": 82,
   "id": "3e81d201",
   "metadata": {},
   "outputs": [
    {
     "data": {
      "text/plain": [
       "[1, 2, 3, 4, 5, 6, 7, 8, 9, 10]"
      ]
     },
     "execution_count": 82,
     "metadata": {},
     "output_type": "execute_result"
    }
   ],
   "source": [
    "# 1 ~ 10까지 값을 생성\n",
    "arr = [1, 2, 3, 4, 5, 6, 7, 8, 9, 10]\n",
    "arr"
   ]
  },
  {
   "cell_type": "markdown",
   "id": "8ee4550e",
   "metadata": {},
   "source": [
    "### 파이썬에서 함수의 인수 순서, 인수의 이름을 지정한다는 의미\""
   ]
  },
  {
   "cell_type": "code",
   "execution_count": 83,
   "id": "4908c550",
   "metadata": {},
   "outputs": [
    {
     "name": "stdout",
     "output_type": "stream",
     "text": [
      "5\n"
     ]
    }
   ],
   "source": [
    "def cal(op1, op2, op3):\n",
    "    return(op1 * op2 + op3)\n",
    "    # 위와같이 우선연산자가 포함된 경우 값의 순서에 따라 결과값이 달라질 것이다\n",
    "    # 그러므로 아래 함수에 인수순서를 별도로 지정해서 실행할 수 있다\n",
    "result = cal(op3 = 3, op2 = 2, op1 = 1)\n",
    "print(result)"
   ]
  },
  {
   "cell_type": "markdown",
   "id": "1123e3a4",
   "metadata": {},
   "source": [
    "### 7-2. arange를 사용해서 쉽게 생성하기"
   ]
  },
  {
   "cell_type": "markdown",
   "id": "61f85105",
   "metadata": {},
   "source": [
    "첫번째 인자에는 start이상, 두 번째 인자에는 stop의 미만이 들어간다."
   ]
  },
  {
   "cell_type": "code",
   "execution_count": 84,
   "id": "7fd0490b",
   "metadata": {},
   "outputs": [
    {
     "data": {
      "text/plain": [
       "array([11, 10,  9,  8,  7,  6,  5,  4,  3,  2])"
      ]
     },
     "execution_count": 84,
     "metadata": {},
     "output_type": "execute_result"
    }
   ],
   "source": [
    "arr = np.arange(start = 11, stop = 1, step = -1)\n",
    "arr"
   ]
  },
  {
   "cell_type": "markdown",
   "id": "8e28077d",
   "metadata": {},
   "source": [
    "### 7-3. keyword 인자 사용하기"
   ]
  },
  {
   "cell_type": "markdown",
   "id": "758d474b",
   "metadata": {},
   "source": [
    "keyword 인자는 파라미터(인자)의 keyword를 지정해줌으로써 순서 없이 지정해 줄 수 있다."
   ]
  },
  {
   "cell_type": "code",
   "execution_count": 85,
   "id": "66ec90c3",
   "metadata": {},
   "outputs": [
    {
     "data": {
      "text/plain": [
       "array([ 1,  2,  3,  4,  5,  6,  7,  8,  9, 10])"
      ]
     },
     "execution_count": 85,
     "metadata": {},
     "output_type": "execute_result"
    }
   ],
   "source": [
    "arr = np.arange(1, 11)\n",
    "arr"
   ]
  },
  {
   "cell_type": "code",
   "execution_count": 87,
   "id": "4491dfa9",
   "metadata": {},
   "outputs": [
    {
     "data": {
      "text/plain": [
       "array([ 1,  2,  3,  4,  5,  6,  7,  8,  9, 10])"
      ]
     },
     "execution_count": 87,
     "metadata": {},
     "output_type": "execute_result"
    }
   ],
   "source": [
    "arr = np.arange(stop = 11, start = 1)\n",
    "arr"
   ]
  },
  {
   "cell_type": "markdown",
   "id": "ec6c8a3d",
   "metadata": {},
   "source": [
    "### 7-4. 홀수의 값만 생성"
   ]
  },
  {
   "cell_type": "markdown",
   "id": "0dd5d843",
   "metadata": {},
   "source": [
    "step 키워드를 활용하여 홀수의 값만 생성해보자"
   ]
  },
  {
   "cell_type": "code",
   "execution_count": 88,
   "id": "b0f016e1",
   "metadata": {},
   "outputs": [
    {
     "data": {
      "text/plain": [
       "array([1, 3, 5, 7, 9])"
      ]
     },
     "execution_count": 88,
     "metadata": {},
     "output_type": "execute_result"
    }
   ],
   "source": [
    "# start,stop,step과 같은 이름을 적지 않을 경우는 반드시 순서를 지켜야 한다.\n",
    "# np.arange([start,] stop[, step,], dtype=None)\n",
    "arr = np.arange(1, 10, 2)\n",
    "arr"
   ]
  },
  {
   "cell_type": "code",
   "execution_count": 89,
   "id": "e9492d65",
   "metadata": {},
   "outputs": [
    {
     "data": {
      "text/plain": [
       "array([1, 3, 5, 7, 9])"
      ]
     },
     "execution_count": 89,
     "metadata": {},
     "output_type": "execute_result"
    }
   ],
   "source": [
    "# 다른방법\n",
    "arr = np.arange(start=1, stop=10, step=2)\n",
    "arr"
   ]
  },
  {
   "cell_type": "markdown",
   "id": "84831c1d",
   "metadata": {},
   "source": [
    "## 8. 1차원 정렬"
   ]
  },
  {
   "cell_type": "code",
   "execution_count": 90,
   "id": "e9f560b7",
   "metadata": {},
   "outputs": [
    {
     "data": {
      "text/plain": [
       "array([ 1, 10,  5,  8,  2,  4,  3,  6,  8,  7,  9])"
      ]
     },
     "execution_count": 90,
     "metadata": {},
     "output_type": "execute_result"
    }
   ],
   "source": [
    "arr = np.array([1, 10, 5, 8, 2, 4, 3, 6, 8, 7, 9])\n",
    "arr"
   ]
  },
  {
   "cell_type": "markdown",
   "id": "95e3dcf0",
   "metadata": {},
   "source": [
    "* np.sort()"
   ]
  },
  {
   "cell_type": "code",
   "execution_count": 91,
   "id": "a5f726d7",
   "metadata": {},
   "outputs": [
    {
     "data": {
      "text/plain": [
       "array([ 1,  2,  3,  4,  5,  6,  7,  8,  8,  9, 10])"
      ]
     },
     "execution_count": 91,
     "metadata": {},
     "output_type": "execute_result"
    }
   ],
   "source": [
    "# 오름차순 정렬\n",
    "np.sort(arr)"
   ]
  },
  {
   "cell_type": "markdown",
   "id": "9609103c",
   "metadata": {},
   "source": [
    "기본적으로 오름차순 정렬을 수행한다."
   ]
  },
  {
   "cell_type": "code",
   "execution_count": 92,
   "id": "63939f40",
   "metadata": {},
   "outputs": [
    {
     "data": {
      "text/plain": [
       "array([10,  9,  8,  8,  7,  6,  5,  4,  3,  2,  1])"
      ]
     },
     "execution_count": 92,
     "metadata": {},
     "output_type": "execute_result"
    }
   ],
   "source": [
    "# 내림차순 정렬\n",
    "np.sort(arr)[::-1]"
   ]
  },
  {
   "cell_type": "markdown",
   "id": "c2c4de07",
   "metadata": {},
   "source": [
    "내림차순 정렬은 옵션에 -1값을 주면된다. 하지만 이 값들은 유지가 되지 않으므로 배열자체에 sort를 수행한다."
   ]
  },
  {
   "cell_type": "code",
   "execution_count": 93,
   "id": "ca6d9ea6",
   "metadata": {},
   "outputs": [
    {
     "data": {
      "text/plain": [
       "array([ 1,  2,  3,  4,  5,  6,  7,  8,  8,  9, 10])"
      ]
     },
     "execution_count": 93,
     "metadata": {},
     "output_type": "execute_result"
    }
   ],
   "source": [
    "arr2 = np.sort(arr)\n",
    "arr2"
   ]
  },
  {
   "cell_type": "code",
   "execution_count": 95,
   "id": "858862fd",
   "metadata": {},
   "outputs": [
    {
     "data": {
      "text/plain": [
       "array([ 1,  2,  3,  4,  5,  6,  7,  8,  8,  9, 10])"
      ]
     },
     "execution_count": 95,
     "metadata": {},
     "output_type": "execute_result"
    }
   ],
   "source": [
    "arr.sort()\n",
    "arr"
   ]
  },
  {
   "cell_type": "markdown",
   "id": "4c53284a",
   "metadata": {},
   "source": [
    "## 9. N차원 정렬"
   ]
  },
  {
   "cell_type": "code",
   "execution_count": 96,
   "id": "ea6b7fa8",
   "metadata": {},
   "outputs": [],
   "source": [
    "arr2d = np.array([[5, 6, 7, 8], \n",
    "                  [4, 3, 2, 1],\n",
    "                  [10, 9, 12, 11]])"
   ]
  },
  {
   "cell_type": "code",
   "execution_count": 97,
   "id": "67147894",
   "metadata": {},
   "outputs": [
    {
     "data": {
      "text/plain": [
       "(3, 4)"
      ]
     },
     "execution_count": 97,
     "metadata": {},
     "output_type": "execute_result"
    }
   ],
   "source": [
    "arr2d.shape"
   ]
  },
  {
   "cell_type": "markdown",
   "id": "c275555c",
   "metadata": {},
   "source": [
    "### 9-1. 열 정렬(왼쪽에서 오른쪽으로)"
   ]
  },
  {
   "cell_type": "code",
   "execution_count": 98,
   "id": "00087965",
   "metadata": {},
   "outputs": [
    {
     "data": {
      "text/plain": [
       "array([[ 5,  6,  7,  8],\n",
       "       [ 4,  3,  2,  1],\n",
       "       [10,  9, 12, 11]])"
      ]
     },
     "execution_count": 98,
     "metadata": {},
     "output_type": "execute_result"
    }
   ],
   "source": [
    "arr2d"
   ]
  },
  {
   "cell_type": "code",
   "execution_count": 99,
   "id": "ff3f18bc",
   "metadata": {},
   "outputs": [
    {
     "data": {
      "text/plain": [
       "array([[ 5,  6,  7,  8],\n",
       "       [ 1,  2,  3,  4],\n",
       "       [ 9, 10, 11, 12]])"
      ]
     },
     "execution_count": 99,
     "metadata": {},
     "output_type": "execute_result"
    }
   ],
   "source": [
    "# 가로방향 같은 행 데이터 안에서 정렬\n",
    "np.sort(arr2d, axis = 1)"
   ]
  },
  {
   "cell_type": "markdown",
   "id": "3477468b",
   "metadata": {},
   "source": [
    "### 9-2. 행 정렬(위에서 아래로)"
   ]
  },
  {
   "cell_type": "code",
   "execution_count": 100,
   "id": "ac7bac2c",
   "metadata": {},
   "outputs": [
    {
     "data": {
      "text/plain": [
       "array([[ 5,  6,  7,  8],\n",
       "       [ 4,  3,  2,  1],\n",
       "       [10,  9, 12, 11]])"
      ]
     },
     "execution_count": 100,
     "metadata": {},
     "output_type": "execute_result"
    }
   ],
   "source": [
    "arr2d"
   ]
  },
  {
   "cell_type": "code",
   "execution_count": 101,
   "id": "0a6f0fd5",
   "metadata": {},
   "outputs": [
    {
     "data": {
      "text/plain": [
       "array([[ 4,  3,  2,  1],\n",
       "       [ 5,  6,  7,  8],\n",
       "       [10,  9, 12, 11]])"
      ]
     },
     "execution_count": 101,
     "metadata": {},
     "output_type": "execute_result"
    }
   ],
   "source": [
    "# 세로방향 열 데이터간의 정렬\n",
    "np.sort(arr2d, axis = 0)"
   ]
  },
  {
   "cell_type": "markdown",
   "id": "f43843ba",
   "metadata": {},
   "source": [
    "## 10. index를 반환하는 argsort"
   ]
  },
  {
   "cell_type": "markdown",
   "id": "d2060b73",
   "metadata": {},
   "source": [
    "정렬된 값을 반환하는 것이 아닌 index를 반환한다."
   ]
  },
  {
   "cell_type": "code",
   "execution_count": 102,
   "id": "7969f206",
   "metadata": {},
   "outputs": [],
   "source": [
    "arr2d = np.array([[5, 6, 7, 8], \n",
    "                  [4, 3, 2, 1],\n",
    "                  [10, 9, 12, 11]])"
   ]
  },
  {
   "cell_type": "markdown",
   "id": "3b0f3a3a",
   "metadata": {},
   "source": [
    "### 10-1. 열 정렬(왼쪽에서 오른쪽으로)"
   ]
  },
  {
   "cell_type": "code",
   "execution_count": 103,
   "id": "0b11ff77",
   "metadata": {},
   "outputs": [
    {
     "data": {
      "text/plain": [
       "array([[0, 1, 2, 3],\n",
       "       [3, 2, 1, 0],\n",
       "       [1, 0, 3, 2]], dtype=int64)"
      ]
     },
     "execution_count": 103,
     "metadata": {},
     "output_type": "execute_result"
    }
   ],
   "source": [
    "# sort해야항 index의 순서를 리턴한다.\n",
    "np.argsort(arr2d, axis = 1)"
   ]
  },
  {
   "cell_type": "markdown",
   "id": "bc4e1c62",
   "metadata": {},
   "source": [
    "### 10-2. 행 정렬(위에서 아래로)"
   ]
  },
  {
   "cell_type": "code",
   "execution_count": 104,
   "id": "dc9ef1b9",
   "metadata": {},
   "outputs": [
    {
     "data": {
      "text/plain": [
       "array([[ 5,  6,  7,  8],\n",
       "       [ 4,  3,  2,  1],\n",
       "       [10,  9, 12, 11]])"
      ]
     },
     "execution_count": 104,
     "metadata": {},
     "output_type": "execute_result"
    }
   ],
   "source": [
    "arr2d"
   ]
  },
  {
   "cell_type": "code",
   "execution_count": 105,
   "id": "b2d890c8",
   "metadata": {},
   "outputs": [
    {
     "data": {
      "text/plain": [
       "array([[1, 1, 1, 1],\n",
       "       [0, 0, 0, 0],\n",
       "       [2, 2, 2, 2]], dtype=int64)"
      ]
     },
     "execution_count": 105,
     "metadata": {},
     "output_type": "execute_result"
    }
   ],
   "source": [
    "np.argsort(arr2d, axis = 0)"
   ]
  },
  {
   "cell_type": "markdown",
   "id": "eccd499f",
   "metadata": {},
   "source": [
    "## 11. 행렬 - 덧셈"
   ]
  },
  {
   "cell_type": "markdown",
   "id": "a36dbdc4",
   "metadata": {},
   "source": [
    "### 11-1. 덧셈"
   ]
  },
  {
   "cell_type": "code",
   "execution_count": 106,
   "id": "3db71485",
   "metadata": {},
   "outputs": [],
   "source": [
    "a = np.array([[1, 2, 3], \n",
    "              [2, 3, 4]])"
   ]
  },
  {
   "cell_type": "code",
   "execution_count": 107,
   "id": "5b6371af",
   "metadata": {},
   "outputs": [],
   "source": [
    "b = np.array([[3, 4, 5], \n",
    "              [1, 2, 3]])"
   ]
  },
  {
   "cell_type": "code",
   "execution_count": 108,
   "id": "6e234966",
   "metadata": {},
   "outputs": [
    {
     "data": {
      "text/plain": [
       "array([[4, 6, 8],\n",
       "       [3, 5, 7]])"
      ]
     },
     "execution_count": 108,
     "metadata": {},
     "output_type": "execute_result"
    }
   ],
   "source": [
    "a + b"
   ]
  },
  {
   "cell_type": "code",
   "execution_count": 109,
   "id": "16bf3b4c",
   "metadata": {},
   "outputs": [],
   "source": [
    "a = np.array([[1, 2, 3], \n",
    "              [2, 3, 4]])"
   ]
  },
  {
   "cell_type": "code",
   "execution_count": 110,
   "id": "9863232b",
   "metadata": {},
   "outputs": [],
   "source": [
    "b = np.array([[1, 2],\n",
    "              [3, 4],  \n",
    "              [5, 6]])"
   ]
  },
  {
   "cell_type": "code",
   "execution_count": 111,
   "id": "0e4bc15d",
   "metadata": {},
   "outputs": [
    {
     "ename": "ValueError",
     "evalue": "operands could not be broadcast together with shapes (2,3) (3,2) ",
     "output_type": "error",
     "traceback": [
      "\u001b[1;31m---------------------------------------------------------------------------\u001b[0m",
      "\u001b[1;31mValueError\u001b[0m                                Traceback (most recent call last)",
      "Cell \u001b[1;32mIn [111], line 1\u001b[0m\n\u001b[1;32m----> 1\u001b[0m \u001b[43ma\u001b[49m\u001b[43m \u001b[49m\u001b[38;5;241;43m+\u001b[39;49m\u001b[43m \u001b[49m\u001b[43mb\u001b[49m\n",
      "\u001b[1;31mValueError\u001b[0m: operands could not be broadcast together with shapes (2,3) (3,2) "
     ]
    }
   ],
   "source": [
    "a + b"
   ]
  },
  {
   "cell_type": "markdown",
   "id": "0d77fbb8",
   "metadata": {},
   "source": [
    "행과 열의 개수가 다르므로 덧셈계산이 불가능하다."
   ]
  },
  {
   "cell_type": "markdown",
   "id": "f85bc96f",
   "metadata": {},
   "source": [
    "### 11-2. Sum"
   ]
  },
  {
   "cell_type": "code",
   "execution_count": 112,
   "id": "ca05f77a",
   "metadata": {},
   "outputs": [],
   "source": [
    "a = np.array([[1, 2, 3], \n",
    "              [2, 3, 4]])"
   ]
  },
  {
   "cell_type": "code",
   "execution_count": 113,
   "id": "ab67ed1e",
   "metadata": {},
   "outputs": [
    {
     "data": {
      "text/plain": [
       "array([3, 5, 7])"
      ]
     },
     "execution_count": 113,
     "metadata": {},
     "output_type": "execute_result"
    }
   ],
   "source": [
    "# 세로로 더해준다\n",
    "np.sum(a, axis = 0)"
   ]
  },
  {
   "cell_type": "code",
   "execution_count": 114,
   "id": "be9cca2c",
   "metadata": {},
   "outputs": [
    {
     "data": {
      "text/plain": [
       "array([6, 9])"
      ]
     },
     "execution_count": 114,
     "metadata": {},
     "output_type": "execute_result"
    }
   ],
   "source": [
    "# 가로로 더해준다\n",
    "np.sum(a, axis = 1)"
   ]
  },
  {
   "cell_type": "markdown",
   "id": "82d8c6d4",
   "metadata": {},
   "source": [
    "## 12. 행렬 - 뺄셈"
   ]
  },
  {
   "cell_type": "code",
   "execution_count": 115,
   "id": "734ed6b0",
   "metadata": {},
   "outputs": [],
   "source": [
    "a = np.array([[1, 2, 3], \n",
    "              [2, 3, 4]])"
   ]
  },
  {
   "cell_type": "code",
   "execution_count": 116,
   "id": "bbc2b7ad",
   "metadata": {},
   "outputs": [],
   "source": [
    "b = np.array([[3, 4, 5], \n",
    "              [1, 2, 3]])"
   ]
  },
  {
   "cell_type": "code",
   "execution_count": 117,
   "id": "454f227f",
   "metadata": {},
   "outputs": [
    {
     "data": {
      "text/plain": [
       "array([[-2, -2, -2],\n",
       "       [ 1,  1,  1]])"
      ]
     },
     "execution_count": 117,
     "metadata": {},
     "output_type": "execute_result"
    }
   ],
   "source": [
    "a - b"
   ]
  },
  {
   "cell_type": "code",
   "execution_count": 118,
   "id": "69da931f",
   "metadata": {},
   "outputs": [],
   "source": [
    "a = np.array([[1, 2, 3], \n",
    "              [2, 3, 4]])"
   ]
  },
  {
   "cell_type": "code",
   "execution_count": 119,
   "id": "dee6bdfa",
   "metadata": {},
   "outputs": [],
   "source": [
    "b = np.array([[1, 2],\n",
    "              [3, 4],  \n",
    "              [5, 6]])"
   ]
  },
  {
   "cell_type": "code",
   "execution_count": 120,
   "id": "02cfc826",
   "metadata": {},
   "outputs": [
    {
     "ename": "ValueError",
     "evalue": "operands could not be broadcast together with shapes (2,3) (3,2) ",
     "output_type": "error",
     "traceback": [
      "\u001b[1;31m---------------------------------------------------------------------------\u001b[0m",
      "\u001b[1;31mValueError\u001b[0m                                Traceback (most recent call last)",
      "Cell \u001b[1;32mIn [120], line 1\u001b[0m\n\u001b[1;32m----> 1\u001b[0m \u001b[43ma\u001b[49m\u001b[43m \u001b[49m\u001b[38;5;241;43m-\u001b[39;49m\u001b[43m \u001b[49m\u001b[43mb\u001b[49m\n",
      "\u001b[1;31mValueError\u001b[0m: operands could not be broadcast together with shapes (2,3) (3,2) "
     ]
    }
   ],
   "source": [
    "a - b"
   ]
  },
  {
   "cell_type": "markdown",
   "id": "62c62439",
   "metadata": {},
   "source": [
    "덧셈과 마찬가지로 행과 열이 다르므로 계산이 불가능하다."
   ]
  },
  {
   "cell_type": "markdown",
   "id": "2a0a1521",
   "metadata": {},
   "source": [
    "## 13. 곱셈"
   ]
  },
  {
   "cell_type": "markdown",
   "id": "e2c2934d",
   "metadata": {},
   "source": [
    "### 일반 곱셈"
   ]
  },
  {
   "cell_type": "code",
   "execution_count": 121,
   "id": "ad545ca4",
   "metadata": {},
   "outputs": [],
   "source": [
    "a = np.array([[1, 2, 3], \n",
    "              [2, 3, 4]])"
   ]
  },
  {
   "cell_type": "code",
   "execution_count": 122,
   "id": "5497d286",
   "metadata": {},
   "outputs": [],
   "source": [
    "b = np.array([[3, 4, 5], \n",
    "              [1, 2, 3]])"
   ]
  },
  {
   "cell_type": "code",
   "execution_count": 123,
   "id": "e510894a",
   "metadata": {},
   "outputs": [
    {
     "data": {
      "text/plain": [
       "((2, 3), (2, 3))"
      ]
     },
     "execution_count": 123,
     "metadata": {},
     "output_type": "execute_result"
    }
   ],
   "source": [
    "a.shape, b.shape"
   ]
  },
  {
   "cell_type": "code",
   "execution_count": 124,
   "id": "30bb487f",
   "metadata": {},
   "outputs": [
    {
     "data": {
      "text/plain": [
       "array([[ 3,  8, 15],\n",
       "       [ 2,  6, 12]])"
      ]
     },
     "execution_count": 124,
     "metadata": {},
     "output_type": "execute_result"
    }
   ],
   "source": [
    "a * b"
   ]
  },
  {
   "cell_type": "markdown",
   "id": "c53cc5ed",
   "metadata": {},
   "source": [
    "단순곱셈과 dot product는 다른 메커니즘이므로 유의해서 사용한다."
   ]
  },
  {
   "cell_type": "code",
   "execution_count": 125,
   "id": "d6e617ce",
   "metadata": {},
   "outputs": [],
   "source": [
    "a = np.array([[1, 2, 3], \n",
    "              [2, 3, 4]])"
   ]
  },
  {
   "cell_type": "code",
   "execution_count": 126,
   "id": "de01bdda",
   "metadata": {},
   "outputs": [],
   "source": [
    "b = np.array([[3, 4, 5], \n",
    "              [1, 2, 3]])"
   ]
  },
  {
   "cell_type": "code",
   "execution_count": 127,
   "id": "5c1b40d2",
   "metadata": {},
   "outputs": [],
   "source": [
    "b = np.array([[1, 2],\n",
    "              [3, 4],  \n",
    "              [5, 6]])"
   ]
  },
  {
   "cell_type": "code",
   "execution_count": 128,
   "id": "31b3e542",
   "metadata": {},
   "outputs": [
    {
     "ename": "ValueError",
     "evalue": "operands could not be broadcast together with shapes (2,3) (3,2) ",
     "output_type": "error",
     "traceback": [
      "\u001b[1;31m---------------------------------------------------------------------------\u001b[0m",
      "\u001b[1;31mValueError\u001b[0m                                Traceback (most recent call last)",
      "Cell \u001b[1;32mIn [128], line 1\u001b[0m\n\u001b[1;32m----> 1\u001b[0m \u001b[43ma\u001b[49m\u001b[43m \u001b[49m\u001b[38;5;241;43m*\u001b[39;49m\u001b[43m \u001b[49m\u001b[43mb\u001b[49m\n",
      "\u001b[1;31mValueError\u001b[0m: operands could not be broadcast together with shapes (2,3) (3,2) "
     ]
    }
   ],
   "source": [
    "a * b"
   ]
  },
  {
   "cell_type": "code",
   "execution_count": 129,
   "id": "2f51a3f8",
   "metadata": {},
   "outputs": [],
   "source": [
    "a = np.array([[1, 2, 3],\n",
    "              [1, 2, 3], \n",
    "              [2, 3, 4]])"
   ]
  },
  {
   "cell_type": "code",
   "execution_count": 130,
   "id": "bf82a14f",
   "metadata": {},
   "outputs": [],
   "source": [
    "b = np.array([[1, 2],\n",
    "              [3, 4],  \n",
    "              [5, 6]])"
   ]
  },
  {
   "cell_type": "code",
   "execution_count": 131,
   "id": "4144263d",
   "metadata": {},
   "outputs": [
    {
     "data": {
      "text/plain": [
       "array([[22, 28],\n",
       "       [22, 28],\n",
       "       [31, 40]])"
      ]
     },
     "execution_count": 131,
     "metadata": {},
     "output_type": "execute_result"
    }
   ],
   "source": [
    "# 행렬 곱 = np.dot()\n",
    "np.dot(a, b)"
   ]
  },
  {
   "cell_type": "code",
   "execution_count": 132,
   "id": "a6f1a43b",
   "metadata": {},
   "outputs": [
    {
     "data": {
      "text/plain": [
       "array([[22, 28],\n",
       "       [22, 28],\n",
       "       [31, 40]])"
      ]
     },
     "execution_count": 132,
     "metadata": {},
     "output_type": "execute_result"
    }
   ],
   "source": [
    "a.dot(b)"
   ]
  },
  {
   "cell_type": "markdown",
   "id": "880aeaf3",
   "metadata": {},
   "source": [
    "## 14. Broadcasting"
   ]
  },
  {
   "cell_type": "markdown",
   "id": "2e8c8236",
   "metadata": {},
   "source": [
    "### 14-1. 숫자의 연산(단일)"
   ]
  },
  {
   "cell_type": "code",
   "execution_count": 133,
   "id": "3da24072",
   "metadata": {},
   "outputs": [],
   "source": [
    "a = np.array([[1, 2, 3], \n",
    "              [2, 3, 4]])"
   ]
  },
  {
   "cell_type": "code",
   "execution_count": 134,
   "id": "5227e416",
   "metadata": {},
   "outputs": [],
   "source": [
    "b = np.array([[3, 3, 3], \n",
    "              [3, 3, 3]])"
   ]
  },
  {
   "cell_type": "code",
   "execution_count": 135,
   "id": "470b438d",
   "metadata": {},
   "outputs": [
    {
     "data": {
      "text/plain": [
       "array([[4, 5, 6],\n",
       "       [5, 6, 7]])"
      ]
     },
     "execution_count": 135,
     "metadata": {},
     "output_type": "execute_result"
    }
   ],
   "source": [
    "# broadcast의 +연산은 행렬의 모든 요소에 동일한 값을 더한다.\n",
    "a + 3"
   ]
  },
  {
   "cell_type": "code",
   "execution_count": 136,
   "id": "746348b7",
   "metadata": {},
   "outputs": [
    {
     "data": {
      "text/plain": [
       "array([[-2, -1,  0],\n",
       "       [-1,  0,  1]])"
      ]
     },
     "execution_count": 136,
     "metadata": {},
     "output_type": "execute_result"
    }
   ],
   "source": [
    "a - 3"
   ]
  },
  {
   "cell_type": "code",
   "execution_count": 137,
   "id": "1ac957b8",
   "metadata": {},
   "outputs": [
    {
     "data": {
      "text/plain": [
       "array([[ 3,  6,  9],\n",
       "       [ 6,  9, 12]])"
      ]
     },
     "execution_count": 137,
     "metadata": {},
     "output_type": "execute_result"
    }
   ],
   "source": [
    "a * 3"
   ]
  },
  {
   "cell_type": "code",
   "execution_count": 138,
   "id": "d16ff33e",
   "metadata": {},
   "outputs": [
    {
     "data": {
      "text/plain": [
       "array([[0.33333333, 0.66666667, 1.        ],\n",
       "       [0.66666667, 1.        , 1.33333333]])"
      ]
     },
     "execution_count": 138,
     "metadata": {},
     "output_type": "execute_result"
    }
   ],
   "source": [
    "a / 3"
   ]
  },
  {
   "cell_type": "markdown",
   "id": "0628ace0",
   "metadata": {},
   "source": [
    "### 14-2. array(배열)의 브로드캐스팅"
   ]
  },
  {
   "cell_type": "markdown",
   "id": "735ec110",
   "metadata": {},
   "source": [
    "오리지널 array의 shape가 유지됨을 잘 확인해야 한다."
   ]
  },
  {
   "cell_type": "code",
   "execution_count": 139,
   "id": "cf98da3e",
   "metadata": {},
   "outputs": [],
   "source": [
    "a = np.array([[1, 2, 3], \n",
    "              [2, 3, 4]])"
   ]
  },
  {
   "cell_type": "code",
   "execution_count": 140,
   "id": "e717523f",
   "metadata": {},
   "outputs": [],
   "source": [
    "b = np.array([[1], \n",
    "              [2]])"
   ]
  },
  {
   "cell_type": "code",
   "execution_count": 141,
   "id": "e707fdda",
   "metadata": {},
   "outputs": [
    {
     "data": {
      "text/plain": [
       "((2, 3), (2, 1))"
      ]
     },
     "execution_count": 141,
     "metadata": {},
     "output_type": "execute_result"
    }
   ],
   "source": [
    "a.shape, b.shape"
   ]
  },
  {
   "cell_type": "code",
   "execution_count": 142,
   "id": "39e11752",
   "metadata": {},
   "outputs": [
    {
     "data": {
      "text/plain": [
       "array([[1, 2, 3],\n",
       "       [4, 6, 8]])"
      ]
     },
     "execution_count": 142,
     "metadata": {},
     "output_type": "execute_result"
    }
   ],
   "source": [
    "b * a"
   ]
  },
  {
   "cell_type": "markdown",
   "id": "25f6118c",
   "metadata": {},
   "source": [
    "a의 [1, 2, 3]에 1이 각각 곱해지고, a의 [2, 3, 4]에 2가 각각 곱해진다."
   ]
  },
  {
   "cell_type": "code",
   "execution_count": 143,
   "id": "1247a4ac",
   "metadata": {},
   "outputs": [],
   "source": [
    "a = np.array([[1, 2, 3], \n",
    "              [2, 3, 4]])"
   ]
  },
  {
   "cell_type": "code",
   "execution_count": 144,
   "id": "e7e90e0c",
   "metadata": {},
   "outputs": [],
   "source": [
    "b = np.array([1, 2, 3])"
   ]
  },
  {
   "cell_type": "code",
   "execution_count": 145,
   "id": "ff7c439e",
   "metadata": {},
   "outputs": [
    {
     "data": {
      "text/plain": [
       "array([[ 1,  4,  9],\n",
       "       [ 2,  6, 12]])"
      ]
     },
     "execution_count": 145,
     "metadata": {},
     "output_type": "execute_result"
    }
   ],
   "source": [
    "a * b"
   ]
  },
  {
   "cell_type": "markdown",
   "id": "6095b798",
   "metadata": {},
   "source": [
    "### Dict타입을 for문을 사용하여 연습"
   ]
  },
  {
   "cell_type": "code",
   "execution_count": 1,
   "id": "5fae89aa",
   "metadata": {},
   "outputs": [],
   "source": [
    "# 제품명: 가격, 재고\n",
    "myDict = {'메로나':[300,20],\n",
    "          '비비빅':[400,3],\n",
    "          '죠스바':[250, 100]}"
   ]
  },
  {
   "cell_type": "code",
   "execution_count": 2,
   "id": "01c00133",
   "metadata": {},
   "outputs": [
    {
     "name": "stdout",
     "output_type": "stream",
     "text": [
      "메로나\n",
      "비비빅\n",
      "죠스바\n"
     ]
    }
   ],
   "source": [
    "# key값만 출력하고 싶을때\n",
    "for name in myDict.keys():\n",
    "    print(name)"
   ]
  },
  {
   "cell_type": "code",
   "execution_count": 3,
   "id": "006d5f89",
   "metadata": {},
   "outputs": [
    {
     "name": "stdout",
     "output_type": "stream",
     "text": [
      "[300, 20]\n",
      "[400, 3]\n",
      "[250, 100]\n"
     ]
    }
   ],
   "source": [
    "# value값만 출력하고 싶을때\n",
    "for name in myDict.values():\n",
    "    print(name)"
   ]
  },
  {
   "cell_type": "code",
   "execution_count": 4,
   "id": "4e1ae86b",
   "metadata": {},
   "outputs": [
    {
     "name": "stdout",
     "output_type": "stream",
     "text": [
      "메로나 [300, 20]\n",
      "비비빅 [400, 3]\n",
      "죠스바 [250, 100]\n"
     ]
    }
   ],
   "source": [
    "# key, value값의 요소를 모두 출력하고 싶을때\n",
    "for key, value in myDict.items():\n",
    "    print(key, value)"
   ]
  },
  {
   "cell_type": "code",
   "execution_count": 5,
   "id": "9e6ba0c0",
   "metadata": {},
   "outputs": [
    {
     "name": "stdout",
     "output_type": "stream",
     "text": [
      "메로나 20\n",
      "비비빅 3\n",
      "죠스바 100\n"
     ]
    }
   ],
   "source": [
    "# value값의 인덱싱을 하여 출력\n",
    "for key, value in myDict.items():\n",
    "    print(key, value[1])"
   ]
  },
  {
   "cell_type": "markdown",
   "id": "f8ff28b9",
   "metadata": {},
   "source": [
    "## 선형함수 증명하는 함수"
   ]
  },
  {
   "cell_type": "markdown",
   "id": "2f88eafe",
   "metadata": {},
   "source": [
    "### 1. f(x1 + x2) = f(x1) + f(x2)\n",
    "### 2. f(kx) = kf(x)"
   ]
  },
  {
   "cell_type": "markdown",
   "id": "fc0df448",
   "metadata": {},
   "source": [
    "#### 선형함수의 여부를 확인할 때 bias항을 빼고 확인하자. bias항을 추가할 경우 함수의 값이 다르게 나타난다."
   ]
  },
  {
   "cell_type": "code",
   "execution_count": 4,
   "id": "7834d5b6",
   "metadata": {},
   "outputs": [],
   "source": [
    "# y = 2x가 선형함수인지 확인\n",
    "# f(x)를 구하는 함수\n",
    "\n",
    "def myFunc(x):\n",
    "    y = 2*x\n",
    "    return y"
   ]
  },
  {
   "cell_type": "code",
   "execution_count": 7,
   "id": "d1e813b3",
   "metadata": {},
   "outputs": [
    {
     "name": "stdout",
     "output_type": "stream",
     "text": [
      "함수는 선형함수 입니다.\n"
     ]
    }
   ],
   "source": [
    "# 선형함수인지 확인하는 함수\n",
    "def isLinear(x1, x2, k):\n",
    "    \n",
    "    cond1 = False\n",
    "    cond2 = False\n",
    "    \n",
    "    result1 = myFunc(x1 + x2)\n",
    "    result2 = myFunc(x1) + myFunc(x2)\n",
    "    result3 = myFunc(k*x1)\n",
    "    result4 = k * myFunc(x1)\n",
    "    \n",
    "    if result1 == result2:\n",
    "        cond1 = True\n",
    "    \n",
    "    if result3 == result4:\n",
    "        cond2 = True\n",
    "        \n",
    "    if cond1 and cond2:\n",
    "        return True\n",
    "    else:\n",
    "        return False\n",
    "    \n",
    "    \n",
    "    # 난수를 사용하여 증명한다\n",
    "import random\n",
    "counter = 0\n",
    "for i in range(100):\n",
    "    x1 = random.randrange(1, 200)\n",
    "    x2 = random.randrange(10, 300)\n",
    "    k = random.randrange(1, 20)\n",
    "        \n",
    "    result = isLinear(x1, x2, k)\n",
    "    if result == True:\n",
    "        # print('함수는 선형함수 입니다')\n",
    "        counter += 1\n",
    "    else:\n",
    "        print('함수는 비선형함수 입니다.')\n",
    "        break\n",
    "        \n",
    "if counter == 100:\n",
    "    print('함수는 선형함수 입니다.')"
   ]
  },
  {
   "cell_type": "code",
   "execution_count": null,
   "id": "ef31c4b3",
   "metadata": {},
   "outputs": [],
   "source": [
    "\n"
   ]
  }
 ],
 "metadata": {
  "kernelspec": {
   "display_name": "Python 3 (ipykernel)",
   "language": "python",
   "name": "python3"
  },
  "language_info": {
   "codemirror_mode": {
    "name": "ipython",
    "version": 3
   },
   "file_extension": ".py",
   "mimetype": "text/x-python",
   "name": "python",
   "nbconvert_exporter": "python",
   "pygments_lexer": "ipython3",
   "version": "3.8.16"
  }
 },
 "nbformat": 4,
 "nbformat_minor": 5
}
