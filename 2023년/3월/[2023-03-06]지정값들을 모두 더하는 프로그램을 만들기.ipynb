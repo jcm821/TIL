{
 "cells": [
  {
   "cell_type": "markdown",
   "id": "b26bd74a",
   "metadata": {},
   "source": [
    "## 지정값들을 모두 더하는 프로그램"
   ]
  },
  {
   "cell_type": "markdown",
   "id": "2f651427",
   "metadata": {},
   "source": [
    "* time.time(): UTC(GMT+0) 기준으로 1970년 1월 1일 0시 0분 0초부터의 경과 시간을 표현해주는 함수"
   ]
  },
  {
   "cell_type": "code",
   "execution_count": 1,
   "id": "be54ddc7",
   "metadata": {},
   "outputs": [],
   "source": [
    "# start ~ stop값을 모두 더하는 프로그램 작성\n",
    "def adder(start, stop):\n",
    "    result = 0\n",
    "    for i in range(start, stop + 1):\n",
    "        result = result + i\n",
    "    \n",
    "    return result"
   ]
  },
  {
   "cell_type": "code",
   "execution_count": 3,
   "id": "367c673d",
   "metadata": {},
   "outputs": [
    {
     "name": "stdout",
     "output_type": "stream",
     "text": [
      "50000005000000\n"
     ]
    }
   ],
   "source": [
    "# 함수 실행\n",
    "start = 1\n",
    "stop = 10000000\n",
    "result = adder(start, stop)\n",
    "print(result)"
   ]
  },
  {
   "cell_type": "code",
   "execution_count": 5,
   "id": "3b7fe8e1",
   "metadata": {},
   "outputs": [
    {
     "name": "stdout",
     "output_type": "stream",
     "text": [
      "50000005000000\n",
      "0.6001362800598145\n"
     ]
    }
   ],
   "source": [
    "# 시간 측정\n",
    "import time\n",
    "startTime = time.time()\n",
    "start = 1\n",
    "stop = 10000000\n",
    "result = adder(start, stop)\n",
    "print(result)\n",
    "endTime = time.time()\n",
    "print(endTime - startTime)"
   ]
  },
  {
   "cell_type": "code",
   "execution_count": null,
   "id": "f09c07e1",
   "metadata": {},
   "outputs": [],
   "source": []
  }
 ],
 "metadata": {
  "kernelspec": {
   "display_name": "Python 3 (ipykernel)",
   "language": "python",
   "name": "python3"
  },
  "language_info": {
   "codemirror_mode": {
    "name": "ipython",
    "version": 3
   },
   "file_extension": ".py",
   "mimetype": "text/x-python",
   "name": "python",
   "nbconvert_exporter": "python",
   "pygments_lexer": "ipython3",
   "version": "3.8.16"
  }
 },
 "nbformat": 4,
 "nbformat_minor": 5
}
