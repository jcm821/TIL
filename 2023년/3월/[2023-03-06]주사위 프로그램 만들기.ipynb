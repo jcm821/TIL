{
 "cells": [
  {
   "cell_type": "markdown",
   "id": "7474824a",
   "metadata": {},
   "source": [
    "## 주사위 프로그램"
   ]
  },
  {
   "cell_type": "markdown",
   "id": "493c593a",
   "metadata": {},
   "source": [
    "파이참 또는 스파이더환경에서 연습해보는것이 권장된다."
   ]
  },
  {
   "cell_type": "code",
   "execution_count": 3,
   "id": "1561bc2e",
   "metadata": {},
   "outputs": [
    {
     "name": "stdout",
     "output_type": "stream",
     "text": [
      "3\n"
     ]
    }
   ],
   "source": [
    "# 주사위 난수를 생성하는 함수\n",
    "import random\n",
    "def diceFunc():\n",
    "    num = random.randrange(1, 7)\n",
    "    return num\n",
    "\n",
    "print(diceFunc())"
   ]
  },
  {
   "cell_type": "markdown",
   "id": "acb8b622",
   "metadata": {},
   "source": [
    "실행을 여러번 해보면 나오는 숫자의 결과가 랜덤하게 나오는 것을 알 수 있다."
   ]
  },
  {
   "cell_type": "code",
   "execution_count": 7,
   "id": "0fa9250c",
   "metadata": {},
   "outputs": [],
   "source": [
    "# 던지는 횟수를 카운트 하는 함수\n",
    "def throwDice(throwNum):\n",
    "    numDict = {1:0, 2:0, 3:0, 4:0, 5:0, 6:0}\n",
    "    for i in range(throwNum):\n",
    "        num = diceFunc()\n",
    "        numDict[num] = numDict[num] + 1\n",
    "        \n",
    "    for i in range(1, 7):\n",
    "        # pass\n",
    "        print(numDict[i])"
   ]
  },
  {
   "cell_type": "code",
   "execution_count": 10,
   "id": "b73d07b3",
   "metadata": {},
   "outputs": [
    {
     "name": "stdout",
     "output_type": "stream",
     "text": [
      "16681\n",
      "16676\n",
      "16820\n",
      "16688\n",
      "16599\n",
      "16536\n"
     ]
    }
   ],
   "source": [
    "throwNum = 100000\n",
    "throwDice(throwNum)"
   ]
  },
  {
   "cell_type": "markdown",
   "id": "f6bbaebb",
   "metadata": {},
   "source": [
    "횟수를 상당히 많이 실행했을때, 각 숫자가 확률적으로 유사하게 도출됨을 알 수 있다."
   ]
  },
  {
   "cell_type": "code",
   "execution_count": 12,
   "id": "ed1142a6",
   "metadata": {},
   "outputs": [
    {
     "name": "stdout",
     "output_type": "stream",
     "text": [
      "167324\n",
      "166102\n",
      "166222\n",
      "166904\n",
      "166898\n",
      "166550\n",
      "0.9655563831329346\n"
     ]
    }
   ],
   "source": [
    "# 계산이 걸리는 시간을 측정하고자 할때\n",
    "import time\n",
    "# 실행할 함수 전에 시간 측정\n",
    "start = time.time()\n",
    "throwNum = 1000000\n",
    "throwDice(throwNum)\n",
    "# 함수를 실행 후 시간 측정\n",
    "end = time.time()\n",
    "\n",
    "# 값을 빼주게 되면 경과시간을 알 수 있음\n",
    "print(end - start)"
   ]
  },
  {
   "cell_type": "code",
   "execution_count": null,
   "id": "671a2b94",
   "metadata": {},
   "outputs": [],
   "source": []
  }
 ],
 "metadata": {
  "kernelspec": {
   "display_name": "Python 3 (ipykernel)",
   "language": "python",
   "name": "python3"
  },
  "language_info": {
   "codemirror_mode": {
    "name": "ipython",
    "version": 3
   },
   "file_extension": ".py",
   "mimetype": "text/x-python",
   "name": "python",
   "nbconvert_exporter": "python",
   "pygments_lexer": "ipython3",
   "version": "3.9.7"
  }
 },
 "nbformat": 4,
 "nbformat_minor": 5
}
