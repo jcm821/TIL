{
 "cells": [
  {
   "cell_type": "code",
   "execution_count": 4,
   "id": "b808aff2",
   "metadata": {},
   "outputs": [
    {
     "name": "stdout",
     "output_type": "stream",
     "text": [
      "['2 X 1', '2 X 2', '2 X 3', '2 X 4', '2 X 5', '2 X 6', '2 X 7', '2 X 8', '2 X 9']\n",
      "[2, 4, 6, 8, 10, 12, 14, 16, 18]\n"
     ]
    }
   ],
   "source": [
    "# 구구단을 출력 -> 화면X, 문자열로 생성하고, csv파일로 저장\n",
    "# 컬럼의 개수는 16개\n",
    "# 구조이해를 위해 2단만 출력\n",
    "def multiTables(dan):\n",
    "    danStrList = []\n",
    "    danResultList = []\n",
    "    \n",
    "    for i in range(1, 10):\n",
    "        danStrList.append('{} X {}'.format(dan, i))\n",
    "        danResultList.append(dan * i)\n",
    "        \n",
    "    return danStrList, danResultList\n",
    "\n",
    "strList, resultList = multiTables(2)\n",
    "print(strList)\n",
    "print(resultList)"
   ]
  },
  {
   "cell_type": "code",
   "execution_count": 5,
   "id": "e24639b6",
   "metadata": {},
   "outputs": [
    {
     "name": "stdout",
     "output_type": "stream",
     "text": [
      "  2 Times  2 Result\n",
      "0   2 X 1         2\n",
      "1   2 X 2         4\n",
      "2   2 X 3         6\n",
      "3   2 X 4         8\n",
      "4   2 X 5        10\n",
      "5   2 X 6        12\n",
      "6   2 X 7        14\n",
      "7   2 X 8        16\n",
      "8   2 X 9        18\n"
     ]
    }
   ],
   "source": [
    "# 데이터프레임 생성\n",
    "import pandas as pd\n",
    "gugudan_df = pd.DataFrame(data = {'2 Times': pd.Series(strList), '2 Result': pd.Series(resultList)})\n",
    "print(gugudan_df)"
   ]
  },
  {
   "cell_type": "code",
   "execution_count": 19,
   "id": "d2b999d9",
   "metadata": {},
   "outputs": [],
   "source": [
    "# 위의 함수들을 활용하여 구구단 전체에 적용\n",
    "def printGugudan():\n",
    "    for dan in range(2, 10):\n",
    "        strList, resultList = multiTables(dan)\n",
    "        # 메모리 공간이 새롭게 할당되는지 확인하고 싶을때\n",
    "        # print(id(strList))\n",
    "        \n",
    "        # 컬럼명 설정\n",
    "        colName1 = '{} Times'.format(dan)\n",
    "        colName2 = '{} Result'.format(dan)\n",
    "        \n",
    "        # 데이터프레임 생성은 2단에서 최초로 생성하면 그 이후에는 생성이 필요없다\n",
    "        if dan == 2:\n",
    "            gugudan_df = pd.DataFrame(data = {colName1: pd.Series(strList), colName2: pd.Series(resultList)})\n",
    "        else:\n",
    "            # 데이터프레임에 컬럼을 추가할떄\n",
    "            gugudan_df[colName1] = strList\n",
    "            gugudan_df[colName2] = resultList\n",
    "            \n",
    "    return gugudan_df\n"
   ]
  },
  {
   "cell_type": "code",
   "execution_count": 20,
   "id": "6a74ad73",
   "metadata": {},
   "outputs": [
    {
     "name": "stdout",
     "output_type": "stream",
     "text": [
      "  2 Times  2 Result 3 Times  3 Result 4 Times  4 Result 5 Times  5 Result  \\\n",
      "0   2 X 1         2   3 X 1         3   4 X 1         4   5 X 1         5   \n",
      "1   2 X 2         4   3 X 2         6   4 X 2         8   5 X 2        10   \n",
      "2   2 X 3         6   3 X 3         9   4 X 3        12   5 X 3        15   \n",
      "3   2 X 4         8   3 X 4        12   4 X 4        16   5 X 4        20   \n",
      "4   2 X 5        10   3 X 5        15   4 X 5        20   5 X 5        25   \n",
      "5   2 X 6        12   3 X 6        18   4 X 6        24   5 X 6        30   \n",
      "6   2 X 7        14   3 X 7        21   4 X 7        28   5 X 7        35   \n",
      "7   2 X 8        16   3 X 8        24   4 X 8        32   5 X 8        40   \n",
      "8   2 X 9        18   3 X 9        27   4 X 9        36   5 X 9        45   \n",
      "\n",
      "  6 Times  6 Result 7 Times  7 Result 8 Times  8 Result 9 Times  9 Result  \n",
      "0   6 X 1         6   7 X 1         7   8 X 1         8   9 X 1         9  \n",
      "1   6 X 2        12   7 X 2        14   8 X 2        16   9 X 2        18  \n",
      "2   6 X 3        18   7 X 3        21   8 X 3        24   9 X 3        27  \n",
      "3   6 X 4        24   7 X 4        28   8 X 4        32   9 X 4        36  \n",
      "4   6 X 5        30   7 X 5        35   8 X 5        40   9 X 5        45  \n",
      "5   6 X 6        36   7 X 6        42   8 X 6        48   9 X 6        54  \n",
      "6   6 X 7        42   7 X 7        49   8 X 7        56   9 X 7        63  \n",
      "7   6 X 8        48   7 X 8        56   8 X 8        64   9 X 8        72  \n",
      "8   6 X 9        54   7 X 9        63   8 X 9        72   9 X 9        81  \n"
     ]
    }
   ],
   "source": [
    "print(printGugudan())"
   ]
  },
  {
   "cell_type": "code",
   "execution_count": 22,
   "id": "c2ba392c",
   "metadata": {},
   "outputs": [],
   "source": [
    "# 데이터프레임을 CSV파일로 저장\n",
    "printGu = printGugudan()\n",
    "printGu.to_csv('gugudan.csv')"
   ]
  },
  {
   "cell_type": "code",
   "execution_count": null,
   "id": "063030ea",
   "metadata": {},
   "outputs": [],
   "source": []
  }
 ],
 "metadata": {
  "kernelspec": {
   "display_name": "Python 3 (ipykernel)",
   "language": "python",
   "name": "python3"
  },
  "language_info": {
   "codemirror_mode": {
    "name": "ipython",
    "version": 3
   },
   "file_extension": ".py",
   "mimetype": "text/x-python",
   "name": "python",
   "nbconvert_exporter": "python",
   "pygments_lexer": "ipython3",
   "version": "3.8.16"
  }
 },
 "nbformat": 4,
 "nbformat_minor": 5
}
