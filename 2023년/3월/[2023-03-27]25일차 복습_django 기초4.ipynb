{
 "cells": [
  {
   "cell_type": "markdown",
   "id": "faba8929",
   "metadata": {},
   "source": [
    "# 장고를 이용하여 게시판 앱 만들기"
   ]
  },
  {
   "cell_type": "markdown",
   "id": "5685e503",
   "metadata": {},
   "source": [
    "## 로그인과 로그아웃 구현하기"
   ]
  },
  {
   "cell_type": "markdown",
   "id": "d101f994",
   "metadata": {},
   "source": [
    "* 장고는 Django.contrib.auth앱을 제공, 로그인과 로그아웃을 구현할 수 있다.\n",
    "* 로그인과 로그아웃은 공통기능이므로 common이라는 별도의 앱을 새로 만들어 준다."
   ]
  },
  {
   "cell_type": "code",
   "execution_count": null,
   "id": "f2ae0b6d",
   "metadata": {},
   "outputs": [],
   "source": [
    "# mysite디렉토리 내에 생성해준다\n",
    "django-admin starapp common"
   ]
  },
  {
   "cell_type": "code",
   "execution_count": null,
   "id": "498df58f",
   "metadata": {},
   "outputs": [],
   "source": [
    "# base.html과 동등한 위치에 navbar.html을 생성 하고 로그인, 로그아웃 정보 추가\n",
    "# 화면 상단에 로그인 로그아웃 UI 출력\n",
    "<nav class=\"navbar navbar-expand-lg navbar-light bg-light border-bottom\">\n",
    "    <a class=\"navbar-brand\" href=\"{% url 'bbsnote:index' %}\">BBSNote</a>\n",
    "    <button class=\"navbar-toggler ml-auto\" type=\"button\" data-toggle=\"collapse\" data-target=\"#navbarNav\"\n",
    "        aria-controls=\"navbarNav\" aria-expanded=\"false\" aria-label=\"Toggle navigation\">\n",
    "        <span class=\"navbar-toggler-icon\"></span>\n",
    "    </button>\n",
    "    <div class=\"collapse navbar-collapse flex-grow-0\" id=\"navbarNav\">\n",
    "        <ul class=\"navbar-nav\">\n",
    "            <li class=\"nav-item \">\n",
    "                {% if user.is_authenticated  %}\n",
    "                <a class=\"nav-link\" href=\"{% url 'common:logout' %}\">{{ user.username }} (로그아웃)</a>\n",
    "                {% else %}\n",
    "                <a class=\"nav-link\" href=\"{% url 'common:login'  %}\">로그인</a>\n",
    "                {% endif %}\n",
    "            </li>\n",
    "        </ul>\n",
    "    </div>\n",
    "</nav>"
   ]
  },
  {
   "cell_type": "code",
   "execution_count": null,
   "id": "83e6a703",
   "metadata": {},
   "outputs": [],
   "source": [
    "# base.html파일에 script들을 추가해준다\n",
    "{% load static %}\n",
    "<!DOCTYPE html>\n",
    "<html lang=\"ko\">\n",
    "<head>\n",
    "    <meta charset=\"UTF-8\">\n",
    "    <meta http-equiv=\"X-UA-Compatible\" content=\"IE=edge\">\n",
    "    <meta name=\"viewport\" content=\"width=device-width, initial-scale=1.0\">\n",
    "    <title>Document</title>\n",
    "    <link rel=\"stylesheet\" type=\"text/css\" href=\"{% static 'css/bootstrap.min.css' %}\">\n",
    "    <script src=\"https://cdn.jsdelivr.net/npm/jquery@3.5.1/dist/jquery.slim.min.js\" integrity=\"sha384-DfXdz2htPH0lsSSs5nCTpuj/zy4C+OGpamoFVy38MVBnE+IbbVYUew+OrCXaRkfj\" crossorigin=\"anonymous\"></script>\n",
    "    <script src=\"https://cdn.jsdelivr.net/npm/popper.js@1.16.1/dist/umd/popper.min.js\" integrity=\"sha384-9/reFTGAW83EW2RDu2S0VKaIzap3H66lZH81PoYlFhbGU+6BZp6G7niu735Sk7lN\" crossorigin=\"anonymous\"></script>\n",
    "    <script src=\"https://cdn.jsdelivr.net/npm/bootstrap@4.6.2/dist/js/bootstrap.min.js\" integrity=\"sha384-+sLIOodYLS7CIrQpBjl+C7nPvqq+FbNUBDunl/OZv93DB7Ln/533i8e/mZXLi/P+\" crossorigin=\"anonymous\"></script>\n",
    "</head>\n",
    "<body>\n",
    "    {% include \"navbar.html\" %}\n",
    "\n",
    "    <!-- 기본 템플릿 안에 삽입될 내용 Start -->\n",
    "    {% block content %}\n",
    "    {% endblock %}\n",
    "    <!-- 기본 템플릿 안에 삽입될 내용 End -->\n",
    "    {% block script %}\n",
    "    {% endblock %}\n",
    "</body>\n",
    "</html>"
   ]
  },
  {
   "cell_type": "code",
   "execution_count": null,
   "id": "74fdda33",
   "metadata": {},
   "outputs": [],
   "source": [
    "# config/settings.py파일에 추가\n",
    "INSTALLED_APPS = [\n",
    "    \"django.contrib.admin\",\n",
    "    \"django.contrib.auth\",\n",
    "    \"django.contrib.contenttypes\",\n",
    "    \"django.contrib.sessions\",\n",
    "    \"django.contrib.messages\",\n",
    "    \"django.contrib.staticfiles\",\n",
    "    \"bbsnote.apps.BbsnoteConfig\",\n",
    "    \"common.apps.CommonConfig\",\n",
    "]\n",
    "\n",
    "\n",
    "# settings.py파일 하단에 다음을 추가\n",
    "LOGIN_REDIRECT_URL = '/'\n",
    "LOGOUT_REDIRECT_URL = '/'"
   ]
  },
  {
   "cell_type": "markdown",
   "id": "42c24e3d",
   "metadata": {},
   "source": [
    "* common URL 사용을 위해 추가하고, 앞에 설정한 '/'에 대응하기 위한 URL path도 추가한다."
   ]
  },
  {
   "cell_type": "code",
   "execution_count": null,
   "id": "495e694f",
   "metadata": {},
   "outputs": [],
   "source": [
    "# config/urls.py에 url주소 추가\n",
    "from django.contrib import admin\n",
    "from django.urls import path, include\n",
    "from bbsnote import views\n",
    "\n",
    "urlpatterns = [\n",
    "    path(\"admin/\", admin.site.urls),\n",
    "    path(\"bbsnote/\", include('bbsnote.urls')),\n",
    "    # 'common/' 문자열과 일치하게 되면 'common.urls'모듈에 정의된 URL패턴 목록이 포함됨\n",
    "    path(\"common/\", include('common.urls')),\n",
    "    path('', views.index, name='index'),\n",
    "]\n"
   ]
  },
  {
   "cell_type": "markdown",
   "id": "9313402a",
   "metadata": {},
   "source": [
    "* Django.contrib.auth 앱 LoginView클래스를 사용할 것이므로, urls.py를 수정해준다."
   ]
  },
  {
   "cell_type": "code",
   "execution_count": null,
   "id": "3ebe54c2",
   "metadata": {},
   "outputs": [],
   "source": [
    "# common/urls.py파일 수정\n",
    "from django.contrib.auth import views as auth_views\n",
    "from django.urls import path\n",
    "\n",
    "# 앱의 이름을 'common'으로 정의\n",
    "app_name = 'common'\n",
    "\n",
    "urlpatterns = [\n",
    "    # 'login/'의 경로로 들어온다면, 장고가 제공하는 auth_views.LoginView를 사용하여 뷰 함수를 실행\n",
    "    # 템플릿 이름은 'common.login.html'에서 가져오며, 이름은 로그인으로 지정한다.\n",
    "    path('login/', auth_views.LoginView.as_view(template_name='common/login.html'), name='login')\n",
    "    # 'logout/'의 경로로 들어온다면, 장고가 제공하는 auth_views.LogoutView를 사용하여 뷰 함수를 실행\n",
    "    # 이름은 로그아웃으로 지정한다\n",
    "    path('logout/', auth_views.LogoutView.as_view(), name='logout')\n",
    "]"
   ]
  },
  {
   "cell_type": "markdown",
   "id": "056991cc",
   "metadata": {},
   "source": [
    "* 아이디와 비밀번호를 입력받는 페이지와 로그인에 실패했을 경우 오류 메시지를 표현할 부분을 추가하여 준다."
   ]
  },
  {
   "cell_type": "code",
   "execution_count": null,
   "id": "b7b1f9ad",
   "metadata": {},
   "outputs": [],
   "source": [
    "{% extends \"base.html\" %}\n",
    "{% block content  %}\n",
    "<div class=\"container my-3\">\n",
    "    <div class=\"row\">\n",
    "        <div class=\"col-4\">\n",
    "            <h4>로그인</h4>\n",
    "        </div>\n",
    "        <div class=\"col-8 text-right\">\n",
    "            <span>또는 <a href=\"\">계정을 만드세요.</a></span>\n",
    "        </div>\n",
    "    </div>\n",
    "    <form method=\"post\" class=\"post-form\" action=\"{% url 'common:login' %}\">\n",
    "        {% csrf_token %}\n",
    "        <input type=\"hidden\" name=\"next\" value=\"{{ next }}\">  <!-- 로그인 성공후 이동되는 URL -->\n",
    "        {% include \"form_errors.html\"  %}\n",
    "        <div class=\"form-group\">\n",
    "            <label for=\"username\">사용자ID</label>\n",
    "            <input type=\"text\" class=\"form-control\" name=\"username\" id=\"username\"\n",
    "                value=\"{{form.username.value|default_if_none:''}}\">\n",
    "        </div>\n",
    "        <div class=\"form-group\">\n",
    "            <label for=\"password\">비밀번호</label>\n",
    "            <input type=\"password\" class=\"form-control\" name=\"password\" id=\"password\"\n",
    "                value=\"{{form.password.value|default_if_none:''}}\">\n",
    "        </div>\n",
    "        <button type=\"submit\" class=\"btn btn-primary\">로그인</button>\n",
    "    </form>\n",
    "</div>\n",
    "{% endblock  %}"
   ]
  },
  {
   "cell_type": "code",
   "execution_count": null,
   "id": "7fb25f55",
   "metadata": {},
   "outputs": [],
   "source": [
    "{% if form.errors %}\n",
    "    {% for field in form %}\n",
    "        {% for error in field.errors %}  <!-- 필드 오류를 출력한다. -->\n",
    "            <div class=\"alert alert-danger\">\n",
    "                <strong>{{ field.label }}</strong>\n",
    "                {{ error }}\n",
    "            </div>\n",
    "        {% endfor %}\n",
    "    {% endfor %}\n",
    "    {% for error in form.non_field_errors %}   <!-- 넌필드 오류를 출력한다. -->\n",
    "        <div class=\"alert alert-danger\">\n",
    "            <strong>{{ error }}</strong>\n",
    "        </div>\n",
    "    {% endfor %}\n",
    "{% endif %}"
   ]
  },
  {
   "attachments": {
    "image.png": {
     "image/png": "[encoded data removed]"
    }
   },
   "cell_type": "markdown",
   "id": "94051a2f",
   "metadata": {},
   "source": [
    "![image.png](attachment:image.png)"
   ]
  },
  {
   "cell_type": "markdown",
   "id": "9184449f",
   "metadata": {},
   "source": [
    "## 회원가입 기능 추가하기"
   ]
  },
  {
   "cell_type": "markdown",
   "id": "32a10836",
   "metadata": {},
   "source": [
    "* 장고에선 회원가입 또한 제공해준다.\n",
    "* Django.contrib.auth 앱을 이용하여 구현한다."
   ]
  },
  {
   "cell_type": "code",
   "execution_count": null,
   "id": "6647219b",
   "metadata": {},
   "outputs": [],
   "source": [
    "# common/forms.py파일 생성\n",
    "from django import forms\n",
    "from django.contrib.auth.forms import UserCreationForm\n",
    "from django.contrib.auth.models import User\n",
    "\n",
    "# UserForm클래스 선언\n",
    "class UserForm(UserCreationForm):\n",
    "    # 이메일 필드를 추가하고 라벨의 이름을 이메일로 선언, email객체에 저장\n",
    "    email = forms.EmailField(label=\"이메일\")\n",
    "    class Meta:\n",
    "        model = User\n",
    "        fields = ('username', 'email')"
   ]
  },
  {
   "cell_type": "markdown",
   "id": "65447da1",
   "metadata": {},
   "source": [
    "* UserCreationForm은 username, password1, password2(비밀번호 확인)를 기본적으로 가진다.\n",
    "* email 속성 추가를 위해 UserCreationForm을 상속받는 UserForm을 생성한다."
   ]
  },
  {
   "cell_type": "code",
   "execution_count": null,
   "id": "6014729c",
   "metadata": {},
   "outputs": [],
   "source": [
    "# common/views.py파일에 추가\n",
    "from django.shortcuts import render, redirect\n",
    "from django.contrib.auth import authenticate, login\n",
    "\n",
    "from .forms import UserForm\n",
    "\n",
    "def signup(requsest):\n",
    "    # 요청방법이 POST방식이라면\n",
    "    if request.method == \"POST\":\n",
    "        form = UserForm(request.POST)\n",
    "        if form.is_valid():\n",
    "            # form안의 내용 저장\n",
    "            form.save()\n",
    "            # form태그의 username을 가져온다\n",
    "            username = form.cleaned_data.get('username')\n",
    "            # form태그의 password1을 가져온다\n",
    "            raw_password = form.cleaned_data.get('password1')\n",
    "            user = authenticate(username=username, password=raw_password)\n",
    "            # 요청정보와 함께 user정보를 넘김, 자동 로그인 처리과정\n",
    "            login(request, user)\n",
    "            # index로 가라(리다이렉트)\n",
    "            # 'bbsnote:index'로 입력하게 되면 웹 서버의 주소가 '127.0.0.1:8000/bbsnote/'로 표시된다\n",
    "            return redirect('index')\n",
    "        \n",
    "    # POST방식이 아니라면(GET방식) form에 내용없이 출력\n",
    "    else:\n",
    "        form = UserForm()\n",
    "    # 'common.signup.html' 템플릿을 사용하여 응답을 생성하고, 템플릿에 'form'변수로 폼 객체를 랜더링하여 전달\n",
    "    return render(request, 'common/signup.html', {'form':form})"
   ]
  },
  {
   "cell_type": "code",
   "execution_count": null,
   "id": "8494e07e",
   "metadata": {},
   "outputs": [],
   "source": [
    "# templates/common/signup.html\n",
    "{% extends \"base.html\" %}\n",
    "{% block content %}\n",
    "<div class=\"container my-3\">\n",
    "    <div class=\"row my-3\">\n",
    "        <div class=\"col-4\">\n",
    "            <h4>계정생성</h4>\n",
    "        </div>\n",
    "        <div class=\"col-8 text-right\">\n",
    "            <span>또는 <a href=\"{% url 'common:login' %}\">로그인 하세요.</a></span>\n",
    "        </div>\n",
    "    </div>\n",
    "    <form method=\"post\" class=\"post-form\">\n",
    "        {% csrf_token %}\n",
    "        {% include \"form_errors.html\" %}\n",
    "        <div class=\"form-group\">\n",
    "            <label for=\"username\">사용자 이름</label>\n",
    "            <input type=\"text\" class=\"form-control\" name=\"username\" id=\"username\"\n",
    "                value=\"{{ form.username.value|default_if_none:''  }}\">\n",
    "        </div>\n",
    "        <div class=\"form-group\">\n",
    "            <label for=\"password1\">비밀번호</label>\n",
    "            <input type=\"password\" class=\"form-control\" name=\"password1\" id=\"password1\"\n",
    "                value=\"{{ form.password1.value|default_if_none:'' }}\">\n",
    "        </div>\n",
    "        <div class=\"form-group\">\n",
    "            <label for=\"password2\">비밀번호 확인</label>\n",
    "            <input type=\"password\" class=\"form-control\" name=\"password2\" id=\"password2\"\n",
    "                value=\"{{ form.password2.value|default_if_none:''  }}\">\n",
    "        </div>\n",
    "        <div class=\"form-group\">\n",
    "            <label for=\"email\">이메일</label>\n",
    "            <input type=\"text\" class=\"form-control\" name=\"email\" id=\"email\"\n",
    "                value=\"{{ form.email.value|default_if_none:'' }}\">\n",
    "        </div>\n",
    "        <button type=\"submit\" class=\"btn btn-primary\">생성하기</button>\n",
    "    </form>\n",
    "</div>\n",
    "{% endblock %}"
   ]
  },
  {
   "cell_type": "code",
   "execution_count": null,
   "id": "68c31af3",
   "metadata": {},
   "outputs": [],
   "source": [
    "# templates/common/login.html에 추가\n",
    "{% extends \"base.html\" %}\n",
    "{% block content  %}\n",
    "<div class=\"container my-3\">\n",
    "    <div class=\"row\">\n",
    "        <div class=\"col-4\">\n",
    "            <h4>로그인</h4>\n",
    "        </div>\n",
    "        <div class=\"col-8 text-right\">\n",
    "            <span>또는 <a href=\"{% url 'common:signup' %}\">계정을 만드세요.</a></span>\n",
    "        </div>\n",
    "    </div>\n",
    "    <form method=\"post\" class=\"post-form\" action=\"{% url 'common:login' %}\">\n",
    "        {% csrf_token %}\n",
    "        <input type=\"hidden\" name=\"next\" value=\"{{ next }}\">  <!-- 로그인 성공후 이동되는 URL -->\n",
    "        {% include \"form_errors.html\"  %}\n",
    "        <div class=\"form-group\">\n",
    "            <label for=\"username\">사용자ID</label>\n",
    "            <input type=\"text\" class=\"form-control\" name=\"username\" id=\"username\"\n",
    "                value=\"{{form.username.value|default_if_none:''}}\">\n",
    "        </div>\n",
    "        <div class=\"form-group\">\n",
    "            <label for=\"password\">비밀번호</label>\n",
    "            <input type=\"password\" class=\"form-control\" name=\"password\" id=\"password\"\n",
    "                value=\"{{form.password.value|default_if_none:''}}\">\n",
    "        </div>\n",
    "        <button type=\"submit\" class=\"btn btn-primary\">로그인</button>\n",
    "    </form>\n",
    "</div>\n",
    "{% endblock  %}"
   ]
  },
  {
   "cell_type": "code",
   "execution_count": null,
   "id": "48e58e8c",
   "metadata": {},
   "outputs": [],
   "source": [
    "# common/urls.py파일에 signup의 URL패턴 추가\n",
    "urlpatterns = [\n",
    "    # 'login/'의 경로로 들어온다면, 장고가 제공하는 auth_views.LoginView를 사용하여 뷰 함수를 실행\n",
    "    # 탬플릿 이름은 'common/login.html'에서 가져오며, 이름은 로그인으로 지정한다\n",
    "    path('login/', auth_views.LoginView.as_view(template_name='common/login.html'), name='login'),\n",
    "    # 'logout/'의 경로로 들어온다면, 장고가 제공하는 auth_views.LogoutView를 사용하여 뷰 함수를 실행\n",
    "    # 이름은 로그아웃으로 지정한다 \n",
    "    path('logout/', auth_views.LogoutView.as_view(), name='logout'),\n",
    "    path('signup/', views.signup, name='signup'),\n",
    "]"
   ]
  },
  {
   "attachments": {
    "image.png": {
     "image/png": "[encoded data removed]"
    }
   },
   "cell_type": "markdown",
   "id": "275689cc",
   "metadata": {},
   "source": [
    "![image.png](attachment:image.png)"
   ]
  },
  {
   "cell_type": "markdown",
   "id": "ad8e9565",
   "metadata": {},
   "source": [
    "## 게시판 페이징 적용하기"
   ]
  },
  {
   "cell_type": "code",
   "execution_count": null,
   "id": "2de3c3bc",
   "metadata": {},
   "outputs": [],
   "source": [
    "# bbsnote/views.py의 index함수 수정\n",
    "from django.core.paginator import Paginator\n",
    "\n",
    "def index(request):\n",
    "    # 입력 인자 추가\n",
    "    # get방식으로 요청하여 페이지를 가져오되, 페이지에 값이 없으면 1로 초기화\n",
    "    page = request.GET.get('page', 1)\n",
    "    # 조회\n",
    "    board_list = Board.objects.order_by('-create_date')\n",
    "    # 페이징 함수를 통해 페이지 리스트를 n개씩 볼 수 있도록 나누어 페이징을 한다.\n",
    "    paginator = Paginator(board_list, 5)\n",
    "    # 현재 페이지를 나타내준다\n",
    "    page_obj = paginator.get_page(page)\n",
    "    context = {'board_list': page_obj}\n",
    "    return render(request, 'bbsnote/board_list.html', context)"
   ]
  },
  {
   "cell_type": "markdown",
   "id": "2887c393",
   "metadata": {},
   "source": [
    "* 사이트에서 bbsnote/?page=2로 확인하면 페이징이 된 것을 볼 수 있다. 이때 ?뒤에 나오는 모두 파라미터라고 보면 된다."
   ]
  },
  {
   "cell_type": "markdown",
   "id": "405064ab",
   "metadata": {},
   "source": [
    "* 장고의 Paginator 클래스를 이용하면 다음 속성들 사용이 가능하여 페이징 처리가 간단해 진다.\n",
    "* 페이징 처리시 사용되는 속성들"
   ]
  },
  {
   "cell_type": "markdown",
   "id": "1c9655b0",
   "metadata": {},
   "source": [
    "|항목|설명|\n",
    "|----|----|\n",
    "|paginator.count|전체 게시물 수 |\n",
    "|paginator.per_page|페이지당 보여줄 게시물 개수|\n",
    "|paginator.page_range|페이지 범위|\n",
    "|number|페이지 범위|\n",
    "|previous.page_number|이전 페이지 번호|\n",
    "|next.page_number|다음 페이지 번호|\n",
    "|has_previous|이전 페이지 유무|\n",
    "|has_next|다음 페이지 유무|\n",
    "|start_index|현재 페이지 시작 인덱스(1부터 시작)|\n",
    "|end_index|현재 페이지의 끝(1부터 시작)|"
   ]
  },
  {
   "cell_type": "markdown",
   "id": "3c8cebe6",
   "metadata": {},
   "source": [
    "## 템플릿 필터 적용하기"
   ]
  },
  {
   "cell_type": "markdown",
   "id": "c159ea41",
   "metadata": {},
   "source": [
    "* 템플릿 필터: 템플릿 태그에서 '|'문자 뒤에 사용하는 필터\n",
    "* 게시글 앞에 번호를 붙이고 페이징 결과를 확인"
   ]
  },
  {
   "cell_type": "code",
   "execution_count": null,
   "id": "3d473c47",
   "metadata": {},
   "outputs": [],
   "source": [
    "# templates/bbsnote/board_list.html파일 수정\n",
    "{% extends 'base.html' %}\n",
    "{% block content %}\n",
    "<div class=\"container my-3\">\n",
    "    <table class=\"table\">\n",
    "        <thead>\n",
    "        <tr class=\"text-center thead-dark\"> \n",
    "            <th></th>           \n",
    "            <th style=\"width:50%\">제목</th>\n",
    "            <th>작성일시</th>\n",
    "        </tr>\n",
    "        </thead>\n",
    "        <tbody>\n",
    "        {% if board_list %}\n",
    "            {% for board in board_list %}\n",
    "            <tr class=\"text-center\">\n",
    "                <td>{{forloop.counter}}</td>\n",
    "                <td class=\"text-left\">\n",
    "                    <a href=\"{% url 'bbsnote:detail' board.id %}\">{{ board.subject }}</a>                \n",
    "                </td>            \n",
    "                <td>{{ board.create_date }}</td>\n",
    "            </tr>\n",
    "            {% endfor %}\n",
    "            {% else %}\n",
    "            <tr>\n",
    "                <td colspan=\"3\">글이 없습니다.</td>\n",
    "            </tr>\n",
    "            {% endif %}\n",
    "            </tbody>\n",
    "        </table> \n",
    "        <!-- 해당경로로 데이터를 get방식으로 넘겨받는다 -->\n",
    "        <a href=\"{% url 'bbsnote:board_create' %}\" class=\"btn btn-primary\">등록</a>\n",
    "</div>\n",
    "{% endblock %}"
   ]
  },
  {
   "attachments": {
    "image.png": {
     "image/png": "[encoded data removed]"
    }
   },
   "cell_type": "markdown",
   "id": "ce1411a5",
   "metadata": {},
   "source": [
    "![image.png](attachment:image.png)"
   ]
  },
  {
   "cell_type": "markdown",
   "id": "46f61949",
   "metadata": {},
   "source": [
    "* 게시물 번호 공식: 일련번호 = 전체 게시물 개수 - 시작인덱스 - 현재 인덱스 + 1\n",
    "* 더하기 필터에는 변수를 적용할 수 없기에 뻬기 필터를 만든다."
   ]
  },
  {
   "cell_type": "markdown",
   "id": "e9cda438",
   "metadata": {},
   "source": [
    "* 게시물 전체 건수가 12개라면, 첫번째 페이지는 12-3의 역순으로 보여주고, 두번째 페이지는 2~1이 보여진다. "
   ]
  },
  {
   "cell_type": "markdown",
   "id": "9b4c53fa",
   "metadata": {},
   "source": [
    "* 시작 인덱스는 페이지당 시작되는 게시물의 시작 번호를 의미, 예를 들어 페이지당 게시물을 10건씩 보여준다면 1페이지의 시작 인덱스는 1, 2페이지의 시작 인덱스는 11이 된다. 현재 인덱스는 페이지에 보여지는 게시물 개수만큼 0부터 1씩 증가되는 번호이다."
   ]
  },
  {
   "cell_type": "markdown",
   "id": "9e8a64d2",
   "metadata": {},
   "source": [
    "* 따라서 전체 게시물 개수가 12개이고 페이지당 10건씩 게시물을 보여준다면 공식에 의해 1페이지의 번호는 12 - 1 - (0-9반복) + 1 이 되어 12-3까지 표시되고 2페이지의 경우 12 - 11 - (0-9반복) + 1이 되어 2또는 1이 표시될 것이다."
   ]
  },
  {
   "cell_type": "code",
   "execution_count": null,
   "id": "5b1bbc20",
   "metadata": {},
   "outputs": [],
   "source": [
    "# bbsnote폴더 안에 templatetag폴더를 새로 생성하고 bbsnote_filter.py파일을 생성\n",
    "from django import template\n",
    "\n",
    "register = template.Library()\n",
    "# 애너테이션을 적용하면 템플릿에서 함수를 필터로 사용할 수 있게 된다\n",
    "# 장고에는 빼기 필터가 존재하지 않아 'add:-5'와 같이 숫자를 직접입력해야 한다.\n",
    "# 단, add필터에는 변수적용을 할 수 없으므로 직접 빼기 함수를 만들어 준다.\n",
    "@ register.filter\n",
    "def sub(value, arg):\n",
    "    return value - arg"
   ]
  },
  {
   "cell_type": "markdown",
   "id": "b04064d0",
   "metadata": {},
   "source": [
    "|공식요소|설명|\n",
    "|----|----|\n",
    "|question_list.paginator.count|전체 게시물 수|\n",
    "|question_list.start_index|시작 인덱스(1부터 시작)|\n",
    "|forloop.counter0|forloop내의 현재 인덱스, forloop.counter0은 0부터, forloop.counter는 1부터 시작|"
   ]
  },
  {
   "cell_type": "code",
   "execution_count": null,
   "id": "417f849e",
   "metadata": {},
   "outputs": [],
   "source": [
    "<!-- base.html의 양식을 상속받음 -->\n",
    "{% extends 'base.html' %}\n",
    "{% load bbsnote_filter %}\n",
    "{% block content %}\n",
    "<div class=\"container my-3\">\n",
    "    <table class=\"table\">\n",
    "        <thead>\n",
    "        <tr class=\"text-center thead-dark\"> \n",
    "            <th></th>           \n",
    "            <th style=\"width:50%\">제목</th>\n",
    "            <th>작성일시</th>\n",
    "        </tr>\n",
    "        </thead>\n",
    "        <tbody>\n",
    "        {% if board_list %}\n",
    "            {% for board in board_list %}\n",
    "            <tr class=\"text-center\">\n",
    "                <td>{{board_list.paginator.count | sub:board_list.start_index | sub:forloop.counter0 | add:1 }}</td>\n",
    "                <td class=\"text-left\">\n",
    "                    <a href=\"{% url 'bbsnote:detail' board.id %}\">{{ board.subject }}</a>                \n",
    "                </td>            \n",
    "                <td>{{ board.create_date }}</td>\n",
    "            </tr>\n",
    "            {% endfor %}\n",
    "            {% else %}\n",
    "            <tr>\n",
    "                <td colspan=\"3\">글이 없습니다.</td>\n",
    "            </tr>\n",
    "            {% endif %}\n",
    "            </tbody>\n",
    "        </table> \n",
    "        <!-- 해당경로로 데이터를 get방식으로 넘겨받는다 -->\n",
    "        <a href=\"{% url 'bbsnote:board_create' %}\" class=\"btn btn-primary\">등록</a>\n",
    "</div>\n",
    "{% endblock %}"
   ]
  },
  {
   "cell_type": "markdown",
   "id": "8b7db60b",
   "metadata": {},
   "source": [
    "* 필터를 사용하여 게시물 번호 공식을 대입하면 아래와 같이 잘 정렬된것을 알 수 있다."
   ]
  },
  {
   "attachments": {
    "image.png": {
     "image/png": "[encoded data removed]"
    }
   },
   "cell_type": "markdown",
   "id": "89e20b56",
   "metadata": {},
   "source": [
    "![image.png](attachment:image.png)"
   ]
  },
  {
   "cell_type": "code",
   "execution_count": null,
   "id": "94f6e020",
   "metadata": {},
   "outputs": [],
   "source": [
    "<!-- base.html의 양식을 상속받음 -->\n",
    "{% extends 'base.html' %}\n",
    "{% load bbsnote_filter %}\n",
    "{% block content %}\n",
    "<div class=\"container my-3\">\n",
    "    <table class=\"table\">\n",
    "        <thead>\n",
    "        <tr class=\"text-center thead-dark\"> \n",
    "            <th></th>           \n",
    "            <th style=\"width:50%\">제목</th>\n",
    "            <th>작성일시</th>\n",
    "        </tr>\n",
    "        </thead>\n",
    "        <tbody>\n",
    "        {% if board_list %}\n",
    "        {% for board in board_list %}\n",
    "        <tr class=\"text-center\">\n",
    "            <td>{{ board_list.paginator.count|sub:board_list.start_index|sub:forloop.counter0|add:1 }}</td>\n",
    "            <td class=\"text-left\">\n",
    "                <a href=\"{% url 'bbsnote:detail' board.id %}\">{{ board.subject }}</a>                \n",
    "            </td>            \n",
    "            <td>{{ board.create_date }}</td>\n",
    "        </tr>\n",
    "        {% endfor %}\n",
    "        {% else %}\n",
    "        <tr>\n",
    "            <td colspan=\"3\">질문이 없습니다.</td>\n",
    "        </tr>\n",
    "        {% endif %}\n",
    "        </tbody>\n",
    "    </table> \n",
    "    <!-- 페이징처리 시작 -->\n",
    "    <ul class=\"pagination justify-content-center\">\n",
    "        <!-- 이전페이지 -->\n",
    "        {% if board_list.has_previous %}\n",
    "        <li class=\"page-item\">\n",
    "            <a class=\"page-link\" data-page=\"{{ board_list.previous_page_number }}\" href=\"#\">이전</a>\n",
    "        </li>\n",
    "        {% else %}\n",
    "        <li class=\"page-item disabled\">\n",
    "            <a class=\"page-link\" tabindex=\"-1\" aria-disabled=\"true\" href=\"#\">이전</a>\n",
    "        </li>\n",
    "        {% endif %}\n",
    "        <!-- 페이지리스트 -->\n",
    "        {% for page_number in board_list.paginator.page_range %}\n",
    "        {% if page_number >= board_list.number|add:-5 and page_number <= board_list.number|add:5 %}\n",
    "            {% if page_number == board_list.number %}\n",
    "            <li class=\"page-item active\" aria-current=\"page\">\n",
    "                <a class=\"page-link\" data-page=\"{{ page_number }}\" href=\"#\">{{ page_number }}</a>\n",
    "            </li>\n",
    "            {% else %}\n",
    "            <li class=\"page-item\">\n",
    "                <a class=\"page-link\" data-page=\"{{ page_number }}\" href=\"#\">{{ page_number }}</a>\n",
    "            </li>\n",
    "            {% endif %}\n",
    "        {% endif %}\n",
    "        {% endfor %}\n",
    "        <!-- 다음페이지 -->\n",
    "        {% if board_list.has_next %}\n",
    "        <li class=\"page-item\">\n",
    "            <a class=\"page-link\" data-page=\"{{ board_list.next_page_number }}\" href=\"#\">다음</a>\n",
    "        </li>\n",
    "        {% else %}\n",
    "        <li class=\"page-item disabled\">\n",
    "            <a class=\"page-link\" tabindex=\"-1\" aria-disabled=\"true\" href=\"#\">다음</a>\n",
    "        </li>\n",
    "        {% endif %}\n",
    "    </ul>\n",
    "    <!-- 페이징처리 끝 -->\n",
    "    <a href=\"{% url 'bbsnote:board_create' %}\" class=\"btn btn-primary\">등록</a>   \n",
    "</div>\n",
    "<form id=\"searchForm\" method=\"get\" action=\"{% url 'index' %}\">    \n",
    "    <input type=\"hidden\" id=\"page\" name=\"page\" value=\"{{ page }}\">    \n",
    "</form>\n",
    "{% endblock %}\n",
    "{% block script %}\n",
    "<script type='text/javascript'>\n",
    "$(document).ready(function(){\n",
    "    $(\".page-link\").on('click', function() {\n",
    "        $(\"#page\").val($(this).data(\"page\"));\n",
    "        $(\"#searchForm\").submit();\n",
    "    });     \n",
    "});\n",
    "</script>\n",
    "{% endblock %}\n"
   ]
  },
  {
   "cell_type": "markdown",
   "id": "27783641",
   "metadata": {},
   "source": [
    "* 템플릿을 개선하여 가운데 이전과 다음 버튼을 생성했다."
   ]
  },
  {
   "attachments": {
    "image.png": {
     "image/png": "[encoded data removed]"
    }
   },
   "cell_type": "markdown",
   "id": "f231cc24",
   "metadata": {},
   "source": [
    "![image.png](attachment:image.png)"
   ]
  }
 ],
 "metadata": {
  "kernelspec": {
   "display_name": "Python 3 (ipykernel)",
   "language": "python",
   "name": "python3"
  },
  "language_info": {
   "codemirror_mode": {
    "name": "ipython",
    "version": 3
   },
   "file_extension": ".py",
   "mimetype": "text/x-python",
   "name": "python",
   "nbconvert_exporter": "python",
   "pygments_lexer": "ipython3",
   "version": "3.8.16"
  }
 },
 "nbformat": 4,
 "nbformat_minor": 5
}
