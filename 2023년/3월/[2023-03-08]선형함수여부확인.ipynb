{
 "cells": [
  {
   "cell_type": "markdown",
   "id": "c7d43b96",
   "metadata": {},
   "source": [
    "## 선형함수는 아래의 두가지 조건을 만족한다."
   ]
  },
  {
   "cell_type": "markdown",
   "id": "d390390f",
   "metadata": {},
   "source": [
    "## 만약 두가지 조건을 만족하지 않을 경우 비선형함수라고 판단하면 된다."
   ]
  },
  {
   "cell_type": "markdown",
   "id": "2d1de19c",
   "metadata": {},
   "source": [
    "### 1. f(x1 + x2) = f(x1) + f(x2)\n",
    "### 2. f(kx) = kf(x)"
   ]
  },
  {
   "cell_type": "markdown",
   "id": "fb5ee538",
   "metadata": {},
   "source": [
    "#### 선형함수의 여부를 확인할 때 bias항을 빼고 확인하자. bias항을 추가할 경우 함수의 값이 다르게 나타난다."
   ]
  },
  {
   "cell_type": "code",
   "execution_count": 1,
   "id": "e33f4012",
   "metadata": {},
   "outputs": [],
   "source": [
    "# y = 2x가 선형함수인지 확인\n",
    "# f(x)를 구하는 함수\n",
    "\n",
    "def myFunc(x):\n",
    "    y = 2*x\n",
    "    return y"
   ]
  },
  {
   "cell_type": "code",
   "execution_count": 2,
   "id": "e5e6766e",
   "metadata": {},
   "outputs": [
    {
     "name": "stdout",
     "output_type": "stream",
     "text": [
      "함수는 선형함수입니다.\n"
     ]
    }
   ],
   "source": [
    "# 선형함수인지 확인하는 함수\n",
    "\n",
    "def isLinear(x1, x2, k):\n",
    "    \n",
    "    cond1 = False\n",
    "    cond2 = False\n",
    "    \n",
    "    result1 = myFunc(x1 + x2)\n",
    "    result2 = myFunc(x1) + myFunc(x2)\n",
    "    result3 = myFunc(k*x1)\n",
    "    result4 = k * myFunc(x1)\n",
    "    \n",
    "    if result1 == result2:\n",
    "        cond1 = True\n",
    "        \n",
    "    if result3 == result4:\n",
    "        cond2 = True\n",
    "        \n",
    "    if cond1 and cond2:\n",
    "        return True\n",
    "    else:\n",
    "        return False\n",
    "    \n",
    "# 난수를 사용하여 증명한다\n",
    "import random\n",
    "counter = 0\n",
    "for i in range(100):\n",
    "    x1 = random.randrange(1, 200)\n",
    "    x2 = random.randrange(10, 300)\n",
    "    k = random.randrange(1, 20)\n",
    "    \n",
    "    result = isLinear(x1, x2, k)\n",
    "    if result == True:\n",
    "        # print('함수는 선형함수 입니다.')\n",
    "        counter += 1\n",
    "    else:\n",
    "        print('함수는 비선형함수 입니다.')\n",
    "        break\n",
    "        \n",
    "if counter == 100:\n",
    "    print('함수는 선형함수입니다.')"
   ]
  },
  {
   "cell_type": "code",
   "execution_count": null,
   "id": "89939928",
   "metadata": {},
   "outputs": [],
   "source": []
  }
 ],
 "metadata": {
  "kernelspec": {
   "display_name": "Python 3 (ipykernel)",
   "language": "python",
   "name": "python3"
  },
  "language_info": {
   "codemirror_mode": {
    "name": "ipython",
    "version": 3
   },
   "file_extension": ".py",
   "mimetype": "text/x-python",
   "name": "python",
   "nbconvert_exporter": "python",
   "pygments_lexer": "ipython3",
   "version": "3.8.16"
  }
 },
 "nbformat": 4,
 "nbformat_minor": 5
}
