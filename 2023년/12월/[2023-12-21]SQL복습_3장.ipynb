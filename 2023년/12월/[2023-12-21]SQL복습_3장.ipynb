{
 "cells": [
  {
   "cell_type": "markdown",
   "id": "3271bd0a-be54-43b8-babe-b3d64ce15590",
   "metadata": {},
   "source": [
    "# 데이터 추가, 삭제, 갱신, 데이터 정합성"
   ]
  },
  {
   "cell_type": "markdown",
   "id": "46a2241f-a98a-4b02-b276-3480745d307a",
   "metadata": {},
   "source": [
    "## INSERT: 행 추가하기"
   ]
  },
  {
   "cell_type": "markdown",
   "id": "90ad5fb5-9a50-41d3-b502-8cbabaa6252a",
   "metadata": {},
   "source": [
    "* 테이블에 데이터를 추가하고자 할 때 INSERT구문을 사용하면 된다."
   ]
  },
  {
   "cell_type": "code",
   "execution_count": null,
   "id": "09c32294-1e4d-4183-97a6-6bad8dd8b725",
   "metadata": {},
   "outputs": [],
   "source": [
    "# 예시 구문\n",
    "INSERT INTO table_name (column1, column2, column3, ...) VALUES\n",
    "(value1, value2, value3);"
   ]
  },
  {
   "cell_type": "code",
   "execution_count": null,
   "id": "2a20f384-db3d-45a8-ac35-5c56c4e8c982",
   "metadata": {},
   "outputs": [],
   "source": [
    "# 여러 줄을 추가하고자 할 때\n",
    "INSERT INTO table_name (column1, column2, column3, ...) VALUES\n",
    "(value1, value2, value3, ...),\n",
    "(value4, value5, value6, ...);"
   ]
  },
  {
   "cell_type": "markdown",
   "id": "26ca7cb2-5c09-4f0c-80b2-bfd34a4885fb",
   "metadata": {},
   "source": [
    "## DELETE: 행 삭제하기"
   ]
  },
  {
   "cell_type": "markdown",
   "id": "d6afab1a-75d2-40c6-989e-d491f8ce3c8e",
   "metadata": {},
   "source": [
    "* 데이터의 행을 삭제하고자 할 때 DELETE구문을 사용하면 된다."
   ]
  },
  {
   "cell_type": "code",
   "execution_count": null,
   "id": "583d06bf-845c-4799-b456-0f155dec0200",
   "metadata": {},
   "outputs": [],
   "source": [
    "# 예시 구문\n",
    "DELETE FROM table_name\n",
    "WHERE some_column = some_value;"
   ]
  },
  {
   "cell_type": "markdown",
   "id": "17b9ef24-1131-4193-b182-2e92f17acf55",
   "metadata": {},
   "source": [
    "* 데이터를 삭제하는 데 WHERE절이 사용되는 이유는 데이터를 삭제할 때 어떤 데이터를 삭제하라는 조건이 필요할 경우가 존재하기 때문이다."
   ]
  },
  {
   "cell_type": "code",
   "execution_count": null,
   "id": "3520ca3d-11ef-4f8e-80dd-0dbe8eccf5dd",
   "metadata": {},
   "outputs": [],
   "source": [
    "# 특정 조건에 대한 데이터 행 삭제\n",
    "DELETE FROM table_name\n",
    "WHERE 상품 번호 = 'a003';"
   ]
  },
  {
   "cell_type": "code",
   "execution_count": null,
   "id": "6017eea0-3145-4d68-a8d0-b436de310586",
   "metadata": {},
   "outputs": [],
   "source": [
    "# 성별이 'f'인 데이터를 모두 삭제하게 될 경우\n",
    "DELETE FROM PRODUCT\n",
    "WHERE 성별 = 'f';"
   ]
  },
  {
   "cell_type": "markdown",
   "id": "a11cf44e-00cb-416e-bca8-c5b96940df16",
   "metadata": {},
   "source": [
    "* 위 쿼리를 실행하게 되면 성별이 'f'인 데이터가 모두 삭제되므로 데이터를 삭제하는 경우 신중히 작업해야 한다."
   ]
  },
  {
   "cell_type": "markdown",
   "id": "395ee658-39e5-4c4f-9bb9-8a6c6f0b49a2",
   "metadata": {},
   "source": [
    "## UPDATE: 데이터 갱신하기"
   ]
  },
  {
   "cell_type": "markdown",
   "id": "4b91ca3e-c5a8-4499-8a3e-bd8c18debe66",
   "metadata": {},
   "source": [
    "* 데이터의 값을 변경하고자 할 때 UPDATE구문을 사용한다."
   ]
  },
  {
   "cell_type": "code",
   "execution_count": null,
   "id": "08c38246-ba7d-468c-aaae-465cf77b080a",
   "metadata": {},
   "outputs": [],
   "source": [
    "# 예시 구문\n",
    "UPDATE table_name\n",
    "SET column_name = 'new_value'\n",
    "WHERE condition;"
   ]
  },
  {
   "cell_type": "markdown",
   "id": "137a337d-27fd-4a8d-96c2-1b2fdfcd704f",
   "metadata": {},
   "source": [
    "* 데이터를 업데이트 할 때도 특정 조건을 만족하는 데이터를 갱신하는 경우가 많다."
   ]
  },
  {
   "cell_type": "code",
   "execution_count": null,
   "id": "2411fd24-97c8-4e54-84fe-86cabfd64a7e",
   "metadata": {},
   "outputs": [],
   "source": [
    "# 특정 조건의 데이터를 업데이트\n",
    "UPDATE product\n",
    "SET 원가 = 70000\n",
    "WHERE 상품 번호 = 'a002';\n",
    "\n",
    "UPDATE product\n",
    "SET 원가 = 70000\n",
    "카테고리 = '피트니스'\n",
    "WHERE 상품 번호 = 'a002';"
   ]
  },
  {
   "cell_type": "markdown",
   "id": "d32acb53-81ab-4abf-907a-ddeee43e57f5",
   "metadata": {},
   "source": [
    "## PROCEDURE"
   ]
  },
  {
   "cell_type": "markdown",
   "id": "52094d01-0785-484a-b121-3716374690f2",
   "metadata": {},
   "source": [
    "* 매크로처럼 반복되는 내용을 하나의 단위로 생성할 수 있는데, 이를 PROCEDURE라고 한다."
   ]
  },
  {
   "cell_type": "code",
   "execution_count": null,
   "id": "29bed147-8a9e-4b1c-bf00-b649f396461f",
   "metadata": {},
   "outputs": [],
   "source": [
    "# 취소가 'Y'인 데이터의 매출액에 -1을 곱하면 매출액을 음수로 변경\n",
    "UPDATE product\n",
    "SET 원가 = (-1)*원가\n",
    "WHERE 취소 여부 = 'Y';"
   ]
  },
  {
   "cell_type": "markdown",
   "id": "5ee9eba4-890b-46c8-a202-5d0686efcbea",
   "metadata": {},
   "source": [
    "* 위 쿼리를 오늘 실행하고 내일도 실행한다면 다음의 절차로 이뤄질 것이다.\n",
    "* 예를 들어, 2023.01.01에 실행하게 되면 2023.01.01까지의 매출 건 중 취소 여부가 'Y'인 데이터의 원가가 음수(-)처리된다.\n",
    "* 위 요청은 매일 처리되는 일 배치이므로 2023.01.02 매출 건에도 실행되어야 한다.\n",
    "* 2023.01.02에 해당 쿼리를 사용하면 다음과 같이 작성할 수 있다."
   ]
  },
  {
   "cell_type": "code",
   "execution_count": null,
   "id": "39bce9d1-0f41-4e4e-b0c6-256fc4d1cfa4",
   "metadata": {},
   "outputs": [],
   "source": [
    "# 2023.01.02에 위 쿼리를 활용\n",
    "UPDATE product\n",
    "SET 원가 = (-1)*원가\n",
    "WHERE 취소 여부 = 'Y';\n",
    "AND 판매 일자 = CURDATE() - 1;"
   ]
  },
  {
   "cell_type": "markdown",
   "id": "cb78370e-5d0e-406e-a12b-cd771345b64b",
   "metadata": {},
   "source": [
    "* 2023.01.01의 취소 건의 원가에 다시 -1이 곱해지므로 2023.01.01 취소 건의 원가는 +가 된다.\n",
    "* 이런 과정이 반복될 것이므로 한 가지 조건이 더 추가되어야 한다.\n",
    "* **CURDATE**: 현재 일자를 알려주는 MySQL함수"
   ]
  },
  {
   "cell_type": "code",
   "execution_count": null,
   "id": "a2235720-3e67-44f3-9a53-a63d2e6a7ed9",
   "metadata": {},
   "outputs": [],
   "source": [
    "# 프로시저 생성 예시 구문\n",
    "DELIMITER $$\n",
    "CREATE PROCEDURE 프로시저 명()\n",
    "BEGIN\n",
    "쿼리;\n",
    "END $$\n",
    "DELIMITER ;"
   ]
  },
  {
   "cell_type": "markdown",
   "id": "af206324-70d4-4734-a18a-86496c9fcd3d",
   "metadata": {},
   "source": [
    "* 위에 반복했던 쿼리를 sales_minus라는 프로시저이름으로 생성해보면 아래와 같다."
   ]
  },
  {
   "cell_type": "code",
   "execution_count": null,
   "id": "a47d9325-3219-4382-b99c-f723cb7387f5",
   "metadata": {},
   "outputs": [],
   "source": [
    "# sales_minus라는 이름의 프로시저 생성\n",
    "DELIMITER $$\n",
    "CREATE PROCEDURE sales_minus()\n",
    "BEGIN\n",
    "UPDATE product\n",
    "SET 원가 = (-1)*원가\n",
    "WHERE 취소 여부 = 'Y';\n",
    "AND 판매 일자 = CURDATE() - 1\n",
    "END $$\n",
    "DELIMITER ;"
   ]
  },
  {
   "cell_type": "markdown",
   "id": "42245a03-03ad-4070-9b8f-c6776b6045d0",
   "metadata": {},
   "source": [
    "## VIEW"
   ]
  },
  {
   "cell_type": "markdown",
   "id": "0decd1a0-f07d-4cb6-b711-e1158d61ae74",
   "metadata": {},
   "source": [
    "* VIEW는 테이블을 직접 생성하지 않고 SELECT 문의 출력 결과를 보여준다."
   ]
  },
  {
   "cell_type": "code",
   "execution_count": null,
   "id": "4d0955db-3c72-429b-a3b5-5f26e1838791",
   "metadata": {},
   "outputs": [],
   "source": [
    "# 기존 쿼리문\n",
    "SELECT 주문 번호\n",
    "FROM DB.SALES\n",
    "WHERE 취소 여부 = 'Y';"
   ]
  },
  {
   "cell_type": "markdown",
   "id": "030cb832-ceff-439f-9575-7bc7f4260c14",
   "metadata": {},
   "source": [
    "* 위 쿼리를 실행하면 SALES 테이블에서 최소여부가 'Y'인 데이터만 조회될 것이다.\n",
    "* 하지만 보안상의 이유로 우리는 협력사에 SALES 테이블을 조회할 수 있는 권한을 줄 수 없다.\n",
    "* 이때 VIEW로 문제를 해결할 수 있다."
   ]
  },
  {
   "cell_type": "code",
   "execution_count": null,
   "id": "cc51032c-3932-4571-93b5-6cef6d35280e",
   "metadata": {},
   "outputs": [],
   "source": [
    "# 뷰 사용 예시 구문\n",
    "CREATE VIEW DB.view_name\n",
    "AS\n",
    "SELECT-STATEMENT;"
   ]
  },
  {
   "cell_type": "code",
   "execution_count": null,
   "id": "0036c46e-140a-4dc0-be66-b0760eb760bb",
   "metadata": {},
   "outputs": [],
   "source": [
    "# cancel_prodno라는 뷰 생성\n",
    "CREATE VIEW DB.cancel_prodno\n",
    "AS\n",
    "SELECT 주문 번호\n",
    "FROM DB.SALES\n",
    "WHERE 취소 여부 = 'Y';"
   ]
  },
  {
   "cell_type": "markdown",
   "id": "ae9d1de7-b9ff-4bdd-8022-69e5b3d87512",
   "metadata": {},
   "source": [
    "* 생성된 View는 테이블과 동일하게 사용 가능하다."
   ]
  },
  {
   "cell_type": "code",
   "execution_count": null,
   "id": "45ea5545-29c1-4979-bee5-8cbd89b39ad8",
   "metadata": {},
   "outputs": [],
   "source": [
    "# 생성된 뷰는 테이블과 동일하게 사용 가능\n",
    "SELECT *\n",
    "FROM DB.cancel_prodno;"
   ]
  },
  {
   "cell_type": "markdown",
   "id": "40b11464-ca4e-49cb-b2a6-a6959d9b5aba",
   "metadata": {},
   "source": [
    "### VIEW의 특징"
   ]
  },
  {
   "cell_type": "markdown",
   "id": "a7518e8a-d83a-40f3-8422-5daa9c060272",
   "metadata": {},
   "source": [
    "* 가상의 테이블, 사용자의 입장에서는 테이블과 동일하게 보이지만, 뷰는 실제 데이터를 가지고 있지 않음\n",
    "* 실제 테이블에 링크되는 개념임\n",
    "* 엑세스 제한을 위해서 주로 사용(테이블 자체적으로는 행, 열 단위로 권한 부여할 수 없음)"
   ]
  },
  {
   "cell_type": "markdown",
   "id": "f9e75e99-7410-47dd-aaf9-5aefe155f332",
   "metadata": {},
   "source": [
    "## 데이터 정합성"
   ]
  },
  {
   "cell_type": "markdown",
   "id": "80eca22e-33e6-42fc-b495-2afc07ee8cc9",
   "metadata": {},
   "source": [
    "* 데이터 정합성: 데이터의 값이 일치함을 의미\n",
    "* 예를 들어, 매출 테이블에서 연도별 매출을 계산한다는 것 -> 전체 매출을 연도별로 나눈다는 것 의미\n",
    "* 반대로 연도별로 나눈 매출의 합은 전체 매출과 같아야 한다."
   ]
  },
  {
   "cell_type": "markdown",
   "id": "f8f04878-35fe-465a-aab2-bbc007fe732a",
   "metadata": {},
   "source": [
    "## MICE란?"
   ]
  },
  {
   "cell_type": "markdown",
   "id": "7c6e3435-f97c-41e3-af81-6dcf46189c15",
   "metadata": {},
   "source": [
    "* 각 항목들이 상호 배타적이면서 모였을 때는 완전하게 합쳐지는 것\n",
    "* 대부분의 분석은 전체에서 부분으로 나누어 살펴보게 된다. 이때 부분의 합은 전체와 일치해야 한다.\n",
    "* 분석하다 보면 부분의 합이 전체의 합보다 크거나 작은 경우가 빈번히 발생한다.\n",
    "* 데이터 신뢰성을 확보하여면 부분의 합이 전체와 일치하는지 항상 확인하면서 분석을 진행해야 한다.\n",
    "* 매번 데이터를 출력할 때마다 정합성을 확인한다는 것이 번거로우나, 장기적으로 손해보는 일이 아니므로 항상 정합성을 확인하는 습관을 기르는 것이 좋다."
   ]
  }
 ],
 "metadata": {
  "kernelspec": {
   "display_name": "Python 3 (ipykernel)",
   "language": "python",
   "name": "python3"
  },
  "language_info": {
   "codemirror_mode": {
    "name": "ipython",
    "version": 3
   },
   "file_extension": ".py",
   "mimetype": "text/x-python",
   "name": "python",
   "nbconvert_exporter": "python",
   "pygments_lexer": "ipython3",
   "version": "3.8.18"
  }
 },
 "nbformat": 4,
 "nbformat_minor": 5
}
