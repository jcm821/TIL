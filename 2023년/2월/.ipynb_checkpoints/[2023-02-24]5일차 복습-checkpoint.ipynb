{
 "cells": [
  {
   "cell_type": "markdown",
   "id": "89672705",
   "metadata": {},
   "source": [
    "## 카페에서 주문을 받고 제품을 내주는 과정을 시뮬레이션 하고, log.txt파일로 기록을 남기는 프로그램"
   ]
  },
  {
   "cell_type": "markdown",
   "id": "e880e630",
   "metadata": {},
   "source": [
    "### 1. 메뉴를 출력한다\n",
    "1. 아메리카노\n",
    "2. 카페라떼\n",
    "3. 바닐라라떼\n",
    "4. 녹차라떼\n",
    "5. 콜드브루\n",
    "\n",
    "### 2. 주문을 받는다\n",
    "input()함수를 사용해서 키보드입력을 통해 주문을 받는다\n",
    "\n",
    "### 3. 음료를 만드는데 시간 부여하기\n",
    "sleep()함수를 통해서 만드는 시간 모델링\n",
    "1. 1초\n",
    "2. 2초\n",
    "3. 3초\n",
    "4. 3초\n",
    "5. 1초\n",
    "\n",
    "### 4. 음료가 만들어지면 log.txt파일에 남긴다\n"
   ]
  },
  {
   "cell_type": "markdown",
   "id": "f2d128f2",
   "metadata": {},
   "source": []
  },
  {
   "cell_type": "code",
   "execution_count": 1,
   "id": "73625ef0",
   "metadata": {},
   "outputs": [
    {
     "name": "stdout",
     "output_type": "stream",
     "text": [
      "===================\n",
      "1.아메리카노\n",
      "2. 카페라떼\n",
      "3. 바닐라라떼\n",
      "4. 녹차라떼\n",
      "5. 콜드브루\n",
      "===================\n"
     ]
    }
   ],
   "source": [
    "# 1. 출력할 메뉴판을 만든다\n",
    "def printMenu():\n",
    "    print('===================')\n",
    "    print('1.아메리카노')\n",
    "    print('2. 카페라떼')\n",
    "    print('3. 바닐라라떼')\n",
    "    print('4. 녹차라떼')\n",
    "    print('5. 콜드브루')\n",
    "    print('===================')\n",
    "    \n",
    "printMenu()"
   ]
  },
  {
   "cell_type": "code",
   "execution_count": 4,
   "id": "5e50caf6",
   "metadata": {},
   "outputs": [],
   "source": [
    "# 2. 주문 입력을 위한 입력문 만들기\n",
    "# 입력 받을 때는 문자열인데, int()함수를 사용해서 데이터 형을 정수로 변경\n",
    "# 메뉴에는 보이지 않는 'exit'문자열을 입력으로 받으면 프로그램을 종료\n",
    "def inputKey():\n",
    "    opened = True\n",
    "    myinput = input()\n",
    "    if myinput != 'exit':\n",
    "        inputMenu = int(myinput)\n",
    "    else:\n",
    "        opened = False\n",
    "        inputMenu = None\n",
    "    \n",
    "    return opened, inputMenu\n",
    "\n",
    "    "
   ]
  },
  {
   "cell_type": "code",
   "execution_count": null,
   "id": "a57a9843",
   "metadata": {},
   "outputs": [],
   "source": [
    "# 과제: 만약 숫자가 아닌 입력문자열이 들어온 경우, 이것을 어떻게 걸러낼 것인가?\n",
    "# 이부분을 알았다면 위코드에 접목해보자"
   ]
  },
  {
   "cell_type": "markdown",
   "id": "0e1cda4f",
   "metadata": {},
   "source": [
    "#### 난수 생성(random)\n",
    "import random\n",
    "* random.randrange(start, stop, step): start부터 stop까지 단계별로 난수 생성\n",
    "* randint(a,b): a부터 b까지의 난수 생성\n",
    "* random.random(): 0과 1사이의 임의의 소수\n",
    "* random.shuffle(): 이미 정의된 리스트형 자료를 섞는다(셔플)\n",
    "* random.choice(): 랜덤으로 하나를 선택(초이스)\n"
   ]
  },
  {
   "cell_type": "code",
   "execution_count": 54,
   "id": "3e50cd4f",
   "metadata": {},
   "outputs": [
    {
     "name": "stdout",
     "output_type": "stream",
     "text": [
      "[20, 12, 4, 16, 6, 10, 18, 1, 11, 15, 0, 7, 8, 2, 9, 3, 17, 13, 5, 14, 19]\n"
     ]
    }
   ],
   "source": [
    "# 중복되지 않는 난수생성\n",
    "import random\n",
    "myList = []\n",
    "num = random.randrange(0, 21)\n",
    "for i in range(21):\n",
    "    # 중복될 경우\n",
    "    while num in myList:\n",
    "        # 난수 다시 생성\n",
    "        num = random.randrange(0, 21)\n",
    "    myList.append(num)\n",
    "    # 중복 되지 않은 경우만 추가\n",
    "\n",
    "# myList.sort() -> 정렬하고자 할때\n",
    "print(myList)"
   ]
  },
  {
   "cell_type": "code",
   "execution_count": 5,
   "id": "994a7999",
   "metadata": {},
   "outputs": [],
   "source": [
    "# 2-1. 입력값을 랜덤한 난수로 받고자 할 때\n",
    "# input()함수를 대신해서 1~5사이의 메뉴번호를 자동으로 입력하게 만들 수 있다\n",
    "import random\n",
    "def autoKey():\n",
    "    inputMenu = random.randrange(1, 6)\n",
    "    \n",
    "    return inputMenu"
   ]
  },
  {
   "cell_type": "code",
   "execution_count": 8,
   "id": "2170cf11",
   "metadata": {},
   "outputs": [],
   "source": [
    "# 3. 커피 만드는 시간 모델링\n",
    "import time\n",
    "\n",
    "def makeCoffee(menuNum):\n",
    "    if menuNum == 1:\n",
    "        time.sleep(1)\n",
    "    elif menuNum == 2:\n",
    "        time.sleep(2)\n",
    "    elif menuNum == 3:\n",
    "        time.sleep(3)\n",
    "    elif menuNum == 4:\n",
    "        time.sleep(3)\n",
    "    elif menuNum == 5:\n",
    "        time.sleep(1)\n",
    "        \n",
    "    return menuNum"
   ]
  },
  {
   "cell_type": "code",
   "execution_count": 46,
   "id": "a10de44e",
   "metadata": {},
   "outputs": [],
   "source": [
    "# 4. 프로그램이 새롭게 시작되면 기존 로그는 지우고, 새롭게 저장한다\n",
    "# 또한, 파일을 열어 로그를 추가할 함수까지 만들어준다\n",
    "def newLog():\n",
    "    f = open('./log.txt', 'w', encoding = 'utf-8')\n",
    "    f.close\n",
    "\n",
    "def writeLog(makedCoffee):\n",
    "    f = open('./log.txt', 'a', encoding = 'utf-8')\n",
    "    f.write('주문하신 {}가 완성 되었습니다\\n'.format(menuDict[makedCoffee]))\n",
    "    f.close()"
   ]
  },
  {
   "cell_type": "code",
   "execution_count": 47,
   "id": "3f084fb8",
   "metadata": {
    "scrolled": true
   },
   "outputs": [
    {
     "name": "stdout",
     "output_type": "stream",
     "text": [
      "===================\n",
      "1.아메리카노\n",
      "2. 카페라떼\n",
      "3. 바닐라라떼\n",
      "4. 녹차라떼\n",
      "5. 콜드브루\n",
      "===================\n",
      "1\n",
      "===================\n",
      "1.아메리카노\n",
      "2. 카페라떼\n",
      "3. 바닐라라떼\n",
      "4. 녹차라떼\n",
      "5. 콜드브루\n",
      "===================\n",
      "2\n",
      "===================\n",
      "1.아메리카노\n",
      "2. 카페라떼\n",
      "3. 바닐라라떼\n",
      "4. 녹차라떼\n",
      "5. 콜드브루\n",
      "===================\n",
      "3\n",
      "===================\n",
      "1.아메리카노\n",
      "2. 카페라떼\n",
      "3. 바닐라라떼\n",
      "4. 녹차라떼\n",
      "5. 콜드브루\n",
      "===================\n",
      "1\n",
      "===================\n",
      "1.아메리카노\n",
      "2. 카페라떼\n",
      "3. 바닐라라떼\n",
      "4. 녹차라떼\n",
      "5. 콜드브루\n",
      "===================\n",
      "exit\n"
     ]
    }
   ],
   "source": [
    "# 5. 이제 위의 함수를 토대로 조건에 맞게 실행해준다\n",
    "# while문을 활용한다\n",
    "import time\n",
    "\n",
    "opened = True\n",
    "\n",
    "menuDict = {1:'아메리카노', 2:'카페라떼', 3:'바닐라라떼', 4:'녹차라떼', 5:'콜드브루'}\n",
    "\n",
    "newLog()\n",
    "\n",
    "while True:\n",
    "    \n",
    "    # 1. 메뉴 출력하기\n",
    "    printMenu()\n",
    "    \n",
    "    # 2. 주문을 받음\n",
    "    opened, inputMenu = inputKey()\n",
    "    # 만약 autokey를 사용할 때s\n",
    "    # inputMenu = autoKey()만 실행해주면 된다\n",
    "    \n",
    "    # 2-1. 키보드로부터 'exit'가 들어오면 프로그램 종료\n",
    "    if opened == False:\n",
    "        break\n",
    "        \n",
    "    # 3. 커피만들기(실제로는 커피 만드는 시간 모델링)\n",
    "    makedCoffee = makeCoffee(inputMenu)\n",
    "    \n",
    "    # 4. 완성된 커피로그를 log.txt에 기록 님기기\n",
    "    writeLog(makedCoffee)\n",
    "    "
   ]
  },
  {
   "cell_type": "markdown",
   "id": "a95d58ad",
   "metadata": {},
   "source": [
    "### 카페 시뮬레이션함수를 클래스로 응용하기"
   ]
  },
  {
   "cell_type": "code",
   "execution_count": 52,
   "id": "b2258c96",
   "metadata": {
    "scrolled": true
   },
   "outputs": [],
   "source": [
    "\n",
    "import time\n",
    "import random\n",
    "# 클래스 생성\n",
    "class cafeSim:\n",
    "    # 생성자 __init__함수를 통해 초기값 설정 및 초기화 \n",
    "    # def setInfo(self, cafeName, cafeOpenTime, cafeCloseTime):\n",
    "    def __init__(self, cafeName, cafeOpenTime, cafeCloseTime):\n",
    "        self.cafeName = cafeName\n",
    "        self.cafeOpenTime = cafeOpenTime\n",
    "        self.cafeCloseTime = cafeCloseTime\n",
    "        # 객체 생성시 파일을 초기화 하기 위해 생성자 함수에 newLog함수를 넣어줌\n",
    "        self.newLog()\n",
    "        \n",
    "    # 카페 정보를 출력해주는 멤버함수\n",
    "    def printInfo(self):\n",
    "        print(\"카페이름 : {}\".format(self.cafeName))\n",
    "        print(\"카페시작시간 : {}\".format(self.cafeOpenTime))\n",
    "        print(\"카페마감시간 : {}\".format(self.cafeCloseTime))\n",
    "    \n",
    "    # 출력값을 리턴해주는 함수\n",
    "    def getInfo(self):\n",
    "        return self.cafeName, self.cafeOpenTime, self.cafeCloseTime\n",
    "    \n",
    "    \n",
    "    # 카페 메뉴를 출력해주는 멤버함수\n",
    "    def printMenu(self):\n",
    "        print(\"==================================\")\n",
    "        print(\"1. 아메리카노\")\n",
    "        print(\"2. 카페라떼\")\n",
    "        print(\"3. 바닐라라떼\")\n",
    "        print(\"4. 녹차라떼\")\n",
    "        print('5. 콜드브루')\n",
    "        print(\"==================================\")\n",
    "    \n",
    "    # 주문번호를 난수를 통해 자동입력해주는 멤버함수\n",
    "    def autoKey(self):\n",
    "        self.inputMenu = random.randrange(1, 6)\n",
    "        self.done = False\n",
    "        print(self.inputMenu)\n",
    "    \n",
    "    \n",
    "    # 커피 만드는 소요시간을 지정해주는 멤버함수\n",
    "    def makeCoffee(self):\n",
    "        if self.inputMenu==1:\n",
    "            time.sleep(1)\n",
    "        elif self.inputMenu==2:\n",
    "            time.sleep(2)\n",
    "        elif self.inputMenu==3:\n",
    "            time.sleep(3)\n",
    "        elif self.inputMenu==4:\n",
    "            time.sleep(3)\n",
    "        elif self.inputMenu==5:\n",
    "            time.sleep(1)\n",
    "        \n",
    "        self.done = True\n",
    "    \n",
    "    # 커피 주문 정보를 남기기 위한 멤버함수들\n",
    "    def newLog(self):\n",
    "        f = open(\"./log.txt\", 'w', encoding = 'utf-8')\n",
    "        f.close()\n",
    "\n",
    "    def writeLog(self):\n",
    "        # append 모드로 파일 열기\n",
    "        f = open(\"./log.txt\", 'a', encoding = 'utf-8')\n",
    "        f.write(\"주문하신 {}가 완성 되었습니다\\n\".format(menuDict[self.inputMenu]))\n",
    "        f.close()    \n",
    "  \n",
    "\n",
    "\n",
    "cafeName1 = \"오늘\"\n",
    "cafeOpenTime1 = \"9:00\"\n",
    "cafeCloseTime1 = \"21:00\"\n",
    "\n",
    "cafeName2 = \"내일\"\n",
    "cafeOpenTime2 = \"10:00\"\n",
    "cafeCloseTime2 = \"20:00\""
   ]
  },
  {
   "cell_type": "code",
   "execution_count": 53,
   "id": "cdfe41f6",
   "metadata": {
    "scrolled": true
   },
   "outputs": [
    {
     "name": "stdout",
     "output_type": "stream",
     "text": [
      "카페이름 : 오늘\n",
      "카페시작시간 : 9:00\n",
      "카페마감시간 : 21:00\n",
      "==================================\n",
      "1. 아메리카노\n",
      "2. 카페라떼\n",
      "3. 바닐라라떼\n",
      "4. 녹차라떼\n",
      "5. 콜드브루\n",
      "==================================\n",
      "==================================\n",
      "1. 아메리카노\n",
      "2. 카페라떼\n",
      "3. 바닐라라떼\n",
      "4. 녹차라떼\n",
      "5. 콜드브루\n",
      "==================================\n",
      "5\n",
      "==================================\n",
      "1. 아메리카노\n",
      "2. 카페라떼\n",
      "3. 바닐라라떼\n",
      "4. 녹차라떼\n",
      "5. 콜드브루\n",
      "==================================\n",
      "5\n",
      "==================================\n",
      "1. 아메리카노\n",
      "2. 카페라떼\n",
      "3. 바닐라라떼\n",
      "4. 녹차라떼\n",
      "5. 콜드브루\n",
      "==================================\n",
      "1\n",
      "==================================\n",
      "1. 아메리카노\n",
      "2. 카페라떼\n",
      "3. 바닐라라떼\n",
      "4. 녹차라떼\n",
      "5. 콜드브루\n",
      "==================================\n",
      "2\n"
     ]
    },
    {
     "ename": "KeyboardInterrupt",
     "evalue": "",
     "output_type": "error",
     "traceback": [
      "\u001b[1;31m---------------------------------------------------------------------------\u001b[0m",
      "\u001b[1;31mKeyboardInterrupt\u001b[0m                         Traceback (most recent call last)",
      "Cell \u001b[1;32mIn [53], line 23\u001b[0m\n\u001b[0;32m     20\u001b[0m myCafe\u001b[38;5;241m.\u001b[39mautoKey()\n\u001b[0;32m     22\u001b[0m \u001b[38;5;66;03m# 3. 커피 만들기(실제는 커피 만드는 시간 모델링)\u001b[39;00m\n\u001b[1;32m---> 23\u001b[0m \u001b[43mmyCafe\u001b[49m\u001b[38;5;241;43m.\u001b[39;49m\u001b[43mmakeCoffee\u001b[49m\u001b[43m(\u001b[49m\u001b[43m)\u001b[49m\n\u001b[0;32m     25\u001b[0m \u001b[38;5;66;03m# 4. 커피가 완성되면 log.txt에 기록 남기기\u001b[39;00m\n\u001b[0;32m     26\u001b[0m myCafe\u001b[38;5;241m.\u001b[39mwriteLog()\n",
      "Cell \u001b[1;32mIn [52], line 47\u001b[0m, in \u001b[0;36mcafeSim.makeCoffee\u001b[1;34m(self)\u001b[0m\n\u001b[0;32m     45\u001b[0m     time\u001b[38;5;241m.\u001b[39msleep(\u001b[38;5;241m1\u001b[39m)\n\u001b[0;32m     46\u001b[0m \u001b[38;5;28;01melif\u001b[39;00m \u001b[38;5;28mself\u001b[39m\u001b[38;5;241m.\u001b[39minputMenu\u001b[38;5;241m==\u001b[39m\u001b[38;5;241m2\u001b[39m:\n\u001b[1;32m---> 47\u001b[0m     \u001b[43mtime\u001b[49m\u001b[38;5;241;43m.\u001b[39;49m\u001b[43msleep\u001b[49m\u001b[43m(\u001b[49m\u001b[38;5;241;43m2\u001b[39;49m\u001b[43m)\u001b[49m\n\u001b[0;32m     48\u001b[0m \u001b[38;5;28;01melif\u001b[39;00m \u001b[38;5;28mself\u001b[39m\u001b[38;5;241m.\u001b[39minputMenu\u001b[38;5;241m==\u001b[39m\u001b[38;5;241m3\u001b[39m:\n\u001b[0;32m     49\u001b[0m     time\u001b[38;5;241m.\u001b[39msleep(\u001b[38;5;241m3\u001b[39m)\n",
      "\u001b[1;31mKeyboardInterrupt\u001b[0m: "
     ]
    }
   ],
   "source": [
    "# 클래스의 객체 생성 -> __init__()함수를 호출\n",
    "myCafe = cafeSim(cafeName1, cafeOpenTime1, cafeCloseTime1)\n",
    "yourCafe = cafeSim(cafeName2, cafeOpenTime2, cafeCloseTime2)\n",
    "\n",
    "myCafe.printInfo()\n",
    "myCafe.printMenu()\n",
    "\n",
    "\n",
    "opened = True\n",
    "\n",
    "menuDict = {1:'아메리카노', 2:'카페라떼', 3:'바닐라라떼', 4:'녹차라떼', 5:'콜드브루'}\n",
    "\n",
    "while True:\n",
    "\n",
    "    # 1. 메뉴 출력하기\n",
    "    myCafe.printMenu()\n",
    "\n",
    "    # 2. 주문을 받음\n",
    "    #opened, inputMenu = inputKey()\n",
    "    myCafe.autoKey()\n",
    "\n",
    "    # 3. 커피 만들기(실제는 커피 만드는 시간 모델링)\n",
    "    myCafe.makeCoffee()\n",
    "\n",
    "    # 4. 커피가 완성되면 log.txt에 기록 남기기\n",
    "    myCafe.writeLog()\n",
    "\n",
    "\n",
    "# # 카페 정보 입력하기\n",
    "# yourCafe.setInfo(cafeName, cafeOpenTime, cafeCloseTime)\n",
    "# yourCafe.printInfo()"
   ]
  },
  {
   "cell_type": "markdown",
   "id": "657e2fe6",
   "metadata": {},
   "source": [
    "## 클래스의 상속\n",
    "### 클래스를 하나 만들고  이것을 기본 클래스로 해서 상속을 받는다"
   ]
  },
  {
   "cell_type": "code",
   "execution_count": 28,
   "id": "5d65ebae",
   "metadata": {},
   "outputs": [],
   "source": [
    "class calc:\n",
    "    # 객체가 생성될 때 init함수 호출\n",
    "    # 클래스의 객체를 사용하기 전에 초기화 동작\n",
    "    def __init__(self):\n",
    "        # 3 + 4 = 7\n",
    "        # 3과 4는 operand\n",
    "        self.op1 = 0\n",
    "        self.op2 = 0\n",
    "        # self.initVar()\n",
    "        \n",
    "    # 아래와 같이 별도로 만들어 주고 위의 init함수에 참조해도 상관없다\n",
    "#     def initVar(self):\n",
    "#         self.op1 = 0\n",
    "#         self.op2 = 0\n",
    "    \n",
    "    \n",
    "    # 본 클래스에서 setdata()함수를 별도로 만든 이유는\n",
    "    # add(), sub(), mul(), div()함수에서 참조할 수 있다라는 것을 설명하기 위함이다\n",
    "    def setdata(self, op1, op2):\n",
    "        self.op1 = op1\n",
    "        self.op2 = op2\n",
    "        \n",
    "    def add(self):\n",
    "        result = self.op1 + self.op2\n",
    "        return result\n",
    "    \n",
    "    def sub(self):\n",
    "        result = self.op1 - self.op2\n",
    "        return result\n",
    "    \n",
    "    def mul(self):\n",
    "        result = self.op1 * self.op2\n",
    "        return result\n",
    "    \n",
    "    def div(self):\n",
    "        result = self.op1 / self.op2\n",
    "        return result\n",
    "    \n"
   ]
  },
  {
   "cell_type": "code",
   "execution_count": 29,
   "id": "74e7e773",
   "metadata": {},
   "outputs": [
    {
     "name": "stdout",
     "output_type": "stream",
     "text": [
      "17\n",
      "9\n",
      "52\n",
      "3.25\n"
     ]
    }
   ],
   "source": [
    "# 객체 생성\n",
    "myCal = calc()\n",
    "myCal.setdata(13, 4)\n",
    "print(myCal.add())\n",
    "print(myCal.sub())\n",
    "print(myCal.mul())\n",
    "print(myCal.div())"
   ]
  },
  {
   "cell_type": "markdown",
   "id": "7725a4cb",
   "metadata": {},
   "source": [
    "## 맥도날드 시뮬레이터\n",
    "### 1. 메뉴를 출력한다\n",
    "1. Cheese_Burger\n",
    "2. Delux_Burger\n",
    "3. Classic_Burger\n",
    "4. Big_mac\n",
    "\n",
    "### 2. 주문을 받는다\n",
    "input()함수를 사용해서 키보드입력을 통해 주문을 받는다\n",
    "\n",
    "### 3. 음료를 만드는데 시간 부여하기\n",
    "sleep()함수를 통해서 만드는 시간 모델링\n",
    "1. 1초\n",
    "2. 1초\n",
    "3. 2초\n",
    "4. 3초\n",
    "\n",
    "### 4. 음료가 만들어지면 mcdonald.txt파일에 남긴다"
   ]
  },
  {
   "cell_type": "markdown",
   "id": "55961cfd",
   "metadata": {},
   "source": [
    "### 숫자가 아닌 경우 다시 입력 받는 코드\n",
    "참조: https://captainbin.tistory.com/entry/%ED%8C%8C%EC%9D%B4%EC%8D%AC-%EC%9E%85%EB%A0%A5-%EB%B0%9B%EA%B8%B0-input-getpass"
   ]
  },
  {
   "cell_type": "markdown",
   "id": "9e1df7c6",
   "metadata": {},
   "source": [
    "* isdigit(): 해당 문자열이 '숫자'로 이루어져 있는지 검사한다\n",
    "* isdecimal(): 해당 문자열이 0~9까지의 수로 이루어져 있는지 검사한다\n",
    "* isnumeric(): '수'로 볼 수 있는 경우 True 반환한다"
   ]
  },
  {
   "cell_type": "code",
   "execution_count": 1,
   "id": "d08feaf8",
   "metadata": {},
   "outputs": [
    {
     "name": "stdout",
     "output_type": "stream",
     "text": [
      "번호를 입력하세요:1\n"
     ]
    }
   ],
   "source": [
    "# 숫자만 입력 받기\n",
    "while True:\n",
    "    num = input('번호를 입력하세요:')\n",
    "    if num.isdecimal():\n",
    "        break"
   ]
  },
  {
   "cell_type": "code",
   "execution_count": 2,
   "id": "ed4331fc",
   "metadata": {
    "scrolled": true
   },
   "outputs": [
    {
     "name": "stdout",
     "output_type": "stream",
     "text": [
      "번호를 입력하세요:1\n",
      "1\n"
     ]
    }
   ],
   "source": [
    "# 1~4 사이의 숫자만 입력 받기\n",
    "while True:\n",
    "    num = input('번호를 입력하세요:')\n",
    "    if num.isdecimal():\n",
    "        num = int(num)\n",
    "        if num > 0 and num < 5:\n",
    "            break\n",
    "print(num)"
   ]
  },
  {
   "cell_type": "code",
   "execution_count": 3,
   "id": "6ba6ec79",
   "metadata": {},
   "outputs": [
    {
     "name": "stdout",
     "output_type": "stream",
     "text": [
      "패스워드를 입력하시오:········\n"
     ]
    }
   ],
   "source": [
    "# 패스워드 입력받기: 키보드 입력을 할때 어떤 문자가 입력되는지 감추기\n",
    "import getpass\n",
    "passwd = getpass.getpass('패스워드를 입력하시오:')"
   ]
  },
  {
   "cell_type": "code",
   "execution_count": 4,
   "id": "38ea8937",
   "metadata": {},
   "outputs": [],
   "source": [
    "# 1. 맥도날드  printMenu()\n",
    "#    1. cheese_burger\n",
    "#    2. Deluxe_burger\n",
    "#    3. Classic_burger\n",
    "#    4. Big_mac\n",
    "\n",
    "# 2. 입력(번호로 입력)   inputKey()\n",
    "#    종료 조건 'x'\n",
    "\n",
    "# 3. 버거 만들기(makeBurger)\n",
    "#    소요시간(sleep함수)\n",
    "#    1. 1초\n",
    "#    2. 1초\n",
    "#    3. 2초\n",
    "#    4. 3초\n",
    "\n",
    "# 4. 로그 저장하기 (NewLog, WriteLog)\n",
    "#     mcdonald.txt\n",
    "#     주문하신 cheese_burger가 나왔습니다.\n",
    "#     dict타입 변수를 선언, 활용"
   ]
  },
  {
   "cell_type": "code",
   "execution_count": 13,
   "id": "beb46f4c",
   "metadata": {},
   "outputs": [],
   "source": [
    "# 메뉴 만들기\n",
    "def printMenu():\n",
    "    print('==================')\n",
    "    print('1. Cheese_Burger')\n",
    "    print('2. Delux_Burger')\n",
    "    print('3. Classic_Burger')\n",
    "    print('4. Big_mac')\n",
    "    print('==================')"
   ]
  },
  {
   "cell_type": "code",
   "execution_count": 14,
   "id": "d7f283b0",
   "metadata": {},
   "outputs": [],
   "source": [
    "# 입력키 만들기\n",
    "def inputKey():\n",
    "    opened = True\n",
    "    myInput = input('번호를 입력하세요:')\n",
    "    if myInput == 'x':\n",
    "        opened = False\n",
    "        inputMenu = None\n",
    "    elif int(myInput) > 0 and int(myInput) < 5:\n",
    "        inputMenu = int(myInput)\n",
    "        \n",
    "    return opened, inputMenu"
   ]
  },
  {
   "cell_type": "code",
   "execution_count": 15,
   "id": "f0ce44da",
   "metadata": {},
   "outputs": [],
   "source": [
    "# 버거 만들기 함수\n",
    "import time\n",
    "def makeBurger(inputMenu):\n",
    "    if inputMenu==1:\n",
    "        time.sleep(1)\n",
    "    elif inputMenu==2:\n",
    "        time.sleep(1)\n",
    "    elif inputMenu==3:\n",
    "        time.sleep(2)\n",
    "    else:\n",
    "        time.sleep(2)    "
   ]
  },
  {
   "cell_type": "code",
   "execution_count": 16,
   "id": "f95b97aa",
   "metadata": {},
   "outputs": [],
   "source": [
    "# 로그 남기기\n",
    "def newLog():\n",
    "    f = open('./mcdonald.txt', 'w', encoding = 'utf-8')\n",
    "    f.close()\n",
    "    \n",
    "def writeLog(makedMenu):\n",
    "    f = open('./mcdonald.txt', 'a', encoding = 'utf-8')\n",
    "    f.write('주문하신 {}가 나왔습니다 \\n'.format(menuDict[inputMenu]))\n",
    "    f.close()"
   ]
  },
  {
   "cell_type": "code",
   "execution_count": 17,
   "id": "6f7b4eeb",
   "metadata": {},
   "outputs": [
    {
     "name": "stdout",
     "output_type": "stream",
     "text": [
      "==================\n",
      "1. Cheese_Burger\n",
      "2. Delux_Burger\n",
      "3. Classic_Burger\n",
      "4. Big_mac\n",
      "==================\n",
      "번호를 입력하세요:1\n",
      "==================\n",
      "1. Cheese_Burger\n",
      "2. Delux_Burger\n",
      "3. Classic_Burger\n",
      "4. Big_mac\n",
      "==================\n",
      "번호를 입력하세요:2\n",
      "==================\n",
      "1. Cheese_Burger\n",
      "2. Delux_Burger\n",
      "3. Classic_Burger\n",
      "4. Big_mac\n",
      "==================\n",
      "번호를 입력하세요:x\n"
     ]
    }
   ],
   "source": [
    "# 조건 실행\n",
    "# 사전형\n",
    "menuDict = {1:'cheese_burger', 2:' Deluxe_burger', 3:'Classic_burger', 4:'Big_mac'}\n",
    "# 파일 초기화, 새로 만들고 시작\n",
    "newLog()\n",
    "while True:\n",
    "    printMenu()\n",
    "    opened, inputMenu = inputKey()\n",
    "    # 아래 조건이 'True'이면 'x'키가 들어와서 종료된다\n",
    "    if opened == False:\n",
    "        break\n",
    "    \n",
    "    makeBurger(inputMenu)\n",
    "    writeLog(inputMenu)"
   ]
  },
  {
   "cell_type": "code",
   "execution_count": 21,
   "id": "48ab01f8",
   "metadata": {},
   "outputs": [],
   "source": [
    "# class로 변경하기\n",
    "class mcdonald:\n",
    "    # 클래스의 객체 생성시 호출\n",
    "    def __init__(self, Name, OpenTime, CloseTime):\n",
    "        #객체의 초기화 동작\n",
    "        self.Name = Name\n",
    "        self.OpenTime = OpenTime\n",
    "        self.CloseTime = CloseTime\n",
    "        self.opened = True\n",
    "        self.inputMenu = None\n",
    "        self.menuDict = {1:'cheese_burger', 2:' Deluxe_burger', 3:'Classic_burger', 4:'Big_mac'} \n",
    "        print('객체를 생성 했습니다')\n",
    "\n",
    "    def printMenu(self):\n",
    "        print('==================')\n",
    "        print('1. cheese_burger')\n",
    "        print('2. Deluxe_burger')\n",
    "        print('3. Classic_burger')\n",
    "        print('4. Big_mac')\n",
    "        print('==================')\n",
    "    \n",
    "    def inputKey(self):\n",
    "        myInput = input('번호를 입력하세요:')\n",
    "        if myInput=='x':\n",
    "            self.opened = False\n",
    "            self.inputMenu = None\n",
    "        elif int(myInput)>0 and int(myInput)<5:\n",
    "            self.inputMenu = int(myInput)\n",
    "        \n",
    "        return self.opened\n",
    "\n",
    "    def makeBurger(self):\n",
    "        if self.inputMenu==1:\n",
    "            time.sleep(1)\n",
    "        elif self.inputMenu==2:\n",
    "            time.sleep(1)\n",
    "        elif self.inputMenu==3:\n",
    "            time.sleep(2)\n",
    "        else:\n",
    "            time.sleep(2)  \n",
    "\n",
    "    def newLog(self):\n",
    "        f = open(\"mcdonald.txt\",'w')\n",
    "        f.close()\n",
    "\n",
    "    def writeLog(self):\n",
    "        f = open(\"mcdonald.txt\",'a')\n",
    "        f.write(\"주문하신 {}가 나왔습니다.\\n\".format(self.menuDict[self.inputMenu]))\n",
    "        f.close() "
   ]
  },
  {
   "cell_type": "code",
   "execution_count": 20,
   "id": "3ce81af8",
   "metadata": {},
   "outputs": [
    {
     "name": "stdout",
     "output_type": "stream",
     "text": [
      "객체를 생성 했습니다\n",
      "1. cheese_burger\n",
      "2. Deluxe_burger\n",
      "3. Classic_burger\n",
      "4. Big_mac\n",
      "번호를 입력하세요:1\n",
      "1. cheese_burger\n",
      "2. Deluxe_burger\n",
      "3. Classic_burger\n",
      "4. Big_mac\n",
      "번호를 입력하세요:3\n",
      "1. cheese_burger\n",
      "2. Deluxe_burger\n",
      "3. Classic_burger\n",
      "4. Big_mac\n",
      "번호를 입력하세요:x\n"
     ]
    }
   ],
   "source": [
    "# macdonald의 객체 local1을 생성\n",
    "local1Name = \"강남\"\n",
    "local1OpenTime = \"9:00\"\n",
    "local1CloseTime = \"21:00\"\n",
    "\n",
    "local1 = mcdonald(local1Name, local1OpenTime, local1CloseTime)\n",
    "\n",
    "local1.newLog()\n",
    "\n",
    "while True:\n",
    "    # 1. 메뉴를 출력\n",
    "    local1.printMenu()\n",
    "\n",
    "    # 2. 키입력을 받기\n",
    "    opened = local1.inputKey()\n",
    "\n",
    "    # 아래 조건이 'True'이면 'x'키가 들어와서 종료한다.\n",
    "    if opened==False:\n",
    "        break\n",
    "\n",
    "    # 3. 버거 만들기\n",
    "    local1.makeBurger()\n",
    "\n",
    "    # 4. 로그 출력하기\n",
    "    local1.writeLog()"
   ]
  },
  {
   "cell_type": "markdown",
   "id": "a9c68022",
   "metadata": {},
   "source": [
    "## 클래스의 상속\n",
    "#### 기본 클래스: calc\n",
    "#### 상속 받는 클래스: nextCalc"
   ]
  },
  {
   "cell_type": "code",
   "execution_count": 30,
   "id": "ac56a537",
   "metadata": {},
   "outputs": [],
   "source": [
    "# calc클래스를 nextCalc로 상속받겠다는 의미\n",
    "# 질문: nextcal에서 사용할 수 있는 함수의 개수는? -> 7개(calc멤버함수 6개 + nextCal멤버함수 1개)\n",
    "class nextCal(calc):\n",
    "    # 멤버변수만 하나 추가\n",
    "    def pow(self):\n",
    "        result = self.op1 ** self.op2\n",
    "        return result"
   ]
  },
  {
   "cell_type": "code",
   "execution_count": 33,
   "id": "2a71221f",
   "metadata": {},
   "outputs": [
    {
     "name": "stdout",
     "output_type": "stream",
     "text": [
      "4\n"
     ]
    }
   ],
   "source": [
    "myCal2 = nextCal()\n",
    "myCal2.setdata(2, 2)\n",
    "print(myCal2.pow())"
   ]
  },
  {
   "cell_type": "markdown",
   "id": "d4e60c04",
   "metadata": {},
   "source": [
    "### 클래스 멤버 함수(메서드)의 오버라이딩"
   ]
  },
  {
   "cell_type": "code",
   "execution_count": 34,
   "id": "2e62c823",
   "metadata": {},
   "outputs": [
    {
     "ename": "ZeroDivisionError",
     "evalue": "division by zero",
     "output_type": "error",
     "traceback": [
      "\u001b[1;31m---------------------------------------------------------------------------\u001b[0m",
      "\u001b[1;31mZeroDivisionError\u001b[0m                         Traceback (most recent call last)",
      "Cell \u001b[1;32mIn [34], line 3\u001b[0m\n\u001b[0;32m      1\u001b[0m \u001b[38;5;66;03m# 기본클래스를 사용해서 2/0을 실행하면 오류가 날 것이다\u001b[39;00m\n\u001b[0;32m      2\u001b[0m myCal\u001b[38;5;241m.\u001b[39msetdata(\u001b[38;5;241m2\u001b[39m, \u001b[38;5;241m0\u001b[39m)\n\u001b[1;32m----> 3\u001b[0m \u001b[38;5;28mprint\u001b[39m(\u001b[43mmyCal\u001b[49m\u001b[38;5;241;43m.\u001b[39;49m\u001b[43mdiv\u001b[49m\u001b[43m(\u001b[49m\u001b[43m)\u001b[49m)\n",
      "Cell \u001b[1;32mIn [28], line 36\u001b[0m, in \u001b[0;36mcalc.div\u001b[1;34m(self)\u001b[0m\n\u001b[0;32m     35\u001b[0m \u001b[38;5;28;01mdef\u001b[39;00m \u001b[38;5;21mdiv\u001b[39m(\u001b[38;5;28mself\u001b[39m):\n\u001b[1;32m---> 36\u001b[0m     result \u001b[38;5;241m=\u001b[39m \u001b[38;5;28;43mself\u001b[39;49m\u001b[38;5;241;43m.\u001b[39;49m\u001b[43mop1\u001b[49m\u001b[43m \u001b[49m\u001b[38;5;241;43m/\u001b[39;49m\u001b[43m \u001b[49m\u001b[38;5;28;43mself\u001b[39;49m\u001b[38;5;241;43m.\u001b[39;49m\u001b[43mop2\u001b[49m\n\u001b[0;32m     37\u001b[0m     \u001b[38;5;28;01mreturn\u001b[39;00m result\n",
      "\u001b[1;31mZeroDivisionError\u001b[0m: division by zero"
     ]
    }
   ],
   "source": [
    "# 기본클래스를 사용해서 2/0을 실행하면 오류가 날 것이다\n",
    "myCal.setdata(2, 0)\n",
    "print(myCal.div())"
   ]
  },
  {
   "cell_type": "code",
   "execution_count": 36,
   "id": "13fb3f42",
   "metadata": {},
   "outputs": [],
   "source": [
    "# 따라서 예외처리를 위해 calc클래스를 상속받은 뒤 div()함수의 문제를 개선할 수 있다\n",
    "class SafeCalc(calc):\n",
    "    def div(self):\n",
    "        if self.op2 == 0:\n",
    "            # op2가 0인 경우 나눌 수 없지만, 0을 반환값으로 전달한다\n",
    "            return 0\n",
    "        else:\n",
    "            return self.op1 / self.op2"
   ]
  },
  {
   "cell_type": "code",
   "execution_count": 37,
   "id": "df2bee3f",
   "metadata": {},
   "outputs": [
    {
     "name": "stdout",
     "output_type": "stream",
     "text": [
      "0\n"
     ]
    }
   ],
   "source": [
    "myCal3 = SafeCalc()\n",
    "myCal3.setdata(2, 0)\n",
    "print(myCal3.div())"
   ]
  },
  {
   "cell_type": "markdown",
   "id": "a9eeb308",
   "metadata": {},
   "source": [
    "## 1. 예외처리"
   ]
  },
  {
   "cell_type": "markdown",
   "id": "3d4cee9c",
   "metadata": {},
   "source": [
    "### try, except문"
   ]
  },
  {
   "cell_type": "code",
   "execution_count": 38,
   "id": "d73505fb",
   "metadata": {
    "collapsed": true
   },
   "outputs": [
    {
     "ename": "SyntaxError",
     "evalue": "invalid syntax (3343391957.py, line 4)",
     "output_type": "error",
     "traceback": [
      "\u001b[1;36m  Cell \u001b[1;32mIn [38], line 4\u001b[1;36m\u001b[0m\n\u001b[1;33m    except[발생오류 [as 오류변수]]\u001b[0m\n\u001b[1;37m                 ^\u001b[0m\n\u001b[1;31mSyntaxError\u001b[0m\u001b[1;31m:\u001b[0m invalid syntax\n"
     ]
    }
   ],
   "source": [
    "# 기본 구조\n",
    "try:\n",
    "    ...\n",
    "except[발생오류 [as 오류변수]]:\n",
    "    ..."
   ]
  },
  {
   "cell_type": "code",
   "execution_count": 39,
   "id": "9fb72b2c",
   "metadata": {},
   "outputs": [
    {
     "name": "stdout",
     "output_type": "stream",
     "text": [
      "division by zero\n"
     ]
    }
   ],
   "source": [
    "# 예제\n",
    "try:\n",
    "    4 / 0\n",
    "    # 4를 0으로 나누려고 하면 ZeroDivisionError가 발생하여 except블록이 실행\n",
    "    # 오류변수 e에 담기는 오류메시지 출력\n",
    "    # 만약 정상적이라면 except구문 무시\n",
    "except ZeroDivisionError as e:\n",
    "    print(e)"
   ]
  },
  {
   "cell_type": "markdown",
   "id": "916e82bf",
   "metadata": {},
   "source": [
    "### try, finally문"
   ]
  },
  {
   "cell_type": "code",
   "execution_count": 40,
   "id": "e41b5f25",
   "metadata": {},
   "outputs": [],
   "source": [
    "# 예제\n",
    "try:\n",
    "    f = open('./log.txt', 'w')\n",
    "    # 수행한다\n",
    "    \n",
    "    # (..생략..)\n",
    "finally:\n",
    "    f.close()\n",
    "    # 중간에 오류가 발생하더라도 무조건 실행된다."
   ]
  },
  {
   "cell_type": "markdown",
   "id": "0532ce48",
   "metadata": {},
   "source": [
    "## 2. 모듈\n"
   ]
  },
  {
   "cell_type": "markdown",
   "id": "e107e6ae",
   "metadata": {},
   "source": [
    "### if__name__ == \"__main__\":의 의미"
   ]
  },
  {
   "cell_type": "markdown",
   "id": "6074313f",
   "metadata": {},
   "source": [
    "해당 모듈이 직접적으로 실행되었는지, 또는 import를 통해 간접적으로 실행된것인지 알 수 있다."
   ]
  },
  {
   "cell_type": "code",
   "execution_count": 41,
   "id": "279c107f",
   "metadata": {},
   "outputs": [
    {
     "name": "stdout",
     "output_type": "stream",
     "text": [
      "Hello\n"
     ]
    }
   ],
   "source": [
    "# 만약 direct.py파일이 직접 실행되고 있는 경우\n",
    "if __name__ == \"__main__\":\n",
    "    print('Hello')\n",
    "    \n",
    "    # 만약 직접 실행되지 않으면 ByeBye 출력\n",
    "else:\n",
    "    print('ByeBye')"
   ]
  },
  {
   "cell_type": "markdown",
   "id": "09070299",
   "metadata": {},
   "source": [
    "## 3. 표준 라이브러리"
   ]
  },
  {
   "cell_type": "markdown",
   "id": "e8c340f8",
   "metadata": {},
   "source": [
    "### os\n",
    "* os.system(): 시스템 명령어 호출하기\n",
    "* os.popen(): 실행한 시스템 명령어의 결과값 돌려받기"
   ]
  },
  {
   "cell_type": "code",
   "execution_count": 42,
   "id": "e3d06af5",
   "metadata": {},
   "outputs": [
    {
     "data": {
      "text/plain": [
       "0"
      ]
     },
     "execution_count": 42,
     "metadata": {},
     "output_type": "execute_result"
    }
   ],
   "source": [
    "# os.system\n",
    "import os\n",
    "\n",
    "# 터미널 상에서 직접 실행할 수 있는 명령들을 파이썬으로 실행하게 만들어준다\n",
    "os.system(\"dir/w\")"
   ]
  },
  {
   "cell_type": "code",
   "execution_count": 43,
   "id": "c7d15dd2",
   "metadata": {},
   "outputs": [
    {
     "name": "stdout",
     "output_type": "stream",
     "text": [
      " C 드라이브의 볼륨에는 이름이 없습니다.\n",
      "\n",
      " 볼륨 일련 번호: BA53-210A\n",
      "\n",
      "\n",
      "\n",
      " C:\\Users\\chunc\\Desktop\\취업캠프\\python-20230220T004050Z-001\\python\\복습\\2월 디렉터리\n",
      "\n",
      "\n",
      "\n",
      "[.]\n",
      "\n",
      "[..]\n",
      "\n",
      "[.ipynb_checkpoints]\n",
      "\n",
      "log.txt\n",
      "\n",
      "readme1.txt\n",
      "\n",
      "[2023-02-20]1일차 복습.ipynb\n",
      "\n",
      "[2023-02-21]2일차 복습.ipynb\n",
      "\n",
      "[2023-02-21]2일차 실습예제.ipynb\n",
      "\n",
      "[2023-02-22] 사진데이터를 이용한 데이터 전처리 및 분류 실습연습.ipynb\n",
      "\n",
      "[2023-02-22]3일차 복습.ipynb\n",
      "\n",
      "[2023-02-23] 속이 빈 마름모 만들기.ipynb\n",
      "\n",
      "[2023-02-23]4일차 복습.ipynb\n",
      "\n",
      "[2023-02-24]5일차 복습.ipynb\n",
      "\n",
      "연습장.ipynb\n",
      "\n",
      "              11개 파일             706,398 바이트\n",
      "\n",
      "               3개 디렉터리  63,877,038,080 바이트 남음\n",
      "\n"
     ]
    }
   ],
   "source": [
    "# os.popen\n",
    "# python에서 터미널 프로세스를 하나 생성\n",
    "# 터미널 프로세스에서 dir/w 실행\n",
    "# 결과 문자열을 받아와서 f라는 파일 포인터로 전달\n",
    "f = os.popen(\"dir/w\")\n",
    "lines = f.readlines()\n",
    "\n",
    "for line in lines:\n",
    "    print(line)\n",
    "\n",
    "# 아래롸 같이 파일을 읽듯이 사용하면된다\n",
    "# f = open('./log.txt', 'r')\n",
    "# print(f.readline())"
   ]
  },
  {
   "cell_type": "markdown",
   "id": "cb12d76c",
   "metadata": {},
   "source": [
    "## 4. 압축파일 해제하기"
   ]
  },
  {
   "cell_type": "code",
   "execution_count": 44,
   "id": "e3e94996",
   "metadata": {
    "collapsed": true
   },
   "outputs": [
    {
     "ename": "FileNotFoundError",
     "evalue": "[Errno 2] No such file or directory: './csvExample.zip'",
     "output_type": "error",
     "traceback": [
      "\u001b[1;31m---------------------------------------------------------------------------\u001b[0m",
      "\u001b[1;31mFileNotFoundError\u001b[0m                         Traceback (most recent call last)",
      "Cell \u001b[1;32mIn [44], line 5\u001b[0m\n\u001b[0;32m      3\u001b[0m zipPath \u001b[38;5;241m=\u001b[39m \u001b[38;5;124m'\u001b[39m\u001b[38;5;124m./csvExample.zip\u001b[39m\u001b[38;5;124m'\u001b[39m\n\u001b[0;32m      4\u001b[0m \u001b[38;5;66;03m# 압축이 풀리는 위치는 python파일이 있는 위치의 하위폴더에 생성됨\u001b[39;00m\n\u001b[1;32m----> 5\u001b[0m \u001b[38;5;28;01mwith\u001b[39;00m \u001b[43mzipfile\u001b[49m\u001b[38;5;241;43m.\u001b[39;49m\u001b[43mZipFile\u001b[49m\u001b[43m(\u001b[49m\u001b[43mzipPath\u001b[49m\u001b[43m)\u001b[49m \u001b[38;5;28;01mas\u001b[39;00m myzip:\n\u001b[0;32m      6\u001b[0m     myzip\u001b[38;5;241m.\u001b[39mextractall()\n",
      "File \u001b[1;32mC:\\Anaconda3\\lib\\zipfile.py:1239\u001b[0m, in \u001b[0;36mZipFile.__init__\u001b[1;34m(self, file, mode, compression, allowZip64, compresslevel, strict_timestamps)\u001b[0m\n\u001b[0;32m   1237\u001b[0m \u001b[38;5;28;01mwhile\u001b[39;00m \u001b[38;5;28;01mTrue\u001b[39;00m:\n\u001b[0;32m   1238\u001b[0m     \u001b[38;5;28;01mtry\u001b[39;00m:\n\u001b[1;32m-> 1239\u001b[0m         \u001b[38;5;28mself\u001b[39m\u001b[38;5;241m.\u001b[39mfp \u001b[38;5;241m=\u001b[39m \u001b[43mio\u001b[49m\u001b[38;5;241;43m.\u001b[39;49m\u001b[43mopen\u001b[49m\u001b[43m(\u001b[49m\u001b[43mfile\u001b[49m\u001b[43m,\u001b[49m\u001b[43m \u001b[49m\u001b[43mfilemode\u001b[49m\u001b[43m)\u001b[49m\n\u001b[0;32m   1240\u001b[0m     \u001b[38;5;28;01mexcept\u001b[39;00m \u001b[38;5;167;01mOSError\u001b[39;00m:\n\u001b[0;32m   1241\u001b[0m         \u001b[38;5;28;01mif\u001b[39;00m filemode \u001b[38;5;129;01min\u001b[39;00m modeDict:\n",
      "\u001b[1;31mFileNotFoundError\u001b[0m: [Errno 2] No such file or directory: './csvExample.zip'"
     ]
    }
   ],
   "source": [
    "# colab환경일 때\n",
    "import zipfile\n",
    "# 현재 압축파일이 있는 경로\n",
    "# zipPath = './csvExample.zip'\n",
    "# 압축이 풀리는 위치는 python파일이 있는 위치의 하위폴더에 생성됨\n",
    "with zipfile.ZipFile(zipPath) as myzip:\n",
    "    myzip.extractall()"
   ]
  },
  {
   "cell_type": "markdown",
   "id": "bc97dba8",
   "metadata": {},
   "source": [
    "만약 colab에 대용량의 압축파일이나 파일들을 업로드하고 그 파일을 colab에서 사용해야 하는 경우, 구글드라이브에 먼저 업로드 하고 구글 드라이브를 마운트 하는 방법으로 한다."
   ]
  },
  {
   "cell_type": "markdown",
   "id": "b0aa9d34",
   "metadata": {},
   "source": [
    "## colab에서 구글 드라이브 마운트 -> 컴퓨터에 외장메모리인 USB를 꽂는 것과 동일하다\n",
    "\n",
    "(colab에서는 코드 실행 필요)"
   ]
  },
  {
   "cell_type": "code",
   "execution_count": null,
   "id": "ff6421d5",
   "metadata": {},
   "outputs": [],
   "source": [
    "zipPath ='/content/drive/MyDrive/취업캠프/python-20230220T004050Z-001/python/csv/csvExample.zip'\n",
    "with zipfile.ZipFile(zipPath) as myzip:\n",
    "    myzip.extractall()"
   ]
  }
 ],
 "metadata": {
  "kernelspec": {
   "display_name": "Python 3 (ipykernel)",
   "language": "python",
   "name": "python3"
  },
  "language_info": {
   "codemirror_mode": {
    "name": "ipython",
    "version": 3
   },
   "file_extension": ".py",
   "mimetype": "text/x-python",
   "name": "python",
   "nbconvert_exporter": "python",
   "pygments_lexer": "ipython3",
   "version": "3.9.7"
  }
 },
 "nbformat": 4,
 "nbformat_minor": 5
}
