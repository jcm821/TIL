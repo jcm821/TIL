{
 "cells": [
  {
   "cell_type": "markdown",
   "id": "d5100f06",
   "metadata": {},
   "source": [
    "## 1. 속이 꽉 찬 마름모"
   ]
  },
  {
   "cell_type": "code",
   "execution_count": 4,
   "id": "92bda001",
   "metadata": {},
   "outputs": [
    {
     "name": "stdout",
     "output_type": "stream",
     "text": [
      "     *\n",
      "    ***\n",
      "   *****\n",
      "  *******\n",
      " *********\n",
      "***********\n",
      " *********\n",
      "  *******\n",
      "   *****\n",
      "    ***\n",
      "     *\n"
     ]
    }
   ],
   "source": [
    "# 1. 마름모 (정방향 + 역방행)\n",
    "# i: 0 ~ 5\n",
    "for i in range(6):    # 정방향\n",
    "    print(' '*(5 - i) + '*' * (i*2 + 1))\n",
    "\n",
    "# i: 4 ~ 0\n",
    "for i in range(4, -1, -1):    # 역방향\n",
    "    print(' '*(5 - i) + '*' * (i*2 + 1))"
   ]
  },
  {
   "cell_type": "markdown",
   "id": "ac035cbf",
   "metadata": {},
   "source": [
    "## 2. 속이 빈 마름모"
   ]
  },
  {
   "cell_type": "markdown",
   "id": "e625d536",
   "metadata": {},
   "source": [
    "### 다이아몬드 패턴 안쪽의 공백의 개수\n",
    "\n",
    "0 1 3 5 7 9"
   ]
  },
  {
   "cell_type": "code",
   "execution_count": 8,
   "id": "9d634229",
   "metadata": {},
   "outputs": [
    {
     "name": "stdout",
     "output_type": "stream",
     "text": [
      "     * \n",
      "    * *\n",
      "   *   *\n",
      "  *     *\n",
      " *       *\n",
      "*         *\n",
      " *       *\n",
      "  *     *\n",
      "   *   *\n",
      "    * *\n",
      "     * \n"
     ]
    }
   ],
   "source": [
    "# i: 0 ~ 5\n",
    "for i in range(6):       # 정방향\n",
    "    if i != 0:\n",
    "        space = 2*i - 1\n",
    "        half = ' '* space + '*'\n",
    "    else:   # i == 0일때\n",
    "        half = ' '\n",
    "    print(' ' * (5 - i) + '*' + half)\n",
    "\n",
    "for i in range(4, -1, -1):\n",
    "    if i != 0:\n",
    "        space = 2*i - 1\n",
    "        half = ' ' * space + '*'\n",
    "    else:   # i == 0일때\n",
    "        half = ' '\n",
    "    print(' ' * (5 - i) + '*' + half)\n"
   ]
  },
  {
   "cell_type": "code",
   "execution_count": 14,
   "id": "0db17df0",
   "metadata": {},
   "outputs": [
    {
     "name": "stdout",
     "output_type": "stream",
     "text": [
      "    *\n",
      "   * *\n",
      "  *   *\n",
      " *     *\n",
      "*       *\n",
      " *     *\n",
      "  *   *\n",
      "   * *\n",
      "    *\n"
     ]
    }
   ],
   "source": [
    "# 다른 예제\n",
    "def makeDiamond(size):\n",
    "    for i in range(size):\n",
    "        if i !=0:\n",
    "            star = \"*\"\n",
    "        else:\n",
    "            star = \"\"\n",
    "        print(\" \"*(size-i)+\"*\"+\" \"*(2*i-1)+star)\n",
    "    for i in range(size+1):\n",
    "        if i !=size:\n",
    "            star = \"*\"\n",
    "        else:\n",
    "            star = \"\"\n",
    "        print(\" \"*(i)+\"*\"+\" \"*(2*(size-i)-1)+star)\n",
    "\n",
    "makeDiamond(4)"
   ]
  },
  {
   "cell_type": "code",
   "execution_count": null,
   "id": "ccbec9dc",
   "metadata": {},
   "outputs": [],
   "source": [
    "def makeDiamon(size):\n",
    "    for i in range(size + 1):\n",
    "        if i != 0:\n",
    "            space = 2*i - 1\n",
    "            half = ' ' * space + '*'\n",
    "        else:\n",
    "            half = ' '\n",
    "        print(' ' * (size - i) + '*' + half)\n",
    "    \n",
    "    for i in range(size - 1, -1, -1):\n",
    "        if i != 0:\n",
    "            space = 2*i - 1\n",
    "            half = ' ' * space + '*'\n",
    "        else:\n",
    "            half = ' '\n",
    "        print(' ' * (size - i) + '*' + half)\n",
    "makeDiamon(5)"
   ]
  }
 ],
 "metadata": {
  "kernelspec": {
   "display_name": "Python 3 (ipykernel)",
   "language": "python",
   "name": "python3"
  },
  "language_info": {
   "codemirror_mode": {
    "name": "ipython",
    "version": 3
   },
   "file_extension": ".py",
   "mimetype": "text/x-python",
   "name": "python",
   "nbconvert_exporter": "python",
   "pygments_lexer": "ipython3",
   "version": "3.9.7"
  }
 },
 "nbformat": 4,
 "nbformat_minor": 5
}
