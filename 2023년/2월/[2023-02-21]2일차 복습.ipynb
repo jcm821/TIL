{
 "cells": [
  {
   "cell_type": "markdown",
   "metadata": {
    "id": "cFrkUT_LoeXu"
   },
   "source": [
    "## 리눅스 기본 명령어\n",
    "\n",
    "코랩 및 케글과 같이 리눅스 또는 유닉스 환경에서만 사용 가능"
   ]
  },
  {
   "cell_type": "markdown",
   "metadata": {
    "id": "HgrCO02WpONn"
   },
   "source": [
    "### **pwd**(print working directory)\n",
    "현재 작업중인 디렉터리 정보 출력"
   ]
  },
  {
   "cell_type": "code",
   "execution_count": null,
   "metadata": {
    "colab": {
     "base_uri": "https://localhost:8080/"
    },
    "executionInfo": {
     "elapsed": 7,
     "status": "ok",
     "timestamp": 1676943967815,
     "user": {
      "displayName": "전창민",
      "userId": "04793944019518067714"
     },
     "user_tz": -540
    },
    "id": "TmTyHk0xoW5p",
    "outputId": "9b9301b5-5959-4de3-c159-14660fed630d"
   },
   "outputs": [
    {
     "name": "stdout",
     "output_type": "stream",
     "text": [
      "/content\n"
     ]
    }
   ],
   "source": [
    "# 리눅스 터미널 명령을 실행하려면 명령어 앞에 \"!\"추가\n",
    "!pwd"
   ]
  },
  {
   "cell_type": "markdown",
   "metadata": {
    "id": "Wswnzq-GqDqU"
   },
   "source": [
    "## **mkdir**(make directory)\n",
    "디렉토리 생성"
   ]
  },
  {
   "cell_type": "code",
   "execution_count": null,
   "metadata": {
    "id": "HKlseSUQqJ1x"
   },
   "outputs": [],
   "source": [
    "!mkdir test"
   ]
  },
  {
   "cell_type": "markdown",
   "metadata": {
    "id": "I4BUtxeFqeGB"
   },
   "source": [
    "##**ls**(list)\n",
    "디렉토리 목록 확인"
   ]
  },
  {
   "cell_type": "code",
   "execution_count": null,
   "metadata": {
    "colab": {
     "base_uri": "https://localhost:8080/"
    },
    "executionInfo": {
     "elapsed": 351,
     "status": "ok",
     "timestamp": 1676944260517,
     "user": {
      "displayName": "전창민",
      "userId": "04793944019518067714"
     },
     "user_tz": -540
    },
    "id": "MQgcPQhvqnD3",
    "outputId": "02c19201-508a-4747-cb30-96b22f5a4645"
   },
   "outputs": [
    {
     "name": "stdout",
     "output_type": "stream",
     "text": [
      "sample_data  test\n"
     ]
    }
   ],
   "source": [
    "# ls기본 명령어\n",
    "!ls"
   ]
  },
  {
   "cell_type": "code",
   "execution_count": null,
   "metadata": {
    "colab": {
     "base_uri": "https://localhost:8080/"
    },
    "executionInfo": {
     "elapsed": 7,
     "status": "ok",
     "timestamp": 1676944349157,
     "user": {
      "displayName": "전창민",
      "userId": "04793944019518067714"
     },
     "user_tz": -540
    },
    "id": "txwc8DETqvP-",
    "outputId": "0b5121a0-c5cc-4b7e-abe7-0da5cee2e6ac"
   },
   "outputs": [
    {
     "name": "stdout",
     "output_type": "stream",
     "text": [
      "total 20\n",
      "drwxr-xr-x 1 root root 4096 Feb 21 01:48 .\n",
      "drwxr-xr-x 1 root root 4096 Feb 21 01:41 ..\n",
      "drwxr-xr-x 4 root root 4096 Feb 17 19:29 .config\n",
      "drwxr-xr-x 1 root root 4096 Feb 17 19:30 sample_data\n",
      "drwxr-xr-x 2 root root 4096 Feb 21 01:48 test\n"
     ]
    }
   ],
   "source": [
    "# ls옵션: a는 모든 파일을 보여달라(숨겨진 파일)\n",
    "# l은 long, 파일 정보를 자세하게 보여달라는 뜻.\n",
    "!ls -al\n",
    "\n",
    "# drwxr-xr-x의 의미\n",
    "# d: 디렉토리\n",
    "# r: 읽기권한\n",
    "# w: 쓰기권한\n",
    "# x: 실행권한\n",
    "# 첫번째 rwx: 파일소유자의 권한\n",
    "# 두번째 rwx: 소유자가 속한 그룹의 권한\n",
    "# 세번째 rwx: others의 권한"
   ]
  },
  {
   "cell_type": "markdown",
   "metadata": {
    "id": "nLrnBj5jpyHr"
   },
   "source": [
    "###**cd**(change directory)\n",
    "경로 이동"
   ]
  },
  {
   "cell_type": "code",
   "execution_count": null,
   "metadata": {
    "colab": {
     "base_uri": "https://localhost:8080/"
    },
    "executionInfo": {
     "elapsed": 4,
     "status": "ok",
     "timestamp": 1676945972745,
     "user": {
      "displayName": "전창민",
      "userId": "04793944019518067714"
     },
     "user_tz": -540
    },
    "id": "gH4bjxH-pkJd",
    "outputId": "e1beb32d-4451-4a07-fc0e-b3fd08702a85"
   },
   "outputs": [
    {
     "name": "stdout",
     "output_type": "stream",
     "text": [
      "/content/test\n"
     ]
    }
   ],
   "source": [
    "# 절대 경로로 설정하면 여러번 경로를 이동해도 에러나지 않음\n",
    "%cd /content/test"
   ]
  },
  {
   "cell_type": "code",
   "execution_count": null,
   "metadata": {
    "colab": {
     "base_uri": "https://localhost:8080/"
    },
    "executionInfo": {
     "elapsed": 3,
     "status": "ok",
     "timestamp": 1676946032275,
     "user": {
      "displayName": "전창민",
      "userId": "04793944019518067714"
     },
     "user_tz": -540
    },
    "id": "rApk2mtjxNkj",
    "outputId": "8d531660-4563-4233-e7d8-bdd5d5ea853a"
   },
   "outputs": [
    {
     "name": "stdout",
     "output_type": "stream",
     "text": [
      "/content\n"
     ]
    }
   ],
   "source": [
    "# 상대 경로는 현재 위치에서 상위 디렉토리로 이동할지, 하위 디렉코리로 이동할지 설정이 가능함\n",
    "# ..은 상위폴더의 경로로 설정\n",
    "%cd .."
   ]
  },
  {
   "cell_type": "code",
   "execution_count": null,
   "metadata": {
    "colab": {
     "base_uri": "https://localhost:8080/"
    },
    "executionInfo": {
     "elapsed": 3,
     "status": "ok",
     "timestamp": 1676946085189,
     "user": {
      "displayName": "전창민",
      "userId": "04793944019518067714"
     },
     "user_tz": -540
    },
    "id": "Si6S-HyPxaW4",
    "outputId": "d3a0f4f5-ba3f-411a-8e75-bc8a77860ab4"
   },
   "outputs": [
    {
     "name": "stdout",
     "output_type": "stream",
     "text": [
      "/content/test\n"
     ]
    }
   ],
   "source": [
    "%cd test"
   ]
  },
  {
   "cell_type": "markdown",
   "metadata": {
    "id": "OMCRuDFhxqPd"
   },
   "source": [
    "이때 상대경로이므로 한번더 %cd test를 실행하게 된다면 test의 하위폴더안에 test폴더가 또 있는것으로 인식하므로 오류가 난다."
   ]
  },
  {
   "cell_type": "markdown",
   "metadata": {
    "id": "TGI4NCkIx2aQ"
   },
   "source": [
    "## **cp**(copy)"
   ]
  },
  {
   "cell_type": "code",
   "execution_count": null,
   "metadata": {
    "id": "trdp_HFvxpGZ"
   },
   "outputs": [],
   "source": [
    "# 복사할 파일 생성\n",
    "# touch명령은 a.txt파일명으로 빈파일 생성\n",
    "!touch a.txt"
   ]
  },
  {
   "cell_type": "code",
   "execution_count": null,
   "metadata": {
    "colab": {
     "base_uri": "https://localhost:8080/"
    },
    "executionInfo": {
     "elapsed": 5,
     "status": "ok",
     "timestamp": 1676946205239,
     "user": {
      "displayName": "전창민",
      "userId": "04793944019518067714"
     },
     "user_tz": -540
    },
    "id": "_iVjo728yFVJ",
    "outputId": "ecc19ee5-f038-457d-8dc7-e023a1a32c13"
   },
   "outputs": [
    {
     "name": "stdout",
     "output_type": "stream",
     "text": [
      "a.txt\n"
     ]
    }
   ],
   "source": [
    "!ls"
   ]
  },
  {
   "cell_type": "code",
   "execution_count": null,
   "metadata": {
    "colab": {
     "base_uri": "https://localhost:8080/"
    },
    "executionInfo": {
     "elapsed": 5,
     "status": "ok",
     "timestamp": 1676946208348,
     "user": {
      "displayName": "전창민",
      "userId": "04793944019518067714"
     },
     "user_tz": -540
    },
    "id": "_vC_er62yGZq",
    "outputId": "7b8e315f-1364-4793-f5f7-81ab28503c9b"
   },
   "outputs": [
    {
     "name": "stdout",
     "output_type": "stream",
     "text": [
      "/content/test\n"
     ]
    }
   ],
   "source": [
    "!pwd"
   ]
  },
  {
   "cell_type": "code",
   "execution_count": null,
   "metadata": {
    "id": "ziRdPcw4yHK-"
   },
   "outputs": [],
   "source": [
    "!cp /content/test/a.txt /content/test/b.txt"
   ]
  },
  {
   "cell_type": "code",
   "execution_count": null,
   "metadata": {
    "colab": {
     "base_uri": "https://localhost:8080/"
    },
    "executionInfo": {
     "elapsed": 5,
     "status": "ok",
     "timestamp": 1676946298893,
     "user": {
      "displayName": "전창민",
      "userId": "04793944019518067714"
     },
     "user_tz": -540
    },
    "id": "NlfjK-EMyVfS",
    "outputId": "9de2caa3-caff-4aeb-e13c-ff401c373d02"
   },
   "outputs": [
    {
     "name": "stdout",
     "output_type": "stream",
     "text": [
      "total 8\n",
      "drwxr-xr-x 2 root root 4096 Feb 21 02:24 .\n",
      "drwxr-xr-x 1 root root 4096 Feb 21 01:48 ..\n",
      "-rw-r--r-- 1 root root    0 Feb 21 02:23 a.txt\n",
      "-rw-r--r-- 1 root root    0 Feb 21 02:24 b.txt\n"
     ]
    }
   ],
   "source": [
    "!ls -al"
   ]
  },
  {
   "cell_type": "markdown",
   "metadata": {
    "id": "Mq3-rr06yXQf"
   },
   "source": [
    "##**mv**(move)"
   ]
  },
  {
   "cell_type": "code",
   "execution_count": null,
   "metadata": {
    "id": "AaWfuxW9ybif"
   },
   "outputs": [],
   "source": [
    "!mv /content/test/a.txt /content/a.txt"
   ]
  },
  {
   "cell_type": "code",
   "execution_count": null,
   "metadata": {
    "colab": {
     "base_uri": "https://localhost:8080/"
    },
    "executionInfo": {
     "elapsed": 5,
     "status": "ok",
     "timestamp": 1676946327327,
     "user": {
      "displayName": "전창민",
      "userId": "04793944019518067714"
     },
     "user_tz": -540
    },
    "id": "7QnhWEfayjDH",
    "outputId": "606ed195-18b5-497c-d122-c862f6496c45"
   },
   "outputs": [
    {
     "name": "stdout",
     "output_type": "stream",
     "text": [
      "b.txt\n"
     ]
    }
   ],
   "source": [
    "!ls"
   ]
  },
  {
   "cell_type": "code",
   "execution_count": null,
   "metadata": {
    "colab": {
     "base_uri": "https://localhost:8080/"
    },
    "executionInfo": {
     "elapsed": 4,
     "status": "ok",
     "timestamp": 1676946351725,
     "user": {
      "displayName": "전창민",
      "userId": "04793944019518067714"
     },
     "user_tz": -540
    },
    "id": "cpfHzGmRykCv",
    "outputId": "753a39b3-effd-4ad9-8158-1dd28a281a21"
   },
   "outputs": [
    {
     "name": "stdout",
     "output_type": "stream",
     "text": [
      "/content\n",
      "a.txt  sample_data  test\n"
     ]
    }
   ],
   "source": [
    "%cd /content/\n",
    "!ls"
   ]
  },
  {
   "cell_type": "code",
   "execution_count": null,
   "metadata": {
    "id": "rI3am7g6ynuH"
   },
   "outputs": [],
   "source": [
    "# import os, shutil의 명령어를 통해서도 위와 같은과정을 진행할 수 있다."
   ]
  },
  {
   "cell_type": "markdown",
   "metadata": {
    "id": "2wTLkPbQy5pM"
   },
   "source": [
    "## 리눅스 터미널 명령어로 실행했던 내용을 메소드로 실행하기"
   ]
  },
  {
   "cell_type": "code",
   "execution_count": null,
   "metadata": {
    "id": "ZhUk3Tx-zD96"
   },
   "outputs": [],
   "source": [
    "import os, shutil"
   ]
  },
  {
   "cell_type": "code",
   "execution_count": null,
   "metadata": {
    "colab": {
     "base_uri": "https://localhost:8080/"
    },
    "executionInfo": {
     "elapsed": 303,
     "status": "ok",
     "timestamp": 1676946618678,
     "user": {
      "displayName": "전창민",
      "userId": "04793944019518067714"
     },
     "user_tz": -540
    },
    "id": "DcG2JHpSzG2r",
    "outputId": "24add539-c623-42f3-9cd2-4abb54ba6038"
   },
   "outputs": [
    {
     "data": {
      "text/plain": [
       "['.config', 'a.txt', 'test', 'sample_data']"
      ]
     },
     "execution_count": 20,
     "metadata": {},
     "output_type": "execute_result"
    }
   ],
   "source": [
    "# ls\n",
    "#'.'은 현재경로\n",
    "os.listdir('.')"
   ]
  },
  {
   "cell_type": "code",
   "execution_count": null,
   "metadata": {
    "colab": {
     "base_uri": "https://localhost:8080/"
    },
    "executionInfo": {
     "elapsed": 2,
     "status": "ok",
     "timestamp": 1676946636455,
     "user": {
      "displayName": "전창민",
      "userId": "04793944019518067714"
     },
     "user_tz": -540
    },
    "id": "IGW91fgdzNav",
    "outputId": "c0e37633-b632-41ad-8a2e-faa7924cc996"
   },
   "outputs": [
    {
     "data": {
      "text/plain": [
       "['.config', 'a.txt', 'test', 'sample_data']"
      ]
     },
     "execution_count": 21,
     "metadata": {},
     "output_type": "execute_result"
    }
   ],
   "source": [
    "# 파일목록을 리스트로 저장하여 가져오기\n",
    "filenames = os.listdir('.')\n",
    "filenames"
   ]
  },
  {
   "cell_type": "code",
   "execution_count": null,
   "metadata": {
    "colab": {
     "base_uri": "https://localhost:8080/",
     "height": 174
    },
    "executionInfo": {
     "elapsed": 279,
     "status": "error",
     "timestamp": 1676946758735,
     "user": {
      "displayName": "전창민",
      "userId": "04793944019518067714"
     },
     "user_tz": -540
    },
    "id": "ZGRqbd4JzvjJ",
    "outputId": "4d631d15-4014-4c36-a396-6431b39975db"
   },
   "outputs": [
    {
     "ename": "FileExistsError",
     "evalue": "ignored",
     "output_type": "error",
     "traceback": [
      "\u001b[0;31m---------------------------------------------------------------------------\u001b[0m",
      "\u001b[0;31mFileExistsError\u001b[0m                           Traceback (most recent call last)",
      "\u001b[0;32m<ipython-input-23-27cfa41e418c>\u001b[0m in \u001b[0;36m<module>\u001b[0;34m\u001b[0m\n\u001b[0;32m----> 1\u001b[0;31m \u001b[0mos\u001b[0m\u001b[0;34m.\u001b[0m\u001b[0mmkdir\u001b[0m\u001b[0;34m(\u001b[0m\u001b[0;34m'./test2'\u001b[0m\u001b[0;34m)\u001b[0m\u001b[0;34m\u001b[0m\u001b[0;34m\u001b[0m\u001b[0m\n\u001b[0m",
      "\u001b[0;31mFileExistsError\u001b[0m: [Errno 17] File exists: './test2'"
     ]
    }
   ],
   "source": [
    "# mkdir\n",
    "os.mkdir('./test2')\n",
    "# 두 번 실행시 이미 존재하는 파일이라 추가 생성이 불가능함을 알 수 있음"
   ]
  },
  {
   "cell_type": "code",
   "execution_count": null,
   "metadata": {
    "id": "xFfi3OY20KsB"
   },
   "outputs": [],
   "source": [
    "# makedirs\n",
    "# 디렉토리가 없으면 생성하고, 있으면 ok라는 옵션 설정 가능\n",
    "os.makedirs('./test2', exist_ok = True)"
   ]
  },
  {
   "cell_type": "code",
   "execution_count": null,
   "metadata": {
    "id": "51enoLj-0fWG"
   },
   "outputs": [],
   "source": [
    "# 새 디렉토리와 그 디렉토리 안에 하위디렉토리까지 생성 가능\n",
    "os.makedirs('./test3/aa', exist_ok = True)"
   ]
  },
  {
   "cell_type": "markdown",
   "metadata": {
    "id": "SSNQnxn016Yp"
   },
   "source": [
    "### 메타정보\n",
    "파일의 정보 ->주어진 권한, 생성일자, 파일의 이름 등을 뜻함"
   ]
  },
  {
   "cell_type": "markdown",
   "metadata": {
    "id": "CxTlbhWa3DdE"
   },
   "source": [
    "## shutil.copy 메소드로 파일복사"
   ]
  },
  {
   "cell_type": "code",
   "execution_count": null,
   "metadata": {
    "colab": {
     "base_uri": "https://localhost:8080/",
     "height": 35
    },
    "executionInfo": {
     "elapsed": 307,
     "status": "ok",
     "timestamp": 1676947478271,
     "user": {
      "displayName": "전창민",
      "userId": "04793944019518067714"
     },
     "user_tz": -540
    },
    "id": "SwUIhV1C1dof",
    "outputId": "05ecc3d6-6d4f-4c1f-e20e-1523a11d7764"
   },
   "outputs": [
    {
     "data": {
      "application/vnd.google.colaboratory.intrinsic+json": {
       "type": "string"
      },
      "text/plain": [
       "'./test3/aa/a.txt'"
      ]
     },
     "execution_count": 29,
     "metadata": {},
     "output_type": "execute_result"
    }
   ],
   "source": [
    "# copy\n",
    "# shutil 메소드 이용\n",
    "import shutil\n",
    "srcFile = './a.txt'\n",
    "dstFile = './test3/aa/a.txt'\n",
    "\n",
    "shutil.copy(srcFile, dstFile)"
   ]
  },
  {
   "cell_type": "markdown",
   "metadata": {
    "id": "28CgZbnv3QEu"
   },
   "source": [
    "## shutil.move 메소드로 파일 이동"
   ]
  },
  {
   "cell_type": "code",
   "execution_count": null,
   "metadata": {
    "colab": {
     "base_uri": "https://localhost:8080/",
     "height": 35
    },
    "executionInfo": {
     "elapsed": 427,
     "status": "ok",
     "timestamp": 1676947682982,
     "user": {
      "displayName": "전창민",
      "userId": "04793944019518067714"
     },
     "user_tz": -540
    },
    "id": "NUCxCn4A2sUV",
    "outputId": "ebdeab08-f00c-45a0-f6db-4e264942f96a"
   },
   "outputs": [
    {
     "data": {
      "application/vnd.google.colaboratory.intrinsic+json": {
       "type": "string"
      },
      "text/plain": [
       "'./aa.txt'"
      ]
     },
     "execution_count": 30,
     "metadata": {},
     "output_type": "execute_result"
    }
   ],
   "source": [
    "import shutil\n",
    "srcFile = './test3/aa/a.txt'\n",
    "dstFile = './aa.txt'\n",
    "shutil.move(srcFile, dstFile)"
   ]
  },
  {
   "cell_type": "markdown",
   "metadata": {
    "id": "R1z5w-7MU7pr"
   },
   "source": [
    "# 리눅스 명령어 예제실습"
   ]
  },
  {
   "cell_type": "code",
   "execution_count": null,
   "metadata": {
    "colab": {
     "base_uri": "https://localhost:8080/"
    },
    "executionInfo": {
     "elapsed": 880,
     "status": "ok",
     "timestamp": 1676956079225,
     "user": {
      "displayName": "전창민",
      "userId": "04793944019518067714"
     },
     "user_tz": -540
    },
    "id": "BxhXvNMK3vIW",
    "outputId": "10119b75-48ec-4a9f-b77e-4ef58027d003"
   },
   "outputs": [
    {
     "name": "stdout",
     "output_type": "stream",
     "text": [
      "/content\n"
     ]
    }
   ],
   "source": [
    "# 1번예제: 파일 생성(touch로 / content디렉토리내에 a.txt)\n",
    "# 현재 작업 디렉토리 확인\n",
    "!pwd"
   ]
  },
  {
   "cell_type": "code",
   "execution_count": null,
   "metadata": {
    "colab": {
     "base_uri": "https://localhost:8080/"
    },
    "executionInfo": {
     "elapsed": 279,
     "status": "ok",
     "timestamp": 1676956079877,
     "user": {
      "displayName": "전창민",
      "userId": "04793944019518067714"
     },
     "user_tz": -540
    },
    "id": "k6DH-qo2VaI0",
    "outputId": "1b95c376-0892-48f6-fe96-d96162ae8073"
   },
   "outputs": [
    {
     "name": "stdout",
     "output_type": "stream",
     "text": [
      "a.txt  sample_data  test1  test2\n"
     ]
    }
   ],
   "source": [
    "# !touch /content/a.txt도 가능\n",
    "!touch a.txt\n",
    "\n",
    "# 파일 생성여부 확인\n",
    "!ls\n"
   ]
  },
  {
   "cell_type": "code",
   "execution_count": null,
   "metadata": {
    "colab": {
     "base_uri": "https://localhost:8080/"
    },
    "executionInfo": {
     "elapsed": 281,
     "status": "ok",
     "timestamp": 1676956080156,
     "user": {
      "displayName": "전창민",
      "userId": "04793944019518067714"
     },
     "user_tz": -540
    },
    "id": "AA4pcA2fVsHA",
    "outputId": "05ed10ff-d7f0-4b25-aca7-dc5bd6ca0a80"
   },
   "outputs": [
    {
     "name": "stdout",
     "output_type": "stream",
     "text": [
      "mkdir: cannot create directory ‘test1’: File exists\n",
      "total 24\n",
      "drwxr-xr-x 1 root root 4096 Feb 21 05:04 .\n",
      "drwxr-xr-x 1 root root 4096 Feb 21 04:57 ..\n",
      "-rw-r--r-- 1 root root    0 Feb 21 05:08 a.txt\n",
      "drwxr-xr-x 4 root root 4096 Feb 17 19:29 .config\n",
      "drwxr-xr-x 1 root root 4096 Feb 17 19:30 sample_data\n",
      "drwxr-xr-x 2 root root 4096 Feb 21 05:02 test1\n",
      "drwxr-xr-x 2 root root 4096 Feb 21 05:04 test2\n"
     ]
    }
   ],
   "source": [
    "# 2번예제: 디렉토리 생성하기(test1)\n",
    "!mkdir test1\n",
    "\n",
    "# test1 디렉토리 생성여부 확인\n",
    "!ls -al"
   ]
  },
  {
   "cell_type": "code",
   "execution_count": null,
   "metadata": {
    "colab": {
     "base_uri": "https://localhost:8080/"
    },
    "executionInfo": {
     "elapsed": 3,
     "status": "ok",
     "timestamp": 1676956080156,
     "user": {
      "displayName": "전창민",
      "userId": "04793944019518067714"
     },
     "user_tz": -540
    },
    "id": "niQplS1XV4p5",
    "outputId": "46a384a6-6719-4e7a-f28f-786a85e8fdb8"
   },
   "outputs": [
    {
     "name": "stdout",
     "output_type": "stream",
     "text": [
      "a.txt  b.txt\n"
     ]
    }
   ],
   "source": [
    "# 3번예제: test1디렉토리로 복사하기\n",
    "# cp a.txt test1의 형식도 가능\n",
    "!cp /content/a.txt /content/test1/a.txt\n",
    "\n",
    "# 파일이 잘 복사되었는지 확인\n",
    "!ls /content/test1"
   ]
  },
  {
   "cell_type": "code",
   "execution_count": null,
   "metadata": {
    "colab": {
     "base_uri": "https://localhost:8080/"
    },
    "executionInfo": {
     "elapsed": 343,
     "status": "ok",
     "timestamp": 1676956080497,
     "user": {
      "displayName": "전창민",
      "userId": "04793944019518067714"
     },
     "user_tz": -540
    },
    "id": "AJmqPdcBWLjc",
    "outputId": "3dca76c8-a317-4f6b-93c2-02185d166dab"
   },
   "outputs": [
    {
     "name": "stdout",
     "output_type": "stream",
     "text": [
      "a.txt  b.txt\n"
     ]
    }
   ],
   "source": [
    "# 4번예제: test1디렉토리안에서 a.txt.파일을 b.txt파일로 복사하기\n",
    "!cp /content/test1/a.txt /content/test1/b.txt\n",
    "\n",
    "# 복사가 잘 되었는지 확인\n",
    "!ls /content/test1"
   ]
  },
  {
   "cell_type": "code",
   "execution_count": null,
   "metadata": {
    "colab": {
     "base_uri": "https://localhost:8080/"
    },
    "executionInfo": {
     "elapsed": 1025,
     "status": "ok",
     "timestamp": 1676956081520,
     "user": {
      "displayName": "전창민",
      "userId": "04793944019518067714"
     },
     "user_tz": -540
    },
    "id": "QkFxMZhmWjdm",
    "outputId": "0572679b-15bf-4637-edc6-f245df5d1e94"
   },
   "outputs": [
    {
     "name": "stdout",
     "output_type": "stream",
     "text": [
      "mkdir: cannot create directory ‘test2’: File exists\n",
      "a.txt  sample_data  test1  test2\n"
     ]
    }
   ],
   "source": [
    "# 5번예제: b.txt파일을 /content/test2/디렉토리로 복사하기\n",
    "!mkdir test2\n",
    "!ls /content/\n"
   ]
  },
  {
   "cell_type": "code",
   "execution_count": null,
   "metadata": {
    "colab": {
     "base_uri": "https://localhost:8080/"
    },
    "executionInfo": {
     "elapsed": 15,
     "status": "ok",
     "timestamp": 1676956081520,
     "user": {
      "displayName": "전창민",
      "userId": "04793944019518067714"
     },
     "user_tz": -540
    },
    "id": "IGII2JUQXUZx",
    "outputId": "d21bee93-a02b-4de7-ee5e-5db9d2489e6a"
   },
   "outputs": [
    {
     "name": "stdout",
     "output_type": "stream",
     "text": [
      "a.txt  sample_data  test1  test2\n"
     ]
    }
   ],
   "source": [
    "# os메소드를 활용한 방법\n",
    "import os\n",
    "os.makedirs('/content/test2', exist_ok = True)\n",
    "!ls /content/"
   ]
  },
  {
   "cell_type": "code",
   "execution_count": null,
   "metadata": {
    "colab": {
     "base_uri": "https://localhost:8080/"
    },
    "executionInfo": {
     "elapsed": 12,
     "status": "ok",
     "timestamp": 1676956081521,
     "user": {
      "displayName": "전창민",
      "userId": "04793944019518067714"
     },
     "user_tz": -540
    },
    "id": "s4tA1yDtW_xA",
    "outputId": "10a38958-dd3b-4054-ed7f-bf5e62d6c96b"
   },
   "outputs": [
    {
     "name": "stdout",
     "output_type": "stream",
     "text": [
      "b.txt\n"
     ]
    }
   ],
   "source": [
    "!cp /content/test1/b.txt /content/test2/b.txt\n",
    "!ls /content/test2"
   ]
  },
  {
   "cell_type": "code",
   "execution_count": null,
   "metadata": {
    "colab": {
     "base_uri": "https://localhost:8080/"
    },
    "executionInfo": {
     "elapsed": 9,
     "status": "ok",
     "timestamp": 1676956081521,
     "user": {
      "displayName": "전창민",
      "userId": "04793944019518067714"
     },
     "user_tz": -540
    },
    "id": "CkrzcOQxXDjf",
    "outputId": "6b2f2604-04b7-42a5-a70a-5660044d9d9a"
   },
   "outputs": [
    {
     "name": "stdout",
     "output_type": "stream",
     "text": [
      "mkdir: cannot create directory ‘test2’: File exists\n",
      "/bin/bash: ls/content/test2: No such file or directory\n"
     ]
    }
   ],
   "source": [
    "# 추가적으로 move를 사용한 방법\n",
    "!mkdir test2\n",
    "!mv /content/test1/b.txt /content/test2/b.txt\n",
    "!ls/content/test2"
   ]
  },
  {
   "cell_type": "markdown",
   "metadata": {
    "id": "iRI4UUpmXjnd"
   },
   "source": [
    "# 파이썬 메소드를 활용한 예제실습(os, shutil)"
   ]
  },
  {
   "cell_type": "code",
   "execution_count": null,
   "metadata": {
    "id": "udiOeZoSXqRe"
   },
   "outputs": [],
   "source": [
    "import os, shutil"
   ]
  },
  {
   "cell_type": "code",
   "execution_count": null,
   "metadata": {
    "id": "Lp6qeGzshxXE"
   },
   "outputs": [],
   "source": [
    "# 1번예제: 파일생성(touch로/ content디렉토리 내에 aa/txt)\n",
    "# !touch /content/aa.txt도 가능\n",
    "!pwd\n",
    "!touch aa.txt"
   ]
  },
  {
   "cell_type": "code",
   "execution_count": null,
   "metadata": {
    "colab": {
     "base_uri": "https://localhost:8080/"
    },
    "executionInfo": {
     "elapsed": 5,
     "status": "ok",
     "timestamp": 1676958796305,
     "user": {
      "displayName": "전창민",
      "userId": "04793944019518067714"
     },
     "user_tz": -540
    },
    "id": "UcSA771Fh8pm",
    "outputId": "e2240a27-ea19-4d90-8243-bb6681aa953f"
   },
   "outputs": [
    {
     "data": {
      "text/plain": [
       "['.config', 'a.txt', 'aa.txt', 'test2', 'test1', 'sample_data']"
      ]
     },
     "execution_count": 21,
     "metadata": {},
     "output_type": "execute_result"
    }
   ],
   "source": [
    "# path메소드를 이용하여 빈파일 생성\n",
    "from pathlib import Path\n",
    "Path('aa.txt').touch()\n",
    "os.listdir('.')"
   ]
  },
  {
   "cell_type": "code",
   "execution_count": null,
   "metadata": {
    "id": "gHSFvTdmiIdh"
   },
   "outputs": [],
   "source": [
    "# 2번예제: 디렉토리 생성하기 (test3)\n",
    "# '.'대신 content를 그대로 적용해도 상관없다\n",
    "# os.makedirs('./test3', exist_ok = True)\n",
    "import os\n",
    "os.makedirs('/content/test3', exist_ok = True)"
   ]
  },
  {
   "cell_type": "code",
   "execution_count": null,
   "metadata": {
    "colab": {
     "base_uri": "https://localhost:8080/"
    },
    "executionInfo": {
     "elapsed": 3,
     "status": "ok",
     "timestamp": 1676958887982,
     "user": {
      "displayName": "전창민",
      "userId": "04793944019518067714"
     },
     "user_tz": -540
    },
    "id": "Y5T5eSVZiZA4",
    "outputId": "4e8fd12d-92a1-43a3-dd6e-67bc79078ab9"
   },
   "outputs": [
    {
     "data": {
      "text/plain": [
       "['.config', 'test3', 'a.txt', 'aa.txt', 'test2', 'test1', 'sample_data']"
      ]
     },
     "execution_count": 23,
     "metadata": {},
     "output_type": "execute_result"
    }
   ],
   "source": [
    "# test3디렉토리 생성여부 확인\n",
    "os.listdir('.')"
   ]
  },
  {
   "cell_type": "code",
   "execution_count": null,
   "metadata": {
    "colab": {
     "base_uri": "https://localhost:8080/",
     "height": 35
    },
    "executionInfo": {
     "elapsed": 4,
     "status": "ok",
     "timestamp": 1676959010718,
     "user": {
      "displayName": "전창민",
      "userId": "04793944019518067714"
     },
     "user_tz": -540
    },
    "id": "og2AePRNie1s",
    "outputId": "967fd2b9-7438-4920-e260-5a72d70656dc"
   },
   "outputs": [
    {
     "data": {
      "application/vnd.google.colaboratory.intrinsic+json": {
       "type": "string"
      },
      "text/plain": [
       "'/content/test3/aa.txt'"
      ]
     },
     "execution_count": 24,
     "metadata": {},
     "output_type": "execute_result"
    }
   ],
   "source": [
    "# 3번예제: test3디렉토리로 복사하기\n",
    "srcFile = '/content/aa.txt'\n",
    "dstFile = '/content/test3/aa.txt'\n",
    "shutil.copy(srcFile, dstFile)"
   ]
  },
  {
   "cell_type": "code",
   "execution_count": null,
   "metadata": {
    "colab": {
     "base_uri": "https://localhost:8080/"
    },
    "executionInfo": {
     "elapsed": 3,
     "status": "ok",
     "timestamp": 1676959068147,
     "user": {
      "displayName": "전창민",
      "userId": "04793944019518067714"
     },
     "user_tz": -540
    },
    "id": "Jt45QxqCi80t",
    "outputId": "ed154d55-ece4-45f7-e117-6929f3e8527b"
   },
   "outputs": [
    {
     "data": {
      "text/plain": [
       "['aa.txt']"
      ]
     },
     "execution_count": 25,
     "metadata": {},
     "output_type": "execute_result"
    }
   ],
   "source": [
    "# 복사가 잘 되었는지 여부 확인\n",
    "os.listdir('/content/test3')"
   ]
  },
  {
   "cell_type": "code",
   "execution_count": null,
   "metadata": {
    "colab": {
     "base_uri": "https://localhost:8080/",
     "height": 35
    },
    "executionInfo": {
     "elapsed": 5,
     "status": "ok",
     "timestamp": 1676959130445,
     "user": {
      "displayName": "전창민",
      "userId": "04793944019518067714"
     },
     "user_tz": -540
    },
    "id": "2yE0i3GMjKxu",
    "outputId": "b74c48d2-7009-4c18-ade0-9a75e6d764ec"
   },
   "outputs": [
    {
     "data": {
      "application/vnd.google.colaboratory.intrinsic+json": {
       "type": "string"
      },
      "text/plain": [
       "'/content/test3/bb.txt'"
      ]
     },
     "execution_count": 26,
     "metadata": {},
     "output_type": "execute_result"
    }
   ],
   "source": [
    "# 4번예제: test3디렉토리안에서 aa.txt파일을 bb.txt파일로 복사하기\n",
    "src = '/content/test3/aa.txt'\n",
    "dst = '/content/test3/bb.txt'\n",
    "shutil.copy(src, dst)"
   ]
  },
  {
   "cell_type": "code",
   "execution_count": null,
   "metadata": {
    "colab": {
     "base_uri": "https://localhost:8080/"
    },
    "executionInfo": {
     "elapsed": 3,
     "status": "ok",
     "timestamp": 1676959155390,
     "user": {
      "displayName": "전창민",
      "userId": "04793944019518067714"
     },
     "user_tz": -540
    },
    "id": "vv0jPHvVjZ-R",
    "outputId": "09294cdc-103e-4774-e799-6a472c2595e2"
   },
   "outputs": [
    {
     "data": {
      "text/plain": [
       "['aa.txt', 'bb.txt']"
      ]
     },
     "execution_count": 27,
     "metadata": {},
     "output_type": "execute_result"
    }
   ],
   "source": [
    "# 복사여부 확인\n",
    "os.listdir('/content/test3')"
   ]
  },
  {
   "cell_type": "code",
   "execution_count": null,
   "metadata": {
    "colab": {
     "base_uri": "https://localhost:8080/",
     "height": 35
    },
    "executionInfo": {
     "elapsed": 5,
     "status": "ok",
     "timestamp": 1676959241398,
     "user": {
      "displayName": "전창민",
      "userId": "04793944019518067714"
     },
     "user_tz": -540
    },
    "id": "5JEPD7kFjgGN",
    "outputId": "3c0a5bdd-6896-4ec9-a27a-059662f4af6d"
   },
   "outputs": [
    {
     "data": {
      "application/vnd.google.colaboratory.intrinsic+json": {
       "type": "string"
      },
      "text/plain": [
       "'/content/test4/bb.txt'"
      ]
     },
     "execution_count": 28,
     "metadata": {},
     "output_type": "execute_result"
    }
   ],
   "source": [
    "# 5번예제: bb.txt파일을 /content/test4/디렉토리로 복사하기\n",
    "os.makedirs('/content/test4', exist_ok = True)\n",
    "src = '/content/test3/bb.txt'\n",
    "dst = '/content/test4/bb.txt'\n",
    "shutil.copy(src, dst)"
   ]
  },
  {
   "cell_type": "code",
   "execution_count": null,
   "metadata": {
    "colab": {
     "base_uri": "https://localhost:8080/"
    },
    "executionInfo": {
     "elapsed": 2,
     "status": "ok",
     "timestamp": 1676959264389,
     "user": {
      "displayName": "전창민",
      "userId": "04793944019518067714"
     },
     "user_tz": -540
    },
    "id": "j6Q9mCudj02g",
    "outputId": "0feb6d51-c5c8-40d6-f118-63f874d904cc"
   },
   "outputs": [
    {
     "data": {
      "text/plain": [
       "['bb.txt']"
      ]
     },
     "execution_count": 29,
     "metadata": {},
     "output_type": "execute_result"
    }
   ],
   "source": [
    "# 복사여부 확인\n",
    "os.listdir('/content/test4')"
   ]
  },
  {
   "cell_type": "code",
   "execution_count": null,
   "metadata": {
    "id": "yvPIFLqCj6gw"
   },
   "outputs": [],
   "source": [
    "# 추가적으로 move를 사용하는 방법\n",
    "shutil.move(scr, dst)\n",
    "os.listdir('/content/test4')"
   ]
  },
  {
   "cell_type": "markdown",
   "metadata": {
    "id": "WDpShdTukG2B"
   },
   "source": [
    "# Python 연산자"
   ]
  },
  {
   "cell_type": "markdown",
   "metadata": {
    "id": "8vVAp2yTkKE4"
   },
   "source": [
    "## 1. 사칙연산(+, -, /, *)\n",
    "* 더하기( + )\n",
    "* 빼기( - )\n",
    "* 나누기( / )\n",
    "* 곱하기( * )"
   ]
  },
  {
   "cell_type": "code",
   "execution_count": null,
   "metadata": {
    "id": "L93uYHk3kfGJ"
   },
   "outputs": [],
   "source": [
    "a = 10\n",
    "b = 3"
   ]
  },
  {
   "cell_type": "markdown",
   "metadata": {
    "id": "ZCeXVHxhki9n"
   },
   "source": [
    "### 더하기"
   ]
  },
  {
   "cell_type": "code",
   "execution_count": null,
   "metadata": {
    "colab": {
     "base_uri": "https://localhost:8080/"
    },
    "executionInfo": {
     "elapsed": 3,
     "status": "ok",
     "timestamp": 1676959448199,
     "user": {
      "displayName": "전창민",
      "userId": "04793944019518067714"
     },
     "user_tz": -540
    },
    "id": "-LpJsfvTkh6p",
    "outputId": "f859dc69-5907-41bd-b350-19975d45a4e0"
   },
   "outputs": [
    {
     "data": {
      "text/plain": [
       "13"
      ]
     },
     "execution_count": 31,
     "metadata": {},
     "output_type": "execute_result"
    }
   ],
   "source": [
    "a + b"
   ]
  },
  {
   "cell_type": "code",
   "execution_count": null,
   "metadata": {
    "colab": {
     "base_uri": "https://localhost:8080/"
    },
    "executionInfo": {
     "elapsed": 3,
     "status": "ok",
     "timestamp": 1676959451065,
     "user": {
      "displayName": "전창민",
      "userId": "04793944019518067714"
     },
     "user_tz": -540
    },
    "id": "jzLwtvlSknRy",
    "outputId": "c7092744-2546-4f30-8cc1-68be35db7add"
   },
   "outputs": [
    {
     "data": {
      "text/plain": [
       "244"
      ]
     },
     "execution_count": 32,
     "metadata": {},
     "output_type": "execute_result"
    }
   ],
   "source": [
    "10 + 234"
   ]
  },
  {
   "cell_type": "markdown",
   "metadata": {
    "id": "lRpODDHvko8w"
   },
   "source": [
    "### 빼기"
   ]
  },
  {
   "cell_type": "code",
   "execution_count": null,
   "metadata": {
    "colab": {
     "base_uri": "https://localhost:8080/"
    },
    "executionInfo": {
     "elapsed": 5,
     "status": "ok",
     "timestamp": 1676959476141,
     "user": {
      "displayName": "전창민",
      "userId": "04793944019518067714"
     },
     "user_tz": -540
    },
    "id": "QTQ82JRVkoVu",
    "outputId": "40a6e221-124a-4520-a9e6-6a14a027d105"
   },
   "outputs": [
    {
     "data": {
      "text/plain": [
       "7"
      ]
     },
     "execution_count": 33,
     "metadata": {},
     "output_type": "execute_result"
    }
   ],
   "source": [
    "a - b"
   ]
  },
  {
   "cell_type": "markdown",
   "metadata": {
    "id": "EIJVDo4Nkurp"
   },
   "source": [
    "### 나누기"
   ]
  },
  {
   "cell_type": "code",
   "execution_count": null,
   "metadata": {
    "colab": {
     "base_uri": "https://localhost:8080/"
    },
    "executionInfo": {
     "elapsed": 6,
     "status": "ok",
     "timestamp": 1676959945585,
     "user": {
      "displayName": "전창민",
      "userId": "04793944019518067714"
     },
     "user_tz": -540
    },
    "id": "ayqb9QIIkuAy",
    "outputId": "fff0a9c8-4bbe-445d-894d-d2ad6e444b57"
   },
   "outputs": [
    {
     "name": "stdout",
     "output_type": "stream",
     "text": [
      "<class 'float'>\n"
     ]
    }
   ],
   "source": [
    "# a, b는 모두 int\n",
    "# '/'로 나눌때는 실수값(float)이 결과값으로 도출된다.\n",
    "c = a / b\n",
    "print(type(c))\n"
   ]
  },
  {
   "cell_type": "code",
   "execution_count": null,
   "metadata": {
    "colab": {
     "base_uri": "https://localhost:8080/"
    },
    "executionInfo": {
     "elapsed": 7,
     "status": "ok",
     "timestamp": 1676959964848,
     "user": {
      "displayName": "전창민",
      "userId": "04793944019518067714"
     },
     "user_tz": -540
    },
    "id": "JKkN3Ibemg4U",
    "outputId": "5fbb6b62-dcc8-47a3-9533-4a6413dd5156"
   },
   "outputs": [
    {
     "data": {
      "text/plain": [
       "int"
      ]
     },
     "execution_count": 35,
     "metadata": {},
     "output_type": "execute_result"
    }
   ],
   "source": [
    "# 명시적 형변환\n",
    "d = int(c)\n",
    "type(d)"
   ]
  },
  {
   "cell_type": "code",
   "execution_count": null,
   "metadata": {
    "colab": {
     "base_uri": "https://localhost:8080/"
    },
    "executionInfo": {
     "elapsed": 3,
     "status": "ok",
     "timestamp": 1676960007276,
     "user": {
      "displayName": "전창민",
      "userId": "04793944019518067714"
     },
     "user_tz": -540
    },
    "id": "5bQaKds9mlvI",
    "outputId": "4a3daf3c-4d15-4ccd-85e3-919ffbc3f0e8"
   },
   "outputs": [
    {
     "data": {
      "text/plain": [
       "int"
      ]
     },
     "execution_count": 36,
     "metadata": {},
     "output_type": "execute_result"
    }
   ],
   "source": [
    "# '//'로 나눗셈을 할 경우 결과값이 정수(int)로 도출된다.\n",
    "c = a // b\n",
    "type(c)"
   ]
  },
  {
   "cell_type": "markdown",
   "metadata": {
    "id": "e2Ry1KNUmxTV"
   },
   "source": [
    "### 곱하기"
   ]
  },
  {
   "cell_type": "code",
   "execution_count": null,
   "metadata": {
    "colab": {
     "base_uri": "https://localhost:8080/"
    },
    "executionInfo": {
     "elapsed": 4,
     "status": "ok",
     "timestamp": 1676962548348,
     "user": {
      "displayName": "전창민",
      "userId": "04793944019518067714"
     },
     "user_tz": -540
    },
    "id": "GEqzBcWLmwDe",
    "outputId": "b485090d-92fd-45d1-c03a-e1a337346861"
   },
   "outputs": [
    {
     "data": {
      "text/plain": [
       "30"
      ]
     },
     "execution_count": 37,
     "metadata": {},
     "output_type": "execute_result"
    }
   ],
   "source": [
    "a * b"
   ]
  },
  {
   "cell_type": "markdown",
   "metadata": {
    "id": "kYsnLB0DwdY4"
   },
   "source": [
    "## 2.추가적인 연산자(%, //, **)\n",
    "* %: 몫을 나눈 나머지를 구함\n",
    "* //: 나눗셈에 대한 몫을 정수형으로 구함\n",
    "* **: 제곱 연산"
   ]
  },
  {
   "cell_type": "code",
   "execution_count": null,
   "metadata": {
    "id": "XNGNqvxRwcdG"
   },
   "outputs": [],
   "source": [
    "a = 10\n",
    "b = 3"
   ]
  },
  {
   "cell_type": "markdown",
   "metadata": {
    "id": "zvgchqTZw9vS"
   },
   "source": [
    "### %: 몫을 나눈 나머지"
   ]
  },
  {
   "cell_type": "code",
   "execution_count": null,
   "metadata": {
    "colab": {
     "base_uri": "https://localhost:8080/"
    },
    "executionInfo": {
     "elapsed": 6,
     "status": "ok",
     "timestamp": 1676962712275,
     "user": {
      "displayName": "전창민",
      "userId": "04793944019518067714"
     },
     "user_tz": -540
    },
    "id": "KI2MnS4Cw9IN",
    "outputId": "646d2195-9dc8-4819-e515-9ac9c1cf9061"
   },
   "outputs": [
    {
     "data": {
      "text/plain": [
       "1"
      ]
     },
     "execution_count": 39,
     "metadata": {},
     "output_type": "execute_result"
    }
   ],
   "source": [
    "c = a % b\n",
    "c"
   ]
  },
  {
   "cell_type": "markdown",
   "metadata": {
    "id": "wYBIHxPgxFpN"
   },
   "source": [
    "### //: 나눗셈에 대한 몫을 정수형으로 구함"
   ]
  },
  {
   "cell_type": "code",
   "execution_count": null,
   "metadata": {
    "colab": {
     "base_uri": "https://localhost:8080/"
    },
    "executionInfo": {
     "elapsed": 11,
     "status": "ok",
     "timestamp": 1676962746056,
     "user": {
      "displayName": "전창민",
      "userId": "04793944019518067714"
     },
     "user_tz": -540
    },
    "id": "_3vPZzGoxLtq",
    "outputId": "0ea27159-0357-4d68-bd80-13da90cd1b92"
   },
   "outputs": [
    {
     "data": {
      "text/plain": [
       "3.3333333333333335"
      ]
     },
     "execution_count": 41,
     "metadata": {},
     "output_type": "execute_result"
    }
   ],
   "source": [
    "a / b"
   ]
  },
  {
   "cell_type": "code",
   "execution_count": null,
   "metadata": {
    "colab": {
     "base_uri": "https://localhost:8080/"
    },
    "executionInfo": {
     "elapsed": 3,
     "status": "ok",
     "timestamp": 1676962738859,
     "user": {
      "displayName": "전창민",
      "userId": "04793944019518067714"
     },
     "user_tz": -540
    },
    "id": "S-VAruB5xEQ1",
    "outputId": "51cbaad6-206a-4863-cc38-dad75e5330f5"
   },
   "outputs": [
    {
     "data": {
      "text/plain": [
       "3"
      ]
     },
     "execution_count": 40,
     "metadata": {},
     "output_type": "execute_result"
    }
   ],
   "source": [
    "a // b"
   ]
  },
  {
   "cell_type": "markdown",
   "metadata": {
    "id": "iE6IyBP2xO9z"
   },
   "source": [
    "## 3. *,/을 우선 계산, ( )의 활용"
   ]
  },
  {
   "cell_type": "code",
   "execution_count": null,
   "metadata": {
    "colab": {
     "base_uri": "https://localhost:8080/"
    },
    "executionInfo": {
     "elapsed": 5,
     "status": "ok",
     "timestamp": 1676962798730,
     "user": {
      "displayName": "전창민",
      "userId": "04793944019518067714"
     },
     "user_tz": -540
    },
    "id": "AeBjntOpxOlV",
    "outputId": "6a147fbd-8083-494a-d43f-006175523226"
   },
   "outputs": [
    {
     "data": {
      "text/plain": [
       "20"
      ]
     },
     "execution_count": 42,
     "metadata": {},
     "output_type": "execute_result"
    }
   ],
   "source": [
    "10 + 2 * 5"
   ]
  },
  {
   "cell_type": "code",
   "execution_count": null,
   "metadata": {
    "colab": {
     "base_uri": "https://localhost:8080/"
    },
    "executionInfo": {
     "elapsed": 5,
     "status": "ok",
     "timestamp": 1676962812820,
     "user": {
      "displayName": "전창민",
      "userId": "04793944019518067714"
     },
     "user_tz": -540
    },
    "id": "NH6HRBvDxKqg",
    "outputId": "2edc4778-ddc0-4be2-f6ad-e962364d408a"
   },
   "outputs": [
    {
     "data": {
      "text/plain": [
       "60"
      ]
     },
     "execution_count": 43,
     "metadata": {},
     "output_type": "execute_result"
    }
   ],
   "source": [
    "(10 + 2) * 5"
   ]
  },
  {
   "cell_type": "markdown",
   "metadata": {
    "id": "ZNysYPcCxeJO"
   },
   "source": [
    "## 4. 문자열의 연산"
   ]
  },
  {
   "cell_type": "code",
   "execution_count": null,
   "metadata": {
    "id": "vbFzDbx2xc1D"
   },
   "outputs": [],
   "source": [
    "a = 'Hello '\n",
    "b = 'World!.'"
   ]
  },
  {
   "cell_type": "code",
   "execution_count": null,
   "metadata": {
    "colab": {
     "base_uri": "https://localhost:8080/",
     "height": 35
    },
    "executionInfo": {
     "elapsed": 5,
     "status": "ok",
     "timestamp": 1676962880650,
     "user": {
      "displayName": "전창민",
      "userId": "04793944019518067714"
     },
     "user_tz": -540
    },
    "id": "myfZgkLIxmTg",
    "outputId": "88a4eb3c-74b0-4b7a-88bb-96e068fc64b1"
   },
   "outputs": [
    {
     "data": {
      "application/vnd.google.colaboratory.intrinsic+json": {
       "type": "string"
      },
      "text/plain": [
       "'Hello World!.'"
      ]
     },
     "execution_count": 45,
     "metadata": {},
     "output_type": "execute_result"
    }
   ],
   "source": [
    "# 문자열에서 '+'연산자는 산술연산자가 아님\n",
    "# 두 개의 문자열을 붙여주는 작업\n",
    "a + b"
   ]
  },
  {
   "cell_type": "code",
   "execution_count": null,
   "metadata": {
    "colab": {
     "base_uri": "https://localhost:8080/"
    },
    "executionInfo": {
     "elapsed": 3,
     "status": "ok",
     "timestamp": 1676962890169,
     "user": {
      "displayName": "전창민",
      "userId": "04793944019518067714"
     },
     "user_tz": -540
    },
    "id": "Z2B3cIcwxtSg",
    "outputId": "7a272d31-b31a-48b8-9a9b-80454cc38b6a"
   },
   "outputs": [
    {
     "name": "stdout",
     "output_type": "stream",
     "text": [
      "Hello Hello Hello \n"
     ]
    }
   ],
   "source": [
    "print(a * 3)"
   ]
  },
  {
   "cell_type": "code",
   "execution_count": null,
   "metadata": {
    "colab": {
     "base_uri": "https://localhost:8080/"
    },
    "executionInfo": {
     "elapsed": 2,
     "status": "ok",
     "timestamp": 1676962949472,
     "user": {
      "displayName": "전창민",
      "userId": "04793944019518067714"
     },
     "user_tz": -540
    },
    "id": "PIjniYX-xvsN",
    "outputId": "e1d662fe-94a2-4b2e-9a0f-e80346e01759"
   },
   "outputs": [
    {
     "name": "stdout",
     "output_type": "stream",
     "text": [
      "C:/Users/chunc\n"
     ]
    }
   ],
   "source": [
    "# 파일경로를 통한 문자열 더하기\n",
    "myPath1 = 'C:/'\n",
    "myPath2 = 'Users/'\n",
    "myPath3 = 'chunc'\n",
    "myPath = myPath1 + myPath2 + myPath3\n",
    "print(myPath)"
   ]
  },
  {
   "cell_type": "code",
   "execution_count": null,
   "metadata": {
    "colab": {
     "base_uri": "https://localhost:8080/",
     "height": 174
    },
    "executionInfo": {
     "elapsed": 5,
     "status": "error",
     "timestamp": 1676962957327,
     "user": {
      "displayName": "전창민",
      "userId": "04793944019518067714"
     },
     "user_tz": -540
    },
    "id": "q_SAPsx0x-Z1",
    "outputId": "db9f6103-2189-4b44-a1f3-5385e34530c1"
   },
   "outputs": [
    {
     "ename": "TypeError",
     "evalue": "ignored",
     "output_type": "error",
     "traceback": [
      "\u001b[0;31m---------------------------------------------------------------------------\u001b[0m",
      "\u001b[0;31mTypeError\u001b[0m                                 Traceback (most recent call last)",
      "\u001b[0;32m<ipython-input-48-09bd029d0285>\u001b[0m in \u001b[0;36m<module>\u001b[0;34m\u001b[0m\n\u001b[0;32m----> 1\u001b[0;31m \u001b[0ma\u001b[0m \u001b[0;34m-\u001b[0m \u001b[0mb\u001b[0m\u001b[0;34m\u001b[0m\u001b[0;34m\u001b[0m\u001b[0m\n\u001b[0m",
      "\u001b[0;31mTypeError\u001b[0m: unsupported operand type(s) for -: 'str' and 'str'"
     ]
    }
   ],
   "source": [
    "a - b"
   ]
  },
  {
   "cell_type": "code",
   "execution_count": null,
   "metadata": {
    "colab": {
     "base_uri": "https://localhost:8080/",
     "height": 174
    },
    "executionInfo": {
     "elapsed": 4,
     "status": "error",
     "timestamp": 1676962963824,
     "user": {
      "displayName": "전창민",
      "userId": "04793944019518067714"
     },
     "user_tz": -540
    },
    "id": "aY4D1sfryAOt",
    "outputId": "37887f14-3347-4321-c64b-d32f262faae0"
   },
   "outputs": [
    {
     "ename": "TypeError",
     "evalue": "ignored",
     "output_type": "error",
     "traceback": [
      "\u001b[0;31m---------------------------------------------------------------------------\u001b[0m",
      "\u001b[0;31mTypeError\u001b[0m                                 Traceback (most recent call last)",
      "\u001b[0;32m<ipython-input-49-d8e10abd5ab6>\u001b[0m in \u001b[0;36m<module>\u001b[0;34m\u001b[0m\n\u001b[0;32m----> 1\u001b[0;31m \u001b[0ma\u001b[0m \u001b[0;34m/\u001b[0m \u001b[0mb\u001b[0m\u001b[0;34m\u001b[0m\u001b[0;34m\u001b[0m\u001b[0m\n\u001b[0m",
      "\u001b[0;31mTypeError\u001b[0m: unsupported operand type(s) for /: 'str' and 'str'"
     ]
    }
   ],
   "source": [
    "a / b"
   ]
  },
  {
   "cell_type": "markdown",
   "metadata": {
    "id": "n_Y6xJ-HyDLA"
   },
   "source": [
    "### 4-1. 다음과 같은 경우엔 문자열이 합쳐진다"
   ]
  },
  {
   "cell_type": "code",
   "execution_count": null,
   "metadata": {
    "id": "RABtS7kJyBjP"
   },
   "outputs": [],
   "source": [
    "a = '10'\n",
    "b = '20'"
   ]
  },
  {
   "cell_type": "code",
   "execution_count": null,
   "metadata": {
    "colab": {
     "base_uri": "https://localhost:8080/",
     "height": 35
    },
    "executionInfo": {
     "elapsed": 5,
     "status": "ok",
     "timestamp": 1676963010811,
     "user": {
      "displayName": "전창민",
      "userId": "04793944019518067714"
     },
     "user_tz": -540
    },
    "id": "VdlpcVC3yCtJ",
    "outputId": "5c5bbcd6-44b1-44b4-bf6e-af3da419d255"
   },
   "outputs": [
    {
     "data": {
      "application/vnd.google.colaboratory.intrinsic+json": {
       "type": "string"
      },
      "text/plain": [
       "'1020'"
      ]
     },
     "execution_count": 51,
     "metadata": {},
     "output_type": "execute_result"
    }
   ],
   "source": [
    "a + b"
   ]
  },
  {
   "cell_type": "markdown",
   "metadata": {
    "id": "m-UxA_JP-Tuz"
   },
   "source": [
    "## 5. 주석"
   ]
  },
  {
   "cell_type": "markdown",
   "metadata": {
    "id": "uQ6FRt_c-jw6"
   },
   "source": [
    "### 5-1 서브"
   ]
  },
  {
   "cell_type": "markdown",
   "metadata": {
    "id": "z4OTx3QS-l3h"
   },
   "source": [
    "### '#' 뒤에 한칸 띄어 코멘트를 넣어주면 된다."
   ]
  },
  {
   "cell_type": "code",
   "execution_count": null,
   "metadata": {
    "colab": {
     "base_uri": "https://localhost:8080/"
    },
    "executionInfo": {
     "elapsed": 3,
     "status": "ok",
     "timestamp": 1676966331931,
     "user": {
      "displayName": "전창민",
      "userId": "04793944019518067714"
     },
     "user_tz": -540
    },
    "id": "3p_ufFQNyNbD",
    "outputId": "fc8b2f15-9fd6-4e56-af23-52cd13309cdb"
   },
   "outputs": [
    {
     "name": "stdout",
     "output_type": "stream",
     "text": [
      "7\n"
     ]
    }
   ],
   "source": [
    "# 코멘트를 달아준다.\n",
    "a = 3\n",
    "b = 4\n",
    "\n",
    "# a + b 연산을 수행한다\n",
    "print(a + b)"
   ]
  },
  {
   "cell_type": "code",
   "execution_count": null,
   "metadata": {
    "id": "4M4_5JEr-3_d"
   },
   "outputs": [],
   "source": []
  },
  {
   "cell_type": "markdown",
   "metadata": {
    "id": "EZbt9a4Y_Bgw"
   },
   "source": [
    "## 6. indent"
   ]
  },
  {
   "cell_type": "markdown",
   "metadata": {
    "id": "v-XHqUMu_FUd"
   },
   "source": [
    "indent(들여쓰기)는 파이썬에서 굉장히 중요하다.\n",
    "단순히 코드를 깔끔히 정리하기 위한 목적만은 아니다.\n",
    "\n",
    "* 본인이 맞게 코드를 짰다고 한다면, indent는 대부분의 프로그램에서 자동으로 해줄것이다.\n",
    "* [tab]키를 한 번 누르면 indent가 1번 한 효과이다."
   ]
  },
  {
   "cell_type": "markdown",
   "metadata": {
    "id": "Uat7IqLr_Ujr"
   },
   "source": [
    "indent 옵션을 space * 4 개로 바꿔보자\n",
    "\n",
    "[우측상단 톱니바퀴] - 편집기 - 들여쓰기 - 4 로 바꾸게 되면 들여쓰기를 좀 더 보기 쉽다"
   ]
  },
  {
   "cell_type": "code",
   "execution_count": null,
   "metadata": {
    "colab": {
     "base_uri": "https://localhost:8080/"
    },
    "executionInfo": {
     "elapsed": 4,
     "status": "ok",
     "timestamp": 1676966640576,
     "user": {
      "displayName": "전창민",
      "userId": "04793944019518067714"
     },
     "user_tz": -540
    },
    "id": "YOFCp5gG_yMo",
    "outputId": "64f7faf3-d9b9-48c7-dc95-62bad4bb16f6"
   },
   "outputs": [
    {
     "name": "stdout",
     "output_type": "stream",
     "text": [
      "Hi\n",
      "Hello\n",
      "123\n",
      "234\n"
     ]
    }
   ],
   "source": [
    "a = 10\n",
    "b = 20\n",
    "if  a < b:\n",
    "    print('Hi')\n",
    "    print('Hello')\n",
    "    print('123')\n",
    "print('234')"
   ]
  },
  {
   "cell_type": "markdown",
   "metadata": {
    "id": "Fji0Z1_y_cxk"
   },
   "source": [
    "### 6-1. 콜른(:)다음에 반드시 들여쓰기를 부여한다."
   ]
  },
  {
   "cell_type": "code",
   "execution_count": null,
   "metadata": {
    "colab": {
     "base_uri": "https://localhost:8080/"
    },
    "executionInfo": {
     "elapsed": 7,
     "status": "ok",
     "timestamp": 1676966727669,
     "user": {
      "displayName": "전창민",
      "userId": "04793944019518067714"
     },
     "user_tz": -540
    },
    "id": "cjTNlLjBALOg",
    "outputId": "bff727cb-bea1-41ce-bdb1-abe87dc8261a"
   },
   "outputs": [
    {
     "name": "stdout",
     "output_type": "stream",
     "text": [
      "13\n"
     ]
    }
   ],
   "source": [
    "# 더하기 연산함수 만들기\n",
    "def adder(a, b):\n",
    "    return a + b\n",
    "\n",
    "result = adder(10, 3)\n",
    "print(result)"
   ]
  },
  {
   "cell_type": "code",
   "execution_count": null,
   "metadata": {
    "id": "FN1Vl_RnAYp7"
   },
   "outputs": [],
   "source": [
    "# 함수의 본문은 들여쓰기를 한번 적용한다\n",
    "def my_func():\n",
    "    print('indent가 자동으로 되나요?')"
   ]
  },
  {
   "cell_type": "code",
   "execution_count": null,
   "metadata": {
    "colab": {
     "base_uri": "https://localhost:8080/"
    },
    "executionInfo": {
     "elapsed": 3,
     "status": "ok",
     "timestamp": 1676966807698,
     "user": {
      "displayName": "전창민",
      "userId": "04793944019518067714"
     },
     "user_tz": -540
    },
    "id": "0tZhChUmAqc2",
    "outputId": "a5ba8bbb-73ff-4da9-9caa-6bb9fe1408de"
   },
   "outputs": [
    {
     "name": "stdout",
     "output_type": "stream",
     "text": [
      "indent가 자동으로 되나요?\n"
     ]
    }
   ],
   "source": [
    "my_func()"
   ]
  },
  {
   "cell_type": "markdown",
   "metadata": {
    "id": "BKnSgPmUAuS5"
   },
   "source": [
    "### 6-2. 들여쓰기가 잘못될 경우 에러 발생"
   ]
  },
  {
   "cell_type": "code",
   "execution_count": null,
   "metadata": {
    "colab": {
     "base_uri": "https://localhost:8080/",
     "height": 137
    },
    "executionInfo": {
     "elapsed": 5,
     "status": "error",
     "timestamp": 1676966859118,
     "user": {
      "displayName": "전창민",
      "userId": "04793944019518067714"
     },
     "user_tz": -540
    },
    "id": "IgcMdK1xAsW7",
    "outputId": "a4ed569e-9405-4ef1-e428-7315dd71f3b4"
   },
   "outputs": [
    {
     "ename": "IndentationError",
     "evalue": "ignored",
     "output_type": "error",
     "traceback": [
      "\u001b[0;36m  File \u001b[0;32m\"<ipython-input-57-a09cf6cf6487>\"\u001b[0;36m, line \u001b[0;32m2\u001b[0m\n\u001b[0;31m    b = 4\u001b[0m\n\u001b[0m    ^\u001b[0m\n\u001b[0;31mIndentationError\u001b[0m\u001b[0;31m:\u001b[0m unexpected indent\n"
     ]
    }
   ],
   "source": [
    "a = 3\n",
    "    b = 4"
   ]
  },
  {
   "cell_type": "markdown",
   "metadata": {
    "id": "dr2Nb7JNA7Dc"
   },
   "source": [
    "## 7. 함수"
   ]
  },
  {
   "cell_type": "markdown",
   "metadata": {
    "id": "pSGREJinBAIj"
   },
   "source": [
    "반복적으로 사용되는 부분을 묶어서, 코드를 재사용 가능하도록 만들어주는 코드 집합함수에는 input이 있고, output(return)이 있다.<br>\n",
    "정해진 로직(규칙)에 따라, input -> output으로 효율적으로 바꿔주는 역할을 한다."
   ]
  },
  {
   "cell_type": "code",
   "execution_count": null,
   "metadata": {
    "id": "bY6KsDEcBeJM"
   },
   "outputs": [],
   "source": [
    "a = 1\n",
    "b = 2\n",
    "c = 3"
   ]
  },
  {
   "cell_type": "code",
   "execution_count": null,
   "metadata": {
    "colab": {
     "base_uri": "https://localhost:8080/"
    },
    "executionInfo": {
     "elapsed": 16,
     "status": "ok",
     "timestamp": 1676967048225,
     "user": {
      "displayName": "전창민",
      "userId": "04793944019518067714"
     },
     "user_tz": -540
    },
    "id": "1wIHvzx9BkgW",
    "outputId": "7c520e25-1b64-4f34-a42e-2df57ba9bc7a"
   },
   "outputs": [
    {
     "data": {
      "text/plain": [
       "9"
      ]
     },
     "execution_count": 59,
     "metadata": {},
     "output_type": "execute_result"
    }
   ],
   "source": [
    "(a + b) * c"
   ]
  },
  {
   "cell_type": "code",
   "execution_count": null,
   "metadata": {
    "id": "9Mgqu5JlBmYy"
   },
   "outputs": [],
   "source": [
    "def calc(a, b, c):\n",
    "    return (a + b) * c"
   ]
  },
  {
   "cell_type": "code",
   "execution_count": null,
   "metadata": {
    "colab": {
     "base_uri": "https://localhost:8080/"
    },
    "executionInfo": {
     "elapsed": 7,
     "status": "ok",
     "timestamp": 1676967075509,
     "user": {
      "displayName": "전창민",
      "userId": "04793944019518067714"
     },
     "user_tz": -540
    },
    "id": "o51PMvHPBsCG",
    "outputId": "ebb53fc4-914d-4fea-92a0-26d4df2f9946"
   },
   "outputs": [
    {
     "data": {
      "text/plain": [
       "9"
      ]
     },
     "execution_count": 61,
     "metadata": {},
     "output_type": "execute_result"
    }
   ],
   "source": [
    "calc(1, 2, 3)"
   ]
  },
  {
   "cell_type": "code",
   "execution_count": null,
   "metadata": {
    "colab": {
     "base_uri": "https://localhost:8080/"
    },
    "executionInfo": {
     "elapsed": 6,
     "status": "ok",
     "timestamp": 1676967082810,
     "user": {
      "displayName": "전창민",
      "userId": "04793944019518067714"
     },
     "user_tz": -540
    },
    "id": "oRmY-8LSBttK",
    "outputId": "91140638-1c67-4ce1-e3d4-69eac29a50d4"
   },
   "outputs": [
    {
     "data": {
      "text/plain": [
       "12"
      ]
     },
     "execution_count": 62,
     "metadata": {},
     "output_type": "execute_result"
    }
   ],
   "source": [
    "calc(2, 2, 3)"
   ]
  },
  {
   "cell_type": "code",
   "execution_count": null,
   "metadata": {
    "colab": {
     "base_uri": "https://localhost:8080/"
    },
    "executionInfo": {
     "elapsed": 7,
     "status": "ok",
     "timestamp": 1676967097338,
     "user": {
      "displayName": "전창민",
      "userId": "04793944019518067714"
     },
     "user_tz": -540
    },
    "id": "yuxSK2tABvhQ",
    "outputId": "f12f5df4-cf2c-4898-c0d3-69e0eaf0f997"
   },
   "outputs": [
    {
     "data": {
      "text/plain": [
       "15"
      ]
     },
     "execution_count": 63,
     "metadata": {},
     "output_type": "execute_result"
    }
   ],
   "source": [
    "calc(3, 2, 3)"
   ]
  },
  {
   "cell_type": "markdown",
   "metadata": {
    "id": "xm9rcTQPB1UN"
   },
   "source": [
    "## 8. def함수 이름(parameter1, parameter2, parameter...):\n",
    "\n"
   ]
  },
  {
   "cell_type": "code",
   "execution_count": null,
   "metadata": {
    "id": "qGRmMAEqBytq"
   },
   "outputs": [],
   "source": [
    "def my_func(var1):\n",
    "    print(var1)"
   ]
  },
  {
   "cell_type": "code",
   "execution_count": null,
   "metadata": {
    "colab": {
     "base_uri": "https://localhost:8080/"
    },
    "executionInfo": {
     "elapsed": 8,
     "status": "ok",
     "timestamp": 1676967209365,
     "user": {
      "displayName": "전창민",
      "userId": "04793944019518067714"
     },
     "user_tz": -540
    },
    "id": "hSdomgcdCHkx",
    "outputId": "77f6a335-2dee-437f-821e-c62f21664e15"
   },
   "outputs": [
    {
     "name": "stdout",
     "output_type": "stream",
     "text": [
      "What's up?\n"
     ]
    }
   ],
   "source": [
    "my_func(\"What's up?\")"
   ]
  },
  {
   "cell_type": "markdown",
   "metadata": {
    "id": "tE8YrXk2CP1d"
   },
   "source": [
    "## 9. 함수는 값을 리턴할 수 있고, 리턴이 없어도 된다."
   ]
  },
  {
   "cell_type": "code",
   "execution_count": null,
   "metadata": {
    "id": "DrF-JjxzCOXg"
   },
   "outputs": [],
   "source": [
    "# 리턴이 없는 경우\n",
    "def my_func(a, b):\n",
    "    print(a, b)"
   ]
  },
  {
   "cell_type": "code",
   "execution_count": null,
   "metadata": {
    "colab": {
     "base_uri": "https://localhost:8080/"
    },
    "executionInfo": {
     "elapsed": 2,
     "status": "ok",
     "timestamp": 1676967287948,
     "user": {
      "displayName": "전창민",
      "userId": "04793944019518067714"
     },
     "user_tz": -540
    },
    "id": "js3ou12yCfQ5",
    "outputId": "f9b7b526-b033-4e24-d67b-576500491010"
   },
   "outputs": [
    {
     "name": "stdout",
     "output_type": "stream",
     "text": [
      "1 10\n"
     ]
    }
   ],
   "source": [
    "my_func(1, 10)"
   ]
  },
  {
   "cell_type": "code",
   "execution_count": null,
   "metadata": {
    "id": "Pp0p5IVWChZv"
   },
   "outputs": [],
   "source": [
    "# 리턴이 있는 경우\n",
    "def my_func(a, b):\n",
    "    s = a + b\n",
    "    return s"
   ]
  },
  {
   "cell_type": "code",
   "execution_count": null,
   "metadata": {
    "colab": {
     "base_uri": "https://localhost:8080/"
    },
    "executionInfo": {
     "elapsed": 8,
     "status": "ok",
     "timestamp": 1676967335317,
     "user": {
      "displayName": "전창민",
      "userId": "04793944019518067714"
     },
     "user_tz": -540
    },
    "id": "1zaShY-SCpNG",
    "outputId": "e5b61089-fe56-4ac7-fa3b-18e5139248c8"
   },
   "outputs": [
    {
     "name": "stdout",
     "output_type": "stream",
     "text": [
      "11\n"
     ]
    }
   ],
   "source": [
    "result = my_func(1, 10)\n",
    "print(result)"
   ]
  },
  {
   "cell_type": "markdown",
   "metadata": {
    "id": "k4Sbw9xyCvBb"
   },
   "source": [
    "## 10. parameter는 여러 개가 가능하고, 함수에 넘겨 줄 때 순서가 있다."
   ]
  },
  {
   "cell_type": "code",
   "execution_count": null,
   "metadata": {
    "id": "urqHcggRCsrw"
   },
   "outputs": [],
   "source": [
    "def my_func(a, b, c):\n",
    "    return (a + b) * c"
   ]
  },
  {
   "cell_type": "code",
   "execution_count": null,
   "metadata": {
    "id": "oooGsfszC6LD"
   },
   "outputs": [],
   "source": [
    "a = 10\n",
    "b = 20\n",
    "c = 3"
   ]
  },
  {
   "cell_type": "code",
   "execution_count": null,
   "metadata": {
    "colab": {
     "base_uri": "https://localhost:8080/"
    },
    "executionInfo": {
     "elapsed": 5,
     "status": "ok",
     "timestamp": 1676967408111,
     "user": {
      "displayName": "전창민",
      "userId": "04793944019518067714"
     },
     "user_tz": -540
    },
    "id": "JYJVshT8C8Qw",
    "outputId": "dbd384cb-7985-48cb-b427-4f547646fcf2"
   },
   "outputs": [
    {
     "data": {
      "text/plain": [
       "90"
      ]
     },
     "execution_count": 72,
     "metadata": {},
     "output_type": "execute_result"
    }
   ],
   "source": [
    "(a + b) * c"
   ]
  },
  {
   "cell_type": "code",
   "execution_count": null,
   "metadata": {
    "colab": {
     "base_uri": "https://localhost:8080/"
    },
    "executionInfo": {
     "elapsed": 2,
     "status": "ok",
     "timestamp": 1676967422400,
     "user": {
      "displayName": "전창민",
      "userId": "04793944019518067714"
     },
     "user_tz": -540
    },
    "id": "QMTVrp9gC-35",
    "outputId": "97e698b3-3e64-4dae-f7a6-b6c39992345d"
   },
   "outputs": [
    {
     "data": {
      "text/plain": [
       "230"
      ]
     },
     "execution_count": 73,
     "metadata": {},
     "output_type": "execute_result"
    }
   ],
   "source": [
    "my_func(c, b, a)"
   ]
  },
  {
   "cell_type": "code",
   "execution_count": null,
   "metadata": {
    "colab": {
     "base_uri": "https://localhost:8080/"
    },
    "executionInfo": {
     "elapsed": 7,
     "status": "ok",
     "timestamp": 1676967428076,
     "user": {
      "displayName": "전창민",
      "userId": "04793944019518067714"
     },
     "user_tz": -540
    },
    "id": "s6b6UQL_DCIu",
    "outputId": "e237b311-03a3-4b67-cf0b-a15ef0a0a23b"
   },
   "outputs": [
    {
     "data": {
      "text/plain": [
       "90"
      ]
     },
     "execution_count": 74,
     "metadata": {},
     "output_type": "execute_result"
    }
   ],
   "source": [
    "my_func(a, b, c)"
   ]
  },
  {
   "cell_type": "code",
   "execution_count": null,
   "metadata": {
    "id": "nywFUWiODDpr"
   },
   "outputs": [],
   "source": [
    "# if문을 활용한 +, - 연산 함수만들기\n",
    "def adder(op1, op2, operator = '+'):\n",
    "    if operator == '+':\n",
    "        result = op1 + op2\n",
    "    else:\n",
    "        result = op1 - op2\n",
    "    return result"
   ]
  },
  {
   "cell_type": "code",
   "execution_count": null,
   "metadata": {
    "colab": {
     "base_uri": "https://localhost:8080/"
    },
    "executionInfo": {
     "elapsed": 3,
     "status": "ok",
     "timestamp": 1676967557845,
     "user": {
      "displayName": "전창민",
      "userId": "04793944019518067714"
     },
     "user_tz": -540
    },
    "id": "h5NDxG0zDZN0",
    "outputId": "3f096491-22eb-418b-f183-64c094e1cae3"
   },
   "outputs": [
    {
     "name": "stdout",
     "output_type": "stream",
     "text": [
      "15\n"
     ]
    }
   ],
   "source": [
    "op1 = 10\n",
    "op2 = 5\n",
    "operator = '+'\n",
    "result = adder(op1, op2, operator)\n",
    "# operator를 지정하지 않으면 오류발생\n",
    "# 함수생성시 디폴트로 설정 가능\n",
    "print(result)"
   ]
  },
  {
   "cell_type": "code",
   "execution_count": null,
   "metadata": {
    "colab": {
     "base_uri": "https://localhost:8080/"
    },
    "executionInfo": {
     "elapsed": 3,
     "status": "ok",
     "timestamp": 1676967686938,
     "user": {
      "displayName": "전창민",
      "userId": "04793944019518067714"
     },
     "user_tz": -540
    },
    "id": "03GPh2cADfsU",
    "outputId": "29ce190f-369d-443e-c8df-ff41778607d6"
   },
   "outputs": [
    {
     "data": {
      "text/plain": [
       "2"
      ]
     },
     "execution_count": 78,
     "metadata": {},
     "output_type": "execute_result"
    }
   ],
   "source": [
    "# y = a*x = b 함수\n",
    "# 함수명 linearFunc\n",
    "def linearFunc(a, x, b):\n",
    "    y = a*x + b\n",
    "    return y\n",
    "x = 1\n",
    "a = 2\n",
    "result = linearFunc(2, 1, 0)\n",
    "result"
   ]
  },
  {
   "cell_type": "code",
   "execution_count": null,
   "metadata": {
    "colab": {
     "base_uri": "https://localhost:8080/"
    },
    "executionInfo": {
     "elapsed": 9,
     "status": "ok",
     "timestamp": 1676967739126,
     "user": {
      "displayName": "전창민",
      "userId": "04793944019518067714"
     },
     "user_tz": -540
    },
    "id": "Int0_Hi1ECOd",
    "outputId": "10edbfa3-0360-4862-8586-e9ca548a2db3"
   },
   "outputs": [
    {
     "data": {
      "text/plain": [
       "7"
      ]
     },
     "execution_count": 79,
     "metadata": {},
     "output_type": "execute_result"
    }
   ],
   "source": [
    "# 값을 직접 지정해서 도출가능\n",
    "a = 3\n",
    "b = 1\n",
    "x = 2\n",
    "result = linearFunc(a, x, b)\n",
    "result"
   ]
  },
  {
   "cell_type": "code",
   "execution_count": null,
   "metadata": {
    "id": "ZhWyutsvEPfl"
   },
   "outputs": [],
   "source": [
    "# x1 = 10, x2 = 25\n",
    "# +, -, *, /(실수)\n",
    "# 함수 4개를 각각 작성하는 함수\n",
    "def adder(x1, x2):\n",
    "    return x1 + x2\n",
    "\n",
    "def suber(x1, x2):\n",
    "    return x1 - x2\n",
    "\n",
    "def multer(x1, x2):\n",
    "    return x1 * x2\n",
    "\n",
    "def divider(x1, x2):\n",
    "    return x1 / x2\n"
   ]
  },
  {
   "cell_type": "code",
   "execution_count": null,
   "metadata": {
    "colab": {
     "base_uri": "https://localhost:8080/"
    },
    "executionInfo": {
     "elapsed": 10,
     "status": "ok",
     "timestamp": 1676968120951,
     "user": {
      "displayName": "전창민",
      "userId": "04793944019518067714"
     },
     "user_tz": -540
    },
    "id": "rQO0RxC3FRNJ",
    "outputId": "ee531348-bfe8-4743-dcd5-c10166936666"
   },
   "outputs": [
    {
     "data": {
      "text/plain": [
       "35"
      ]
     },
     "execution_count": 81,
     "metadata": {},
     "output_type": "execute_result"
    }
   ],
   "source": [
    "# 사칙연산이 가능한 함수\n",
    "def calc(x1, x2, operator):\n",
    "    if operator == '+':\n",
    "        result = x1 + x2\n",
    "    elif operator == '-':\n",
    "        result = x1 - x2\n",
    "    elif operator == '*':\n",
    "        result = x1 * x2\n",
    "    else:\n",
    "        result = x1 / x2\n",
    "    return result\n",
    "\n",
    "operator = '+'\n",
    "result = calc(10, 25, operator)\n",
    "result"
   ]
  },
  {
   "cell_type": "code",
   "execution_count": null,
   "metadata": {
    "colab": {
     "base_uri": "https://localhost:8080/"
    },
    "executionInfo": {
     "elapsed": 2,
     "status": "ok",
     "timestamp": 1676968147697,
     "user": {
      "displayName": "전창민",
      "userId": "04793944019518067714"
     },
     "user_tz": -540
    },
    "id": "wKH45SxOFss3",
    "outputId": "93013d0c-f518-4b47-ce65-34e4d4bed6f2"
   },
   "outputs": [
    {
     "data": {
      "text/plain": [
       "0.4"
      ]
     },
     "execution_count": 82,
     "metadata": {},
     "output_type": "execute_result"
    }
   ],
   "source": [
    "operator = '/'\n",
    "result = calc(10, 25, operator)\n",
    "result"
   ]
  },
  {
   "cell_type": "code",
   "execution_count": null,
   "metadata": {
    "colab": {
     "base_uri": "https://localhost:8080/"
    },
    "executionInfo": {
     "elapsed": 8,
     "status": "ok",
     "timestamp": 1676968187702,
     "user": {
      "displayName": "전창민",
      "userId": "04793944019518067714"
     },
     "user_tz": -540
    },
    "id": "SPuOC1lnFytf",
    "outputId": "6720afef-ce28-4e3c-b201-f5c4f389e083"
   },
   "outputs": [
    {
     "data": {
      "text/plain": [
       "-15"
      ]
     },
     "execution_count": 84,
     "metadata": {},
     "output_type": "execute_result"
    }
   ],
   "source": [
    "x1 = 10\n",
    "x2 = 25\n",
    "operator = '-'\n",
    "result = calc(x1, x2, operator)\n",
    "result"
   ]
  },
  {
   "cell_type": "code",
   "execution_count": null,
   "metadata": {
    "colab": {
     "base_uri": "https://localhost:8080/"
    },
    "executionInfo": {
     "elapsed": 4,
     "status": "ok",
     "timestamp": 1676968343094,
     "user": {
      "displayName": "전창민",
      "userId": "04793944019518067714"
     },
     "user_tz": -540
    },
    "id": "4fniIB0RF7u9",
    "outputId": "37244ad5-b258-4e57-e2f4-b2fae1c94e56"
   },
   "outputs": [
    {
     "data": {
      "text/plain": [
       "(35, -15)"
      ]
     },
     "execution_count": 85,
     "metadata": {},
     "output_type": "execute_result"
    }
   ],
   "source": [
    "# 연산자 지정을 하지 않고 만들 경우\n",
    "def calc2(x1, x2):\n",
    "    result1 = x1 + x2\n",
    "    result2 = x1 - x2\n",
    "    result3 = x1 * x2\n",
    "    result4 = x1 / x2\n",
    "\n",
    "    return result1, result2, result3, result\n",
    "\n",
    "x1 = 10\n",
    "x2 = 25\n",
    "re1, re2, _, _ = calc2(x1, x2)\n",
    "re1, re2\n",
    "# 값을 리턴받고 싶지 않은 연산자 항목은 '_'로 대체가능"
   ]
  },
  {
   "cell_type": "markdown",
   "metadata": {
    "id": "RTEyDmkFHC0Z"
   },
   "source": [
    "## 11. 비교연산자"
   ]
  },
  {
   "cell_type": "markdown",
   "metadata": {
    "id": "BOeLgJF_HRxl"
   },
   "source": [
    "주로 대소비교를 할 때 사용함"
   ]
  },
  {
   "cell_type": "markdown",
   "metadata": {
    "id": "GLML4bBZHUlg"
   },
   "source": [
    "### 11-1. 대소비교 >, >=, <, <="
   ]
  },
  {
   "cell_type": "code",
   "execution_count": null,
   "metadata": {
    "id": "inwy4z5sHChV"
   },
   "outputs": [],
   "source": [
    "1 > 2"
   ]
  },
  {
   "cell_type": "code",
   "execution_count": null,
   "metadata": {
    "colab": {
     "base_uri": "https://localhost:8080/"
    },
    "executionInfo": {
     "elapsed": 4,
     "status": "ok",
     "timestamp": 1676968578457,
     "user": {
      "displayName": "전창민",
      "userId": "04793944019518067714"
     },
     "user_tz": -540
    },
    "id": "KXeyn0zvGi5E",
    "outputId": "21e56ee5-c9a6-4704-827c-561da61c22f3"
   },
   "outputs": [
    {
     "data": {
      "text/plain": [
       "True"
      ]
     },
     "execution_count": 86,
     "metadata": {},
     "output_type": "execute_result"
    }
   ],
   "source": [
    "10 >= 10"
   ]
  },
  {
   "cell_type": "code",
   "execution_count": null,
   "metadata": {
    "colab": {
     "base_uri": "https://localhost:8080/"
    },
    "executionInfo": {
     "elapsed": 11,
     "status": "ok",
     "timestamp": 1676968583015,
     "user": {
      "displayName": "전창민",
      "userId": "04793944019518067714"
     },
     "user_tz": -540
    },
    "id": "4kxD3Nx5Hcio",
    "outputId": "93354137-6f64-4934-d5f8-21c9b23806df"
   },
   "outputs": [
    {
     "data": {
      "text/plain": [
       "True"
      ]
     },
     "execution_count": 87,
     "metadata": {},
     "output_type": "execute_result"
    }
   ],
   "source": [
    "9 < 10"
   ]
  },
  {
   "cell_type": "code",
   "execution_count": null,
   "metadata": {
    "colab": {
     "base_uri": "https://localhost:8080/"
    },
    "executionInfo": {
     "elapsed": 458,
     "status": "ok",
     "timestamp": 1676968589252,
     "user": {
      "displayName": "전창민",
      "userId": "04793944019518067714"
     },
     "user_tz": -540
    },
    "id": "uc7DPZCxHdXJ",
    "outputId": "830af3c1-abfe-4662-da7e-8d167e5717c3"
   },
   "outputs": [
    {
     "data": {
      "text/plain": [
       "False"
      ]
     },
     "execution_count": 88,
     "metadata": {},
     "output_type": "execute_result"
    }
   ],
   "source": [
    "8 <= 7"
   ]
  },
  {
   "cell_type": "markdown",
   "metadata": {
    "id": "HuCRSSy0Hgz9"
   },
   "source": [
    "### 11-2. 같다 =="
   ]
  },
  {
   "cell_type": "markdown",
   "metadata": {
    "id": "l7Nj-p-UHjiq"
   },
   "source": [
    "=는 대입 연산자이다. 코딩에서는 = 이 대입연산자로 사용되기 때문에 ==을 사용한다."
   ]
  },
  {
   "cell_type": "code",
   "execution_count": null,
   "metadata": {
    "colab": {
     "base_uri": "https://localhost:8080/"
    },
    "executionInfo": {
     "elapsed": 10,
     "status": "ok",
     "timestamp": 1676968722643,
     "user": {
      "displayName": "전창민",
      "userId": "04793944019518067714"
     },
     "user_tz": -540
    },
    "id": "p3QAKJ2xHe_L",
    "outputId": "5ac3838e-290d-485d-d24c-76312892932e"
   },
   "outputs": [
    {
     "data": {
      "text/plain": [
       "True"
      ]
     },
     "execution_count": 89,
     "metadata": {},
     "output_type": "execute_result"
    }
   ],
   "source": [
    "# assign\n",
    "a = 3\n",
    "\n",
    "a == 3"
   ]
  },
  {
   "cell_type": "code",
   "execution_count": null,
   "metadata": {
    "colab": {
     "base_uri": "https://localhost:8080/",
     "height": 137
    },
    "executionInfo": {
     "elapsed": 6,
     "status": "error",
     "timestamp": 1676968723701,
     "user": {
      "displayName": "전창민",
      "userId": "04793944019518067714"
     },
     "user_tz": -540
    },
    "id": "1_dArKf7H_F9",
    "outputId": "fb389e4b-58d5-4785-b59f-4060ee997216"
   },
   "outputs": [
    {
     "ename": "SyntaxError",
     "evalue": "ignored",
     "output_type": "error",
     "traceback": [
      "\u001b[0;36m  File \u001b[0;32m\"<ipython-input-90-a8e553549e25>\"\u001b[0;36m, line \u001b[0;32m1\u001b[0m\n\u001b[0;31m    2 = 2\u001b[0m\n\u001b[0m    ^\u001b[0m\n\u001b[0;31mSyntaxError\u001b[0m\u001b[0;31m:\u001b[0m cannot assign to literal\n"
     ]
    }
   ],
   "source": [
    "2 = 2"
   ]
  },
  {
   "cell_type": "code",
   "execution_count": null,
   "metadata": {
    "colab": {
     "base_uri": "https://localhost:8080/"
    },
    "executionInfo": {
     "elapsed": 3,
     "status": "ok",
     "timestamp": 1676968728659,
     "user": {
      "displayName": "전창민",
      "userId": "04793944019518067714"
     },
     "user_tz": -540
    },
    "id": "_RlMVWeqIADa",
    "outputId": "87fa1f33-876a-4269-b26d-2c17c1be6686"
   },
   "outputs": [
    {
     "data": {
      "text/plain": [
       "True"
      ]
     },
     "execution_count": 91,
     "metadata": {},
     "output_type": "execute_result"
    }
   ],
   "source": [
    "2 == 2"
   ]
  },
  {
   "cell_type": "code",
   "execution_count": null,
   "metadata": {
    "colab": {
     "base_uri": "https://localhost:8080/"
    },
    "executionInfo": {
     "elapsed": 3,
     "status": "ok",
     "timestamp": 1676968731156,
     "user": {
      "displayName": "전창민",
      "userId": "04793944019518067714"
     },
     "user_tz": -540
    },
    "id": "EZWu-WzXIBT8",
    "outputId": "1742ffd4-7d5d-4128-bfce-db4c00ed78d1"
   },
   "outputs": [
    {
     "data": {
      "text/plain": [
       "False"
      ]
     },
     "execution_count": 92,
     "metadata": {},
     "output_type": "execute_result"
    }
   ],
   "source": [
    "2 == 3"
   ]
  },
  {
   "cell_type": "markdown",
   "metadata": {
    "id": "Zby90tuYIEdZ"
   },
   "source": [
    "### 11-3. 같지 않다 !=  (not)\n",
    "\n",
    "\n"
   ]
  },
  {
   "cell_type": "code",
   "execution_count": null,
   "metadata": {
    "colab": {
     "base_uri": "https://localhost:8080/"
    },
    "executionInfo": {
     "elapsed": 2,
     "status": "ok",
     "timestamp": 1676968821454,
     "user": {
      "displayName": "전창민",
      "userId": "04793944019518067714"
     },
     "user_tz": -540
    },
    "id": "qnDbXjWfIB9B",
    "outputId": "585b0a1b-d18e-48d4-c791-f7cf1690ba5b"
   },
   "outputs": [
    {
     "data": {
      "text/plain": [
       "False"
      ]
     },
     "execution_count": 93,
     "metadata": {},
     "output_type": "execute_result"
    }
   ],
   "source": [
    "2 != 2"
   ]
  },
  {
   "cell_type": "code",
   "execution_count": null,
   "metadata": {
    "colab": {
     "base_uri": "https://localhost:8080/"
    },
    "executionInfo": {
     "elapsed": 9,
     "status": "ok",
     "timestamp": 1676968829571,
     "user": {
      "displayName": "전창민",
      "userId": "04793944019518067714"
     },
     "user_tz": -540
    },
    "id": "AlVNgolfIXuY",
    "outputId": "180eb345-29b2-4757-813d-70e3a1b382eb"
   },
   "outputs": [
    {
     "data": {
      "text/plain": [
       "True"
      ]
     },
     "execution_count": 94,
     "metadata": {},
     "output_type": "execute_result"
    }
   ],
   "source": [
    "1 != 2"
   ]
  },
  {
   "cell_type": "code",
   "execution_count": null,
   "metadata": {
    "colab": {
     "base_uri": "https://localhost:8080/"
    },
    "executionInfo": {
     "elapsed": 280,
     "status": "ok",
     "timestamp": 1676968914406,
     "user": {
      "displayName": "전창민",
      "userId": "04793944019518067714"
     },
     "user_tz": -540
    },
    "id": "2dCnqDIOIZzd",
    "outputId": "ea3623b6-ac84-47bd-eb04-dc4db1087a5c"
   },
   "outputs": [
    {
     "data": {
      "text/plain": [
       "True"
      ]
     },
     "execution_count": 97,
     "metadata": {},
     "output_type": "execute_result"
    }
   ],
   "source": [
    "'나' != '너'"
   ]
  },
  {
   "cell_type": "code",
   "execution_count": null,
   "metadata": {
    "colab": {
     "base_uri": "https://localhost:8080/"
    },
    "executionInfo": {
     "elapsed": 3,
     "status": "ok",
     "timestamp": 1676968936321,
     "user": {
      "displayName": "전창민",
      "userId": "04793944019518067714"
     },
     "user_tz": -540
    },
    "id": "Rh9RLG70IuXn",
    "outputId": "a493c3a3-7187-471f-c971-b0bc920ecb6a"
   },
   "outputs": [
    {
     "data": {
      "text/plain": [
       "False"
      ]
     },
     "execution_count": 98,
     "metadata": {},
     "output_type": "execute_result"
    }
   ],
   "source": [
    "'나' != '나'"
   ]
  },
  {
   "cell_type": "markdown",
   "metadata": {
    "id": "Q9ptfT9xI1rY"
   },
   "source": [
    "## 12. 조건문"
   ]
  },
  {
   "cell_type": "markdown",
   "metadata": {
    "id": "ZGLZgdL-I6yw"
   },
   "source": [
    "주어진 조건이 **참**인 경우 그 다음 내가 정한 구칙(로직)을 실행하는 개념이다."
   ]
  },
  {
   "cell_type": "markdown",
   "metadata": {
    "id": "3KfyR-odJCW5"
   },
   "source": [
    "### 12-1. if"
   ]
  },
  {
   "cell_type": "markdown",
   "metadata": {
    "id": "yynPQgNeJFyV"
   },
   "source": [
    "if는 어떤 조건이 성립한다면~ 이라는 뜻이다"
   ]
  },
  {
   "cell_type": "markdown",
   "metadata": {
    "id": "NFnq40GxJWMZ"
   },
   "source": [
    "if 구문 끝에는 반드시 클론(:)을 잊으면 안된다.\n",
    "\n",
    "if[조건문]:<br>\n",
    "조건문의 결과값이 True이면 아래 코드 실행"
   ]
  },
  {
   "cell_type": "code",
   "execution_count": null,
   "metadata": {
    "colab": {
     "base_uri": "https://localhost:8080/"
    },
    "executionInfo": {
     "elapsed": 4,
     "status": "ok",
     "timestamp": 1676969143582,
     "user": {
      "displayName": "전창민",
      "userId": "04793944019518067714"
     },
     "user_tz": -540
    },
    "id": "MetJOA4sIz9t",
    "outputId": "fb534f50-036b-4cf8-8521-05dfc959b324"
   },
   "outputs": [
    {
     "name": "stdout",
     "output_type": "stream",
     "text": [
      "참\n"
     ]
    }
   ],
   "source": [
    "if 5 > 3:\n",
    "    print('참')"
   ]
  },
  {
   "cell_type": "code",
   "execution_count": null,
   "metadata": {
    "colab": {
     "base_uri": "https://localhost:8080/"
    },
    "executionInfo": {
     "elapsed": 4,
     "status": "ok",
     "timestamp": 1676969185910,
     "user": {
      "displayName": "전창민",
      "userId": "04793944019518067714"
     },
     "user_tz": -540
    },
    "id": "DIcbZdeqJmpP",
    "outputId": "56fcf423-ca2c-43e4-c7d9-b4210b7686b1"
   },
   "outputs": [
    {
     "name": "stdout",
     "output_type": "stream",
     "text": [
      "끝\n"
     ]
    }
   ],
   "source": [
    "if 5 < 3:\n",
    "    print('참')\n",
    "    print('참')\n",
    "    print('참')\n",
    "    print('참')\n",
    "    \n",
    "print('끝')"
   ]
  },
  {
   "cell_type": "code",
   "execution_count": null,
   "metadata": {
    "id": "dU2CALXPJtPc"
   },
   "outputs": [],
   "source": [
    "if 5 < 3:\n",
    "    print('참')"
   ]
  },
  {
   "cell_type": "markdown",
   "metadata": {
    "id": "nCE30Q8HJ3aV"
   },
   "source": [
    "### 12-2. else"
   ]
  },
  {
   "cell_type": "markdown",
   "metadata": {
    "id": "Mv6TK2MCJ6LJ"
   },
   "source": [
    "else는 if조건 후에 따라오며, if가 아닌 경우에 실행된다."
   ]
  },
  {
   "cell_type": "code",
   "execution_count": null,
   "metadata": {
    "colab": {
     "base_uri": "https://localhost:8080/"
    },
    "executionInfo": {
     "elapsed": 302,
     "status": "ok",
     "timestamp": 1676969281348,
     "user": {
      "displayName": "전창민",
      "userId": "04793944019518067714"
     },
     "user_tz": -540
    },
    "id": "1WwvpbuCJ2IN",
    "outputId": "569576d9-ec44-4375-af09-cfd98f479fac"
   },
   "outputs": [
    {
     "name": "stdout",
     "output_type": "stream",
     "text": [
      "else 구문 실행\n"
     ]
    }
   ],
   "source": [
    "if 5 < 3:\n",
    "    print('if 구문 실행')\n",
    "else:\n",
    "    print('else 구문 실행')\n"
   ]
  },
  {
   "cell_type": "markdown",
   "metadata": {
    "id": "OUo_TvcGKKqc"
   },
   "source": [
    "하지만, else만 단독으로 실행한다면?"
   ]
  },
  {
   "cell_type": "code",
   "execution_count": null,
   "metadata": {
    "colab": {
     "base_uri": "https://localhost:8080/",
     "height": 137
    },
    "executionInfo": {
     "elapsed": 4,
     "status": "error",
     "timestamp": 1676969310352,
     "user": {
      "displayName": "전창민",
      "userId": "04793944019518067714"
     },
     "user_tz": -540
    },
    "id": "QnMHU16NKIA9",
    "outputId": "413cb20a-196c-4b0d-f4a7-12f7956c4ec9"
   },
   "outputs": [
    {
     "ename": "SyntaxError",
     "evalue": "ignored",
     "output_type": "error",
     "traceback": [
      "\u001b[0;36m  File \u001b[0;32m\"<ipython-input-105-5018a7ac68d5>\"\u001b[0;36m, line \u001b[0;32m1\u001b[0m\n\u001b[0;31m    else:\u001b[0m\n\u001b[0m    ^\u001b[0m\n\u001b[0;31mSyntaxError\u001b[0m\u001b[0;31m:\u001b[0m invalid syntax\n"
     ]
    }
   ],
   "source": [
    "else:\n",
    "    print('else 구문 실행')"
   ]
  },
  {
   "cell_type": "markdown",
   "metadata": {
    "id": "QlC8SG2AKQcO"
   },
   "source": [
    "위와 같이 오류가 발생한다"
   ]
  },
  {
   "cell_type": "markdown",
   "metadata": {
    "id": "el6J0eSjKTt1"
   },
   "source": [
    "### 만약 돈이 10000원 이상이면 택시를 타고, 10000원보다 적으면 버스를 탄다."
   ]
  },
  {
   "cell_type": "code",
   "execution_count": null,
   "metadata": {
    "colab": {
     "base_uri": "https://localhost:8080/"
    },
    "executionInfo": {
     "elapsed": 7,
     "status": "ok",
     "timestamp": 1676969456271,
     "user": {
      "displayName": "전창민",
      "userId": "04793944019518067714"
     },
     "user_tz": -540
    },
    "id": "hOKbMUogKPTq",
    "outputId": "3be11073-fc27-4573-e9f4-dd8e5e703932"
   },
   "outputs": [
    {
     "name": "stdout",
     "output_type": "stream",
     "text": [
      "버스를 타자\n"
     ]
    }
   ],
   "source": [
    "money = 9999\n",
    "if money >= 10000:\n",
    "    print('택시를 타자')\n",
    "else:\n",
    "    print('버스를 타자')"
   ]
  },
  {
   "cell_type": "markdown",
   "metadata": {
    "id": "w9w9GZXGKj8k"
   },
   "source": [
    "### 12-3. elif"
   ]
  },
  {
   "cell_type": "markdown",
   "metadata": {
    "id": "QDdUctkvKnWy"
   },
   "source": [
    "### 만약 돈이 20000원 이상이면 쏘카를 타고, 10000원 있으면 택시를 타고, 2000원 이상이면 버스를 타고 2000미만이면 걸어간다."
   ]
  },
  {
   "cell_type": "code",
   "execution_count": null,
   "metadata": {
    "colab": {
     "base_uri": "https://localhost:8080/"
    },
    "executionInfo": {
     "elapsed": 2,
     "status": "ok",
     "timestamp": 1676969654039,
     "user": {
      "displayName": "전창민",
      "userId": "04793944019518067714"
     },
     "user_tz": -540
    },
    "id": "eewFP57-KiQg",
    "outputId": "35dba010-f3e2-4fa0-97c2-ec272588bb02"
   },
   "outputs": [
    {
     "name": "stdout",
     "output_type": "stream",
     "text": [
      "버스를 탄다\n"
     ]
    }
   ],
   "source": [
    "money = 5000\n",
    "if money >= 20000:\n",
    "    print('쏘카를 탄다')\n",
    "elif money >= 10000:\n",
    "    print('택시를 탄다')\n",
    "elif money >= 2000:\n",
    "    print('버스를 탄다')\n",
    "else:\n",
    "    print('걸어간다')"
   ]
  },
  {
   "cell_type": "markdown",
   "metadata": {
    "id": "ZAHmffOpLlXu"
   },
   "source": [
    "elif 구문은 3가지 이상 분기(조건)의 동작을 수행할 때 사용한다."
   ]
  },
  {
   "cell_type": "code",
   "execution_count": null,
   "metadata": {
    "colab": {
     "base_uri": "https://localhost:8080/"
    },
    "executionInfo": {
     "elapsed": 3,
     "status": "ok",
     "timestamp": 1676969743508,
     "user": {
      "displayName": "전창민",
      "userId": "04793944019518067714"
     },
     "user_tz": -540
    },
    "id": "KLHn0zewLflB",
    "outputId": "8c97cd01-ee31-4e0b-c453-a8a84231d3ba"
   },
   "outputs": [
    {
     "name": "stdout",
     "output_type": "stream",
     "text": [
      "elif 구문\n"
     ]
    }
   ],
   "source": [
    "if 3 > 5:\n",
    "    print('if구문')\n",
    "elif 3 < 4:\n",
    "    print('elif 구문')\n",
    "else:\n",
    "    print('이것도 저것도 아니다')"
   ]
  },
  {
   "cell_type": "markdown",
   "metadata": {
    "id": "AIfH_eaOL8qR"
   },
   "source": [
    "**elif 구문이 참인 여러 구문**을 나열할 때"
   ]
  },
  {
   "cell_type": "code",
   "execution_count": null,
   "metadata": {
    "colab": {
     "base_uri": "https://localhost:8080/"
    },
    "executionInfo": {
     "elapsed": 431,
     "status": "ok",
     "timestamp": 1676969866252,
     "user": {
      "displayName": "전창민",
      "userId": "04793944019518067714"
     },
     "user_tz": -540
    },
    "id": "jNKP2jW5L5Ag",
    "outputId": "9e8da904-7a2f-4195-c52d-09239a50372b"
   },
   "outputs": [
    {
     "name": "stdout",
     "output_type": "stream",
     "text": [
      "elif 3 구문\n"
     ]
    }
   ],
   "source": [
    "if 3 > 5:\n",
    "    print('if구문')\n",
    "elif 3 > 4:\n",
    "    print('elif 1 구문')\n",
    "elif 3 > 5:\n",
    "    print('elif 2 구문')\n",
    "elif 3 < 6:\n",
    "    print('elif 3 구문')\n",
    "else:\n",
    "    print('이것도 저것도 아니다')"
   ]
  },
  {
   "cell_type": "markdown",
   "metadata": {
    "id": "pZmHV9NNMbIQ"
   },
   "source": [
    "### 12-4. 1이나 0은 참이나 거짓을 표현하기도 한다."
   ]
  },
  {
   "cell_type": "code",
   "execution_count": null,
   "metadata": {
    "colab": {
     "base_uri": "https://localhost:8080/"
    },
    "executionInfo": {
     "elapsed": 3,
     "status": "ok",
     "timestamp": 1676969945118,
     "user": {
      "displayName": "전창민",
      "userId": "04793944019518067714"
     },
     "user_tz": -540
    },
    "id": "xcsNywjMMWjt",
    "outputId": "0a3ad9df-df7f-4406-ffe4-da42a02b17b7"
   },
   "outputs": [
    {
     "name": "stdout",
     "output_type": "stream",
     "text": [
      "참\n"
     ]
    }
   ],
   "source": [
    "if 1:\n",
    "    print('참')\n",
    "else:\n",
    "    print('거짓')"
   ]
  },
  {
   "cell_type": "code",
   "execution_count": null,
   "metadata": {
    "colab": {
     "base_uri": "https://localhost:8080/"
    },
    "executionInfo": {
     "elapsed": 6,
     "status": "ok",
     "timestamp": 1676969961945,
     "user": {
      "displayName": "전창민",
      "userId": "04793944019518067714"
     },
     "user_tz": -540
    },
    "id": "lXABvlq-MqGO",
    "outputId": "bd834a87-52b6-4505-aeee-56d380a420ea"
   },
   "outputs": [
    {
     "name": "stdout",
     "output_type": "stream",
     "text": [
      "거짓\n"
     ]
    }
   ],
   "source": [
    "if 0:\n",
    "    print('참')\n",
    "else:\n",
    "    print('거짓')"
   ]
  },
  {
   "cell_type": "markdown",
   "metadata": {
    "id": "8vWdklHvMw9c"
   },
   "source": [
    "## 13. 논리 연산자(and, or)"
   ]
  },
  {
   "cell_type": "markdown",
   "metadata": {
    "id": "L_HuTxNuM0hG"
   },
   "source": [
    "**and**나 **or**조건은 두 가지 이상 조건을 다룰 때 활용한다."
   ]
  },
  {
   "cell_type": "markdown",
   "metadata": {
    "id": "SyFwoxVVM5Dr"
   },
   "source": [
    "### 13-1. and"
   ]
  },
  {
   "cell_type": "markdown",
   "metadata": {
    "id": "VS01qPmYM7B2"
   },
   "source": [
    "**and**조건은 모두 만족할 때 참으로 인식한다."
   ]
  },
  {
   "cell_type": "code",
   "execution_count": null,
   "metadata": {
    "colab": {
     "base_uri": "https://localhost:8080/"
    },
    "executionInfo": {
     "elapsed": 6,
     "status": "ok",
     "timestamp": 1676970076290,
     "user": {
      "displayName": "전창민",
      "userId": "04793944019518067714"
     },
     "user_tz": -540
    },
    "id": "tRJd5i82MueF",
    "outputId": "fd36dd15-7ed4-4a52-b7bd-9dc3ad40f6c6"
   },
   "outputs": [
    {
     "name": "stdout",
     "output_type": "stream",
     "text": [
      "모두 참\n"
     ]
    }
   ],
   "source": [
    "if (0 < 1) and (0 < 2):\n",
    "    print('모두 참')\n",
    "else:\n",
    "    print('거짓')"
   ]
  },
  {
   "cell_type": "code",
   "execution_count": null,
   "metadata": {
    "colab": {
     "base_uri": "https://localhost:8080/"
    },
    "executionInfo": {
     "elapsed": 5,
     "status": "ok",
     "timestamp": 1676970106176,
     "user": {
      "displayName": "전창민",
      "userId": "04793944019518067714"
     },
     "user_tz": -540
    },
    "id": "OSgFXE_nNKRy",
    "outputId": "ab5ec504-7df8-4f1c-e3c8-1ecd1bf631e0"
   },
   "outputs": [
    {
     "name": "stdout",
     "output_type": "stream",
     "text": [
      "허참\n"
     ]
    }
   ],
   "source": [
    "if (0 < 1) and (0 > 2):\n",
    "    print('모두 참')\n",
    "else:\n",
    "    print('허참')"
   ]
  },
  {
   "cell_type": "markdown",
   "metadata": {
    "id": "krTAKwS5NSlI"
   },
   "source": [
    "### 만약 돈이 20000원 이상이면 쏘카를 타고, 10000원이상이면 택시를 타고, 2000원이상이면 버스를 타고, 2000미만이면 걸어간다."
   ]
  },
  {
   "cell_type": "markdown",
   "metadata": {
    "id": "x5qMD8anNa97"
   },
   "source": [
    "이 예제를 and조건을 통해 세분화 시킬 수 있다."
   ]
  },
  {
   "cell_type": "code",
   "execution_count": null,
   "metadata": {
    "colab": {
     "base_uri": "https://localhost:8080/"
    },
    "executionInfo": {
     "elapsed": 5,
     "status": "ok",
     "timestamp": 1676970278885,
     "user": {
      "displayName": "전창민",
      "userId": "04793944019518067714"
     },
     "user_tz": -540
    },
    "id": "wp_svBxINRlP",
    "outputId": "74a9a6b4-d7ae-431f-eb11-cc36b8baf6af"
   },
   "outputs": [
    {
     "name": "stdout",
     "output_type": "stream",
     "text": [
      "걸어간다\n"
     ]
    }
   ],
   "source": [
    "money = 1000\n",
    "if money >= 2000 and money < 10000:\n",
    "    print('버스를 탄다')\n",
    "elif money >= 10000 and money < 20000:\n",
    "    print('택시를 탄다')\n",
    "elif money >= 20000:\n",
    "    print('쏘카를 탄다')\n",
    "else:\n",
    "    print('걸어간다')"
   ]
  },
  {
   "cell_type": "markdown",
   "metadata": {
    "id": "lvSb26JQN9Lm"
   },
   "source": [
    "### 13-2. or"
   ]
  },
  {
   "cell_type": "markdown",
   "metadata": {
    "id": "T7KDCtI5OAKI"
   },
   "source": [
    "or조건은 조건 중 **하나라도 만족할 때** 참으로 인식한다."
   ]
  },
  {
   "cell_type": "code",
   "execution_count": null,
   "metadata": {
    "colab": {
     "base_uri": "https://localhost:8080/"
    },
    "executionInfo": {
     "elapsed": 6,
     "status": "ok",
     "timestamp": 1676970359163,
     "user": {
      "displayName": "전창민",
      "userId": "04793944019518067714"
     },
     "user_tz": -540
    },
    "id": "0Y_5LNJbN6yy",
    "outputId": "ce8e8230-6404-4e42-e799-ce9658fa4719"
   },
   "outputs": [
    {
     "name": "stdout",
     "output_type": "stream",
     "text": [
      "하나라도 참\n"
     ]
    }
   ],
   "source": [
    "if (0 < 1) or (1 <  0):\n",
    "    print('하나라도 참')\n",
    "else:\n",
    "    print('허참')"
   ]
  },
  {
   "cell_type": "code",
   "execution_count": null,
   "metadata": {
    "colab": {
     "base_uri": "https://localhost:8080/"
    },
    "executionInfo": {
     "elapsed": 6,
     "status": "ok",
     "timestamp": 1676970392344,
     "user": {
      "displayName": "전창민",
      "userId": "04793944019518067714"
     },
     "user_tz": -540
    },
    "id": "IEBlqpOMOPYG",
    "outputId": "0358b929-9236-43b0-fea4-0fffa4741ff1"
   },
   "outputs": [
    {
     "name": "stdout",
     "output_type": "stream",
     "text": [
      "허참\n"
     ]
    }
   ],
   "source": [
    "if (10 < 1) or (1 < 0):\n",
    "    print('하나라도 참')\n",
    "else:\n",
    "    print('허참')\n"
   ]
  },
  {
   "cell_type": "markdown",
   "metadata": {
    "id": "V-xgm7zKOY--"
   },
   "source": [
    "### 주사위를 던져서 1, 3이 나오면 합격, 2, 4가 나오면 다시, 나머지는 불합격"
   ]
  },
  {
   "cell_type": "code",
   "execution_count": null,
   "metadata": {
    "colab": {
     "base_uri": "https://localhost:8080/"
    },
    "executionInfo": {
     "elapsed": 4,
     "status": "ok",
     "timestamp": 1676970535005,
     "user": {
      "displayName": "전창민",
      "userId": "04793944019518067714"
     },
     "user_tz": -540
    },
    "id": "1rh0UnyPOXX7",
    "outputId": "87a29a8a-04e9-4abc-c98f-b63080fad865"
   },
   "outputs": [
    {
     "name": "stdout",
     "output_type": "stream",
     "text": [
      "합격\n"
     ]
    }
   ],
   "source": [
    "dice = 3\n",
    "if dice == 1 or dice == 3:\n",
    "    print('합격')\n",
    "elif dice == 2 or dice == 4:\n",
    "    print('다시')\n",
    "else:\n",
    "    print('불합격')"
   ]
  },
  {
   "cell_type": "code",
   "execution_count": null,
   "metadata": {
    "id": "ykk8mPudO5Or"
   },
   "outputs": [],
   "source": []
  }
 ],
 "metadata": {
  "colab": {
   "authorship_tag": "ABX9TyO9wraedQSCF0Ri35Hui6vC",
   "provenance": []
  },
  "kernelspec": {
   "display_name": "Python 3 (ipykernel)",
   "language": "python",
   "name": "python3"
  },
  "language_info": {
   "codemirror_mode": {
    "name": "ipython",
    "version": 3
   },
   "file_extension": ".py",
   "mimetype": "text/x-python",
   "name": "python",
   "nbconvert_exporter": "python",
   "pygments_lexer": "ipython3",
   "version": "3.9.7"
  }
 },
 "nbformat": 4,
 "nbformat_minor": 1
}
