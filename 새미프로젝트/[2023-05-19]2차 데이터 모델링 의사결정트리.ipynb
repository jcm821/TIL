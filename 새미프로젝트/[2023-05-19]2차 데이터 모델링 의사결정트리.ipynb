{
 "cells": [
  {
   "cell_type": "code",
   "execution_count": 1,
   "id": "0e48cf63",
   "metadata": {},
   "outputs": [],
   "source": [
    "# 필요 패키지 불러오기\n",
    "import pandas as pd\n",
    "import numpy as np\n",
    "import matplotlib.pyplot as plt\n",
    "import seaborn as sns\n",
    "from datetime import datetime\n",
    "%matplotlib inline\n",
    "\n",
    "from sklearn.linear_model import LogisticRegression\n",
    "from sklearn.ensemble import RandomForestClassifier\n",
    "from sklearn.tree import DecisionTreeClassifier\n",
    "from sklearn.ensemble import VotingClassifier\n",
    "from sklearn.model_selection import train_test_split\n",
    "from sklearn.preprocessing import LabelEncoder\n",
    "from sklearn.metrics import accuracy_score\n",
    "from sklearn.model_selection import GridSearchCV\n",
    "from sklearn.model_selection import cross_val_score\n",
    "from sklearn.model_selection import KFold\n",
    "from sklearn.preprocessing import MinMaxScaler\n",
    "from sklearn.preprocessing import StandardScaler\n",
    "from sklearn.model_selection import cross_val_score\n",
    "from sklearn.model_selection import GridSearchCV\n",
    "from sklearn.metrics import confusion_matrix, accuracy_score\n",
    "from sklearn.metrics import precision_score, recall_score\n",
    "from sklearn.metrics import f1_score, roc_auc_score\n",
    "import warnings\n",
    "warnings.filterwarnings(action='ignore')"
   ]
  },
  {
   "cell_type": "code",
   "execution_count": 2,
   "id": "586e9d21",
   "metadata": {},
   "outputs": [
    {
     "data": {
      "text/html": [
       "<div>\n",
       "<style scoped>\n",
       "    .dataframe tbody tr th:only-of-type {\n",
       "        vertical-align: middle;\n",
       "    }\n",
       "\n",
       "    .dataframe tbody tr th {\n",
       "        vertical-align: top;\n",
       "    }\n",
       "\n",
       "    .dataframe thead th {\n",
       "        text-align: right;\n",
       "    }\n",
       "</style>\n",
       "<table border=\"1\" class=\"dataframe\">\n",
       "  <thead>\n",
       "    <tr style=\"text-align: right;\">\n",
       "      <th></th>\n",
       "      <th>교량명</th>\n",
       "      <th>시설물종별등급구분</th>\n",
       "      <th>시도</th>\n",
       "      <th>시군구</th>\n",
       "      <th>교량연장</th>\n",
       "      <th>교량폭</th>\n",
       "      <th>차로수</th>\n",
       "      <th>상부구조형식</th>\n",
       "      <th>최종안전점검결과</th>\n",
       "      <th>설계활하중</th>\n",
       "      <th>준공후경과년수</th>\n",
       "      <th>경간수</th>\n",
       "      <th>최대경간장</th>\n",
       "      <th>교통량</th>\n",
       "    </tr>\n",
       "  </thead>\n",
       "  <tbody>\n",
       "    <tr>\n",
       "      <th>0</th>\n",
       "      <td>진위교</td>\n",
       "      <td>2</td>\n",
       "      <td>경기도</td>\n",
       "      <td>평택시</td>\n",
       "      <td>125.0</td>\n",
       "      <td>21.0</td>\n",
       "      <td>4</td>\n",
       "      <td>PSCI거더교</td>\n",
       "      <td>B</td>\n",
       "      <td>DB-24</td>\n",
       "      <td>37</td>\n",
       "      <td>5</td>\n",
       "      <td>25.0</td>\n",
       "      <td>21443.0</td>\n",
       "    </tr>\n",
       "    <tr>\n",
       "      <th>1</th>\n",
       "      <td>풍계교</td>\n",
       "      <td>3</td>\n",
       "      <td>경기도</td>\n",
       "      <td>이천시</td>\n",
       "      <td>55.0</td>\n",
       "      <td>20.0</td>\n",
       "      <td>2</td>\n",
       "      <td>RC슬래브교</td>\n",
       "      <td>B</td>\n",
       "      <td>DB-24</td>\n",
       "      <td>27</td>\n",
       "      <td>4</td>\n",
       "      <td>15.0</td>\n",
       "      <td>5654.0</td>\n",
       "    </tr>\n",
       "    <tr>\n",
       "      <th>2</th>\n",
       "      <td>태평교</td>\n",
       "      <td>3</td>\n",
       "      <td>경기도</td>\n",
       "      <td>여주시</td>\n",
       "      <td>43.8</td>\n",
       "      <td>19.5</td>\n",
       "      <td>4</td>\n",
       "      <td>PSCI거더교</td>\n",
       "      <td>B</td>\n",
       "      <td>DB-24</td>\n",
       "      <td>32</td>\n",
       "      <td>2</td>\n",
       "      <td>21.9</td>\n",
       "      <td>8750.0</td>\n",
       "    </tr>\n",
       "    <tr>\n",
       "      <th>3</th>\n",
       "      <td>장평교</td>\n",
       "      <td>2</td>\n",
       "      <td>경기도</td>\n",
       "      <td>이천시</td>\n",
       "      <td>105.0</td>\n",
       "      <td>19.5</td>\n",
       "      <td>4</td>\n",
       "      <td>RC슬래브교</td>\n",
       "      <td>B</td>\n",
       "      <td>DB-24</td>\n",
       "      <td>30</td>\n",
       "      <td>7</td>\n",
       "      <td>15.0</td>\n",
       "      <td>14150.0</td>\n",
       "    </tr>\n",
       "    <tr>\n",
       "      <th>4</th>\n",
       "      <td>덕평교</td>\n",
       "      <td>3</td>\n",
       "      <td>경기도</td>\n",
       "      <td>여주시</td>\n",
       "      <td>32.0</td>\n",
       "      <td>10.0</td>\n",
       "      <td>2</td>\n",
       "      <td>RC슬래브교</td>\n",
       "      <td>B</td>\n",
       "      <td>DB-24</td>\n",
       "      <td>27</td>\n",
       "      <td>2</td>\n",
       "      <td>16.0</td>\n",
       "      <td>3739.0</td>\n",
       "    </tr>\n",
       "  </tbody>\n",
       "</table>\n",
       "</div>"
      ],
      "text/plain": [
       "   교량명 시설물종별등급구분   시도  시군구   교량연장   교량폭  차로수   상부구조형식 최종안전점검결과  설계활하중  \\\n",
       "0  진위교         2  경기도  평택시  125.0  21.0    4  PSCI거더교        B  DB-24   \n",
       "1  풍계교         3  경기도  이천시   55.0  20.0    2   RC슬래브교        B  DB-24   \n",
       "2  태평교         3  경기도  여주시   43.8  19.5    4  PSCI거더교        B  DB-24   \n",
       "3  장평교         2  경기도  이천시  105.0  19.5    4   RC슬래브교        B  DB-24   \n",
       "4  덕평교         3  경기도  여주시   32.0  10.0    2   RC슬래브교        B  DB-24   \n",
       "\n",
       "   준공후경과년수  경간수  최대경간장      교통량  \n",
       "0       37    5   25.0  21443.0  \n",
       "1       27    4   15.0   5654.0  \n",
       "2       32    2   21.9   8750.0  \n",
       "3       30    7   15.0  14150.0  \n",
       "4       27    2   16.0   3739.0  "
      ]
     },
     "execution_count": 2,
     "metadata": {},
     "output_type": "execute_result"
    }
   ],
   "source": [
    "csvFile = 'C:/Users/chunc/Desktop/데이터 샘플/0518_data.csv'\n",
    "df = pd.read_csv(csvFile)\n",
    "df.head()"
   ]
  },
  {
   "cell_type": "code",
   "execution_count": 3,
   "id": "4f398ad8",
   "metadata": {},
   "outputs": [
    {
     "name": "stdout",
     "output_type": "stream",
     "text": [
      "<class 'pandas.core.frame.DataFrame'>\n",
      "RangeIndex: 5680 entries, 0 to 5679\n",
      "Data columns (total 14 columns):\n",
      " #   Column     Non-Null Count  Dtype  \n",
      "---  ------     --------------  -----  \n",
      " 0   교량명        5680 non-null   object \n",
      " 1   시설물종별등급구분  5680 non-null   object \n",
      " 2   시도         5680 non-null   object \n",
      " 3   시군구        5680 non-null   object \n",
      " 4   교량연장       5680 non-null   float64\n",
      " 5   교량폭        5680 non-null   float64\n",
      " 6   차로수        5680 non-null   int64  \n",
      " 7   상부구조형식     5680 non-null   object \n",
      " 8   최종안전점검결과   5680 non-null   object \n",
      " 9   설계활하중      5680 non-null   object \n",
      " 10  준공후경과년수    5680 non-null   int64  \n",
      " 11  경간수        5680 non-null   int64  \n",
      " 12  최대경간장      5680 non-null   float64\n",
      " 13  교통량        5680 non-null   float64\n",
      "dtypes: float64(4), int64(3), object(7)\n",
      "memory usage: 621.4+ KB\n"
     ]
    }
   ],
   "source": [
    "df.info()"
   ]
  },
  {
   "cell_type": "markdown",
   "id": "3e60a6a3",
   "metadata": {},
   "source": [
    "## 데이터 인코딩"
   ]
  },
  {
   "cell_type": "code",
   "execution_count": 4,
   "id": "4b8459f5",
   "metadata": {},
   "outputs": [],
   "source": [
    "def encode_features(df):\n",
    "    features = ['시설물종별등급구분', '최종안전점검결과', '상부구조형식', '설계활하중']\n",
    "    for feature in features:\n",
    "        le = LabelEncoder()\n",
    "        le.fit(df[feature])\n",
    "        df[feature] = le.transform(df[feature])\n",
    "    return df"
   ]
  },
  {
   "cell_type": "code",
   "execution_count": 5,
   "id": "9cd08fe9",
   "metadata": {},
   "outputs": [
    {
     "data": {
      "text/html": [
       "<div>\n",
       "<style scoped>\n",
       "    .dataframe tbody tr th:only-of-type {\n",
       "        vertical-align: middle;\n",
       "    }\n",
       "\n",
       "    .dataframe tbody tr th {\n",
       "        vertical-align: top;\n",
       "    }\n",
       "\n",
       "    .dataframe thead th {\n",
       "        text-align: right;\n",
       "    }\n",
       "</style>\n",
       "<table border=\"1\" class=\"dataframe\">\n",
       "  <thead>\n",
       "    <tr style=\"text-align: right;\">\n",
       "      <th></th>\n",
       "      <th>교량명</th>\n",
       "      <th>시설물종별등급구분</th>\n",
       "      <th>시도</th>\n",
       "      <th>시군구</th>\n",
       "      <th>교량연장</th>\n",
       "      <th>교량폭</th>\n",
       "      <th>차로수</th>\n",
       "      <th>상부구조형식</th>\n",
       "      <th>최종안전점검결과</th>\n",
       "      <th>설계활하중</th>\n",
       "      <th>준공후경과년수</th>\n",
       "      <th>경간수</th>\n",
       "      <th>최대경간장</th>\n",
       "      <th>교통량</th>\n",
       "    </tr>\n",
       "  </thead>\n",
       "  <tbody>\n",
       "    <tr>\n",
       "      <th>0</th>\n",
       "      <td>진위교</td>\n",
       "      <td>1</td>\n",
       "      <td>경기도</td>\n",
       "      <td>평택시</td>\n",
       "      <td>125.0</td>\n",
       "      <td>21.0</td>\n",
       "      <td>4</td>\n",
       "      <td>0</td>\n",
       "      <td>1</td>\n",
       "      <td>2</td>\n",
       "      <td>37</td>\n",
       "      <td>5</td>\n",
       "      <td>25.0</td>\n",
       "      <td>21443.0</td>\n",
       "    </tr>\n",
       "    <tr>\n",
       "      <th>1</th>\n",
       "      <td>풍계교</td>\n",
       "      <td>2</td>\n",
       "      <td>경기도</td>\n",
       "      <td>이천시</td>\n",
       "      <td>55.0</td>\n",
       "      <td>20.0</td>\n",
       "      <td>2</td>\n",
       "      <td>6</td>\n",
       "      <td>1</td>\n",
       "      <td>2</td>\n",
       "      <td>27</td>\n",
       "      <td>4</td>\n",
       "      <td>15.0</td>\n",
       "      <td>5654.0</td>\n",
       "    </tr>\n",
       "    <tr>\n",
       "      <th>2</th>\n",
       "      <td>태평교</td>\n",
       "      <td>2</td>\n",
       "      <td>경기도</td>\n",
       "      <td>여주시</td>\n",
       "      <td>43.8</td>\n",
       "      <td>19.5</td>\n",
       "      <td>4</td>\n",
       "      <td>0</td>\n",
       "      <td>1</td>\n",
       "      <td>2</td>\n",
       "      <td>32</td>\n",
       "      <td>2</td>\n",
       "      <td>21.9</td>\n",
       "      <td>8750.0</td>\n",
       "    </tr>\n",
       "    <tr>\n",
       "      <th>3</th>\n",
       "      <td>장평교</td>\n",
       "      <td>1</td>\n",
       "      <td>경기도</td>\n",
       "      <td>이천시</td>\n",
       "      <td>105.0</td>\n",
       "      <td>19.5</td>\n",
       "      <td>4</td>\n",
       "      <td>6</td>\n",
       "      <td>1</td>\n",
       "      <td>2</td>\n",
       "      <td>30</td>\n",
       "      <td>7</td>\n",
       "      <td>15.0</td>\n",
       "      <td>14150.0</td>\n",
       "    </tr>\n",
       "    <tr>\n",
       "      <th>4</th>\n",
       "      <td>덕평교</td>\n",
       "      <td>2</td>\n",
       "      <td>경기도</td>\n",
       "      <td>여주시</td>\n",
       "      <td>32.0</td>\n",
       "      <td>10.0</td>\n",
       "      <td>2</td>\n",
       "      <td>6</td>\n",
       "      <td>1</td>\n",
       "      <td>2</td>\n",
       "      <td>27</td>\n",
       "      <td>2</td>\n",
       "      <td>16.0</td>\n",
       "      <td>3739.0</td>\n",
       "    </tr>\n",
       "  </tbody>\n",
       "</table>\n",
       "</div>"
      ],
      "text/plain": [
       "   교량명  시설물종별등급구분   시도  시군구   교량연장   교량폭  차로수  상부구조형식  최종안전점검결과  설계활하중  \\\n",
       "0  진위교          1  경기도  평택시  125.0  21.0    4       0         1      2   \n",
       "1  풍계교          2  경기도  이천시   55.0  20.0    2       6         1      2   \n",
       "2  태평교          2  경기도  여주시   43.8  19.5    4       0         1      2   \n",
       "3  장평교          1  경기도  이천시  105.0  19.5    4       6         1      2   \n",
       "4  덕평교          2  경기도  여주시   32.0  10.0    2       6         1      2   \n",
       "\n",
       "   준공후경과년수  경간수  최대경간장      교통량  \n",
       "0       37    5   25.0  21443.0  \n",
       "1       27    4   15.0   5654.0  \n",
       "2       32    2   21.9   8750.0  \n",
       "3       30    7   15.0  14150.0  \n",
       "4       27    2   16.0   3739.0  "
      ]
     },
     "execution_count": 5,
     "metadata": {},
     "output_type": "execute_result"
    }
   ],
   "source": [
    "bridge_df = encode_features(df)\n",
    "bridge_df.head()"
   ]
  },
  {
   "cell_type": "code",
   "execution_count": 6,
   "id": "96973113",
   "metadata": {},
   "outputs": [
    {
     "data": {
      "text/plain": [
       "array([1, 2, 0, 3])"
      ]
     },
     "execution_count": 6,
     "metadata": {},
     "output_type": "execute_result"
    }
   ],
   "source": [
    "# 각 범주변수의 인코딩 확인\n",
    "# 0: 1종, 1: 2종, 2: 3종, 3: 기타\n",
    "bridge_df['시설물종별등급구분'].unique()"
   ]
  },
  {
   "cell_type": "code",
   "execution_count": 7,
   "id": "344653da",
   "metadata": {},
   "outputs": [
    {
     "data": {
      "text/plain": [
       "array([1, 2, 0, 3, 4])"
      ]
     },
     "execution_count": 7,
     "metadata": {},
     "output_type": "execute_result"
    }
   ],
   "source": [
    "# 0: A, 1: B, 2: C, 3: D, 4: E\n",
    "bridge_df['최종안전점검결과'].unique()"
   ]
  },
  {
   "cell_type": "code",
   "execution_count": 8,
   "id": "a24d7b32",
   "metadata": {},
   "outputs": [
    {
     "data": {
      "text/plain": [
       "array([ 0,  6, 17,  9, 12,  7, 10, 14,  1, 15, 11,  2,  4,  3,  8, 13,  5,\n",
       "       16])"
      ]
     },
     "execution_count": 8,
     "metadata": {},
     "output_type": "execute_result"
    }
   ],
   "source": [
    "# 0: PSCI거더교 부터 16: 프리플랙스거더교 까지\n",
    "bridge_df['상부구조형식'].unique()"
   ]
  },
  {
   "cell_type": "code",
   "execution_count": 9,
   "id": "f70b5991",
   "metadata": {},
   "outputs": [
    {
     "data": {
      "text/plain": [
       "array([2, 1, 0, 4, 3])"
      ]
     },
     "execution_count": 9,
     "metadata": {},
     "output_type": "execute_result"
    }
   ],
   "source": [
    "# 0: DB-13.5, 1: DB-18, 2: DB-24, 3: DB-9, 4: 기타, 5: 미상\n",
    "bridge_df['설계활하중'].unique()"
   ]
  },
  {
   "cell_type": "markdown",
   "id": "c9a41fff",
   "metadata": {},
   "source": [
    "## 불필요컬럼 삭제"
   ]
  },
  {
   "cell_type": "code",
   "execution_count": 10,
   "id": "3196bf21",
   "metadata": {},
   "outputs": [
    {
     "data": {
      "text/html": [
       "<div>\n",
       "<style scoped>\n",
       "    .dataframe tbody tr th:only-of-type {\n",
       "        vertical-align: middle;\n",
       "    }\n",
       "\n",
       "    .dataframe tbody tr th {\n",
       "        vertical-align: top;\n",
       "    }\n",
       "\n",
       "    .dataframe thead th {\n",
       "        text-align: right;\n",
       "    }\n",
       "</style>\n",
       "<table border=\"1\" class=\"dataframe\">\n",
       "  <thead>\n",
       "    <tr style=\"text-align: right;\">\n",
       "      <th></th>\n",
       "      <th>시설물종별등급구분</th>\n",
       "      <th>교량연장</th>\n",
       "      <th>교량폭</th>\n",
       "      <th>차로수</th>\n",
       "      <th>상부구조형식</th>\n",
       "      <th>최종안전점검결과</th>\n",
       "      <th>설계활하중</th>\n",
       "      <th>준공후경과년수</th>\n",
       "      <th>경간수</th>\n",
       "      <th>최대경간장</th>\n",
       "      <th>교통량</th>\n",
       "    </tr>\n",
       "  </thead>\n",
       "  <tbody>\n",
       "    <tr>\n",
       "      <th>0</th>\n",
       "      <td>1</td>\n",
       "      <td>125.0</td>\n",
       "      <td>21.0</td>\n",
       "      <td>4</td>\n",
       "      <td>0</td>\n",
       "      <td>1</td>\n",
       "      <td>2</td>\n",
       "      <td>37</td>\n",
       "      <td>5</td>\n",
       "      <td>25.0</td>\n",
       "      <td>21443.0</td>\n",
       "    </tr>\n",
       "    <tr>\n",
       "      <th>1</th>\n",
       "      <td>2</td>\n",
       "      <td>55.0</td>\n",
       "      <td>20.0</td>\n",
       "      <td>2</td>\n",
       "      <td>6</td>\n",
       "      <td>1</td>\n",
       "      <td>2</td>\n",
       "      <td>27</td>\n",
       "      <td>4</td>\n",
       "      <td>15.0</td>\n",
       "      <td>5654.0</td>\n",
       "    </tr>\n",
       "    <tr>\n",
       "      <th>2</th>\n",
       "      <td>2</td>\n",
       "      <td>43.8</td>\n",
       "      <td>19.5</td>\n",
       "      <td>4</td>\n",
       "      <td>0</td>\n",
       "      <td>1</td>\n",
       "      <td>2</td>\n",
       "      <td>32</td>\n",
       "      <td>2</td>\n",
       "      <td>21.9</td>\n",
       "      <td>8750.0</td>\n",
       "    </tr>\n",
       "    <tr>\n",
       "      <th>3</th>\n",
       "      <td>1</td>\n",
       "      <td>105.0</td>\n",
       "      <td>19.5</td>\n",
       "      <td>4</td>\n",
       "      <td>6</td>\n",
       "      <td>1</td>\n",
       "      <td>2</td>\n",
       "      <td>30</td>\n",
       "      <td>7</td>\n",
       "      <td>15.0</td>\n",
       "      <td>14150.0</td>\n",
       "    </tr>\n",
       "    <tr>\n",
       "      <th>4</th>\n",
       "      <td>2</td>\n",
       "      <td>32.0</td>\n",
       "      <td>10.0</td>\n",
       "      <td>2</td>\n",
       "      <td>6</td>\n",
       "      <td>1</td>\n",
       "      <td>2</td>\n",
       "      <td>27</td>\n",
       "      <td>2</td>\n",
       "      <td>16.0</td>\n",
       "      <td>3739.0</td>\n",
       "    </tr>\n",
       "  </tbody>\n",
       "</table>\n",
       "</div>"
      ],
      "text/plain": [
       "   시설물종별등급구분   교량연장   교량폭  차로수  상부구조형식  최종안전점검결과  설계활하중  준공후경과년수  경간수  최대경간장  \\\n",
       "0          1  125.0  21.0    4       0         1      2       37    5   25.0   \n",
       "1          2   55.0  20.0    2       6         1      2       27    4   15.0   \n",
       "2          2   43.8  19.5    4       0         1      2       32    2   21.9   \n",
       "3          1  105.0  19.5    4       6         1      2       30    7   15.0   \n",
       "4          2   32.0  10.0    2       6         1      2       27    2   16.0   \n",
       "\n",
       "       교통량  \n",
       "0  21443.0  \n",
       "1   5654.0  \n",
       "2   8750.0  \n",
       "3  14150.0  \n",
       "4   3739.0  "
      ]
     },
     "execution_count": 10,
     "metadata": {},
     "output_type": "execute_result"
    }
   ],
   "source": [
    "# 필요없는 변수 제외(교량명, 시군구, 위도, 경도 등)\n",
    "bridge_df = bridge_df.drop(['교량명', '시도', '시군구'], axis = 1)\n",
    "bridge_df.head()"
   ]
  },
  {
   "cell_type": "markdown",
   "id": "317635da",
   "metadata": {},
   "source": [
    "## 데이터 모델링"
   ]
  },
  {
   "cell_type": "code",
   "execution_count": 11,
   "id": "6798f450",
   "metadata": {},
   "outputs": [],
   "source": [
    "y_bridge_df = bridge_df['최종안전점검결과']\n",
    "X_bridge_df = bridge_df.drop(['최종안전점검결과'], axis = 1)"
   ]
  },
  {
   "cell_type": "code",
   "execution_count": 12,
   "id": "62f96415",
   "metadata": {},
   "outputs": [
    {
     "data": {
      "text/plain": [
       "(5680, 10)"
      ]
     },
     "execution_count": 12,
     "metadata": {},
     "output_type": "execute_result"
    }
   ],
   "source": [
    "X_bridge_df.shape"
   ]
  },
  {
   "cell_type": "code",
   "execution_count": 13,
   "id": "87bca532",
   "metadata": {},
   "outputs": [
    {
     "data": {
      "text/plain": [
       "(5680,)"
      ]
     },
     "execution_count": 13,
     "metadata": {},
     "output_type": "execute_result"
    }
   ],
   "source": [
    "y_bridge_df.shape"
   ]
  },
  {
   "cell_type": "code",
   "execution_count": 14,
   "id": "b7ac35c3",
   "metadata": {},
   "outputs": [],
   "source": [
    "X_train, X_test, y_train, y_test = train_test_split(X_bridge_df, y_bridge_df, test_size = 0.3, random_state = 12)"
   ]
  },
  {
   "cell_type": "code",
   "execution_count": 15,
   "id": "37c6f4e7",
   "metadata": {},
   "outputs": [
    {
     "name": "stdout",
     "output_type": "stream",
     "text": [
      "의사결정트리 정확도: 0.828\n"
     ]
    }
   ],
   "source": [
    "# 의사결정트리\n",
    "dt_clf = DecisionTreeClassifier(random_state = 12)\n",
    "dt_clf.fit(X_train, y_train)\n",
    "dt_pred = dt_clf.predict(X_test)\n",
    "print('의사결정트리 정확도: {0:.3f}'.format(accuracy_score(y_test, dt_pred)))"
   ]
  },
  {
   "cell_type": "markdown",
   "id": "fbec8e6b",
   "metadata": {},
   "source": [
    "## 트리 시각화"
   ]
  },
  {
   "cell_type": "code",
   "execution_count": 16,
   "id": "fc813b63",
   "metadata": {},
   "outputs": [
    {
     "data": {
      "text/plain": [
       "'decision_tree.pdf'"
      ]
     },
     "execution_count": 16,
     "metadata": {},
     "output_type": "execute_result"
    }
   ],
   "source": [
    "from sklearn.tree import export_graphviz\n",
    "import graphviz\n",
    "font_path = 'C:/Windows/Fonts/NanumGothic.ttf'\n",
    "dot_data = export_graphviz(dt_clf, out_file = None, feature_names=  X_train.columns,\n",
    "                           filled = True, rounded = True, impurity = True, special_characters = True, fontname = 'NanumGothic')\n",
    "\n",
    "# 그래프 생성\n",
    "graph = graphviz.Source(dot_data)\n",
    "\n",
    "# 그래프 출력\n",
    "graph.render(\"decision_tree\")"
   ]
  },
  {
   "cell_type": "code",
   "execution_count": 17,
   "id": "dc863e3f",
   "metadata": {},
   "outputs": [
    {
     "name": "stderr",
     "output_type": "stream",
     "text": [
      "dot: graph is too large for cairo-renderer bitmaps. Scaling by 0.675372 to fit\r\n"
     ]
    },
    {
     "data": {
      "text/plain": [
       "'decision_tree.png'"
      ]
     },
     "execution_count": 17,
     "metadata": {},
     "output_type": "execute_result"
    }
   ],
   "source": [
    "graph.format = 'png'\n",
    "graph.render(\"decision_tree\")"
   ]
  },
  {
   "cell_type": "code",
   "execution_count": 18,
   "id": "ce423fa5",
   "metadata": {},
   "outputs": [
    {
     "data": {
      "image/png": "[encoded data removed]",
      "text/plain": [
       "<Figure size 1000x600 with 1 Axes>"
      ]
     },
     "metadata": {},
     "output_type": "display_data"
    }
   ],
   "source": [
    "# 전체 모델에서의 중요도가 높은 요인 시각화\n",
    "ftr_importances_values = dt_clf.feature_importances_\n",
    "\n",
    "# Top 중요도로 정렬을 쉽게 하고, 시본(Seaborn)의 막대그래프로 쉽게 표현하기 위해 Series변환\n",
    "ftr_importances = pd.Series(ftr_importances_values, index = X_train.columns)\n",
    "\n",
    "# 중요도값 순으로 Series를 정렬\n",
    "ftr_top = ftr_importances.sort_values(ascending = False)\n",
    "plt.figure(figsize = (10,6))\n",
    "plt.title('Feature importances')\n",
    "sns.barplot(x = ftr_top , y = ftr_top.index, palette = 'pastel')\n",
    "plt.show()"
   ]
  },
  {
   "cell_type": "markdown",
   "id": "67575480",
   "metadata": {},
   "source": [
    "## 교차검증"
   ]
  },
  {
   "cell_type": "code",
   "execution_count": 19,
   "id": "e277d15e",
   "metadata": {},
   "outputs": [
    {
     "name": "stdout",
     "output_type": "stream",
     "text": [
      "교차 검증 0 정확도: 0.6708\n",
      "교차 검증 1 정확도: 0.6215\n",
      "교차 검증 2 정확도: 0.5792\n",
      "교차 검증 3 정확도: 0.6743\n",
      "교차 검증 4 정확도: 0.6857\n",
      "평균 정확도: 0.6463\n"
     ]
    }
   ],
   "source": [
    "# cross_val_score()\n",
    "scores = cross_val_score(dt_clf, X_bridge_df, y_bridge_df, cv = 5)\n",
    "for iter_count, accuracy in enumerate(scores):\n",
    "    print('교차 검증 {0} 정확도: {1:.4f}'.format(iter_count, accuracy))\n",
    "    \n",
    "print('평균 정확도: {0:.4f}'.format(np.mean(scores)))"
   ]
  },
  {
   "cell_type": "code",
   "execution_count": 20,
   "id": "ab5b5805",
   "metadata": {},
   "outputs": [
    {
     "name": "stdout",
     "output_type": "stream",
     "text": [
      "GridSearchCV 최적 하이퍼 파라미터 : {'max_depth': 7, 'max_features': 7, 'min_samples_leaf': 8, 'min_samples_split': 2}\n",
      "GridSearchCV 최고 정확도: 0.8438\n"
     ]
    }
   ],
   "source": [
    "# grid_search\n",
    "# 파라미터의 범위를 0~9까지로 제한(과적합 방지 위해)\n",
    "parameters = {'max_depth':[i for i in range(10)], 'min_samples_split':[i for i in range(10)],\n",
    "              'min_samples_leaf':[i for i in range(10)], 'max_features': [i for i in range(10)]}\n",
    "\n",
    "grid_cv = GridSearchCV(dt_clf , param_grid = parameters , scoring = 'accuracy' , cv = 5)\n",
    "grid_cv.fit(X_train , y_train)\n",
    "\n",
    "print('GridSearchCV 최적 하이퍼 파라미터 :',grid_cv.best_params_)\n",
    "print('GridSearchCV 최고 정확도: {0:.4f}'.format(grid_cv.best_score_))"
   ]
  },
  {
   "cell_type": "markdown",
   "id": "88e183d5",
   "metadata": {},
   "source": [
    "## 최적의 모델"
   ]
  },
  {
   "cell_type": "code",
   "execution_count": 21,
   "id": "dbeaea57",
   "metadata": {},
   "outputs": [
    {
     "name": "stdout",
     "output_type": "stream",
     "text": [
      "의사결정트리 정확도: 0.842\n"
     ]
    }
   ],
   "source": [
    "# 의사결정트리\n",
    "dt_clf = DecisionTreeClassifier(random_state = 12, max_depth = 7, max_features = 7,\n",
    "                                min_samples_leaf = 8, min_samples_split = 2)\n",
    "dt_clf.fit(X_train, y_train)\n",
    "dt_pred = dt_clf.predict(X_test)\n",
    "print('의사결정트리 정확도: {0:.3f}'.format(accuracy_score(y_test, dt_pred)))"
   ]
  },
  {
   "cell_type": "code",
   "execution_count": 22,
   "id": "f101dd22",
   "metadata": {},
   "outputs": [
    {
     "data": {
      "text/plain": [
       "'decision_tree1.png'"
      ]
     },
     "execution_count": 22,
     "metadata": {},
     "output_type": "execute_result"
    }
   ],
   "source": [
    "from sklearn.tree import export_graphviz\n",
    "import graphviz\n",
    "font_path = 'C:/Windows/Fonts/NanumGothic.ttf'\n",
    "dot_data = export_graphviz(dt_clf, out_file=None, feature_names = X_train.columns,\n",
    "                           filled = True, rounded = True, impurity = True,\n",
    "                           special_characters = True, fontname = 'NanumGothic')\n",
    "\n",
    "# 그래프 생성\n",
    "graph = graphviz.Source(dot_data)\n",
    "\n",
    "# 그래프 출력\n",
    "graph.format = 'png'\n",
    "graph.render(\"decision_tree1\")"
   ]
  },
  {
   "cell_type": "code",
   "execution_count": 23,
   "id": "fe423353",
   "metadata": {},
   "outputs": [
    {
     "data": {
      "text/plain": [
       "'decision_tree1.pdf'"
      ]
     },
     "execution_count": 23,
     "metadata": {},
     "output_type": "execute_result"
    }
   ],
   "source": [
    "graph.format = 'pdf'\n",
    "graph.render(\"decision_tree1\")"
   ]
  },
  {
   "cell_type": "markdown",
   "id": "54349e05",
   "metadata": {},
   "source": [
    "* 주황색이 A, 초록색이 B, 민트색이 C, 파란색이 D, 핑크색이 E로 분류되는 것으로 예상\n",
    "* 데이터상에도 안전등급이 D인 데이터의 개수가 작아서 더 많은 데이터를 모델링하거나 하이퍼파라미터를 늘려서 탐색하게 된다면 D등급 분류결과도 확실히 볼것으로 추측(앞서 파라미터를 조정하지 않은 모델을 돌렸을 때 D등급이 파란색으로 분류가 되었음을 확인)"
   ]
  },
  {
   "cell_type": "code",
   "execution_count": 24,
   "id": "4b712d71",
   "metadata": {},
   "outputs": [
    {
     "data": {
      "image/png": "[encoded data removed]",
      "text/plain": [
       "<Figure size 1000x600 with 1 Axes>"
      ]
     },
     "metadata": {},
     "output_type": "display_data"
    }
   ],
   "source": [
    "# 중요도가 높은 요인 시각화\n",
    "ftr_importances_values = dt_clf.feature_importances_\n",
    "\n",
    "# Top 중요도로 정렬을 쉽게 하고, 시본(Seaborn)의 막대그래프로 쉽게 표현하기 위해 Series변환\n",
    "ftr_importances = pd.Series(ftr_importances_values, index = X_train.columns)\n",
    "\n",
    "# 중요도값 순으로 Series를 정렬\n",
    "ftr_top = ftr_importances.sort_values(ascending = False)\n",
    "plt.figure(figsize = (10,6))\n",
    "plt.title('Feature importances')\n",
    "sns.barplot(x = ftr_top , y = ftr_top.index, palette = 'pastel')\n",
    "plt.show()"
   ]
  },
  {
   "cell_type": "markdown",
   "id": "759e39f9",
   "metadata": {},
   "source": [
    "* 추가적인 데이터 정제, 스케일링, 하이퍼파라미터 조절 등으로 정확도나 그래프의 속성은 바뀔것으로 생각됨\n",
    "* 기존 데이터셋보다 정확도가 소폭 감소했으나 트리맵을 보았을때 기존모델보다 등급분류가 다채롭게 된 것을 볼 수 있음"
   ]
  },
  {
   "cell_type": "code",
   "execution_count": null,
   "id": "3f360c9a",
   "metadata": {},
   "outputs": [],
   "source": []
  }
 ],
 "metadata": {
  "kernelspec": {
   "display_name": "Python 3 (ipykernel)",
   "language": "python",
   "name": "python3"
  },
  "language_info": {
   "codemirror_mode": {
    "name": "ipython",
    "version": 3
   },
   "file_extension": ".py",
   "mimetype": "text/x-python",
   "name": "python",
   "nbconvert_exporter": "python",
   "pygments_lexer": "ipython3",
   "version": "3.8.16"
  }
 },
 "nbformat": 4,
 "nbformat_minor": 5
}
