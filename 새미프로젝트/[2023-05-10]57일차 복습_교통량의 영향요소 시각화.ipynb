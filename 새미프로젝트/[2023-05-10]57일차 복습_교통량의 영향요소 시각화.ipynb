{
 "cells": [
  {
   "cell_type": "markdown",
   "id": "1cd59d9c",
   "metadata": {},
   "source": [
    "# 교통량의 영향요인 확인"
   ]
  },
  {
   "cell_type": "code",
   "execution_count": 1,
   "id": "438ed2ee",
   "metadata": {},
   "outputs": [],
   "source": [
    "# 필요 패키지 불러오기\n",
    "import pandas as pd\n",
    "import matplotlib.pyplot as plt\n",
    "import seaborn as sns\n",
    "from datetime import datetime\n"
   ]
  },
  {
   "cell_type": "code",
   "execution_count": 2,
   "id": "f9059fe1",
   "metadata": {},
   "outputs": [],
   "source": [
    "# 폰트 설정\n",
    "plt.rc('font', family='NanumGothic')"
   ]
  },
  {
   "cell_type": "code",
   "execution_count": 3,
   "id": "c24b2e6b",
   "metadata": {},
   "outputs": [
    {
     "data": {
      "text/html": [
       "<div>\n",
       "<style scoped>\n",
       "    .dataframe tbody tr th:only-of-type {\n",
       "        vertical-align: middle;\n",
       "    }\n",
       "\n",
       "    .dataframe tbody tr th {\n",
       "        vertical-align: top;\n",
       "    }\n",
       "\n",
       "    .dataframe thead th {\n",
       "        text-align: right;\n",
       "    }\n",
       "</style>\n",
       "<table border=\"1\" class=\"dataframe\">\n",
       "  <thead>\n",
       "    <tr style=\"text-align: right;\">\n",
       "      <th></th>\n",
       "      <th>도로종류</th>\n",
       "      <th>노선명</th>\n",
       "      <th>시설명</th>\n",
       "      <th>시도</th>\n",
       "      <th>시군구</th>\n",
       "      <th>읍면동</th>\n",
       "      <th>리</th>\n",
       "      <th>총길이</th>\n",
       "      <th>총폭</th>\n",
       "      <th>유효폭</th>\n",
       "      <th>...</th>\n",
       "      <th>경간수</th>\n",
       "      <th>최대경간장</th>\n",
       "      <th>상부구조</th>\n",
       "      <th>하부구조</th>\n",
       "      <th>설계하중</th>\n",
       "      <th>교통량</th>\n",
       "      <th>기관구분1</th>\n",
       "      <th>기관구분2</th>\n",
       "      <th>기관구분3</th>\n",
       "      <th>준공년도</th>\n",
       "    </tr>\n",
       "  </thead>\n",
       "  <tbody>\n",
       "    <tr>\n",
       "      <th>0</th>\n",
       "      <td>고속국도</td>\n",
       "      <td>고속국도12호선</td>\n",
       "      <td>88낙동강교(광주)</td>\n",
       "      <td>대구광역시</td>\n",
       "      <td>달성군</td>\n",
       "      <td>논공읍</td>\n",
       "      <td>위천리</td>\n",
       "      <td>812.0</td>\n",
       "      <td>15.7</td>\n",
       "      <td>14.7</td>\n",
       "      <td>...</td>\n",
       "      <td>22.0</td>\n",
       "      <td>60.0</td>\n",
       "      <td>PSCI거더교</td>\n",
       "      <td>NaN</td>\n",
       "      <td>DB-24</td>\n",
       "      <td>17850.0</td>\n",
       "      <td>전문관리기관</td>\n",
       "      <td>한국도로공사</td>\n",
       "      <td>고령지사</td>\n",
       "      <td>1984</td>\n",
       "    </tr>\n",
       "    <tr>\n",
       "      <th>1</th>\n",
       "      <td>고속국도</td>\n",
       "      <td>고속국도12호선</td>\n",
       "      <td>88낙동강교(대구)</td>\n",
       "      <td>대구광역시</td>\n",
       "      <td>달성군</td>\n",
       "      <td>논공읍</td>\n",
       "      <td>위천리</td>\n",
       "      <td>806.0</td>\n",
       "      <td>15.8</td>\n",
       "      <td>14.9</td>\n",
       "      <td>...</td>\n",
       "      <td>14.0</td>\n",
       "      <td>61.2</td>\n",
       "      <td>강박스거더교</td>\n",
       "      <td>NaN</td>\n",
       "      <td>DB-24</td>\n",
       "      <td>17850.0</td>\n",
       "      <td>전문관리기관</td>\n",
       "      <td>한국도로공사</td>\n",
       "      <td>고령지사</td>\n",
       "      <td>2006</td>\n",
       "    </tr>\n",
       "    <tr>\n",
       "      <th>2</th>\n",
       "      <td>고속국도</td>\n",
       "      <td>고속국도25호선</td>\n",
       "      <td>RAMP-A교</td>\n",
       "      <td>전라남도</td>\n",
       "      <td>장성군</td>\n",
       "      <td>남면</td>\n",
       "      <td>삼태리</td>\n",
       "      <td>90.0</td>\n",
       "      <td>13.9</td>\n",
       "      <td>13.0</td>\n",
       "      <td>...</td>\n",
       "      <td>2.0</td>\n",
       "      <td>45.0</td>\n",
       "      <td>PSCI거더교</td>\n",
       "      <td>역 T형식교대</td>\n",
       "      <td>DB-24</td>\n",
       "      <td>20998.0</td>\n",
       "      <td>자치단체</td>\n",
       "      <td>광주</td>\n",
       "      <td>시청</td>\n",
       "      <td>2015</td>\n",
       "    </tr>\n",
       "    <tr>\n",
       "      <th>3</th>\n",
       "      <td>고속국도</td>\n",
       "      <td>고속국도25호선</td>\n",
       "      <td>RAMP-H교</td>\n",
       "      <td>전라남도</td>\n",
       "      <td>장성군</td>\n",
       "      <td>남면</td>\n",
       "      <td>삼태리</td>\n",
       "      <td>55.0</td>\n",
       "      <td>7.9</td>\n",
       "      <td>7.0</td>\n",
       "      <td>...</td>\n",
       "      <td>1.0</td>\n",
       "      <td>55.0</td>\n",
       "      <td>강박스거더교</td>\n",
       "      <td>역 T형식교대</td>\n",
       "      <td>DB-24</td>\n",
       "      <td>20998.0</td>\n",
       "      <td>자치단체</td>\n",
       "      <td>광주</td>\n",
       "      <td>종합건설본부</td>\n",
       "      <td>2016</td>\n",
       "    </tr>\n",
       "    <tr>\n",
       "      <th>4</th>\n",
       "      <td>고속국도</td>\n",
       "      <td>고속국도25호선</td>\n",
       "      <td>RAMP-I교</td>\n",
       "      <td>전라남도</td>\n",
       "      <td>장성군</td>\n",
       "      <td>남면</td>\n",
       "      <td>삼태리</td>\n",
       "      <td>55.0</td>\n",
       "      <td>7.9</td>\n",
       "      <td>7.0</td>\n",
       "      <td>...</td>\n",
       "      <td>1.0</td>\n",
       "      <td>55.0</td>\n",
       "      <td>강박스거더교</td>\n",
       "      <td>역 T형식교대</td>\n",
       "      <td>DB-24</td>\n",
       "      <td>20998.0</td>\n",
       "      <td>자치단체</td>\n",
       "      <td>광주</td>\n",
       "      <td>종합건설본부</td>\n",
       "      <td>2016</td>\n",
       "    </tr>\n",
       "  </tbody>\n",
       "</table>\n",
       "<p>5 rows × 21 columns</p>\n",
       "</div>"
      ],
      "text/plain": [
       "   도로종류       노선명         시설명     시도  시군구  읍면동    리    총길이    총폭   유효폭  ...   \n",
       "0  고속국도  고속국도12호선  88낙동강교(광주)  대구광역시  달성군  논공읍  위천리  812.0  15.7  14.7  ...  \\\n",
       "1  고속국도  고속국도12호선  88낙동강교(대구)  대구광역시  달성군  논공읍  위천리  806.0  15.8  14.9  ...   \n",
       "2  고속국도  고속국도25호선     RAMP-A교   전라남도  장성군   남면  삼태리   90.0  13.9  13.0  ...   \n",
       "3  고속국도  고속국도25호선     RAMP-H교   전라남도  장성군   남면  삼태리   55.0   7.9   7.0  ...   \n",
       "4  고속국도  고속국도25호선     RAMP-I교   전라남도  장성군   남면  삼태리   55.0   7.9   7.0  ...   \n",
       "\n",
       "    경간수  최대경간장     상부구조     하부구조   설계하중      교통량   기관구분1   기관구분2   기관구분3  준공년도  \n",
       "0  22.0   60.0  PSCI거더교      NaN  DB-24  17850.0  전문관리기관  한국도로공사    고령지사  1984  \n",
       "1  14.0   61.2   강박스거더교      NaN  DB-24  17850.0  전문관리기관  한국도로공사    고령지사  2006  \n",
       "2   2.0   45.0  PSCI거더교  역 T형식교대  DB-24  20998.0    자치단체      광주      시청  2015  \n",
       "3   1.0   55.0   강박스거더교  역 T형식교대  DB-24  20998.0    자치단체      광주  종합건설본부  2016  \n",
       "4   1.0   55.0   강박스거더교  역 T형식교대  DB-24  20998.0    자치단체      광주  종합건설본부  2016  \n",
       "\n",
       "[5 rows x 21 columns]"
      ]
     },
     "execution_count": 3,
     "metadata": {},
     "output_type": "execute_result"
    }
   ],
   "source": [
    "# 2022_도로_교량_및_터널현황조서 파일 불러오기\n",
    "excelFile = 'C:/Users/chunc/Desktop/데이터 샘플/2022_도로_교량_및_터널현황조서.xls'\n",
    "df1 = pd.read_excel(excelFile, sheet_name = 1)\n",
    "df1.head()"
   ]
  },
  {
   "cell_type": "code",
   "execution_count": 4,
   "id": "684b27fb",
   "metadata": {},
   "outputs": [
    {
     "data": {
      "text/plain": [
       "Index(['도로종류', '노선명', '시설명', '시도', '시군구', '읍면동', '리', '총길이', '총폭', '유효폭', '높이',\n",
       "       '경간수', '최대경간장', '상부구조', '하부구조', '설계하중', '교통량', '기관구분1', '기관구분2',\n",
       "       '기관구분3', '준공년도'],\n",
       "      dtype='object')"
      ]
     },
     "execution_count": 4,
     "metadata": {},
     "output_type": "execute_result"
    }
   ],
   "source": [
    "df1.columns"
   ]
  },
  {
   "cell_type": "code",
   "execution_count": 5,
   "id": "b2a28009",
   "metadata": {},
   "outputs": [],
   "source": [
    "# df1의 불필요한 컬럼 제거\n",
    "df1.drop(['노선명', '읍면동', '리', '총길이', '총폭', '유효폭', '높이',\n",
    "       '경간수', '최대경간장', '하부구조',  '기관구분1', '기관구분2',\n",
    "       '기관구분3'], axis = 1, inplace = True)"
   ]
  },
  {
   "cell_type": "code",
   "execution_count": 6,
   "id": "079affe2",
   "metadata": {},
   "outputs": [
    {
     "data": {
      "text/html": [
       "<div>\n",
       "<style scoped>\n",
       "    .dataframe tbody tr th:only-of-type {\n",
       "        vertical-align: middle;\n",
       "    }\n",
       "\n",
       "    .dataframe tbody tr th {\n",
       "        vertical-align: top;\n",
       "    }\n",
       "\n",
       "    .dataframe thead th {\n",
       "        text-align: right;\n",
       "    }\n",
       "</style>\n",
       "<table border=\"1\" class=\"dataframe\">\n",
       "  <thead>\n",
       "    <tr style=\"text-align: right;\">\n",
       "      <th></th>\n",
       "      <th>도로종류</th>\n",
       "      <th>시설명</th>\n",
       "      <th>시도</th>\n",
       "      <th>시군구</th>\n",
       "      <th>상부구조</th>\n",
       "      <th>설계하중</th>\n",
       "      <th>교통량</th>\n",
       "      <th>준공년도</th>\n",
       "    </tr>\n",
       "  </thead>\n",
       "  <tbody>\n",
       "    <tr>\n",
       "      <th>0</th>\n",
       "      <td>고속국도</td>\n",
       "      <td>88낙동강교(광주)</td>\n",
       "      <td>대구광역시</td>\n",
       "      <td>달성군</td>\n",
       "      <td>PSCI거더교</td>\n",
       "      <td>DB-24</td>\n",
       "      <td>17850.0</td>\n",
       "      <td>1984</td>\n",
       "    </tr>\n",
       "    <tr>\n",
       "      <th>1</th>\n",
       "      <td>고속국도</td>\n",
       "      <td>88낙동강교(대구)</td>\n",
       "      <td>대구광역시</td>\n",
       "      <td>달성군</td>\n",
       "      <td>강박스거더교</td>\n",
       "      <td>DB-24</td>\n",
       "      <td>17850.0</td>\n",
       "      <td>2006</td>\n",
       "    </tr>\n",
       "    <tr>\n",
       "      <th>2</th>\n",
       "      <td>고속국도</td>\n",
       "      <td>RAMP-A교</td>\n",
       "      <td>전라남도</td>\n",
       "      <td>장성군</td>\n",
       "      <td>PSCI거더교</td>\n",
       "      <td>DB-24</td>\n",
       "      <td>20998.0</td>\n",
       "      <td>2015</td>\n",
       "    </tr>\n",
       "    <tr>\n",
       "      <th>3</th>\n",
       "      <td>고속국도</td>\n",
       "      <td>RAMP-H교</td>\n",
       "      <td>전라남도</td>\n",
       "      <td>장성군</td>\n",
       "      <td>강박스거더교</td>\n",
       "      <td>DB-24</td>\n",
       "      <td>20998.0</td>\n",
       "      <td>2016</td>\n",
       "    </tr>\n",
       "    <tr>\n",
       "      <th>4</th>\n",
       "      <td>고속국도</td>\n",
       "      <td>RAMP-I교</td>\n",
       "      <td>전라남도</td>\n",
       "      <td>장성군</td>\n",
       "      <td>강박스거더교</td>\n",
       "      <td>DB-24</td>\n",
       "      <td>20998.0</td>\n",
       "      <td>2016</td>\n",
       "    </tr>\n",
       "  </tbody>\n",
       "</table>\n",
       "</div>"
      ],
      "text/plain": [
       "   도로종류         시설명     시도  시군구     상부구조   설계하중      교통량  준공년도\n",
       "0  고속국도  88낙동강교(광주)  대구광역시  달성군  PSCI거더교  DB-24  17850.0  1984\n",
       "1  고속국도  88낙동강교(대구)  대구광역시  달성군   강박스거더교  DB-24  17850.0  2006\n",
       "2  고속국도     RAMP-A교   전라남도  장성군  PSCI거더교  DB-24  20998.0  2015\n",
       "3  고속국도     RAMP-H교   전라남도  장성군   강박스거더교  DB-24  20998.0  2016\n",
       "4  고속국도     RAMP-I교   전라남도  장성군   강박스거더교  DB-24  20998.0  2016"
      ]
     },
     "execution_count": 6,
     "metadata": {},
     "output_type": "execute_result"
    }
   ],
   "source": [
    "df1.head()"
   ]
  },
  {
   "cell_type": "code",
   "execution_count": 7,
   "id": "a482f2bf",
   "metadata": {},
   "outputs": [
    {
     "data": {
      "text/html": [
       "<div>\n",
       "<style scoped>\n",
       "    .dataframe tbody tr th:only-of-type {\n",
       "        vertical-align: middle;\n",
       "    }\n",
       "\n",
       "    .dataframe tbody tr th {\n",
       "        vertical-align: top;\n",
       "    }\n",
       "\n",
       "    .dataframe thead th {\n",
       "        text-align: right;\n",
       "    }\n",
       "</style>\n",
       "<table border=\"1\" class=\"dataframe\">\n",
       "  <thead>\n",
       "    <tr style=\"text-align: right;\">\n",
       "      <th></th>\n",
       "      <th>교량명</th>\n",
       "      <th>시설물종별등급구분</th>\n",
       "      <th>도로종류</th>\n",
       "      <th>도로노선명</th>\n",
       "      <th>도로노선번호</th>\n",
       "      <th>도로노선방향</th>\n",
       "      <th>시도명</th>\n",
       "      <th>시군구명</th>\n",
       "      <th>시군구코드</th>\n",
       "      <th>소재지도로명주소</th>\n",
       "      <th>...</th>\n",
       "      <th>내진설계적용여부</th>\n",
       "      <th>내진성능확보여부</th>\n",
       "      <th>교량보수보강내역</th>\n",
       "      <th>교량보수보강비용</th>\n",
       "      <th>설계활하중</th>\n",
       "      <th>허용통행하중</th>\n",
       "      <th>하부통과제한높이</th>\n",
       "      <th>관리기관명</th>\n",
       "      <th>관리기관전화번호</th>\n",
       "      <th>데이터기준일자</th>\n",
       "    </tr>\n",
       "  </thead>\n",
       "  <tbody>\n",
       "    <tr>\n",
       "      <th>0</th>\n",
       "      <td>진위교</td>\n",
       "      <td>2</td>\n",
       "      <td>일반국도</td>\n",
       "      <td>일반국도1호선</td>\n",
       "      <td>1.0</td>\n",
       "      <td>3</td>\n",
       "      <td>경기도</td>\n",
       "      <td>평택시</td>\n",
       "      <td>41220</td>\n",
       "      <td>NaN</td>\n",
       "      <td>...</td>\n",
       "      <td>미적용</td>\n",
       "      <td>N</td>\n",
       "      <td>NaN</td>\n",
       "      <td>NaN</td>\n",
       "      <td>DB-24</td>\n",
       "      <td>43.2</td>\n",
       "      <td>NaN</td>\n",
       "      <td>서울청 수원사무소</td>\n",
       "      <td>031-218-1777</td>\n",
       "      <td>2022-06-27</td>\n",
       "    </tr>\n",
       "    <tr>\n",
       "      <th>1</th>\n",
       "      <td>풍계교</td>\n",
       "      <td>3</td>\n",
       "      <td>일반국도</td>\n",
       "      <td>일반국도3호선</td>\n",
       "      <td>3.0</td>\n",
       "      <td>3</td>\n",
       "      <td>경기도</td>\n",
       "      <td>이천시</td>\n",
       "      <td>41500</td>\n",
       "      <td>NaN</td>\n",
       "      <td>...</td>\n",
       "      <td>미적용</td>\n",
       "      <td>N</td>\n",
       "      <td>NaN</td>\n",
       "      <td>NaN</td>\n",
       "      <td>DB-24</td>\n",
       "      <td>43.2</td>\n",
       "      <td>4.5</td>\n",
       "      <td>서울청 수원사무소</td>\n",
       "      <td>031-218-1777</td>\n",
       "      <td>2022-06-27</td>\n",
       "    </tr>\n",
       "    <tr>\n",
       "      <th>2</th>\n",
       "      <td>태평교</td>\n",
       "      <td>3</td>\n",
       "      <td>일반국도</td>\n",
       "      <td>일반국도3호선</td>\n",
       "      <td>3.0</td>\n",
       "      <td>3</td>\n",
       "      <td>경기도</td>\n",
       "      <td>여주시</td>\n",
       "      <td>41670</td>\n",
       "      <td>NaN</td>\n",
       "      <td>...</td>\n",
       "      <td>미적용</td>\n",
       "      <td>N</td>\n",
       "      <td>NaN</td>\n",
       "      <td>NaN</td>\n",
       "      <td>DB-24</td>\n",
       "      <td>43.2</td>\n",
       "      <td>3.0</td>\n",
       "      <td>서울청 수원사무소</td>\n",
       "      <td>031-218-1777</td>\n",
       "      <td>2022-06-27</td>\n",
       "    </tr>\n",
       "    <tr>\n",
       "      <th>3</th>\n",
       "      <td>장평교</td>\n",
       "      <td>2</td>\n",
       "      <td>일반국도</td>\n",
       "      <td>일반국도3호선</td>\n",
       "      <td>3.0</td>\n",
       "      <td>3</td>\n",
       "      <td>경기도</td>\n",
       "      <td>이천시</td>\n",
       "      <td>41500</td>\n",
       "      <td>NaN</td>\n",
       "      <td>...</td>\n",
       "      <td>미적용</td>\n",
       "      <td>N</td>\n",
       "      <td>NaN</td>\n",
       "      <td>NaN</td>\n",
       "      <td>DB-24</td>\n",
       "      <td>43.2</td>\n",
       "      <td>NaN</td>\n",
       "      <td>서울청 수원사무소</td>\n",
       "      <td>031-218-1777</td>\n",
       "      <td>2022-06-27</td>\n",
       "    </tr>\n",
       "    <tr>\n",
       "      <th>4</th>\n",
       "      <td>풍계교</td>\n",
       "      <td>3</td>\n",
       "      <td>일반국도</td>\n",
       "      <td>일반국도37호선</td>\n",
       "      <td>37.0</td>\n",
       "      <td>3</td>\n",
       "      <td>경기도</td>\n",
       "      <td>이천시</td>\n",
       "      <td>41500</td>\n",
       "      <td>NaN</td>\n",
       "      <td>...</td>\n",
       "      <td>미적용</td>\n",
       "      <td>N</td>\n",
       "      <td>NaN</td>\n",
       "      <td>NaN</td>\n",
       "      <td>DB-18(성능개선)</td>\n",
       "      <td>32.4</td>\n",
       "      <td>7.0</td>\n",
       "      <td>서울청 수원사무소</td>\n",
       "      <td>031-218-1777</td>\n",
       "      <td>2022-06-27</td>\n",
       "    </tr>\n",
       "  </tbody>\n",
       "</table>\n",
       "<p>5 rows × 36 columns</p>\n",
       "</div>"
      ],
      "text/plain": [
       "   교량명  시설물종별등급구분  도로종류     도로노선명  도로노선번호  도로노선방향  시도명 시군구명  시군구코드  소재지도로명주소   \n",
       "0  진위교          2  일반국도   일반국도1호선     1.0       3  경기도  평택시  41220       NaN  \\\n",
       "1  풍계교          3  일반국도   일반국도3호선     3.0       3  경기도  이천시  41500       NaN   \n",
       "2  태평교          3  일반국도   일반국도3호선     3.0       3  경기도  여주시  41670       NaN   \n",
       "3  장평교          2  일반국도   일반국도3호선     3.0       3  경기도  이천시  41500       NaN   \n",
       "4  풍계교          3  일반국도  일반국도37호선    37.0       3  경기도  이천시  41500       NaN   \n",
       "\n",
       "   ... 내진설계적용여부  내진성능확보여부  교량보수보강내역  교량보수보강비용        설계활하중  허용통행하중  하부통과제한높이   \n",
       "0  ...      미적용         N       NaN       NaN        DB-24    43.2       NaN  \\\n",
       "1  ...      미적용         N       NaN       NaN        DB-24    43.2       4.5   \n",
       "2  ...      미적용         N       NaN       NaN        DB-24    43.2       3.0   \n",
       "3  ...      미적용         N       NaN       NaN        DB-24    43.2       NaN   \n",
       "4  ...      미적용         N       NaN       NaN  DB-18(성능개선)    32.4       7.0   \n",
       "\n",
       "       관리기관명      관리기관전화번호     데이터기준일자  \n",
       "0  서울청 수원사무소  031-218-1777  2022-06-27  \n",
       "1  서울청 수원사무소  031-218-1777  2022-06-27  \n",
       "2  서울청 수원사무소  031-218-1777  2022-06-27  \n",
       "3  서울청 수원사무소  031-218-1777  2022-06-27  \n",
       "4  서울청 수원사무소  031-218-1777  2022-06-27  \n",
       "\n",
       "[5 rows x 36 columns]"
      ]
     },
     "execution_count": 7,
     "metadata": {},
     "output_type": "execute_result"
    }
   ],
   "source": [
    "# 국토교통부_교량_20220627 데이터 불러오기\n",
    "csvFile = 'C:/Users/chunc/Desktop/데이터 샘플/국토교통부_교량_20220627.csv'\n",
    "df2 = pd.read_csv(csvFile, encoding = 'euc-kr')\n",
    "df2.head()"
   ]
  },
  {
   "cell_type": "code",
   "execution_count": 8,
   "id": "01bc3302",
   "metadata": {},
   "outputs": [],
   "source": [
    "df2.columns = ['시설명', '시설물종별등급구분', '도로종류', '도로노선명', '도로노선번호', '도로노선방향', '시도명', '시군구명',\n",
    "       '시군구코드', '소재지도로명주소', '소재지지번주소', '교량시작점위도', '교량시작점경도', '교량종료점위도',\n",
    "       '교량종료점경도', '교량연장', '교량폭', '교량보도폭', '교량높이', '차로수', '상하행선분리여부', '상부구조형식',\n",
    "       '교량준공연도', '최종안전점검일자', '최종안전점검결과', '최종안전점검유형', '내진설계적용여부', '내진성능확보여부',\n",
    "       '교량보수보강내역', '교량보수보강비용', '설계활하중', '허용통행하중', '하부통과제한높이', '관리기관명',\n",
    "       '관리기관전화번호', '데이터기준일자']"
   ]
  },
  {
   "cell_type": "code",
   "execution_count": 9,
   "id": "e39421b1",
   "metadata": {},
   "outputs": [],
   "source": [
    "# df2의 불필요한 컬럼 제거\n",
    "df2.drop(['도로종류', '도로노선명', '도로노선번호', '도로노선방향', '시도명', '시군구명',\n",
    "       '시군구코드', '소재지도로명주소', '소재지지번주소', '교량시작점위도', '교량시작점경도', '교량종료점위도',\n",
    "       '교량종료점경도', '교량폭', '교량보도폭', '교량높이', '차로수', '상하행선분리여부', '상부구조형식',\n",
    "       '교량준공연도', '내진설계적용여부', '내진성능확보여부', '설계활하중', '허용통행하중', '하부통과제한높이', '관리기관명',\n",
    "       '관리기관전화번호', '데이터기준일자'], axis = 1, inplace = True)"
   ]
  },
  {
   "cell_type": "code",
   "execution_count": 10,
   "id": "4fb0cfe7",
   "metadata": {},
   "outputs": [
    {
     "data": {
      "text/html": [
       "<div>\n",
       "<style scoped>\n",
       "    .dataframe tbody tr th:only-of-type {\n",
       "        vertical-align: middle;\n",
       "    }\n",
       "\n",
       "    .dataframe tbody tr th {\n",
       "        vertical-align: top;\n",
       "    }\n",
       "\n",
       "    .dataframe thead th {\n",
       "        text-align: right;\n",
       "    }\n",
       "</style>\n",
       "<table border=\"1\" class=\"dataframe\">\n",
       "  <thead>\n",
       "    <tr style=\"text-align: right;\">\n",
       "      <th></th>\n",
       "      <th>시설명</th>\n",
       "      <th>시설물종별등급구분</th>\n",
       "      <th>교량연장</th>\n",
       "      <th>최종안전점검일자</th>\n",
       "      <th>최종안전점검결과</th>\n",
       "      <th>최종안전점검유형</th>\n",
       "      <th>교량보수보강내역</th>\n",
       "      <th>교량보수보강비용</th>\n",
       "    </tr>\n",
       "  </thead>\n",
       "  <tbody>\n",
       "    <tr>\n",
       "      <th>0</th>\n",
       "      <td>진위교</td>\n",
       "      <td>2</td>\n",
       "      <td>125.0</td>\n",
       "      <td>2021-12-23</td>\n",
       "      <td>B</td>\n",
       "      <td>정기점검</td>\n",
       "      <td>NaN</td>\n",
       "      <td>NaN</td>\n",
       "    </tr>\n",
       "    <tr>\n",
       "      <th>1</th>\n",
       "      <td>풍계교</td>\n",
       "      <td>3</td>\n",
       "      <td>55.0</td>\n",
       "      <td>2021-12-02</td>\n",
       "      <td>B</td>\n",
       "      <td>정기점검</td>\n",
       "      <td>NaN</td>\n",
       "      <td>NaN</td>\n",
       "    </tr>\n",
       "    <tr>\n",
       "      <th>2</th>\n",
       "      <td>태평교</td>\n",
       "      <td>3</td>\n",
       "      <td>43.8</td>\n",
       "      <td>2021-12-02</td>\n",
       "      <td>B</td>\n",
       "      <td>정기점검</td>\n",
       "      <td>NaN</td>\n",
       "      <td>NaN</td>\n",
       "    </tr>\n",
       "    <tr>\n",
       "      <th>3</th>\n",
       "      <td>장평교</td>\n",
       "      <td>2</td>\n",
       "      <td>105.0</td>\n",
       "      <td>2021-12-31</td>\n",
       "      <td>B</td>\n",
       "      <td>정기점검</td>\n",
       "      <td>NaN</td>\n",
       "      <td>NaN</td>\n",
       "    </tr>\n",
       "    <tr>\n",
       "      <th>4</th>\n",
       "      <td>풍계교</td>\n",
       "      <td>3</td>\n",
       "      <td>44.0</td>\n",
       "      <td>2021-12-02</td>\n",
       "      <td>B</td>\n",
       "      <td>정기점검</td>\n",
       "      <td>NaN</td>\n",
       "      <td>NaN</td>\n",
       "    </tr>\n",
       "  </tbody>\n",
       "</table>\n",
       "</div>"
      ],
      "text/plain": [
       "   시설명  시설물종별등급구분   교량연장    최종안전점검일자 최종안전점검결과 최종안전점검유형 교량보수보강내역  교량보수보강비용\n",
       "0  진위교          2  125.0  2021-12-23        B     정기점검      NaN       NaN\n",
       "1  풍계교          3   55.0  2021-12-02        B     정기점검      NaN       NaN\n",
       "2  태평교          3   43.8  2021-12-02        B     정기점검      NaN       NaN\n",
       "3  장평교          2  105.0  2021-12-31        B     정기점검      NaN       NaN\n",
       "4  풍계교          3   44.0  2021-12-02        B     정기점검      NaN       NaN"
      ]
     },
     "execution_count": 10,
     "metadata": {},
     "output_type": "execute_result"
    }
   ],
   "source": [
    "df2.head()"
   ]
  },
  {
   "cell_type": "code",
   "execution_count": 11,
   "id": "83b4dc98",
   "metadata": {},
   "outputs": [
    {
     "data": {
      "text/html": [
       "<div>\n",
       "<style scoped>\n",
       "    .dataframe tbody tr th:only-of-type {\n",
       "        vertical-align: middle;\n",
       "    }\n",
       "\n",
       "    .dataframe tbody tr th {\n",
       "        vertical-align: top;\n",
       "    }\n",
       "\n",
       "    .dataframe thead th {\n",
       "        text-align: right;\n",
       "    }\n",
       "</style>\n",
       "<table border=\"1\" class=\"dataframe\">\n",
       "  <thead>\n",
       "    <tr style=\"text-align: right;\">\n",
       "      <th></th>\n",
       "      <th>도로종류</th>\n",
       "      <th>시설명</th>\n",
       "      <th>시도</th>\n",
       "      <th>시군구</th>\n",
       "      <th>상부구조</th>\n",
       "      <th>설계하중</th>\n",
       "      <th>교통량</th>\n",
       "      <th>준공년도</th>\n",
       "      <th>시설물종별등급구분</th>\n",
       "      <th>교량연장</th>\n",
       "      <th>최종안전점검일자</th>\n",
       "      <th>최종안전점검결과</th>\n",
       "      <th>최종안전점검유형</th>\n",
       "      <th>교량보수보강내역</th>\n",
       "      <th>교량보수보강비용</th>\n",
       "    </tr>\n",
       "  </thead>\n",
       "  <tbody>\n",
       "    <tr>\n",
       "      <th>0</th>\n",
       "      <td>고속국도</td>\n",
       "      <td>88낙동강교(광주)</td>\n",
       "      <td>대구광역시</td>\n",
       "      <td>달성군</td>\n",
       "      <td>PSCI거더교</td>\n",
       "      <td>DB-24</td>\n",
       "      <td>17850.0</td>\n",
       "      <td>1984</td>\n",
       "      <td>1</td>\n",
       "      <td>812.0</td>\n",
       "      <td>2021-10-15</td>\n",
       "      <td>B</td>\n",
       "      <td>정기점검</td>\n",
       "      <td>NaN</td>\n",
       "      <td>NaN</td>\n",
       "    </tr>\n",
       "    <tr>\n",
       "      <th>1</th>\n",
       "      <td>고속국도</td>\n",
       "      <td>88낙동강교(대구)</td>\n",
       "      <td>대구광역시</td>\n",
       "      <td>달성군</td>\n",
       "      <td>강박스거더교</td>\n",
       "      <td>DB-24</td>\n",
       "      <td>17850.0</td>\n",
       "      <td>2006</td>\n",
       "      <td>1</td>\n",
       "      <td>806.0</td>\n",
       "      <td>2021-10-15</td>\n",
       "      <td>B</td>\n",
       "      <td>정기점검</td>\n",
       "      <td>NaN</td>\n",
       "      <td>NaN</td>\n",
       "    </tr>\n",
       "    <tr>\n",
       "      <th>2</th>\n",
       "      <td>고속국도</td>\n",
       "      <td>RAMP-A교</td>\n",
       "      <td>전라남도</td>\n",
       "      <td>장성군</td>\n",
       "      <td>PSCI거더교</td>\n",
       "      <td>DB-24</td>\n",
       "      <td>20998.0</td>\n",
       "      <td>2015</td>\n",
       "      <td>2</td>\n",
       "      <td>180.0</td>\n",
       "      <td>2021-12-31</td>\n",
       "      <td>B</td>\n",
       "      <td>정기점검</td>\n",
       "      <td>NaN</td>\n",
       "      <td>NaN</td>\n",
       "    </tr>\n",
       "    <tr>\n",
       "      <th>3</th>\n",
       "      <td>고속국도</td>\n",
       "      <td>RAMP-A교</td>\n",
       "      <td>전라남도</td>\n",
       "      <td>장성군</td>\n",
       "      <td>PSCI거더교</td>\n",
       "      <td>DB-24</td>\n",
       "      <td>20998.0</td>\n",
       "      <td>2015</td>\n",
       "      <td>99</td>\n",
       "      <td>110.0</td>\n",
       "      <td>2021-12-31</td>\n",
       "      <td>B</td>\n",
       "      <td>정기점검</td>\n",
       "      <td>NaN</td>\n",
       "      <td>NaN</td>\n",
       "    </tr>\n",
       "    <tr>\n",
       "      <th>4</th>\n",
       "      <td>고속국도</td>\n",
       "      <td>RAMP-A교</td>\n",
       "      <td>전라남도</td>\n",
       "      <td>장성군</td>\n",
       "      <td>PSCI거더교</td>\n",
       "      <td>DB-24</td>\n",
       "      <td>20998.0</td>\n",
       "      <td>2015</td>\n",
       "      <td>2</td>\n",
       "      <td>120.0</td>\n",
       "      <td>2021-10-29</td>\n",
       "      <td>B</td>\n",
       "      <td>정기점검</td>\n",
       "      <td>NaN</td>\n",
       "      <td>NaN</td>\n",
       "    </tr>\n",
       "  </tbody>\n",
       "</table>\n",
       "</div>"
      ],
      "text/plain": [
       "   도로종류         시설명     시도  시군구     상부구조   설계하중      교통량  준공년도  시설물종별등급구분   \n",
       "0  고속국도  88낙동강교(광주)  대구광역시  달성군  PSCI거더교  DB-24  17850.0  1984          1  \\\n",
       "1  고속국도  88낙동강교(대구)  대구광역시  달성군   강박스거더교  DB-24  17850.0  2006          1   \n",
       "2  고속국도     RAMP-A교   전라남도  장성군  PSCI거더교  DB-24  20998.0  2015          2   \n",
       "3  고속국도     RAMP-A교   전라남도  장성군  PSCI거더교  DB-24  20998.0  2015         99   \n",
       "4  고속국도     RAMP-A교   전라남도  장성군  PSCI거더교  DB-24  20998.0  2015          2   \n",
       "\n",
       "    교량연장    최종안전점검일자 최종안전점검결과 최종안전점검유형 교량보수보강내역  교량보수보강비용  \n",
       "0  812.0  2021-10-15        B     정기점검      NaN       NaN  \n",
       "1  806.0  2021-10-15        B     정기점검      NaN       NaN  \n",
       "2  180.0  2021-12-31        B     정기점검      NaN       NaN  \n",
       "3  110.0  2021-12-31        B     정기점검      NaN       NaN  \n",
       "4  120.0  2021-10-29        B     정기점검      NaN       NaN  "
      ]
     },
     "execution_count": 11,
     "metadata": {},
     "output_type": "execute_result"
    }
   ],
   "source": [
    "# 시설명 기준으로 inner join\n",
    "merge_df = pd.merge(df1, df2, on = '시설명', how = 'inner')\n",
    "merge_df.head()"
   ]
  },
  {
   "cell_type": "code",
   "execution_count": 12,
   "id": "847b3e7e",
   "metadata": {},
   "outputs": [
    {
     "name": "stdout",
     "output_type": "stream",
     "text": [
      "<class 'pandas.core.frame.DataFrame'>\n",
      "RangeIndex: 70879 entries, 0 to 70878\n",
      "Data columns (total 15 columns):\n",
      " #   Column     Non-Null Count  Dtype  \n",
      "---  ------     --------------  -----  \n",
      " 0   도로종류       70879 non-null  object \n",
      " 1   시설명        70879 non-null  object \n",
      " 2   시도         70879 non-null  object \n",
      " 3   시군구        70879 non-null  object \n",
      " 4   상부구조       70879 non-null  object \n",
      " 5   설계하중       70879 non-null  object \n",
      " 6   교통량        52205 non-null  float64\n",
      " 7   준공년도       70879 non-null  int64  \n",
      " 8   시설물종별등급구분  70879 non-null  int64  \n",
      " 9   교량연장       70879 non-null  float64\n",
      " 10  최종안전점검일자   70879 non-null  object \n",
      " 11  최종안전점검결과   70879 non-null  object \n",
      " 12  최종안전점검유형   70879 non-null  object \n",
      " 13  교량보수보강내역   500 non-null    object \n",
      " 14  교량보수보강비용   492 non-null    float64\n",
      "dtypes: float64(3), int64(2), object(10)\n",
      "memory usage: 8.1+ MB\n"
     ]
    }
   ],
   "source": [
    "merge_df.info()"
   ]
  },
  {
   "cell_type": "code",
   "execution_count": 13,
   "id": "fc925c78",
   "metadata": {},
   "outputs": [
    {
     "name": "stdout",
     "output_type": "stream",
     "text": [
      "<class 'pandas.core.frame.DataFrame'>\n",
      "Index: 25011 entries, 0 to 70878\n",
      "Data columns (total 15 columns):\n",
      " #   Column     Non-Null Count  Dtype  \n",
      "---  ------     --------------  -----  \n",
      " 0   도로종류       25011 non-null  object \n",
      " 1   시설명        25011 non-null  object \n",
      " 2   시도         25011 non-null  object \n",
      " 3   시군구        25011 non-null  object \n",
      " 4   상부구조       25011 non-null  object \n",
      " 5   설계하중       25011 non-null  object \n",
      " 6   교통량        21399 non-null  float64\n",
      " 7   준공년도       25011 non-null  int64  \n",
      " 8   시설물종별등급구분  25011 non-null  int64  \n",
      " 9   교량연장       25011 non-null  float64\n",
      " 10  최종안전점검일자   25011 non-null  object \n",
      " 11  최종안전점검결과   25011 non-null  object \n",
      " 12  최종안전점검유형   25011 non-null  object \n",
      " 13  교량보수보강내역   132 non-null    object \n",
      " 14  교량보수보강비용   131 non-null    float64\n",
      "dtypes: float64(3), int64(2), object(10)\n",
      "memory usage: 3.1+ MB\n"
     ]
    }
   ],
   "source": [
    "# 시설명 기준으로 중복 행 제거\n",
    "merge_df = merge_df.drop_duplicates(['시설명'], keep = 'first')\n",
    "merge_df.info()"
   ]
  },
  {
   "cell_type": "code",
   "execution_count": 14,
   "id": "e8685a98",
   "metadata": {},
   "outputs": [
    {
     "data": {
      "text/html": [
       "<div>\n",
       "<style scoped>\n",
       "    .dataframe tbody tr th:only-of-type {\n",
       "        vertical-align: middle;\n",
       "    }\n",
       "\n",
       "    .dataframe tbody tr th {\n",
       "        vertical-align: top;\n",
       "    }\n",
       "\n",
       "    .dataframe thead th {\n",
       "        text-align: right;\n",
       "    }\n",
       "</style>\n",
       "<table border=\"1\" class=\"dataframe\">\n",
       "  <thead>\n",
       "    <tr style=\"text-align: right;\">\n",
       "      <th></th>\n",
       "      <th>도로종류</th>\n",
       "      <th>시설명</th>\n",
       "      <th>시도</th>\n",
       "      <th>시군구</th>\n",
       "      <th>상부구조</th>\n",
       "      <th>설계하중</th>\n",
       "      <th>교통량</th>\n",
       "      <th>준공년도</th>\n",
       "      <th>시설물종별등급구분</th>\n",
       "      <th>교량연장</th>\n",
       "      <th>최종안전점검일자</th>\n",
       "      <th>최종안전점검결과</th>\n",
       "      <th>최종안전점검유형</th>\n",
       "      <th>교량보수보강내역</th>\n",
       "      <th>교량보수보강비용</th>\n",
       "    </tr>\n",
       "  </thead>\n",
       "  <tbody>\n",
       "    <tr>\n",
       "      <th>0</th>\n",
       "      <td>고속국도</td>\n",
       "      <td>가남JCT육교(강릉)</td>\n",
       "      <td>경기도</td>\n",
       "      <td>여주군</td>\n",
       "      <td>강박스거더교</td>\n",
       "      <td>DB-24</td>\n",
       "      <td>24562.0</td>\n",
       "      <td>1994</td>\n",
       "      <td>2</td>\n",
       "      <td>225.0</td>\n",
       "      <td>2021-12-22</td>\n",
       "      <td>B</td>\n",
       "      <td>정기점검</td>\n",
       "      <td>NaN</td>\n",
       "      <td>NaN</td>\n",
       "    </tr>\n",
       "    <tr>\n",
       "      <th>1</th>\n",
       "      <td>고속국도</td>\n",
       "      <td>가남JCT육교(인천)</td>\n",
       "      <td>경기도</td>\n",
       "      <td>여주군</td>\n",
       "      <td>강박스거더교</td>\n",
       "      <td>DB-24</td>\n",
       "      <td>24562.0</td>\n",
       "      <td>1994</td>\n",
       "      <td>2</td>\n",
       "      <td>225.0</td>\n",
       "      <td>2021-12-22</td>\n",
       "      <td>B</td>\n",
       "      <td>정기점검</td>\n",
       "      <td>NaN</td>\n",
       "      <td>NaN</td>\n",
       "    </tr>\n",
       "    <tr>\n",
       "      <th>2</th>\n",
       "      <td>고속국도</td>\n",
       "      <td>가남교(강릉0)</td>\n",
       "      <td>경기도</td>\n",
       "      <td>여주군</td>\n",
       "      <td>프리플렉스거더교</td>\n",
       "      <td>DB-24</td>\n",
       "      <td>61826.0</td>\n",
       "      <td>2003</td>\n",
       "      <td>3</td>\n",
       "      <td>25.0</td>\n",
       "      <td>2021-10-29</td>\n",
       "      <td>B</td>\n",
       "      <td>정기점검</td>\n",
       "      <td>NaN</td>\n",
       "      <td>NaN</td>\n",
       "    </tr>\n",
       "    <tr>\n",
       "      <th>3</th>\n",
       "      <td>고속국도</td>\n",
       "      <td>가남교(강릉1)</td>\n",
       "      <td>경기도</td>\n",
       "      <td>여주군</td>\n",
       "      <td>PSCI거더교</td>\n",
       "      <td>DB-24</td>\n",
       "      <td>61826.0</td>\n",
       "      <td>2010</td>\n",
       "      <td>3</td>\n",
       "      <td>25.0</td>\n",
       "      <td>2021-10-29</td>\n",
       "      <td>B</td>\n",
       "      <td>정기점검</td>\n",
       "      <td>NaN</td>\n",
       "      <td>NaN</td>\n",
       "    </tr>\n",
       "    <tr>\n",
       "      <th>4</th>\n",
       "      <td>고속국도</td>\n",
       "      <td>가남교(인천)</td>\n",
       "      <td>경기도</td>\n",
       "      <td>여주군</td>\n",
       "      <td>프리플렉스거더교</td>\n",
       "      <td>DB-24</td>\n",
       "      <td>61826.0</td>\n",
       "      <td>2003</td>\n",
       "      <td>3</td>\n",
       "      <td>25.0</td>\n",
       "      <td>2021-10-29</td>\n",
       "      <td>B</td>\n",
       "      <td>정기점검</td>\n",
       "      <td>NaN</td>\n",
       "      <td>NaN</td>\n",
       "    </tr>\n",
       "  </tbody>\n",
       "</table>\n",
       "</div>"
      ],
      "text/plain": [
       "   도로종류          시설명   시도  시군구      상부구조   설계하중      교통량  준공년도  시설물종별등급구분   \n",
       "0  고속국도  가남JCT육교(강릉)  경기도  여주군    강박스거더교  DB-24  24562.0  1994          2  \\\n",
       "1  고속국도  가남JCT육교(인천)  경기도  여주군    강박스거더교  DB-24  24562.0  1994          2   \n",
       "2  고속국도     가남교(강릉0)  경기도  여주군  프리플렉스거더교  DB-24  61826.0  2003          3   \n",
       "3  고속국도     가남교(강릉1)  경기도  여주군   PSCI거더교  DB-24  61826.0  2010          3   \n",
       "4  고속국도      가남교(인천)  경기도  여주군  프리플렉스거더교  DB-24  61826.0  2003          3   \n",
       "\n",
       "    교량연장    최종안전점검일자 최종안전점검결과 최종안전점검유형 교량보수보강내역  교량보수보강비용  \n",
       "0  225.0  2021-12-22        B     정기점검      NaN       NaN  \n",
       "1  225.0  2021-12-22        B     정기점검      NaN       NaN  \n",
       "2   25.0  2021-10-29        B     정기점검      NaN       NaN  \n",
       "3   25.0  2021-10-29        B     정기점검      NaN       NaN  \n",
       "4   25.0  2021-10-29        B     정기점검      NaN       NaN  "
      ]
     },
     "execution_count": 14,
     "metadata": {},
     "output_type": "execute_result"
    }
   ],
   "source": [
    "# 서울과 경기도의 데이터만 별도로 new_df에 저장\n",
    "new_df = merge_df[(merge_df['시도'] == '서울특별시') | (merge_df['시도'] == '경기도')]\n",
    "new_df.reset_index(drop = True, inplace = True)\n",
    "new_df.head()"
   ]
  },
  {
   "cell_type": "code",
   "execution_count": 15,
   "id": "10578b52",
   "metadata": {},
   "outputs": [
    {
     "name": "stdout",
     "output_type": "stream",
     "text": [
      "<class 'pandas.core.frame.DataFrame'>\n",
      "RangeIndex: 5093 entries, 0 to 5092\n",
      "Data columns (total 15 columns):\n",
      " #   Column     Non-Null Count  Dtype  \n",
      "---  ------     --------------  -----  \n",
      " 0   도로종류       5093 non-null   object \n",
      " 1   시설명        5093 non-null   object \n",
      " 2   시도         5093 non-null   object \n",
      " 3   시군구        5093 non-null   object \n",
      " 4   상부구조       5093 non-null   object \n",
      " 5   설계하중       5093 non-null   object \n",
      " 6   교통량        4110 non-null   float64\n",
      " 7   준공년도       5093 non-null   int64  \n",
      " 8   시설물종별등급구분  5093 non-null   int64  \n",
      " 9   교량연장       5093 non-null   float64\n",
      " 10  최종안전점검일자   5093 non-null   object \n",
      " 11  최종안전점검결과   5093 non-null   object \n",
      " 12  최종안전점검유형   5093 non-null   object \n",
      " 13  교량보수보강내역   41 non-null     object \n",
      " 14  교량보수보강비용   45 non-null     float64\n",
      "dtypes: float64(3), int64(2), object(10)\n",
      "memory usage: 597.0+ KB\n"
     ]
    }
   ],
   "source": [
    "new_df.info()"
   ]
  },
  {
   "cell_type": "code",
   "execution_count": 16,
   "id": "a946ced7",
   "metadata": {},
   "outputs": [
    {
     "name": "stderr",
     "output_type": "stream",
     "text": [
      "C:\\Users\\chunc\\AppData\\Local\\Temp\\ipykernel_66696\\3155620190.py:2: SettingWithCopyWarning: \n",
      "A value is trying to be set on a copy of a slice from a DataFrame\n",
      "\n",
      "See the caveats in the documentation: https://pandas.pydata.org/pandas-docs/stable/user_guide/indexing.html#returning-a-view-versus-a-copy\n",
      "  new_df['교통량'].fillna(new_df['교통량'].mean(), inplace = True)\n",
      "C:\\Users\\chunc\\AppData\\Local\\Temp\\ipykernel_66696\\3155620190.py:3: SettingWithCopyWarning: \n",
      "A value is trying to be set on a copy of a slice from a DataFrame\n",
      "\n",
      "See the caveats in the documentation: https://pandas.pydata.org/pandas-docs/stable/user_guide/indexing.html#returning-a-view-versus-a-copy\n",
      "  new_df['교량보수보강내역'].fillna('N', inplace = True)\n",
      "C:\\Users\\chunc\\AppData\\Local\\Temp\\ipykernel_66696\\3155620190.py:4: SettingWithCopyWarning: \n",
      "A value is trying to be set on a copy of a slice from a DataFrame\n",
      "\n",
      "See the caveats in the documentation: https://pandas.pydata.org/pandas-docs/stable/user_guide/indexing.html#returning-a-view-versus-a-copy\n",
      "  new_df['교량보수보강비용'].fillna(0, inplace = True)\n"
     ]
    }
   ],
   "source": [
    "# 결측값 대체\n",
    "new_df['교통량'].fillna(new_df['교통량'].mean(), inplace = True)\n",
    "new_df['교량보수보강내역'].fillna('N', inplace = True)\n",
    "new_df['교량보수보강비용'].fillna(0, inplace = True)"
   ]
  },
  {
   "cell_type": "code",
   "execution_count": 17,
   "id": "389b3a11",
   "metadata": {},
   "outputs": [
    {
     "name": "stdout",
     "output_type": "stream",
     "text": [
      "<class 'pandas.core.frame.DataFrame'>\n",
      "RangeIndex: 5093 entries, 0 to 5092\n",
      "Data columns (total 15 columns):\n",
      " #   Column     Non-Null Count  Dtype  \n",
      "---  ------     --------------  -----  \n",
      " 0   도로종류       5093 non-null   object \n",
      " 1   시설명        5093 non-null   object \n",
      " 2   시도         5093 non-null   object \n",
      " 3   시군구        5093 non-null   object \n",
      " 4   상부구조       5093 non-null   object \n",
      " 5   설계하중       5093 non-null   object \n",
      " 6   교통량        5093 non-null   float64\n",
      " 7   준공년도       5093 non-null   int64  \n",
      " 8   시설물종별등급구분  5093 non-null   int64  \n",
      " 9   교량연장       5093 non-null   float64\n",
      " 10  최종안전점검일자   5093 non-null   object \n",
      " 11  최종안전점검결과   5093 non-null   object \n",
      " 12  최종안전점검유형   5093 non-null   object \n",
      " 13  교량보수보강내역   5093 non-null   object \n",
      " 14  교량보수보강비용   5093 non-null   float64\n",
      "dtypes: float64(3), int64(2), object(10)\n",
      "memory usage: 597.0+ KB\n"
     ]
    }
   ],
   "source": [
    "new_df.info()"
   ]
  },
  {
   "cell_type": "code",
   "execution_count": 18,
   "id": "d7cab496",
   "metadata": {},
   "outputs": [
    {
     "name": "stderr",
     "output_type": "stream",
     "text": [
      "C:\\Users\\chunc\\AppData\\Local\\Temp\\ipykernel_66696\\2821197051.py:2: SettingWithCopyWarning: \n",
      "A value is trying to be set on a copy of a slice from a DataFrame.\n",
      "Try using .loc[row_indexer,col_indexer] = value instead\n",
      "\n",
      "See the caveats in the documentation: https://pandas.pydata.org/pandas-docs/stable/user_guide/indexing.html#returning-a-view-versus-a-copy\n",
      "  new_df['교통량'] = new_df['교통량'].astype(int)\n"
     ]
    }
   ],
   "source": [
    "# 교통량 데이터타입 변경\n",
    "new_df['교통량'] = new_df['교통량'].astype(int)"
   ]
  },
  {
   "cell_type": "code",
   "execution_count": 19,
   "id": "f0d9e60b",
   "metadata": {},
   "outputs": [
    {
     "name": "stdout",
     "output_type": "stream",
     "text": [
      "<class 'pandas.core.frame.DataFrame'>\n",
      "RangeIndex: 5093 entries, 0 to 5092\n",
      "Data columns (total 15 columns):\n",
      " #   Column     Non-Null Count  Dtype  \n",
      "---  ------     --------------  -----  \n",
      " 0   도로종류       5093 non-null   object \n",
      " 1   시설명        5093 non-null   object \n",
      " 2   시도         5093 non-null   object \n",
      " 3   시군구        5093 non-null   object \n",
      " 4   상부구조       5093 non-null   object \n",
      " 5   설계하중       5093 non-null   object \n",
      " 6   교통량        5093 non-null   int32  \n",
      " 7   준공년도       5093 non-null   int64  \n",
      " 8   시설물종별등급구분  5093 non-null   int64  \n",
      " 9   교량연장       5093 non-null   float64\n",
      " 10  최종안전점검일자   5093 non-null   object \n",
      " 11  최종안전점검결과   5093 non-null   object \n",
      " 12  최종안전점검유형   5093 non-null   object \n",
      " 13  교량보수보강내역   5093 non-null   object \n",
      " 14  교량보수보강비용   5093 non-null   float64\n",
      "dtypes: float64(2), int32(1), int64(2), object(10)\n",
      "memory usage: 577.1+ KB\n"
     ]
    }
   ],
   "source": [
    "new_df.info()"
   ]
  },
  {
   "cell_type": "code",
   "execution_count": 20,
   "id": "4b16145a",
   "metadata": {},
   "outputs": [],
   "source": [
    "# 준공년도에 따른 교통량 합계\n",
    "def get_category(year):\n",
    "    if year > 2009:\n",
    "        return '2010년 이후'\n",
    "    elif year > 1999:\n",
    "        return '2000년 이후'\n",
    "    elif year > 1989:\n",
    "        return '1990년 이후'\n",
    "    else:\n",
    "        return '1990년 이전'"
   ]
  },
  {
   "cell_type": "code",
   "execution_count": 21,
   "id": "bd4f8d21",
   "metadata": {},
   "outputs": [
    {
     "name": "stderr",
     "output_type": "stream",
     "text": [
      "C:\\Users\\chunc\\AppData\\Local\\Temp\\ipykernel_66696\\2773997388.py:1: SettingWithCopyWarning: \n",
      "A value is trying to be set on a copy of a slice from a DataFrame.\n",
      "Try using .loc[row_indexer,col_indexer] = value instead\n",
      "\n",
      "See the caveats in the documentation: https://pandas.pydata.org/pandas-docs/stable/user_guide/indexing.html#returning-a-view-versus-a-copy\n",
      "  new_df['New_year'] = new_df['준공년도'].apply(lambda x: get_category(x))\n"
     ]
    }
   ],
   "source": [
    "new_df['New_year'] = new_df['준공년도'].apply(lambda x: get_category(x))"
   ]
  },
  {
   "cell_type": "code",
   "execution_count": 22,
   "id": "b2cc136e",
   "metadata": {},
   "outputs": [
    {
     "data": {
      "text/html": [
       "<div>\n",
       "<style scoped>\n",
       "    .dataframe tbody tr th:only-of-type {\n",
       "        vertical-align: middle;\n",
       "    }\n",
       "\n",
       "    .dataframe tbody tr th {\n",
       "        vertical-align: top;\n",
       "    }\n",
       "\n",
       "    .dataframe thead th {\n",
       "        text-align: right;\n",
       "    }\n",
       "</style>\n",
       "<table border=\"1\" class=\"dataframe\">\n",
       "  <thead>\n",
       "    <tr style=\"text-align: right;\">\n",
       "      <th></th>\n",
       "      <th>도로종류</th>\n",
       "      <th>시설명</th>\n",
       "      <th>시도</th>\n",
       "      <th>시군구</th>\n",
       "      <th>상부구조</th>\n",
       "      <th>설계하중</th>\n",
       "      <th>교통량</th>\n",
       "      <th>준공년도</th>\n",
       "      <th>시설물종별등급구분</th>\n",
       "      <th>교량연장</th>\n",
       "      <th>최종안전점검일자</th>\n",
       "      <th>최종안전점검결과</th>\n",
       "      <th>최종안전점검유형</th>\n",
       "      <th>교량보수보강내역</th>\n",
       "      <th>교량보수보강비용</th>\n",
       "      <th>New_year</th>\n",
       "    </tr>\n",
       "  </thead>\n",
       "  <tbody>\n",
       "    <tr>\n",
       "      <th>0</th>\n",
       "      <td>고속국도</td>\n",
       "      <td>가남JCT육교(강릉)</td>\n",
       "      <td>경기도</td>\n",
       "      <td>여주군</td>\n",
       "      <td>강박스거더교</td>\n",
       "      <td>DB-24</td>\n",
       "      <td>24562</td>\n",
       "      <td>1994</td>\n",
       "      <td>2</td>\n",
       "      <td>225.0</td>\n",
       "      <td>2021-12-22</td>\n",
       "      <td>B</td>\n",
       "      <td>정기점검</td>\n",
       "      <td>N</td>\n",
       "      <td>0.0</td>\n",
       "      <td>1990년 이후</td>\n",
       "    </tr>\n",
       "    <tr>\n",
       "      <th>1</th>\n",
       "      <td>고속국도</td>\n",
       "      <td>가남JCT육교(인천)</td>\n",
       "      <td>경기도</td>\n",
       "      <td>여주군</td>\n",
       "      <td>강박스거더교</td>\n",
       "      <td>DB-24</td>\n",
       "      <td>24562</td>\n",
       "      <td>1994</td>\n",
       "      <td>2</td>\n",
       "      <td>225.0</td>\n",
       "      <td>2021-12-22</td>\n",
       "      <td>B</td>\n",
       "      <td>정기점검</td>\n",
       "      <td>N</td>\n",
       "      <td>0.0</td>\n",
       "      <td>1990년 이후</td>\n",
       "    </tr>\n",
       "    <tr>\n",
       "      <th>2</th>\n",
       "      <td>고속국도</td>\n",
       "      <td>가남교(강릉0)</td>\n",
       "      <td>경기도</td>\n",
       "      <td>여주군</td>\n",
       "      <td>프리플렉스거더교</td>\n",
       "      <td>DB-24</td>\n",
       "      <td>61826</td>\n",
       "      <td>2003</td>\n",
       "      <td>3</td>\n",
       "      <td>25.0</td>\n",
       "      <td>2021-10-29</td>\n",
       "      <td>B</td>\n",
       "      <td>정기점검</td>\n",
       "      <td>N</td>\n",
       "      <td>0.0</td>\n",
       "      <td>2000년 이후</td>\n",
       "    </tr>\n",
       "    <tr>\n",
       "      <th>3</th>\n",
       "      <td>고속국도</td>\n",
       "      <td>가남교(강릉1)</td>\n",
       "      <td>경기도</td>\n",
       "      <td>여주군</td>\n",
       "      <td>PSCI거더교</td>\n",
       "      <td>DB-24</td>\n",
       "      <td>61826</td>\n",
       "      <td>2010</td>\n",
       "      <td>3</td>\n",
       "      <td>25.0</td>\n",
       "      <td>2021-10-29</td>\n",
       "      <td>B</td>\n",
       "      <td>정기점검</td>\n",
       "      <td>N</td>\n",
       "      <td>0.0</td>\n",
       "      <td>2010년 이후</td>\n",
       "    </tr>\n",
       "    <tr>\n",
       "      <th>4</th>\n",
       "      <td>고속국도</td>\n",
       "      <td>가남교(인천)</td>\n",
       "      <td>경기도</td>\n",
       "      <td>여주군</td>\n",
       "      <td>프리플렉스거더교</td>\n",
       "      <td>DB-24</td>\n",
       "      <td>61826</td>\n",
       "      <td>2003</td>\n",
       "      <td>3</td>\n",
       "      <td>25.0</td>\n",
       "      <td>2021-10-29</td>\n",
       "      <td>B</td>\n",
       "      <td>정기점검</td>\n",
       "      <td>N</td>\n",
       "      <td>0.0</td>\n",
       "      <td>2000년 이후</td>\n",
       "    </tr>\n",
       "  </tbody>\n",
       "</table>\n",
       "</div>"
      ],
      "text/plain": [
       "   도로종류          시설명   시도  시군구      상부구조   설계하중    교통량  준공년도  시설물종별등급구분   \n",
       "0  고속국도  가남JCT육교(강릉)  경기도  여주군    강박스거더교  DB-24  24562  1994          2  \\\n",
       "1  고속국도  가남JCT육교(인천)  경기도  여주군    강박스거더교  DB-24  24562  1994          2   \n",
       "2  고속국도     가남교(강릉0)  경기도  여주군  프리플렉스거더교  DB-24  61826  2003          3   \n",
       "3  고속국도     가남교(강릉1)  경기도  여주군   PSCI거더교  DB-24  61826  2010          3   \n",
       "4  고속국도      가남교(인천)  경기도  여주군  프리플렉스거더교  DB-24  61826  2003          3   \n",
       "\n",
       "    교량연장    최종안전점검일자 최종안전점검결과 최종안전점검유형 교량보수보강내역  교량보수보강비용  New_year  \n",
       "0  225.0  2021-12-22        B     정기점검        N       0.0  1990년 이후  \n",
       "1  225.0  2021-12-22        B     정기점검        N       0.0  1990년 이후  \n",
       "2   25.0  2021-10-29        B     정기점검        N       0.0  2000년 이후  \n",
       "3   25.0  2021-10-29        B     정기점검        N       0.0  2010년 이후  \n",
       "4   25.0  2021-10-29        B     정기점검        N       0.0  2000년 이후  "
      ]
     },
     "execution_count": 22,
     "metadata": {},
     "output_type": "execute_result"
    }
   ],
   "source": [
    "new_df.head()"
   ]
  },
  {
   "cell_type": "code",
   "execution_count": 23,
   "id": "ef77752a",
   "metadata": {},
   "outputs": [
    {
     "data": {
      "text/html": [
       "<div>\n",
       "<style scoped>\n",
       "    .dataframe tbody tr th:only-of-type {\n",
       "        vertical-align: middle;\n",
       "    }\n",
       "\n",
       "    .dataframe tbody tr th {\n",
       "        vertical-align: top;\n",
       "    }\n",
       "\n",
       "    .dataframe thead th {\n",
       "        text-align: right;\n",
       "    }\n",
       "</style>\n",
       "<table border=\"1\" class=\"dataframe\">\n",
       "  <thead>\n",
       "    <tr style=\"text-align: right;\">\n",
       "      <th></th>\n",
       "      <th>New_year</th>\n",
       "      <th>교통량</th>\n",
       "    </tr>\n",
       "  </thead>\n",
       "  <tbody>\n",
       "    <tr>\n",
       "      <th>0</th>\n",
       "      <td>1990년 이전</td>\n",
       "      <td>15708383</td>\n",
       "    </tr>\n",
       "    <tr>\n",
       "      <th>1</th>\n",
       "      <td>1990년 이후</td>\n",
       "      <td>68410842</td>\n",
       "    </tr>\n",
       "    <tr>\n",
       "      <th>2</th>\n",
       "      <td>2000년 이후</td>\n",
       "      <td>65357676</td>\n",
       "    </tr>\n",
       "    <tr>\n",
       "      <th>3</th>\n",
       "      <td>2010년 이후</td>\n",
       "      <td>49588282</td>\n",
       "    </tr>\n",
       "  </tbody>\n",
       "</table>\n",
       "</div>"
      ],
      "text/plain": [
       "   New_year       교통량\n",
       "0  1990년 이전  15708383\n",
       "1  1990년 이후  68410842\n",
       "2  2000년 이후  65357676\n",
       "3  2010년 이후  49588282"
      ]
     },
     "execution_count": 23,
     "metadata": {},
     "output_type": "execute_result"
    }
   ],
   "source": [
    "# 연도범주별 교통량합계 확인\n",
    "sum_Newyear = new_df[['New_year', '교통량']].groupby(['New_year'], as_index = False).sum()\n",
    "sum_Newyear"
   ]
  },
  {
   "cell_type": "code",
   "execution_count": 24,
   "id": "aa318d39",
   "metadata": {},
   "outputs": [
    {
     "data": {
      "text/html": [
       "<div>\n",
       "<style scoped>\n",
       "    .dataframe tbody tr th:only-of-type {\n",
       "        vertical-align: middle;\n",
       "    }\n",
       "\n",
       "    .dataframe tbody tr th {\n",
       "        vertical-align: top;\n",
       "    }\n",
       "\n",
       "    .dataframe thead th {\n",
       "        text-align: right;\n",
       "    }\n",
       "</style>\n",
       "<table border=\"1\" class=\"dataframe\">\n",
       "  <thead>\n",
       "    <tr style=\"text-align: right;\">\n",
       "      <th></th>\n",
       "      <th>New_year</th>\n",
       "      <th>교통량</th>\n",
       "    </tr>\n",
       "  </thead>\n",
       "  <tbody>\n",
       "    <tr>\n",
       "      <th>0</th>\n",
       "      <td>1990년 이전</td>\n",
       "      <td>36361.997685</td>\n",
       "    </tr>\n",
       "    <tr>\n",
       "      <th>1</th>\n",
       "      <td>1990년 이후</td>\n",
       "      <td>47375.929363</td>\n",
       "    </tr>\n",
       "    <tr>\n",
       "      <th>2</th>\n",
       "      <td>2000년 이후</td>\n",
       "      <td>40645.320896</td>\n",
       "    </tr>\n",
       "    <tr>\n",
       "      <th>3</th>\n",
       "      <td>2010년 이후</td>\n",
       "      <td>30819.317589</td>\n",
       "    </tr>\n",
       "  </tbody>\n",
       "</table>\n",
       "</div>"
      ],
      "text/plain": [
       "   New_year           교통량\n",
       "0  1990년 이전  36361.997685\n",
       "1  1990년 이후  47375.929363\n",
       "2  2000년 이후  40645.320896\n",
       "3  2010년 이후  30819.317589"
      ]
     },
     "execution_count": 24,
     "metadata": {},
     "output_type": "execute_result"
    }
   ],
   "source": [
    "# 연도범주별 교통량평균 확인\n",
    "mean_Newyear = new_df[['New_year', '교통량']].groupby(['New_year'], as_index = False).mean()\n",
    "mean_Newyear"
   ]
  },
  {
   "cell_type": "code",
   "execution_count": 25,
   "id": "57df91ed",
   "metadata": {},
   "outputs": [
    {
     "name": "stderr",
     "output_type": "stream",
     "text": [
      "C:\\Users\\chunc\\AppData\\Local\\Temp\\ipykernel_66696\\2501914849.py:5: UserWarning: FixedFormatter should only be used together with FixedLocator\n",
      "  plt.gca().set_yticklabels(['{:,.0f}'.format(x) for x in current_values])\n"
     ]
    },
    {
     "data": {
      "image/png": "[encoded data removed]",
      "text/plain": [
       "<Figure size 1600x800 with 1 Axes>"
      ]
     },
     "metadata": {},
     "output_type": "display_data"
    }
   ],
   "source": [
    "# 준공년도를 새로 범주화 하여 연도범주별 교통량합계 그래프 확인\n",
    "plt.figure(figsize = (16, 8))\n",
    "sns.barplot(x = 'New_year', y = '교통량', palette = 'pastel', data = sum_Newyear)\n",
    "current_values = plt.gca().get_yticks()\n",
    "plt.gca().set_yticklabels(['{:,.0f}'.format(x) for x in current_values])\n",
    "plt.title('연도범주별 교통량 합계')\n",
    "plt.show()"
   ]
  },
  {
   "cell_type": "code",
   "execution_count": 26,
   "id": "4fa06e42",
   "metadata": {},
   "outputs": [
    {
     "name": "stderr",
     "output_type": "stream",
     "text": [
      "C:\\Users\\chunc\\AppData\\Local\\Temp\\ipykernel_66696\\3805288638.py:5: UserWarning: FixedFormatter should only be used together with FixedLocator\n",
      "  plt.gca().set_yticklabels(['{:,.0f}'.format(x) for x in current_values])\n"
     ]
    },
    {
     "data": {
      "image/png": "[encoded data removed]",
      "text/plain": [
       "<Figure size 1600x800 with 1 Axes>"
      ]
     },
     "metadata": {},
     "output_type": "display_data"
    }
   ],
   "source": [
    "# 준공년도를 새로 범주화 하여 연도범주별 교통량평균 그래프 확인\n",
    "plt.figure(figsize = (16, 8))\n",
    "sns.barplot(x = 'New_year', y = '교통량', palette = 'pastel', data = mean_Newyear)\n",
    "current_values = plt.gca().get_yticks()\n",
    "plt.gca().set_yticklabels(['{:,.0f}'.format(x) for x in current_values])\n",
    "plt.title('연도범주별 교통량 평균')\n",
    "plt.show()"
   ]
  },
  {
   "cell_type": "code",
   "execution_count": 27,
   "id": "f997e407",
   "metadata": {},
   "outputs": [],
   "source": [
    "# 준공 후 경과년수에 따른 교통량 합계\n",
    "def category_year(myYear):\n",
    "    if datetime.today().year - myYear < 5:\n",
    "        return '5년 미만'\n",
    "    elif datetime.today().year - myYear < 10:\n",
    "        return '5년 이상 10년 미만'\n",
    "    elif datetime.today().year - myYear < 15:\n",
    "        return '10년 이상 15년 미만'\n",
    "    elif datetime.today().year - myYear < 20:\n",
    "        return '15년 이상 20년 미만'\n",
    "    elif datetime.today().year - myYear < 25:\n",
    "        return '20년 이상 25년 미만'\n",
    "    else:\n",
    "        return '25년 이상'"
   ]
  },
  {
   "cell_type": "code",
   "execution_count": 28,
   "id": "886e83c7",
   "metadata": {},
   "outputs": [
    {
     "name": "stderr",
     "output_type": "stream",
     "text": [
      "C:\\Users\\chunc\\AppData\\Local\\Temp\\ipykernel_66696\\2034490400.py:1: SettingWithCopyWarning: \n",
      "A value is trying to be set on a copy of a slice from a DataFrame.\n",
      "Try using .loc[row_indexer,col_indexer] = value instead\n",
      "\n",
      "See the caveats in the documentation: https://pandas.pydata.org/pandas-docs/stable/user_guide/indexing.html#returning-a-view-versus-a-copy\n",
      "  new_df['Cum_year'] = new_df['준공년도'].apply(lambda x: category_year(x))\n"
     ]
    }
   ],
   "source": [
    "new_df['Cum_year'] = new_df['준공년도'].apply(lambda x: category_year(x))"
   ]
  },
  {
   "cell_type": "code",
   "execution_count": 29,
   "id": "5e2aaff7",
   "metadata": {},
   "outputs": [
    {
     "data": {
      "text/html": [
       "<div>\n",
       "<style scoped>\n",
       "    .dataframe tbody tr th:only-of-type {\n",
       "        vertical-align: middle;\n",
       "    }\n",
       "\n",
       "    .dataframe tbody tr th {\n",
       "        vertical-align: top;\n",
       "    }\n",
       "\n",
       "    .dataframe thead th {\n",
       "        text-align: right;\n",
       "    }\n",
       "</style>\n",
       "<table border=\"1\" class=\"dataframe\">\n",
       "  <thead>\n",
       "    <tr style=\"text-align: right;\">\n",
       "      <th></th>\n",
       "      <th>Cum_year</th>\n",
       "      <th>교통량</th>\n",
       "    </tr>\n",
       "  </thead>\n",
       "  <tbody>\n",
       "    <tr>\n",
       "      <th>0</th>\n",
       "      <td>25년 이상</td>\n",
       "      <td>78590843</td>\n",
       "    </tr>\n",
       "    <tr>\n",
       "      <th>1</th>\n",
       "      <td>20년 이상 25년 미만</td>\n",
       "      <td>41360551</td>\n",
       "    </tr>\n",
       "    <tr>\n",
       "      <th>2</th>\n",
       "      <td>10년 이상 15년 미만</td>\n",
       "      <td>28538689</td>\n",
       "    </tr>\n",
       "    <tr>\n",
       "      <th>3</th>\n",
       "      <td>5년 이상 10년 미만</td>\n",
       "      <td>24901610</td>\n",
       "    </tr>\n",
       "    <tr>\n",
       "      <th>4</th>\n",
       "      <td>15년 이상 20년 미만</td>\n",
       "      <td>22363858</td>\n",
       "    </tr>\n",
       "    <tr>\n",
       "      <th>5</th>\n",
       "      <td>5년 미만</td>\n",
       "      <td>3309632</td>\n",
       "    </tr>\n",
       "  </tbody>\n",
       "</table>\n",
       "</div>"
      ],
      "text/plain": [
       "        Cum_year       교통량\n",
       "0         25년 이상  78590843\n",
       "1  20년 이상 25년 미만  41360551\n",
       "2  10년 이상 15년 미만  28538689\n",
       "3   5년 이상 10년 미만  24901610\n",
       "4  15년 이상 20년 미만  22363858\n",
       "5          5년 미만   3309632"
      ]
     },
     "execution_count": 29,
     "metadata": {},
     "output_type": "execute_result"
    }
   ],
   "source": [
    "# 준공 후 경과년수별 교통량합계 확인\n",
    "sum_Cumyear = new_df[['Cum_year', '교통량']].groupby(['Cum_year'], as_index = False).sum().sort_values(by = '교통량', ascending = False).reset_index(drop = True)\n",
    "sum_Cumyear"
   ]
  },
  {
   "cell_type": "code",
   "execution_count": 30,
   "id": "6ccc8a71",
   "metadata": {},
   "outputs": [
    {
     "data": {
      "text/html": [
       "<div>\n",
       "<style scoped>\n",
       "    .dataframe tbody tr th:only-of-type {\n",
       "        vertical-align: middle;\n",
       "    }\n",
       "\n",
       "    .dataframe tbody tr th {\n",
       "        vertical-align: top;\n",
       "    }\n",
       "\n",
       "    .dataframe thead th {\n",
       "        text-align: right;\n",
       "    }\n",
       "</style>\n",
       "<table border=\"1\" class=\"dataframe\">\n",
       "  <thead>\n",
       "    <tr style=\"text-align: right;\">\n",
       "      <th></th>\n",
       "      <th>Cum_year</th>\n",
       "      <th>교통량</th>\n",
       "    </tr>\n",
       "  </thead>\n",
       "  <tbody>\n",
       "    <tr>\n",
       "      <th>0</th>\n",
       "      <td>20년 이상 25년 미만</td>\n",
       "      <td>45202.787978</td>\n",
       "    </tr>\n",
       "    <tr>\n",
       "      <th>1</th>\n",
       "      <td>25년 이상</td>\n",
       "      <td>45141.207926</td>\n",
       "    </tr>\n",
       "    <tr>\n",
       "      <th>2</th>\n",
       "      <td>10년 이상 15년 미만</td>\n",
       "      <td>37305.475817</td>\n",
       "    </tr>\n",
       "    <tr>\n",
       "      <th>3</th>\n",
       "      <td>15년 이상 20년 미만</td>\n",
       "      <td>34300.395706</td>\n",
       "    </tr>\n",
       "    <tr>\n",
       "      <th>4</th>\n",
       "      <td>5년 미만</td>\n",
       "      <td>29816.504505</td>\n",
       "    </tr>\n",
       "    <tr>\n",
       "      <th>5</th>\n",
       "      <td>5년 이상 10년 미만</td>\n",
       "      <td>27394.510451</td>\n",
       "    </tr>\n",
       "  </tbody>\n",
       "</table>\n",
       "</div>"
      ],
      "text/plain": [
       "        Cum_year           교통량\n",
       "0  20년 이상 25년 미만  45202.787978\n",
       "1         25년 이상  45141.207926\n",
       "2  10년 이상 15년 미만  37305.475817\n",
       "3  15년 이상 20년 미만  34300.395706\n",
       "4          5년 미만  29816.504505\n",
       "5   5년 이상 10년 미만  27394.510451"
      ]
     },
     "execution_count": 30,
     "metadata": {},
     "output_type": "execute_result"
    }
   ],
   "source": [
    "# 준공 후 경과년수별 교통량평균 확인\n",
    "mean_Cumyear = new_df[['Cum_year', '교통량']].groupby(['Cum_year'], as_index = False).mean().sort_values(by = '교통량', ascending = False).reset_index(drop = True)\n",
    "mean_Cumyear"
   ]
  },
  {
   "cell_type": "code",
   "execution_count": 31,
   "id": "cc1d2f40",
   "metadata": {},
   "outputs": [
    {
     "name": "stderr",
     "output_type": "stream",
     "text": [
      "C:\\Users\\chunc\\AppData\\Local\\Temp\\ipykernel_66696\\1168911519.py:5: UserWarning: FixedFormatter should only be used together with FixedLocator\n",
      "  plt.gca().set_yticklabels(['{:,.0f}'.format(x) for x in current_values])\n"
     ]
    },
    {
     "data": {
      "image/png": "[encoded data removed]",
      "text/plain": [
       "<Figure size 1600x800 with 1 Axes>"
      ]
     },
     "metadata": {},
     "output_type": "display_data"
    }
   ],
   "source": [
    "# 준공 후 경과년수별 교통량합계 그래프 확인\n",
    "plt.figure(figsize = (16, 8))\n",
    "sns.barplot(x = 'Cum_year', y = '교통량', palette = 'pastel', data = sum_Cumyear)\n",
    "current_values = plt.gca().get_yticks()\n",
    "plt.gca().set_yticklabels(['{:,.0f}'.format(x) for x in current_values])\n",
    "plt.title('준공 후 경과년수별 교통량 합계')\n",
    "plt.show()"
   ]
  },
  {
   "cell_type": "code",
   "execution_count": 32,
   "id": "ca491431",
   "metadata": {},
   "outputs": [
    {
     "name": "stderr",
     "output_type": "stream",
     "text": [
      "C:\\Users\\chunc\\AppData\\Local\\Temp\\ipykernel_66696\\677480552.py:5: UserWarning: FixedFormatter should only be used together with FixedLocator\n",
      "  plt.gca().set_yticklabels(['{:,.0f}'.format(x) for x in current_values])\n"
     ]
    },
    {
     "data": {
      "image/png": "[encoded data removed]",
      "text/plain": [
       "<Figure size 1600x800 with 1 Axes>"
      ]
     },
     "metadata": {},
     "output_type": "display_data"
    }
   ],
   "source": [
    "# 준공 후 경과년수별 교통량평균 그래프 확인\n",
    "plt.figure(figsize = (16, 8))\n",
    "sns.barplot(x = 'Cum_year', y = '교통량', palette = 'pastel', data = mean_Cumyear)\n",
    "current_values = plt.gca().get_yticks()\n",
    "plt.gca().set_yticklabels(['{:,.0f}'.format(x) for x in current_values])\n",
    "plt.title('준공 후 경과년수별 교통량 평균')\n",
    "plt.show()"
   ]
  },
  {
   "cell_type": "code",
   "execution_count": 33,
   "id": "75aca3f4",
   "metadata": {},
   "outputs": [],
   "source": [
    "# 상부구조에 따른 교통량\n",
    "def category_struc(struc):\n",
    "    if struc.endswith('거더교'):\n",
    "        return '거더교'\n",
    "    elif struc.endswith('슬래브교'):\n",
    "        return '슬래브교'\n",
    "    elif struc.endswith('라멘교'):\n",
    "        return '라멘교'\n",
    "    elif struc.endswith('사장교'):\n",
    "        return '사장교'\n",
    "    elif struc.endswith('아치교'):\n",
    "        return '아치교'\n",
    "    elif struc.endswith('트러스트교'):\n",
    "        return '트러스트교'\n",
    "    else:\n",
    "        return '기타'"
   ]
  },
  {
   "cell_type": "code",
   "execution_count": 34,
   "id": "6cfca267",
   "metadata": {},
   "outputs": [
    {
     "name": "stderr",
     "output_type": "stream",
     "text": [
      "C:\\Users\\chunc\\AppData\\Local\\Temp\\ipykernel_66696\\2149885707.py:1: SettingWithCopyWarning: \n",
      "A value is trying to be set on a copy of a slice from a DataFrame.\n",
      "Try using .loc[row_indexer,col_indexer] = value instead\n",
      "\n",
      "See the caveats in the documentation: https://pandas.pydata.org/pandas-docs/stable/user_guide/indexing.html#returning-a-view-versus-a-copy\n",
      "  new_df['New_Struc'] = new_df['상부구조'].apply(lambda x: category_struc(x))\n"
     ]
    }
   ],
   "source": [
    "new_df['New_Struc'] = new_df['상부구조'].apply(lambda x: category_struc(x))"
   ]
  },
  {
   "cell_type": "code",
   "execution_count": 35,
   "id": "75aa6613",
   "metadata": {},
   "outputs": [
    {
     "data": {
      "text/html": [
       "<div>\n",
       "<style scoped>\n",
       "    .dataframe tbody tr th:only-of-type {\n",
       "        vertical-align: middle;\n",
       "    }\n",
       "\n",
       "    .dataframe tbody tr th {\n",
       "        vertical-align: top;\n",
       "    }\n",
       "\n",
       "    .dataframe thead th {\n",
       "        text-align: right;\n",
       "    }\n",
       "</style>\n",
       "<table border=\"1\" class=\"dataframe\">\n",
       "  <thead>\n",
       "    <tr style=\"text-align: right;\">\n",
       "      <th></th>\n",
       "      <th>도로종류</th>\n",
       "      <th>시설명</th>\n",
       "      <th>시도</th>\n",
       "      <th>시군구</th>\n",
       "      <th>상부구조</th>\n",
       "      <th>설계하중</th>\n",
       "      <th>교통량</th>\n",
       "      <th>준공년도</th>\n",
       "      <th>시설물종별등급구분</th>\n",
       "      <th>교량연장</th>\n",
       "      <th>최종안전점검일자</th>\n",
       "      <th>최종안전점검결과</th>\n",
       "      <th>최종안전점검유형</th>\n",
       "      <th>교량보수보강내역</th>\n",
       "      <th>교량보수보강비용</th>\n",
       "      <th>New_year</th>\n",
       "      <th>Cum_year</th>\n",
       "      <th>New_Struc</th>\n",
       "    </tr>\n",
       "  </thead>\n",
       "  <tbody>\n",
       "    <tr>\n",
       "      <th>0</th>\n",
       "      <td>고속국도</td>\n",
       "      <td>가남JCT육교(강릉)</td>\n",
       "      <td>경기도</td>\n",
       "      <td>여주군</td>\n",
       "      <td>강박스거더교</td>\n",
       "      <td>DB-24</td>\n",
       "      <td>24562</td>\n",
       "      <td>1994</td>\n",
       "      <td>2</td>\n",
       "      <td>225.0</td>\n",
       "      <td>2021-12-22</td>\n",
       "      <td>B</td>\n",
       "      <td>정기점검</td>\n",
       "      <td>N</td>\n",
       "      <td>0.0</td>\n",
       "      <td>1990년 이후</td>\n",
       "      <td>25년 이상</td>\n",
       "      <td>거더교</td>\n",
       "    </tr>\n",
       "    <tr>\n",
       "      <th>1</th>\n",
       "      <td>고속국도</td>\n",
       "      <td>가남JCT육교(인천)</td>\n",
       "      <td>경기도</td>\n",
       "      <td>여주군</td>\n",
       "      <td>강박스거더교</td>\n",
       "      <td>DB-24</td>\n",
       "      <td>24562</td>\n",
       "      <td>1994</td>\n",
       "      <td>2</td>\n",
       "      <td>225.0</td>\n",
       "      <td>2021-12-22</td>\n",
       "      <td>B</td>\n",
       "      <td>정기점검</td>\n",
       "      <td>N</td>\n",
       "      <td>0.0</td>\n",
       "      <td>1990년 이후</td>\n",
       "      <td>25년 이상</td>\n",
       "      <td>거더교</td>\n",
       "    </tr>\n",
       "    <tr>\n",
       "      <th>2</th>\n",
       "      <td>고속국도</td>\n",
       "      <td>가남교(강릉0)</td>\n",
       "      <td>경기도</td>\n",
       "      <td>여주군</td>\n",
       "      <td>프리플렉스거더교</td>\n",
       "      <td>DB-24</td>\n",
       "      <td>61826</td>\n",
       "      <td>2003</td>\n",
       "      <td>3</td>\n",
       "      <td>25.0</td>\n",
       "      <td>2021-10-29</td>\n",
       "      <td>B</td>\n",
       "      <td>정기점검</td>\n",
       "      <td>N</td>\n",
       "      <td>0.0</td>\n",
       "      <td>2000년 이후</td>\n",
       "      <td>20년 이상 25년 미만</td>\n",
       "      <td>거더교</td>\n",
       "    </tr>\n",
       "    <tr>\n",
       "      <th>3</th>\n",
       "      <td>고속국도</td>\n",
       "      <td>가남교(강릉1)</td>\n",
       "      <td>경기도</td>\n",
       "      <td>여주군</td>\n",
       "      <td>PSCI거더교</td>\n",
       "      <td>DB-24</td>\n",
       "      <td>61826</td>\n",
       "      <td>2010</td>\n",
       "      <td>3</td>\n",
       "      <td>25.0</td>\n",
       "      <td>2021-10-29</td>\n",
       "      <td>B</td>\n",
       "      <td>정기점검</td>\n",
       "      <td>N</td>\n",
       "      <td>0.0</td>\n",
       "      <td>2010년 이후</td>\n",
       "      <td>10년 이상 15년 미만</td>\n",
       "      <td>거더교</td>\n",
       "    </tr>\n",
       "    <tr>\n",
       "      <th>4</th>\n",
       "      <td>고속국도</td>\n",
       "      <td>가남교(인천)</td>\n",
       "      <td>경기도</td>\n",
       "      <td>여주군</td>\n",
       "      <td>프리플렉스거더교</td>\n",
       "      <td>DB-24</td>\n",
       "      <td>61826</td>\n",
       "      <td>2003</td>\n",
       "      <td>3</td>\n",
       "      <td>25.0</td>\n",
       "      <td>2021-10-29</td>\n",
       "      <td>B</td>\n",
       "      <td>정기점검</td>\n",
       "      <td>N</td>\n",
       "      <td>0.0</td>\n",
       "      <td>2000년 이후</td>\n",
       "      <td>20년 이상 25년 미만</td>\n",
       "      <td>거더교</td>\n",
       "    </tr>\n",
       "  </tbody>\n",
       "</table>\n",
       "</div>"
      ],
      "text/plain": [
       "   도로종류          시설명   시도  시군구      상부구조   설계하중    교통량  준공년도  시설물종별등급구분   \n",
       "0  고속국도  가남JCT육교(강릉)  경기도  여주군    강박스거더교  DB-24  24562  1994          2  \\\n",
       "1  고속국도  가남JCT육교(인천)  경기도  여주군    강박스거더교  DB-24  24562  1994          2   \n",
       "2  고속국도     가남교(강릉0)  경기도  여주군  프리플렉스거더교  DB-24  61826  2003          3   \n",
       "3  고속국도     가남교(강릉1)  경기도  여주군   PSCI거더교  DB-24  61826  2010          3   \n",
       "4  고속국도      가남교(인천)  경기도  여주군  프리플렉스거더교  DB-24  61826  2003          3   \n",
       "\n",
       "    교량연장    최종안전점검일자 최종안전점검결과 최종안전점검유형 교량보수보강내역  교량보수보강비용  New_year   \n",
       "0  225.0  2021-12-22        B     정기점검        N       0.0  1990년 이후  \\\n",
       "1  225.0  2021-12-22        B     정기점검        N       0.0  1990년 이후   \n",
       "2   25.0  2021-10-29        B     정기점검        N       0.0  2000년 이후   \n",
       "3   25.0  2021-10-29        B     정기점검        N       0.0  2010년 이후   \n",
       "4   25.0  2021-10-29        B     정기점검        N       0.0  2000년 이후   \n",
       "\n",
       "        Cum_year New_Struc  \n",
       "0         25년 이상       거더교  \n",
       "1         25년 이상       거더교  \n",
       "2  20년 이상 25년 미만       거더교  \n",
       "3  10년 이상 15년 미만       거더교  \n",
       "4  20년 이상 25년 미만       거더교  "
      ]
     },
     "execution_count": 35,
     "metadata": {},
     "output_type": "execute_result"
    }
   ],
   "source": [
    "new_df.head()"
   ]
  },
  {
   "cell_type": "code",
   "execution_count": 36,
   "id": "e80ba197",
   "metadata": {},
   "outputs": [
    {
     "data": {
      "text/html": [
       "<div>\n",
       "<style scoped>\n",
       "    .dataframe tbody tr th:only-of-type {\n",
       "        vertical-align: middle;\n",
       "    }\n",
       "\n",
       "    .dataframe tbody tr th {\n",
       "        vertical-align: top;\n",
       "    }\n",
       "\n",
       "    .dataframe thead th {\n",
       "        text-align: right;\n",
       "    }\n",
       "</style>\n",
       "<table border=\"1\" class=\"dataframe\">\n",
       "  <thead>\n",
       "    <tr style=\"text-align: right;\">\n",
       "      <th></th>\n",
       "      <th>New_Struc</th>\n",
       "      <th>교통량</th>\n",
       "    </tr>\n",
       "  </thead>\n",
       "  <tbody>\n",
       "    <tr>\n",
       "      <th>0</th>\n",
       "      <td>거더교</td>\n",
       "      <td>115004359</td>\n",
       "    </tr>\n",
       "    <tr>\n",
       "      <th>1</th>\n",
       "      <td>라멘교</td>\n",
       "      <td>48889073</td>\n",
       "    </tr>\n",
       "    <tr>\n",
       "      <th>2</th>\n",
       "      <td>슬래브교</td>\n",
       "      <td>28833451</td>\n",
       "    </tr>\n",
       "    <tr>\n",
       "      <th>3</th>\n",
       "      <td>기타</td>\n",
       "      <td>4775637</td>\n",
       "    </tr>\n",
       "    <tr>\n",
       "      <th>4</th>\n",
       "      <td>아치교</td>\n",
       "      <td>1342999</td>\n",
       "    </tr>\n",
       "    <tr>\n",
       "      <th>5</th>\n",
       "      <td>사장교</td>\n",
       "      <td>219664</td>\n",
       "    </tr>\n",
       "  </tbody>\n",
       "</table>\n",
       "</div>"
      ],
      "text/plain": [
       "  New_Struc        교통량\n",
       "0       거더교  115004359\n",
       "1       라멘교   48889073\n",
       "2      슬래브교   28833451\n",
       "3        기타    4775637\n",
       "4       아치교    1342999\n",
       "5       사장교     219664"
      ]
     },
     "execution_count": 36,
     "metadata": {},
     "output_type": "execute_result"
    }
   ],
   "source": [
    "# 상부구조별 교통량합계 확인\n",
    "sum_structure = new_df[['New_Struc', '교통량']].groupby(['New_Struc'], as_index = False).sum().sort_values(by = '교통량', ascending = False).reset_index(drop = True)\n",
    "sum_structure"
   ]
  },
  {
   "cell_type": "code",
   "execution_count": 37,
   "id": "c2116c84",
   "metadata": {},
   "outputs": [
    {
     "data": {
      "text/html": [
       "<div>\n",
       "<style scoped>\n",
       "    .dataframe tbody tr th:only-of-type {\n",
       "        vertical-align: middle;\n",
       "    }\n",
       "\n",
       "    .dataframe tbody tr th {\n",
       "        vertical-align: top;\n",
       "    }\n",
       "\n",
       "    .dataframe thead th {\n",
       "        text-align: right;\n",
       "    }\n",
       "</style>\n",
       "<table border=\"1\" class=\"dataframe\">\n",
       "  <thead>\n",
       "    <tr style=\"text-align: right;\">\n",
       "      <th></th>\n",
       "      <th>New_Struc</th>\n",
       "      <th>교통량</th>\n",
       "    </tr>\n",
       "  </thead>\n",
       "  <tbody>\n",
       "    <tr>\n",
       "      <th>0</th>\n",
       "      <td>거더교</td>\n",
       "      <td>40380.744031</td>\n",
       "    </tr>\n",
       "    <tr>\n",
       "      <th>1</th>\n",
       "      <td>라멘교</td>\n",
       "      <td>40138.811987</td>\n",
       "    </tr>\n",
       "    <tr>\n",
       "      <th>2</th>\n",
       "      <td>아치교</td>\n",
       "      <td>37305.527778</td>\n",
       "    </tr>\n",
       "    <tr>\n",
       "      <th>3</th>\n",
       "      <td>슬래브교</td>\n",
       "      <td>34823.008454</td>\n",
       "    </tr>\n",
       "    <tr>\n",
       "      <th>4</th>\n",
       "      <td>기타</td>\n",
       "      <td>30810.561290</td>\n",
       "    </tr>\n",
       "    <tr>\n",
       "      <th>5</th>\n",
       "      <td>사장교</td>\n",
       "      <td>27458.000000</td>\n",
       "    </tr>\n",
       "  </tbody>\n",
       "</table>\n",
       "</div>"
      ],
      "text/plain": [
       "  New_Struc           교통량\n",
       "0       거더교  40380.744031\n",
       "1       라멘교  40138.811987\n",
       "2       아치교  37305.527778\n",
       "3      슬래브교  34823.008454\n",
       "4        기타  30810.561290\n",
       "5       사장교  27458.000000"
      ]
     },
     "execution_count": 37,
     "metadata": {},
     "output_type": "execute_result"
    }
   ],
   "source": [
    "# 상부구조별 교통량평균 확인\n",
    "mean_structure = new_df[['New_Struc', '교통량']].groupby(['New_Struc'], as_index = False).mean().sort_values(by = '교통량', ascending = False).reset_index(drop = True)\n",
    "mean_structure"
   ]
  },
  {
   "cell_type": "code",
   "execution_count": 38,
   "id": "a8c1c4e6",
   "metadata": {},
   "outputs": [
    {
     "name": "stderr",
     "output_type": "stream",
     "text": [
      "C:\\Users\\chunc\\AppData\\Local\\Temp\\ipykernel_66696\\2627225927.py:5: UserWarning: FixedFormatter should only be used together with FixedLocator\n",
      "  plt.gca().set_yticklabels(['{:,.0f}'.format(x) for x in current_values])\n"
     ]
    },
    {
     "data": {
      "image/png": "[encoded data removed]",
      "text/plain": [
       "<Figure size 1600x800 with 1 Axes>"
      ]
     },
     "metadata": {},
     "output_type": "display_data"
    }
   ],
   "source": [
    "# 상부구조별 교통량합계 그래프 확인\n",
    "plt.figure(figsize = (16, 8))\n",
    "sns.barplot(x = 'New_Struc', y = '교통량', palette = 'pastel', data = sum_structure)\n",
    "current_values = plt.gca().get_yticks()\n",
    "plt.gca().set_yticklabels(['{:,.0f}'.format(x) for x in current_values])\n",
    "plt.title('상부구조별 교통량 합계')\n",
    "plt.show()"
   ]
  },
  {
   "cell_type": "code",
   "execution_count": 39,
   "id": "6b7cf680",
   "metadata": {},
   "outputs": [
    {
     "name": "stderr",
     "output_type": "stream",
     "text": [
      "C:\\Users\\chunc\\AppData\\Local\\Temp\\ipykernel_66696\\3708323869.py:5: UserWarning: FixedFormatter should only be used together with FixedLocator\n",
      "  plt.gca().set_yticklabels(['{:,.0f}'.format(x) for x in current_values])\n"
     ]
    },
    {
     "data": {
      "image/png": "[encoded data removed]",
      "text/plain": [
       "<Figure size 1600x800 with 1 Axes>"
      ]
     },
     "metadata": {},
     "output_type": "display_data"
    }
   ],
   "source": [
    "# 상부구조별 교통량평균 그래프 확인\n",
    "plt.figure(figsize = (16, 8))\n",
    "sns.barplot(x = 'New_Struc', y = '교통량', palette = 'pastel', data = mean_structure)\n",
    "current_values = plt.gca().get_yticks()\n",
    "plt.gca().set_yticklabels(['{:,.0f}'.format(x) for x in current_values])\n",
    "plt.title('상부구조별 교통량 평균')\n",
    "plt.show()"
   ]
  },
  {
   "cell_type": "code",
   "execution_count": 40,
   "id": "4ca2c9dd",
   "metadata": {},
   "outputs": [
    {
     "data": {
      "text/html": [
       "<div>\n",
       "<style scoped>\n",
       "    .dataframe tbody tr th:only-of-type {\n",
       "        vertical-align: middle;\n",
       "    }\n",
       "\n",
       "    .dataframe tbody tr th {\n",
       "        vertical-align: top;\n",
       "    }\n",
       "\n",
       "    .dataframe thead th {\n",
       "        text-align: right;\n",
       "    }\n",
       "</style>\n",
       "<table border=\"1\" class=\"dataframe\">\n",
       "  <thead>\n",
       "    <tr style=\"text-align: right;\">\n",
       "      <th></th>\n",
       "      <th>도로종류</th>\n",
       "      <th>교통량</th>\n",
       "    </tr>\n",
       "  </thead>\n",
       "  <tbody>\n",
       "    <tr>\n",
       "      <th>0</th>\n",
       "      <td>고속국도</td>\n",
       "      <td>129717248</td>\n",
       "    </tr>\n",
       "    <tr>\n",
       "      <th>1</th>\n",
       "      <td>시도</td>\n",
       "      <td>23182912</td>\n",
       "    </tr>\n",
       "    <tr>\n",
       "      <th>2</th>\n",
       "      <td>일반국도</td>\n",
       "      <td>21191358</td>\n",
       "    </tr>\n",
       "    <tr>\n",
       "      <th>3</th>\n",
       "      <td>특별,광역시도</td>\n",
       "      <td>10195528</td>\n",
       "    </tr>\n",
       "    <tr>\n",
       "      <th>4</th>\n",
       "      <td>지방도</td>\n",
       "      <td>7329728</td>\n",
       "    </tr>\n",
       "    <tr>\n",
       "      <th>5</th>\n",
       "      <td>국가지원지방도</td>\n",
       "      <td>3649352</td>\n",
       "    </tr>\n",
       "    <tr>\n",
       "      <th>6</th>\n",
       "      <td>구도</td>\n",
       "      <td>2111086</td>\n",
       "    </tr>\n",
       "    <tr>\n",
       "      <th>7</th>\n",
       "      <td>군도</td>\n",
       "      <td>1687971</td>\n",
       "    </tr>\n",
       "  </tbody>\n",
       "</table>\n",
       "</div>"
      ],
      "text/plain": [
       "      도로종류        교통량\n",
       "0     고속국도  129717248\n",
       "1       시도   23182912\n",
       "2     일반국도   21191358\n",
       "3  특별,광역시도   10195528\n",
       "4      지방도    7329728\n",
       "5  국가지원지방도    3649352\n",
       "6       구도    2111086\n",
       "7       군도    1687971"
      ]
     },
     "execution_count": 40,
     "metadata": {},
     "output_type": "execute_result"
    }
   ],
   "source": [
    "# 도로종류에 따른 교통량합계\n",
    "sum_load = new_df[['도로종류', '교통량']].groupby(['도로종류'], as_index = False).sum().sort_values(by = '교통량', ascending = False).reset_index(drop = True)\n",
    "sum_load"
   ]
  },
  {
   "cell_type": "code",
   "execution_count": 41,
   "id": "a3bed2ab",
   "metadata": {},
   "outputs": [
    {
     "data": {
      "text/html": [
       "<div>\n",
       "<style scoped>\n",
       "    .dataframe tbody tr th:only-of-type {\n",
       "        vertical-align: middle;\n",
       "    }\n",
       "\n",
       "    .dataframe tbody tr th {\n",
       "        vertical-align: top;\n",
       "    }\n",
       "\n",
       "    .dataframe thead th {\n",
       "        text-align: right;\n",
       "    }\n",
       "</style>\n",
       "<table border=\"1\" class=\"dataframe\">\n",
       "  <thead>\n",
       "    <tr style=\"text-align: right;\">\n",
       "      <th></th>\n",
       "      <th>도로종류</th>\n",
       "      <th>교통량</th>\n",
       "    </tr>\n",
       "  </thead>\n",
       "  <tbody>\n",
       "    <tr>\n",
       "      <th>0</th>\n",
       "      <td>고속국도</td>\n",
       "      <td>55936.717551</td>\n",
       "    </tr>\n",
       "    <tr>\n",
       "      <th>1</th>\n",
       "      <td>특별,광역시도</td>\n",
       "      <td>38914.229008</td>\n",
       "    </tr>\n",
       "    <tr>\n",
       "      <th>2</th>\n",
       "      <td>구도</td>\n",
       "      <td>37036.596491</td>\n",
       "    </tr>\n",
       "    <tr>\n",
       "      <th>3</th>\n",
       "      <td>시도</td>\n",
       "      <td>34756.989505</td>\n",
       "    </tr>\n",
       "    <tr>\n",
       "      <th>4</th>\n",
       "      <td>군도</td>\n",
       "      <td>33097.470588</td>\n",
       "    </tr>\n",
       "    <tr>\n",
       "      <th>5</th>\n",
       "      <td>일반국도</td>\n",
       "      <td>21149.059880</td>\n",
       "    </tr>\n",
       "    <tr>\n",
       "      <th>6</th>\n",
       "      <td>지방도</td>\n",
       "      <td>16073.964912</td>\n",
       "    </tr>\n",
       "    <tr>\n",
       "      <th>7</th>\n",
       "      <td>국가지원지방도</td>\n",
       "      <td>13080.114695</td>\n",
       "    </tr>\n",
       "  </tbody>\n",
       "</table>\n",
       "</div>"
      ],
      "text/plain": [
       "      도로종류           교통량\n",
       "0     고속국도  55936.717551\n",
       "1  특별,광역시도  38914.229008\n",
       "2       구도  37036.596491\n",
       "3       시도  34756.989505\n",
       "4       군도  33097.470588\n",
       "5     일반국도  21149.059880\n",
       "6      지방도  16073.964912\n",
       "7  국가지원지방도  13080.114695"
      ]
     },
     "execution_count": 41,
     "metadata": {},
     "output_type": "execute_result"
    }
   ],
   "source": [
    "# 도로종류에 따른 교통량평균\n",
    "mean_load = new_df[['도로종류', '교통량']].groupby(['도로종류'], as_index = False).mean().sort_values(by = '교통량', ascending = False).reset_index(drop = True)\n",
    "mean_load"
   ]
  },
  {
   "cell_type": "code",
   "execution_count": 42,
   "id": "9aa5435c",
   "metadata": {},
   "outputs": [
    {
     "name": "stderr",
     "output_type": "stream",
     "text": [
      "C:\\Users\\chunc\\AppData\\Local\\Temp\\ipykernel_66696\\2122724850.py:5: UserWarning: FixedFormatter should only be used together with FixedLocator\n",
      "  plt.gca().set_yticklabels(['{:,.0f}'.format(x) for x in current_values])\n"
     ]
    },
    {
     "data": {
      "image/png": "[encoded data removed]",
      "text/plain": [
       "<Figure size 1600x800 with 1 Axes>"
      ]
     },
     "metadata": {},
     "output_type": "display_data"
    }
   ],
   "source": [
    "# 도로종류별 교통량합계 그래프 확인\n",
    "plt.figure(figsize = (16, 8))\n",
    "sns.barplot(x = '도로종류', y = '교통량', palette = 'pastel', data = sum_load)\n",
    "current_values = plt.gca().get_yticks()\n",
    "plt.gca().set_yticklabels(['{:,.0f}'.format(x) for x in current_values])\n",
    "plt.title('도로종류별 교통량 합계')\n",
    "plt.show()"
   ]
  },
  {
   "cell_type": "code",
   "execution_count": 43,
   "id": "dbc3a3e2",
   "metadata": {},
   "outputs": [
    {
     "name": "stderr",
     "output_type": "stream",
     "text": [
      "C:\\Users\\chunc\\AppData\\Local\\Temp\\ipykernel_66696\\1277198357.py:5: UserWarning: FixedFormatter should only be used together with FixedLocator\n",
      "  plt.gca().set_yticklabels(['{:,.0f}'.format(x) for x in current_values])\n"
     ]
    },
    {
     "data": {
      "image/png": "[encoded data removed]",
      "text/plain": [
       "<Figure size 1600x800 with 1 Axes>"
      ]
     },
     "metadata": {},
     "output_type": "display_data"
    }
   ],
   "source": [
    "# 도로종류별 교통량평균 그래프 확인\n",
    "plt.figure(figsize = (16, 8))\n",
    "sns.barplot(x = '도로종류', y = '교통량', palette = 'pastel', data = mean_load)\n",
    "current_values = plt.gca().get_yticks()\n",
    "plt.gca().set_yticklabels(['{:,.0f}'.format(x) for x in current_values])\n",
    "plt.title('도로종류별 교통량 평균')\n",
    "plt.show()"
   ]
  },
  {
   "cell_type": "code",
   "execution_count": 44,
   "id": "99f3227c",
   "metadata": {},
   "outputs": [],
   "source": [
    "# 새로운 시설물 등급컬럼 생성\n",
    "# 1, 2, 3종 이외에 99라 적힌 부분을 기타로 통합\n",
    "def new_facility(facility):\n",
    "    if facility == 1:\n",
    "        return '1종 시설물'\n",
    "    elif facility == 2:\n",
    "        return '2종 시설물'\n",
    "    elif facility == 3:\n",
    "        return '3종 시설물'\n",
    "    else:\n",
    "        return '기타'"
   ]
  },
  {
   "cell_type": "code",
   "execution_count": 45,
   "id": "0d8194ac",
   "metadata": {},
   "outputs": [
    {
     "name": "stderr",
     "output_type": "stream",
     "text": [
      "C:\\Users\\chunc\\AppData\\Local\\Temp\\ipykernel_66696\\2035961984.py:1: SettingWithCopyWarning: \n",
      "A value is trying to be set on a copy of a slice from a DataFrame.\n",
      "Try using .loc[row_indexer,col_indexer] = value instead\n",
      "\n",
      "See the caveats in the documentation: https://pandas.pydata.org/pandas-docs/stable/user_guide/indexing.html#returning-a-view-versus-a-copy\n",
      "  new_df['New_facility'] = new_df['시설물종별등급구분'].apply(lambda x: new_facility(x))\n"
     ]
    }
   ],
   "source": [
    "new_df['New_facility'] = new_df['시설물종별등급구분'].apply(lambda x: new_facility(x))"
   ]
  },
  {
   "cell_type": "code",
   "execution_count": 46,
   "id": "d615ea07",
   "metadata": {},
   "outputs": [
    {
     "data": {
      "text/html": [
       "<div>\n",
       "<style scoped>\n",
       "    .dataframe tbody tr th:only-of-type {\n",
       "        vertical-align: middle;\n",
       "    }\n",
       "\n",
       "    .dataframe tbody tr th {\n",
       "        vertical-align: top;\n",
       "    }\n",
       "\n",
       "    .dataframe thead th {\n",
       "        text-align: right;\n",
       "    }\n",
       "</style>\n",
       "<table border=\"1\" class=\"dataframe\">\n",
       "  <thead>\n",
       "    <tr style=\"text-align: right;\">\n",
       "      <th></th>\n",
       "      <th>New_facility</th>\n",
       "      <th>교통량</th>\n",
       "    </tr>\n",
       "  </thead>\n",
       "  <tbody>\n",
       "    <tr>\n",
       "      <th>0</th>\n",
       "      <td>1종 시설물</td>\n",
       "      <td>35326586</td>\n",
       "    </tr>\n",
       "    <tr>\n",
       "      <th>1</th>\n",
       "      <td>2종 시설물</td>\n",
       "      <td>36226121</td>\n",
       "    </tr>\n",
       "    <tr>\n",
       "      <th>2</th>\n",
       "      <td>3종 시설물</td>\n",
       "      <td>66045316</td>\n",
       "    </tr>\n",
       "    <tr>\n",
       "      <th>3</th>\n",
       "      <td>기타</td>\n",
       "      <td>61467160</td>\n",
       "    </tr>\n",
       "  </tbody>\n",
       "</table>\n",
       "</div>"
      ],
      "text/plain": [
       "  New_facility       교통량\n",
       "0       1종 시설물  35326586\n",
       "1       2종 시설물  36226121\n",
       "2       3종 시설물  66045316\n",
       "3           기타  61467160"
      ]
     },
     "execution_count": 46,
     "metadata": {},
     "output_type": "execute_result"
    }
   ],
   "source": [
    "# 시설물등급에 따른 교통량합계\n",
    "sum_facility = new_df[['New_facility', '교통량']].groupby(['New_facility'], as_index = False).sum()\n",
    "sum_facility"
   ]
  },
  {
   "cell_type": "code",
   "execution_count": 47,
   "id": "13bf3f08",
   "metadata": {},
   "outputs": [
    {
     "data": {
      "text/html": [
       "<div>\n",
       "<style scoped>\n",
       "    .dataframe tbody tr th:only-of-type {\n",
       "        vertical-align: middle;\n",
       "    }\n",
       "\n",
       "    .dataframe tbody tr th {\n",
       "        vertical-align: top;\n",
       "    }\n",
       "\n",
       "    .dataframe thead th {\n",
       "        text-align: right;\n",
       "    }\n",
       "</style>\n",
       "<table border=\"1\" class=\"dataframe\">\n",
       "  <thead>\n",
       "    <tr style=\"text-align: right;\">\n",
       "      <th></th>\n",
       "      <th>New_facility</th>\n",
       "      <th>교통량</th>\n",
       "    </tr>\n",
       "  </thead>\n",
       "  <tbody>\n",
       "    <tr>\n",
       "      <th>0</th>\n",
       "      <td>1종 시설물</td>\n",
       "      <td>43081.202439</td>\n",
       "    </tr>\n",
       "    <tr>\n",
       "      <th>1</th>\n",
       "      <td>2종 시설물</td>\n",
       "      <td>35481.019589</td>\n",
       "    </tr>\n",
       "    <tr>\n",
       "      <th>2</th>\n",
       "      <td>3종 시설물</td>\n",
       "      <td>41986.850604</td>\n",
       "    </tr>\n",
       "    <tr>\n",
       "      <th>3</th>\n",
       "      <td>기타</td>\n",
       "      <td>36609.386540</td>\n",
       "    </tr>\n",
       "  </tbody>\n",
       "</table>\n",
       "</div>"
      ],
      "text/plain": [
       "  New_facility           교통량\n",
       "0       1종 시설물  43081.202439\n",
       "1       2종 시설물  35481.019589\n",
       "2       3종 시설물  41986.850604\n",
       "3           기타  36609.386540"
      ]
     },
     "execution_count": 47,
     "metadata": {},
     "output_type": "execute_result"
    }
   ],
   "source": [
    "# 시설물등급에 따른 교통량평균\n",
    "mean_facility = new_df[['New_facility', '교통량']].groupby(['New_facility'], as_index = False).mean()\n",
    "mean_facility"
   ]
  },
  {
   "cell_type": "code",
   "execution_count": 48,
   "id": "6190e677",
   "metadata": {},
   "outputs": [
    {
     "name": "stderr",
     "output_type": "stream",
     "text": [
      "C:\\Users\\chunc\\AppData\\Local\\Temp\\ipykernel_66696\\2679594552.py:5: UserWarning: FixedFormatter should only be used together with FixedLocator\n",
      "  plt.gca().set_yticklabels(['{:,.0f}'.format(x) for x in current_values])\n"
     ]
    },
    {
     "data": {
      "image/png": "[encoded data removed]",
      "text/plain": [
       "<Figure size 1600x800 with 1 Axes>"
      ]
     },
     "metadata": {},
     "output_type": "display_data"
    }
   ],
   "source": [
    "# 시설물등급에 따른 교통량합계 그래프 확인\n",
    "plt.figure(figsize = (16, 8))\n",
    "sns.barplot(x = 'New_facility', y = '교통량', palette = 'pastel', data = sum_facility)\n",
    "current_values = plt.gca().get_yticks()\n",
    "plt.gca().set_yticklabels(['{:,.0f}'.format(x) for x in current_values])\n",
    "plt.title('시설물등급별 교통량 합계')\n",
    "plt.show()"
   ]
  },
  {
   "cell_type": "code",
   "execution_count": 49,
   "id": "f42f2d73",
   "metadata": {},
   "outputs": [
    {
     "name": "stderr",
     "output_type": "stream",
     "text": [
      "C:\\Users\\chunc\\AppData\\Local\\Temp\\ipykernel_66696\\326198430.py:5: UserWarning: FixedFormatter should only be used together with FixedLocator\n",
      "  plt.gca().set_yticklabels(['{:,.0f}'.format(x) for x in current_values])\n"
     ]
    },
    {
     "data": {
      "image/png": "[encoded data removed]",
      "text/plain": [
       "<Figure size 1600x800 with 1 Axes>"
      ]
     },
     "metadata": {},
     "output_type": "display_data"
    }
   ],
   "source": [
    "# 시설물등급에 따른 교통량평균 그래프 확인\n",
    "plt.figure(figsize = (16, 8))\n",
    "sns.barplot(x = 'New_facility', y = '교통량', palette = 'pastel', data = mean_facility)\n",
    "current_values = plt.gca().get_yticks()\n",
    "plt.gca().set_yticklabels(['{:,.0f}'.format(x) for x in current_values])\n",
    "plt.title('시설물등급별 교통량 평균')\n",
    "plt.show()"
   ]
  },
  {
   "cell_type": "code",
   "execution_count": 50,
   "id": "54d66dd6",
   "metadata": {},
   "outputs": [
    {
     "data": {
      "text/plain": [
       "array(['B', 'A', 'C', 'E', 'D'], dtype=object)"
      ]
     },
     "execution_count": 50,
     "metadata": {},
     "output_type": "execute_result"
    }
   ],
   "source": [
    "# 최종안전점검결과 등급 확인\n",
    "new_df['최종안전점검결과'].unique()"
   ]
  },
  {
   "cell_type": "code",
   "execution_count": 51,
   "id": "97c2b4aa",
   "metadata": {},
   "outputs": [
    {
     "data": {
      "text/html": [
       "<div>\n",
       "<style scoped>\n",
       "    .dataframe tbody tr th:only-of-type {\n",
       "        vertical-align: middle;\n",
       "    }\n",
       "\n",
       "    .dataframe tbody tr th {\n",
       "        vertical-align: top;\n",
       "    }\n",
       "\n",
       "    .dataframe thead th {\n",
       "        text-align: right;\n",
       "    }\n",
       "</style>\n",
       "<table border=\"1\" class=\"dataframe\">\n",
       "  <thead>\n",
       "    <tr style=\"text-align: right;\">\n",
       "      <th></th>\n",
       "      <th>최종안전점검결과</th>\n",
       "      <th>교통량</th>\n",
       "    </tr>\n",
       "  </thead>\n",
       "  <tbody>\n",
       "    <tr>\n",
       "      <th>0</th>\n",
       "      <td>A</td>\n",
       "      <td>20690613</td>\n",
       "    </tr>\n",
       "    <tr>\n",
       "      <th>1</th>\n",
       "      <td>B</td>\n",
       "      <td>164268295</td>\n",
       "    </tr>\n",
       "    <tr>\n",
       "      <th>2</th>\n",
       "      <td>C</td>\n",
       "      <td>10801592</td>\n",
       "    </tr>\n",
       "    <tr>\n",
       "      <th>3</th>\n",
       "      <td>D</td>\n",
       "      <td>195430</td>\n",
       "    </tr>\n",
       "    <tr>\n",
       "      <th>4</th>\n",
       "      <td>E</td>\n",
       "      <td>3109253</td>\n",
       "    </tr>\n",
       "  </tbody>\n",
       "</table>\n",
       "</div>"
      ],
      "text/plain": [
       "  최종안전점검결과        교통량\n",
       "0        A   20690613\n",
       "1        B  164268295\n",
       "2        C   10801592\n",
       "3        D     195430\n",
       "4        E    3109253"
      ]
     },
     "execution_count": 51,
     "metadata": {},
     "output_type": "execute_result"
    }
   ],
   "source": [
    "sum_Safegrade = new_df[['최종안전점검결과', '교통량']].groupby(['최종안전점검결과'], as_index = False).sum()\n",
    "sum_Safegrade"
   ]
  },
  {
   "cell_type": "code",
   "execution_count": 52,
   "id": "894d0ce6",
   "metadata": {},
   "outputs": [
    {
     "data": {
      "text/html": [
       "<div>\n",
       "<style scoped>\n",
       "    .dataframe tbody tr th:only-of-type {\n",
       "        vertical-align: middle;\n",
       "    }\n",
       "\n",
       "    .dataframe tbody tr th {\n",
       "        vertical-align: top;\n",
       "    }\n",
       "\n",
       "    .dataframe thead th {\n",
       "        text-align: right;\n",
       "    }\n",
       "</style>\n",
       "<table border=\"1\" class=\"dataframe\">\n",
       "  <thead>\n",
       "    <tr style=\"text-align: right;\">\n",
       "      <th></th>\n",
       "      <th>최종안전점검결과</th>\n",
       "      <th>교통량</th>\n",
       "    </tr>\n",
       "  </thead>\n",
       "  <tbody>\n",
       "    <tr>\n",
       "      <th>0</th>\n",
       "      <td>A</td>\n",
       "      <td>33158.033654</td>\n",
       "    </tr>\n",
       "    <tr>\n",
       "      <th>1</th>\n",
       "      <td>B</td>\n",
       "      <td>40600.171775</td>\n",
       "    </tr>\n",
       "    <tr>\n",
       "      <th>2</th>\n",
       "      <td>C</td>\n",
       "      <td>30512.971751</td>\n",
       "    </tr>\n",
       "    <tr>\n",
       "      <th>3</th>\n",
       "      <td>D</td>\n",
       "      <td>39086.000000</td>\n",
       "    </tr>\n",
       "    <tr>\n",
       "      <th>4</th>\n",
       "      <td>E</td>\n",
       "      <td>48582.078125</td>\n",
       "    </tr>\n",
       "  </tbody>\n",
       "</table>\n",
       "</div>"
      ],
      "text/plain": [
       "  최종안전점검결과           교통량\n",
       "0        A  33158.033654\n",
       "1        B  40600.171775\n",
       "2        C  30512.971751\n",
       "3        D  39086.000000\n",
       "4        E  48582.078125"
      ]
     },
     "execution_count": 52,
     "metadata": {},
     "output_type": "execute_result"
    }
   ],
   "source": [
    "# 최종안전등급에 따른 교통량평균\n",
    "mean_Safegrade = new_df[['최종안전점검결과', '교통량']].groupby(['최종안전점검결과'], as_index = False).mean()\n",
    "mean_Safegrade"
   ]
  },
  {
   "cell_type": "code",
   "execution_count": 53,
   "id": "994ad798",
   "metadata": {},
   "outputs": [
    {
     "name": "stderr",
     "output_type": "stream",
     "text": [
      "C:\\Users\\chunc\\AppData\\Local\\Temp\\ipykernel_66696\\1040091063.py:5: UserWarning: FixedFormatter should only be used together with FixedLocator\n",
      "  plt.gca().set_yticklabels(['{:,.0f}'.format(x) for x in current_values])\n"
     ]
    },
    {
     "data": {
      "image/png": "[encoded data removed]",
      "text/plain": [
       "<Figure size 1600x800 with 1 Axes>"
      ]
     },
     "metadata": {},
     "output_type": "display_data"
    }
   ],
   "source": [
    "# 최종안전등급에 따른 교통량합계 그래프 확인\n",
    "plt.figure(figsize = (16, 8))\n",
    "sns.barplot(x = '최종안전점검결과', y = '교통량', palette = 'pastel', data = sum_Safegrade)\n",
    "current_values = plt.gca().get_yticks()\n",
    "plt.gca().set_yticklabels(['{:,.0f}'.format(x) for x in current_values])\n",
    "plt.title('최종안전점검결과별 교통량 합계')\n",
    "plt.show()"
   ]
  },
  {
   "cell_type": "code",
   "execution_count": 54,
   "id": "4d507da5",
   "metadata": {},
   "outputs": [
    {
     "name": "stderr",
     "output_type": "stream",
     "text": [
      "C:\\Users\\chunc\\AppData\\Local\\Temp\\ipykernel_66696\\294963150.py:5: UserWarning: FixedFormatter should only be used together with FixedLocator\n",
      "  plt.gca().set_yticklabels(['{:,.0f}'.format(x) for x in current_values])\n"
     ]
    },
    {
     "data": {
      "image/png": "[encoded data removed]",
      "text/plain": [
       "<Figure size 1600x800 with 1 Axes>"
      ]
     },
     "metadata": {},
     "output_type": "display_data"
    }
   ],
   "source": [
    "# 최종안전등급에 따른 교통량.평균 그래프 확인\n",
    "plt.figure(figsize = (16, 8))\n",
    "sns.barplot(x = '최종안전점검결과', y = '교통량', palette = 'pastel', data = mean_Safegrade)\n",
    "current_values = plt.gca().get_yticks()\n",
    "plt.gca().set_yticklabels(['{:,.0f}'.format(x) for x in current_values])\n",
    "plt.title('최종안전점검결과별 교통량 평균')\n",
    "plt.show()"
   ]
  },
  {
   "cell_type": "code",
   "execution_count": 55,
   "id": "e32433f8",
   "metadata": {},
   "outputs": [
    {
     "name": "stderr",
     "output_type": "stream",
     "text": [
      "C:\\Users\\chunc\\AppData\\Local\\Temp\\ipykernel_66696\\2841818139.py:8: UserWarning: FixedFormatter should only be used together with FixedLocator\n",
      "  plt.gca().set_yticklabels(['{:,.0f}'.format(x) for x in current_values])\n"
     ]
    },
    {
     "data": {
      "image/png": "[encoded data removed]",
      "text/plain": [
       "<Figure size 1600x800 with 1 Axes>"
      ]
     },
     "metadata": {},
     "output_type": "display_data"
    }
   ],
   "source": [
    "# 최종안전등급별, 시설물등급별 평균교통량 확인\n",
    "\n",
    "plt.figure(figsize = (16, 8))\n",
    "group_name = ['A', 'B', 'C', 'D', 'E']\n",
    "sns.barplot(x = '최종안전점검결과', y = '교통량', hue = 'New_facility', palette = 'pastel', data = new_df, order = group_name,\n",
    "            errorbar = None, hue_order = ['1종 시설물', '2종 시설물', '3종 시설물', '기타'])\n",
    "current_values = plt.gca().get_yticks()\n",
    "plt.gca().set_yticklabels(['{:,.0f}'.format(x) for x in current_values])\n",
    "plt.title('최종안전등급별, 시설물등급별 평균교통량')\n",
    "plt.show()"
   ]
  },
  {
   "cell_type": "code",
   "execution_count": 56,
   "id": "cd5a26b4",
   "metadata": {},
   "outputs": [
    {
     "name": "stderr",
     "output_type": "stream",
     "text": [
      "C:\\Users\\chunc\\AppData\\Local\\Temp\\ipykernel_66696\\940384305.py:7: UserWarning: FixedFormatter should only be used together with FixedLocator\n",
      "  plt.gca().set_yticklabels(['{:,.0f}'.format(x) for x in current_values])\n"
     ]
    },
    {
     "data": {
      "image/png": "[encoded data removed]",
      "text/plain": [
       "<Figure size 1600x800 with 1 Axes>"
      ]
     },
     "metadata": {},
     "output_type": "display_data"
    }
   ],
   "source": [
    "# 안전등급, 경과년수별에 따른 평균교통량 그래프 확인\n",
    "plt.figure(figsize = (16, 8))\n",
    "group_name = ['A', 'B', 'C', 'D', 'E']\n",
    "sns.barplot(x = '최종안전점검결과', y = '교통량', hue = 'Cum_year', palette = 'pastel', data = new_df, order = group_name, errorbar = None,\n",
    "            hue_order = ['5년 미만', '5년 이상 10년 미만', '10년 이상 15년 미만', '15년 이상 20년 미만', '20년 이상 25년 미만', '25년 이상'])\n",
    "current_values = plt.gca().get_yticks()\n",
    "plt.gca().set_yticklabels(['{:,.0f}'.format(x) for x in current_values])\n",
    "plt.title('안전등급별 경과년수에 따른 평균교통량')\n",
    "plt.show()"
   ]
  },
  {
   "cell_type": "code",
   "execution_count": 57,
   "id": "639733e1",
   "metadata": {},
   "outputs": [
    {
     "name": "stderr",
     "output_type": "stream",
     "text": [
      "C:\\Users\\chunc\\AppData\\Local\\Temp\\ipykernel_66696\\589430743.py:7: UserWarning: FixedFormatter should only be used together with FixedLocator\n",
      "  plt.gca().set_yticklabels(['{:,.0f}'.format(x) for x in current_values])\n"
     ]
    },
    {
     "data": {
      "image/png": "[encoded data removed]",
      "text/plain": [
       "<Figure size 1600x800 with 1 Axes>"
      ]
     },
     "metadata": {},
     "output_type": "display_data"
    }
   ],
   "source": [
    "# 시설물등급, 경과년수에 따른 평균교통량 그래프 확인\n",
    "plt.figure(figsize = (16, 8))\n",
    "group_name = ['1종 시설물', '2종 시설물', '3종 시설물', '기타']\n",
    "sns.barplot(x = 'New_facility', y = '교통량', hue = 'Cum_year', palette = 'pastel', data = new_df, order = group_name, errorbar = None,\n",
    "            hue_order = ['5년 미만', '5년 이상 10년 미만', '10년 이상 15년 미만', '15년 이상 20년 미만', '20년 이상 25년 미만', '25년 이상'])\n",
    "current_values = plt.gca().get_yticks()\n",
    "plt.gca().set_yticklabels(['{:,.0f}'.format(x) for x in current_values])\n",
    "plt.title('시설물등급별, 경과년수에 따른 평균교통량')\n",
    "plt.show()"
   ]
  },
  {
   "cell_type": "code",
   "execution_count": null,
   "id": "f790782d",
   "metadata": {},
   "outputs": [],
   "source": []
  }
 ],
 "metadata": {
  "kernelspec": {
   "display_name": "Python 3 (ipykernel)",
   "language": "python",
   "name": "python3"
  },
  "language_info": {
   "codemirror_mode": {
    "name": "ipython",
    "version": 3
   },
   "file_extension": ".py",
   "mimetype": "text/x-python",
   "name": "python",
   "nbconvert_exporter": "python",
   "pygments_lexer": "ipython3",
   "version": "3.8.16"
  }
 },
 "nbformat": 4,
 "nbformat_minor": 5
}
