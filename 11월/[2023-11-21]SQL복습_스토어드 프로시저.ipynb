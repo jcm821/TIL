{
 "cells": [
  {
   "cell_type": "markdown",
   "id": "e2aeffa4-ea2f-4ff6-b7dc-da0a35820440",
   "metadata": {},
   "source": [
    "# 스토어드 프로시저 사용 방법"
   ]
  },
  {
   "cell_type": "markdown",
   "id": "d6434391-1fa2-4979-a175-6eda90a2c25d",
   "metadata": {},
   "source": [
    "## 스토어드 프로시저 기본"
   ]
  },
  {
   "cell_type": "markdown",
   "id": "44ecc214-8dff-4ad0-974b-12a12983ef55",
   "metadata": {},
   "source": [
    "### 스토어드 프로시저의 개념과 형식"
   ]
  },
  {
   "cell_type": "markdown",
   "id": "14dc22df-f346-4326-afbf-fcdb9cba3c83",
   "metadata": {},
   "source": [
    "* 스토어드 프로시저: MySQL에서 제공하는 프로그래밍 기능\n",
    "* 쿼리 문의 집합, 어떠한 동작을 일괄 처리하기 위한 용도로 사용\n",
    "* 자주 사용하는 일반적인 쿼리를 반복하는 것보다는 스토어드 프로시저로 묶어놓고, 필요할 때마다 간단히 호출만 하면 편리하게 MySQL운영 가능"
   ]
  },
  {
   "cell_type": "code",
   "execution_count": null,
   "id": "3bba3648-2365-4346-b0b6-45b1cc160290",
   "metadata": {},
   "outputs": [],
   "source": [
    "# 스토어드 프로시저 기본 형식\n",
    "# $$는 1개만 사용해도 되지만, 명확하게 표시하기 위해 2개 사용(##, %%, &&, //등으로 변경 가능)\n",
    "DELIMITTER $$\n",
    "CREATE PROCEDURE 스토어드_프로시저_이름(IN 또는 OUT 매개변수)\n",
    "BEGIN\n",
    "<코드 작성 부분>\n",
    "END $$\n",
    "DELIMITER ;"
   ]
  },
  {
   "cell_type": "markdown",
   "id": "885b52d0-109f-4973-a0c9-0507e841dc4b",
   "metadata": {},
   "source": [
    "#### DELIMITER의 의미\n",
    "* '구분자'의 의미를 가짐\n",
    "* 기본적으로 세미콜론 사용, 스토어드 프로시저 안에 있는 많은 SQL의 끝에도 세미콜론 사용\n",
    "* 세미콜론이 나왔을 때 이것이 SQL의 끝인지, 스토어드 프로시저의 끝인지 모호\n",
    "* 구분자를 바꿔서 그 구분자가 나올 때까지는 스토어드 프로시저가 끝난 것이 아니라는 것을 표시\n",
    "* 즉, 세미콜론은 SQL의 끝으로만 표시, $$는 스토어드 프로시저의 끝으로 사용, 그리고 마지막 행에서 DELIMITER를 세미콜론으로 바꿔주면 원래대로 MySQL의 구분자가 세미콜론으로 돌아옴"
   ]
  },
  {
   "cell_type": "markdown",
   "id": "dff975ff-a9f8-484c-8225-620f4e8f52c7",
   "metadata": {},
   "source": [
    "* 스토어드 프로시저 호출"
   ]
  },
  {
   "cell_type": "code",
   "execution_count": null,
   "id": "5074c418-3f9c-4192-890e-33a3f3a2a3f7",
   "metadata": {},
   "outputs": [],
   "source": [
    "# 호출 방법\n",
    "CALL 스토어드_프로시저_이름();"
   ]
  },
  {
   "cell_type": "markdown",
   "id": "a54d073c-07d9-4ece-92a9-4cc4f504104f",
   "metadata": {},
   "source": [
    "### 스토어드 프로시저의 생성"
   ]
  },
  {
   "cell_type": "code",
   "execution_count": null,
   "id": "cf538989-3143-43e4-b515-1cd14872cd16",
   "metadata": {
    "jp-MarkdownHeadingCollapsed": true
   },
   "outputs": [],
   "source": [
    "# 스토어드 프로시저 생성\n",
    "USE market_db;\n",
    "DROP PROCEDURE IF EXISTS user_proc;\n",
    "DELIMITER $$\n",
    "CREATE PROCEDURE user_proc()\n",
    "BEGIN\n",
    "\tSELECT * FROM member;\n",
    "END $$\n",
    "DELIMITER ;\n",
    "\n",
    "CALL user_proc();"
   ]
  },
  {
   "attachments": {
    "8a9a6636-0fff-470e-9ec3-64dd5cf18fa8.png": {
     "image/png": "[encoded data removed]"
    }
   },
   "cell_type": "markdown",
   "id": "835b7360-c40e-4428-939e-80a941aed0fc",
   "metadata": {},
   "source": [
    "![image.png](attachment:8a9a6636-0fff-470e-9ec3-64dd5cf18fa8.png)"
   ]
  },
  {
   "cell_type": "markdown",
   "id": "4fabcfc4-80c2-4c24-bf1c-d27d88d6661c",
   "metadata": {},
   "source": [
    "### 스토어드 프로시저 삭제"
   ]
  },
  {
   "cell_type": "code",
   "execution_count": null,
   "id": "c1fb466d-7845-4d46-9567-a888d18ec95c",
   "metadata": {},
   "outputs": [],
   "source": [
    "# 스토어드 프로시저 삭제\n",
    "DROP PROCEDURE user_proc;"
   ]
  },
  {
   "cell_type": "markdown",
   "id": "48e35670-2303-4080-ae05-2efcda7c00ca",
   "metadata": {},
   "source": [
    "## 스토어드 프로시저 실습"
   ]
  },
  {
   "cell_type": "markdown",
   "id": "fdbd7d23-48f4-484f-8f33-ae5ab6d44524",
   "metadata": {},
   "source": [
    "### 매개변수 사용"
   ]
  },
  {
   "cell_type": "markdown",
   "id": "ee8811c4-a622-4016-ba12-33ef708a8f5a",
   "metadata": {},
   "source": [
    "* 스토어드 프로시저에서는 실행 시 입력 매개변수를 지정할 수 있다.\n",
    "* 지정 형식은 다음과 같다."
   ]
  },
  {
   "cell_type": "code",
   "execution_count": null,
   "id": "cd6e17a0-144f-4d45-9d31-0167c0999139",
   "metadata": {},
   "outputs": [],
   "source": [
    "# 입력 매개변수 지정 형식\n",
    "IN 입력_매개변수_이름 데이터_형식"
   ]
  },
  {
   "cell_type": "code",
   "execution_count": null,
   "id": "7a5c5a15-337a-4e6b-a040-d05295ee67b7",
   "metadata": {},
   "outputs": [],
   "source": [
    "# 입력 매개변수가 있는 스토어드 프로시저를 실행하기 위해서 괄호 안에 값 전달\n",
    "CALL 프로시저_이름(전달 값);"
   ]
  },
  {
   "cell_type": "code",
   "execution_count": null,
   "id": "c27896b6-f436-42fe-b9ab-ac171c330b51",
   "metadata": {},
   "outputs": [],
   "source": [
    "# 출력 매개변수 형식\n",
    "OUT 출력_매개변수_이름 데이터_형식"
   ]
  },
  {
   "cell_type": "code",
   "execution_count": null,
   "id": "87bbf31f-06a8-42c0-9de6-56c66be6c354",
   "metadata": {},
   "outputs": [],
   "source": [
    "# 출력 매개변수가 있는 스토어드 프로시저를 실행\n",
    "CALL 프로시저_이름(@변수명);\n",
    "SELECT @변수명;"
   ]
  },
  {
   "cell_type": "code",
   "execution_count": null,
   "id": "99e270f5-6ba1-4158-92bb-18852c2494d4",
   "metadata": {},
   "outputs": [],
   "source": [
    "# 입력 매개변수 활용\n",
    "USE market_db;\n",
    "DROP PROCEDURE IF EXISTS user_proc1;\n",
    "DELIMITER $$\n",
    "CREATE PROCEDURE user_proc1(IN userName VARCHAR(10))\n",
    "BEGIN\n",
    "  SELECT * FROM member WHERE mem_name = userName; \n",
    "END $$\n",
    "DELIMITER ;\n",
    "\n",
    "CALL user_proc1('에이핑크');"
   ]
  },
  {
   "attachments": {
    "24fd1550-5d1b-4def-a991-a93c1d08e12d.png": {
     "image/png": "[encoded data removed]"
    }
   },
   "cell_type": "markdown",
   "id": "8a5f6dd4-ee03-4d40-adb5-3dba0701bf34",
   "metadata": {},
   "source": [
    "![image.png](attachment:24fd1550-5d1b-4def-a991-a93c1d08e12d.png)"
   ]
  },
  {
   "cell_type": "code",
   "execution_count": null,
   "id": "a9c53587-e60b-4879-bf58-fe620d411cfa",
   "metadata": {},
   "outputs": [],
   "source": [
    "# 2개의 입력 매개변수가 있는 스토어드 프로시저\n",
    "DROP PROCEDURE IF EXISTS user_proc2;\n",
    "DELIMITER $$\n",
    "CREATE PROCEDURE user_proc2(\n",
    "    IN userNumber INT, \n",
    "    IN userHeight INT  )\n",
    "BEGIN\n",
    "  SELECT * FROM member \n",
    "    WHERE mem_number > userNumber AND height > userHeight;\n",
    "END $$\n",
    "DELIMITER ;\n",
    "\n",
    "CALL user_proc2(6, 165);"
   ]
  },
  {
   "attachments": {
    "5a5f24db-48b5-4537-a118-f2ab85191594.png": {
     "image/png": "[encoded data removed]"
    }
   },
   "cell_type": "markdown",
   "id": "ccebbbf1-38c9-4232-89b9-19495451c999",
   "metadata": {},
   "source": [
    "![image.png](attachment:5a5f24db-48b5-4537-a118-f2ab85191594.png)"
   ]
  },
  {
   "cell_type": "code",
   "execution_count": null,
   "id": "707efbe9-e2ec-4d2c-bffd-3e184c9ef50d",
   "metadata": {},
   "outputs": [],
   "source": [
    "# 출력 매개변수 활용\n",
    "DROP PROCEDURE IF EXISTS user_proc3;\n",
    "DELIMITER $$\n",
    "CREATE PROCEDURE user_proc3(\n",
    "    IN txtValue CHAR(10),\n",
    "    OUT outValue INT     )\n",
    "BEGIN\n",
    "  INSERT INTO noTable VALUES(NULL,txtValue);\n",
    "  SELECT MAX(id) INTO outValue FROM noTable; \n",
    "END $$\n",
    "DELIMITER ;"
   ]
  },
  {
   "cell_type": "code",
   "execution_count": null,
   "id": "1a0bf787-6053-429c-aea7-3cdb55b0bc0d",
   "metadata": {},
   "outputs": [],
   "source": [
    "# noTable이 없다는 오류 발생\n",
    "DESC noTable;"
   ]
  },
  {
   "cell_type": "markdown",
   "id": "d1c03d73-47ac-488a-bffd-acc2f421511d",
   "metadata": {},
   "source": [
    "* 이상한 점은 앞에서 user_proc3은 오류없이 잘 만들어졌다는 점이다.\n",
    "* 스토어드 프로시저를 만드는 시점에는 아직 존재하지 않는 테이블을 사용해도 되나, CALL로 실행하는 시점에는 사용한 테이블이 있어야 한다."
   ]
  },
  {
   "cell_type": "markdown",
   "id": "e258a562-b502-4637-a5a0-1dc8b646a01c",
   "metadata": {},
   "source": [
    "* noTable을 만들어보자."
   ]
  },
  {
   "cell_type": "code",
   "execution_count": null,
   "id": "10f43755-ba32-4c5d-98ea-e73542510706",
   "metadata": {},
   "outputs": [],
   "source": [
    "# noTable 생성\n",
    "CREATE TABLE IF NOT EXISTS noTable(\n",
    "id INT AUTO_INCREMENT PRIMARY KEY,\n",
    "txt CHAR(10)\n",
    ");"
   ]
  },
  {
   "cell_type": "code",
   "execution_count": null,
   "id": "96a8db2d-6710-4936-af04-00593de7d55a",
   "metadata": {},
   "outputs": [],
   "source": [
    "# 스토어드 프로시저 호출\n",
    "# 출력 매개변수 위치에 @변수명 형태로 변수를 전달 -> 그 변수에 결과가 저장됨\n",
    "CALL user_proc3 ('테스트1', @myValue);\n",
    "SELECT CONCAT('입력된 ID 값 ==>', @myValue);"
   ]
  },
  {
   "attachments": {
    "942e5102-eea9-488a-be1b-0bc311f6b405.png": {
     "image/png": "[encoded data removed]"
    }
   },
   "cell_type": "markdown",
   "id": "de9c24cc-6c4a-48c9-b17a-e1f5c93ec369",
   "metadata": {},
   "source": [
    "![image.png](attachment:942e5102-eea9-488a-be1b-0bc311f6b405.png)"
   ]
  },
  {
   "cell_type": "markdown",
   "id": "80c7c103-328f-481d-8b0a-e4fb6267b882",
   "metadata": {},
   "source": [
    "### SQL 프로그래밍 활용"
   ]
  },
  {
   "cell_type": "markdown",
   "id": "2431ae68-ce39-4f3b-9552-6bb0006cf53a",
   "metadata": {},
   "source": [
    "* IF ~ ELSE문 사용\n",
    "* 가수 그룹의 데뷔 연도가 2015년 이전이며 '고참 가수', 2015년 이후(2015년 포함)이면 '신인 가수'를 출력하는 스토어드 프로시저 작성"
   ]
  },
  {
   "cell_type": "code",
   "execution_count": null,
   "id": "55ac36a2-4688-4b05-af97-f0c5fde7b216",
   "metadata": {},
   "outputs": [],
   "source": [
    "# IF ~ ELSE 문을 활용한 프로그래밍\n",
    "DROP PROCEDURE IF EXISTS ifelse_proc;\n",
    "DELIMITER $$\n",
    "CREATE PROCEDURE ifelse_proc(\n",
    "\tIN memName VARCHAR(10)\n",
    ")\n",
    "BEGIN\n",
    "\tDECLARE debutYear INT;  -- 변수선언\n",
    "    SELECT YEAR(debut_date) into debutYear FROM member\n",
    "\t\tWHERE mem_name = memName;\n",
    "\tIF (debutYear >= 2015) THEN\n",
    "\t\tSELECT '신인 가수네요. 화이팅 하세요.' AS '메시지';\n",
    "\tELSE\n",
    "\t\tSELECT '고참 가수네요. 그동안 수고하셨어요.' AS '메시지';\n",
    "\tEND IF;\n",
    "END $$\n",
    "DELIMITER ;\n",
    "\n",
    "CALL ifelse_proc('오마이걸');\n"
   ]
  },
  {
   "attachments": {
    "79a4f1a7-0382-467a-b772-0bf5525fc398.png": {
     "image/png": "[encoded data removed]"
    }
   },
   "cell_type": "markdown",
   "id": "e8ea1b8b-522c-4385-a5d2-8ff3e94c3140",
   "metadata": {},
   "source": [
    "![image.png](attachment:79a4f1a7-0382-467a-b772-0bf5525fc398.png)"
   ]
  },
  {
   "cell_type": "code",
   "execution_count": null,
   "id": "812718d5-d712-466b-8875-bb2b8ebdf288",
   "metadata": {},
   "outputs": [],
   "source": [
    "# 날짜와 관련된 MySQL 함수\n",
    "SELECT YEAR(CURDATE()), MONTH(CURDATE()), DAY(CURDATE());"
   ]
  },
  {
   "cell_type": "code",
   "execution_count": null,
   "id": "09eeb1f8-fe9e-4887-ab1a-56374ee46062",
   "metadata": {},
   "outputs": [],
   "source": [
    "# while문 활용한 스토어드 프로시저\n",
    "DROP PROCEDURE IF EXISTS while_proc;\n",
    "DELIMITER $$\n",
    "CREATE PROCEDURE while_proc()\n",
    "BEGIN\n",
    "\tDECLARE hap INT;\n",
    "    DECLARE num INT;\n",
    "    SET hap = 0;\n",
    "    SET num = 1;\n",
    "    \n",
    "    WHILE (num <= 100) DO -- 100까지 반복\n",
    "\t\tSET hap = hap + num;\n",
    "        SET num = num + 1; -- 숫자증가\n",
    "\tEND WHILE;\n",
    "    SELECT hap AS '1~100 합계';\n",
    "END $$\n",
    "DELIMITER ;\n",
    "\n",
    "CALL while_proc();"
   ]
  },
  {
   "attachments": {
    "4a61e8c0-d47d-4b86-a663-3be53cf4927b.png": {
     "image/png": "[encoded data removed]"
    }
   },
   "cell_type": "markdown",
   "id": "36df4963-8a69-48ad-bd2e-292194289c2c",
   "metadata": {},
   "source": [
    "![image.png](attachment:4a61e8c0-d47d-4b86-a663-3be53cf4927b.png)"
   ]
  },
  {
   "cell_type": "code",
   "execution_count": null,
   "id": "cf0eadad-fb91-4c28-815b-dcce32a6f301",
   "metadata": {},
   "outputs": [],
   "source": [
    "# 동적 SQL 활용\n",
    "DROP PROCEDURE IF EXISTS dynamic_proc;\n",
    "DELIMITER $$\n",
    "CREATE PROCEDURE dynamic_proc(\n",
    "\tIN tableName VARCHAR(20)\n",
    ")\n",
    "BEGIN\n",
    "\tSET @sqlQuery = CONCAT('SELECT * FROM ', tableName);\n",
    "    PREPARE myQuery FROM @sqlQuery;\n",
    "    EXECUTE myQuery;\n",
    "    DEALLOCATE PREPARE myQuery;\n",
    "END $$\n",
    "DELIMITER ;\n",
    "\n",
    "CALL dynamic_proc ('member');"
   ]
  },
  {
   "attachments": {
    "255aa0be-0f8b-4bb2-b269-a4bc70d274e3.png": {
     "image/png": "[encoded data removed]"
    }
   },
   "cell_type": "markdown",
   "id": "265d1bdb-18a5-44f5-b8fd-e9ce427599b9",
   "metadata": {},
   "source": [
    "![image.png](attachment:255aa0be-0f8b-4bb2-b269-a4bc70d274e3.png)"
   ]
  }
 ],
 "metadata": {
  "kernelspec": {
   "display_name": "Python 3 (ipykernel)",
   "language": "python",
   "name": "python3"
  },
  "language_info": {
   "codemirror_mode": {
    "name": "ipython",
    "version": 3
   },
   "file_extension": ".py",
   "mimetype": "text/x-python",
   "name": "python",
   "nbconvert_exporter": "python",
   "pygments_lexer": "ipython3",
   "version": "3.8.18"
  }
 },
 "nbformat": 4,
 "nbformat_minor": 5
}
