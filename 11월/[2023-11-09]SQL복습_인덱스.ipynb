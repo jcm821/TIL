{
 "cells": [
  {
   "cell_type": "markdown",
   "id": "e2882aee-777b-4b43-b8d7-cd575711505e",
   "metadata": {},
   "source": [
    "# 인덱스"
   ]
  },
  {
   "cell_type": "markdown",
   "id": "fb333c70-4683-4aa9-8fc5-039299fb2f8d",
   "metadata": {},
   "source": [
    "* 데이터를 빠르게 찾을 수 있도록 도와주는 도구\n",
    "* **클러스터형 인덱스**: 기본 키로 지정하면 자동 생성되며 테이블에 1개만 만들 수 있다.\n",
    "* **보조 인덱스**: 고유 키로 지정하면 자동 생성되며 여러 개를 만들 수 있지만 자동 정렬되지는 않는다."
   ]
  },
  {
   "cell_type": "markdown",
   "id": "5e7b2360-2c6c-4eea-a47f-84ed6d753719",
   "metadata": {},
   "source": [
    "## 인덱스의 개념"
   ]
  },
  {
   "cell_type": "markdown",
   "id": "72de6d2c-015e-49d4-ab35-c12352132bf0",
   "metadata": {},
   "source": [
    "* 책을 예로 들자면, 책의 내용 중 'UNIQUE'에 대해 찾아보고 싶다면 책의 제일 뒤에 있는 '찾아보기'를 열어볼 것이다.\n",
    "* 찾아보기는 ABC 또는 가나다 순으로 이미 정렬되어 있어 'U'부분을 살펴보면 쉽게 'UNIQUE'단어를 찾을 수 있고, 단어 옆에 본문의 페이지 번호가 적혀 있어서 원하는 내용으로 빨리 이동할 수 있다.\n",
    "* 찾아보기가 없는 경우엔 책을 첫 페이지부터 넘겨가며 확인하는 수 밖에 없을것이다."
   ]
  },
  {
   "cell_type": "markdown",
   "id": "bd15b14d-ca60-4179-8e9f-6781db934709",
   "metadata": {},
   "source": [
    "### 인덱스의 문제점"
   ]
  },
  {
   "cell_type": "markdown",
   "id": "184bb9b7-f16e-4a62-8b24-ac50bb158b8d",
   "metadata": {},
   "source": [
    "* 찾아보기에 만들지 않아도 될 단어들이 쌓이면 쓸데 없이 책의 두께만 두꺼워지고, 찾아보기를 사용했는데도 단어를 찾는 시간이 찾아보기를 사용하지 않을 때보다 오히려 더 오래 걸릴 수도 있다.\n",
    "* 실무에서도 필요 없는 인덱스를 만들게 된다면 데이터베이스가 차지하는 공간만 더 늘어나고, 인덱스를 이용해서 데이터를 찾는 것이 전체 테이블을 찾아보는 것보다 느려진다."
   ]
  },
  {
   "cell_type": "markdown",
   "id": "862e8f22-fcd3-4809-8ec7-a4a4b8bd956c",
   "metadata": {},
   "source": [
    "### 인덱스의 장점과 단점"
   ]
  },
  {
   "cell_type": "markdown",
   "id": "517182f4-a0be-4637-9dfc-b85f077c06cd",
   "metadata": {},
   "source": [
    "#### 장점\n",
    "* SELECT문으로 검색하는 속도가 매우 빨라진다.\n",
    "* 그 결과 컴퓨터의 부담이 줄어들어서 결국 전체 시스템의 성능이 향상된다."
   ]
  },
  {
   "cell_type": "markdown",
   "id": "3bdef973-2441-473c-98e8-e0a36c133754",
   "metadata": {},
   "source": [
    "#### 단점\n",
    "* 인덱스도 공간을 차지해서 데이터베이스 안에 추가적인 공간이 필요함(인덱스는 테이블 크기의 약 10% 정도의 공간이 추가로 필요)\n",
    "* 처음에 인덱스를 만드는 데 시간이 오래 걸릴 수 있다.(찾아보기가 없는 책에 새로 찾아보기를 만드는 것과 마찬가지로 작업 시간이 필요)\n",
    "* SELECT가 아닌 데이터의 변경 작업(INSERT, UPDATE, DELETE)이 자주 일어나면 오히려 성능이 나빠질 수 있다."
   ]
  },
  {
   "cell_type": "markdown",
   "id": "537cf42f-c587-46ef-b3f7-537ac1433c60",
   "metadata": {},
   "source": [
    "## 인덱스의 종류"
   ]
  },
  {
   "cell_type": "markdown",
   "id": "791a8b15-7ade-40c3-92fc-1214ad92bded",
   "metadata": {},
   "source": [
    "* **클러스터형 인덱스**: 영어사전과 같이 책의 내용이 이미 알파벳 순서로 정렬되어 있는 것\n",
    "* **보조 인덱스**: 책에 찾아보기가 별도로 있고, 찾아보기에서 해당 단어를 찾은 후에 옆에 표시된 페이지를 펼쳐야 실제 찾는 내용이 있는 것"
   ]
  },
  {
   "cell_type": "markdown",
   "id": "2ce303e5-7434-4b04-b11a-71b1b953f279",
   "metadata": {},
   "source": [
    "### 자동으로 생성되는 인덱스"
   ]
  },
  {
   "cell_type": "markdown",
   "id": "d7d4e94d-bbf2-4013-8a91-9978c3d3d47c",
   "metadata": {},
   "source": [
    "* 인덱스는 테이블의 열(컬럼) 단위에 생성되며, 하나의 열에는 하나의 인덱스를 생성할 수 있다.\n",
    "* 하나의 열에 여러 개의 인덱스를 생성할 수도 있고, 여러 개의 열을 묶어서 하나의 인덱스를 생성할 수도 있지만 드문 경우이다."
   ]
  },
  {
   "cell_type": "markdown",
   "id": "68723e51-5fbf-43ef-a048-b73e6e5de0e4",
   "metadata": {},
   "source": [
    "* 앞서 회원 테이블 정의 시 회원 아이디(mem_id)를 기본 키로 정의했다. 이렇게 기본 키로 지정하면 자동으로 mem_id 옆에 클러스터형 인덱스가 생성된다.\n",
    "* 그러나 기본 키는 테이블에 하나만 지정할 수 있다. -> 결국 클러스터형 인덱스는 테이블에 한 개만 만들 수 있다는 것이다."
   ]
  },
  {
   "cell_type": "code",
   "execution_count": null,
   "id": "529c99ca-2942-4524-9a0f-45e2d74e9dd6",
   "metadata": {},
   "outputs": [],
   "source": [
    "# 회원 테이블 정의 시에 선언한 SQL\n",
    "CREATE TABLE member\n",
    "(mem_id CHAR(8) NOT NULL PRIMARY KEY,\n",
    "mem_name VARCHAR(10) NOT NULL,\n",
    "mem_number INT NOT NULL,\n",
    "..."
   ]
  },
  {
   "cell_type": "code",
   "execution_count": null,
   "id": "09b59057-7dc4-4d8f-b0f0-11eb73f123bc",
   "metadata": {},
   "outputs": [],
   "source": [
    "# 테이블을 만들고 첫 번째 열을 기본 키로 지정\n",
    "USE market_db;\n",
    "CREATE TABLE table1(\n",
    "col1 INT PRIMARY KEY,\n",
    "col2 INT,\n",
    "col3 INT\n",
    ");"
   ]
  },
  {
   "cell_type": "code",
   "execution_count": null,
   "id": "b2d2d59a-2a20-4054-958f-39b4fad25bf6",
   "metadata": {},
   "outputs": [],
   "source": [
    "# SHOW INDEX문을 사용하여 인덱스 정보 확인\n",
    "SHOW INDEX FROM table1;"
   ]
  },
  {
   "cell_type": "markdown",
   "id": "d30f81aa-2b1d-400d-aae1-fa54157d3a1d",
   "metadata": {},
   "source": [
    "* Key_name 부분을 보면 PRIMARY라고 되어있음 -> 기본 키로 설정해서 '자동으로 생성된 인덱스'라는 의미이다.\n",
    "* 이것이 클러스터형 인덱스이다.\n",
    "* Column_name이 col1로 설정되어 있다는 것은 col1 열에 인덱스가 만들어져 있다는 의미\n",
    "* Non_unique는 '고유하지 않다'라는 뜻. 즉, 중복이 허용되냐는 것을 말한다. Unique가 0이라는 것은 False, 반대로 1은 True의 의미\n",
    "* 결론적으로 이 인덱스는 중복이 허용되지 않는 인덱스이다."
   ]
  },
  {
   "attachments": {
    "2f17d233-508c-4e74-8e4d-c40d30975db5.png": {
     "image/png": "[encoded data removed]"
    }
   },
   "cell_type": "markdown",
   "id": "07b6cb23-621e-4576-ac59-683aa2be284a",
   "metadata": {},
   "source": [
    "![image.png](attachment:2f17d233-508c-4e74-8e4d-c40d30975db5.png)"
   ]
  },
  {
   "cell_type": "markdown",
   "id": "8273cfab-f84e-44a9-b96b-98a90122423a",
   "metadata": {},
   "source": [
    "#### 고유 인덱스\n",
    "* 고유 인덱스(Unique Index)는 인덱스의 값이 중복되지 않는다는 의미, 단순 인덱스(Non-Unique Index)는 인덱스의 값이 중복되어도 된다는 의미이다.\n",
    "* 기본 키나 고유 키로 지정하면 값이 중복되지 않으므로 고유 인덱스가 생성된다. 그 외의 인덱스는 단순 인덱스로 생성됨"
   ]
  },
  {
   "cell_type": "markdown",
   "id": "3f5b9658-abf5-4966-9a4a-ea36d3d9a419",
   "metadata": {},
   "source": [
    "* 기본 키와 더불어 고유 키도 인덱스가 자동으로 생성된다."
   ]
  },
  {
   "cell_type": "code",
   "execution_count": null,
   "id": "0fa05cf7-92fa-4cba-918d-040c70d2566c",
   "metadata": {},
   "outputs": [],
   "source": [
    "# 고유 키도 인덱스가 자동 생성된다\n",
    "CREATE TABLE table2(\n",
    "col1 INT PRIMARY KEY,\n",
    "col2 INT UNIQUE,\n",
    "col3 INT UNIQUE\n",
    ");\n",
    "SHOW INDEX FROM table2;"
   ]
  },
  {
   "cell_type": "markdown",
   "id": "bcb76ff5-5bd5-4b52-bfef-e5246939f41b",
   "metadata": {},
   "source": [
    "* Key_name에 열 이름이 써 있는 것은 보조 인덱스\n",
    "* 보조 인덱스는 고유 키로 지정하면 자동으로 생성되며, 테이블당 여러 개 만들 수 있다."
   ]
  },
  {
   "attachments": {
    "efe241f2-d81e-48ee-b05f-49e492062fc7.png": {
     "image/png": "[encoded data removed]"
    }
   },
   "cell_type": "markdown",
   "id": "029ad477-cb27-4aa4-9e11-fe8cd0b0d6a0",
   "metadata": {},
   "source": [
    "![image.png](attachment:efe241f2-d81e-48ee-b05f-49e492062fc7.png)"
   ]
  },
  {
   "cell_type": "markdown",
   "id": "ea416499-767a-458d-be4c-ac8af7d202f9",
   "metadata": {},
   "source": [
    "### 자동으로 정렬되는 클러스터형 인덱스"
   ]
  },
  {
   "cell_type": "code",
   "execution_count": null,
   "id": "75e1f4bf-1f4e-4e83-aeae-bdae91cea1c3",
   "metadata": {},
   "outputs": [],
   "source": [
    "# 클러스터형 인덱스 예시\n",
    "USE market_db;\n",
    "DROP TABLE IF EXISTS buy, member;\n",
    "CREATE TABLE member\n",
    "(mem_id CHAR(8),\n",
    "mem_name VARCHAR(10),\n",
    "mem_number INT,\n",
    "addr CHAR(2)\n",
    ");"
   ]
  },
  {
   "cell_type": "code",
   "execution_count": null,
   "id": "cf84a2ac-9897-4961-abf0-3726670fb619",
   "metadata": {},
   "outputs": [],
   "source": [
    "# 데이터 삽입\n",
    "INSERT INTO member VALUES('TWC', '트와이스', 9, '서울');\n",
    "INSERT INTO member VALUES('BLK', '블랙핑크', 4, '경남');\n",
    "INSERT INTO member VALUES('WMN', '여자친구', 6, '경기');\n",
    "INSERT INTO member VALUES('OMY', '오마이걸', 7, '서울');\n",
    "SELECT * FROM member;"
   ]
  },
  {
   "attachments": {
    "a7800cd7-6696-478a-8fc4-7de6de6412d2.png": {
     "image/png": "[encoded data removed]"
    }
   },
   "cell_type": "markdown",
   "id": "dae877f9-99dc-430d-84e7-c216d1785e4d",
   "metadata": {},
   "source": [
    "![image.png](attachment:a7800cd7-6696-478a-8fc4-7de6de6412d2.png)"
   ]
  },
  {
   "cell_type": "code",
   "execution_count": null,
   "id": "be817b8f-9c25-4b97-8233-9bad01c41f69",
   "metadata": {},
   "outputs": [],
   "source": [
    "# 아이디를 기준으로 정렬 순서 변경\n",
    "ALTER TABLE member\n",
    "ADD CONSTRAINT\n",
    "PRIMARY KEY (mem_id);\n",
    "SELECT * FROM member;"
   ]
  },
  {
   "cell_type": "markdown",
   "id": "652b47a3-9c6c-4f98-9840-47f7e8e9c6af",
   "metadata": {},
   "source": [
    "* mem_id 열을 기본 키로 지정했으므로 mem_id 열에 클러스터형 인덱스가 생성되어 mem_id 열을 기준으로 정렬되었다.\n",
    "* 클러스터형 인덱스가 생성된 열로 데이터가 자동 정렬된다."
   ]
  },
  {
   "attachments": {
    "d916daa8-bfc1-4b62-aae2-d3a38951cb1a.png": {
     "image/png": "[encoded data removed]"
    }
   },
   "cell_type": "markdown",
   "id": "1eb4a30b-c27a-4644-8e1e-4ea9e7c817b4",
   "metadata": {},
   "source": [
    "![image.png](attachment:d916daa8-bfc1-4b62-aae2-d3a38951cb1a.png)"
   ]
  },
  {
   "cell_type": "code",
   "execution_count": null,
   "id": "7a927b94-3b18-4bcc-9184-0fc76c41c6f0",
   "metadata": {},
   "outputs": [],
   "source": [
    "# mem_id열의 Primary Key를 제거하고, mem_name열을 Primary Key로 지정\n",
    "# 기본 키 제거\n",
    "ALTER TABLE member DROP PRIMARY KEY;\n",
    "ALTER TABLE member\n",
    "# 클러스터형 인덱스 생성\n",
    "ADD CONSTRAINT\n",
    "PRIMARY KEY(mem_name);\n",
    "SELECT * FROM member;"
   ]
  },
  {
   "attachments": {
    "92c35d00-c15c-424e-8298-355cc1e98935.png": {
     "image/png": "[encoded data removed]"
    }
   },
   "cell_type": "markdown",
   "id": "e04ebce9-fe97-4efb-bd5d-a20da0a8cb4f",
   "metadata": {},
   "source": [
    "![image.png](attachment:92c35d00-c15c-424e-8298-355cc1e98935.png)"
   ]
  },
  {
   "cell_type": "code",
   "execution_count": null,
   "id": "8e3ceb45-6dec-4bb2-a784-9b67ff67ff30",
   "metadata": {},
   "outputs": [],
   "source": [
    "# 추가로 데이터를 입력하면 알아서 기준에 맞춰 정렬된다\n",
    "INSERT INTO member VALUES('GRL', '소녀시개', 8, '서울');\n",
    "SELECT * FROM member;"
   ]
  },
  {
   "cell_type": "markdown",
   "id": "39ac4d3e-e331-4c1d-9b80-f9f3bf74e024",
   "metadata": {},
   "source": [
    "* 클러스터형 인덱스는 테이블에 1개만 생성할 수 있다. 기본 키가 테이블에 1개인 것과 마찬가지이다."
   ]
  },
  {
   "attachments": {
    "c49b044a-8ba7-48c8-9c86-ee4dd925a01f.png": {
     "image/png": "[encoded data removed]"
    }
   },
   "cell_type": "markdown",
   "id": "5062f917-6520-4ad9-b9e3-61a3e8cffd3c",
   "metadata": {},
   "source": [
    "![image.png](attachment:c49b044a-8ba7-48c8-9c86-ee4dd925a01f.png)"
   ]
  },
  {
   "cell_type": "markdown",
   "id": "78080a78-5cc7-4956-a9f3-84f5bee0f9b7",
   "metadata": {},
   "source": [
    "#### 기본 키 변경 시 주의할 점"
   ]
  },
  {
   "cell_type": "markdown",
   "id": "6829a380-a546-4332-870d-702c75e1ce85",
   "metadata": {},
   "source": [
    "* 이미 대용량의 데이터가 있는 상태에서 기본 키를 지정하면 시간이 매우 오래 걸릴 수 있다.\n",
    "* 앞의 예시에선 회원 이름 열을 기본 키로 변경했지만, 논리적으로 위험함 -> 기본 키는 중복되지 않아야 하는데, 회원 이름은 당연히 중복될 수 있기 때문"
   ]
  },
  {
   "cell_type": "markdown",
   "id": "25e992d2-0b74-4f2d-bafd-bd982446af5d",
   "metadata": {},
   "source": [
    "### 정렬되지 않는 보조 인덱스"
   ]
  },
  {
   "cell_type": "code",
   "execution_count": null,
   "id": "56d2c521-09c2-4aa7-9494-5189459452c0",
   "metadata": {},
   "outputs": [],
   "source": [
    "# 보조 인덱스 예시\n",
    "DROP TABLE IF EXISTS member;\n",
    "CREATE TABLE member\n",
    "(mem_id CHAR(8),\n",
    "mem_name VARCHAR(10),\n",
    "mem_number INT,\n",
    "addr CHAR(2)\n",
    ");"
   ]
  },
  {
   "cell_type": "code",
   "execution_count": null,
   "id": "771916d4-d7ad-4bec-8246-d0d041ddefce",
   "metadata": {},
   "outputs": [],
   "source": [
    "# 데이터 입력\n",
    "INSERT INTO member VALUES('TWC', '트와이스', 9, '서울');\n",
    "INSERT INTO member VALUES('BLK', '블랙핑크', 4, '경남');\n",
    "INSERT INTO member VALUES('WMN', '여자친구', 6, '경기');\n",
    "INSERT INTO member VALUES('OMY', '오마이걸', 7, '서울');\n",
    "SELECT * FROM member;"
   ]
  },
  {
   "attachments": {
    "bfd58b6e-5a54-409b-962c-0590d13b7e11.png": {
     "image/png": "[encoded data removed]"
    }
   },
   "cell_type": "markdown",
   "id": "bcb07329-f456-4c3e-aa4f-87ad47b39ee4",
   "metadata": {},
   "source": [
    "![image.png](attachment:bfd58b6e-5a54-409b-962c-0590d13b7e11.png)"
   ]
  },
  {
   "cell_type": "code",
   "execution_count": null,
   "id": "45eed6de-3175-4f46-a01b-58a59689ba5f",
   "metadata": {},
   "outputs": [],
   "source": [
    "# mem_id열을 고유 키로 설정하고 내용 확인\n",
    "ALTER TABLE member\n",
    "ADD CONSTRAINT\n",
    "UNIQUE(mem_id);\n",
    "SELECT * FROM member;"
   ]
  },
  {
   "cell_type": "markdown",
   "id": "33e227b6-6147-4c44-86c3-be5fde38856d",
   "metadata": {},
   "source": [
    "* 데이터의 순서엔 변화가 없다.\n",
    "* 보조 인덱스를 생성해도 데이터의 순서는 변경되지 않고 별도로 인덱스를 만드는 것"
   ]
  },
  {
   "attachments": {
    "f5005fff-a603-4c10-b8a2-f47c22d973c2.png": {
     "image/png": "[encoded data removed]"
    }
   },
   "cell_type": "markdown",
   "id": "6cd8f9b5-929e-4087-80b2-8dd47752d82a",
   "metadata": {},
   "source": [
    "![image.png](attachment:f5005fff-a603-4c10-b8a2-f47c22d973c2.png)"
   ]
  },
  {
   "cell_type": "code",
   "execution_count": null,
   "id": "64b95b66-2a60-484f-92e4-35c2505deb52",
   "metadata": {},
   "outputs": [],
   "source": [
    "# mem_name열에 추가로 고유 키 지정\n",
    "ALTER TABLE member\n",
    "ADD CONSTRAINT\n",
    "UNIQUE(mem_name);\n",
    "SELECT * FROM member;"
   ]
  },
  {
   "cell_type": "markdown",
   "id": "1d586b38-83a2-4e8d-992d-36003ec19869",
   "metadata": {},
   "source": [
    "* 결과를 보면 역시 데이터의 내용과 차례는 그대로이다.\n",
    "* 현재는 mem_id 열과 mem_name 열에 모두 보조 인덱스가 생성된 상태이다."
   ]
  },
  {
   "attachments": {
    "0a0f0528-c420-47ab-b762-668a7b42ccef.png": {
     "image/png": "[encoded data removed]"
    }
   },
   "cell_type": "markdown",
   "id": "3c7514ef-2a6f-4fb6-a869-30068b03f376",
   "metadata": {},
   "source": [
    "![image.png](attachment:0a0f0528-c420-47ab-b762-668a7b42ccef.png)"
   ]
  },
  {
   "cell_type": "code",
   "execution_count": null,
   "id": "d85fd060-fa14-4367-bde8-41879b2fe689",
   "metadata": {},
   "outputs": [],
   "source": [
    "# 데이터 추가 입력\n",
    "INSERT INTO member VALUES('GRL', '소녀시대', 8, '서울');\n",
    "SELECT * FROM member;"
   ]
  },
  {
   "cell_type": "markdown",
   "id": "5c31c6b8-4858-4501-a3f4-0702b6fb81f8",
   "metadata": {},
   "source": [
    "* 데이터를 추가로 입력하면 일반 책에 새로운 내용이 추가되면 본문의 제일 뒤에 추가되는 것과 동일"
   ]
  },
  {
   "attachments": {
    "b987673c-6ac9-4776-9033-1d89c59b5c6a.png": {
     "image/png": "[encoded data removed]"
    }
   },
   "cell_type": "markdown",
   "id": "9af66af1-06a6-47be-a6cb-0de3003b0cc5",
   "metadata": {},
   "source": [
    "![image.png](attachment:b987673c-6ac9-4776-9033-1d89c59b5c6a.png)"
   ]
  },
  {
   "cell_type": "markdown",
   "id": "182808e3-ee78-4a31-90af-b4935681f419",
   "metadata": {},
   "source": [
    "* 보조 인덱스는 여러 개 만들 수 있다. 고유 키를 테이블에 여러 개 지정하는 것과 마찬가지이다.\n",
    "* 그러나 보조 인덱스를 만들 때마다 데이터베이스의 공간을 차지하게 되고, 전반적으로 시스템에 오히려 나쁜 영향을 미치게 된다.\n",
    "* 그러므로 꼭 필요한 열에만 적절히 보조 인덱스를 생성하는 것이 좋다."
   ]
  }
 ],
 "metadata": {
  "kernelspec": {
   "display_name": "Python 3 (ipykernel)",
   "language": "python",
   "name": "python3"
  },
  "language_info": {
   "codemirror_mode": {
    "name": "ipython",
    "version": 3
   },
   "file_extension": ".py",
   "mimetype": "text/x-python",
   "name": "python",
   "nbconvert_exporter": "python",
   "pygments_lexer": "ipython3",
   "version": "3.8.18"
  }
 },
 "nbformat": 4,
 "nbformat_minor": 5
}
