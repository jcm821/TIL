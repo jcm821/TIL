{
 "cells": [
  {
   "cell_type": "markdown",
   "id": "225ccd77-5082-4663-91fb-955d093bd533",
   "metadata": {},
   "source": [
    "# 이기적 빅데이터 분석기사 실기"
   ]
  },
  {
   "cell_type": "markdown",
   "id": "706815c8-9bea-4b0d-83a1-84126cc1ff50",
   "metadata": {},
   "source": [
    "## 작업형 2유형 - 기출문제 6회(23.06.24)"
   ]
  },
  {
   "cell_type": "code",
   "execution_count": 1,
   "id": "d09c97d6-2130-4432-a5b8-6b3f39242245",
   "metadata": {},
   "outputs": [],
   "source": [
    "# 학생들의 생활패턴과 신체, 거주지역 등에 대한 데이터\n",
    "# 학생 530명에 대한 학습용 데이터를 이용하여 학생 구분(유치원생, 초등학생, 중학생, 고등학생, 대학생) 예측 모형을 만든 후, \n",
    "# 이를 평가용 데이터에 적용하여 얻은 230명 학생의 구분을 다음과 같은 형식의 CSV 파일로 만드시오\n",
    "# 구분예측\n",
    "# 중학생\n",
    "# 초등학생\n",
    "# 대학생\n",
    "# 고등학생\n",
    "# ..."
   ]
  },
  {
   "cell_type": "markdown",
   "id": "c68e3f0c-9c18-4193-8b3b-93ee242f7a58",
   "metadata": {},
   "source": [
    "### 데이터 확인"
   ]
  },
  {
   "cell_type": "code",
   "execution_count": 2,
   "id": "f76e61aa-296d-48e2-969c-2ecd422b8c54",
   "metadata": {},
   "outputs": [],
   "source": [
    "# 라이브러리 불러오기\n",
    "import pandas as pd\n",
    "import numpy as np\n",
    "from sklearn.preprocessing import MinMaxScaler, StandardScaler\n",
    "from sklearn.ensemble import RandomForestClassifier\n",
    "from sklearn.ensemble import RandomForestRegressor\n",
    "from sklearn.metrics import mean_squared_error\n",
    "from sklearn.model_selection import train_test_split\n",
    "from sklearn.metrics import roc_auc_score, f1_score"
   ]
  },
  {
   "cell_type": "code",
   "execution_count": 3,
   "id": "8d426cc7-e336-4b94-ad69-ef3253082847",
   "metadata": {},
   "outputs": [
    {
     "data": {
      "text/html": [
       "<div>\n",
       "<style scoped>\n",
       "    .dataframe tbody tr th:only-of-type {\n",
       "        vertical-align: middle;\n",
       "    }\n",
       "\n",
       "    .dataframe tbody tr th {\n",
       "        vertical-align: top;\n",
       "    }\n",
       "\n",
       "    .dataframe thead th {\n",
       "        text-align: right;\n",
       "    }\n",
       "</style>\n",
       "<table border=\"1\" class=\"dataframe\">\n",
       "  <thead>\n",
       "    <tr style=\"text-align: right;\">\n",
       "      <th></th>\n",
       "      <th>일평균수면시간</th>\n",
       "      <th>일평균학습시간</th>\n",
       "      <th>일평균스마트폰사용시간</th>\n",
       "      <th>키</th>\n",
       "      <th>몸무게</th>\n",
       "      <th>체격</th>\n",
       "      <th>기초대사량</th>\n",
       "      <th>거주지역</th>\n",
       "      <th>구분</th>\n",
       "    </tr>\n",
       "  </thead>\n",
       "  <tbody>\n",
       "    <tr>\n",
       "      <th>0</th>\n",
       "      <td>7.35</td>\n",
       "      <td>7.74</td>\n",
       "      <td>4.8</td>\n",
       "      <td>Tall</td>\n",
       "      <td>52.050</td>\n",
       "      <td>L</td>\n",
       "      <td>1499.4</td>\n",
       "      <td>동구</td>\n",
       "      <td>고등학생</td>\n",
       "    </tr>\n",
       "    <tr>\n",
       "      <th>1</th>\n",
       "      <td>7.05</td>\n",
       "      <td>8.10</td>\n",
       "      <td>1.2</td>\n",
       "      <td>Tall</td>\n",
       "      <td>51.300</td>\n",
       "      <td>M</td>\n",
       "      <td>1624.4</td>\n",
       "      <td>서구</td>\n",
       "      <td>중학생</td>\n",
       "    </tr>\n",
       "    <tr>\n",
       "      <th>2</th>\n",
       "      <td>7.35</td>\n",
       "      <td>7.74</td>\n",
       "      <td>3.0</td>\n",
       "      <td>Tall</td>\n",
       "      <td>51.285</td>\n",
       "      <td>L</td>\n",
       "      <td>1499.4</td>\n",
       "      <td>동구</td>\n",
       "      <td>고등학생</td>\n",
       "    </tr>\n",
       "    <tr>\n",
       "      <th>3</th>\n",
       "      <td>8.58</td>\n",
       "      <td>6.66</td>\n",
       "      <td>4.8</td>\n",
       "      <td>Short</td>\n",
       "      <td>25.545</td>\n",
       "      <td>XS</td>\n",
       "      <td>1249.5</td>\n",
       "      <td>서구</td>\n",
       "      <td>초등학생</td>\n",
       "    </tr>\n",
       "    <tr>\n",
       "      <th>4</th>\n",
       "      <td>7.05</td>\n",
       "      <td>8.10</td>\n",
       "      <td>4.8</td>\n",
       "      <td>Tall</td>\n",
       "      <td>54.150</td>\n",
       "      <td>M</td>\n",
       "      <td>1624.4</td>\n",
       "      <td>서구</td>\n",
       "      <td>대학생</td>\n",
       "    </tr>\n",
       "  </tbody>\n",
       "</table>\n",
       "</div>"
      ],
      "text/plain": [
       "   일평균수면시간  일평균학습시간  일평균스마트폰사용시간      키     몸무게  체격   기초대사량 거주지역    구분\n",
       "0     7.35     7.74          4.8   Tall  52.050   L  1499.4   동구  고등학생\n",
       "1     7.05     8.10          1.2   Tall  51.300   M  1624.4   서구   중학생\n",
       "2     7.35     7.74          3.0   Tall  51.285   L  1499.4   동구  고등학생\n",
       "3     8.58     6.66          4.8  Short  25.545  XS  1249.5   서구  초등학생\n",
       "4     7.05     8.10          4.8   Tall  54.150   M  1624.4   서구   대학생"
      ]
     },
     "metadata": {},
     "output_type": "display_data"
    },
    {
     "data": {
      "text/html": [
       "<div>\n",
       "<style scoped>\n",
       "    .dataframe tbody tr th:only-of-type {\n",
       "        vertical-align: middle;\n",
       "    }\n",
       "\n",
       "    .dataframe tbody tr th {\n",
       "        vertical-align: top;\n",
       "    }\n",
       "\n",
       "    .dataframe thead th {\n",
       "        text-align: right;\n",
       "    }\n",
       "</style>\n",
       "<table border=\"1\" class=\"dataframe\">\n",
       "  <thead>\n",
       "    <tr style=\"text-align: right;\">\n",
       "      <th></th>\n",
       "      <th>일평균수면시간</th>\n",
       "      <th>일평균학습시간</th>\n",
       "      <th>일평균스마트폰사용시간</th>\n",
       "      <th>키</th>\n",
       "      <th>몸무게</th>\n",
       "      <th>체격</th>\n",
       "      <th>기초대사량</th>\n",
       "      <th>거주지역</th>\n",
       "    </tr>\n",
       "  </thead>\n",
       "  <tbody>\n",
       "    <tr>\n",
       "      <th>0</th>\n",
       "      <td>7.97</td>\n",
       "      <td>7.11</td>\n",
       "      <td>1.2</td>\n",
       "      <td>Tall</td>\n",
       "      <td>51.375</td>\n",
       "      <td>L</td>\n",
       "      <td>1749.3</td>\n",
       "      <td>북구</td>\n",
       "    </tr>\n",
       "    <tr>\n",
       "      <th>1</th>\n",
       "      <td>9.80</td>\n",
       "      <td>5.76</td>\n",
       "      <td>1.2</td>\n",
       "      <td>Short</td>\n",
       "      <td>28.710</td>\n",
       "      <td>XS</td>\n",
       "      <td>1749.3</td>\n",
       "      <td>북구</td>\n",
       "    </tr>\n",
       "    <tr>\n",
       "      <th>2</th>\n",
       "      <td>7.66</td>\n",
       "      <td>7.38</td>\n",
       "      <td>1.2</td>\n",
       "      <td>Tall</td>\n",
       "      <td>36.915</td>\n",
       "      <td>L</td>\n",
       "      <td>1624.4</td>\n",
       "      <td>남구</td>\n",
       "    </tr>\n",
       "    <tr>\n",
       "      <th>3</th>\n",
       "      <td>9.50</td>\n",
       "      <td>5.94</td>\n",
       "      <td>3.0</td>\n",
       "      <td>Short</td>\n",
       "      <td>24.045</td>\n",
       "      <td>XS</td>\n",
       "      <td>1624.4</td>\n",
       "      <td>동구</td>\n",
       "    </tr>\n",
       "    <tr>\n",
       "      <th>4</th>\n",
       "      <td>6.44</td>\n",
       "      <td>8.82</td>\n",
       "      <td>3.0</td>\n",
       "      <td>Tall</td>\n",
       "      <td>45.180</td>\n",
       "      <td>S</td>\n",
       "      <td>1499.4</td>\n",
       "      <td>서구</td>\n",
       "    </tr>\n",
       "  </tbody>\n",
       "</table>\n",
       "</div>"
      ],
      "text/plain": [
       "   일평균수면시간  일평균학습시간  일평균스마트폰사용시간      키     몸무게  체격   기초대사량 거주지역\n",
       "0     7.97     7.11          1.2   Tall  51.375   L  1749.3   북구\n",
       "1     9.80     5.76          1.2  Short  28.710  XS  1749.3   북구\n",
       "2     7.66     7.38          1.2   Tall  36.915   L  1624.4   남구\n",
       "3     9.50     5.94          3.0  Short  24.045  XS  1624.4   동구\n",
       "4     6.44     8.82          3.0   Tall  45.180   S  1499.4   서구"
      ]
     },
     "metadata": {},
     "output_type": "display_data"
    }
   ],
   "source": [
    "# 데이터 불러오기\n",
    "train = pd.read_csv('C:/Users/chunc/Desktop/빅분기 연습/dataset-main/data_6_2_train.csv')\n",
    "test = pd.read_csv('C:/Users/chunc/Desktop/빅분기 연습/dataset-main/data_6_2_test.csv')\n",
    "display(train.head())\n",
    "display(test.head())"
   ]
  },
  {
   "cell_type": "markdown",
   "id": "6d2c18cb-15ef-44aa-aadc-62dd26583fcf",
   "metadata": {},
   "source": [
    "### EDA"
   ]
  },
  {
   "cell_type": "code",
   "execution_count": 4,
   "id": "972ef2fd-1c41-4c95-afef-a4741eb88d67",
   "metadata": {},
   "outputs": [
    {
     "name": "stdout",
     "output_type": "stream",
     "text": [
      "<class 'pandas.core.frame.DataFrame'>\n",
      "RangeIndex: 530 entries, 0 to 529\n",
      "Data columns (total 9 columns):\n",
      " #   Column       Non-Null Count  Dtype  \n",
      "---  ------       --------------  -----  \n",
      " 0   일평균수면시간      530 non-null    float64\n",
      " 1   일평균학습시간      530 non-null    float64\n",
      " 2   일평균스마트폰사용시간  530 non-null    float64\n",
      " 3   키            530 non-null    object \n",
      " 4   몸무게          530 non-null    float64\n",
      " 5   체격           530 non-null    object \n",
      " 6   기초대사량        530 non-null    float64\n",
      " 7   거주지역         530 non-null    object \n",
      " 8   구분           530 non-null    object \n",
      "dtypes: float64(5), object(4)\n",
      "memory usage: 37.4+ KB\n"
     ]
    }
   ],
   "source": [
    "# train데이터 타입 확인\n",
    "train.info()"
   ]
  },
  {
   "cell_type": "code",
   "execution_count": 5,
   "id": "c6d9f4b1-4d65-45db-ace7-0e2d50a52fb3",
   "metadata": {},
   "outputs": [
    {
     "data": {
      "text/html": [
       "<div>\n",
       "<style scoped>\n",
       "    .dataframe tbody tr th:only-of-type {\n",
       "        vertical-align: middle;\n",
       "    }\n",
       "\n",
       "    .dataframe tbody tr th {\n",
       "        vertical-align: top;\n",
       "    }\n",
       "\n",
       "    .dataframe thead th {\n",
       "        text-align: right;\n",
       "    }\n",
       "</style>\n",
       "<table border=\"1\" class=\"dataframe\">\n",
       "  <thead>\n",
       "    <tr style=\"text-align: right;\">\n",
       "      <th></th>\n",
       "      <th>키</th>\n",
       "      <th>체격</th>\n",
       "      <th>거주지역</th>\n",
       "      <th>구분</th>\n",
       "    </tr>\n",
       "  </thead>\n",
       "  <tbody>\n",
       "    <tr>\n",
       "      <th>count</th>\n",
       "      <td>530</td>\n",
       "      <td>530</td>\n",
       "      <td>530</td>\n",
       "      <td>530</td>\n",
       "    </tr>\n",
       "    <tr>\n",
       "      <th>unique</th>\n",
       "      <td>2</td>\n",
       "      <td>4</td>\n",
       "      <td>4</td>\n",
       "      <td>5</td>\n",
       "    </tr>\n",
       "    <tr>\n",
       "      <th>top</th>\n",
       "      <td>Tall</td>\n",
       "      <td>XS</td>\n",
       "      <td>남구</td>\n",
       "      <td>유치원생</td>\n",
       "    </tr>\n",
       "    <tr>\n",
       "      <th>freq</th>\n",
       "      <td>277</td>\n",
       "      <td>253</td>\n",
       "      <td>145</td>\n",
       "      <td>140</td>\n",
       "    </tr>\n",
       "  </tbody>\n",
       "</table>\n",
       "</div>"
      ],
      "text/plain": [
       "           키   체격 거주지역    구분\n",
       "count    530  530  530   530\n",
       "unique     2    4    4     5\n",
       "top     Tall   XS   남구  유치원생\n",
       "freq     277  253  145   140"
      ]
     },
     "execution_count": 5,
     "metadata": {},
     "output_type": "execute_result"
    }
   ],
   "source": [
    "# train데이터 기초통계 확인\n",
    "train.describe(include = 'object')"
   ]
  },
  {
   "cell_type": "code",
   "execution_count": 6,
   "id": "eaa893a0-ebe5-4980-a429-c50411ac5b2a",
   "metadata": {},
   "outputs": [
    {
     "data": {
      "text/plain": [
       "일평균수면시간        0\n",
       "일평균학습시간        0\n",
       "일평균스마트폰사용시간    0\n",
       "키              0\n",
       "몸무게            0\n",
       "체격             0\n",
       "기초대사량          0\n",
       "거주지역           0\n",
       "구분             0\n",
       "dtype: int64"
      ]
     },
     "execution_count": 6,
     "metadata": {},
     "output_type": "execute_result"
    }
   ],
   "source": [
    "# train 데이터 결측치 확인\n",
    "train.isnull().sum()"
   ]
  },
  {
   "cell_type": "code",
   "execution_count": 7,
   "id": "d594800a-0766-4856-a54f-8ae4c4288bff",
   "metadata": {},
   "outputs": [
    {
     "data": {
      "text/plain": [
       "구분\n",
       "유치원생    140\n",
       "초등학생    121\n",
       "고등학생    120\n",
       "대학생      78\n",
       "중학생      71\n",
       "Name: count, dtype: int64"
      ]
     },
     "execution_count": 7,
     "metadata": {},
     "output_type": "execute_result"
    }
   ],
   "source": [
    "# train 데이터 타겟 값 분포 확인\n",
    "train['구분'].value_counts()"
   ]
  },
  {
   "cell_type": "code",
   "execution_count": 8,
   "id": "af96ef9d-14c8-4b24-b4a4-f40161296cf6",
   "metadata": {},
   "outputs": [
    {
     "name": "stdout",
     "output_type": "stream",
     "text": [
      "<class 'pandas.core.frame.DataFrame'>\n",
      "RangeIndex: 230 entries, 0 to 229\n",
      "Data columns (total 8 columns):\n",
      " #   Column       Non-Null Count  Dtype  \n",
      "---  ------       --------------  -----  \n",
      " 0   일평균수면시간      230 non-null    float64\n",
      " 1   일평균학습시간      230 non-null    float64\n",
      " 2   일평균스마트폰사용시간  230 non-null    float64\n",
      " 3   키            230 non-null    object \n",
      " 4   몸무게          230 non-null    float64\n",
      " 5   체격           230 non-null    object \n",
      " 6   기초대사량        230 non-null    float64\n",
      " 7   거주지역         230 non-null    object \n",
      "dtypes: float64(5), object(3)\n",
      "memory usage: 14.5+ KB\n"
     ]
    }
   ],
   "source": [
    "# test 데이터 확인\n",
    "test.info()"
   ]
  },
  {
   "cell_type": "code",
   "execution_count": 9,
   "id": "de8eae16-073c-486d-ace1-99c64c543dd2",
   "metadata": {},
   "outputs": [
    {
     "data": {
      "text/html": [
       "<div>\n",
       "<style scoped>\n",
       "    .dataframe tbody tr th:only-of-type {\n",
       "        vertical-align: middle;\n",
       "    }\n",
       "\n",
       "    .dataframe tbody tr th {\n",
       "        vertical-align: top;\n",
       "    }\n",
       "\n",
       "    .dataframe thead th {\n",
       "        text-align: right;\n",
       "    }\n",
       "</style>\n",
       "<table border=\"1\" class=\"dataframe\">\n",
       "  <thead>\n",
       "    <tr style=\"text-align: right;\">\n",
       "      <th></th>\n",
       "      <th>키</th>\n",
       "      <th>체격</th>\n",
       "      <th>거주지역</th>\n",
       "    </tr>\n",
       "  </thead>\n",
       "  <tbody>\n",
       "    <tr>\n",
       "      <th>count</th>\n",
       "      <td>230</td>\n",
       "      <td>230</td>\n",
       "      <td>230</td>\n",
       "    </tr>\n",
       "    <tr>\n",
       "      <th>unique</th>\n",
       "      <td>2</td>\n",
       "      <td>4</td>\n",
       "      <td>4</td>\n",
       "    </tr>\n",
       "    <tr>\n",
       "      <th>top</th>\n",
       "      <td>Short</td>\n",
       "      <td>XS</td>\n",
       "      <td>북구</td>\n",
       "    </tr>\n",
       "    <tr>\n",
       "      <th>freq</th>\n",
       "      <td>126</td>\n",
       "      <td>126</td>\n",
       "      <td>74</td>\n",
       "    </tr>\n",
       "  </tbody>\n",
       "</table>\n",
       "</div>"
      ],
      "text/plain": [
       "            키   체격 거주지역\n",
       "count     230  230  230\n",
       "unique      2    4    4\n",
       "top     Short   XS   북구\n",
       "freq      126  126   74"
      ]
     },
     "execution_count": 9,
     "metadata": {},
     "output_type": "execute_result"
    }
   ],
   "source": [
    "# test 데이터 기초통계 확인\n",
    "test.describe(include = 'object')"
   ]
  },
  {
   "cell_type": "code",
   "execution_count": 10,
   "id": "b5aea073-c099-4ddb-b510-31933337054a",
   "metadata": {},
   "outputs": [
    {
     "data": {
      "text/plain": [
       "일평균수면시간        0\n",
       "일평균학습시간        0\n",
       "일평균스마트폰사용시간    0\n",
       "키              0\n",
       "몸무게            0\n",
       "체격             0\n",
       "기초대사량          0\n",
       "거주지역           0\n",
       "dtype: int64"
      ]
     },
     "execution_count": 10,
     "metadata": {},
     "output_type": "execute_result"
    }
   ],
   "source": [
    "# test 데이터 결측치 확인\n",
    "test.isnull().sum()"
   ]
  },
  {
   "cell_type": "markdown",
   "id": "6a3297aa-4ed9-439a-823d-25928d6ab7c9",
   "metadata": {},
   "source": [
    "### 데이터 전처리"
   ]
  },
  {
   "cell_type": "code",
   "execution_count": 11,
   "id": "edce6693-4c61-4b97-8bbd-4fb994795aab",
   "metadata": {},
   "outputs": [],
   "source": [
    "# train 데이터의 타겟 값 처리\n",
    "target = train.pop('구분')"
   ]
  },
  {
   "cell_type": "code",
   "execution_count": 12,
   "id": "9d3c602e-2ca2-40d4-8fe4-185fefe6649b",
   "metadata": {},
   "outputs": [
    {
     "name": "stdout",
     "output_type": "stream",
     "text": [
      "(530, 8) (230, 8)\n",
      "(530, 15) (230, 15)\n"
     ]
    }
   ],
   "source": [
    "# train/test 데이터 원핫 인코딩\n",
    "print(train.shape, test.shape)\n",
    "train = pd.get_dummies(train)\n",
    "test = pd.get_dummies(test)\n",
    "print(train.shape, test.shape)"
   ]
  },
  {
   "cell_type": "markdown",
   "id": "aef2f7f0-af24-4d51-b59e-86f5cecbc112",
   "metadata": {},
   "source": [
    "### 검증용 데이터 생성"
   ]
  },
  {
   "cell_type": "code",
   "execution_count": 13,
   "id": "04e8d858-8ed0-4a57-beba-de427347c486",
   "metadata": {},
   "outputs": [
    {
     "name": "stdout",
     "output_type": "stream",
     "text": [
      "(424, 15) (106, 15) (424,) (106,)\n"
     ]
    }
   ],
   "source": [
    "X_train, X_val, y_train, y_val = train_test_split(train, target, test_size = 0.2, random_state = 0)\n",
    "print(X_train.shape, X_val.shape, y_train.shape, y_val.shape)"
   ]
  },
  {
   "cell_type": "markdown",
   "id": "1626f7ec-c543-4c9b-9076-2b4c26e4a4e8",
   "metadata": {},
   "source": [
    "### 모델링"
   ]
  },
  {
   "cell_type": "code",
   "execution_count": 14,
   "id": "b672bd44-ad14-4d2a-bb84-64b86c8c4135",
   "metadata": {},
   "outputs": [
    {
     "data": {
      "text/plain": [
       "0.9317983948418732"
      ]
     },
     "execution_count": 14,
     "metadata": {},
     "output_type": "execute_result"
    }
   ],
   "source": [
    "# 분류 모델 생성\n",
    "rf = RandomForestClassifier(random_state = 0)\n",
    "rf.fit(X_train, y_train)\n",
    "pred = rf.predict(X_val)\n",
    "\n",
    "f1_score(y_val, pred, average = 'macro')"
   ]
  },
  {
   "cell_type": "code",
   "execution_count": 15,
   "id": "dbaf07bd-2ccd-4914-9314-0dbe8df87270",
   "metadata": {},
   "outputs": [],
   "source": [
    "# 테스트 데이터로 예측, 결과 파일 생성\n",
    "pred = rf.predict(test)\n",
    "result = pd.DataFrame({'pred': pred})\n",
    "result.to_csv('result.csv', index = False, encoding = \"utf-8-sig\")"
   ]
  },
  {
   "cell_type": "markdown",
   "id": "3a0741f1-ef46-4567-b0d4-b43890955bf2",
   "metadata": {},
   "source": [
    "## 작업형 2유형 - 기출문제 5회(22.12.03)"
   ]
  },
  {
   "cell_type": "code",
   "execution_count": 16,
   "id": "c39379eb-e6f0-40ba-a74c-28e54041d8bc",
   "metadata": {},
   "outputs": [],
   "source": [
    "# # used_car 데이터셋 - 중고차 관련한 정보 데이터\n",
    "# 주어진 학습용 데이터를 이용하여 중고차의 판매 가격을 예측하고,\n",
    "# 이를 평가용 데이터에 적용하여 얻은 예측 결과를 다음과 같은 형식의 CSV 파일로 생성하시오"
   ]
  },
  {
   "cell_type": "markdown",
   "id": "6e909044-0a92-4e21-95ee-49cdf462f0ed",
   "metadata": {},
   "source": [
    "### 데이터 확인"
   ]
  },
  {
   "cell_type": "code",
   "execution_count": 17,
   "id": "014f3929-5781-4b5a-a1e6-d4689250dad8",
   "metadata": {},
   "outputs": [
    {
     "data": {
      "text/html": [
       "<div>\n",
       "<style scoped>\n",
       "    .dataframe tbody tr th:only-of-type {\n",
       "        vertical-align: middle;\n",
       "    }\n",
       "\n",
       "    .dataframe tbody tr th {\n",
       "        vertical-align: top;\n",
       "    }\n",
       "\n",
       "    .dataframe thead th {\n",
       "        text-align: right;\n",
       "    }\n",
       "</style>\n",
       "<table border=\"1\" class=\"dataframe\">\n",
       "  <thead>\n",
       "    <tr style=\"text-align: right;\">\n",
       "      <th></th>\n",
       "      <th>id</th>\n",
       "      <th>model</th>\n",
       "      <th>year</th>\n",
       "      <th>transmission</th>\n",
       "      <th>mileage</th>\n",
       "      <th>fuelType</th>\n",
       "      <th>tax</th>\n",
       "      <th>mpg</th>\n",
       "      <th>engineSize</th>\n",
       "    </tr>\n",
       "  </thead>\n",
       "  <tbody>\n",
       "    <tr>\n",
       "      <th>0</th>\n",
       "      <td>1</td>\n",
       "      <td>A1</td>\n",
       "      <td>2019</td>\n",
       "      <td>Automatic</td>\n",
       "      <td>3500</td>\n",
       "      <td>Petrol</td>\n",
       "      <td>145</td>\n",
       "      <td>40.9</td>\n",
       "      <td>2.0</td>\n",
       "    </tr>\n",
       "    <tr>\n",
       "      <th>1</th>\n",
       "      <td>2</td>\n",
       "      <td>RS4</td>\n",
       "      <td>2020</td>\n",
       "      <td>Semi-Auto</td>\n",
       "      <td>2500</td>\n",
       "      <td>Petrol</td>\n",
       "      <td>145</td>\n",
       "      <td>28.8</td>\n",
       "      <td>2.9</td>\n",
       "    </tr>\n",
       "    <tr>\n",
       "      <th>2</th>\n",
       "      <td>3</td>\n",
       "      <td>A8</td>\n",
       "      <td>2019</td>\n",
       "      <td>Semi-Auto</td>\n",
       "      <td>500</td>\n",
       "      <td>Diesel</td>\n",
       "      <td>145</td>\n",
       "      <td>40.4</td>\n",
       "      <td>3.0</td>\n",
       "    </tr>\n",
       "    <tr>\n",
       "      <th>3</th>\n",
       "      <td>4</td>\n",
       "      <td>Q5</td>\n",
       "      <td>2019</td>\n",
       "      <td>Semi-Auto</td>\n",
       "      <td>5089</td>\n",
       "      <td>Diesel</td>\n",
       "      <td>150</td>\n",
       "      <td>38.2</td>\n",
       "      <td>2.0</td>\n",
       "    </tr>\n",
       "    <tr>\n",
       "      <th>4</th>\n",
       "      <td>5</td>\n",
       "      <td>A5</td>\n",
       "      <td>2020</td>\n",
       "      <td>Semi-Auto</td>\n",
       "      <td>4951</td>\n",
       "      <td>Diesel</td>\n",
       "      <td>145</td>\n",
       "      <td>51.4</td>\n",
       "      <td>2.0</td>\n",
       "    </tr>\n",
       "  </tbody>\n",
       "</table>\n",
       "</div>"
      ],
      "text/plain": [
       "   id model  year transmission  mileage fuelType  tax   mpg  engineSize\n",
       "0   1    A1  2019    Automatic     3500   Petrol  145  40.9         2.0\n",
       "1   2   RS4  2020    Semi-Auto     2500   Petrol  145  28.8         2.9\n",
       "2   3    A8  2019    Semi-Auto      500   Diesel  145  40.4         3.0\n",
       "3   4    Q5  2019    Semi-Auto     5089   Diesel  150  38.2         2.0\n",
       "4   5    A5  2020    Semi-Auto     4951   Diesel  145  51.4         2.0"
      ]
     },
     "metadata": {},
     "output_type": "display_data"
    }
   ],
   "source": [
    "# 데이터 불러오기\n",
    "X_test = pd.read_csv('C:/Users/chunc/Desktop/빅분기 연습/dataset-main/used_car_X_test.csv')\n",
    "X_train = pd.read_csv('C:/Users/chunc/Desktop/빅분기 연습/dataset-main/used_car_X_train.csv')\n",
    "y_train = pd.read_csv('C:/Users/chunc/Desktop/빅분기 연습/dataset-main/used_car_y_train.csv')\n",
    "display(X_train.head())"
   ]
  },
  {
   "cell_type": "code",
   "execution_count": 18,
   "id": "6ec354b3-06e1-4818-886b-68f7c822f01e",
   "metadata": {},
   "outputs": [
    {
     "name": "stdout",
     "output_type": "stream",
     "text": [
      " X_train: 0\n",
      " X_test: 0\n",
      " y_train: 0\n"
     ]
    }
   ],
   "source": [
    "# 각 데이터의 결측치 확인\n",
    "print(f' X_train: {X_train.isnull().sum().sum()}')\n",
    "print(f' X_test: {X_test.isnull().sum().sum()}')\n",
    "print(f' y_train: {y_train.isnull().sum().sum()}')"
   ]
  },
  {
   "cell_type": "markdown",
   "id": "4c93bc08-67bf-4056-8d2e-13b6fc11730c",
   "metadata": {},
   "source": [
    "### 데이터 전처리"
   ]
  },
  {
   "cell_type": "code",
   "execution_count": 19,
   "id": "67d05b6f-2999-4927-986f-1b7da17b7ff6",
   "metadata": {},
   "outputs": [
    {
     "name": "stdout",
     "output_type": "stream",
     "text": [
      "     model transmission fuelType\n",
      "0       A1    Automatic   Petrol\n",
      "1      RS4    Semi-Auto   Petrol\n",
      "2       A8    Semi-Auto   Diesel\n",
      "3       Q5    Semi-Auto   Diesel\n",
      "4       A5    Semi-Auto   Diesel\n",
      "...    ...          ...      ...\n",
      "7463    A3       Manual   Petrol\n",
      "7464    Q2       Manual   Diesel\n",
      "7465    A1    Semi-Auto   Petrol\n",
      "7466    Q3       Manual   Diesel\n",
      "7467    Q7    Automatic   Diesel\n",
      "\n",
      "[7468 rows x 3 columns]\n"
     ]
    }
   ],
   "source": [
    "# 데이터 나누기\n",
    "# 범주형 데이터\n",
    "X_train_word = X_train[['model', 'transmission', 'fuelType']]\n",
    "X_test_word = X_test[['model', 'transmission', 'fuelType']]\n",
    "print(X_train_word)"
   ]
  },
  {
   "cell_type": "code",
   "execution_count": 20,
   "id": "b41da16c-72cb-4ec7-87f5-dc20932c8dbf",
   "metadata": {},
   "outputs": [
    {
     "name": "stdout",
     "output_type": "stream",
     "text": [
      "      year  mileage  tax   mpg  engineSize\n",
      "0     2019     3500  145  40.9         2.0\n",
      "1     2020     2500  145  28.8         2.9\n",
      "2     2019      500  145  40.4         3.0\n",
      "3     2019     5089  150  38.2         2.0\n",
      "4     2020     4951  145  51.4         2.0\n",
      "...    ...      ...  ...   ...         ...\n",
      "7463  2016    22633   30  58.9         1.4\n",
      "7464  2017    13272  145  64.2         1.6\n",
      "7465  2019     5000  145  40.9         2.0\n",
      "7466  2019       10  145  42.8         2.0\n",
      "7467  2012    91229  300  39.2         3.0\n",
      "\n",
      "[7468 rows x 5 columns]\n"
     ]
    }
   ],
   "source": [
    "# 수치형 데이터\n",
    "X_train_num = X_train.drop(columns = ['id', 'model', 'transmission', 'fuelType'])\n",
    "X_test_num = X_test.drop(columns = ['id', 'model', 'transmission', 'fuelType'])\n",
    "print(X_train_num)"
   ]
  },
  {
   "cell_type": "markdown",
   "id": "730543eb-e33d-4008-8a1d-c41a2ee19449",
   "metadata": {},
   "source": [
    "### 데이터 스케일링"
   ]
  },
  {
   "cell_type": "code",
   "execution_count": 21,
   "id": "813cf99a-5031-49ba-a21b-b0bab6f779f2",
   "metadata": {},
   "outputs": [],
   "source": [
    "# Min-Max 스케일링 생성\n",
    "scaler = MinMaxScaler()\n",
    "\n",
    "# 선택한 특성에 MinMax 스케일러를 적용하고 데이터 변환\n",
    "X_train_scale = scaler.fit_transform(X_train_num)\n",
    "X_test_scale = scaler.fit_transform(X_test_num)\n",
    "\n",
    "# 데이터프레임 설정\n",
    "df_train_num = pd.DataFrame(X_train_scale, columns = X_train_num.columns)\n",
    "df_test_num = pd.DataFrame(X_test_scale, columns = X_test_num.columns)\n",
    "\n",
    "# 원핫 인코딩\n",
    "df_train_word = pd.get_dummies(X_train_word)\n",
    "df_test_word = pd.get_dummies(X_test_word)"
   ]
  },
  {
   "cell_type": "code",
   "execution_count": 22,
   "id": "1dacd298-d271-4697-9068-e8f9fded0d08",
   "metadata": {},
   "outputs": [],
   "source": [
    "# train 데이터프레임 컬럼목록\n",
    "train_columns = set(df_train_word.columns)\n",
    "\n",
    "# test 데이터프레임 컬럼목록\n",
    "test_columns = set(df_test_word.columns)"
   ]
  },
  {
   "cell_type": "code",
   "execution_count": 23,
   "id": "0ecc1a99-0e9c-49c7-88c9-ad464a0b47ff",
   "metadata": {},
   "outputs": [
    {
     "name": "stdout",
     "output_type": "stream",
     "text": [
      "컬럼 목록 중 테스트 데이터에 없는 컬럼:  {'model_ A2', 'model_ S8', 'model_ RS7', 'model_ S5'}\n",
      "컬럼 목록 중 훈련 데이터에 없는 컬럼:  set()\n"
     ]
    }
   ],
   "source": [
    "# train 데이터에는 있지만 test 데이터에는 없는 컬럼 확인\n",
    "missing_in_test = train_columns - test_columns\n",
    "\n",
    "# test 데이터에는 있지만 train 데이터에는 없는 컬럼 확인\n",
    "missing_in_train = test_columns - train_columns\n",
    "\n",
    "print('컬럼 목록 중 테스트 데이터에 없는 컬럼: ', missing_in_test)\n",
    "print('컬럼 목록 중 훈련 데이터에 없는 컬럼: ', missing_in_train)"
   ]
  },
  {
   "cell_type": "code",
   "execution_count": 24,
   "id": "fea73c91-6f4f-4691-8bd9-8e870e6b361e",
   "metadata": {},
   "outputs": [],
   "source": [
    "# 컬럼 목록 중 없는 컬럼의 값을 0으로 해서 채워줌\n",
    "df_test_word['model_ RS7'] = 0\n",
    "df_test_word['model_ S8'] = 0\n",
    "df_test_word['model_ A2'] = 0\n",
    "df_test_word['model_ S5'] = 0"
   ]
  },
  {
   "cell_type": "code",
   "execution_count": 25,
   "id": "b63549d9-1ad7-4f65-8891-2045d151c749",
   "metadata": {},
   "outputs": [
    {
     "name": "stdout",
     "output_type": "stream",
     "text": [
      "          year   mileage       tax       mpg  engineSize  model_ A1  \\\n",
      "0     0.954545  0.020825  0.250000  0.127811    0.317460       True   \n",
      "1     1.000000  0.014874  0.250000  0.056213    0.460317      False   \n",
      "2     0.954545  0.002970  0.250000  0.124852    0.476190      False   \n",
      "3     0.954545  0.030283  0.258621  0.111834    0.317460      False   \n",
      "4     1.000000  0.029461  0.250000  0.189941    0.317460      False   \n",
      "...        ...       ...       ...       ...         ...        ...   \n",
      "7463  0.818182  0.134701  0.051724  0.234320    0.222222      False   \n",
      "7464  0.863636  0.078987  0.250000  0.265680    0.253968      False   \n",
      "7465  0.954545  0.029753  0.250000  0.127811    0.317460       True   \n",
      "7466  0.954545  0.000054  0.250000  0.139053    0.317460      False   \n",
      "7467  0.636364  0.542972  0.517241  0.117751    0.476190      False   \n",
      "\n",
      "      model_ A2  model_ A3  model_ A4  model_ A5  ...  model_ S8  model_ SQ5  \\\n",
      "0         False      False      False      False  ...      False       False   \n",
      "1         False      False      False      False  ...      False       False   \n",
      "2         False      False      False      False  ...      False       False   \n",
      "3         False      False      False      False  ...      False       False   \n",
      "4         False      False      False       True  ...      False       False   \n",
      "...         ...        ...        ...        ...  ...        ...         ...   \n",
      "7463      False       True      False      False  ...      False       False   \n",
      "7464      False      False      False      False  ...      False       False   \n",
      "7465      False      False      False      False  ...      False       False   \n",
      "7466      False      False      False      False  ...      False       False   \n",
      "7467      False      False      False      False  ...      False       False   \n",
      "\n",
      "      model_ SQ7  model_ TT  transmission_Automatic  transmission_Manual  \\\n",
      "0          False      False                    True                False   \n",
      "1          False      False                   False                False   \n",
      "2          False      False                   False                False   \n",
      "3          False      False                   False                False   \n",
      "4          False      False                   False                False   \n",
      "...          ...        ...                     ...                  ...   \n",
      "7463       False      False                   False                 True   \n",
      "7464       False      False                   False                 True   \n",
      "7465       False      False                   False                False   \n",
      "7466       False      False                   False                 True   \n",
      "7467       False      False                    True                False   \n",
      "\n",
      "      transmission_Semi-Auto  fuelType_Diesel  fuelType_Hybrid  \\\n",
      "0                      False            False            False   \n",
      "1                       True            False            False   \n",
      "2                       True             True            False   \n",
      "3                       True             True            False   \n",
      "4                       True             True            False   \n",
      "...                      ...              ...              ...   \n",
      "7463                   False            False            False   \n",
      "7464                   False             True            False   \n",
      "7465                    True            False            False   \n",
      "7466                   False             True            False   \n",
      "7467                   False             True            False   \n",
      "\n",
      "      fuelType_Petrol  \n",
      "0                True  \n",
      "1                True  \n",
      "2               False  \n",
      "3               False  \n",
      "4               False  \n",
      "...               ...  \n",
      "7463             True  \n",
      "7464            False  \n",
      "7465             True  \n",
      "7466            False  \n",
      "7467            False  \n",
      "\n",
      "[7468 rows x 37 columns]\n"
     ]
    }
   ],
   "source": [
    "# 데이터 결합\n",
    "df_train = pd.concat([df_train_num, df_train_word], axis = 1)\n",
    "df_test = pd.concat([df_test_num, df_test_word], axis = 1)\n",
    "print(df_train)"
   ]
  },
  {
   "cell_type": "markdown",
   "id": "d4dc855a-4cd3-4b0a-8862-04ef23f35257",
   "metadata": {},
   "source": [
    "### 모델링"
   ]
  },
  {
   "cell_type": "code",
   "execution_count": 26,
   "id": "52334c55-7ed6-4870-9888-7c442b61048a",
   "metadata": {},
   "outputs": [
    {
     "name": "stdout",
     "output_type": "stream",
     "text": [
      "2463.598683362138\n"
     ]
    }
   ],
   "source": [
    "# 모델 생성\n",
    "model = RandomForestRegressor(random_state = 77)\n",
    "\n",
    "# 검증 데이터 생성\n",
    "X_train, X_val, y_train_t, y_val = train_test_split(df_train.values, y_train['price'].values, test_size = 0.3)\n",
    "\n",
    "# 모델 학습\n",
    "model.fit(X_train, y_train_t)\n",
    "\n",
    "# validation 데이터로 성능 평가\n",
    "y_pred = model.predict(X_val)\n",
    "print(np.sqrt(mean_squared_error(y_val, y_pred)))"
   ]
  },
  {
   "cell_type": "code",
   "execution_count": 27,
   "id": "14e00c90-f8f6-4c1c-909d-bd37fae9b2c1",
   "metadata": {},
   "outputs": [
    {
     "name": "stdout",
     "output_type": "stream",
     "text": [
      "     id      price\n",
      "0  7469  33211.015\n",
      "1  7470  18209.010\n",
      "2  7471  35942.100\n",
      "3  7472  17259.130\n",
      "4  7473  16688.640\n"
     ]
    },
    {
     "name": "stderr",
     "output_type": "stream",
     "text": [
      "C:\\Users\\chunc\\anaconda3\\envs\\pythonEx\\lib\\site-packages\\sklearn\\base.py:458: UserWarning: X has feature names, but RandomForestRegressor was fitted without feature names\n",
      "  warnings.warn(\n"
     ]
    }
   ],
   "source": [
    "# 예측\n",
    "y_pred = model.predict(df_test)\n",
    "df = pd.DataFrame(X_test['id'], columns = ['id'])\n",
    "df['price'] = y_pred\n",
    "print(df.head())\n",
    "\n",
    "# csv파일 저장\n",
    "df.to_csv('result1.csv', index = False)"
   ]
  },
  {
   "cell_type": "code",
   "execution_count": null,
   "id": "646e5529-f064-4995-a8c8-d7017e53a74c",
   "metadata": {},
   "outputs": [],
   "source": []
  }
 ],
 "metadata": {
  "kernelspec": {
   "display_name": "Python 3 (ipykernel)",
   "language": "python",
   "name": "python3"
  },
  "language_info": {
   "codemirror_mode": {
    "name": "ipython",
    "version": 3
   },
   "file_extension": ".py",
   "mimetype": "text/x-python",
   "name": "python",
   "nbconvert_exporter": "python",
   "pygments_lexer": "ipython3",
   "version": "3.8.19"
  }
 },
 "nbformat": 4,
 "nbformat_minor": 5
}
