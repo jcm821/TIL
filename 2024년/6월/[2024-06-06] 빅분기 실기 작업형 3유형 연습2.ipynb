{
 "cells": [
  {
   "cell_type": "markdown",
   "id": "85dcfb82-b5ce-4440-88b2-f76e7fd145ba",
   "metadata": {},
   "source": [
    "# 이기적 빅데이터분석기사 실기"
   ]
  },
  {
   "cell_type": "markdown",
   "id": "13464d3a-a1f1-4b4e-a539-2af63fd45ed6",
   "metadata": {},
   "source": [
    "## 기출문제 6회(2023.06.24)"
   ]
  },
  {
   "cell_type": "code",
   "execution_count": 1,
   "id": "39180736-698c-4742-bed2-6ef70449ed0d",
   "metadata": {},
   "outputs": [],
   "source": [
    "# 라이브러리 불러오기\n",
    "import pandas as pd\n",
    "import numpy as np\n",
    "from sklearn.preprocessing import MinMaxScaler, StandardScaler\n",
    "from sklearn.ensemble import RandomForestClassifier\n",
    "from sklearn.ensemble import RandomForestRegressor\n",
    "from sklearn.metrics import mean_squared_error\n",
    "from sklearn.model_selection import train_test_split\n",
    "from sklearn.metrics import roc_auc_score, f1_score, classification_report\n",
    "import scipy.stats as stats\n",
    "from statsmodels.formula.api import ols"
   ]
  },
  {
   "cell_type": "code",
   "execution_count": 2,
   "id": "099807a7-589e-4377-9650-3405b4feb06c",
   "metadata": {},
   "outputs": [
    {
     "name": "stdout",
     "output_type": "stream",
     "text": [
      "     항암제\n",
      "0    무증상\n",
      "1    속쓰림\n",
      "2    무증상\n",
      "3    무증상\n",
      "4   조금아픔\n",
      "5    무증상\n",
      "6   조금아픔\n",
      "7    무증상\n",
      "8   조금아픔\n",
      "9    무증상\n",
      "10    아픔\n",
      "11   무증상\n",
      "12  조금아픔\n",
      "13   무증상\n",
      "14    아픔\n",
      "15   무증상\n",
      "16   속쓰림\n",
      "17   무증상\n",
      "18    아픔\n",
      "19   무증상\n"
     ]
    }
   ],
   "source": [
    "# 1. 주어진 데이터를 이용하여 항암제를 투여 받은 환자들의 부작용 분포와 감기약을 투여 받은 환자들의\n",
    "# 부작용 분포간 차이가 있는지 확인하시오\n",
    "\n",
    "# 주어진 데이터를 입력\n",
    "df = pd.DataFrame({'항암제': ['무증상', '속쓰림', '무증상', '무증상', '조금아픔', '무증상', '조금아픔', '무증상', '조금아픔',\n",
    "                           '무증상', '아픔', '무증상', '조금아픔', '무증상', '아픔', '무증상', '속쓰림', '무증상', '아픔', '무증상'] })\n",
    "print(df)"
   ]
  },
  {
   "cell_type": "code",
   "execution_count": 3,
   "id": "92188746-1044-4929-ac12-6412ba1fd2e3",
   "metadata": {},
   "outputs": [
    {
     "name": "stdout",
     "output_type": "stream",
     "text": [
      "0.55\n"
     ]
    },
    {
     "data": {
      "text/plain": [
       "항암제\n",
       "무증상     0.55\n",
       "조금아픔    0.20\n",
       "아픔      0.15\n",
       "속쓰림     0.10\n",
       "Name: proportion, dtype: float64"
      ]
     },
     "execution_count": 3,
     "metadata": {},
     "output_type": "execute_result"
    }
   ],
   "source": [
    "# 1-1. 항암제 투여 환자들 중 '무증상' 비율을 1과 0 사이로 구하시오\n",
    "# 방법 1\n",
    "cnt = df['항암제'] == '무증상'\n",
    "total = len(df['항암제'])\n",
    "result = sum(cnt) / total\n",
    "print(result)\n",
    "\n",
    "# 방법 2\n",
    "df['항암제'].value_counts(normalize = True)"
   ]
  },
  {
   "cell_type": "code",
   "execution_count": 4,
   "id": "7c7db90c-6b79-47ed-be2a-c3e55c7ea3d5",
   "metadata": {},
   "outputs": [
    {
     "data": {
      "text/plain": [
       "항암제\n",
       "무증상     11\n",
       "조금아픔     4\n",
       "아픔       3\n",
       "속쓰림      2\n",
       "Name: count, dtype: int64"
      ]
     },
     "execution_count": 4,
     "metadata": {},
     "output_type": "execute_result"
    }
   ],
   "source": [
    "# 1-2. 감기약의 부작용 비율과 항암제의 부작용 관찰 없이 \n",
    "# 통계적으로 유의미하게 차이가 있는지 카이제곱 검정을 이용하여 검정통계량을 구하시오\n",
    "df['항암제'].value_counts()"
   ]
  },
  {
   "cell_type": "code",
   "execution_count": 5,
   "id": "acf575d2-dca3-4cd8-a2da-9ad782984908",
   "metadata": {},
   "outputs": [
    {
     "name": "stdout",
     "output_type": "stream",
     "text": [
      "6.976190476190475\n"
     ]
    }
   ],
   "source": [
    "# 환자들의 부작용 발생 비율 값을 이용하여 항목별 개수 값으로 변환\n",
    "val1 = df['항암제'].value_counts().to_list()\n",
    "val2 = [0.7 * total, 0.1 * total, 0.05 * total, 0.15 * total]\n",
    "statistic, pvalue = stats.chisquare(val1, val2)\n",
    "print(statistic)"
   ]
  },
  {
   "cell_type": "code",
   "execution_count": 6,
   "id": "5ac44370-26fb-4572-a2d4-e1647edf5616",
   "metadata": {},
   "outputs": [
    {
     "data": {
      "text/plain": [
       "Power_divergenceResult(statistic=6.976190476190475, pvalue=0.07266054733847582)"
      ]
     },
     "execution_count": 6,
     "metadata": {},
     "output_type": "execute_result"
    }
   ],
   "source": [
    "# 방법 2\n",
    "stats.chisquare(val1, val2)"
   ]
  },
  {
   "cell_type": "code",
   "execution_count": 7,
   "id": "c849d0f2-e677-4ca7-bd48-537d1f616779",
   "metadata": {},
   "outputs": [
    {
     "name": "stdout",
     "output_type": "stream",
     "text": [
      "0.07266054733847582\n"
     ]
    }
   ],
   "source": [
    "# 1-3. 위의 p-value를 구하시오\n",
    "print(pvalue)"
   ]
  },
  {
   "cell_type": "code",
   "execution_count": 8,
   "id": "cfcaa7c2-780e-4b21-951b-8f50612190b3",
   "metadata": {},
   "outputs": [
    {
     "data": {
      "text/html": [
       "<div>\n",
       "<style scoped>\n",
       "    .dataframe tbody tr th:only-of-type {\n",
       "        vertical-align: middle;\n",
       "    }\n",
       "\n",
       "    .dataframe tbody tr th {\n",
       "        vertical-align: top;\n",
       "    }\n",
       "\n",
       "    .dataframe thead th {\n",
       "        text-align: right;\n",
       "    }\n",
       "</style>\n",
       "<table border=\"1\" class=\"dataframe\">\n",
       "  <thead>\n",
       "    <tr style=\"text-align: right;\">\n",
       "      <th></th>\n",
       "      <th>Ozone</th>\n",
       "      <th>Solar</th>\n",
       "      <th>Wind</th>\n",
       "      <th>Temp</th>\n",
       "      <th>Month</th>\n",
       "      <th>Day</th>\n",
       "    </tr>\n",
       "  </thead>\n",
       "  <tbody>\n",
       "    <tr>\n",
       "      <th>0</th>\n",
       "      <td>41.0</td>\n",
       "      <td>190.0</td>\n",
       "      <td>7.4</td>\n",
       "      <td>67</td>\n",
       "      <td>5</td>\n",
       "      <td>1</td>\n",
       "    </tr>\n",
       "    <tr>\n",
       "      <th>1</th>\n",
       "      <td>36.0</td>\n",
       "      <td>118.0</td>\n",
       "      <td>8.0</td>\n",
       "      <td>72</td>\n",
       "      <td>5</td>\n",
       "      <td>2</td>\n",
       "    </tr>\n",
       "    <tr>\n",
       "      <th>2</th>\n",
       "      <td>12.0</td>\n",
       "      <td>149.0</td>\n",
       "      <td>12.6</td>\n",
       "      <td>74</td>\n",
       "      <td>5</td>\n",
       "      <td>3</td>\n",
       "    </tr>\n",
       "    <tr>\n",
       "      <th>3</th>\n",
       "      <td>18.0</td>\n",
       "      <td>313.0</td>\n",
       "      <td>11.5</td>\n",
       "      <td>62</td>\n",
       "      <td>5</td>\n",
       "      <td>4</td>\n",
       "    </tr>\n",
       "    <tr>\n",
       "      <th>4</th>\n",
       "      <td>NaN</td>\n",
       "      <td>NaN</td>\n",
       "      <td>14.3</td>\n",
       "      <td>56</td>\n",
       "      <td>5</td>\n",
       "      <td>5</td>\n",
       "    </tr>\n",
       "    <tr>\n",
       "      <th>...</th>\n",
       "      <td>...</td>\n",
       "      <td>...</td>\n",
       "      <td>...</td>\n",
       "      <td>...</td>\n",
       "      <td>...</td>\n",
       "      <td>...</td>\n",
       "    </tr>\n",
       "    <tr>\n",
       "      <th>148</th>\n",
       "      <td>30.0</td>\n",
       "      <td>193.0</td>\n",
       "      <td>6.9</td>\n",
       "      <td>70</td>\n",
       "      <td>9</td>\n",
       "      <td>26</td>\n",
       "    </tr>\n",
       "    <tr>\n",
       "      <th>149</th>\n",
       "      <td>NaN</td>\n",
       "      <td>145.0</td>\n",
       "      <td>13.2</td>\n",
       "      <td>77</td>\n",
       "      <td>9</td>\n",
       "      <td>27</td>\n",
       "    </tr>\n",
       "    <tr>\n",
       "      <th>150</th>\n",
       "      <td>14.0</td>\n",
       "      <td>191.0</td>\n",
       "      <td>14.3</td>\n",
       "      <td>75</td>\n",
       "      <td>9</td>\n",
       "      <td>28</td>\n",
       "    </tr>\n",
       "    <tr>\n",
       "      <th>151</th>\n",
       "      <td>18.0</td>\n",
       "      <td>131.0</td>\n",
       "      <td>8.0</td>\n",
       "      <td>76</td>\n",
       "      <td>9</td>\n",
       "      <td>29</td>\n",
       "    </tr>\n",
       "    <tr>\n",
       "      <th>152</th>\n",
       "      <td>20.0</td>\n",
       "      <td>223.0</td>\n",
       "      <td>11.5</td>\n",
       "      <td>68</td>\n",
       "      <td>9</td>\n",
       "      <td>30</td>\n",
       "    </tr>\n",
       "  </tbody>\n",
       "</table>\n",
       "<p>153 rows × 6 columns</p>\n",
       "</div>"
      ],
      "text/plain": [
       "     Ozone  Solar  Wind  Temp  Month  Day\n",
       "0     41.0  190.0   7.4    67      5    1\n",
       "1     36.0  118.0   8.0    72      5    2\n",
       "2     12.0  149.0  12.6    74      5    3\n",
       "3     18.0  313.0  11.5    62      5    4\n",
       "4      NaN    NaN  14.3    56      5    5\n",
       "..     ...    ...   ...   ...    ...  ...\n",
       "148   30.0  193.0   6.9    70      9   26\n",
       "149    NaN  145.0  13.2    77      9   27\n",
       "150   14.0  191.0  14.3    75      9   28\n",
       "151   18.0  131.0   8.0    76      9   29\n",
       "152   20.0  223.0  11.5    68      9   30\n",
       "\n",
       "[153 rows x 6 columns]"
      ]
     },
     "metadata": {},
     "output_type": "display_data"
    }
   ],
   "source": [
    "# 2. 주어진 데이터를 이용하여 다중선형회귀 문제를 해결하세요\n",
    "df = pd.read_csv('C:/Users/chunc/Desktop/빅분기 연습/dataset-main/data_6_3_2.csv')\n",
    "display(df)"
   ]
  },
  {
   "cell_type": "code",
   "execution_count": 9,
   "id": "ebf2c966-085b-4882-a3f2-eb47f1f1c87c",
   "metadata": {},
   "outputs": [
    {
     "name": "stdout",
     "output_type": "stream",
     "text": [
      "0.1719660419798153\n"
     ]
    }
   ],
   "source": [
    "# 2-1. 선형회귀 모델을 만들어 독립변수 Ozone의 회귀계수를 구하시오\n",
    "# 종속변수 Temp, 독립변수 Solar + Wind + Ozone\n",
    "formula = 'Temp ~ Solar + Wind + Ozone'\n",
    "model = ols(formula, data = df).fit()\n",
    "coef = model.params['Ozone']\n",
    "print(coef)"
   ]
  },
  {
   "cell_type": "code",
   "execution_count": 10,
   "id": "4e7f559a-1a5e-4dcb-a11a-1495f23dc93e",
   "metadata": {},
   "outputs": [
    {
     "data": {
      "text/html": [
       "<table class=\"simpletable\">\n",
       "<caption>OLS Regression Results</caption>\n",
       "<tr>\n",
       "  <th>Dep. Variable:</th>          <td>Temp</td>       <th>  R-squared:         </th> <td>   0.500</td>\n",
       "</tr>\n",
       "<tr>\n",
       "  <th>Model:</th>                   <td>OLS</td>       <th>  Adj. R-squared:    </th> <td>   0.486</td>\n",
       "</tr>\n",
       "<tr>\n",
       "  <th>Method:</th>             <td>Least Squares</td>  <th>  F-statistic:       </th> <td>   35.65</td>\n",
       "</tr>\n",
       "<tr>\n",
       "  <th>Date:</th>             <td>Thu, 06 Jun 2024</td> <th>  Prob (F-statistic):</th> <td>4.73e-16</td>\n",
       "</tr>\n",
       "<tr>\n",
       "  <th>Time:</th>                 <td>20:57:18</td>     <th>  Log-Likelihood:    </th> <td> -368.79</td>\n",
       "</tr>\n",
       "<tr>\n",
       "  <th>No. Observations:</th>      <td>   111</td>      <th>  AIC:               </th> <td>   745.6</td>\n",
       "</tr>\n",
       "<tr>\n",
       "  <th>Df Residuals:</th>          <td>   107</td>      <th>  BIC:               </th> <td>   756.4</td>\n",
       "</tr>\n",
       "<tr>\n",
       "  <th>Df Model:</th>              <td>     3</td>      <th>                     </th>     <td> </td>   \n",
       "</tr>\n",
       "<tr>\n",
       "  <th>Covariance Type:</th>      <td>nonrobust</td>    <th>                     </th>     <td> </td>   \n",
       "</tr>\n",
       "</table>\n",
       "<table class=\"simpletable\">\n",
       "<tr>\n",
       "      <td></td>         <th>coef</th>     <th>std err</th>      <th>t</th>      <th>P>|t|</th>  <th>[0.025</th>    <th>0.975]</th>  \n",
       "</tr>\n",
       "<tr>\n",
       "  <th>Intercept</th> <td>   72.4186</td> <td>    3.216</td> <td>   22.522</td> <td> 0.000</td> <td>   66.044</td> <td>   78.793</td>\n",
       "</tr>\n",
       "<tr>\n",
       "  <th>Solar</th>     <td>    0.0073</td> <td>    0.008</td> <td>    0.948</td> <td> 0.345</td> <td>   -0.008</td> <td>    0.022</td>\n",
       "</tr>\n",
       "<tr>\n",
       "  <th>Wind</th>      <td>   -0.3229</td> <td>    0.233</td> <td>   -1.384</td> <td> 0.169</td> <td>   -0.785</td> <td>    0.139</td>\n",
       "</tr>\n",
       "<tr>\n",
       "  <th>Ozone</th>     <td>    0.1720</td> <td>    0.026</td> <td>    6.516</td> <td> 0.000</td> <td>    0.120</td> <td>    0.224</td>\n",
       "</tr>\n",
       "</table>\n",
       "<table class=\"simpletable\">\n",
       "<tr>\n",
       "  <th>Omnibus:</th>       <td> 6.409</td> <th>  Durbin-Watson:     </th> <td>   1.170</td>\n",
       "</tr>\n",
       "<tr>\n",
       "  <th>Prob(Omnibus):</th> <td> 0.041</td> <th>  Jarque-Bera (JB):  </th> <td>   6.615</td>\n",
       "</tr>\n",
       "<tr>\n",
       "  <th>Skew:</th>          <td>-0.591</td> <th>  Prob(JB):          </th> <td>  0.0366</td>\n",
       "</tr>\n",
       "<tr>\n",
       "  <th>Kurtosis:</th>      <td> 2.817</td> <th>  Cond. No.          </th> <td>1.05e+03</td>\n",
       "</tr>\n",
       "</table><br/><br/>Notes:<br/>[1] Standard Errors assume that the covariance matrix of the errors is correctly specified.<br/>[2] The condition number is large, 1.05e+03. This might indicate that there are<br/>strong multicollinearity or other numerical problems."
      ],
      "text/latex": [
       "\\begin{center}\n",
       "\\begin{tabular}{lclc}\n",
       "\\toprule\n",
       "\\textbf{Dep. Variable:}    &       Temp       & \\textbf{  R-squared:         } &     0.500   \\\\\n",
       "\\textbf{Model:}            &       OLS        & \\textbf{  Adj. R-squared:    } &     0.486   \\\\\n",
       "\\textbf{Method:}           &  Least Squares   & \\textbf{  F-statistic:       } &     35.65   \\\\\n",
       "\\textbf{Date:}             & Thu, 06 Jun 2024 & \\textbf{  Prob (F-statistic):} &  4.73e-16   \\\\\n",
       "\\textbf{Time:}             &     20:57:18     & \\textbf{  Log-Likelihood:    } &   -368.79   \\\\\n",
       "\\textbf{No. Observations:} &         111      & \\textbf{  AIC:               } &     745.6   \\\\\n",
       "\\textbf{Df Residuals:}     &         107      & \\textbf{  BIC:               } &     756.4   \\\\\n",
       "\\textbf{Df Model:}         &           3      & \\textbf{                     } &             \\\\\n",
       "\\textbf{Covariance Type:}  &    nonrobust     & \\textbf{                     } &             \\\\\n",
       "\\bottomrule\n",
       "\\end{tabular}\n",
       "\\begin{tabular}{lcccccc}\n",
       "                   & \\textbf{coef} & \\textbf{std err} & \\textbf{t} & \\textbf{P$> |$t$|$} & \\textbf{[0.025} & \\textbf{0.975]}  \\\\\n",
       "\\midrule\n",
       "\\textbf{Intercept} &      72.4186  &        3.216     &    22.522  &         0.000        &       66.044    &       78.793     \\\\\n",
       "\\textbf{Solar}     &       0.0073  &        0.008     &     0.948  &         0.345        &       -0.008    &        0.022     \\\\\n",
       "\\textbf{Wind}      &      -0.3229  &        0.233     &    -1.384  &         0.169        &       -0.785    &        0.139     \\\\\n",
       "\\textbf{Ozone}     &       0.1720  &        0.026     &     6.516  &         0.000        &        0.120    &        0.224     \\\\\n",
       "\\bottomrule\n",
       "\\end{tabular}\n",
       "\\begin{tabular}{lclc}\n",
       "\\textbf{Omnibus:}       &  6.409 & \\textbf{  Durbin-Watson:     } &    1.170  \\\\\n",
       "\\textbf{Prob(Omnibus):} &  0.041 & \\textbf{  Jarque-Bera (JB):  } &    6.615  \\\\\n",
       "\\textbf{Skew:}          & -0.591 & \\textbf{  Prob(JB):          } &   0.0366  \\\\\n",
       "\\textbf{Kurtosis:}      &  2.817 & \\textbf{  Cond. No.          } & 1.05e+03  \\\\\n",
       "\\bottomrule\n",
       "\\end{tabular}\n",
       "%\\caption{OLS Regression Results}\n",
       "\\end{center}\n",
       "\n",
       "Notes: \\newline\n",
       " [1] Standard Errors assume that the covariance matrix of the errors is correctly specified. \\newline\n",
       " [2] The condition number is large, 1.05e+03. This might indicate that there are \\newline\n",
       " strong multicollinearity or other numerical problems."
      ],
      "text/plain": [
       "<class 'statsmodels.iolib.summary.Summary'>\n",
       "\"\"\"\n",
       "                            OLS Regression Results                            \n",
       "==============================================================================\n",
       "Dep. Variable:                   Temp   R-squared:                       0.500\n",
       "Model:                            OLS   Adj. R-squared:                  0.486\n",
       "Method:                 Least Squares   F-statistic:                     35.65\n",
       "Date:                Thu, 06 Jun 2024   Prob (F-statistic):           4.73e-16\n",
       "Time:                        20:57:18   Log-Likelihood:                -368.79\n",
       "No. Observations:                 111   AIC:                             745.6\n",
       "Df Residuals:                     107   BIC:                             756.4\n",
       "Df Model:                           3                                         \n",
       "Covariance Type:            nonrobust                                         \n",
       "==============================================================================\n",
       "                 coef    std err          t      P>|t|      [0.025      0.975]\n",
       "------------------------------------------------------------------------------\n",
       "Intercept     72.4186      3.216     22.522      0.000      66.044      78.793\n",
       "Solar          0.0073      0.008      0.948      0.345      -0.008       0.022\n",
       "Wind          -0.3229      0.233     -1.384      0.169      -0.785       0.139\n",
       "Ozone          0.1720      0.026      6.516      0.000       0.120       0.224\n",
       "==============================================================================\n",
       "Omnibus:                        6.409   Durbin-Watson:                   1.170\n",
       "Prob(Omnibus):                  0.041   Jarque-Bera (JB):                6.615\n",
       "Skew:                          -0.591   Prob(JB):                       0.0366\n",
       "Kurtosis:                       2.817   Cond. No.                     1.05e+03\n",
       "==============================================================================\n",
       "\n",
       "Notes:\n",
       "[1] Standard Errors assume that the covariance matrix of the errors is correctly specified.\n",
       "[2] The condition number is large, 1.05e+03. This might indicate that there are\n",
       "strong multicollinearity or other numerical problems.\n",
       "\"\"\""
      ]
     },
     "execution_count": 10,
     "metadata": {},
     "output_type": "execute_result"
    }
   ],
   "source": [
    "# 선형회귀모형 요약\n",
    "model.summary()"
   ]
  },
  {
   "cell_type": "code",
   "execution_count": 11,
   "id": "bb2cbaa9-1ff0-42bd-895d-f40981a47cb5",
   "metadata": {},
   "outputs": [
    {
     "name": "stdout",
     "output_type": "stream",
     "text": [
      "0.1690986859849759\n"
     ]
    }
   ],
   "source": [
    "# 2-2. Solar와 Ozone은 고정이고, Wind가 증가함에 따라 Temp가 감소하는지 검증하기 위한 다중선형회귀 분석을 수행하여\n",
    "# Wind의 회귀계수에 대한 p-value를 구하시오\n",
    "pvalue = model.pvalues['Wind']\n",
    "print(pvalue)"
   ]
  },
  {
   "cell_type": "code",
   "execution_count": 12,
   "id": "88546f7d-237a-49c0-a843-01a97573bad4",
   "metadata": {},
   "outputs": [
    {
     "name": "stdout",
     "output_type": "stream",
     "text": [
      "        mean   mean_se  mean_ci_lower  mean_ci_upper  obs_ci_lower  \\\n",
      "0  78.826312  0.864464      77.112614      80.540011     65.171661   \n",
      "\n",
      "   obs_ci_upper  \n",
      "0     92.480964  \n"
     ]
    }
   ],
   "source": [
    "# 2-3. Solarrk 150, Wind가 7.5, Ozone이 45일 경우, 예측 값과 그에 대한 95% 신뢰구간을 구하시오\n",
    "data = pd.DataFrame({'Ozone':[45], 'Solar':[150], 'Wind':[7.5]})\n",
    "prediction = model.get_prediction(data)\n",
    "summary = prediction.summary_frame(alpha = 0.05)\n",
    "print(summary)"
   ]
  },
  {
   "cell_type": "markdown",
   "id": "f945e900-529b-4ada-ab02-9949809ecc71",
   "metadata": {},
   "source": [
    "## 모의고사1회 - 3유형"
   ]
  },
  {
   "cell_type": "markdown",
   "id": "18ae1ce1-2992-471a-b558-b3b4242543b4",
   "metadata": {},
   "source": [
    "* 측정한 온도(Temp)의 평균값이 평균온도인 77과 일치하는지 t-검정을 이용하여 확인하시오."
   ]
  },
  {
   "cell_type": "code",
   "execution_count": 13,
   "id": "ee6a8a47-66aa-4ff4-8de3-0c1969c3eaf3",
   "metadata": {},
   "outputs": [
    {
     "data": {
      "text/html": [
       "<div>\n",
       "<style scoped>\n",
       "    .dataframe tbody tr th:only-of-type {\n",
       "        vertical-align: middle;\n",
       "    }\n",
       "\n",
       "    .dataframe tbody tr th {\n",
       "        vertical-align: top;\n",
       "    }\n",
       "\n",
       "    .dataframe thead th {\n",
       "        text-align: right;\n",
       "    }\n",
       "</style>\n",
       "<table border=\"1\" class=\"dataframe\">\n",
       "  <thead>\n",
       "    <tr style=\"text-align: right;\">\n",
       "      <th></th>\n",
       "      <th>Ozone</th>\n",
       "      <th>Solar.R</th>\n",
       "      <th>Wind</th>\n",
       "      <th>Temp</th>\n",
       "      <th>Month</th>\n",
       "      <th>Day</th>\n",
       "    </tr>\n",
       "  </thead>\n",
       "  <tbody>\n",
       "    <tr>\n",
       "      <th>0</th>\n",
       "      <td>41.0</td>\n",
       "      <td>190.0</td>\n",
       "      <td>7.4</td>\n",
       "      <td>67</td>\n",
       "      <td>5</td>\n",
       "      <td>1</td>\n",
       "    </tr>\n",
       "    <tr>\n",
       "      <th>1</th>\n",
       "      <td>36.0</td>\n",
       "      <td>118.0</td>\n",
       "      <td>8.0</td>\n",
       "      <td>72</td>\n",
       "      <td>5</td>\n",
       "      <td>2</td>\n",
       "    </tr>\n",
       "    <tr>\n",
       "      <th>2</th>\n",
       "      <td>12.0</td>\n",
       "      <td>149.0</td>\n",
       "      <td>12.6</td>\n",
       "      <td>74</td>\n",
       "      <td>5</td>\n",
       "      <td>3</td>\n",
       "    </tr>\n",
       "    <tr>\n",
       "      <th>3</th>\n",
       "      <td>18.0</td>\n",
       "      <td>313.0</td>\n",
       "      <td>11.5</td>\n",
       "      <td>62</td>\n",
       "      <td>5</td>\n",
       "      <td>4</td>\n",
       "    </tr>\n",
       "    <tr>\n",
       "      <th>4</th>\n",
       "      <td>NaN</td>\n",
       "      <td>NaN</td>\n",
       "      <td>14.3</td>\n",
       "      <td>56</td>\n",
       "      <td>5</td>\n",
       "      <td>5</td>\n",
       "    </tr>\n",
       "  </tbody>\n",
       "</table>\n",
       "</div>"
      ],
      "text/plain": [
       "   Ozone  Solar.R  Wind  Temp  Month  Day\n",
       "0   41.0    190.0   7.4    67      5    1\n",
       "1   36.0    118.0   8.0    72      5    2\n",
       "2   12.0    149.0  12.6    74      5    3\n",
       "3   18.0    313.0  11.5    62      5    4\n",
       "4    NaN      NaN  14.3    56      5    5"
      ]
     },
     "execution_count": 13,
     "metadata": {},
     "output_type": "execute_result"
    }
   ],
   "source": [
    "# 데이터 불러오기\n",
    "df = pd.read_csv('C:/Users/chunc/Desktop/빅분기 연습/dataset-main/airquality.csv')\n",
    "df.head()"
   ]
  },
  {
   "cell_type": "code",
   "execution_count": 14,
   "id": "7bcc6a64-637b-493a-9706-768f9dd9e781",
   "metadata": {},
   "outputs": [
    {
     "name": "stdout",
     "output_type": "stream",
     "text": [
      "77.88\n"
     ]
    }
   ],
   "source": [
    "# 1. 표본평균 X를 소수점 둘째자리까지 반올림하여 구하시오\n",
    "X = df['Temp'].mean()\n",
    "print(round(X, 2))"
   ]
  },
  {
   "cell_type": "code",
   "execution_count": 15,
   "id": "ba7c4c9f-4563-4501-9913-7d61a9cad2b8",
   "metadata": {},
   "outputs": [
    {
     "name": "stdout",
     "output_type": "stream",
     "text": [
      "1.15\n",
      "0.2507\n"
     ]
    }
   ],
   "source": [
    "# 2. 가설검정을 위한 검정통계량을 소수점 둘째자리까지 반올림하여 구하시오\n",
    "t_score, p_value = stats.ttest_1samp(df['Temp'], 77)\n",
    "print(round(t_score, 2))\n",
    "print(round(p_value, 4))"
   ]
  },
  {
   "cell_type": "code",
   "execution_count": 16,
   "id": "0f6b7075-65c3-4b95-88a2-d9833901471a",
   "metadata": {},
   "outputs": [
    {
     "name": "stdout",
     "output_type": "stream",
     "text": [
      "0.2507\n",
      "귀무가설 채택\n"
     ]
    }
   ],
   "source": [
    "# 3. 통계량에 대한 p-value 값을 소수점 넷째자리까지 반올림하여 구하고, 유의수준 0.05내에서 결과를 논하시오(채택과 기각 중 선택)\n",
    "pv = round(p_value, 4)\n",
    "alpha = 0.05\n",
    "print(pv)\n",
    "\n",
    "if pv < alpha:\n",
    "    print('귀무가설 기각')\n",
    "else:\n",
    "    print('귀무가설 채택')"
   ]
  },
  {
   "cell_type": "markdown",
   "id": "950be9ed-fdbb-47f8-996e-9f75b16efffb",
   "metadata": {},
   "source": [
    "## 모의고사2회 - 3유형"
   ]
  },
  {
   "cell_type": "markdown",
   "id": "ed4c5fcd-122c-47d0-b775-41b0d6de63ac",
   "metadata": {},
   "source": [
    "* 결혼유무(미혼, 결혼, 이혼)에 따라 초과근로 여부에 차이가 있는지 카이제곱 검정을 이용하여 확인하시오."
   ]
  },
  {
   "cell_type": "code",
   "execution_count": 17,
   "id": "56c38528-729a-4473-bee0-5de1322f7ff6",
   "metadata": {},
   "outputs": [
    {
     "data": {
      "text/html": [
       "<div>\n",
       "<style scoped>\n",
       "    .dataframe tbody tr th:only-of-type {\n",
       "        vertical-align: middle;\n",
       "    }\n",
       "\n",
       "    .dataframe tbody tr th {\n",
       "        vertical-align: top;\n",
       "    }\n",
       "\n",
       "    .dataframe thead th {\n",
       "        text-align: right;\n",
       "    }\n",
       "</style>\n",
       "<table border=\"1\" class=\"dataframe\">\n",
       "  <thead>\n",
       "    <tr style=\"text-align: right;\">\n",
       "      <th></th>\n",
       "      <th>MaritalStatus</th>\n",
       "      <th>OverTime</th>\n",
       "    </tr>\n",
       "  </thead>\n",
       "  <tbody>\n",
       "    <tr>\n",
       "      <th>0</th>\n",
       "      <td>Single</td>\n",
       "      <td>Yes</td>\n",
       "    </tr>\n",
       "    <tr>\n",
       "      <th>1</th>\n",
       "      <td>Married</td>\n",
       "      <td>No</td>\n",
       "    </tr>\n",
       "    <tr>\n",
       "      <th>2</th>\n",
       "      <td>Single</td>\n",
       "      <td>Yes</td>\n",
       "    </tr>\n",
       "    <tr>\n",
       "      <th>3</th>\n",
       "      <td>Married</td>\n",
       "      <td>Yes</td>\n",
       "    </tr>\n",
       "    <tr>\n",
       "      <th>4</th>\n",
       "      <td>Married</td>\n",
       "      <td>No</td>\n",
       "    </tr>\n",
       "  </tbody>\n",
       "</table>\n",
       "</div>"
      ],
      "text/plain": [
       "  MaritalStatus OverTime\n",
       "0        Single      Yes\n",
       "1       Married       No\n",
       "2        Single      Yes\n",
       "3       Married      Yes\n",
       "4       Married       No"
      ]
     },
     "execution_count": 17,
     "metadata": {},
     "output_type": "execute_result"
    }
   ],
   "source": [
    "# 데이터 불러오기\n",
    "df = pd.read_csv('C:/Users/chunc/Desktop/빅분기 연습/dataset-main/HR-Employee-Attrition.csv')\n",
    "df[['MaritalStatus', 'OverTime']].head()"
   ]
  },
  {
   "cell_type": "code",
   "execution_count": 18,
   "id": "6d8463cd-cfdc-4d6c-8561-55961f17489c",
   "metadata": {},
   "outputs": [
    {
     "name": "stdout",
     "output_type": "stream",
     "text": [
      "MaritalStatus  Divorced  Married  Single\n",
      "OverTime                                \n",
      "No                  228      487     339\n",
      "Yes                  99      186     131\n"
     ]
    }
   ],
   "source": [
    "# 1. 주어진 데이터로 결혼 유무와 초과근로 간의 분할표를 만들고, \n",
    "# 결혼한 집단의 초과근로자 수와 초과근로 하지 않은 자 수의 차이를 정수로 계산하시오.\n",
    "table = pd.crosstab(df['OverTime'], df['MaritalStatus'])\n",
    "print(table)"
   ]
  },
  {
   "cell_type": "code",
   "execution_count": 19,
   "id": "485918e8-9983-44a2-8205-3a7d629cf518",
   "metadata": {},
   "outputs": [
    {
     "name": "stdout",
     "output_type": "stream",
     "text": [
      "MaritalStatus\n",
      "Divorced     99\n",
      "Married     186\n",
      "Single      131\n",
      "Name: Yes, dtype: int64\n",
      "MaritalStatus\n",
      "Divorced    228\n",
      "Married     487\n",
      "Single      339\n",
      "Name: No, dtype: int64\n"
     ]
    }
   ],
   "source": [
    "# 결혼한 집단의 초과근로자 수와 초과근로 하지 않은 자 수의 차이\n",
    "# X1: 초과근로자에 대한 결혼 여부\n",
    "# X2: 초과근로 하지 않은 자의 결혼 여부\n",
    "X1 = table.loc['Yes', :]\n",
    "X2 = table.loc['No', :]\n",
    "print(X1)\n",
    "print(X2)"
   ]
  },
  {
   "cell_type": "code",
   "execution_count": 20,
   "id": "4dc99641-6b0a-4845-bf48-410c26675c82",
   "metadata": {},
   "outputs": [
    {
     "name": "stdout",
     "output_type": "stream",
     "text": [
      "301\n"
     ]
    }
   ],
   "source": [
    "# X1, X2에서 'Married'의 수를 구해서 차이 계산\n",
    "X1_Married = X1['Married']\n",
    "X2_Married = X2['Married']\n",
    "print(int(abs(X1_Married - X2_Married)))"
   ]
  },
  {
   "cell_type": "code",
   "execution_count": 21,
   "id": "25554a8f-7ab6-431f-98ce-2fcbaf651f6e",
   "metadata": {},
   "outputs": [
    {
     "name": "stdout",
     "output_type": "stream",
     "text": [
      "0.82\n"
     ]
    }
   ],
   "source": [
    "# 2. 가설검정을 위한 검정통계량을 소수점 둘째자리까지 반올림하여 구하시오\n",
    "result = stats.chi2_contingency([X1, X2])\n",
    "print(round(result.statistic, 2))"
   ]
  },
  {
   "cell_type": "code",
   "execution_count": 22,
   "id": "882fb290-6203-4625-b90a-9443e2469894",
   "metadata": {},
   "outputs": [
    {
     "name": "stdout",
     "output_type": "stream",
     "text": [
      "0.6647\n",
      "귀무가설 채택\n"
     ]
    }
   ],
   "source": [
    "# 3. 통계량에 대한 p-value 값을 소수점 넷째자리까지 반올림하여 구하고, 유의수준 0.05 내에서 결과를 논하시오 (채택과 기각 중 선택)\n",
    "p_value = result.pvalue\n",
    "print(round(p_value, 4))\n",
    "alpha = 0.05\n",
    "if p_value < alpha:\n",
    "    print('귀무가설 기각')\n",
    "else:\n",
    "    print('귀무가설 채택')"
   ]
  }
 ],
 "metadata": {
  "kernelspec": {
   "display_name": "Python 3 (ipykernel)",
   "language": "python",
   "name": "python3"
  },
  "language_info": {
   "codemirror_mode": {
    "name": "ipython",
    "version": 3
   },
   "file_extension": ".py",
   "mimetype": "text/x-python",
   "name": "python",
   "nbconvert_exporter": "python",
   "pygments_lexer": "ipython3",
   "version": "3.8.19"
  }
 },
 "nbformat": 4,
 "nbformat_minor": 5
}
