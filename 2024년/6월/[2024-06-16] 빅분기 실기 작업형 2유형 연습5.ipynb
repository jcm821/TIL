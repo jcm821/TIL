{
 "cells": [
  {
   "cell_type": "markdown",
   "id": "f0faa93a-d905-4d94-90c6-1552440aa20e",
   "metadata": {},
   "source": [
    "# 이기적 빅데이터 분석기사 실기"
   ]
  },
  {
   "cell_type": "markdown",
   "id": "440fa675-3265-45c3-adb6-61feaf48c852",
   "metadata": {},
   "source": [
    "## 기출문제 6회(2023.06.24 시행)"
   ]
  },
  {
   "cell_type": "code",
   "execution_count": 1,
   "id": "6f24017a-50e5-4eaf-8ba1-5a7091ef2b88",
   "metadata": {},
   "outputs": [],
   "source": [
    "# 라이브러리 불러오기\n",
    "import pandas as pd\n",
    "import numpy as np\n",
    "from sklearn.preprocessing import MinMaxScaler, StandardScaler, LabelEncoder\n",
    "from sklearn.ensemble import RandomForestClassifier\n",
    "from sklearn.ensemble import RandomForestRegressor\n",
    "from sklearn.metrics import mean_squared_error\n",
    "from sklearn.model_selection import train_test_split\n",
    "from sklearn.metrics import roc_auc_score, f1_score"
   ]
  },
  {
   "cell_type": "markdown",
   "id": "797f81f3-7234-4a5a-8f30-0ae6a6d472fd",
   "metadata": {},
   "source": [
    "* 학생 530명에 대한 학습용 데이터를 이용하여 학생구분 예측모형을 만든 후, 이를 평가용 데이터에 적용하여 얻은 230명 학생의 구분을 다음과 같은 형식의 CSV파일로 생성하시오."
   ]
  },
  {
   "cell_type": "code",
   "execution_count": 2,
   "id": "73eb773b-e884-46b0-b72c-add2f4c12ad0",
   "metadata": {},
   "outputs": [],
   "source": [
    "# 구분예측\n",
    "# 중학생\n",
    "# 초등학생\n",
    "# 대학생\n",
    "# 고등학생\n",
    "# ..."
   ]
  },
  {
   "cell_type": "code",
   "execution_count": 3,
   "id": "c066814d-0a25-4ec0-984c-2674be02d2fb",
   "metadata": {},
   "outputs": [
    {
     "data": {
      "text/html": [
       "<div>\n",
       "<style scoped>\n",
       "    .dataframe tbody tr th:only-of-type {\n",
       "        vertical-align: middle;\n",
       "    }\n",
       "\n",
       "    .dataframe tbody tr th {\n",
       "        vertical-align: top;\n",
       "    }\n",
       "\n",
       "    .dataframe thead th {\n",
       "        text-align: right;\n",
       "    }\n",
       "</style>\n",
       "<table border=\"1\" class=\"dataframe\">\n",
       "  <thead>\n",
       "    <tr style=\"text-align: right;\">\n",
       "      <th></th>\n",
       "      <th>일평균수면시간</th>\n",
       "      <th>일평균학습시간</th>\n",
       "      <th>일평균스마트폰사용시간</th>\n",
       "      <th>키</th>\n",
       "      <th>몸무게</th>\n",
       "      <th>체격</th>\n",
       "      <th>기초대사량</th>\n",
       "      <th>거주지역</th>\n",
       "      <th>구분</th>\n",
       "    </tr>\n",
       "  </thead>\n",
       "  <tbody>\n",
       "    <tr>\n",
       "      <th>0</th>\n",
       "      <td>7.35</td>\n",
       "      <td>7.74</td>\n",
       "      <td>4.8</td>\n",
       "      <td>Tall</td>\n",
       "      <td>52.050</td>\n",
       "      <td>L</td>\n",
       "      <td>1499.4</td>\n",
       "      <td>동구</td>\n",
       "      <td>고등학생</td>\n",
       "    </tr>\n",
       "    <tr>\n",
       "      <th>1</th>\n",
       "      <td>7.05</td>\n",
       "      <td>8.10</td>\n",
       "      <td>1.2</td>\n",
       "      <td>Tall</td>\n",
       "      <td>51.300</td>\n",
       "      <td>M</td>\n",
       "      <td>1624.4</td>\n",
       "      <td>서구</td>\n",
       "      <td>중학생</td>\n",
       "    </tr>\n",
       "    <tr>\n",
       "      <th>2</th>\n",
       "      <td>7.35</td>\n",
       "      <td>7.74</td>\n",
       "      <td>3.0</td>\n",
       "      <td>Tall</td>\n",
       "      <td>51.285</td>\n",
       "      <td>L</td>\n",
       "      <td>1499.4</td>\n",
       "      <td>동구</td>\n",
       "      <td>고등학생</td>\n",
       "    </tr>\n",
       "    <tr>\n",
       "      <th>3</th>\n",
       "      <td>8.58</td>\n",
       "      <td>6.66</td>\n",
       "      <td>4.8</td>\n",
       "      <td>Short</td>\n",
       "      <td>25.545</td>\n",
       "      <td>XS</td>\n",
       "      <td>1249.5</td>\n",
       "      <td>서구</td>\n",
       "      <td>초등학생</td>\n",
       "    </tr>\n",
       "    <tr>\n",
       "      <th>4</th>\n",
       "      <td>7.05</td>\n",
       "      <td>8.10</td>\n",
       "      <td>4.8</td>\n",
       "      <td>Tall</td>\n",
       "      <td>54.150</td>\n",
       "      <td>M</td>\n",
       "      <td>1624.4</td>\n",
       "      <td>서구</td>\n",
       "      <td>대학생</td>\n",
       "    </tr>\n",
       "  </tbody>\n",
       "</table>\n",
       "</div>"
      ],
      "text/plain": [
       "   일평균수면시간  일평균학습시간  일평균스마트폰사용시간      키     몸무게  체격   기초대사량 거주지역    구분\n",
       "0     7.35     7.74          4.8   Tall  52.050   L  1499.4   동구  고등학생\n",
       "1     7.05     8.10          1.2   Tall  51.300   M  1624.4   서구   중학생\n",
       "2     7.35     7.74          3.0   Tall  51.285   L  1499.4   동구  고등학생\n",
       "3     8.58     6.66          4.8  Short  25.545  XS  1249.5   서구  초등학생\n",
       "4     7.05     8.10          4.8   Tall  54.150   M  1624.4   서구   대학생"
      ]
     },
     "metadata": {},
     "output_type": "display_data"
    },
    {
     "data": {
      "text/html": [
       "<div>\n",
       "<style scoped>\n",
       "    .dataframe tbody tr th:only-of-type {\n",
       "        vertical-align: middle;\n",
       "    }\n",
       "\n",
       "    .dataframe tbody tr th {\n",
       "        vertical-align: top;\n",
       "    }\n",
       "\n",
       "    .dataframe thead th {\n",
       "        text-align: right;\n",
       "    }\n",
       "</style>\n",
       "<table border=\"1\" class=\"dataframe\">\n",
       "  <thead>\n",
       "    <tr style=\"text-align: right;\">\n",
       "      <th></th>\n",
       "      <th>일평균수면시간</th>\n",
       "      <th>일평균학습시간</th>\n",
       "      <th>일평균스마트폰사용시간</th>\n",
       "      <th>키</th>\n",
       "      <th>몸무게</th>\n",
       "      <th>체격</th>\n",
       "      <th>기초대사량</th>\n",
       "      <th>거주지역</th>\n",
       "    </tr>\n",
       "  </thead>\n",
       "  <tbody>\n",
       "    <tr>\n",
       "      <th>0</th>\n",
       "      <td>7.97</td>\n",
       "      <td>7.11</td>\n",
       "      <td>1.2</td>\n",
       "      <td>Tall</td>\n",
       "      <td>51.375</td>\n",
       "      <td>L</td>\n",
       "      <td>1749.3</td>\n",
       "      <td>북구</td>\n",
       "    </tr>\n",
       "    <tr>\n",
       "      <th>1</th>\n",
       "      <td>9.80</td>\n",
       "      <td>5.76</td>\n",
       "      <td>1.2</td>\n",
       "      <td>Short</td>\n",
       "      <td>28.710</td>\n",
       "      <td>XS</td>\n",
       "      <td>1749.3</td>\n",
       "      <td>북구</td>\n",
       "    </tr>\n",
       "    <tr>\n",
       "      <th>2</th>\n",
       "      <td>7.66</td>\n",
       "      <td>7.38</td>\n",
       "      <td>1.2</td>\n",
       "      <td>Tall</td>\n",
       "      <td>36.915</td>\n",
       "      <td>L</td>\n",
       "      <td>1624.4</td>\n",
       "      <td>남구</td>\n",
       "    </tr>\n",
       "    <tr>\n",
       "      <th>3</th>\n",
       "      <td>9.50</td>\n",
       "      <td>5.94</td>\n",
       "      <td>3.0</td>\n",
       "      <td>Short</td>\n",
       "      <td>24.045</td>\n",
       "      <td>XS</td>\n",
       "      <td>1624.4</td>\n",
       "      <td>동구</td>\n",
       "    </tr>\n",
       "    <tr>\n",
       "      <th>4</th>\n",
       "      <td>6.44</td>\n",
       "      <td>8.82</td>\n",
       "      <td>3.0</td>\n",
       "      <td>Tall</td>\n",
       "      <td>45.180</td>\n",
       "      <td>S</td>\n",
       "      <td>1499.4</td>\n",
       "      <td>서구</td>\n",
       "    </tr>\n",
       "  </tbody>\n",
       "</table>\n",
       "</div>"
      ],
      "text/plain": [
       "   일평균수면시간  일평균학습시간  일평균스마트폰사용시간      키     몸무게  체격   기초대사량 거주지역\n",
       "0     7.97     7.11          1.2   Tall  51.375   L  1749.3   북구\n",
       "1     9.80     5.76          1.2  Short  28.710  XS  1749.3   북구\n",
       "2     7.66     7.38          1.2   Tall  36.915   L  1624.4   남구\n",
       "3     9.50     5.94          3.0  Short  24.045  XS  1624.4   동구\n",
       "4     6.44     8.82          3.0   Tall  45.180   S  1499.4   서구"
      ]
     },
     "metadata": {},
     "output_type": "display_data"
    }
   ],
   "source": [
    "# 데이터 불러오기\n",
    "train = pd.read_csv('C:/Users/User/Desktop/빅분기 연습/dataset-main/data_6_2_train.csv')\n",
    "test = pd.read_csv('C:/Users/User/Desktop/빅분기 연습/dataset-main/data_6_2_test.csv')\n",
    "\n",
    "display(train.head())\n",
    "display(test.head())"
   ]
  },
  {
   "cell_type": "markdown",
   "id": "83cd790f-dd4c-465a-9d18-40bd95278165",
   "metadata": {},
   "source": [
    "### EDA"
   ]
  },
  {
   "cell_type": "code",
   "execution_count": 4,
   "id": "831c438a-ecca-40e8-8ad3-8b905b146aed",
   "metadata": {},
   "outputs": [
    {
     "name": "stdout",
     "output_type": "stream",
     "text": [
      "<class 'pandas.core.frame.DataFrame'>\n",
      "RangeIndex: 530 entries, 0 to 529\n",
      "Data columns (total 9 columns):\n",
      " #   Column       Non-Null Count  Dtype  \n",
      "---  ------       --------------  -----  \n",
      " 0   일평균수면시간      530 non-null    float64\n",
      " 1   일평균학습시간      530 non-null    float64\n",
      " 2   일평균스마트폰사용시간  530 non-null    float64\n",
      " 3   키            530 non-null    object \n",
      " 4   몸무게          530 non-null    float64\n",
      " 5   체격           530 non-null    object \n",
      " 6   기초대사량        530 non-null    float64\n",
      " 7   거주지역         530 non-null    object \n",
      " 8   구분           530 non-null    object \n",
      "dtypes: float64(5), object(4)\n",
      "memory usage: 37.4+ KB\n",
      "<class 'pandas.core.frame.DataFrame'>\n",
      "RangeIndex: 230 entries, 0 to 229\n",
      "Data columns (total 8 columns):\n",
      " #   Column       Non-Null Count  Dtype  \n",
      "---  ------       --------------  -----  \n",
      " 0   일평균수면시간      230 non-null    float64\n",
      " 1   일평균학습시간      230 non-null    float64\n",
      " 2   일평균스마트폰사용시간  230 non-null    float64\n",
      " 3   키            230 non-null    object \n",
      " 4   몸무게          230 non-null    float64\n",
      " 5   체격           230 non-null    object \n",
      " 6   기초대사량        230 non-null    float64\n",
      " 7   거주지역         230 non-null    object \n",
      "dtypes: float64(5), object(3)\n",
      "memory usage: 14.5+ KB\n"
     ]
    }
   ],
   "source": [
    "# 데이터정보 확인\n",
    "train.info()\n",
    "test.info()"
   ]
  },
  {
   "cell_type": "code",
   "execution_count": 5,
   "id": "f8885fe1-7b2b-4328-9d9b-9fd4039a3191",
   "metadata": {},
   "outputs": [
    {
     "data": {
      "text/html": [
       "<div>\n",
       "<style scoped>\n",
       "    .dataframe tbody tr th:only-of-type {\n",
       "        vertical-align: middle;\n",
       "    }\n",
       "\n",
       "    .dataframe tbody tr th {\n",
       "        vertical-align: top;\n",
       "    }\n",
       "\n",
       "    .dataframe thead th {\n",
       "        text-align: right;\n",
       "    }\n",
       "</style>\n",
       "<table border=\"1\" class=\"dataframe\">\n",
       "  <thead>\n",
       "    <tr style=\"text-align: right;\">\n",
       "      <th></th>\n",
       "      <th>키</th>\n",
       "      <th>체격</th>\n",
       "      <th>거주지역</th>\n",
       "      <th>구분</th>\n",
       "    </tr>\n",
       "  </thead>\n",
       "  <tbody>\n",
       "    <tr>\n",
       "      <th>count</th>\n",
       "      <td>530</td>\n",
       "      <td>530</td>\n",
       "      <td>530</td>\n",
       "      <td>530</td>\n",
       "    </tr>\n",
       "    <tr>\n",
       "      <th>unique</th>\n",
       "      <td>2</td>\n",
       "      <td>4</td>\n",
       "      <td>4</td>\n",
       "      <td>5</td>\n",
       "    </tr>\n",
       "    <tr>\n",
       "      <th>top</th>\n",
       "      <td>Tall</td>\n",
       "      <td>XS</td>\n",
       "      <td>남구</td>\n",
       "      <td>유치원생</td>\n",
       "    </tr>\n",
       "    <tr>\n",
       "      <th>freq</th>\n",
       "      <td>277</td>\n",
       "      <td>253</td>\n",
       "      <td>145</td>\n",
       "      <td>140</td>\n",
       "    </tr>\n",
       "  </tbody>\n",
       "</table>\n",
       "</div>"
      ],
      "text/plain": [
       "           키   체격 거주지역    구분\n",
       "count    530  530  530   530\n",
       "unique     2    4    4     5\n",
       "top     Tall   XS   남구  유치원생\n",
       "freq     277  253  145   140"
      ]
     },
     "execution_count": 5,
     "metadata": {},
     "output_type": "execute_result"
    }
   ],
   "source": [
    "# 학습용 데이터 기초통계 확인\n",
    "train.describe(include = 'object')"
   ]
  },
  {
   "cell_type": "code",
   "execution_count": 6,
   "id": "c923032a-47bd-46d6-a731-7a312b00de19",
   "metadata": {},
   "outputs": [
    {
     "data": {
      "text/plain": [
       "일평균수면시간        0\n",
       "일평균학습시간        0\n",
       "일평균스마트폰사용시간    0\n",
       "키              0\n",
       "몸무게            0\n",
       "체격             0\n",
       "기초대사량          0\n",
       "거주지역           0\n",
       "구분             0\n",
       "dtype: int64"
      ]
     },
     "execution_count": 6,
     "metadata": {},
     "output_type": "execute_result"
    }
   ],
   "source": [
    "# 결측값 확인\n",
    "train.isnull().sum()"
   ]
  },
  {
   "cell_type": "code",
   "execution_count": 7,
   "id": "86643d41-c583-4bd4-ba37-0ae94ae6b71c",
   "metadata": {},
   "outputs": [
    {
     "data": {
      "text/plain": [
       "구분\n",
       "유치원생    140\n",
       "초등학생    121\n",
       "고등학생    120\n",
       "대학생      78\n",
       "중학생      71\n",
       "Name: count, dtype: int64"
      ]
     },
     "execution_count": 7,
     "metadata": {},
     "output_type": "execute_result"
    }
   ],
   "source": [
    "# 타겟값 분포 확인\n",
    "train['구분'].value_counts()"
   ]
  },
  {
   "cell_type": "markdown",
   "id": "2162386e-964a-4246-877e-0d71524a412c",
   "metadata": {},
   "source": [
    "* 테스트 데이터에도 동일하게 수행"
   ]
  },
  {
   "cell_type": "markdown",
   "id": "384f550f-a401-4799-95ef-1875f6f50807",
   "metadata": {},
   "source": [
    "### 데이터 전처리"
   ]
  },
  {
   "cell_type": "code",
   "execution_count": 8,
   "id": "8912ff28-99ac-4cb5-9ed9-2103f9cff277",
   "metadata": {},
   "outputs": [],
   "source": [
    "# 학습용데이터의 타겟값 처리\n",
    "target = train.pop('구분')"
   ]
  },
  {
   "cell_type": "code",
   "execution_count": 9,
   "id": "537673f3-da05-45a0-bfb2-960da7e0b639",
   "metadata": {},
   "outputs": [
    {
     "name": "stdout",
     "output_type": "stream",
     "text": [
      "(530, 15) (230, 15)\n"
     ]
    }
   ],
   "source": [
    "# 학습용/테스트용 데이터의 원핫인코딩 진행\n",
    "train_df = pd.get_dummies(train)\n",
    "test_df = pd.get_dummies(test)\n",
    "print(train_df.shape, test_df.shape)"
   ]
  },
  {
   "cell_type": "markdown",
   "id": "313ad910-4cf7-4e52-81a5-5e929d962392",
   "metadata": {},
   "source": [
    "### 검증용데이터 생성"
   ]
  },
  {
   "cell_type": "code",
   "execution_count": 10,
   "id": "09bcb3e5-ce0f-4975-8832-ad308a512950",
   "metadata": {},
   "outputs": [
    {
     "name": "stdout",
     "output_type": "stream",
     "text": [
      "(424, 15) (106, 15) (424,) (106,)\n"
     ]
    }
   ],
   "source": [
    "X_train, X_val, y_train, y_val = train_test_split(train_df, target, test_size = 0.2, random_state = 0)\n",
    "print(X_train.shape, X_val.shape, y_train.shape, y_val.shape)"
   ]
  },
  {
   "cell_type": "markdown",
   "id": "5ffa230f-79de-4d7e-8b0f-ab6839eec4b3",
   "metadata": {},
   "source": [
    "### 분류모델 생성"
   ]
  },
  {
   "cell_type": "markdown",
   "id": "c523e420-23ab-444e-9c8c-a689a51eafcf",
   "metadata": {},
   "source": [
    "* **predict**: 범주를 예측하여 반환 -> 회귀모델인 경우 0.3345...특정값 출력, 분류모델인 경우 0, 1, 2, 3 등 가장 확률이 높은 클래스 출력\n",
    "* **predict_proba**: 분류모델이 각 클래스에 대한 확률 출력(회귀에는 사용 불가)"
   ]
  },
  {
   "cell_type": "code",
   "execution_count": 11,
   "id": "674ce373-3d3c-4b06-b38b-99462ae56358",
   "metadata": {},
   "outputs": [
    {
     "data": {
      "text/plain": [
       "0.9317983948418732"
      ]
     },
     "execution_count": 11,
     "metadata": {},
     "output_type": "execute_result"
    }
   ],
   "source": [
    "rf = RandomForestClassifier(random_state = 0)\n",
    "rf.fit(X_train, y_train)\n",
    "predict_val = rf.predict(X_val)\n",
    "f1_score(y_val, predict_val, average = 'macro')"
   ]
  },
  {
   "cell_type": "markdown",
   "id": "d533ad02-9bd1-4a99-9c1a-05164bd1ac3a",
   "metadata": {},
   "source": [
    "### 테스트데이터로 예측, 결과 파일 생성"
   ]
  },
  {
   "cell_type": "code",
   "execution_count": 12,
   "id": "b2196e65-e41d-4322-ab78-f0f70bdb47e8",
   "metadata": {},
   "outputs": [
    {
     "name": "stdout",
     "output_type": "stream",
     "text": [
      "     pred\n",
      "0    고등학생\n",
      "1    초등학생\n",
      "2     중학생\n",
      "3    유치원생\n",
      "4    고등학생\n",
      "..    ...\n",
      "225  초등학생\n",
      "226  초등학생\n",
      "227  고등학생\n",
      "228  고등학생\n",
      "229  초등학생\n",
      "\n",
      "[230 rows x 1 columns]\n"
     ]
    }
   ],
   "source": [
    "# 테스트용 데이터를 이용하여 예측\n",
    "predict_test = rf.predict(test_df)\n",
    "result = pd.DataFrame({'pred': predict_test})\n",
    "print(result)\n",
    "\n",
    "result.to_csv('result1.csv', index = False, encoding = 'utf-8-sig')"
   ]
  },
  {
   "cell_type": "markdown",
   "id": "aaca13c2-257b-4204-964a-fd8fc2913084",
   "metadata": {},
   "source": [
    "## 기출문제 5회(2022.12.03 시행)"
   ]
  },
  {
   "cell_type": "markdown",
   "id": "85eff07b-52c8-4b10-88ed-2c76735e8b22",
   "metadata": {},
   "source": [
    "* used_car 데이터셋은 중고차와 관련된 정보를 가지고 있다. 주어진 학습용데이터를 이용하여 중고차의 판매 가격을 예측하고, 이를 평가용 데이터에 적용하여 얻은 예측결과를 다음과 같은 형식의 CSV 파일로 생성하시오."
   ]
  },
  {
   "cell_type": "code",
   "execution_count": 13,
   "id": "aa54c706-b838-463a-b41d-2fd1f6c3b6c1",
   "metadata": {},
   "outputs": [
    {
     "data": {
      "text/html": [
       "<div>\n",
       "<style scoped>\n",
       "    .dataframe tbody tr th:only-of-type {\n",
       "        vertical-align: middle;\n",
       "    }\n",
       "\n",
       "    .dataframe tbody tr th {\n",
       "        vertical-align: top;\n",
       "    }\n",
       "\n",
       "    .dataframe thead th {\n",
       "        text-align: right;\n",
       "    }\n",
       "</style>\n",
       "<table border=\"1\" class=\"dataframe\">\n",
       "  <thead>\n",
       "    <tr style=\"text-align: right;\">\n",
       "      <th></th>\n",
       "      <th>id</th>\n",
       "      <th>model</th>\n",
       "      <th>year</th>\n",
       "      <th>transmission</th>\n",
       "      <th>mileage</th>\n",
       "      <th>fuelType</th>\n",
       "      <th>tax</th>\n",
       "      <th>mpg</th>\n",
       "      <th>engineSize</th>\n",
       "    </tr>\n",
       "  </thead>\n",
       "  <tbody>\n",
       "    <tr>\n",
       "      <th>0</th>\n",
       "      <td>1</td>\n",
       "      <td>A1</td>\n",
       "      <td>2019</td>\n",
       "      <td>Automatic</td>\n",
       "      <td>3500</td>\n",
       "      <td>Petrol</td>\n",
       "      <td>145</td>\n",
       "      <td>40.9</td>\n",
       "      <td>2.0</td>\n",
       "    </tr>\n",
       "    <tr>\n",
       "      <th>1</th>\n",
       "      <td>2</td>\n",
       "      <td>RS4</td>\n",
       "      <td>2020</td>\n",
       "      <td>Semi-Auto</td>\n",
       "      <td>2500</td>\n",
       "      <td>Petrol</td>\n",
       "      <td>145</td>\n",
       "      <td>28.8</td>\n",
       "      <td>2.9</td>\n",
       "    </tr>\n",
       "    <tr>\n",
       "      <th>2</th>\n",
       "      <td>3</td>\n",
       "      <td>A8</td>\n",
       "      <td>2019</td>\n",
       "      <td>Semi-Auto</td>\n",
       "      <td>500</td>\n",
       "      <td>Diesel</td>\n",
       "      <td>145</td>\n",
       "      <td>40.4</td>\n",
       "      <td>3.0</td>\n",
       "    </tr>\n",
       "    <tr>\n",
       "      <th>3</th>\n",
       "      <td>4</td>\n",
       "      <td>Q5</td>\n",
       "      <td>2019</td>\n",
       "      <td>Semi-Auto</td>\n",
       "      <td>5089</td>\n",
       "      <td>Diesel</td>\n",
       "      <td>150</td>\n",
       "      <td>38.2</td>\n",
       "      <td>2.0</td>\n",
       "    </tr>\n",
       "    <tr>\n",
       "      <th>4</th>\n",
       "      <td>5</td>\n",
       "      <td>A5</td>\n",
       "      <td>2020</td>\n",
       "      <td>Semi-Auto</td>\n",
       "      <td>4951</td>\n",
       "      <td>Diesel</td>\n",
       "      <td>145</td>\n",
       "      <td>51.4</td>\n",
       "      <td>2.0</td>\n",
       "    </tr>\n",
       "  </tbody>\n",
       "</table>\n",
       "</div>"
      ],
      "text/plain": [
       "   id model  year transmission  mileage fuelType  tax   mpg  engineSize\n",
       "0   1    A1  2019    Automatic     3500   Petrol  145  40.9         2.0\n",
       "1   2   RS4  2020    Semi-Auto     2500   Petrol  145  28.8         2.9\n",
       "2   3    A8  2019    Semi-Auto      500   Diesel  145  40.4         3.0\n",
       "3   4    Q5  2019    Semi-Auto     5089   Diesel  150  38.2         2.0\n",
       "4   5    A5  2020    Semi-Auto     4951   Diesel  145  51.4         2.0"
      ]
     },
     "metadata": {},
     "output_type": "display_data"
    }
   ],
   "source": [
    "# 데이터 불러오기\n",
    "X_test = pd.read_csv('C:/Users/User/Desktop/빅분기 연습/dataset-main/used_car_X_test.csv')\n",
    "X_train = pd.read_csv('C:/Users/User/Desktop/빅분기 연습/dataset-main/used_car_X_train.csv')\n",
    "y_train = pd.read_csv('C:/Users/User/Desktop/빅분기 연습/dataset-main/used_car_y_train.csv')\n",
    "display(X_train.head())"
   ]
  },
  {
   "cell_type": "markdown",
   "id": "735799bb-2c94-478f-afca-52c06d2c8db0",
   "metadata": {},
   "source": [
    "### EDA"
   ]
  },
  {
   "cell_type": "code",
   "execution_count": 14,
   "id": "a619cce9-310a-4ab3-88fb-365e8a0f0cca",
   "metadata": {},
   "outputs": [
    {
     "name": "stdout",
     "output_type": "stream",
     "text": [
      "<class 'pandas.core.frame.DataFrame'>\n",
      "RangeIndex: 7468 entries, 0 to 7467\n",
      "Data columns (total 9 columns):\n",
      " #   Column        Non-Null Count  Dtype  \n",
      "---  ------        --------------  -----  \n",
      " 0   id            7468 non-null   int64  \n",
      " 1   model         7468 non-null   object \n",
      " 2   year          7468 non-null   int64  \n",
      " 3   transmission  7468 non-null   object \n",
      " 4   mileage       7468 non-null   int64  \n",
      " 5   fuelType      7468 non-null   object \n",
      " 6   tax           7468 non-null   int64  \n",
      " 7   mpg           7468 non-null   float64\n",
      " 8   engineSize    7468 non-null   float64\n",
      "dtypes: float64(2), int64(4), object(3)\n",
      "memory usage: 525.2+ KB\n"
     ]
    }
   ],
   "source": [
    "X_train.info()"
   ]
  },
  {
   "cell_type": "code",
   "execution_count": 15,
   "id": "dd3f4dee-cd7f-4b5a-a13b-5015eb0ac74f",
   "metadata": {},
   "outputs": [
    {
     "name": "stdout",
     "output_type": "stream",
     "text": [
      "<class 'pandas.core.frame.DataFrame'>\n",
      "RangeIndex: 3200 entries, 0 to 3199\n",
      "Data columns (total 9 columns):\n",
      " #   Column        Non-Null Count  Dtype  \n",
      "---  ------        --------------  -----  \n",
      " 0   id            3200 non-null   int64  \n",
      " 1   model         3200 non-null   object \n",
      " 2   year          3200 non-null   int64  \n",
      " 3   transmission  3200 non-null   object \n",
      " 4   mileage       3200 non-null   int64  \n",
      " 5   fuelType      3200 non-null   object \n",
      " 6   tax           3200 non-null   int64  \n",
      " 7   mpg           3200 non-null   float64\n",
      " 8   engineSize    3200 non-null   float64\n",
      "dtypes: float64(2), int64(4), object(3)\n",
      "memory usage: 225.1+ KB\n"
     ]
    }
   ],
   "source": [
    "X_test.info()"
   ]
  },
  {
   "cell_type": "code",
   "execution_count": 16,
   "id": "a6ac41ba-d06e-418e-acbc-d3d6fd2fd0bc",
   "metadata": {},
   "outputs": [
    {
     "name": "stdout",
     "output_type": "stream",
     "text": [
      "<class 'pandas.core.frame.DataFrame'>\n",
      "RangeIndex: 7468 entries, 0 to 7467\n",
      "Data columns (total 2 columns):\n",
      " #   Column  Non-Null Count  Dtype\n",
      "---  ------  --------------  -----\n",
      " 0   id      7468 non-null   int64\n",
      " 1   price   7468 non-null   int64\n",
      "dtypes: int64(2)\n",
      "memory usage: 116.8 KB\n"
     ]
    }
   ],
   "source": [
    "y_train.info()"
   ]
  },
  {
   "cell_type": "code",
   "execution_count": 17,
   "id": "4b6f4e3e-5a91-4fa6-ad8b-379a4d8cc764",
   "metadata": {},
   "outputs": [
    {
     "name": "stdout",
     "output_type": "stream",
     "text": [
      "X_train : 0\n",
      "y_train : 0\n",
      "X_test : 0\n"
     ]
    }
   ],
   "source": [
    "# 결측값 확인\n",
    "print(f'X_train : {X_train.isnull().sum().sum()}')\n",
    "print(f'y_train : {y_train.isnull().sum().sum()}')\n",
    "print(f'X_test : {X_test.isnull().sum().sum()}')"
   ]
  },
  {
   "cell_type": "code",
   "execution_count": 18,
   "id": "5bca0ade-2010-4931-a386-23050c8de149",
   "metadata": {},
   "outputs": [
    {
     "name": "stdout",
     "output_type": "stream",
     "text": [
      "  model transmission fuelType\n",
      "0    A1    Automatic   Petrol\n",
      "1   RS4    Semi-Auto   Petrol\n",
      "2    A8    Semi-Auto   Diesel\n",
      "3    Q5    Semi-Auto   Diesel\n",
      "4    A5    Semi-Auto   Diesel\n",
      "  model transmission fuelType\n",
      "0    A4    Semi-Auto   Diesel\n",
      "1    A6       Manual   Diesel\n",
      "2    Q5    Semi-Auto   Diesel\n",
      "3    A1       Manual   Petrol\n",
      "4    A3       Manual   Petrol\n"
     ]
    }
   ],
   "source": [
    "# 데이터 나누기\n",
    "# 범주형 데이터\n",
    "X_train_word = X_train[['model', 'transmission', 'fuelType']]\n",
    "X_test_word = X_test[['model', 'transmission', 'fuelType']]\n",
    "print(X_train_word.head())\n",
    "\n",
    "# 수치형 데이터\n",
    "X_train_num = X_train.drop(columns = ['id', 'model', 'transmission', 'fuelType'])\n",
    "X_test_num = X_test.drop(columns = ['id', 'model', 'transmission', 'fuelType'])\n",
    "print(X_test_word.head())"
   ]
  },
  {
   "cell_type": "markdown",
   "id": "dfe6d5a1-ea3a-43f8-8a9a-bab5ed38c719",
   "metadata": {},
   "source": [
    "### 데이터 전처리"
   ]
  },
  {
   "cell_type": "code",
   "execution_count": 19,
   "id": "c5532899-f5d4-4667-987a-33dafe1bbd5e",
   "metadata": {},
   "outputs": [],
   "source": [
    "# 데이터 스케일링\n",
    "# MinMax 스케일러 생성\n",
    "scaler = MinMaxScaler()\n",
    "\n",
    "# 수치형 데이터에 MinMax 스케일링 적용\n",
    "X_train_num_scale = scaler.fit_transform(X_train_num)\n",
    "X_test_num_scale = scaler.fit_transform(X_test_num)\n",
    "\n",
    "# 데이터프레임 설정\n",
    "df_train_num = pd.DataFrame(X_train_num_scale, columns = X_train_num.columns)\n",
    "df_test_num = pd.DataFrame(X_test_num_scale, columns = X_test_num.columns)\n",
    "\n",
    "# 원핫 인코딩\n",
    "df_train_word = pd.get_dummies(X_train_word)\n",
    "df_test_word = pd.get_dummies(X_test_word)"
   ]
  },
  {
   "cell_type": "code",
   "execution_count": 20,
   "id": "83d12b24-e558-4813-8837-fa9ef00eef51",
   "metadata": {},
   "outputs": [
    {
     "name": "stdout",
     "output_type": "stream",
     "text": [
      "컬럼 목록 중 테스트 데이터에 없는 컬럼:  {'model_ S5', 'model_ S8', 'model_ RS7', 'model_ A2'}\n",
      "컬럼 목록 중 훈련 데이터에 없는 컬럼:  set()\n"
     ]
    }
   ],
   "source": [
    "# 훈련 데이터프레임 컬럼 목록\n",
    "train_columns = set(df_train_word.columns)\n",
    "\n",
    "# 테스트 데이터프레임 컬럼 목록\n",
    "test_columns = set(df_test_word.columns)\n",
    "\n",
    "# 훈련데이터에는 있지만 테스트 데이터에는 없는 컬럼 확인\n",
    "missing_in_test = train_columns - test_columns\n",
    "\n",
    "# 테스트데이터에는 있지만 훈련 데이터에는 없는 컬럼 확인\n",
    "missing_in_train = test_columns - train_columns\n",
    "\n",
    "print('컬럼 목록 중 테스트 데이터에 없는 컬럼: ', missing_in_test)\n",
    "print('컬럼 목록 중 훈련 데이터에 없는 컬럼: ', missing_in_train)"
   ]
  },
  {
   "cell_type": "code",
   "execution_count": 21,
   "id": "43b23713-72f9-4bbd-8fdc-5ea0ab9f0d98",
   "metadata": {},
   "outputs": [],
   "source": [
    "# 컬럼 목록 중 없는 컬럼의 값을 0으로 해서 채워줌\n",
    "df_test_word['model_ A2'] = 0\n",
    "df_test_word['model_ S8'] = 0\n",
    "df_test_word['model_ RS7'] = 0\n",
    "df_test_word['model_ S5'] = 0"
   ]
  },
  {
   "cell_type": "code",
   "execution_count": 22,
   "id": "c1907d03-b0bd-493e-bc21-20a0d9f2f43b",
   "metadata": {},
   "outputs": [
    {
     "name": "stdout",
     "output_type": "stream",
     "text": [
      "       year   mileage       tax       mpg  engineSize  model_ A1  model_ A2  \\\n",
      "0  0.954545  0.020825  0.250000  0.127811    0.317460       True      False   \n",
      "1  1.000000  0.014874  0.250000  0.056213    0.460317      False      False   \n",
      "2  0.954545  0.002970  0.250000  0.124852    0.476190      False      False   \n",
      "3  0.954545  0.030283  0.258621  0.111834    0.317460      False      False   \n",
      "4  1.000000  0.029461  0.250000  0.189941    0.317460      False      False   \n",
      "\n",
      "   model_ A3  model_ A4  model_ A5  ...  model_ S8  model_ SQ5  model_ SQ7  \\\n",
      "0      False      False      False  ...      False       False       False   \n",
      "1      False      False      False  ...      False       False       False   \n",
      "2      False      False      False  ...      False       False       False   \n",
      "3      False      False      False  ...      False       False       False   \n",
      "4      False      False       True  ...      False       False       False   \n",
      "\n",
      "   model_ TT  transmission_Automatic  transmission_Manual  \\\n",
      "0      False                    True                False   \n",
      "1      False                   False                False   \n",
      "2      False                   False                False   \n",
      "3      False                   False                False   \n",
      "4      False                   False                False   \n",
      "\n",
      "   transmission_Semi-Auto  fuelType_Diesel  fuelType_Hybrid  fuelType_Petrol  \n",
      "0                   False            False            False             True  \n",
      "1                    True            False            False             True  \n",
      "2                    True             True            False            False  \n",
      "3                    True             True            False            False  \n",
      "4                    True             True            False            False  \n",
      "\n",
      "[5 rows x 37 columns]\n"
     ]
    }
   ],
   "source": [
    "# 데이터 결합\n",
    "df_train = pd.concat([df_train_num, df_train_word], axis = 1)\n",
    "df_test = pd.concat([df_test_num, df_test_word], axis = 1)\n",
    "print(df_train.head())"
   ]
  },
  {
   "cell_type": "markdown",
   "id": "7f86490c-91a9-4a38-bd03-4ec0f122fbe9",
   "metadata": {},
   "source": [
    "### 검증용 데이터 생성"
   ]
  },
  {
   "cell_type": "code",
   "execution_count": 23,
   "id": "8d1ed3c2-92db-4ffe-a4bb-c43683e40cc3",
   "metadata": {},
   "outputs": [
    {
     "name": "stdout",
     "output_type": "stream",
     "text": [
      "2535.463325101483\n"
     ]
    }
   ],
   "source": [
    "rf = RandomForestRegressor(random_state = 77)\n",
    "\n",
    "X_train, X_val, y_train_t, y_val = train_test_split(df_train.values, y_train['price'].values, test_size = 0.3)\n",
    "\n",
    "# 모델 학습\n",
    "rf.fit(X_train, y_train_t)\n",
    "\n",
    "# validation 데이터로 성능 평가\n",
    "y_pred = rf.predict(X_val)\n",
    "print(np.sqrt(mean_squared_error(y_val, y_pred)))"
   ]
  },
  {
   "cell_type": "markdown",
   "id": "74a19847-c08e-47b0-9458-0f32c903f5db",
   "metadata": {},
   "source": [
    "### 예측"
   ]
  },
  {
   "cell_type": "code",
   "execution_count": 24,
   "id": "59401661-9432-4fd3-8edd-1a3cda36733c",
   "metadata": {},
   "outputs": [
    {
     "name": "stdout",
     "output_type": "stream",
     "text": [
      "     id     price\n",
      "0  7469  33664.06\n",
      "1  7470  19018.59\n",
      "2  7471  36489.61\n",
      "3  7472  14979.18\n",
      "4  7473  16551.26\n"
     ]
    },
    {
     "name": "stderr",
     "output_type": "stream",
     "text": [
      "C:\\ProgramData\\anaconda3\\envs\\pythonEx\\lib\\site-packages\\sklearn\\base.py:457: UserWarning: X has feature names, but RandomForestRegressor was fitted without feature names\n",
      "  warnings.warn(\n"
     ]
    }
   ],
   "source": [
    "y_pred = rf.predict(df_test)\n",
    "df = pd.DataFrame(X_test['id'], columns = ['id'])\n",
    "df['price'] = y_pred\n",
    "print(df.head())\n",
    "\n",
    "# CSV파일 생성\n",
    "df.to_csv('result2.csv', index = False)"
   ]
  }
 ],
 "metadata": {
  "kernelspec": {
   "display_name": "Python 3 (ipykernel)",
   "language": "python",
   "name": "python3"
  },
  "language_info": {
   "codemirror_mode": {
    "name": "ipython",
    "version": 3
   },
   "file_extension": ".py",
   "mimetype": "text/x-python",
   "name": "python",
   "nbconvert_exporter": "python",
   "pygments_lexer": "ipython3",
   "version": "3.8.18"
  }
 },
 "nbformat": 4,
 "nbformat_minor": 5
}
