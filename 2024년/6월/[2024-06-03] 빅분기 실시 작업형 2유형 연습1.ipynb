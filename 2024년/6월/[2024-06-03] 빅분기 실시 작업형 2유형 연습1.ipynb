{
 "cells": [
  {
   "cell_type": "markdown",
   "id": "385e18e2-83f3-4a16-8ae0-616c3e26ecfd",
   "metadata": {},
   "source": [
    "# 빅데이터 분석기사 실기"
   ]
  },
  {
   "cell_type": "markdown",
   "id": "23e76a6d-2a17-48a8-9bae-eb9e5aa38e79",
   "metadata": {},
   "source": [
    "## 퇴근후딴짓 참고"
   ]
  },
  {
   "cell_type": "code",
   "execution_count": 1,
   "id": "f1f3281a-c134-4960-b6fd-599a2fca8e4f",
   "metadata": {},
   "outputs": [],
   "source": [
    "# 라이브러리 불러오기\n",
    "import pandas as pd\n",
    "import numpy as np\n",
    "from sklearn.preprocessing import MinMaxScaler, StandardScaler\n",
    "from sklearn.ensemble import RandomForestClassifier\n",
    "from sklearn.ensemble import RandomForestRegressor\n",
    "from sklearn.metrics import mean_squared_error\n",
    "from sklearn.model_selection import train_test_split\n",
    "from sklearn.metrics import roc_auc_score"
   ]
  },
  {
   "cell_type": "code",
   "execution_count": 2,
   "id": "c14ca079-acd1-4cd0-a558-0e9f421ed7ae",
   "metadata": {},
   "outputs": [],
   "source": [
    "# 1. 전자상거래 배송 데이터"
   ]
  },
  {
   "cell_type": "code",
   "execution_count": 3,
   "id": "389b78fd-879f-4411-9ab3-882dfc0c0be1",
   "metadata": {},
   "outputs": [
    {
     "data": {
      "text/plain": [
       "((8799, 11), (2200, 11), (8799, 2), (2200, 2))"
      ]
     },
     "execution_count": 3,
     "metadata": {},
     "output_type": "execute_result"
    }
   ],
   "source": [
    "# 시험환경 세팅\n",
    "def exam_data_load(df, target, id_name = '', null_name = ''):\n",
    "    if id_name == '':\n",
    "        df = df.reset_index().rename(columns = {'index': 'id'})\n",
    "        id_name = 'id'\n",
    "    else:\n",
    "        id_name = id_name\n",
    "\n",
    "    if null_name != '':\n",
    "        df[df == null_name] = np.nan\n",
    "\n",
    "    X_train, X_test = train_test_split(df, test_size = 0.2, random_state = 42)\n",
    "\n",
    "    y_train = X_train[[id_name, target]]\n",
    "    X_train = X_train.drop(columns = [target])\n",
    "\n",
    "    y_test = X_test[[id_name, target]]\n",
    "    X_test = X_test.drop(columns = [target])\n",
    "    return X_train, X_test, y_train, y_test\n",
    "\n",
    "df = pd.read_csv('C:/Users/chunc/Desktop/빅분기 연습/Ecommerce/Train.csv')\n",
    "X_train, X_test, y_train, y_test = exam_data_load(df, target = 'Reached.on.Time_Y.N', id_name = 'ID')\n",
    "\n",
    "X_train.shape, X_test.shape, y_train.shape, y_test.shape"
   ]
  },
  {
   "cell_type": "code",
   "execution_count": 4,
   "id": "82477933-9751-4b38-8afe-e7b2dc235c28",
   "metadata": {},
   "outputs": [
    {
     "data": {
      "text/plain": [
       "((8799, 11), (2200, 11), (8799, 2))"
      ]
     },
     "execution_count": 4,
     "metadata": {},
     "output_type": "execute_result"
    }
   ],
   "source": [
    "# 제공된 3개 데이터 (y_test데이터 활용X)\n",
    "X_train.shape, X_test.shape, y_train.shape"
   ]
  },
  {
   "cell_type": "code",
   "execution_count": 5,
   "id": "605099d8-1db0-40df-920f-b271a1d7dec3",
   "metadata": {},
   "outputs": [
    {
     "name": "stdout",
     "output_type": "stream",
     "text": [
      "(8799, 11)\n"
     ]
    },
    {
     "data": {
      "text/html": [
       "<div>\n",
       "<style scoped>\n",
       "    .dataframe tbody tr th:only-of-type {\n",
       "        vertical-align: middle;\n",
       "    }\n",
       "\n",
       "    .dataframe tbody tr th {\n",
       "        vertical-align: top;\n",
       "    }\n",
       "\n",
       "    .dataframe thead th {\n",
       "        text-align: right;\n",
       "    }\n",
       "</style>\n",
       "<table border=\"1\" class=\"dataframe\">\n",
       "  <thead>\n",
       "    <tr style=\"text-align: right;\">\n",
       "      <th></th>\n",
       "      <th>ID</th>\n",
       "      <th>Warehouse_block</th>\n",
       "      <th>Mode_of_Shipment</th>\n",
       "      <th>Customer_care_calls</th>\n",
       "      <th>Customer_rating</th>\n",
       "      <th>Cost_of_the_Product</th>\n",
       "      <th>Prior_purchases</th>\n",
       "      <th>Product_importance</th>\n",
       "      <th>Gender</th>\n",
       "      <th>Discount_offered</th>\n",
       "      <th>Weight_in_gms</th>\n",
       "    </tr>\n",
       "  </thead>\n",
       "  <tbody>\n",
       "    <tr>\n",
       "      <th>8965</th>\n",
       "      <td>8966</td>\n",
       "      <td>F</td>\n",
       "      <td>Ship</td>\n",
       "      <td>3</td>\n",
       "      <td>5</td>\n",
       "      <td>178</td>\n",
       "      <td>3</td>\n",
       "      <td>low</td>\n",
       "      <td>F</td>\n",
       "      <td>7</td>\n",
       "      <td>4135</td>\n",
       "    </tr>\n",
       "    <tr>\n",
       "      <th>5936</th>\n",
       "      <td>5937</td>\n",
       "      <td>A</td>\n",
       "      <td>Ship</td>\n",
       "      <td>6</td>\n",
       "      <td>3</td>\n",
       "      <td>202</td>\n",
       "      <td>4</td>\n",
       "      <td>medium</td>\n",
       "      <td>F</td>\n",
       "      <td>3</td>\n",
       "      <td>4496</td>\n",
       "    </tr>\n",
       "    <tr>\n",
       "      <th>10656</th>\n",
       "      <td>10657</td>\n",
       "      <td>D</td>\n",
       "      <td>Ship</td>\n",
       "      <td>2</td>\n",
       "      <td>5</td>\n",
       "      <td>277</td>\n",
       "      <td>3</td>\n",
       "      <td>medium</td>\n",
       "      <td>M</td>\n",
       "      <td>6</td>\n",
       "      <td>1032</td>\n",
       "    </tr>\n",
       "    <tr>\n",
       "      <th>3328</th>\n",
       "      <td>3329</td>\n",
       "      <td>C</td>\n",
       "      <td>Ship</td>\n",
       "      <td>5</td>\n",
       "      <td>5</td>\n",
       "      <td>219</td>\n",
       "      <td>2</td>\n",
       "      <td>medium</td>\n",
       "      <td>M</td>\n",
       "      <td>4</td>\n",
       "      <td>4289</td>\n",
       "    </tr>\n",
       "    <tr>\n",
       "      <th>9880</th>\n",
       "      <td>9881</td>\n",
       "      <td>C</td>\n",
       "      <td>Flight</td>\n",
       "      <td>6</td>\n",
       "      <td>3</td>\n",
       "      <td>296</td>\n",
       "      <td>4</td>\n",
       "      <td>low</td>\n",
       "      <td>F</td>\n",
       "      <td>4</td>\n",
       "      <td>1650</td>\n",
       "    </tr>\n",
       "  </tbody>\n",
       "</table>\n",
       "</div>"
      ],
      "text/plain": [
       "          ID Warehouse_block Mode_of_Shipment  Customer_care_calls  \\\n",
       "8965    8966               F             Ship                    3   \n",
       "5936    5937               A             Ship                    6   \n",
       "10656  10657               D             Ship                    2   \n",
       "3328    3329               C             Ship                    5   \n",
       "9880    9881               C           Flight                    6   \n",
       "\n",
       "       Customer_rating  Cost_of_the_Product  Prior_purchases  \\\n",
       "8965                 5                  178                3   \n",
       "5936                 3                  202                4   \n",
       "10656                5                  277                3   \n",
       "3328                 5                  219                2   \n",
       "9880                 3                  296                4   \n",
       "\n",
       "      Product_importance Gender  Discount_offered  Weight_in_gms  \n",
       "8965                 low      F                 7           4135  \n",
       "5936              medium      F                 3           4496  \n",
       "10656             medium      M                 6           1032  \n",
       "3328              medium      M                 4           4289  \n",
       "9880                 low      F                 4           1650  "
      ]
     },
     "execution_count": 5,
     "metadata": {},
     "output_type": "execute_result"
    }
   ],
   "source": [
    "# EDA\n",
    "# 데이터 확인\n",
    "print(X_train.shape)\n",
    "X_train.head()"
   ]
  },
  {
   "cell_type": "code",
   "execution_count": 6,
   "id": "4cb8c557-0873-4814-b866-1cd9f9b9984d",
   "metadata": {},
   "outputs": [
    {
     "data": {
      "text/plain": [
       "Reached.on.Time_Y.N\n",
       "1    5258\n",
       "0    3541\n",
       "Name: count, dtype: int64"
      ]
     },
     "execution_count": 6,
     "metadata": {},
     "output_type": "execute_result"
    }
   ],
   "source": [
    "# 레이블(타겟) 확인\n",
    "y_train['Reached.on.Time_Y.N'].value_counts()"
   ]
  },
  {
   "cell_type": "code",
   "execution_count": 7,
   "id": "54b47d75-6b09-4425-a81f-25b2509e958c",
   "metadata": {},
   "outputs": [
    {
     "data": {
      "text/plain": [
       "ID                     0\n",
       "Warehouse_block        0\n",
       "Mode_of_Shipment       0\n",
       "Customer_care_calls    0\n",
       "Customer_rating        0\n",
       "Cost_of_the_Product    0\n",
       "Prior_purchases        0\n",
       "Product_importance     0\n",
       "Gender                 0\n",
       "Discount_offered       0\n",
       "Weight_in_gms          0\n",
       "dtype: int64"
      ]
     },
     "execution_count": 7,
     "metadata": {},
     "output_type": "execute_result"
    }
   ],
   "source": [
    "# X_train 결측치 확인\n",
    "X_train.isnull().sum()"
   ]
  },
  {
   "cell_type": "code",
   "execution_count": 8,
   "id": "010879a6-5ed8-413d-b6a4-a83c89f47471",
   "metadata": {},
   "outputs": [
    {
     "data": {
      "text/plain": [
       "ID                     0\n",
       "Warehouse_block        0\n",
       "Mode_of_Shipment       0\n",
       "Customer_care_calls    0\n",
       "Customer_rating        0\n",
       "Cost_of_the_Product    0\n",
       "Prior_purchases        0\n",
       "Product_importance     0\n",
       "Gender                 0\n",
       "Discount_offered       0\n",
       "Weight_in_gms          0\n",
       "dtype: int64"
      ]
     },
     "execution_count": 8,
     "metadata": {},
     "output_type": "execute_result"
    }
   ],
   "source": [
    "# X_test 결측치 확인\n",
    "X_test.isnull().sum()"
   ]
  },
  {
   "cell_type": "code",
   "execution_count": 9,
   "id": "1c6eed66-5281-412f-a012-d58302ef3ba8",
   "metadata": {},
   "outputs": [
    {
     "name": "stdout",
     "output_type": "stream",
     "text": [
      "<class 'pandas.core.frame.DataFrame'>\n",
      "Index: 8799 entries, 8965 to 7270\n",
      "Data columns (total 11 columns):\n",
      " #   Column               Non-Null Count  Dtype \n",
      "---  ------               --------------  ----- \n",
      " 0   ID                   8799 non-null   int64 \n",
      " 1   Warehouse_block      8799 non-null   object\n",
      " 2   Mode_of_Shipment     8799 non-null   object\n",
      " 3   Customer_care_calls  8799 non-null   int64 \n",
      " 4   Customer_rating      8799 non-null   int64 \n",
      " 5   Cost_of_the_Product  8799 non-null   int64 \n",
      " 6   Prior_purchases      8799 non-null   int64 \n",
      " 7   Product_importance   8799 non-null   object\n",
      " 8   Gender               8799 non-null   object\n",
      " 9   Discount_offered     8799 non-null   int64 \n",
      " 10  Weight_in_gms        8799 non-null   int64 \n",
      "dtypes: int64(7), object(4)\n",
      "memory usage: 824.9+ KB\n"
     ]
    }
   ],
   "source": [
    "# 데이터 타입 확인\n",
    "X_train.info()"
   ]
  },
  {
   "cell_type": "code",
   "execution_count": 10,
   "id": "f1aeb6fc-97cb-4a18-bcf0-5d97fa027030",
   "metadata": {},
   "outputs": [
    {
     "data": {
      "text/plain": [
       "Warehouse_block       5\n",
       "Mode_of_Shipment      3\n",
       "Product_importance    3\n",
       "Gender                2\n",
       "dtype: int64"
      ]
     },
     "execution_count": 10,
     "metadata": {},
     "output_type": "execute_result"
    }
   ],
   "source": [
    "# object 타입 컬럼, 고유값 개수 확인\n",
    "X_train[['Warehouse_block', 'Mode_of_Shipment', 'Product_importance', 'Gender']].nunique()"
   ]
  },
  {
   "cell_type": "code",
   "execution_count": 11,
   "id": "738c6d83-fbc2-4031-9b8f-c212d8c434d9",
   "metadata": {},
   "outputs": [
    {
     "data": {
      "text/html": [
       "<div>\n",
       "<style scoped>\n",
       "    .dataframe tbody tr th:only-of-type {\n",
       "        vertical-align: middle;\n",
       "    }\n",
       "\n",
       "    .dataframe tbody tr th {\n",
       "        vertical-align: top;\n",
       "    }\n",
       "\n",
       "    .dataframe thead th {\n",
       "        text-align: right;\n",
       "    }\n",
       "</style>\n",
       "<table border=\"1\" class=\"dataframe\">\n",
       "  <thead>\n",
       "    <tr style=\"text-align: right;\">\n",
       "      <th></th>\n",
       "      <th>ID</th>\n",
       "      <th>Customer_care_calls</th>\n",
       "      <th>Customer_rating</th>\n",
       "      <th>Cost_of_the_Product</th>\n",
       "      <th>Prior_purchases</th>\n",
       "      <th>Discount_offered</th>\n",
       "      <th>Weight_in_gms</th>\n",
       "    </tr>\n",
       "  </thead>\n",
       "  <tbody>\n",
       "    <tr>\n",
       "      <th>8965</th>\n",
       "      <td>8966</td>\n",
       "      <td>3</td>\n",
       "      <td>5</td>\n",
       "      <td>178</td>\n",
       "      <td>3</td>\n",
       "      <td>7</td>\n",
       "      <td>4135</td>\n",
       "    </tr>\n",
       "    <tr>\n",
       "      <th>5936</th>\n",
       "      <td>5937</td>\n",
       "      <td>6</td>\n",
       "      <td>3</td>\n",
       "      <td>202</td>\n",
       "      <td>4</td>\n",
       "      <td>3</td>\n",
       "      <td>4496</td>\n",
       "    </tr>\n",
       "    <tr>\n",
       "      <th>10656</th>\n",
       "      <td>10657</td>\n",
       "      <td>2</td>\n",
       "      <td>5</td>\n",
       "      <td>277</td>\n",
       "      <td>3</td>\n",
       "      <td>6</td>\n",
       "      <td>1032</td>\n",
       "    </tr>\n",
       "    <tr>\n",
       "      <th>3328</th>\n",
       "      <td>3329</td>\n",
       "      <td>5</td>\n",
       "      <td>5</td>\n",
       "      <td>219</td>\n",
       "      <td>2</td>\n",
       "      <td>4</td>\n",
       "      <td>4289</td>\n",
       "    </tr>\n",
       "    <tr>\n",
       "      <th>9880</th>\n",
       "      <td>9881</td>\n",
       "      <td>6</td>\n",
       "      <td>3</td>\n",
       "      <td>296</td>\n",
       "      <td>4</td>\n",
       "      <td>4</td>\n",
       "      <td>1650</td>\n",
       "    </tr>\n",
       "    <tr>\n",
       "      <th>...</th>\n",
       "      <td>...</td>\n",
       "      <td>...</td>\n",
       "      <td>...</td>\n",
       "      <td>...</td>\n",
       "      <td>...</td>\n",
       "      <td>...</td>\n",
       "      <td>...</td>\n",
       "    </tr>\n",
       "    <tr>\n",
       "      <th>5734</th>\n",
       "      <td>5735</td>\n",
       "      <td>3</td>\n",
       "      <td>5</td>\n",
       "      <td>275</td>\n",
       "      <td>2</td>\n",
       "      <td>7</td>\n",
       "      <td>4619</td>\n",
       "    </tr>\n",
       "    <tr>\n",
       "      <th>5191</th>\n",
       "      <td>5192</td>\n",
       "      <td>5</td>\n",
       "      <td>5</td>\n",
       "      <td>187</td>\n",
       "      <td>4</td>\n",
       "      <td>9</td>\n",
       "      <td>5326</td>\n",
       "    </tr>\n",
       "    <tr>\n",
       "      <th>5390</th>\n",
       "      <td>5391</td>\n",
       "      <td>4</td>\n",
       "      <td>2</td>\n",
       "      <td>137</td>\n",
       "      <td>2</td>\n",
       "      <td>2</td>\n",
       "      <td>5804</td>\n",
       "    </tr>\n",
       "    <tr>\n",
       "      <th>860</th>\n",
       "      <td>861</td>\n",
       "      <td>5</td>\n",
       "      <td>3</td>\n",
       "      <td>144</td>\n",
       "      <td>6</td>\n",
       "      <td>35</td>\n",
       "      <td>1009</td>\n",
       "    </tr>\n",
       "    <tr>\n",
       "      <th>7270</th>\n",
       "      <td>7271</td>\n",
       "      <td>4</td>\n",
       "      <td>3</td>\n",
       "      <td>155</td>\n",
       "      <td>3</td>\n",
       "      <td>2</td>\n",
       "      <td>4534</td>\n",
       "    </tr>\n",
       "  </tbody>\n",
       "</table>\n",
       "<p>8799 rows × 7 columns</p>\n",
       "</div>"
      ],
      "text/plain": [
       "          ID  Customer_care_calls  Customer_rating  Cost_of_the_Product  \\\n",
       "8965    8966                    3                5                  178   \n",
       "5936    5937                    6                3                  202   \n",
       "10656  10657                    2                5                  277   \n",
       "3328    3329                    5                5                  219   \n",
       "9880    9881                    6                3                  296   \n",
       "...      ...                  ...              ...                  ...   \n",
       "5734    5735                    3                5                  275   \n",
       "5191    5192                    5                5                  187   \n",
       "5390    5391                    4                2                  137   \n",
       "860      861                    5                3                  144   \n",
       "7270    7271                    4                3                  155   \n",
       "\n",
       "       Prior_purchases  Discount_offered  Weight_in_gms  \n",
       "8965                 3                 7           4135  \n",
       "5936                 4                 3           4496  \n",
       "10656                3                 6           1032  \n",
       "3328                 2                 4           4289  \n",
       "9880                 4                 4           1650  \n",
       "...                ...               ...            ...  \n",
       "5734                 2                 7           4619  \n",
       "5191                 4                 9           5326  \n",
       "5390                 2                 2           5804  \n",
       "860                  6                35           1009  \n",
       "7270                 3                 2           4534  \n",
       "\n",
       "[8799 rows x 7 columns]"
      ]
     },
     "execution_count": 11,
     "metadata": {},
     "output_type": "execute_result"
    }
   ],
   "source": [
    "# 데이터 전처리\n",
    "# object컬럼 삭제(라벨인코딩, 원핫인코딩)\n",
    "X_train = X_train.drop(['Warehouse_block', 'Mode_of_Shipment', 'Product_importance', 'Gender'], axis = 1)\n",
    "X_test = X_test.drop(['Warehouse_block', 'Mode_of_Shipment', 'Product_importance', 'Gender'], axis = 1)\n",
    "X_train"
   ]
  },
  {
   "cell_type": "code",
   "execution_count": 12,
   "id": "8e0185de-50cf-4a0c-845a-a95d856f13cc",
   "metadata": {},
   "outputs": [],
   "source": [
    "# 모델 및 평가\n",
    "X_train_id = X_train.pop('ID')\n",
    "X_test_id = X_test.pop('ID')"
   ]
  },
  {
   "cell_type": "code",
   "execution_count": 13,
   "id": "bafb78b3-77ce-43c6-aec2-2b0f926a52fc",
   "metadata": {},
   "outputs": [],
   "source": [
    "# train-valid 분할\n",
    "X_tr, X_val, y_tr, y_val = train_test_split(X_train, y_train['Reached.on.Time_Y.N'], test_size = 0.2, random_state = 42)"
   ]
  },
  {
   "cell_type": "code",
   "execution_count": 14,
   "id": "0ee93265-b30b-44ed-9e40-8087db0d3033",
   "metadata": {},
   "outputs": [
    {
     "data": {
      "text/plain": [
       "0.7347122736418512"
      ]
     },
     "execution_count": 14,
     "metadata": {},
     "output_type": "execute_result"
    }
   ],
   "source": [
    "# 모델 적합\n",
    "model = RandomForestClassifier()\n",
    "model.fit(X_tr, y_tr)\n",
    "pred = model.predict_proba(X_val)\n",
    "roc_auc_score(y_val, pred[:,1])"
   ]
  },
  {
   "cell_type": "code",
   "execution_count": 15,
   "id": "5a0a08df-e12d-4654-99fe-f8f9592895ae",
   "metadata": {},
   "outputs": [
    {
     "data": {
      "text/plain": [
       "array([[0.  , 1.  ],\n",
       "       [0.59, 0.41],\n",
       "       [0.54, 0.46],\n",
       "       ...,\n",
       "       [0.52, 0.48],\n",
       "       [0.36, 0.64],\n",
       "       [0.75, 0.25]])"
      ]
     },
     "execution_count": 15,
     "metadata": {},
     "output_type": "execute_result"
    }
   ],
   "source": [
    "model = RandomForestClassifier()\n",
    "model.fit(X_train, y_train['Reached.on.Time_Y.N'])\n",
    "pred = model.predict_proba(X_test)\n",
    "pred"
   ]
  },
  {
   "cell_type": "code",
   "execution_count": 16,
   "id": "b340ac9d-dd71-495b-976c-4423dc265de4",
   "metadata": {},
   "outputs": [
    {
     "data": {
      "text/html": [
       "<div>\n",
       "<style scoped>\n",
       "    .dataframe tbody tr th:only-of-type {\n",
       "        vertical-align: middle;\n",
       "    }\n",
       "\n",
       "    .dataframe tbody tr th {\n",
       "        vertical-align: top;\n",
       "    }\n",
       "\n",
       "    .dataframe thead th {\n",
       "        text-align: right;\n",
       "    }\n",
       "</style>\n",
       "<table border=\"1\" class=\"dataframe\">\n",
       "  <thead>\n",
       "    <tr style=\"text-align: right;\">\n",
       "      <th></th>\n",
       "      <th>ID</th>\n",
       "      <th>Reached.on.Time_Y.N</th>\n",
       "    </tr>\n",
       "  </thead>\n",
       "  <tbody>\n",
       "    <tr>\n",
       "      <th>107</th>\n",
       "      <td>108</td>\n",
       "      <td>1.00</td>\n",
       "    </tr>\n",
       "    <tr>\n",
       "      <th>5594</th>\n",
       "      <td>5595</td>\n",
       "      <td>0.41</td>\n",
       "    </tr>\n",
       "    <tr>\n",
       "      <th>6997</th>\n",
       "      <td>6998</td>\n",
       "      <td>0.46</td>\n",
       "    </tr>\n",
       "    <tr>\n",
       "      <th>3984</th>\n",
       "      <td>3985</td>\n",
       "      <td>0.43</td>\n",
       "    </tr>\n",
       "    <tr>\n",
       "      <th>3111</th>\n",
       "      <td>3112</td>\n",
       "      <td>1.00</td>\n",
       "    </tr>\n",
       "  </tbody>\n",
       "</table>\n",
       "</div>"
      ],
      "text/plain": [
       "        ID  Reached.on.Time_Y.N\n",
       "107    108                 1.00\n",
       "5594  5595                 0.41\n",
       "6997  6998                 0.46\n",
       "3984  3985                 0.43\n",
       "3111  3112                 1.00"
      ]
     },
     "execution_count": 16,
     "metadata": {},
     "output_type": "execute_result"
    }
   ],
   "source": [
    "submission = pd.DataFrame({\n",
    "    'ID': X_test_id, 'Reached.on.Time_Y.N': pred[:,1]})\n",
    "submission.head()"
   ]
  },
  {
   "cell_type": "code",
   "execution_count": 17,
   "id": "d2bd8281-fcb2-45a5-888b-a76d7ff9cb53",
   "metadata": {},
   "outputs": [],
   "source": [
    "submission.to_csv('jcm01.csv', index = False)"
   ]
  }
 ],
 "metadata": {
  "kernelspec": {
   "display_name": "Python 3 (ipykernel)",
   "language": "python",
   "name": "python3"
  },
  "language_info": {
   "codemirror_mode": {
    "name": "ipython",
    "version": 3
   },
   "file_extension": ".py",
   "mimetype": "text/x-python",
   "name": "python",
   "nbconvert_exporter": "python",
   "pygments_lexer": "ipython3",
   "version": "3.8.19"
  }
 },
 "nbformat": 4,
 "nbformat_minor": 5
}
