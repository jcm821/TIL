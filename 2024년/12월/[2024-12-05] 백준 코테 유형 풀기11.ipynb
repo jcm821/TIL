{
 "cells": [
  {
   "cell_type": "code",
   "execution_count": null,
   "id": "bc254251-0b47-4716-8111-4edf860b9a80",
   "metadata": {},
   "outputs": [],
   "source": [
    "# 문제\n",
    "# 상담원으로 일하고 있는 백준이는 퇴사를 하려고 한다.\n",
    "# 오늘부터 N+1일째 되는 날 퇴사를 하기 위해서, 남은 N일 동안 최대한 많은 상담을 하려고 한다.\n",
    "# 백준이는 비서에게 최대한 많은 상담을 잡으라고 부탁을 했고, 비서는 하루에 하나씩 서로 다른 사람의 상담을 잡아놓았다.\n",
    "# 각각의 상담은 상담을 완료하는데 걸리는 기간 Ti와 상담을 했을 때 받을 수 있는 금액 Pi로 이루어져 있다.\n",
    "\n",
    "# N = 7인 경우에 다음과 같은 상담 일정표를 보자.\n",
    "\n",
    "#  \t1일\t2일\t3일\t4일\t5일\t6일\t7일\n",
    "# Ti\t3\t5\t1\t1\t2\t4\t2\n",
    "# Pi\t10\t20\t10\t20\t15\t40\t200\n",
    "# 1일에 잡혀있는 상담은 총 3일이 걸리며, 상담했을 때 받을 수 있는 금액은 10이다. 5일에 잡혀있는 상담은 총 2일이 걸리며, 받을 수 있는 금액은 15이다.\n",
    "# 상담을 하는데 필요한 기간은 1일보다 클 수 있기 때문에, 모든 상담을 할 수는 없다. 예를 들어서 1일에 상담을 하게 되면, 2일, 3일에 있는 상담은 할 수 없게 된다.\n",
    "# 2일에 있는 상담을 하게 되면, 3, 4, 5, 6일에 잡혀있는 상담은 할 수 없다.\n",
    "# 또한, N+1일째에는 회사에 없기 때문에, 6, 7일에 있는 상담을 할 수 없다.\n",
    "# 퇴사 전에 할 수 있는 상담의 최대 이익은 1일, 4일, 5일에 있는 상담을 하는 것이며, 이때의 이익은 10+20+15=45이다.\n",
    "# 상담을 적절히 했을 때, 백준이가 얻을 수 있는 최대 수익을 구하는 프로그램을 작성하시오.\n",
    "\n",
    "# 입력\n",
    "# 첫째 줄에 N (1 ≤ N ≤ 15)이 주어진다.\n",
    "# 둘째 줄부터 N개의 줄에 Ti와 Pi가 공백으로 구분되어서 주어지며, 1일부터 N일까지 순서대로 주어진다. (1 ≤ Ti ≤ 5, 1 ≤ Pi ≤ 1,000)\n",
    "\n",
    "# 출력\n",
    "# 첫째 줄에 백준이가 얻을 수 있는 최대 이익을 출력한다."
   ]
  },
  {
   "cell_type": "code",
   "execution_count": null,
   "id": "65a98d96-200f-41f1-851c-430605c3abb3",
   "metadata": {},
   "outputs": [],
   "source": [
    "# 접근\n",
    "# 다이나믹 프로그램, 재귀 등의 방법\n",
    "# 큰 문제를 작은 부분 문제로 나누고, 그 작은 부분문제들이 반복되는 것을 이용\n",
    "# 상담 소요 시간이 퇴사날을 넘어서는지 않는지 (넘어서지 않아야만 받을 수 있음) -> 언제 받을거고 언제 받지 않을건가를 판단"
   ]
  },
  {
   "cell_type": "code",
   "execution_count": 3,
   "id": "5c05c9b7-40b0-4ac2-bd1f-bc7ed5b3d979",
   "metadata": {},
   "outputs": [
    {
     "name": "stdin",
     "output_type": "stream",
     "text": [
      " 7\n",
      " 3 10\n",
      " 5 20\n",
      " 1 10\n",
      " 1 20\n",
      " 2 15\n",
      " 4 40\n",
      " 2 200\n"
     ]
    },
    {
     "name": "stdout",
     "output_type": "stream",
     "text": [
      "45\n"
     ]
    }
   ],
   "source": [
    "# sol1\n",
    "# 다이나믹 프로그래밍\n",
    "n = int(input())\n",
    "TP = [list(map(int, input().split())) for _ in range(n)]\n",
    "dp = [0 for _ in range(n + 1)]\n",
    "\n",
    "for i in range(n - 1, -1, -1):\n",
    "    if i + TP[i][0] > n:\n",
    "        dp[i] = dp[i + 1]\n",
    "    else:\n",
    "        dp[i] = max(dp[i + 1], dp[i + TP[i][0]] + TP[i][1])\n",
    "print(dp[0])"
   ]
  },
  {
   "cell_type": "code",
   "execution_count": 5,
   "id": "3d9205a3-c88a-43c7-8d33-a17023c05eba",
   "metadata": {},
   "outputs": [
    {
     "name": "stdin",
     "output_type": "stream",
     "text": [
      " 7\n",
      " 3 10\n",
      " 5 20\n",
      " 1 10\n",
      " 1 20\n",
      " 2 15\n",
      " 4 40\n",
      " 2 200\n"
     ]
    },
    {
     "name": "stdout",
     "output_type": "stream",
     "text": [
      "45\n"
     ]
    }
   ],
   "source": [
    "# sol2\n",
    "# 재귀\n",
    "n = int(input())\n",
    "timeTable = [list(map(int, input().split())) for _ in range(n)]\n",
    "\n",
    "def solve(i):\n",
    "    if i >= n:\n",
    "        return 0\n",
    "\n",
    "    ret = 0\n",
    "    if i + timeTable[i][0] <= n:\n",
    "        ret = solve(i + timeTable[i][0]) + timeTable[i][1]\n",
    "    ret = max(ret, solve(i + 1))\n",
    "    return ret\n",
    "print(solve(0))"
   ]
  },
  {
   "cell_type": "code",
   "execution_count": null,
   "id": "6ee676fb-1565-482a-b131-ab63a4840cee",
   "metadata": {},
   "outputs": [],
   "source": [
    "# 문제\n",
    "# 인체에 치명적인 바이러스를 연구하던 연구소에서 바이러스가 유출되었다. 다행히 바이러스는 아직 퍼지지 않았고, 바이러스의 확산을 막기 위해서 연구소에 벽을 세우려고 한다.\n",
    "# 연구소는 크기가 N×M인 직사각형으로 나타낼 수 있으며, 직사각형은 1×1 크기의 정사각형으로 나누어져 있다. 연구소는 빈 칸, 벽으로 이루어져 있으며, 벽은 칸 하나를 가득 차지한다. \n",
    "# 일부 칸은 바이러스가 존재하며, 이 바이러스는 상하좌우로 인접한 빈 칸으로 모두 퍼져나갈 수 있다. 새로 세울 수 있는 벽의 개수는 3개이며, 꼭 3개를 세워야 한다.\n",
    "# 예를 들어, 아래와 같이 연구소가 생긴 경우를 살펴보자.\n",
    "\n",
    "# 2 0 0 0 1 1 0\n",
    "# 0 0 1 0 1 2 0\n",
    "# 0 1 1 0 1 0 0\n",
    "# 0 1 0 0 0 0 0\n",
    "# 0 0 0 0 0 1 1\n",
    "# 0 1 0 0 0 0 0\n",
    "# 0 1 0 0 0 0 0\n",
    "\n",
    "# 이때, 0은 빈 칸, 1은 벽, 2는 바이러스가 있는 곳이다. 아무런 벽을 세우지 않는다면, 바이러스는 모든 빈 칸으로 퍼져나갈 수 있다.\n",
    "# 2행 1열, 1행 2열, 4행 6열에 벽을 세운다면 지도의 모양은 아래와 같아지게 된다.\n",
    "\n",
    "# 2 1 0 0 1 1 0\n",
    "# 1 0 1 0 1 2 0\n",
    "# 0 1 1 0 1 0 0\n",
    "# 0 1 0 0 0 1 0\n",
    "# 0 0 0 0 0 1 1\n",
    "# 0 1 0 0 0 0 0\n",
    "# 0 1 0 0 0 0 0\n",
    "# 바이러스가 퍼진 뒤의 모습은 아래와 같아진다.\n",
    "\n",
    "# 2 1 0 0 1 1 2\n",
    "# 1 0 1 0 1 2 2\n",
    "# 0 1 1 0 1 2 2\n",
    "# 0 1 0 0 0 1 2\n",
    "# 0 0 0 0 0 1 1\n",
    "# 0 1 0 0 0 0 0\n",
    "# 0 1 0 0 0 0 0\n",
    "# 벽을 3개 세운 뒤, 바이러스가 퍼질 수 없는 곳을 안전 영역이라고 한다. 위의 지도에서 안전 영역의 크기는 27이다.\n",
    "# 연구소의 지도가 주어졌을 때 얻을 수 있는 안전 영역 크기의 최댓값을 구하는 프로그램을 작성하시오.\n",
    "\n",
    "# 입력\n",
    "# 첫째 줄에 지도의 세로 크기 N과 가로 크기 M이 주어진다. (3 ≤ N, M ≤ 8)\n",
    "# 둘째 줄부터 N개의 줄에 지도의 모양이 주어진다. 0은 빈 칸, 1은 벽, 2는 바이러스가 있는 위치이다. 2의 개수는 2보다 크거나 같고, 10보다 작거나 같은 자연수이다.\n",
    "# 빈 칸의 개수는 3개 이상이다.\n",
    "\n",
    "# 출력\n",
    "# 첫째 줄에 얻을 수 있는 안전 영역의 최대 크기를 출력한다."
   ]
  },
  {
   "cell_type": "code",
   "execution_count": null,
   "id": "e91da6cc-2464-4ac5-920b-dc2c29752b19",
   "metadata": {},
   "outputs": [],
   "source": [
    "# 접근\n",
    "# 1) 먼저 벽을 꼭 3개를 세워야하므로 벽을 3개 세웠을 때 바이러스를 퍼트려야 한다.\n",
    "# 2) 바이러스는 상하좌우의 인접한 빈칸으로 이동하므로 bfs를 여기서 사용한다.\n",
    "# 2-1) 바이러스의 위치를 큐에 전부 넣고 while queue를 돌린다. \n",
    "# 2-2 ) 바이러스를 퍼트린 후에 0(빈칸) 이 몇개있는지 체크하고, 최대값을 찾는다."
   ]
  },
  {
   "cell_type": "code",
   "execution_count": null,
   "id": "2d01f66c-087b-42a3-b187-8a6769d800ed",
   "metadata": {},
   "outputs": [],
   "source": [
    "# vscode 사용\n",
    "# bfs 알고리즘 이용\n",
    "# 연구소 문제\n",
    "from collections import deque\n",
    "import copy\n",
    "import sys\n",
    "input = sys.stdin.readline\n",
    "\n",
    "d = [[-1, 0], [1, 0], [0, -1], [0, 1]]\n",
    "\n",
    "def bfs():\n",
    "    queue = deque()\n",
    "    # queue에 2의 위치를 전부 append\n",
    "    test_map = copy.deepcopy(lab_map)\n",
    "    for i in range(n):\n",
    "        for k in range(m):\n",
    "            if test_map[i][k] == 2:\n",
    "                queue.append((i, k))\n",
    "\n",
    "    while queue:\n",
    "        r, c = queue.popleft()\n",
    "\n",
    "        for i in range(4):\n",
    "            dr = r + d[i][0]\n",
    "            dc = c + d[i][1]\n",
    "\n",
    "            if (0 <= dr < n) and (0 <= dc < m):\n",
    "                if test_map[dr][dc] == 0:\n",
    "                    test_map[dr][dc] = 2\n",
    "                    queue.append((dr, dc))\n",
    "\n",
    "\n",
    "    global result\n",
    "    count = 0\n",
    "    for i in range(n):\n",
    "        for k in range(m):\n",
    "            if test_map[i][k] == 0:\n",
    "                count += 1\n",
    "\n",
    "    result = max(result, count)\n",
    "\n",
    "\n",
    "def make_wall(count):\n",
    "    if count == 3:\n",
    "        bfs()\n",
    "        return\n",
    "\n",
    "    for i in range(n):\n",
    "        for k in range(m):\n",
    "            if lab_map[i][k] == 0:\n",
    "                lab_map[i][k] = 1\n",
    "                make_wall(count + 1)\n",
    "                lab_map[i][k] = 0\n",
    "\n",
    "\n",
    "n, m = map(int, input().split())\n",
    "lab_map = [list(map(int, input().split())) for _ in range(n)]\n",
    "\n",
    "result = 0\n",
    "make_wall(0)\n",
    "\n",
    "print(result)"
   ]
  }
 ],
 "metadata": {
  "kernelspec": {
   "display_name": "Python 3 (ipykernel)",
   "language": "python",
   "name": "python3"
  },
  "language_info": {
   "codemirror_mode": {
    "name": "ipython",
    "version": 3
   },
   "file_extension": ".py",
   "mimetype": "text/x-python",
   "name": "python",
   "nbconvert_exporter": "python",
   "pygments_lexer": "ipython3",
   "version": "3.8.19"
  }
 },
 "nbformat": 4,
 "nbformat_minor": 5
}
