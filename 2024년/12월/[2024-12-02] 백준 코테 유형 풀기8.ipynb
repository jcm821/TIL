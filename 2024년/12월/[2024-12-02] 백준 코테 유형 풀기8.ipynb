{
 "cells": [
  {
   "cell_type": "code",
   "execution_count": null,
   "id": "1d23a979-c3f2-4d8d-9850-2726df925406",
   "metadata": {},
   "outputs": [],
   "source": [
    "# 택배 배송 문제\n",
    "# 농부 현서는 농부 찬홍이에게 택배를 배달해줘야 합니다. 그리고 지금, 갈 준비를 하고 있습니다. 평화롭게 가려면 가는 길에 만나는 모든 소들에게 맛있는 여물을 줘야 합니다. \n",
    "# 물론 현서는 구두쇠라서 최소한의 소들을 만나면서 지나가고 싶습니다.\n",
    "\n",
    "# 농부 현서에게는 지도가 있습니다. N (1 <= N <= 50,000) 개의 헛간과, 소들의 길인 M (1 <= M <= 50,000) 개의 양방향 길이 그려져 있고, 각각의 길은 C_i (0 <= C_i <= 1,000) 마리의 소가 있습니다. \n",
    "# 소들의 길은 두 개의 떨어진 헛간인 A_i 와 B_i (1 <= A_i <= N; 1 <= B_i <= N; A_i != B_i)를 잇습니다. 두 개의 헛간은 하나 이상의 길로 연결되어 있을 수도 있습니다. \n",
    "# 농부 현서는 헛간 1에 있고 농부 찬홍이는 헛간 N에 있습니다.\n",
    "\n",
    "# 다음 지도를 참고하세요.\n",
    "\n",
    "#            [2]---\n",
    "#           / |    \\\n",
    "#          /1 |     \\ 6\n",
    "#         /   |      \\\n",
    "#      [1]   0|    --[3]\n",
    "#         \\   |   /     \\2\n",
    "#         4\\  |  /4      [6]\n",
    "#           \\ | /       /1\n",
    "#            [4]-----[5] \n",
    "#                 3  \n",
    "# 농부 현서가 선택할 수 있는 최선의 통로는 1 -> 2 -> 4 -> 5 -> 6 입니다. 왜냐하면 여물의 총합이 1 + 0 + 3 + 1 = 5 이기 때문입니다.\n",
    "\n",
    "# 농부 현서의 지도가 주어지고, 지나가는 길에 소를 만나면 줘야할 여물의 비용이 주어질 때 최소 여물은 얼마일까요? 농부 현서는 가는 길의 길이는 고려하지 않습니다.\n",
    "\n",
    "# 입력\n",
    "# 첫째 줄에 N과 M이 공백을 사이에 두고 주어집니다.\n",
    "\n",
    "# 둘째 줄부터 M+1번째 줄까지 세 개의 정수 A_i, B_i, C_i가 주어집니다.\n",
    "\n",
    "# 출력\n",
    "# 첫째 줄에 농부 현서가 가져가야 될 최소 여물을 출력합니다."
   ]
  },
  {
   "cell_type": "code",
   "execution_count": null,
   "id": "375e5202-55ef-4889-840e-565784baafab",
   "metadata": {},
   "outputs": [],
   "source": [
    "# 접근\n",
    "# dist는 노드 간의 최단 거리를 저장할 리스트로 초기값은 무한대(inf)로 초기화하고 1번 노드부터의 최단 거리를 나타냄\n",
    "# graph는 각 노드에 연결된 엣지 정보를 저장하는 리스트\n",
    "# 먼저 그래프 정보를 구성해야 합니다. m번 반복하여 입력으로 주어지는 간선 정보를 바탕으로 생성합니다. 양방향 그래프이므로 두 노드 간의 연결 관계와 가중치를 저장\n",
    "# 이후 우선순위 큐를 사용하여 다익스트라 알고리즘을 수행합니다. 초기에는 1번 노드부터 시작하므로 (0, 1)을 우선순위 큐에 추가.\n",
    "# hq(heap queue)는 최소 힙을 유지하는 자료구조로, 튜플 형태로 (거리, 노드)를 저장\n",
    "# 우선순위 큐에서 노드를 하나씩 꺼내면서 해당 노드까지의 거리 vd와 노드 번호 v를 확인. 현재 노드까지의 거리 vd가 이전에 저장된 최단 거리 dist[v]보다 작은 경우는 무시\n",
    "# 현재 노드에서 이동 가능한 노드들을 확인하면서, 현재 거리 vd와 가중치 d를 더한 값이 해당 노드까지의 최단 거리 dist[t]보다 작으면 최단 거리를 업데이트하고, 우선순위 큐에 추가\n",
    "# 모든 노드를 처리한 후 dist 리스트에는 각 노드까지의 최단 거리가 저장될 것입니다. 목표 지점 노드의 최단 거리를 출력"
   ]
  },
  {
   "cell_type": "code",
   "execution_count": null,
   "id": "49b0c881-4753-4c90-bef6-a86d242ad659",
   "metadata": {},
   "outputs": [],
   "source": [
    "# vscode 사용\n",
    "# 다익스트라 알고리즘 이용\n",
    "# 택배 배송 문제\n",
    "import sys\n",
    "from heapq import heappush, heappop\n",
    "input = sys.stdin.readline\n",
    "\n",
    "inf = 1e9\n",
    "n, m = map(int, input().split())\n",
    "dist = [inf] * (n + 1)\n",
    "dist[1] = 0\n",
    "graph = [[] for _ in range(n + 1)]\n",
    "\n",
    "for _ in range(m):\n",
    "    a, b, c = map(int, input().split())\n",
    "    graph[a].append((b, c))\n",
    "    graph[b].append((a, c))\n",
    "\n",
    "hq = []\n",
    "heappush(hq, (0, 1))\n",
    "while hq:\n",
    "    vd, v = heappop(hq)\n",
    "    if vd < dist[v]:\n",
    "        continue\n",
    "\n",
    "    for (t, d) in graph[v]:\n",
    "        if vd + d < dist[t]:\n",
    "            dist[t] = vd + d\n",
    "            heappush(hq, (vd + d, t))\n",
    "print(dist[-1])"
   ]
  },
  {
   "cell_type": "code",
   "execution_count": null,
   "id": "0e3d854f-17c7-4a64-b671-9032bc4b38d8",
   "metadata": {},
   "outputs": [],
   "source": [
    "# 용액 문제\n",
    "# KOI 부설 과학연구소에서는 많은 종류의 산성 용액과 알칼리성 용액을 보유하고 있다. 각 용액에는 그 용액의 특성을 나타내는 하나의 정수가 주어져있다.\n",
    "# 산성 용액의 특성값은 1부터 1,000,000,000까지의 양의 정수로 나타내고, 알칼리성 용액의 특성값은 -1부터 -1,000,000,000까지의 음의 정수로 나타낸다.\n",
    "\n",
    "# 같은 양의 두 용액을 혼합한 용액의 특성값은 혼합에 사용된 각 용액의 특성값의 합으로 정의한다. 이 연구소에서는 같은 양의 두 용액을 혼합하여 특성값이 0에 가장 가까운 용액을 만들려고 한다.\n",
    "\n",
    "# 예를 들어, 주어진 용액들의 특성값이 [-99, -2, -1, 4, 98]인 경우에는 특성값이 -99인 용액과 특성값이 98인 용액을 혼합하면 특성값이 -1인 용액을 만들 수 있고, 이 용액의 특성값이 0에 가장 가까운 용액이다. \n",
    "# 참고로, 두 종류의 알칼리성 용액만으로나 혹은 두 종류의 산성 용액만으로 특성값이 0에 가장 가까운 혼합 용액을 만드는 경우도 존재할 수 있다.\n",
    "\n",
    "# 산성 용액과 알칼리성 용액의 특성값이 정렬된 순서로 주어졌을 때, 이 중 두 개의 서로 다른 용액을 혼합하여 특성값이 0에 가장 가까운 용액을 만들어내는 두 용액을 찾는 프로그램을 작성하시오.\n",
    "\n",
    "# 입력\n",
    "# 첫째 줄에는 전체 용액의 수 N이 입력된다. N은 2 이상 100,000 이하의 정수이다. 둘째 줄에는 용액의 특성값을 나타내는 N개의 정수가 빈칸을 사이에 두고 오름차순으로 입력되며, 이 수들은 모두 -1,000,000,000 이상 1,000,000,000 이하이다. \n",
    "# N개의 용액들의 특성값은 모두 서로 다르고, 산성 용액만으로나 알칼리성 용액만으로 입력이 주어지는 경우도 있을 수 있다.\n",
    "\n",
    "# 출력\n",
    "# 첫째 줄에 특성값이 0에 가장 가까운 용액을 만들어내는 두 용액의 특성값을 출력한다. 출력해야 하는 두 용액은 특성값의 오름차순으로 출력한다.\n",
    "# 특성값이 0에 가장 가까운 용액을 만들어내는 경우가 두 개 이상일 경우에는 그 중 아무것이나 하나를 출력한다."
   ]
  },
  {
   "cell_type": "code",
   "execution_count": null,
   "id": "a8898392-50d8-4aab-9c32-d9728b41ca52",
   "metadata": {},
   "outputs": [],
   "source": [
    "# 접근\n",
    "# 이진탐색을 활용하여 시간초과 회피\n",
    "# 단순히 최소값을 찾는 것이 아닌, 합계가 0에 가까운 두 값을 찾아야 하므로, 두 값의 합계의 절대값이 최소인 두 값을 찾는다.\n",
    "# 정렬된 배열이 주어지므로, 별도의 두 값을 선택하는 모든 경우의 수를 따질 필요는 없다."
   ]
  },
  {
   "cell_type": "code",
   "execution_count": 2,
   "id": "08e42f26-b06f-4997-82bd-eaaef6bd61e8",
   "metadata": {},
   "outputs": [
    {
     "name": "stdin",
     "output_type": "stream",
     "text": [
      " 5\n",
      " -99 -2 -1 4 98\n"
     ]
    },
    {
     "name": "stdout",
     "output_type": "stream",
     "text": [
      "-99 98\n"
     ]
    }
   ],
   "source": [
    "n = int(input())\n",
    "liquids = list(map(int, input().split()))\n",
    "\n",
    "min_val = float('inf')\n",
    "answer = [float('inf'), float('inf')]\n",
    "left, right = 0, n - 1\n",
    "while left < right:\n",
    "    if abs(liquids[left] + liquids[right]) < min_val:\n",
    "        min_val = abs(liquids[left] + liquids[right])\n",
    "        answer = [liquids[left], liquids[right]]\n",
    "\n",
    "    if liquids[left] + liquids[right] < 0:\n",
    "        left += 1\n",
    "    else:\n",
    "        right -= 1\n",
    "print(*answer)"
   ]
  },
  {
   "cell_type": "code",
   "execution_count": null,
   "id": "7130bf01-88b7-4d93-a792-9d431c60f081",
   "metadata": {},
   "outputs": [],
   "source": [
    "# 문제\n",
    "# 세로 두 줄, 가로로 N개의 칸으로 이루어진 표가 있다. 첫째 줄의 각 칸에는 정수 1, 2, …, N이 차례대로 들어 있고 둘째 줄의 각 칸에는 1이상 N이하인 정수가 들어 있다.\n",
    "# 첫째 줄에서 숫자를 적절히 뽑으면, 그 뽑힌 정수들이 이루는 집합과, 뽑힌 정수들의 바로 밑의 둘째 줄에 들어있는 정수들이 이루는 집합이 일치한다.\n",
    "# 이러한 조건을 만족시키도록 정수들을 뽑되, 최대로 많이 뽑는 방법을 찾는 프로그램을 작성하시오. 예를 들어, N=7인 경우 아래와 같이 표가 주어졌다고 하자.\n",
    "\n",
    "# 이 경우에는 첫째 줄에서 1, 3, 5를 뽑는 것이 답이다. 첫째 줄의 1, 3, 5밑에는 각각 3, 1, 5가 있으며 두 집합은 일치한다. 이때 집합의 크기는 3이다.\n",
    "# 만약 첫째 줄에서 1과 3을 뽑으면, 이들 바로 밑에는 정수 3과 1이 있으므로 두 집합이 일치한다. 그러나, 이 경우에 뽑힌 정수의 개수는 최대가 아니므로 답이 될 수 없다.\n",
    "\n",
    "# 입력\n",
    "# 첫째 줄에는 N(1≤N≤100)을 나타내는 정수 하나가 주어진다. 그 다음 줄부터는 표의 둘째 줄에 들어가는 정수들이 순서대로 한 줄에 하나씩 입력된다.\n",
    "\n",
    "# 출력\n",
    "# 첫째 줄에 뽑힌 정수들의 개수를 출력하고, 그 다음 줄부터는 뽑힌 정수들을 작은 수부터 큰 수의 순서로 한 줄에 하나씩 출력한다."
   ]
  },
  {
   "cell_type": "code",
   "execution_count": null,
   "id": "7cb50eb5-13e5-4f75-84d3-73405494c8bb",
   "metadata": {},
   "outputs": [],
   "source": [
    "# 접근\n",
    "# v는 현재 좌표, i는 시작한 좌표\n",
    "# 좌표들을 돌면서, 만약 와본적이 없는 좌표이면, 와봤다고 체크하고 다음 행선지로 보내고,\n",
    "# 만약 이미 도착했었던 좌표라면, \n",
    "# 이미 와본적이 있었는지 확인한다.\n",
    "# 이를 모든 좌표마다 체크해주면서, 풀어준다. "
   ]
  },
  {
   "cell_type": "code",
   "execution_count": null,
   "id": "7ab25068-af9c-432f-8fa1-315c43fbb4b6",
   "metadata": {},
   "outputs": [],
   "source": [
    "# vscode 사용\n",
    "# dfs 알고리즘 이용\n",
    "# 숫자고르기 문제\n",
    "import sys\n",
    "input = sys.stdin.readline\n",
    "\n",
    "def dfs(v, i):\n",
    "    visited[v] = True\n",
    "    w = data[v]\n",
    "    if not visited[w]:\n",
    "        dfs(w, i)\n",
    "    elif visited[w] and w == i:\n",
    "        result.append(w)\n",
    "\n",
    "n = int(input())\n",
    "data = [0] + [int(input()) for _ in range(n)]\n",
    "result = []\n",
    "for i in range(1, n + 1):\n",
    "    visited = [False] * (n + 1)\n",
    "    dfs(i, i)\n",
    "\n",
    "print(len(result))\n",
    "result.sort()\n",
    "for i in result:\n",
    "    print(i)"
   ]
  },
  {
   "cell_type": "code",
   "execution_count": null,
   "id": "5bddf073-d6d6-4a99-8ed3-62dfe4b1bf8d",
   "metadata": {},
   "outputs": [],
   "source": []
  },
  {
   "cell_type": "code",
   "execution_count": null,
   "id": "2cb09fc1-6786-4835-b69e-ca14b412f1fc",
   "metadata": {},
   "outputs": [],
   "source": []
  }
 ],
 "metadata": {
  "kernelspec": {
   "display_name": "Python 3 (ipykernel)",
   "language": "python",
   "name": "python3"
  },
  "language_info": {
   "codemirror_mode": {
    "name": "ipython",
    "version": 3
   },
   "file_extension": ".py",
   "mimetype": "text/x-python",
   "name": "python",
   "nbconvert_exporter": "python",
   "pygments_lexer": "ipython3",
   "version": "3.8.19"
  }
 },
 "nbformat": 4,
 "nbformat_minor": 5
}
