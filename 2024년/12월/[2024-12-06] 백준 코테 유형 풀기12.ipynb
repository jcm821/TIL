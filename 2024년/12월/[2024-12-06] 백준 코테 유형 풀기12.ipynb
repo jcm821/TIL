{
 "cells": [
  {
   "cell_type": "code",
   "execution_count": null,
   "id": "41e7d75b-b161-404d-af17-3da4f44a0fce",
   "metadata": {},
   "outputs": [],
   "source": [
    "# 로봇 청소기 문제\n",
    "# 로봇 청소기와 방의 상태가 주어졌을 때, 청소하는 영역의 개수를 구하는 프로그램을 작성하시오.\n",
    "# 로봇 청소기가 있는 방은 $N \\times M$ 크기의 직사각형으로 나타낼 수 있으며, $1 \\times 1$ 크기의 정사각형 칸으로 나누어져 있다. 각각의 칸은 벽 또는 빈 칸이다. 청소기는 바라보는 방향이 있으며, 이 방향은 동, 서, 남, 북 중 하나이다.\n",
    "# 방의 각 칸은 좌표 $(r, c)$로 나타낼 수 있고, 가장 북쪽 줄의 가장 서쪽 칸의 좌표가 $(0, 0)$, 가장 남쪽 줄의 가장 동쪽 칸의 좌표가 $(N-1, M-1)$이다.\n",
    "# 즉, 좌표 $(r, c)$는 북쪽에서 $(r+1)$번째에 있는 줄의 서쪽에서 $(c+1)$번째 칸을 가리킨다. 처음에 빈 칸은 전부 청소되지 않은 상태이다.\n",
    "# 로봇 청소기는 다음과 같이 작동한다.\n",
    "\n",
    "# 현재 칸이 아직 청소되지 않은 경우, 현재 칸을 청소한다.\n",
    "# 현재 칸의 주변 $4$칸 중 청소되지 않은 빈 칸이 없는 경우,\n",
    "# 바라보는 방향을 유지한 채로 한 칸 후진할 수 있다면 한 칸 후진하고 1번으로 돌아간다.\n",
    "# 바라보는 방향의 뒤쪽 칸이 벽이라 후진할 수 없다면 작동을 멈춘다.\n",
    "# 현재 칸의 주변 $4$칸 중 청소되지 않은 빈 칸이 있는 경우,\n",
    "# 반시계 방향으로 $90^\\circ$ 회전한다.\n",
    "# 바라보는 방향을 기준으로 앞쪽 칸이 청소되지 않은 빈 칸인 경우 한 칸 전진한다.\n",
    "# 1번으로 돌아간다.\n",
    "# 입력\n",
    "# 첫째 줄에 방의 크기 $N$과 $M$이 입력된다. $(3 \\le N, M \\le 50)$  둘째 줄에 처음에 로봇 청소기가 있는 칸의 좌표 $(r, c)$와 처음에 로봇 청소기가 바라보는 방향 $d$가 입력된다.\n",
    "# $d$가 $0$인 경우 북쪽, $1$인 경우 동쪽, $2$인 경우 남쪽, $3$인 경우 서쪽을 바라보고 있는 것이다.\n",
    "\n",
    "# 셋째 줄부터 $N$개의 줄에 각 장소의 상태를 나타내는 $N \\times M$개의 값이 한 줄에 $M$개씩 입력된다. $i$번째 줄의 $j$번째 값은 칸 $(i, j)$의 상태를 나타내며, 이 값이 $0$인 경우 $(i, j)$가 청소되지 않은 빈 칸이고, $1$인 경우 $(i, j)$에 벽이 있는 것이다.\n",
    "# 방의 가장 북쪽, 가장 남쪽, 가장 서쪽, 가장 동쪽 줄 중 하나 이상에 위치한 모든 칸에는 벽이 있다. 로봇 청소기가 있는 칸은 항상 빈 칸이다.\n",
    "\n",
    "# 출력\n",
    "# 로봇 청소기가 작동을 시작한 후 작동을 멈출 때까지 청소하는 칸의 개수를 출력한다."
   ]
  },
  {
   "cell_type": "code",
   "execution_count": null,
   "id": "1f36599b-3159-4f61-91a0-1fe670a4e816",
   "metadata": {},
   "outputs": [],
   "source": [
    "# 접근\n",
    "# 현재 바라보는 방향은 문제에서 북동남서로 정의되었기 때문에 dx, dy를 해당 방향으로 정렬\n",
    "# (1번) while 반복문을 통해 매번 해당 칸이 청소 안 한 칸이면 청소하고 청소 횟수(cnt)를 1 증가\n",
    "# (3번) 해당 칸에서 반시계 방향으로 회전하면서 청소 안한 빈칸을 탐색\n",
    "# dx, dy가 시계방향으로 정렬되어 있음으로 반시계 방향으로 회전하려면 현재 방향(d)에 -1을 하면 된다.\n",
    "# 청소 안 한 칸이 있다면 해당 위치로 이동하고 (x, y = nx, ny) break를 통해 1번을 반복\n",
    "# 만약 청소 안한 칸이 없다면 break 되지 않기 때문에 else 조건으로 이동\n",
    "# (2번) 후진을 하고 만약 벽이라면 작동을 멈춘다.\n",
    "# 방향을 유지하며 후진을 해야 하므로 현재 방향(d)을 바꾸기보단 -1을 곱함으로써 방향을 180도 바꿀 수 있다.\n",
    "# x = x + dx [d] * (-1)\n",
    "# 후진 이동한 곳이 벽(1)이라면 작동을 멈춘다. (본 문제에서는 이동할 수 없는 경우는 안 나온다)\n",
    "# 작동을 멈추는 경우엔 청소 횟수를 출력"
   ]
  },
  {
   "cell_type": "code",
   "execution_count": 2,
   "id": "c65c86ba-b604-44e2-895f-5a826ac58c1d",
   "metadata": {},
   "outputs": [
    {
     "name": "stdin",
     "output_type": "stream",
     "text": [
      " 3 3\n",
      " 1 1 0\n",
      " 1 1 1\n",
      " 1 0 1\n",
      " 1 1 1\n"
     ]
    },
    {
     "name": "stdout",
     "output_type": "stream",
     "text": [
      "1\n"
     ]
    }
   ],
   "source": [
    "n, m = map(int, input().split())\n",
    "r, c, d = map(int, input().split())\n",
    "area = [list(map(int, input().split())) for _ in range(n)]\n",
    "dx = [-1, 0, 1, 0]\n",
    "dy = [0, 1, 0, -1]\n",
    "\n",
    "# 범위 안에서 이동하는지 확인하기 위해 필요\n",
    "def in_range(x, y):\n",
    "    return 0 <= x < n and 0 <= y < m\n",
    "\n",
    "def cleaner(x, y, d):\n",
    "    cnt = 0\n",
    "    while True:\n",
    "        # 청소하고 청소 횟수 1증가\n",
    "        if area[x][y] == 0:\n",
    "            # 청소 수행\n",
    "            area[x][y] = -1\n",
    "            cnt += 1\n",
    "\n",
    "        # 3번 반시계 방향으로 회전하며 청소하지 않은 칸 탐색\n",
    "        for _ in range(4):\n",
    "            d = (d - 1) % 4\n",
    "            nx, ny = x + dx[d], y + dy[d]\n",
    "            # 청소 안한 칸으로 이동\n",
    "            if in_range(nx, ny) and area[nx][ny] == 0:\n",
    "                x, y = nx, ny\n",
    "                # 이동했으면 다시 1번으로\n",
    "                break\n",
    "\n",
    "        else:\n",
    "            # 2번, 4번 다 깨끗하다면 후진하거나 멈춤\n",
    "            # 후진\n",
    "            x, y = x + dx[d] * (-1), y + dy[d] * (-1)\n",
    "            # 벽이라면 작동중지\n",
    "            if in_range(x, y) and area[x][y] == 1 or not in_range(x, y):\n",
    "                print(cnt)\n",
    "                return\n",
    "\n",
    "cleaner(r, c, d)"
   ]
  },
  {
   "cell_type": "code",
   "execution_count": null,
   "id": "44bcd433-6cc1-4d0e-a9a5-48090e4b6671",
   "metadata": {},
   "outputs": [],
   "source": [
    "# 연산자 끼워넣기 문제\n",
    "# N개의 수로 이루어진 수열 A1, A2, ..., AN이 주어진다. 또, 수와 수 사이에 끼워넣을 수 있는 N-1개의 연산자가 주어진다. 연산자는 덧셈(+), 뺄셈(-), 곱셈(×), 나눗셈(÷)으로만 이루어져 있다.\n",
    "\n",
    "# 우리는 수와 수 사이에 연산자를 하나씩 넣어서, 수식을 하나 만들 수 있다. 이때, 주어진 수의 순서를 바꾸면 안 된다.\n",
    "\n",
    "# 예를 들어, 6개의 수로 이루어진 수열이 1, 2, 3, 4, 5, 6이고, 주어진 연산자가 덧셈(+) 2개, 뺄셈(-) 1개, 곱셈(×) 1개, 나눗셈(÷) 1개인 경우에는 총 60가지의 식을 만들 수 있다.\n",
    "# 예를 들어, 아래와 같은 식을 만들 수 있다.\n",
    "\n",
    "# 1+2+3-4×5÷6\n",
    "# 1÷2+3+4-5×6\n",
    "# 1+2÷3×4-5+6\n",
    "# 1÷2×3-4+5+6\n",
    "# 식의 계산은 연산자 우선 순위를 무시하고 앞에서부터 진행해야 한다. 또, 나눗셈은 정수 나눗셈으로 몫만 취한다.\n",
    "# 음수를 양수로 나눌 때는 C++14의 기준을 따른다. 즉, 양수로 바꾼 뒤 몫을 취하고, 그 몫을 음수로 바꾼 것과 같다. 이에 따라서, 위의 식 4개의 결과를 계산해보면 아래와 같다.\n",
    "\n",
    "# 1+2+3-4×5÷6 = 1\n",
    "# 1÷2+3+4-5×6 = 12\n",
    "# 1+2÷3×4-5+6 = 5\n",
    "# 1÷2×3-4+5+6 = 7\n",
    "# N개의 수와 N-1개의 연산자가 주어졌을 때, 만들 수 있는 식의 결과가 최대인 것과 최소인 것을 구하는 프로그램을 작성하시오.\n",
    "\n",
    "# 입력\n",
    "# 첫째 줄에 수의 개수 N(2 ≤ N ≤ 11)가 주어진다. 둘째 줄에는 A1, A2, ..., AN이 주어진다.\n",
    "# (1 ≤ Ai ≤ 100) 셋째 줄에는 합이 N-1인 4개의 정수가 주어지는데, 차례대로 덧셈(+)의 개수, 뺄셈(-)의 개수, 곱셈(×)의 개수, 나눗셈(÷)의 개수이다.\n",
    "\n",
    "# 출력\n",
    "# 첫째 줄에 만들 수 있는 식의 결과의 최댓값을, 둘째 줄에는 최솟값을 출력한다. 연산자를 어떻게 끼워넣어도 항상 -10억보다 크거나 같고, 10억보다 작거나 같은 결과가 나오는 입력만 주어진다.\n",
    "# 또한, 앞에서부터 계산했을 때, 중간에 계산되는 식의 결과도 항상 -10억보다 크거나 같고, 10억보다 작거나 같다."
   ]
  },
  {
   "cell_type": "code",
   "execution_count": null,
   "id": "bb25974a-9fd4-40d9-91c9-f73fcabeec3f",
   "metadata": {},
   "outputs": [],
   "source": [
    "# 접근\n",
    "# 순열, DFS(빽트래킹)활용"
   ]
  },
  {
   "cell_type": "code",
   "execution_count": 1,
   "id": "c4baabc6-fdf9-40e7-a54f-ef7491ede59b",
   "metadata": {},
   "outputs": [
    {
     "name": "stdin",
     "output_type": "stream",
     "text": [
      " 2\n",
      " 5 6\n",
      " 0 0 1 0\n"
     ]
    },
    {
     "name": "stdout",
     "output_type": "stream",
     "text": [
      "30\n",
      "30\n"
     ]
    }
   ],
   "source": [
    "# 백트래킹\n",
    "# vscode 사용\n",
    "# 연산자 끼워넣기 문제\n",
    "# 백트래킹(DFS)\n",
    "import sys\n",
    "\n",
    "input = sys.stdin.readline\n",
    "N = int(input())\n",
    "num = list(map(int, input().split()))\n",
    "# +, -, *, //\n",
    "op = list(map(int, input().split()))\n",
    "\n",
    "maximum = -1e9\n",
    "minimum = 1e9\n",
    "\n",
    "\n",
    "def dfs(depth, total, plus, minus, multiply, divide):\n",
    "    global maximum, minimum\n",
    "    if depth == N:\n",
    "        maximum = max(total, maximum)\n",
    "        minimum = min(total, minimum)\n",
    "        return\n",
    "\n",
    "    if plus:\n",
    "        dfs(depth + 1, total + num[depth], plus - 1, minus, multiply, divide)\n",
    "    if minus:\n",
    "        dfs(depth + 1, total - num[depth], plus, minus - 1, multiply, divide)\n",
    "    if multiply:\n",
    "        dfs(depth + 1, total * num[depth], plus, minus, multiply - 1, divide)\n",
    "    if divide:\n",
    "        dfs(depth + 1, int(total / num[depth]), plus, minus, multiply, divide - 1)\n",
    "\n",
    "\n",
    "dfs(1, num[0], op[0], op[1], op[2], op[3])\n",
    "print(maximum)\n",
    "print(minimum)"
   ]
  },
  {
   "cell_type": "code",
   "execution_count": null,
   "id": "6f2958bd-05ac-41ab-99bf-91d6de34c7c9",
   "metadata": {},
   "outputs": [],
   "source": []
  }
 ],
 "metadata": {
  "kernelspec": {
   "display_name": "Python 3 (ipykernel)",
   "language": "python",
   "name": "python3"
  },
  "language_info": {
   "codemirror_mode": {
    "name": "ipython",
    "version": 3
   },
   "file_extension": ".py",
   "mimetype": "text/x-python",
   "name": "python",
   "nbconvert_exporter": "python",
   "pygments_lexer": "ipython3",
   "version": "3.8.19"
  }
 },
 "nbformat": 4,
 "nbformat_minor": 5
}
