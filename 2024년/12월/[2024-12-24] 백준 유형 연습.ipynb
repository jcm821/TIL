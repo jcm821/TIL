{
 "cells": [
  {
   "cell_type": "code",
   "execution_count": null,
   "id": "4c78c11c-bf27-4cbf-ab57-1a07d5aa8b38",
   "metadata": {},
   "outputs": [],
   "source": [
    "# 바이러스 문제\n",
    "# 신종 바이러스인 웜 바이러스는 네트워크를 통해 전파된다. 한 컴퓨터가 웜 바이러스에 걸리면 그 컴퓨터와 네트워크 상에서 연결되어 있는 모든 컴퓨터는 웜 바이러스에 걸리게 된다.\n",
    "\n",
    "# 예를 들어 7대의 컴퓨터가 <그림 1>과 같이 네트워크 상에서 연결되어 있다고 하자. 1번 컴퓨터가 웜 바이러스에 걸리면 웜 바이러스는 2번과 5번 컴퓨터를 거쳐 3번과 6번 컴퓨터까지 전파되어 2, 3, 5, 6 네 대의 컴퓨터는 웜 바이러스에 걸리게 된다. 하지만 4번과 7번 컴퓨터는 1번 컴퓨터와 네트워크상에서 연결되어 있지 않기 때문에 영향을 받지 않는다.\n",
    "\n",
    "\n",
    "\n",
    "# 어느 날 1번 컴퓨터가 웜 바이러스에 걸렸다. 컴퓨터의 수와 네트워크 상에서 서로 연결되어 있는 정보가 주어질 때, 1번 컴퓨터를 통해 웜 바이러스에 걸리게 되는 컴퓨터의 수를 출력하는 프로그램을 작성하시오.\n",
    "\n",
    "# 입력\n",
    "# 첫째 줄에는 컴퓨터의 수가 주어진다. 컴퓨터의 수는 100 이하인 양의 정수이고 각 컴퓨터에는 1번 부터 차례대로 번호가 매겨진다. 둘째 줄에는 네트워크 상에서 직접 연결되어 있는 컴퓨터 쌍의 수가 주어진다. 이어서 그 수만큼 한 줄에 한 쌍씩 네트워크 상에서 직접 연결되어 있는 컴퓨터의 번호 쌍이 주어진다.\n",
    "\n",
    "# 출력\n",
    "# 1번 컴퓨터가 웜 바이러스에 걸렸을 때, 1번 컴퓨터를 통해 웜 바이러스에 걸리게 되는 컴퓨터의 수를 첫째 줄에 출력한다."
   ]
  },
  {
   "cell_type": "code",
   "execution_count": null,
   "id": "eb57b473-4bbf-4196-9fd3-2de39ef1f469",
   "metadata": {},
   "outputs": [],
   "source": [
    "# 접근\n",
    "# BFS알고리즘 활용"
   ]
  },
  {
   "cell_type": "code",
   "execution_count": null,
   "id": "1cb048fd-fe78-4876-b9dc-42af7d049ab4",
   "metadata": {},
   "outputs": [],
   "source": [
    "# vscode 사용\n",
    "# 바이러스 문제\n",
    "import sys\n",
    "from collections import deque\n",
    "n = int(sys.stdin.readline())\n",
    "m = int(sys.stdin.readline())\n",
    "net = [[] for _ in range(n + 1)]\n",
    "for _ in range(m):\n",
    "    a, b = map(int, sys.stdin.readline().split())\n",
    "    net[a].append(b)\n",
    "    net[b].append(a)\n",
    "\n",
    "def bfs():\n",
    "    q = deque()\n",
    "    # 감염된 컴퓨터 수\n",
    "    count = 0\n",
    "    # 1번 컴퓨터로부터 시작\n",
    "    q.append(1)\n",
    "    # 1번 컴퓨터 감염완료\n",
    "    visited[1] = True\n",
    "    while q:\n",
    "        cur = q.popleft()\n",
    "        # 감염된 컴퓨터로부터 연결된 컴퓨터들에서\n",
    "        for i, val in enumerate(net[cur]):\n",
    "            # 감염되지 않았다면\n",
    "            if visited[val] == False:\n",
    "                # 감염리스트 추가\n",
    "                q.append(val)\n",
    "                # 감염완료\n",
    "                visited[val] = True\n",
    "                # 감염된 컴퓨터 수 1 증가\n",
    "                count += 1\n",
    "    print(count)\n",
    "\n",
    "visited = [False for _ in range(n + 1)]\n",
    "bfs()"
   ]
  },
  {
   "cell_type": "code",
   "execution_count": null,
   "id": "a5a7f013-569c-43f6-97b0-bfb79aa4a7da",
   "metadata": {},
   "outputs": [],
   "source": [
    "# 1, 2, 3 더하기 문제\n",
    "# 정수 4를 1, 2, 3의 합으로 나타내는 방법은 총 7가지가 있다. 합을 나타낼 때는 수를 1개 이상 사용해야 한다.\n",
    "\n",
    "# 1+1+1+1\n",
    "# 1+1+2\n",
    "# 1+2+1\n",
    "# 2+1+1\n",
    "# 2+2\n",
    "# 1+3\n",
    "# 3+1\n",
    "# 정수 n이 주어졌을 때, n을 1, 2, 3의 합으로 나타내는 방법의 수를 구하는 프로그램을 작성하시오.\n",
    "\n",
    "# 입력\n",
    "# 첫째 줄에 테스트 케이스의 개수 T가 주어진다. 각 테스트 케이스는 한 줄로 이루어져 있고, 정수 n이 주어진다. n은 양수이며 11보다 작다.\n",
    "\n",
    "# 출력\n",
    "# 각 테스트 케이스마다, n을 1, 2, 3의 합으로 나타내는 방법의 수를 출력한다."
   ]
  },
  {
   "cell_type": "code",
   "execution_count": null,
   "id": "958cd1fc-73bf-4973-8c49-fa6dc3f72fcb",
   "metadata": {},
   "outputs": [],
   "source": [
    "# 접근\n",
    "# DP구현"
   ]
  },
  {
   "cell_type": "code",
   "execution_count": null,
   "id": "d20b3fb5-5247-40c8-ab36-74b13338948d",
   "metadata": {},
   "outputs": [],
   "source": [
    "# vscode 사용\n",
    "# 1, 2, 3 더하기 문제\n",
    "import sys\n",
    "input = sys.stdin.readline\n",
    "t = int(input())\n",
    "\n",
    "for _ in range(t):\n",
    "    n = int(input())\n",
    "    dp = [0] * (n + 1)\n",
    "\n",
    "    for i in range(1, n + 1):\n",
    "        if i == 1:\n",
    "            dp[i] = 1\n",
    "        elif i == 2:\n",
    "            dp[i] = 2\n",
    "        elif i == 3:\n",
    "            dp[i] = 4\n",
    "        else:\n",
    "            dp[i] = dp[i - 1] + dp[i - 2] + dp[i - 3]\n",
    "    print(dp[n])"
   ]
  },
  {
   "cell_type": "code",
   "execution_count": null,
   "id": "3465b0e2-145b-46b3-88e4-2c0589e87869",
   "metadata": {},
   "outputs": [],
   "source": [
    "# 구간 합 구하기4 문제\n",
    "# 수 N개가 주어졌을 때, i번째 수부터 j번째 수까지 합을 구하는 프로그램을 작성하시오.\n",
    "\n",
    "# 입력\n",
    "# 첫째 줄에 수의 개수 N과 합을 구해야 하는 횟수 M이 주어진다. 둘째 줄에는 N개의 수가 주어진다. 수는 1,000보다 작거나 같은 자연수이다. 셋째 줄부터 M개의 줄에는 합을 구해야 하는 구간 i와 j가 주어진다.\n",
    "\n",
    "# 출력\n",
    "# 총 M개의 줄에 입력으로 주어진 i번째 수부터 j번째 수까지 합을 출력한다.\n",
    "\n",
    "# 제한\n",
    "# 1 ≤ N ≤ 100,000\n",
    "# 1 ≤ M ≤ 100,000\n",
    "# 1 ≤ i ≤ j ≤ N"
   ]
  },
  {
   "cell_type": "code",
   "execution_count": null,
   "id": "f33f84fc-ca07-4790-b14a-1c6958826162",
   "metadata": {},
   "outputs": [],
   "source": []
  }
 ],
 "metadata": {
  "kernelspec": {
   "display_name": "Python 3 (ipykernel)",
   "language": "python",
   "name": "python3"
  },
  "language_info": {
   "codemirror_mode": {
    "name": "ipython",
    "version": 3
   },
   "file_extension": ".py",
   "mimetype": "text/x-python",
   "name": "python",
   "nbconvert_exporter": "python",
   "pygments_lexer": "ipython3",
   "version": "3.8.19"
  }
 },
 "nbformat": 4,
 "nbformat_minor": 5
}
