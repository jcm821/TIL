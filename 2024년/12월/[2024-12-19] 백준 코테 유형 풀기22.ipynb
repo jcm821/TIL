{
 "cells": [
  {
   "cell_type": "code",
   "execution_count": null,
   "id": "84bc85c1-f75e-4c66-862f-68524b9d1299",
   "metadata": {},
   "outputs": [],
   "source": [
    "# 웰컴 키트 문제\n",
    "# 2024년 2월 3일 개최 예정인 온사이트 그랜드 아레나에서는 참가자들에게 티셔츠 한 장과 펜 한 자루가 포함된 웰컴 키트를 나눠줄 예정입니다. 키트를 제작하는 업체는 다음과 같은 조건으로만 주문이 가능합니다.\n",
    "\n",
    "# 티셔츠는 S, M, L, XL, XXL, 그리고 XXXL의 6가지 사이즈가 있습니다. 티셔츠는 같은 사이즈의 $T$장 묶음으로만 주문할 수 있습니다.\n",
    "# 펜은 한 종류로, $P$자루씩 묶음으로 주문하거나 한 자루씩 주문할 수 있습니다.\n",
    "# 총 $N$명의 참가자 중 S, M, L, XL, XXL, XXXL 사이즈의 티셔츠를 신청한 사람은 각각 $S, M, L, XL, XXL, XXXL$명입니다. 티셔츠는 남아도 되지만 부족해서는 안 되고 신청한 사이즈대로 나눠주어야 합니다.\n",
    "# 펜은 남거나 부족해서는 안 되고 정확히 참가자 수만큼 준비되어야 합니다.\n",
    "\n",
    "# 티셔츠를 $T$장씩 최소 몇 묶음 주문해야 하는지, 그리고 펜을 $P$자루씩 최대 몇 묶음 주문할 수 있고, 그 때 펜을 한 자루씩 몇 개 주문하는지 구하세요.\n",
    "\n",
    "# 입력\n",
    "# 첫 줄에 참가자의 수 $N$이 주어집니다. $(1 \\le N \\le 10^9)$ \n",
    "\n",
    "# 둘째 줄에 티셔츠 사이즈별 신청자의 수 $S, M, L, XL, XXL, XXXL$이 공백으로 구분되어 주어집니다. $(0 \\le S, M, L, XL, XXL, XXXL \\le N;$ $S + M + L + XL + XXL + XXXL = N)$ \n",
    "\n",
    "# 셋째 줄에 정수 티셔츠와 펜의 묶음 수를 의미하는 정수 $T$와 $P$가 공백으로 구분되어 주어집니다. $(2 \\le T, P \\le 10^9)$ \n",
    "\n",
    "# 출력\n",
    "# 첫 줄에 티셔츠를 $T$장씩 최소 몇 묶음 주문해야 하는지 출력하세요.\n",
    "\n",
    "# 다음 줄에 펜을 $P$자루씩 최대 몇 묶음 주문할 수 있는지와, 그 때 펜을 한 자루씩 몇 개 주문하는지 구하세요."
   ]
  },
  {
   "cell_type": "code",
   "execution_count": null,
   "id": "ed345b83-54b1-4588-b9fb-890feab3256f",
   "metadata": {},
   "outputs": [],
   "source": [
    "# 접근\n",
    "# 특정 사이즈의 티셔츠를 신청한 사람이 0명일 수 도 있다는 점에 유의"
   ]
  },
  {
   "cell_type": "code",
   "execution_count": 1,
   "id": "24495330-808e-49f9-baa0-f8c0bd1eebd9",
   "metadata": {},
   "outputs": [
    {
     "name": "stdin",
     "output_type": "stream",
     "text": [
      " 23\n",
      " 3 1 4 1 5 9\n",
      " 5 7\n"
     ]
    },
    {
     "name": "stdout",
     "output_type": "stream",
     "text": [
      "7\n",
      "3 2\n"
     ]
    }
   ],
   "source": [
    "# sol1\n",
    "n = int(input())\n",
    "lst = list(map(int, input().split()))\n",
    "t, p = map(int, input().split())\n",
    "t_bundle = 0\n",
    "for i in lst:\n",
    "    if i == 0:\n",
    "        continue\n",
    "    elif i <= t:\n",
    "        t_bundle += 1\n",
    "    elif i % t == 0:\n",
    "        t_bundle += i // t\n",
    "    else:\n",
    "        t_bundle += i // t + 1\n",
    "\n",
    "p_bundle = n // p\n",
    "pen = n % p\n",
    "\n",
    "print(t_bundle)\n",
    "print(f'{p_bundle} {pen}')"
   ]
  },
  {
   "cell_type": "code",
   "execution_count": null,
   "id": "45936215-d5a2-4713-97f7-6ed63d7e2db1",
   "metadata": {},
   "outputs": [],
   "source": [
    "# sol2\n",
    "# vscode 사용\n",
    "# 웰컴 키트 문제\n",
    "import sys\n",
    "import math\n",
    "\n",
    "input = sys.stdin.readline\n",
    "\n",
    "n = int(input())\n",
    "\n",
    "sizes = map(int, input().split())\n",
    "t, p = map(int, input().split())\n",
    "\n",
    "shirts_set_count = 0\n",
    "\n",
    "for size in sizes:\n",
    "    if size > 0:\n",
    "        shirts_set_count += math.ceil(size / t)\n",
    "\n",
    "print(shirts_set_count)\n",
    "print(n // p, n % p)"
   ]
  },
  {
   "cell_type": "code",
   "execution_count": null,
   "id": "017fd9ff-935b-4617-8744-5416a41712f5",
   "metadata": {},
   "outputs": [],
   "source": [
    "# 소수 찾기 문제\n",
    "# 주어진 수 N개 중에서 소수가 몇 개인지 찾아서 출력하는 프로그램을 작성하시오.\n",
    "\n",
    "# 입력\n",
    "# 첫 줄에 수의 개수 N이 주어진다. N은 100이하이다. 다음으로 N개의 수가 주어지는데 수는 1,000 이하의 자연수이다.\n",
    "\n",
    "# 출력\n",
    "# 주어진 수들 중 소수의 개수를 출력한다."
   ]
  },
  {
   "cell_type": "code",
   "execution_count": null,
   "id": "8250d765-0e44-4937-bf84-ae91bf308d01",
   "metadata": {},
   "outputs": [],
   "source": [
    "# 접근\n",
    "# 그리드 탐색 이용하여 모든 경우의 수 확인"
   ]
  },
  {
   "cell_type": "code",
   "execution_count": 2,
   "id": "d8272aef-1c5a-47cc-818a-baef609fbe77",
   "metadata": {},
   "outputs": [
    {
     "name": "stdin",
     "output_type": "stream",
     "text": [
      " 4\n",
      " 1 3 5 7\n"
     ]
    },
    {
     "name": "stdout",
     "output_type": "stream",
     "text": [
      "3\n"
     ]
    }
   ],
   "source": [
    "n = int(input())\n",
    "data = list(map(int, input().split()))\n",
    "count = 0\n",
    "\n",
    "for x in data:\n",
    "    for i in range(2, x + 1):\n",
    "        if x % i == 0:\n",
    "            if x == i:\n",
    "                count += 1\n",
    "            break\n",
    "\n",
    "print(count)"
   ]
  },
  {
   "cell_type": "code",
   "execution_count": null,
   "id": "1989fc35-35f5-461d-8141-4ef4112d70bf",
   "metadata": {},
   "outputs": [],
   "source": [
    "# 블랙잭 문제\n",
    "# 카지노에서 제일 인기 있는 게임 블랙잭의 규칙은 상당히 쉽다. 카드의 합이 21을 넘지 않는 한도 내에서, 카드의 합을 최대한 크게 만드는 게임이다. 블랙잭은 카지노마다 다양한 규정이 있다.\n",
    "\n",
    "# 한국 최고의 블랙잭 고수 김정인은 새로운 블랙잭 규칙을 만들어 상근, 창영이와 게임하려고 한다.\n",
    "\n",
    "# 김정인 버전의 블랙잭에서 각 카드에는 양의 정수가 쓰여 있다. 그 다음, 딜러는 N장의 카드를 모두 숫자가 보이도록 바닥에 놓는다. 그런 후에 딜러는 숫자 M을 크게 외친다.\n",
    "\n",
    "# 이제 플레이어는 제한된 시간 안에 N장의 카드 중에서 3장의 카드를 골라야 한다. 블랙잭 변형 게임이기 때문에, 플레이어가 고른 카드의 합은 M을 넘지 않으면서 M과 최대한 가깝게 만들어야 한다.\n",
    "\n",
    "# N장의 카드에 써져 있는 숫자가 주어졌을 때, M을 넘지 않으면서 M에 최대한 가까운 카드 3장의 합을 구해 출력하시오.\n",
    "\n",
    "# 입력\n",
    "# 첫째 줄에 카드의 개수 N(3 ≤ N ≤ 100)과 M(10 ≤ M ≤ 300,000)이 주어진다. 둘째 줄에는 카드에 쓰여 있는 수가 주어지며, 이 값은 100,000을 넘지 않는 양의 정수이다.\n",
    "\n",
    "# 합이 M을 넘지 않는 카드 3장을 찾을 수 있는 경우만 입력으로 주어진다.\n",
    "\n",
    "# 출력\n",
    "# 첫째 줄에 M을 넘지 않으면서 M에 최대한 가까운 카드 3장의 합을 출력한다."
   ]
  },
  {
   "cell_type": "code",
   "execution_count": 1,
   "id": "20c92122-3c44-46be-b353-2b30d6b9d2e8",
   "metadata": {},
   "outputs": [
    {
     "name": "stdin",
     "output_type": "stream",
     "text": [
      " 5 21\n",
      " 5 6 7 8 9\n"
     ]
    },
    {
     "name": "stdout",
     "output_type": "stream",
     "text": [
      "21\n"
     ]
    }
   ],
   "source": [
    "from itertools import combinations\n",
    "\n",
    "n, m = map(int, input().split())\n",
    "nums = list(map(int, input().split()))\n",
    "result = 0\n",
    "for cards in combinations(nums, 3):\n",
    "    if sum(cards) <= m:\n",
    "        result = max(result, sum(cards))\n",
    "\n",
    "print(result)"
   ]
  },
  {
   "cell_type": "code",
   "execution_count": null,
   "id": "112bdbd4-546e-492e-a73b-40eacbb96a2b",
   "metadata": {},
   "outputs": [],
   "source": [
    "# 팰린드롬수 문제\n",
    "# 어떤 단어를 뒤에서부터 읽어도 똑같다면 그 단어를 팰린드롬이라고 한다. 'radar', 'sees'는 팰린드롬이다.\n",
    "\n",
    "# 수도 팰린드롬으로 취급할 수 있다. 수의 숫자들을 뒤에서부터 읽어도 같다면 그 수는 팰린드롬수다. 121, 12421 등은 팰린드롬수다. 123, 1231은 뒤에서부터 읽으면 다르므로 팰린드롬수가 아니다. 또한 10도 팰린드롬수가 아닌데, 앞에 무의미한 0이 올 수 있다면 010이 되어 팰린드롬수로 취급할 수도 있지만, 특별히 이번 문제에서는 무의미한 0이 앞에 올 수 없다고 하자.\n",
    "\n",
    "# 입력\n",
    "# 입력은 여러 개의 테스트 케이스로 이루어져 있으며, 각 줄마다 1 이상 99999 이하의 정수가 주어진다. 입력의 마지막 줄에는 0이 주어지며, 이 줄은 문제에 포함되지 않는다.\n",
    "\n",
    "# 출력\n",
    "# 각 줄마다 주어진 수가 팰린드롬수면 'yes', 아니면 'no'를 출력한다."
   ]
  },
  {
   "cell_type": "code",
   "execution_count": 2,
   "id": "a8882852-511c-4f01-a273-41cbf7c4d8a4",
   "metadata": {},
   "outputs": [
    {
     "name": "stdin",
     "output_type": "stream",
     "text": [
      " 121\n"
     ]
    },
    {
     "name": "stdout",
     "output_type": "stream",
     "text": [
      "yes\n"
     ]
    },
    {
     "name": "stdin",
     "output_type": "stream",
     "text": [
      " 1231\n"
     ]
    },
    {
     "name": "stdout",
     "output_type": "stream",
     "text": [
      "no\n"
     ]
    },
    {
     "name": "stdin",
     "output_type": "stream",
     "text": [
      " 12421\n"
     ]
    },
    {
     "name": "stdout",
     "output_type": "stream",
     "text": [
      "yes\n"
     ]
    },
    {
     "name": "stdin",
     "output_type": "stream",
     "text": [
      " 0\n"
     ]
    }
   ],
   "source": [
    "while True:\n",
    "    n = input()\n",
    "\n",
    "    if n == '0':\n",
    "        break\n",
    "\n",
    "    if n == n[::-1]:\n",
    "        print('yes')\n",
    "    else:\n",
    "        print('no')"
   ]
  },
  {
   "cell_type": "code",
   "execution_count": null,
   "id": "9e21ee75-3cc5-4543-bc5a-e17a720137ea",
   "metadata": {},
   "outputs": [],
   "source": [
    "# 평균 문제\n",
    "# 세준이는 기말고사를 망쳤다. 세준이는 점수를 조작해서 집에 가져가기로 했다. 일단 세준이는 자기 점수 중에 최댓값을 골랐다. 이 값을 M이라고 한다. 그리고 나서 모든 점수를 점수/M*100으로 고쳤다.\n",
    "\n",
    "# 예를 들어, 세준이의 최고점이 70이고, 수학점수가 50이었으면 수학점수는 50/70*100이 되어 71.43점이 된다.\n",
    "\n",
    "# 세준이의 성적을 위의 방법대로 새로 계산했을 때, 새로운 평균을 구하는 프로그램을 작성하시오.\n",
    "\n",
    "# 입력\n",
    "# 첫째 줄에 시험 본 과목의 개수 N이 주어진다. 이 값은 1000보다 작거나 같다. 둘째 줄에 세준이의 현재 성적이 주어진다. 이 값은 100보다 작거나 같은 음이 아닌 정수이고, 적어도 하나의 값은 0보다 크다.\n",
    "\n",
    "# 출력\n",
    "# 첫째 줄에 새로운 평균을 출력한다. 실제 정답과 출력값의 절대오차 또는 상대오차가 10-2 이하이면 정답이다."
   ]
  },
  {
   "cell_type": "code",
   "execution_count": 6,
   "id": "e2a0eab9-bed2-407e-8cad-6b484a24bcb4",
   "metadata": {},
   "outputs": [
    {
     "name": "stdin",
     "output_type": "stream",
     "text": [
      " 3\n",
      " 40 80 60\n"
     ]
    },
    {
     "name": "stdout",
     "output_type": "stream",
     "text": [
      "75.0\n"
     ]
    }
   ],
   "source": [
    "n = int(input())\n",
    "scores = list(map(int, input().split()))\n",
    "m = max(scores)\n",
    "\n",
    "for i in range(n):\n",
    "    scores[i] = scores[i] / m * 100\n",
    "\n",
    "print(sum(scores) / n)"
   ]
  },
  {
   "cell_type": "code",
   "execution_count": null,
   "id": "74bce1ad-07c4-4472-85b6-fc0ea2609d75",
   "metadata": {},
   "outputs": [],
   "source": [
    "# 최대공약수와 최소공배수 문제\n",
    "# 두 개의 자연수를 입력받아 최대 공약수와 최소 공배수를 출력하는 프로그램을 작성하시오.\n",
    "\n",
    "# 입력\n",
    "# 첫째 줄에는 두 개의 자연수가 주어진다. 이 둘은 10,000이하의 자연수이며 사이에 한 칸의 공백이 주어진다.\n",
    "\n",
    "# 출력\n",
    "# 첫째 줄에는 입력으로 주어진 두 수의 최대공약수를, 둘째 줄에는 입력으로 주어진 두 수의 최소 공배수를 출력한다."
   ]
  },
  {
   "cell_type": "code",
   "execution_count": null,
   "id": "b9a4c460-1f9b-457f-9f91-7b333757e5ba",
   "metadata": {},
   "outputs": [],
   "source": [
    "# 접근\n",
    "# 유클리드 호제법 사용"
   ]
  },
  {
   "attachments": {
    "6903d11e-eb5c-4b20-86cd-4ada51c3a177.png": {
     "image/png": "[encoded data removed]"
    }
   },
   "cell_type": "markdown",
   "id": "c719dac5-d235-41f5-836c-2f6ac5e2823b",
   "metadata": {},
   "source": [
    "![image.png](attachment:6903d11e-eb5c-4b20-86cd-4ada51c3a177.png)"
   ]
  },
  {
   "cell_type": "code",
   "execution_count": 8,
   "id": "48838ba6-7c14-4756-8f39-b8417afa6790",
   "metadata": {},
   "outputs": [
    {
     "name": "stdin",
     "output_type": "stream",
     "text": [
      " 24 18\n"
     ]
    },
    {
     "name": "stdout",
     "output_type": "stream",
     "text": [
      "6\n",
      "72\n"
     ]
    }
   ],
   "source": [
    "def gcd(x, y):\n",
    "    while y:\n",
    "        x, y = y, x%y\n",
    "    return x\n",
    "\n",
    "n, m = map(int, input().split())\n",
    "result = gcd(n, m)\n",
    "print(result)\n",
    "print(int(n * m / result))"
   ]
  },
  {
   "cell_type": "code",
   "execution_count": null,
   "id": "c6b6e787-fe31-44f0-b6e4-733d490e02a1",
   "metadata": {},
   "outputs": [],
   "source": [
    "# 이항 계수1 문제\n",
    "# 자연수 \\(N\\)과 정수 \\(K\\)가 주어졌을 때 이항 계수 \n",
    "# \\(\\binom{N}{K}\\)를 구하는 프로그램을 작성하시오.\n",
    "\n",
    "# 입력\n",
    "# 첫째 줄에 \\(N\\)과 \\(K\\)가 주어진다. (1 ≤ \\(N\\) ≤ 10, 0 ≤ \\(K\\) ≤ \\(N\\))\n",
    "\n",
    "# 출력\n",
    " \n",
    "# \\(\\binom{N}{K}\\)를 출력한다."
   ]
  },
  {
   "cell_type": "code",
   "execution_count": null,
   "id": "81711b0d-f7fd-4ea1-a9af-38e585562098",
   "metadata": {},
   "outputs": [],
   "source": [
    "# vscode 사용\n",
    "# 이항계수1 문제\n",
    "import sys\n",
    "# sol1\n",
    "# 팩토리얼 반복문 활용\n",
    "input = sys.stdin.readline\n",
    "n, k = map(int, input().split())\n",
    "\n",
    "result = 1\n",
    "for i in range(k):\n",
    "    result *= n\n",
    "    n -= 1\n",
    "\n",
    "div = 1\n",
    "for i in range(2, k + 1):\n",
    "    div *= i\n",
    "\n",
    "print(result // div)\n",
    "\n",
    "# sol2\n",
    "# 팩토리얼 재귀함수 사용\n",
    "input = sys.stdin.readline\n",
    "n, k = map(int, input().split())\n",
    "\n",
    "def factorial(n):\n",
    "    if n == 0 or n == 1:\n",
    "        return 1\n",
    "    else:\n",
    "        return n * factorial(n - 1)\n",
    "\n",
    "# 조합 공식 nCk = n!/(n-k)!k!\n",
    "print(factorial(n) // (factorial(n-k) * factorial(k)))"
   ]
  },
  {
   "cell_type": "code",
   "execution_count": null,
   "id": "ffba5dc7-b34e-43f0-93f6-5b9308d13701",
   "metadata": {},
   "outputs": [],
   "source": [
    "# 체스판 다시 칠하기 문제\n",
    "# 지민이는 자신의 저택에서 MN개의 단위 정사각형으로 나누어져 있는 M×N 크기의 보드를 찾았다. 어떤 정사각형은 검은색으로 칠해져 있고, 나머지는 흰색으로 칠해져 있다. 지민이는 이 보드를 잘라서 8×8 크기의 체스판으로 만들려고 한다.\n",
    "\n",
    "# 체스판은 검은색과 흰색이 번갈아서 칠해져 있어야 한다. 구체적으로, 각 칸이 검은색과 흰색 중 하나로 색칠되어 있고, 변을 공유하는 두 개의 사각형은 다른 색으로 칠해져 있어야 한다. 따라서 이 정의를 따르면 체스판을 색칠하는 경우는 두 가지뿐이다. 하나는 맨 왼쪽 위 칸이 흰색인 경우, 하나는 검은색인 경우이다.\n",
    "\n",
    "# 보드가 체스판처럼 칠해져 있다는 보장이 없어서, 지민이는 8×8 크기의 체스판으로 잘라낸 후에 몇 개의 정사각형을 다시 칠해야겠다고 생각했다. 당연히 8*8 크기는 아무데서나 골라도 된다. 지민이가 다시 칠해야 하는 정사각형의 최소 개수를 구하는 프로그램을 작성하시오.\n",
    "\n",
    "# 입력\n",
    "# 첫째 줄에 N과 M이 주어진다. N과 M은 8보다 크거나 같고, 50보다 작거나 같은 자연수이다. 둘째 줄부터 N개의 줄에는 보드의 각 행의 상태가 주어진다. B는 검은색이며, W는 흰색이다.\n",
    "\n",
    "# 출력\n",
    "# 첫째 줄에 지민이가 다시 칠해야 하는 정사각형 개수의 최솟값을 출력한다."
   ]
  },
  {
   "cell_type": "code",
   "execution_count": null,
   "id": "51cd6048-d866-4d12-90d1-27106498c837",
   "metadata": {},
   "outputs": [],
   "source": [
    "# 접근\n",
    "# 다시 칠해야 하는 경우\n",
    "#     1. 하나는 맨 왼쪽 위 칸이 흰색인 경우\n",
    "#     2. 하나는 검은색인 경우\n",
    "# 변을 공유하는 두 개의 사각형은 다른 색으로 칠해져 있어야 함\n",
    "# 문제 조건에 따라 8X8 크기의 체스판으로 잘라내야 함\n",
    "# 행과 열의 인덱스 합계가 짝수면 처음 색과 같아야 하고, 홀수면 달라야 함"
   ]
  }
 ],
 "metadata": {
  "kernelspec": {
   "display_name": "Python 3 (ipykernel)",
   "language": "python",
   "name": "python3"
  },
  "language_info": {
   "codemirror_mode": {
    "name": "ipython",
    "version": 3
   },
   "file_extension": ".py",
   "mimetype": "text/x-python",
   "name": "python",
   "nbconvert_exporter": "python",
   "pygments_lexer": "ipython3",
   "version": "3.8.19"
  }
 },
 "nbformat": 4,
 "nbformat_minor": 5
}
