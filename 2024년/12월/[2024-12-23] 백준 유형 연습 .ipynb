{
 "cells": [
  {
   "cell_type": "code",
   "execution_count": null,
   "id": "655a5b51-623e-4035-a214-dd8f1ab14313",
   "metadata": {},
   "outputs": [],
   "source": [
    "# 설탕 배달 문제\n",
    "# 상근이는 요즘 설탕공장에서 설탕을 배달하고 있다. 상근이는 지금 사탕가게에 설탕을 정확하게 N킬로그램을 배달해야 한다. 설탕공장에서 만드는 설탕은 봉지에 담겨져 있다. 봉지는 3킬로그램 봉지와 5킬로그램 봉지가 있다.\n",
    "\n",
    "# 상근이는 귀찮기 때문에, 최대한 적은 봉지를 들고 가려고 한다. 예를 들어, 18킬로그램 설탕을 배달해야 할 때, 3킬로그램 봉지 6개를 가져가도 되지만, 5킬로그램 3개와 3킬로그램 1개를 배달하면, 더 적은 개수의 봉지를 배달할 수 있다.\n",
    "\n",
    "# 상근이가 설탕을 정확하게 N킬로그램 배달해야 할 때, 봉지 몇 개를 가져가면 되는지 그 수를 구하는 프로그램을 작성하시오.\n",
    "\n",
    "# 입력\n",
    "# 첫째 줄에 N이 주어진다. (3 ≤ N ≤ 5000)\n",
    "\n",
    "# 출력\n",
    "# 상근이가 배달하는 봉지의 최소 개수를 출력한다. 만약, 정확하게 N킬로그램을 만들 수 없다면 -1을 출력한다."
   ]
  },
  {
   "cell_type": "code",
   "execution_count": 1,
   "id": "6b7dc684-81e7-455c-b128-96b020a45a5d",
   "metadata": {},
   "outputs": [
    {
     "name": "stdin",
     "output_type": "stream",
     "text": [
      " 18\n"
     ]
    },
    {
     "name": "stdout",
     "output_type": "stream",
     "text": [
      "4\n"
     ]
    }
   ],
   "source": [
    "sugar = int(input())\n",
    "\n",
    "bag = 0\n",
    "while sugar >= 0:\n",
    "    # 5의 배수이면\n",
    "    if sugar % 5 == 0:\n",
    "        # 5로 나눈 몫을 구해야 정수가 됨\n",
    "        bag += (sugar // 5)\n",
    "        print(bag)\n",
    "        break\n",
    "    sugar -= 3\n",
    "    # 5의 배수가 될 때까지 설탕-3, 봉지+1\n",
    "    bag += 1\n",
    "else:\n",
    "    print(-1)"
   ]
  },
  {
   "cell_type": "code",
   "execution_count": null,
   "id": "04a33e34-c5d3-480f-a22e-423429c43ad4",
   "metadata": {},
   "outputs": [],
   "source": [
    "# 집합 문제\n",
    "# 비어있는 공집합 S가 주어졌을 때, 아래 연산을 수행하는 프로그램을 작성하시오.\n",
    "\n",
    "# add x: S에 x를 추가한다. (1 ≤ x ≤ 20) S에 x가 이미 있는 경우에는 연산을 무시한다.\n",
    "# remove x: S에서 x를 제거한다. (1 ≤ x ≤ 20) S에 x가 없는 경우에는 연산을 무시한다.\n",
    "# check x: S에 x가 있으면 1을, 없으면 0을 출력한다. (1 ≤ x ≤ 20)\n",
    "# toggle x: S에 x가 있으면 x를 제거하고, 없으면 x를 추가한다. (1 ≤ x ≤ 20)\n",
    "# all: S를 {1, 2, ..., 20} 으로 바꾼다.\n",
    "# empty: S를 공집합으로 바꾼다.\n",
    "# 입력\n",
    "# 첫째 줄에 수행해야 하는 연산의 수 M (1 ≤ M ≤ 3,000,000)이 주어진다.\n",
    "\n",
    "# 둘째 줄부터 M개의 줄에 수행해야 하는 연산이 한 줄에 하나씩 주어진다.\n",
    "\n",
    "# 출력\n",
    "# check 연산이 주어질때마다, 결과를 출력한다."
   ]
  },
  {
   "cell_type": "code",
   "execution_count": null,
   "id": "3f8df66b-f54d-4f15-921e-d8672ee9e843",
   "metadata": {},
   "outputs": [],
   "source": [
    "# vscode 사용\n",
    "# 집합 문제\n",
    "import sys\n",
    "\n",
    "m = int(sys.stdin.readline())\n",
    "S = set()\n",
    "\n",
    "for _ in range(m):\n",
    "    temp = sys.stdin.readline().strip().split()\n",
    "\n",
    "    if len(temp) == 1:\n",
    "        if temp[0] == 'all':\n",
    "            S = set([i for i in range(1, 21)])\n",
    "        else:\n",
    "            S = set()\n",
    "\n",
    "    else:\n",
    "        func, x = temp[0], temp[1]\n",
    "        x = int(x)\n",
    "\n",
    "        if func == 'add':\n",
    "            S.add(x)\n",
    "        elif func == 'remove':\n",
    "            S.discard(x)\n",
    "        elif func == 'check':\n",
    "            print(1 if x in S else 0)\n",
    "        elif func == 'toggle':\n",
    "            if x in S:\n",
    "                S.discard(x)\n",
    "            else:\n",
    "                S.add(x)"
   ]
  },
  {
   "cell_type": "code",
   "execution_count": null,
   "id": "0959fc91-87f6-4380-84eb-8494911dc860",
   "metadata": {},
   "outputs": [],
   "source": [
    "# 듣보잡 문제\n",
    "# 김진영이 듣도 못한 사람의 명단과, 보도 못한 사람의 명단이 주어질 때, 듣도 보도 못한 사람의 명단을 구하는 프로그램을 작성하시오.\n",
    "\n",
    "# 입력\n",
    "# 첫째 줄에 듣도 못한 사람의 수 N, 보도 못한 사람의 수 M이 주어진다. 이어서 둘째 줄부터 N개의 줄에 걸쳐 듣도 못한 사람의 이름과, N+2째 줄부터 보도 못한 사람의 이름이 순서대로 주어진다. 이름은 띄어쓰기 없이 알파벳 소문자로만 이루어지며, 그 길이는 20 이하이다. N, M은 500,000 이하의 자연수이다.\n",
    "\n",
    "# 듣도 못한 사람의 명단에는 중복되는 이름이 없으며, 보도 못한 사람의 명단도 마찬가지이다.\n",
    "\n",
    "# 출력\n",
    "# 듣보잡의 수와 그 명단을 사전순으로 출력한다."
   ]
  },
  {
   "cell_type": "code",
   "execution_count": null,
   "id": "6d1456ba-7d62-4532-aecb-ac93769285ba",
   "metadata": {},
   "outputs": [],
   "source": [
    "# 접근\n",
    "# 교집합을 구하는 문제"
   ]
  },
  {
   "cell_type": "code",
   "execution_count": null,
   "id": "33704757-5d9f-4670-b95e-5cb504054bae",
   "metadata": {},
   "outputs": [],
   "source": [
    "# vscode 사용\n",
    "# 듣보잡 문제\n",
    "import sys\n",
    "\n",
    "n, m = map(int, sys.stdin.readline().strip().split())\n",
    "\n",
    "set1 = set()\n",
    "set2 = set()\n",
    "\n",
    "# 듣도 못한 사람\n",
    "for _ in range(n):\n",
    "    set1.add(sys.stdin.readline().strip())\n",
    "\n",
    "# 보도 못한 사람\n",
    "for _ in range(m):\n",
    "    set2.add(sys.stdin.readline().strip())\n",
    "\n",
    "# 듣보잡들(교집합)\n",
    "result = sorted(list(set1 & set2))\n",
    "\n",
    "# 듣보잡 수\n",
    "print(len(result))\n",
    "\n",
    "# 듣보잡 이름\n",
    "for x in result:\n",
    "    print(x)"
   ]
  },
  {
   "cell_type": "code",
   "execution_count": null,
   "id": "c81df127-795a-4a15-8f36-c7a7b58881e7",
   "metadata": {},
   "outputs": [],
   "source": [
    "# ATM 문제\n",
    "# 인하은행에는 ATM이 1대밖에 없다. 지금 이 ATM앞에 N명의 사람들이 줄을 서있다. 사람은 1번부터 N번까지 번호가 매겨져 있으며, i번 사람이 돈을 인출하는데 걸리는 시간은 Pi분이다.\n",
    "\n",
    "# 사람들이 줄을 서는 순서에 따라서, 돈을 인출하는데 필요한 시간의 합이 달라지게 된다. 예를 들어, 총 5명이 있고, P1 = 3, P2 = 1, P3 = 4, P4 = 3, P5 = 2 인 경우를 생각해보자. [1, 2, 3, 4, 5] 순서로 줄을 선다면, 1번 사람은 3분만에 돈을 뽑을 수 있다. 2번 사람은 1번 사람이 돈을 뽑을 때 까지 기다려야 하기 때문에, 3+1 = 4분이 걸리게 된다. 3번 사람은 1번, 2번 사람이 돈을 뽑을 때까지 기다려야 하기 때문에, 총 3+1+4 = 8분이 필요하게 된다. 4번 사람은 3+1+4+3 = 11분, 5번 사람은 3+1+4+3+2 = 13분이 걸리게 된다. 이 경우에 각 사람이 돈을 인출하는데 필요한 시간의 합은 3+4+8+11+13 = 39분이 된다.\n",
    "\n",
    "# 줄을 [2, 5, 1, 4, 3] 순서로 줄을 서면, 2번 사람은 1분만에, 5번 사람은 1+2 = 3분, 1번 사람은 1+2+3 = 6분, 4번 사람은 1+2+3+3 = 9분, 3번 사람은 1+2+3+3+4 = 13분이 걸리게 된다. 각 사람이 돈을 인출하는데 필요한 시간의 합은 1+3+6+9+13 = 32분이다. 이 방법보다 더 필요한 시간의 합을 최소로 만들 수는 없다.\n",
    "\n",
    "# 줄을 서 있는 사람의 수 N과 각 사람이 돈을 인출하는데 걸리는 시간 Pi가 주어졌을 때, 각 사람이 돈을 인출하는데 필요한 시간의 합의 최솟값을 구하는 프로그램을 작성하시오.\n",
    "\n",
    "# 입력\n",
    "# 첫째 줄에 사람의 수 N(1 ≤ N ≤ 1,000)이 주어진다. 둘째 줄에는 각 사람이 돈을 인출하는데 걸리는 시간 Pi가 주어진다. (1 ≤ Pi ≤ 1,000)\n",
    "\n",
    "# 출력\n",
    "# 첫째 줄에 각 사람이 돈을 인출하는데 필요한 시간의 합의 최솟값을 출력한다."
   ]
  },
  {
   "cell_type": "code",
   "execution_count": null,
   "id": "0f22b452-2d89-4a55-b019-62542cc6e584",
   "metadata": {},
   "outputs": [],
   "source": [
    "# 접근\n",
    "# 현재 i번째 사람이 인출할 때 i앞까지 모든 사람의 시간을 총합해 더해주어 최소로 나오는 총합을 출력하는 문제\n",
    "# arr에 입력된 값을 시간순으로 정렬하여 누적합을 구해줌"
   ]
  },
  {
   "cell_type": "code",
   "execution_count": 2,
   "id": "8c5fbf80-e7be-43c6-bcec-2897b044b197",
   "metadata": {},
   "outputs": [
    {
     "name": "stdin",
     "output_type": "stream",
     "text": [
      " 5\n",
      " 3 1 4 3 2\n"
     ]
    },
    {
     "name": "stdout",
     "output_type": "stream",
     "text": [
      "32\n"
     ]
    }
   ],
   "source": [
    "n = int(input())\n",
    "arr = list(map(int, input().split()))\n",
    "arr.sort()\n",
    "result = 0\n",
    "time = 0\n",
    "for i in range(n):\n",
    "    time += arr[i]\n",
    "    result += time\n",
    "print(result)"
   ]
  },
  {
   "cell_type": "code",
   "execution_count": null,
   "id": "6b213e5c-3a82-4eb1-8364-c2a7f1bcd2cf",
   "metadata": {},
   "outputs": [],
   "source": [
    "# 피보나치 함수 문제\n",
    "# 다음 소스는 N번째 피보나치 수를 구하는 C++ 함수이다.\n",
    "\n",
    "# int fibonacci(int n) {\n",
    "#     if (n == 0) {\n",
    "#         printf(\"0\");\n",
    "#         return 0;\n",
    "#     } else if (n == 1) {\n",
    "#         printf(\"1\");\n",
    "#         return 1;\n",
    "#     } else {\n",
    "#         return fibonacci(n‐1) + fibonacci(n‐2);\n",
    "#     }\n",
    "# }\n",
    "# fibonacci(3)을 호출하면 다음과 같은 일이 일어난다.\n",
    "\n",
    "# fibonacci(3)은 fibonacci(2)와 fibonacci(1) (첫 번째 호출)을 호출한다.\n",
    "# fibonacci(2)는 fibonacci(1) (두 번째 호출)과 fibonacci(0)을 호출한다.\n",
    "# 두 번째 호출한 fibonacci(1)은 1을 출력하고 1을 리턴한다.\n",
    "# fibonacci(0)은 0을 출력하고, 0을 리턴한다.\n",
    "# fibonacci(2)는 fibonacci(1)과 fibonacci(0)의 결과를 얻고, 1을 리턴한다.\n",
    "# 첫 번째 호출한 fibonacci(1)은 1을 출력하고, 1을 리턴한다.\n",
    "# fibonacci(3)은 fibonacci(2)와 fibonacci(1)의 결과를 얻고, 2를 리턴한다.\n",
    "# 1은 2번 출력되고, 0은 1번 출력된다. N이 주어졌을 때, fibonacci(N)을 호출했을 때, 0과 1이 각각 몇 번 출력되는지 구하는 프로그램을 작성하시오.\n",
    "\n",
    "# 입력\n",
    "# 첫째 줄에 테스트 케이스의 개수 T가 주어진다.\n",
    "\n",
    "# 각 테스트 케이스는 한 줄로 이루어져 있고, N이 주어진다. N은 40보다 작거나 같은 자연수 또는 0이다.\n",
    "\n",
    "# 출력\n",
    "# 각 테스트 케이스마다 0이 출력되는 횟수와 1이 출력되는 횟수를 공백으로 구분해서 출력한다."
   ]
  },
  {
   "cell_type": "code",
   "execution_count": null,
   "id": "d58e15ec-bd6f-459c-9a25-6b68b7f3f9be",
   "metadata": {},
   "outputs": [],
   "source": [
    "# 접근\n",
    "# 일반적인 재귀를 사용할 경우 시간 초과의 문제 발생 -> DP활용\n",
    "# 피보나치 수열은 f(n) = f(n-1) + f(n-2)의 형태\n",
    "# n = 2: 0과 1의 호출 횟수는 1 / 1\n",
    "# n = 3: f(3) = f(2) + f(1) -> 각각 1 / 2\n",
    "# n = 4: f(4) = f(3) + f(2) -> n이 3일때와 2일때 더한 값인 2 / 3\n",
    "# n = 5: f(5) = f(4) + f(3) -> n이 4일때와 4일때 더한 값인 3 / 5\n",
    "# ...\n",
    "# n = N일때 f(N) = f(N - 1) + f(N - 2) -> n이 N - 1일때와 N - 2일때 더한 값의 형태\n",
    "# n일때 0의 호출 = n - 1의 1의 호출\n",
    "# 1의 호출은 n - 1의 0과 1의 호출의 합"
   ]
  },
  {
   "cell_type": "code",
   "execution_count": 3,
   "id": "ffbb87dd-cf19-4faf-8bb8-7e9ff6b65f4c",
   "metadata": {},
   "outputs": [
    {
     "name": "stdin",
     "output_type": "stream",
     "text": [
      " 3\n",
      " 0\n"
     ]
    },
    {
     "name": "stdout",
     "output_type": "stream",
     "text": [
      "1 0\n"
     ]
    },
    {
     "name": "stdin",
     "output_type": "stream",
     "text": [
      " 1\n"
     ]
    },
    {
     "name": "stdout",
     "output_type": "stream",
     "text": [
      "0 1\n"
     ]
    },
    {
     "name": "stdin",
     "output_type": "stream",
     "text": [
      " 3\n"
     ]
    },
    {
     "name": "stdout",
     "output_type": "stream",
     "text": [
      "1 2\n"
     ]
    }
   ],
   "source": [
    "t = int(input())\n",
    "for _ in range(t):\n",
    "    n = int(input())\n",
    "    # 0과 1이 호출된 횟수\n",
    "    a, b = 1, 0\n",
    "    for i in range(n):\n",
    "        a, b = b, a + b\n",
    "    print(a, b)"
   ]
  },
  {
   "cell_type": "code",
   "execution_count": null,
   "id": "b912aef9-f715-4b19-a47f-0f42d3035c36",
   "metadata": {},
   "outputs": [],
   "source": [
    "# 1로 만들기 문제\n",
    "# 정수 X에 사용할 수 있는 연산은 다음과 같이 세 가지 이다.\n",
    "\n",
    "# X가 3으로 나누어 떨어지면, 3으로 나눈다.\n",
    "# X가 2로 나누어 떨어지면, 2로 나눈다.\n",
    "# 1을 뺀다.\n",
    "# 정수 N이 주어졌을 때, 위와 같은 연산 세 개를 적절히 사용해서 1을 만들려고 한다. 연산을 사용하는 횟수의 최솟값을 출력하시오.\n",
    "\n",
    "# 입력\n",
    "# 첫째 줄에 1보다 크거나 같고, 106보다 작거나 같은 정수 N이 주어진다.\n",
    "\n",
    "# 출력\n",
    "# 첫째 줄에 연산을 하는 횟수의 최솟값을 출력한다."
   ]
  },
  {
   "cell_type": "code",
   "execution_count": null,
   "id": "8c150091-040d-4afd-888e-c2dbeaa74e36",
   "metadata": {},
   "outputs": [],
   "source": [
    "# 접근\n",
    "# BFS, DP이용"
   ]
  },
  {
   "cell_type": "code",
   "execution_count": null,
   "id": "7cbeec62-1908-4f3c-bc3d-86eb851198ff",
   "metadata": {},
   "outputs": [],
   "source": [
    "# vscode 사용\n",
    "# sol1 - BFS\n",
    "import sys\n",
    "from collections import deque\n",
    "\n",
    "n = int(sys.stdin.readline())\n",
    "visited = [0 for i in range(n + 1)]\n",
    "\n",
    "def bfs():\n",
    "    q = deque()\n",
    "    q.append(n)\n",
    "    while q:\n",
    "        cur = q.popleft()\n",
    "        if cur == 1:\n",
    "            break\n",
    "        if cur%3 == 0 and visited[cur // 3] == 0:\n",
    "            visited[cur // 3] = visited[cur] + 1\n",
    "            q.append(cur // 3)\n",
    "        if cur%3 == 0 and visited[cur // 2] == 0:\n",
    "            visited[cur // 2] = visited[cur] + 1\n",
    "            q.append(cur // 2)\n",
    "        if visited[cur - 1] == 0:\n",
    "            visited[cur - 1] = visited[cur] + 1\n",
    "            q.append(cur - 1)\n",
    "\n",
    "bfs()\n",
    "print(visited[1])"
   ]
  },
  {
   "cell_type": "code",
   "execution_count": null,
   "id": "8d8df1d5-f9ca-44bd-b141-9e8a6e864ab9",
   "metadata": {},
   "outputs": [],
   "source": [
    "# sol2 - DP\n",
    "import sys\n",
    "n = int(sys.stdin.readline())\n",
    "d = [0] * (n + 1)\n",
    "\n",
    "for i in range(2, n + 1):\n",
    "    d[i] = d[i - 1] + 1\n",
    "\n",
    "    if i % 2 == 0:\n",
    "        d[i] = min(d[i], d[i // 2] + 1)\n",
    "    if i % 3 == 0:\n",
    "        d[i] = min(d[i], d[i // 3] + 1)\n",
    "\n",
    "print(d[n])"
   ]
  }
 ],
 "metadata": {
  "kernelspec": {
   "display_name": "Python 3 (ipykernel)",
   "language": "python",
   "name": "python3"
  },
  "language_info": {
   "codemirror_mode": {
    "name": "ipython",
    "version": 3
   },
   "file_extension": ".py",
   "mimetype": "text/x-python",
   "name": "python",
   "nbconvert_exporter": "python",
   "pygments_lexer": "ipython3",
   "version": "3.8.19"
  }
 },
 "nbformat": 4,
 "nbformat_minor": 5
}
