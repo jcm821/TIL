{
 "cells": [
  {
   "cell_type": "code",
   "execution_count": null,
   "id": "98c4bd29-47ad-476d-94e3-4788fee27dc7",
   "metadata": {},
   "outputs": [],
   "source": [
    "# 0만들기 문제\n",
    "# 1부터 N까지의 수를 오름차순으로 쓴 수열 1 2 3 ... N을 생각하자.\n",
    "# 그리고 '+'나 '-', 또는 ' '(공백)을 숫자 사이에 삽입하자(+는 더하기, -는 빼기, 공백은 숫자를 이어 붙이는 것을 뜻한다). 이렇게 만든 수식의 값을 계산하고 그 결과가 0이 될 수 있는지를 살피자.\n",
    "# N이 주어졌을 때 수식의 결과가 0이 되는 모든 수식을 찾는 프로그램을 작성하라.\n",
    "\n",
    "# 입력\n",
    "# 첫 번째 줄에 테스트 케이스의 개수가 주어진다(<10).\n",
    "# 각 테스트 케이스엔 자연수 N이 주어진다(3 <= N <= 9).\n",
    "\n",
    "# 출력\n",
    "# 각 테스트 케이스에 대해 ASCII 순서에 따라 결과가 0이 되는 모든 수식을 출력한다. 각 테스트 케이스의 결과는 한 줄을 띄워 구분한다."
   ]
  },
  {
   "cell_type": "code",
   "execution_count": null,
   "id": "9992665b-a28e-4d91-99de-2cf493797981",
   "metadata": {},
   "outputs": [],
   "source": [
    "# 접근\n",
    "# DFS 함수를 만들어 3가지 경우를 탐색\n",
    "# 공백, 덧셈, 뺄셈 순으로 재귀를 진행\n",
    "# 현재 숫자가 N이라면 탐색을 종료하고 연산을 진행\n",
    "# 연산 결과가 0인 경우 정답 리스트에 추가 후 정답을 출력\n",
    "# eval 함수: 문자열로 표현된 파이썬 표현식(expression)이나 문장(statement)을 인수로 받고, 해당 코드를 실행하여 결과를 반환"
   ]
  },
  {
   "cell_type": "code",
   "execution_count": null,
   "id": "e3aeb2ec-fac7-46d3-8ad7-6ce70c9ab948",
   "metadata": {},
   "outputs": [],
   "source": [
    "# vscode 사용\n",
    "# 0만들기\n",
    "import sys\n",
    "input = sys.stdin.readline\n",
    "\n",
    "def dfs(n, idx, rst):\n",
    "    if idx == N:\n",
    "        # eval 함수를 활용하여 문자열 상태에서 연산이 가능하도록\n",
    "        ans = eval(rst.replace(' ', ''))\n",
    "        # 연산 결과가 0이면 정답 리스트에 추가\n",
    "        if ans == 0:\n",
    "            ans_sik.append(rst)\n",
    "        return\n",
    "\n",
    "    else:\n",
    "        n_idx = idx + 1\n",
    "        # 공백인 경우 숫자를 이어붙이기\n",
    "        dfs(n, n_idx, rst + ' ' + str(n_idx))\n",
    "        # +인 경우 더하기\n",
    "        dfs(n, n_idx, rst + '+' + str(n_idx))\n",
    "        # -인 경우 빼기\n",
    "        dfs(n, n_idx, rst + '-' + str(n_idx))\n",
    "\n",
    "T = int(input())\n",
    "for _ in range(T):\n",
    "    N = int(input())\n",
    "    ans_sik = []\n",
    "    dfs(N, 1, '1')\n",
    "    for a in ans_sik:\n",
    "        print(a)\n",
    "\n",
    "    print()"
   ]
  },
  {
   "cell_type": "code",
   "execution_count": null,
   "id": "7c3ca1d7-c8f8-4d17-8e12-26305681fe8f",
   "metadata": {},
   "outputs": [],
   "source": [
    "# 녹색 걔가 젤다지? 문제\n",
    "# 젤다의 전설 게임에서 화폐의 단위는 루피(rupee)다. 그런데 간혹 '도둑루피'라 불리는 검정색 루피도 존재하는데, 이걸 획득하면 오히려 소지한 루피가 감소하게 된다!\n",
    "# 젤다의 전설 시리즈의 주인공, 링크는 지금 도둑루피만 가득한 N x N 크기의 동굴의 제일 왼쪽 위에 있다. [0][0]번 칸이기도 하다. 왜 이런 곳에 들어왔냐고 묻는다면 밖에서 사람들이 자꾸 \"젤다의 전설에 나오는 녹색 애가 젤다지?\"라고 물어봤기 때문이다. \n",
    "# 링크가 녹색 옷을 입은 주인공이고 젤다는 그냥 잡혀있는 공주인데, 게임 타이틀에 젤다가 나와있다고 자꾸 사람들이 이렇게 착각하니까 정신병에 걸릴 위기에 놓인 것이다.\n",
    "\n",
    "# 하여튼 젤다...아니 링크는 이 동굴의 반대편 출구, 제일 오른쪽 아래 칸인 [N-1][N-1]까지 이동해야 한다. 동굴의 각 칸마다 도둑루피가 있는데, 이 칸을 지나면 해당 도둑루피의 크기만큼 소지금을 잃게 된다.\n",
    "# 링크는 잃는 금액을 최소로 하여 동굴 건너편까지 이동해야 하며, 한 번에 상하좌우 인접한 곳으로 1칸씩 이동할 수 있다.\n",
    "\n",
    "# 링크가 잃을 수밖에 없는 최소 금액은 얼마일까?\n",
    "\n",
    "# 입력\n",
    "# 입력은 여러 개의 테스트 케이스로 이루어져 있다.\n",
    "\n",
    "# 각 테스트 케이스의 첫째 줄에는 동굴의 크기를 나타내는 정수 N이 주어진다. (2 ≤ N ≤ 125) N = 0인 입력이 주어지면 전체 입력이 종료된다.\n",
    "\n",
    "# 이어서 N개의 줄에 걸쳐 동굴의 각 칸에 있는 도둑루피의 크기가 공백으로 구분되어 차례대로 주어진다. 도둑루피의 크기가 k면 이 칸을 지나면 k루피를 잃는다는 뜻이다. 여기서 주어지는 모든 정수는 0 이상 9 이하인 한 자리 수다.\n",
    "\n",
    "# 출력\n",
    "# 각 테스트 케이스마다 한 줄에 걸쳐 정답을 형식에 맞춰서 출력한다. 형식은 예제 출력을 참고하시오."
   ]
  },
  {
   "cell_type": "code",
   "execution_count": null,
   "id": "c74da830-a7ad-40f9-9571-2313d1222f1b",
   "metadata": {},
   "outputs": [],
   "source": [
    "# 접근\n",
    "# 도둑루피를 가중치로 생각"
   ]
  },
  {
   "cell_type": "code",
   "execution_count": null,
   "id": "2d5bb86f-e215-4be2-9e84-4098291d4b96",
   "metadata": {},
   "outputs": [],
   "source": [
    "# vscode 사용\n",
    "# 다익스트라 알고리즘 이용\n",
    "import heapq\n",
    "import sys\n",
    "\n",
    "input = sys.stdin.readline\n",
    "INF = int(1e9)\n",
    "\n",
    "dx = [-1, 1, 0, 0]\n",
    "dy = [0, 0, -1, 1]\n",
    "\n",
    "def dijkstra():\n",
    "    q = []\n",
    "    heapq.heappush(q, (graph[0][0], 0, 0))\n",
    "    distance[0][0] = 0\n",
    "\n",
    "    while q:\n",
    "        cost, x, y = heapq.heappop(q)\n",
    "\n",
    "        if x == n - 1 and y == n - 1:\n",
    "            print(f'Problem {count}: {distance[x][y]}')\n",
    "            break\n",
    "\n",
    "        for i in range(4):\n",
    "            new_x = x + dx[i]\n",
    "            new_y = y + dy[i]\n",
    "\n",
    "            if 0 <= new_x < n and 0 <= new_y < n:\n",
    "                new_cost = cost + graph[new_x][new_y]\n",
    "\n",
    "                if new_cost < distance[new_x][new_y]:\n",
    "                    distance[new_x][new_y] = new_cost\n",
    "                    heapq.heappush(q, (new_cost, new_x, new_y))\n",
    "\n",
    "count = 1\n",
    "\n",
    "while True:\n",
    "    n = int(input())\n",
    "    if n == 0:\n",
    "        break\n",
    "\n",
    "    graph = [list(map(int, input().split())) for _ in range(n)]\n",
    "    distance = [[INF] * n for _ in range(n)]\n",
    "\n",
    "    dijkstra()\n",
    "    count += 1"
   ]
  },
  {
   "cell_type": "code",
   "execution_count": null,
   "id": "2478c3c2-54b0-4323-874a-a790bdea88df",
   "metadata": {},
   "outputs": [],
   "source": [
    "# 고층 건물 문제\n",
    "# 세준시에는 고층 빌딩이 많다. 세준시의 서민 김지민은 가장 많은 고층 빌딩이 보이는 고층 빌딩을 찾으려고 한다. 빌딩은 총 N개가 있는데, 빌딩은 선분으로 나타낸다.\n",
    "# i번째 빌딩 (1부터 시작)은 (i,0)부터 (i,높이)의 선분으로 나타낼 수 있다. 고층 빌딩 A에서 다른 고층 빌딩 B가 볼 수 있는 빌딩이 되려면, 두 지붕을 잇는 선분이 A와 B를 제외한 다른 고층 빌딩을 지나거나 접하지 않아야 한다.\n",
    "# 가장 많은 고층 빌딩이 보이는 빌딩을 구하고, 거기서 보이는 빌딩의 수를 출력하는 프로그램을 작성하시오.\n",
    "\n",
    "# 입력\n",
    "# 첫째 줄에 빌딩의 수 N이 주어진다. N은 50보다 작거나 같은 자연수이다. 둘째 줄에 1번 빌딩부터 그 높이가 주어진다. 높이는 1,000,000,000보다 작거나 같은 자연수이다.\n",
    "\n",
    "# 출력\n",
    "# 첫째 줄에 문제의 정답을 출력한다."
   ]
  },
  {
   "cell_type": "code",
   "execution_count": 1,
   "id": "169ee869-5757-4524-83a4-886f526fdc03",
   "metadata": {},
   "outputs": [
    {
     "name": "stdin",
     "output_type": "stream",
     "text": [
      " 15\n",
      " 1 5 3 2 6 3 2 6 4 2 5 7 3 1 5\n"
     ]
    },
    {
     "name": "stdout",
     "output_type": "stream",
     "text": [
      "7\n"
     ]
    }
   ],
   "source": [
    "n = int(input())\n",
    "building_list = list(map(int, input().split()))\n",
    "answer = [0]*n\n",
    "\n",
    "for i in range(n - 1):\n",
    "    max_slope = -float('inf')\n",
    "    for j in range(i + 1, n):\n",
    "        slope = (building_list[j] - building_list[i]) / (j - i)\n",
    "        if slope <= max_slope:\n",
    "            continue\n",
    "        max_slope = max(max_slope, slope)\n",
    "        answer[i] += 1\n",
    "        answer[j] += 1\n",
    "\n",
    "print(max(answer))"
   ]
  }
 ],
 "metadata": {
  "kernelspec": {
   "display_name": "Python 3 (ipykernel)",
   "language": "python",
   "name": "python3"
  },
  "language_info": {
   "codemirror_mode": {
    "name": "ipython",
    "version": 3
   },
   "file_extension": ".py",
   "mimetype": "text/x-python",
   "name": "python",
   "nbconvert_exporter": "python",
   "pygments_lexer": "ipython3",
   "version": "3.8.19"
  }
 },
 "nbformat": 4,
 "nbformat_minor": 5
}
