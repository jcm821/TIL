{
 "cells": [
  {
   "cell_type": "code",
   "execution_count": null,
   "id": "bf4ef234-08ee-4273-a0cf-3cadb91f59cd",
   "metadata": {},
   "outputs": [],
   "source": [
    "# 마법사 상어와 토네이도 문제\n",
    "# 마법사 상어가 토네이도를 배웠고, 오늘은 토네이도를 크기가 N×N인 격자로 나누어진 모래밭에서 연습하려고 한다. 위치 (r, c)는 격자의 r행 c열을 의미하고, A[r][c]는 (r, c)에 있는 모래의 양을 의미한다.\n",
    "# 토네이도를 시전하면 격자의 가운데 칸부터 토네이도의 이동이 시작된다. 토네이도는 한 번에 한 칸 이동한다. 다음은 N = 7인 경우 토네이도의 이동이다.\n",
    "# 토네이도가 한 칸 이동할 때마다 모래는 다음과 같이 일정한 비율로 흩날리게 된다.\n",
    "\n",
    "\n",
    "\n",
    "# 토네이도가 x에서 y로 이동하면, y의 모든 모래가 비율과 α가 적혀있는 칸으로 이동한다. 비율이 적혀있는 칸으로 이동하는 모래의 양은 y에 있는 모래의 해당 비율만큼이고, 계산에서 소수점 아래는 버린다.\n",
    "# α로 이동하는 모래의 양은 비율이 적혀있는 칸으로 이동하지 않은 남은 모래의 양과 같다. 모래가 이미 있는 칸으로 모래가 이동하면, 모래의 양은 더해진다.\n",
    "# 위의 그림은 토네이도가 왼쪽으로 이동할 때이고, 다른 방향으로 이동하는 경우는 위의 그림을 해당 방향으로 회전하면 된다.\n",
    "\n",
    "# 토네이도는 (1, 1)까지 이동한 뒤 소멸한다. 모래가 격자의 밖으로 이동할 수도 있다. 토네이도가 소멸되었을 때, 격자의 밖으로 나간 모래의 양을 구해보자.\n",
    "\n",
    "# 입력\n",
    "# 첫째 줄에 격자의 크기 N이 주어진다. 둘째 줄부터 N개의 줄에는 격자의 각 칸에 있는 모래가 주어진다. r번째 줄에서 c번째 주어지는 정수는 A[r][c] 이다.\n",
    "\n",
    "# 출력\n",
    "# 격자의 밖으로 나간 모래의 양을 출력한다."
   ]
  },
  {
   "cell_type": "code",
   "execution_count": null,
   "id": "686cc0ee-e00b-421c-ad7c-ebf6315f3849",
   "metadata": {},
   "outputs": [],
   "source": [
    "# 접근\n",
    "# 회오리가 도는 규칙 -> 왼쪽 아래쪽에 대해서는 홀수번 만큼 진행, 오른쪽 위쪽에 대해서는 짝수번 만큼 진행\n",
    "# for문 조건 생성 시, i가 홀수라면 왼쪽, 아래쪽으로 퍼지게, 짝수면 오른쪽, 위쪽으로 퍼지게끔 함수 작성\n",
    "# move함수 활용 -> 범위가 벗어나면 정답값에 누적하여 더해주고, 범위안에 들어오면 해당 좌표의 모래값 업데이트, 현재좌표의 x, y좌표가 0보다 작게 되면 탐색 종료"
   ]
  },
  {
   "cell_type": "code",
   "execution_count": 2,
   "id": "09075590-be37-4c93-8b66-47bf9b6e520f",
   "metadata": {
    "editable": true,
    "slideshow": {
     "slide_type": ""
    },
    "tags": []
   },
   "outputs": [
    {
     "name": "stdin",
     "output_type": "stream",
     "text": [
      " 5\n",
      " 0 0 0 0 0\n",
      " 0 0 0 0 0\n",
      " 0 10 0 0 0\n",
      " 0 0 0 0 0\n",
      " 0 0 0 0 0\n"
     ]
    },
    {
     "name": "stdout",
     "output_type": "stream",
     "text": [
      "10\n"
     ]
    }
   ],
   "source": [
    "N = int(input())\n",
    "# 전체 모래량\n",
    "desert = [list(map(int, input().split())) for _ in range(N)]\n",
    "# 밖으로 나간 모래량\n",
    "answer = 0\n",
    "# 현재의 x, y좌표\n",
    "now = [N // 2, N // 2]\n",
    "\n",
    "# 왼쪽방향으로 퍼질때\n",
    "left = [(-2, 0, 0.02), (2, 0, 0.02), (-1, -1, 0.1), (-1, 0, 0.07), (-1, 1, 0.01), (1, -1, 0.1), (1, 0, 0.07), (1, 1, 0.01), (0, -2, 0.05), (0, -1, 0)]\n",
    "# 오른쪽방향으로 퍼질 때\n",
    "right = [(x, -y, z) for x, y, z in left]\n",
    "# 아래쪽 방향으로 퍼질 때\n",
    "down = [(-y, x, z) for x, y, z in left]\n",
    "# 위쪽 방향으로 퍼질 때\n",
    "up = [(-x, y, z) for x, y, z in down]\n",
    "rate = {'left': left, 'right': right, 'down': down, 'up': up}\n",
    "\n",
    "# 모래를 흩날리는 함수\n",
    "def move(cnt, dx, dy, direction):\n",
    "    global answer\n",
    "    for _ in range(cnt + 1):\n",
    "        # 현재좌표 업데이트\n",
    "        now[0], now[1] = now[0] + dx, now[1] + dy\n",
    "        # 회오리를 돌다가 끝나버리는 경우\n",
    "        if now[0] < 0 or now[1] < 0:\n",
    "            break\n",
    "\n",
    "        # 모래가 퍼진값을 누적한 양\n",
    "        spreads = 0\n",
    "        # 퍼지는 모래 계산\n",
    "        for dx, dy, r in rate[direction]:\n",
    "            nx, ny = now[0] + dx, now[1] + dy\n",
    "            # 퍼지지 않는 모래들은 현재 자리에 누적\n",
    "            if r == 0:\n",
    "                sand = desert[now[0]][now[1]] - spreads\n",
    "            else:\n",
    "                sand = int(desert[now[0]][now[1]] * r)\n",
    "\n",
    "            # 모래량 업데이트\n",
    "            # 범위 안\n",
    "            if 0 <= nx < N and 0 <= ny < N:\n",
    "                desert[nx][ny] += sand\n",
    "            else:\n",
    "                answer += sand\n",
    "            # 현재자리 계산을 위한 퍼지는 모래의 누적값\n",
    "            spreads += sand\n",
    "\n",
    "for i in range(N):\n",
    "    if i % 2 == 0:\n",
    "        # 왼쪽\n",
    "        move(i, 0, -1, 'left')\n",
    "        # 아래쪽\n",
    "        move(i, 1, 0, 'down')\n",
    "    else:\n",
    "        # 오른쪽\n",
    "        move(i, 0, 1, 'right')\n",
    "        # 위쪽\n",
    "        move(i, -1, 0, 'up')\n",
    "\n",
    "print(answer)"
   ]
  },
  {
   "cell_type": "code",
   "execution_count": null,
   "id": "e97c247a-34c0-41e8-9cc8-daa9be603b62",
   "metadata": {},
   "outputs": [],
   "source": [
    "# 줄 서기 문제\n",
    "# N명의 사람들은 매일 아침 한 줄로 선다. 이 사람들은 자리를 마음대로 서지 못하고 오민식의 지시대로 선다.\n",
    "# 어느 날 사람들은 오민식이 사람들이 줄 서는 위치를 기록해 놓는다는 것을 알았다. 그리고 아침에 자기가 기록해 놓은 것과 사람들이 줄을 선 위치가 맞는지 확인한다.\n",
    "# 사람들은 자기보다 큰 사람이 왼쪽에 몇 명 있었는지만을 기억한다. N명의 사람이 있고, 사람들의 키는 1부터 N까지 모두 다르다.\n",
    "# 각 사람들이 기억하는 정보가 주어질 때, 줄을 어떻게 서야 하는지 출력하는 프로그램을 작성하시오.\n",
    "\n",
    "# 입력\n",
    "# 첫째 줄에 사람의 수 N이 주어진다. N은 10보다 작거나 같은 자연수이다. 둘째 줄에는 키가 1인 사람부터 차례대로 자기보다 키가 큰 사람이 왼쪽에 몇 명이 있었는지 주어진다. i번째 수는 0보다 크거나 같고, N-i보다 작거나 같다. i는 0부터 시작한다.\n",
    "\n",
    "# 출력\n",
    "# 첫째 줄에 줄을 선 순서대로 키를 출력한다."
   ]
  },
  {
   "cell_type": "code",
   "execution_count": 3,
   "id": "e7d89b9e-7b10-4afc-b1dd-5087ccd4e039",
   "metadata": {
    "editable": true,
    "slideshow": {
     "slide_type": ""
    },
    "tags": []
   },
   "outputs": [
    {
     "name": "stdin",
     "output_type": "stream",
     "text": [
      " 4\n",
      " 2 1 1 0\n"
     ]
    },
    {
     "name": "stdout",
     "output_type": "stream",
     "text": [
      "4 2 1 3\n"
     ]
    }
   ],
   "source": [
    "n = int(input())\n",
    "\n",
    "arr = list(map(int, input().split()))\n",
    "answer = [0]*n\n",
    "\n",
    "for i in range(n):\n",
    "    cnt = 0\n",
    "    for j in range(n):\n",
    "        if cnt == arr[i] and answer[j] == 0:\n",
    "            answer[j] = i + 1\n",
    "            break\n",
    "        elif answer[j] == 0:\n",
    "            cnt += 1\n",
    "\n",
    "print(' '.join(map(str, answer)))"
   ]
  }
 ],
 "metadata": {
  "kernelspec": {
   "display_name": "Python 3 (ipykernel)",
   "language": "python",
   "name": "python3"
  },
  "language_info": {
   "codemirror_mode": {
    "name": "ipython",
    "version": 3
   },
   "file_extension": ".py",
   "mimetype": "text/x-python",
   "name": "python",
   "nbconvert_exporter": "python",
   "pygments_lexer": "ipython3",
   "version": "3.8.19"
  }
 },
 "nbformat": 4,
 "nbformat_minor": 5
}
