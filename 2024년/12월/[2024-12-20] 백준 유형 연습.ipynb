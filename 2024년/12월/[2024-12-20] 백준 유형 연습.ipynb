{
 "cells": [
  {
   "cell_type": "code",
   "execution_count": null,
   "id": "1ae6ab26-6d45-4bf4-b7fc-609edf5ee904",
   "metadata": {},
   "outputs": [],
   "source": [
    "# 수 찾기 문제\n",
    "# N개의 정수 A[1], A[2], …, A[N]이 주어져 있을 때, 이 안에 X라는 정수가 존재하는지 알아내는 프로그램을 작성하시오.\n",
    "\n",
    "# 입력\n",
    "# 첫째 줄에 자연수 N(1 ≤ N ≤ 100,000)이 주어진다. 다음 줄에는 N개의 정수 A[1], A[2], …, A[N]이 주어진다. 다음 줄에는 M(1 ≤ M ≤ 100,000)이 주어진다.\n",
    "# 다음 줄에는 M개의 수들이 주어지는데, 이 수들이 A안에 존재하는지 알아내면 된다. 모든 정수의 범위는 -231 보다 크거나 같고 231보다 작다.\n",
    "\n",
    "# 출력\n",
    "# M개의 줄에 답을 출력한다. 존재하면 1을, 존재하지 않으면 0을 출력한다."
   ]
  },
  {
   "cell_type": "code",
   "execution_count": 3,
   "id": "b9efe8b2-58e6-446b-b095-745979b8f408",
   "metadata": {},
   "outputs": [
    {
     "name": "stdin",
     "output_type": "stream",
     "text": [
      " 5\n",
      " 4 1 5 2 3\n",
      " 5\n",
      " 1 3 7 9 5\n"
     ]
    },
    {
     "name": "stdout",
     "output_type": "stream",
     "text": [
      "1\n",
      "1\n",
      "0\n",
      "0\n",
      "1\n"
     ]
    }
   ],
   "source": [
    "# sol1\n",
    "# 이분탐색(이진탐색) 사용\n",
    "N = int(input())\n",
    "A = list(map(int, input().split()))\n",
    "M = int(input())\n",
    "arr = list(map(int, input().split()))\n",
    "# A 정렬\n",
    "A.sort()\n",
    "\n",
    "# arr의 각 원소별로 이분탐색\n",
    "for num in arr:\n",
    "    # lt는 맨 앞, rt는 맨 뒤\n",
    "    lt, rt = 0, N - 1\n",
    "    # 찾음 여부\n",
    "    isExist = False\n",
    "\n",
    "    # 이분 탐색 시작\n",
    "    # lt가 rt보다 커지면 반복문  탈출\n",
    "    while lt <= rt:\n",
    "        mid = (lt + rt) // 2\n",
    "        # num(목표값)이 A[mid]값과 같다면 (목표값 존재여부를 알았다면)\n",
    "        if num == A[mid]:\n",
    "            isExist = True\n",
    "            print(1)\n",
    "            break\n",
    "        # A[mid]가 num보다 작으면\n",
    "        elif num > A[mid]:\n",
    "            lt = mid + 1\n",
    "        else:\n",
    "            rt = mid - 1\n",
    "\n",
    "    if not isExist:\n",
    "        print(0)"
   ]
  },
  {
   "cell_type": "code",
   "execution_count": 4,
   "id": "77f5ee48-3bbf-4e4e-9cae-b793dfe8ebb4",
   "metadata": {},
   "outputs": [
    {
     "name": "stdin",
     "output_type": "stream",
     "text": [
      " 5\n",
      " 4 1 5 2 3\n",
      " 5\n",
      " 1 3 7 9 5\n"
     ]
    },
    {
     "name": "stdout",
     "output_type": "stream",
     "text": [
      "1\n",
      "1\n",
      "0\n",
      "0\n",
      "1\n"
     ]
    }
   ],
   "source": [
    "# sol2\n",
    "N = int(input())\n",
    "# 탐색시간을 줄이기 위해 set으로 받음\n",
    "A = set(map(int, input().split()))\n",
    "M = int(input())\n",
    "arr = list(map(int, input().split()))\n",
    "\n",
    "# arr의 각 원소별로 탐색\n",
    "for num in arr:\n",
    "    # num이 A 안에 있으면 1, 없으면 0 출력\n",
    "    print(1) if num in A else print(0)"
   ]
  },
  {
   "cell_type": "code",
   "execution_count": null,
   "id": "505cdc84-7aa7-4863-b38d-ca8497859eff",
   "metadata": {},
   "outputs": [],
   "source": [
    "# 괄호 문제\n",
    "# 괄호 문자열(Parenthesis String, PS)은 두 개의 괄호 기호인 ‘(’ 와 ‘)’ 만으로 구성되어 있는 문자열이다. 그 중에서 괄호의 모양이 바르게 구성된 문자열을 올바른 괄호 문자열(Valid PS, VPS)이라고 부른다. 한 쌍의 괄호 기호로 된 “( )” 문자열은 기본 VPS 이라고 부른다. 만일 x 가 VPS 라면 이것을 하나의 괄호에 넣은 새로운 문자열 “(x)”도 VPS 가 된다. 그리고 두 VPS x 와 y를 접합(concatenation)시킨 새로운 문자열 xy도 VPS 가 된다. 예를 들어 “(())()”와 “((()))” 는 VPS 이지만 “(()(”, “(())()))” , 그리고 “(()” 는 모두 VPS 가 아닌 문자열이다. \n",
    "\n",
    "# 여러분은 입력으로 주어진 괄호 문자열이 VPS 인지 아닌지를 판단해서 그 결과를 YES 와 NO 로 나타내어야 한다. \n",
    "\n",
    "# 입력\n",
    "# 입력 데이터는 표준 입력을 사용한다. 입력은 T개의 테스트 데이터로 주어진다. 입력의 첫 번째 줄에는 입력 데이터의 수를 나타내는 정수 T가 주어진다. 각 테스트 데이터의 첫째 줄에는 괄호 문자열이 한 줄에 주어진다. 하나의 괄호 문자열의 길이는 2 이상 50 이하이다. \n",
    "\n",
    "# 출력\n",
    "# 출력은 표준 출력을 사용한다. 만일 입력 괄호 문자열이 올바른 괄호 문자열(VPS)이면 “YES”, 아니면 “NO”를 한 줄에 하나씩 차례대로 출력해야 한다. "
   ]
  },
  {
   "cell_type": "code",
   "execution_count": 8,
   "id": "cbdf1fa2-6a7a-443d-b5aa-38626cf6dc7a",
   "metadata": {},
   "outputs": [
    {
     "name": "stdin",
     "output_type": "stream",
     "text": [
      " 6\n",
      " (())())\n"
     ]
    },
    {
     "name": "stdout",
     "output_type": "stream",
     "text": [
      "NO\n"
     ]
    },
    {
     "name": "stdin",
     "output_type": "stream",
     "text": [
      " (((()())()\n"
     ]
    },
    {
     "name": "stdout",
     "output_type": "stream",
     "text": [
      "NO\n"
     ]
    },
    {
     "name": "stdin",
     "output_type": "stream",
     "text": [
      " (()())((()))\n"
     ]
    },
    {
     "name": "stdout",
     "output_type": "stream",
     "text": [
      "YES\n"
     ]
    },
    {
     "name": "stdin",
     "output_type": "stream",
     "text": [
      " ((()()(()))(((())))()\n"
     ]
    },
    {
     "name": "stdout",
     "output_type": "stream",
     "text": [
      "NO\n"
     ]
    },
    {
     "name": "stdin",
     "output_type": "stream",
     "text": [
      " ((()()(()))(((())))()\n"
     ]
    },
    {
     "name": "stdout",
     "output_type": "stream",
     "text": [
      "NO\n"
     ]
    },
    {
     "name": "stdin",
     "output_type": "stream",
     "text": [
      " (()((())()(\n"
     ]
    },
    {
     "name": "stdout",
     "output_type": "stream",
     "text": [
      "NO\n"
     ]
    }
   ],
   "source": [
    "t = int(input())\n",
    "for _ in range(t):\n",
    "    stack = []\n",
    "    s = input()\n",
    "    isVPS = True\n",
    "\n",
    "    for ch in s:\n",
    "        if ch == '(':\n",
    "            stack.append('(')\n",
    "        if ch == ')':\n",
    "            if stack:\n",
    "                stack.pop()\n",
    "            elif not stack:\n",
    "                isVPS = False\n",
    "                break\n",
    "    if not stack and isVPS:\n",
    "        print('YES')\n",
    "    elif stack or not isVPS:\n",
    "        print('NO')"
   ]
  },
  {
   "cell_type": "code",
   "execution_count": null,
   "id": "6d9fd165-f5c4-4ef7-b698-466571244a60",
   "metadata": {},
   "outputs": [],
   "source": [
    "# 숫자 카드2 문제\n",
    "# 숫자 카드는 정수 하나가 적혀져 있는 카드이다. 상근이는 숫자 카드 N개를 가지고 있다. 정수 M개가 주어졌을 때, 이 수가 적혀있는 숫자 카드를 상근이가 몇 개 가지고 있는지 구하는 프로그램을 작성하시오.\n",
    "\n",
    "# 입력\n",
    "# 첫째 줄에 상근이가 가지고 있는 숫자 카드의 개수 N(1 ≤ N ≤ 500,000)이 주어진다. 둘째 줄에는 숫자 카드에 적혀있는 정수가 주어진다. 숫자 카드에 적혀있는 수는 -10,000,000보다 크거나 같고, 10,000,000보다 작거나 같다.\n",
    "\n",
    "# 셋째 줄에는 M(1 ≤ M ≤ 500,000)이 주어진다. 넷째 줄에는 상근이가 몇 개 가지고 있는 숫자 카드인지 구해야 할 M개의 정수가 주어지며, 이 수는 공백으로 구분되어져 있다. 이 수도 -10,000,000보다 크거나 같고, 10,000,000보다 작거나 같다.\n",
    "\n",
    "# 출력\n",
    "# 첫째 줄에 입력으로 주어진 M개의 수에 대해서, 각 수가 적힌 숫자 카드를 상근이가 몇 개 가지고 있는지를 공백으로 구분해 출력한다."
   ]
  },
  {
   "cell_type": "code",
   "execution_count": null,
   "id": "147d17c0-60cf-4b37-aac9-9874b70ff4cd",
   "metadata": {},
   "outputs": [],
   "source": [
    "# vscode 사용\n",
    "# 딕셔너리, 이분 탐색 이용\n",
    "# 숫자카드2 문제\n",
    "# sol1 딕셔너리, 이분 탐색\n",
    "import sys\n",
    "input = sys.stdin.readline\n",
    "\n",
    "N = int(input())\n",
    "cards = sorted([*map(int, input().split())])\n",
    "M = int(input())\n",
    "candidate = [*map(int, input().split())]\n",
    "\n",
    "count = {}\n",
    "for card in cards:\n",
    "    if card in count:\n",
    "        count[card] += 1\n",
    "    else:\n",
    "        count[card] = 1\n",
    "\n",
    "def binarySearch(arr, target, start, end):\n",
    "    if start > end:\n",
    "        return 0\n",
    "\n",
    "    mid = (start + end) // 2\n",
    "    if arr[mid] == target:\n",
    "        return count.get(target)\n",
    "    elif arr[mid] < target:\n",
    "        return binarySearch(arr, target, mid + 1, end)\n",
    "    else:\n",
    "        return binarySearch(arr, target, start, mid - 1)\n",
    "\n",
    "\n",
    "for target in candidate:\n",
    "    print(binarySearch(cards, target, 0, len(cards) - 1), end = ' ')"
   ]
  },
  {
   "cell_type": "code",
   "execution_count": null,
   "id": "d64b07ee-40d1-4741-a779-b19c44b5f3b8",
   "metadata": {},
   "outputs": [],
   "source": [
    "# sol2 딕셔너리, 키 조회\n",
    "import sys\n",
    "input = sys.stdin.readline\n",
    "\n",
    "N = int(input())\n",
    "cards = [*map(int, input().split())]\n",
    "M = int(input())\n",
    "candidate = [*map(int, input().split())]\n",
    "\n",
    "count = {}\n",
    "for card in cards:\n",
    "    if card in count:\n",
    "        count[card] += 1\n",
    "    else:\n",
    "        count[card] = 1\n",
    "\n",
    "for target in candidate:\n",
    "    result = count.get(target)\n",
    "    if result == None:\n",
    "        print(0, end = ' ')\n",
    "    else:\n",
    "        print(result, end = ' ')"
   ]
  },
  {
   "cell_type": "code",
   "execution_count": null,
   "id": "8bc60664-29fa-4b5b-b73c-acade296872e",
   "metadata": {},
   "outputs": [],
   "source": [
    "# 스택 문제\n",
    "# 정수를 저장하는 스택을 구현한 다음, 입력으로 주어지는 명령을 처리하는 프로그램을 작성하시오.\n",
    "\n",
    "# 명령은 총 다섯 가지이다.\n",
    "\n",
    "# push X: 정수 X를 스택에 넣는 연산이다.\n",
    "# pop: 스택에서 가장 위에 있는 정수를 빼고, 그 수를 출력한다. 만약 스택에 들어있는 정수가 없는 경우에는 -1을 출력한다.\n",
    "# size: 스택에 들어있는 정수의 개수를 출력한다.\n",
    "# empty: 스택이 비어있으면 1, 아니면 0을 출력한다.\n",
    "# top: 스택의 가장 위에 있는 정수를 출력한다. 만약 스택에 들어있는 정수가 없는 경우에는 -1을 출력한다.\n",
    "# 입력\n",
    "# 첫째 줄에 주어지는 명령의 수 N (1 ≤ N ≤ 10,000)이 주어진다. 둘째 줄부터 N개의 줄에는 명령이 하나씩 주어진다. 주어지는 정수는 1보다 크거나 같고, 100,000보다 작거나 같다. 문제에 나와있지 않은 명령이 주어지는 경우는 없다.\n",
    "\n",
    "# 출력\n",
    "# 출력해야하는 명령이 주어질 때마다, 한 줄에 하나씩 출력한다."
   ]
  },
  {
   "cell_type": "code",
   "execution_count": null,
   "id": "3563b1cd-f3f3-4e29-8ff8-0c45792342a5",
   "metadata": {},
   "outputs": [],
   "source": [
    "# 스택 문제\n",
    "import sys\n",
    "input = sys.stdin.readline\n",
    "\n",
    "# 명령어의 개수 입력\n",
    "n = int(input())\n",
    "\n",
    "# 명령어 입력\n",
    "lst = [input() for _ in range(n)]\n",
    "\n",
    "# 스택 초기화\n",
    "stack = []\n",
    "\n",
    "# 각 명령어 수행\n",
    "for l in lst:\n",
    "    if 'push' in l.split()[0]:\n",
    "        stack.append(int(l.split()[1]))\n",
    "    elif 'top' in l:\n",
    "        # 스택이 비어있지 않으면 스택의 가장 위의 값을 출력\n",
    "        # 스택이 비어있으면 -1 출력\n",
    "        print(stack[-1]) if stack else print(-1)\n",
    "    elif 'size' in l:\n",
    "        print(len(stack))\n",
    "    elif 'empty' in l:\n",
    "        print(0) if stack else print(1)\n",
    "    elif 'pop' in l:\n",
    "        # 스택이 비어있지 않으면 가장 위의 값을 스택에서 빼내어 출력\n",
    "        # 스택이 비어있으면 -1 출력\n",
    "        print(stack.pop()) if stack else print(-1)"
   ]
  },
  {
   "cell_type": "code",
   "execution_count": null,
   "id": "580acbc5-290d-40f7-bc88-8826c9186a9d",
   "metadata": {},
   "outputs": [],
   "source": [
    "# 큐 문제\n",
    "# 정수를 저장하는 큐를 구현한 다음, 입력으로 주어지는 명령을 처리하는 프로그램을 작성하시오.\n",
    "\n",
    "# 명령은 총 여섯 가지이다.\n",
    "\n",
    "# push X: 정수 X를 큐에 넣는 연산이다.\n",
    "# pop: 큐에서 가장 앞에 있는 정수를 빼고, 그 수를 출력한다. 만약 큐에 들어있는 정수가 없는 경우에는 -1을 출력한다.\n",
    "# size: 큐에 들어있는 정수의 개수를 출력한다.\n",
    "# empty: 큐가 비어있으면 1, 아니면 0을 출력한다.\n",
    "# front: 큐의 가장 앞에 있는 정수를 출력한다. 만약 큐에 들어있는 정수가 없는 경우에는 -1을 출력한다.\n",
    "# back: 큐의 가장 뒤에 있는 정수를 출력한다. 만약 큐에 들어있는 정수가 없는 경우에는 -1을 출력한다.\n",
    "# 입력\n",
    "# 첫째 줄에 주어지는 명령의 수 N (1 ≤ N ≤ 10,000)이 주어진다. 둘째 줄부터 N개의 줄에는 명령이 하나씩 주어진다. 주어지는 정수는 1보다 크거나 같고, 100,000보다 작거나 같다. 문제에 나와있지 않은 명령이 주어지는 경우는 없다.\n",
    "\n",
    "# 출력\n",
    "# 출력해야하는 명령이 주어질 때마다, 한 줄에 하나씩 출력한다."
   ]
  },
  {
   "cell_type": "code",
   "execution_count": null,
   "id": "cfe52cc6-ab24-4f42-8af6-1ede13062e6c",
   "metadata": {},
   "outputs": [],
   "source": [
    "# vscode 사용\n",
    "# 큐 문제\n",
    "# sol1 - stack 이용\n",
    "import sys\n",
    "\n",
    "n = int(sys.stdin.readline().strip())\n",
    "\n",
    "stack = []\n",
    "for i in range(n):\n",
    "    cmd = sys.stdin.readline().strip().split()\n",
    "    if cmd[0] == 'push':\n",
    "        stack.append(cmd[1])\n",
    "    elif cmd[0] == 'pop':\n",
    "        if len(stack) != 0:\n",
    "            print(stack.pop(0))\n",
    "        else:\n",
    "            print(-1)\n",
    "    elif cmd[0] == 'size':\n",
    "        print(len(stack))\n",
    "    elif cmd[0] == 'empty':\n",
    "        if len(stack) == 0:\n",
    "            print(1)\n",
    "        else:\n",
    "            print(0)\n",
    "    elif cmd[0] == 'front':\n",
    "        if len(stack) != 0:\n",
    "            print(stack[0])\n",
    "        else:\n",
    "            print(-1)\n",
    "    elif cmd[0] == 'back':\n",
    "        if len(stack) != 0:\n",
    "            print(stack[-1])\n",
    "        else:\n",
    "            print(-1)\n"
   ]
  },
  {
   "cell_type": "code",
   "execution_count": null,
   "id": "6116f735-fd89-491c-9b34-01b5e2b06ca4",
   "metadata": {},
   "outputs": [],
   "source": [
    "# sol2 - queue 이용\n",
    "from collections import deque\n",
    "import sys\n",
    "\n",
    "N = int(sys.stdin.readline().strip())\n",
    "\n",
    "dq = deque()\n",
    "\n",
    "for i in range(N):\n",
    "    cmd = sys.stdin.readline().strip().split()\n",
    "    if cmd[0] == 'push':\n",
    "        dq.append(cmd[1])\n",
    "    elif cmd[0] == 'pop':\n",
    "        if len(dq) != 0:\n",
    "            print(dq.popleft())\n",
    "        else:\n",
    "            print(-1)\n",
    "    elif cmd[0] == 'size':\n",
    "        print(len(dq))\n",
    "    elif cmd[0] == 'empty':\n",
    "        if len(dq) == 0:\n",
    "            print(1)\n",
    "        else:\n",
    "            print(0)\n",
    "    elif cmd[0] == 'front':\n",
    "        if len(dq) != 0:\n",
    "            print(dq[0])\n",
    "        else:\n",
    "            print(-1)\n",
    "    elif cmd[0] == 'back':\n",
    "        if len(dq) != 0:\n",
    "            print(dq[-1])\n",
    "        else:\n",
    "            print(-1)"
   ]
  },
  {
   "cell_type": "code",
   "execution_count": null,
   "id": "c8546c2e-ae62-4eef-b2fe-31d31af02d95",
   "metadata": {},
   "outputs": [],
   "source": [
    "# 요세푸스 문제\n",
    "# 요세푸스 문제는 다음과 같다.\n",
    "\n",
    "# 1번부터 N번까지 N명의 사람이 원을 이루면서 앉아있고, 양의 정수 K(≤ N)가 주어진다. 이제 순서대로 K번째 사람을 제거한다. 한 사람이 제거되면 남은 사람들로 이루어진 원을 따라 이 과정을 계속해 나간다. 이 과정은 N명의 사람이 모두 제거될 때까지 계속된다. 원에서 사람들이 제거되는 순서를 (N, K)-요세푸스 순열이라고 한다. 예를 들어 (7, 3)-요세푸스 순열은 <3, 6, 2, 7, 5, 1, 4>이다.\n",
    "\n",
    "# N과 K가 주어지면 (N, K)-요세푸스 순열을 구하는 프로그램을 작성하시오.\n",
    "\n",
    "# 입력\n",
    "# 첫째 줄에 N과 K가 빈 칸을 사이에 두고 순서대로 주어진다. (1 ≤ K ≤ N ≤ 1,000)\n",
    "\n",
    "# 출력\n",
    "# 예제와 같이 요세푸스 순열을 출력한다."
   ]
  },
  {
   "cell_type": "code",
   "execution_count": null,
   "id": "01a5df4a-7b6d-4172-bcaa-b62df8d4cc38",
   "metadata": {},
   "outputs": [],
   "source": [
    "# vscode 사용\n",
    "# 요세푸스 문제\n",
    "# sol1 - deque 사용\n",
    "import sys\n",
    "from collections import deque\n",
    "\n",
    "# 입력 받기\n",
    "n, k = map(int, input().split())\n",
    "\n",
    "# 양방향 연결 리스트(deque) 생성\n",
    "dq = deque([i for i in range(1, n + 1)])\n",
    "\n",
    "# 요세푸스 순열 생성\n",
    "lst = []\n",
    "while len(dq) != 0:\n",
    "    for _ in range(k - 1):\n",
    "        # k-1번째 노드까지 dq맨 뒤로 이동\n",
    "        dq.append(dq.popleft())\n",
    "    # k번째 노드 삭제 후 결과 배열에 추가\n",
    "    lst.append(str(dq.popleft()))\n",
    "\n",
    "\n",
    "# 결과 출력\n",
    "print('<'+', '.join(lst)+'>')"
   ]
  },
  {
   "cell_type": "code",
   "execution_count": null,
   "id": "196d8312-d4d3-40d4-a564-5a5da2dde43b",
   "metadata": {},
   "outputs": [],
   "source": [
    "# sol2\n",
    "import sys\n",
    "\n",
    "# 입력 받기\n",
    "n, k = map(int, sys.stdin.readline().split())\n",
    "\n",
    "# 요세푸스 순열 생성\n",
    "idx = 0\n",
    "queue = [i for i in range(1, n + 1)]\n",
    "lst = []\n",
    "while queue:\n",
    "    # k-1번째 인덱스까지 건너뛰기\n",
    "    idx += k - 1\n",
    "    # 인덱스가 범위를 넘어갈 경우\n",
    "    if idx >= len(queue):\n",
    "        # 나머지 연산을 통해 인덱스 계산\n",
    "        idx %= len(queue)\n",
    "    # k번째 수 제거 후 결과 배열에 추가\n",
    "    lst.append(str(queue.pop(idx)))\n",
    "\n",
    "# 결과 출력\n",
    "print('<'+', '.join(lst)+'>')"
   ]
  }
 ],
 "metadata": {
  "kernelspec": {
   "display_name": "Python 3 (ipykernel)",
   "language": "python",
   "name": "python3"
  },
  "language_info": {
   "codemirror_mode": {
    "name": "ipython",
    "version": 3
   },
   "file_extension": ".py",
   "mimetype": "text/x-python",
   "name": "python",
   "nbconvert_exporter": "python",
   "pygments_lexer": "ipython3",
   "version": "3.8.19"
  }
 },
 "nbformat": 4,
 "nbformat_minor": 5
}
