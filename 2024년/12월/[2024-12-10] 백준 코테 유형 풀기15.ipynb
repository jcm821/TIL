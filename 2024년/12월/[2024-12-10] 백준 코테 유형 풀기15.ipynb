{
 "cells": [
  {
   "cell_type": "code",
   "execution_count": null,
   "id": "46708af6-e7e2-49a8-b633-18eb5daae47b",
   "metadata": {},
   "outputs": [],
   "source": [
    "# 햄버거 분배 문제\n",
    "# 기다란 벤치 모양의 식탁에 사람들과 햄버거가 아래와 같이 단위 간격으로 놓여 있다. 사람들은 자신의 위치에서 거리가 $K$ 이하인 햄버거를 먹을 수 있다.\n",
    "\n",
    "# 햄버거\t사람\t햄버거\t사람\t햄버거\t사람\t햄버거\t햄버거\t사람\t사람\t햄버거\t사람\n",
    "# 1\t2\t3\t4\t5\t6\t7\t8\t9\t10\t11\t12\n",
    "# 위의 상태에서 K = 1인 경우를 생각해보자. 이 경우 모든 사람은 자신과 인접한 햄버거만 먹을 수 있다. 10번의 위치에 있는 사람은 11번 위치에 있는 햄버거를 먹을 수 있다. 이 경우 다음과 같이 최대 5명의 사람이 햄버거를 먹을 수 있다.\n",
    "\n",
    "# 2번 위치에 있는 사람: 1번 위치에 있는 햄버거\n",
    "# 4번 위치에 있는 사람: 5번 위치에 있는 햄버거\n",
    "# 6번 위치에 있는 사람: 7번 위치에 있는 햄버거\n",
    "# 9번 위치에 있는 사람: 8번 위치에 있는 햄버거\n",
    "# 10번 위치에 있는 사람: 11번 위치에 있는 햄버거\n",
    "# 12번 위치에 있는 사람: 먹을 수 있는 햄버거가 없음\n",
    "# K = 2인 경우에는 6명 모두가 햄버거를 먹을 수 있다.\n",
    "\n",
    "# 2번 위치에 있는 사람: 1번 위치에 있는 햄버거\n",
    "# 4번 위치에 있는 사람: 3번 위치에 있는 햄버거\n",
    "# 6번 위치에 있는 사람: 5번 위치에 있는 햄버거\n",
    "# 9번 위치에 있는 사람: 7번 위치에 있는 햄버거\n",
    "# 10번 위치에 있는 사람: 8번 위치에 있는 햄버거\n",
    "# 12번 위치에 있는 사람: 11번 위치에 있는 햄버거\n",
    "# 식탁의 길이 $N$, 햄버거를 선택할 수 있는 거리 $K$, 사람과 햄버거의 위치가 주어졌을 때, 햄버거를 먹을 수 있는 사람의 최대 수를 구하는 프로그램을 작성하시오.\n",
    "\n",
    "# 입력\n",
    "# 첫 줄에 두 정수 N과 K가 있다. 그리고 다음 줄에 사람과 햄버거의 위치가 문자 P(사람)와 H(햄버거)로 이루어지는 길이 $N$인 문자열로 주어진다.\n",
    "\n",
    "# 출력\n",
    "# 첫 줄에 햄버거를 먹을 수 있는 최대 사람 수를 나타낸다."
   ]
  },
  {
   "cell_type": "code",
   "execution_count": 2,
   "id": "18847011-ec2a-41b4-a68d-c1dff8ef5765",
   "metadata": {},
   "outputs": [
    {
     "name": "stdin",
     "output_type": "stream",
     "text": [
      " 20 1\n",
      " HHPHPPHHPPHPPPHPHPHP\n"
     ]
    },
    {
     "name": "stdout",
     "output_type": "stream",
     "text": [
      "8\n"
     ]
    }
   ],
   "source": [
    "n, k = map(int, input().split())\n",
    "placement = list(input())\n",
    "answer = 0\n",
    "for idx in range(n):\n",
    "    if placement[idx] == 'P':\n",
    "        for i in range(max(idx-k, 0), min(idx+k+1, n)):\n",
    "            if placement[i] == 'H':\n",
    "                placement[i] = 0\n",
    "                answer += 1\n",
    "                break\n",
    "\n",
    "print(answer)"
   ]
  },
  {
   "cell_type": "code",
   "execution_count": null,
   "id": "ed640ef7-ea83-4b08-a0f3-c5897cb47aea",
   "metadata": {},
   "outputs": [],
   "source": [
    "# 드래곤 커브 문제\n",
    "# 드래곤 커브는 다음과 같은 세 가지 속성으로 이루어져 있으며, 이차원 좌표 평면 위에서 정의된다. 좌표 평면의 x축은 → 방향, y축은 ↓ 방향이다.\n",
    "\n",
    "# 1. 시작 점\n",
    "# 2. 시작 방향\n",
    "# 3. 세대\n",
    "# 0세대 드래곤 커브는 아래 그림과 같은 길이가 1인 선분이다. 아래 그림은 (0, 0)에서 시작하고, 시작 방향은 오른쪽인 0세대 드래곤 커브이다.\n",
    "\n",
    "# 1세대 드래곤 커브는 0세대 드래곤 커브를 끝 점을 기준으로 시계 방향으로 90도 회전시킨 다음 0세대 드래곤 커브의 끝 점에 붙인 것이다.\n",
    "# 끝 점이란 시작 점에서 선분을 타고 이동했을 때, 가장 먼 거리에 있는 점을 의미한다.\n",
    "# 2세대 드래곤 커브도 1세대를 만든 방법을 이용해서 만들 수 있다. (파란색 선분은 새로 추가된 선분을 나타낸다)\n",
    "# 3세대 드래곤 커브도 2세대 드래곤 커브를 이용해 만들 수 있다. 아래 그림은 3세대 드래곤 커브이다.\n",
    "\n",
    "# 즉, K(K > 1)세대 드래곤 커브는 K-1세대 드래곤 커브를 끝 점을 기준으로 90도 시계 방향 회전 시킨 다음, 그것을 끝 점에 붙인 것이다.\n",
    "\n",
    "# 크기가 100×100인 격자 위에 드래곤 커브가 N개 있다. 이때, 크기가 1×1인 정사각형의 네 꼭짓점이 모두 드래곤 커브의 일부인 정사각형의 개수를 구하는 프로그램을 작성하시오.\n",
    "# 격자의 좌표는 (x, y)로 나타내며, 0 ≤ x ≤ 100, 0 ≤ y ≤ 100만 유효한 좌표이다.\n",
    "\n",
    "# 입력\n",
    "# 첫째 줄에 드래곤 커브의 개수 N(1 ≤ N ≤ 20)이 주어진다. 둘째 줄부터 N개의 줄에는 드래곤 커브의 정보가 주어진다. 드래곤 커브의 정보는 네 정수 x, y, d, g로 이루어져 있다.\n",
    "# x와 y는 드래곤 커브의 시작 점, d는 시작 방향, g는 세대이다. (0 ≤ x, y ≤ 100, 0 ≤ d ≤ 3, 0 ≤ g ≤ 10)\n",
    "\n",
    "# 입력으로 주어지는 드래곤 커브는 격자 밖으로 벗어나지 않는다. 드래곤 커브는 서로 겹칠 수 있다.\n",
    "\n",
    "# 방향은 0, 1, 2, 3 중 하나이고, 다음을 의미한다.\n",
    "\n",
    "# 0: x좌표가 증가하는 방향 (→)\n",
    "# 1: y좌표가 감소하는 방향 (↑)\n",
    "# 2: x좌표가 감소하는 방향 (←)\n",
    "# 3: y좌표가 증가하는 방향 (↓)\n",
    "# 출력\n",
    "# 첫째 줄에 크기가 1×1인 정사각형의 네 꼭짓점이 모두 드래곤 커브의 일부인 것의 개수를 출력한다."
   ]
  },
  {
   "cell_type": "code",
   "execution_count": null,
   "id": "3a87155c-4b9e-4160-a40e-e4ad5f1b8dff",
   "metadata": {},
   "outputs": [],
   "source": [
    "# 접근\n",
    "# 조건 0 : 0세대 드래곤 커브 ㅡ\n",
    "# 조건 1 : n세대 드래곤 커브 = n-1세대 + n-1세대를 90도\n",
    "# 조건 2-1 : 생성 규칙 : 0세대 : →  1세대 : → ↑ 2세대 : → ↑(여기서부터 역순으로 뒤집기) ← ↑ 3세대 → ↑ ← ↑(여기서부터 역순으로 뒤집기) ← ↓ ← ↑\n",
    "# 조건 2-2 : 방향 90도 변환 규칙 : ↑ to ← / ← to ↓ /  ↓ to → / → to ↑ (해당위치 % 4)\n",
    "# 조건 3 : 시작 방향 고려  \n",
    "# 조건 4 : 크기가 1x1이면서 네 꼭지점이 모두 드래곤 커브의 일부인 정사각형의 개수  "
   ]
  },
  {
   "cell_type": "code",
   "execution_count": 4,
   "id": "cf337b69-5bb0-4ac3-8977-33341bfe782e",
   "metadata": {},
   "outputs": [
    {
     "name": "stdin",
     "output_type": "stream",
     "text": [
      " 3\n",
      " 3 3 0 1\n",
      " 4 2 1 3\n",
      " 4 2 2 1\n"
     ]
    },
    {
     "name": "stdout",
     "output_type": "stream",
     "text": [
      "4\n"
     ]
    }
   ],
   "source": [
    "n = int(input())\n",
    "\n",
    "graph = [[0]*101 for _ in range(101)]\n",
    "dx = [0, -1, 0, 1]\n",
    "dy = [1, 0, -1, 0]\n",
    "\n",
    "for i in range(n):\n",
    "    y, x, d, g = map(int, input().split(' '))\n",
    "    graph[x][y] = 1\n",
    "\n",
    "    # 커브 리스트 만들기\n",
    "    curve = [d]\n",
    "    for j in range(g):\n",
    "        for k in range(len(curve) -1, -1, -1):\n",
    "            curve.append((curve[k] + 1) % 4)\n",
    "\n",
    "    # 드래곤 커브 만들기\n",
    "    for j in range(len(curve)):\n",
    "        x += dx[curve[j]]\n",
    "        y += dy[curve[j]]\n",
    "        if x < 0 or x >= 101 or y < 0 or y >= 101:\n",
    "            continue\n",
    "\n",
    "        graph[x][y] = 1\n",
    "\n",
    "answer = 0\n",
    "for i in range(100):\n",
    "    for j in range(100):\n",
    "        if graph[i][j] == 1 and graph[i + 1][j] == 1 and graph[i][j + 1] == 1 and graph[i + 1][j + 1] == 1:\n",
    "            answer += 1\n",
    "\n",
    "print(answer)"
   ]
  }
 ],
 "metadata": {
  "kernelspec": {
   "display_name": "Python 3 (ipykernel)",
   "language": "python",
   "name": "python3"
  },
  "language_info": {
   "codemirror_mode": {
    "name": "ipython",
    "version": 3
   },
   "file_extension": ".py",
   "mimetype": "text/x-python",
   "name": "python",
   "nbconvert_exporter": "python",
   "pygments_lexer": "ipython3",
   "version": "3.8.19"
  }
 },
 "nbformat": 4,
 "nbformat_minor": 5
}
