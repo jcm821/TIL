{
 "cells": [
  {
   "cell_type": "code",
   "execution_count": null,
   "id": "47abdf84-8c0a-4302-87ce-a9fb66e0d1e4",
   "metadata": {},
   "outputs": [],
   "source": [
    "# 문제 설명(부족한 금액 계산하기)\n",
    "# 새로 생긴 놀이기구는 인기가 매우 많아 줄이 끊이질 않습니다. 이 놀이기구의 원래 이용료는 price원 인데, 놀이기구를 N 번 째 이용한다면 원래 이용료의 N배를 받기로 하였습니다.\n",
    "# 즉, 처음 이용료가 100이었다면 2번째에는 200, 3번째에는 300으로 요금이 인상됩니다.\n",
    "# 놀이기구를 count번 타게 되면 현재 자신이 가지고 있는 금액에서 얼마가 모자라는지를 return 하도록 solution 함수를 완성하세요.\n",
    "# 단, 금액이 부족하지 않으면 0을 return 하세요.\n",
    "\n",
    "# 제한사항\n",
    "# 놀이기구의 이용료 price : 1 ≤ price ≤ 2,500, price는 자연수\n",
    "# 처음 가지고 있던 금액 money : 1 ≤ money ≤ 1,000,000,000, money는 자연수\n",
    "# 놀이기구의 이용 횟수 count : 1 ≤ count ≤ 2,500, count는 자연수"
   ]
  },
  {
   "cell_type": "code",
   "execution_count": null,
   "id": "db86dcb1-d2db-42af-ab62-924958c3ee4a",
   "metadata": {},
   "outputs": [],
   "source": [
    "# sol1\n",
    "def solution(price, money, count):\n",
    "    for i in range(1, count+ 1):\n",
    "        money -= price * i\n",
    "    if money < 0:\n",
    "        money = abs(money)\n",
    "    else:\n",
    "        money = 0\n",
    "\n",
    "    return money"
   ]
  },
  {
   "cell_type": "code",
   "execution_count": null,
   "id": "699c6a95-1190-45b5-9d19-16a148d2ea7b",
   "metadata": {},
   "outputs": [],
   "source": [
    "# sol2 - 산술평균 이용\n",
    "def solution(price, money, count):\n",
    "    return max(0,price*(count + 1) * count // 2-money)"
   ]
  },
  {
   "cell_type": "code",
   "execution_count": null,
   "id": "b7cf5ac3-9196-4e08-9b73-2c795ffc811b",
   "metadata": {},
   "outputs": [],
   "source": [
    "# sol3\n",
    "def solution(price, money, count):\n",
    "    return abs(min(money - sum([price*i for i in range(1, count + 1)]), 0))"
   ]
  },
  {
   "cell_type": "code",
   "execution_count": null,
   "id": "cdaff8ed-fa4f-404d-b635-43627d19fb64",
   "metadata": {},
   "outputs": [],
   "source": [
    "# 문제 설명(없는 숫자 더하기)\n",
    "# 0부터 9까지의 숫자 중 일부가 들어있는 정수 배열 numbers가 매개변수로 주어집니다. numbers에서 찾을 수 없는 0부터 9까지의 숫자를 모두 찾아 더한 수를 return 하도록 solution 함수를 완성해주세요.\n",
    "\n",
    "# 제한사항\n",
    "# 1 ≤ numbers의 길이 ≤ 9\n",
    "# 0 ≤ numbers의 모든 원소 ≤ 9\n",
    "# numbers의 모든 원소는 서로 다릅니다."
   ]
  },
  {
   "cell_type": "code",
   "execution_count": null,
   "id": "b111d1d5-ff3e-4746-90d5-5e3bf735cea2",
   "metadata": {},
   "outputs": [],
   "source": [
    "def solution(numbers):\n",
    "    return 45 - sum(numbers)"
   ]
  },
  {
   "cell_type": "code",
   "execution_count": null,
   "id": "4a78ce2f-59e7-4807-bafa-d2ce3a812938",
   "metadata": {},
   "outputs": [],
   "source": [
    "# 문제 설명(최소직사각형)\n",
    "# 명함 지갑을 만드는 회사에서 지갑의 크기를 정하려고 합니다. 다양한 모양과 크기의 명함들을 모두 수납할 수 있으면서, 작아서 들고 다니기 편한 지갑을 만들어야 합니다. 이러한 요건을 만족하는 지갑을 만들기 위해 디자인팀은 모든 명함의 가로 길이와 세로 길이를 조사했습니다.\n",
    "\n",
    "# 아래 표는 4가지 명함의 가로 길이와 세로 길이를 나타냅니다.\n",
    "\n",
    "# 명함 번호\t가로 길이\t세로 길이\n",
    "# 1\t60\t50\n",
    "# 2\t30\t70\n",
    "# 3\t60\t30\n",
    "# 4\t80\t40\n",
    "# 가장 긴 가로 길이와 세로 길이가 각각 80, 70이기 때문에 80(가로) x 70(세로) 크기의 지갑을 만들면 모든 명함들을 수납할 수 있습니다. 하지만 2번 명함을 가로로 눕혀 수납한다면 80(가로) x 50(세로) 크기의 지갑으로 모든 명함들을 수납할 수 있습니다. 이때의 지갑 크기는 4000(=80 x 50)입니다.\n",
    "\n",
    "# 모든 명함의 가로 길이와 세로 길이를 나타내는 2차원 배열 sizes가 매개변수로 주어집니다. 모든 명함을 수납할 수 있는 가장 작은 지갑을 만들 때, 지갑의 크기를 return 하도록 solution 함수를 완성해주세요.\n",
    "\n",
    "# 제한사항\n",
    "# sizes의 길이는 1 이상 10,000 이하입니다.\n",
    "# sizes의 원소는 [w, h] 형식입니다.\n",
    "# w는 명함의 가로 길이를 나타냅니다.\n",
    "# h는 명함의 세로 길이를 나타냅니다.\n",
    "# w와 h는 1 이상 1,000 이하인 자연수입니다."
   ]
  },
  {
   "cell_type": "code",
   "execution_count": null,
   "id": "235b44b0-3939-4fcc-acc6-b2fadd1c15bd",
   "metadata": {},
   "outputs": [],
   "source": [
    "# 접근\n",
    "# w, h 리스트를 만든다.\n",
    "# for문을 돌면서 w, h 중 큰 값은 w리스트 작은 값은 h리스트에 담는다.\n",
    "# 두 개의 리스트에서 가장 큰 값이 곱한 값이 답이다."
   ]
  },
  {
   "cell_type": "code",
   "execution_count": null,
   "id": "452a7944-0576-4511-b275-8d73b26016cf",
   "metadata": {},
   "outputs": [],
   "source": [
    "# sol1\n",
    "def solution(sizes):\n",
    "    w = []\n",
    "    h = []\n",
    "    for i in range(len(sizes)):\n",
    "        if sizes[i][0] >= sizes[i][1]:\n",
    "            w.append(sizes[i][0])\n",
    "            h.append(sizes[i][1])\n",
    "        else:\n",
    "            h.append(sizes[i][0])\n",
    "            w.append(sizes[i][1])\n",
    "    return max(w) * max(h)"
   ]
  },
  {
   "cell_type": "code",
   "execution_count": null,
   "id": "7ef87e87-3f0d-4c28-9f4c-fed789ff7d25",
   "metadata": {},
   "outputs": [],
   "source": [
    "# sol2\n",
    "def solution(sizes):\n",
    "    return max(max(x) for x in sizes) * max(min(x) for x in sizes)"
   ]
  },
  {
   "cell_type": "code",
   "execution_count": null,
   "id": "a72c3ff9-fc5b-4b6c-8549-0042c69a9759",
   "metadata": {},
   "outputs": [],
   "source": [
    "# 문제 설명(나머지가 1이 되는 수 찾기)\n",
    "# 자연수 n이 매개변수로 주어집니다. n을 x로 나눈 나머지가 1이 되도록 하는 가장 작은 자연수 x를 return 하도록 solution 함수를 완성해주세요. 답이 항상 존재함은 증명될 수 있습니다.\n",
    "\n",
    "# 제한사항\n",
    "# 3 ≤ n ≤ 1,000,000"
   ]
  },
  {
   "cell_type": "code",
   "execution_count": null,
   "id": "b1f700b9-ce1f-427d-9dbf-78e7f6ceb111",
   "metadata": {},
   "outputs": [],
   "source": [
    "def solution(n):\n",
    "    for i in range(1, n):\n",
    "        if n % i == 1:\n",
    "            answer = i\n",
    "            break\n",
    "    return answer"
   ]
  }
 ],
 "metadata": {
  "kernelspec": {
   "display_name": "Python 3 (ipykernel)",
   "language": "python",
   "name": "python3"
  },
  "language_info": {
   "codemirror_mode": {
    "name": "ipython",
    "version": 3
   },
   "file_extension": ".py",
   "mimetype": "text/x-python",
   "name": "python",
   "nbconvert_exporter": "python",
   "pygments_lexer": "ipython3",
   "version": "3.8.19"
  }
 },
 "nbformat": 4,
 "nbformat_minor": 5
}
