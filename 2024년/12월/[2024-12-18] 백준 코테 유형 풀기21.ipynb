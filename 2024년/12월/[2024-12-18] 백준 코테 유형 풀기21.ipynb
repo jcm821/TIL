{
 "cells": [
  {
   "cell_type": "code",
   "execution_count": null,
   "id": "baeaf010-f2ba-4ed5-816d-a8943901e7ad",
   "metadata": {},
   "outputs": [],
   "source": [
    "# 직각삼각형 문제\n",
    "# 과거 이집트인들은 각 변들의 길이가 3, 4, 5인 삼각형이 직각 삼각형인것을 알아냈다. 주어진 세변의 길이로 삼각형이 직각인지 아닌지 구분하시오.\n",
    "\n",
    "# 입력\n",
    "# 입력은 여러개의 테스트케이스로 주어지며 마지막줄에는 0 0 0이 입력된다. 각 테스트케이스는 모두 30,000보다 작은 양의 정수로 주어지며, 각 입력은 변의 길이를 의미한다.\n",
    "\n",
    "# 출력\n",
    "# 각 입력에 대해 직각 삼각형이 맞다면 \"right\", 아니라면 \"wrong\"을 출력한다."
   ]
  },
  {
   "cell_type": "code",
   "execution_count": 7,
   "id": "4b5fbb79-1167-4018-973d-cbf702ece605",
   "metadata": {},
   "outputs": [
    {
     "name": "stdin",
     "output_type": "stream",
     "text": [
      " 6 8 10\n"
     ]
    },
    {
     "name": "stdout",
     "output_type": "stream",
     "text": [
      "right\n"
     ]
    },
    {
     "name": "stdin",
     "output_type": "stream",
     "text": [
      " 25 52 60\n"
     ]
    },
    {
     "name": "stdout",
     "output_type": "stream",
     "text": [
      "wrong\n"
     ]
    },
    {
     "name": "stdin",
     "output_type": "stream",
     "text": [
      " 0 0 0\n"
     ]
    }
   ],
   "source": [
    "while True:\n",
    "    lst = list(map(int, input().split()))\n",
    "    if lst[0] == 0 and lst[1] == 0 and lst[2] == 0:\n",
    "        break\n",
    "    lst.sort()\n",
    "    if lst[0]** 2 + lst[1] ** 2 == lst[2]**2:\n",
    "        print('right')\n",
    "    else:\n",
    "        print('wrong')"
   ]
  },
  {
   "cell_type": "code",
   "execution_count": null,
   "id": "d2f93026-9d4f-428f-9134-e5eb843702d2",
   "metadata": {},
   "outputs": [],
   "source": [
    "# 단어 정렬 문제\n",
    "# 알파벳 소문자로 이루어진 N개의 단어가 들어오면 아래와 같은 조건에 따라 정렬하는 프로그램을 작성하시오.\n",
    "\n",
    "# 길이가 짧은 것부터\n",
    "# 길이가 같으면 사전 순으로\n",
    "# 단, 중복된 단어는 하나만 남기고 제거해야 한다.\n",
    "\n",
    "# 입력\n",
    "# 첫째 줄에 단어의 개수 N이 주어진다. (1 ≤ N ≤ 20,000) 둘째 줄부터 N개의 줄에 걸쳐 알파벳 소문자로 이루어진 단어가 한 줄에 하나씩 주어진다. 주어지는 문자열의 길이는 50을 넘지 않는다.\n",
    "\n",
    "# 출력\n",
    "# 조건에 따라 정렬하여 단어들을 출력한다."
   ]
  },
  {
   "cell_type": "code",
   "execution_count": null,
   "id": "e768e2cc-0565-47a7-9561-672a32c8a21d",
   "metadata": {},
   "outputs": [],
   "source": [
    "# vscode 사용\n",
    "# 단어 정렬 문제\n",
    "import sys\n",
    "\n",
    "n = int(sys.stdin.readline())\n",
    "lst = []\n",
    "\n",
    "for i in range(n):\n",
    "    lst.append(sys.stdin.readline().strip())\n",
    "set_lst = set(lst)\n",
    "lst = list(set_lst)\n",
    "lst.sort()\n",
    "lst.sort(key = len)\n",
    "\n",
    "for i in lst:\n",
    "    print(i)"
   ]
  },
  {
   "cell_type": "code",
   "execution_count": null,
   "id": "3ac82859-9a29-4397-9174-15df5ec5f3e7",
   "metadata": {},
   "outputs": [],
   "source": [
    "# 수 정렬하기 문제\n",
    "# N개의 수가 주어졌을 때, 이를 오름차순으로 정렬하는 프로그램을 작성하시오.\n",
    "\n",
    "# 입력\n",
    "# 첫째 줄에 수의 개수 N(1 ≤ N ≤ 1,000,000)이 주어진다. 둘째 줄부터 N개의 줄에는 수가 주어진다. 이 수는 절댓값이 1,000,000보다 작거나 같은 정수이다. 수는 중복되지 않는다.\n",
    "\n",
    "# 출력\n",
    "# 첫째 줄부터 N개의 줄에 오름차순으로 정렬한 결과를 한 줄에 하나씩 출력한다."
   ]
  },
  {
   "cell_type": "code",
   "execution_count": null,
   "id": "757184a0-53b1-47d8-af59-4a6117d8284d",
   "metadata": {},
   "outputs": [],
   "source": [
    "# vscode 사용\n",
    "# 수 정렬하기 문제\n",
    "import sys\n",
    "\n",
    "input = sys.stdin.readline\n",
    "\n",
    "# 입력\n",
    "n = int(input())\n",
    "\n",
    "# n개의 정수를 입력받아 리스트lst에 저장\n",
    "lst = [int(input()) for _ in range(n)]\n",
    "\n",
    "# lst를 오름차순으로 정렬하고, 각 원소를 개행문자와 함께 출력\n",
    "print(*sorted(lst), sep = '\\n')"
   ]
  },
  {
   "cell_type": "code",
   "execution_count": null,
   "id": "9c523d91-679d-45dd-9cd7-3de78c2ca4c6",
   "metadata": {},
   "outputs": [],
   "source": [
    "# 좌표 정렬하기 문제\n",
    "# 2차원 평면 위의 점 N개가 주어진다. 좌표를 x좌표가 증가하는 순으로, x좌표가 같으면 y좌표가 증가하는 순서로 정렬한 다음 출력하는 프로그램을 작성하시오.\n",
    "\n",
    "# 입력\n",
    "# 첫째 줄에 점의 개수 N (1 ≤ N ≤ 100,000)이 주어진다. 둘째 줄부터 N개의 줄에는 i번점의 위치 xi와 yi가 주어진다. (-100,000 ≤ xi, yi ≤ 100,000) 좌표는 항상 정수이고, 위치가 같은 두 점은 없다.\n",
    "\n",
    "# 출력\n",
    "# 첫째 줄부터 N개의 줄에 점을 정렬한 결과를 출력한다."
   ]
  },
  {
   "cell_type": "code",
   "execution_count": null,
   "id": "bc43d7ff-16d2-4dca-8f55-e69930f93e79",
   "metadata": {},
   "outputs": [],
   "source": [
    "# 좌표 정렬하기\n",
    "import sys\n",
    "n = int(input())\n",
    "lst = []\n",
    "for i in range(n):\n",
    "    a, b = map(int, sys.stdin.readline().split())\n",
    "    lst.append([a, b])\n",
    "lst.sort()\n",
    "for i in lst:\n",
    "    print(i[0], i[1])"
   ]
  },
  {
   "cell_type": "code",
   "execution_count": null,
   "id": "1e285700-b8d5-48f7-a670-d9dcfff32c68",
   "metadata": {},
   "outputs": [],
   "source": [
    "# 나이순 정렬 문제\n",
    "# 온라인 저지에 가입한 사람들의 나이와 이름이 가입한 순서대로 주어진다. 이때, 회원들을 나이가 증가하는 순으로, 나이가 같으면 먼저 가입한 사람이 앞에 오는 순서로 정렬하는 프로그램을 작성하시오.\n",
    "\n",
    "# 입력\n",
    "# 첫째 줄에 온라인 저지 회원의 수 N이 주어진다. (1 ≤ N ≤ 100,000)\n",
    "\n",
    "# 둘째 줄부터 N개의 줄에는 각 회원의 나이와 이름이 공백으로 구분되어 주어진다. 나이는 1보다 크거나 같으며, 200보다 작거나 같은 정수이고, 이름은 알파벳 대소문자로 이루어져 있고, 길이가 100보다 작거나 같은 문자열이다. 입력은 가입한 순서로 주어진다.\n",
    "\n",
    "# 출력\n",
    "# 첫째 줄부터 총 N개의 줄에 걸쳐 온라인 저지 회원을 나이 순, 나이가 같으면 가입한 순으로 한 줄에 한 명씩 나이와 이름을 공백으로 구분해 출력한다."
   ]
  },
  {
   "cell_type": "code",
   "execution_count": 9,
   "id": "db19585f-6193-4c46-ba37-df5b99637080",
   "metadata": {},
   "outputs": [
    {
     "name": "stdin",
     "output_type": "stream",
     "text": [
      " 3\n",
      " 21 Junkyu\n",
      " 21 Dohyun\n",
      " 20 Sunyoung\n"
     ]
    },
    {
     "name": "stdout",
     "output_type": "stream",
     "text": [
      "20 Sunyoung\n",
      "21 Junkyu\n",
      "21 Dohyun\n"
     ]
    }
   ],
   "source": [
    "n = int(input())\n",
    "member_lst = []\n",
    "\n",
    "for i in range(n):\n",
    "    age, name = map(str, input().split())\n",
    "    age = int(age)\n",
    "    member_lst.append((age, name))\n",
    "# (age, name)에서 age만 비교\n",
    "member_lst.sort(key = lambda x: x[0])\n",
    "\n",
    "for i in member_lst:\n",
    "    print(i[0], i[1])"
   ]
  }
 ],
 "metadata": {
  "kernelspec": {
   "display_name": "Python 3 (ipykernel)",
   "language": "python",
   "name": "python3"
  },
  "language_info": {
   "codemirror_mode": {
    "name": "ipython",
    "version": 3
   },
   "file_extension": ".py",
   "mimetype": "text/x-python",
   "name": "python",
   "nbconvert_exporter": "python",
   "pygments_lexer": "ipython3",
   "version": "3.8.19"
  }
 },
 "nbformat": 4,
 "nbformat_minor": 5
}
