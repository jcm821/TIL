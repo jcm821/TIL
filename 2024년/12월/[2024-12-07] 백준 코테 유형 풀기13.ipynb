{
 "cells": [
  {
   "cell_type": "code",
   "execution_count": null,
   "id": "4565f8cc-e740-493e-b513-8c3f71b11b49",
   "metadata": {},
   "outputs": [],
   "source": [
    "# 스타트와 링크 문제\n",
    "# 오늘은 스타트링크에 다니는 사람들이 모여서 축구를 해보려고 한다.\n",
    "# 축구는 평일 오후에 하고 의무 참석도 아니다. 축구를 하기 위해 모인 사람은 총 N명이고 신기하게도 N은 짝수이다. 이제 N/2명으로 이루어진 스타트 팀과 링크 팀으로 사람들을 나눠야 한다.\n",
    "# BOJ를 운영하는 회사 답게 사람에게 번호를 1부터 N까지로 배정했고, 아래와 같은 능력치를 조사했다. 능력치 Sij는 i번 사람과 j번 사람이 같은 팀에 속했을 때, 팀에 더해지는 능력치이다.\n",
    "# 팀의 능력치는 팀에 속한 모든 쌍의 능력치 Sij의 합이다. Sij는 Sji와 다를 수도 있으며, i번 사람과 j번 사람이 같은 팀에 속했을 때, 팀에 더해지는 능력치는 Sij와 Sji이다.\n",
    "\n",
    "# N=4이고, S가 아래와 같은 경우를 살펴보자.\n",
    "\n",
    "# i\\j\t1\t2\t3\t4\n",
    "# 1\t \t1\t2\t3\n",
    "# 2\t4\t \t5\t6\n",
    "# 3\t7\t1\t \t2\n",
    "# 4\t3\t4\t5\t \n",
    "# 예를 들어, 1, 2번이 스타트 팀, 3, 4번이 링크 팀에 속한 경우에 두 팀의 능력치는 아래와 같다.\n",
    "\n",
    "# 스타트 팀: S12 + S21 = 1 + 4 = 5\n",
    "# 링크 팀: S34 + S43 = 2 + 5 = 7\n",
    "# 1, 3번이 스타트 팀, 2, 4번이 링크 팀에 속하면, 두 팀의 능력치는 아래와 같다.\n",
    "\n",
    "# 스타트 팀: S13 + S31 = 2 + 7 = 9\n",
    "# 링크 팀: S24 + S42 = 6 + 4 = 10\n",
    "# 축구를 재미있게 하기 위해서 스타트 팀의 능력치와 링크 팀의 능력치의 차이를 최소로 하려고 한다.\n",
    "# 위의 예제와 같은 경우에는 1, 4번이 스타트 팀, 2, 3번 팀이 링크 팀에 속하면 스타트 팀의 능력치는 6, 링크 팀의 능력치는 6이 되어서 차이가 0이 되고 이 값이 최소이다.\n",
    "\n",
    "# 입력\n",
    "# 첫째 줄에 N(4 ≤ N ≤ 20, N은 짝수)이 주어진다. 둘째 줄부터 N개의 줄에 S가 주어진다. 각 줄은 N개의 수로 이루어져 있고, i번 줄의 j번째 수는 Sij 이다.\n",
    "# Sii는 항상 0이고, 나머지 Sij는 1보다 크거나 같고, 100보다 작거나 같은 정수이다.\n",
    "\n",
    "# 출력\n",
    "# 첫째 줄에 스타트 팀과 링크 팀의 능력치의 차이의 최솟값을 출력한다."
   ]
  },
  {
   "cell_type": "code",
   "execution_count": null,
   "id": "560823e0-a9ef-46f5-9337-267fd5a38f85",
   "metadata": {},
   "outputs": [],
   "source": [
    "# 접근\n",
    "# 백트래킹(dfs) 이용"
   ]
  },
  {
   "cell_type": "code",
   "execution_count": null,
   "id": "90508f75-0a03-47cd-820b-d17a2a4a0f30",
   "metadata": {},
   "outputs": [],
   "source": [
    "# 스타트와 링크 문제\n",
    "import sys\n",
    "input = sys.stdin.readline\n",
    "n = int(input())\n",
    "board = [list(map(int, input().split())) for _ in range(n)]\n",
    "visited = [False for _ in range(n)]\n",
    "INF = 2147000000\n",
    "res = INF\n",
    "\n",
    "# DFS\n",
    "def dfs(l, idx):\n",
    "    global res\n",
    "    if l == n // 2:\n",
    "        A = 0\n",
    "        B = 0\n",
    "        for i in range(n):\n",
    "            for j in range(n):\n",
    "                if visited[i] and visited[j]:\n",
    "                    A += board[i][j]\n",
    "                elif not visited[i] and not visited[j]:\n",
    "                    B += board[i][j]\n",
    "        res = min(res, abs(A - B))\n",
    "        return\n",
    "    \n",
    "    for i in range(idx, n):\n",
    "        if not visited[i]:\n",
    "            visited[i] = True\n",
    "            dfs(l + 1, i + 1)\n",
    "            visited[i] = False\n",
    "\n",
    "dfs(0, 0)\n",
    "print(res)"
   ]
  }
 ],
 "metadata": {
  "kernelspec": {
   "display_name": "Python 3 (ipykernel)",
   "language": "python",
   "name": "python3"
  },
  "language_info": {
   "codemirror_mode": {
    "name": "ipython",
    "version": 3
   },
   "file_extension": ".py",
   "mimetype": "text/x-python",
   "name": "python",
   "nbconvert_exporter": "python",
   "pygments_lexer": "ipython3",
   "version": "3.8.20"
  }
 },
 "nbformat": 4,
 "nbformat_minor": 5
}
