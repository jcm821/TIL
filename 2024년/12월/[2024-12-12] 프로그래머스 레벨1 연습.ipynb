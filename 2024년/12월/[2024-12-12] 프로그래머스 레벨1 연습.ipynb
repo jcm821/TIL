{
 "cells": [
  {
   "cell_type": "code",
   "execution_count": null,
   "id": "d9bedb34-4b58-4274-988e-acbae0a26e0d",
   "metadata": {},
   "outputs": [],
   "source": [
    "# 문제 설명(콜라 문제)\n",
    "# 오래전 유행했던 콜라 문제가 있습니다. 콜라 문제의 지문은 다음과 같습니다.\n",
    "\n",
    "# 정답은 아무에게도 말하지 마세요.\n",
    "\n",
    "# 콜라 빈 병 2개를 가져다주면 콜라 1병을 주는 마트가 있다. 빈 병 20개를 가져다주면 몇 병을 받을 수 있는가?\n",
    "\n",
    "# 단, 보유 중인 빈 병이 2개 미만이면, 콜라를 받을 수 없다.\n",
    "\n",
    "# 문제를 풀던 상빈이는 콜라 문제의 완벽한 해답을 찾았습니다. 상빈이가 푼 방법은 아래 그림과 같습니다. 우선 콜라 빈 병 20병을 가져가서 10병을 받습니다. 받은 10병을 모두 마신 뒤, 가져가서 5병을 받습니다.\n",
    "# 5병 중 4병을 모두 마신 뒤 가져가서 2병을 받고, 또 2병을 모두 마신 뒤 가져가서 1병을 받습니다.\n",
    "# 받은 1병과 5병을 받았을 때 남은 1병을 모두 마신 뒤 가져가면 1병을 또 받을 수 있습니다. 이 경우 상빈이는 총 10 + 5 + 2 + 1 + 1 = 19병의 콜라를 받을 수 있습니다.\n",
    "\n",
    "# 문제를 열심히 풀던 상빈이는 일반화된 콜라 문제를 생각했습니다. 이 문제는 빈 병 a개를 가져다주면 콜라 b병을 주는 마트가 있을 때, 빈 병 n개를 가져다주면 몇 병을 받을 수 있는지 계산하는 문제입니다.\n",
    "# 기존 콜라 문제와 마찬가지로, 보유 중인 빈 병이 a개 미만이면, 추가적으로 빈 병을 받을 순 없습니다. 상빈이는 열심히 고심했지만, 일반화된 콜라 문제의 답을 찾을 수 없었습니다. 상빈이를 도와, 일반화된 콜라 문제를 해결하는 프로그램을 만들어 주세요.\n",
    "\n",
    "# 콜라를 받기 위해 마트에 주어야 하는 병 수 a, 빈 병 a개를 가져다 주면 마트가 주는 콜라 병 수 b, 상빈이가 가지고 있는 빈 병의 개수 n이 매개변수로 주어집니다. 상빈이가 받을 수 있는 콜라의 병 수를 return 하도록 solution 함수를 작성해주세요.\n",
    "\n",
    "# 제한사항\n",
    "# 1 ≤ b < a ≤ n ≤ 1,000,000\n",
    "# 정답은 항상 int 범위를 넘지 않게 주어집니다."
   ]
  },
  {
   "cell_type": "code",
   "execution_count": null,
   "id": "bb657970-6730-455d-abc8-6bb7fde2ef46",
   "metadata": {
    "editable": true,
    "slideshow": {
     "slide_type": ""
    },
    "tags": []
   },
   "outputs": [],
   "source": [
    "# sol1\n",
    "def solution(a, b, n):\n",
    "    answer = 0\n",
    "    # 단, 보유중인 빈 병이 2개 미만이면, 콜라를 받을 수 없음\n",
    "    # 빈 병의 개수가 콜라를 받기 위해서 필요한 개수보다 크면 반복한다\n",
    "    while (n >= a):\n",
    "        remain_bottle = n % a\n",
    "        # 마트에서 받은 콜라의 수\n",
    "        n = (n // a) * b\n",
    "        # 받은 걸 answer에 더함\n",
    "        answer += n\n",
    "        # 남아있는 병을 더해줘서 다음에 마트에 갈 때 이용\n",
    "        n += remain_bottle\n",
    "    return answer"
   ]
  },
  {
   "cell_type": "code",
   "execution_count": null,
   "id": "ea7f56d6-584b-4b4e-a6e5-abb0702f7fb9",
   "metadata": {},
   "outputs": [],
   "source": [
    "# sol2\n",
    "def solution(a, b, n):\n",
    "    answer = 0\n",
    "    while n >= a:\n",
    "        answer += (n // a) * b\n",
    "        n = (n // a) * b + (n % a)\n",
    "    return answer"
   ]
  },
  {
   "cell_type": "code",
   "execution_count": null,
   "id": "4de8b419-b974-4a5d-b81b-6090c04288a1",
   "metadata": {},
   "outputs": [],
   "source": [
    "# sol3\n",
    "solution = lambda a, b, n: max(n - b, 0) // (a - b) * b"
   ]
  },
  {
   "cell_type": "code",
   "execution_count": null,
   "id": "6a569296-8fb1-49de-88d4-006d306b6373",
   "metadata": {
    "editable": true,
    "slideshow": {
     "slide_type": ""
    },
    "tags": []
   },
   "outputs": [],
   "source": [
    "# 문제 설명(옹알이(2))\n",
    "# 머쓱이는 태어난 지 11개월 된 조카를 돌보고 있습니다. 조카는 아직 \"aya\", \"ye\", \"woo\", \"ma\" 네 가지 발음과 네 가지 발음을 조합해서 만들 수 있는 발음밖에 하지 못하고 연속해서 같은 발음을 하는 것을 어려워합니다.\n",
    "# 문자열 배열 babbling이 매개변수로 주어질 때, 머쓱이의 조카가 발음할 수 있는 단어의 개수를 return하도록 solution 함수를 완성해주세요.\n",
    "\n",
    "# 제한사항\n",
    "# 1 ≤ babbling의 길이 ≤ 100\n",
    "# 1 ≤ babbling[i]의 길이 ≤ 30\n",
    "# 문자열은 알파벳 소문자로만 이루어져 있습니다."
   ]
  },
  {
   "cell_type": "code",
   "execution_count": null,
   "id": "e0335fed-5b53-4e1d-bd35-858af8b616aa",
   "metadata": {},
   "outputs": [],
   "source": [
    "def solution(babbling):\n",
    "    answer = 0\n",
    "    able = ['aya', 'ye', 'woo', 'ma']\n",
    "    for token in babbling:\n",
    "        for a in able:\n",
    "            if a * 2 not in token:\n",
    "                token = token.replace(a, ' ')\n",
    "        if token.isspace():\n",
    "            answer += 1\n",
    "    return answer"
   ]
  },
  {
   "cell_type": "code",
   "execution_count": null,
   "id": "07af52d1-d95a-4246-8643-8a277186008a",
   "metadata": {},
   "outputs": [],
   "source": [
    "# 문제 설명(햄버거 만들기)\n",
    "# 햄버거 가게에서 일을 하는 상수는 햄버거를 포장하는 일을 합니다. 함께 일을 하는 다른 직원들이 햄버거에 들어갈 재료를 조리해 주면 조리된 순서대로 상수의 앞에 아래서부터 위로 쌓이게 되고, 상수는 순서에 맞게 쌓여서 완성된 햄버거를 따로 옮겨 포장을 하게 됩니다.\n",
    "# 상수가 일하는 가게는 정해진 순서(아래서부터, 빵 – 야채 – 고기 - 빵)로 쌓인 햄버거만 포장을 합니다. 상수는 손이 굉장히 빠르기 때문에 상수가 포장하는 동안 속 재료가 추가적으로 들어오는 일은 없으며, 재료의 높이는 무시하여 재료가 높이 쌓여서 일이 힘들어지는 경우는 없습니다.\n",
    "\n",
    "# 예를 들어, 상수의 앞에 쌓이는 재료의 순서가 [야채, 빵, 빵, 야채, 고기, 빵, 야채, 고기, 빵]일 때, 상수는 여섯 번째 재료가 쌓였을 때, 세 번째 재료부터 여섯 번째 재료를 이용하여 햄버거를 포장하고, 아홉 번째 재료가 쌓였을 때, 두 번째 재료와 일곱 번째 재료부터 아홉 번째 재료를 이용하여 햄버거를 포장합니다.\n",
    "# 즉, 2개의 햄버거를 포장하게 됩니다.\n",
    "# 상수에게 전해지는 재료의 정보를 나타내는 정수 배열 ingredient가 주어졌을 때, 상수가 포장하는 햄버거의 개수를 return 하도록 solution 함수를 완성하시오.\n",
    "\n",
    "# 제한사항\n",
    "# 1 ≤ ingredient의 길이 ≤ 1,000,000\n",
    "# ingredient의 원소는 1, 2, 3 중 하나의 값이며, 순서대로 빵, 야채, 고기를 의미합니다."
   ]
  },
  {
   "cell_type": "code",
   "execution_count": null,
   "id": "0e29d582-3b35-4fcc-a5e7-1388e7e96695",
   "metadata": {
    "editable": true,
    "slideshow": {
     "slide_type": ""
    },
    "tags": []
   },
   "outputs": [],
   "source": [
    "def solution(ingredient):\n",
    "    answer = 0\n",
    "    \n",
    "    stack = []\n",
    "    for i in ingredient:\n",
    "        stack.append(i)\n",
    "        if stack[-4:] == [1, 2, 3, 1]:\n",
    "            answer += 1\n",
    "            for k in range(4):\n",
    "                stack.pop()\n",
    "    return answer"
   ]
  },
  {
   "cell_type": "code",
   "execution_count": null,
   "id": "9bec6ce9-30a4-42cd-bfdc-d64b179bfb65",
   "metadata": {
    "editable": true,
    "slideshow": {
     "slide_type": ""
    },
    "tags": []
   },
   "outputs": [],
   "source": [
    "# 문제 설명(푸드 파이트 대회)\n",
    "# 수웅이는 매달 주어진 음식을 빨리 먹는 푸드 파이트 대회를 개최합니다. 이 대회에서 선수들은 1대 1로 대결하며, 매 대결마다 음식의 종류와 양이 바뀝니다.\n",
    "# 대결은 준비된 음식들을 일렬로 배치한 뒤, 한 선수는 제일 왼쪽에 있는 음식부터 오른쪽으로, 다른 선수는 제일 오른쪽에 있는 음식부터 왼쪽으로 순서대로 먹는 방식으로 진행됩니다. 중앙에는 물을 배치하고, 물을 먼저 먹는 선수가 승리하게 됩니다.\n",
    "\n",
    "# 이때, 대회의 공정성을 위해 두 선수가 먹는 음식의 종류와 양이 같아야 하며, 음식을 먹는 순서도 같아야 합니다. 또한, 이번 대회부터는 칼로리가 낮은 음식을 먼저 먹을 수 있게 배치하여 선수들이 음식을 더 잘 먹을 수 있게 하려고 합니다.\n",
    "# 이번 대회를 위해 수웅이는 음식을 주문했는데, 대회의 조건을 고려하지 않고 음식을 주문하여 몇 개의 음식은 대회에 사용하지 못하게 되었습니다.\n",
    "\n",
    "# 예를 들어, 3가지의 음식이 준비되어 있으며, 칼로리가 적은 순서대로 1번 음식을 3개, 2번 음식을 4개, 3번 음식을 6개 준비했으며, 물을 편의상 0번 음식이라고 칭한다면, 두 선수는 1번 음식 1개, 2번 음식 2개, 3번 음식 3개씩을 먹게 되므로 음식의 배치는 \"1223330333221\"이 됩니다.\n",
    "# 따라서 1번 음식 1개는 대회에 사용하지 못합니다.\n",
    "\n",
    "# 수웅이가 준비한 음식의 양을 칼로리가 적은 순서대로 나타내는 정수 배열 food가 주어졌을 때, 대회를 위한 음식의 배치를 나타내는 문자열을 return 하는 solution 함수를 완성해주세요.\n",
    "\n",
    "# 제한사항\n",
    "# 2 ≤ food의 길이 ≤ 9\n",
    "# 1 ≤ food의 각 원소 ≤ 1,000\n",
    "# food에는 칼로리가 적은 순서대로 음식의 양이 담겨 있습니다.\n",
    "# food[i]는 i번 음식의 수입니다.\n",
    "# food[0]은 수웅이가 준비한 물의 양이며, 항상 1입니다.\n",
    "# 정답의 길이가 3 이상인 경우만 입력으로 주어집니다."
   ]
  },
  {
   "cell_type": "code",
   "execution_count": null,
   "id": "6e4baeb7-996a-4aaa-8291-efac253affdd",
   "metadata": {},
   "outputs": [],
   "source": [
    "# 접근\n",
    "# food에 주어진 값을 양쪽에 대칭으로 배치할 수 있을지 접근"
   ]
  },
  {
   "cell_type": "code",
   "execution_count": null,
   "id": "57bd69f2-ae5c-4789-9590-e43e6a56f1ec",
   "metadata": {},
   "outputs": [],
   "source": [
    "def solution(food):\n",
    "    answer = ''\n",
    "    for i in range(1, len(food)):\n",
    "        answer += str(i) * (food[i] // 2)\n",
    "        \n",
    "    return answer + '0' + answer[:: -1]"
   ]
  }
 ],
 "metadata": {
  "kernelspec": {
   "display_name": "Python 3 (ipykernel)",
   "language": "python",
   "name": "python3"
  },
  "language_info": {
   "codemirror_mode": {
    "name": "ipython",
    "version": 3
   },
   "file_extension": ".py",
   "mimetype": "text/x-python",
   "name": "python",
   "nbconvert_exporter": "python",
   "pygments_lexer": "ipython3",
   "version": "3.8.19"
  }
 },
 "nbformat": 4,
 "nbformat_minor": 5
}
