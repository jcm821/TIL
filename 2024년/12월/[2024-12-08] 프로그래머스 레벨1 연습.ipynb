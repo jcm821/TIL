{
 "cells": [
  {
   "cell_type": "code",
   "execution_count": null,
   "id": "117ff90f-a4c3-4dc1-8f3d-d3dce6ef619d",
   "metadata": {},
   "outputs": [],
   "source": [
    "# 문제 설명(약수의 개수와 덧셈)\n",
    "# 두 정수 left와 right가 매개변수로 주어집니다. left부터 right까지의 모든 수들 중에서, 약수의 개수가 짝수인 수는 더하고, 약수의 개수가 홀수인 수는 뺀 수를 return 하도록 solution 함수를 완성해주세요.\n",
    "\n",
    "# 제한사항\n",
    "# 1 ≤ left ≤ right ≤ 1,000"
   ]
  },
  {
   "cell_type": "code",
   "execution_count": null,
   "id": "ac1206e9-b04d-4f01-b97c-0851e76d3f9a",
   "metadata": {},
   "outputs": [],
   "source": [
    "def solution(left, right):\n",
    "    answer = 0\n",
    "    # left부터 right까지 1씩 증가하는 for문\n",
    "    for i in range(left, right + 1):\n",
    "        # 약수의 개수를 담기 위한 변수\n",
    "        now_count = 0\n",
    "        # 1부터 i까지 증가하며 약수를 찾아냄\n",
    "        for j in range(1, i + 1):\n",
    "            # 나누어 떨어지는 수는 약수\n",
    "            if i % j == 0:\n",
    "                now_count += 1\n",
    "                \n",
    "        # 이제 개수가 홀수인지 짝수인지 판별\n",
    "        if now_count % 2 == 0:\n",
    "            answer += i\n",
    "        else:\n",
    "            answer -= i\n",
    "\n",
    "    return answer"
   ]
  },
  {
   "cell_type": "code",
   "execution_count": null,
   "id": "709ff955-2868-4b3d-a8b6-f1630d256761",
   "metadata": {},
   "outputs": [],
   "source": [
    "# 문제 설명(숫자 문자열과 영단어)\n",
    "\n",
    "# 네오와 프로도가 숫자놀이를 하고 있습니다. 네오가 프로도에게 숫자를 건넬 때 일부 자릿수를 영단어로 바꾼 카드를 건네주면 프로도는 원래 숫자를 찾는 게임입니다.\n",
    "# 다음은 숫자의 일부 자릿수를 영단어로 바꾸는 예시입니다.\n",
    "\n",
    "# 1478 → \"one4seveneight\"\n",
    "# 234567 → \"23four5six7\"\n",
    "# 10203 → \"1zerotwozero3\"\n",
    "# 이렇게 숫자의 일부 자릿수가 영단어로 바뀌어졌거나, 혹은 바뀌지 않고 그대로인 문자열 s가 매개변수로 주어집니다. s가 의미하는 원래 숫자를 return 하도록 solution 함수를 완성해주세요.\n",
    "# 참고로 각 숫자에 대응되는 영단어는 다음 표와 같습니다.\n",
    "\n",
    "# 숫자 영단어\n",
    "# 0\tzero\n",
    "# 1\tone\n",
    "# 2\ttwo\n",
    "# 3\tthree\n",
    "# 4\tfour\n",
    "# 5\tfive\n",
    "# 6\tsix\n",
    "# 7\tseven\n",
    "# 8\teight\n",
    "# 9\tnine\n",
    "# 제한사항\n",
    "# 1 ≤ s의 길이 ≤ 50\n",
    "# s가 \"zero\" 또는 \"0\"으로 시작하는 경우는 주어지지 않습니다.\n",
    "# return 값이 1 이상 2,000,000,000 이하의 정수가 되는 올바른 입력만 s로 주어집니다."
   ]
  },
  {
   "cell_type": "code",
   "execution_count": null,
   "id": "eef2e5ac-1522-4492-8cc6-f949db49cf85",
   "metadata": {},
   "outputs": [],
   "source": [
    "# 접근\n",
    "# 영단어 사전 정의(dic = ['zero', 'one', ..., 'nine'])\n",
    "# 각 영단어의 index는 해당 단어의 정수 표현\n",
    "# 사전에서 영단어를 하나씩 꺼내 주어진 입력에 들어있는지 확인\n",
    "# 만약 있다면 해당 영단어의 index를 replace 함수를 이용해 치환, 최종적으로 변환된 문자열을 정수로 바꿔줌"
   ]
  },
  {
   "cell_type": "code",
   "execution_count": null,
   "id": "34f72f68-d47f-44a2-88e8-20f20328d406",
   "metadata": {},
   "outputs": [],
   "source": [
    "def solution(s):\n",
    "    dic = ['zero', 'one', 'two', 'three', 'four', 'five', 'six', 'seven', 'eight', 'nine']\n",
    "    for i, j in enumerate(dic):\n",
    "        s = s.replace(j, str(i))\n",
    "    return int(s)"
   ]
  }
 ],
 "metadata": {
  "kernelspec": {
   "display_name": "Python 3 (ipykernel)",
   "language": "python",
   "name": "python3"
  },
  "language_info": {
   "codemirror_mode": {
    "name": "ipython",
    "version": 3
   },
   "file_extension": ".py",
   "mimetype": "text/x-python",
   "name": "python",
   "nbconvert_exporter": "python",
   "pygments_lexer": "ipython3",
   "version": "3.8.20"
  }
 },
 "nbformat": 4,
 "nbformat_minor": 5
}
