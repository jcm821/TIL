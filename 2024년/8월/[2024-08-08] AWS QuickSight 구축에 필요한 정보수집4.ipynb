{
 "cells": [
  {
   "cell_type": "markdown",
   "id": "cb965652-a60f-4191-a9a9-16f6a47a048c",
   "metadata": {},
   "source": [
    "# AWS QuickSight 대시보드 만들기"
   ]
  },
  {
   "cell_type": "markdown",
   "id": "168a8d01-644a-4903-af70-bb38c0a21fa2",
   "metadata": {},
   "source": [
    "## 참고 사이트 및 유투브(계속 추가해 나갈것)"
   ]
  },
  {
   "cell_type": "markdown",
   "id": "9f88a3ca-dd28-4833-a09f-595f3d961816",
   "metadata": {},
   "source": [
    "### 참고 사이트\n",
    "* AWS 공식문서: https://docs.aws.amazon.com/\n",
    "* AWS S3구축, 마이그레이션, Glue, Athena, QuickSight: https://velog.io/@juhyeon1114/AWS-%EB%8D%B0%EC%9D%B4%ED%84%B0-%EB%B6%84%EC%84%9D-%ED%99%98%EA%B2%BD-%EA%B5%AC%EC%B6%95%ED%95%98%EA%B8%B0\n",
    "* AWS S3구축: https://velog.io/@jinseoit/AWS-S3-bucket\n",
    "* AWS S3구축 및 권한설정: https://velog.io/@kyu0/AWS-S3-%EB%8F%84%EC%9E%85-feat.-Javascript-v3-%EB%A7%88%EC%9D%B4%EA%B7%B8%EB%A0%88%EC%9D%B4%EC%85%98\n",
    "* AWS 데이터분석: https://choiblog.tistory.com/195\n",
    "* AWS Lambda 아키텍처: https://velog.io/@hkjs96/AWS-Lambda\n",
    "* AWS Glue: https://velog.io/@ginee_park/AWS-Glue%EB%9E%80\n",
    "* 뱅크샐러드 DMS구축: https://blog.banksalad.com/tech/dms/\n",
    "* QuickSight로 데이터 시각화: https://devocean.sk.com/blog/techBoardDetail.do?ID=166010&boardType=techB\n",
    "* Presigned URL을 이용하여 S3dp 파일 업로드: https://velog.io/@mimi0905/Presigned-URL%EC%9D%84-%EC%9D%B4%EC%9A%A9%ED%95%98%EC%97%AC-S3%EB%A1%9C-%ED%8C%8C%EC%9D%BC-%EC%97%85%EB%A1%9C%EB%93%9C\n",
    "### 유투브\n",
    "* https://www.youtube.com/watch?v=VDqToPfbuok&t=275s\n",
    "* https://www.youtube.com/watch?v=CQ6WNfk41nM&t=447s\n",
    "* https://www.youtube.com/watch?v=r55FmaUCChU\n",
    "* https://www.youtube.com/watch?v=7V28RjcQY5s&t=1926s\n",
    "* https://www.youtube.com/watch?v=9pEhI2kwq7Y\n",
    "* https://www.youtube.com/watch?v=f9LZWCSgojE\n",
    "* https://www.youtube.com/watch?v=MZGloAruLGQ&t=131s\n",
    "* https://www.youtube.com/watch?v=H7W_AI5heSo&t=150s\n",
    "* https://www.youtube.com/playlist?list=PLTgRMOcmRb3OTZ-cnP43ucMnXUyO7P9az"
   ]
  },
  {
   "cell_type": "markdown",
   "id": "a3824465-9e74-4256-a749-1e4b73cdc65a",
   "metadata": {},
   "source": [
    "## AWS QuickSight"
   ]
  },
  {
   "cell_type": "markdown",
   "id": "c5423543-9597-407e-956d-a30030e30f1f",
   "metadata": {},
   "source": [
    "* 공식문서: https://docs.aws.amazon.com/ko_kr/quicksight/latest/user/welcome.html"
   ]
  },
  {
   "cell_type": "markdown",
   "id": "b18ccb68-0a1c-4f06-b7e4-b34a311f446d",
   "metadata": {},
   "source": [
    "### 지리공간 시각화"
   ]
  },
  {
   "cell_type": "markdown",
   "id": "c517548f-6444-42ab-99df-0cb14c6e01d4",
   "metadata": {},
   "source": [
    "* 서울시 생활인구 데이터 컬럼을 확인해본 결과, 위도, 경도에 대한 요소는 없음\n",
    "* 지도 상 공간 시각화를 위해선 행정동코드와 위도, 경도 데이터를 해당 데이터와 매핑작업이 필요할 것으로 보임\n",
    "* Athena로 확인했을때 유사하게 보이는 것이 moving_grid_dong, moving_grid_sigungu 데이터 -> 만약 아니라면 통계청같은 기관의 공공데이터를 "
   ]
  },
  {
   "cell_type": "markdown",
   "id": "c6f02b9a-e19d-4a96-b6b7-71e74c5676bb",
   "metadata": {},
   "source": []
  },
  {
   "cell_type": "code",
   "execution_count": null,
   "id": "14927ef3-3903-427a-84e1-7650bfd6cc6d",
   "metadata": {},
   "outputs": [],
   "source": []
  },
  {
   "cell_type": "code",
   "execution_count": null,
   "id": "480047ca-4ff0-4394-8af9-c551ec8bf6a7",
   "metadata": {},
   "outputs": [],
   "source": []
  },
  {
   "cell_type": "code",
   "execution_count": null,
   "id": "f0cd3992-3304-4067-8655-ace75ea50bf7",
   "metadata": {},
   "outputs": [],
   "source": []
  },
  {
   "cell_type": "code",
   "execution_count": null,
   "id": "0dd8a47c-d378-4546-a290-f8c39afc9f5a",
   "metadata": {},
   "outputs": [],
   "source": []
  },
  {
   "cell_type": "code",
   "execution_count": null,
   "id": "7a2a26d0-2b21-4743-8351-dc2832a7b4e8",
   "metadata": {},
   "outputs": [],
   "source": []
  },
  {
   "cell_type": "code",
   "execution_count": null,
   "id": "09a19235-e494-43be-97d4-b5c5c545f19a",
   "metadata": {},
   "outputs": [],
   "source": []
  },
  {
   "cell_type": "code",
   "execution_count": null,
   "id": "2453a74f-84e7-4d35-8d5f-f01dd14c35b1",
   "metadata": {},
   "outputs": [],
   "source": []
  },
  {
   "cell_type": "code",
   "execution_count": null,
   "id": "563526ed-873e-4b3e-bdbe-2ce2804296bc",
   "metadata": {},
   "outputs": [],
   "source": []
  },
  {
   "cell_type": "code",
   "execution_count": null,
   "id": "46ed905e-660e-40bd-b53d-43429be0df36",
   "metadata": {},
   "outputs": [],
   "source": []
  },
  {
   "cell_type": "code",
   "execution_count": null,
   "id": "8b7001a6-7899-403b-9ead-adc0d0944959",
   "metadata": {},
   "outputs": [],
   "source": []
  },
  {
   "cell_type": "code",
   "execution_count": null,
   "id": "06bcf2b9-9de1-40d5-9624-096a06e55b81",
   "metadata": {},
   "outputs": [],
   "source": []
  },
  {
   "cell_type": "code",
   "execution_count": null,
   "id": "04aaee3a-cf21-4176-a718-84365ed8d033",
   "metadata": {},
   "outputs": [],
   "source": []
  },
  {
   "cell_type": "code",
   "execution_count": null,
   "id": "446f2efe-6e4f-4ee8-9134-c218ba0856da",
   "metadata": {},
   "outputs": [],
   "source": []
  },
  {
   "cell_type": "code",
   "execution_count": null,
   "id": "b843d0aa-7ce2-4d7b-a0d8-e1f40c4ba209",
   "metadata": {},
   "outputs": [],
   "source": []
  },
  {
   "cell_type": "code",
   "execution_count": null,
   "id": "79544d13-3f7f-40d5-b0b6-ae1625deda3e",
   "metadata": {},
   "outputs": [],
   "source": []
  }
 ],
 "metadata": {
  "kernelspec": {
   "display_name": "Python 3 (ipykernel)",
   "language": "python",
   "name": "python3"
  },
  "language_info": {
   "codemirror_mode": {
    "name": "ipython",
    "version": 3
   },
   "file_extension": ".py",
   "mimetype": "text/x-python",
   "name": "python",
   "nbconvert_exporter": "python",
   "pygments_lexer": "ipython3",
   "version": "3.8.19"
  }
 },
 "nbformat": 4,
 "nbformat_minor": 5
}
