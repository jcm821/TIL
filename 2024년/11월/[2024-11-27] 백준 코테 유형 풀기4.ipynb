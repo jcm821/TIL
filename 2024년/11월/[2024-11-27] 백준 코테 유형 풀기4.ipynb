{
 "cells": [
  {
   "cell_type": "code",
   "execution_count": null,
   "id": "90c9f6fb-edc0-4e85-acb3-1af0db477de2",
   "metadata": {},
   "outputs": [],
   "source": [
    "# 카드 2 문제\n",
    "# N장의 카드가 있다. 각각의 카드는 차례로 1부터 N까지의 번호가 붙어 있으며, 1번 카드가 제일 위에, N번 카드가 제일 아래인 상태로 순서대로 카드가 놓여 있다.\n",
    "\n",
    "# 이제 다음과 같은 동작을 카드가 한 장 남을 때까지 반복하게 된다. 우선, 제일 위에 있는 카드를 바닥에 버린다. 그 다음, 제일 위에 있는 카드를 제일 아래에 있는 카드 밑으로 옮긴다.\n",
    "\n",
    "# 예를 들어 N=4인 경우를 생각해 보자. 카드는 제일 위에서부터 1234 의 순서로 놓여있다. 1을 버리면 234가 남는다. 여기서 2를 제일 아래로 옮기면 342가 된다. \n",
    "# 3을 버리면 42가 되고, 4를 밑으로 옮기면 24가 된다. 마지막으로 2를 버리고 나면, 남는 카드는 4가 된다.\n",
    "\n",
    "# N이 주어졌을 때, 제일 마지막에 남게 되는 카드를 구하는 프로그램을 작성하시오.\n",
    "\n",
    "# 입력\n",
    "# 첫째 줄에 정수 N(1 ≤ N ≤ 500,000)이 주어진다.\n",
    "\n",
    "# 출력\n",
    "# 첫째 줄에 남게 되는 카드의 번호를 출력한다."
   ]
  },
  {
   "cell_type": "code",
   "execution_count": 3,
   "id": "031cfa27-431a-4856-bf3d-18c3b251b40a",
   "metadata": {},
   "outputs": [
    {
     "name": "stdin",
     "output_type": "stream",
     "text": [
      " 6\n"
     ]
    },
    {
     "name": "stdout",
     "output_type": "stream",
     "text": [
      "4\n"
     ]
    }
   ],
   "source": [
    "# sol1\n",
    "from collections import deque\n",
    "N = int(input())\n",
    "deque = deque([i for i in range(1, N + 1)])\n",
    "\n",
    "while len(deque) > 1:\n",
    "    deque.popleft()\n",
    "    move_num = deque.popleft()\n",
    "    deque.append(move_num)\n",
    "\n",
    "print(deque[0])"
   ]
  },
  {
   "cell_type": "code",
   "execution_count": 4,
   "id": "7e598930-1956-4d37-bd4c-a7dd042460a3",
   "metadata": {},
   "outputs": [
    {
     "name": "stdin",
     "output_type": "stream",
     "text": [
      " 6\n"
     ]
    },
    {
     "name": "stdout",
     "output_type": "stream",
     "text": [
      "4\n"
     ]
    }
   ],
   "source": [
    "# sol2\n",
    "import math\n",
    "def find_last_card(N):\n",
    "    M = 2 ** math.floor(math.log2(N))\n",
    "    last_card = 2 * (N - M)\n",
    "    return last_card if last_card != 0 else N\n",
    "\n",
    "N = int(input())\n",
    "print(find_last_card(N))"
   ]
  },
  {
   "cell_type": "code",
   "execution_count": null,
   "id": "feedaf07-94e6-4d8a-be03-f569b4226861",
   "metadata": {},
   "outputs": [],
   "source": [
    "# 주유소 문제\n",
    "# 어떤 나라에 N개의 도시가 있다. 이 도시들은 일직선 도로 위에 있다. 편의상 일직선을 수평 방향으로 두자. 제일 왼쪽의 도시에서 제일 오른쪽의 도시로 자동차를 이용하여 이동하려고 한다. \n",
    "# 인접한 두 도시 사이의 도로들은 서로 길이가 다를 수 있다. 도로 길이의 단위는 km를 사용한다.\n",
    "\n",
    "# 처음 출발할 때 자동차에는 기름이 없어서 주유소에서 기름을 넣고 출발하여야 한다. 기름통의 크기는 무제한이어서 얼마든지 많은 기름을 넣을 수 있다. \n",
    "# 도로를 이용하여 이동할 때 1km마다 1리터의 기름을 사용한다. 각 도시에는 단 하나의 주유소가 있으며, 도시 마다 주유소의 리터당 가격은 다를 수 있다. 가격의 단위는 원을 사용한다.\n",
    "\n",
    "# 예를 들어, 이 나라에 다음 그림처럼 4개의 도시가 있다고 하자. 원 안에 있는 숫자는 그 도시에 있는 주유소의 리터당 가격이다. 도로 위에 있는 숫자는 도로의 길이를 표시한 것이다. \n",
    "\n",
    "# 제일 왼쪽 도시에서 6리터의 기름을 넣고, 더 이상의 주유 없이 제일 오른쪽 도시까지 이동하면 총 비용은 30원이다. 만약 제일 왼쪽 도시에서 2리터의 기름을 넣고(2×5 = 10원) 다음 번 도시까지 이동한 후 3리터의 기름을 넣고(3×2 = 6원) 다음 도시에서 1리터의 기름을 넣어(1×4 = 4원) 제일 오른쪽 도시로 이동하면, 총 비용은 20원이다. \n",
    "# 또 다른 방법으로 제일 왼쪽 도시에서 2리터의 기름을 넣고(2×5 = 10원) 다음 번 도시까지 이동한 후 4리터의 기름을 넣고(4×2 = 8원) 제일 오른쪽 도시까지 이동하면, 총 비용은 18원이다.\n",
    "\n",
    "# 각 도시에 있는 주유소의 기름 가격과, 각 도시를 연결하는 도로의 길이를 입력으로 받아 제일 왼쪽 도시에서 제일 오른쪽 도시로 이동하는 최소의 비용을 계산하는 프로그램을 작성하시오.\n",
    "\n",
    "# 입력\n",
    "# 표준 입력으로 다음 정보가 주어진다. 첫 번째 줄에는 도시의 개수를 나타내는 정수 N(2 ≤ N ≤ 100,000)이 주어진다. 다음 줄에는 인접한 두 도시를 연결하는 도로의 길이가 제일 왼쪽 도로부터 N-1개의 자연수로 주어진다. 다음 줄에는 주유소의 리터당 가격이 제일 왼쪽 도시부터 순서대로 N개의 자연수로 주어진다. \n",
    "# 제일 왼쪽 도시부터 제일 오른쪽 도시까지의 거리는 1이상 1,000,000,000 이하의 자연수이다. 리터당 가격은 1 이상 1,000,000,000 이하의 자연수이다. \n",
    "\n",
    "# 출력\n",
    "# 표준 출력으로 제일 왼쪽 도시에서 제일 오른쪽 도시로 가는 최소 비용을 출력한다. "
   ]
  },
  {
   "cell_type": "code",
   "execution_count": 5,
   "id": "a115ce51-af20-4ca3-906e-84563a18fd22",
   "metadata": {},
   "outputs": [
    {
     "name": "stdin",
     "output_type": "stream",
     "text": [
      " 4\n",
      " 2 3 1\n",
      " 5 2 4 1\n"
     ]
    },
    {
     "name": "stdout",
     "output_type": "stream",
     "text": [
      "18\n"
     ]
    }
   ],
   "source": [
    "# 도시의 개수 \n",
    "n = int(input())\n",
    "# 도로의 길이\n",
    "km = list(map(int, input().split()))\n",
    "# 가격\n",
    "price = list(map(int, input().split()))\n",
    "\n",
    "minPrice = price[0]\n",
    "total = 0\n",
    "\n",
    "for i in range(n - 1):\n",
    "    if minPrice > price[i]:\n",
    "        minPrice = price[i]\n",
    "\n",
    "    total += (minPrice * km[i])\n",
    "\n",
    "print(total)"
   ]
  },
  {
   "cell_type": "code",
   "execution_count": null,
   "id": "acc10920-97dd-4005-b781-31263e81d4c5",
   "metadata": {},
   "outputs": [],
   "source": [
    "# 예산 문제\n",
    "# 국가의 역할 중 하나는 여러 지방의 예산요청을 심사하여 국가의 예산을 분배하는 것이다. 국가예산의 총액은 미리 정해져 있어서 모든 예산요청을 배정해 주기는 어려울 수도 있다. 그래서 정해진 총액 이하에서 가능한 한 최대의 총 예산을 다음과 같은 방법으로 배정한다.\n",
    "\n",
    "# 1. 모든 요청이 배정될 수 있는 경우에는 요청한 금액을 그대로 배정한다.\n",
    "# 2. 모든 요청이 배정될 수 없는 경우에는 특정한 정수 상한액을 계산하여 그 이상인 예산요청에는 모두 상한액을 배정한다. 상한액 이하의 예산요청에 대해서는 요청한 금액을 그대로 배정한다. \n",
    "# 예를 들어, 전체 국가예산이 485이고 4개 지방의 예산요청이 각각 120, 110, 140, 150이라고 하자. 이 경우, 상한액을 127로 잡으면, 위의 요청들에 대해서 각각 120, 110, 127, 127을 배정하고 그 합이 484로 가능한 최대가 된다. \n",
    "\n",
    "# 여러 지방의 예산요청과 국가예산의 총액이 주어졌을 때, 위의 조건을 모두 만족하도록 예산을 배정하는 프로그램을 작성하시오.\n",
    "\n",
    "# 입력\n",
    "# 첫째 줄에는 지방의 수를 의미하는 정수 N이 주어진다. N은 3 이상 10,000 이하이다. 다음 줄에는 각 지방의 예산요청을 표현하는 N개의 정수가 빈칸을 사이에 두고 주어진다. 이 값들은 모두 1 이상 100,000 이하이다. 그 다음 줄에는 총 예산을 나타내는 정수 M이 주어진다. \n",
    "# M은 N 이상 1,000,000,000 이하이다. \n",
    "\n",
    "# 출력\n",
    "# 첫째 줄에는 배정된 예산들 중 최댓값인 정수를 출력한다. "
   ]
  },
  {
   "cell_type": "code",
   "execution_count": 8,
   "id": "385b1388-cf49-4b9e-8056-f8a4b43c3415",
   "metadata": {},
   "outputs": [
    {
     "name": "stdin",
     "output_type": "stream",
     "text": [
      " 4\n",
      " 120 110 140 150\n",
      " 485\n"
     ]
    },
    {
     "name": "stdout",
     "output_type": "stream",
     "text": [
      "150\n"
     ]
    }
   ],
   "source": [
    "# sol1(반복문)\n",
    "N = int(input())\n",
    "lst = list(map(int, input().split()))\n",
    "M = int(input())\n",
    "# 출력해야 하는 최대 예산\n",
    "result = 0\n",
    "# 1을 시작, 최댓값을 끝으로 설정\n",
    "start, end, = 1, max(lst)\n",
    "while start <= end:\n",
    "    # 중앙 원소 고르기\n",
    "    mid = (start + end) // 2\n",
    "    total = 0\n",
    "    # 예산의 합\n",
    "    for l in lst:\n",
    "        if l > mid:\n",
    "            total += mid\n",
    "        else:\n",
    "            total += 1\n",
    "    # M 이하이면 중앙값+1 ~끝 값 다시 찾기\n",
    "    if total <= M:\n",
    "        result = mid\n",
    "        start = mid + 1\n",
    "    # M 초과면 시작 ~ 중앙값-1 값 다시 찾기\n",
    "    else:\n",
    "        end = mid - 1\n",
    "print(result)"
   ]
  },
  {
   "cell_type": "code",
   "execution_count": 15,
   "id": "d7f006ff-c25f-4fdb-bd04-cd868e61856d",
   "metadata": {},
   "outputs": [
    {
     "name": "stdin",
     "output_type": "stream",
     "text": [
      " 4\n",
      " 120 110 140 150\n",
      " 485\n"
     ]
    },
    {
     "name": "stdout",
     "output_type": "stream",
     "text": [
      "127\n"
     ]
    }
   ],
   "source": [
    "# sol2(재귀)\n",
    "def binary(lst, start, end, M):\n",
    "    global result\n",
    "    # 검색실패\n",
    "    if start > end:\n",
    "        return\n",
    "    else:\n",
    "        # 중앙 원소 고르기\n",
    "        mid = (start + end) // 2\n",
    "        total = 0\n",
    "        for l in lst:\n",
    "            if l > mid:\n",
    "                total += mid\n",
    "            else:\n",
    "                total += l\n",
    "        if total <= M:\n",
    "            result = mid\n",
    "            return binary(lst, mid + 1, end, M)\n",
    "        else:\n",
    "            return binary(lst, start, mid - 1, M)\n",
    "\n",
    "N = int(input())\n",
    "lst = list(map(int, input().split()))\n",
    "M = int(input())\n",
    "start, end = 1, max(lst)\n",
    "result = 0\n",
    "binary(lst, start, end, M)\n",
    "print(result)"
   ]
  },
  {
   "cell_type": "code",
   "execution_count": null,
   "id": "b6c3252f-3feb-4d08-b072-f91df7452c58",
   "metadata": {},
   "outputs": [],
   "source": [
    "# 최소 힙 문제\n",
    "# 널리 잘 알려진 자료구조 중 최소 힙이 있다. 최소 힙을 이용하여 다음과 같은 연산을 지원하는 프로그램을 작성하시오.\n",
    "\n",
    "# 배열에 자연수 x를 넣는다.\n",
    "# 배열에서 가장 작은 값을 출력하고, 그 값을 배열에서 제거한다.\n",
    "# 프로그램은 처음에 비어있는 배열에서 시작하게 된다.\n",
    "\n",
    "# 입력\n",
    "# 첫째 줄에 연산의 개수 N(1 ≤ N ≤ 100,000)이 주어진다. 다음 N개의 줄에는 연산에 대한 정보를 나타내는 정수 x가 주어진다. 만약 x가 자연수라면 배열에 x라는 값을 넣는(추가하는) 연산이고, x가 0이라면 배열에서 가장 작은 값을 출력하고 그 값을 배열에서 제거하는 경우이다. x는 231보다 작은 자연수 또는 0이고, 음의 정수는 입력으로 주어지지 않는다.\n",
    "\n",
    "# 출력\n",
    "# 입력에서 0이 주어진 횟수만큼 답을 출력한다. 만약 배열이 비어 있는 경우인데 가장 작은 값을 출력하라고 한 경우에는 0을 출력하면 된다."
   ]
  },
  {
   "cell_type": "code",
   "execution_count": 5,
   "id": "68016150-c281-40ad-b770-41252d5ab511",
   "metadata": {},
   "outputs": [],
   "source": [
    "# import sys\n",
    "# import heapq\n",
    "# input=sys.stdin.readline\n",
    "# n=int(input())\n",
    "# q=[]\n",
    "# for _ in range(n):\n",
    "#     x=int(input())\n",
    "#     if (x==0):\n",
    "#         if len(q)==0:\n",
    "#             print(0)\n",
    "#         else:\n",
    "#             print(heapq.heappop(q))\n",
    "#     else:\n",
    "#         heapq.heappush(q, x)"
   ]
  },
  {
   "cell_type": "code",
   "execution_count": null,
   "id": "a477c284-1d28-49dd-8e3a-9210790d9b68",
   "metadata": {},
   "outputs": [],
   "source": [
    "# 에디터 문제\n",
    "# 한 줄로 된 간단한 에디터를 구현하려고 한다. 이 편집기는 영어 소문자만을 기록할 수 있는 편집기로, 최대 600,000글자까지 입력할 수 있다.\n",
    "\n",
    "# 이 편집기에는 '커서'라는 것이 있는데, 커서는 문장의 맨 앞(첫 번째 문자의 왼쪽), 문장의 맨 뒤(마지막 문자의 오른쪽), 또는 문장 중간 임의의 곳(모든 연속된 두 문자 사이)에 위치할 수 있다. \n",
    "# 즉 길이가 L인 문자열이 현재 편집기에 입력되어 있으면, 커서가 위치할 수 있는 곳은 L+1가지 경우가 있다.\n",
    "\n",
    "# 이 편집기가 지원하는 명령어는 다음과 같다.\n",
    "\n",
    "# L: 커서를 왼쪽으로 한 칸 옮김 (커서가 문장의 맨 앞이면 무시됨)\n",
    "# D: 커서를 오른쪽으로 한 칸 옮김 (커서가 문장의 맨 뒤이면 무시됨)\n",
    "# B: 커서 왼쪽에 있는 문자를 삭제함 (커서가 문장의 맨 앞이면 무시됨) 삭제로 인해 커서는 한 칸 왼쪽으로 이동한 것처럼 나타나지만, 실제로 커서의 오른쪽에 있던 문자는 그대로임\n",
    "# P $: $라는 문자를 커서 왼쪽에 추가함\n",
    "# 초기에 편집기에 입력되어 있는 문자열이 주어지고, 그 이후 입력한 명령어가 차례로 주어졌을 때, 모든 명령어를 수행하고 난 후 편집기에 입력되어 있는 문자열을 구하는 프로그램을 작성하시오. 단, 명령어가 수행되기 전에 커서는 문장의 맨 뒤에 위치하고 있다고 한다.\n",
    "\n",
    "# 입력\n",
    "# 첫째 줄에는 초기에 편집기에 입력되어 있는 문자열이 주어진다. 이 문자열은 길이가 N이고, 영어 소문자로만 이루어져 있으며, 길이는 100,000을 넘지 않는다. 둘째 줄에는 입력할 명령어의 개수를 나타내는 정수 M(1 ≤ M ≤ 500,000)이 주어진다. \n",
    "# 셋째 줄부터 M개의 줄에 걸쳐 입력할 명령어가 순서대로 주어진다. 명령어는 위의 네 가지 중 하나의 형태로만 주어진다.\n",
    "\n",
    "# 출력\n",
    "# 첫째 줄에 모든 명령어를 수행하고 난 후 편집기에 입력되어 있는 문자열을 출력한다."
   ]
  },
  {
   "cell_type": "code",
   "execution_count": 1,
   "id": "3fec6d08-3588-48fc-8621-918d632e5350",
   "metadata": {},
   "outputs": [
    {
     "name": "stdin",
     "output_type": "stream",
     "text": [
      " abcd\n",
      " 3\n",
      " P x\n",
      " L\n",
      " P y\n"
     ]
    },
    {
     "name": "stdout",
     "output_type": "stream",
     "text": [
      "abcdyx\n"
     ]
    }
   ],
   "source": [
    "# string_list = list(input())\n",
    "# cursor = len(string_list)\n",
    "\n",
    "# for _ in range(int(input())):\n",
    "#     command = list(input().split())\n",
    "#     if command[0] == 'P':\n",
    "#         string_list.insert(cursor, command[1])\n",
    "#         cursor += 1\n",
    "\n",
    "#     elif command[0] == 'L':\n",
    "#         if cursor > 0:\n",
    "#             cursor -= 1\n",
    "\n",
    "#     elif command[0] == 'D':\n",
    "#         if curseor < len(string_list):\n",
    "#             cursor += 1\n",
    "\n",
    "#     else:\n",
    "#         if cursor > 0:\n",
    "#             string_list.remove(string_list[cursor - 1])\n",
    "\n",
    "# print(''.join(string_list))"
   ]
  },
  {
   "cell_type": "code",
   "execution_count": null,
   "id": "11c6cce6-4a07-44cf-b83f-009dc891d45c",
   "metadata": {},
   "outputs": [],
   "source": []
  }
 ],
 "metadata": {
  "kernelspec": {
   "display_name": "Python 3 (ipykernel)",
   "language": "python",
   "name": "python3"
  },
  "language_info": {
   "codemirror_mode": {
    "name": "ipython",
    "version": 3
   },
   "file_extension": ".py",
   "mimetype": "text/x-python",
   "name": "python",
   "nbconvert_exporter": "python",
   "pygments_lexer": "ipython3",
   "version": "3.8.19"
  }
 },
 "nbformat": 4,
 "nbformat_minor": 5
}
