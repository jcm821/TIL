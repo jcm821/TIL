{
 "cells": [
  {
   "cell_type": "code",
   "execution_count": null,
   "id": "0aa08343-5bd1-4d89-b64d-9a29a16aa532",
   "metadata": {},
   "outputs": [],
   "source": [
    "# 문제 설명(수박수박수)\n",
    "# 길이가 n이고, \"수박수박수박수....\"와 같은 패턴을 유지하는 문자열을 리턴하는 함수, solution을 완성하세요. 예를들어 n이 4이면 \"수박수박\"을 리턴하고 3이라면 \"수박수\"를 리턴하면 됩니다.\n",
    "\n",
    "# 제한 조건\n",
    "# n은 길이 10,000이하인 자연수입니다."
   ]
  },
  {
   "cell_type": "code",
   "execution_count": null,
   "id": "f9d246fb-81fd-4b46-bf37-d07d78adce96",
   "metadata": {},
   "outputs": [],
   "source": [
    "# sol1\n",
    "def solution(n):\n",
    "    return ('수박'*n) [:n]"
   ]
  },
  {
   "cell_type": "code",
   "execution_count": null,
   "id": "1d5eae7b-50c5-4d90-a754-fb7258f18c9c",
   "metadata": {},
   "outputs": [],
   "source": [
    "# sol2\n",
    "def solution(n):\n",
    "    answer = ''\n",
    "    for i in range(n):\n",
    "        if i % 2 == 0:\n",
    "            answer += '수'\n",
    "        else:\n",
    "            answer += '박'\n",
    "    return answer"
   ]
  },
  {
   "cell_type": "code",
   "execution_count": null,
   "id": "32255f89-d2c2-41f8-a41d-c3d59b5dc7cb",
   "metadata": {},
   "outputs": [],
   "source": [
    "# 문제 설명(문자열을 정수로 바꾸기)\n",
    "# 문자열 s를 숫자로 변환한 결과를 반환하는 함수, solution을 완성하세요.\n",
    "\n",
    "# 제한 조건\n",
    "# s의 길이는 1 이상 5이하입니다.\n",
    "# s의 맨앞에는 부호(+, -)가 올 수 있습니다.\n",
    "# s는 부호와 숫자로만 이루어져있습니다.\n",
    "# s는 \"0\"으로 시작하지 않습니다.\n",
    "# 입출력 예\n",
    "# 예를들어 str이 \"1234\"이면 1234를 반환하고, \"-1234\"이면 -1234를 반환하면 됩니다.\n",
    "# str은 부호(+,-)와 숫자로만 구성되어 있고, 잘못된 값이 입력되는 경우는 없습니다."
   ]
  },
  {
   "cell_type": "code",
   "execution_count": null,
   "id": "5629f681-2b0c-41a4-ac28-377224ced249",
   "metadata": {},
   "outputs": [],
   "source": [
    "def solution(s):\n",
    "    return int(s)"
   ]
  },
  {
   "cell_type": "code",
   "execution_count": null,
   "id": "a4c0a0f7-0382-49d1-97ea-f8307152afb4",
   "metadata": {},
   "outputs": [],
   "source": [
    "# 문제 설명(시저 암호)\n",
    "# 어떤 문장의 각 알파벳을 일정한 거리만큼 밀어서 다른 알파벳으로 바꾸는 암호화 방식을 시저 암호라고 합니다. 예를 들어 \"AB\"는 1만큼 밀면 \"BC\"가 되고, 3만큼 밀면 \"DE\"가 됩니다. \"z\"는 1만큼 밀면 \"a\"가 됩니다. 문자열 s와 거리 n을 입력받아 s를 n만큼 민 암호문을 만드는 함수, solution을 완성해 보세요.\n",
    "\n",
    "# 제한 조건\n",
    "# 공백은 아무리 밀어도 공백입니다.\n",
    "# s는 알파벳 소문자, 대문자, 공백으로만 이루어져 있습니다.\n",
    "# s의 길이는 8000이하입니다.\n",
    "# n은 1 이상, 25이하인 자연수입니다."
   ]
  },
  {
   "cell_type": "code",
   "execution_count": null,
   "id": "452a2fb9-a7fa-4798-b747-e03bbfd21c5b",
   "metadata": {},
   "outputs": [],
   "source": [
    "# 아스키 코드 사용(chr(), ord())\n",
    "# chr(i): 아스키(ASCII)코드 값을 받아 그 코드에 해당하는 문자 출력\n",
    "# ord(c): 문자의 아스키코드 값을 돌려주는 함수"
   ]
  },
  {
   "cell_type": "code",
   "execution_count": null,
   "id": "5e45155a-1b6c-46bf-8cf2-44892e28ae39",
   "metadata": {},
   "outputs": [],
   "source": [
    "def solution(s, n):\n",
    "    s = list(s)\n",
    "    for i in range(len(s)):\n",
    "        if s[i].isupper():\n",
    "            s[i] = chr((ord(s[i]) - ord('A') + n)%26 + ord('A'))\n",
    "        elif s[i].islower():\n",
    "            s[i] = chr((ord(s[i]) - ord('a') + n)%26 + ord('a'))\n",
    "    return \"\".join(s)"
   ]
  },
  {
   "cell_type": "code",
   "execution_count": null,
   "id": "8c6af148-7e6c-4043-9fd1-5fcdbbacd3f6",
   "metadata": {},
   "outputs": [],
   "source": [
    "# 문제 설명(약수의 합)\n",
    "# 정수 n을 입력받아 n의 약수를 모두 더한 값을 리턴하는 함수, solution을 완성해주세요.\n",
    "\n",
    "# 제한 사항\n",
    "# n은 0 이상 3000이하인 정수입니다."
   ]
  },
  {
   "cell_type": "code",
   "execution_count": null,
   "id": "24427384-c388-4a58-8143-bf0bd0161bec",
   "metadata": {},
   "outputs": [],
   "source": [
    "# sol1\n",
    "def solution(n):\n",
    "    return sum([i for i in range(1, n + 1) if n % i == 0])"
   ]
  },
  {
   "cell_type": "code",
   "execution_count": null,
   "id": "737fcdd7-7b53-4fbd-826b-266b711cfe67",
   "metadata": {},
   "outputs": [],
   "source": [
    "# sol2\n",
    "def solution(n):\n",
    "    answer = 0\n",
    "    sum = 0\n",
    "    for i in range(1, n + 1):\n",
    "        if n % i == 0:\n",
    "            sum += i\n",
    "            answer = sum\n",
    "    return answer"
   ]
  },
  {
   "cell_type": "code",
   "execution_count": null,
   "id": "01a3a8e7-8969-48e6-9ad2-3992a23ddec8",
   "metadata": {},
   "outputs": [],
   "source": [
    "# 문제 설명(이상한 문자 만들기)\n",
    "# 문자열 s는 한 개 이상의 단어로 구성되어 있습니다. 각 단어는 하나 이상의 공백문자로 구분되어 있습니다. 각 단어의 짝수번째 알파벳은 대문자로, 홀수번째 알파벳은 소문자로 바꾼 문자열을 리턴하는 함수, solution을 완성하세요.\n",
    "\n",
    "# 제한 사항\n",
    "# 문자열 전체의 짝/홀수 인덱스가 아니라, 단어(공백을 기준)별로 짝/홀수 인덱스를 판단해야합니다.\n",
    "# 첫 번째 글자는 0번째 인덱스로 보아 짝수번째 알파벳으로 처리해야 합니다."
   ]
  },
  {
   "cell_type": "code",
   "execution_count": null,
   "id": "14780a18-9b1f-4285-ba60-546cf3ac2a28",
   "metadata": {},
   "outputs": [],
   "source": [
    "def solution(s):\n",
    "    answer = ''\n",
    "    new_list = s.split(' ')\n",
    "    for i in new_list:\n",
    "        for j in range(len(i)):\n",
    "            if j % 2 == 0:\n",
    "                answer += i[j].upper()\n",
    "            else:\n",
    "                answer += i[j].lower()\n",
    "        answer += ' '\n",
    "    return answer[0: -1]"
   ]
  }
 ],
 "metadata": {
  "kernelspec": {
   "display_name": "Python 3 (ipykernel)",
   "language": "python",
   "name": "python3"
  },
  "language_info": {
   "codemirror_mode": {
    "name": "ipython",
    "version": 3
   },
   "file_extension": ".py",
   "mimetype": "text/x-python",
   "name": "python",
   "nbconvert_exporter": "python",
   "pygments_lexer": "ipython3",
   "version": "3.8.19"
  }
 },
 "nbformat": 4,
 "nbformat_minor": 5
}
