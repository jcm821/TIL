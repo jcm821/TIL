{
 "cells": [
  {
   "cell_type": "code",
   "execution_count": null,
   "id": "c2a337cc-28f3-4199-b383-5ced0b854c58",
   "metadata": {},
   "outputs": [],
   "source": [
    "# 돌 게임 문제\n",
    "# 돌 게임은 두 명이서 즐기는 재밌는 게임이다.\n",
    "\n",
    "# 탁자 위에 돌 N개가 있다. 상근이와 창영이는 턴을 번갈아가면서 돌을 가져가며, 돌은 1개 또는 3개 가져갈 수 있다. 마지막 돌을 가져가는 사람이 게임을 이기게 된다.\n",
    "\n",
    "# 두 사람이 완벽하게 게임을 했을 때, 이기는 사람을 구하는 프로그램을 작성하시오. 게임은 상근이가 먼저 시작한다.\n",
    "\n",
    "# 입력\n",
    "# 첫째 줄에 N이 주어진다. (1 ≤ N ≤ 1000)\n",
    "\n",
    "# 출력\n",
    "# 상근이가 게임을 이기면 SK를, 창영이가 게임을 이기면 CY을 출력한다."
   ]
  },
  {
   "cell_type": "code",
   "execution_count": null,
   "id": "cb929f83-e068-4062-bda7-9b3722aee513",
   "metadata": {},
   "outputs": [],
   "source": [
    "# n = 1 -> 상근이가 먼저 시작하여 1개 가지고 종료:sk\n",
    "# n = 2 -> 상근이가 1개, 창영이가 1개: cy\n",
    "# n = 3 -> 상근1, 창영1, 상근 1 or 상근3: sk\n",
    "# n = 4 -> 상근1, 창영3 or 상근1, 창영1,상근1, 창영1 or 상근3, 창영1 -> cy\n",
    "# 상근이가 1개를 먼저 가져간 경우 = 창영이가 먼저 게임을 시작하는 n = 3의 경우\n",
    "# 상근이가 3개를 먼저 가져간 경우 = 창영이가 먼저 게임을 시작하는 경우\n",
    "# n = 5 -> 상근1, 창영3, 상근1 or, 상근1, 창영1, 상근1, 창영1, 상근1 or 상근3, 창영1, 상근1 -> sk\n",
    "# 상근이가 1개 먼저 가져간 경우 = 창영이가 먼저 게임을 시작하는 n = 4의 경우\n",
    "# 상근이가 3개 먼저 가져간 경우 = 창영이가 먼저 게임을 시작하는 n = 2의 경우\n",
    "\n",
    "# n-1, n-3이 이미 존재한다면 그 반대의 결과가 도출\n",
    "# n-1이나 n-3의 결과를 반대로 저장"
   ]
  },
  {
   "cell_type": "code",
   "execution_count": 1,
   "id": "2b5a9360-d823-4ec8-9870-a8b57534d0e0",
   "metadata": {},
   "outputs": [
    {
     "name": "stdin",
     "output_type": "stream",
     "text": [
      " 5\n"
     ]
    },
    {
     "name": "stdout",
     "output_type": "stream",
     "text": [
      "SK\n"
     ]
    }
   ],
   "source": [
    "# sol1\n",
    "n = int(input())\n",
    "if n%2 == 0:\n",
    "    print('CY')\n",
    "else:\n",
    "    print('SK')"
   ]
  },
  {
   "cell_type": "code",
   "execution_count": null,
   "id": "287245ba-7207-4299-b58c-73ad9a3abd1f",
   "metadata": {},
   "outputs": [],
   "source": [
    "# sol2\n",
    "n = int(input())\n",
    "win = [-1]*10001\n",
    "\n",
    "win[1] = 1   # SK\n",
    "win[2] = 0   # CY\n",
    "win[3] = 1   # SK\n",
    "\n",
    "for i in range(4, n+1):\n",
    "    if win[i - 1] == 1 or win[i - 3] == 1:\n",
    "        win[i] = 0\n",
    "    else:\n",
    "        win[i] = 1\n",
    "\n",
    "if win[n] == 1:\n",
    "    print('SK')\n",
    "else:\n",
    "    print('CY')"
   ]
  },
  {
   "cell_type": "code",
   "execution_count": null,
   "id": "6a0931c5-bba3-43ae-908a-61b613afbe1d",
   "metadata": {},
   "outputs": [],
   "source": [
    "# 줄 세우기 문제\n",
    "# 초등학교 선생님 강산이는 아이들을 데리고 단체로 어떤 일을 할 때 불편함이 없도록 새로 반에 배정받은 아이들에게 키 순서대로 번호를 부여한다. 번호를 부여할 땐 키가 가장 작은 아이가 1번, 그 다음이 2번, ... , 가장 큰 아이가 20번이 된다. 강산이네 반 아이들은 항상 20명이며, 다행히도 같은 키를 가진 학생은 한 명도 없어서 시간이 조금 지나면 아이들은 자기들의 번호를 인지하고 한 줄로 세우면 제대로 된 위치에 잘 서게 된다.\n",
    "\n",
    "# 하지만 매년 첫 며칠간 강산이와 강산이네 반 아이들은 자기가 키 순으로 몇 번째인지 잘 알지 못해 아주 혼란스럽다. 자기 위치를 찾지 못하는 아이들을 위해 강산이는 특별한 방법을 생각해냈다.\n",
    "\n",
    "# 우선 아무나 한 명을 뽑아 줄의 맨 앞에 세운다. 그리고 그 다음부터는 학생이 한 명씩 줄의 맨 뒤에 서면서 다음 과정을 거친다.\n",
    "\n",
    "# 자기 앞에 자기보다 키가 큰 학생이 없다면 그냥 그 자리에 서고 차례가 끝난다.\n",
    "# 자기 앞에 자기보다 키가 큰 학생이 한 명 이상 있다면 그중 가장 앞에 있는 학생(A)의 바로 앞에 선다. 이때, A부터 그 뒤의 모든 학생들은 공간을 만들기 위해 한 발씩 뒤로 물러서게 된다.\n",
    "# 이 과정을 반복하면 결국 오름차순으로 줄을 설 수가 있다.\n",
    "\n",
    "# 아이들의 키가 주어지고, 어떤 순서로 아이들이 줄서기를 할 지 주어진다. 위의 방법을 마지막 학생까지 시행하여 줄서기가 끝났을 때 학생들이 총 몇 번 뒤로 물러서게 될까?\n",
    "\n",
    "# 입력\n",
    "# 첫 줄에 테스트 케이스의 수 P (1 ≤ P ≤ 1000) 가 주어진다.\n",
    "\n",
    "# 각 테스트 케이스는 테스트 케이스 번호 T와 20개의 양의 정수가 공백으로 구분되어 주어진다.\n",
    "\n",
    "# 20개의 정수는 줄서기를 할 아이들의 키를 줄서기 차례의 순서대로 밀리미터 단위로 나타낸 것이다.\n",
    "\n",
    "# 모든 테스트 케이스는 독립적이다.\n",
    "\n",
    "# 출력\n",
    "# 각각의 테스트 케이스에 대해 테스트 케이스의 번호와 학생들이 뒤로 물러난 걸음 수의 총합을 공백으로 구분하여 출력한다."
   ]
  },
  {
   "cell_type": "code",
   "execution_count": 3,
   "id": "5a9b1ac0-84f0-4b65-b54c-93882534e558",
   "metadata": {},
   "outputs": [
    {
     "name": "stdin",
     "output_type": "stream",
     "text": [
      " 4\n",
      " 1 900 901 902 903 904 905 906 907 908 909 910 911 912 913 914 915 916 917 918 919\n"
     ]
    },
    {
     "name": "stdout",
     "output_type": "stream",
     "text": [
      "1 0\n"
     ]
    },
    {
     "name": "stdin",
     "output_type": "stream",
     "text": [
      " 2 919 918 917 916 915 914 913 912 911 910 909 908 907 906 905 904 903 902 901 900\n"
     ]
    },
    {
     "name": "stdout",
     "output_type": "stream",
     "text": [
      "2 190\n"
     ]
    },
    {
     "name": "stdin",
     "output_type": "stream",
     "text": [
      " 3 901 902 903 904 905 906 907 908 909 910 911 912 913 914 915 916 917 918 919 900\n"
     ]
    },
    {
     "name": "stdout",
     "output_type": "stream",
     "text": [
      "3 19\n"
     ]
    },
    {
     "name": "stdin",
     "output_type": "stream",
     "text": [
      " 4 918 917 916 915 914 913 912 911 910 909 908 907 906 905 904 903 902 901 900 919\n"
     ]
    },
    {
     "name": "stdout",
     "output_type": "stream",
     "text": [
      "4 171\n"
     ]
    }
   ],
   "source": [
    "P = int(input())\n",
    "for _ in range(P):\n",
    "    arr = list(map(int, input().split()))\n",
    "    total = 0\n",
    "    for i in range(1, len(arr) - 1):\n",
    "        for j in range(i + 1, len(arr)):    # i 뒤에 애들과 전부 비교해서\n",
    "            if arr[i] > arr[j]:             # i가 더 크면\n",
    "                arr[i], arr[j] = arr[j], arr[i]    # 자리바꾸기\n",
    "                total += 1\n",
    "    print(arr[0], total)"
   ]
  },
  {
   "cell_type": "code",
   "execution_count": null,
   "id": "fbb4564b-207e-4efe-9099-88f8e0c77b6b",
   "metadata": {},
   "outputs": [],
   "source": [
    "# 올림픽 문제\n",
    "# 올림픽은 참가에 의의가 있기에 공식적으로는 국가간 순위를 정하지 않는다. 그러나, 많은 사람들이 자신의 국가가 얼마나 잘 하는지에 관심이 많기 때문에 비공식적으로는 국가간 순위를 정하고 있다. 두 나라가 각각 얻은 금, 은, 동메달 수가 주어지면, 보통 다음 규칙을 따라 어느 나라가 더 잘했는지 결정한다.\n",
    "\n",
    "# 금메달 수가 더 많은 나라\n",
    "# 금메달 수가 같으면, 은메달 수가 더 많은 나라\n",
    "# 금, 은메달 수가 모두 같으면, 동메달 수가 더 많은 나라\n",
    "# 각 국가는 1부터 N 사이의 정수로 표현된다. 한 국가의 등수는 (자신보다 더 잘한 나라 수) + 1로 정의된다. 만약 두 나라가 금, 은, 동메달 수가 모두 같다면 두 나라의 등수는 같다. 예를 들어, 1번 국가가 금메달 1개, 은메달 1개를 얻었고, 2번 국가와 3번 국가가 모두 은메달 1개를 얻었으며, 4번 국가는 메달을 얻지 못하였다면, 1번 국가가 1등, 2번 국가와 3번 국가가 공동 2등, 4번 국가가 4등이 된다. 이 경우 3등은 없다.\n",
    "\n",
    "# 각 국가의 금, 은, 동메달 정보를 입력받아서, 어느 국가가 몇 등을 했는지 알려주는 프로그램을 작성하시오.\n",
    "\n",
    "# 입력\n",
    "# 입력의 첫 줄은 국가의 수 N(1 ≤ N ≤ 1,000)과 등수를 알고 싶은 국가 K(1 ≤ K ≤ N)가 빈칸을 사이에 두고 주어진다. 각 국가는 1부터 N 사이의 정수로 표현된다. 이후 N개의 각 줄에는 차례대로 각 국가를 나타내는 정수와 이 국가가 얻은 금, 은, 동메달의 수가 빈칸을 사이에 두고 주어진다. 전체 메달 수의 총합은 1,000,000 이하이다.\n",
    "\n",
    "# 출력\n",
    "# 출력은 단 한 줄이며, 입력받은 국가 K의 등수를 하나의 정수로 출력한다. 등수는 반드시 문제에서 정의된 방식을 따라야 한다."
   ]
  },
  {
   "cell_type": "code",
   "execution_count": 5,
   "id": "8e93be7f-155d-4ac8-9326-da57e25b6f3d",
   "metadata": {},
   "outputs": [
    {
     "name": "stdin",
     "output_type": "stream",
     "text": [
      " 4 3\n",
      " 1 1 2 0\n",
      " 2 0 1 0\n",
      " 3 0 1 0\n",
      " 4 0 0 1\n"
     ]
    },
    {
     "name": "stdout",
     "output_type": "stream",
     "text": [
      "2\n"
     ]
    }
   ],
   "source": [
    "N, K = map(int, input().split())\n",
    "medals = [list(map(int, input().split())) for _ in range(N)]\n",
    "medals.sort(key = lambda x: (x[1], x[2], x[3]), reverse = True)\n",
    "idx = [medals[i][0] for i in range(N)].index(K)\n",
    "for i in range(N):\n",
    "    if medals[idx][1:] == medals[i][1:]:\n",
    "        print(i + 1)\n",
    "        break"
   ]
  }
 ],
 "metadata": {
  "kernelspec": {
   "display_name": "Python 3 (ipykernel)",
   "language": "python",
   "name": "python3"
  },
  "language_info": {
   "codemirror_mode": {
    "name": "ipython",
    "version": 3
   },
   "file_extension": ".py",
   "mimetype": "text/x-python",
   "name": "python",
   "nbconvert_exporter": "python",
   "pygments_lexer": "ipython3",
   "version": "3.8.19"
  }
 },
 "nbformat": 4,
 "nbformat_minor": 5
}
