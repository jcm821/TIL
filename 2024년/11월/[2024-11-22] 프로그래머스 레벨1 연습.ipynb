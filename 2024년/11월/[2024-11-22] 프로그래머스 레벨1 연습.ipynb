{
 "cells": [
  {
   "cell_type": "code",
   "execution_count": null,
   "id": "13f0055c-3c98-4638-9b6e-a581520e9655",
   "metadata": {},
   "outputs": [],
   "source": [
    "# 문제 설명(두 정수 사이의 합)\n",
    "# 두 정수 a, b가 주어졌을 때 a와 b 사이에 속한 모든 정수의 합을 리턴하는 함수, solution을 완성하세요.\n",
    "# 예를 들어 a = 3, b = 5인 경우, 3 + 4 + 5 = 12이므로 12를 리턴합니다.\n",
    "\n",
    "# 제한 조건\n",
    "# a와 b가 같은 경우는 둘 중 아무 수나 리턴하세요.\n",
    "# a와 b는 -10,000,000 이상 10,000,000 이하인 정수입니다.\n",
    "# a와 b의 대소관계는 정해져있지 않습니다."
   ]
  },
  {
   "cell_type": "code",
   "execution_count": null,
   "id": "a59e2982-724c-4ab6-87e7-d3827238f3d7",
   "metadata": {},
   "outputs": [],
   "source": [
    "def solution(a,b):\n",
    "    return sum(range(min(a, b), max(a, b) + 1))"
   ]
  },
  {
   "cell_type": "code",
   "execution_count": null,
   "id": "d131cea7-47b0-4325-8459-2fbb33a7c8d7",
   "metadata": {},
   "outputs": [],
   "source": [
    "# 문제 설명\n",
    "# 문자열로 구성된 리스트 strings와, 정수 n이 주어졌을 때, 각 문자열의 인덱스 n번째 글자를 기준으로 오름차순 정렬하려 합니다. 예를 들어 strings가 [\"sun\", \"bed\", \"car\"]이고 n이 1이면 각 단어의 인덱스 1의 문자 \"u\", \"e\", \"a\"로 strings를 정렬합니다.\n",
    "\n",
    "# 제한 조건\n",
    "# strings는 길이 1 이상, 50이하인 배열입니다.\n",
    "# strings의 원소는 소문자 알파벳으로 이루어져 있습니다.\n",
    "# strings의 원소는 길이 1 이상, 100이하인 문자열입니다.\n",
    "# 모든 strings의 원소의 길이는 n보다 큽니다.\n",
    "# 인덱스 1의 문자가 같은 문자열이 여럿 일 경우, 사전순으로 앞선 문자열이 앞쪽에 위치합니다."
   ]
  },
  {
   "cell_type": "code",
   "execution_count": null,
   "id": "585c0fa3-f90d-45d9-873a-2325ba7aeb6d",
   "metadata": {},
   "outputs": [],
   "source": [
    "def solution(strings, n):\n",
    "    strings.sort()\n",
    "    return sorted(strings, key = lambda x: x[n])"
   ]
  },
  {
   "cell_type": "code",
   "execution_count": null,
   "id": "4497b922-80d1-4331-8ec1-7f530587f1d8",
   "metadata": {},
   "outputs": [],
   "source": [
    "# 문제 설명(문자열 p와 y의 개수)\n",
    "# 대문자와 소문자가 섞여있는 문자열 s가 주어집니다. s에 'p'의 개수와 'y'의 개수를 비교해 같으면 True, 다르면 False를 return 하는 solution를 완성하세요. 'p', 'y' 모두 하나도 없는 경우는 항상 True를 리턴합니다. 단, 개수를 비교할 때 대문자와 소문자는 구별하지 않습니다.\n",
    "\n",
    "# 예를 들어 s가 \"pPoooyY\"면 true를 return하고 \"Pyy\"라면 false를 return합니다.\n",
    "\n",
    "# 제한사항\n",
    "# 문자열 s의 길이 : 50 이하의 자연수\n",
    "# 문자열 s는 알파벳으로만 이루어져 있습니다."
   ]
  },
  {
   "cell_type": "code",
   "execution_count": null,
   "id": "1b4130f5-3490-41d7-9efe-c4d6d6e87fd2",
   "metadata": {},
   "outputs": [],
   "source": [
    "def solution(s):\n",
    "    return s.lower().count('p') == s.lower().count('y')"
   ]
  },
  {
   "cell_type": "code",
   "execution_count": null,
   "id": "7497b8eb-5170-4c2d-98fc-f18ec6e3590a",
   "metadata": {},
   "outputs": [],
   "source": [
    "# 문제 설명(문자열 내림차순으로 배치하기)\n",
    "# 문자열 s에 나타나는 문자를 큰것부터 작은 순으로 정렬해 새로운 문자열을 리턴하는 함수, solution을 완성해주세요.\n",
    "# s는 영문 대소문자로만 구성되어 있으며, 대문자는 소문자보다 작은 것으로 간주합니다.\n",
    "\n",
    "# 제한 사항\n",
    "# str은 길이 1 이상인 문자열입니다."
   ]
  },
  {
   "cell_type": "code",
   "execution_count": null,
   "id": "cd5a5bf3-a64d-45c8-8df0-909bdac6745e",
   "metadata": {},
   "outputs": [],
   "source": [
    "# sol1\n",
    "# 빈 문자열 사용 이유 -> sorted(s)[::-1]로 정렬한 문자 리스트를 하나의 문자열로 결합하기 위해서\n",
    "def solution(s):\n",
    "    return ''.join(sorted(s)[::-1])"
   ]
  },
  {
   "cell_type": "code",
   "execution_count": null,
   "id": "ad175cd2-cf23-4b5e-81c4-8cd4784786b4",
   "metadata": {},
   "outputs": [],
   "source": [
    "# sol2\n",
    "# reverse = True옵션 사용\n",
    "def solution(s):\n",
    "    return ''.join(sorted(s, reverse = True))"
   ]
  },
  {
   "cell_type": "code",
   "execution_count": null,
   "id": "2936a3b3-7b63-40a2-89bd-df9af7d0afe6",
   "metadata": {},
   "outputs": [],
   "source": [
    "# 문제 설명(문자열 다루기 기본)\n",
    "# 문자열 s의 길이가 4 혹은 6이고, 숫자로만 구성돼있는지 확인해주는 함수, solution을 완성하세요. 예를 들어 s가 \"a234\"이면 False를 리턴하고 \"1234\"라면 True를 리턴하면 됩니다.\n",
    "\n",
    "# 제한 사항\n",
    "# s는 길이 1 이상, 길이 8 이하인 문자열입니다.\n",
    "# s는 영문 알파벳 대소문자 또는 0부터 9까지 숫자로 이루어져 있습니다."
   ]
  },
  {
   "cell_type": "code",
   "execution_count": null,
   "id": "522c2b01-879b-42e3-9269-4e84517da327",
   "metadata": {},
   "outputs": [],
   "source": [
    "# isdigit 활용\n",
    "# 문자열이 '숫자'로만 이루어져있는지 확인하는 함수\n",
    "# 문자가 '단 하나'라도 있다면 False를 반환하고,모든 문자가 '숫자'로만 이루어져있으면 True를 반환\n",
    "def solution(s):\n",
    "    if len(s) == 4 or len(s) == 6:\n",
    "        if s.isdigit() == True:\n",
    "            return True\n",
    "        else:\n",
    "            return False\n",
    "        \n",
    "    else:\n",
    "        return False"
   ]
  },
  {
   "cell_type": "code",
   "execution_count": null,
   "id": "209cebda-b81b-45bd-b731-873a3f3202a6",
   "metadata": {},
   "outputs": [],
   "source": [
    "# 문제 설명(서울에서 김서방 찾기)\n",
    "# String형 배열 seoul의 element중 \"Kim\"의 위치 x를 찾아, \"김서방은 x에 있다\"는 String을 반환하는 함수, solution을 완성하세요. seoul에 \"Kim\"은 오직 한 번만 나타나며 잘못된 값이 입력되는 경우는 없습니다.\n",
    "\n",
    "# 제한 사항\n",
    "# seoul은 길이 1 이상, 1000 이하인 배열입니다.\n",
    "# seoul의 원소는 길이 1 이상, 20 이하인 문자열입니다.\n",
    "# \"Kim\"은 반드시 seoul 안에 포함되어 있습니다."
   ]
  },
  {
   "cell_type": "code",
   "execution_count": null,
   "id": "6f18bdfc-6e22-4343-90d1-f8d7f5dd49ce",
   "metadata": {},
   "outputs": [],
   "source": [
    "def solution(seoul):\n",
    "    answer = ''\n",
    "    answer = \"김서방은 {}에 있다\".format(seoul.index('Kim'))\n",
    "    return answer"
   ]
  },
  {
   "cell_type": "code",
   "execution_count": null,
   "id": "da131c03-3d15-4b47-8aea-db55fe8c53c1",
   "metadata": {},
   "outputs": [],
   "source": [
    "# 문제 설명(소수 찾기)\n",
    "# 1부터 입력받은 숫자 n 사이에 있는 소수의 개수를 반환하는 함수, solution을 만들어 보세요.\n",
    "\n",
    "# 소수는 1과 자기 자신으로만 나누어지는 수를 의미합니다.\n",
    "# (1은 소수가 아닙니다.)\n",
    "\n",
    "# 제한 조건\n",
    "# n은 2이상 1000000이하의 자연수입니다."
   ]
  },
  {
   "cell_type": "code",
   "execution_count": null,
   "id": "5364fe8d-60a3-4b19-94f4-01a1899073e7",
   "metadata": {},
   "outputs": [],
   "source": [
    "# 에라토스테네스 체 - 소수판별 알고리즘\n",
    "def prime_numbers(n):\n",
    "    # 인덱싱을 수월하게 하기 위해 0부터 배열 선언\n",
    "    arr = [i for i in range(n + 1)]\n",
    "    end = int(n**(1/2))\n",
    "    for i in range(2, end + 1):\n",
    "        # 이미 소수가 아님이 판별된 수는 건너뜀\n",
    "        if arr[1] == 0:\n",
    "            continue\n",
    "        # 자기 자신을 제외한 i의 배수는 모두 0으로 처리함\n",
    "        for j in range(i*i, n + 1, i):\n",
    "            arr[j] = 0\n",
    "\n",
    "    return [i for i in arr[2:] if arr[i]]\n",
    "            "
   ]
  },
  {
   "cell_type": "code",
   "execution_count": null,
   "id": "10418fa6-239a-4a73-85f9-b4f9292b69bb",
   "metadata": {},
   "outputs": [],
   "source": [
    "def solution(n):\n",
    "    num = set(range(2, n + 1))\n",
    "    for i in range(2, n + 1):\n",
    "        if i in num:\n",
    "            num -= set(range(2*i, n + 1, i))\n",
    "    return len(num)"
   ]
  },
  {
   "cell_type": "code",
   "execution_count": null,
   "id": "4e454af0-48b5-4625-984e-8a15e23fb09a",
   "metadata": {},
   "outputs": [],
   "source": []
  },
  {
   "cell_type": "code",
   "execution_count": null,
   "id": "116e937b-25ca-43e6-86c2-42b2a38dc72b",
   "metadata": {},
   "outputs": [],
   "source": []
  },
  {
   "cell_type": "code",
   "execution_count": null,
   "id": "66720667-f4d1-4139-bcf5-25510ac32b31",
   "metadata": {},
   "outputs": [],
   "source": []
  }
 ],
 "metadata": {
  "kernelspec": {
   "display_name": "Python 3 (ipykernel)",
   "language": "python",
   "name": "python3"
  },
  "language_info": {
   "codemirror_mode": {
    "name": "ipython",
    "version": 3
   },
   "file_extension": ".py",
   "mimetype": "text/x-python",
   "name": "python",
   "nbconvert_exporter": "python",
   "pygments_lexer": "ipython3",
   "version": "3.8.19"
  }
 },
 "nbformat": 4,
 "nbformat_minor": 5
}
