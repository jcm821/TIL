{
 "cells": [
  {
   "cell_type": "code",
   "execution_count": null,
   "id": "833fe5f2-8a47-4a5d-832d-3155cda358c9",
   "metadata": {},
   "outputs": [],
   "source": [
    "# zoac 4 문제\n",
    "# 문제\n",
    "# 2021년 12월, 네 번째로 개최된 ZOAC의 오프닝을 맡은 성우는 오프라인 대회를 대비하여 강의실을 예약하려고 한다.\n",
    "\n",
    "# 강의실에서 대회를 치르려면 거리두기 수칙을 지켜야 한다!\n",
    "\n",
    "# 한 명씩 앉을 수 있는 테이블이 행마다 W개씩 H행에 걸쳐 있을 때, 모든 참가자는 세로로 N칸 또는 가로로 M칸 이상 비우고 앉아야 한다. 즉, 다른 모든 참가자와 세로줄 번호의 차가 N보다 크거나 가로줄 번호의 차가 M보다 큰 곳에만 앉을 수 있다.\n",
    "\n",
    "# 논문과 과제에 시달리는 성우를 위해 강의실이 거리두기 수칙을 지키면서 최대 몇 명을 수용할 수 있는지 구해보자.\n",
    "\n",
    "# 입력\n",
    "# H, W, N, M이 공백으로 구분되어 주어진다. (0 < H, W, N, M ≤ 50,000)\n",
    "\n",
    "# 출력\n",
    "# 강의실이 수용할 수 있는 최대 인원 수를 출력한다."
   ]
  },
  {
   "cell_type": "code",
   "execution_count": 1,
   "id": "41da6f5c-f93a-4432-b43f-e11b540c439c",
   "metadata": {},
   "outputs": [
    {
     "name": "stdin",
     "output_type": "stream",
     "text": [
      " 5 4 1 1\n"
     ]
    },
    {
     "name": "stdout",
     "output_type": "stream",
     "text": [
      "6\n"
     ]
    }
   ],
   "source": [
    "H, W, N, M = map(int, input().split())\n",
    "import math\n",
    "a = math.ceil(H/(N + 1))\n",
    "b = math.ceil(W/(M + 1))\n",
    "answer = a*b\n",
    "print(answer)"
   ]
  },
  {
   "cell_type": "code",
   "execution_count": null,
   "id": "3c1bdd2e-84cd-4a08-adf1-515fd40dc5d3",
   "metadata": {},
   "outputs": [],
   "source": [
    "# 삼각형과 세 변\n",
    "# 문제\n",
    "# 삼각형의 세 변의 길이가 주어질 때 변의 길이에 따라 다음과 같이 정의한다.\n",
    "\n",
    "# Equilateral :  세 변의 길이가 모두 같은 경우\n",
    "# Isosceles : 두 변의 길이만 같은 경우\n",
    "# Scalene : 세 변의 길이가 모두 다른 경우\n",
    "# 단 주어진 세 변의 길이가 삼각형의 조건을 만족하지 못하는 경우에는 \"Invalid\" 를 출력한다. 예를 들어 6, 3, 2가 이 경우에 해당한다. 가장 긴 변의 길이보다 나머지 두 변의 길이의 합이 길지 않으면 삼각형의 조건을 만족하지 못한다.\n",
    "\n",
    "# 세 변의 길이가 주어질 때 위 정의에 따른 결과를 출력하시오.\n",
    "\n",
    "# 입력\n",
    "# 각 줄에는 1,000을 넘지 않는 양의 정수 3개가 입력된다. 마지막 줄은 0 0 0이며 이 줄은 계산하지 않는다.\n",
    "\n",
    "# 출력\n",
    "# 각 입력에 맞는 결과 (Equilateral, Isosceles, Scalene, Invalid) 를 출력하시오."
   ]
  },
  {
   "cell_type": "code",
   "execution_count": 3,
   "id": "74efe719-e006-4e9b-81bc-4e23b074f7a5",
   "metadata": {},
   "outputs": [
    {
     "name": "stdin",
     "output_type": "stream",
     "text": [
      " 7 7 7\n"
     ]
    },
    {
     "name": "stdout",
     "output_type": "stream",
     "text": [
      "Equilateral\n"
     ]
    },
    {
     "name": "stdin",
     "output_type": "stream",
     "text": [
      " 6 5 4\n"
     ]
    },
    {
     "name": "stdout",
     "output_type": "stream",
     "text": [
      "Scalene\n"
     ]
    },
    {
     "name": "stdin",
     "output_type": "stream",
     "text": [
      " 3 2 5\n"
     ]
    },
    {
     "name": "stdout",
     "output_type": "stream",
     "text": [
      "Invalid\n"
     ]
    },
    {
     "name": "stdin",
     "output_type": "stream",
     "text": [
      " 6 2 6\n"
     ]
    },
    {
     "name": "stdout",
     "output_type": "stream",
     "text": [
      "Isosceles\n"
     ]
    },
    {
     "name": "stdin",
     "output_type": "stream",
     "text": [
      " 0 0 0\n"
     ]
    }
   ],
   "source": [
    "while True:\n",
    "    a, = 0:\n",
    "        break\n",
    "    if sum((a, b, c)) - max((a, b, c)) <= max((a, b, c)):\n",
    "        print('Invalid')\n",
    "    elif a == b == c:\n",
    "        print('Equilateral')\n",
    "    elif a == b or b == c or a == c:\n",
    "        print('Isosceles')\n",
    "    else:\n",
    "        print('Scalene')b, c = map(int, input().split())\n",
    "    if a == b == c ="
   ]
  },
  {
   "cell_type": "code",
   "execution_count": null,
   "id": "3677974c-1532-48bd-ba47-d514a8a663a5",
   "metadata": {},
   "outputs": [],
   "source": [
    "# 벌집 문제\n",
    "# 그림과 같이 육각형으로 이루어진 벌집이 있다. 그림에서 보는 바와 같이 중앙의 방 1부터 시작해서 이웃하는 방에 돌아가면서 1씩 증가하는 번호를 주소로 매길 수 있다. 숫자 N이 주어졌을 때, 벌집의 중앙 1에서 N번 방까지 최소 개수의 방을 지나서 갈 때 몇 개의 방을 지나가는지(시작과 끝을 포함하여)를 계산하는 프로그램을 작성하시오. 예를 들면, 13까지는 3개, 58까지는 5개를 지난다.\n",
    "\n",
    "# 입력\n",
    "# 첫째 줄에 N(1 ≤ N ≤ 1,000,000,000)이 주어진다.\n",
    "\n",
    "# 출력\n",
    "# 입력으로 주어진 방까지 최소 개수의 방을 지나서 갈 때 몇 개의 방을 지나는지 출력한다."
   ]
  },
  {
   "cell_type": "code",
   "execution_count": null,
   "id": "8820221c-44fd-46ce-994c-d9bde78ebf61",
   "metadata": {},
   "outputs": [],
   "source": [
    "# 규칙\n",
    "# 1(시작)\n",
    "# 칸은 6의 배수만큼 증가(육각형)\n",
    "# 1 + 6 * 1 -> 7\n",
    "# 7 + 6 * 2 -> 19\n",
    "# 19 + 6 * 3 -> 37\n",
    "# 37 + 6 * 4 -> 61\n",
    "# ...."
   ]
  },
  {
   "cell_type": "code",
   "execution_count": 4,
   "id": "a13a5429-9393-40ca-88aa-45ae94a827ec",
   "metadata": {},
   "outputs": [
    {
     "name": "stdin",
     "output_type": "stream",
     "text": [
      " 13\n"
     ]
    },
    {
     "name": "stdout",
     "output_type": "stream",
     "text": [
      "3\n"
     ]
    }
   ],
   "source": [
    "num = int(input())\n",
    "numbox = 1\n",
    "cnt = 1\n",
    "\n",
    "while num > numbox:\n",
    "    numbox += 6 * cnt\n",
    "    cnt += 1\n",
    "print(cnt)"
   ]
  },
  {
   "cell_type": "code",
   "execution_count": null,
   "id": "b38e4f95-7433-4194-82d0-a47c583b2226",
   "metadata": {},
   "outputs": [],
   "source": [
    "# 단어공부 문제\n",
    "# 문제\n",
    "# 알파벳 대소문자로 된 단어가 주어지면, 이 단어에서 가장 많이 사용된 알파벳이 무엇인지 알아내는 프로그램을 작성하시오. 단, 대문자와 소문자를 구분하지 않는다.\n",
    "\n",
    "# 입력\n",
    "# 첫째 줄에 알파벳 대소문자로 이루어진 단어가 주어진다. 주어지는 단어의 길이는 1,000,000을 넘지 않는다.\n",
    "\n",
    "# 출력\n",
    "# 첫째 줄에 이 단어에서 가장 많이 사용된 알파벳을 대문자로 출력한다. 단, 가장 많이 사용된 알파벳이 여러 개 존재하는 경우에는 ?를 출력한다."
   ]
  },
  {
   "cell_type": "code",
   "execution_count": 8,
   "id": "c9ba6709-d93f-4aeb-8a11-4d42c03cf0f4",
   "metadata": {},
   "outputs": [
    {
     "name": "stdin",
     "output_type": "stream",
     "text": [
      " zZa\n"
     ]
    },
    {
     "name": "stdout",
     "output_type": "stream",
     "text": [
      "Z\n"
     ]
    }
   ],
   "source": [
    "word = input().upper()\n",
    "word_list = list(set(word))\n",
    "\n",
    "cnt = []\n",
    "for i in word_list:\n",
    "    count = word.count\n",
    "    cnt.append(count(i))\n",
    "if cnt.count(max(cnt)) > 1:\n",
    "    print('?')\n",
    "else:\n",
    "    print(word_list[(cnt.index(max(cnt)))])"
   ]
  },
  {
   "cell_type": "code",
   "execution_count": null,
   "id": "f4748bff-4999-409b-9216-75979c4c99b7",
   "metadata": {},
   "outputs": [],
   "source": [
    "# 디지털 티비 문제\n",
    "# 2012년 12월 31일 새벽 4시부터 지상파 아날로그 TV방송이 종료되었다. TV를 자주보는 할머니를 위해서, 상근이네 집도 디지털 수신기를 구입했다.\n",
    "\n",
    "# 원래 상근이네 집에는 KBS1과 KBS2만 나왔다. 할머니는 두 방송만 시청한다. 이제 디지털 수신기와 함께 엄청난 양의 채널을 볼 수 있게 되었다.  하지만, 할머니는 오직 KBS1과 KBS2만 보려고 한다. 따라서, 상근이는 채널 리스트를 조절해 KBS1을 첫 번째로, KBS2를 두 번째로 만들려고 한다.\n",
    "\n",
    "# 티비를 켜면 디지털 수신기는 시청 가능한 채널 리스트를 보여준다. 모든 채널의 이름은 서로 다르고, 항상 KBS1과 KBS2를 포함하고 있다. 상근이는 이 리모콘을 이용해서 리스트의 순서를 바꾸는 법을 알아냈다. 리스트의 왼편에는 작은 화살표가 있고, 이 화살표는 현재 선택한 채널을 나타낸다. 가장 처음에 화살표는 제일 첫 번째 채널을 가리키고 있다.\n",
    "\n",
    "# 다음과 같은 네 가지 버튼을 이용해서 리스트의 순서를 바꿀 수 있다. 각각은 1번부터 4번까지 번호가 적혀져있는 버튼이다.\n",
    "\n",
    "# 1. 화살표를 한 칸 아래로 내린다. (채널 i에서 i+1로)\n",
    "# 2. 화살표를 위로 한 칸 올린다. (채널 i에서 i-1로)\n",
    "# 3. 현재 선택한 채널을 한 칸 아래로 내린다. (채널 i와 i+1의 위치를 바꾼다. 화살표는 i+1을 가리키고 있는다)\n",
    "# 4. 현재 선택한 채널을 위로 한 칸 올린다. (채널 i와 i-1의 위치를 바꾼다. 화살표는 i-1을 가리키고 있다)\n",
    "# 화살표가 채널 리스트의 범위를 넘어간다면, 그 명령은 무시한다.\n",
    "\n",
    "# 현재 채널 리스트의 순서가 주어졌을 때, KBS1를 첫 번째로, KBS2를 두 번째로 순서를 바꾸는 방법을 구하는 프로그램을 작성하시오. 방법의 길이는 500보다 작아야 한다. 두 채널을 제외한 나머지 채널의 순서는 상관없다.\n",
    "\n",
    "# 입력\n",
    "# 첫째 줄에 채널의 수 N이 주어진다. (2 ≤ N ≤ 100)\n",
    "\n",
    "# 다음 N개 줄에는 채널의 이름이 한 줄에 하나씩 주어진다. 채널의 이름은 최대 10글자이고, 알파벳 대문자와 숫자로만 이루어져 있다.\n",
    "\n",
    "# 이미 KBS1이 첫 번째에, KBS2가 두 번째에 있는 입력은 주어지지 않는다.\n",
    "\n",
    "# 출력\n",
    "# 상근이가 눌러야 하는 버튼을 순서대로 공백없이 출력한다."
   ]
  },
  {
   "cell_type": "code",
   "execution_count": null,
   "id": "3a9a4032-c683-42c4-b98d-3ba83729dfea",
   "metadata": {},
   "outputs": [],
   "source": [
    "# 규칙\n",
    "# - KBS1을 첫번째, KBS2를 두번째로 순서를 바꾸는 방법을 구하는 프로그램임 -> 1,2,3,4 모두 사용할 필요 X\n",
    "# - 1, 4번을 이용하여 해결\n",
    "# - 1번(화살표를 한 칸 아래로 내린다(채널 i에서 i+1로)을 이용해서 KBS1, KBS2가 있는 곳으로 화살표를 보낸다.\n",
    "# - 4번(현재 선택한 채널을 위로 한 칸 올린다(채널 i와 i-1의 위치를 바꾼다. 화살표는 i-1을 가리키고 있다.)을 이용해서 KBS1, KBS2를 위의 채널과 바꾸면서 첫번째, 두번째로 향하도록 한 칸씩 올린다.\n",
    "# - KBS1, KBS2를 순차적으로 진행한다.\n",
    "# - 단, KBS1이 KBS2보다 아래에 있을때 KBS1을 올리면서 KBS2를 내리므로 KBS의 위치가 한 칸 더 내려감을 주의"
   ]
  },
  {
   "cell_type": "code",
   "execution_count": 11,
   "id": "c2fbdb25-e31c-4bea-b47e-6bf6ab0d40dd",
   "metadata": {},
   "outputs": [
    {
     "name": "stdin",
     "output_type": "stream",
     "text": [
      " 3\n",
      " MBC\n",
      " KBS1\n",
      " KBS2\n"
     ]
    },
    {
     "name": "stdout",
     "output_type": "stream",
     "text": [
      "14114\n"
     ]
    }
   ],
   "source": [
    "# sol1\n",
    "n = int(input())\n",
    "channel = []\n",
    "for i in range(n):\n",
    "    name = input()\n",
    "    if name == 'KBS1':\n",
    "        idx1 = i\n",
    "    elif name == 'KBS2':\n",
    "        idx2 = i\n",
    "    channel.append(name)\n",
    "\n",
    "res = ''\n",
    "# KBS1이 있는 곳으로 1번을 이용해서 화살표를 내린다\n",
    "res += '1' * idx1\n",
    "# KBS1을 4번을 이용해셔 첫 번째로 보낸다(화살표는 첫 번째(index = 0)을 가리킨다.\n",
    "res += '4' * idx1\n",
    "# KBS1이 KBS2보다 아래에 있으면 KBS1을 첫 번째로 보내는 과정을 통해 KBS2의 위치가 하나 낮아짐(index는 1 증가)\n",
    "if idx1 > idx2:\n",
    "    idx2 += 1\n",
    "# KBS2가 있는 곳으로 1번을 이용해서 화살표를 내린다.\n",
    "res += '1' * idx2\n",
    "# KBS2를 4번을 이용해서 두 번째로 보낸다(첫 번째가 아닌 두 번째로 이동하면 되므로 idx2 - 1만큼 실행)\n",
    "res += '4' * (idx2 - 1)\n",
    "print(res)"
   ]
  },
  {
   "cell_type": "code",
   "execution_count": 10,
   "id": "4fe4a4fc-4851-4ce2-8ece-ace4bde8bdd1",
   "metadata": {},
   "outputs": [
    {
     "name": "stdin",
     "output_type": "stream",
     "text": [
      " 4\n",
      " ABC1\n",
      " ABC02\n",
      " KBS2\n",
      " KBS1\n"
     ]
    },
    {
     "name": "stdout",
     "output_type": "stream",
     "text": [
      "11144411144\n"
     ]
    }
   ],
   "source": [
    "# sol2\n",
    "n = int(input())\n",
    "channel = [input() for _ in range(n)]\n",
    "idx1, idx2 = channel.index('KBS1'), channel.index('KBS2')\n",
    "if  idx1 > idx2:\n",
    "    idx2 += 1\n",
    "\n",
    "print('1'*idx1 + '4'*idx1 + '1'*idx2 + '4'*(idx2-1))"
   ]
  },
  {
   "cell_type": "code",
   "execution_count": null,
   "id": "fe443de5-38a8-4a26-aa14-fc53ded63879",
   "metadata": {},
   "outputs": [],
   "source": []
  }
 ],
 "metadata": {
  "kernelspec": {
   "display_name": "Python 3 (ipykernel)",
   "language": "python",
   "name": "python3"
  },
  "language_info": {
   "codemirror_mode": {
    "name": "ipython",
    "version": 3
   },
   "file_extension": ".py",
   "mimetype": "text/x-python",
   "name": "python",
   "nbconvert_exporter": "python",
   "pygments_lexer": "ipython3",
   "version": "3.8.19"
  }
 },
 "nbformat": 4,
 "nbformat_minor": 5
}
