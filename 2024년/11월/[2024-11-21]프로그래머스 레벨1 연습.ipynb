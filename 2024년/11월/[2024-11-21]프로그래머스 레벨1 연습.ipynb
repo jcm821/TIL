{
 "cells": [
  {
   "cell_type": "code",
   "execution_count": 2,
   "id": "bb17229a-3513-4c06-86ff-82af0313bb91",
   "metadata": {},
   "outputs": [],
   "source": [
    "# 문제 설명(폰켓몬)\n",
    "# 당신은 폰켓몬을 잡기 위한 오랜 여행 끝에, 홍 박사님의 연구실에 도착했습니다. 홍 박사님은 당신에게 자신의 연구실에 있는 총 N 마리의 폰켓몬 중에서 N/2마리를 가져가도 좋다고 했습니다.\n",
    "# 홍 박사님 연구실의 폰켓몬은 종류에 따라 번호를 붙여 구분합니다. 따라서 같은 종류의 폰켓몬은 같은 번호를 가지고 있습니다. 예를 들어 연구실에 총 4마리의 폰켓몬이 있고, 각 폰켓몬의 종류 번호가 [3번, 1번, 2번, 3번]이라면 이는 3번 폰켓몬 두 마리, 1번 폰켓몬 한 마리, 2번 폰켓몬 한 마리가 있음을 나타냅니다. 이때, 4마리의 폰켓몬 중 2마리를 고르는 방법은 다음과 같이 6가지가 있습니다.\n",
    "\n",
    "# 첫 번째(3번), 두 번째(1번) 폰켓몬을 선택\n",
    "# 첫 번째(3번), 세 번째(2번) 폰켓몬을 선택\n",
    "# 첫 번째(3번), 네 번째(3번) 폰켓몬을 선택\n",
    "# 두 번째(1번), 세 번째(2번) 폰켓몬을 선택\n",
    "# 두 번째(1번), 네 번째(3번) 폰켓몬을 선택\n",
    "# 세 번째(2번), 네 번째(3번) 폰켓몬을 선택\n",
    "# 이때, 첫 번째(3번) 폰켓몬과 네 번째(3번) 폰켓몬을 선택하는 방법은 한 종류(3번 폰켓몬 두 마리)의 폰켓몬만 가질 수 있지만, 다른 방법들은 모두 두 종류의 폰켓몬을 가질 수 있습니다. 따라서 위 예시에서 가질 수 있는 폰켓몬 종류 수의 최댓값은 2가 됩니다.\n",
    "# 당신은 최대한 다양한 종류의 폰켓몬을 가지길 원하기 때문에, 최대한 많은 종류의 폰켓몬을 포함해서 N/2마리를 선택하려 합니다. N마리 폰켓몬의 종류 번호가 담긴 배열 nums가 매개변수로 주어질 때, N/2마리의 폰켓몬을 선택하는 방법 중, 가장 많은 종류의 폰켓몬을 선택하는 방법을 찾아, 그때의 폰켓몬 종류 번호의 개수를 return 하도록 solution 함수를 완성해주세요.\n",
    "\n",
    "# 제한사항\n",
    "# nums는 폰켓몬의 종류 번호가 담긴 1차원 배열입니다.\n",
    "# nums의 길이(N)는 1 이상 10,000 이하의 자연수이며, 항상 짝수로 주어집니다.\n",
    "# 폰켓몬의 종류 번호는 1 이상 200,000 이하의 자연수로 나타냅니다.\n",
    "# 가장 많은 종류의 폰켓몬을 선택하는 방법이 여러 가지인 경우에도, 선택할 수 있는 폰켓몬 종류 개수의 최댓값 하나만 return 하면 됩니다.\n",
    "# 입출력 예\n",
    "# nums\tresult\n",
    "# [3,1,2,3]\t2\n",
    "# [3,3,3,2,2,4]\t3\n",
    "# [3,3,3,2,2,2]\t2\n",
    "# 입출력 예 설명\n",
    "# 입출력 예 #1\n",
    "# 문제의 예시와 같습니다.\n",
    "\n",
    "# 입출력 예 #2\n",
    "# 6마리의 폰켓몬이 있으므로, 3마리의 폰켓몬을 골라야 합니다.\n",
    "# 가장 많은 종류의 폰켓몬을 고르기 위해서는 3번 폰켓몬 한 마리, 2번 폰켓몬 한 마리, 4번 폰켓몬 한 마리를 고르면 되며, 따라서 3을 return 합니다.\n",
    "\n",
    "# 입출력 예 #3\n",
    "# 6마리의 폰켓몬이 있으므로, 3마리의 폰켓몬을 골라야 합니다.\n",
    "# 가장 많은 종류의 폰켓몬을 고르기 위해서는 3번 폰켓몬 한 마리와 2번 폰켓몬 두 마리를 고르거나, 혹은 3번 폰켓몬 두 마리와 2번 폰켓몬 한 마리를 고르면 됩니다. 따라서 최대 고를 수 있는 폰켓몬 종류의 수는 2입니다."
   ]
  },
  {
   "cell_type": "code",
   "execution_count": null,
   "id": "d5548e78-dba1-4645-b3a6-30cc3ccf7bd4",
   "metadata": {},
   "outputs": [],
   "source": [
    "# sol1\n",
    "def solution(nums):\n",
    "    answer = len(set(nums))\n",
    "    if answer > len(nums)/2:\n",
    "        return len(nums)/2\n",
    "    return answer"
   ]
  },
  {
   "cell_type": "code",
   "execution_count": null,
   "id": "c0985ac9-2954-4e9c-ba92-9f95f22994fe",
   "metadata": {},
   "outputs": [],
   "source": [
    "# sol2\n",
    "def solution(nums):\n",
    "    return min(len(set(nums)), len(nums)/2)"
   ]
  },
  {
   "cell_type": "code",
   "execution_count": null,
   "id": "e2cbf1bb-75e3-4a31-966a-0e54f3398683",
   "metadata": {},
   "outputs": [],
   "source": [
    "# 문제 설명(2016년)\n",
    "# 2016년 1월 1일은 금요일입니다. 2016년 a월 b일은 무슨 요일일까요? 두 수 a ,b를 입력받아 2016년 a월 b일이 무슨 요일인지 리턴하는 함수, solution을 완성하세요. 요일의 이름은 일요일부터 토요일까지 각각 SUN,MON,TUE,WED,THU,FRI,SAT\n",
    "\n",
    "# 입니다. 예를 들어 a=5, b=24라면 5월 24일은 화요일이므로 문자열 \"TUE\"를 반환하세요.\n",
    "\n",
    "# 제한 조건\n",
    "# 2016년은 윤년입니다.(윤년 = 29일)\n",
    "# 2016년 a월 b일은 실제로 있는 날입니다. (13월 26일이나 2월 45일같은 날짜는 주어지지 않습니다)"
   ]
  },
  {
   "cell_type": "code",
   "execution_count": null,
   "id": "d9e60d02-a55c-424e-a1f4-83bbc8dcb2f2",
   "metadata": {},
   "outputs": [],
   "source": [
    "# sol1\n",
    "def solution(a, b):\n",
    "    answer = ''\n",
    "    day = ['THU', 'FRI', 'SAT', 'SUN', 'MON', 'TUE', 'WED']\n",
    "    month_len = [31, 29, 31, 30, 31, 30, 31, 31, 30, 31, 30, 31]\n",
    "    total_day = 0\n",
    "    for i in range(a - 1):\n",
    "        total_day += month_len[i]\n",
    "    total_day += b\n",
    "    result = total_day%7\n",
    "    answer = day[result]\n",
    "    return answer"
   ]
  },
  {
   "cell_type": "code",
   "execution_count": null,
   "id": "082ba141-759e-4fe7-a57e-001f00ce0695",
   "metadata": {},
   "outputs": [],
   "source": [
    "# sol2\n",
    "def solution(a, b):\n",
    "    day = ['THU', 'FRI', 'SAT', 'SUN', 'MON', 'TUE', 'WED']\n",
    "    month = [31, 29, 31, 30, 31, 30, 31, 31, 30, 31, 30, 31]\n",
    "    return day[(sum(month[: a - 1]) + b) % 7]"
   ]
  },
  {
   "cell_type": "code",
   "execution_count": null,
   "id": "e9afc31c-82f0-4eb9-a93f-7449c4af4459",
   "metadata": {},
   "outputs": [],
   "source": [
    "# 문제 설명(가운데 글자 가져오기) \n",
    "# 단어 s의 가운데 글자를 반환하는 함수, solution을 만들어 보세요. 단어의 길이가 짝수라면 가운데 두글자를 반환하면 됩니다.\n",
    "\n",
    "# 재한사항\n",
    "# s는 길이가 1 이상, 100이하인 스트링입니다."
   ]
  },
  {
   "cell_type": "code",
   "execution_count": null,
   "id": "51697d30-aed3-423e-8ebe-a25b8235de9d",
   "metadata": {},
   "outputs": [],
   "source": [
    "# sol1\n",
    "def solution(s):\n",
    "    center = int(len(s)/2)\n",
    "    if len(s) % 2 != 0:\n",
    "        return s[center]\n",
    "    else:\n",
    "        return s[center-1:center+1]"
   ]
  },
  {
   "cell_type": "code",
   "execution_count": null,
   "id": "3dd3356d-de88-44d8-b18f-3248bd98a956",
   "metadata": {},
   "outputs": [],
   "source": [
    "# sol2\n",
    "def solution(s):\n",
    "    return s[(len(s) - 1) // 2: len(s)//2 + 1]"
   ]
  },
  {
   "cell_type": "code",
   "execution_count": null,
   "id": "8e01d5c3-2cac-4de9-8586-fcd361e5dae2",
   "metadata": {},
   "outputs": [],
   "source": [
    "# 문제 설명(같은 숫자는 싫어)\n",
    "# 배열 arr가 주어집니다. 배열 arr의 각 원소는 숫자 0부터 9까지로 이루어져 있습니다. 이때, 배열 arr에서 연속적으로 나타나는 숫자는 하나만 남기고 전부 제거하려고 합니다. 단, 제거된 후 남은 수들을 반환할 때는 배열 arr의 원소들의 순서를 유지해야 합니다. 예를 들면,\n",
    "\n",
    "# arr = [1, 1, 3, 3, 0, 1, 1] 이면 [1, 3, 0, 1] 을 return 합니다.\n",
    "# arr = [4, 4, 4, 3, 3] 이면 [4, 3] 을 return 합니다.\n",
    "# 배열 arr에서 연속적으로 나타나는 숫자는 제거하고 남은 수들을 return 하는 solution 함수를 완성해 주세요.\n",
    "\n",
    "# 제한사항\n",
    "# 배열 arr의 크기 : 1,000,000 이하의 자연수\n",
    "# 배열 arr의 원소의 크기 : 0보다 크거나 같고 9보다 작거나 같은 정수"
   ]
  },
  {
   "cell_type": "code",
   "execution_count": null,
   "id": "3af3df23-6337-47da-ada1-ad0e16562534",
   "metadata": {},
   "outputs": [],
   "source": [
    "# sol1\n",
    "def solution(arr):\n",
    "    answer = [arr[0]]\n",
    "    for i in range(1, len(arr)):\n",
    "        if arr[i] != arr[i - 1]:\n",
    "            answer.append(arr[i])\n",
    "    return answer"
   ]
  },
  {
   "cell_type": "code",
   "execution_count": null,
   "id": "847ca587-163e-4579-bbdf-44c95be61f46",
   "metadata": {},
   "outputs": [],
   "source": [
    "# 문제 설명\n",
    "# array의 각 element 중 divisor로 나누어 떨어지는 값을 오름차순으로 정렬한 배열을 반환하는 함수, solution을 작성해주세요.\n",
    "# divisor로 나누어 떨어지는 element가 하나도 없다면 배열에 -1을 담아 반환하세요.\n",
    "\n",
    "# 제한사항\n",
    "# arr은 자연수를 담은 배열입니다.\n",
    "# 정수 i, j에 대해 i ≠ j 이면 arr[i] ≠ arr[j] 입니다.\n",
    "# divisor는 자연수입니다.\n",
    "# array는 길이 1 이상인 배열입니다."
   ]
  },
  {
   "cell_type": "code",
   "execution_count": null,
   "id": "38640558-ba35-44f9-9b14-2462c1aaef3e",
   "metadata": {},
   "outputs": [],
   "source": [
    "# sol1\n",
    "def solution(arr, divisor):\n",
    "    answer = []\n",
    "    for num in arr:\n",
    "        if num % divisor == 0:\n",
    "            answer.append(num)\n",
    "    if len(answer) == 0:\n",
    "        answer = [-1]\n",
    "        \n",
    "    return list(sorted(answer))"
   ]
  },
  {
   "cell_type": "code",
   "execution_count": null,
   "id": "338eb3f1-43ea-4a08-8473-7d59a900e701",
   "metadata": {},
   "outputs": [],
   "source": [
    "# sol2\n",
    "def solution(arr, divisor):\n",
    "    return sorted([num for num in arr if num%divisor == 0]) or [-1]"
   ]
  }
 ],
 "metadata": {
  "kernelspec": {
   "display_name": "Python 3 (ipykernel)",
   "language": "python",
   "name": "python3"
  },
  "language_info": {
   "codemirror_mode": {
    "name": "ipython",
    "version": 3
   },
   "file_extension": ".py",
   "mimetype": "text/x-python",
   "name": "python",
   "nbconvert_exporter": "python",
   "pygments_lexer": "ipython3",
   "version": "3.8.19"
  }
 },
 "nbformat": 4,
 "nbformat_minor": 5
}
