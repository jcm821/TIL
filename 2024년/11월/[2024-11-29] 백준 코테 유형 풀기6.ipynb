{
 "cells": [
  {
   "cell_type": "code",
   "execution_count": null,
   "id": "afeea95a-ac86-4839-bf44-3b423923bba1",
   "metadata": {},
   "outputs": [],
   "source": [
    "# 숨바꼭질 문제\n",
    "# 수빈이는 동생과 숨바꼭질을 하고 있다. 수빈이는 현재 점 N(0 ≤ N ≤ 100,000)에 있고, 동생은 점 K(0 ≤ K ≤ 100,000)에 있다. 수빈이는 걷거나 순간이동을 할 수 있다. 만약, 수빈이의 위치가 X일 때 걷는다면 1초 후에 X-1 또는 X+1로 이동하게 된다. 순간이동을 하는 경우에는 1초 후에 2*X의 위치로 이동하게 된다.\n",
    "\n",
    "# 수빈이와 동생의 위치가 주어졌을 때, 수빈이가 동생을 찾을 수 있는 가장 빠른 시간이 몇 초 후인지 구하는 프로그램을 작성하시오.\n",
    "\n",
    "# 입력\n",
    "# 첫 번째 줄에 수빈이가 있는 위치 N과 동생이 있는 위치 K가 주어진다. N과 K는 정수이다.\n",
    "\n",
    "# 출력\n",
    "# 수빈이가 동생을 찾는 가장 빠른 시간을 출력한다."
   ]
  },
  {
   "cell_type": "code",
   "execution_count": null,
   "id": "65910e80-72b7-4c4b-8f50-0706831d36b6",
   "metadata": {},
   "outputs": [],
   "source": [
    "# 접근\n",
    "# 가장 짧은, 가장 빠른과 같은 것을 물어보면 BFS를 생각"
   ]
  },
  {
   "cell_type": "code",
   "execution_count": null,
   "id": "6a9c97a8-fdb4-4461-b500-71436e960581",
   "metadata": {},
   "outputs": [],
   "source": [
    "# vscode 사용\n",
    "# 숨바꼭질 문제\n",
    "import sys\n",
    "from collections import deque\n",
    "input = sys.stdin.readline()\n",
    "\n",
    "n, k = map(int, input.split())\n",
    "MAX = 100000\n",
    "dist = [0] * (MAX + 1)\n",
    "def bfs():\n",
    "    q = deque()\n",
    "    q.append(n)\n",
    "    while q:\n",
    "        x = q.popleft()\n",
    "        if x == k:\n",
    "            print(dist[x])\n",
    "            break\n",
    "\n",
    "        for i in (x - 1, x + 1, x * 2):\n",
    "            if 0 <= i <= MAX and not dist[i]:\n",
    "                dist[i] = dist[x] + 1\n",
    "                q.append(i)\n",
    "\n",
    "bfs()"
   ]
  },
  {
   "cell_type": "code",
   "execution_count": null,
   "id": "6222a0a1-0c9a-483a-9401-5c7b0544cd9b",
   "metadata": {},
   "outputs": [],
   "source": [
    "# 1, 2, 3 더하기 4 문제\n",
    "# 정수 4를 1, 2, 3의 합으로 나타내는 방법은 총 4가지가 있다. 합을 나타낼 때는 수를 1개 이상 사용해야 한다. 합을 이루고 있는 수의 순서만 다른 것은 같은 것으로 친다.\n",
    "\n",
    "# 1+1+1+1\n",
    "# 2+1+1 (1+1+2, 1+2+1)\n",
    "# 2+2\n",
    "# 1+3 (3+1)\n",
    "# 정수 n이 주어졌을 때, n을 1, 2, 3의 합으로 나타내는 방법의 수를 구하는 프로그램을 작성하시오.\n",
    "\n",
    "# 입력\n",
    "# 첫째 줄에 테스트 케이스의 개수 T가 주어진다. 각 테스트 케이스는 한 줄로 이루어져 있고, 정수 n이 주어진다. n은 양수이며 10,000보다 작거나 같다.\n",
    "\n",
    "# 출력\n",
    "# 각 테스트 케이스마다, n을 1, 2, 3의 합으로 나타내는 방법의 수를 출력한다."
   ]
  },
  {
   "cell_type": "code",
   "execution_count": 6,
   "id": "652c7d0f-1dcc-49d5-a155-02a602397c94",
   "metadata": {},
   "outputs": [
    {
     "name": "stdin",
     "output_type": "stream",
     "text": [
      " 3\n",
      " 4\n"
     ]
    },
    {
     "name": "stdout",
     "output_type": "stream",
     "text": [
      "4\n"
     ]
    },
    {
     "name": "stdin",
     "output_type": "stream",
     "text": [
      " 7\n"
     ]
    },
    {
     "name": "stdout",
     "output_type": "stream",
     "text": [
      "8\n"
     ]
    },
    {
     "name": "stdin",
     "output_type": "stream",
     "text": [
      " 10\n"
     ]
    },
    {
     "name": "stdout",
     "output_type": "stream",
     "text": [
      "14\n"
     ]
    }
   ],
   "source": [
    "# 다이나믹 프로그래밍(DP)\n",
    "t = int(input())\n",
    "dp = [1] * 10001\n",
    "\n",
    "for i in range(2, 10001):\n",
    "    dp[i] += dp[i - 2]\n",
    "\n",
    "for i in range(3, 10001):\n",
    "    dp[i] +=dp[i - 3]\n",
    "\n",
    "for _ in range(t):\n",
    "    n = int(input())\n",
    "    print(dp[n])"
   ]
  },
  {
   "cell_type": "code",
   "execution_count": null,
   "id": "7294c1db-4b78-4cc8-8ec0-e570ea63086f",
   "metadata": {},
   "outputs": [],
   "source": [
    "# 컨베이어 벨트 위의 로봇 문제\n",
    "# 길이가 N인 컨베이어 벨트가 있고, 길이가 2N인 벨트가 이 컨베이어 벨트를 위아래로 감싸며 돌고 있다. 벨트는 길이 1 간격으로 2N개의 칸으로 나뉘어져 있으며, 각 칸에는 아래 그림과 같이 1부터 2N까지의 번호가 매겨져 있다.\n",
    "\n",
    "\n",
    "\n",
    "# 벨트가 한 칸 회전하면 1번부터 2N-1번까지의 칸은 다음 번호의 칸이 있는 위치로 이동하고, 2N번 칸은 1번 칸의 위치로 이동한다. i번 칸의 내구도는 Ai이다. \n",
    "# 위의 그림에서 1번 칸이 있는 위치를 \"올리는 위치\", N번 칸이 있는 위치를 \"내리는 위치\"라고 한다.\n",
    "\n",
    "# 컨베이어 벨트에 박스 모양 로봇을 하나씩 올리려고 한다. 로봇은 올리는 위치에만 올릴 수 있다. 언제든지 로봇이 내리는 위치에 도달하면 그 즉시 내린다. \n",
    "# 로봇은 컨베이어 벨트 위에서 스스로 이동할 수 있다. 로봇을 올리는 위치에 올리거나 로봇이 어떤 칸으로 이동하면 그 칸의 내구도는 즉시 1만큼 감소한다.\n",
    "\n",
    "# 컨베이어 벨트를 이용해 로봇들을 건너편으로 옮기려고 한다. 로봇을 옮기는 과정에서는 아래와 같은 일이 순서대로 일어난다.\n",
    "\n",
    "# 벨트가 각 칸 위에 있는 로봇과 함께 한 칸 회전한다.\n",
    "# 가장 먼저 벨트에 올라간 로봇부터, 벨트가 회전하는 방향으로 한 칸 이동할 수 있다면 이동한다. 만약 이동할 수 없다면 가만히 있는다.\n",
    "# 로봇이 이동하기 위해서는 이동하려는 칸에 로봇이 없으며, 그 칸의 내구도가 1 이상 남아 있어야 한다.\n",
    "# 올리는 위치에 있는 칸의 내구도가 0이 아니면 올리는 위치에 로봇을 올린다.\n",
    "# 내구도가 0인 칸의 개수가 K개 이상이라면 과정을 종료한다. 그렇지 않다면 1번으로 돌아간다.\n",
    "# 종료되었을 때 몇 번째 단계가 진행 중이었는지 구해보자. 가장 처음 수행되는 단계는 1번째 단계이다.\n",
    "\n",
    "# 입력\n",
    "# 첫째 줄에 N, K가 주어진다. 둘째 줄에는 A1, A2, ..., A2N이 주어진다.\n",
    "\n",
    "# 출력\n",
    "# 몇 번째 단계가 진행 중일때 종료되었는지 출력한다."
   ]
  },
  {
   "cell_type": "code",
   "execution_count": null,
   "id": "67826f04-f121-4aea-b93a-3414dcddc359",
   "metadata": {},
   "outputs": [],
   "source": [
    "# 접근\n",
    "# 주의사항: '언제든지 로봇이 내리는 위치에 도달하면 그 즉시 내린다'라는 조건에 유의\n",
    "# 로봇이 내리는 위치에 도달하는 방법\n",
    "# 1. 벨트가 회전할 때, 2. 로봇이 이동할 때"
   ]
  },
  {
   "cell_type": "code",
   "execution_count": null,
   "id": "086e0afa-bf76-4e5c-b971-7916a1b656a4",
   "metadata": {},
   "outputs": [],
   "source": []
  },
  {
   "cell_type": "code",
   "execution_count": null,
   "id": "ebae34e4-52e6-4285-b7f3-3551fe794681",
   "metadata": {},
   "outputs": [],
   "source": []
  }
 ],
 "metadata": {
  "kernelspec": {
   "display_name": "Python 3 (ipykernel)",
   "language": "python",
   "name": "python3"
  },
  "language_info": {
   "codemirror_mode": {
    "name": "ipython",
    "version": 3
   },
   "file_extension": ".py",
   "mimetype": "text/x-python",
   "name": "python",
   "nbconvert_exporter": "python",
   "pygments_lexer": "ipython3",
   "version": "3.8.19"
  }
 },
 "nbformat": 4,
 "nbformat_minor": 5
}
