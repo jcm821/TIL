{
 "cells": [
  {
   "cell_type": "code",
   "execution_count": null,
   "id": "347f3e92-1d1a-457c-b8a9-2f66b1e66e08",
   "metadata": {},
   "outputs": [],
   "source": [
    "# 문제 설명(평균 구하기)\n",
    "# 정수를 담고 있는 배열 arr의 평균값을 return하는 함수, solution을 완성해보세요.\n",
    "\n",
    "# 제한사항\n",
    "# arr은 길이 1 이상, 100 이하인 배열입니다.\n",
    "# arr의 원소는 -10,000 이상 10,000 이하인 정수입니다."
   ]
  },
  {
   "cell_type": "code",
   "execution_count": null,
   "id": "289d1002-19c4-4641-b453-3595b1529f44",
   "metadata": {},
   "outputs": [],
   "source": [
    "def solution(arr):\n",
    "    return sum(arr) / len(arr)"
   ]
  },
  {
   "cell_type": "code",
   "execution_count": null,
   "id": "6040d477-a65d-49c6-8648-e3f9c1c81304",
   "metadata": {},
   "outputs": [],
   "source": [
    "# 문제 설명(하샤드 수)\n",
    "# 양의 정수 x가 하샤드 수이려면 x의 자릿수의 합으로 x가 나누어져야 합니다. 예를 들어 18의 자릿수 합은 1+8=9이고, 18은 9로 나누어 떨어지므로 18은 하샤드 수입니다. 자연수 x를 입력받아 x가 하샤드 수인지 아닌지 검사하는 함수, solution을 완성해주세요.\n",
    "\n",
    "# 제한 조건\n",
    "# x는 1 이상, 10000 이하인 정수입니다.\n",
    "# 입출력 예\n",
    "# x\treturn\n",
    "# 10\ttrue\n",
    "# 12\ttrue\n",
    "# 11\tfalse\n",
    "# 13\tfalse\n",
    "# 입출력 예 설명\n",
    "# 입출력 예 #1\n",
    "# 10의 모든 자릿수의 합은 1입니다. 10은 1로 나누어 떨어지므로 10은 하샤드 수입니다.\n",
    "\n",
    "# 입출력 예 #2\n",
    "# 12의 모든 자릿수의 합은 3입니다. 12는 3으로 나누어 떨어지므로 12는 하샤드 수입니다.\n",
    "\n",
    "# 입출력 예 #3\n",
    "# 11의 모든 자릿수의 합은 2입니다. 11은 2로 나누어 떨어지지 않으므로 11는 하샤드 수가 아닙니다.\n",
    "\n",
    "# 입출력 예 #4\n",
    "# 13의 모든 자릿수의 합은 4입니다. 13은 4로 나누어 떨어지지 않으므로 13은 하샤드 수가 아닙니다."
   ]
  },
  {
   "cell_type": "code",
   "execution_count": null,
   "id": "6064f7e0-f3cc-46bc-8609-17eff3c67379",
   "metadata": {},
   "outputs": [],
   "source": [
    "def solution(x):\n",
    "    return x % sum([int(i) for i in str(x)]) == 0"
   ]
  },
  {
   "cell_type": "code",
   "execution_count": null,
   "id": "2b557393-6f23-4688-8c3c-92b1f781b9f5",
   "metadata": {},
   "outputs": [],
   "source": [
    "# 문제 설명(핸드폰 번호 가리기)\n",
    "# 프로그래머스 모바일은 개인정보 보호를 위해 고지서를 보낼 때 고객들의 전화번호의 일부를 가립니다.\n",
    "# 전화번호가 문자열 phone_number로 주어졌을 때, 전화번호의 뒷 4자리를 제외한 나머지 숫자를 전부 *으로 가린 문자열을 리턴하는 함수, solution을 완성해주세요.\n",
    "\n",
    "# 제한 조건\n",
    "# phone_number는 길이 4 이상, 20이하인 문자열입니다."
   ]
  },
  {
   "cell_type": "code",
   "execution_count": null,
   "id": "a6f7149d-6b34-4706-b5ad-506dfd6b54d3",
   "metadata": {},
   "outputs": [],
   "source": [
    "def solution(phone_number):\n",
    "    return '*' * (len(phone_number) - 4) + phone_number[-4:]"
   ]
  },
  {
   "cell_type": "code",
   "execution_count": null,
   "id": "f386039f-859b-4621-a32c-1dade4a06034",
   "metadata": {},
   "outputs": [],
   "source": [
    "# 문제 설명(행렬의 덧셈)\n",
    "# 행렬의 덧셈은 행과 열의 크기가 같은 두 행렬의 같은 행, 같은 열의 값을 서로 더한 결과가 됩니다. 2개의 행렬 arr1과 arr2를 입력받아, 행렬 덧셈의 결과를 반환하는 함수, solution을 완성해주세요.\n",
    "\n",
    "# 제한 조건\n",
    "# 행렬 arr1, arr2의 행과 열의 길이는 500을 넘지 않습니다."
   ]
  },
  {
   "cell_type": "code",
   "execution_count": null,
   "id": "6c2222c7-428b-49d4-9131-d724d1ec05c3",
   "metadata": {},
   "outputs": [],
   "source": [
    "def solution(arr1, arr2):\n",
    "    for i in range(len(arr1)):\n",
    "        for j in range(len(arr1[0])):\n",
    "            arr1[i][j] += arr2[i][j]\n",
    "    return arr1"
   ]
  },
  {
   "cell_type": "code",
   "execution_count": null,
   "id": "7f5b37ca-b361-491b-8d3a-4ee4117f4201",
   "metadata": {},
   "outputs": [],
   "source": [
    "# 문제 설명(x만큼 간격이 있는 n개의 숫자)\n",
    "# 함수 solution은 정수 x와 자연수 n을 입력 받아, x부터 시작해 x씩 증가하는 숫자를 n개 지니는 리스트를 리턴해야 합니다. 다음 제한 조건을 보고, 조건을 만족하는 함수, solution을 완성해주세요.\n",
    "\n",
    "# 제한 조건\n",
    "# x는 -10000000 이상, 10000000 이하인 정수입니다.\n",
    "# n은 1000 이하인 자연수입니다."
   ]
  },
  {
   "cell_type": "code",
   "execution_count": null,
   "id": "dae11147-0e6f-48ca-b1a3-cecf969471ab",
   "metadata": {},
   "outputs": [],
   "source": [
    "def solution(x, n):\n",
    "    return [i * x + x for i in range(n)]"
   ]
  },
  {
   "cell_type": "code",
   "execution_count": null,
   "id": "642703ef-b2dc-4d93-8e0f-edb0f7cd11b4",
   "metadata": {},
   "outputs": [],
   "source": [
    "# 문제 설명(정사각형 별찍기)\n",
    "# 이 문제에는 표준 입력으로 두 개의 정수 n과 m이 주어집니다.\n",
    "# 별(*) 문자를 이용해 가로의 길이가 n, 세로의 길이가 m인 직사각형 형태를 출력해보세요.\n",
    "\n",
    "# 제한 조건\n",
    "# n과 m은 각각 1000 이하인 자연수입니다."
   ]
  },
  {
   "cell_type": "code",
   "execution_count": null,
   "id": "41e1820e-ebc0-4bd2-bbfc-f29ea249fbb6",
   "metadata": {},
   "outputs": [],
   "source": [
    "a, b = map(int, input().strip().split(' '))\n",
    "answer = ('*'*a + '\\n')*b\n",
    "print(answer)"
   ]
  },
  {
   "cell_type": "code",
   "execution_count": null,
   "id": "91ef1a1f-ce15-4e0e-8d2d-ff38030778ca",
   "metadata": {},
   "outputs": [],
   "source": [
    "# 문제 설명(소수 만들기)\n",
    "# 주어진 숫자 중 3개의 수를 더했을 때 소수가 되는 경우의 개수를 구하려고 합니다. 숫자들이 들어있는 배열 nums가 매개변수로 주어질 때, nums에 있는 숫자들 중 서로 다른 3개를 골라 더했을 때 소수가 되는 경우의 개수를 return 하도록 solution 함수를 완성해주세요.\n",
    "\n",
    "# 제한사항\n",
    "# nums에 들어있는 숫자의 개수는 3개 이상 50개 이하입니다.\n",
    "# nums의 각 원소는 1 이상 1,000 이하의 자연수이며, 중복된 숫자가 들어있지 않습니다."
   ]
  },
  {
   "cell_type": "code",
   "execution_count": null,
   "id": "08dc64d5-b62d-417b-a5d3-110653d36a21",
   "metadata": {},
   "outputs": [],
   "source": [
    "# 아리스토텔레스 체 활용\n",
    "from itertools import combinations\n",
    "\n",
    "def solution(nums):\n",
    "    answer = 0\n",
    "    for i in combinations(nums, 3):\n",
    "        s = sum(i)\n",
    "        chk = True\n",
    "        for j in range(2, int(s ** 0.5) + 1):\n",
    "            if s % j == 0:\n",
    "                chk = False\n",
    "                break\n",
    "        if chk is True:\n",
    "            answer += 1\n",
    "\n",
    "    return answer"
   ]
  }
 ],
 "metadata": {
  "kernelspec": {
   "display_name": "Python 3 (ipykernel)",
   "language": "python",
   "name": "python3"
  },
  "language_info": {
   "codemirror_mode": {
    "name": "ipython",
    "version": 3
   },
   "file_extension": ".py",
   "mimetype": "text/x-python",
   "name": "python",
   "nbconvert_exporter": "python",
   "pygments_lexer": "ipython3",
   "version": "3.8.19"
  }
 },
 "nbformat": 4,
 "nbformat_minor": 5
}
