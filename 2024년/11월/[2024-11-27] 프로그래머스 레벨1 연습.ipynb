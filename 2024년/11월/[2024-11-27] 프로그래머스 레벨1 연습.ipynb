{
 "cells": [
  {
   "cell_type": "code",
   "execution_count": null,
   "id": "f28c9516-6597-4151-be71-b2267ce9bbc5",
   "metadata": {},
   "outputs": [],
   "source": [
    "# 문제 설명(자릿수 더하기)\n",
    "# 자연수 N이 주어지면, N의 각 자릿수의 합을 구해서 return 하는 solution 함수를 만들어 주세요.\n",
    "# 예를들어 N = 123이면 1 + 2 + 3 = 6을 return 하면 됩니다.\n",
    "\n",
    "# 제한사항\n",
    "# N의 범위 : 100,000,000 이하의 자연수"
   ]
  },
  {
   "cell_type": "code",
   "execution_count": null,
   "id": "cc69fcd4-9d43-434d-a8de-7dca5d69819d",
   "metadata": {},
   "outputs": [],
   "source": [
    "def solution(n):\n",
    "    return sum([int(i) for i in str(n)])"
   ]
  },
  {
   "cell_type": "code",
   "execution_count": null,
   "id": "73fe7d56-1acd-4f49-b3e7-c9872cbbfefc",
   "metadata": {},
   "outputs": [],
   "source": [
    "# 문제 설명(자연수 뒤집어 배열로 만들기)\n",
    "# 자연수 n을 뒤집어 각 자리 숫자를 원소로 가지는 배열 형태로 리턴해주세요. 예를들어 n이 12345이면 [5,4,3,2,1]을 리턴합니다.\n",
    "\n",
    "# 제한 조건\n",
    "# n은 10,000,000,000이하인 자연수입니다."
   ]
  },
  {
   "cell_type": "code",
   "execution_count": null,
   "id": "7e455116-1a4d-425c-8b9b-f56d5d439e9d",
   "metadata": {},
   "outputs": [],
   "source": [
    "def solution(n):\n",
    "    return list(map(int, reversed(str(n))))"
   ]
  },
  {
   "cell_type": "code",
   "execution_count": null,
   "id": "9397429b-a538-446f-a1cd-ffdb3f909f40",
   "metadata": {},
   "outputs": [],
   "source": [
    "# 문제 설명(정수 내림차순으로 배치하기)\n",
    "# 함수 solution은 정수 n을 매개변수로 입력받습니다. n의 각 자릿수를 큰것부터 작은 순으로 정렬한 새로운 정수를 리턴해주세요. 예를들어 n이 118372면 873211을 리턴하면 됩니다.\n",
    "\n",
    "# 제한 조건\n",
    "# n은 1이상 8000000000 이하인 자연수입니다."
   ]
  },
  {
   "cell_type": "code",
   "execution_count": null,
   "id": "bf6590e4-cada-4283-8276-4eaadc8ab162",
   "metadata": {},
   "outputs": [],
   "source": [
    "def solution(n):\n",
    "    answer = list(str(n))\n",
    "    answer.sort(reverse = True)\n",
    "    return int(''.join(answer))"
   ]
  },
  {
   "cell_type": "code",
   "execution_count": null,
   "id": "15844482-af6f-4d87-9281-8a6eb35bd274",
   "metadata": {},
   "outputs": [],
   "source": [
    "# 문제 설명(정수 제곱근 판별)\n",
    "# 임의의 양의 정수 n에 대해, n이 어떤 양의 정수 x의 제곱인지 아닌지 판단하려 합니다.\n",
    "# n이 양의 정수 x의 제곱이라면 x+1의 제곱을 리턴하고, n이 양의 정수 x의 제곱이 아니라면 -1을 리턴하는 함수를 완성하세요.\n",
    "\n",
    "# 제한 사항\n",
    "# n은 1이상, 50000000000000 이하인 양의 정수입니다.\n",
    "\n",
    "# 입출력 예\n",
    "# n\treturn\n",
    "# 121\t144\n",
    "# 3\t-1\n",
    "# 입출력 예 설명\n",
    "# 입출력 예#1\n",
    "# 121은 양의 정수 11의 제곱이므로, (11+1)를 제곱한 144를 리턴합니다.\n",
    "\n",
    "# 입출력 예#2\n",
    "# 3은 양의 정수의 제곱이 아니므로, -1을 리턴합니다."
   ]
  },
  {
   "cell_type": "code",
   "execution_count": null,
   "id": "a87efc14-a00b-499a-bc69-e19e359072a9",
   "metadata": {},
   "outputs": [],
   "source": [
    "def solution(n):\n",
    "    sqrt = n ** (1/2)\n",
    "    if sqrt % 1 == 0:\n",
    "        return (sqrt + 1) ** 2\n",
    "    else:\n",
    "        return -1"
   ]
  },
  {
   "cell_type": "code",
   "execution_count": null,
   "id": "0a9f0b2d-b1f2-46ff-9ab1-1343b71269fd",
   "metadata": {},
   "outputs": [],
   "source": [
    "# 문제 설명(제일 작은 수 제거하기)\n",
    "# 정수를 저장한 배열, arr 에서 가장 작은 수를 제거한 배열을 리턴하는 함수, solution을 완성해주세요. 단, 리턴하려는 배열이 빈 배열인 경우엔 배열에 -1을 채워 리턴하세요. 예를들어 arr이 [4,3,2,1]인 경우는 [4,3,2]를 리턴 하고, [10]면 [-1]을 리턴 합니다.\n",
    "\n",
    "# 제한 조건\n",
    "# arr은 길이 1 이상인 배열입니다.\n",
    "# 인덱스 i, j에 대해 i ≠ j이면 arr[i] ≠ arr[j] 입니다."
   ]
  },
  {
   "cell_type": "code",
   "execution_count": null,
   "id": "a51adf8b-5671-4995-b11c-30879afa9747",
   "metadata": {},
   "outputs": [],
   "source": [
    "def solution(arr):\n",
    "    if len(arr) > 1:\n",
    "        arr.remove(min(arr))\n",
    "        \n",
    "        return arr\n",
    "    else:\n",
    "        return [-1]"
   ]
  },
  {
   "cell_type": "code",
   "execution_count": null,
   "id": "23ed9413-5cb8-4990-a026-e8f222bafb17",
   "metadata": {},
   "outputs": [],
   "source": [
    "# 문제 설명(짝수와 홀수)\n",
    "# 정수 num이 짝수일 경우 \"Even\"을 반환하고 홀수인 경우 \"Odd\"를 반환하는 함수, solution을 완성해주세요.\n",
    "\n",
    "# 제한 조건\n",
    "# num은 int 범위의 정수입니다.\n",
    "# 0은 짝수입니다."
   ]
  },
  {
   "cell_type": "code",
   "execution_count": null,
   "id": "be8c5698-04c8-40e2-a364-43b04c21ef3b",
   "metadata": {},
   "outputs": [],
   "source": [
    "def solution(num):\n",
    "    if num % 2 == 0:\n",
    "        return 'Even'\n",
    "    else:\n",
    "        return 'Odd'\n",
    "    return answer"
   ]
  },
  {
   "cell_type": "code",
   "execution_count": null,
   "id": "f4611080-715f-4a7f-aace-6694681ddd2e",
   "metadata": {},
   "outputs": [],
   "source": [
    "# 문제 설명(최대공약수와 최소공배수)\n",
    "# 두 수를 입력받아 두 수의 최대공약수와 최소공배수를 반환하는 함수, solution을 완성해 보세요. 배열의 맨 앞에 최대공약수, 그다음 최소공배수를 넣어 반환하면 됩니다. 예를 들어 두 수 3, 12의 최대공약수는 3, 최소공배수는 12이므로 solution(3, 12)는 [3, 12]를 반환해야 합니다.\n",
    "\n",
    "# 제한 사항\n",
    "# 두 수는 1이상 1000000이하의 자연수입니다."
   ]
  },
  {
   "cell_type": "code",
   "execution_count": null,
   "id": "4eac0a25-ebbf-46b4-92f4-f64e2a84867e",
   "metadata": {},
   "outputs": [],
   "source": [
    "# 유클리드 호제법 사용\n",
    "def solution(n, m):\n",
    "    a, b = max(n, m), min(n, m)\n",
    "    t = 1\n",
    "    while t > 0:\n",
    "        t = a % b\n",
    "        a, b = b ,t\n",
    "    answer = [a, int(n * m / a)]\n",
    "    return answer"
   ]
  },
  {
   "cell_type": "code",
   "execution_count": null,
   "id": "5e450602-7540-4930-b01a-9e5da6c4fbd0",
   "metadata": {},
   "outputs": [],
   "source": [
    "# 문제 설명(콜라츠 추측)\n",
    "# 1937년 Collatz란 사람에 의해 제기된 이 추측은, 주어진 수가 1이 될 때까지 다음 작업을 반복하면, 모든 수를 1로 만들 수 있다는 추측입니다. 작업은 다음과 같습니다.\n",
    "\n",
    "# 1-1. 입력된 수가 짝수라면 2로 나눕니다. \n",
    "# 1-2. 입력된 수가 홀수라면 3을 곱하고 1을 더합니다. \n",
    "# 2. 결과로 나온 수에 같은 작업을 1이 될 때까지 반복합니다. \n",
    "# 예를 들어, 주어진 수가 6이라면 6 → 3 → 10 → 5 → 16 → 8 → 4 → 2 → 1 이 되어 총 8번 만에 1이 됩니다. 위 작업을 몇 번이나 반복해야 하는지 반환하는 함수, solution을 완성해 주세요. 단, 주어진 수가 1인 경우에는 0을, 작업을 500번 반복할 때까지 1이 되지 않는다면 –1을 반환해 주세요.\n",
    "\n",
    "# 제한 사항\n",
    "# 입력된 수, num은 1 이상 8,000,000 미만인 정수입니다."
   ]
  },
  {
   "cell_type": "code",
   "execution_count": null,
   "id": "a0ef7b31-d5dd-460c-9bcf-97fdd6c9fab4",
   "metadata": {},
   "outputs": [],
   "source": [
    "def solution(num):\n",
    "    for i in range(500):\n",
    "        if num == 1:\n",
    "            return i\n",
    "        num = num / 2 if num % 2 == 0 else num*3 + 1\n",
    "    return -1"
   ]
  }
 ],
 "metadata": {
  "kernelspec": {
   "display_name": "Python 3 (ipykernel)",
   "language": "python",
   "name": "python3"
  },
  "language_info": {
   "codemirror_mode": {
    "name": "ipython",
    "version": 3
   },
   "file_extension": ".py",
   "mimetype": "text/x-python",
   "name": "python",
   "nbconvert_exporter": "python",
   "pygments_lexer": "ipython3",
   "version": "3.8.19"
  }
 },
 "nbformat": 4,
 "nbformat_minor": 5
}
