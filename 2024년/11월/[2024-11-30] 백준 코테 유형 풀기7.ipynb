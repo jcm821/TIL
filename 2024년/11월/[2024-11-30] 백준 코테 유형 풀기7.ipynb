{
 "cells": [
  {
   "cell_type": "code",
   "execution_count": null,
   "id": "30dfc1ca-5e87-49b6-bbd9-ee32ead2de78",
   "metadata": {},
   "outputs": [],
   "source": [
    "# 문자열 게임2 문제\n",
    "# 작년에 이어 새로운 문자열 게임이 있다. 게임의 진행 방식은 아래와 같다.\n",
    "\n",
    "# 알파벳 소문자로 이루어진 문자열 W가 주어진다.\n",
    "# 양의 정수 K가 주어진다.\n",
    "# 어떤 문자를 정확히 K개를 포함하는 가장 짧은 연속 문자열의 길이를 구한다.\n",
    "# 어떤 문자를 정확히 K개를 포함하고, 문자열의 첫 번째와 마지막 글자가 해당 문자로 같은 가장 긴 연속 문자열의 길이를 구한다.\n",
    "# 위와 같은 방식으로 게임을 T회 진행한다.\n",
    "\n",
    "# 입력\n",
    "# 문자열 게임의 수 T가 주어진다. (1 ≤ T ≤ 100)\n",
    "\n",
    "# 다음 줄부터 2개의 줄 동안 문자열 W와 정수 K가 주어진다. (1 ≤ K ≤ |W| ≤ 10,000) \n",
    "\n",
    "# 출력\n",
    "# T개의 줄 동안 문자열 게임의 3번과 4번에서 구한 연속 문자열의 길이를 공백을 사이에 두고 출력한다.\n",
    "\n",
    "# 만약 만족하는 연속 문자열이 없을 시 -1을 출력한다."
   ]
  },
  {
   "cell_type": "code",
   "execution_count": null,
   "id": "3575f009-05c2-499e-90d9-74e6c97f5c77",
   "metadata": {},
   "outputs": [],
   "source": [
    "# vscode 사용\n",
    "# 문자열 게임2 문제\n",
    "import sys\n",
    "from collections import defaultdict\n",
    "\n",
    "t = int(sys.stdin.readline())\n",
    "\n",
    "# 테스트 케이스 수만큼 반복\n",
    "for _ in range(t):\n",
    "    string = sys.stdin.readline().rstrip()\n",
    "    n = int(sys.stdin.readline())\n",
    "\n",
    "    # key값이 없으면 빈 리스트라도 넣게함\n",
    "    dic = defaultdict(list)\n",
    "\n",
    "    for i in range(len(string)):\n",
    "        # 개수가 n개 이상인 문자들에 대해서만\n",
    "        if string.count(string[i]) >= n:\n",
    "            # 문자별로 좌표 저장(ex [a]:[0, 4, 9])\n",
    "            dic[string[i]].append(i)\n",
    "\n",
    "    # n개 이상인 문자 없으면 아예 불가능\n",
    "    if not dic:\n",
    "        print(-1)\n",
    "    else:\n",
    "        # 최소를 일단 최대값으로 세팅\n",
    "        small = 10000\n",
    "        # 최대를 일단 최소값으로 세팅\n",
    "        big = 1\n",
    "        \n",
    "        # dic에 있는 특정 문자 alpha에 대해\n",
    "        for alpha in dic:\n",
    "            # 특정문자의 개수 - 필요한 개수 + 1 만큼 가능\n",
    "            for i in range(len(dic[alpha]) - n + 1):\n",
    "                # 특정 문자의 좌표들간의 간격 + 1이 문자열의 길이가 됨\n",
    "                length = dic[alpha][i + n - 1] - dic[alpha][i] + 1\n",
    "\n",
    "                # 최소, 최대를 계속 최신화\n",
    "                small = min(small, length)\n",
    "                big = max(big, length)\n",
    "\n",
    "        print(small, big)\n"
   ]
  },
  {
   "cell_type": "code",
   "execution_count": null,
   "id": "bb0d900b-c632-4781-8993-caf2396bbd83",
   "metadata": {},
   "outputs": [],
   "source": [
    "# 빗물 문제\n",
    "# 2차원 세계에 블록이 쌓여있다. 비가 오면 블록 사이에 빗물이 고인다.\n",
    "\n",
    "# 비는 충분히 많이 온다. 고이는 빗물의 총량은 얼마일까?\n",
    "\n",
    "# 입력\n",
    "# 첫 번째 줄에는 2차원 세계의 세로 길이 H과 2차원 세계의 가로 길이 W가 주어진다. (1 ≤ H, W ≤ 500)\n",
    "\n",
    "# 두 번째 줄에는 블록이 쌓인 높이를 의미하는 0이상 H이하의 정수가 2차원 세계의 맨 왼쪽 위치부터 차례대로 W개 주어진다.\n",
    "\n",
    "# 따라서 블록 내부의 빈 공간이 생길 수 없다. 또 2차원 세계의 바닥은 항상 막혀있다고 가정하여도 좋다.\n",
    "\n",
    "# 출력\n",
    "# 2차원 세계에서는 한 칸의 용량은 1이다. 고이는 빗물의 총량을 출력하여라.\n",
    "\n",
    "# 빗물이 전혀 고이지 않을 경우 0을 출력하여라."
   ]
  },
  {
   "cell_type": "code",
   "execution_count": null,
   "id": "250f94ba-b91e-4b2c-a420-f461e80a56d9",
   "metadata": {},
   "outputs": [],
   "source": [
    "# 접근\n",
    "# 특정 위치를 기준으로 양 옆에 자신보다 작은 높이의 블록이 있다면 해당 위치에는 물이 고일 수 없다. -> 특정 위치에 물이 고이기 위해선 자신보다 더 높은 블록으로 왼쪽과 오른쪽이 둘러싸여 있어야한다.\n",
    "# 이 조건을 만족할 때 물이 고이는 양은 왼쪽과 오른쪽 블록 중 더 낮은 블록과 현 위치의 값\n"
   ]
  },
  {
   "cell_type": "code",
   "execution_count": 1,
   "id": "e3c673ce-9320-45f5-92c8-91f206d3656b",
   "metadata": {},
   "outputs": [
    {
     "name": "stdin",
     "output_type": "stream",
     "text": [
      " 4 4\n",
      " 3 0 1 4\n"
     ]
    },
    {
     "name": "stdout",
     "output_type": "stream",
     "text": [
      "5\n"
     ]
    }
   ],
   "source": [
    "h, w = map(int, input().split())\n",
    "world = list(map(int, input().split()))\n",
    "\n",
    "ans = 0\n",
    "for i in range(1, w - 1):\n",
    "    left_max = max(world[:i])\n",
    "    right_max = max(world[i + 1:])\n",
    "\n",
    "    compare = min(left_max, right_max)\n",
    "\n",
    "    if world[i] < compare:\n",
    "        ans += compare - world[i]\n",
    "\n",
    "print(ans)"
   ]
  },
  {
   "cell_type": "code",
   "execution_count": null,
   "id": "2cd491f2-2bb9-4f5e-a72b-5ab3fb11896b",
   "metadata": {},
   "outputs": [],
   "source": [
    "# 탑 문제\n",
    "# KOI 통신연구소는 레이저를 이용한 새로운 비밀 통신 시스템 개발을 위한 실험을 하고 있다. 실험을 위하여 일직선 위에 N개의 높이가 서로 다른 탑을 수평 직선의 왼쪽부터 오른쪽 방향으로 차례로 세우고, 각 탑의 꼭대기에 레이저 송신기를 설치하였다. 모든 탑의 레이저 송신기는 레이저 신호를 지표면과 평행하게 수평 직선의 왼쪽 방향으로 발사하고, 탑의 기둥 모두에는 레이저 신호를 수신하는 장치가 설치되어 있다. 하나의 탑에서 발사된 레이저 신호는 가장 먼저 만나는 단 하나의 탑에서만 수신이 가능하다.\n",
    "\n",
    "# 예를 들어 높이가 6, 9, 5, 7, 4인 다섯 개의 탑이 수평 직선에 일렬로 서 있고, 모든 탑에서는 주어진 탑 순서의 반대 방향(왼쪽 방향)으로 동시에 레이저 신호를 발사한다고 하자. 그러면, 높이가 4인 다섯 번째 탑에서 발사한 레이저 신호는 높이가 7인 네 번째 탑이 수신을 하고, 높이가 7인 네 번째 탑의 신호는 높이가 9인 두 번째 탑이, 높이가 5인 세 번째 탑의 신호도 높이가 9인 두 번째 탑이 수신을 한다. 높이가 9인 두 번째 탑과 높이가 6인 첫 번째 탑이 보낸 레이저 신호는 어떤 탑에서도 수신을 하지 못한다.\n",
    "\n",
    "# 탑들의 개수 N과 탑들의 높이가 주어질 때, 각각의 탑에서 발사한 레이저 신호를 어느 탑에서 수신하는지를 알아내는 프로그램을 작성하라.\n",
    "\n",
    "# 입력\n",
    "# 첫째 줄에 탑의 수를 나타내는 정수 N이 주어진다. N은 1 이상 500,000 이하이다. 둘째 줄에는 N개의 탑들의 높이가 직선상에 놓인 순서대로 하나의 빈칸을 사이에 두고 주어진다. 탑들의 높이는 1 이상 100,000,000 이하의 정수이다.\n",
    "\n",
    "# 출력\n",
    "# 첫째 줄에 주어진 탑들의 순서대로 각각의 탑들에서 발사한 레이저 신호를 수신한 탑들의 번호를 하나의 빈칸을 사이에 두고 출력한다. 만약 레이저 신호를 수신하는 탑이 존재하지 않으면 0을 출력한다."
   ]
  },
  {
   "cell_type": "code",
   "execution_count": null,
   "id": "9748bccc-127d-4d1d-8700-bfc52c5f648a",
   "metadata": {},
   "outputs": [],
   "source": [
    "# 접근\n",
    "# 본인보다 높이가 크거나 같고, 위치 인덱스는 작은 것 탑들 중 자신과 가장 가까이 있는 탑 찾기"
   ]
  },
  {
   "cell_type": "code",
   "execution_count": null,
   "id": "2a4a1370-4dfc-4593-8861-cbc0a7c67737",
   "metadata": {},
   "outputs": [],
   "source": [
    "# vscode사용\n",
    "# 탑 문제\n",
    "import sys\n",
    "input = sys.stdin.readline\n",
    "\n",
    "N = int(input())\n",
    "towers = list(map(int, input().split()))\n",
    "\n",
    "stack = []\n",
    "ans = [0] * N\n",
    "for i in range(N):\n",
    "    while stack:\n",
    "        if stack[-1][1] > towers[i]:\n",
    "            ans[i] = stack[-1][0] + 1\n",
    "            break\n",
    "        else:\n",
    "            stack.pop()\n",
    "\n",
    "    stack.append((i, towers[i]))\n",
    "print(*ans)"
   ]
  }
 ],
 "metadata": {
  "kernelspec": {
   "display_name": "Python 3 (ipykernel)",
   "language": "python",
   "name": "python3"
  },
  "language_info": {
   "codemirror_mode": {
    "name": "ipython",
    "version": 3
   },
   "file_extension": ".py",
   "mimetype": "text/x-python",
   "name": "python",
   "nbconvert_exporter": "python",
   "pygments_lexer": "ipython3",
   "version": "3.8.20"
  }
 },
 "nbformat": 4,
 "nbformat_minor": 5
}
