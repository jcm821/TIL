{
 "cells": [
  {
   "cell_type": "markdown",
   "id": "6114fe07-b80a-4ed5-af60-da7464ea7085",
   "metadata": {},
   "source": [
    "# 빅데이터 분석기사 실기 작업 1유형을 위한 전처리 복습"
   ]
  },
  {
   "cell_type": "markdown",
   "id": "f0e1e908-fd7d-42f1-96a5-f38d1e9f8a90",
   "metadata": {},
   "source": [
    "* 전처리 복습이므로 시험에서와 같이 정답을 별도의 변수에 저장하고 출력하는 과정은 생략\r",
    "* \n",
    "참고 사이트(DataManim): https://www.datamanim.com/dataset/99_pandas/pandasMain.html"
   ]
  },
  {
   "cell_type": "code",
   "execution_count": 1,
   "id": "11814614-0d8a-41e6-8429-0968f319ff1e",
   "metadata": {},
   "outputs": [],
   "source": [
    "# 라이브러리 불러오기\n",
    "import pandas as pd\n",
    "import numpy as np"
   ]
  },
  {
   "cell_type": "code",
   "execution_count": 2,
   "id": "0a4783d0-84d6-435b-88fe-8334b41adc9b",
   "metadata": {},
   "outputs": [
    {
     "data": {
      "text/plain": [
       "(10127, 23)"
      ]
     },
     "execution_count": 2,
     "metadata": {},
     "output_type": "execute_result"
    }
   ],
   "source": [
    "# 56. 데이터를 로드하고 데이터 행과 열의 갯수 출력\n",
    "csvFile = 'C:/Users/chunc/OneDrive/바탕 화면/Python연습/Credit Card/BankChurners.csv'\n",
    "df = pd.read_csv(csvFile)\n",
    "df.shape"
   ]
  },
  {
   "cell_type": "code",
   "execution_count": 3,
   "id": "5a69145a-22b0-47b1-825e-cb67f97d04a3",
   "metadata": {},
   "outputs": [
    {
     "data": {
      "text/plain": [
       "0    c\n",
       "1    a\n",
       "2    d\n",
       "3    a\n",
       "4    c\n",
       "Name: newIncome, dtype: object"
      ]
     },
     "execution_count": 3,
     "metadata": {},
     "output_type": "execute_result"
    }
   ],
   "source": [
    "# 57. Income_Category의 카테고리를 map 함수를 이용하여 다음과 같이 변경하여 newIncome 컬럼에 매핑\n",
    "# Unknown : N\n",
    "# Less than $40K : a\n",
    "# $40K - $60K : b\n",
    "# $60K - $80K : c\n",
    "# $80K - $120K : d\n",
    "# $120K + : e\n",
    "\n",
    "mydict = {\n",
    "    'Unknown': 'N',\n",
    "    'Less than $40K': 'a',\n",
    "    '$40K - $60K': 'b',\n",
    "    '$60K - $80K': 'c',\n",
    "    '$80K - $120K': 'd',\n",
    "    '$120K +': 'e'\n",
    "}\n",
    "\n",
    "df['newIncome'] = df['Income_Category'].map(lambda x: mydict[x])\n",
    "ans = df['newIncome']\n",
    "ans.head()"
   ]
  },
  {
   "cell_type": "code",
   "execution_count": 4,
   "id": "2d649486-963c-42cb-b621-d572e9dbd115",
   "metadata": {},
   "outputs": [
    {
     "data": {
      "text/plain": [
       "0    c\n",
       "1    a\n",
       "2    d\n",
       "3    a\n",
       "4    c\n",
       "Name: newIncome, dtype: object"
      ]
     },
     "execution_count": 4,
     "metadata": {},
     "output_type": "execute_result"
    }
   ],
   "source": [
    "# 58. Income_Category의 카테고리를 apply 함수를 이용하여 다음과 같이 변경하여 newIncome 컬럼에 매핑\n",
    "def myFunc(x):\n",
    "    if x == 'Unknown':\n",
    "        return 'N'\n",
    "    elif x == 'Less than $40K':\n",
    "        return 'a'\n",
    "    elif x == '$40K - $60K':\n",
    "        return 'b'\n",
    "    elif x == '$60K - $80K':\n",
    "        return 'c'\n",
    "    elif x == '$80K - $120K':\n",
    "        return 'd'\n",
    "    else:\n",
    "        return 'e'\n",
    "\n",
    "df['newIncome'] = df['Income_Category'].apply(lambda x: myFunc(x))\n",
    "# df['newIncome'] = df.Income_Category.apply(changeCategory)\n",
    "ans = df['newIncome']\n",
    "ans.head()"
   ]
  },
  {
   "cell_type": "code",
   "execution_count": 5,
   "id": "6c9e7abd-cc7e-4029-bfc1-2886e460bed1",
   "metadata": {},
   "outputs": [
    {
     "data": {
      "text/plain": [
       "70       2\n",
       "20     195\n",
       "60     530\n",
       "30    1841\n",
       "50    2998\n",
       "40    4561\n",
       "Name: AgeState, dtype: int64"
      ]
     },
     "execution_count": 5,
     "metadata": {},
     "output_type": "execute_result"
    }
   ],
   "source": [
    "# 59. Customer_Age의 값을 이용하여 나이 구간을 AgeState 컬럼으로 정의\n",
    "# (0~9 : 0 , 10~19 :10 , 20~29 :20 … 각 구간의 빈도수를 출력\n",
    "df['AgeState'] = df['Customer_Age'].map(lambda x: x // 10 * 10)\n",
    "ans = df['AgeState'].value_counts().sort_values()\n",
    "ans"
   ]
  },
  {
   "cell_type": "code",
   "execution_count": 6,
   "id": "579c174d-010d-4d2c-925a-a217d3f95150",
   "metadata": {},
   "outputs": [
    {
     "data": {
      "text/plain": [
       "0    6483\n",
       "1    3644\n",
       "Name: newEduLevel, dtype: int64"
      ]
     },
     "execution_count": 6,
     "metadata": {},
     "output_type": "execute_result"
    }
   ],
   "source": [
    "# 60. Education_Level의 값중 Graduate단어가 포함되는 값은 1 그렇지 않은 경우에는 0으로 변경하여 newEduLevel 컬럼을 정의하고 빈도수를 출력\n",
    "df['newEduLevel'] = df['Education_Level'].map(lambda x: 1 if 'Graduate' in x else 0)\n",
    "ans = df['newEduLevel'].value_counts()\n",
    "ans"
   ]
  },
  {
   "cell_type": "code",
   "execution_count": 7,
   "id": "15c22f2b-163c-4390-a4f4-aa7305be5184",
   "metadata": {},
   "outputs": [
    {
     "data": {
      "text/plain": [
       "1    5096\n",
       "0    5031\n",
       "Name: newLimit, dtype: int64"
      ]
     },
     "execution_count": 7,
     "metadata": {},
     "output_type": "execute_result"
    }
   ],
   "source": [
    "# 61. Credit_Limit 컬럼값이 4500 이상인 경우 1 그외의 경우에는 모두 0으로 하는 newLimit 정의\n",
    "# newLimit 각 값들의 빈도수를 출력\n",
    "df['newLimit'] = df['Credit_Limit'].map(lambda x: 1 if x >= 4500 else 0)\n",
    "ans = df['newLimit'].value_counts()\n",
    "ans"
   ]
  },
  {
   "cell_type": "code",
   "execution_count": 8,
   "id": "489ac81d-93fd-4eec-aad4-4b6395146df1",
   "metadata": {},
   "outputs": [
    {
     "data": {
      "text/plain": [
       "0    10120\n",
       "1        7\n",
       "Name: newState, dtype: int64"
      ]
     },
     "execution_count": 8,
     "metadata": {},
     "output_type": "execute_result"
    }
   ],
   "source": [
    "# 62. Marital_Status 컬럼값이 Married 이고 Card_Category 컬럼의 값이 Platinum인 경우 1 그외의 경우에는 모두 0으로 하는 newState컬럼을 정의\n",
    "# newState의 각 값들의 빈도수를 출력\n",
    "def myFunc(x):\n",
    "    if x['Marital_Status'] == 'Married' and x['Card_Category'] == 'Platinum':\n",
    "        return 1\n",
    "    else:\n",
    "        return 0\n",
    "\n",
    "df['newState'] = df.apply(lambda x: myFunc(x), axis = 1)\n",
    "ans = df['newState'].value_counts()\n",
    "ans"
   ]
  },
  {
   "cell_type": "code",
   "execution_count": 9,
   "id": "3d41445d-0a06-41cf-8764-5a5fd1d7d06b",
   "metadata": {},
   "outputs": [
    {
     "data": {
      "text/plain": [
       "female    5358\n",
       "male      4769\n",
       "Name: Gender, dtype: int64"
      ]
     },
     "execution_count": 9,
     "metadata": {},
     "output_type": "execute_result"
    }
   ],
   "source": [
    "# 63. Gender 컬럼값 M인 경우 male F인 경우 female로 값을 변경하여 Gender 컬럼에 새롭게 정의\n",
    "# 각 value의 빈도를 출력\n",
    "def myGender(x):\n",
    "    if x == 'M':\n",
    "        return 'male'\n",
    "    else:\n",
    "        return 'female'\n",
    "\n",
    "df['Gender'] = df['Gender'].apply(myGender)\n",
    "ans = df['Gender'].value_counts()\n",
    "ans"
   ]
  }
 ],
 "metadata": {
  "kernelspec": {
   "display_name": "Python 3 (ipykernel)",
   "language": "python",
   "name": "python3"
  },
  "language_info": {
   "codemirror_mode": {
    "name": "ipython",
    "version": 3
   },
   "file_extension": ".py",
   "mimetype": "text/x-python",
   "name": "python",
   "nbconvert_exporter": "python",
   "pygments_lexer": "ipython3",
   "version": "3.8.18"
  }
 },
 "nbformat": 4,
 "nbformat_minor": 5
}
