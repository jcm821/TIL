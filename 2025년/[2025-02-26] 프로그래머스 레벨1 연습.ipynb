{
 "cells": [
  {
   "cell_type": "code",
   "execution_count": null,
   "id": "0d6bea57-6c9c-4244-b062-b28499911daa",
   "metadata": {},
   "outputs": [],
   "source": [
    "# 문제 설명(이상한 문자 만들기)\n",
    "# 문자열 s는 한 개 이상의 단어로 구성되어 있습니다. 각 단어는 하나 이상의 공백문자로 구분되어 있습니다.\n",
    "# 각 단어의 짝수번째 알파벳은 대문자로, 홀수번째 알파벳은 소문자로 바꾼 문자열을 리턴하는 함수, solution을 완성하세요.\n",
    "\n",
    "# 제한 사항\n",
    "# 문자열 전체의 짝/홀수 인덱스가 아니라, 단어(공백을 기준)별로 짝/홀수 인덱스를 판단해야합니다.\n",
    "# 첫 번째 글자는 0번째 인덱스로 보아 짝수번째 알파벳으로 처리해야 합니다."
   ]
  },
  {
   "cell_type": "code",
   "execution_count": null,
   "id": "427db7c8-8a32-4cff-9aec-b74eed68659c",
   "metadata": {},
   "outputs": [],
   "source": [
    "# sol1\n",
    "def solution(s):\n",
    "    answer = ''\n",
    "    new_list = s.split(' ')\n",
    "    for i in new_list:\n",
    "        for j in range(len(i)):\n",
    "            if j % 2 == 0:\n",
    "                answer += i[j].upper()\n",
    "            else:\n",
    "                answer += i[j].lower()\n",
    "        answer += ' '\n",
    "    return answer[0: -1]"
   ]
  },
  {
   "cell_type": "code",
   "execution_count": null,
   "id": "a22235fc-4faa-4c5d-b06c-c3f0e6c31ef3",
   "metadata": {},
   "outputs": [],
   "source": [
    "# sol2\n",
    "def solution(s):\n",
    "    return \" \".join(map(lambda x: \"\".join([a.lower() if i % 2 else a.upper() for i, a in enumerate(x)]), s.split(\" \")))"
   ]
  },
  {
   "cell_type": "code",
   "execution_count": null,
   "id": "261103f1-4989-4fe6-b1df-6a6ca87dae3a",
   "metadata": {},
   "outputs": [],
   "source": [
    "# 문제 설명(자릿수 더하기)\n",
    "# 자연수 N이 주어지면, N의 각 자릿수의 합을 구해서 return 하는 solution 함수를 만들어 주세요.\n",
    "# 예를들어 N = 123이면 1 + 2 + 3 = 6을 return 하면 됩니다.\n",
    "\n",
    "# 제한사항\n",
    "# N의 범위 : 100,000,000 이하의 자연수"
   ]
  },
  {
   "cell_type": "code",
   "execution_count": null,
   "id": "aa2a6935-83fd-4a1a-a3b7-ed10002c8f1f",
   "metadata": {},
   "outputs": [],
   "source": [
    "# sol1\n",
    "def solution(n):\n",
    "    answer = 0\n",
    "    a = list(map(int, str(n)))\n",
    "\n",
    "    return sum(a)"
   ]
  },
  {
   "cell_type": "code",
   "execution_count": null,
   "id": "27fc10b8-cf6a-47eb-b4d6-66ec46f13790",
   "metadata": {},
   "outputs": [],
   "source": [
    "# sol2\n",
    "def solution(n):\n",
    "    return sum([int(i) for i in str(n)])"
   ]
  }
 ],
 "metadata": {
  "kernelspec": {
   "display_name": "Python 3 (ipykernel)",
   "language": "python",
   "name": "python3"
  },
  "language_info": {
   "codemirror_mode": {
    "name": "ipython",
    "version": 3
   },
   "file_extension": ".py",
   "mimetype": "text/x-python",
   "name": "python",
   "nbconvert_exporter": "python",
   "pygments_lexer": "ipython3",
   "version": "3.8.20"
  }
 },
 "nbformat": 4,
 "nbformat_minor": 5
}
