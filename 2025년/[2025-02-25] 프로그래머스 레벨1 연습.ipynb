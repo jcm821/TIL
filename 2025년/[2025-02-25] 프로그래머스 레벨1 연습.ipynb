{
 "cells": [
  {
   "cell_type": "code",
   "execution_count": null,
   "id": "7a5dfb1d-ed40-4883-ab8b-402ab682c607",
   "metadata": {},
   "outputs": [],
   "source": [
    "# 문제 설명(시저 암호)\n",
    "# 어떤 문장의 각 알파벳을 일정한 거리만큼 밀어서 다른 알파벳으로 바꾸는 암호화 방식을 시저 암호라고 합니다. 예를 들어 \"AB\"는 1만큼 밀면 \"BC\"가 되고, 3만큼 밀면 \"DE\"가 됩니다. \"z\"는 1만큼 밀면 \"a\"가 됩니다. 문자열 s와 거리 n을 입력받아 s를 n만큼 민 암호문을 만드는 함수, solution을 완성해 보세요.\n",
    "\n",
    "# 제한 조건\n",
    "# 공백은 아무리 밀어도 공백입니다.\n",
    "# s는 알파벳 소문자, 대문자, 공백으로만 이루어져 있습니다.\n",
    "# s의 길이는 8000이하입니다.\n",
    "# n은 1 이상, 25이하인 자연수입니다."
   ]
  },
  {
   "cell_type": "code",
   "execution_count": null,
   "id": "ccea0d92-bf9d-4850-9895-d17473122374",
   "metadata": {},
   "outputs": [],
   "source": [
    "# sol1\n",
    "def solution(s, n):\n",
    "    s = list(s)\n",
    "    for i in range(len(s)):\n",
    "        if s[i] == ' ':\n",
    "            continue\n",
    "        base = ord('A') if s[i].isupper() else ord('a')  # ord\n",
    "        s[i] = chr((ord(s[i]) - base + n) % 26 + base)   # chr\n",
    "        \n",
    "    return ''.join(s)"
   ]
  },
  {
   "cell_type": "code",
   "execution_count": null,
   "id": "18b40c15-7555-4947-8f66-c6c56d41d13f",
   "metadata": {},
   "outputs": [],
   "source": [
    "# sol2\n",
    "def solution(s, n):\n",
    "    s = list(s)\n",
    "    for i in range(len(s)):\n",
    "        if s[i].isupper():\n",
    "            s[i] = chr((ord(s[i]) - ord('A') + n)%26 + ord('A'))\n",
    "        elif s[i].islower():\n",
    "            s[i] = chr((ord(s[i]) - ord('a') + n)%26 + ord('a'))\n",
    "    return \"\".join(s)"
   ]
  },
  {
   "cell_type": "code",
   "execution_count": null,
   "id": "f5c9c7cd-9292-4e9b-aa67-442c4c00efec",
   "metadata": {},
   "outputs": [],
   "source": [
    "# 문제 설명(약수의 합)\n",
    "# 정수 n을 입력받아 n의 약수를 모두 더한 값을 리턴하는 함수, solution을 완성해주세요.\n",
    "\n",
    "# 제한 사항\n",
    "# n은 0 이상 3000이하인 정수입니다."
   ]
  },
  {
   "cell_type": "code",
   "execution_count": null,
   "id": "e7be81aa-ed8f-4328-81b1-c0425500881e",
   "metadata": {},
   "outputs": [],
   "source": [
    "# sol1\n",
    "def solution(n):\n",
    "    answer = 0\n",
    "    for i in range(1, n + 1):\n",
    "        if n % i == 0:\n",
    "            # 약수이면\n",
    "            answer += i\n",
    "    return answer"
   ]
  },
  {
   "cell_type": "code",
   "execution_count": null,
   "id": "1ba4cd75-ecab-4130-b7ca-6c514ad338fd",
   "metadata": {},
   "outputs": [],
   "source": [
    "# sol2\n",
    "def solution(n):\n",
    "    return sum([i for i in range(1, n + 1) if n % i == 0])"
   ]
  },
  {
   "cell_type": "code",
   "execution_count": null,
   "id": "c191357f-9765-439d-aa37-d14197e16658",
   "metadata": {},
   "outputs": [],
   "source": [
    "# sol3\n",
    "def solution(n):\n",
    "    return n + sum([i for i in range(1, (n // 2) + 1) if n % i == 0])"
   ]
  }
 ],
 "metadata": {
  "kernelspec": {
   "display_name": "Python 3 (ipykernel)",
   "language": "python",
   "name": "python3"
  },
  "language_info": {
   "codemirror_mode": {
    "name": "ipython",
    "version": 3
   },
   "file_extension": ".py",
   "mimetype": "text/x-python",
   "name": "python",
   "nbconvert_exporter": "python",
   "pygments_lexer": "ipython3",
   "version": "3.8.20"
  }
 },
 "nbformat": 4,
 "nbformat_minor": 5
}
