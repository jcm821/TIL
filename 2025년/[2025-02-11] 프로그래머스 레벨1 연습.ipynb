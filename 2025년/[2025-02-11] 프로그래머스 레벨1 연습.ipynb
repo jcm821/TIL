{
 "cells": [
  {
   "cell_type": "code",
   "execution_count": null,
   "id": "ffc517aa-9f5d-48b4-9406-616ae8b259d0",
   "metadata": {},
   "outputs": [],
   "source": [
    "# 문제 설명(가운데 글자 가져오기)\n",
    "# 단어 s의 가운데 글자를 반환하는 함수, solution을 만들어 보세요. 단어의 길이가 짝수라면 가운데 두글자를 반환하면 됩니다.\n",
    "\n",
    "# 재한사항\n",
    "# s는 길이가 1 이상, 100이하인 스트링입니다."
   ]
  },
  {
   "cell_type": "code",
   "execution_count": null,
   "id": "79c6152b-d4f1-42b4-95d4-e786d5878c17",
   "metadata": {},
   "outputs": [],
   "source": [
    "# sol1\n",
    "def solution(s):\n",
    "    center = int(len(s)/2)\n",
    "    if len(s) % 2 != 0:\n",
    "        return s[center]\n",
    "    else:\n",
    "        return s[center-1:center+1]"
   ]
  },
  {
   "cell_type": "code",
   "execution_count": null,
   "id": "a0322b9d-df84-46da-b7ec-d0a56920e960",
   "metadata": {},
   "outputs": [],
   "source": [
    "# sol2\n",
    "def solution(s):\n",
    "    return s[(len(s) - 1)//2: len(s)//2 + 1]"
   ]
  },
  {
   "cell_type": "code",
   "execution_count": null,
   "id": "a1d949cb-a222-4ab2-bda6-bdfca182a03a",
   "metadata": {},
   "outputs": [],
   "source": [
    "# 문제 설명(같은 숫자는 싫어)\n",
    "# 배열 arr가 주어집니다. 배열 arr의 각 원소는 숫자 0부터 9까지로 이루어져 있습니다. 이때, 배열 arr에서 연속적으로 나타나는 숫자는 하나만 남기고 전부 제거하려고 합니다. 단, 제거된 후 남은 수들을 반환할 때는 배열 arr의 원소들의 순서를 유지해야 합니다. 예를 들면,\n",
    "\n",
    "# arr = [1, 1, 3, 3, 0, 1, 1] 이면 [1, 3, 0, 1] 을 return 합니다.\n",
    "# arr = [4, 4, 4, 3, 3] 이면 [4, 3] 을 return 합니다.\n",
    "# 배열 arr에서 연속적으로 나타나는 숫자는 제거하고 남은 수들을 return 하는 solution 함수를 완성해 주세요.\n",
    "\n",
    "# 제한사항\n",
    "# 배열 arr의 크기 : 1,000,000 이하의 자연수\n",
    "# 배열 arr의 원소의 크기 : 0보다 크거나 같고 9보다 작거나 같은 정수"
   ]
  },
  {
   "cell_type": "code",
   "execution_count": null,
   "id": "fc97e49b-47c9-4b2b-a1fe-a70f29b04eba",
   "metadata": {},
   "outputs": [],
   "source": [
    "# sol1\n",
    "def solution(arr):\n",
    "    answer = []\n",
    "    for i in arr:\n",
    "        if arr[-1:] == arr[i]:\n",
    "            continue\n",
    "        arr.append(i)\n",
    "    return answer"
   ]
  },
  {
   "cell_type": "code",
   "execution_count": null,
   "id": "5f7b4d98-7fa0-4d21-9a14-fa67aea34b7b",
   "metadata": {},
   "outputs": [],
   "source": [
    "# sol2\n",
    "def solution(arr):\n",
    "    answer = [arr[0]]\n",
    "    for i in range(1, len(arr)):\n",
    "        if arr[i] != arr[i-1]:\n",
    "            answer.append(arr[i])\n",
    "    return answer"
   ]
  }
 ],
 "metadata": {
  "kernelspec": {
   "display_name": "Python 3 (ipykernel)",
   "language": "python",
   "name": "python3"
  },
  "language_info": {
   "codemirror_mode": {
    "name": "ipython",
    "version": 3
   },
   "file_extension": ".py",
   "mimetype": "text/x-python",
   "name": "python",
   "nbconvert_exporter": "python",
   "pygments_lexer": "ipython3",
   "version": "3.8.20"
  }
 },
 "nbformat": 4,
 "nbformat_minor": 5
}
