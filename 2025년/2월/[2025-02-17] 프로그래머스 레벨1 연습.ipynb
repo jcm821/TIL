{
 "cells": [
  {
   "cell_type": "code",
   "execution_count": null,
   "id": "d20e48cc-c9ae-4d3f-bb3d-d00dc7fa4c0e",
   "metadata": {},
   "outputs": [],
   "source": [
    "# 문제 설명(서울에서 김서방 찾기)\n",
    "# String형 배열 seoul의 element중 \"Kim\"의 위치 x를 찾아, \"김서방은 x에 있다\"는 String을 반환하는 함수, solution을 완성하세요. seoul에 \"Kim\"은 오직 한 번만 나타나며 잘못된 값이 입력되는 경우는 없습니다.\n",
    "\n",
    "# 제한 사항\n",
    "# seoul은 길이 1 이상, 1000 이하인 배열입니다.\n",
    "# seoul의 원소는 길이 1 이상, 20 이하인 문자열입니다.\n",
    "# \"Kim\"은 반드시 seoul 안에 포함되어 있습니다."
   ]
  },
  {
   "cell_type": "code",
   "execution_count": null,
   "id": "543cbb5e-2513-453b-ac78-f95cf428661d",
   "metadata": {},
   "outputs": [],
   "source": [
    "# sol1\n",
    "def solution(seoul):\n",
    "    return '김서방은 '+ str(seoul.index('Kim')) + '에 있다'"
   ]
  },
  {
   "cell_type": "code",
   "execution_count": null,
   "id": "93dd674b-119d-4d2f-a287-9ce9f72beaea",
   "metadata": {},
   "outputs": [],
   "source": [
    "# sol2\n",
    "def solution(seoul):\n",
    "    answer = \"김서방은 {}에 있다\".format(seoul.index('Kim'))\n",
    "    return answer"
   ]
  },
  {
   "cell_type": "code",
   "execution_count": null,
   "id": "c1add7d0-d512-4549-abb7-73084633c418",
   "metadata": {},
   "outputs": [],
   "source": [
    "# 문제 설명(소수찾기)\n",
    "# 1부터 입력받은 숫자 n 사이에 있는 소수의 개수를 반환하는 함수, solution을 만들어 보세요.\n",
    "\n",
    "# 소수는 1과 자기 자신으로만 나누어지는 수를 의미합니다.\n",
    "# (1은 소수가 아닙니다.)\n",
    "\n",
    "# 제한 조건\n",
    "# n은 2이상 1000000이하의 자연수입니다."
   ]
  },
  {
   "cell_type": "code",
   "execution_count": null,
   "id": "49cc09a9-6d90-4a7e-b007-30cb2d36d119",
   "metadata": {},
   "outputs": [],
   "source": [
    "# sol2\n",
    "def solution(n):\n",
    "    num = set(range(2, n + 1))\n",
    "    for i in range(2, n + 1):\n",
    "        if i in num:\n",
    "            num -= set(range(2 * i, n + 1, i))\n",
    "            \n",
    "    return len(num)"
   ]
  }
 ],
 "metadata": {
  "kernelspec": {
   "display_name": "Python 3 (ipykernel)",
   "language": "python",
   "name": "python3"
  },
  "language_info": {
   "codemirror_mode": {
    "name": "ipython",
    "version": 3
   },
   "file_extension": ".py",
   "mimetype": "text/x-python",
   "name": "python",
   "nbconvert_exporter": "python",
   "pygments_lexer": "ipython3",
   "version": "3.8.20"
  }
 },
 "nbformat": 4,
 "nbformat_minor": 5
}
