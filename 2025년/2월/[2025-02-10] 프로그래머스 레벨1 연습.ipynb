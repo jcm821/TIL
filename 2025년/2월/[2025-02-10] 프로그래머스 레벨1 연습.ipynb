{
 "cells": [
  {
   "cell_type": "code",
   "execution_count": null,
   "id": "3023d0d5-3231-4505-b98c-861b42be621a",
   "metadata": {},
   "outputs": [],
   "source": [
    "# 문제 설명(폰켓몬)\n",
    "# 당신은 폰켓몬을 잡기 위한 오랜 여행 끝에, 홍 박사님의 연구실에 도착했습니다. 홍 박사님은 당신에게 자신의 연구실에 있는 총 N 마리의 폰켓몬 중에서 N/2마리를 가져가도 좋다고 했습니다.\n",
    "# 홍 박사님 연구실의 폰켓몬은 종류에 따라 번호를 붙여 구분합니다. 따라서 같은 종류의 폰켓몬은 같은 번호를 가지고 있습니다. 예를 들어 연구실에 총 4마리의 폰켓몬이 있고, 각 폰켓몬의 종류 번호가 [3번, 1번, 2번, 3번]이라면 이는 3번 폰켓몬 두 마리, 1번 폰켓몬 한 마리, 2번 폰켓몬 한 마리가 있음을 나타냅니다.\n",
    "# 이때, 4마리의 폰켓몬 중 2마리를 고르는 방법은 다음과 같이 6가지가 있습니다.\n",
    "\n",
    "# 첫 번째(3번), 두 번째(1번) 폰켓몬을 선택\n",
    "# 첫 번째(3번), 세 번째(2번) 폰켓몬을 선택\n",
    "# 첫 번째(3번), 네 번째(3번) 폰켓몬을 선택\n",
    "# 두 번째(1번), 세 번째(2번) 폰켓몬을 선택\n",
    "# 두 번째(1번), 네 번째(3번) 폰켓몬을 선택\n",
    "# 세 번째(2번), 네 번째(3번) 폰켓몬을 선택\n",
    "# 이때, 첫 번째(3번) 폰켓몬과 네 번째(3번) 폰켓몬을 선택하는 방법은 한 종류(3번 폰켓몬 두 마리)의 폰켓몬만 가질 수 있지만, 다른 방법들은 모두 두 종류의 폰켓몬을 가질 수 있습니다.\n",
    "# 따라서 위 예시에서 가질 수 있는 폰켓몬 종류 수의 최댓값은 2가 됩니다.\n",
    "# 당신은 최대한 다양한 종류의 폰켓몬을 가지길 원하기 때문에, 최대한 많은 종류의 폰켓몬을 포함해서 N/2마리를 선택하려 합니다.\n",
    "# N마리 폰켓몬의 종류 번호가 담긴 배열 nums가 매개변수로 주어질 때, N/2마리의 폰켓몬을 선택하는 방법 중, 가장 많은 종류의 폰켓몬을 선택하는 방법을 찾아, 그때의 폰켓몬 종류 번호의 개수를 return 하도록 solution 함수를 완성해주세요.\n",
    "\n",
    "# 제한사항\n",
    "# nums는 폰켓몬의 종류 번호가 담긴 1차원 배열입니다.\n",
    "# nums의 길이(N)는 1 이상 10,000 이하의 자연수이며, 항상 짝수로 주어집니다.\n",
    "# 폰켓몬의 종류 번호는 1 이상 200,000 이하의 자연수로 나타냅니다.\n",
    "# 가장 많은 종류의 폰켓몬을 선택하는 방법이 여러 가지인 경우에도, 선택할 수 있는 폰켓몬 종류 개수의 최댓값 하나만 return 하면 됩니다."
   ]
  },
  {
   "cell_type": "code",
   "execution_count": null,
   "id": "0ff02bd7-5ade-4f1a-ab9b-a00673562c9f",
   "metadata": {},
   "outputs": [],
   "source": [
    "# sol1\n",
    "def solution(nums):\n",
    "    answer = 0\n",
    "    chosen_length = len(nums) // 2\n",
    "    tmp = set(nums)\n",
    "    num_list = list(tmp)\n",
    "    answer_length = len(num_list)\n",
    "    \n",
    "    if chosen_length < answer_length:\n",
    "        answer = chosen_length\n",
    "    else:\n",
    "        answer = answer_length\n",
    "    return answer"
   ]
  },
  {
   "cell_type": "code",
   "execution_count": null,
   "id": "fdef3c3c-f80c-46c9-90fc-f2a6cf48bf22",
   "metadata": {},
   "outputs": [],
   "source": [
    "# sol2\n",
    "def solution(nums):\n",
    "    return min(len(nums)/2, len(set(nums)))"
   ]
  },
  {
   "cell_type": "code",
   "execution_count": null,
   "id": "4c4009c7-e3f2-4094-b5f8-7d2f6c067b63",
   "metadata": {},
   "outputs": [],
   "source": [
    "# 문제 설명(2016년)\n",
    "# 2016년 1월 1일은 금요일입니다. 2016년 a월 b일은 무슨 요일일까요? 두 수 a ,b를 입력받아 2016년 a월 b일이 무슨 요일인지 리턴하는 함수, solution을 완성하세요.\n",
    "# 요일의 이름은 일요일부터 토요일까지 각각 SUN,MON,TUE,WED,THU,FRI,SAT 입니다. \n",
    "# 예를 들어 a=5, b=24라면 5월 24일은 화요일이므로 문자열 \"TUE\"를 반환하세요.\n",
    "\n",
    "# 제한 조건\n",
    "# 2016년은 윤년입니다.\n",
    "# 2016년 a월 b일은 실제로 있는 날입니다. (13월 26일이나 2월 45일같은 날짜는 주어지지 않습니다)"
   ]
  },
  {
   "cell_type": "code",
   "execution_count": null,
   "id": "949d6bf1-f80d-42d1-9279-7ef386210a5b",
   "metadata": {},
   "outputs": [],
   "source": [
    "# sol1\n",
    "def solution(a, b):\n",
    "    day = ['THU', 'FRI', 'SAT', 'SUN', 'MON', 'TUE', 'WED']\n",
    "    month = [31, 29, 31, 30, 31, 30, 31, 31, 30, 31, 30, 31]\n",
    "    return day[(sum(month[:a-1]) + b) % 7]"
   ]
  }
 ],
 "metadata": {
  "kernelspec": {
   "display_name": "Python 3 (ipykernel)",
   "language": "python",
   "name": "python3"
  },
  "language_info": {
   "codemirror_mode": {
    "name": "ipython",
    "version": 3
   },
   "file_extension": ".py",
   "mimetype": "text/x-python",
   "name": "python",
   "nbconvert_exporter": "python",
   "pygments_lexer": "ipython3",
   "version": "3.8.20"
  }
 },
 "nbformat": 4,
 "nbformat_minor": 5
}
