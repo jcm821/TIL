{
 "cells": [
  {
   "cell_type": "code",
   "execution_count": null,
   "id": "0547d52f-f099-4bd4-b19c-81a7ab8bdd17",
   "metadata": {},
   "outputs": [],
   "source": [
    "# 문제 설명(수박수박수박수박수박수?)\n",
    "# 길이가 n이고, \"수박수박수박수....\"와 같은 패턴을 유지하는 문자열을 리턴하는 함수, solution을 완성하세요. 예를들어 n이 4이면 \"수박수박\"을 리턴하고 3이라면 \"수박수\"를 리턴하면 됩니다.\n",
    "\n",
    "# 제한 조건\n",
    "# n은 길이 10,000이하인 자연수입니다."
   ]
  },
  {
   "cell_type": "code",
   "execution_count": null,
   "id": "923a8988-687e-4f94-b148-a348405ba7dc",
   "metadata": {},
   "outputs": [],
   "source": [
    "# sol1\n",
    "def solution(n):\n",
    "    answer = '수박' * n\n",
    "    return answer[:n]"
   ]
  },
  {
   "cell_type": "code",
   "execution_count": null,
   "id": "08b93005-6ad1-4411-b25d-59b3b7109b07",
   "metadata": {},
   "outputs": [],
   "source": [
    "# sol2\n",
    "def solution(n):\n",
    "    return ('수박'*n) [:n]"
   ]
  },
  {
   "cell_type": "code",
   "execution_count": null,
   "id": "fa58b00f-d877-429d-be7a-655b39278476",
   "metadata": {},
   "outputs": [],
   "source": [
    "# 문제 설명(문자열을 정수로 바꾸기)\n",
    "# 문자열 s를 숫자로 변환한 결과를 반환하는 함수, solution을 완성하세요.\n",
    "\n",
    "# 제한 조건\n",
    "# s의 길이는 1 이상 5이하입니다.\n",
    "# s의 맨앞에는 부호(+, -)가 올 수 있습니다.\n",
    "# s는 부호와 숫자로만 이루어져있습니다.\n",
    "# s는 \"0\"으로 시작하지 않습니다."
   ]
  },
  {
   "cell_type": "code",
   "execution_count": null,
   "id": "0d0a4494-4aa8-43d9-81ef-ebc95c2e5839",
   "metadata": {},
   "outputs": [],
   "source": [
    "# sol1\n",
    "def solution(s):\n",
    "    return int(s)"
   ]
  }
 ],
 "metadata": {
  "kernelspec": {
   "display_name": "Python 3 (ipykernel)",
   "language": "python",
   "name": "python3"
  },
  "language_info": {
   "codemirror_mode": {
    "name": "ipython",
    "version": 3
   },
   "file_extension": ".py",
   "mimetype": "text/x-python",
   "name": "python",
   "nbconvert_exporter": "python",
   "pygments_lexer": "ipython3",
   "version": "3.8.20"
  }
 },
 "nbformat": 4,
 "nbformat_minor": 5
}
