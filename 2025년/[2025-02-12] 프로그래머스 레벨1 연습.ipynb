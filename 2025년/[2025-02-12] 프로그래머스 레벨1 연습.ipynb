{
 "cells": [
  {
   "cell_type": "code",
   "execution_count": null,
   "id": "8e0e0b91-e6f3-40ef-8f0a-f5dd4092a4ba",
   "metadata": {},
   "outputs": [],
   "source": [
    "# 문제 설명(나누어 떨어지는 숫자 배열)\n",
    "# array의 각 element 중 divisor로 나누어 떨어지는 값을 오름차순으로 정렬한 배열을 반환하는 함수, solution을 작성해주세요.\n",
    "# divisor로 나누어 떨어지는 element가 하나도 없다면 배열에 -1을 담아 반환하세요.\n",
    "\n",
    "# 제한사항\n",
    "# arr은 자연수를 담은 배열입니다.\n",
    "# 정수 i, j에 대해 i ≠ j 이면 arr[i] ≠ arr[j] 입니다.\n",
    "# divisor는 자연수입니다.\n",
    "# array는 길이 1 이상인 배열입니다."
   ]
  },
  {
   "cell_type": "code",
   "execution_count": null,
   "id": "f57aca9f-106e-462a-aff2-7de40f408b00",
   "metadata": {},
   "outputs": [],
   "source": [
    "# sol1\n",
    "def solution(arr, divisor):\n",
    "    answer = []\n",
    "    \n",
    "    for num in arr:\n",
    "        if num % divisor == 0:\n",
    "            answer.append(num)\n",
    "            \n",
    "    if len(answer) == 0:\n",
    "        answer = [-1]\n",
    "        \n",
    "    return list(sorted(answer))"
   ]
  },
  {
   "cell_type": "code",
   "execution_count": null,
   "id": "2894ad28-fcc5-432b-8868-8e6e378ddf58",
   "metadata": {},
   "outputs": [],
   "source": [
    "# sol2\n",
    "def solution(arr, divisor):\n",
    "    return sorted([num for num in arr if num%divisor == 0]) or [-1]"
   ]
  },
  {
   "cell_type": "code",
   "execution_count": null,
   "id": "05089b70-c5d1-467f-9bc9-6fc90ef98614",
   "metadata": {},
   "outputs": [],
   "source": [
    "# 문제 설명(두 정수 사이의 합)\n",
    "# 두 정수 a, b가 주어졌을 때 a와 b 사이에 속한 모든 정수의 합을 리턴하는 함수, solution을 완성하세요.\n",
    "# 예를 들어 a = 3, b = 5인 경우, 3 + 4 + 5 = 12이므로 12를 리턴합니다.\n",
    "\n",
    "# 제한 조건\n",
    "# a와 b가 같은 경우는 둘 중 아무 수나 리턴하세요.\n",
    "# a와 b는 -10,000,000 이상 10,000,000 이하인 정수입니다.\n",
    "# a와 b의 대소관계는 정해져있지 않습니다."
   ]
  },
  {
   "cell_type": "code",
   "execution_count": null,
   "id": "ed85cdb0-234b-4c7a-9cd7-1dce9e80898f",
   "metadata": {},
   "outputs": [],
   "source": [
    "# sol1\n",
    "def solution(a, b):\n",
    "    if a < b:\n",
    "        return sum(list(range(a, b + 1)))\n",
    "    else:\n",
    "        return sum(list(range(b, a + 1)))\n",
    "    return answer"
   ]
  },
  {
   "cell_type": "code",
   "execution_count": null,
   "id": "c981ee88-fc39-4311-abde-f5a24f79a490",
   "metadata": {},
   "outputs": [],
   "source": [
    "# sol2\n",
    "def solution(a, b):\n",
    "    return sum(range(min(a, b), max(a, b) + 1))"
   ]
  },
  {
   "cell_type": "code",
   "execution_count": null,
   "id": "64e43b39-b939-43b2-ad2a-5f9d8910f907",
   "metadata": {},
   "outputs": [],
   "source": [
    "# sol3\n",
    "def solution(a, b):\n",
    "    if a > b:\n",
    "        a, b = b, a\n",
    "    return sum(range(a, b + 1))"
   ]
  }
 ],
 "metadata": {
  "kernelspec": {
   "display_name": "Python 3 (ipykernel)",
   "language": "python",
   "name": "python3"
  },
  "language_info": {
   "codemirror_mode": {
    "name": "ipython",
    "version": 3
   },
   "file_extension": ".py",
   "mimetype": "text/x-python",
   "name": "python",
   "nbconvert_exporter": "python",
   "pygments_lexer": "ipython3",
   "version": "3.8.20"
  }
 },
 "nbformat": 4,
 "nbformat_minor": 5
}
