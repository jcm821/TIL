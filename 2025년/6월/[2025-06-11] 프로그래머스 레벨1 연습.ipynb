{
 "cells": [
  {
   "cell_type": "code",
   "execution_count": null,
   "id": "820e63ca-eda0-492f-a2dd-384cc75c3426",
   "metadata": {},
   "outputs": [],
   "source": [
    "# 문제 설명(k번째 수)\n",
    "# 배열 array의 i번째 숫자부터 j번째 숫자까지 자르고 정렬했을 때, k번째에 있는 수를 구하려 합니다.\n",
    "\n",
    "# 예를 들어 array가 [1, 5, 2, 6, 3, 7, 4], i = 2, j = 5, k = 3이라면\n",
    "\n",
    "# array의 2번째부터 5번째까지 자르면 [5, 2, 6, 3]입니다.\n",
    "# 1에서 나온 배열을 정렬하면 [2, 3, 5, 6]입니다.\n",
    "# 2에서 나온 배열의 3번째 숫자는 5입니다.\n",
    "# 배열 array, [i, j, k]를 원소로 가진 2차원 배열 commands가 매개변수로 주어질 때, commands의 모든 원소에 대해 앞서 설명한 연산을 적용했을 때 나온 결과를 배열에 담아 return 하도록 solution 함수를 작성해주세요.\n",
    "\n",
    "# 제한사항\n",
    "# array의 길이는 1 이상 100 이하입니다.\n",
    "# array의 각 원소는 1 이상 100 이하입니다.\n",
    "# commands의 길이는 1 이상 50 이하입니다.\n",
    "# commands의 각 원소는 길이가 3입니다."
   ]
  },
  {
   "cell_type": "code",
   "execution_count": null,
   "id": "e0cd2cb5-eba4-41c8-9781-c9bf96b1c069",
   "metadata": {},
   "outputs": [],
   "source": [
    "# 문제 요약\n",
    "# 정수 배열 array와 여러 개의 commands가 주어짐\n",
    "# 각 command는 [i, j, k] 형태임\n",
    "# 각각의 command에 대해:\n",
    "# array에서 i번째부터 j번째까지 자른다. (1-based index)\n",
    "# 자른 배열을 정렬한다.\n",
    "# 정렬된 배열에서 k번째 수를 뽑는다.\n",
    "# 이 과정을 각 command마다 수행해서 뽑은 수들을 모아 리스트로 반환."
   ]
  },
  {
   "cell_type": "code",
   "execution_count": null,
   "id": "84e31245-77e4-45a6-9367-492a521abe70",
   "metadata": {},
   "outputs": [],
   "source": [
    "# sol1\n",
    "def solution(array, commands):\n",
    "    answer = []\n",
    "    for i in range(len(commands)):\n",
    "        # i~j 자르기\n",
    "        arr = array[commands[i][0] - 1: commands[i][1]]\n",
    "        arr.sort()\n",
    "        # k번째 수 추출\n",
    "        answer.append(arr[commands[i][2] - 1])\n",
    "    return answer"
   ]
  },
  {
   "cell_type": "code",
   "execution_count": null,
   "id": "456c0c1f-c517-4d60-bea6-6ab055d757c1",
   "metadata": {},
   "outputs": [],
   "source": [
    "# sol2\n",
    "def solution(array, commands):\n",
    "    return [sorted(array[i-1 : j])[k - 1] for i, j, k in commands]"
   ]
  },
  {
   "cell_type": "code",
   "execution_count": null,
   "id": "97ba02f2-b9cd-4e74-9065-b872af904f8d",
   "metadata": {},
   "outputs": [],
   "source": [
    "# sol3\n",
    "def solution(array, commands):\n",
    "    return list(map(lambda x: sorted(array[x[0] - 1: x[1]])[x[2] - 1], commands))"
   ]
  },
  {
   "cell_type": "code",
   "execution_count": null,
   "id": "92860231-3f86-4f91-89a0-f9aeb309788a",
   "metadata": {},
   "outputs": [],
   "source": [
    "# 문제 설명(모의고사)\n",
    "# 수포자는 수학을 포기한 사람의 준말입니다. 수포자 삼인방은 모의고사에 수학 문제를 전부 찍으려 합니다. 수포자는 1번 문제부터 마지막 문제까지 다음과 같이 찍습니다.\n",
    "\n",
    "# 1번 수포자가 찍는 방식: 1, 2, 3, 4, 5, 1, 2, 3, 4, 5, ...\n",
    "# 2번 수포자가 찍는 방식: 2, 1, 2, 3, 2, 4, 2, 5, 2, 1, 2, 3, 2, 4, 2, 5, ...\n",
    "# 3번 수포자가 찍는 방식: 3, 3, 1, 1, 2, 2, 4, 4, 5, 5, 3, 3, 1, 1, 2, 2, 4, 4, 5, 5, ...\n",
    "\n",
    "# 1번 문제부터 마지막 문제까지의 정답이 순서대로 들은 배열 answers가 주어졌을 때, 가장 많은 문제를 맞힌 사람이 누구인지 배열에 담아 return 하도록 solution 함수를 작성해주세요.\n",
    "\n",
    "# 제한 조건\n",
    "# 시험은 최대 10,000 문제로 구성되어있습니다.\n",
    "# 문제의 정답은 1, 2, 3, 4, 5중 하나입니다.\n",
    "# 가장 높은 점수를 받은 사람이 여럿일 경우, return하는 값을 오름차순 정렬해주세요."
   ]
  },
  {
   "cell_type": "code",
   "execution_count": null,
   "id": "fd5531ad-8075-4a80-8faa-9dc873d50430",
   "metadata": {},
   "outputs": [],
   "source": [
    "# 문제 요약\n",
    "# 3명의 수포자가 문제를 일정한 패턴으로 찍기 시작함\n",
    "# 실제 정답이 담긴 answers 리스트가 주어졌을 때,\n",
    "# 누가 가장 많이 맞췄는지 1번, 2번, 3번 중 가장 높은 점수를 받은 사람을 반환해야 함\n",
    "# 만약 동점이면, 모두 리스트에 포함해서 반환"
   ]
  },
  {
   "cell_type": "code",
   "execution_count": null,
   "id": "6ec17864-0881-4890-8e5e-5162649cc314",
   "metadata": {},
   "outputs": [],
   "source": [
    "# sol1\n",
    "def solution(answers):\n",
    "    answer = []\n",
    "    \n",
    "    people1 = [1, 2, 3, 4, 5]\n",
    "    people2 = [2, 1, 2, 3, 2, 4, 2, 5]\n",
    "    people3 = [3, 3, 1, 1, 2, 2, 4, 4, 5, 5]\n",
    "    \n",
    "    count1 = 0\n",
    "    count2 = 0\n",
    "    count3 = 0\n",
    "    for i in range(len(answers)):\n",
    "        if (people1[i - len(people1) * (i // len(people1))] == answers[i]):\n",
    "                count1 += 1\n",
    "        if (people2[i - len(people2) * (i // len(people2))] == answers[i]):\n",
    "                count2 += 1\n",
    "        if (people3[i - len(people3) * (i // len(people3))] == answers[i]):\n",
    "                count3 += 1\n",
    "            \n",
    "    if (count1 == max(count1, count2, count3)):\n",
    "        answer.append(1)\n",
    "    if (count2 == max(count1, count2, count3)):\n",
    "        answer.append(2)\n",
    "    if (count3 == max(count1, count2, count3)):\n",
    "        answer.append(3)\n",
    "        \n",
    "    return answer"
   ]
  },
  {
   "cell_type": "code",
   "execution_count": null,
   "id": "ed30ade6-78e0-4c2b-9e6c-3504c64bc637",
   "metadata": {},
   "outputs": [],
   "source": [
    "# sol2\n",
    "def solution(answers):\n",
    "    pattern1 = [1, 2, 3, 4, 5]\n",
    "    pattern2 = [2, 1, 2, 3, 2, 4, 2, 5]\n",
    "    pattern3 = [3, 3, 1, 1, 2, 2, 4, 4, 5, 5]\n",
    "    score = [0, 0, 0]\n",
    "    result = []\n",
    "    \n",
    "    for idx, answer in enumerate(answers):\n",
    "        # 각 패턴이 반복되도록 인덱스 순환\n",
    "        if answer == pattern1[idx%len(pattern1)]:\n",
    "            score[0] += 1\n",
    "        if answer == pattern2[idx%len(pattern2)]:\n",
    "            score[1] += 1\n",
    "        if answer == pattern3[idx%len(pattern3)]:\n",
    "            score[2] += 1\n",
    "    # 최고 점수와 같은 사람(동점자 포함)은 result에 추가\n",
    "    for idx, s in enumerate(score):\n",
    "        if s == max(score):\n",
    "            result.append(idx + 1)\n",
    "    return result"
   ]
  },
  {
   "cell_type": "code",
   "execution_count": null,
   "id": "0fd7f97a-8a15-4101-a76b-a9ff53660c10",
   "metadata": {},
   "outputs": [],
   "source": [
    "# 문제 설명(최솟값 구하기)\n",
    "# ANIMAL_INS 테이블은 동물 보호소에 들어온 동물의 정보를 담은 테이블입니다. ANIMAL_INS 테이블 구조는 다음과 같으며, ANIMAL_ID, ANIMAL_TYPE, DATETIME, INTAKE_CONDITION, NAME, SEX_UPON_INTAKE는 각각 동물의 아이디, 생물 종, 보호 시작일, 보호 시작 시 상태, 이름, 성별 및 중성화 여부를 나타냅니다.\n",
    "\n",
    "# NAME\tTYPE\tNULLABLE\n",
    "# ANIMAL_ID\tVARCHAR(N)\tFALSE\n",
    "# ANIMAL_TYPE\tVARCHAR(N)\tFALSE\n",
    "# DATETIME\tDATETIME\tFALSE\n",
    "# INTAKE_CONDITION\tVARCHAR(N)\tFALSE\n",
    "# NAME\tVARCHAR(N)\tTRUE\n",
    "# SEX_UPON_INTAKE\tVARCHAR(N)\tFALSE\n",
    "# 동물 보호소에 가장 먼저 들어온 동물은 언제 들어왔는지 조회하는 SQL 문을 작성해주세요.\n",
    "\n",
    "# 예시\n",
    "# 예를 들어 ANIMAL_INS 테이블이 다음과 같다면\n",
    "\n",
    "# ANIMAL_ID\tANIMAL_TYPE\tDATETIME\tINTAKE_CONDITION\tNAME\tSEX_UPON_INTAKE\n",
    "# A399552\tDog\t2013-10-14 15:38:00\tNormal\tJack\tNeutered Male\n",
    "# A379998\tDog\t2013-10-23 11:42:00\tNormal\tDisciple\tIntact Male\n",
    "# A370852\tDog\t2013-11-03 15:04:00\tNormal\tKatie\tSpayed Female\n",
    "# A403564\tDog\t2013-11-18 17:03:00\tNormal\tAnna\tSpayed Female\n",
    "# 가장 먼저 들어온 동물은 Jack이고, Jack은 2013-10-14 15:38:00에 들어왔습니다. 따라서 SQL문을 실행하면 다음과 같이 나와야 합니다.\n",
    "\n",
    "# 시간\n",
    "# 2013-10-14 15:38:00\n",
    "# ※ 컬럼 이름(위 예제에서는 \"시간\")은 일치하지 않아도 됩니다."
   ]
  },
  {
   "cell_type": "code",
   "execution_count": null,
   "id": "19e5e642-556c-451a-82a1-116c1f37d3f2",
   "metadata": {},
   "outputs": [],
   "source": [
    "SELECT min(DATETIME) as 시간 FROM ANIMAL_INS;"
   ]
  },
  {
   "cell_type": "code",
   "execution_count": null,
   "id": "ea83df35-7223-4f1a-beac-2fdf5044c312",
   "metadata": {},
   "outputs": [],
   "source": [
    "# 문제 설명(고양이와 개는 몇 마리 있을까)\n",
    "# ANIMAL_INS 테이블은 동물 보호소에 들어온 동물의 정보를 담은 테이블입니다. ANIMAL_INS 테이블 구조는 다음과 같으며, ANIMAL_ID, ANIMAL_TYPE, DATETIME, INTAKE_CONDITION, NAME, SEX_UPON_INTAKE는 각각 동물의 아이디, 생물 종, 보호 시작일, 보호 시작 시 상태, 이름, 성별 및 중성화 여부를 나타냅니다.\n",
    "\n",
    "# NAME\tTYPE\tNULLABLE\n",
    "# ANIMAL_ID\tVARCHAR(N)\tFALSE\n",
    "# ANIMAL_TYPE\tVARCHAR(N)\tFALSE\n",
    "# DATETIME\tDATETIME\tFALSE\n",
    "# INTAKE_CONDITION\tVARCHAR(N)\tFALSE\n",
    "# NAME\tVARCHAR(N)\tTRUE\n",
    "# SEX_UPON_INTAKE\tVARCHAR(N)\tFALSE\n",
    "# 동물 보호소에 들어온 동물 중 고양이와 개가 각각 몇 마리인지 조회하는 SQL문을 작성해주세요. 이때 고양이를 개보다 먼저 조회해주세요.\n",
    "\n",
    "# 예시\n",
    "# 예를 들어 ANIMAL_INS 테이블이 다음과 같다면\n",
    "\n",
    "# ANIMAL_ID\tANIMAL_TYPE\tDATETIME\tINTAKE_CONDITION\tNAME\tSEX_UPON_INTAKE\n",
    "# A373219\tCat\t2014-07-29 11:43:00\tNormal\tElla\tSpayed Female\n",
    "# A377750\tDog\t2017-10-25 17:17:00\tNormal\tLucy\tSpayed Female\n",
    "# A354540\tCat\t2014-12-11 11:48:00\tNormal\tTux\tNeutered Male\n",
    "# 고양이는 2마리, 개는 1마리 들어왔습니다. 따라서 SQL문을 실행하면 다음과 같이 나와야 합니다.\n",
    "\n",
    "# ANIMAL_TYPE\tcount\n",
    "# Cat\t2\n",
    "# Dog\t1\n"
   ]
  },
  {
   "cell_type": "code",
   "execution_count": null,
   "id": "fe531118-3074-4fc6-8fbd-0cb4f379f38e",
   "metadata": {},
   "outputs": [],
   "source": [
    "SELECT ANIMAL_TYPE, count(*) as count FROM ANIMAL_INS\n",
    "GROUP BY ANIMAL_TYPE\n",
    "ORDER BY ANIMAL_TYPE ASC;"
   ]
  },
  {
   "cell_type": "code",
   "execution_count": null,
   "id": "cc0d92b1-1f5c-4369-ac3b-d85fa7ff0ec8",
   "metadata": {},
   "outputs": [],
   "source": [
    "# 문제설명(동명 동물 수 찾기)\n",
    "# 동물 보호소에 들어온 동물 이름 중 두 번 이상 쓰인 이름과 해당 이름이 쓰인 횟수를 조회하는 SQL문을 작성해주세요. 이때 결과는 이름이 없는 동물은 집계에서 제외하며, 결과는 이름 순으로 조회해주세요.\n",
    "\n",
    "# 예시\n",
    "# 예를 들어 ANIMAL_INS 테이블이 다음과 같다면\n",
    "\n",
    "# ANIMAL_ID\tANIMAL_TYPE\tDATETIME\tINTAKE_CONDITION\tNAME\tSEX_UPON_INTAKE\n",
    "# A396810\tDog\t2016-08-22 16:13:00\tInjured\tRaven\tSpayed Female\n",
    "# A377750\tDog\t2017-10-25 17:17:00\tNormal\tLucy\tSpayed Female\n",
    "# A355688\tDog\t2014-01-26 13:48:00\tNormal\tShadow\tNeutered Male\n",
    "# A399421\tDog\t2015-08-25 14:08:00\tNormal\tLucy\tSpayed Female\n",
    "# A400680\tDog\t2017-06-17 13:29:00\tNormal\tLucy\tSpayed Female\n",
    "# A410668\tCat\t2015-11-19 13:41:00\tNormal\tRaven\tSpayed Female\n",
    "# Raven 이름은 2번 쓰였습니다.\n",
    "# Lucy 이름은 3번 쓰였습니다\n",
    "# Shadow 이름은 1번 쓰였습니다.\n",
    "# 따라서 SQL문을 실행하면 다음과 같이 나와야 합니다.\n",
    "\n",
    "# NAME\tCOUNT\n",
    "# Lucy\t3\n",
    "# Raven\t2"
   ]
  },
  {
   "cell_type": "code",
   "execution_count": null,
   "id": "e0571384-1563-4ffc-9a1f-14346a036ab1",
   "metadata": {},
   "outputs": [],
   "source": [
    "SELECT NAME, COUNT(NAME) AS COUNT FROM ANIMAL_INS\n",
    "GROUP BY NAME HAVING COUNT(NAME)> 1\n",
    "ORDER BY NAME ASC;"
   ]
  },
  {
   "cell_type": "code",
   "execution_count": null,
   "id": "4ebd0ac5-a96b-4e8e-bde8-e082762fb6d6",
   "metadata": {},
   "outputs": [],
   "source": [
    "# 문제설명(루시와 엘라 찾기)\n",
    "# 동물 보호소에 들어온 동물 중 이름이 Lucy, Ella, Pickle, Rogan, Sabrina, Mitty인 동물의 아이디와 이름, 성별 및 중성화 여부를 조회하는 SQL 문을 작성해주세요.\n",
    "\n",
    "# 예시\n",
    "# 이때 결과는 아이디 순으로 조회해주세요. 예를 들어 ANIMAL_INS 테이블이 다음과 같다면\n",
    "\n",
    "# ANIMAL_ID\tANIMAL_TYPE\tDATETIME\tINTAKE_CONDITION\tNAME\tSEX_UPON_INTAKE\n",
    "# A373219\tCat\t2014-07-29 11:43:00\tNormal\tElla\tSpayed Female\n",
    "# A377750\tDog\t2017-10-25 17:17:00\tNormal\tLucy\tSpayed Female\n",
    "# A353259\tDog\t2016-05-08 12:57:00\tInjured\tBj\tNeutered Male\n",
    "# A354540\tCat\t2014-12-11 11:48:00\tNormal\tTux\tNeutered Male\n",
    "# A354597\tCat\t2014-05-02 12:16:00\tNormal\tAriel\tSpayed Female\n",
    "# SQL문을 실행하면 다음과 같이 나와야 합니다.\n",
    "\n",
    "# ANIMAL_ID\tNAME\tSEX_UPON_INTAKE\n",
    "# A373219\tElla\tSpayed Female\n",
    "# A377750\tLucy\tSpayed Female"
   ]
  },
  {
   "cell_type": "code",
   "execution_count": null,
   "id": "62a9ffb4-ab6b-4a76-a4af-b2655035213e",
   "metadata": {},
   "outputs": [],
   "source": [
    "SELECT ANIMAL_ID, NAME, SEX_UPON_INTAKE FROM ANIMAL_INS\n",
    "WHERE NAME IN('Lucy', 'Ella', 'Pickle', 'Rogan', 'Sabrina', 'Mitty')\n",
    "GROUP BY ANIMAL_ID;"
   ]
  },
  {
   "cell_type": "code",
   "execution_count": null,
   "id": "65289c7c-8961-480c-8253-e8fa2b268e8a",
   "metadata": {},
   "outputs": [],
   "source": [
    "# 문제설명(이름에 el이 들어가는 동물 찾기)\n",
    "# 보호소에 돌아가신 할머니가 기르던 개를 찾는 사람이 찾아왔습니다. 이 사람이 말하길 할머니가 기르던 개는 이름에 'el'이 들어간다고 합니다. 동물 보호소에 들어온 동물 이름 중, 이름에 \"EL\"이 들어가는 개의 아이디와 이름을 조회하는 SQL문을 작성해주세요. 이때 결과는 이름 순으로 조회해주세요. 단, 이름의 대소문자는 구분하지 않습니다.\n",
    "\n",
    "# 예시\n",
    "# 예를 들어 ANIMAL_INS 테이블이 다음과 같다면\n",
    "\n",
    "# ANIMAL_ID\tANIMAL_TYPE\tDATETIME\tINTAKE_CONDITION\tNAME\tSEX_UPON_INTAKE\n",
    "# A355753\tDog\t2015-09-10 13:14:00\tNormal\tElijah\tNeutered Male\n",
    "# A352872\tDog\t2015-07-09 17:51:00\tAged\tPeanutbutter\tNeutered Male\n",
    "# A353259\tDog\t2016-05-08 12:57:00\tInjured\tBj\tNeutered Male\n",
    "# A373219\tCat\t2014-07-29 11:43:00\tNormal\tElla\tSpayed Female\n",
    "# A382192\tDog\t2015-03-13 13:14:00\tNormal\tMaxwell 2\tIntact Male\n",
    "# 이름에 'el'이 들어가는 동물은 Elijah, Ella, Maxwell 2입니다.\n",
    "# 이 중, 개는 Elijah, Maxwell 2입니다.\n",
    "# 따라서 SQL문을 실행하면 다음과 같이 나와야 합니다.\n",
    "\n",
    "# ANIMAL_ID\tNAME\n",
    "# A355753\tElijah\n",
    "# A382192\tMaxwell 2"
   ]
  },
  {
   "cell_type": "code",
   "execution_count": null,
   "id": "c40b26b6-cc4c-4681-9164-79420bff9980",
   "metadata": {},
   "outputs": [],
   "source": [
    "SELECT ANIMAL_ID, NAME FROM ANIMAL_INS\n",
    "WHERE NAME LIKE '%el%' AND ANIMAL_TYPE = 'Dog'\n",
    "GROUP BY ANIMAL_ID, NAME\n",
    "ORDER BY NAME;"
   ]
  },
  {
   "cell_type": "code",
   "execution_count": null,
   "id": "ca117a6f-0b35-44c9-a4ac-32f0d93170b3",
   "metadata": {},
   "outputs": [],
   "source": [
    "# 문제 설명(동물 수 구하기)\n",
    "# ANIMAL_INS 테이블은 동물 보호소에 들어온 동물의 정보를 담은 테이블입니다. ANIMAL_INS 테이블 구조는 다음과 같으며, ANIMAL_ID, ANIMAL_TYPE, DATETIME, INTAKE_CONDITION, NAME, SEX_UPON_INTAKE는 각각 동물의 아이디, 생물 종, 보호 시작일, 보호 시작 시 상태, 이름, 성별 및 중성화 여부를 나타냅니다.\n",
    "\n",
    "# NAME\tTYPE\tNULLABLE\n",
    "# ANIMAL_ID\tVARCHAR(N)\tFALSE\n",
    "# ANIMAL_TYPE\tVARCHAR(N)\tFALSE\n",
    "# DATETIME\tDATETIME\tFALSE\n",
    "# INTAKE_CONDITION\tVARCHAR(N)\tFALSE\n",
    "# NAME\tVARCHAR(N)\tTRUE\n",
    "# SEX_UPON_INTAKE\tVARCHAR(N)\tFALSE\n",
    "# 동물 보호소에 동물이 몇 마리 들어왔는지 조회하는 SQL 문을 작성해주세요.\n",
    "\n",
    "# 예시\n",
    "# 예를 들어 ANIMAL_INS 테이블이 다음과 같다면\n",
    "\n",
    "# ANIMAL_ID\tANIMAL_TYPE\tDATETIME\tINTAKE_CONDITION\tNAME\tSEX_UPON_INTAKE\n",
    "# A399552\tDog\t2013-10-14 15:38:00\tNormal\tJack\tNeutered Male\n",
    "# A379998\tDog\t2013-10-23 11:42:00\tNormal\tDisciple\tIntact Male\n",
    "# A370852\tDog\t2013-11-03 15:04:00\tNormal\tKatie\tSpayed Female\n",
    "# A403564\tDog\t2013-11-18 17:03:00\tNormal\tAnna\tSpayed Female\n",
    "# 동물 보호소에 들어온 동물은 4마리입니다. 따라서 SQL문을 실행하면 다음과 같이 나와야 합니다.\n",
    "\n",
    "# count\n",
    "# 4\n",
    "# ※ 컬럼 이름(위 예제에서는 count)은 일치하지 않아도 됩니다."
   ]
  },
  {
   "cell_type": "code",
   "execution_count": null,
   "id": "29253732-49ff-4158-8781-e86111e3c2f2",
   "metadata": {},
   "outputs": [],
   "source": [
    "SELECT count(*) as count FROM ANIMAL_INS;"
   ]
  },
  {
   "cell_type": "code",
   "execution_count": null,
   "id": "ba2a740c-6e93-4aaa-ac70-93649599ef13",
   "metadata": {},
   "outputs": [],
   "source": [
    "# 문제설명(중복 제거하기)\n",
    "# 동물 보호소에 들어온 동물의 이름은 몇 개인지 조회하는 SQL 문을 작성해주세요. 이때 이름이 NULL인 경우는 집계하지 않으며 중복되는 이름은 하나로 칩니다.\n",
    "\n",
    "# 예시\n",
    "# 예를 들어 ANIMAL_INS 테이블이 다음과 같다면\n",
    "\n",
    "# ANIMAL_ID\tANIMAL_TYPE\tDATETIME\tINTAKE_CONDITION\tNAME\tSEX_UPON_INTAKE\n",
    "# A562649\tDog\t2014-03-20 18:06:00\tSick\tNULL\tSpayed Female\n",
    "# A412626\tDog\t2016-03-13 11:17:00\tNormal\t*Sam\tNeutered Male\n",
    "# A563492\tDog\t2014-10-24 14:45:00\tNormal\t*Sam\tNeutered Male\n",
    "# A513956\tDog\t2017-06-14 11:54:00\tNormal\t*Sweetie\tSpayed Female\n",
    "# 보호소에 들어온 동물의 이름은 NULL(없음), *Sam, *Sam, *Sweetie입니다. 이 중 NULL과 중복되는 이름을 고려하면, 보호소에 들어온 동물 이름의 수는 2입니다. 따라서 SQL문을 실행하면 다음과 같이 나와야 합니다.\n",
    "\n",
    "# count\n",
    "# 2\n",
    "# ※ 컬럼 이름(위 예제에서는 count)은 일치하지 않아도 됩니다."
   ]
  },
  {
   "cell_type": "code",
   "execution_count": null,
   "id": "3ba425a6-2555-4b6b-a0d7-5caaa44a2426",
   "metadata": {},
   "outputs": [],
   "source": [
    "SELECT COUNT(DISTINCT NAME) AS count FROM ANIMAL_INS;"
   ]
  },
  {
   "cell_type": "code",
   "execution_count": null,
   "id": "bf13e950-a366-4298-b1e8-da882c6e92fd",
   "metadata": {},
   "outputs": [],
   "source": [
    "# 문제설명(3월에 태어난 여성 회원 목록 출력하기)\n",
    "# MEMBER_PROFILE 테이블에서 생일이 3월인 여성 회원의 ID, 이름, 성별, 생년월일을 조회하는 SQL문을 작성해주세요. 이때 전화번호가 NULL인 경우는 출력대상에서 제외시켜 주시고, 결과는 회원ID를 기준으로 오름차순 정렬해주세요.\n",
    "\n",
    "# 예시\n",
    "# MEMBER_PROFILE 테이블이 다음과 같을 때\n",
    "\n",
    "# MEMBER_ID\tMEMBER_NAME\tTLNO\tGENDER\tDATE_OF_BIRTH\n",
    "# jiho92@naver.com\t이지호\t01076432111\tW\t1992-02-12\n",
    "# jiyoon22@hotmail.com\t김지윤\t01032324117\tW\t1992-02-22\n",
    "# jihoon93@hanmail.net\t김지훈\t01023258688\tM\t1993-02-23\n",
    "# seoyeons@naver.com\t박서연\t01076482209\tW\t1993-03-16\n",
    "# yoonsy94@gmail.com\t윤서연\tNULL\tW\t1994-03-19\n",
    "# SQL을 실행하면 다음과 같이 출력되어야 합니다.\n",
    "\n",
    "# MEMBER_ID\tMEMBER_NAME\tGENDER\tDATE_OF_BIRTH\n",
    "# seoyeons@naver.com\t박서연\tW\t1993-03-16\n"
   ]
  },
  {
   "cell_type": "code",
   "execution_count": null,
   "id": "9bc7317d-8be9-4239-929c-a4db786cf136",
   "metadata": {},
   "outputs": [],
   "source": [
    "SELECT MEMBER_ID, MEMBER_NAME, GENDER, DATE_FORMAT(DATE_OF_BIRTH, '%Y-%m-%d') as DATE_OF_BIRTH\n",
    "FROM MEMBER_PROFILE\n",
    "WHERE MONTH(DATE_OF_BIRTH) = 3 AND TLNO IS NOT NULL AND GENDER = 'W'\n",
    "ORDER BY MEMBER_ID ASC;"
   ]
  },
  {
   "cell_type": "code",
   "execution_count": null,
   "id": "a8d9e689-a63b-49f2-8396-efe59d57ad02",
   "metadata": {},
   "outputs": [],
   "source": [
    "# 문제설명(가격대 별 상품 개수 구하기)\n",
    "# PRODUCT 테이블에서 만원 단위의 가격대 별로 상품 개수를 출력하는 SQL 문을 작성해주세요. 이때 컬럼명은 각각 컬럼명은 PRICE_GROUP, PRODUCTS로 지정해주시고 가격대 정보는 각 구간의 최소금액(10,000원 이상 ~ 20,000 미만인 구간인 경우 10,000)으로 표시해주세요. 결과는 가격대를 기준으로 오름차순 정렬해주세요.\n",
    "\n",
    "# 예시\n",
    "# 예를 들어 PRODUCT 테이블이 다음과 같다면\n",
    "\n",
    "# PRODUCT_ID\tPRODUCT_CODE\tPRICE\n",
    "# 1\tA1000011\t10000\n",
    "# 2\tA1000045\t9000\n",
    "# 3\tC3000002\t22000\n",
    "# 4\tC3000006\t15000\n",
    "# 5\tC3000010\t30000\n",
    "# 6\tK1000023\t17000\n",
    "# 만원 단위의 가격대 별로 상품을 나누면\n",
    "\n",
    "# 가격대가 0원 ~ 1만원 미만인 상품은 PRODUCT_ID 가 2인 상품 1개,\n",
    "# 가격대가 1만원 이상 ~ 2만원 미만인 상품들은 PRODUCT_ID 가 1, 4, 6인 상품 3개,\n",
    "# 가격대가 2만원 이상 ~ 3만원 미만인 상품은 PRODUCT_ID 가 3인 상품 1개,\n",
    "# 가격대가 3만원 이상 ~ 4만원 미만인 상품은 PRODUCT_ID 가 5인 상품 1개,\n",
    "# 에 각각 해당하므로 다음과 같이 결과가 나와야 합니다.\n",
    "\n",
    "# PRICE_GROUP\tPRODUCTS\n",
    "# 0\t1\n",
    "# 10000\t3\n",
    "# 20000\t1\n",
    "# 30000\t1"
   ]
  },
  {
   "cell_type": "markdown",
   "id": "cd15ae85-c30c-4486-bf5b-f883107f90f0",
   "metadata": {},
   "source": [
    "| 함수                     | 설명     | 예시(`2.53`) | 비고         |\n",
    "| ---------------------- | ------ | ---------- | ---------- |\n",
    "| `FLOOR()`              | 소수점 버림 | 2          | 하한(작거나 같은) |\n",
    "| `CEIL()` / `CEILING()` | 소수점 올림 | 3          | 상한(크거나 같은) |\n",
    "| `ROUND()`              | 반올림    | 3          | 표준 반올림     |\n"
   ]
  },
  {
   "cell_type": "code",
   "execution_count": null,
   "id": "81504d5d-3559-4721-8fcb-b0c03c01e188",
   "metadata": {},
   "outputs": [],
   "source": [
    "# FLOOR: 가격대를 1만 원 단위로 버림\n",
    "# 1. 가격을 10 000으로 나누어 1만 원 단위가 몇 번 들어가는지를 구함\n",
    "# 2. 소수점 이하를 버려 정수만 남김\n",
    "# 3. 다시 1만 원을 곱해 가격 환산\n",
    "SELECT FLOOR(PRICE/10000)*10000 AS PRICE_GROUP, COUNT(*) AS PRODUCTS FROM PRODUCT\n",
    "GROUP BY PRICE_GROUP\n",
    "ORDER BY PRICE_GROUP ASC;"
   ]
  }
 ],
 "metadata": {
  "kernelspec": {
   "display_name": "Python 3 (ipykernel)",
   "language": "python",
   "name": "python3"
  },
  "language_info": {
   "codemirror_mode": {
    "name": "ipython",
    "version": 3
   },
   "file_extension": ".py",
   "mimetype": "text/x-python",
   "name": "python",
   "nbconvert_exporter": "python",
   "pygments_lexer": "ipython3",
   "version": "3.8.20"
  }
 },
 "nbformat": 4,
 "nbformat_minor": 5
}
