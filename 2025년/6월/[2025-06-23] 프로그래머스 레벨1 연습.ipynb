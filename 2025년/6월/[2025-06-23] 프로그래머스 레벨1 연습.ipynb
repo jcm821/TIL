{
 "cells": [
  {
   "cell_type": "code",
   "execution_count": null,
   "id": "4a7becf4-0f83-4ae6-a6cd-35511f7c9dd9",
   "metadata": {},
   "outputs": [],
   "source": [
    "# 문제 설명(조건에 맞는 아이템들의 가격의 총합 구하기)\n",
    "# 문제\n",
    "# ITEM_INFO 테이블에서 희귀도가 'LEGEND'인 아이템들의 가격의 총합을 구하는 SQL문을 작성해 주세요. 이때 컬럼명은 'TOTAL_PRICE'로 지정해 주세요.\n",
    "\n",
    "# 예시\n",
    "# 예를 들어 ITEM_INFO 테이블이 다음과 같다면\n",
    "\n",
    "# ITEM_ID\tITEM_NAME\tRARITY\tPRICE\n",
    "# 0\tITEM_A\tCOMMON\t10000\n",
    "# 1\tITEM_B\tLEGEND\t9000\n",
    "# 2\tITEM_C\tLEGEND\t11000\n",
    "# 3\tITEM_D\tUNIQUE\t10000\n",
    "# 4\tITEM_E\tLEGEND\t12000\n",
    "# 조건에 해당되는 아이템의 아이템 ID는 1, 2, 4이며 각 아이템들의 가격은 9000, 11000, 12000 이므로 조건에 해당되는 아이템들의 가격의 합은 다음과 같습니다.\n",
    "\n",
    "# TOTAL_PRICE\n",
    "# 32000"
   ]
  },
  {
   "cell_type": "code",
   "execution_count": null,
   "id": "8ed47988-6006-4076-9949-4d61dcc0dc67",
   "metadata": {},
   "outputs": [],
   "source": [
    "SELECT SUM(PRICE) AS TOTAL_PRICE\n",
    "FROM ITEM_INFO\n",
    "WHERE RARITY = 'LEGEND';"
   ]
  },
  {
   "cell_type": "code",
   "execution_count": null,
   "id": "0b0c1e9d-a680-405d-bdee-6aadc8260ef1",
   "metadata": {},
   "outputs": [],
   "source": [
    "# 문제\n",
    "# ROOT 아이템을 찾아 아이템 ID(ITEM_ID), 아이템 명(ITEM_NAME)을 출력하는 SQL문을 작성해 주세요. 이때, 결과는 아이템 ID를 기준으로 오름차순 정렬해 주세요.\n",
    "\n",
    "# 예시\n",
    "# 예를 들어 ITEM_INFO 테이블이 다음과 같고\n",
    "\n",
    "# ITEM_ID\tITEM_NAME\tRARITY\tPRICE\n",
    "# 0\tITEM_A\tCOMMON\t10000\n",
    "# 1\tITEM_B\tLEGEND\t9000\n",
    "# 2\tITEM_C\tLEGEND\t11000\n",
    "# 3\tITEM_D\tUNIQUE\t10000\n",
    "# 4\tITEM_E\tLEGEND\t12000\n",
    "# ITEM_TREE 테이블이 다음과 같다면\n",
    "\n",
    "# ITEM_ID\tPARENT_ITEM_ID\n",
    "# 0\tNULL\n",
    "# 1\t0\n",
    "# 2\t0\n",
    "# 3\tNULL\n",
    "# 4\t3\n",
    "# ROOT 아이템의 아이템 ID는 PARENT 아이템 ID(PARENT_ITEM_ID)가 NULL 인 0, 3 이므로 SQL문을 실행하면 다음과 같은 결과가 나와야 합니다.\n",
    "\n",
    "# ITEM_ID\tITEM_NAME\n",
    "# 0\tITEM_A\n",
    "# 3\tITEM_D"
   ]
  },
  {
   "cell_type": "code",
   "execution_count": null,
   "id": "d8f69b4c-c218-4e3c-8994-fb030d05eb08",
   "metadata": {},
   "outputs": [],
   "source": [
    "SELECT A.ITEM_ID AS ITEM_ID, A.ITEM_NAME AS ITEM_NAME\n",
    "FROM ITEM_INFO A\n",
    "INNER JOIN ITEM_TREE B\n",
    "ON A.ITEM_ID = B.ITEM_ID\n",
    "WHERE B.PARENT_ITEM_ID IS NULL\n",
    "ORDER BY ITEM_ID;"
   ]
  },
  {
   "cell_type": "code",
   "execution_count": null,
   "id": "0e20dfe8-c65a-40e1-8a28-2c9eeba0dcf4",
   "metadata": {},
   "outputs": [],
   "source": [
    "# 문제 설명(업그레이드 된 아이템 구하기)\n",
    "# 문제\n",
    "# 아이템의 희귀도가 'RARE'인 아이템들의 모든 다음 업그레이드 아이템의 아이템 ID(ITEM_ID), 아이템 명(ITEM_NAME), 아이템의 희귀도(RARITY)를 출력하는 SQL 문을 작성해 주세요. 이때 결과는 아이템 ID를 기준으로 내림차순 정렬주세요.\n",
    "\n",
    "# 예시\n",
    "# 예를 들어 ITEM_INFO 테이블이 다음과 같고\n",
    "\n",
    "# ITEM_ID\tITEM_NAME\tRARITY\tPRICE\n",
    "# 0\tITEM_A\tRARE\t10000\n",
    "# 1\tITEM_B\tRARE\t9000\n",
    "# 2\tITEM_C\tLEGEND\t11000\n",
    "# 3\tITEM_D\tRARE\t10000\n",
    "# 4\tITEM_E\tRARE\t12000\n",
    "# ITEM_TREE 테이블이 다음과 같다면\n",
    "\n",
    "# ITEM_ID\tPARENT_ITEM_ID\n",
    "# 0\tNULL\n",
    "# 1\t0\n",
    "# 2\t0\n",
    "# 3\t1\n",
    "# 4\t1\n",
    "# 아이템의 희귀도가 'RARE'인 아이템은 'ITEM_A', 'ITEM_B', 'ITEM_D', 'ITEM_E' 입니다.\n",
    "# 이 중 'ITEM_A' 는 'ITEM_B', 'ITEM_C' 로 업그레이드가 가능하며 'ITEM_B' 는 'ITEM_D' , 'ITEM_E' 로 업그레이드가 가능합니다. 'ITEM_D' 와 'ITEM_E'는 더 이상 업그레이드가 가능하지 않습니다. 따라서 결과는 다음과 같이 나와야 합니다.\n",
    "\n",
    "# ITEM_ID\tITEM_NAME\tRARITY\n",
    "# 4\tITEM_E\tRARE\n",
    "# 3\tITEM_D\tRARE\n",
    "# 2\tITEM_C\tLEGEND\n",
    "# 1\tITEM_B\tRARE"
   ]
  },
  {
   "cell_type": "code",
   "execution_count": null,
   "id": "50ec424d-6d26-48fa-a527-078015147e3a",
   "metadata": {},
   "outputs": [],
   "source": [
    "# 서브쿼리 활용\n",
    "SELECT A.ITEM_ID, A.ITEM_NAME, A.RARITY\n",
    "FROM ITEM_INFO A\n",
    "INNER JOIN ITEM_TREE B\n",
    "ON A.ITEM_ID = B.ITEM_ID\n",
    "WHERE B.PARENT_ITEM_ID IN(\n",
    "    SELECT ITEM_ID\n",
    "    FROM ITEM_INFO\n",
    "    WHERE RARITY = 'RARE'\n",
    "    )\n",
    "ORDER BY B.ITEM_ID DESC"
   ]
  },
  {
   "cell_type": "code",
   "execution_count": null,
   "id": "006a9ef5-65f3-4fe8-a655-24bc6e418bf5",
   "metadata": {},
   "outputs": [],
   "source": [
    "# 문제 설명(업그레이드 할 수 없는 아이템 구하기)\n",
    "# 문제\n",
    "# 더 이상 업그레이드할 수 없는 아이템의 아이템 ID(ITEM_ID), 아이템 명(ITEM_NAME), 아이템의 희귀도(RARITY)를 출력하는 SQL 문을 작성해 주세요. 이때 결과는 아이템 ID를 기준으로 내림차순 정렬해 주세요.\n",
    "\n",
    "# 예시\n",
    "# 예를 들어 ITEM_INFO 테이블이 다음과 같고\n",
    "\n",
    "# ITEM_ID\tITEM_NAME\tRARITY\tPRICE\n",
    "# 0\tITEM_A\tRARE\t10000\n",
    "# 1\tITEM_B\tRARE\t9000\n",
    "# 2\tITEM_C\tLEGEND\t11000\n",
    "# 3\tITEM_D\tRARE\t10000\n",
    "# 4\tITEM_E\tRARE\t12000\n",
    "# ITEM_TREE 테이블이 다음과 같다면\n",
    "\n",
    "# ITEM_ID\tPARENT_ITEM_ID\n",
    "# 0\tNULL\n",
    "# 1\t0\n",
    "# 2\t0\n",
    "# 3\t1\n",
    "# 4\t1\n",
    "# 'ITEM_A' 는 'ITEM_B', 'ITEM_C' 로 업그레이드가 가능하며 'ITEM_B' 는 'ITEM_D', 'ITEM_E' 로 업그레이드가 가능합니다. 'ITEM_C', 'ITEM_D', 'ITEM_E' 는 더 이상 업그레이드가 가능하지 않으므로 결과는 다음과 같이 나와야 합니다.\n",
    "\n",
    "# ITEM_ID\tITEM_NAME\tRARITY\n",
    "# 4\tITEM_E\tRARE\n",
    "# 3\tITEM_D\tRARE\n",
    "# 2\tITEM_C\tLEGEND"
   ]
  },
  {
   "cell_type": "code",
   "execution_count": null,
   "id": "25a83195-8f3b-4e61-b92d-3da7423ce201",
   "metadata": {},
   "outputs": [],
   "source": [
    "# sol1\n",
    "# 서브쿼리\n",
    "SELECT ITEM_ID, ITEM_NAME, RARITY\n",
    "FROM ITEM_INFO\n",
    "WHERE ITEM_ID NOT IN (SELECT PARENT_ITEM_ID\n",
    "                     FROM ITEM_TREE WHERE NOT ISNULL(PARENT_ITEM_ID))\n",
    "ORDER BY ITEM_ID DESC;"
   ]
  },
  {
   "cell_type": "code",
   "execution_count": null,
   "id": "d11be713-8315-4162-aabc-4cd8bf2504ee",
   "metadata": {},
   "outputs": [],
   "source": [
    "# sol2\n",
    "# 서브쿼리, EXISTS 사용\n",
    "SELECT ITEM_ID, ITEM_NAME, RARITY\n",
    "FROM ITEM_INFO A\n",
    "WHERE NOT EXISTS (SELECT\n",
    "                  * FROM ITEM_TREE B\n",
    "                 WHERE B.PARENT_ITEM_ID = A.ITEM_ID)\n",
    "ORDER BY ITEM_ID DESC;"
   ]
  }
 ],
 "metadata": {
  "kernelspec": {
   "display_name": "Python 3 (ipykernel)",
   "language": "python",
   "name": "python3"
  },
  "language_info": {
   "codemirror_mode": {
    "name": "ipython",
    "version": 3
   },
   "file_extension": ".py",
   "mimetype": "text/x-python",
   "name": "python",
   "nbconvert_exporter": "python",
   "pygments_lexer": "ipython3",
   "version": "3.8.20"
  }
 },
 "nbformat": 4,
 "nbformat_minor": 5
}
