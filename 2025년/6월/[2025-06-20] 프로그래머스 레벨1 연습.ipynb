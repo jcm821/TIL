{
 "cells": [
  {
   "cell_type": "code",
   "execution_count": null,
   "id": "12b84c91-03a0-4db9-9599-7062391dfcce",
   "metadata": {},
   "outputs": [],
   "source": [
    "# 문제 설명(약수의 갯수와 덧셈)\n",
    "# 두 정수 left와 right가 매개변수로 주어집니다. left부터 right까지의 모든 수들 중에서, 약수의 개수가 짝수인 수는 더하고, 약수의 개수가 홀수인 수는 뺀 수를 return 하도록 solution 함수를 완성해주세요.\n",
    "\n",
    "# 제한사항\n",
    "# 1 ≤ left ≤ right ≤ 1,000\n",
    "# 입출력 예\n",
    "# left\tright\tresult\n",
    "# 13\t17\t43\n",
    "# 24\t27\t52"
   ]
  },
  {
   "cell_type": "code",
   "execution_count": null,
   "id": "02f7ed28-0154-432f-9694-88211419f31c",
   "metadata": {},
   "outputs": [],
   "source": [
    "# 문제 요약\n",
    "# 어떤 수의 약수 개수가 홀수인 경우는 그 수가 \"제곱수\"일 때만 가능\n",
    "# 예를 들어:\n",
    "# 4의 약수: 1, 2, 4 → 총 3개 (홀수)\n",
    "# 9의 약수: 1, 3, 9 → 총 3개 (홀수)\n",
    "# 그 외의 숫자는 약수가 항상 짝수 개로 쌍을 이룹니다."
   ]
  },
  {
   "cell_type": "code",
   "execution_count": null,
   "id": "700c6ed3-42d6-4096-8add-fd79820c1915",
   "metadata": {},
   "outputs": [],
   "source": [
    "# sol1\n",
    "def solution(left, right):\n",
    "    answer = 0\n",
    "    # left부터 right까지 1씩 증가하는 for문\n",
    "    for i in range(left, right + 1):\n",
    "        # 약수의 개수를 담기 위한 변수\n",
    "        now_count = 0\n",
    "        # 1부터 i까지 증가하며 약수를 찾아냄\n",
    "        for j in range(1, i + 1):\n",
    "            # 나누어 떨어지는 수는 약수\n",
    "            if i % j == 0:\n",
    "                now_count += 1\n",
    "                \n",
    "        # 이제 개수가 홀수인지 짝수이지 판별\n",
    "        if now_count % 2 == 0:\n",
    "            answer += i\n",
    "        else:\n",
    "            answer -= i\n",
    "\n",
    "    return answer"
   ]
  },
  {
   "cell_type": "code",
   "execution_count": null,
   "id": "1587db8f-5491-47f1-9949-380811ae56ea",
   "metadata": {},
   "outputs": [],
   "source": [
    "# sol2\n",
    "def solution(left, right):\n",
    "    answer = 0\n",
    "    for i in range(left, right + 1):\n",
    "        # c = 약수의 개수, j = 약수\n",
    "        c, j = 0, 1\n",
    "        # 약수의 개수를 구하는 과정\n",
    "        while j <= i:\n",
    "            if i % j == 0:\n",
    "                c += 1\n",
    "            j += 1\n",
    "            \n",
    "        if c % 2 == 0:\n",
    "            answer += i\n",
    "        else:\n",
    "            answer -= i\n",
    "            \n",
    "    return answer"
   ]
  },
  {
   "cell_type": "code",
   "execution_count": null,
   "id": "209b1623-df64-4064-bd40-25e6b22ff7ac",
   "metadata": {},
   "outputs": [],
   "source": [
    "# sol3\n",
    "def solution(left, right):\n",
    "    answer = 0\n",
    "    for i in range(left,right+1):\n",
    "        # i ** 0.5는 i의 제곱근이고, 이것이 정수이면 제곱수\n",
    "        if int(i**0.5)==i**0.5:\n",
    "            answer -= i\n",
    "        else:\n",
    "            answer += i\n",
    "    return answer"
   ]
  },
  {
   "cell_type": "code",
   "execution_count": null,
   "id": "1172d913-a51c-43d9-b67f-b16180425918",
   "metadata": {},
   "outputs": [],
   "source": [
    "# 문제 설명(숫자 문자열과 영단어)\n",
    "\n",
    "# 네오와 프로도가 숫자놀이를 하고 있습니다. 네오가 프로도에게 숫자를 건넬 때 일부 자릿수를 영단어로 바꾼 카드를 건네주면 프로도는 원래 숫자를 찾는 게임입니다.\n",
    "# 다음은 숫자의 일부 자릿수를 영단어로 바꾸는 예시입니다.\n",
    "\n",
    "# 1478 → \"one4seveneight\"\n",
    "# 234567 → \"23four5six7\"\n",
    "# 10203 → \"1zerotwozero3\"\n",
    "# 이렇게 숫자의 일부 자릿수가 영단어로 바뀌어졌거나, 혹은 바뀌지 않고 그대로인 문자열 s가 매개변수로 주어집니다. s가 의미하는 원래 숫자를 return 하도록 solution 함수를 완성해주세요.\n",
    "\n",
    "# 참고로 각 숫자에 대응되는 영단어는 다음 표와 같습니다.\n",
    "\n",
    "# 숫자\t영단어\n",
    "# 0\tzero\n",
    "# 1\tone\n",
    "# 2\ttwo\n",
    "# 3\tthree\n",
    "# 4\tfour\n",
    "# 5\tfive\n",
    "# 6\tsix\n",
    "# 7\tseven\n",
    "# 8\teight\n",
    "# 9\tnine\n",
    "# 제한사항\n",
    "# 1 ≤ s의 길이 ≤ 50\n",
    "# s가 \"zero\" 또는 \"0\"으로 시작하는 경우는 주어지지 않습니다.\n",
    "# return 값이 1 이상 2,000,000,000 이하의 정수가 되는 올바른 입력만 s로 주어집니다.\n"
   ]
  },
  {
   "cell_type": "code",
   "execution_count": null,
   "id": "f704a3e2-b00e-4e72-aa8b-ad85522a6ce5",
   "metadata": {},
   "outputs": [],
   "source": [
    "# 문제 요약\n",
    "# 문자열 s에는 숫자 (0~9)와 영단어 (zero ~ nine)가 섞여 있을 수 있고,\n",
    "# 이를 숫자로 변환한 정수로 리턴"
   ]
  },
  {
   "cell_type": "code",
   "execution_count": null,
   "id": "77bba873-e633-404c-9cf1-cbbd879b7ebe",
   "metadata": {},
   "outputs": [],
   "source": [
    "# enumerate(): 반복 가능한 객체(iterable)에서 인덱스와 값을 동시에 얻을 수 있게 해주는 내장 함수\n",
    "# 예시\n",
    "# fruits = ['apple', 'banana', 'cherry']\n",
    "\n",
    "# for i, fruit in enumerate(fruits):\n",
    "#     print(i, fruit)\n",
    "# 결과\n",
    "# 0 apple\n",
    "# 1 banana\n",
    "# 2 cherry"
   ]
  },
  {
   "cell_type": "code",
   "execution_count": null,
   "id": "e5478b14-65b0-4801-bf19-6ca5875e3c27",
   "metadata": {},
   "outputs": [],
   "source": [
    "# items(): 딕셔너리의 키와 값을 쌍으로 반환하는 메서드\n",
    "# 반복문에서 딕셔너리의 key-value 쌍을 동시에 다루고 싶을 때 사용\n",
    "# 예시\n",
    "# person = {'name': 'Alice', 'age': 25, 'job': 'developer'}\n",
    "\n",
    "# for key, value in person.items():\n",
    "#     print(f\"{key}: {value}\")\n",
    "# 결과\n",
    "# name: Alice\n",
    "# age: 25\n",
    "# job: developer"
   ]
  },
  {
   "cell_type": "code",
   "execution_count": null,
   "id": "6c6ac2e2-7b29-4a12-b43e-0ec0199264a1",
   "metadata": {},
   "outputs": [],
   "source": [
    "# sol1\n",
    "def solution(s):\n",
    "    dic = ['zero', 'one', 'two', 'three', 'four', 'five', 'six', 'seven', 'eight', 'nine']\n",
    "    # enumerate(nums)를 이용해 i는 숫자(0~9), j는 해당하는 영단어\n",
    "    # enumerate로 숫자와 영단어 매핑 처리\n",
    "    for i, j in enumerate(dic):\n",
    "        s = s.replace(j, str(i))\n",
    "    return int(s)"
   ]
  },
  {
   "cell_type": "code",
   "execution_count": null,
   "id": "8e882086-c1fa-4b0a-aa1b-d8e34a1d974f",
   "metadata": {},
   "outputs": [],
   "source": [
    "# sol2\n",
    "num_dic = {\"zero\":\"0\", \"one\":\"1\", \"two\":\"2\", \"three\":\"3\", \"four\":\"4\",\n",
    "           \"five\":\"5\", \"six\":\"6\", \"seven\":\"7\", \"eight\":\"8\", \"nine\":\"9\"}\n",
    "\n",
    "def solution(s):\n",
    "    answer = s\n",
    "    # 문자열 answer에서 key(영단어)를 value(숫자 문자열)로 바꿈\n",
    "    for key, value in num_dic.items():\n",
    "        answer = answer.replace(key, value)\n",
    "    return int(answer)"
   ]
  },
  {
   "cell_type": "code",
   "execution_count": null,
   "id": "92e16b80-79f0-4cf3-9d2d-d2fc05027042",
   "metadata": {},
   "outputs": [],
   "source": [
    "# 문제 설명: 조건에 맞는 사용자 정보 조회하기\n",
    "# 문제\n",
    "# USED_GOODS_BOARD와 USED_GOODS_USER 테이블에서 중고 거래 게시물을 3건 이상 등록한 사용자의 사용자 ID, 닉네임, 전체주소, 전화번호를 조회하는 SQL문을 작성해주세요. 이때, 전체 주소는 시, 도로명 주소, 상세 주소가 함께 출력되도록 해주시고, 전화번호의 경우 xxx-xxxx-xxxx 같은 형태로 하이픈 문자열(-)을 삽입하여 출력해주세요. 결과는 회원 ID를 기준으로 내림차순 정렬해주세요.\n",
    "\n",
    "# 예시\n",
    "# USED_GOODS_BOARD 테이블이 다음과 같고\n",
    "\n",
    "# BOARD_ID\tWRITER_ID\tTITLE\tCONTENTS\tPRICE\tCREATED_DATE\tSTATUS\tVIEWS\n",
    "# B0001\tdhfkzmf09\t칼라거펠트 코트\t양모 70%이상 코트입니다.\t120000\t2022-10-14\tDONE\t104\n",
    "# B0002\tlee871201\t국내산 볶음참깨\t직접 농사지은 참깨입니다.\t3000\t2022-10-02\tDONE\t121\n",
    "# B0003\tdhfkzmf09\t나이키 숏패팅\t사이즈는 M입니다.\t40000\t2022-10-17\tDONE\t98\n",
    "# B0004\tkwag98\t반려견 배변패드 팝니다\t정말 저렴히 판매합니다. 전부 미개봉 새상품입니다.\t12000\t2022-10-01\tDONE\t250\n",
    "# B0005\tdhfkzmf09\tPS4\tPS5 구매로인해 팝니다.\t250000\t2022-11-03\tDONE\t111\n",
    "# USED_GOODS_USER 테이블이 다음과 같을 때\n",
    "\n",
    "# USER_ID\tNICKNAME\tCITY\tSTREET_ADDRESS1\tSTREET_ADDRESS2\tTLNO\n",
    "# dhfkzmf09\t찐찐\t성남시\t분당구 수내로 13\tA동 1107호\t01053422914\n",
    "# dlPcks90\t썹썹\t성남시\t분당구 수내로 74\t401호\t01034573944\n",
    "# cjfwls91\t점심만금식\t성남시\t분당구 내정로 185\t501호\t01036344964\n",
    "# dlfghks94\t희망\t성남시\t분당구 내정로 101\t203동 102호\t01032634154\n",
    "# rkdhs95\t용기\t성남시\t분당구 수내로 23\t501호\t01074564564\n",
    "# SQL을 실행하면 다음과 같이 출력되어야 합니다.\n",
    "\n",
    "# USER_ID\tNICKNAME\t전체주소\t전화번호\n",
    "# dhfkzmf09\t찐찐\t성남시 분당구 수내로 13 A동 1107호\t010-5342-2914"
   ]
  },
  {
   "cell_type": "code",
   "execution_count": null,
   "id": "99eb7c39-12b2-414e-8601-0602adfceaaf",
   "metadata": {},
   "outputs": [],
   "source": [
    "# concat와 substring 활용\n",
    "SELECT A.USER_ID AS USER_ID, A.NICKNAME AS NICKNAME,\n",
    "CONCAT(A.CITY, ' ', A.STREET_ADDRESS1, ' ', A.STREET_ADDRESS2) AS 전체주소,\n",
    "CONCAT(SUBSTRING(A.TLNO, 1, 3), '-', SUBSTRING(A.TLNO, 4, 4), '-', SUBSTRING(A.TLNO, 8, 4)) AS 전화번호\n",
    "FROM USED_GOODS_USER A\n",
    "INNER JOIN USED_GOODS_BOARD B\n",
    "ON A.USER_ID = B.WRITER_ID\n",
    "GROUP BY USER_ID HAVING COUNT(B.BOARD_ID) >= 3\n",
    "ORDER BY USER_ID DESC;"
   ]
  },
  {
   "cell_type": "code",
   "execution_count": null,
   "id": "ad82655f-227b-4990-b02b-d3462aaa41dc",
   "metadata": {},
   "outputs": [],
   "source": [
    "# 문제 설명(조회수가 가장 많은 중고거래 게시판의 첨부파일 조회하기)\n",
    "# 문제\n",
    "# USED_GOODS_BOARD와 USED_GOODS_FILE 테이블에서 조회수가 가장 높은 중고거래 게시물에 대한 첨부파일 경로를 조회하는 SQL문을 작성해주세요. 첨부파일 경로는 FILE ID를 기준으로 내림차순 정렬해주세요. 기본적인 파일경로는 /home/grep/src/ 이며, 게시글 ID를 기준으로 디렉토리가 구분되고, 파일이름은 파일 ID, 파일 이름, 파일 확장자로 구성되도록 출력해주세요. 조회수가 가장 높은 게시물은 하나만 존재합니다.\n",
    "\n",
    "# 예시\n",
    "# USED_GOODS_BOARD 테이블이 다음과 같고\n",
    "\n",
    "# BOARD_ID\tWRITER_ID\tTITLE\tCONTENTS\tPRICE\tCREATED_DATE\tSTATUS\tVIEWS\n",
    "# B0001\tkwag98\t반려견 배변패드 팝니다\t정말 저렴히 판매합니다. 전부 미개봉 새상품입니다.\t12000\t2022-10-01\tDONE\t250\n",
    "# B0002\tlee871201\t국내산 볶음참깨\t직접 농사지은 참깨입니다.\t3000\t2022-10-02\tDONE\t121\n",
    "# B0003\tgoung12\t배드민턴 라켓\t사놓고 방치만 해서 팝니다.\t9000\t2022-10-02\tSALE\t212\n",
    "# B0004\tkeel1990\t디올 귀걸이\t신세계강남점에서 구입. 정품 아닐시 백퍼센트 환불\t130000\t2022-10-02\tSALE\t199\n",
    "# B0005\thaphli01\t스팸클래식 팔아요\t유통기한 2025년까지에요\t10000\t2022-10-02\tSALE\t121\n",
    "# USED_GOODS_FILE 테이블이 다음과 같을 때\n",
    "\n",
    "# FILE_ID\tFILE_EXT\tFILE_NAME\tBOARD_ID\n",
    "# IMG_000001\t.jpg\tphoto1\tB0001\n",
    "# IMG_000002\t.jpg\tphoto2\tB0001\n",
    "# IMG_000003\t.png\t사진\tB0002\n",
    "# IMG_000004\t.jpg\t사진\tB0003\n",
    "# IMG_000005\t.jpg\tphoto\tB0004\n",
    "# SQL을 실행하면 다음과 같이 출력되어야 합니다.\n",
    "\n",
    "# FILE_PATH\n",
    "# /home/grep/src/B0001/IMG_000001photo1.jpg\n",
    "# /home/grep/src/B0001/IMG_000002photo2.jpg"
   ]
  },
  {
   "cell_type": "code",
   "execution_count": null,
   "id": "832813e6-bd32-4b82-9c18-03d675bf16f2",
   "metadata": {},
   "outputs": [],
   "source": [
    "SELECT CONCAT('/home/grep/src/', A.BOARD_ID, '/', B.FILE_ID,B.FILE_NAME, B.FILE_EXT) AS FILE_PATH\n",
    "FROM USED_GOODS_BOARD A\n",
    "LEFT JOIN USED_GOODS_FILE B\n",
    "ON A.BOARD_ID = B.BOARD_ID\n",
    "# 서브쿼리 사용\n",
    "WHERE VIEWS = (SELECT MAX(VIEWS) FROM USED_GOODS_BOARD)\n",
    "ORDER BY B.FILE_ID DESC;"
   ]
  },
  {
   "cell_type": "code",
   "execution_count": null,
   "id": "0aff7a31-a9b4-426a-b56e-3b939cef65dd",
   "metadata": {},
   "outputs": [],
   "source": [
    "문제 설명(조건에 부합하는 중고거래 상태 조회하기)\n",
    "문제\n",
    "USED_GOODS_BOARD 테이블에서 2022년 10월 5일에 등록된 중고거래 게시물의 게시글 ID, 작성자 ID, 게시글 제목, 가격, 거래상태를 조회하는 SQL문을 작성해주세요. 거래상태가 SALE 이면 판매중, RESERVED이면 예약중, DONE이면 거래완료 분류하여 출력해주시고, 결과는 게시글 ID를 기준으로 내림차순 정렬해주세요.\n",
    "\n",
    "예시\n",
    "USED_GOODS_BOARD 테이블이 다음과 같을 때\n",
    "\n",
    "BOARD_ID\tWRITER_ID\tTITLE\tCONTENTS\tPRICE\tCREATED_DATE\tSTATUS\tVIEWS\n",
    "B0007\ts2s2123\t커피글라인더\t새상품처럼 깨끗합니다.\t7000\t2022-10-04\tDONE\t210\n",
    "B0008\thong02\t자전거 판매합니다\t출퇴근용으로 구매했다가 사용하지 않아서 내놔요\t40000\t2022-10-04\tSALE\t301\n",
    "B0009\tyawoong67\t선반 팝니다\t6단 선반. 환불 반품 안됩니다.\t12000\t2022-10-05\tDONE\t202\n",
    "B0010\tkeel1990\t철제선반5단\t철제선반 5단 조립식 팜\t10000\t2022-10-05\tSALE\t194\n",
    "SQL을 실행하면 다음과 같이 출력되어야 합니다.\n",
    "\n",
    "BOARD_ID\tWRITER_ID\tTITLE\tPRICE\tSTATUS\n",
    "B0010\tkeel1990\t철제선반5단\t10000\t판매중\n",
    "B0009\tyawoong67\t선반 팝니다\t12000\t거래완료"
   ]
  },
  {
   "cell_type": "code",
   "execution_count": null,
   "id": "aaf923b6-9e70-4020-9bee-0bd1ec4b5cc1",
   "metadata": {},
   "outputs": [],
   "source": [
    "SELECT BOARD_ID, WRITER_ID, TITLE, PRICE,\n",
    "CASE STATUS\n",
    "    WHEN 'SALE' THEN '판매중'\n",
    "    WHEN 'RESERVED' THEN '예약중'\n",
    "    WHEN 'DONE' THEN '거래완료'\n",
    "END AS STATUS\n",
    "FROM USED_GOODS_BOARD\n",
    "WHERE CREATED_DATE = '2022-10-05'\n",
    "ORDER BY BOARD_ID DESC;"
   ]
  }
 ],
 "metadata": {
  "kernelspec": {
   "display_name": "Python 3 (ipykernel)",
   "language": "python",
   "name": "python3"
  },
  "language_info": {
   "codemirror_mode": {
    "name": "ipython",
    "version": 3
   },
   "file_extension": ".py",
   "mimetype": "text/x-python",
   "name": "python",
   "nbconvert_exporter": "python",
   "pygments_lexer": "ipython3",
   "version": "3.8.20"
  }
 },
 "nbformat": 4,
 "nbformat_minor": 5
}
