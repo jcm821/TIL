{
 "cells": [
  {
   "cell_type": "code",
   "execution_count": null,
   "id": "b6b9dacb-b708-4bfa-a328-a82957726148",
   "metadata": {},
   "outputs": [],
   "source": [
    "# 문제 설명(두 개 뽑아서 더하기)\n",
    "# 정수 배열 numbers가 주어집니다. numbers에서 서로 다른 인덱스에 있는 두 개의 수를 뽑아 더해서 만들 수 있는 모든 수를 배열에 오름차순으로 담아 return 하도록 solution 함수를 완성해주세요.\n",
    "\n",
    "# 제한사항\n",
    "# numbers의 길이는 2 이상 100 이하입니다.\n",
    "# numbers의 모든 수는 0 이상 100 이하입니다."
   ]
  },
  {
   "cell_type": "code",
   "execution_count": null,
   "id": "8d4e3bea-1bdf-41d0-9813-16d4c5f5a527",
   "metadata": {},
   "outputs": [],
   "source": [
    "# 문제 요약\n",
    "# 입력: 정수 배열 numbers (2개 이상)\n",
    "\n",
    "# 처리:\n",
    "# 서로 다른 두 숫자 선택\n",
    "# 그 합을 저장 (중복 없이)\n",
    "# 오름차순 정렬\n",
    "# 출력: 정수 리스트"
   ]
  },
  {
   "cell_type": "code",
   "execution_count": null,
   "id": "8c1ef8dd-00b2-4b6e-8ffa-2801ce270c96",
   "metadata": {},
   "outputs": [],
   "source": [
    "# sol1\n",
    "def solution(numbers):\n",
    "    answer = []\n",
    "    for i in range(len(numbers)):\n",
    "        for j in range(i+1, len(numbers)):\n",
    "            # 합을 리스트에 추가\n",
    "            answer.append(numbers[i] + numbers[j])\n",
    "    # 중복 제거 및 정렬\n",
    "    return sorted(list(set(answer)))"
   ]
  },
  {
   "cell_type": "code",
   "execution_count": null,
   "id": "ad996af1-18f3-4cc5-9066-2a92496e70e5",
   "metadata": {},
   "outputs": [],
   "source": [
    "# sol2\n",
    "from itertools import combinations\n",
    "def solution(numbers):\n",
    "    answer = set()\n",
    "    # combinations 함수로 numbers에서 2개를 뽑는 모든 조합 생성\n",
    "    for i in list(combinations(numbers, 2)):\n",
    "        # 합을 set에 추가\n",
    "        answer.add(sum(i))\n",
    "    # 정렬 후 반환\n",
    "    return sorted(answer)"
   ]
  },
  {
   "cell_type": "code",
   "execution_count": null,
   "id": "d42a6e05-3b42-48e2-9f95-d6c35afb5f16",
   "metadata": {},
   "outputs": [],
   "source": [
    "# 문제 설명(3진법 뒤집기)\n",
    "# 자연수 n이 매개변수로 주어집니다. n을 3진법 상에서 앞뒤로 뒤집은 후, 이를 다시 10진법으로 표현한 수를 return 하도록 solution 함수를 완성해주세요.\n",
    "\n",
    "# 제한사항\n",
    "# n은 1 이상 100,000,000 이하인 자연수입니다."
   ]
  },
  {
   "cell_type": "code",
   "execution_count": null,
   "id": "e02e5438-0aa6-4655-9bed-f1e0c764ce87",
   "metadata": {},
   "outputs": [],
   "source": [
    "# 문제 요약\n",
    "# 자연수 n이 주어졌을 때\n",
    "# n을 3진법으로 변환\n",
    "# 3진법 숫자를 뒤집은 후\n",
    "# 다시 10진법으로 변환한 결과를 반환"
   ]
  },
  {
   "cell_type": "code",
   "execution_count": null,
   "id": "b507d68a-7e1c-4959-932f-c2a075e32f76",
   "metadata": {},
   "outputs": [],
   "source": [
    "# sol1\n",
    " solution(n):\n",
    "    tmp = ''\n",
    "    while n:\n",
    "        tmp += str(n % 3)\n",
    "        n = n // 3\n",
    "\n",
    "    answer = int(tmp, 3)\n",
    "    return answer"
   ]
  },
  {
   "cell_type": "code",
   "execution_count": null,
   "id": "b2397ab6-3d64-45f8-98f9-0d776de0d167",
   "metadata": {},
   "outputs": [],
   "source": [
    "# sol2\n",
    "def solution(n):\n",
    "    answer = ''\n",
    "    \n",
    "    while n > 0:\n",
    "        # n을 3으로 나눈 몫과 나머지\n",
    "        # divmod() : 몫과 나머지를 리턴. 리턴 값이 2개이므로 튜플을 사용\n",
    "        n, re = divmod(n, 3)\n",
    "        # 3진법으로 변환하면서 동시에 뒤집힌 형태로 저장\n",
    "        answer += str(re)\n",
    "    # int(x, base) : base 진법으로 구성된 str 형식의 수를 10진법으로 변환\n",
    "    return int(answer, 3)"
   ]
  },
  {
   "cell_type": "code",
   "execution_count": null,
   "id": "1e7e93cb-6826-421e-9ff4-54a6e8c2d262",
   "metadata": {},
   "outputs": [],
   "source": [
    "# 문제 설명(조건별로 분류하여 주문상태 출력하기)\n",
    "# 문제\n",
    "# FOOD_ORDER 테이블에서 2022년 5월 1일을 기준으로 주문 ID, 제품 ID, 출고일자, 출고여부를 조회하는 SQL문을 작성해주세요. 출고여부는 2022년 5월 1일까지 출고완료로 이 후 날짜는 출고 대기로 미정이면 출고미정으로 출력해주시고, 결과는 주문 ID를 기준으로 오름차순 정렬해주세요.\n",
    "\n",
    "# 예시\n",
    "# FOOD_ORDER 테이블이 다음과 같을 때\n",
    "\n",
    "# ORDER_ID\tPRODUCT_ID\tAMOUNT\tPRODUCE_DATE\tIN_DATE\tOUT_DATE\tFACTORY_ID\tWAREHOUSE_ID\n",
    "# OD00000051\tP0002\t4000\t2022-04-01\t2022-04-21\t2022-04-21\tFT19970003\tWH0005\n",
    "# OD00000052\tP0003\t2500\t2022-04-10\t2022-04-27\t2022-04-27\tFT19970003\tWH0006\n",
    "# OD00000053\tP0005\t6200\t2022-04-15\t2022-04-30\t2022-05-01\tFT19940003\tWH0003\n",
    "# OD00000054\tP0006\t1000\t2022-04-21\t2022-04-30\tNULL\tFT19940003\tWH0009\n",
    "# OD00000055\tP0008\t1500\t2022-04-25\t2022-05-11\t2022-05-11\tFT19980003\tWH0009\n",
    "# SQL을 실행하면 다음과 같이 출력되어야 합니다.\n",
    "\n",
    "# ORDER_ID\tPRODUCT_ID\tOUT_DATE\t출고여부\n",
    "# OD00000051\tP0002\t2022-04-21\t출고완료\n",
    "# OD00000052\tP0003\t2022-04-27\t출고완료\n",
    "# OD00000053\tP0005\t2022-05-01\t출고완료\n",
    "# OD00000054\tP0006\t\t출고미정\n",
    "# OD00000055\tP0008\t2022-05-11\t출고대기"
   ]
  },
  {
   "cell_type": "code",
   "execution_count": null,
   "id": "7d389f01-2da0-476c-bd42-36899ab9f37a",
   "metadata": {},
   "outputs": [],
   "source": [
    "SELECT ORDER_ID, PRODUCT_ID, DATE_FORMAT(OUT_DATE, '%Y-%m-%d') AS OUT_DATE,\n",
    "CASE\n",
    "    WHEN OUT_DATE > '2022-05-01' THEN '출고대기'\n",
    "    WHEN OUT_DATE <= '2022-05-01' THEN '출고완료'\n",
    "    ELSE '출고미정'\n",
    "END AS 출고여부\n",
    "FROM FOOD_ORDER\n",
    "ORDER BY ORDER_ID ASC;"
   ]
  },
  {
   "cell_type": "code",
   "execution_count": null,
   "id": "4082567e-1fad-4498-a1b2-0caefdc2e918",
   "metadata": {},
   "outputs": [],
   "source": [
    "# 문제 설명(가격이 제일 비싼 식품의 정보 출력하기)\n",
    "# 문제\n",
    "# FOOD_PRODUCT 테이블에서 가격이 제일 비싼 식품의 식품 ID, 식품 이름, 식품 코드, 식품분류, 식품 가격을 조회하는 SQL문을 작성해주세요.\n",
    "\n",
    "# 예시\n",
    "# FOOD_PRODUCT 테이블이 다음과 같을 때\n",
    "\n",
    "# PRODUCT_ID\tPRODUCT_NAME\tPRODUCT_CD\tCATEGORY\tPRICE\n",
    "# P0018\t맛있는고추기름\tCD_OL00008\t식용유\t6100\n",
    "# P0019\t맛있는카놀라유\tCD_OL00009\t식용유\t5100\n",
    "# P0020\t맛있는산초유\tCD_OL00010\t식용유\t6500\n",
    "# P0021\t맛있는케첩\tCD_OL00001\t소스\t4500\n",
    "# P0022\t맛있는마요네즈\tCD_OL00002\t소스\t4700\n",
    "# SQL을 실행하면 다음과 같이 출력되어야 합니다.\n",
    "\n",
    "# PRODUCT_ID\tPRODUCT_NAME\tPRODUCT_CD\tCATEGORY\tPRICE\n",
    "# P0020\t맛있는산초유\tCD_OL00010\t식용유\t6500"
   ]
  },
  {
   "cell_type": "code",
   "execution_count": null,
   "id": "85943ded-224d-44f2-b812-840af1ce3130",
   "metadata": {},
   "outputs": [],
   "source": [
    "# sol1(정렬)\n",
    "SELECT PRODUCT_ID, PRODUCT_NAME, PRODUCT_CD, CATEGORY, PRICE\n",
    "FROM FOOD_PRODUCT\n",
    "ORDER BY PRICE DESC\n",
    "LIMIT 1;"
   ]
  },
  {
   "cell_type": "code",
   "execution_count": null,
   "id": "9f20a2d4-9820-4d09-bc76-4db05c0f8d0d",
   "metadata": {},
   "outputs": [],
   "source": [
    "# sol2(서브쿼리 사용)\n",
    "SELECT * FROM FOOD_PRODUCT\n",
    "WHERE PRICE = (SELECT MAX(PRICE) FROM FOOD_PRODUCT);"
   ]
  },
  {
   "cell_type": "code",
   "execution_count": null,
   "id": "3bec3ff8-0d4a-46ac-8073-1114fc25a3c3",
   "metadata": {},
   "outputs": [],
   "source": [
    "# 문제 설명(즐겨찾기가 가장 많은 식당 정보 출력하기)\n",
    "# 문제\n",
    "# REST_INFO 테이블에서 음식종류별로 즐겨찾기수가 가장 많은 식당의 음식 종류, ID, 식당 이름, 즐겨찾기수를 조회하는 SQL문을 작성해주세요. 이때 결과는 음식 종류를 기준으로 내림차순 정렬해주세요.\n",
    "\n",
    "# 예시\n",
    "# REST_INFO 테이블이 다음과 같을 때\n",
    "\n",
    "# REST_ID\tREST_NAME\tFOOD_TYPE\tVIEWS\tFAVORITES\tPARKING_LOT\tADDRESS\tTEL\n",
    "# 00001\t은돼지식당\t한식\t1150345\t734\tN\t서울특별시 중구 다산로 149\t010-4484-8751\n",
    "# 00002\t하이가쯔네\t일식\t120034\t112\tN\t서울시 중구 신당동 375-21\tNULL\n",
    "# 00003\t따띠따띠뜨\t양식\t1234023\t102\tN\t서울시 강남구 신사동 627-3 1F\t02-6397-1023\n",
    "# 00004\t스시사카우스\t일식\t1522074\t230\tN\t서울시 서울시 강남구 신사동 627-27\t010-9394-2554\n",
    "# 00005\t코슌스\t일식\t15301\t123\tN\t서울특별시 강남구 언주로153길\t010-1315-8729\n",
    "# SQL을 실행하면 다음과 같이 출력되어야 합니다.\n",
    "\n",
    "# FOOD_TYPE\tREST_ID\tREST_NAME\tFAVORITES\n",
    "# 한식\t00001\t은돼지식당\t734\n",
    "# 일식\t00004\t스시사카우스\t230\n",
    "# 양식\t00003\t따띠따띠뜨\t102"
   ]
  },
  {
   "cell_type": "code",
   "execution_count": null,
   "id": "f7bae428-7506-4659-95f9-c71b9419a30f",
   "metadata": {},
   "outputs": [],
   "source": [
    "SELECT FOOD_TYPE, REST_ID, REST_NAME, FAVORITES\n",
    "FROM REST_INFO\n",
    "# 서브쿼리 사용으로 음식종류별 가장 큰 즐겨찾기 수 구하기\n",
    "WHERE FAVORITES IN (SELECT MAX(FAVORITES) \n",
    "                    FROM REST_INFO \n",
    "                    GROUP BY FOOD_TYPE)\n",
    "GROUP BY FOOD_TYPE\n",
    "ORDER BY FOOD_TYPE DESC;"
   ]
  },
  {
   "cell_type": "code",
   "execution_count": null,
   "id": "acf9a6a0-384c-42a0-b2be-93c3181e26b6",
   "metadata": {},
   "outputs": [],
   "source": [
    "# 문제(카테고리 별 상품 개수 구하기)\n",
    "# 문제\n",
    "# PRODUCT 테이블에서 상품 카테고리 코드(PRODUCT_CODE 앞 2자리) 별 상품 개수를 출력하는 SQL문을 작성해주세요. 결과는 상품 카테고리 코드를 기준으로 오름차순 정렬해주세요.\n",
    "\n",
    "# 예시\n",
    "# 예를 들어 PRODUCT 테이블이 다음과 같다면\n",
    "\n",
    "# PRODUCT_ID\tPRODUCT_CODE\tPRICE\n",
    "# 1\tA1000011\t10000\n",
    "# 2\tA1000045\t9000\n",
    "# 3\tC3000002\t22000\n",
    "# 4\tC3000006\t15000\n",
    "# 5\tC3000010\t30000\n",
    "# 6\tK1000023\t17000\n",
    "# 상품 카테고리 코드 별 상품은 아래와 같으므로,\n",
    "\n",
    "# A1: PRODUCT_ID가 1, 2 인 상품\n",
    "# C3: PRODUCT_ID가 3, 4, 5 인 상품\n",
    "# K1: PRODUCT_ID가 6 인 상품\n",
    "# 다음과 같은 결과가 나와야 합니다.\n",
    "\n",
    "# CATEGORY\tPRODUCTS\n",
    "# A1\t2\n",
    "# C3\t3\n",
    "# K1\t1"
   ]
  },
  {
   "cell_type": "code",
   "execution_count": null,
   "id": "1a6a2af3-8e2f-4076-bcba-d81fd893a12e",
   "metadata": {},
   "outputs": [],
   "source": [
    "SELECT LEFT(PRODUCT_CODE, 2) AS PRODUCTS, COUNT(PRODUCT_ID) AS PRODUCTS\n",
    "FROM PRODUCT\n",
    "GROUP BY PRODUCTS\n",
    "ORDER BY PRODUCTS;"
   ]
  },
  {
   "cell_type": "code",
   "execution_count": null,
   "id": "bf001d70-6297-4643-b827-648f99f3b0e1",
   "metadata": {},
   "outputs": [],
   "source": [
    "# 문제 설명(상품 별 오프라인 매출 구하기)\n",
    "# 문제\n",
    "# PRODUCT 테이블과 OFFLINE_SALE 테이블에서 상품코드 별 매출액(판매가 * 판매량) 합계를 출력하는 SQL문을 작성해주세요. 결과는 매출액을 기준으로 내림차순 정렬해주시고 매출액이 같다면 상품코드를 기준으로 오름차순 정렬해주세요.\n",
    "\n",
    "# 예시\n",
    "# 예를 들어 PRODUCT 테이블이 다음과 같고\n",
    "\n",
    "# PRODUCT_ID\tPRODUCT_CODE\tPRICE\n",
    "# 1\tA1000011\t15000\n",
    "# 2\tA1000045\t8000\n",
    "# 3\tC3000002\t42000\n",
    "# OFFLINE_SALE 테이블이 다음과 같다면\n",
    "\n",
    "# OFFLINE_SALE_ID\tPRODUCT_ID\tSALES_AMOUNT\tSALES_DATE\n",
    "# 1\t1\t2\t2022-02-21\n",
    "# 2\t1\t2\t2022-03-02\n",
    "# 3\t3\t3\t2022-05-01\n",
    "# 4\t2\t1\t2022-05-24\n",
    "# 5\t1\t2\t2022-07-14\n",
    "# 6\t2\t1\t2022-09-22\n",
    "# 각 상품 별 총 판매량과 판매가는 다음과 같습니다.\n",
    "\n",
    "# PRODUCT_CODE 가 A1000011인 상품은 총 판매량이 6개, 판매가가 15,000원\n",
    "# PRODUCT_CODE 가 A1000045인 상품은 총 판매량이 2개, 판매가가 8,000원\n",
    "# PRODUCT_CODE 가 C3000002인 상품은 총 판매량이 3개, 판매가가 42,000원\n",
    "# 그러므로 각 상품 별 매출액을 계산하고 정렬하면 결과가 다음과 같이 나와야 합니다.\n",
    "\n",
    "# PRODUCT_CODE\tSALES\n",
    "# C3000002\t126000\n",
    "# A1000011\t90000\n",
    "# A1000045\t16000"
   ]
  },
  {
   "cell_type": "code",
   "execution_count": null,
   "id": "5859640c-5c8e-49dc-a777-2d331431e8dc",
   "metadata": {},
   "outputs": [],
   "source": [
    "SELECT A.PRODUCT_CODE, SUM(B.SALES_AMOUNT) * A.PRICE AS SALES\n",
    "FROM PRODUCT A\n",
    "INNER JOIN OFFLINE_SALE B\n",
    "ON A.PRODUCT_ID = B.PRODUCT_ID\n",
    "GROUP BY A.PRODUCT_CODE\n",
    "ORDER BY SALES DESC, A.PRODUCT_CODE;"
   ]
  },
  {
   "cell_type": "code",
   "execution_count": null,
   "id": "5c3549fd-718f-4d62-aa71-9d3d94f30dd7",
   "metadata": {},
   "outputs": [],
   "source": [
    "# 문제 설명(카테고리 별 도서 판매량 집계하기)\n",
    "# 문제\n",
    "# 2022년 1월의 카테고리 별 도서 판매량을 합산하고, 카테고리(CATEGORY), 총 판매량(TOTAL_SALES) 리스트를 출력하는 SQL문을 작성해주세요.\n",
    "# 결과는 카테고리명을 기준으로 오름차순 정렬해주세요.\n",
    "\n",
    "# 예시\n",
    "# 예를 들어 BOOK 테이블과 BOOK_SALES 테이블이 다음과 같다면\n",
    "\n",
    "# BOOK_ID\tCATEGORY\tAUTHOR_ID\tPRICE\tPUBLISHED_DATE\n",
    "# 1\t인문\t1\t10000\t2020-01-01\n",
    "# 2\t경제\t1\t9000\t2021-02-05\n",
    "# 3\t경제\t2\t9000\t2021-03-11\n",
    "# BOOK_ID\tSALES_DATE\tSALES\n",
    "# 1\t2022-01-01\t2\n",
    "# 2\t2022-01-02\t3\n",
    "# 1\t2022-01-05\t1\n",
    "# 2\t2022-01-20\t5\n",
    "# 2\t2022-01-21\t6\n",
    "# 3\t2022-01-22\t2\n",
    "# 2\t2022-02-11\t3\n",
    "# 2022년 1월의 도서 별 총 판매량은 도서 ID 가 1 인 도서가 총 3권, 도서 ID 가 2 인 도서가 총 14권 이고, 도서 ID 가 3 인 도서가 총 2권 입니다.\n",
    "\n",
    "# 카테고리 별로 판매량을 집계한 결과는 다음과 같습니다.\n",
    "\n",
    "# CATEGORY\tTOTAL_SALES\n",
    "# 인문\t3\n",
    "# 경제\t16\n",
    "# 카테고리명을 오름차순으로 정렬하면 다음과 같이 나와야 합니다.\n",
    "\n",
    "# CATEGORY\tTOTAL_SALES\n",
    "# 경제\t16\n",
    "# 인문\t3"
   ]
  },
  {
   "cell_type": "code",
   "execution_count": null,
   "id": "c6d54d29-afbc-4e0f-8777-3626581c7fc5",
   "metadata": {},
   "outputs": [],
   "source": [
    "SELECT A.CATEGORY AS CATEGORY, SUM(B.SALES) AS TOTAL_SALES\n",
    "FROM BOOK A\n",
    "INNER JOIN BOOK_SALES B\n",
    "ON A.BOOK_ID = B.BOOK_ID\n",
    "WHERE B.SALES_DATE LIKE '2022-01%'\n",
    "GROUP BY CATEGORY\n",
    "ORDER BY CATEGORY;"
   ]
  },
  {
   "cell_type": "code",
   "execution_count": null,
   "id": "8b714b26-9229-4b21-b878-1daceca58f19",
   "metadata": {},
   "outputs": [],
   "source": [
    "# 문제 설명(자동차 종류 별 특정 옵션이 포함된 자동차 수 구하기)\n",
    "# 문제\n",
    "# CAR_RENTAL_COMPANY_CAR 테이블에서 '통풍시트', '열선시트', '가죽시트' 중 하나 이상의 옵션이 포함된 자동차가 자동차 종류 별로 몇 대인지 출력하는 SQL문을 작성해주세요. 이때 자동차 수에 대한 컬럼명은 CARS로 지정하고, 결과는 자동차 종류를 기준으로 오름차순 정렬해주세요.\n",
    "\n",
    "# 예시\n",
    "# 예를 들어 CAR_RENTAL_COMPANY_CAR 테이블이 다음과 같다면\n",
    "\n",
    "# CAR_ID\tCAR_TYPE\tDAILY_FEE\tOPTIONS\n",
    "# 1\t세단\t16000\t가죽시트,열선시트,후방카메라\n",
    "# 2\tSUV\t14000\t스마트키,네비게이션,열선시트\n",
    "# 3\tSUV\t22000\t주차감지센서,후방카메라\n",
    "# 4\t트럭\t35000\t주차감지센서,네비게이션,열선시트\n",
    "# 5\tSUV\t16000\t가죽시트,네비게이션,열선시트,후방카메라,주차감지센서\n",
    "# '통풍시트', '열선시트', '가죽시트' 중 하나 이상의 옵션이 포함된 자동차는 자동차 ID가 1, 2, 4, 5인 자동차이고, 자동차 종류 별로 몇 대인지 구하고 자동차 종류를 기준으로 오름차순 정렬하면 다음과 같은 결과가 나와야 합니다.\n",
    "\n",
    "# CAR_TYPE\tCARS\n",
    "# SUV\t2\n",
    "# 세단\t1\n",
    "# 트럭\t1"
   ]
  },
  {
   "cell_type": "code",
   "execution_count": null,
   "id": "223afe9a-51c9-488c-8789-a1cf00035c48",
   "metadata": {},
   "outputs": [],
   "source": [
    "# sol1\n",
    "SELECT CAR_TYPE, COUNT(CAR_ID) AS CARS\n",
    "FROM CAR_RENTAL_COMPANY_CAR\n",
    "WHERE OPTIONS LIKE '%통풍시트%' OR OPTIONS LIKE '%열선시트%' OR OPTIONS LIKE '%가죽시트%'\n",
    "GROUP BY CAR_TYPE\n",
    "ORDER BY CAR_TYPE;"
   ]
  },
  {
   "cell_type": "code",
   "execution_count": null,
   "id": "3d3ddf15-0b56-48ea-8d08-89f3045dd62c",
   "metadata": {},
   "outputs": [],
   "source": [
    "# sol2(REGEXP 메서드 사용)\n",
    "# 문자열이 정규 표현식에 일치하면 TRUE, 그렇지 않으면 FALSE를 반환\n",
    "# 즉, OPTIONS 컬럼의 값이 '통풍시트' 또는 '열선시트' 또는 '가죽시트' 중 하나라도 포함되어 있다면 TRUE를 반환합\n",
    "SELECT CAR_TYPE, COUNT(*) AS CARS\n",
    "FROM CAR_RENTAL_COMPANY_CAR\n",
    "WHERE OPTIONS REGEXP '통풍시트|열선시트|가죽시트'\n",
    "GROUP BY CAR_TYPE\n",
    "ORDER BY CAR_TYPE;"
   ]
  }
 ],
 "metadata": {
  "kernelspec": {
   "display_name": "Python 3 (ipykernel)",
   "language": "python",
   "name": "python3"
  },
  "language_info": {
   "codemirror_mode": {
    "name": "ipython",
    "version": 3
   },
   "file_extension": ".py",
   "mimetype": "text/x-python",
   "name": "python",
   "nbconvert_exporter": "python",
   "pygments_lexer": "ipython3",
   "version": "3.8.20"
  }
 },
 "nbformat": 4,
 "nbformat_minor": 5
}
