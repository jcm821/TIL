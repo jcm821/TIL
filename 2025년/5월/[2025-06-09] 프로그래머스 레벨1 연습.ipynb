{
 "cells": [
  {
   "cell_type": "code",
   "execution_count": null,
   "id": "cb7e51dd-a4af-4b63-b403-242c11ca3371",
   "metadata": {},
   "outputs": [],
   "source": [
    "# 문제 설명(소수 만들기)\n",
    "# 주어진 숫자 중 3개의 수를 더했을 때 소수가 되는 경우의 개수를 구하려고 합니다. 숫자들이 들어있는 배열 nums가 매개변수로 주어질 때, nums에 있는 숫자들 중 서로 다른 3개를 골라 더했을 때 소수가 되는 경우의 개수를 return 하도록 solution 함수를 완성해주세요.\n",
    "\n",
    "# 제한사항\n",
    "# nums에 들어있는 숫자의 개수는 3개 이상 50개 이하입니다.\n",
    "# nums의 각 원소는 1 이상 1,000 이하의 자연수이며, 중복된 숫자가 들어있지 않습니다."
   ]
  },
  {
   "cell_type": "code",
   "execution_count": null,
   "id": "d46cf133-7dc0-4083-a55f-4e862616f1af",
   "metadata": {},
   "outputs": [],
   "source": [
    "# sol1 아리스토텔레스 체 활용\n",
    "# combinations는 주어진 리스트에서 순서 상관없이 r개 조합을 만들어 줌\n",
    "from itertools import combinations\n",
    "\n",
    "def solution(nums):\n",
    "    answer = 0\n",
    "    # nums에서 3개씩 조합한 모든 경우의 수를 하나씩 꺼내서 반복\n",
    "    for i in combinations(nums, 3):\n",
    "        s = sum(i)\n",
    "        chk = True\n",
    "        for j in range(2, int(s ** 0.5) + 1):\n",
    "            # 나누어 떨어지면 소수가 아니므로 chk = False로 설정하고 break\n",
    "            if s % j == 0:\n",
    "                chk = False\n",
    "                break\n",
    "        if chk is True:\n",
    "            answer += 1\n",
    "\n",
    "    return answer"
   ]
  },
  {
   "cell_type": "code",
   "execution_count": null,
   "id": "27eb0626-c89d-4646-a759-7f1287cf6df7",
   "metadata": {},
   "outputs": [],
   "source": [
    "# 문제 설명(예산)\n",
    "# S사에서는 각 부서에 필요한 물품을 지원해 주기 위해 부서별로 물품을 구매하는데 필요한 금액을 조사했습니다. 그러나, 전체 예산이 정해져 있기 때문에 모든 부서의 물품을 구매해 줄 수는 없습니다. 그래서 최대한 많은 부서의 물품을 구매해 줄 수 있도록 하려고 합니다.\n",
    "\n",
    "# 물품을 구매해 줄 때는 각 부서가 신청한 금액만큼을 모두 지원해 줘야 합니다. 예를 들어 1,000원을 신청한 부서에는 정확히 1,000원을 지원해야 하며, 1,000원보다 적은 금액을 지원해 줄 수는 없습니다.\n",
    "\n",
    "# 부서별로 신청한 금액이 들어있는 배열 d와 예산 budget이 매개변수로 주어질 때, 최대 몇 개의 부서에 물품을 지원할 수 있는지 return 하도록 solution 함수를 완성해주세요.\n",
    "\n",
    "# 제한사항\n",
    "# d는 부서별로 신청한 금액이 들어있는 배열이며, 길이(전체 부서의 개수)는 1 이상 100 이하입니다.\n",
    "# d의 각 원소는 부서별로 신청한 금액을 나타내며, 부서별 신청 금액은 1 이상 100,000 이하의 자연수입니다.\n",
    "# budget은 예산을 나타내며, 1 이상 10,000,000 이하의 자연수입니다."
   ]
  },
  {
   "cell_type": "code",
   "execution_count": null,
   "id": "9ebe28b3-8391-4157-bb89-c75ea7610c39",
   "metadata": {},
   "outputs": [],
   "source": [
    "# sol1\n",
    "def solution(d, budget):\n",
    "    d.sort()\n",
    "    while budget < sum(d):\n",
    "        d.pop()\n",
    "    return len(d)"
   ]
  },
  {
   "cell_type": "code",
   "execution_count": null,
   "id": "33d287ff-3f52-4a1d-af21-45c477594e52",
   "metadata": {},
   "outputs": [],
   "source": [
    "# sol2\n",
    "def solution(d, budget):\n",
    "    # 정렬\n",
    "    sd = sorted(d)\n",
    "    answer = 0\n",
    "    for i in sd:\n",
    "        # 예산에서 부서별 지원금 빼기\n",
    "        budget -= i\n",
    "            # 예산이 0보다 작아진다면 멈추기\n",
    "        if budget < 0:\n",
    "            break\n",
    "        # 0보다 작지 않다면 1씩 더하기\n",
    "        answer += 1\n",
    "    return answer"
   ]
  },
  {
   "cell_type": "code",
   "execution_count": null,
   "id": "ccb9e05e-5d19-4e84-b9e8-a60b7e68a140",
   "metadata": {},
   "outputs": [],
   "source": [
    "# 문제 설명(동물의 아이디와 이름)\n",
    "# ANIMAL_INS 테이블은 동물 보호소에 들어온 동물의 정보를 담은 테이블입니다. ANIMAL_INS 테이블 구조는 다음과 같으며, ANIMAL_ID, ANIMAL_TYPE, DATETIME, INTAKE_CONDITION, NAME, SEX_UPON_INTAKE는 각각 동물의 아이디, 생물 종, 보호 시작일, 보호 시작 시 상태, 이름, 성별 및 중성화 여부를 나타냅니다.\n",
    "\n",
    "# NAME\tTYPE\tNULLABLE\n",
    "# ANIMAL_ID\tVARCHAR(N)\tFALSE\n",
    "# ANIMAL_TYPE\tVARCHAR(N)\tFALSE\n",
    "# DATETIME\tDATETIME\tFALSE\n",
    "# INTAKE_CONDITION\tVARCHAR(N)\tFALSE\n",
    "# NAME\tVARCHAR(N)\tTRUE\n",
    "# SEX_UPON_INTAKE\tVARCHAR(N)\tFALSE\n",
    "# 동물 보호소에 들어온 모든 동물의 아이디와 이름을 ANIMAL_ID순으로 조회하는 SQL문을 작성해주세요. SQL을 실행하면 다음과 같이 출력되어야 합니다.\n",
    "\n",
    "# ANIMAL_ID\tNAME\n",
    "# A349996\tSugar\n",
    "# A350276\tJewel\n",
    "# A350375\tMeo\n",
    "# A352555\tHarley\n",
    "# A352713\tGia\n",
    "# A352872\tPeanutbutter\n",
    "# A353259\tBj\n",
    "# ((이하 생략))"
   ]
  },
  {
   "cell_type": "code",
   "execution_count": null,
   "id": "49ef7863-60f2-4667-a512-49fedfc6cdda",
   "metadata": {},
   "outputs": [],
   "source": [
    "SELECT ANIMAL_ID, NAME FROM ANIMAL_INS\n",
    "ORDER BY ANIMAL_ID ASC;"
   ]
  },
  {
   "cell_type": "code",
   "execution_count": null,
   "id": "69da1891-1c44-48c3-961c-ee95c0c71399",
   "metadata": {},
   "outputs": [],
   "source": [
    "# 문제 설명(여러 기준으로 정렬하기)\n",
    "# ANIMAL_INS 테이블은 동물 보호소에 들어온 동물의 정보를 담은 테이블입니다. ANIMAL_INS 테이블 구조는 다음과 같으며, ANIMAL_ID, ANIMAL_TYPE, DATETIME, INTAKE_CONDITION, NAME, SEX_UPON_INTAKE는 각각 동물의 아이디, 생물 종, 보호 시작일, 보호 시작 시 상태, 이름, 성별 및 중성화 여부를 나타냅니다.\n",
    "\n",
    "# NAME\tTYPE\tNULLABLE\n",
    "# ANIMAL_ID\tVARCHAR(N)\tFALSE\n",
    "# ANIMAL_TYPE\tVARCHAR(N)\tFALSE\n",
    "# DATETIME\tDATETIME\tFALSE\n",
    "# INTAKE_CONDITION\tVARCHAR(N)\tFALSE\n",
    "# NAME\tVARCHAR(N)\tTRUE\n",
    "# SEX_UPON_INTAKE\tVARCHAR(N)\tFALSE\n",
    "# 동물 보호소에 들어온 모든 동물의 아이디와 이름, 보호 시작일을 이름 순으로 조회하는 SQL문을 작성해주세요. 단, 이름이 같은 동물 중에서는 보호를 나중에 시작한 동물을 먼저 보여줘야 합니다.\n",
    "\n",
    "# 예시\n",
    "# 예를 들어, ANIMAL_INS 테이블이 다음과 같다면\n",
    "\n",
    "# ANIMAL_ID\tANIMAL_TYPE\tDATETIME\tINTAKE_CONDITION\tNAME\tSEX_UPON_INTAKE\n",
    "# A349996\tCat\t2018-01-22 14:32:00\tNormal\tSugar\tNeutered Male\n",
    "# A350276\tCat\t2017-08-13 13:50:00\tNormal\tJewel\tSpayed Female\n",
    "# A396810\tDog\t2016-08-22 16:13:00\tInjured\tRaven\tSpayed Female\n",
    "# A410668\tCat\t2015-11-19 13:41:00\tNormal\tRaven\tSpayed Female\n",
    "# 이름을 사전 순으로 정렬하면 다음과 같으며, 'Jewel', 'Raven', 'Sugar'\n",
    "# 'Raven'이라는 이름을 가진 개와 고양이가 있으므로, 이 중에서는 보호를 나중에 시작한 개를 먼저 조회합니다.\n",
    "# 따라서 SQL문을 실행하면 다음과 같이 나와야 합니다.\n",
    "\n",
    "# ANIMAL_ID\tNAME\tDATETIME\n",
    "# A350276\tJewel\t2017-08-13 13:50:00\n",
    "# A396810\tRaven\t2016-08-22 16:13:00\n",
    "# A410668\tRaven\t2015-11-19 13:41:00\n",
    "# A349996\tSugar\t2018-01-22 14:32:00"
   ]
  },
  {
   "cell_type": "code",
   "execution_count": null,
   "id": "79a230e7-cd0d-4138-b413-997d02005e7a",
   "metadata": {},
   "outputs": [],
   "source": [
    "SELECT ANIMAL_ID, NAME, DATETIME FROM ANIMAL_INS\n",
    "ORDER BY NAME ASC, DATETIME DESC;"
   ]
  },
  {
   "cell_type": "code",
   "execution_count": null,
   "id": "8b7c32a9-9ceb-484f-95b1-aadfad41ad54",
   "metadata": {},
   "outputs": [],
   "source": [
    "# 문제 설명(상위 n개 레코드)\n",
    "# ANIMAL_INS 테이블은 동물 보호소에 들어온 동물의 정보를 담은 테이블입니다. ANIMAL_INS 테이블 구조는 다음과 같으며, ANIMAL_ID, ANIMAL_TYPE, DATETIME, INTAKE_CONDITION, NAME, SEX_UPON_INTAKE는 각각 동물의 아이디, 생물 종, 보호 시작일, 보호 시작 시 상태, 이름, 성별 및 중성화 여부를 나타냅니다.\n",
    "\n",
    "# NAME\tTYPE\tNULLABLE\n",
    "# ANIMAL_ID\tVARCHAR(N)\tFALSE\n",
    "# ANIMAL_TYPE\tVARCHAR(N)\tFALSE\n",
    "# DATETIME\tDATETIME\tFALSE\n",
    "# INTAKE_CONDITION\tVARCHAR(N)\tFALSE\n",
    "# NAME\tVARCHAR(N)\tTRUE\n",
    "# SEX_UPON_INTAKE\tVARCHAR(N)\tFALSE\n",
    "# 동물 보호소에 가장 먼저 들어온 동물의 이름을 조회하는 SQL 문을 작성해주세요.\n",
    "\n",
    "# 예시\n",
    "# 예를 들어 ANIMAL_INS 테이블이 다음과 같다면\n",
    "\n",
    "# ANIMAL_ID\tANIMAL_TYPE\tDATETIME\tINTAKE_CONDITION\tNAME\tSEX_UPON_INTAKE\n",
    "# A399552\tDog\t2013-10-14 15:38:00\tNormal\tJack\tNeutered Male\n",
    "# A379998\tDog\t2013-10-23 11:42:00\tNormal\tDisciple\tIntact Male\n",
    "# A370852\tDog\t2013-11-03 15:04:00\tNormal\tKatie\tSpayed Female\n",
    "# A403564\tDog\t2013-11-18 17:03:00\tNormal\tAnna\tSpayed Female\n",
    "# 이 중 가장 보호소에 먼저 들어온 동물은 Jack입니다. 따라서 SQL문을 실행하면 다음과 같이 나와야 합니다.\n",
    "\n",
    "# NAME\n",
    "# Jack\n",
    "# ※ 보호소에 가장 먼저 들어온 동물은 한 마리인 경우만 테스트 케이스로 주어집니다."
   ]
  },
  {
   "cell_type": "code",
   "execution_count": null,
   "id": "13b25e5b-1d02-45f3-ac94-1df3c88aee04",
   "metadata": {},
   "outputs": [],
   "source": [
    "SELECT NAME FROM ANIMAL_INS\n",
    "ORDER BY datetime\n",
    "LIMIT 1;"
   ]
  },
  {
   "cell_type": "code",
   "execution_count": null,
   "id": "d0be2807-697b-44ae-854a-9d06e9552843",
   "metadata": {},
   "outputs": [],
   "source": [
    "# 문제 설명(이름이 있는 동물의 아이디\n",
    "# ANIMAL_INS 테이블은 동물 보호소에 들어온 동물의 정보를 담은 테이블입니다. ANIMAL_INS 테이블 구조는 다음과 같으며, ANIMAL_ID, ANIMAL_TYPE, DATETIME, INTAKE_CONDITION, NAME, SEX_UPON_INTAKE는 각각 동물의 아이디, 생물 종, 보호 시작일, 보호 시작 시 상태, 이름, 성별 및 중성화 여부를 나타냅니다.\n",
    "\n",
    "# NAME\tTYPE\tNULLABLE\n",
    "# ANIMAL_ID\tVARCHAR(N)\tFALSE\n",
    "# ANIMAL_TYPE\tVARCHAR(N)\tFALSE\n",
    "# DATETIME\tDATETIME\tFALSE\n",
    "# INTAKE_CONDITION\tVARCHAR(N)\tFALSE\n",
    "# NAME\tVARCHAR(N)\tTRUE\n",
    "# SEX_UPON_INTAKE\tVARCHAR(N)\tFALSE\n",
    "# 동물 보호소에 들어온 동물 중, 이름이 있는 동물의 ID를 조회하는 SQL 문을 작성해주세요. 단, ID는 오름차순 정렬되어야 합니다.\n",
    "\n",
    "# 예시\n",
    "# 예를 들어 ANIMAL_INS 테이블이 다음과 같다면\n",
    "\n",
    "# ANIMAL_ID\tANIMAL_TYPE\tDATETIME\tINTAKE_CONDITION\tNAME\tSEX_UPON_INTAKE\n",
    "# A434523\tCat\t2015-11-20 14:18:00\tNormal\tNULL\tSpayed Female\n",
    "# A562649\tDog\t2014-03-20 18:06:00\tSick\tNULL\tSpayed Female\n",
    "# A524634\tDog\t2015-01-02 18:54:00\tNormal\t*Belle\tIntact Female\n",
    "# A465637\tDog\t2017-06-04 08:17:00\tInjured\t*Commander\tNeutered Male\n",
    "# 이름이 있는 동물의 ID는 A524634와 A465637입니다. 따라서 SQL을 실행하면 다음과 같이 출력되어야 합니다.\n",
    "\n",
    "# ANIMAL_ID\n",
    "# A465637\n",
    "# A524634"
   ]
  },
  {
   "cell_type": "code",
   "execution_count": null,
   "id": "4867842a-42b5-4039-b624-1051ef5d5a8a",
   "metadata": {},
   "outputs": [],
   "source": [
    "SELECT ANIMAL_ID FROM ANIMAL_INS\n",
    "WHERE NAME IS NOT NULL\n",
    "ORDER BY ANIMAL_ID ASC;"
   ]
  }
 ],
 "metadata": {
  "kernelspec": {
   "display_name": "Python 3 (ipykernel)",
   "language": "python",
   "name": "python3"
  },
  "language_info": {
   "codemirror_mode": {
    "name": "ipython",
    "version": 3
   },
   "file_extension": ".py",
   "mimetype": "text/x-python",
   "name": "python",
   "nbconvert_exporter": "python",
   "pygments_lexer": "ipython3",
   "version": "3.8.20"
  }
 },
 "nbformat": 4,
 "nbformat_minor": 5
}
