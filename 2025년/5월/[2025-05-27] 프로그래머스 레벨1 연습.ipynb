{
 "cells": [
  {
   "cell_type": "code",
   "execution_count": null,
   "id": "76d65db1-d4ea-4a3a-b85a-07517c79d3f7",
   "metadata": {},
   "outputs": [],
   "source": [
    "# 문제 설명(자릿수 더하기)\n",
    "# 자연수 N이 주어지면, N의 각 자릿수의 합을 구해서 return 하는 solution 함수를 만들어 주세요.\n",
    "# 예를들어 N = 123이면 1 + 2 + 3 = 6을 return 하면 됩니다.\n",
    "\n",
    "# 제한사항\n",
    "# N의 범위 : 100,000,000 이하의 자연수"
   ]
  },
  {
   "cell_type": "code",
   "execution_count": null,
   "id": "acf56f69-86de-4879-9ed1-95afd76b1d20",
   "metadata": {},
   "outputs": [],
   "source": [
    "# sol1\n",
    "def solution(n):\n",
    "    answer = 0\n",
    "    # 각 자릿수를 리스트로 분리\n",
    "    # 예: \"123\" → ['1', '2', '3']\n",
    "    li = list(str(n))\n",
    "    for i in li:\n",
    "        answer += int(i)\n",
    "    return answer"
   ]
  },
  {
   "cell_type": "code",
   "execution_count": null,
   "id": "cd69608f-0e8a-4c2b-8c5e-593b004c4ac5",
   "metadata": {},
   "outputs": [],
   "source": [
    "# sol2\n",
    "def solution(n):\n",
    "    # n이 한 자리 수(10 미만)면, 그 수 자체를 반환\n",
    "    if n < 10:\n",
    "        return n\n",
    "    # n의 마지막 자릿수는 n % 10으로 구할 수 있음\n",
    "    \n",
    "    return n%10 + solution(n//10)"
   ]
  },
  {
   "cell_type": "code",
   "execution_count": null,
   "id": "7a286fd3-7154-4704-bfe6-e63215329af1",
   "metadata": {},
   "outputs": [],
   "source": [
    "# 문제 설명(자연수 뒤집어 배열로 만들기)\n",
    "# 자연수 n을 뒤집어 각 자리 숫자를 원소로 가지는 배열 형태로 리턴해주세요. 예를들어 n이 12345이면 [5,4,3,2,1]을 리턴합니다.\n",
    "\n",
    "# 제한 조건\n",
    "# n은 10,000,000,000이하인 자연수입니다."
   ]
  },
  {
   "cell_type": "code",
   "execution_count": null,
   "id": "8852eedc-21b2-4154-b695-6f9f74ee646f",
   "metadata": {},
   "outputs": [],
   "source": [
    "# sol1\n",
    "def solution(n):\n",
    "    answer = []\n",
    "    s = str(n)\n",
    "    # 문자열을 역순으로 반복\n",
    "    for i in range(len(s) - 1, -1, -1):\n",
    "        # 각 문자를 정수로 변환해 리스트에 추가\n",
    "        answer.append(int(s[i]))\n",
    "    return answer"
   ]
  },
  {
   "cell_type": "code",
   "execution_count": null,
   "id": "90b9a105-9335-4c8c-a0e0-b8dd6a184f74",
   "metadata": {},
   "outputs": [],
   "source": [
    "# sol2\n",
    "def solution(n):\n",
    "    # 내장 reversed와 map을 활용\n",
    "    return list(map(int, reversed(str(n))))"
   ]
  }
 ],
 "metadata": {
  "kernelspec": {
   "display_name": "Python 3 (ipykernel)",
   "language": "python",
   "name": "python3"
  },
  "language_info": {
   "codemirror_mode": {
    "name": "ipython",
    "version": 3
   },
   "file_extension": ".py",
   "mimetype": "text/x-python",
   "name": "python",
   "nbconvert_exporter": "python",
   "pygments_lexer": "ipython3",
   "version": "3.8.20"
  }
 },
 "nbformat": 4,
 "nbformat_minor": 5
}
