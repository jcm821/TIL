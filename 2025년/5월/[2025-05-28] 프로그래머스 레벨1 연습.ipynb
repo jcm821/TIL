{
 "cells": [
  {
   "cell_type": "code",
   "execution_count": null,
   "id": "5d06ce45-f0b1-4310-9185-a167ee6eda0a",
   "metadata": {},
   "outputs": [],
   "source": [
    "# 문제 설명(정수 제곱근 판별)\n",
    "# 임의의 양의 정수 n에 대해, n이 어떤 양의 정수 x의 제곱인지 아닌지 판단하려 합니다.\n",
    "# n이 양의 정수 x의 제곱이라면 x+1의 제곱을 리턴하고, n이 양의 정수 x의 제곱이 아니라면 -1을 리턴하는 함수를 완성하세요.\n",
    "\n",
    "# 제한 사항\n",
    "# n은 1이상, 50000000000000 이하인 양의 정수입니다."
   ]
  },
  {
   "cell_type": "code",
   "execution_count": 1,
   "id": "05186a5b-0c05-4c11-831b-8061e6f73aab",
   "metadata": {},
   "outputs": [],
   "source": [
    "# sol1\n",
    "def solution(n):\n",
    "    sqrt = n ** (1/2)\n",
    "    if sqrt == int(sqrt):\n",
    "        return (sqrt + 1)**2\n",
    "    else:\n",
    "        return -1"
   ]
  },
  {
   "cell_type": "code",
   "execution_count": null,
   "id": "e0238805-39d0-45d8-a6fc-46d8bb72055e",
   "metadata": {},
   "outputs": [],
   "source": [
    "def solution(n):\n",
    "    # n의 제곱근\n",
    "    sqrt = n ** (1/2)\n",
    "    # 제곱근이 정수인지 확인\n",
    "    if sqrt % 1 == 0:\n",
    "        return (sqrt + 1) ** 2\n",
    "    else:\n",
    "        return -1"
   ]
  },
  {
   "cell_type": "code",
   "execution_count": null,
   "id": "6b4d2d99-23d8-4939-a26e-545998a33435",
   "metadata": {},
   "outputs": [],
   "source": [
    "# 문제 설명(제일 작은 수 제거하기)\n",
    "# 정수를 저장한 배열, arr 에서 가장 작은 수를 제거한 배열을 리턴하는 함수, solution을 완성해주세요. 단, 리턴하려는 배열이 빈 배열인 경우엔 배열에 -1을 채워 리턴하세요. 예를들어 arr이 [4,3,2,1]인 경우는 [4,3,2]를 리턴 하고, [10]면 [-1]을 리턴 합니다.\n",
    "\n",
    "# 제한 조건\n",
    "# arr은 길이 1 이상인 배열입니다.\n",
    "# 인덱스 i, j에 대해 i ≠ j이면 arr[i] ≠ arr[j] 입니다."
   ]
  },
  {
   "cell_type": "code",
   "execution_count": null,
   "id": "ec6150d0-44b3-4ad1-a6ac-e0e93eceb606",
   "metadata": {},
   "outputs": [],
   "source": [
    "# sol1\n",
    "def solution(arr):\n",
    "    if len(arr) > 1:\n",
    "        arr.remove(min(arr))\n",
    "        \n",
    "        return arr\n",
    "    else:\n",
    "        return [-1]\n",
    "\n",
    "# sol 1-1\n",
    "def solution(arr):\n",
    "    if len(arr) == 1:\n",
    "        return [-1]\n",
    "    else:\n",
    "        arr.remove(min(arr))\n",
    "    return arr"
   ]
  }
 ],
 "metadata": {
  "kernelspec": {
   "display_name": "Python 3 (ipykernel)",
   "language": "python",
   "name": "python3"
  },
  "language_info": {
   "codemirror_mode": {
    "name": "ipython",
    "version": 3
   },
   "file_extension": ".py",
   "mimetype": "text/x-python",
   "name": "python",
   "nbconvert_exporter": "python",
   "pygments_lexer": "ipython3",
   "version": "3.8.20"
  }
 },
 "nbformat": 4,
 "nbformat_minor": 5
}
