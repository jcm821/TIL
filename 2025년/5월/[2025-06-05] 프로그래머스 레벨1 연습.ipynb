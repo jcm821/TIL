{
 "cells": [
  {
   "cell_type": "code",
   "execution_count": null,
   "id": "40d6ec27-4cdd-4dd7-a0e7-50c365f57237",
   "metadata": {},
   "outputs": [],
   "source": [
    "# 문제 설명(x만큼 간격이 있는 n개의 숫자)\n",
    "# 함수 solution은 정수 x와 자연수 n을 입력 받아, x부터 시작해 x씩 증가하는 숫자를 n개 지니는 리스트를 리턴해야 합니다. 다음 제한 조건을 보고, 조건을 만족하는 함수, solution을 완성해주세요.\n",
    "\n",
    "# 제한 조건\n",
    "# x는 -10000000 이상, 10000000 이하인 정수입니다.\n",
    "# n은 1000 이하인 자연수입니다."
   ]
  },
  {
   "cell_type": "code",
   "execution_count": null,
   "id": "d130f2c3-25e8-4267-b976-ec64614225e3",
   "metadata": {},
   "outputs": [],
   "source": [
    "# sol1\n",
    "def solution(x, n):\n",
    "    answer = []\n",
    "    # i=1부터 n까지 반복 실행\n",
    "    for i in range(1, n + 1):\n",
    "        # answer 마지막에 x*i 삽입\n",
    "        answer.append(x*i)\n",
    "    return answer"
   ]
  },
  {
   "cell_type": "code",
   "execution_count": null,
   "id": "1f49ef3d-9b62-4cc9-b967-6e9a6c39d04f",
   "metadata": {},
   "outputs": [],
   "source": [
    "# sol2\n",
    "def solution(x, n):\n",
    "    return [x*i for i in range(1, n + 1)]"
   ]
  },
  {
   "cell_type": "code",
   "execution_count": null,
   "id": "029550be-300d-454d-854a-118ea61412a5",
   "metadata": {},
   "outputs": [],
   "source": [
    "# sol3\n",
    "def solution(x, n):\n",
    "    return [i*x + x for i in range(n)]"
   ]
  },
  {
   "cell_type": "code",
   "execution_count": null,
   "id": "132888ea-620e-48e7-ab62-6580febd959f",
   "metadata": {},
   "outputs": [],
   "source": [
    "# 문제 설명\n",
    "# 이 문제에는 표준 입력으로 두 개의 정수 n과 m이 주어집니다.\n",
    "# 별(*) 문자를 이용해 가로의 길이가 n, 세로의 길이가 m인 직사각형 형태를 출력해보세요.\n",
    "\n",
    "# 제한 조건\n",
    "# n과 m은 각각 1000 이하인 자연수입니다."
   ]
  },
  {
   "cell_type": "code",
   "execution_count": null,
   "id": "efbb5fd9-f132-441d-a747-d9ba99de3f91",
   "metadata": {},
   "outputs": [],
   "source": [
    "# sol1\n",
    "a, b = map(int, input().strip().split(' '))\n",
    "\n",
    "for i in range(b):\n",
    "    print('*'*a)"
   ]
  },
  {
   "cell_type": "code",
   "execution_count": null,
   "id": "d31a4b5a-e3c4-4b71-b249-8bc76f4d3620",
   "metadata": {},
   "outputs": [],
   "source": [
    "# sol2\n",
    "a, b = map(int, input().strip().split(' '))\n",
    "answer = ('*'*a + '\\n')*b\n",
    "print(answer)"
   ]
  },
  {
   "cell_type": "code",
   "execution_count": null,
   "id": "a48265c9-46f7-4407-8338-c6b26abd1cf6",
   "metadata": {},
   "outputs": [],
   "source": [
    "a, b = map(int, input().strip().split(' '))\n",
    "\n",
    "for i in range(b):\n",
    "    for j in range(a):\n",
    "        print('*', end = '')\n",
    "    print('')"
   ]
  },
  {
   "cell_type": "code",
   "execution_count": null,
   "id": "b4505b6d-5a66-417f-8bce-5ea062c9dcc5",
   "metadata": {},
   "outputs": [],
   "source": [
    "# 문제 설명(모든 레코드 조회하기)\n",
    "# ANIMAL_INS 테이블은 동물 보호소에 들어온 동물의 정보를 담은 테이블입니다. ANIMAL_INS 테이블 구조는 다음과 같으며, ANIMAL_ID, ANIMAL_TYPE, DATETIME, INTAKE_CONDITION, NAME, SEX_UPON_INTAKE는 각각 동물의 아이디, 생물 종, 보호 시작일, 보호 시작 시 상태, 이름, 성별 및 중성화 여부를 나타냅니다.\n",
    "\n",
    "# NAME\tTYPE\tNULLABLE\n",
    "# ANIMAL_ID\tVARCHAR(N)\tFALSE\n",
    "# ANIMAL_TYPE\tVARCHAR(N)\tFALSE\n",
    "# DATETIME\tDATETIME\tFALSE\n",
    "# INTAKE_CONDITION\tVARCHAR(N)\tFALSE\n",
    "# NAME\tVARCHAR(N)\tTRUE\n",
    "# SEX_UPON_INTAKE\tVARCHAR(N)\tFALSE\n",
    "# 동물 보호소에 들어온 모든 동물의 정보를 ANIMAL_ID순으로 조회하는 SQL문을 작성해주세요. SQL을 실행하면 다음과 같이 출력되어야 합니다.\n",
    "\n",
    "# ANIMAL_ID\tANIMAL_TYPE\tDATETIME\tINTAKE_CONDITION\tNAME\tSEX_UPON_INTAKE\n",
    "# A349996\tCat\t2018-01-22 14:32:00\tNormal\tSugar\tNeutered Male\n",
    "# A350276\tCat\t2017-08-13 13:50:00\tNormal\tJewel\tSpayed Female\n",
    "# A350375\tCat\t2017-03-06 15:01:00\tNormal\tMeo\tNeutered Male\n",
    "# A352555\tDog\t2014-08-08 04:20:00\tNormal\tHarley\tSpayed Female"
   ]
  },
  {
   "cell_type": "code",
   "execution_count": null,
   "id": "a00e9077-a9a2-4411-a54c-eb3fb3d5e532",
   "metadata": {},
   "outputs": [],
   "source": [
    "SELECT * from ANIMAL_INS \n",
    "GROUP BY ANIMAL_ID\n",
    "ORDER BY ANIMAL_ID;"
   ]
  },
  {
   "cell_type": "code",
   "execution_count": null,
   "id": "0bb09430-9437-4173-b5f8-c800b5ab0576",
   "metadata": {},
   "outputs": [],
   "source": [
    "# 문제 설명(역순 정렬하기)\n",
    "# ANIMAL_INS 테이블은 동물 보호소에 들어온 동물의 정보를 담은 테이블입니다. ANIMAL_INS 테이블 구조는 다음과 같으며, ANIMAL_ID, ANIMAL_TYPE, DATETIME, INTAKE_CONDITION, NAME, SEX_UPON_INTAKE는 각각 동물의 아이디, 생물 종, 보호 시작일, 보호 시작 시 상태, 이름, 성별 및 중성화 여부를 나타냅니다.\n",
    "\n",
    "# NAME\tTYPE\tNULLABLE\n",
    "# ANIMAL_ID\tVARCHAR(N)\tFALSE\n",
    "# ANIMAL_TYPE\tVARCHAR(N)\tFALSE\n",
    "# DATETIME\tDATETIME\tFALSE\n",
    "# INTAKE_CONDITION\tVARCHAR(N)\tFALSE\n",
    "# NAME\tVARCHAR(N)\tTRUE\n",
    "# SEX_UPON_INTAKE\tVARCHAR(N)\tFALSE\n",
    "# 동물 보호소에 들어온 모든 동물의 이름과 보호 시작일을 조회하는 SQL문을 작성해주세요. 이때 결과는 ANIMAL_ID 역순으로 보여주세요. SQL을 실행하면 다음과 같이 출력되어야 합니다.\n",
    "\n",
    "# NAME\tDATETIME\n",
    "# Rocky\t2016-06-07 09:17:00\n",
    "# Shelly\t2015-01-29 15:01:00\n",
    "# Benji\t2016-04-19 13:28:00\n",
    "# Jackie\t2016-01-03 16:25:00\n",
    "# *Sam\t2016-03-13 11:17:00"
   ]
  },
  {
   "cell_type": "code",
   "execution_count": null,
   "id": "ce7e49a0-02dc-456b-bd74-265b266cce9d",
   "metadata": {},
   "outputs": [],
   "source": [
    "SELECT NAME, DATETIME FROM ANIMAL_INS\n",
    "ORDER BY ANIMAL_ID DESC;"
   ]
  },
  {
   "cell_type": "code",
   "execution_count": null,
   "id": "3c695230-78e0-444e-914a-06376446f14a",
   "metadata": {},
   "outputs": [],
   "source": [
    "# 문제 설명(아픈 동물 찾기)\n",
    "# ANIMAL_INS 테이블은 동물 보호소에 들어온 동물의 정보를 담은 테이블입니다. ANIMAL_INS 테이블 구조는 다음과 같으며, ANIMAL_ID, ANIMAL_TYPE, DATETIME, INTAKE_CONDITION, NAME, SEX_UPON_INTAKE는 각각 동물의 아이디, 생물 종, 보호 시작일, 보호 시작 시 상태, 이름, 성별 및 중성화 여부를 나타냅니다.\n",
    "\n",
    "# NAME\tTYPE\tNULLABLE\n",
    "# ANIMAL_ID\tVARCHAR(N)\tFALSE\n",
    "# ANIMAL_TYPE\tVARCHAR(N)\tFALSE\n",
    "# DATETIME\tDATETIME\tFALSE\n",
    "# INTAKE_CONDITION\tVARCHAR(N)\tFALSE\n",
    "# NAME\tVARCHAR(N)\tTRUE\n",
    "# SEX_UPON_INTAKE\tVARCHAR(N)\tFALSE\n",
    "# 동물 보호소에 들어온 동물 중 아픈 동물1의 아이디와 이름을 조회하는 SQL 문을 작성해주세요. 이때 결과는 아이디 순으로 조회해주세요.\n",
    "\n",
    "# 예시\n",
    "# 예를 들어 ANIMAL_INS 테이블이 다음과 같다면\n",
    "\n",
    "# ANIMAL_ID\tANIMAL_TYPE\tDATETIME\tINTAKE_CONDITION\tNAME\tSEX_UPON_INTAKE\n",
    "# A365172\tDog\t2014-08-26 12:53:00\tNormal\tDiablo\tNeutered Male\n",
    "# A367012\tDog\t2015-09-16 09:06:00\tSick\tMiller\tNeutered Male\n",
    "# A365302\tDog\t2017-01-08 16:34:00\tAged\tMinnie\tSpayed Female\n",
    "# A381217\tDog\t2017-07-08 09:41:00\tSick\tCherokee\tNeutered Male\n",
    "# 이 중 아픈 동물은 Miller와 Cherokee입니다. 따라서 SQL문을 실행하면 다음과 같이 나와야 합니다.\n",
    "\n",
    "# ANIMAL_ID\tNAME\n",
    "# A367012\tMiller\n",
    "# A381217\tCherokee"
   ]
  },
  {
   "cell_type": "code",
   "execution_count": null,
   "id": "602a1a46-3498-4d46-8bd6-8ef008c67498",
   "metadata": {},
   "outputs": [],
   "source": [
    "SELECT ANIMAL_ID, NAME FROM ANIMAL_INS\n",
    "WHERE INTAKE_CONDITION = 'Sick';"
   ]
  },
  {
   "cell_type": "code",
   "execution_count": null,
   "id": "5ac1d61f-b501-408d-990a-d3879d47741d",
   "metadata": {},
   "outputs": [],
   "source": [
    "# 문제 설명(어린 동물 찾기)\n",
    "# ANIMAL_INS 테이블은 동물 보호소에 들어온 동물의 정보를 담은 테이블입니다. ANIMAL_INS 테이블 구조는 다음과 같으며, ANIMAL_ID, ANIMAL_TYPE, DATETIME, INTAKE_CONDITION, NAME, SEX_UPON_INTAKE는 각각 동물의 아이디, 생물 종, 보호 시작일, 보호 시작 시 상태, 이름, 성별 및 중성화 여부를 나타냅니다.\n",
    "\n",
    "# NAME\tTYPE\tNULLABLE\n",
    "# ANIMAL_ID\tVARCHAR(N)\tFALSE\n",
    "# ANIMAL_TYPE\tVARCHAR(N)\tFALSE\n",
    "# DATETIME\tDATETIME\tFALSE\n",
    "# INTAKE_CONDITION\tVARCHAR(N)\tFALSE\n",
    "# NAME\tVARCHAR(N)\tTRUE\n",
    "# SEX_UPON_INTAKE\tVARCHAR(N)\tFALSE\n",
    "# 동물 보호소에 들어온 동물 중 젊은 동물1의 아이디와 이름을 조회하는 SQL 문을 작성해주세요. 이때 결과는 아이디 순으로 조회해주세요.\n",
    "\n",
    "# 예시\n",
    "# 예를 들어 ANIMAL_INS 테이블이 다음과 같다면\n",
    "\n",
    "# ANIMAL_ID\tANIMAL_TYPE\tDATETIME\tINTAKE_CONDITION\tNAME\tSEX_UPON_INTAKE\n",
    "# A365172\tDog\t2014-08-26 12:53:00\tNormal\tDiablo\tNeutered Male\n",
    "# A367012\tDog\t2015-09-16 09:06:00\tSick\tMiller\tNeutered Male\n",
    "# A365302\tDog\t2017-01-08 16:34:00\tAged\tMinnie\tSpayed Female\n",
    "# A381217\tDog\t2017-07-08 09:41:00\tSick\tCherokee\tNeutered Male\n",
    "# 이 중 젊은 동물은 Diablo, Miller, Cherokee입니다. 따라서 SQL문을 실행하면 다음과 같이 나와야 합니다.\n",
    "\n",
    "# ANIMAL_ID\tNAME\n",
    "# A365172\tDiablo\n",
    "# A367012\tMiller\n",
    "# A381217\tCherokee\n"
   ]
  },
  {
   "cell_type": "code",
   "execution_count": null,
   "id": "4afdff2c-2390-4f44-8f3b-bff42415e9f2",
   "metadata": {},
   "outputs": [],
   "source": [
    "SELECT ANIMAL_ID, NAME FROM ANIMAL_INS\n",
    "WHERE INTAKE_CONDITION != 'Aged';"
   ]
  },
  {
   "cell_type": "code",
   "execution_count": null,
   "id": "b8519363-a3f5-47de-a379-04fcbd1567c5",
   "metadata": {},
   "outputs": [],
   "source": [
    "# 문제 설명(이름이 없는 동물의 아이디)\n",
    "# ANIMAL_INS 테이블은 동물 보호소에 들어온 동물의 정보를 담은 테이블입니다. ANIMAL_INS 테이블 구조는 다음과 같으며, ANIMAL_ID, ANIMAL_TYPE, DATETIME, INTAKE_CONDITION, NAME, SEX_UPON_INTAKE는 각각 동물의 아이디, 생물 종, 보호 시작일, 보호 시작 시 상태, 이름, 성별 및 중성화 여부를 나타냅니다.\n",
    "\n",
    "# NAME\tTYPE\tNULLABLE\n",
    "# ANIMAL_ID\tVARCHAR(N)\tFALSE\n",
    "# ANIMAL_TYPE\tVARCHAR(N)\tFALSE\n",
    "# DATETIME\tDATETIME\tFALSE\n",
    "# INTAKE_CONDITION\tVARCHAR(N)\tFALSE\n",
    "# NAME\tVARCHAR(N)\tTRUE\n",
    "# SEX_UPON_INTAKE\tVARCHAR(N)\tFALSE\n",
    "# 동물 보호소에 들어온 동물 중, 이름이 없는 채로 들어온 동물의 ID를 조회하는 SQL 문을 작성해주세요. 단, ID는 오름차순 정렬되어야 합니다.\n",
    "\n",
    "# 예시\n",
    "# 예를 들어 ANIMAL_INS 테이블이 다음과 같다면\n",
    "\n",
    "# ANIMAL_ID\tANIMAL_TYPE\tDATETIME\tINTAKE_CONDITION\tNAME\tSEX_UPON_INTAKE\n",
    "# A368930\tDog\t2014-06-08 13:20:00\tNormal\tNULL\tSpayed Female\n",
    "# A524634\tDog\t2015-01-02 18:54:00\tNormal\t*Belle\tIntact Female\n",
    "# A465637\tDog\t2017-06-04 08:17:00\tInjured\t*Commander\tNeutered Male\n",
    "# 이름이 없는 채로 들어온 동물의 ID는 A368930입니다. 따라서 SQL을 실행하면 다음과 같이 출력되어야 합니다.\n",
    "\n",
    "# ANIMAL_ID\n",
    "# A368930"
   ]
  },
  {
   "cell_type": "code",
   "execution_count": null,
   "id": "7c259f2d-cf4b-46a5-9870-8b2970187fcd",
   "metadata": {},
   "outputs": [],
   "source": [
    "SELECT ANIMAL_ID FROM ANIMAL_INS\n",
    "WHERE NAME IS NULL;"
   ]
  }
 ],
 "metadata": {
  "kernelspec": {
   "display_name": "Python 3 (ipykernel)",
   "language": "python",
   "name": "python3"
  },
  "language_info": {
   "codemirror_mode": {
    "name": "ipython",
    "version": 3
   },
   "file_extension": ".py",
   "mimetype": "text/x-python",
   "name": "python",
   "nbconvert_exporter": "python",
   "pygments_lexer": "ipython3",
   "version": "3.8.20"
  }
 },
 "nbformat": 4,
 "nbformat_minor": 5
}
