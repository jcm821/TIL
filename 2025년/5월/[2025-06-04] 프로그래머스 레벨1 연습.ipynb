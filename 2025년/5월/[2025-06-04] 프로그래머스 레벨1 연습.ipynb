{
 "cells": [
  {
   "cell_type": "code",
   "execution_count": null,
   "id": "2496985a-537c-4444-8f92-d6b486c7c750",
   "metadata": {},
   "outputs": [],
   "source": [
    "# 문제 설명(하샤드 수)\n",
    "# 양의 정수 x가 하샤드 수이려면 x의 자릿수의 합으로 x가 나누어져야 합니다. 예를 들어 18의 자릿수 합은 1+8=9이고, 18은 9로 나누어 떨어지므로 18은 하샤드 수입니다. 자연수 x를 입력받아 x가 하샤드 수인지 아닌지 검사하는 함수, solution을 완성해주세요.\n",
    "\n",
    "# 제한 조건\n",
    "# x는 1 이상, 10000 이하인 정수입니다."
   ]
  },
  {
   "cell_type": "code",
   "execution_count": null,
   "id": "2f5f3f20-77ec-4007-8198-8fd6e3e96a29",
   "metadata": {},
   "outputs": [],
   "source": [
    "# 하샤드 수: 어떤 수가 자기 자신의 자릿수의 합으로 나누어 떨어지는 수를 뜻함"
   ]
  },
  {
   "cell_type": "code",
   "execution_count": null,
   "id": "77560c5c-4ea8-43a8-9283-4bf211925af8",
   "metadata": {},
   "outputs": [],
   "source": [
    "# sol1\n",
    "def solution(x):\n",
    "    # 원래 수 x가 자릿수 합으로 나누어떨어지는지 확인\n",
    "    # 조건이 참이면 True, 아니면 False를 반환\n",
    "    return x % sum([int(i) for i in str(x)]) == 0"
   ]
  },
  {
   "cell_type": "code",
   "execution_count": null,
   "id": "84d54740-4020-4285-b463-0098468b3571",
   "metadata": {},
   "outputs": [],
   "source": [
    "# sol2\n",
    "def solution(x):\n",
    "    answer = True\n",
    "    my_sum = 0\n",
    "    my_str = str(x)\n",
    "    for s in my_str:\n",
    "        my_sum += int(s)\n",
    "\n",
    "    # 자릿수의 합으로 나누어 떨어지지 않으\n",
    "    if x % my_sum:\n",
    "        answer = False\n",
    "    return answer"
   ]
  },
  {
   "cell_type": "code",
   "execution_count": null,
   "id": "ce4f5234-ee11-4a18-8dda-6d995cb0c697",
   "metadata": {},
   "outputs": [],
   "source": [
    "# 문제 설명(핸드폰 번호 가리기)\n",
    "# 프로그래머스 모바일은 개인정보 보호를 위해 고지서를 보낼 때 고객들의 전화번호의 일부를 가립니다.\n",
    "# 전화번호가 문자열 phone_number로 주어졌을 때, 전화번호의 뒷 4자리를 제외한 나머지 숫자를 전부 *으로 가린 문자열을 리턴하는 함수, solution을 완성해주세요.\n",
    "\n",
    "# 제한 조건\n",
    "# phone_number는 길이 4 이상, 20이하인 문자열입니다."
   ]
  },
  {
   "cell_type": "code",
   "execution_count": null,
   "id": "dd42889b-72dc-4dfd-ad10-d9d5074aa34f",
   "metadata": {},
   "outputs": [],
   "source": [
    "# sol1\n",
    "def solution(phone_number):\n",
    "    # 뒤 4자리를 제외한 길이만큼 *를 반복해서 만듦\n",
    "    # 전화번호에서 뒤 4자리만 잘라서 가져옴\n",
    "    return '*' * (len(phone_number) - 4) + phone_number[-4:]"
   ]
  },
  {
   "cell_type": "code",
   "execution_count": null,
   "id": "5d9e1b9d-05d1-45f7-927a-af1aef137887",
   "metadata": {},
   "outputs": [],
   "source": [
    "# sol2\n",
    "def solution(phone_number):\n",
    "    answer = ''\n",
    "    # 전화번호에서 앞부분만큼 반복 (뒤 4자리는 제외)\n",
    "    for i in range(0, len(phone_number) - 4):\n",
    "        answer += '*'\n",
    "    # phone_number[-4:]로 뒤 4자리 붙임\n",
    "    return answer + phone_number[-4:]"
   ]
  },
  {
   "cell_type": "code",
   "execution_count": null,
   "id": "e9627311-9857-4588-84c1-189875d2e906",
   "metadata": {},
   "outputs": [],
   "source": [
    "# 문제 설명(행렬의 덧셈)\n",
    "# 행렬의 덧셈은 행과 열의 크기가 같은 두 행렬의 같은 행, 같은 열의 값을 서로 더한 결과가 됩니다. 2개의 행렬 arr1과 arr2를 입력받아, 행렬 덧셈의 결과를 반환하는 함수, solution을 완성해주세요.\n",
    "\n",
    "# 제한 조건\n",
    "# 행렬 arr1, arr2의 행과 열의 길이는 500을 넘지 않습니다."
   ]
  },
  {
   "cell_type": "code",
   "execution_count": null,
   "id": "df9a0faf-0c71-4950-abc3-fcc0a80ed482",
   "metadata": {},
   "outputs": [],
   "source": [
    "# sol1\n",
    "def solution(arr1, arr2):\n",
    "    for i in range(len(arr1)):\n",
    "        for j in range(len(arr1[0])):\n",
    "            arr1[i][j] += arr2[i][j]\n",
    "    return arr1"
   ]
  }
 ],
 "metadata": {
  "kernelspec": {
   "display_name": "Python 3 (ipykernel)",
   "language": "python",
   "name": "python3"
  },
  "language_info": {
   "codemirror_mode": {
    "name": "ipython",
    "version": 3
   },
   "file_extension": ".py",
   "mimetype": "text/x-python",
   "name": "python",
   "nbconvert_exporter": "python",
   "pygments_lexer": "ipython3",
   "version": "3.8.20"
  }
 },
 "nbformat": 4,
 "nbformat_minor": 5
}
