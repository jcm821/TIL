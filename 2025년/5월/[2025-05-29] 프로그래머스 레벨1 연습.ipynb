{
 "cells": [
  {
   "cell_type": "code",
   "execution_count": null,
   "id": "7dd25777-eb70-4ef5-ad28-eb3494e57512",
   "metadata": {},
   "outputs": [],
   "source": [
    "# 문제 설명(짝수와 홀수)\n",
    "# 정수 num이 짝수일 경우 \"Even\"을 반환하고 홀수인 경우 \"Odd\"를 반환하는 함수, solution을 완성해주세요.\n",
    "\n",
    "# 제한 조건\n",
    "# num은 int 범위의 정수입니다.\n",
    "# 0은 짝수입니다."
   ]
  },
  {
   "cell_type": "code",
   "execution_count": null,
   "id": "df308f48-9ed1-49c6-878e-333d7c05c4c5",
   "metadata": {},
   "outputs": [],
   "source": [
    "# sol1\n",
    "def solution(num):\n",
    "    if num % 2 == 0:\n",
    "        return 'Even'\n",
    "    else:\n",
    "        return 'Odd'\n",
    "    return answer"
   ]
  },
  {
   "cell_type": "code",
   "execution_count": null,
   "id": "65d3638b-18a0-4c2c-8503-4fa4c3bdb4d7",
   "metadata": {},
   "outputs": [],
   "source": [
    "# 문제 설명(최대공약수와 최소공배수)\n",
    "# 두 수를 입력받아 두 수의 최대공약수와 최소공배수를 반환하는 함수, solution을 완성해 보세요. 배열의 맨 앞에 최대공약수, 그다음 최소공배수를 넣어 반환하면 됩니다. 예를 들어 두 수 3, 12의 최대공약수는 3, 최소공배수는 12이므로 solution(3, 12)는 [3, 12]를 반환해야 합니다.\n",
    "\n",
    "# 제한 사항\n",
    "# 두 수는 1이상 1000000이하의 자연수입니다."
   ]
  },
  {
   "cell_type": "code",
   "execution_count": null,
   "id": "1b247657-d0ec-423d-a161-f0a93fa5f687",
   "metadata": {},
   "outputs": [],
   "source": [
    "# 최대공약수와 최소공배수 문제는 유클리드 호제법 사용"
   ]
  },
  {
   "cell_type": "code",
   "execution_count": null,
   "id": "76ef5672-3cba-49a1-a1a2-ad662faccaf2",
   "metadata": {},
   "outputs": [],
   "source": [
    "# sol1\n",
    "# 최대공약수\n",
    "# n과 m 중 큰 수에서 작은 수를 나눈 나머지를 계속 구하면서, 나머지가 0이 될 때까지 반복\n",
    "# 나머지가 0이 되면, 그때의 n이 최대공약수(GCD)가 됨\n",
    "def gcd(n, m):\n",
    "    while m > 0:\n",
    "        n, m = m, n%m\n",
    "    return n\n",
    "\n",
    "# 최소공배수\n",
    "# 두 수의 곱을 최대공약수로 나누기\n",
    "def lcm(n, m):\n",
    "    return n*m / gcd(n, m)\n",
    "\n",
    "# 최대공약수와 최소공배수를 순서대로 리스트에 담아 반환\n",
    "def solution(n, m):\n",
    "    answer = []\n",
    "    answer.append(gcd(n,m))\n",
    "    answer.append(lcm(n,m))\n",
    "    return answer"
   ]
  },
  {
   "cell_type": "code",
   "execution_count": null,
   "id": "95ae7cb2-29c0-432c-b8f4-b30e79859785",
   "metadata": {},
   "outputs": [],
   "source": [
    "# sol2\n",
    "def solution(n, m):\n",
    "    # a와 b에 n, m 중 큰 수, 작은 수를 각각 저장\n",
    "    a, b = max(n, m), min(n, m)\n",
    "    t = 1\n",
    "    # while문으로 유클리드 호제법을 사용해 최대공약수(GCD)를 구함\n",
    "    while t > 0:\n",
    "        t = a % b\n",
    "        a, b = b ,t\n",
    "    # 최소공배수(LCM)는 n * m / a로 구함 (a는 최대공약수)\n",
    "    answer = [a, int(n * m / a)]\n",
    "    return answer"
   ]
  },
  {
   "cell_type": "code",
   "execution_count": null,
   "id": "bbdb0ba3-8be3-4a93-9433-ba21bed1a04c",
   "metadata": {},
   "outputs": [],
   "source": [
    "# 문제 설명(콜라츠 추측)\n",
    "# 1937년 Collatz란 사람에 의해 제기된 이 추측은, 주어진 수가 1이 될 때까지 다음 작업을 반복하면, 모든 수를 1로 만들 수 있다는 추측입니다. 작업은 다음과 같습니다.\n",
    "\n",
    "# 1-1. 입력된 수가 짝수라면 2로 나눕니다. \n",
    "# 1-2. 입력된 수가 홀수라면 3을 곱하고 1을 더합니다. \n",
    "# 2. 결과로 나온 수에 같은 작업을 1이 될 때까지 반복합니다. \n",
    "# 예를 들어, 주어진 수가 6이라면 6 → 3 → 10 → 5 → 16 → 8 → 4 → 2 → 1 이 되어 총 8번 만에 1이 됩니다. 위 작업을 몇 번이나 반복해야 하는지 반환하는 함수, solution을 완성해 주세요. 단, 주어진 수가 1인 경우에는 0을, 작업을 500번 반복할 때까지 1이 되지 않는다면 –1을 반환해 주세요.\n",
    "\n",
    "# 제한 사항\n",
    "# 입력된 수, num은 1 이상 8,000,000 미만인 정수입니다."
   ]
  },
  {
   "cell_type": "code",
   "execution_count": null,
   "id": "510c7121-8f7e-495c-8838-8424f76a9722",
   "metadata": {},
   "outputs": [],
   "source": [
    "# sol1\n",
    "def solution(num):\n",
    "    for i in range(500):\n",
    "        # num이 1이면, 지금까지 반복한 횟수(i)를 바로 반환\n",
    "        if num == 1:\n",
    "            return i\n",
    "        # num이 1이 아니면, num이 짝수면 2로 나누고, 홀수면 3을 곱하고 1을 더함\n",
    "        num = num / 2 if num % 2 == 0 else num*3 + 1\n",
    "    # 500번 반복해도 num이 1이 안 되면 -1을 반환\n",
    "    return -1"
   ]
  },
  {
   "cell_type": "code",
   "execution_count": null,
   "id": "7df6944a-7c0a-464f-b75f-ab9ab4a05ca8",
   "metadata": {},
   "outputs": [],
   "source": [
    "# sil2\n",
    "def collatz(num):\n",
    "    for i in range(500):\n",
    "        num=num/2 if num%2==0 else num*3+1\n",
    "        # num이 1이 되었는지 확인하고, 1이면 i+1을 반환\n",
    "        if num==1:\n",
    "            return i+1\n",
    "    return -1"
   ]
  }
 ],
 "metadata": {
  "kernelspec": {
   "display_name": "Python 3 (ipykernel)",
   "language": "python",
   "name": "python3"
  },
  "language_info": {
   "codemirror_mode": {
    "name": "ipython",
    "version": 3
   },
   "file_extension": ".py",
   "mimetype": "text/x-python",
   "name": "python",
   "nbconvert_exporter": "python",
   "pygments_lexer": "ipython3",
   "version": "3.8.20"
  }
 },
 "nbformat": 4,
 "nbformat_minor": 5
}
