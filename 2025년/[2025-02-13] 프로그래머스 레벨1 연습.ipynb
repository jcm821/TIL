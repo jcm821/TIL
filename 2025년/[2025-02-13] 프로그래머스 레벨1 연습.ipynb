{
 "cells": [
  {
   "cell_type": "code",
   "execution_count": null,
   "id": "3caa1fd0-fc69-4ad5-9dd4-cf0785917108",
   "metadata": {},
   "outputs": [],
   "source": [
    "# 문제 설명(문자열 내 마음대로 정렬하기)\n",
    "# 문자열로 구성된 리스트 strings와, 정수 n이 주어졌을 때, 각 문자열의 인덱스 n번째 글자를 기준으로 오름차순 정렬하려 합니다.\n",
    "# 예를 들어 strings가 [\"sun\", \"bed\", \"car\"]이고 n이 1이면 각 단어의 인덱스 1의 문자 \"u\", \"e\", \"a\"로 strings를 정렬합니다.\n",
    "\n",
    "# 제한 조건\n",
    "# strings는 길이 1 이상, 50이하인 배열입니다.\n",
    "# strings의 원소는 소문자 알파벳으로 이루어져 있습니다.\n",
    "# strings의 원소는 길이 1 이상, 100이하인 문자열입니다.\n",
    "# 모든 strings의 원소의 길이는 n보다 큽니다.\n",
    "# 인덱스 1의 문자가 같은 문자열이 여럿 일 경우, 사전순으로 앞선 문자열이 앞쪽에 위치합니다."
   ]
  },
  {
   "cell_type": "code",
   "execution_count": null,
   "id": "2e66839d-3fcd-48e4-ad4d-1f375411f0cd",
   "metadata": {},
   "outputs": [],
   "source": [
    "# sol1\n",
    "def solution(strings, n):\n",
    "    answer = []\n",
    "    for i in strings:\n",
    "        answer.append(i[n] + i)\n",
    "    answer.sort()\n",
    "    return [i[1:] for i in answer]"
   ]
  },
  {
   "cell_type": "code",
   "execution_count": null,
   "id": "ed7bf8e5-6b28-4bac-9d40-4a26838f4167",
   "metadata": {},
   "outputs": [],
   "source": [
    "# sol2\n",
    "def solution(strings, n):\n",
    "    strings.sort()\n",
    "    return sorted(strings, key = lambda x: x[n])"
   ]
  },
  {
   "cell_type": "code",
   "execution_count": null,
   "id": "bc4dc26f-fc6c-46b2-b013-fe54a1ae5fe3",
   "metadata": {},
   "outputs": [],
   "source": [
    "# 문제 설명(문자열 내 p와 y의 개수)\n",
    "# 대문자와 소문자가 섞여있는 문자열 s가 주어집니다. s에 'p'의 개수와 'y'의 개수를 비교해 같으면 True, 다르면 False를 return 하는 solution를 완성하세요. 'p', 'y' 모두 하나도 없는 경우는 항상 True를 리턴합니다. 단, 개수를 비교할 때 대문자와 소문자는 구별하지 않습니다.\n",
    "\n",
    "# 예를 들어 s가 \"pPoooyY\"면 true를 return하고 \"Pyy\"라면 false를 return합니다.\n",
    "\n",
    "# 제한사항\n",
    "# 문자열 s의 길이 : 50 이하의 자연수\n",
    "# 문자열 s는 알파벳으로만 이루어져 있습니다."
   ]
  },
  {
   "cell_type": "code",
   "execution_count": null,
   "id": "2f054723-78f8-4d3f-a306-8a9a2c173c17",
   "metadata": {},
   "outputs": [],
   "source": [
    "# sol1\n",
    "def solution(s):\n",
    "    answer = True\n",
    "    s = s.lower()\n",
    "    \n",
    "    p = s.count('p')\n",
    "    y = s.count('y')\n",
    "    \n",
    "    if p != y:\n",
    "        answer = False\n",
    "\n",
    "    return answer"
   ]
  },
  {
   "cell_type": "code",
   "execution_count": null,
   "id": "f147675a-dd4c-48dd-9d9c-2f0b0d0d5279",
   "metadata": {},
   "outputs": [],
   "source": [
    "# sol2\n",
    "def solution(s):\n",
    "    return s.lower().count('p') == s.lower().count('y')"
   ]
  }
 ],
 "metadata": {
  "kernelspec": {
   "display_name": "Python 3 (ipykernel)",
   "language": "python",
   "name": "python3"
  },
  "language_info": {
   "codemirror_mode": {
    "name": "ipython",
    "version": 3
   },
   "file_extension": ".py",
   "mimetype": "text/x-python",
   "name": "python",
   "nbconvert_exporter": "python",
   "pygments_lexer": "ipython3",
   "version": "3.8.20"
  }
 },
 "nbformat": 4,
 "nbformat_minor": 5
}
