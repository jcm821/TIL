{
 "cells": [
  {
   "cell_type": "code",
   "execution_count": null,
   "id": "5c2a107b-3e84-45eb-803d-5c900ad10f8c",
   "metadata": {},
   "outputs": [],
   "source": [
    "# 문제 설명(문자열 내림차순으로 배치하기)\n",
    "# 문자열 s에 나타나는 문자를 큰것부터 작은 순으로 정렬해 새로운 문자열을 리턴하는 함수, solution을 완성해주세요.\n",
    "# s는 영문 대소문자로만 구성되어 있으며, 대문자는 소문자보다 작은 것으로 간주합니다.\n",
    "\n",
    "# 제한 사항\n",
    "# str은 길이 1 이상인 문자열입니다."
   ]
  },
  {
   "cell_type": "code",
   "execution_count": null,
   "id": "e7e31b81-d058-46f0-8bfe-917bc681c69e",
   "metadata": {},
   "outputs": [],
   "source": [
    "# sol1\n",
    "def solution(s):\n",
    "    answer = ''\n",
    "    s = sorted(s, reverse = True)\n",
    "    for i in s:\n",
    "        answer += i\n",
    "    return answer"
   ]
  },
  {
   "cell_type": "code",
   "execution_count": null,
   "id": "7dd2a81c-1579-45b7-8219-28536b2c2a0e",
   "metadata": {},
   "outputs": [],
   "source": [
    "# sol2\n",
    "def solution(s):\n",
    "    return ''.join(sorted(s, reverse = True))"
   ]
  },
  {
   "cell_type": "code",
   "execution_count": null,
   "id": "501bd4d9-f718-49ef-a8dc-3c4fa58802bc",
   "metadata": {},
   "outputs": [],
   "source": [
    "# 문제 설명(문자열 다루기 기본)\n",
    "# 문자열 s의 길이가 4 혹은 6이고, 숫자로만 구성돼있는지 확인해주는 함수, solution을 완성하세요. 예를 들어 s가 \"a234\"이면 False를 리턴하고 \"1234\"라면 True를 리턴하면 됩니다.\n",
    "\n",
    "# 제한 사항\n",
    "# s는 길이 1 이상, 길이 8 이하인 문자열입니다.\n",
    "# s는 영문 알파벳 대소문자 또는 0부터 9까지 숫자로 이루어져 있습니다."
   ]
  },
  {
   "cell_type": "code",
   "execution_count": null,
   "id": "f7aea8b1-29a7-4e7e-b7e4-b20e03b93010",
   "metadata": {},
   "outputs": [],
   "source": [
    "# sol1\n",
    "def solution(s):\n",
    "    if len(s) == 4 or len(s) == 6:\n",
    "        answer = True\n",
    "    else:\n",
    "        return False\n",
    "    return s.isdigit()"
   ]
  },
  {
   "cell_type": "code",
   "execution_count": null,
   "id": "1d43a2c3-f148-4e84-8fb0-194bb4278ffe",
   "metadata": {},
   "outputs": [],
   "source": [
    "# sol2\n",
    "def solution(s):\n",
    "    return s.isdigit() and len(s) in [4, 6]"
   ]
  }
 ],
 "metadata": {
  "kernelspec": {
   "display_name": "Python 3 (ipykernel)",
   "language": "python",
   "name": "python3"
  },
  "language_info": {
   "codemirror_mode": {
    "name": "ipython",
    "version": 3
   },
   "file_extension": ".py",
   "mimetype": "text/x-python",
   "name": "python",
   "nbconvert_exporter": "python",
   "pygments_lexer": "ipython3",
   "version": "3.8.20"
  }
 },
 "nbformat": 4,
 "nbformat_minor": 5
}
