{
 "cells": [
  {
   "cell_type": "markdown",
   "id": "9a673ef8-0d48-42b5-8098-cb9bcc214a6d",
   "metadata": {},
   "source": [
    "# SQL 고급문법"
   ]
  },
  {
   "cell_type": "markdown",
   "id": "12ffd953-b35b-40da-b514-abd357a21db2",
   "metadata": {},
   "source": [
    "## 데이터 형식"
   ]
  },
  {
   "cell_type": "markdown",
   "id": "7fbcc79d-c6af-4de7-9e55-431ec602cb5b",
   "metadata": {},
   "source": [
    "### 정수형"
   ]
  },
  {
   "cell_type": "markdown",
   "id": "4477a356-9943-4e19-b037-60a8c468e0d9",
   "metadata": {},
   "source": [
    "* 소수점이 없는 문자, 인원 수, 가격, 수량 등에 사용\n",
    "* 추가로 BIT, MEDIUMINT등이 있으나 잘 사용하지 않는다.\n",
    "|데이터 형식|바이트 수|숫자 범위|\n",
    "|---|---|---|\n",
    "|TINYINT|1|-128 ~ 127|\n",
    "|SMALLINT|2|-32768 ~ 32767|\n",
    "|INT|4|약 -21억 ~ +21억|\n",
    "|BIGINT|8|약 -900경 ~ +900경|"
   ]
  },
  {
   "cell_type": "code",
   "execution_count": null,
   "id": "2054d4f6-d048-4e83-9dc3-5302841cd9cc",
   "metadata": {},
   "outputs": [],
   "source": [
    "# 정수형 데이터 형식을 확인\n",
    "USE market_db;\n",
    "CREATE TABLE hongong4 (\n",
    "tinyint_col TINYINT,\n",
    "smallint_col SMALLINT,\n",
    "int_col INT,\n",
    "bigint_col BIGINT);"
   ]
  },
  {
   "cell_type": "code",
   "execution_count": null,
   "id": "2b4b6ea1-76c2-461b-ac5d-21d322315436",
   "metadata": {},
   "outputs": [],
   "source": [
    "# 각 영역의 최대값 입력\n",
    "INSERT INTO hongong4 VALUES(127, 32767, 2147483647, 9000000000000000000);\n",
    "SELECT * FROM hongong4;"
   ]
  },
  {
   "attachments": {
    "7a295d13-4d62-4b7a-8443-65a0d1af0bce.png": {
     "image/png": "[encoded data removed]"
    }
   },
   "cell_type": "markdown",
   "id": "8c3551d3-c5c9-45e0-9269-12f79fb27202",
   "metadata": {},
   "source": [
    "![image.png](attachment:7a295d13-4d62-4b7a-8443-65a0d1af0bce.png)"
   ]
  },
  {
   "cell_type": "code",
   "execution_count": null,
   "id": "4fd58006-a848-4607-97e2-a5be7c4af318",
   "metadata": {},
   "outputs": [],
   "source": [
    "# 각 숫자에 1을 더해서 입력\n",
    "INSERT INTO hongong4 VALUES(128, 32768, 2147483648, 9000000000000000000);"
   ]
  },
  {
   "attachments": {
    "067a72e7-dc2d-4610-8918-ccb68e02eaa7.png": {
     "image/png": "[encoded data removed]"
    }
   },
   "cell_type": "markdown",
   "id": "924abeb1-9cbf-491b-a2d2-856193a25300",
   "metadata": {},
   "source": [
    "![image.png](attachment:067a72e7-dc2d-4610-8918-ccb68e02eaa7.png)"
   ]
  },
  {
   "cell_type": "code",
   "execution_count": null,
   "id": "8a9500b0-f946-40e3-bdda-6dadff8def85",
   "metadata": {},
   "outputs": [],
   "source": [
    "# 기존 member테이블의 데이터 형식\n",
    "CREATE TABLE `member` (\n",
    "  `mem_id` char(8) NOT NULL,\n",
    "  `mem_name` varchar(10) NOT NULL,\n",
    "  `mem_number` int NOT NULL,\n",
    "  `addr` char(2) NOT NULL,\n",
    "  `phone1` char(3) DEFAULT NULL,\n",
    "  `phone2` char(8) DEFAULT NULL,\n",
    "  `height` smallint DEFAULT NULL,\n",
    "  `debut_date` date DEFAULT NULL,"
   ]
  },
  {
   "cell_type": "markdown",
   "id": "157b1ab3-10b6-4584-a8a2-a501d00e6862",
   "metadata": {},
   "source": [
    "* 앞서 만들었던 인터넷 마켓의 회원 테이블에서 인원수 열은 INT로, 평균키 열은 SMALLINT로 지정했다.\n",
    "* 인원수 열은 INT로 지정해서 -21억 ~ +21억까지 저장할 수 있는데, 가수 그룹의 인원이 이렇게 많을 필요는 없다. -> 최대 127명까지 지정할 수 있는 TINYINT로 지정해도 충분함\n",
    "* 평균키 열은 SMALLINT로 지정해서 -32768 ~ 32767까지 저장할 수 있다. 키 역시 30000cm가 넘을 리는 없으므로 TINYINT를 고려할 수 있다.\n",
    "* 그러나 TINYINT는 -128 ~ 127로 200cm가 넘는 사람도 있으므로 범위가 부족함\n",
    "* **UNSIGNED** 예약어 사용으로 해결할 수 있음. TINYINT와 UNSIGNED모두 1바이트의 크기, 1바이트는 256개를 표현하므로 -128 ~ 127로 표현하거나, 0 ~ 255로 표현하거나 모두 256개를 표현함\n",
    "* 즉, 정수형에 UNSIGNED를 붙이면 범위가 0부터 지정된다."
   ]
  },
  {
   "cell_type": "code",
   "execution_count": null,
   "id": "cbae6df1-203c-4410-a45b-a5b727984788",
   "metadata": {},
   "outputs": [],
   "source": [
    "# 최적의 member테이블의 데이터 형식\n",
    "CREATE TABLE `member` (\n",
    "  `mem_id` char(8) NOT NULL,\n",
    "  `mem_name` varchar(10) NOT NULL,\n",
    "  `mem_number` tinyint NOT NULL,\n",
    "  `addr` char(2) NOT NULL,\n",
    "  `phone1` char(3) DEFAULT NULL,\n",
    "  `phone2` char(8) DEFAULT NULL,\n",
    "  `height` tinyint unsigned DEFAULT NULL,\n",
    "  `debut_date` date DEFAULT NULL,"
   ]
  },
  {
   "cell_type": "markdown",
   "id": "5cb1a229-af4a-4913-ab17-5c843875c659",
   "metadata": {},
   "source": [
    "### 문자형"
   ]
  },
  {
   "cell_type": "markdown",
   "id": "f5d64c0c-fe03-4ef0-a9bb-6546614aa1e0",
   "metadata": {},
   "source": [
    "* 글자를 지정하기 위해 사용, 입력할 최대 글자의 개수를 지정해야 한다.\n",
    "* 보편적으로 고정형 문자형인 CHAR, 가변형 문자형인 VARCHAR가 있다.\n",
    "* 문자형에는 BINARY, VARBINARY도 있지만 잘 사용하지 않는다.\n",
    "|데이터 형식|바이트 수|\n",
    "|---|---|\n",
    "|CHAR(개수)|1~255|\n",
    "|VARCHAR(개수)|1~16383|"
   ]
  },
  {
   "cell_type": "markdown",
   "id": "158cc0bd-4c53-4245-b5e3-1a02d0ec5c42",
   "metadata": {},
   "source": [
    "* VARCHAR가 CHAR보다 공간을 효율적으로 운영할 수 있지만, MySQL 내부적으로 성능(빠른 속도)면에는 CHAR로 설정하는 것이 더 좋다.\n",
    "* 거주지역을 서울/부산/경기/경북/전남과 같이 시도만 저장할 경우에는 모두 2글자로 일정 -> CHAR(2)로 설정\n",
    "* 가수그룹의 이름은 '잇지'처럼 2글자도 있지만, '방탄소년단'과 같이 좀 더 긴 글자도 존재 -> VARCHAR로 설정\n",
    "* 이때, 좀 더 긴 이름을 위해서 VARCHAR(10)정도로 여유롭게 설정하는 것이 적절"
   ]
  },
  {
   "cell_type": "code",
   "execution_count": null,
   "id": "9a5208c3-2cfb-4128-a590-e0be759ccd98",
   "metadata": {},
   "outputs": [],
   "source": [
    "# member테이블의 문자형 형식 확인\n",
    "CREATE TABLE `member` (\n",
    "  `mem_id` char(8) NOT NULL,\n",
    "  `mem_name` varchar(10) NOT NULL,\n",
    "  `mem_number` tinyint NOT NULL,\n",
    "  `addr` char(2) NOT NULL,\n",
    "  `phone1` char(3) DEFAULT NULL,\n",
    "  `phone2` char(8) DEFAULT NULL,\n",
    "  `height` tinyint unsigned DEFAULT NULL,\n",
    "  `debut_date` date DEFAULT NULL,"
   ]
  },
  {
   "cell_type": "markdown",
   "id": "785d8d1c-6908-438c-84cc-ac8c44ed6efa",
   "metadata": {},
   "source": [
    "* 회원 아이디는 BLK, APK, GRL등 3글자로 되어있는데, 데이터 형식은 CHAR(8)로 설정되어 있다.\n",
    "* CHAR(3)으로 줄여도 되지만 향후에 더 긴 회원 아이디를 만들 수 있다고 가정하고 CHAR(8)로 설정했음 -> VARCHAR(8)로 변경해도 상관없음\n",
    "* 연락처 국번(phone1)과 연락처 전화번호(phone2)에서 연락처 국번은 02, 031, 055 등과 같이 제일 앞에 0이 붙어야 하는데 정수형으로 지정하면 0이 사라짐 -> CHAR로 지정\n",
    "* 마찬가지로 전화번호 역시 모두 숫자로 이루어져 있어 정수형으로 지정해야 할 것 같음 -> 전화번호는 숫자로서 의미가 없기 때문에 CHAR로 지정\n",
    "* 숫자로서 의미를 가지려면 다음 2가지 중 한가지는 충족해야 한다.\n",
    "    - 더하기/빼기 등의 연산에 의미가 있다.\n",
    "    - 크다/작다 또는 순서에 의미가 있다.\n",
    "* 데이터가 숫자 형태라도 연산이나 크기에 의미가 없다면 문자형으로 지정하는 것이 좋다.\n",
    "* 전화번호는 문자형이 더 효과적이기는 하나, 정수형으로 지정했다고 반드시 틀렸다고는 할 수 없다. 효율성이나 타당성면에서 좀 더 비효율적인 부분"
   ]
  },
  {
   "cell_type": "markdown",
   "id": "7707c352-a08b-4be7-abcb-5af4a6f7b50a",
   "metadata": {},
   "source": [
    "### 대량의 데이터 형식"
   ]
  },
  {
   "cell_type": "markdown",
   "id": "22c99e51-3d2c-4ab5-9945-76e1b4d70544",
   "metadata": {},
   "source": [
    "* 문자형인 CHAR는 최대 255자까지, VARCHAR는 최대 16383자까지 지정 가능\n",
    "* 다음의 테이블 만들기는 오류가 발생한다. 열의 길이를 너무 크게 설정했다는 오류이다."
   ]
  },
  {
   "cell_type": "code",
   "execution_count": null,
   "id": "4496a04e-a5cb-4ec2-bce2-c1a4178ecea0",
   "metadata": {},
   "outputs": [],
   "source": [
    "# 열의 길이를 너무 크게 설정하여 나타난 오류\n",
    "CREATE TABLE big_table(\n",
    "data1 CHAR(256),\n",
    "data2 VARCHAR(16384));"
   ]
  },
  {
   "attachments": {
    "1c6eb522-c174-46d8-95b0-3e157a292f40.png": {
     "image/png": "[encoded data removed]"
    }
   },
   "cell_type": "markdown",
   "id": "5e50f26d-3c90-42ea-81bf-b436a1e62240",
   "metadata": {},
   "source": [
    "![image.png](attachment:1c6eb522-c174-46d8-95b0-3e157a292f40.png)"
   ]
  },
  {
   "cell_type": "markdown",
   "id": "3899a4c1-b32c-4e33-a9cf-29e922d67951",
   "metadata": {},
   "source": [
    "* 더 큰 데이터를 저장하려면 다음과 같은 형식을 사용한다.\n",
    "* 추가로 TINYTEXT, MEDIUMTEXT, TINYBLOB, MEDIUMBLOB등도 있지만 잘 사용하지 않는다."
   ]
  },
  {
   "attachments": {
    "95256fe6-b279-4aaf-b3d7-6f6a01620f66.png": {
     "image/png": "[encoded data removed]"
    }
   },
   "cell_type": "markdown",
   "id": "e06d183b-623a-4810-82b4-8d387a43c9f9",
   "metadata": {},
   "source": [
    "![image.png](attachment:95256fe6-b279-4aaf-b3d7-6f6a01620f66.png)"
   ]
  },
  {
   "cell_type": "markdown",
   "id": "a520bd37-b201-47b8-9794-a52043d12d1a",
   "metadata": {},
   "source": [
    "* TEXT로 지정하면 최대 65535까지, LONGTEXT로 지정하면 최대 약 42억자까지 저장된다.\n",
    "* 소설이나 영화 대본과 같은 내용을 저장한다면 필요한 데이터 형식\n",
    "* BLOB은 Binary Long Object의 약자, 글자가 아닌 이미지, 동영상 등의 데이터로 이루어진 이진 데이터를 말한다.\n",
    "* 테이블에 사진이나 동영상과 같은 것을 저장하고 싶다면 BLOB이나 LONGBLOB로 데이터 형식을 저장해야 한다."
   ]
  },
  {
   "cell_type": "markdown",
   "id": "a3d15d76-636a-4f76-b41e-725d40825c8c",
   "metadata": {},
   "source": [
    "* 예를 들어 넷플릭스와 같은 동영상 사이트라면 다음의 비슷한 테이블을 운영할 것이다."
   ]
  },
  {
   "cell_type": "code",
   "execution_count": null,
   "id": "1ba3fad9-6533-4937-aca0-9403a4186821",
   "metadata": {},
   "outputs": [],
   "source": [
    "# 넷플릭스와 같은 동영상 사이트의 테이블 구조\n",
    "CREATE DATABASE netflix_db;\n",
    "USE netflix_db;\n",
    "CREATE TABLE movie\n",
    "(movie_id\tINT,\n",
    "movie_title\tVARCHAR(30),\n",
    "movie_director\tVARCHAR(20),\n",
    "movie_star\tVARCHAR(20),\n",
    "movie_script\tLONGTEXT,\n",
    "movie_film\tLONGBLOB\n",
    ")"
   ]
  },
  {
   "cell_type": "markdown",
   "id": "dd2478e8-b12b-4910-8668-09bc82b7016c",
   "metadata": {},
   "source": [
    "* 다른 열은 정수형이나 문자형으로 지정하면 되며, 자막 열은 LONGTEXT, 동영상은 LONGBLOB으로 설정해야 대용량의 텍스트와 이진데이터를 저장할 수 있다.\n",
    "* LONGTEXT 및 LONGBLOB으로 설정하면 각 데이터는 최대 4GB까지 입력할 수 있다."
   ]
  },
  {
   "cell_type": "markdown",
   "id": "f8cb6144-bb94-4d47-9d04-23187f3f3398",
   "metadata": {},
   "source": [
    "### 실수형"
   ]
  },
  {
   "cell_type": "markdown",
   "id": "8b5fa9da-a894-423b-b339-1d9bf1f54ccf",
   "metadata": {},
   "source": [
    "* 소수점이 있는 숫자를 저장할 때 사용\n",
    "|데이터 형식|바이트 수|설명|\n",
    "|----|----|----|\n",
    "|FLOAT|4|소수점 아래 7자리까지 표현|\n",
    "|BOUBLE|8|소수점 아래 15자리까지 표현|"
   ]
  },
  {
   "cell_type": "markdown",
   "id": "7c1fb10a-c676-4a1b-84eb-3c822546a0ff",
   "metadata": {},
   "source": [
    "* FLOAT과 DOUBLE은 거의 비슷하다. 소수점 아래를 어디까지 정밀하게 표현하는지의 차이, 과학 기술용 데이터가 아닌 이상 FLOAT이면 충분하다.\n",
    "* 예를 들어 시력은 2.0, 1.5, 0.7등과 같이 나오므로 FLOAT로 설정하는 것이 적합"
   ]
  },
  {
   "cell_type": "markdown",
   "id": "18e96bd3-1562-46ab-a8bf-2e9d4241917e",
   "metadata": {},
   "source": [
    "### 날짜형"
   ]
  },
  {
   "cell_type": "markdown",
   "id": "9d0649b1-06ef-41fe-b2cd-9b33561efbc0",
   "metadata": {},
   "source": [
    "* 날짜 및 시간을 저장할 때 사용\n",
    "|데이터 형식|바이트 수|설명|\n",
    "|---|---|---|\n",
    "|DATE|3|날짜만 저장, YYYY-MM-DD 형식으로 사용|\n",
    "|TIME|3|시간만 저장, HH:MM:SS 형식으로 사용|\n",
    "|DATETIME|8|날짜 및 시간을 저장, YYYY-MM-DD HH:MM:SS 형식으로 사용|"
   ]
  },
  {
   "cell_type": "markdown",
   "id": "d688617e-c15f-4f93-b322-713168e6dc0f",
   "metadata": {},
   "source": [
    "* DATE는 날짜만, TIME은 시간만 저장한다. 날짜와 시간 모두 저장하고 싶으면 DATETIME을 사용한다.\n",
    "* 인터넷 마켓 데이터베이스의 데뷔일자는 DATE로 설정했다.\n",
    "* 만약 구매 테이블의 구매한 기록이 필요하면 DATETIME으로 설정하는 것이 바람직하다. -> 구매한 날짜 및 시간까지 저장해야 하기 때문\n",
    "* 날짜 또는 시간을 입력할 때는 문자와 마찬가지로 작은따옴표로 묶어줘야 한다."
   ]
  },
  {
   "cell_type": "markdown",
   "id": "00039750-b7f5-42fc-b32f-2164326e076a",
   "metadata": {},
   "source": [
    "## 변수의 사용"
   ]
  },
  {
   "cell_type": "markdown",
   "id": "6253122a-96ea-472f-922e-814b1bf2c597",
   "metadata": {},
   "source": [
    "* MySQL에서 제공되는 변수 앞에는 @를 붙인다.\n",
    "* SET문으로 변수에 값을 대입한다."
   ]
  },
  {
   "cell_type": "code",
   "execution_count": null,
   "id": "f2d12b1a-c65d-4b7e-b374-dcd775b105fc",
   "metadata": {},
   "outputs": [],
   "source": [
    "# 변수의 선언 및 값 대입\n",
    "SET @변수이름 = 변수의 값;\n",
    "\n",
    "# 변수의 값 출력\n",
    "SELECT @변수이름;"
   ]
  },
  {
   "cell_type": "markdown",
   "id": "29727842-dbdb-4d95-9362-82502dc45b65",
   "metadata": {},
   "source": [
    "* 변수의 사용 예를 다음과 같이 볼 수 있다."
   ]
  },
  {
   "cell_type": "code",
   "execution_count": null,
   "id": "13476ccf-067e-40be-8ae3-5910a53ed5c5",
   "metadata": {},
   "outputs": [],
   "source": [
    "# 변수의 사용\n",
    "USE market_db;\n",
    "SET @myVar1 = 5;\n",
    "SET @myVar2 = 4.25;\n",
    "\n",
    "SELECT @myVar1;\n",
    "SELECT @myVar1 + @myVar2;\n",
    "\n",
    "SET @txt = '가수이름==> ';\n",
    "SET @height = 166;\n",
    "SELECT @txt, mem_name FROM member WHERE height > @height;"
   ]
  },
  {
   "attachments": {
    "7ac4e964-7bef-45d1-8755-66e989180525.png": {
     "image/png": "[encoded data removed]"
    }
   },
   "cell_type": "markdown",
   "id": "eab58e16-4b3c-4fb5-bf8f-5dcd3a869081",
   "metadata": {},
   "source": [
    "![image.png](attachment:7ac4e964-7bef-45d1-8755-66e989180525.png)"
   ]
  },
  {
   "attachments": {
    "49aef8c7-c3e1-446e-8b41-e46c5639d882.png": {
     "image/png": "[encoded data removed]"
    }
   },
   "cell_type": "markdown",
   "id": "c525e2d0-2311-4e2c-b446-7983f7773454",
   "metadata": {},
   "source": [
    "![image.png](attachment:49aef8c7-c3e1-446e-8b41-e46c5639d882.png)"
   ]
  },
  {
   "attachments": {
    "3fd7f3b8-5434-452e-a538-3d65f54d882c.png": {
     "image/png": "[encoded data removed]"
    }
   },
   "cell_type": "markdown",
   "id": "ef6f3ce0-28e5-40a2-93d3-1a64af3625a4",
   "metadata": {},
   "source": [
    "![image.png](attachment:3fd7f3b8-5434-452e-a538-3d65f54d882c.png)"
   ]
  },
  {
   "cell_type": "markdown",
   "id": "9711b18f-a2ef-4c45-bc32-837a6499e3ca",
   "metadata": {},
   "source": [
    "* LIMIT에 변수를 사용하면 SELECT문에서 오류가 발생한다.\n",
    "* LIMIT에는 변수를 사용할 수 없기 때문에 문법상 오류이다."
   ]
  },
  {
   "cell_type": "code",
   "execution_count": null,
   "id": "3344c0b2-678a-4798-8e94-1b02f62699e9",
   "metadata": {},
   "outputs": [],
   "source": [
    "# LIMIT에 변수 사용\n",
    "SET @count = 3;\n",
    "SELECT mem_name, height FROM member ORDER BY height LIMIT @count;"
   ]
  },
  {
   "attachments": {
    "60a72b5a-a111-47a2-a29e-5d06122de6e8.png": {
     "image/png": "[encoded data removed]"
    }
   },
   "cell_type": "markdown",
   "id": "c3df8f14-76cf-4d06-a261-8c60c4eb550f",
   "metadata": {},
   "source": [
    "![image.png](attachment:60a72b5a-a111-47a2-a29e-5d06122de6e8.png)"
   ]
  },
  {
   "cell_type": "markdown",
   "id": "39e8e7d4-190c-446e-b938-ecc1c3d08392",
   "metadata": {},
   "source": [
    "* 이를 해결하는 것이 PREPARE와 EXECUTE이다.\n",
    "* PREPARE는 실행하지 않고 SQL문만 준비해 놓고 EXECUTE에서 실행하는 방식이다."
   ]
  },
  {
   "cell_type": "code",
   "execution_count": null,
   "id": "fc24e64c-9e71-4efe-af4a-263371a40141",
   "metadata": {},
   "outputs": [],
   "source": [
    "# prepare, execute 예시구문\n",
    "SET @count = 3;\n",
    "# ?는 '현재는 모르지만 나중에 채워짐'정도로 이해하면 된다\n",
    "PREPARE mySQL FROM 'SELECT mem_name, height FROM member ORDER BY height LIMIT ?';\n",
    "EXECUTE mySQL USING @count;"
   ]
  },
  {
   "attachments": {
    "a26d00d8-1a00-459e-81c1-cd07cc8bbe00.png": {
     "image/png": "[encoded data removed]"
    }
   },
   "cell_type": "markdown",
   "id": "5275e09f-8183-40b7-978e-ba23c4ef0e52",
   "metadata": {},
   "source": [
    "![image.png](attachment:a26d00d8-1a00-459e-81c1-cd07cc8bbe00.png)"
   ]
  },
  {
   "cell_type": "markdown",
   "id": "c62a93bf-311c-425c-988e-c6837cf80810",
   "metadata": {},
   "source": [
    "## 데이터 형 변환"
   ]
  },
  {
   "cell_type": "markdown",
   "id": "609f47e4-17ac-45dd-98c9-8e8af2dbc93f",
   "metadata": {},
   "source": [
    "* **형 변환**: 문자형을 정수형으로 바꾸거나, 반대로 정수형을 문자형으로 바꾸는 것\n",
    "* **명시적인 변환**: 직접 함수를 사용해서 변환\n",
    "* **암시적인 변환**: 별도의 지시 없이 자연스럽게 변환"
   ]
  },
  {
   "cell_type": "markdown",
   "id": "caf84dcc-ac7b-498b-b940-5faaf6861b84",
   "metadata": {},
   "source": [
    "### 함수를 이용한 명시적인 변환"
   ]
  },
  {
   "cell_type": "markdown",
   "id": "c1c95390-2e15-4aa7-90af-9a1153f38f8b",
   "metadata": {},
   "source": [
    "* 데이터 형식을 변환하는 함수는 CAST(), CONVERT()이다. CAST(), CONVERT()는 형식만 다를 뿐 동일한 기능을 한다\n",
    "* CAST(값 AS 데이터 형식 [ (길이) ])\n",
    "* CONVERT(값, 데이터 형식 [ (길이) ])"
   ]
  },
  {
   "cell_type": "code",
   "execution_count": null,
   "id": "89e5928e-e77a-4b24-8309-b94f8730962f",
   "metadata": {},
   "outputs": [],
   "source": [
    "# CAST(), CONVERT()를 이용한 예시\n",
    "# 결과는 실수로 도출됨\n",
    "SELECT AVG(price) AS '평균 가격' FROM buy;"
   ]
  },
  {
   "attachments": {
    "e79875ef-17d1-4cc4-b54c-90879e0a9bd6.png": {
     "image/png": "[encoded data removed]"
    }
   },
   "cell_type": "markdown",
   "id": "88f2a392-682b-48cb-8711-6f71e9154959",
   "metadata": {},
   "source": [
    "![image.png](attachment:e79875ef-17d1-4cc4-b54c-90879e0a9bd6.png)"
   ]
  },
  {
   "cell_type": "markdown",
   "id": "778460f5-1197-44f4-9882-91fca50fd275",
   "metadata": {},
   "source": [
    "* CAST(), CONVERT() 함수 안에 들어올 수 있는 데이터 형식은 CHAR, SIGNED, UNSIGNED, DATE, TIME, DATETIME 등이 있다.\n",
    "* SIGNED는 부호가 있는 정수, UNSIGNED는 부호가 없는 정수를 의미한다.\n",
    "* SIGNED는 SIGNED INTEGAR, UNSIGNED는 UNSIGNED INTEGAR라고 써도 된다."
   ]
  },
  {
   "cell_type": "code",
   "execution_count": null,
   "id": "8e34866f-9f00-4e47-9268-3cdc98f7802b",
   "metadata": {},
   "outputs": [],
   "source": [
    "# CAST(), CONVERT()를 이용한 데이터 형 변환\n",
    "# CAST()\n",
    "SELECT CAST(AVG(price) AS SIGNED) '평균 가격' FROM buy;\n",
    "# CONVERT()\n",
    "SELECT CONVERT(AVG(price), SIGNED) '평균 가격' FROM buy;"
   ]
  },
  {
   "attachments": {
    "f6c5424a-d756-4cc5-9462-9e6cf596d24c.png": {
     "image/png": "[encoded data removed]"
    }
   },
   "cell_type": "markdown",
   "id": "21c52373-9694-475b-9dd0-6358263b38c0",
   "metadata": {},
   "source": [
    "![image.png](attachment:f6c5424a-d756-4cc5-9462-9e6cf596d24c.png)"
   ]
  },
  {
   "cell_type": "code",
   "execution_count": null,
   "id": "99bd22fe-99d3-441d-a819-43449f4911e5",
   "metadata": {},
   "outputs": [],
   "source": [
    "# 날짜데이터 형 변환, 다양한 구분자를 날짜형으로 변경할 수 있다\n",
    "SELECT CAST('2022$12$12' AS DATE);\n",
    "SELECT CAST('2022/12/12' AS DATE);\n",
    "SELECT CAST('2022%12%12' AS DATE);\n",
    "SELECT CAST('2022@12@12' AS DATE);"
   ]
  },
  {
   "attachments": {
    "9afecb4b-b848-4d1f-ac1a-afd84daa97f2.png": {
     "image/png": "[encoded data removed]"
    }
   },
   "cell_type": "markdown",
   "id": "23bdf34b-7245-429f-baa1-073e0bf499b7",
   "metadata": {},
   "source": [
    "![image.png](attachment:9afecb4b-b848-4d1f-ac1a-afd84daa97f2.png)"
   ]
  },
  {
   "cell_type": "code",
   "execution_count": null,
   "id": "c404e21f-344e-4f0d-98a8-a0a760feb30d",
   "metadata": {},
   "outputs": [],
   "source": [
    "# 가격과 수량을 곱한 실제 구매액을 표시하는 SQL\n",
    "SELECT num, CONCAT(CAST(price AS CHAR), 'X', CAST(amount AS CHAR), '=') \n",
    "AS '가격X수량', price*amount AS '구매액'\n",
    "FROM buy;"
   ]
  },
  {
   "attachments": {
    "627858d5-ab9c-44c2-ad15-95fe180eb205.png": {
     "image/png": "[encoded data removed]"
    }
   },
   "cell_type": "markdown",
   "id": "8f78acfa-2723-4487-b938-5cdfcce9b824",
   "metadata": {},
   "source": [
    "![image.png](attachment:627858d5-ab9c-44c2-ad15-95fe180eb205.png)"
   ]
  },
  {
   "cell_type": "markdown",
   "id": "c6ca3f4f-023c-4e61-b433-ac5b7eb64318",
   "metadata": {},
   "source": [
    "* 가격과 수량은 정수지만 CAST()함수를 통해 문자로 바꿨다.\n",
    "* CONCAT()함수는 문자를 이어주는 역할을 하며, 여기서는 '30X2='과 같은 형태의 문자로 만들어서 출력했음"
   ]
  },
  {
   "cell_type": "markdown",
   "id": "2e71d1ee-3e63-4521-a30c-10f50b575e1c",
   "metadata": {},
   "source": [
    "### 암시적인 변환"
   ]
  },
  {
   "cell_type": "markdown",
   "id": "9e25cecf-0f7a-4b71-9dd2-a788e28be71c",
   "metadata": {},
   "source": [
    "* CAST()나 CONVERT()함수를 사용하지 않고도 자연스럽게 형이 변환되는 것을 말한다."
   ]
  },
  {
   "cell_type": "code",
   "execution_count": null,
   "id": "446b46a9-aea2-4135-82f2-5b957f14aad8",
   "metadata": {},
   "outputs": [],
   "source": [
    "# 암시적인 변환의 예시\n",
    "# 문자는 더할 수 없으므로 자동으로 숫자100과 200으로 변환해서 덧셈을 수행\n",
    "SELECT '100' + '200';"
   ]
  },
  {
   "attachments": {
    "1356d876-c690-4749-9c93-4a3c296a7baa.png": {
     "image/png": "[encoded data removed]"
    }
   },
   "cell_type": "markdown",
   "id": "2c92fa01-35f7-4249-bf56-5679261a513c",
   "metadata": {},
   "source": [
    "![image.png](attachment:1356d876-c690-4749-9c93-4a3c296a7baa.png)"
   ]
  },
  {
   "cell_type": "code",
   "execution_count": null,
   "id": "42691efe-e8fb-4352-b3f2-dadd72f8fa9a",
   "metadata": {},
   "outputs": [],
   "source": [
    "# 문자형의 결합으로 100200 만들기\n",
    "# CONCAT함수 사용\n",
    "SELECT CONCAT('100', '200');"
   ]
  },
  {
   "attachments": {
    "c5c8f5e1-be17-4053-942c-3ecd0a9d3a81.png": {
     "image/png": "[encoded data removed]"
    }
   },
   "cell_type": "markdown",
   "id": "ee77f07f-81e9-4e53-9a04-99e8162a816f",
   "metadata": {},
   "source": [
    "![image.png](attachment:c5c8f5e1-be17-4053-942c-3ecd0a9d3a81.png)"
   ]
  },
  {
   "cell_type": "code",
   "execution_count": null,
   "id": "f0f3f70a-ebff-4cc2-ac2e-abd87cfcf339",
   "metadata": {},
   "outputs": [],
   "source": [
    "# 숫자와 문자를 CONCAT()함수로 연결\n",
    "SELECT CONCAT(100, '200');\n",
    "\n",
    "# CONCAT()을 사용하지 않고 수행\n",
    "SELECT 100 + '200';"
   ]
  },
  {
   "attachments": {
    "d448355c-c680-4316-a641-5745285b83bb.png": {
     "image/png": "[encoded data removed]"
    }
   },
   "cell_type": "markdown",
   "id": "6862a97c-4cb4-4d56-aa78-59b57270c2c1",
   "metadata": {},
   "source": [
    "![image.png](attachment:d448355c-c680-4316-a641-5745285b83bb.png)"
   ]
  },
  {
   "attachments": {
    "5c022ddf-9d4c-4493-ad4b-7d9ee19e499c.png": {
     "image/png": "[encoded data removed]"
    }
   },
   "cell_type": "markdown",
   "id": "f48f97c1-2617-4b32-8610-da0d781f5ab2",
   "metadata": {},
   "source": [
    "![image.png](attachment:5c022ddf-9d4c-4493-ad4b-7d9ee19e499c.png)"
   ]
  },
  {
   "cell_type": "markdown",
   "id": "82379b2f-b410-484a-b4d8-a40f852c3b8a",
   "metadata": {},
   "source": [
    "* 위 결과를 보면, 숫자 100이 문자'100'으로 변환되어 연결된 것을 확인할 수 있다.\n",
    "* CONCAT() 함수를 사용하지 않고 숫자 100과 문자'200'을 더하면 뒤의 문자가 숫자 200으로 자동 변환되어 300이 출력된다.\n",
    "* 즉, 숫자와 문자를 연산할 때, CONCAT()을 사용하며 숫자가 문자로 변하고, 더하기만 사용하면 문자가 숫자로 변환 후에 연산된다."
   ]
  }
 ],
 "metadata": {
  "kernelspec": {
   "display_name": "Python 3 (ipykernel)",
   "language": "python",
   "name": "python3"
  },
  "language_info": {
   "codemirror_mode": {
    "name": "ipython",
    "version": 3
   },
   "file_extension": ".py",
   "mimetype": "text/x-python",
   "name": "python",
   "nbconvert_exporter": "python",
   "pygments_lexer": "ipython3",
   "version": "3.8.18"
  }
 },
 "nbformat": 4,
 "nbformat_minor": 5
}
