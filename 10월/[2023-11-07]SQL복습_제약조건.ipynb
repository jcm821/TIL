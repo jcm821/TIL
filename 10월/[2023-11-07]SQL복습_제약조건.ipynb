{
 "cells": [
  {
   "cell_type": "markdown",
   "id": "71694f54-b075-425f-ac7d-2c779e356876",
   "metadata": {},
   "source": [
    "# 제약조건"
   ]
  },
  {
   "cell_type": "markdown",
   "id": "5ed3b619-4067-4eba-944d-3d75a4463d5b",
   "metadata": {},
   "source": [
    "* 테이블을 만들 때는 테이블의 구조에 필요한 제약조건을 설정해줘야 한다.\n",
    "* 기본 키와 외래 키가 대표적인 제약조건이다.\n",
    "* 중복되지 않는 열에는 고유 키를 지정할 수 있다.\n",
    "* 실수로 입력하는 것을 방지하는 체크 제약조건이 있다.\n",
    "* 매번 입력하기 귀찮은 데이터의 경우 기본값으로 설정할 수 있다.\n",
    "* 값을 꼭 입력해야 하는 NOT NULL 제약조건이 있다."
   ]
  },
  {
   "cell_type": "markdown",
   "id": "5eb3ad42-827b-4a62-844a-cb8cfbaea668",
   "metadata": {},
   "source": [
    "## 제약조건의 기본 개념과 종류"
   ]
  },
  {
   "cell_type": "markdown",
   "id": "d5772eb7-142b-4781-b50e-069ac406eac5",
   "metadata": {},
   "source": [
    "* **제약조건**: 데이터의 무결성을 지키기 위해 제한하는 조건\n",
    "* 데이터 무결성 -> 데이터에 결함이 없음\n",
    "* 예를 들어, 네이버 회원의 아이디가 중복되면 이메일, 블로그, 쇼핑 기록 등 상당한 혼란이 발생할 것이다.\n",
    "* 이러한 결함을 미리 방지하기 위해서 회원 테이블의 아이디를 기본 키로 지정할 수 있다.\n",
    "* 기본 키의 조건은 '중복되지 않고, 비어 있지도 않음'이므로, 실수로 중복된 아이디를 넣으려고 해도 입력 조차 불가능하다."
   ]
  },
  {
   "cell_type": "markdown",
   "id": "99d59ab9-0d40-47f0-a927-2b9886d7c239",
   "metadata": {},
   "source": [
    "#### MySQL에서 제공하는 대표적인 제약조건\n",
    "\n",
    "* PRIMARY KEY 제약조건\n",
    "* FOREIGN KEY 제약조건\n",
    "* UNIQUE 제약조건\n",
    "* CHECK 제약조건\n",
    "* DEFAULT 정의\n",
    "* NULL 값 허용"
   ]
  },
  {
   "cell_type": "markdown",
   "id": "774065b4-15ed-4909-9592-60f93f739a15",
   "metadata": {},
   "source": [
    "## 기본 키 제약조건"
   ]
  },
  {
   "cell_type": "markdown",
   "id": "fd7ffe82-a3e3-4a3e-b23d-8fe23cc0d4e6",
   "metadata": {},
   "source": [
    "* 테이블에는 많은 행이 존재 -> 이 중에서 데이터를 구분할 수 있는 식별자를 기본 키라고 한다.\n",
    "* 회원 테이블의 아이디, 학생 테이블의 학번, 직원 테이블의 사번 등이 해당됨\n",
    "* 기본 키에 입력되는 값은 중복될 수 없으며, NULL값이 입력될 수 없다.\n",
    "* 간혹 특정 인터넷 쇼핑몰에서는 설계 방법에 따라 아이디가 아닌 다른 열을 기본 키로 지정하는 경우도 존재한다.\n",
    "* 기본 키는 중복되지 않고, 비어 있지 않으면 되기 때문에 최근에는 주민등록번호나 Email 또는 휴대폰 번호 등으로 지정해서 회원을 구분하는 사이트도 많이 등장하는 추세임\n",
    "* 테이블은 기본 키를 1개만 가질 수 있음 -> 테이블의 특성을 가장 잘 반영하는 열을 선택"
   ]
  },
  {
   "cell_type": "markdown",
   "id": "b00e24b1-de08-428a-9353-b94d7312438b",
   "metadata": {},
   "source": [
    "### CREATE TABLE에서 설정하는 기본 키 제약조건"
   ]
  },
  {
   "cell_type": "markdown",
   "id": "49b152b1-41b4-46b6-b1d8-87423e24f9ac",
   "metadata": {},
   "source": [
    "* CREATE TABLE문에 PRIMARY KEY 예약어를 설정해준다.\n",
    "* 예시 연습을 위해 회원 테이블과 구매 테이블의 일부 열을 생략하여 진행"
   ]
  },
  {
   "cell_type": "code",
   "execution_count": null,
   "id": "30a142ea-31c1-44ad-a063-da52008ded34",
   "metadata": {},
   "outputs": [],
   "source": [
    "# 기본 키 설정\n",
    "USE naver_db;\n",
    "DROP TABLE IF EXISTS buy, member;\n",
    "CREATE TABLE member\n",
    "# 열 이름 뒤에 PRIMARY KEY를 붙여주면 기본 키로 설정됨\n",
    "(mem_id CHAR(8) NOT NULL PRIMARY KEY,\n",
    "mem_name VARCHAR(10) NOT NULL,\n",
    "height TINYINT UNSIGNED NULL\n",
    ");"
   ]
  },
  {
   "cell_type": "markdown",
   "id": "54a5cd41-2caa-4fa3-8b08-20791bebcba6",
   "metadata": {},
   "source": [
    "### 테이블을 삭제하는 순서"
   ]
  },
  {
   "cell_type": "markdown",
   "id": "d15a85a3-145c-4faa-9d62-33602ebcb465",
   "metadata": {},
   "source": [
    "* 회원 테이블과 구매 테이블은 기본 키-외래 키로 연결되어 있다. 즉, 회원 테이블의 회원만 구매 테이블에 입력될 수 있다.\n",
    "* 만약 구매 테이블이 있는데 회원 테이블을 삭제(DROP)하게 된다면 구매 테이블의 BLK이름과 연락처를 알고 싶어도 회원 테이블은 이미 삭제되었기 때문에 알 수 있는 방법이 없다.\n",
    "* 따라서 기본 키-외래 키 관계로 연결된 테이블은 외래 키가 설정된 테이블을 먼저 삭제해야 한다."
   ]
  },
  {
   "cell_type": "code",
   "execution_count": null,
   "id": "801d352b-0ae0-45bf-a4a0-116ee5ae0410",
   "metadata": {},
   "outputs": [],
   "source": [
    "# 테이블의 정보확인\n",
    "DESCRIBE member;"
   ]
  },
  {
   "attachments": {
    "28acc0a8-a140-4dbc-8930-f1c8fc655c91.png": {
     "image/png": "[encoded data removed]"
    }
   },
   "cell_type": "markdown",
   "id": "5ae23be8-aefd-4e56-bc30-b1f2d0672a0c",
   "metadata": {},
   "source": [
    "![image.png](attachment:28acc0a8-a140-4dbc-8930-f1c8fc655c91.png)"
   ]
  },
  {
   "cell_type": "code",
   "execution_count": null,
   "id": "f1265377-ffe9-40a7-93c7-89aaf0a4979e",
   "metadata": {},
   "outputs": [],
   "source": [
    "# PRIMARY KEY를 지정하는 다른 방법\n",
    "DROP TABLE IF EXISTS member;\n",
    "CREATE TABLE member\n",
    "(mem_id CHAR(8) NOT NULL,\n",
    "mem_name VARCHAR(10) NOT NULL,\n",
    "height TINYINT UNSIGNED NULL,\n",
    "# 테이블의 제일 마지막에 PRIMARY KEY(열_이름)을 붙여주면 그 열이 기본 키로 설정됨\n",
    "PRIMARY KEY (mem_id)\n",
    ");"
   ]
  },
  {
   "cell_type": "markdown",
   "id": "9530ce5f-949a-48ac-a081-9c642b1734c8",
   "metadata": {},
   "source": [
    "### ALTER TABLE에서 설정하는 기본 키 제약조건"
   ]
  },
  {
   "cell_type": "markdown",
   "id": "afccd0de-22ab-41ad-8f65-59d9a0574841",
   "metadata": {},
   "source": [
    "* 제약조건을 설정하는 또 다른 방법은 이미 만들어진 테이블을 수정하는 ALTER TABLE 구문을 사용하는 것이다."
   ]
  },
  {
   "cell_type": "code",
   "execution_count": null,
   "id": "98bf5252-8a09-4045-a0c2-7940fed91098",
   "metadata": {},
   "outputs": [],
   "source": [
    "# ALTER TABLE에서 설정하는 제약 조건\n",
    "DROP TABLE IF EXISTS member;\n",
    "CREATE TABLE member\n",
    "(mem_id CHAR(8) NOT NULL,\n",
    "mem_name VARCHAR(10) NOT NULL,\n",
    "height TINYINT UNSIGNED NULL\n",
    ");\n",
    "# ALTER TABLE 문으로 기본 키를 설정할 수 있음\n",
    "ALTER TABLE member\n",
    "ADD CONSTRAINT\n",
    "PRIMARY KEY (mem_id);"
   ]
  },
  {
   "cell_type": "markdown",
   "id": "0b11c93f-44a9-441e-915d-723d9b0228dd",
   "metadata": {},
   "source": [
    "### 기본 키에 이름 지정하기"
   ]
  },
  {
   "cell_type": "code",
   "execution_count": null,
   "id": "d19e65e3-bfeb-41f2-82f1-9204dd1d8b09",
   "metadata": {},
   "outputs": [],
   "source": [
    "# 기본 키에 이름 저장하기\n",
    "DROP TABLE IF EXISTS member;\n",
    "CREATE TABLE member\n",
    "(mem_id CHAR(8) NOT NULL,\n",
    "mem_name VARCHAR(10) NOT NULL,\n",
    "height TINYINT UNSIGNED NULL,\n",
    "CONSTRAINT PRIMARY KEY PK_member_mem_id (mem_id)\n",
    ");"
   ]
  },
  {
   "cell_type": "markdown",
   "id": "390a0828-9ef3-4f3a-8286-439f1d12f068",
   "metadata": {},
   "source": [
    "## 외래 키 제약조건"
   ]
  },
  {
   "cell_type": "markdown",
   "id": "0bada521-1713-4473-9e04-e8c4d55fbc6f",
   "metadata": {},
   "source": [
    "* 외래 키 제약조건은 두 테이블 사이의 관계를 연결해주고, 그 결과 데이터의 무결성을 보장해주는 역할을 한다.\n",
    "* 외래 키가 설정된 열은 꼭 다른 테이블의 기본 키와 연결된다.\n",
    "* 기본 키가 있는 회원 테이블을 기준 테이블이라고 부르며, 외래 키가 있는 구매 테이블을 참조 테이블이라고 부른다.\n",
    "* 이전 실습에서 구매 테이블에 APN(에이핑크)을 입력할 때, 오류가 발생했던 것은 외래 키 제약조건을 위반했기 때문임\n",
    "* 참조 테이블이 참조하는 기준 테이블의 열은 반드시 기본 키나, 고유 키로 설정되어 있어야 한다."
   ]
  },
  {
   "cell_type": "markdown",
   "id": "0bad5a1f-ec97-4568-896f-333c9e07e311",
   "metadata": {},
   "source": [
    "### CREATE TABLE에서 설정하는 외래 키 제약조건"
   ]
  },
  {
   "cell_type": "markdown",
   "id": "ac3a765d-b94a-4cb4-9416-9b793228df06",
   "metadata": {},
   "source": [
    "* 외래 키를 생성하는 방법은 CREATE TABLE 끝에 FOREIGN KEY 키워드를 생성하는 것이다.\n",
    "* 외래 키의 형식은 FOREIGN KEY(열_이름) REFERENCES 기준_테이블(열_이름)이다.\n",
    "* 이 예시에서는 구매 테이블의 열이 참조하는 기준 테이블의 열은 기본 키로 설정되어 있는 것을 알 수 있다."
   ]
  },
  {
   "cell_type": "code",
   "execution_count": null,
   "id": "af63be58-7eb5-43b9-a695-1e64fe22682c",
   "metadata": {},
   "outputs": [],
   "source": [
    "# CREATE TABLE에서 설정하는 외래 키 제약조건\n",
    "DROP TABLE IF EXISTS member;\n",
    "CREATE TABLE member\n",
    "(mem_id CHAR(8) NOT NULL PRIMARY KEY,\n",
    "mem_name VARCHAR(10) NOT NULL,\n",
    "height TINYINT UNSIGNED NULL\n",
    ");\n",
    "\n",
    "CREATE TABLE buy\n",
    "(num INT AUTO_INCREMENT NOT NULL PRIMARY KEY,\n",
    "num_id CHAR(8) NOT NULL,\n",
    "prod_name CHAR(6) NOT NULL,\n",
    "FOREIGN KEY(mem_id) REFERENCES member(mem_id)\n",
    ");"
   ]
  },
  {
   "cell_type": "markdown",
   "id": "830b090c-2c78-4844-a279-2fca286b681c",
   "metadata": {},
   "source": [
    "#### 기준 테이블의 열 이름과 참조 테이블의 열 이름"
   ]
  },
  {
   "cell_type": "markdown",
   "id": "a3b24575-47d6-40f1-882d-c422c8506034",
   "metadata": {},
   "source": [
    "* '네이버 쇼핑'의 예시에서는 기준 테이블의 열 이름(mem_id)과 참조 테이블의 열 이름(mem_id)이 동일하지만 꼭 같을 필요는 없다.\n",
    "* 즉, 참조 테이블의 아이디 열 이름이 user_id와 같이 기준 테이블의 mem_id와 달라도 상관없다."
   ]
  },
  {
   "cell_type": "code",
   "execution_count": null,
   "id": "8a766cc8-0421-4fa3-95ec-a87b8d54d86b",
   "metadata": {},
   "outputs": [],
   "source": [
    "# 열 이름이 다른경우\n",
    "DROP TABLE IF EXISTS member;\n",
    "CREATE TABLE member\n",
    "(mem_id CHAR(8) NOT NULL PRIMARY KEY,\n",
    "mem_name VARCHAR(10) NOT NULL,\n",
    "height TINYINT UNSIGNED NULL\n",
    ");\n",
    "\n",
    "CREATE TABLE buy\n",
    "(num INT AUTO_INCREMENT NOT NULL PRIMARY KEY,\n",
    "user_id CHAR(8) NOT NULL,\n",
    "prod_name CHAR(6) NOT NULL,\n",
    "# 외래 키를 설정하는 형식은 FOREIGN KEY(열_이름) REFERENCES 기준_테이블(열_이름)\n",
    "FOREIGN KEY(user_id) REFERENCES member(mem_id)\n",
    ");"
   ]
  },
  {
   "cell_type": "markdown",
   "id": "ae5b6514-a3b8-4cd8-a24e-d49334fdad3c",
   "metadata": {},
   "source": [
    "### ALTER TABLE에서 설정하는 외래 키 제약조건"
   ]
  },
  {
   "cell_type": "markdown",
   "id": "c0127d88-5d99-4ee9-981b-991442f2d65d",
   "metadata": {},
   "source": [
    "* 외래 키를 설정하는 다른 방법은 ALTER TABLE구문을 이용하는 것이다."
   ]
  },
  {
   "cell_type": "code",
   "execution_count": null,
   "id": "5ee1f411-3dbf-46b7-9438-90ba95c21f08",
   "metadata": {},
   "outputs": [],
   "source": [
    "# ALTER TABLE에서 설정하는 외래 키 제약조건\n",
    "DROP TABLE IF EXISTS buy;\n",
    "CREATE TABLE buy\n",
    "(num INT AUTO_INCREMENT NOT NULL PRIMARY KEY,\n",
    "mem_id CHAR(8) NOT NULL,\n",
    "prod_name CHAR(6) NOT NULL\n",
    ");\n",
    "ALTER TABLE buy\n",
    "ADD CONSTRAINT\n",
    "FOREIGN KEY(mem_id)\n",
    "REFERENCES member(mem_id);"
   ]
  },
  {
   "cell_type": "markdown",
   "id": "80105772-82e3-4ce9-bdfc-6999c98de5a5",
   "metadata": {},
   "source": [
    "### 기준 테이블의 열이 변경될 경우"
   ]
  },
  {
   "cell_type": "markdown",
   "id": "87c01bd2-f982-4932-91e0-90e2c1f4ba20",
   "metadata": {},
   "source": [
    "* 회원 테이블의 BLK가 물품을 2번 구매한 상태에서 회원 아이디를 PINK로 변경하게 되는 경우를 생각해보자. 이 경우, 두 테이블의 정보가 일치하지 않게 된다.\n",
    "  "
   ]
  },
  {
   "cell_type": "code",
   "execution_count": null,
   "id": "4871f32a-e0ee-45dd-87a3-77581430e380",
   "metadata": {},
   "outputs": [],
   "source": [
    "# 데이터 삽입\n",
    "INSERT INTO member VALUES('BLK', '블랙핑크', 163);\n",
    "INSERT INTO buy VALUES(NULL, 'BLK', '지갑');\n",
    "INSERT INTO buy VALUES(NULL, 'BLK', '맥북');"
   ]
  },
  {
   "cell_type": "code",
   "execution_count": null,
   "id": "f5250778-cf01-488f-be76-c49b47d622d9",
   "metadata": {},
   "outputs": [],
   "source": [
    "# 내부 조인 사용\n",
    "SELECT M.mem_id, M.mem_name, B.prod_name\n",
    "FROM buy B\n",
    "INNER JOIN member M\n",
    "ON B.mem_id = M.mem_id;"
   ]
  },
  {
   "attachments": {
    "8c5f3fee-379e-42b9-bde7-225a9de0b148.png": {
     "image/png": "[encoded data removed]"
    }
   },
   "cell_type": "markdown",
   "id": "e1aee59b-c2e6-420a-a3e8-f3d6e465897b",
   "metadata": {},
   "source": [
    "![image.png](attachment:8c5f3fee-379e-42b9-bde7-225a9de0b148.png)"
   ]
  },
  {
   "cell_type": "markdown",
   "id": "eedfa0cb-6e8e-43c9-baf4-0a40a7e1bd91",
   "metadata": {},
   "source": [
    "* BLK의 아이디를 PINK로 변경하게 되면 오류가 발생한다.\n",
    "* 기본 키-외래 키로 맺어진 후에는 기준 테이블의 열 이름이 변경되지 않는다. 열 이름이 변경되면 참조 테이블의 데이터에 문제가 발생하기 때문이다."
   ]
  },
  {
   "cell_type": "code",
   "execution_count": null,
   "id": "6143b1be-525e-4d57-9d57-ae8c7a5aa79c",
   "metadata": {},
   "outputs": [],
   "source": [
    "# BLK의 아이디를 PINK로 변경\n",
    "UPDATE member SET mem_id = 'PINK' WHERE mem_id = 'BLK';"
   ]
  },
  {
   "attachments": {
    "8c89bc9f-ba3b-44c8-96fb-387816d0a410.png": {
     "image/png": "[encoded data removed]"
    }
   },
   "cell_type": "markdown",
   "id": "4eab1649-3008-4ec9-8100-5957d3d2f4da",
   "metadata": {},
   "source": [
    "![image.png](attachment:8c89bc9f-ba3b-44c8-96fb-387816d0a410.png)"
   ]
  },
  {
   "cell_type": "code",
   "execution_count": null,
   "id": "6f4cc9eb-0c98-42f1-be76-44ed9fbb3e1d",
   "metadata": {},
   "outputs": [],
   "source": [
    "# 삭제도 수행해보면 오류가 발생한다\n",
    "DELETE FROM member WHERE mem_id = 'BLK';"
   ]
  },
  {
   "attachments": {
    "0c28223b-9f88-469a-b630-a8a2d3146732.png": {
     "image/png": "[encoded data removed]"
    }
   },
   "cell_type": "markdown",
   "id": "51a7859b-aa30-4a98-9513-1f846c267ece",
   "metadata": {},
   "source": [
    "![image.png](attachment:0c28223b-9f88-469a-b630-a8a2d3146732.png)"
   ]
  },
  {
   "cell_type": "markdown",
   "id": "454ecdc9-549c-49f8-bac0-dbd9fff33537",
   "metadata": {},
   "source": [
    "* ON UPDATE CASCADE문을 사용하게 된다면 회원 테이블의 BLK가 PINK로 변경되면 자동으로 구매 테이블의 BLK도 PINK로 변경할 수 있다.\n",
    "* ON DELETE CASCADE문은 기준 테이블의 데이터가 삭제되면 참조 테이블의 데이터도 삭제되는 기능이다."
   ]
  },
  {
   "cell_type": "code",
   "execution_count": null,
   "id": "a80333da-e784-4e93-94d1-44d565011c55",
   "metadata": {},
   "outputs": [],
   "source": [
    "# 테이블 재생성하고 ALTER TABLE문을 수행\n",
    "DROP TABLE IF EXISTS buy;\n",
    "CREATE TABLE buy\n",
    "(num INT AUTO_INCREMENT NOT NULL PRIMARY KEY,\n",
    "mem_id CHAR(8) NOT NULL,\n",
    "prod_name CHAR(6) NOT NULL\n",
    ");\n",
    "ALTER TABLE buy\n",
    "ADD CONSTRAINT\n",
    "FOREIGN KEY(mem_id) REFERENCES member(mem_id)\n",
    "ON UPDATE CASCADE\n",
    "ON DELETE CASCADE;"
   ]
  },
  {
   "cell_type": "code",
   "execution_count": null,
   "id": "2158f6ac-c6b1-487b-9aae-8147f199436c",
   "metadata": {},
   "outputs": [],
   "source": [
    "# 구매 테이블에 데이터 다시 입력\n",
    "INSERT INTO buy VALUES(NULL, 'BLK', '지갑');\n",
    "INSERT INTO buy VALUES(NULL, 'BLK', '맥북');"
   ]
  },
  {
   "cell_type": "code",
   "execution_count": null,
   "id": "49702fec-41ee-428b-b0f3-ad6edb241bf9",
   "metadata": {},
   "outputs": [],
   "source": [
    "# 이젠 회원 테이블의 PINK로 변경하면 오류가 발생하지 않을 것이다\n",
    "UPDATE member SET mem_id = 'PINK' WHERE mem_id = 'BLK';"
   ]
  },
  {
   "cell_type": "code",
   "execution_count": null,
   "id": "e9bbebd4-8d84-4018-bd1e-e58cd6ae25c9",
   "metadata": {},
   "outputs": [],
   "source": [
    "# 다시 조인을 수행\n",
    "# ON CASCADE UPDATE가 설정되면 기준 테이블이 변경될 때 참조 테이블도 자동으로 변경된다\n",
    "SELECT M.mem_id, M.mem_name, B.prod_name\n",
    "FROM buy B\n",
    "INNER JOIN member M\n",
    "ON B.mem_id = M.mem_id;"
   ]
  },
  {
   "attachments": {
    "d042e2f0-3a33-431c-8986-dd277ad6ea57.png": {
     "image/png": "[encoded data removed]"
    }
   },
   "cell_type": "markdown",
   "id": "c861f771-f203-40ac-b090-86fd2e150b2d",
   "metadata": {},
   "source": [
    "![image.png](attachment:d042e2f0-3a33-431c-8986-dd277ad6ea57.png)"
   ]
  },
  {
   "cell_type": "code",
   "execution_count": null,
   "id": "a0435f8f-f61c-4674-9bd3-673f66356be8",
   "metadata": {},
   "outputs": [],
   "source": [
    "# PINK가 탈퇴한 것으로 가정하고 기준 테이블에서 삭제 수행\n",
    "DELETE FROM member WHERE mem_id = 'PINK';"
   ]
  },
  {
   "cell_type": "markdown",
   "id": "e0f212fb-da64-41e3-a0fd-bed62d02526e",
   "metadata": {},
   "source": [
    "* 구매 테이블의 데이터를 확인하면 아무것도 없는것을 알 수 있다."
   ]
  },
  {
   "cell_type": "code",
   "execution_count": null,
   "id": "e52a84b0-3417-4cae-806c-f42dad1c952f",
   "metadata": {},
   "outputs": [],
   "source": [
    "SELECT * FROM buy;"
   ]
  },
  {
   "attachments": {
    "3f595ab3-f9f2-42d5-a010-b0cb6cb94500.png": {
     "image/png": "[encoded data removed]"
    }
   },
   "cell_type": "markdown",
   "id": "7b337aae-c385-403e-aa4a-b3779f85b4fb",
   "metadata": {},
   "source": [
    "![image.png](attachment:3f595ab3-f9f2-42d5-a010-b0cb6cb94500.png)"
   ]
  },
  {
   "cell_type": "markdown",
   "id": "9fc19714-e0d7-432a-a5c6-7b91ab7053b5",
   "metadata": {},
   "source": [
    "## 기타 제약조건"
   ]
  },
  {
   "cell_type": "markdown",
   "id": "e3bff6bd-3737-49c3-9ecb-d612e9c5da70",
   "metadata": {},
   "source": [
    "### 고유 키 제약조건"
   ]
  },
  {
   "cell_type": "markdown",
   "id": "4ccb44c4-6260-45a5-985a-1d5e425419a6",
   "metadata": {},
   "source": [
    "* **고유 키(UNIQUE)** 제약조건: 중복되지 않는 유일한 값을 입력해야 하는 조건\n",
    "* 기본 키 제약조건과 유사하지만, 차이점은 고유 키 제약조건은 NULL값을 허용한다는 것이다.\n",
    "* NULL값은 여러 개가 입력되어도 상관없음\n",
    "* 기본 키는 테이블에 1개만 설정해야 하지만, 고유 키는 여러 개를 설정해도 된다."
   ]
  },
  {
   "cell_type": "code",
   "execution_count": null,
   "id": "2cffcdf3-ae4f-4b8c-b33a-8435841c601c",
   "metadata": {},
   "outputs": [],
   "source": [
    "# 고유 키 제약조건\n",
    "DROP TABLE IF EXISTS buy, member;\n",
    "CREATE TABLE member\n",
    "(mem_id CHAR(8) NOT NULL PRIMARY KEY,\n",
    "mem_name VARCHAR(10) NOT NULL,\n",
    "height TINYINT UNSIGNED NULL,\n",
    "email CHAR(30) NULL UNIQUE\n",
    ");"
   ]
  },
  {
   "cell_type": "code",
   "execution_count": null,
   "id": "3b036964-c8da-41a1-952c-b45cc64b4331",
   "metadata": {},
   "outputs": [],
   "source": [
    "# 데이터 입력\n",
    "INSERT INTO member VALUES('BLK', '블랙핑크', 163, 'pink@gmail.com');\n",
    "INSERT INTO member VALUES('TWC', '트와이스', 167, NULL);\n",
    "INSERT INTO member VALUES('APN', '에이핑크', 164, 'pink@gmail.com');"
   ]
  },
  {
   "cell_type": "markdown",
   "id": "0b3493b5-d4a0-44ec-812e-296152d27f69",
   "metadata": {},
   "source": [
    "* 세 번째 행은 이메일이 중복되기 때문에 오류가 발생한다."
   ]
  },
  {
   "attachments": {
    "6a7e1e27-893d-4140-af07-babbba1118b6.png": {
     "image/png": "[encoded data removed]"
    }
   },
   "cell_type": "markdown",
   "id": "47686820-1aa7-4169-92b9-db8e5be500b6",
   "metadata": {},
   "source": [
    "![image.png](attachment:6a7e1e27-893d-4140-af07-babbba1118b6.png)"
   ]
  },
  {
   "cell_type": "markdown",
   "id": "963c4c2a-cd60-494d-9f53-9f96e4ec8004",
   "metadata": {},
   "source": [
    "### 체크 제약조건"
   ]
  },
  {
   "cell_type": "markdown",
   "id": "d6a0c6c6-39d7-46d2-8189-55c04786f7ae",
   "metadata": {},
   "source": [
    "* 입력되는 데이터를 점검하는 기능\n",
    "* 예를 들어 평균 키에 마이너스 값이 입력되지 않도록 하거나, 연락처의 국번에 02, 031, 041, 055중 하나만 입력되도록 할 수 있다."
   ]
  },
  {
   "cell_type": "code",
   "execution_count": null,
   "id": "d305490a-2896-48ed-9dfe-b61a02f6f9c8",
   "metadata": {},
   "outputs": [],
   "source": [
    "# CHECK 조건 수행\n",
    "DROP TABLE IF EXISTS member;\n",
    "CREATE TABLE member\n",
    "(mem_id CHAR(8) NOT NULL PRIMARY KEY,\n",
    "mem_name VARCHAR(10) NOT NULL,\n",
    "# 평균 키는 반드시 100이상의 값만 입력되도록 설정\n",
    "height TINYINT UNSIGNED NULL CHECK (height >= 100),\n",
    "phone1 CHAR(3) NULL\n",
    ");"
   ]
  },
  {
   "cell_type": "code",
   "execution_count": null,
   "id": "b2573415-4de5-412c-a031-87bdb8f9f349",
   "metadata": {},
   "outputs": [],
   "source": [
    "# 데이터 삽입\n",
    "INSERT INTO member VALUES('BLK', '블랙핑크', 163, NULL);\n",
    "INSERT INTO member VALUES('TWC', '트와이스', 99, NULL);"
   ]
  },
  {
   "cell_type": "markdown",
   "id": "7376d2a0-fa75-40e6-a005-0e4d15d509f6",
   "metadata": {},
   "source": [
    "* 두 번째 행은 체크 제약조건에 위배되므로 오류가 발생한다.\n",
    "* Check constraint 오류는 체크 제약조건에서 설정한 값의 범위를 벗어났기 때문에 발생한 것임"
   ]
  },
  {
   "attachments": {
    "e3640503-5a01-4112-beae-041c15154f91.png": {
     "image/png": "[encoded data removed]"
    }
   },
   "cell_type": "markdown",
   "id": "910a49b1-3052-443f-a876-57d3816a758a",
   "metadata": {},
   "source": [
    "![image.png](attachment:e3640503-5a01-4112-beae-041c15154f91.png)"
   ]
  },
  {
   "cell_type": "code",
   "execution_count": null,
   "id": "e451792f-25b8-4f4b-9ae4-3c08bb98b3d9",
   "metadata": {},
   "outputs": [],
   "source": [
    "# ALTER문으로 제약조건을 추가\n",
    "ALTER TABLE member\n",
    "ADD CONSTRAINT\n",
    "# IN()은 괄호 안에 있는 값 중 하나와 같아야 참이 된다.\n",
    "CHECK(phone1 IN ('02', '031', '032', '054', '055', '061'));"
   ]
  },
  {
   "cell_type": "code",
   "execution_count": null,
   "id": "5273b7be-ea27-401d-9f2d-973545b80060",
   "metadata": {},
   "outputs": [],
   "source": [
    "# 데이터 삽입\n",
    "INSERT INTO member VALUES('TWC', '트와이스', 167, '02');\n",
    "INSERT INTO member VALUES('OMY', '오마이걸', 167, '010');"
   ]
  },
  {
   "cell_type": "markdown",
   "id": "068c74c2-d666-4f48-a72c-f25be708a8cc",
   "metadata": {},
   "source": [
    "* 두 번째 행은 체크 제약조건에 위배되므로 오류가 발생\n",
    "* 체크 제약조건을 설정한 후에 조건에 위배되는 값을 입력하면 오류가 발생한다."
   ]
  },
  {
   "attachments": {
    "02843050-f903-4c1b-bec6-f2f9d9146876.png": {
     "image/png": "[encoded data removed]"
    }
   },
   "cell_type": "markdown",
   "id": "b578635f-a79f-4d1a-afb8-6694fee09e05",
   "metadata": {},
   "source": [
    "![image.png](attachment:02843050-f903-4c1b-bec6-f2f9d9146876.png)"
   ]
  },
  {
   "cell_type": "markdown",
   "id": "2190da7e-e28c-4993-ae4c-3d1a89337b78",
   "metadata": {},
   "source": [
    "### 기본값 정의"
   ]
  },
  {
   "cell_type": "markdown",
   "id": "492b4c38-c17b-48fe-8696-30ea91b098bc",
   "metadata": {},
   "source": [
    "* 값을 입력하지 않았을 때 자동으로 입력될 값을 미리 지정해 놓는 방법"
   ]
  },
  {
   "cell_type": "code",
   "execution_count": null,
   "id": "acf5faa0-0f1a-4fd6-bb76-cb5892b4d235",
   "metadata": {},
   "outputs": [],
   "source": [
    "# 키를 입력하지 않고 기본적으로 160이라고 입력되도록 하고자 할 때\n",
    "DROP TABLE IF EXISTS member;\n",
    "CREATE TABLE member\n",
    "(mem_id CHAR(8) NOT NULL PRIMARY KEY,\n",
    "mem_name VARCHAR(10) NOT NULL,\n",
    "height TINYINT UNSIGNED NULL DEFAULT 160,\n",
    "phone1 CHAR(3) NULL\n",
    ");"
   ]
  },
  {
   "cell_type": "code",
   "execution_count": null,
   "id": "3b813629-8d99-4286-97b9-b24aae9872da",
   "metadata": {},
   "outputs": [],
   "source": [
    "# ALTER TABLE 사용 시 DEFAULT 지정\n",
    "ALTER TABLE member\n",
    "ALTER COLUMN phone1 SET DEFAULT '02';"
   ]
  },
  {
   "cell_type": "markdown",
   "id": "ae169660-905d-4a96-9f4a-b3bb6f09a8eb",
   "metadata": {},
   "source": [
    "* 기본값이 설정된 열에 기본값을 입력하려면 default로 써주고, 원하는 값을 입력하려면 해당 값을 써주면 된다."
   ]
  },
  {
   "cell_type": "code",
   "execution_count": null,
   "id": "9db89d4d-0dd7-4704-808f-b7d11390e943",
   "metadata": {},
   "outputs": [],
   "source": [
    "# 데이터 입력\n",
    "INSERT INTO member VALUES('RED', '레드벨벳', 161, '054');\n",
    "# 기본값을 설정한 후에 default로 지정하면 설정된 기본값이 입력된다\n",
    "INSERT INTO member VALUES('SPC', '우주소녀', default, default);\n",
    "SELECT * FROM member;"
   ]
  },
  {
   "attachments": {
    "dd230e5f-a96c-41ed-9b0f-c7e46517a0f7.png": {
     "image/png": "[encoded data removed]"
    }
   },
   "cell_type": "markdown",
   "id": "333b952a-215b-4d7f-9437-706f6aa23d87",
   "metadata": {},
   "source": [
    "![image.png](attachment:dd230e5f-a96c-41ed-9b0f-c7e46517a0f7.png)"
   ]
  },
  {
   "cell_type": "markdown",
   "id": "9b19fdc7-ee2b-4cc0-bc0d-680bce5ccce3",
   "metadata": {},
   "source": [
    "### 널 값 허용"
   ]
  },
  {
   "cell_type": "markdown",
   "id": "e4681935-4dca-49c4-90d4-880dc4f432cc",
   "metadata": {},
   "source": [
    "* 널(NULL)값을 허용하면 생략하거나 NULL을 사용하고, 허용하지 않으려면 NOT NULL을 사용한다.\n",
    "* PRIMARY KEY가 설정된 열에는 NULL값이 있을 수 없으므로 생략하면 자동으로 NOT NULL로 인식된다.\n",
    "* NULL값은 '아무 것도 없다'라는 의미, 공백('')이나 0과는 다르다는 점에 주의"
   ]
  }
 ],
 "metadata": {
  "kernelspec": {
   "display_name": "Python 3 (ipykernel)",
   "language": "python",
   "name": "python3"
  },
  "language_info": {
   "codemirror_mode": {
    "name": "ipython",
    "version": 3
   },
   "file_extension": ".py",
   "mimetype": "text/x-python",
   "name": "python",
   "nbconvert_exporter": "python",
   "pygments_lexer": "ipython3",
   "version": "3.8.18"
  }
 },
 "nbformat": 4,
 "nbformat_minor": 5
}
