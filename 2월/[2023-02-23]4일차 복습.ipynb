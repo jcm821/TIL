{
 "cells": [
  {
   "cell_type": "markdown",
   "id": "13f8f84f",
   "metadata": {},
   "source": [
    "## 1. List Comprehension(파이썬 고유의 문법)"
   ]
  },
  {
   "cell_type": "markdown",
   "id": "b55f15c6",
   "metadata": {},
   "source": [
    "* 처음 접하게 되면 생소 할 수 있으나, 반복적인 사용을 통해 편리한 문법문장을 생성해낼 수 있다.\n",
    "* 기본적으로 for ~ in 구조를 지닌다.\n",
    "* List Comprehension이므로 List를 사용한다."
   ]
  },
  {
   "cell_type": "markdown",
   "id": "35d7d8fc",
   "metadata": {},
   "source": [
    "mylist = [1, 2, 3, 4, 5, 6, 7, 8, 9, 10]이라는 list를 만들어 주고 이 중 짝수만 출력하고 싶을때 기존에는 다음과 같이 진행했다."
   ]
  },
  {
   "cell_type": "code",
   "execution_count": 2,
   "id": "afb84f62",
   "metadata": {},
   "outputs": [
    {
     "name": "stdout",
     "output_type": "stream",
     "text": [
      "2\n",
      "4\n",
      "6\n",
      "8\n",
      "10\n"
     ]
    }
   ],
   "source": [
    "mylist = [1, 2, 3, 4, 5, 6, 7, 8, 9, 10]\n",
    "\n",
    "for i in mylist:\n",
    "    if i % 2 == 0:\n",
    "        print(i)"
   ]
  },
  {
   "cell_type": "markdown",
   "id": "6c139ce0",
   "metadata": {},
   "source": [
    "mylist라는 list에서 짝수만 따로 list로 만들어줄때 다음과 같이 실행했다."
   ]
  },
  {
   "cell_type": "code",
   "execution_count": 3,
   "id": "50bebb6c",
   "metadata": {},
   "outputs": [
    {
     "name": "stdout",
     "output_type": "stream",
     "text": [
      "[2, 4, 6, 8, 10]\n"
     ]
    }
   ],
   "source": [
    "mylist = [1, 2, 3, 4, 5, 6, 7, 8, 9, 10]\n",
    "even = []\n",
    "\n",
    "for i in mylist:\n",
    "    if i % 2 == 0:\n",
    "        even.append(i)\n",
    "\n",
    "print(even)"
   ]
  },
  {
   "cell_type": "markdown",
   "id": "bc0c201e",
   "metadata": {},
   "source": [
    "위와 같이 for in문으로 해결할 수 있었다. 이를 list comprehension을 통해 간결하게 나타낼 수있다."
   ]
  },
  {
   "cell_type": "markdown",
   "id": "2686e2de",
   "metadata": {},
   "source": [
    "### 1-1. list comprehension 조건필터"
   ]
  },
  {
   "cell_type": "code",
   "execution_count": 4,
   "id": "317a8f9c",
   "metadata": {},
   "outputs": [],
   "source": [
    "mylist = [1, 2, 3, 4, 5, 6, 7, 8, 9, 10]"
   ]
  },
  {
   "cell_type": "code",
   "execution_count": 5,
   "id": "a83416ae",
   "metadata": {},
   "outputs": [
    {
     "data": {
      "text/plain": [
       "[1, 2, 3, 4, 5, 6, 7, 8, 9, 10]"
      ]
     },
     "execution_count": 5,
     "metadata": {},
     "output_type": "execute_result"
    }
   ],
   "source": [
    "even = [i for i in mylist]\n",
    "even"
   ]
  },
  {
   "cell_type": "markdown",
   "id": "a98899cd",
   "metadata": {},
   "source": [
    "아래 문법이 list comprehension을 적용한 경우이다. 한 줄로 해결한다는 점이 인상적이다."
   ]
  },
  {
   "cell_type": "code",
   "execution_count": 6,
   "id": "7958a000",
   "metadata": {},
   "outputs": [],
   "source": [
    "even = [i for i in mylist if i % 2 == 0]\n",
    "# 조건 필터에 해당되는 i만 제일 앞에 있는 i에 할당되는 구조라고 이해하면 쉽다"
   ]
  },
  {
   "cell_type": "code",
   "execution_count": 7,
   "id": "c1d3c611",
   "metadata": {},
   "outputs": [
    {
     "data": {
      "text/plain": [
       "[2, 4, 6, 8, 10]"
      ]
     },
     "execution_count": 7,
     "metadata": {},
     "output_type": "execute_result"
    }
   ],
   "source": [
    "even"
   ]
  },
  {
   "cell_type": "code",
   "execution_count": 8,
   "id": "9c97890e",
   "metadata": {},
   "outputs": [
    {
     "data": {
      "text/plain": [
       "[1, 3, 5, 7, 9]"
      ]
     },
     "execution_count": 8,
     "metadata": {},
     "output_type": "execute_result"
    }
   ],
   "source": [
    "# 이번엔 홀수만 odd라는 변수에 넣어보자\n",
    "odd = [i for i in mylist if i % 2 ==1]\n",
    "odd"
   ]
  },
  {
   "cell_type": "code",
   "execution_count": 10,
   "id": "d6a8040d",
   "metadata": {},
   "outputs": [
    {
     "name": "stdout",
     "output_type": "stream",
     "text": [
      "[4, 8, 12, 16, 20, 24, 28, 32, 36, 40, 44, 48, 52, 56, 60, 64, 68, 72, 76, 80, 84, 88, 92, 96, 100]"
     ]
    }
   ],
   "source": [
    "# 1 ~ 100까지의 리스트를 생성하고\n",
    "# 4의 배수만 result리스트에 저장하는 코드\n",
    "result = [i for i in range(1, 101) if i % 4 == 0]\n",
    "print(result, end = '')"
   ]
  },
  {
   "cell_type": "code",
   "execution_count": 11,
   "id": "eab30be5",
   "metadata": {},
   "outputs": [
    {
     "name": "stdout",
     "output_type": "stream",
     "text": [
      "[8, 16, 24, 32, 40, 48, 56, 64, 72, 80, 88, 96, 104, 112, 120, 128, 136, 144, 152, 160, 168, 176, 184, 192, 200]"
     ]
    }
   ],
   "source": [
    "# 4의 배수만 가져와서 2씩 곱하는 코드\n",
    "result = [i*2 for i in range(1, 101) if i % 4 == 0]\n",
    "print(result, end = '')"
   ]
  },
  {
   "cell_type": "markdown",
   "id": "0d4e87e9",
   "metadata": {},
   "source": [
    "### 1-2. [STEP1] list 를 만들어 주어야 하니 일단 꺽쇠를 씌워준다."
   ]
  },
  {
   "cell_type": "code",
   "execution_count": 12,
   "id": "0565ef82",
   "metadata": {},
   "outputs": [
    {
     "data": {
      "text/plain": [
       "[1, 2, 3, 4, 5, 6, 7, 8, 9, 10]"
      ]
     },
     "execution_count": 12,
     "metadata": {},
     "output_type": "execute_result"
    }
   ],
   "source": [
    "even = [i for i in mylist]\n",
    "even"
   ]
  },
  {
   "cell_type": "code",
   "execution_count": 13,
   "id": "f1e9f710",
   "metadata": {},
   "outputs": [
    {
     "data": {
      "text/plain": [
       "[2, 4, 6, 8, 10, 12, 14, 16, 18, 20]"
      ]
     },
     "execution_count": 13,
     "metadata": {},
     "output_type": "execute_result"
    }
   ],
   "source": [
    "# mylist에 있는i의 값들을 2씩 각각 곱해서 출력\n",
    "even = [i*2 for i in mylist]\n",
    "even"
   ]
  },
  {
   "cell_type": "markdown",
   "id": "1571d534",
   "metadata": {},
   "source": [
    "### 1-3. [STEP2] 조건 필터를 만들어준다."
   ]
  },
  {
   "cell_type": "markdown",
   "id": "a7b552a5",
   "metadata": {},
   "source": [
    "[i for i in mylist (조건문)]\n"
   ]
  },
  {
   "cell_type": "code",
   "execution_count": null,
   "id": "3f8c8b20",
   "metadata": {},
   "outputs": [],
   "source": [
    "[i for i in mylist if i % 2 ==0]"
   ]
  },
  {
   "cell_type": "markdown",
   "id": "d8d8e672",
   "metadata": {},
   "source": [
    "이것을 변수에 다시 할당해주면 된다"
   ]
  },
  {
   "cell_type": "code",
   "execution_count": 14,
   "id": "5f46fbdb",
   "metadata": {},
   "outputs": [],
   "source": [
    "even = [i for i in mylist if i % 2 ==0]"
   ]
  },
  {
   "cell_type": "code",
   "execution_count": 15,
   "id": "453e07ad",
   "metadata": {},
   "outputs": [
    {
     "data": {
      "text/plain": [
       "[2, 4, 6, 8, 10]"
      ]
     },
     "execution_count": 15,
     "metadata": {},
     "output_type": "execute_result"
    }
   ],
   "source": [
    "even"
   ]
  },
  {
   "cell_type": "markdown",
   "id": "5fc84234",
   "metadata": {},
   "source": [
    "### 1-4. [응용 STEP] 변수 값을 가공할 수 있다."
   ]
  },
  {
   "cell_type": "markdown",
   "id": "846557ab",
   "metadata": {},
   "source": [
    "먼저, 조건 필터는 배제하고 진행한다"
   ]
  },
  {
   "cell_type": "code",
   "execution_count": 16,
   "id": "d60cc29f",
   "metadata": {},
   "outputs": [],
   "source": [
    "even = [i for i in mylist]"
   ]
  },
  {
   "cell_type": "code",
   "execution_count": 17,
   "id": "0a1647eb",
   "metadata": {},
   "outputs": [
    {
     "data": {
      "text/plain": [
       "[1, 2, 3, 4, 5, 6, 7, 8, 9, 10]"
      ]
     },
     "execution_count": 17,
     "metadata": {},
     "output_type": "execute_result"
    }
   ],
   "source": [
    "even"
   ]
  },
  {
   "cell_type": "markdown",
   "id": "fc162b5c",
   "metadata": {},
   "source": [
    "even 리스트는 현재 1 ~ 10값들이 들어가 있는데, 모든 값에 +2를 해보자"
   ]
  },
  {
   "cell_type": "code",
   "execution_count": 19,
   "id": "e4a44a35",
   "metadata": {},
   "outputs": [
    {
     "data": {
      "text/plain": [
       "[3, 4, 5, 6, 7, 8, 9, 10, 11, 12]"
      ]
     },
     "execution_count": 19,
     "metadata": {},
     "output_type": "execute_result"
    }
   ],
   "source": [
    "even = [i+2 for i in mylist]\n",
    "even"
   ]
  },
  {
   "cell_type": "markdown",
   "id": "24191327",
   "metadata": {},
   "source": [
    "## 2. 문자열을 다룬다는 의미"
   ]
  },
  {
   "cell_type": "markdown",
   "id": "59e824da",
   "metadata": {},
   "source": [
    "데이터 분석에서 문자열은 다음과 같이 사용된다\n",
    "* 텍스트 분석\n",
    "* 크롤링(웹사이트 내용 긁어오기)\n",
    "* 엑셀 파일 다루기 등등..."
   ]
  },
  {
   "cell_type": "markdown",
   "id": "daad483e",
   "metadata": {},
   "source": [
    "또한 대한민국 국민은 '한글'까지 추가로 처리/이해할 수 있어야 한다"
   ]
  },
  {
   "cell_type": "markdown",
   "id": "de5805e6",
   "metadata": {},
   "source": [
    "## 3. 문자의 길이"
   ]
  },
  {
   "cell_type": "code",
   "execution_count": 20,
   "id": "16b12bbc",
   "metadata": {},
   "outputs": [],
   "source": [
    "a = 'banana'"
   ]
  },
  {
   "cell_type": "code",
   "execution_count": 21,
   "id": "da02039e",
   "metadata": {},
   "outputs": [
    {
     "data": {
      "text/plain": [
       "6"
      ]
     },
     "execution_count": 21,
     "metadata": {},
     "output_type": "execute_result"
    }
   ],
   "source": [
    "len(a)"
   ]
  },
  {
   "cell_type": "code",
   "execution_count": 22,
   "id": "94546f1a",
   "metadata": {},
   "outputs": [],
   "source": [
    "a = 'banana pen'"
   ]
  },
  {
   "cell_type": "code",
   "execution_count": 23,
   "id": "ffd86b3c",
   "metadata": {},
   "outputs": [
    {
     "data": {
      "text/plain": [
       "10"
      ]
     },
     "execution_count": 23,
     "metadata": {},
     "output_type": "execute_result"
    }
   ],
   "source": [
    "len(a)"
   ]
  },
  {
   "cell_type": "code",
   "execution_count": 24,
   "id": "c2ff164d",
   "metadata": {},
   "outputs": [],
   "source": [
    "a = '한글'"
   ]
  },
  {
   "cell_type": "code",
   "execution_count": 25,
   "id": "897fbbf4",
   "metadata": {},
   "outputs": [
    {
     "data": {
      "text/plain": [
       "2"
      ]
     },
     "execution_count": 25,
     "metadata": {},
     "output_type": "execute_result"
    }
   ],
   "source": [
    "len(a)"
   ]
  },
  {
   "cell_type": "code",
   "execution_count": 27,
   "id": "dd1d6819",
   "metadata": {},
   "outputs": [],
   "source": [
    "a = '한글 킹왕짱'"
   ]
  },
  {
   "cell_type": "code",
   "execution_count": 28,
   "id": "e0ed2d3b",
   "metadata": {},
   "outputs": [
    {
     "data": {
      "text/plain": [
       "6"
      ]
     },
     "execution_count": 28,
     "metadata": {},
     "output_type": "execute_result"
    }
   ],
   "source": [
    "len(a)"
   ]
  },
  {
   "cell_type": "markdown",
   "id": "4af3d82c",
   "metadata": {},
   "source": [
    "## 4. 문장 쪼개기"
   ]
  },
  {
   "cell_type": "markdown",
   "id": "9cf4c8bf",
   "metadata": {},
   "source": [
    "문자열만 가지고 있는 고유의 편한 기능들이 있다. 우리는 이들 중 몇 가지를 배워 앞으로 유용하게 활용할 예정이다."
   ]
  },
  {
   "cell_type": "markdown",
   "id": "b311fd4e",
   "metadata": {},
   "source": [
    "### 4-1. split"
   ]
  },
  {
   "cell_type": "markdown",
   "id": "4fe0a1cd",
   "metadata": {},
   "source": [
    "split은 가장 많이 쓰는 기능 중 하나이다.<br>\n",
    "split은 문장을 특정 규칙에 의해 쪼개주는 기능을 한다."
   ]
  },
  {
   "cell_type": "code",
   "execution_count": 29,
   "id": "6b4b64b8",
   "metadata": {},
   "outputs": [],
   "source": [
    "a = 'This is a pen'"
   ]
  },
  {
   "cell_type": "code",
   "execution_count": 30,
   "id": "041ca0fc",
   "metadata": {},
   "outputs": [
    {
     "data": {
      "text/plain": [
       "['This', 'is', 'a', 'pen']"
      ]
     },
     "execution_count": 30,
     "metadata": {},
     "output_type": "execute_result"
    }
   ],
   "source": [
    "a.split(' ')"
   ]
  },
  {
   "cell_type": "code",
   "execution_count": 31,
   "id": "c5c869e7",
   "metadata": {},
   "outputs": [
    {
     "data": {
      "text/plain": [
       "['This', 'is', 'a', 'pen']"
      ]
     },
     "execution_count": 31,
     "metadata": {},
     "output_type": "execute_result"
    }
   ],
   "source": [
    "strTemp = a.split(' ')\n",
    "strTemp"
   ]
  },
  {
   "cell_type": "markdown",
   "id": "dbb1a6c4",
   "metadata": {},
   "source": [
    "아래 영어 문장을 나눠보자"
   ]
  },
  {
   "cell_type": "markdown",
   "id": "648357ca",
   "metadata": {},
   "source": [
    "* 방법 1"
   ]
  },
  {
   "cell_type": "code",
   "execution_count": 34,
   "id": "6f762841",
   "metadata": {},
   "outputs": [
    {
     "name": "stdout",
     "output_type": "stream",
     "text": [
      "['A', '61-year-old', 'man', 'whose', 'wife', 'worked', 'as', \"O'Connell’s\", 'housekeeper', 'was', 'charged', 'with', 'one', 'count', 'of', 'murder', 'in', 'the', 'shooting', 'death', 'of', 'the', 'much', 'lauded', 'religious', 'leader.']\n"
     ]
    }
   ],
   "source": [
    "# \"A 61-year-old man whose wife worked as O'Connell’s housekeeper was charged with one count of murder in the shooting death of the much lauded religious leader.\"\n",
    "article = \"A 61-year-old man whose wife worked as O'Connell’s housekeeper was charged with one count of murder in the shooting death of the much lauded religious leader.\"\n",
    "result = article.split(' ')\n",
    "print(result)"
   ]
  },
  {
   "cell_type": "code",
   "execution_count": 36,
   "id": "148ca996",
   "metadata": {},
   "outputs": [
    {
     "name": "stdout",
     "output_type": "stream",
     "text": [
      "['61', 'year', 'old']\n"
     ]
    }
   ],
   "source": [
    "temp = result[1].split('-')\n",
    "print(temp)"
   ]
  },
  {
   "cell_type": "code",
   "execution_count": 38,
   "id": "0ba10ad8",
   "metadata": {
    "scrolled": true
   },
   "outputs": [
    {
     "data": {
      "text/plain": [
       "['A',\n",
       " '61',\n",
       " 'year',\n",
       " 'old',\n",
       " '61',\n",
       " '61-year-old',\n",
       " 'man',\n",
       " 'whose',\n",
       " 'wife',\n",
       " 'worked',\n",
       " 'as',\n",
       " \"O'Connell’s\",\n",
       " 'housekeeper',\n",
       " 'was',\n",
       " 'charged',\n",
       " 'with',\n",
       " 'one',\n",
       " 'count',\n",
       " 'of',\n",
       " 'murder',\n",
       " 'in',\n",
       " 'the',\n",
       " 'shooting',\n",
       " 'death',\n",
       " 'of',\n",
       " 'the',\n",
       " 'much',\n",
       " 'lauded',\n",
       " 'religious',\n",
       " 'leader.']"
      ]
     },
     "execution_count": 38,
     "metadata": {},
     "output_type": "execute_result"
    }
   ],
   "source": [
    "i = 1\n",
    "for word in temp:\n",
    "    result.insert(i, word)\n",
    "    i = i + 1\n",
    "    # i를 하나씩 더해주면서 해당 문자열에 각각 '61', 'year', 'old'를 추가해준다\n",
    "result"
   ]
  },
  {
   "cell_type": "markdown",
   "id": "1ccb6993",
   "metadata": {},
   "source": [
    "* 방법 2: enumerate 활용"
   ]
  },
  {
   "cell_type": "code",
   "execution_count": 39,
   "id": "7705dc8d",
   "metadata": {},
   "outputs": [],
   "source": [
    "article = \"A 61-year-old man whose wife worked as O'Connell’s housekeeper was charged with one count of murder in the shooting death of the much lauded religious leader.\"\n",
    "result = article.split(' ')\n",
    "temp = result[1].split('-')\n",
    "result.remove(result[1])"
   ]
  },
  {
   "cell_type": "code",
   "execution_count": 41,
   "id": "f0efe6f9",
   "metadata": {},
   "outputs": [
    {
     "data": {
      "text/plain": [
       "['A',\n",
       " '61',\n",
       " 'year',\n",
       " 'old',\n",
       " 'man',\n",
       " 'whose',\n",
       " 'wife',\n",
       " 'worked',\n",
       " 'as',\n",
       " \"O'Connell’s\",\n",
       " 'housekeeper',\n",
       " 'was',\n",
       " 'charged',\n",
       " 'with',\n",
       " 'one',\n",
       " 'count',\n",
       " 'of',\n",
       " 'murder',\n",
       " 'in',\n",
       " 'the',\n",
       " 'shooting',\n",
       " 'death',\n",
       " 'of',\n",
       " 'the',\n",
       " 'much',\n",
       " 'lauded',\n",
       " 'religious',\n",
       " 'leader.']"
      ]
     },
     "execution_count": 41,
     "metadata": {},
     "output_type": "execute_result"
    }
   ],
   "source": [
    "for i, word in enumerate(temp):\n",
    "    pos = 1\n",
    "    result.insert(i + pos, word)\n",
    "    i = i + 1\n",
    "result"
   ]
  },
  {
   "cell_type": "markdown",
   "id": "355d5f8d",
   "metadata": {},
   "source": [
    "enumerate함수를 이해하기 위해 간단한 예제로 복기해보자"
   ]
  },
  {
   "cell_type": "code",
   "execution_count": 43,
   "id": "5b3e9d69",
   "metadata": {},
   "outputs": [
    {
     "name": "stdout",
     "output_type": "stream",
     "text": [
      "0 a\n",
      "1 b\n",
      "2 c\n"
     ]
    }
   ],
   "source": [
    "myList = ['a', 'b', 'c']\n",
    "for i, word in enumerate(myList):\n",
    "    print(i, word)\n",
    "\n",
    "    # 실행 결과를 보면 enumerate함수는 i에 문자열의 인덱스, word에 리스트의 문자열을 같이 출력해주는 것을 알 수 있다."
   ]
  },
  {
   "cell_type": "markdown",
   "id": "d99dc2d2",
   "metadata": {},
   "source": [
    "쪼개려는 기준을 다르게 해보면,"
   ]
  },
  {
   "cell_type": "code",
   "execution_count": 44,
   "id": "0c0ce11f",
   "metadata": {},
   "outputs": [
    {
     "data": {
      "text/plain": [
       "['This', 'is', 'a', 'pen']"
      ]
     },
     "execution_count": 44,
     "metadata": {},
     "output_type": "execute_result"
    }
   ],
   "source": [
    "a = 'This-is-a-pen'\n",
    "a.split('-')"
   ]
  },
  {
   "cell_type": "markdown",
   "id": "99af62f3",
   "metadata": {},
   "source": [
    "리턴 받는 값은 리스트형식으로 받게 된다."
   ]
  },
  {
   "cell_type": "code",
   "execution_count": 45,
   "id": "634c3a1e",
   "metadata": {},
   "outputs": [],
   "source": [
    "aa = a.split('-')"
   ]
  },
  {
   "cell_type": "code",
   "execution_count": 46,
   "id": "02b2fb59",
   "metadata": {},
   "outputs": [
    {
     "data": {
      "text/plain": [
       "'This'"
      ]
     },
     "execution_count": 46,
     "metadata": {},
     "output_type": "execute_result"
    }
   ],
   "source": [
    "aa[0]"
   ]
  },
  {
   "cell_type": "code",
   "execution_count": 47,
   "id": "f1488bee",
   "metadata": {},
   "outputs": [
    {
     "data": {
      "text/plain": [
       "'a'"
      ]
     },
     "execution_count": 47,
     "metadata": {},
     "output_type": "execute_result"
    }
   ],
   "source": [
    "aa[2]"
   ]
  },
  {
   "cell_type": "code",
   "execution_count": 48,
   "id": "efc6468c",
   "metadata": {},
   "outputs": [
    {
     "data": {
      "text/plain": [
       "'Thisa'"
      ]
     },
     "execution_count": 48,
     "metadata": {},
     "output_type": "execute_result"
    }
   ],
   "source": [
    "aa[0] + aa[2]"
   ]
  },
  {
   "cell_type": "code",
   "execution_count": 49,
   "id": "5a6a3098",
   "metadata": {},
   "outputs": [],
   "source": [
    "a = '한글은 어떻게 될까요?'"
   ]
  },
  {
   "cell_type": "code",
   "execution_count": 50,
   "id": "7dc5b7a2",
   "metadata": {},
   "outputs": [
    {
     "data": {
      "text/plain": [
       "['한글은', '어떻게', '될까요?']"
      ]
     },
     "execution_count": 50,
     "metadata": {},
     "output_type": "execute_result"
    }
   ],
   "source": [
    "a.split(' ')"
   ]
  },
  {
   "cell_type": "markdown",
   "id": "84a4193f",
   "metadata": {},
   "source": [
    "### 4-2. 대문자/소문자로 만들기"
   ]
  },
  {
   "cell_type": "markdown",
   "id": "dc8556e0",
   "metadata": {},
   "source": [
    "My my, You you와 같이 두 단어를 같은 단어로 취급하고자 할 때 upper(), lowwer()함수를 통해 통일시키면 된다."
   ]
  },
  {
   "cell_type": "code",
   "execution_count": 51,
   "id": "2ca5a623",
   "metadata": {},
   "outputs": [],
   "source": [
    "a = 'My name is Teddy'"
   ]
  },
  {
   "cell_type": "code",
   "execution_count": 52,
   "id": "0ae22909",
   "metadata": {},
   "outputs": [
    {
     "data": {
      "text/plain": [
       "'MY NAME IS TEDDY'"
      ]
     },
     "execution_count": 52,
     "metadata": {},
     "output_type": "execute_result"
    }
   ],
   "source": [
    "a.upper()"
   ]
  },
  {
   "cell_type": "code",
   "execution_count": 53,
   "id": "49b5224b",
   "metadata": {},
   "outputs": [
    {
     "data": {
      "text/plain": [
       "'my name is teddy'"
      ]
     },
     "execution_count": 53,
     "metadata": {},
     "output_type": "execute_result"
    }
   ],
   "source": [
    "a.lower()"
   ]
  },
  {
   "cell_type": "code",
   "execution_count": 54,
   "id": "b8bd2567",
   "metadata": {},
   "outputs": [],
   "source": [
    "a = '한글엔 대소문자가 없어요!'"
   ]
  },
  {
   "cell_type": "code",
   "execution_count": 55,
   "id": "1b33b7b7",
   "metadata": {},
   "outputs": [
    {
     "data": {
      "text/plain": [
       "'한글엔 대소문자가 없어요!'"
      ]
     },
     "execution_count": 55,
     "metadata": {},
     "output_type": "execute_result"
    }
   ],
   "source": [
    "a.upper()"
   ]
  },
  {
   "cell_type": "code",
   "execution_count": 56,
   "id": "3fbf2b32",
   "metadata": {},
   "outputs": [
    {
     "data": {
      "text/plain": [
       "'한글엔 대소문자가 없어요!'"
      ]
     },
     "execution_count": 56,
     "metadata": {},
     "output_type": "execute_result"
    }
   ],
   "source": [
    "a.lower()"
   ]
  },
  {
   "cell_type": "markdown",
   "id": "28c7da70",
   "metadata": {},
   "source": [
    "결과를 보면 알 수 있듯이, 한글에 적용할 경우 함수가 인식을 할 수 없어 값이 그대로 출력된다."
   ]
  },
  {
   "cell_type": "markdown",
   "id": "7eb97f4e",
   "metadata": {},
   "source": [
    "### 4-3. startswith, endswith  ~로 시작하는, ~로 끝나는"
   ]
  },
  {
   "cell_type": "code",
   "execution_count": 57,
   "id": "c41cb3d7",
   "metadata": {},
   "outputs": [],
   "source": [
    "a = '01-sample.png'\n",
    "b = '02-sample.jpg'\n",
    "c = '03-sample.pdf'"
   ]
  },
  {
   "cell_type": "code",
   "execution_count": 60,
   "id": "99c027cd",
   "metadata": {},
   "outputs": [
    {
     "data": {
      "text/plain": [
       "True"
      ]
     },
     "execution_count": 60,
     "metadata": {},
     "output_type": "execute_result"
    }
   ],
   "source": [
    "a.startswith('01')"
   ]
  },
  {
   "cell_type": "code",
   "execution_count": 62,
   "id": "fb1aaebe",
   "metadata": {},
   "outputs": [
    {
     "data": {
      "text/plain": [
       "False"
      ]
     },
     "execution_count": 62,
     "metadata": {},
     "output_type": "execute_result"
    }
   ],
   "source": [
    "a.endswith('.jpg')"
   ]
  },
  {
   "cell_type": "code",
   "execution_count": 63,
   "id": "fecc57bb",
   "metadata": {},
   "outputs": [
    {
     "data": {
      "text/plain": [
       "True"
      ]
     },
     "execution_count": 63,
     "metadata": {},
     "output_type": "execute_result"
    }
   ],
   "source": [
    "b.endswith('.jpg')"
   ]
  },
  {
   "cell_type": "code",
   "execution_count": 64,
   "id": "d5877cc9",
   "metadata": {},
   "outputs": [],
   "source": [
    "myList = [a, b]"
   ]
  },
  {
   "cell_type": "code",
   "execution_count": 65,
   "id": "d3a3611f",
   "metadata": {},
   "outputs": [
    {
     "name": "stdout",
     "output_type": "stream",
     "text": [
      "02-sample.jpg\n"
     ]
    }
   ],
   "source": [
    "for file in myList:\n",
    "    if file.endswith('.jpg'):\n",
    "        print(file)"
   ]
  },
  {
   "cell_type": "markdown",
   "id": "9edbd944",
   "metadata": {},
   "source": [
    "### 4-4. replace(바꾸기)"
   ]
  },
  {
   "cell_type": "code",
   "execution_count": 66,
   "id": "21e8e6de",
   "metadata": {},
   "outputs": [],
   "source": [
    "a = '01-sample.png'"
   ]
  },
  {
   "cell_type": "markdown",
   "id": "cfd5d325",
   "metadata": {},
   "source": [
    "a.replace('.png', '.jpg')"
   ]
  },
  {
   "cell_type": "code",
   "execution_count": 68,
   "id": "f24d77be",
   "metadata": {},
   "outputs": [
    {
     "data": {
      "text/plain": [
       "'01-sample.png'"
      ]
     },
     "execution_count": 68,
     "metadata": {},
     "output_type": "execute_result"
    }
   ],
   "source": [
    "a\n",
    "# 변경 사항을 a에 그대로 적용하고자 하면 a변수 선언뒤 실행하자"
   ]
  },
  {
   "cell_type": "code",
   "execution_count": 69,
   "id": "b0be0f30",
   "metadata": {},
   "outputs": [
    {
     "data": {
      "text/plain": [
       "'01-sample.jpg'"
      ]
     },
     "execution_count": 69,
     "metadata": {},
     "output_type": "execute_result"
    }
   ],
   "source": [
    "new_a = a.replace('.png', '.jpg')\n",
    "new_a"
   ]
  },
  {
   "cell_type": "markdown",
   "id": "fa9a56b6",
   "metadata": {},
   "source": [
    "### 4-5. 불필요한 공백 제거하기"
   ]
  },
  {
   "cell_type": "code",
   "execution_count": 70,
   "id": "e02fa539",
   "metadata": {},
   "outputs": [],
   "source": [
    "a = '   01-sample.png      '\n",
    "b = '01-sample.png'"
   ]
  },
  {
   "cell_type": "code",
   "execution_count": 71,
   "id": "a7812027",
   "metadata": {},
   "outputs": [
    {
     "data": {
      "text/plain": [
       "False"
      ]
     },
     "execution_count": 71,
     "metadata": {},
     "output_type": "execute_result"
    }
   ],
   "source": [
    "a == b"
   ]
  },
  {
   "cell_type": "markdown",
   "id": "fec89aae",
   "metadata": {},
   "source": [
    "strip은 양 끝 불필요한 공백을 제거해 준다. 이때, 만약 문자 사이에 있는 공백은 strip함수에서는 불필요하다고 인식을 못하므로 별도의 추가적인 작업이 필요하다."
   ]
  },
  {
   "cell_type": "code",
   "execution_count": 72,
   "id": "106204d3",
   "metadata": {},
   "outputs": [
    {
     "data": {
      "text/plain": [
       "'01-sample.png'"
      ]
     },
     "execution_count": 72,
     "metadata": {},
     "output_type": "execute_result"
    }
   ],
   "source": [
    "a.strip()"
   ]
  },
  {
   "cell_type": "code",
   "execution_count": 73,
   "id": "a035fb82",
   "metadata": {},
   "outputs": [
    {
     "data": {
      "text/plain": [
       "True"
      ]
     },
     "execution_count": 73,
     "metadata": {},
     "output_type": "execute_result"
    }
   ],
   "source": [
    "a.strip() == b"
   ]
  },
  {
   "cell_type": "markdown",
   "id": "cee5df7a",
   "metadata": {},
   "source": [
    "## 5. 패키지와 모듈"
   ]
  },
  {
   "cell_type": "code",
   "execution_count": 74,
   "id": "34d1ea5c",
   "metadata": {},
   "outputs": [
    {
     "data": {
      "text/plain": [
       "<function ntpath.join(path, *paths)>"
      ]
     },
     "execution_count": 74,
     "metadata": {},
     "output_type": "execute_result"
    }
   ],
   "source": [
    "import os\n",
    "os.path.join\n",
    "# os라는 패키지, 그 안에 path라는 패키지, join이라는 모듈이라고 생각하면 이해하기 용이하다."
   ]
  },
  {
   "cell_type": "markdown",
   "id": "f1d5fddc",
   "metadata": {},
   "source": [
    "## 6. 별칭(alias) 지어주기"
   ]
  },
  {
   "cell_type": "markdown",
   "id": "0614faee",
   "metadata": {},
   "source": [
    "pandas라는 패키지 이름이 길기 때문에 약어로 줄여쓸 수 있다. 보통 pd를 보편적으로 많이 사용한다."
   ]
  },
  {
   "cell_type": "markdown",
   "id": "a1bcc37c",
   "metadata": {},
   "source": [
    "줄여서 별명을 지어 줄 떄는 as를 붙혀준다."
   ]
  },
  {
   "cell_type": "code",
   "execution_count": 75,
   "id": "b034c490",
   "metadata": {},
   "outputs": [],
   "source": [
    "import pandas as pd"
   ]
  },
  {
   "cell_type": "code",
   "execution_count": 76,
   "id": "a3783942",
   "metadata": {},
   "outputs": [
    {
     "data": {
      "text/html": [
       "<div>\n",
       "<style scoped>\n",
       "    .dataframe tbody tr th:only-of-type {\n",
       "        vertical-align: middle;\n",
       "    }\n",
       "\n",
       "    .dataframe tbody tr th {\n",
       "        vertical-align: top;\n",
       "    }\n",
       "\n",
       "    .dataframe thead th {\n",
       "        text-align: right;\n",
       "    }\n",
       "</style>\n",
       "<table border=\"1\" class=\"dataframe\">\n",
       "  <thead>\n",
       "    <tr style=\"text-align: right;\">\n",
       "      <th></th>\n",
       "    </tr>\n",
       "  </thead>\n",
       "  <tbody>\n",
       "  </tbody>\n",
       "</table>\n",
       "</div>"
      ],
      "text/plain": [
       "Empty DataFrame\n",
       "Columns: []\n",
       "Index: []"
      ]
     },
     "execution_count": 76,
     "metadata": {},
     "output_type": "execute_result"
    }
   ],
   "source": [
    "pd.DataFrame()"
   ]
  },
  {
   "cell_type": "markdown",
   "id": "e8ce95b8",
   "metadata": {},
   "source": [
    "[안 좋은 예]"
   ]
  },
  {
   "cell_type": "code",
   "execution_count": 78,
   "id": "6a96bcde",
   "metadata": {
    "scrolled": true
   },
   "outputs": [],
   "source": [
    "import pandas as 판다"
   ]
  },
  {
   "cell_type": "code",
   "execution_count": 79,
   "id": "0f7fe76b",
   "metadata": {},
   "outputs": [
    {
     "data": {
      "text/html": [
       "<div>\n",
       "<style scoped>\n",
       "    .dataframe tbody tr th:only-of-type {\n",
       "        vertical-align: middle;\n",
       "    }\n",
       "\n",
       "    .dataframe tbody tr th {\n",
       "        vertical-align: top;\n",
       "    }\n",
       "\n",
       "    .dataframe thead th {\n",
       "        text-align: right;\n",
       "    }\n",
       "</style>\n",
       "<table border=\"1\" class=\"dataframe\">\n",
       "  <thead>\n",
       "    <tr style=\"text-align: right;\">\n",
       "      <th></th>\n",
       "    </tr>\n",
       "  </thead>\n",
       "  <tbody>\n",
       "  </tbody>\n",
       "</table>\n",
       "</div>"
      ],
      "text/plain": [
       "Empty DataFrame\n",
       "Columns: []\n",
       "Index: []"
      ]
     },
     "execution_count": 79,
     "metadata": {},
     "output_type": "execute_result"
    }
   ],
   "source": [
    "판다.DataFrame()"
   ]
  },
  {
   "cell_type": "markdown",
   "id": "f70f65d3",
   "metadata": {},
   "source": [
    "코드를 다른 사람과 공유하거나, 제출 할 떄 다른 이들이 쉽게 이해할 수 있도록 보편적인 별칭을 짓는것이 좋다"
   ]
  },
  {
   "cell_type": "markdown",
   "id": "2bac6721",
   "metadata": {},
   "source": [
    "## 7. 자주 사용하는 패키지와 모듈"
   ]
  },
  {
   "cell_type": "code",
   "execution_count": 81,
   "id": "f09de598",
   "metadata": {},
   "outputs": [],
   "source": [
    "import numpy as np\n",
    "import pandas as pd\n",
    "import matplotlib as plt\n",
    "import seaborn as sns"
   ]
  },
  {
   "cell_type": "markdown",
   "id": "13976acb",
   "metadata": {},
   "source": [
    "* numpy: 과학 계산을 위한 패키지\n",
    "* pandas: 데이터 분석을 할 때 가장 많이 쓰이는 패키지\n",
    "* matplotlib: 시각화를 위한 패키지\n",
    "* seaborn: 시각화를 위한 패키지 (matplotlib을 더 쉽게 사용할 수 있도록 도와주는 패키지)"
   ]
  },
  {
   "cell_type": "markdown",
   "id": "c37d9d62",
   "metadata": {},
   "source": [
    "* 참고\n",
    "\n",
    "https://github.com/venture21/AICE-associate/blob/main/AICE_associatesummaryNote.ipynb\n",
    "\n",
    "https://datascienceschool.net/intro.html"
   ]
  },
  {
   "cell_type": "markdown",
   "id": "c723ad95",
   "metadata": {},
   "source": [
    "## 8. while 반복문"
   ]
  },
  {
   "cell_type": "markdown",
   "id": "13df583b",
   "metadata": {},
   "source": [
    "![image.png](data:image/png;base64,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)"
   ]
  },
  {
   "cell_type": "markdown",
   "id": "1ddcf6cd",
   "metadata": {},
   "source": [
    "while문은 조건문이 참인 동안에 while문에 속한 문장들이 반복해서 수행된다."
   ]
  },
  {
   "cell_type": "code",
   "execution_count": 83,
   "id": "0d107fa7",
   "metadata": {},
   "outputs": [
    {
     "name": "stdout",
     "output_type": "stream",
     "text": [
      "커피 받았음, 잔돈: 1500\n",
      "커피 받았음, 잔돈: 1000\n",
      "커피 받았음, 잔돈: 500\n",
      "커피 받았음, 잔돈: 0\n"
     ]
    }
   ],
   "source": [
    "import time\n",
    "\n",
    "coffee = 500\n",
    "money = 2000\n",
    "\n",
    "while money > 0:\n",
    "    time.sleep(1)\n",
    "    # sleep함수는 일정시간 프로세스를 지연시킬 수 있다.\n",
    "    # time.sleep(10) -> 10초 간격으로 프로세스를 출력한다는 의미\n",
    "    money = money - coffee\n",
    "    print('커피 받았음, 잔돈: {}'.format(money))"
   ]
  },
  {
   "cell_type": "code",
   "execution_count": 121,
   "id": "cdee6590",
   "metadata": {},
   "outputs": [
    {
     "name": "stdout",
     "output_type": "stream",
     "text": [
      "커피 받았음, 잔돈: 1600\n",
      "커피 받았음, 잔돈: 1200\n",
      "커피 받았음, 잔돈: 800\n",
      "커피 받았음, 잔돈: 400\n",
      "커피 받았음, 잔돈: 0\n",
      "잔돈이 남아있지 않습니다.\n"
     ]
    }
   ],
   "source": [
    "# 위의 예제에 break 활용\n",
    "import time\n",
    "\n",
    "coffee = 400\n",
    "money = 2000\n",
    "while money > 0:\n",
    "    time.sleep(1)\n",
    "    money = money - coffee\n",
    "    print('커피 받았음, 잔돈: {}'.format(money))\n",
    "    if money == 0:\n",
    "        print('잔돈이 남아있지 않습니다.')\n",
    "        break"
   ]
  },
  {
   "cell_type": "code",
   "execution_count": 114,
   "id": "2b68a43b",
   "metadata": {},
   "outputs": [
    {
     "name": "stdout",
     "output_type": "stream",
     "text": [
      "나무를 1번 찍었습니다.\n",
      "나무를 2번 찍었습니다.\n",
      "나무를 3번 찍었습니다.\n",
      "나무를 4번 찍었습니다.\n",
      "나무를 5번 찍었습니다.\n",
      "나무를 6번 찍었습니다.\n",
      "나무를 7번 찍었습니다.\n",
      "나무를 8번 찍었습니다.\n",
      "나무를 9번 찍었습니다.\n",
      "나무를 10번 찍었습니다.\n",
      "나무 굴러가유~\n"
     ]
    }
   ],
   "source": [
    "# 속담을 이용한 연습\n",
    "# 열 번 찍어 안 넘어가는 나무 없다\n",
    "# time.sleep함수 적용\n",
    "import time\n",
    "treeHit = 0\n",
    "while treeHit < 10:\n",
    "    time.sleep(2)\n",
    "    treeHit += 1\n",
    "    print('나무를 %d번 찍었습니다.' % treeHit)\n",
    "    if treeHit == 10:\n",
    "        print('나무 굴러가유~')"
   ]
  },
  {
   "cell_type": "code",
   "execution_count": 115,
   "id": "956ebadf",
   "metadata": {},
   "outputs": [],
   "source": [
    "# 프롬포트 및 input을 활용한 연습\n",
    "prompt = \"\"\"\n",
    "1. Add\n",
    "2. Del\n",
    "3. List\n",
    "4. Quit\n",
    "Enter number: \"\"\""
   ]
  },
  {
   "cell_type": "code",
   "execution_count": 116,
   "id": "4f9f2ee2",
   "metadata": {},
   "outputs": [
    {
     "name": "stdout",
     "output_type": "stream",
     "text": [
      "\n",
      "1. Add\n",
      "2. Del\n",
      "3. List\n",
      "4. Quit\n",
      "Enter number: \n",
      "2\n",
      "\n",
      "1. Add\n",
      "2. Del\n",
      "3. List\n",
      "4. Quit\n",
      "Enter number: \n",
      "4\n"
     ]
    }
   ],
   "source": [
    "number = 0\n",
    "while number != 4:\n",
    "    print(prompt)\n",
    "    number = int(input())"
   ]
  },
  {
   "cell_type": "markdown",
   "id": "ba6b62c8",
   "metadata": {},
   "source": [
    "## 9.사용자 입력 함수 input"
   ]
  },
  {
   "cell_type": "code",
   "execution_count": 84,
   "id": "e4ccef15",
   "metadata": {},
   "outputs": [
    {
     "name": "stdout",
     "output_type": "stream",
     "text": [
      "안녕\n",
      "안녕\n"
     ]
    }
   ],
   "source": [
    "test = input()\n",
    "print(test)"
   ]
  },
  {
   "cell_type": "code",
   "execution_count": 85,
   "id": "4463c008",
   "metadata": {},
   "outputs": [
    {
     "name": "stdout",
     "output_type": "stream",
     "text": [
      "1\n",
      "Coffee\n",
      "2\n",
      "Juice\n",
      "ㅌ\n",
      "다시 입력하세요\n",
      "X\n"
     ]
    }
   ],
   "source": [
    "# 자판기 응용\n",
    "while True:\n",
    "    inputStr = input()\n",
    "    \n",
    "    if inputStr == '1':\n",
    "        print('Coffee')\n",
    "    elif inputStr == '2':\n",
    "        print('Juice')\n",
    "    elif inputStr == 'X':\n",
    "        break\n",
    "    else:\n",
    "        print('다시 입력하세요')"
   ]
  },
  {
   "cell_type": "markdown",
   "id": "52a155dc",
   "metadata": {},
   "source": [
    "## 10. 파일 읽고 쓰기"
   ]
  },
  {
   "cell_type": "code",
   "execution_count": 87,
   "id": "85ef7083",
   "metadata": {},
   "outputs": [],
   "source": [
    "# 쓰기 모드로 파일 열기\n",
    "f = open('./log.txt', 'w', encoding = 'utf-8')\n",
    "\n",
    "for i in range(1, 11):\n",
    "    data = '%d번째 줄입니다. \\n' % i\n",
    "    f.write(data)\n",
    "f.close()"
   ]
  },
  {
   "cell_type": "markdown",
   "id": "61cd134c",
   "metadata": {},
   "source": [
    "### 10-1. 현재 시간 문자열로 생성하기"
   ]
  },
  {
   "cell_type": "code",
   "execution_count": 89,
   "id": "e8a6c4de",
   "metadata": {
    "scrolled": true
   },
   "outputs": [
    {
     "data": {
      "text/plain": [
       "time.struct_time(tm_year=2023, tm_mon=2, tm_mday=23, tm_hour=15, tm_min=7, tm_sec=8, tm_wday=3, tm_yday=54, tm_isdst=0)"
      ]
     },
     "execution_count": 89,
     "metadata": {},
     "output_type": "execute_result"
    }
   ],
   "source": [
    "import time\n",
    "\n",
    "# time.time()\n",
    "# time.localtime(time.time())"
   ]
  },
  {
   "cell_type": "code",
   "execution_count": 128,
   "id": "22c9e61c",
   "metadata": {},
   "outputs": [
    {
     "name": "stdout",
     "output_type": "stream",
     "text": [
      "21:18:12.571895\n"
     ]
    }
   ],
   "source": [
    "# 날짜는 제외하고, 시간만 가져오고 싶을때\n",
    "# now().time()\n",
    "from datetime import datetime\n",
    "\n",
    "current_time = datetime.now().time()\n",
    "\n",
    "print(current_time)"
   ]
  },
  {
   "cell_type": "markdown",
   "id": "bc4dcde9",
   "metadata": {},
   "source": [
    "파이썬의 현재시간은UTC기준으로 만들어져 있어 한국시간과 다르게 표현된다. 따라서 한국시간으로 보고자 할떄는 다음과 같이 변경해주어야 한다."
   ]
  },
  {
   "cell_type": "markdown",
   "id": "588d5997",
   "metadata": {},
   "source": [
    "Timezone을 가져올때 사용되는 String\n",
    "* 대륙/나라 의 형태를 입력한다"
   ]
  },
  {
   "cell_type": "code",
   "execution_count": null,
   "id": "c7181265",
   "metadata": {
    "scrolled": true
   },
   "outputs": [],
   "source": [
    "# 현재 시간을 한국시간으로 설정하기\n",
    "import time\n",
    "import datetime\n",
    "from pytz import timezone\n",
    "now = datetime.datetime.now(timezone('Asia/Seoul'))\n",
    "print(now)"
   ]
  },
  {
   "cell_type": "markdown",
   "id": "e3bd2204",
   "metadata": {},
   "source": [
    "연습"
   ]
  },
  {
   "cell_type": "code",
   "execution_count": 93,
   "id": "3108c891",
   "metadata": {},
   "outputs": [
    {
     "name": "stdout",
     "output_type": "stream",
     "text": [
      "2023-02-23 15:55:06\n",
      "\n",
      "2023-02-23 15:55:07\n",
      "\n",
      "2023-02-23 15:55:08\n",
      "\n",
      "2023-02-23 15:55:09\n",
      "\n",
      "2023-02-23 15:55:10\n",
      "\n",
      "2023-02-23 15:55:11\n",
      "\n",
      "2023-02-23 15:55:12\n",
      "\n",
      "2023-02-23 15:55:13\n",
      "\n",
      "2023-02-23 15:55:14\n",
      "\n",
      "2023-02-23 15:55:15\n",
      "\n"
     ]
    }
   ],
   "source": [
    "# 1번씩 현재시간을 log.txt에 저장한다.\n",
    "# 현재 시간의 포맷은 \"2023-02-23 14:16:00\"의 형태\n",
    "# 10초 동안 저장하다가 종료\n",
    "\n",
    "# 필요한 모듈 불러오기\n",
    "import time\n",
    "import datetime\n",
    "from pytz import timezone\n",
    "\n",
    "f = open('./log.txt', 'w', encoding = 'utf-8')\n",
    "running = True\n",
    "timeCount = 0\n",
    "\n",
    "while running:\n",
    "    # 현재 시간 읽어오기\n",
    "    now = datetime.datetime.now(timezone('Asia/Seoul'))\n",
    "    \n",
    "    # 원하는 날짜 시간 포맷으로 문자열 바꾸기\n",
    "    date = now.strftime('%Y-%m-%d %H:%M:%S') + '\\n'\n",
    "    print(date)\n",
    "    f.write(date)\n",
    "    \n",
    "    # 파일에 시간을 1초에 한번 쓰기 위해\n",
    "    time.sleep(1)\n",
    "    \n",
    "    # 한번 반복문을 실해할 때마다 1씩 증가\n",
    "    timeCount += 1\n",
    "    if timeCount > 9:\n",
    "        running = False\n",
    "f.close()"
   ]
  },
  {
   "cell_type": "code",
   "execution_count": 131,
   "id": "6375ece0",
   "metadata": {},
   "outputs": [
    {
     "name": "stdout",
     "output_type": "stream",
     "text": [
      "2023-02-23 07:23:05.293514-05:00\n",
      "2023-02-23 07:23:05\n"
     ]
    }
   ],
   "source": [
    "# 뉴옥시간으로 출력하기\n",
    "import time\n",
    "import datetime\n",
    "from pytz import timezone\n",
    "now = datetime.datetime.now(timezone('America/New_York'))\n",
    "print(now)\n",
    "\n",
    "date = now.strftime('%Y-%m-%d %H:%M:%S')\n",
    "print(date)"
   ]
  },
  {
   "cell_type": "markdown",
   "id": "fde0a8cb",
   "metadata": {},
   "source": [
    "### time모듈\n",
    "* time.time(): 현대 시간을 실수 형태로 리턴하는 함수, 1970년 1월 1일 0시0분 0초를 기준으로 지난 시간을 초 단위로 알려준다\n",
    "* time.localtime(): time.time()이 리천한 실수 값을 사용해서 연도, 월, 일, 시, 분, 초 등의 형태로 바꿔주는 함수이다\n",
    "* time.strftime(): 출력할 형식의 여러 포맷들을 제공해준다"
   ]
  },
  {
   "cell_type": "markdown",
   "id": "7ca4d7a3",
   "metadata": {},
   "source": [
    "* 시간에 관계된 것을 표현하는 포맷코드"
   ]
  },
  {
   "attachments": {
    "image.png": {
     "image/png": "[encoded data removed]"
    }
   },
   "cell_type": "markdown",
   "id": "4933778e",
   "metadata": {},
   "source": [
    "![image.png](attachment:image.png)"
   ]
  },
  {
   "cell_type": "markdown",
   "id": "dfa6d0b7",
   "metadata": {},
   "source": [
    "## 11. 파일 불러오기"
   ]
  },
  {
   "cell_type": "markdown",
   "id": "e7b0a742",
   "metadata": {},
   "source": [
    "### readme1.txt파일을 업로드한다\n",
    "\n",
    "#### 1.readline()함수 사용"
   ]
  },
  {
   "cell_type": "code",
   "execution_count": 98,
   "id": "22685046",
   "metadata": {},
   "outputs": [
    {
     "name": "stdout",
     "output_type": "stream",
     "text": [
      "첫 번째 줄을 읽었습니다.\n",
      "\n",
      "두 번째 줄을 읽었습니다.\n",
      "\n",
      "세 번째 줄을 읽었습니다.\n",
      "\n",
      "네 번째 줄을 읽었습니다.\n",
      "\n",
      "다셋 번째 줄을 읽었습니다.\n",
      "\n"
     ]
    }
   ],
   "source": [
    "# 파일 불러오기\n",
    "f = open('./readme1.txt', 'r', encoding = 'utf-8')\n",
    "\n",
    "# 파일에서 한 라인 읽기\n",
    "line = f.readline()\n",
    "print(line)\n",
    "\n",
    "# while문을 사용하여 파일 읽기\n",
    "# 한줄 한줄 읽어야 할 경우, 리스트에 데이터가 얼마나 존재할 지 모르기 때문에 \n",
    "# for문 보다 while문을 사용하는것이 편리하다\n",
    "while True:\n",
    "    line = f.readline()\n",
    "    \n",
    "    # readline()함수를 실행했는데 읽어온 내용이 없을때(list가 NULL일 경우)\n",
    "    if not line:\n",
    "        break\n",
    "    print(line)"
   ]
  },
  {
   "cell_type": "markdown",
   "id": "e1e1e4e3",
   "metadata": {},
   "source": [
    "#### 2. readlines()함수 이용"
   ]
  },
  {
   "cell_type": "code",
   "execution_count": 99,
   "id": "653bbd96",
   "metadata": {},
   "outputs": [
    {
     "name": "stdout",
     "output_type": "stream",
     "text": [
      "첫 번째 줄을 읽었습니다.\n",
      "\n",
      "두 번째 줄을 읽었습니다.\n",
      "\n",
      "세 번째 줄을 읽었습니다.\n",
      "\n",
      "네 번째 줄을 읽었습니다.\n",
      "\n",
      "다셋 번째 줄을 읽었습니다.\n",
      "\n"
     ]
    }
   ],
   "source": [
    "# 파일 불러오기\n",
    "f = open('./readme1.txt', 'r', encoding = 'utf-8')\n",
    "\n",
    "lines = f.readlines()\n",
    "for line in lines:\n",
    "    print(line)"
   ]
  },
  {
   "cell_type": "markdown",
   "id": "5e87878b",
   "metadata": {},
   "source": [
    "### 기존의 파일에 이어서 기록하기"
   ]
  },
  {
   "cell_type": "code",
   "execution_count": 100,
   "id": "47c8abdb",
   "metadata": {},
   "outputs": [],
   "source": [
    "# 파일에 내용 추가하기\n",
    "# 'a'옵션 사용\n",
    "f = open('./readme1.txt', 'a', encoding = 'utf-8')\n",
    "for i in range(6, 9):\n",
    "    data = '%d번째 줄을 읽었습니다.\\n' % i\n",
    "    f.write(data)\n",
    "f.close()"
   ]
  },
  {
   "cell_type": "markdown",
   "id": "2e289ffd",
   "metadata": {},
   "source": [
    "### 파일을 open하면 자동으로 close하기"
   ]
  },
  {
   "cell_type": "code",
   "execution_count": 101,
   "id": "62f5e927",
   "metadata": {},
   "outputs": [],
   "source": [
    "# with구문을 사용하여 자동으로 파일을 담을 수 있다.\n",
    "with open('./readme1.txt', 'a', encoding = 'utf-8') as f:\n",
    "    f.write('Life is too short, you need python')"
   ]
  },
  {
   "cell_type": "markdown",
   "id": "bb42cf97",
   "metadata": {},
   "source": [
    "## 12. 클래스(class)\n"
   ]
  },
  {
   "cell_type": "markdown",
   "id": "c5674b6c",
   "metadata": {},
   "source": [
    "### 계산기 class를 생성해보자"
   ]
  },
  {
   "cell_type": "markdown",
   "id": "b479ac79",
   "metadata": {},
   "source": [
    "python class에서 self는 class 자신을 가리킨다."
   ]
  },
  {
   "cell_type": "code",
   "execution_count": 102,
   "id": "b5b2dfd8",
   "metadata": {},
   "outputs": [
    {
     "name": "stdout",
     "output_type": "stream",
     "text": [
      "Hi\n"
     ]
    },
    {
     "data": {
      "text/plain": [
       "7"
      ]
     },
     "execution_count": 102,
     "metadata": {},
     "output_type": "execute_result"
    }
   ],
   "source": [
    "class Calculator:\n",
    "    # __init__: 계산기를 실행하기 전에 초기화 하는 부분(생성자의 역할)\n",
    "    def __init__(self):\n",
    "        print('Hi')\n",
    "        self.result = 0\n",
    "    \n",
    "    def add(self, num):\n",
    "        # result = result + num의 표현\n",
    "        self.result += num\n",
    "        return self.result\n",
    "    \n",
    "# 클래스의 객체를 생성\n",
    "# 객체 생성시 __init__함수가 자동으로 호출\n",
    "cal1 = Calculator()\n",
    "cal1.add(3)\n",
    "cal1.add(4)"
   ]
  },
  {
   "cell_type": "markdown",
   "id": "fd010034",
   "metadata": {},
   "source": [
    "점프 투 파이썬의 계산기 예제를 통해 좀더 세분화된 클래스를 확인하고자 한다.<br>\n",
    "아래 함수의 정의를 다음과 같이 이해할 수 있다.\n",
    "* FourCal은 클래스명\n",
    "* 클래스에 속한 멤버함수: setdata, add, mul, div\n",
    "* 클래스의 멤버 변수: self.first, self.second -> add, mul, sub, div와 같은 멤버함수에 참조 가능\n",
    "* 각 멤버 함수에 있는 result변수는 그 멤버변수 안에서만 사용가능\n",
    "* 만약 다른 멤버함수간 참조를 원하면 self.result로 선언해줘야 함"
   ]
  },
  {
   "cell_type": "code",
   "execution_count": 108,
   "id": "75729bac",
   "metadata": {},
   "outputs": [],
   "source": [
    "class FourCal:\n",
    "    \n",
    "    def __init__(self, first, second):\n",
    "        # print('Hello')\n",
    "        self.first = first\n",
    "        self.second = second\n",
    "        \n",
    "    def setdata(self, first, second):\n",
    "        self.first = first\n",
    "        self.second = second\n",
    "    \n",
    "    def add(self):\n",
    "        result = self.first + self.second\n",
    "        return result\n",
    "    \n",
    "    def mul(self):\n",
    "        result = self.first * self.second\n",
    "        return result\n",
    "    \n",
    "    def sub(self):\n",
    "        result = self.first - self.second\n",
    "        return result\n",
    "        \n",
    "    def div(self):\n",
    "        result = self.first / self.second\n",
    "        return result\n"
   ]
  },
  {
   "cell_type": "markdown",
   "id": "8b526ffb",
   "metadata": {},
   "source": [
    "### 생성자(Constructor)\n",
    "\n",
    "객체가 생성될 때 자동으로 호출되는 메서드를 의미한다."
   ]
  },
  {
   "cell_type": "markdown",
   "id": "e2c6b33c",
   "metadata": {},
   "source": [
    "__init__과 같이 생성자를 통해 초기값을 설정 해 두면 구현하는데 보다 안전하다"
   ]
  },
  {
   "cell_type": "code",
   "execution_count": 109,
   "id": "8f6e9b6d",
   "metadata": {},
   "outputs": [
    {
     "data": {
      "text/plain": [
       "6"
      ]
     },
     "execution_count": 109,
     "metadata": {},
     "output_type": "execute_result"
    }
   ],
   "source": [
    "# a라는 이름으로 객체 생성 후 4와 2값을 설정\n",
    "# __init__에 초기값을 넣어줌\n",
    "a = FourCal(4, 2)\n",
    "\n",
    "a.add()"
   ]
  },
  {
   "cell_type": "code",
   "execution_count": 110,
   "id": "7fc7ec57",
   "metadata": {},
   "outputs": [
    {
     "data": {
      "text/plain": [
       "2.0"
      ]
     },
     "execution_count": 110,
     "metadata": {},
     "output_type": "execute_result"
    }
   ],
   "source": [
    "a.div()"
   ]
  },
  {
   "cell_type": "code",
   "execution_count": null,
   "id": "8f23fa0e",
   "metadata": {},
   "outputs": [],
   "source": []
  }
 ],
 "metadata": {
  "kernelspec": {
   "display_name": "Python 3 (ipykernel)",
   "language": "python",
   "name": "python3"
  },
  "language_info": {
   "codemirror_mode": {
    "name": "ipython",
    "version": 3
   },
   "file_extension": ".py",
   "mimetype": "text/x-python",
   "name": "python",
   "nbconvert_exporter": "python",
   "pygments_lexer": "ipython3",
   "version": "3.9.7"
  }
 },
 "nbformat": 4,
 "nbformat_minor": 5
}
