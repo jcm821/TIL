{
 "cells": [
  {
   "cell_type": "markdown",
   "metadata": {
    "id": "V3a8_ja-BB5V"
   },
   "source": [
    "##현재 작업폴더를 알고자 할 때"
   ]
  },
  {
   "cell_type": "code",
   "execution_count": null,
   "metadata": {
    "colab": {
     "base_uri": "https://localhost:8080/"
    },
    "executionInfo": {
     "elapsed": 381,
     "status": "ok",
     "timestamp": 1676882716612,
     "user": {
      "displayName": "전창민",
      "userId": "04793944019518067714"
     },
     "user_tz": -540
    },
    "id": "4jmNuM9p_Y65",
    "outputId": "0be76b1c-cfbc-4c45-e304-94831690c9a8"
   },
   "outputs": [
    {
     "data": {
      "text/plain": [
       "list"
      ]
     },
     "execution_count": 160,
     "metadata": {},
     "output_type": "execute_result"
    }
   ],
   "source": [
    "import os\n",
    "# '.'의 의미는 현재 작업 폴더를 가리킨다\n",
    "fileList = os.listdir('.')\n",
    "fileList\n",
    "# type(fileList)\n",
    "\n",
    "# 리눅스에서는 .으로 파일명이 시작하면 숨김파일이다"
   ]
  },
  {
   "cell_type": "code",
   "execution_count": null,
   "metadata": {
    "colab": {
     "base_uri": "https://localhost:8080/"
    },
    "executionInfo": {
     "elapsed": 7,
     "status": "ok",
     "timestamp": 1676882883839,
     "user": {
      "displayName": "전창민",
      "userId": "04793944019518067714"
     },
     "user_tz": -540
    },
    "id": "wp8iXkpyAEQF",
    "outputId": "d9f23ca2-048a-4054-f873-1ac3cecf6b9e"
   },
   "outputs": [
    {
     "name": "stdout",
     "output_type": "stream",
     "text": [
      "total 16\n",
      "drwxr-xr-x 1 root root 4096 Feb 17 19:30 .\n",
      "drwxr-xr-x 1 root root 4096 Feb 20 04:38 ..\n",
      "drwxr-xr-x 4 root root 4096 Feb 17 19:29 .config\n",
      "drwxr-xr-x 1 root root 4096 Feb 17 19:30 sample_data\n"
     ]
    }
   ],
   "source": [
    "# 주피터 노트북(colab)의 코드셀에서 리눅스 터미널 명령을 실행할 수 있다.\n",
    "# ls(list)\n",
    "!ls -al"
   ]
  },
  {
   "cell_type": "markdown",
   "metadata": {
    "id": "dCChmgRRBDLK"
   },
   "source": [
    "# 마크다운 기본설정\n",
    "\n",
    "# 1. 큰제목\n",
    "## 2. 부제목\n",
    "### 3. 부제목2\n"
   ]
  },
  {
   "cell_type": "markdown",
   "metadata": {
    "id": "LdnM__QhBeFa"
   },
   "source": [
    "# 마크다운 표그리기\n",
    "### 구분은 파이프기호 '|'로 구분하며, 제목 셀 아랫줄에 '|---|'표시하여 표 입력임을 표시함\n",
    "\n",
    "|제목셀1|제목셀2|제목셀3|제목셀4|\n",
    "|---|---|---|---|\n",
    "|내용 1|내용 2|내용 3|내용 4|\n",
    "|내용 5|내용 6|내용 7|내용 8|\n",
    "|내용 9|내용 10|내용 11|내용 12|"
   ]
  },
  {
   "cell_type": "markdown",
   "metadata": {
    "id": "qheb-R3bC6GT"
   },
   "source": [
    "# 마크다운 그림 붙여넣기\n",
    "![image.png](data:image/png;base64,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)"
   ]
  },
  {
   "cell_type": "markdown",
   "metadata": {
    "id": "Rogp6mmSG6jT"
   },
   "source": [
    "## 데이터 리터러시\n",
    "### 데이터를 탐색 및 이해하고 해석해서 활용할 수 있는 능력, 데이터로 소통하는 능력\n",
    "\n",
    "**1. 보유 데이터로 할 수 있는 것과 할 수 없는 것을 알아야 한다.**\n",
    "* 통계의 기초적인 개념들인 상관관계, 회귀모델, 시계열 분석, 군집분석에 대한 대략의 방식만 알아도 갖고 있는 데이터로 할 수 있는 것과 없는 것을 알 수 있다.\n",
    "\n",
    "**2. 데이터 타입에 대한 이해가 필요하다.**\n",
    "* 계산할 수 있는것과 없는 것, 문자항과 숫자형 변수에 대해서 만이라도 알자 -> 범주형 변수로 만들 수밖에 없는 것은 결국 비즈니스 도메인 지식이 필요\n",
    "\n",
    "**3. 숫자의 진정한 의미를 생각**\n",
    "* 관계를 서로 확인할 수 없어 탐색적 분석으로 나온 결과를 해석 할 시, 이게 정말 문제 해결에 맞는 숫자인지 알고 활용할지 결정해야 함\n",
    "\n",
    "**4. 가설로 만들고 세부 기준을 공유하며 한계를 받아들이고 팩트로 피드백**\n",
    "* 이 과정을 반복하게 되면 조직 내부에 데이터 리터러시가 빠르게 확산될 것\n",
    "\n",
    "**5. 데이터 활용에 걸리는 시간을 알아야 한다.**\n",
    "* 데이터 마트를 구성하고 분석에 필요한 알고리즘을 선택해서 결과를 내는 과정에 들어가는 개략적인 시간 정도는 알고 미리 일정을 세팅해서 커뮤니케이션하는게 좋다."
   ]
  },
  {
   "cell_type": "markdown",
   "metadata": {
    "id": "rrvAGp0ZDzzt"
   },
   "source": [
    "# 출력함수 print()\n"
   ]
  },
  {
   "cell_type": "markdown",
   "metadata": {
    "id": "5VdA2qDoIoF4"
   },
   "source": []
  },
  {
   "cell_type": "markdown",
   "metadata": {
    "id": "GxcffCmJFjoM"
   },
   "source": [
    "## 1. 출력\n",
    "Jupyter notebook환경에서는 print메소드를 사용하지 않아도 셀의 마지막 줄에 변수명을 올려놓아도 출력가능하다."
   ]
  },
  {
   "cell_type": "code",
   "execution_count": null,
   "metadata": {
    "id": "efIAiLNBGIRp"
   },
   "outputs": [],
   "source": [
    "# python이 한줄 한줄 프로그램 실행이 가능한 이유?\n",
    "# 인터프리트 언어이기 때문.\n",
    "\n",
    "# a라는 변수 생성, a에 10을 할당 후 저장\n",
    "a = 10\n",
    "# 주피터 노트북의 코드셀 마지막에 a라고 하면 a의 값을 출력 -> 주피터 노트북의 특성\n",
    "# (파이썬과의 차이점)\n",
    "a\n"
   ]
  },
  {
   "cell_type": "markdown",
   "metadata": {
    "id": "dndvw74DG43U"
   },
   "source": [
    "### 하나의 셀에 여러 개를 출력할 경우 print()메소드 이용"
   ]
  },
  {
   "cell_type": "code",
   "execution_count": null,
   "metadata": {
    "colab": {
     "base_uri": "https://localhost:8080/"
    },
    "executionInfo": {
     "elapsed": 5,
     "status": "ok",
     "timestamp": 1676867947110,
     "user": {
      "displayName": "전창민",
      "userId": "04793944019518067714"
     },
     "user_tz": -540
    },
    "id": "XsmNXn3IG-rO",
    "outputId": "a83edbc5-f149-48fd-9b61-2c34c1278495"
   },
   "outputs": [
    {
     "name": "stdout",
     "output_type": "stream",
     "text": [
      "안녕하세요\n",
      "Hello\n"
     ]
    }
   ],
   "source": [
    "# 문자열 출력\n",
    "# 'abcd'\n",
    "print('안녕하세요')\n",
    "print('Hello')\n"
   ]
  },
  {
   "cell_type": "code",
   "execution_count": null,
   "metadata": {
    "colab": {
     "base_uri": "https://localhost:8080/"
    },
    "executionInfo": {
     "elapsed": 7,
     "status": "ok",
     "timestamp": 1676868035347,
     "user": {
      "displayName": "전창민",
      "userId": "04793944019518067714"
     },
     "user_tz": -540
    },
    "id": "gS6cOMCBHij3",
    "outputId": "a6d8fc1d-274a-47f9-9bd5-07bf57df4edc"
   },
   "outputs": [
    {
     "name": "stdout",
     "output_type": "stream",
     "text": [
      "\"테스트\"\n",
      "'테스트'\n"
     ]
    }
   ],
   "source": [
    "# 문자열에 따옴표 추가\n",
    "print('\"테스트\"')\n",
    "print(\"'테스트'\")\n"
   ]
  },
  {
   "cell_type": "code",
   "execution_count": null,
   "metadata": {
    "colab": {
     "base_uri": "https://localhost:8080/"
    },
    "executionInfo": {
     "elapsed": 3,
     "status": "ok",
     "timestamp": 1676868047897,
     "user": {
      "displayName": "전창민",
      "userId": "04793944019518067714"
     },
     "user_tz": -540
    },
    "id": "Z03VaYSaH54k",
    "outputId": "55003834-cd24-449c-d803-44c68ff6eb1d"
   },
   "outputs": [
    {
     "name": "stdout",
     "output_type": "stream",
     "text": [
      "12345678\n"
     ]
    }
   ],
   "source": [
    "# 숫자 출력\n",
    "print(12345678)"
   ]
  },
  {
   "cell_type": "code",
   "execution_count": null,
   "metadata": {
    "colab": {
     "base_uri": "https://localhost:8080/"
    },
    "executionInfo": {
     "elapsed": 348,
     "status": "ok",
     "timestamp": 1676868074965,
     "user": {
      "displayName": "전창민",
      "userId": "04793944019518067714"
     },
     "user_tz": -540
    },
    "id": "Vantbn_qH89D",
    "outputId": "68da6fab-bd2d-4df3-981d-0abd65fb11a0"
   },
   "outputs": [
    {
     "name": "stdout",
     "output_type": "stream",
     "text": [
      "12345678\n"
     ]
    }
   ],
   "source": [
    "# 문자열의 출력\n",
    "print(\"12345678\")"
   ]
  },
  {
   "cell_type": "markdown",
   "metadata": {
    "id": "dqMzclUTILEI"
   },
   "source": [
    "## 2. 변수와 대입\n",
    "변수 = 데이터를 담는 그릇 <br>\n",
    "구별을 위해 변수에 이름을 부여\n",
    "\n",
    "\n"
   ]
  },
  {
   "cell_type": "markdown",
   "metadata": {
    "id": "D7c-FPsjIgpH"
   },
   "source": [
    "### 2-1. 변수의 이름\n",
    "\n",
    "#### case1. 알파벳 대소문자와 한글도 가능하다. <br>\n",
    "(한글도 가능하지만 인코딩변환이 불편함)\n"
   ]
  },
  {
   "cell_type": "code",
   "execution_count": null,
   "metadata": {
    "id": "u8RGpuLfJD8k"
   },
   "outputs": [],
   "source": [
    "a = 1"
   ]
  },
  {
   "cell_type": "code",
   "execution_count": null,
   "metadata": {
    "id": "MJZ0x5xUJHVu"
   },
   "outputs": [],
   "source": [
    "A = 1"
   ]
  },
  {
   "cell_type": "code",
   "execution_count": null,
   "metadata": {
    "id": "5UmkSJGbJLYs"
   },
   "outputs": [],
   "source": [
    "변수 = 1\n"
   ]
  },
  {
   "cell_type": "code",
   "execution_count": null,
   "metadata": {
    "colab": {
     "base_uri": "https://localhost:8080/"
    },
    "executionInfo": {
     "elapsed": 4,
     "status": "ok",
     "timestamp": 1676868393235,
     "user": {
      "displayName": "전창민",
      "userId": "04793944019518067714"
     },
     "user_tz": -540
    },
    "id": "P7MQ2VmTJQ3x",
    "outputId": "1bcdf6d2-4cf1-434d-ee1a-9a28bba17964"
   },
   "outputs": [
    {
     "data": {
      "text/plain": [
       "1"
      ]
     },
     "execution_count": 10,
     "metadata": {},
     "output_type": "execute_result"
    }
   ],
   "source": [
    "변수"
   ]
  },
  {
   "cell_type": "markdown",
   "metadata": {
    "id": "7hOXUe6XJmU6"
   },
   "source": [
    "#### case2. 알파벳 + 숫자(가능)"
   ]
  },
  {
   "cell_type": "code",
   "execution_count": null,
   "metadata": {
    "id": "8wG_Yz-KJRVf"
   },
   "outputs": [],
   "source": [
    "a1 = 1"
   ]
  },
  {
   "cell_type": "markdown",
   "metadata": {
    "id": "epKGmE3DKHJh"
   },
   "source": [
    "#### case3. 알파벳 + 언더바(_)(가능)"
   ]
  },
  {
   "cell_type": "code",
   "execution_count": null,
   "metadata": {
    "id": "iFg-y5vyKFm5"
   },
   "outputs": [],
   "source": [
    "a_1 = 1"
   ]
  },
  {
   "cell_type": "markdown",
   "metadata": {
    "id": "AmxpfkJHKoKU"
   },
   "source": [
    "#### case4. 언더바(_) + 알파벳(가능)"
   ]
  },
  {
   "cell_type": "code",
   "execution_count": null,
   "metadata": {
    "id": "t2AVGunZKuGW"
   },
   "outputs": [],
   "source": [
    "_a = 1"
   ]
  },
  {
   "cell_type": "code",
   "execution_count": null,
   "metadata": {
    "colab": {
     "base_uri": "https://localhost:8080/",
     "height": 137
    },
    "executionInfo": {
     "elapsed": 364,
     "status": "error",
     "timestamp": 1676868803869,
     "user": {
      "displayName": "전창민",
      "userId": "04793944019518067714"
     },
     "user_tz": -540
    },
    "id": "gN4Teap3KvjL",
    "outputId": "2f83a78f-b965-4f0c-ae6c-df105a5dac83"
   },
   "outputs": [
    {
     "ename": "SyntaxError",
     "evalue": "ignored",
     "output_type": "error",
     "traceback": [
      "\u001b[0;36m  File \u001b[0;32m\"<ipython-input-13-5eb4ccf14b0b>\"\u001b[0;36m, line \u001b[0;32m2\u001b[0m\n\u001b[0;31m    a& = 1\u001b[0m\n\u001b[0m       ^\u001b[0m\n\u001b[0;31mSyntaxError\u001b[0m\u001b[0;31m:\u001b[0m invalid syntax\n"
     ]
    }
   ],
   "source": [
    "# 특수문자 오류가 나는경우(문법오류)\n",
    "a& = 1"
   ]
  },
  {
   "cell_type": "code",
   "execution_count": null,
   "metadata": {
    "colab": {
     "base_uri": "https://localhost:8080/"
    },
    "executionInfo": {
     "elapsed": 4,
     "status": "ok",
     "timestamp": 1676868852989,
     "user": {
      "displayName": "전창민",
      "userId": "04793944019518067714"
     },
     "user_tz": -540
    },
    "id": "YtWJ3JDpK1dL",
    "outputId": "6374ac74-631f-474a-8031-801b46d5fea2"
   },
   "outputs": [
    {
     "name": "stdout",
     "output_type": "stream",
     "text": [
      "1\n"
     ]
    }
   ],
   "source": [
    "# 특수문자'+'역시 변수이름이 불가능함\n",
    "a = 0\n",
    "# a+=1\n",
    "a = a+1\n",
    "print(a)\n"
   ]
  },
  {
   "cell_type": "markdown",
   "metadata": {
    "id": "QvJlgXcFLDpU"
   },
   "source": [
    "#### case5. 숫자+알파벳(불가능)"
   ]
  },
  {
   "cell_type": "code",
   "execution_count": null,
   "metadata": {
    "colab": {
     "base_uri": "https://localhost:8080/",
     "height": 137
    },
    "executionInfo": {
     "elapsed": 5,
     "status": "error",
     "timestamp": 1676868894675,
     "user": {
      "displayName": "전창민",
      "userId": "04793944019518067714"
     },
     "user_tz": -540
    },
    "id": "tT0wapdWLBe_",
    "outputId": "3413e3b5-7b9a-4997-ab6e-4cf18ea91e73"
   },
   "outputs": [
    {
     "ename": "SyntaxError",
     "evalue": "ignored",
     "output_type": "error",
     "traceback": [
      "\u001b[0;36m  File \u001b[0;32m\"<ipython-input-15-cc67e5ecf289>\"\u001b[0;36m, line \u001b[0;32m1\u001b[0m\n\u001b[0;31m    1a = 1\u001b[0m\n\u001b[0m     ^\u001b[0m\n\u001b[0;31mSyntaxError\u001b[0m\u001b[0;31m:\u001b[0m invalid syntax\n"
     ]
    }
   ],
   "source": [
    "1a = 1"
   ]
  },
  {
   "cell_type": "markdown",
   "metadata": {
    "id": "2LtXufOeLMB2"
   },
   "source": [
    "#### case6. 특수문자(불가능)"
   ]
  },
  {
   "cell_type": "code",
   "execution_count": null,
   "metadata": {
    "colab": {
     "base_uri": "https://localhost:8080/",
     "height": 137
    },
    "executionInfo": {
     "elapsed": 7,
     "status": "error",
     "timestamp": 1676868924213,
     "user": {
      "displayName": "전창민",
      "userId": "04793944019518067714"
     },
     "user_tz": -540
    },
    "id": "K0Gi-tQmLLkz",
    "outputId": "b017556e-5860-4873-b800-02b602dcaab7"
   },
   "outputs": [
    {
     "ename": "SyntaxError",
     "evalue": "ignored",
     "output_type": "error",
     "traceback": [
      "\u001b[0;36m  File \u001b[0;32m\"<ipython-input-16-fe14fb9bb220>\"\u001b[0;36m, line \u001b[0;32m1\u001b[0m\n\u001b[0;31m    * = 6\u001b[0m\n\u001b[0m      ^\u001b[0m\n\u001b[0;31mSyntaxError\u001b[0m\u001b[0;31m:\u001b[0m invalid syntax\n"
     ]
    }
   ],
   "source": [
    "* = 6"
   ]
  },
  {
   "cell_type": "markdown",
   "metadata": {
    "id": "Fer-NQw3LUQ4"
   },
   "source": [
    "#### case7. 언더바를 제외한 특수문자(불가능)"
   ]
  },
  {
   "cell_type": "code",
   "execution_count": null,
   "metadata": {
    "colab": {
     "base_uri": "https://localhost:8080/",
     "height": 137
    },
    "executionInfo": {
     "elapsed": 5,
     "status": "error",
     "timestamp": 1676868962171,
     "user": {
      "displayName": "전창민",
      "userId": "04793944019518067714"
     },
     "user_tz": -540
    },
    "id": "7qK6kCSZLTDQ",
    "outputId": "b5590430-2da4-4f26-a9f0-ff1e9eedb98e"
   },
   "outputs": [
    {
     "ename": "SyntaxError",
     "evalue": "ignored",
     "output_type": "error",
     "traceback": [
      "\u001b[0;36m  File \u001b[0;32m\"<ipython-input-17-7b68e0211941>\"\u001b[0;36m, line \u001b[0;32m1\u001b[0m\n\u001b[0;31m    a$ = 6\u001b[0m\n\u001b[0m     ^\u001b[0m\n\u001b[0;31mSyntaxError\u001b[0m\u001b[0;31m:\u001b[0m invalid syntax\n"
     ]
    }
   ],
   "source": [
    "a$ = 6"
   ]
  },
  {
   "cell_type": "markdown",
   "metadata": {
    "id": "voGwmUNpLeU9"
   },
   "source": [
    "#### case8. 변수의 이름 사이의 공백(불가능)"
   ]
  },
  {
   "cell_type": "code",
   "execution_count": null,
   "metadata": {
    "colab": {
     "base_uri": "https://localhost:8080/",
     "height": 137
    },
    "executionInfo": {
     "elapsed": 597,
     "status": "error",
     "timestamp": 1676869021962,
     "user": {
      "displayName": "전창민",
      "userId": "04793944019518067714"
     },
     "user_tz": -540
    },
    "id": "SKtcdcI7LcPA",
    "outputId": "bb065d8d-f33d-429a-ee22-decd3b955c27"
   },
   "outputs": [
    {
     "ename": "SyntaxError",
     "evalue": "ignored",
     "output_type": "error",
     "traceback": [
      "\u001b[0;36m  File \u001b[0;32m\"<ipython-input-19-5bea55c47499>\"\u001b[0;36m, line \u001b[0;32m1\u001b[0m\n\u001b[0;31m    a b = 6\u001b[0m\n\u001b[0m      ^\u001b[0m\n\u001b[0;31mSyntaxError\u001b[0m\u001b[0;31m:\u001b[0m invalid syntax\n"
     ]
    }
   ],
   "source": [
    "a b = 6\n",
    "# 언더바를 사용해서 대체\n",
    "# a_b = 6\n"
   ]
  },
  {
   "cell_type": "markdown",
   "metadata": {
    "id": "cUyGyLnULvaB"
   },
   "source": [
    "주로 변수는 소문자 알파벳으로 생성, 필요시 언더바 또는 숫자를 활용하는것이 일반적이다"
   ]
  },
  {
   "cell_type": "code",
   "execution_count": null,
   "metadata": {
    "id": "5fTgpnWTL5Qp"
   },
   "outputs": [],
   "source": [
    "test = 10"
   ]
  },
  {
   "cell_type": "code",
   "execution_count": null,
   "metadata": {
    "id": "bUzwQOyTL77O"
   },
   "outputs": [],
   "source": [
    "test01  = 20"
   ]
  },
  {
   "cell_type": "code",
   "execution_count": null,
   "metadata": {
    "id": "xJduD40yL9bX"
   },
   "outputs": [],
   "source": [
    "test_01 = 30"
   ]
  },
  {
   "cell_type": "markdown",
   "metadata": {
    "id": "f4GUerpsMMse"
   },
   "source": [
    "**낙타등 표기법(CamelCase)**으로 변수명을 표현하는 것도 좋다"
   ]
  },
  {
   "cell_type": "code",
   "execution_count": null,
   "metadata": {
    "id": "bSb2l25QL-2O"
   },
   "outputs": [],
   "source": [
    "myData = 30"
   ]
  },
  {
   "cell_type": "markdown",
   "metadata": {
    "id": "Qp-8AHTpXkHd"
   },
   "source": [
    "### 2-2. 변수의 출력"
   ]
  },
  {
   "cell_type": "markdown",
   "metadata": {
    "id": "7BtLnnuoXpBu"
   },
   "source": [
    "1. print() 구문 사이에 값을 직접 넣으면, 바로 값이 출력\n",
    "2. print() 구문 사이에 변수 이름을 넣으면, 그 값이 출력"
   ]
  },
  {
   "cell_type": "code",
   "execution_count": null,
   "metadata": {
    "colab": {
     "base_uri": "https://localhost:8080/"
    },
    "executionInfo": {
     "elapsed": 4,
     "status": "ok",
     "timestamp": 1676872252880,
     "user": {
      "displayName": "전창민",
      "userId": "04793944019518067714"
     },
     "user_tz": -540
    },
    "id": "m4Zq-GvIXjjZ",
    "outputId": "1a07a070-e9e2-467f-9969-3fd77a51971a"
   },
   "outputs": [
    {
     "name": "stdout",
     "output_type": "stream",
     "text": [
      "test\n"
     ]
    }
   ],
   "source": [
    "# 값을 바로 집어 넣은 경우\n",
    "print('test')"
   ]
  },
  {
   "cell_type": "code",
   "execution_count": null,
   "metadata": {
    "colab": {
     "base_uri": "https://localhost:8080/"
    },
    "executionInfo": {
     "elapsed": 3,
     "status": "ok",
     "timestamp": 1676872265452,
     "user": {
      "displayName": "전창민",
      "userId": "04793944019518067714"
     },
     "user_tz": -540
    },
    "id": "rhIp-_NdX_nL",
    "outputId": "21b36d20-6832-4a39-c4c0-80ad7ef80ff2"
   },
   "outputs": [
    {
     "name": "stdout",
     "output_type": "stream",
     "text": [
      "123\n"
     ]
    }
   ],
   "source": [
    "a = 123\n",
    "print(a)"
   ]
  },
  {
   "cell_type": "code",
   "execution_count": null,
   "metadata": {
    "colab": {
     "base_uri": "https://localhost:8080/"
    },
    "executionInfo": {
     "elapsed": 5,
     "status": "ok",
     "timestamp": 1676872294517,
     "user": {
      "displayName": "전창민",
      "userId": "04793944019518067714"
     },
     "user_tz": -540
    },
    "id": "no0F9J4aYCqX",
    "outputId": "95d9708e-6c38-49fe-9085-41b116293e74"
   },
   "outputs": [
    {
     "name": "stdout",
     "output_type": "stream",
     "text": [
      "안녕하세요, 반갑습니다\n"
     ]
    }
   ],
   "source": [
    "# 변수 이름을 넣은 경우\n",
    "a = \"안녕하세요, 반갑습니다\"\n",
    "print(a)"
   ]
  },
  {
   "cell_type": "code",
   "execution_count": null,
   "metadata": {
    "id": "DGY_6rjmYJ4b"
   },
   "outputs": [],
   "source": []
  },
  {
   "cell_type": "markdown",
   "metadata": {
    "id": "wBT3A2yuYLhC"
   },
   "source": [
    "# 파이썬의 자료형"
   ]
  },
  {
   "cell_type": "markdown",
   "metadata": {
    "id": "LmXNqXFBYP-g"
   },
   "source": [
    "파이썬은 자료형으로 숫자, 문자, 리스트, 튜플, 딕셔너리, 집합, 불(bool)의 형태를 가지고 있다."
   ]
  },
  {
   "cell_type": "markdown",
   "metadata": {
    "id": "mfUPoJ8GYZKP"
   },
   "source": [
    "1. 숫자\n",
    "2. 문자\n",
    "3. 리스트(List)\n",
    "4. 튜플(Tuple)\n",
    "5. 딕셔너리(Dictionary)\n",
    "6. 집합(Set)\n",
    "7. 불(Bool)"
   ]
  },
  {
   "cell_type": "markdown",
   "metadata": {
    "id": "6wb9To_OY3s6"
   },
   "source": [
    "## 3.  데이터 타입"
   ]
  },
  {
   "cell_type": "markdown",
   "metadata": {
    "id": "-a9SPeVpY6gI"
   },
   "source": [
    "데이터 type\n",
    "1. int(정수)\n",
    "2. float(실수)\n",
    "3. str(문자열)\n",
    "4. bool(참/거짓)"
   ]
  },
  {
   "cell_type": "markdown",
   "metadata": {
    "id": "XGyJ2paIZOuO"
   },
   "source": [
    "### 3-1. int(정수)"
   ]
  },
  {
   "cell_type": "code",
   "execution_count": null,
   "metadata": {
    "id": "l6ECRZu-ZSiU"
   },
   "outputs": [],
   "source": [
    "a = 1"
   ]
  },
  {
   "cell_type": "code",
   "execution_count": null,
   "metadata": {
    "colab": {
     "base_uri": "https://localhost:8080/"
    },
    "executionInfo": {
     "elapsed": 5,
     "status": "ok",
     "timestamp": 1676872602106,
     "user": {
      "displayName": "전창민",
      "userId": "04793944019518067714"
     },
     "user_tz": -540
    },
    "id": "4w1n5r5uZT4m",
    "outputId": "702d1d27-664f-4edd-a4cd-724cd32aa3dc"
   },
   "outputs": [
    {
     "data": {
      "text/plain": [
       "int"
      ]
     },
     "execution_count": 28,
     "metadata": {},
     "output_type": "execute_result"
    }
   ],
   "source": [
    "type(a)"
   ]
  },
  {
   "cell_type": "markdown",
   "metadata": {
    "id": "60kqbo7_ZWyw"
   },
   "source": [
    "### 3-2. float(실수)"
   ]
  },
  {
   "cell_type": "code",
   "execution_count": null,
   "metadata": {
    "id": "Tm3D5aGcZU6M"
   },
   "outputs": [],
   "source": [
    "a = 3.14"
   ]
  },
  {
   "cell_type": "code",
   "execution_count": null,
   "metadata": {
    "colab": {
     "base_uri": "https://localhost:8080/"
    },
    "executionInfo": {
     "elapsed": 3,
     "status": "ok",
     "timestamp": 1676872651960,
     "user": {
      "displayName": "전창민",
      "userId": "04793944019518067714"
     },
     "user_tz": -540
    },
    "id": "Yzm8-Kc9ZgGI",
    "outputId": "fbc3dab1-6d0b-4f66-bcf0-05b788123b5c"
   },
   "outputs": [
    {
     "data": {
      "text/plain": [
       "float"
      ]
     },
     "execution_count": 30,
     "metadata": {},
     "output_type": "execute_result"
    }
   ],
   "source": [
    "type(a)"
   ]
  },
  {
   "cell_type": "code",
   "execution_count": null,
   "metadata": {
    "colab": {
     "base_uri": "https://localhost:8080/"
    },
    "executionInfo": {
     "elapsed": 3,
     "status": "ok",
     "timestamp": 1676872655739,
     "user": {
      "displayName": "전창민",
      "userId": "04793944019518067714"
     },
     "user_tz": -540
    },
    "id": "kHPKMcHHZhFG",
    "outputId": "d2788d70-8f3b-448c-caf0-115a5e90efab"
   },
   "outputs": [
    {
     "name": "stdout",
     "output_type": "stream",
     "text": [
      "3.14\n"
     ]
    }
   ],
   "source": [
    "print(a)"
   ]
  },
  {
   "cell_type": "markdown",
   "metadata": {
    "id": "Cy-_UGwyZjUQ"
   },
   "source": [
    "### 3-3. str(문자열)"
   ]
  },
  {
   "cell_type": "code",
   "execution_count": null,
   "metadata": {
    "id": "ne3bL3RLZh75"
   },
   "outputs": [],
   "source": [
    "word = '안녕하세요'"
   ]
  },
  {
   "cell_type": "code",
   "execution_count": null,
   "metadata": {
    "id": "hSZuV9lIS1Q5"
   },
   "outputs": [],
   "source": [
    "word = \"안녕하세요\""
   ]
  },
  {
   "cell_type": "code",
   "execution_count": null,
   "metadata": {
    "colab": {
     "base_uri": "https://localhost:8080/"
    },
    "executionInfo": {
     "elapsed": 3,
     "status": "ok",
     "timestamp": 1676872703405,
     "user": {
      "displayName": "전창민",
      "userId": "04793944019518067714"
     },
     "user_tz": -540
    },
    "id": "av2GsjIcZppi",
    "outputId": "55f007ac-41da-43e2-c63f-089157b622eb"
   },
   "outputs": [
    {
     "data": {
      "text/plain": [
       "str"
      ]
     },
     "execution_count": 33,
     "metadata": {},
     "output_type": "execute_result"
    }
   ],
   "source": [
    "type(word)"
   ]
  },
  {
   "cell_type": "markdown",
   "metadata": {
    "id": "0QKAsGxWZw1Q"
   },
   "source": [
    "### 3-4. bool(참/거짓)"
   ]
  },
  {
   "cell_type": "code",
   "execution_count": null,
   "metadata": {
    "id": "AfyongMJZtb5"
   },
   "outputs": [],
   "source": [
    "a = False"
   ]
  },
  {
   "cell_type": "code",
   "execution_count": null,
   "metadata": {
    "colab": {
     "base_uri": "https://localhost:8080/"
    },
    "executionInfo": {
     "elapsed": 4,
     "status": "ok",
     "timestamp": 1676872751408,
     "user": {
      "displayName": "전창민",
      "userId": "04793944019518067714"
     },
     "user_tz": -540
    },
    "id": "K5bpCj2vZ4T5",
    "outputId": "e21e8ef4-e1db-4458-df9a-0c7ef28a8fff"
   },
   "outputs": [
    {
     "name": "stdout",
     "output_type": "stream",
     "text": [
      "False\n"
     ]
    }
   ],
   "source": [
    "print(a)"
   ]
  },
  {
   "cell_type": "code",
   "execution_count": null,
   "metadata": {
    "colab": {
     "base_uri": "https://localhost:8080/"
    },
    "executionInfo": {
     "elapsed": 6,
     "status": "ok",
     "timestamp": 1676872773510,
     "user": {
      "displayName": "전창민",
      "userId": "04793944019518067714"
     },
     "user_tz": -540
    },
    "id": "IkkdwJETZ5MZ",
    "outputId": "855c50f8-b3c6-48da-d004-f4c7be8786d6"
   },
   "outputs": [
    {
     "data": {
      "text/plain": [
       "True"
      ]
     },
     "execution_count": 36,
     "metadata": {},
     "output_type": "execute_result"
    }
   ],
   "source": [
    "# 비교문\n",
    "# 보편적으로 False = 0, True = 1\n",
    "0 == False"
   ]
  },
  {
   "cell_type": "markdown",
   "metadata": {
    "id": "iXvXe3fwaALN"
   },
   "source": [
    "### 3-5. None 타입"
   ]
  },
  {
   "cell_type": "markdown",
   "metadata": {
    "id": "8N-EGX2RaEhC"
   },
   "source": [
    "Null값을 뜻한다.\n",
    "\n",
    "사전상 의미는 <br>\n",
    "**Null:Nullify(무효화하다)**라는 뜻을 가지고 있음 <br>\n",
    "python에서는 **None**\n",
    "\n",
    "\n",
    "\n"
   ]
  },
  {
   "cell_type": "code",
   "execution_count": null,
   "metadata": {
    "id": "TNGg0LpAZ-tM"
   },
   "outputs": [],
   "source": [
    "a = None"
   ]
  },
  {
   "cell_type": "code",
   "execution_count": null,
   "metadata": {
    "colab": {
     "base_uri": "https://localhost:8080/"
    },
    "executionInfo": {
     "elapsed": 7,
     "status": "ok",
     "timestamp": 1676872978536,
     "user": {
      "displayName": "전창민",
      "userId": "04793944019518067714"
     },
     "user_tz": -540
    },
    "id": "nfyyOo6Oavky",
    "outputId": "e451e940-bfc0-428e-a1b7-0d72de3b967b"
   },
   "outputs": [
    {
     "data": {
      "text/plain": [
       "NoneType"
      ]
     },
     "execution_count": 38,
     "metadata": {},
     "output_type": "execute_result"
    }
   ],
   "source": [
    "type(a)"
   ]
  },
  {
   "cell_type": "markdown",
   "metadata": {
    "id": "HGso6E_-a1BH"
   },
   "source": [
    "## 4. 데이터 타입(집합)"
   ]
  },
  {
   "cell_type": "markdown",
   "metadata": {
    "id": "ZVUPToFvmQWy"
   },
   "source": [
    "**집합 형태의 데이터 타입**\n",
    "\n",
    "1. list(순서O, 집합, 중복O, 변경가능)\n",
    "2. tuple(순서O, 읽기전용 집합, 변경불가)\n",
    "3. set(순서 X, 중복 X 집합)\n",
    "4. dict(key, value로 이루어진 사전형 집합)\n",
    "\n",
    "\n"
   ]
  },
  {
   "cell_type": "markdown",
   "metadata": {
    "id": "QnEQyx2Im0X2"
   },
   "source": [
    "### 4-1. list(순서가 있는 집합)"
   ]
  },
  {
   "cell_type": "markdown",
   "metadata": {
    "id": "UOCLYnnMm_Eo"
   },
   "source": [
    "[ ]형태로 표현한다."
   ]
  },
  {
   "cell_type": "code",
   "execution_count": null,
   "metadata": {
    "id": "17DRd1MnnBzH"
   },
   "outputs": [],
   "source": [
    "# 비어있는 리스트 생성\n",
    "# 최신 프로그래밍 언어의 특성 -> 변수의 데이터 타입을 지정X\n",
    "# 처음 변수에 담는 데이터 타입을 보고 결정(동적타입 할당)\n",
    "mylist = []"
   ]
  },
  {
   "cell_type": "code",
   "execution_count": null,
   "metadata": {
    "colab": {
     "base_uri": "https://localhost:8080/"
    },
    "executionInfo": {
     "elapsed": 4,
     "status": "ok",
     "timestamp": 1676876254073,
     "user": {
      "displayName": "전창민",
      "userId": "04793944019518067714"
     },
     "user_tz": -540
    },
    "id": "SAvQVaO3nO4w",
    "outputId": "d123e6f5-84d6-4a37-ed86-13b09bff4ba9"
   },
   "outputs": [
    {
     "data": {
      "text/plain": [
       "[]"
      ]
     },
     "execution_count": 40,
     "metadata": {},
     "output_type": "execute_result"
    }
   ],
   "source": [
    "mylist"
   ]
  },
  {
   "cell_type": "code",
   "execution_count": null,
   "metadata": {
    "colab": {
     "base_uri": "https://localhost:8080/"
    },
    "executionInfo": {
     "elapsed": 3,
     "status": "ok",
     "timestamp": 1676876297734,
     "user": {
      "displayName": "전창민",
      "userId": "04793944019518067714"
     },
     "user_tz": -540
    },
    "id": "hRMhte7rnQR2",
    "outputId": "0970f0cc-0924-4278-b1be-e5be06770900"
   },
   "outputs": [
    {
     "data": {
      "text/plain": [
       "list"
      ]
     },
     "execution_count": 41,
     "metadata": {},
     "output_type": "execute_result"
    }
   ],
   "source": [
    "type(mylist)"
   ]
  },
  {
   "cell_type": "code",
   "execution_count": null,
   "metadata": {
    "id": "TPvm4sGTnbLp"
   },
   "outputs": [],
   "source": [
    "# 1, 2, 3, 4, 5가 들어는 리스트 생성\n",
    "mylist = [1, 2, 3, 4, 5]"
   ]
  },
  {
   "cell_type": "code",
   "execution_count": null,
   "metadata": {
    "colab": {
     "base_uri": "https://localhost:8080/"
    },
    "executionInfo": {
     "elapsed": 5,
     "status": "ok",
     "timestamp": 1676876334266,
     "user": {
      "displayName": "전창민",
      "userId": "04793944019518067714"
     },
     "user_tz": -540
    },
    "id": "3opbdoohnhwQ",
    "outputId": "ecb1d3ab-aa0d-4eef-9c18-898456c9bee6"
   },
   "outputs": [
    {
     "data": {
      "text/plain": [
       "[1, 2, 3, 4, 5]"
      ]
     },
     "execution_count": 44,
     "metadata": {},
     "output_type": "execute_result"
    }
   ],
   "source": [
    "mylist"
   ]
  },
  {
   "cell_type": "markdown",
   "metadata": {
    "id": "o9NHf0FYnm6y"
   },
   "source": [
    "#### 리스트에 추가하기"
   ]
  },
  {
   "cell_type": "code",
   "execution_count": null,
   "metadata": {
    "colab": {
     "base_uri": "https://localhost:8080/"
    },
    "executionInfo": {
     "elapsed": 509,
     "status": "ok",
     "timestamp": 1676884038420,
     "user": {
      "displayName": "전창민",
      "userId": "04793944019518067714"
     },
     "user_tz": -540
    },
    "id": "UngQSzpHnihj",
    "outputId": "82d1b960-7a04-42e5-c897-9450cc3af165"
   },
   "outputs": [
    {
     "data": {
      "text/plain": [
       "[]"
      ]
     },
     "execution_count": 176,
     "metadata": {},
     "output_type": "execute_result"
    }
   ],
   "source": [
    "mylist = []\n",
    "mylist"
   ]
  },
  {
   "cell_type": "code",
   "execution_count": null,
   "metadata": {
    "id": "FG2tBVlxnueZ"
   },
   "outputs": [],
   "source": [
    "# 리스트에 데이터 추가(삽입)\n",
    "mylist.append(1)"
   ]
  },
  {
   "cell_type": "code",
   "execution_count": null,
   "metadata": {
    "colab": {
     "base_uri": "https://localhost:8080/"
    },
    "executionInfo": {
     "elapsed": 2,
     "status": "ok",
     "timestamp": 1676884039027,
     "user": {
      "displayName": "전창민",
      "userId": "04793944019518067714"
     },
     "user_tz": -540
    },
    "id": "3iEje4QqnzMm",
    "outputId": "81517df8-e020-4261-ff1e-cb908553111a"
   },
   "outputs": [
    {
     "data": {
      "text/plain": [
       "[1]"
      ]
     },
     "execution_count": 178,
     "metadata": {},
     "output_type": "execute_result"
    }
   ],
   "source": [
    "mylist"
   ]
  },
  {
   "cell_type": "code",
   "execution_count": null,
   "metadata": {
    "colab": {
     "base_uri": "https://localhost:8080/"
    },
    "executionInfo": {
     "elapsed": 2,
     "status": "ok",
     "timestamp": 1676884040097,
     "user": {
      "displayName": "전창민",
      "userId": "04793944019518067714"
     },
     "user_tz": -540
    },
    "id": "Q5S05C04n0PI",
    "outputId": "c2a4414b-e87c-4ea9-eee2-7ef247b91e6e"
   },
   "outputs": [
    {
     "data": {
      "text/plain": [
       "[1, 2, 3]"
      ]
     },
     "execution_count": 179,
     "metadata": {},
     "output_type": "execute_result"
    }
   ],
   "source": [
    "mylist.append(2)\n",
    "mylist.append(3)\n",
    "mylist"
   ]
  },
  {
   "cell_type": "code",
   "execution_count": null,
   "metadata": {
    "id": "ER0ChQEJEoeX"
   },
   "outputs": [],
   "source": [
    "# 리스트에 리스트를 삽입할 수 있다\n",
    "# mylist.append([3, 4])\n",
    "# mylist\n"
   ]
  },
  {
   "cell_type": "code",
   "execution_count": null,
   "metadata": {
    "colab": {
     "base_uri": "https://localhost:8080/"
    },
    "executionInfo": {
     "elapsed": 2,
     "status": "ok",
     "timestamp": 1676884040466,
     "user": {
      "displayName": "전창민",
      "userId": "04793944019518067714"
     },
     "user_tz": -540
    },
    "id": "H-1swjjTn6bi",
    "outputId": "5c7959b9-2e97-4f9e-89bc-018c85137ec4"
   },
   "outputs": [
    {
     "data": {
      "text/plain": [
       "[4, 1, 2, 3]"
      ]
     },
     "execution_count": 181,
     "metadata": {},
     "output_type": "execute_result"
    }
   ],
   "source": [
    "# insert로 리스트 추가하기\n",
    "# insert는 내가 원하는 위치에 index를 지정해서 추가할 수 있다.\n",
    "mylist.insert(0, 4)\n",
    "mylist"
   ]
  },
  {
   "cell_type": "markdown",
   "metadata": {
    "id": "uxaHvphEKQ93"
   },
   "source": [
    "#### pop()함수\n",
    "pop()은 리스트의 맨 마지막 요소를 리턴하고 그 요소는 삭제한다."
   ]
  },
  {
   "cell_type": "code",
   "execution_count": null,
   "metadata": {
    "colab": {
     "base_uri": "https://localhost:8080/"
    },
    "executionInfo": {
     "elapsed": 8,
     "status": "ok",
     "timestamp": 1676879467123,
     "user": {
      "displayName": "전창민",
      "userId": "04793944019518067714"
     },
     "user_tz": -540
    },
    "id": "YogcKfPHoN81",
    "outputId": "1588b20e-0391-4836-94c7-a2e00d63c094"
   },
   "outputs": [
    {
     "data": {
      "text/plain": [
       "3"
      ]
     },
     "execution_count": 68,
     "metadata": {},
     "output_type": "execute_result"
    }
   ],
   "source": [
    "# 리스트에서 저장된 값을 참조하는데, 참조된 값은 더이상 사용하지 않는 경우\n",
    "temp = mylist.pop()\n",
    "temp"
   ]
  },
  {
   "cell_type": "code",
   "execution_count": null,
   "metadata": {
    "colab": {
     "base_uri": "https://localhost:8080/"
    },
    "executionInfo": {
     "elapsed": 5,
     "status": "ok",
     "timestamp": 1676879467123,
     "user": {
      "displayName": "전창민",
      "userId": "04793944019518067714"
     },
     "user_tz": -540
    },
    "id": "8kSW-DhRoYJO",
    "outputId": "37a20dd6-257d-4a8d-b86a-c61a84d3ef65"
   },
   "outputs": [
    {
     "data": {
      "text/plain": [
       "[4, 1]"
      ]
     },
     "execution_count": 69,
     "metadata": {},
     "output_type": "execute_result"
    }
   ],
   "source": [
    "# 리스트에서 2를 제외하고자 할 경우\n",
    "mylist.pop(2)\n",
    "mylist"
   ]
  },
  {
   "cell_type": "markdown",
   "metadata": {
    "id": "Npg6grl-BJit"
   },
   "source": [
    "#### 리스트 반복하기(*)"
   ]
  },
  {
   "cell_type": "code",
   "execution_count": null,
   "metadata": {
    "colab": {
     "base_uri": "https://localhost:8080/"
    },
    "executionInfo": {
     "elapsed": 366,
     "status": "ok",
     "timestamp": 1676883403522,
     "user": {
      "displayName": "전창민",
      "userId": "04793944019518067714"
     },
     "user_tz": -540
    },
    "id": "BXM7-oiwBOBY",
    "outputId": "f66f42b9-d657-41e2-ed57-f8fa40682e62"
   },
   "outputs": [
    {
     "data": {
      "text/plain": [
       "['a', 'b', 'c', 'a', 'b', 'c', 'a', 'b', 'c']"
      ]
     },
     "execution_count": 167,
     "metadata": {},
     "output_type": "execute_result"
    }
   ],
   "source": [
    "a = [1, 2, 3]\n",
    "a * 3\n",
    "# [1, 2, 3]리스트가 세 번 반복되어 새로운 리스트를 만들어낸다.\n",
    "# 문자열에서 \"abc\"*3 = \"abcabcabc\"가 되는 것과 같은 이치이다.\n",
    "b = [\"a\", \"b\", \"c\"]\n",
    "b * 3"
   ]
  },
  {
   "cell_type": "markdown",
   "metadata": {
    "id": "du0MFCSDojeb"
   },
   "source": [
    "#### 리스트에서 제거하기"
   ]
  },
  {
   "cell_type": "code",
   "execution_count": null,
   "metadata": {
    "colab": {
     "base_uri": "https://localhost:8080/"
    },
    "executionInfo": {
     "elapsed": 1,
     "status": "ok",
     "timestamp": 1676879467991,
     "user": {
      "displayName": "전창민",
      "userId": "04793944019518067714"
     },
     "user_tz": -540
    },
    "id": "ecTa5G4CogTw",
    "outputId": "7455101c-1958-4f29-ea24-4fac3fed346f"
   },
   "outputs": [
    {
     "data": {
      "text/plain": [
       "[4, 1]"
      ]
     },
     "execution_count": 70,
     "metadata": {},
     "output_type": "execute_result"
    }
   ],
   "source": [
    "mylist"
   ]
  },
  {
   "cell_type": "code",
   "execution_count": null,
   "metadata": {
    "id": "oCAv5SGqopv4"
   },
   "outputs": [],
   "source": [
    "# remove함수는 mylist에서 첫번째 리스트를 삭제\n",
    "mylist.remove(1)"
   ]
  },
  {
   "cell_type": "code",
   "execution_count": null,
   "metadata": {
    "colab": {
     "base_uri": "https://localhost:8080/"
    },
    "executionInfo": {
     "elapsed": 2,
     "status": "ok",
     "timestamp": 1676879471694,
     "user": {
      "displayName": "전창민",
      "userId": "04793944019518067714"
     },
     "user_tz": -540
    },
    "id": "muwYXq-1otOT",
    "outputId": "6fab1026-a810-4722-ecb4-2b2a4b877bd1"
   },
   "outputs": [
    {
     "data": {
      "text/plain": [
       "[4]"
      ]
     },
     "execution_count": 72,
     "metadata": {},
     "output_type": "execute_result"
    }
   ],
   "source": [
    "mylist"
   ]
  },
  {
   "cell_type": "code",
   "execution_count": null,
   "metadata": {
    "colab": {
     "base_uri": "https://localhost:8080/"
    },
    "executionInfo": {
     "elapsed": 381,
     "status": "ok",
     "timestamp": 1676879474789,
     "user": {
      "displayName": "전창민",
      "userId": "04793944019518067714"
     },
     "user_tz": -540
    },
    "id": "Rx_Za71vovY5",
    "outputId": "407a6f87-0bab-43d2-a94f-3f432df5a955"
   },
   "outputs": [
    {
     "data": {
      "text/plain": [
       "[1, 1, 2]"
      ]
     },
     "execution_count": 73,
     "metadata": {},
     "output_type": "execute_result"
    }
   ],
   "source": [
    "mylist = [1, 1, 1, 2]\n",
    "mylist.remove(1)\n",
    "mylist"
   ]
  },
  {
   "cell_type": "code",
   "execution_count": null,
   "metadata": {
    "colab": {
     "base_uri": "https://localhost:8080/"
    },
    "executionInfo": {
     "elapsed": 2,
     "status": "ok",
     "timestamp": 1676879476970,
     "user": {
      "displayName": "전창민",
      "userId": "04793944019518067714"
     },
     "user_tz": -540
    },
    "id": "Lq6GboZ1zYbI",
    "outputId": "fbdfab5c-d4fd-493a-9211-101317713938"
   },
   "outputs": [
    {
     "data": {
      "text/plain": [
       "[1, 2]"
      ]
     },
     "execution_count": 74,
     "metadata": {},
     "output_type": "execute_result"
    }
   ],
   "source": [
    "# 한번 더 1을 제거해보았다\n",
    "mylist.remove(1)\n",
    "mylist"
   ]
  },
  {
   "cell_type": "code",
   "execution_count": null,
   "metadata": {
    "id": "cN9cmCeUpCfH"
   },
   "outputs": [],
   "source": [
    "mylist.remove(2)"
   ]
  },
  {
   "cell_type": "code",
   "execution_count": null,
   "metadata": {
    "colab": {
     "base_uri": "https://localhost:8080/"
    },
    "executionInfo": {
     "elapsed": 7,
     "status": "ok",
     "timestamp": 1676879481513,
     "user": {
      "displayName": "전창민",
      "userId": "04793944019518067714"
     },
     "user_tz": -540
    },
    "id": "h-Yb9gutzTd_",
    "outputId": "01541323-1134-41fd-863c-afe0cf2daf3b"
   },
   "outputs": [
    {
     "data": {
      "text/plain": [
       "[1]"
      ]
     },
     "execution_count": 76,
     "metadata": {},
     "output_type": "execute_result"
    }
   ],
   "source": [
    "mylist"
   ]
  },
  {
   "cell_type": "code",
   "execution_count": null,
   "metadata": {
    "colab": {
     "base_uri": "https://localhost:8080/",
     "height": 174
    },
    "executionInfo": {
     "elapsed": 4,
     "status": "error",
     "timestamp": 1676879525611,
     "user": {
      "displayName": "전창민",
      "userId": "04793944019518067714"
     },
     "user_tz": -540
    },
    "id": "Sfwl52KYzV8M",
    "outputId": "7ffe1c28-6121-4a76-d511-f1c50cdf4dea"
   },
   "outputs": [
    {
     "ename": "ValueError",
     "evalue": "ignored",
     "output_type": "error",
     "traceback": [
      "\u001b[0;31m---------------------------------------------------------------------------\u001b[0m",
      "\u001b[0;31mValueError\u001b[0m                                Traceback (most recent call last)",
      "\u001b[0;32m<ipython-input-77-765eabf72715>\u001b[0m in \u001b[0;36m<module>\u001b[0;34m\u001b[0m\n\u001b[0;32m----> 1\u001b[0;31m \u001b[0mmylist\u001b[0m\u001b[0;34m.\u001b[0m\u001b[0mremove\u001b[0m\u001b[0;34m(\u001b[0m\u001b[0;36m3\u001b[0m\u001b[0;34m)\u001b[0m\u001b[0;34m\u001b[0m\u001b[0;34m\u001b[0m\u001b[0m\n\u001b[0m",
      "\u001b[0;31mValueError\u001b[0m: list.remove(x): x not in list"
     ]
    }
   ],
   "source": [
    "mylist.remove(3)\n",
    "# 3값은 list에 존재하지 않으므로 제거할 수 없다는 오류발생"
   ]
  },
  {
   "cell_type": "markdown",
   "metadata": {
    "id": "2vhumXwdz2pL"
   },
   "source": [
    "#### 여러 값들이 포함되어 있을 때 제거 순서"
   ]
  },
  {
   "cell_type": "code",
   "execution_count": null,
   "metadata": {
    "id": "Ed1z4d4AzvOf"
   },
   "outputs": [],
   "source": [
    "mylist = []\n",
    "mylist.append(1)\n",
    "mylist.append(2)\n",
    "mylist.append(3)\n",
    "mylist.append(1)\n",
    "mylist.append(2)\n",
    "mylist.append(3)"
   ]
  },
  {
   "cell_type": "code",
   "execution_count": null,
   "metadata": {
    "colab": {
     "base_uri": "https://localhost:8080/"
    },
    "executionInfo": {
     "elapsed": 3,
     "status": "ok",
     "timestamp": 1676879635073,
     "user": {
      "displayName": "전창민",
      "userId": "04793944019518067714"
     },
     "user_tz": -540
    },
    "id": "M0cQ-gsn0H-K",
    "outputId": "8d3da5e1-c3bc-43e5-fc7f-abeda5940441"
   },
   "outputs": [
    {
     "data": {
      "text/plain": [
       "[1, 2, 3, 1, 2, 3]"
      ]
     },
     "execution_count": 79,
     "metadata": {},
     "output_type": "execute_result"
    }
   ],
   "source": [
    "mylist"
   ]
  },
  {
   "cell_type": "code",
   "execution_count": null,
   "metadata": {
    "id": "Yl9AIVDn0JoW"
   },
   "outputs": [],
   "source": [
    "mylist.remove(1)"
   ]
  },
  {
   "cell_type": "code",
   "execution_count": null,
   "metadata": {
    "colab": {
     "base_uri": "https://localhost:8080/"
    },
    "executionInfo": {
     "elapsed": 358,
     "status": "ok",
     "timestamp": 1676879655628,
     "user": {
      "displayName": "전창민",
      "userId": "04793944019518067714"
     },
     "user_tz": -540
    },
    "id": "6jfJvBuN0NaS",
    "outputId": "b8c54984-4350-4d74-d26e-99efad750e63"
   },
   "outputs": [
    {
     "data": {
      "text/plain": [
       "[2, 3, 1, 2, 3]"
      ]
     },
     "execution_count": 81,
     "metadata": {},
     "output_type": "execute_result"
    }
   ],
   "source": [
    "mylist"
   ]
  },
  {
   "cell_type": "code",
   "execution_count": null,
   "metadata": {
    "id": "G7nIHYJq0OnO"
   },
   "outputs": [],
   "source": [
    "mylist.remove(1)"
   ]
  },
  {
   "cell_type": "code",
   "execution_count": null,
   "metadata": {
    "colab": {
     "base_uri": "https://localhost:8080/"
    },
    "executionInfo": {
     "elapsed": 13,
     "status": "ok",
     "timestamp": 1676879672802,
     "user": {
      "displayName": "전창민",
      "userId": "04793944019518067714"
     },
     "user_tz": -540
    },
    "id": "kF36glDt0RTn",
    "outputId": "2e3c9191-bad7-4046-fe66-676f245bf431"
   },
   "outputs": [
    {
     "data": {
      "text/plain": [
       "[2, 3, 2, 3]"
      ]
     },
     "execution_count": 83,
     "metadata": {},
     "output_type": "execute_result"
    }
   ],
   "source": [
    "mylist\n",
    "# 앞에서부터 1이 제거됨을 알 수 있다"
   ]
  },
  {
   "cell_type": "code",
   "execution_count": null,
   "metadata": {
    "colab": {
     "base_uri": "https://localhost:8080/",
     "height": 174
    },
    "executionInfo": {
     "elapsed": 5,
     "status": "error",
     "timestamp": 1676879681450,
     "user": {
      "displayName": "전창민",
      "userId": "04793944019518067714"
     },
     "user_tz": -540
    },
    "id": "suJWaZhJ0SpQ",
    "outputId": "25224447-8574-4152-aa39-39c5bbe6b83f"
   },
   "outputs": [
    {
     "ename": "ValueError",
     "evalue": "ignored",
     "output_type": "error",
     "traceback": [
      "\u001b[0;31m---------------------------------------------------------------------------\u001b[0m",
      "\u001b[0;31mValueError\u001b[0m                                Traceback (most recent call last)",
      "\u001b[0;32m<ipython-input-84-c90a6cab05e0>\u001b[0m in \u001b[0;36m<module>\u001b[0;34m\u001b[0m\n\u001b[0;32m----> 1\u001b[0;31m \u001b[0mmylist\u001b[0m\u001b[0;34m.\u001b[0m\u001b[0mremove\u001b[0m\u001b[0;34m(\u001b[0m\u001b[0;36m1\u001b[0m\u001b[0;34m)\u001b[0m\u001b[0;34m\u001b[0m\u001b[0;34m\u001b[0m\u001b[0m\n\u001b[0m",
      "\u001b[0;31mValueError\u001b[0m: list.remove(x): x not in list"
     ]
    }
   ],
   "source": [
    "mylist.remove(1)\n",
    "# 리스트에 더이상 제거가능한 1이 존재하지 않으므로 오류발생"
   ]
  },
  {
   "cell_type": "code",
   "execution_count": null,
   "metadata": {
    "colab": {
     "base_uri": "https://localhost:8080/"
    },
    "executionInfo": {
     "elapsed": 3,
     "status": "ok",
     "timestamp": 1676884475238,
     "user": {
      "displayName": "전창민",
      "userId": "04793944019518067714"
     },
     "user_tz": -540
    },
    "id": "Hn5ojf2KGIXn",
    "outputId": "cee7f069-8205-490b-ca21-3b9e24d7a087"
   },
   "outputs": [
    {
     "name": "stdout",
     "output_type": "stream",
     "text": [
      "[1, 2, 2]\n"
     ]
    }
   ],
   "source": [
    "# for문을 사용하여 remove함수로 여러개를 삭제하기\n",
    "b = [1, 2, 2, 3, 3, 3]\n",
    "for i in b:\n",
    "  b.remove(3)\n",
    "print(b)"
   ]
  },
  {
   "cell_type": "markdown",
   "metadata": {
    "id": "f8pJqcS4Gjhn"
   },
   "source": [
    "3이 모두 삭제됨을 알 수 있다."
   ]
  },
  {
   "cell_type": "markdown",
   "metadata": {
    "id": "n5JcUKlVDGdF"
   },
   "source": [
    "#### del함수 사용하여 리스트 요소 삭제하기"
   ]
  },
  {
   "cell_type": "markdown",
   "metadata": {
    "id": "XbG-Ok-NDsMb"
   },
   "source": [
    "del a[x]는 x번째 요소값을 삭제한다"
   ]
  },
  {
   "cell_type": "code",
   "execution_count": null,
   "metadata": {
    "colab": {
     "base_uri": "https://localhost:8080/"
    },
    "executionInfo": {
     "elapsed": 489,
     "status": "ok",
     "timestamp": 1676883678848,
     "user": {
      "displayName": "전창민",
      "userId": "04793944019518067714"
     },
     "user_tz": -540
    },
    "id": "rf5hBvo-DKBL",
    "outputId": "d2416cb0-3ba1-44ac-c1c4-7dfa0a78dd5f"
   },
   "outputs": [
    {
     "data": {
      "text/plain": [
       "[1, 3]"
      ]
     },
     "execution_count": 168,
     "metadata": {},
     "output_type": "execute_result"
    }
   ],
   "source": [
    "# a의 1번째 요소값 삭제\n",
    "a = [1, 2, 3]\n",
    "del a[1]\n",
    "a"
   ]
  },
  {
   "cell_type": "markdown",
   "metadata": {
    "id": "2eCiKU2mEPwe"
   },
   "source": [
    "슬라이싱 기법을 사용하여 여러개를 한꺼번에 삭제할 수 있다."
   ]
  },
  {
   "cell_type": "code",
   "execution_count": null,
   "metadata": {
    "colab": {
     "base_uri": "https://localhost:8080/"
    },
    "executionInfo": {
     "elapsed": 1176,
     "status": "ok",
     "timestamp": 1676883802936,
     "user": {
      "displayName": "전창민",
      "userId": "04793944019518067714"
     },
     "user_tz": -540
    },
    "id": "FB9e_016D4_i",
    "outputId": "b3db87a9-bd9f-4596-ad03-7742124bbfd9"
   },
   "outputs": [
    {
     "data": {
      "text/plain": [
       "[1, 2]"
      ]
     },
     "execution_count": 169,
     "metadata": {},
     "output_type": "execute_result"
    }
   ],
   "source": [
    "# 2번째 부터 마지막순서의 값 모두 삭제\n",
    "a = [1, 2, 3, 4, 5]\n",
    "del a[2:]\n",
    "a"
   ]
  },
  {
   "cell_type": "markdown",
   "metadata": {
    "id": "fM-_d8lN0kQQ"
   },
   "source": [
    "#### 인덱싱(indexing) -> 색인"
   ]
  },
  {
   "cell_type": "markdown",
   "metadata": {
    "id": "O2zH8dWP0s59"
   },
   "source": [
    "**인덱스는 0부터 시작**한다"
   ]
  },
  {
   "cell_type": "code",
   "execution_count": null,
   "metadata": {
    "id": "hwNH4qdE0VG5"
   },
   "outputs": [],
   "source": [
    "mylist = [1, 2, 3, 4]"
   ]
  },
  {
   "cell_type": "code",
   "execution_count": null,
   "metadata": {
    "colab": {
     "base_uri": "https://localhost:8080/"
    },
    "executionInfo": {
     "elapsed": 15,
     "status": "ok",
     "timestamp": 1676879813752,
     "user": {
      "displayName": "전창민",
      "userId": "04793944019518067714"
     },
     "user_tz": -540
    },
    "id": "Y_F1017E0rPG",
    "outputId": "2baf9867-2f4a-47ca-b4cc-1d49be7d9cd0"
   },
   "outputs": [
    {
     "data": {
      "text/plain": [
       "1"
      ]
     },
     "execution_count": 86,
     "metadata": {},
     "output_type": "execute_result"
    }
   ],
   "source": [
    "mylist[0]"
   ]
  },
  {
   "cell_type": "code",
   "execution_count": null,
   "metadata": {
    "colab": {
     "base_uri": "https://localhost:8080/"
    },
    "executionInfo": {
     "elapsed": 8,
     "status": "ok",
     "timestamp": 1676879818266,
     "user": {
      "displayName": "전창민",
      "userId": "04793944019518067714"
     },
     "user_tz": -540
    },
    "id": "wkluvfWN01fn",
    "outputId": "0c91c7e0-e2e3-4118-d8c5-fa120818093f"
   },
   "outputs": [
    {
     "data": {
      "text/plain": [
       "4"
      ]
     },
     "execution_count": 87,
     "metadata": {},
     "output_type": "execute_result"
    }
   ],
   "source": [
    "mylist[3]"
   ]
  },
  {
   "cell_type": "code",
   "execution_count": null,
   "metadata": {
    "colab": {
     "base_uri": "https://localhost:8080/",
     "height": 174
    },
    "executionInfo": {
     "elapsed": 4,
     "status": "error",
     "timestamp": 1676879827157,
     "user": {
      "displayName": "전창민",
      "userId": "04793944019518067714"
     },
     "user_tz": -540
    },
    "id": "KX9DlHEu02k2",
    "outputId": "50c9fc08-adeb-445d-f70e-ed2179c00c65"
   },
   "outputs": [
    {
     "ename": "IndexError",
     "evalue": "ignored",
     "output_type": "error",
     "traceback": [
      "\u001b[0;31m---------------------------------------------------------------------------\u001b[0m",
      "\u001b[0;31mIndexError\u001b[0m                                Traceback (most recent call last)",
      "\u001b[0;32m<ipython-input-88-88b11041aa4f>\u001b[0m in \u001b[0;36m<module>\u001b[0;34m\u001b[0m\n\u001b[0;32m----> 1\u001b[0;31m \u001b[0mmylist\u001b[0m\u001b[0;34m[\u001b[0m\u001b[0;36m4\u001b[0m\u001b[0;34m]\u001b[0m\u001b[0;34m\u001b[0m\u001b[0;34m\u001b[0m\u001b[0m\n\u001b[0m",
      "\u001b[0;31mIndexError\u001b[0m: list index out of range"
     ]
    }
   ],
   "source": [
    "mylist[4]"
   ]
  },
  {
   "cell_type": "code",
   "execution_count": null,
   "metadata": {
    "colab": {
     "base_uri": "https://localhost:8080/"
    },
    "executionInfo": {
     "elapsed": 3,
     "status": "ok",
     "timestamp": 1676879866848,
     "user": {
      "displayName": "전창민",
      "userId": "04793944019518067714"
     },
     "user_tz": -540
    },
    "id": "zc_xblDv04zP",
    "outputId": "b99628e9-b46e-4756-c0d1-530560885985"
   },
   "outputs": [
    {
     "data": {
      "text/plain": [
       "4"
      ]
     },
     "execution_count": 89,
     "metadata": {},
     "output_type": "execute_result"
    }
   ],
   "source": [
    "# -는 끝에서부터 ~1번째\n",
    "mylist[-1]"
   ]
  },
  {
   "cell_type": "code",
   "execution_count": null,
   "metadata": {
    "colab": {
     "base_uri": "https://localhost:8080/"
    },
    "executionInfo": {
     "elapsed": 7,
     "status": "ok",
     "timestamp": 1676879876728,
     "user": {
      "displayName": "전창민",
      "userId": "04793944019518067714"
     },
     "user_tz": -540
    },
    "id": "-YgX2JwW1CRY",
    "outputId": "838f2597-307d-4a9d-edba-c382f3824158"
   },
   "outputs": [
    {
     "data": {
      "text/plain": [
       "2"
      ]
     },
     "execution_count": 90,
     "metadata": {},
     "output_type": "execute_result"
    }
   ],
   "source": [
    "mylist[-3]"
   ]
  },
  {
   "cell_type": "code",
   "execution_count": null,
   "metadata": {
    "colab": {
     "base_uri": "https://localhost:8080/",
     "height": 174
    },
    "executionInfo": {
     "elapsed": 3,
     "status": "error",
     "timestamp": 1676879882950,
     "user": {
      "displayName": "전창민",
      "userId": "04793944019518067714"
     },
     "user_tz": -540
    },
    "id": "_WqNHUE41E9e",
    "outputId": "89921e46-dc28-4e47-bed8-96d403907ec9"
   },
   "outputs": [
    {
     "ename": "IndexError",
     "evalue": "ignored",
     "output_type": "error",
     "traceback": [
      "\u001b[0;31m---------------------------------------------------------------------------\u001b[0m",
      "\u001b[0;31mIndexError\u001b[0m                                Traceback (most recent call last)",
      "\u001b[0;32m<ipython-input-91-7f152f66d2d3>\u001b[0m in \u001b[0;36m<module>\u001b[0;34m\u001b[0m\n\u001b[0;32m----> 1\u001b[0;31m \u001b[0mmylist\u001b[0m\u001b[0;34m[\u001b[0m\u001b[0;34m-\u001b[0m\u001b[0;36m5\u001b[0m\u001b[0;34m]\u001b[0m\u001b[0;34m\u001b[0m\u001b[0;34m\u001b[0m\u001b[0m\n\u001b[0m",
      "\u001b[0;31mIndexError\u001b[0m: list index out of range"
     ]
    }
   ],
   "source": [
    "mylist[-5]"
   ]
  },
  {
   "cell_type": "markdown",
   "metadata": {
    "id": "SSd_lERe1Lw6"
   },
   "source": [
    "#### 인덱스로 접근하여 값 바꾸기"
   ]
  },
  {
   "cell_type": "code",
   "execution_count": null,
   "metadata": {
    "colab": {
     "base_uri": "https://localhost:8080/"
    },
    "executionInfo": {
     "elapsed": 6,
     "status": "ok",
     "timestamp": 1676879926220,
     "user": {
      "displayName": "전창민",
      "userId": "04793944019518067714"
     },
     "user_tz": -540
    },
    "id": "tFPcUx1P1GMU",
    "outputId": "66ed22aa-7710-49d8-eb0d-c799430a3196"
   },
   "outputs": [
    {
     "data": {
      "text/plain": [
       "[1, 2, 3, 4]"
      ]
     },
     "execution_count": 92,
     "metadata": {},
     "output_type": "execute_result"
    }
   ],
   "source": [
    "mylist"
   ]
  },
  {
   "cell_type": "code",
   "execution_count": null,
   "metadata": {
    "id": "np6ky9sE1Qs7"
   },
   "outputs": [],
   "source": [
    "mylist[0] = 100"
   ]
  },
  {
   "cell_type": "code",
   "execution_count": null,
   "metadata": {
    "colab": {
     "base_uri": "https://localhost:8080/"
    },
    "executionInfo": {
     "elapsed": 3,
     "status": "ok",
     "timestamp": 1676879977055,
     "user": {
      "displayName": "전창민",
      "userId": "04793944019518067714"
     },
     "user_tz": -540
    },
    "id": "pB7Zc2d61crJ",
    "outputId": "8773acb6-00a1-4354-93d7-b77d443d10c4"
   },
   "outputs": [
    {
     "data": {
      "text/plain": [
       "[100, 2, 3, 4]"
      ]
     },
     "execution_count": 94,
     "metadata": {},
     "output_type": "execute_result"
    }
   ],
   "source": [
    "mylist"
   ]
  },
  {
   "cell_type": "code",
   "execution_count": null,
   "metadata": {
    "id": "6vCgXc1M1dOX"
   },
   "outputs": [],
   "source": [
    "mylist[3] = 101\n",
    "# mylist[-1] = 101로 사용해도 동일한 결과가 산출된다."
   ]
  },
  {
   "cell_type": "code",
   "execution_count": null,
   "metadata": {
    "colab": {
     "base_uri": "https://localhost:8080/"
    },
    "executionInfo": {
     "elapsed": 402,
     "status": "ok",
     "timestamp": 1676880033428,
     "user": {
      "displayName": "전창민",
      "userId": "04793944019518067714"
     },
     "user_tz": -540
    },
    "id": "QaIMJe8q1oHG",
    "outputId": "d9b032fc-f5f4-4976-e361-44a46a86e250"
   },
   "outputs": [
    {
     "data": {
      "text/plain": [
       "[100, 2, 3, 101]"
      ]
     },
     "execution_count": 97,
     "metadata": {},
     "output_type": "execute_result"
    }
   ],
   "source": [
    "mylist"
   ]
  },
  {
   "cell_type": "markdown",
   "metadata": {
    "id": "-qmVo7CT1yHb"
   },
   "source": [
    "#### 리스트(list) 슬라이싱"
   ]
  },
  {
   "cell_type": "code",
   "execution_count": null,
   "metadata": {
    "colab": {
     "base_uri": "https://localhost:8080/"
    },
    "executionInfo": {
     "elapsed": 356,
     "status": "ok",
     "timestamp": 1676880088600,
     "user": {
      "displayName": "전창민",
      "userId": "04793944019518067714"
     },
     "user_tz": -540
    },
    "id": "Ky5rA70F1pVf",
    "outputId": "4fc150ab-71eb-4e44-dd0a-eaa3dd478034"
   },
   "outputs": [
    {
     "data": {
      "text/plain": [
       "[100, 2, 3, 101]"
      ]
     },
     "execution_count": 98,
     "metadata": {},
     "output_type": "execute_result"
    }
   ],
   "source": [
    "mylist"
   ]
  },
  {
   "cell_type": "code",
   "execution_count": null,
   "metadata": {
    "colab": {
     "base_uri": "https://localhost:8080/"
    },
    "executionInfo": {
     "elapsed": 2,
     "status": "ok",
     "timestamp": 1676880106454,
     "user": {
      "displayName": "전창민",
      "userId": "04793944019518067714"
     },
     "user_tz": -540
    },
    "id": "dpw2a5iN14Wi",
    "outputId": "1270bf09-6dc4-4b53-ecf3-ed93e7a71e09"
   },
   "outputs": [
    {
     "data": {
      "text/plain": [
       "[100, 2]"
      ]
     },
     "execution_count": 100,
     "metadata": {},
     "output_type": "execute_result"
    }
   ],
   "source": [
    "# 0번째부터 2미만까지 슬라이싱\n",
    "mylist[0:2]"
   ]
  },
  {
   "cell_type": "markdown",
   "metadata": {
    "id": "5jsMWIWK2Ght"
   },
   "source": [
    "#### 리스트 더하기"
   ]
  },
  {
   "cell_type": "code",
   "execution_count": null,
   "metadata": {
    "colab": {
     "base_uri": "https://localhost:8080/"
    },
    "executionInfo": {
     "elapsed": 3,
     "status": "ok",
     "timestamp": 1676880184154,
     "user": {
      "displayName": "전창민",
      "userId": "04793944019518067714"
     },
     "user_tz": -540
    },
    "id": "N-wFZi1P16bS",
    "outputId": "db97afda-f2c6-41ad-ec7d-397440292d63"
   },
   "outputs": [
    {
     "name": "stdout",
     "output_type": "stream",
     "text": [
      "[1, 2, 3, 4, 5, 6]\n"
     ]
    }
   ],
   "source": [
    "# a리스트와 b리스트의 요소를 더하기\n",
    "a = [1, 2, 3]\n",
    "b = [4, 5, 6]\n",
    "c = a + b\n",
    "print(c)"
   ]
  },
  {
   "cell_type": "markdown",
   "metadata": {
    "id": "9nKMddif2SZO"
   },
   "source": [
    "#### 인덱스 반환(index)"
   ]
  },
  {
   "cell_type": "code",
   "execution_count": null,
   "metadata": {
    "colab": {
     "base_uri": "https://localhost:8080/"
    },
    "executionInfo": {
     "elapsed": 4,
     "status": "ok",
     "timestamp": 1676880244241,
     "user": {
      "displayName": "전창민",
      "userId": "04793944019518067714"
     },
     "user_tz": -540
    },
    "id": "T2K-6oSL2Pzu",
    "outputId": "b714b30f-618e-4e39-8bdf-1ca23bd005aa"
   },
   "outputs": [
    {
     "data": {
      "text/plain": [
       "6"
      ]
     },
     "execution_count": 102,
     "metadata": {},
     "output_type": "execute_result"
    }
   ],
   "source": [
    "a = [1, 2, 3, 4, 5, 6, 7, 8]\n",
    "# 데이터 7의 index번호를 반환하고자 할 때 사용\n",
    "a.index(7)"
   ]
  },
  {
   "cell_type": "markdown",
   "metadata": {
    "id": "pPrkqKSE3QCj"
   },
   "source": [
    "#### 전체 길이(사이즈)알아내기"
   ]
  },
  {
   "cell_type": "code",
   "execution_count": null,
   "metadata": {
    "colab": {
     "base_uri": "https://localhost:8080/"
    },
    "executionInfo": {
     "elapsed": 3,
     "status": "ok",
     "timestamp": 1676880554399,
     "user": {
      "displayName": "전창민",
      "userId": "04793944019518067714"
     },
     "user_tz": -540
    },
    "id": "e6VDZ6m22ef7",
    "outputId": "ac58a83f-a565-42a8-b003-20891d70489f"
   },
   "outputs": [
    {
     "data": {
      "text/plain": [
       "4"
      ]
     },
     "execution_count": 103,
     "metadata": {},
     "output_type": "execute_result"
    }
   ],
   "source": [
    "# 데이터의 길이\n",
    "len(mylist)"
   ]
  },
  {
   "cell_type": "markdown",
   "metadata": {
    "id": "4SvX9yE33s6L"
   },
   "source": [
    "### 4-2. tuple(순서가 있는 집합, 읽기 전용, 변경 불가)"
   ]
  },
  {
   "cell_type": "markdown",
   "metadata": {
    "id": "KYbpCt4y4I2k"
   },
   "source": [
    "( )로 표현한다"
   ]
  },
  {
   "cell_type": "code",
   "execution_count": null,
   "metadata": {
    "id": "ieOuidwk3qIl"
   },
   "outputs": [],
   "source": [
    "mytuple = (1, 2, 3, 4, 5)"
   ]
  },
  {
   "cell_type": "code",
   "execution_count": null,
   "metadata": {
    "colab": {
     "base_uri": "https://localhost:8080/",
     "height": 211
    },
    "executionInfo": {
     "elapsed": 10,
     "status": "error",
     "timestamp": 1676880809176,
     "user": {
      "displayName": "전창민",
      "userId": "04793944019518067714"
     },
     "user_tz": -540
    },
    "id": "6mQJdPvK4TzV",
    "outputId": "16b66a0b-a94c-4f8a-814f-5b937c15bdb4"
   },
   "outputs": [
    {
     "ename": "AttributeError",
     "evalue": "ignored",
     "output_type": "error",
     "traceback": [
      "\u001b[0;31m---------------------------------------------------------------------------\u001b[0m",
      "\u001b[0;31mAttributeError\u001b[0m                            Traceback (most recent call last)",
      "\u001b[0;32m<ipython-input-105-184fcc863487>\u001b[0m in \u001b[0;36m<module>\u001b[0;34m\u001b[0m\n\u001b[1;32m      1\u001b[0m \u001b[0;31m# tuple은 초기화 할 때, 처음 값을 넣을 때 확실하게 넣어야 한다 -> 튜플은 변경불가이기 때문\u001b[0m\u001b[0;34m\u001b[0m\u001b[0;34m\u001b[0m\u001b[0;34m\u001b[0m\u001b[0m\n\u001b[1;32m      2\u001b[0m \u001b[0;31m# tuple은 append가 불가능 -> 읽기전용이므로\u001b[0m\u001b[0;34m\u001b[0m\u001b[0;34m\u001b[0m\u001b[0;34m\u001b[0m\u001b[0m\n\u001b[0;32m----> 3\u001b[0;31m \u001b[0mmytuple\u001b[0m\u001b[0;34m.\u001b[0m\u001b[0mappend\u001b[0m\u001b[0;34m(\u001b[0m\u001b[0;36m1\u001b[0m\u001b[0;34m)\u001b[0m\u001b[0;34m\u001b[0m\u001b[0;34m\u001b[0m\u001b[0m\n\u001b[0m",
      "\u001b[0;31mAttributeError\u001b[0m: 'tuple' object has no attribute 'append'"
     ]
    }
   ],
   "source": [
    "# tuple은 초기화 할 때, 처음 값을 넣을 때 확실하게 넣어야 한다 -> 튜플은 변경불가이기 때문\n",
    "# tuple은 append가 불가능 -> 읽기전용이므로 \n",
    "mytuple.append(1)\n"
   ]
  },
  {
   "cell_type": "code",
   "execution_count": null,
   "metadata": {
    "colab": {
     "base_uri": "https://localhost:8080/",
     "height": 174
    },
    "executionInfo": {
     "elapsed": 4,
     "status": "error",
     "timestamp": 1676880858573,
     "user": {
      "displayName": "전창민",
      "userId": "04793944019518067714"
     },
     "user_tz": -540
    },
    "id": "HnTxDFsz4oXd",
    "outputId": "436bcdba-1e5a-45c7-bc11-a21229e9cdb8"
   },
   "outputs": [
    {
     "ename": "AttributeError",
     "evalue": "ignored",
     "output_type": "error",
     "traceback": [
      "\u001b[0;31m---------------------------------------------------------------------------\u001b[0m",
      "\u001b[0;31mAttributeError\u001b[0m                            Traceback (most recent call last)",
      "\u001b[0;32m<ipython-input-106-05a40423345b>\u001b[0m in \u001b[0;36m<module>\u001b[0;34m\u001b[0m\n\u001b[0;32m----> 1\u001b[0;31m \u001b[0mmytuple\u001b[0m\u001b[0;34m.\u001b[0m\u001b[0mremove\u001b[0m\u001b[0;34m(\u001b[0m\u001b[0;36m1\u001b[0m\u001b[0;34m)\u001b[0m\u001b[0;34m\u001b[0m\u001b[0;34m\u001b[0m\u001b[0m\n\u001b[0m",
      "\u001b[0;31mAttributeError\u001b[0m: 'tuple' object has no attribute 'remove'"
     ]
    }
   ],
   "source": [
    "# remove도 마찬가지로 불가능하다\n",
    "mytuple.remove(1)"
   ]
  },
  {
   "cell_type": "code",
   "execution_count": null,
   "metadata": {
    "colab": {
     "base_uri": "https://localhost:8080/",
     "height": 174
    },
    "executionInfo": {
     "elapsed": 4,
     "status": "error",
     "timestamp": 1676880907372,
     "user": {
      "displayName": "전창민",
      "userId": "04793944019518067714"
     },
     "user_tz": -540
    },
    "id": "UymOlpUv40it",
    "outputId": "953f2e3b-11b0-4a72-f30b-bdeba8f594c2"
   },
   "outputs": [
    {
     "ename": "TypeError",
     "evalue": "ignored",
     "output_type": "error",
     "traceback": [
      "\u001b[0;31m---------------------------------------------------------------------------\u001b[0m",
      "\u001b[0;31mTypeError\u001b[0m                                 Traceback (most recent call last)",
      "\u001b[0;32m<ipython-input-107-4cf492702bfd>\u001b[0m in \u001b[0;36m<module>\u001b[0;34m\u001b[0m\n\u001b[0;32m----> 1\u001b[0;31m \u001b[0mmytuple\u001b[0m\u001b[0;34m[\u001b[0m\u001b[0;36m0\u001b[0m\u001b[0;34m]\u001b[0m \u001b[0;34m=\u001b[0m \u001b[0;36m1\u001b[0m\u001b[0;34m\u001b[0m\u001b[0;34m\u001b[0m\u001b[0m\n\u001b[0m",
      "\u001b[0;31mTypeError\u001b[0m: 'tuple' object does not support item assignment"
     ]
    }
   ],
   "source": [
    "# 값 변경도 불가능\n",
    "mytuple[0] = 1"
   ]
  },
  {
   "cell_type": "markdown",
   "metadata": {
    "id": "whrKfhD55Fxo"
   },
   "source": [
    "#### 길이 파악하기"
   ]
  },
  {
   "cell_type": "code",
   "execution_count": null,
   "metadata": {
    "colab": {
     "base_uri": "https://localhost:8080/"
    },
    "executionInfo": {
     "elapsed": 4,
     "status": "ok",
     "timestamp": 1676880948040,
     "user": {
      "displayName": "전창민",
      "userId": "04793944019518067714"
     },
     "user_tz": -540
    },
    "id": "ckoA1cP65Aaw",
    "outputId": "c9c5075c-22c8-42ee-ad26-2db3d6768493"
   },
   "outputs": [
    {
     "data": {
      "text/plain": [
       "5"
      ]
     },
     "execution_count": 108,
     "metadata": {},
     "output_type": "execute_result"
    }
   ],
   "source": [
    "len(mytuple)"
   ]
  },
  {
   "cell_type": "code",
   "execution_count": null,
   "metadata": {
    "colab": {
     "base_uri": "https://localhost:8080/"
    },
    "executionInfo": {
     "elapsed": 3,
     "status": "ok",
     "timestamp": 1676880997239,
     "user": {
      "displayName": "전창민",
      "userId": "04793944019518067714"
     },
     "user_tz": -540
    },
    "id": "3nM22OJI5KTE",
    "outputId": "5998a30b-52e2-455e-bc98-d3243731b618"
   },
   "outputs": [
    {
     "data": {
      "text/plain": [
       "(1, 2, 3, 4, 5)"
      ]
     },
     "execution_count": 109,
     "metadata": {},
     "output_type": "execute_result"
    }
   ],
   "source": [
    "mytuple"
   ]
  },
  {
   "cell_type": "markdown",
   "metadata": {
    "id": "Dcg0NAYd5XZc"
   },
   "source": [
    "## 벤다이어그램 집합\n",
    "set(순서 X, 중복 X, 변경가능)\n",
    "\n",
    "중복허용을 하지 않아야할때 주로 사용"
   ]
  },
  {
   "cell_type": "code",
   "execution_count": null,
   "metadata": {
    "id": "NSwbvOT-5V53"
   },
   "outputs": [],
   "source": [
    "myset = set()"
   ]
  },
  {
   "cell_type": "code",
   "execution_count": null,
   "metadata": {
    "colab": {
     "base_uri": "https://localhost:8080/"
    },
    "executionInfo": {
     "elapsed": 3,
     "status": "ok",
     "timestamp": 1676881118310,
     "user": {
      "displayName": "전창민",
      "userId": "04793944019518067714"
     },
     "user_tz": -540
    },
    "id": "LhQLdjwZ5yjS",
    "outputId": "2198906b-7e99-4dfe-f993-1fbd7849a293"
   },
   "outputs": [
    {
     "data": {
      "text/plain": [
       "set"
      ]
     },
     "execution_count": 111,
     "metadata": {},
     "output_type": "execute_result"
    }
   ],
   "source": [
    "type(myset)"
   ]
  },
  {
   "cell_type": "code",
   "execution_count": null,
   "metadata": {
    "id": "DHAfZSlA5z_u"
   },
   "outputs": [],
   "source": [
    "# set(집합)에서는 요소 추가를 add()\n",
    "myset.add(1)\n",
    "myset.add(2)\n",
    "myset.add(3)"
   ]
  },
  {
   "cell_type": "code",
   "execution_count": null,
   "metadata": {
    "colab": {
     "base_uri": "https://localhost:8080/"
    },
    "executionInfo": {
     "elapsed": 5,
     "status": "ok",
     "timestamp": 1676881489453,
     "user": {
      "displayName": "전창민",
      "userId": "04793944019518067714"
     },
     "user_tz": -540
    },
    "id": "NLfhNIGd7Mrg",
    "outputId": "283752bf-6458-49d4-86b1-eefe804dea92"
   },
   "outputs": [
    {
     "data": {
      "text/plain": [
       "{1, 2, 3}"
      ]
     },
     "execution_count": 113,
     "metadata": {},
     "output_type": "execute_result"
    }
   ],
   "source": [
    "myset"
   ]
  },
  {
   "cell_type": "code",
   "execution_count": null,
   "metadata": {
    "id": "pgNSz_ib7OaH"
   },
   "outputs": [],
   "source": [
    "myset.add(1)\n",
    "myset.add(2)\n",
    "myset.add(3)\n",
    "myset.add(1)\n",
    "myset.add(2)\n",
    "myset.add(3)"
   ]
  },
  {
   "cell_type": "code",
   "execution_count": null,
   "metadata": {
    "colab": {
     "base_uri": "https://localhost:8080/"
    },
    "executionInfo": {
     "elapsed": 3,
     "status": "ok",
     "timestamp": 1676881542107,
     "user": {
      "displayName": "전창민",
      "userId": "04793944019518067714"
     },
     "user_tz": -540
    },
    "id": "iJXihuGO7aBl",
    "outputId": "d1b750c0-5716-4318-8757-d1d8f03fad61"
   },
   "outputs": [
    {
     "data": {
      "text/plain": [
       "{1, 2, 3}"
      ]
     },
     "execution_count": 115,
     "metadata": {},
     "output_type": "execute_result"
    }
   ],
   "source": [
    "myset"
   ]
  },
  {
   "cell_type": "code",
   "execution_count": null,
   "metadata": {
    "id": "-hBsi5197bTd"
   },
   "outputs": [],
   "source": [
    "myset.add(4)"
   ]
  },
  {
   "cell_type": "code",
   "execution_count": null,
   "metadata": {
    "colab": {
     "base_uri": "https://localhost:8080/"
    },
    "executionInfo": {
     "elapsed": 3,
     "status": "ok",
     "timestamp": 1676881566591,
     "user": {
      "displayName": "전창민",
      "userId": "04793944019518067714"
     },
     "user_tz": -540
    },
    "id": "FGqr-4fz7fpi",
    "outputId": "77f2647a-8d7d-4574-c4cd-d6993eefd200"
   },
   "outputs": [
    {
     "data": {
      "text/plain": [
       "{1, 2, 3, 4}"
      ]
     },
     "execution_count": 117,
     "metadata": {},
     "output_type": "execute_result"
    }
   ],
   "source": [
    "myset"
   ]
  },
  {
   "cell_type": "code",
   "execution_count": null,
   "metadata": {
    "id": "SKBJm_s58N1H"
   },
   "outputs": [],
   "source": [
    "# 집합에 리스트 1개를 추가\n",
    "# 처음에 집합이 생성될 때 리스트 -> 집합으로 변경\n",
    "s1 = set([1, 2, 3])"
   ]
  },
  {
   "cell_type": "code",
   "execution_count": null,
   "metadata": {
    "colab": {
     "base_uri": "https://localhost:8080/"
    },
    "executionInfo": {
     "elapsed": 11,
     "status": "ok",
     "timestamp": 1676882002257,
     "user": {
      "displayName": "전창민",
      "userId": "04793944019518067714"
     },
     "user_tz": -540
    },
    "id": "vF2vrIml8oBW",
    "outputId": "6abd0289-7e41-48cc-ac62-ab88b9c49ed9"
   },
   "outputs": [
    {
     "data": {
      "text/plain": [
       "{1, 2, 3}"
      ]
     },
     "execution_count": 136,
     "metadata": {},
     "output_type": "execute_result"
    }
   ],
   "source": [
    "s1"
   ]
  },
  {
   "cell_type": "code",
   "execution_count": null,
   "metadata": {
    "colab": {
     "base_uri": "https://localhost:8080/"
    },
    "executionInfo": {
     "elapsed": 7,
     "status": "ok",
     "timestamp": 1676882002257,
     "user": {
      "displayName": "전창민",
      "userId": "04793944019518067714"
     },
     "user_tz": -540
    },
    "id": "e4HSB4Qf8xM7",
    "outputId": "08fedddf-0e05-44eb-ea85-35cf358c547a"
   },
   "outputs": [
    {
     "data": {
      "text/plain": [
       "{1, 2, 3, 4}"
      ]
     },
     "execution_count": 137,
     "metadata": {},
     "output_type": "execute_result"
    }
   ],
   "source": [
    "# add는 한 개의 값만 추가 가능\n",
    "s1.add(4)\n",
    "s1"
   ]
  },
  {
   "cell_type": "code",
   "execution_count": null,
   "metadata": {
    "id": "1ZueII3T7hOz"
   },
   "outputs": [],
   "source": [
    "# update는 한꺼번에 여러 개의 요소를 추가 가능 (리스트를 사용)\n",
    "s1.update([5, 6, 7])"
   ]
  },
  {
   "cell_type": "code",
   "execution_count": null,
   "metadata": {
    "colab": {
     "base_uri": "https://localhost:8080/"
    },
    "executionInfo": {
     "elapsed": 3,
     "status": "ok",
     "timestamp": 1676882003515,
     "user": {
      "displayName": "전창민",
      "userId": "04793944019518067714"
     },
     "user_tz": -540
    },
    "id": "oDpbTjVz7mDU",
    "outputId": "df9f5486-a382-469a-d620-dec7d170a4c6"
   },
   "outputs": [
    {
     "data": {
      "text/plain": [
       "{1, 2, 3, 4, 5, 6, 7}"
      ]
     },
     "execution_count": 139,
     "metadata": {},
     "output_type": "execute_result"
    }
   ],
   "source": [
    "s1"
   ]
  },
  {
   "cell_type": "code",
   "execution_count": null,
   "metadata": {
    "id": "YLcvYpaD7pv0"
   },
   "outputs": [],
   "source": [
    "s1.remove(7)"
   ]
  },
  {
   "cell_type": "code",
   "execution_count": null,
   "metadata": {
    "colab": {
     "base_uri": "https://localhost:8080/"
    },
    "executionInfo": {
     "elapsed": 4,
     "status": "ok",
     "timestamp": 1676882003969,
     "user": {
      "displayName": "전창민",
      "userId": "04793944019518067714"
     },
     "user_tz": -540
    },
    "id": "UtcJb_Qw8GNW",
    "outputId": "0c74c006-c513-4ef5-ccc0-35f75d602a59"
   },
   "outputs": [
    {
     "data": {
      "text/plain": [
       "{1, 2, 3, 4, 5, 6}"
      ]
     },
     "execution_count": 141,
     "metadata": {},
     "output_type": "execute_result"
    }
   ],
   "source": [
    "s1"
   ]
  },
  {
   "cell_type": "code",
   "execution_count": null,
   "metadata": {
    "colab": {
     "base_uri": "https://localhost:8080/"
    },
    "executionInfo": {
     "elapsed": 4,
     "status": "ok",
     "timestamp": 1676882004438,
     "user": {
      "displayName": "전창민",
      "userId": "04793944019518067714"
     },
     "user_tz": -540
    },
    "id": "MjPy8jr98ILT",
    "outputId": "c459a13e-10d5-4500-acc0-e44d265e35f6"
   },
   "outputs": [
    {
     "data": {
      "text/plain": [
       "{1, 2, 4, 5, 6}"
      ]
     },
     "execution_count": 142,
     "metadata": {},
     "output_type": "execute_result"
    }
   ],
   "source": [
    "# remove 역시 한 개만 지울 수 있다\n",
    "s1.remove(3)\n",
    "s1"
   ]
  },
  {
   "cell_type": "code",
   "execution_count": null,
   "metadata": {
    "colab": {
     "base_uri": "https://localhost:8080/",
     "height": 193
    },
    "executionInfo": {
     "elapsed": 5,
     "status": "error",
     "timestamp": 1676882046042,
     "user": {
      "displayName": "전창민",
      "userId": "04793944019518067714"
     },
     "user_tz": -540
    },
    "id": "m697YMfU9G8C",
    "outputId": "a5f8ba28-3c8f-47da-c372-d3097d939840"
   },
   "outputs": [
    {
     "ename": "TypeError",
     "evalue": "ignored",
     "output_type": "error",
     "traceback": [
      "\u001b[0;31m---------------------------------------------------------------------------\u001b[0m",
      "\u001b[0;31mTypeError\u001b[0m                                 Traceback (most recent call last)",
      "\u001b[0;32m<ipython-input-143-712de6795161>\u001b[0m in \u001b[0;36m<module>\u001b[0;34m\u001b[0m\n\u001b[1;32m      1\u001b[0m \u001b[0;31m# remove는 리스트의 형태로 여러가지를 한번에 제거할 수 없다\u001b[0m\u001b[0;34m\u001b[0m\u001b[0;34m\u001b[0m\u001b[0;34m\u001b[0m\u001b[0m\n\u001b[0;32m----> 2\u001b[0;31m \u001b[0ms1\u001b[0m\u001b[0;34m.\u001b[0m\u001b[0mremove\u001b[0m\u001b[0;34m(\u001b[0m\u001b[0;34m[\u001b[0m\u001b[0;36m1\u001b[0m\u001b[0;34m,\u001b[0m \u001b[0;36m2\u001b[0m\u001b[0;34m]\u001b[0m\u001b[0;34m)\u001b[0m\u001b[0;34m\u001b[0m\u001b[0;34m\u001b[0m\u001b[0m\n\u001b[0m",
      "\u001b[0;31mTypeError\u001b[0m: unhashable type: 'list'"
     ]
    }
   ],
   "source": [
    "# remove는 리스트의 형태로 여러가지를 한번에 제거할 수 없다\n",
    "s1.remove([1, 2])"
   ]
  },
  {
   "cell_type": "markdown",
   "metadata": {
    "id": "dkXMOyve9ZE9"
   },
   "source": [
    "### 4-3. dict(사전형 집합, key와 value 쌍)"
   ]
  },
  {
   "cell_type": "markdown",
   "metadata": {
    "id": "Cy_-Njph9fpI"
   },
   "source": [
    "{ }로 표현한다"
   ]
  },
  {
   "cell_type": "code",
   "execution_count": null,
   "metadata": {
    "id": "Ymt2Qaoi9Wne"
   },
   "outputs": [],
   "source": [
    "mydict = dict()"
   ]
  },
  {
   "cell_type": "code",
   "execution_count": null,
   "metadata": {
    "colab": {
     "base_uri": "https://localhost:8080/"
    },
    "executionInfo": {
     "elapsed": 591,
     "status": "ok",
     "timestamp": 1676882111773,
     "user": {
      "displayName": "전창민",
      "userId": "04793944019518067714"
     },
     "user_tz": -540
    },
    "id": "YNlkXCrZ9lg8",
    "outputId": "b7a9948a-83f5-459f-e567-d950658e05e2"
   },
   "outputs": [
    {
     "data": {
      "text/plain": [
       "{}"
      ]
     },
     "execution_count": 145,
     "metadata": {},
     "output_type": "execute_result"
    }
   ],
   "source": [
    "mydict"
   ]
  },
  {
   "cell_type": "code",
   "execution_count": null,
   "metadata": {
    "colab": {
     "base_uri": "https://localhost:8080/"
    },
    "executionInfo": {
     "elapsed": 6,
     "status": "ok",
     "timestamp": 1676882117058,
     "user": {
      "displayName": "전창민",
      "userId": "04793944019518067714"
     },
     "user_tz": -540
    },
    "id": "b1g1S6Dc9mL7",
    "outputId": "e6cc2373-35c3-4fc6-9cd8-2a7174e6a85d"
   },
   "outputs": [
    {
     "data": {
      "text/plain": [
       "dict"
      ]
     },
     "execution_count": 146,
     "metadata": {},
     "output_type": "execute_result"
    }
   ],
   "source": [
    "type(mydict)"
   ]
  },
  {
   "cell_type": "markdown",
   "metadata": {
    "id": "_IC0-i_H9vKd"
   },
   "source": [
    "#### 값을 추가하기"
   ]
  },
  {
   "cell_type": "code",
   "execution_count": null,
   "metadata": {
    "id": "vUIgqfM29n3L"
   },
   "outputs": [],
   "source": [
    "mydict = dict()"
   ]
  },
  {
   "cell_type": "code",
   "execution_count": null,
   "metadata": {
    "id": "4Aib3kiv9316"
   },
   "outputs": [],
   "source": [
    "# 'apple'은 key값\n",
    "# 123456은 value값\n",
    "mydict['apple'] = 123456"
   ]
  },
  {
   "cell_type": "code",
   "execution_count": null,
   "metadata": {
    "colab": {
     "base_uri": "https://localhost:8080/"
    },
    "executionInfo": {
     "elapsed": 9,
     "status": "ok",
     "timestamp": 1676896943984,
     "user": {
      "displayName": "전창민",
      "userId": "04793944019518067714"
     },
     "user_tz": -540
    },
    "id": "tPbzrFn3-CRP",
    "outputId": "7c4056d3-16d0-4860-989c-465e7bda6d49"
   },
   "outputs": [
    {
     "data": {
      "text/plain": [
       "123456"
      ]
     },
     "execution_count": 3,
     "metadata": {},
     "output_type": "execute_result"
    }
   ],
   "source": [
    "mydict['apple']"
   ]
  },
  {
   "cell_type": "markdown",
   "metadata": {
    "id": "wszzrYIk-HWO"
   },
   "source": [
    "mydict의 키는 문자형/숫자형 혼용이 가능하다"
   ]
  },
  {
   "cell_type": "code",
   "execution_count": null,
   "metadata": {
    "id": "9eyFAw1R-Fwq"
   },
   "outputs": [],
   "source": [
    "# dict에 index형태로 저장 시 index값이 key, data값이 value\n",
    "mydict[0] = 2"
   ]
  },
  {
   "cell_type": "code",
   "execution_count": null,
   "metadata": {
    "colab": {
     "base_uri": "https://localhost:8080/"
    },
    "executionInfo": {
     "elapsed": 7,
     "status": "ok",
     "timestamp": 1676896943984,
     "user": {
      "displayName": "전창민",
      "userId": "04793944019518067714"
     },
     "user_tz": -540
    },
    "id": "JWjlskZO-ee8",
    "outputId": "16d36cc8-5d8d-44ae-d632-1fcd5a59931c"
   },
   "outputs": [
    {
     "data": {
      "text/plain": [
       "2"
      ]
     },
     "execution_count": 5,
     "metadata": {},
     "output_type": "execute_result"
    }
   ],
   "source": [
    "mydict[0]"
   ]
  },
  {
   "cell_type": "code",
   "execution_count": null,
   "metadata": {
    "colab": {
     "base_uri": "https://localhost:8080/"
    },
    "executionInfo": {
     "elapsed": 5,
     "status": "ok",
     "timestamp": 1676896946824,
     "user": {
      "displayName": "전창민",
      "userId": "04793944019518067714"
     },
     "user_tz": -540
    },
    "id": "KDqJ7Ppt-gBs",
    "outputId": "57510ed6-e421-4a3c-c517-59346fbd89c3"
   },
   "outputs": [
    {
     "data": {
      "text/plain": [
       "{'apple': 123456, 0: 2}"
      ]
     },
     "execution_count": 6,
     "metadata": {},
     "output_type": "execute_result"
    }
   ],
   "source": [
    "mydict"
   ]
  },
  {
   "cell_type": "markdown",
   "metadata": {
    "id": "ta4T3yQb-i-b"
   },
   "source": [
    "float(실수)도 key로써 입력이 가능하다"
   ]
  },
  {
   "cell_type": "code",
   "execution_count": null,
   "metadata": {
    "id": "vrXxt19M-hTJ"
   },
   "outputs": [],
   "source": [
    "mydict[3.14] = 1"
   ]
  },
  {
   "cell_type": "code",
   "execution_count": null,
   "metadata": {
    "colab": {
     "base_uri": "https://localhost:8080/"
    },
    "executionInfo": {
     "elapsed": 12,
     "status": "ok",
     "timestamp": 1676896948610,
     "user": {
      "displayName": "전창민",
      "userId": "04793944019518067714"
     },
     "user_tz": -540
    },
    "id": "wg-wCwr--rXA",
    "outputId": "3c9a07a2-a458-4466-f7ae-085ec2862a49"
   },
   "outputs": [
    {
     "data": {
      "text/plain": [
       "{'apple': 123456, 0: 2, 3.14: 1}"
      ]
     },
     "execution_count": 8,
     "metadata": {},
     "output_type": "execute_result"
    }
   ],
   "source": [
    "mydict"
   ]
  },
  {
   "cell_type": "markdown",
   "metadata": {
    "id": "cjvmm9E3-uYX"
   },
   "source": [
    "dict에서 값을 바꾸기"
   ]
  },
  {
   "cell_type": "code",
   "execution_count": null,
   "metadata": {
    "id": "FpRoFoNX-r9Q"
   },
   "outputs": [],
   "source": [
    "mydict['apple'] = 'byebye'"
   ]
  },
  {
   "cell_type": "code",
   "execution_count": null,
   "metadata": {
    "colab": {
     "base_uri": "https://localhost:8080/"
    },
    "executionInfo": {
     "elapsed": 3,
     "status": "ok",
     "timestamp": 1676896948980,
     "user": {
      "displayName": "전창민",
      "userId": "04793944019518067714"
     },
     "user_tz": -540
    },
    "id": "g7ypKEPS-2yu",
    "outputId": "ac92d55d-c2ee-4934-d56c-cc4e3906062d"
   },
   "outputs": [
    {
     "data": {
      "text/plain": [
       "{'apple': 'byebye', 0: 2, 3.14: 1}"
      ]
     },
     "execution_count": 10,
     "metadata": {},
     "output_type": "execute_result"
    }
   ],
   "source": [
    "mydict"
   ]
  },
  {
   "cell_type": "code",
   "execution_count": null,
   "metadata": {
    "colab": {
     "base_uri": "https://localhost:8080/"
    },
    "executionInfo": {
     "elapsed": 252,
     "status": "ok",
     "timestamp": 1676896988279,
     "user": {
      "displayName": "전창민",
      "userId": "04793944019518067714"
     },
     "user_tz": -540
    },
    "id": "kEjLiwMT2B29",
    "outputId": "80f2c4cf-8f78-48f0-fa63-fefec98cc2c2"
   },
   "outputs": [
    {
     "data": {
      "text/plain": [
       "{'apple': 'byebye', 0: 2, 3.14: 1, 'c': [2, 3, 4]}"
      ]
     },
     "execution_count": 12,
     "metadata": {},
     "output_type": "execute_result"
    }
   ],
   "source": [
    "# value에 리스트넣기도 가능하지만 권장하지는 않음\n",
    "mydict['c'] = [2, 3, 4]\n",
    "mydict"
   ]
  },
  {
   "cell_type": "markdown",
   "metadata": {
    "id": "FdNdN2hw-_cs"
   },
   "source": [
    "길이 파악하기"
   ]
  },
  {
   "cell_type": "code",
   "execution_count": null,
   "metadata": {
    "colab": {
     "base_uri": "https://localhost:8080/"
    },
    "executionInfo": {
     "elapsed": 4,
     "status": "ok",
     "timestamp": 1676882490615,
     "user": {
      "displayName": "전창민",
      "userId": "04793944019518067714"
     },
     "user_tz": -540
    },
    "id": "MGKoAqz5-5EQ",
    "outputId": "c4fb043e-2afc-414e-b14f-0ca077e60677"
   },
   "outputs": [
    {
     "data": {
      "text/plain": [
       "3"
      ]
     },
     "execution_count": 158,
     "metadata": {},
     "output_type": "execute_result"
    }
   ],
   "source": [
    "len(mydict)"
   ]
  }
 ],
 "metadata": {
  "colab": {
   "authorship_tag": "ABX9TyMtSw/avoNkfCapji6tk2Sf",
   "provenance": []
  },
  "kernelspec": {
   "display_name": "Python 3 (ipykernel)",
   "language": "python",
   "name": "python3"
  },
  "language_info": {
   "codemirror_mode": {
    "name": "ipython",
    "version": 3
   },
   "file_extension": ".py",
   "mimetype": "text/x-python",
   "name": "python",
   "nbconvert_exporter": "python",
   "pygments_lexer": "ipython3",
   "version": "3.9.7"
  }
 },
 "nbformat": 4,
 "nbformat_minor": 1
}
