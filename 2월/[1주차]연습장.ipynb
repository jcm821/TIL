{
 "cells": [
  {
   "cell_type": "code",
   "execution_count": 2,
   "id": "3e1c5ed8",
   "metadata": {},
   "outputs": [
    {
     "name": "stdout",
     "output_type": "stream",
     "text": [
      "[4, 8, 12, 16, 20, 24, 28, 32, 36, 40, 44, 48, 52, 56, 60, 64, 68, 72, 76, 80, 84, 88, 92, 96, 100]"
     ]
    }
   ],
   "source": [
    "# list comprehension\n",
    "fourT = [i for i in range(1, 101) if i % 4 ==0]\n",
    "print(fourT, end ='')"
   ]
  },
  {
   "cell_type": "code",
   "execution_count": 3,
   "id": "f23d2fca",
   "metadata": {},
   "outputs": [
    {
     "name": "stdout",
     "output_type": "stream",
     "text": [
      "['Twenty-two', 'rescuers', 'responded,', 'and', 'the', 'survivors', 'were', 'escorted', 'back', 'to', 'the', 'trailhead.']\n"
     ]
    }
   ],
   "source": [
    "script = 'Twenty-two rescuers responded, and the survivors were escorted back to the trailhead.'\n",
    "temp = script.split(' ')\n",
    "print(temp)"
   ]
  },
  {
   "cell_type": "code",
   "execution_count": 6,
   "id": "efff3f7e",
   "metadata": {},
   "outputs": [
    {
     "name": "stdout",
     "output_type": "stream",
     "text": [
      "['Twenty', 'two']\n"
     ]
    }
   ],
   "source": [
    "temp1 = temp[0].split('-')\n",
    "print(temp1)\n",
    "    "
   ]
  },
  {
   "cell_type": "code",
   "execution_count": 10,
   "id": "6751a02b",
   "metadata": {},
   "outputs": [
    {
     "data": {
      "text/plain": [
       "['Twenty',\n",
       " 'two',\n",
       " 'rescuers',\n",
       " 'responded,',\n",
       " 'and',\n",
       " 'the',\n",
       " 'survivors',\n",
       " 'were',\n",
       " 'escorted',\n",
       " 'back',\n",
       " 'to',\n",
       " 'the',\n",
       " 'trailhead.']"
      ]
     },
     "execution_count": 10,
     "metadata": {},
     "output_type": "execute_result"
    }
   ],
   "source": [
    "script = 'Twenty-two rescuers responded, and the survivors were escorted back to the trailhead.'\n",
    "temp = script.split(' ')\n",
    "temp1 = temp[0].split('-')\n",
    "temp.remove(temp[0])\n",
    "for i, word in enumerate(temp1):\n",
    "    pos = 0\n",
    "    temp.insert(i + pos, word)\n",
    "    i += 1\n",
    "temp"
   ]
  },
  {
   "cell_type": "code",
   "execution_count": 11,
   "id": "418a7a1c",
   "metadata": {},
   "outputs": [
    {
     "name": "stdout",
     "output_type": "stream",
     "text": [
      "0 Twenty\n",
      "1 two\n",
      "2 rescuers\n"
     ]
    }
   ],
   "source": [
    "myList = ['Twenty','two','rescuers']\n",
    "for i, word in enumerate(myList):\n",
    "    print(i, word)"
   ]
  },
  {
   "cell_type": "code",
   "execution_count": 12,
   "id": "8738d22f",
   "metadata": {
    "scrolled": true
   },
   "outputs": [
    {
     "name": "stdout",
     "output_type": "stream",
     "text": [
      "     *\n",
      "    ***\n",
      "   *****\n",
      "  *******\n",
      " *********\n",
      "***********\n",
      " *********\n",
      "  *******\n",
      "   *****\n",
      "    ***\n",
      "     *\n"
     ]
    }
   ],
   "source": [
    "# 속이 꽉 찬 마름모\n",
    "for i in range(6):\n",
    "    print(' ' * (5 - i) + '*' * (2*i + 1))\n",
    "\n",
    "for i in range(4, -1, -1):\n",
    "    print(' ' * (5 - i) + '*' * (2*i + 1))"
   ]
  },
  {
   "cell_type": "code",
   "execution_count": 14,
   "id": "6666de86",
   "metadata": {},
   "outputs": [
    {
     "name": "stdout",
     "output_type": "stream",
     "text": [
      "     *\n",
      "    ***\n",
      "   *****\n",
      "  *******\n",
      " *********\n",
      "***********\n",
      " *********\n",
      "  *******\n",
      "   *****\n",
      "    ***\n",
      "     *\n"
     ]
    }
   ],
   "source": [
    "def makeDiamond(size):\n",
    "    for i in range(size):\n",
    "        print(' ' * (size - i) + '*' * (2*i + 1))\n",
    "\n",
    "    for i in range(size, -1, -1):\n",
    "        print(' ' * (size - i) + '*' * (2*i + 1))\n",
    "makeDiamond(5)"
   ]
  },
  {
   "cell_type": "code",
   "execution_count": 25,
   "id": "851ae3fa",
   "metadata": {},
   "outputs": [
    {
     "name": "stdout",
     "output_type": "stream",
     "text": [
      "     * \n",
      "    * *\n",
      "   *   *\n",
      "  *     *\n",
      " *       *\n",
      "*         *\n",
      " *       *\n",
      "  *     *\n",
      "   *   *\n",
      "    * *\n",
      "     * \n"
     ]
    }
   ],
   "source": [
    "# 속이 빈 마름모\n",
    "for i in range(6):\n",
    "    if i != 0:\n",
    "        space = 2*i - 1\n",
    "        half = ' '* space + '*'\n",
    "    else:\n",
    "        half = ' '\n",
    "    print(' ' * (5 - i) + '*' + half)\n",
    "    \n",
    "for i in range(4, -1, -1):\n",
    "    if i != 0:\n",
    "        space = 2*i - 1\n",
    "        half = ' ' * space + '*'\n",
    "    else:\n",
    "        half = ' '\n",
    "    print(' '* (5 - i) + '*' + half)\n",
    "        "
   ]
  },
  {
   "cell_type": "code",
   "execution_count": 27,
   "id": "4ed8faf1",
   "metadata": {},
   "outputs": [
    {
     "name": "stdout",
     "output_type": "stream",
     "text": [
      "     * \n",
      "    * *\n",
      "   *   *\n",
      "  *     *\n",
      " *       *\n",
      "*         *\n",
      " *       *\n",
      "  *     *\n",
      "   *   *\n",
      "    * *\n",
      "     * \n"
     ]
    }
   ],
   "source": [
    "def makeDiamon(size):\n",
    "    for i in range(size + 1):\n",
    "        if i != 0:\n",
    "            space = 2*i - 1\n",
    "            half = ' ' * space + '*'\n",
    "        else:\n",
    "            half = ' '\n",
    "        print(' ' * (size - i) + '*' + half)\n",
    "    \n",
    "    for i in range(size - 1, -1, -1):\n",
    "        if i != 0:\n",
    "            space = 2*i - 1\n",
    "            half = ' ' * space + '*'\n",
    "        else:\n",
    "            half = ' '\n",
    "        print(' ' * (size - i) + '*' + half)\n",
    "makeDiamon(5)"
   ]
  },
  {
   "cell_type": "code",
   "execution_count": 1,
   "id": "818d0555",
   "metadata": {},
   "outputs": [],
   "source": [
    "# 카페 시뮬레이터\n",
    "# 1, 메뉴를 출력한다\n",
    "# 2. 주문을 받는다(input을 이용하여 키보드를 통해 번호 입력)\n",
    "# 3. 음료를 만드는데 시간 부여(sleep()함수 사용하여 시간을 지정)\n",
    "# 4. 음료가 만들어지면 log.txt파일에 결과 출력(누적)\n"
   ]
  },
  {
   "cell_type": "code",
   "execution_count": 41,
   "id": "15ed7476",
   "metadata": {},
   "outputs": [
    {
     "name": "stdout",
     "output_type": "stream",
     "text": [
      "==================\n",
      "1.아메리카노\n",
      "2.카페라떼\n",
      "3.바닐라라떼\n",
      "4.녹차라떼\n",
      "5.콜드브루\n",
      "==================\n"
     ]
    }
   ],
   "source": [
    "# 1. 메뉴를 출력하기위해 메뉴판 작성 함수를 만든다\n",
    "def printMenu():\n",
    "    print('==================')\n",
    "    print('1.아메리카노')\n",
    "    print('2.카페라떼')\n",
    "    print('3.바닐라라떼')\n",
    "    print('4.녹차라떼')\n",
    "    print('5.콜드브루')\n",
    "    print('==================')\n",
    "    \n",
    "printMenu()"
   ]
  },
  {
   "cell_type": "code",
   "execution_count": 42,
   "id": "fea2e90e",
   "metadata": {},
   "outputs": [],
   "source": [
    "# 2. 주문 입력을 위한 입력문 만들기\n",
    "# 입력 받을 때는 문자열인데, int()함수를 사용해서 데이터 형을 정수로 변경\n",
    "# 메뉴에는 보이지 않는 'exit'문자열을 입력으로 받으면 프로그램을 종료\n",
    "def inputKey():\n",
    "    opened = True\n",
    "    myinput = input()\n",
    "    if myinput != 'exit':\n",
    "        inputMenu = int(myinput)\n",
    "    else:\n",
    "        opened = False\n",
    "        inputMenu = None\n",
    "    \n",
    "    return opened, inputMenu"
   ]
  },
  {
   "cell_type": "code",
   "execution_count": 43,
   "id": "84e7a31f",
   "metadata": {},
   "outputs": [],
   "source": [
    "# 2-1. 입력값을 랜덤한 난수로 받고자 할 때\n",
    "# input()함수를 대신해서 1~5사이의 메뉴번호를 자동으로 입력하게 만들 수 있다\n",
    "import random\n",
    "def autoKey():\n",
    "    inputMenu = random.randrange(1, 6)\n",
    "    \n",
    "    return inputMenu"
   ]
  },
  {
   "cell_type": "code",
   "execution_count": 44,
   "id": "bc7c3392",
   "metadata": {},
   "outputs": [],
   "source": [
    "# 3. 커피 만드는 시간 모델링\n",
    "import time\n",
    "\n",
    "def makeCoffee(menuNum):\n",
    "    if menuNum == 1:\n",
    "        time.sleep(1)\n",
    "    elif menuNum == 2:\n",
    "        time.sleep(2)\n",
    "    elif menuNum == 3:\n",
    "        time.sleep(3)\n",
    "    elif menuNum == 4:\n",
    "        time.sleep(3)\n",
    "    elif menuNum == 5:\n",
    "        time.sleep(1)\n",
    "        \n",
    "    return menuNum\n",
    "    \n",
    "        "
   ]
  },
  {
   "cell_type": "code",
   "execution_count": 45,
   "id": "60eb478f",
   "metadata": {},
   "outputs": [],
   "source": [
    "# 4. 프로그램이 새롭게 시작되면 기존 로그는 지우고 새롭게 저장\n",
    "# 또한, 파일을 열러 로그를 추가해주는 함수를 만들어준다.\n",
    "def newLog():\n",
    "    f = open('./log.txt', 'w', encoding = 'utf-8')\n",
    "    f.close()\n",
    "\n",
    "def writeLog(makedCoffee):\n",
    "    f = open('./log.txt', 'a', encoding = 'utf-8')\n",
    "    f.write('주문하신 {}가 완성되었습니다\\n'.format(menuDict[makedCoffee]))\n",
    "    \n"
   ]
  },
  {
   "cell_type": "code",
   "execution_count": 46,
   "id": "23ba658d",
   "metadata": {},
   "outputs": [
    {
     "name": "stdout",
     "output_type": "stream",
     "text": [
      "==================\n",
      "1.아메리카노\n",
      "2.카페라떼\n",
      "3.바닐라라떼\n",
      "4.녹차라떼\n",
      "5.콜드브루\n",
      "==================\n",
      "1\n",
      "==================\n",
      "1.아메리카노\n",
      "2.카페라떼\n",
      "3.바닐라라떼\n",
      "4.녹차라떼\n",
      "5.콜드브루\n",
      "==================\n",
      "2\n",
      "==================\n",
      "1.아메리카노\n",
      "2.카페라떼\n",
      "3.바닐라라떼\n",
      "4.녹차라떼\n",
      "5.콜드브루\n",
      "==================\n",
      "3\n",
      "==================\n",
      "1.아메리카노\n",
      "2.카페라떼\n",
      "3.바닐라라떼\n",
      "4.녹차라떼\n",
      "5.콜드브루\n",
      "==================\n",
      "exit\n"
     ]
    }
   ],
   "source": [
    "import time\n",
    "\n",
    "opened = True\n",
    "\n",
    "menuDict = {1:'아메리카노', 2:'카페라떼', 3:'바닐라라떼', 4:'녹차라떼', 5:'콜드브루'}\n",
    "\n",
    "newLog()\n",
    "\n",
    "while True:\n",
    "    \n",
    "    # 1. 메뉴 출력하기\n",
    "    printMenu()\n",
    "    \n",
    "    # 2. 주문을 받음\n",
    "    opened, inputMenu = inputKey()\n",
    "    # 만약 autokey를 사용할 때s\n",
    "    # inputMenu = autoKey()만 실행해주면 된다\n",
    "    \n",
    "    # 2-1. 키보드로부터 'exit'가 들어오면 프로그램 종료\n",
    "    if opened == False:\n",
    "        break\n",
    "        \n",
    "    # 3. 커피만들기(실제로는 커피 만드는 시간 모델링)\n",
    "    makedCoffee = makeCoffee(inputMenu)\n",
    "    \n",
    "    # 4. 완성된 커피로그를 log.txt에 기록 님기기\n",
    "    writeLog(makedCoffee)\n",
    "    \n",
    "    "
   ]
  },
  {
   "cell_type": "code",
   "execution_count": 48,
   "id": "e7ce61b9",
   "metadata": {},
   "outputs": [
    {
     "name": "stdout",
     "output_type": "stream",
     "text": [
      "==================\n",
      "1.아메리카노\n",
      "2.카페라떼\n",
      "3.바닐라라떼\n",
      "4.녹차라떼\n",
      "5.콜드브루\n",
      "==================\n",
      "==================\n",
      "1.아메리카노\n",
      "2.카페라떼\n",
      "3.바닐라라떼\n",
      "4.녹차라떼\n",
      "5.콜드브루\n",
      "==================\n",
      "==================\n",
      "1.아메리카노\n",
      "2.카페라떼\n",
      "3.바닐라라떼\n",
      "4.녹차라떼\n",
      "5.콜드브루\n",
      "==================\n",
      "==================\n",
      "1.아메리카노\n",
      "2.카페라떼\n",
      "3.바닐라라떼\n",
      "4.녹차라떼\n",
      "5.콜드브루\n",
      "==================\n",
      "==================\n",
      "1.아메리카노\n",
      "2.카페라떼\n",
      "3.바닐라라떼\n",
      "4.녹차라떼\n",
      "5.콜드브루\n",
      "==================\n"
     ]
    },
    {
     "ename": "KeyboardInterrupt",
     "evalue": "",
     "output_type": "error",
     "traceback": [
      "\u001b[1;31m---------------------------------------------------------------------------\u001b[0m",
      "\u001b[1;31mKeyboardInterrupt\u001b[0m                         Traceback (most recent call last)",
      "Cell \u001b[1;32mIn [48], line 25\u001b[0m\n\u001b[0;32m     22\u001b[0m     \u001b[38;5;28;01mbreak\u001b[39;00m\n\u001b[0;32m     24\u001b[0m \u001b[38;5;66;03m# 3. 커피만들기(실제로는 커피 만드는 시간 모델링)\u001b[39;00m\n\u001b[1;32m---> 25\u001b[0m makedCoffee \u001b[38;5;241m=\u001b[39m \u001b[43mmakeCoffee\u001b[49m\u001b[43m(\u001b[49m\u001b[43minputMenu\u001b[49m\u001b[43m)\u001b[49m\n\u001b[0;32m     27\u001b[0m \u001b[38;5;66;03m# 4. 완성된 커피로그를 log.txt에 기록 님기기\u001b[39;00m\n\u001b[0;32m     28\u001b[0m writeLog(makedCoffee)\n",
      "Cell \u001b[1;32mIn [44], line 12\u001b[0m, in \u001b[0;36mmakeCoffee\u001b[1;34m(menuNum)\u001b[0m\n\u001b[0;32m     10\u001b[0m     time\u001b[38;5;241m.\u001b[39msleep(\u001b[38;5;241m3\u001b[39m)\n\u001b[0;32m     11\u001b[0m \u001b[38;5;28;01melif\u001b[39;00m menuNum \u001b[38;5;241m==\u001b[39m \u001b[38;5;241m4\u001b[39m:\n\u001b[1;32m---> 12\u001b[0m     \u001b[43mtime\u001b[49m\u001b[38;5;241;43m.\u001b[39;49m\u001b[43msleep\u001b[49m\u001b[43m(\u001b[49m\u001b[38;5;241;43m3\u001b[39;49m\u001b[43m)\u001b[49m\n\u001b[0;32m     13\u001b[0m \u001b[38;5;28;01melif\u001b[39;00m menuNum \u001b[38;5;241m==\u001b[39m \u001b[38;5;241m5\u001b[39m:\n\u001b[0;32m     14\u001b[0m     time\u001b[38;5;241m.\u001b[39msleep(\u001b[38;5;241m1\u001b[39m)\n",
      "\u001b[1;31mKeyboardInterrupt\u001b[0m: "
     ]
    }
   ],
   "source": [
    "# autokey 사용\n",
    "import time\n",
    "\n",
    "opened = True\n",
    "\n",
    "menuDict = {1:'아메리카노', 2:'카페라떼', 3:'바닐라라떼', 4:'녹차라떼', 5:'콜드브루'}\n",
    "\n",
    "newLog()\n",
    "\n",
    "while True:\n",
    "    \n",
    "    # 1. 메뉴 출력하기\n",
    "    printMenu()\n",
    "    \n",
    "    # 2. 주문을 받음\n",
    "    inputMenu = autoKey()\n",
    "    # 만약 autokey를 사용할 때s\n",
    "    # inputMenu = autoKey()만 실행해주면 된다\n",
    "    \n",
    "    # 2-1. 키보드로부터 'exit'가 들어오면 프로그램 종료\n",
    "    if opened == False:\n",
    "        break\n",
    "        \n",
    "    # 3. 커피만들기(실제로는 커피 만드는 시간 모델링)\n",
    "    makedCoffee = makeCoffee(inputMenu)\n",
    "    \n",
    "    # 4. 완성된 커피로그를 log.txt에 기록 님기기\n",
    "    writeLog(makedCoffee)\n",
    "    "
   ]
  },
  {
   "cell_type": "code",
   "execution_count": null,
   "id": "50a2c2f3",
   "metadata": {},
   "outputs": [],
   "source": [
    "import time\n",
    "\n",
    "# 클래스 생성\n",
    "class cafeSim:\n",
    "    # 생성자 __init__함수를 통해 초기값 설정 및 초기화 \n",
    "    # def setInfo(self, cafeName, cafeOpenTime, cafeCloseTime):\n",
    "    def __init__(self, cafeName, cafeOpenTime, cafeCloseTime):\n",
    "        self.cafeName = cafeName\n",
    "        self.cafeOpenTime = cafeOpenTime\n",
    "        self.cafeCloseTime = cafeCloseTime\n",
    "        # 객체 파일 생성시 파일을 초기화 하기 위해 생성자 함수에 newLog함수를 넣어준다\n",
    "        self.newLog()\n",
    "    \n",
    "    # 카페 정보를 출력해주는 멤버함수\n",
    "    def printInfo(self):\n",
    "        print('카페이름: {}'.format(self.cafeName))\n",
    "        print('카페시작시간: {}'.format(self.cafeOpenTime))\n",
    "        print('카페마감시간: {}'.format(self.cafeCloseTime))\n",
    "    \n",
    "    def getInfo(self):\n",
    "        return self.cafeName, self.cafeOpenTime, self.cafeCloseTime\n",
    "    \n",
    "    # 카페 메뉴 풀력해주는 멤버함수\n",
    "    def printMenu(self):\n",
    "        print('===================')\n",
    "        print('1.아메리카노')\n",
    "        print('2. 카페라떼')\n",
    "        print('3. 바닐라라떼')\n",
    "        print('4. 녹차라떼')\n",
    "        print('5. 콜드브루')\n",
    "        print('===================')\n",
    "        \n",
    "    # 주문번호 입력 멤버함수(autokey함수를 사용함)\n",
    "    def autokey(self):\n",
    "        import random\n",
    "        self.inputMenu = random.randrange(1, 6)\n",
    "        self.done = False\n",
    "        print(self.inputMenu)\n",
    "        \n",
    "    # 커피 소요시간을 해주는 멤버함수\n",
    "    \n",
    "    def makeCoffee(self):\n",
    "        if inputMenu == 1:\n",
    "            time.sleep(1)\n",
    "        elif inputMenu == 2:\n",
    "            time.sleep(2)\n",
    "        elif inputMenu == 3:\n",
    "            time.sleep(3)\n",
    "        elif inputMenu == 4:\n",
    "            time.sleep(3)\n",
    "        elif inputMenu == 5:\n",
    "            time.sleep(1)\n",
    "            \n",
    "    # 커피 주문 정보를 남기기위한 멤버함수들\n",
    "    import time\n",
    "    def newLog(self):\n",
    "        f.open('./log.txt', 'w', encoding = 'utf-8')\n",
    "        f.close()\n",
    "    \n",
    "    def writeLog(self):\n",
    "        f.open('./log.txt', 'a', encoding = 'utf-8')\n",
    "        f.write('주문하신 {}가 완성되었습니다!\\n'.format(menuDict[self.inputMenu]))\n",
    "        f.close()\n",
    "    \n",
    "                \n",
    "\n",
    "\n",
    "    \n",
    "cafeName1 = '오늘'\n",
    "cafeOpenTime1 = '9:00'\n",
    "cafeCloseTime1 = '21:00'\n",
    "\n",
    "cafeName2 = \"내일\"\n",
    "cafeOpenTime2 = \"10:00\"\n",
    "cafeCloseTime2 = \"20:00\"\n",
    "\n",
    "# 클래스의 객체 생성(__init__생성자 함수 호출한다. 아래와 같이 클래스에 초기값을 입력해주면 된다)\n",
    "myCafe = cafeSim(cafeName1, cafeOpenTime1, cafeCloseTime1)\n",
    "yourCafe = cafeSim(cafeName2, cafeOpenTime2, cafeCloseTime2)\n",
    "# myCafe.setInfo(cafeName, cafeOpenTime, cafeCloseTime)\n",
    "# 카페정보 입력하기\n",
    "myCafe.printInfo()\n",
    "myCafe.printMenu()\n",
    "\n",
    "\n",
    "\n",
    "# 클래스를 바탕으로 로그를 남기는 절차를 진행해본다\n",
    "# 이때 클래스.멤버함수의 형태로 입력을 해야 실행이 정상적으로 된다\n",
    "opened = True\n",
    "menuDict = {1:'아메리카노', 2:'카페라떼', 3:'녹차라떼', 4:'녹차라떼', 5:'콜드브루'}\n",
    "\n",
    "while True:\n",
    "    # 1.메뉴 툴력하기\n",
    "    myCafe.printMenu()\n",
    "    \n",
    "    # 2. 주문을 받는다\n",
    "    myCafe.autokey()\n",
    "    \n",
    "    # 3. 커피 만들기(커피 만드는 소요시간 모델링)\n",
    "    myCafe.makeCoffee()\n",
    "    \n",
    "    # 4. 커피가 완성되면 log.txt에 기록 남기기\n",
    "    myCafe.writeLog()"
   ]
  },
  {
   "cell_type": "code",
   "execution_count": 77,
   "id": "28a57058",
   "metadata": {},
   "outputs": [],
   "source": [
    "# 클래스의 상속\n",
    "class calc:\n",
    "    # 객체가 생성될 때 init함수 호출\n",
    "    # 클래스의 객체를 사용하기 전에 초기화\n",
    "    def __init__(self):\n",
    "        self.first = 0\n",
    "        self.second = 0\n",
    "    # 본 클래스에서 setdata()함수를 별도로 만든 이유는 \n",
    "    # add(), sub(), mul(), div()함수에서 참조할 수 있다라는 것을 설명하기 위함이다\n",
    "    def setdata(self, first, second):\n",
    "        self.first = first\n",
    "        self.second = second\n",
    "        \n",
    "    def add(self):\n",
    "        result = self.first + self.second\n",
    "        return result\n",
    "    \n",
    "    def sub(self):\n",
    "        result = self.first - self.second\n",
    "        return result\n",
    "    \n",
    "    def mul(self):\n",
    "        result = self.first * self.second\n",
    "        return result\n",
    "    \n",
    "    def div(self):\n",
    "        result = self.first / self.second\n",
    "        return result\n",
    "    "
   ]
  },
  {
   "cell_type": "code",
   "execution_count": 78,
   "id": "80f6c4df",
   "metadata": {},
   "outputs": [
    {
     "name": "stdout",
     "output_type": "stream",
     "text": [
      "446\n",
      "-400\n",
      "9729\n",
      "0.054373522458628844\n"
     ]
    }
   ],
   "source": [
    "myCal = calc()\n",
    "myCal.setdata(23,423)\n",
    "print(myCal.add())\n",
    "print(myCal.sub())\n",
    "print(myCal.mul())\n",
    "print(myCal.div())"
   ]
  },
  {
   "cell_type": "code",
   "execution_count": 80,
   "id": "4dc611e2",
   "metadata": {},
   "outputs": [],
   "source": [
    "# 클래스 상속\n",
    "# calc클래스를 nextCalc로 상속받겠다는 의미\n",
    "# nextCal에서 사용할 수 있는 함수의 개수는 7 -> calc(6) + nextCal(1)\n",
    "class nextCal(calc):\n",
    "    # 멤버변수만 하나 추가\n",
    "    def pow(self):\n",
    "        result = self.first ** self.second\n",
    "        return result\n",
    "    "
   ]
  },
  {
   "cell_type": "code",
   "execution_count": 82,
   "id": "a120d36b",
   "metadata": {},
   "outputs": [
    {
     "name": "stdout",
     "output_type": "stream",
     "text": [
      "2025\n"
     ]
    }
   ],
   "source": [
    "myCal2 = nextCal()\n",
    "myCal2.setdata(45,2)\n",
    "print(myCal2.pow())"
   ]
  },
  {
   "cell_type": "code",
   "execution_count": 84,
   "id": "2a6d4905",
   "metadata": {},
   "outputs": [
    {
     "ename": "ZeroDivisionError",
     "evalue": "division by zero",
     "output_type": "error",
     "traceback": [
      "\u001b[1;31m---------------------------------------------------------------------------\u001b[0m",
      "\u001b[1;31mZeroDivisionError\u001b[0m                         Traceback (most recent call last)",
      "Cell \u001b[1;32mIn [84], line 3\u001b[0m\n\u001b[0;32m      1\u001b[0m \u001b[38;5;66;03m# 오버라이딩\u001b[39;00m\n\u001b[0;32m      2\u001b[0m myCal\u001b[38;5;241m.\u001b[39msetdata(\u001b[38;5;241m2\u001b[39m,\u001b[38;5;241m0\u001b[39m)\n\u001b[1;32m----> 3\u001b[0m \u001b[38;5;28mprint\u001b[39m(\u001b[43mmyCal\u001b[49m\u001b[38;5;241;43m.\u001b[39;49m\u001b[43mdiv\u001b[49m\u001b[43m(\u001b[49m\u001b[43m)\u001b[49m)\n",
      "Cell \u001b[1;32mIn [77], line 27\u001b[0m, in \u001b[0;36mcalc.div\u001b[1;34m(self)\u001b[0m\n\u001b[0;32m     26\u001b[0m \u001b[38;5;28;01mdef\u001b[39;00m \u001b[38;5;21mdiv\u001b[39m(\u001b[38;5;28mself\u001b[39m):\n\u001b[1;32m---> 27\u001b[0m     result \u001b[38;5;241m=\u001b[39m \u001b[38;5;28;43mself\u001b[39;49m\u001b[38;5;241;43m.\u001b[39;49m\u001b[43mfirst\u001b[49m\u001b[43m \u001b[49m\u001b[38;5;241;43m/\u001b[39;49m\u001b[43m \u001b[49m\u001b[38;5;28;43mself\u001b[39;49m\u001b[38;5;241;43m.\u001b[39;49m\u001b[43msecond\u001b[49m\n\u001b[0;32m     28\u001b[0m     \u001b[38;5;28;01mreturn\u001b[39;00m result\n",
      "\u001b[1;31mZeroDivisionError\u001b[0m: division by zero"
     ]
    }
   ],
   "source": [
    "# 오버# 리눅라이딩\n",
    "myCal.setdata(2,0)\n",
    "print(myCal.div())"
   ]
  },
  {
   "cell_type": "code",
   "execution_count": 85,
   "id": "7bb3170d",
   "metadata": {},
   "outputs": [],
   "source": [
    "class safeCal(calc):\n",
    "    def div(self):\n",
    "        if self.second == 0:\n",
    "            return 0\n",
    "        # second가 0인경우 나눌수 없지만 0을 반환갑스로 전달\n",
    "        else:\n",
    "            return self.first / self.second"
   ]
  },
  {
   "cell_type": "code",
   "execution_count": 87,
   "id": "ca3c34c9",
   "metadata": {},
   "outputs": [
    {
     "name": "stdout",
     "output_type": "stream",
     "text": [
      "0\n"
     ]
    }
   ],
   "source": [
    "myCal3 = safeCal()\n",
    "myCal3.setdata(3,0)\n",
    "print(myCal3.div())"
   ]
  },
  {
   "cell_type": "code",
   "execution_count": 1,
   "id": "19b75638",
   "metadata": {},
   "outputs": [
    {
     "name": "stdout",
     "output_type": "stream",
     "text": [
      "/c/Users/chunc/Desktop/痍⑥뾽罹좏봽/python-20230220T004050Z-001/python/蹂듭뒿/2�썡\n"
     ]
    }
   ],
   "source": [
    "# 리눅스 명령어 연습\n",
    "# 1. 파일 생성\n",
    "# 현재 디렉토리 확인\n",
    "!pwd"
   ]
  },
  {
   "cell_type": "code",
   "execution_count": 2,
   "id": "d4137163",
   "metadata": {},
   "outputs": [],
   "source": [
    "# 파일생성 touch\n",
    "!touch a.txt"
   ]
  },
  {
   "cell_type": "code",
   "execution_count": 3,
   "id": "a0fe2737",
   "metadata": {},
   "outputs": [
    {
     "name": "stdout",
     "output_type": "stream",
     "text": [
      "[2023-02-20]1�씪李� 蹂듭뒿.ipynb\n",
      "[2023-02-21]2�씪李� 蹂듭뒿.ipynb\n",
      "[2023-02-21]2�씪李� �떎�뒿�삁�젣.ipynb\n",
      "[2023-02-22] �궗吏꾨뜲�씠�꽣瑜� �씠�슜�븳 �뜲�씠�꽣 �쟾泥섎━ 諛� 遺꾨쪟 �떎�뒿�뿰�뒿.ipynb\n",
      "[2023-02-22]3�씪李� 蹂듭뒿.ipynb\n",
      "[2023-02-23] �냽�씠 鍮� 留덈쫫紐� 留뚮뱾湲�.ipynb\n",
      "[2023-02-23]4�씪李� 蹂듭뒿.ipynb\n",
      "[2023-02-24]5�씪李� 蹂듭뒿.ipynb\n",
      "a.txt\n",
      "log.txt\n",
      "readme1.txt\n",
      "�뿰�뒿�옣.ipynb\n"
     ]
    }
   ],
   "source": [
    "# 파일 생성여부 확인\n",
    "!ls"
   ]
  },
  {
   "cell_type": "code",
   "execution_count": 2,
   "id": "989e90df",
   "metadata": {},
   "outputs": [
    {
     "name": "stdout",
     "output_type": "stream",
     "text": [
      "*\n",
      "**\n",
      "***\n",
      "****\n",
      "*****\n"
     ]
    }
   ],
   "source": [
    "# 별그리기 예제\n",
    "starCount = 5\n",
    "for i in range(1, starCount+ 1):\n",
    "    print('*' * i)\n",
    "    "
   ]
  },
  {
   "cell_type": "code",
   "execution_count": 3,
   "id": "42ed63f1",
   "metadata": {},
   "outputs": [
    {
     "name": "stdout",
     "output_type": "stream",
     "text": [
      "10\n",
      "**********\n",
      "*********\n",
      "********\n",
      "*******\n",
      "******\n",
      "*****\n",
      "****\n",
      "***\n",
      "**\n",
      "*\n"
     ]
    }
   ],
   "source": [
    "# 거꾸로\n",
    "starCount = int(input())\n",
    "for i in range(starCount, 0, -1):\n",
    "    print('*' * i)"
   ]
  },
  {
   "cell_type": "code",
   "execution_count": 9,
   "id": "b9bb5ce9",
   "metadata": {},
   "outputs": [
    {
     "name": "stdout",
     "output_type": "stream",
     "text": [
      "5\n",
      "     *\n",
      "    **\n",
      "   ***\n",
      "  ****\n",
      " *****\n"
     ]
    }
   ],
   "source": [
    "starCount = int(input())\n",
    "for i in range(1, starCount + 1):\n",
    "    print(' ' * (starCount - i), '*'* i)\n",
    "    "
   ]
  },
  {
   "cell_type": "code",
   "execution_count": 10,
   "id": "eba93f3d",
   "metadata": {},
   "outputs": [
    {
     "name": "stdout",
     "output_type": "stream",
     "text": [
      "5\n",
      " *****\n",
      "  ****\n",
      "   ***\n",
      "    **\n",
      "     *\n"
     ]
    }
   ],
   "source": [
    "starCount = int(input())\n",
    "for i in range(starCount, 0, -1):\n",
    "    print(' ' * (starCount - i), '*' * i)"
   ]
  },
  {
   "cell_type": "code",
   "execution_count": 14,
   "id": "c5f311c7",
   "metadata": {},
   "outputs": [
    {
     "name": "stdout",
     "output_type": "stream",
     "text": [
      "7\n",
      "       *\n",
      "      ***\n",
      "     *****\n",
      "    *******\n",
      "   *********\n",
      "  ***********\n",
      " *************\n"
     ]
    }
   ],
   "source": [
    "starCount = int(input())\n",
    "for i in range(1, starCount + 1):\n",
    "    print(' ' * (starCount - i), '*' * (2*i - 1))"
   ]
  },
  {
   "cell_type": "code",
   "execution_count": 20,
   "id": "a07655cf",
   "metadata": {},
   "outputs": [
    {
     "name": "stdout",
     "output_type": "stream",
     "text": [
      "5\n",
      "     *\n",
      "    ***\n",
      "   *****\n",
      "  *******\n",
      " *********\n",
      " *********\n",
      "  *******\n",
      "   *****\n",
      "    ***\n",
      "     *\n"
     ]
    }
   ],
   "source": [
    "starCount = int(input())\n",
    "for i in range(starCount):\n",
    "    print(' ' * (starCount - i) + '*' * (2*i + 1))\n",
    "\n",
    "for i in range(starCount-1, -1, -1):\n",
    "    print(' ' * (starCount - i) + '*' * (2*i + 1))"
   ]
  },
  {
   "cell_type": "code",
   "execution_count": 29,
   "id": "4e6a6c56",
   "metadata": {},
   "outputs": [],
   "source": [
    "def myDia(starCount):\n",
    "    \n",
    "    for i in range(starCount + 1):\n",
    "        if i != 0:\n",
    "            space = 2*i - 1\n",
    "            half = ' ' * space + '*'\n",
    "        else:\n",
    "            half = ' '\n",
    "        print(' '* (starCount - i) + '*' + half)\n",
    "    \n",
    "    for i in range(starCount -1, -1, -1):\n",
    "        if i != 0:\n",
    "            space = 2*i - 1\n",
    "            half = ' ' * space + '*'\n",
    "        else:\n",
    "            half = ' '\n",
    "        print(' ' * (starCount - i) + '*' + half)\n"
   ]
  },
  {
   "cell_type": "code",
   "execution_count": 30,
   "id": "057f9426",
   "metadata": {},
   "outputs": [
    {
     "name": "stdout",
     "output_type": "stream",
     "text": [
      "     * \n",
      "    * *\n",
      "   *   *\n",
      "  *     *\n",
      " *       *\n",
      "*         *\n",
      " *       *\n",
      "  *     *\n",
      "   *   *\n",
      "    * *\n",
      "     * \n"
     ]
    }
   ],
   "source": [
    "myDia(5)"
   ]
  },
  {
   "cell_type": "code",
   "execution_count": 31,
   "id": "8bc6834c",
   "metadata": {},
   "outputs": [],
   "source": [
    "# 구구단\n",
    "def printGu(dan):\n",
    "    for i in range(1, 10):\n",
    "        print('{} X {} = {}'.format(dan, i, dan * i))"
   ]
  },
  {
   "cell_type": "code",
   "execution_count": 32,
   "id": "709e8523",
   "metadata": {},
   "outputs": [
    {
     "name": "stdout",
     "output_type": "stream",
     "text": [
      "6 X 1 = 6\n",
      "6 X 2 = 12\n",
      "6 X 3 = 18\n",
      "6 X 4 = 24\n",
      "6 X 5 = 30\n",
      "6 X 6 = 36\n",
      "6 X 7 = 42\n",
      "6 X 8 = 48\n",
      "6 X 9 = 54\n"
     ]
    }
   ],
   "source": [
    "printGu(6)"
   ]
  },
  {
   "cell_type": "code",
   "execution_count": 35,
   "id": "e51c7f28",
   "metadata": {},
   "outputs": [
    {
     "name": "stdout",
     "output_type": "stream",
     "text": [
      "2 X 1 =  0\t3 X 1 =  2\t4 X 1 =  4\t\n",
      "2 X 2 =  0\t3 X 2 =  4\t4 X 2 =  8\t\n",
      "2 X 3 =  0\t3 X 3 =  6\t4 X 3 = 12\t\n",
      "2 X 4 =  0\t3 X 4 =  8\t4 X 4 = 16\t\n",
      "2 X 5 =  0\t3 X 5 = 10\t4 X 5 = 20\t\n",
      "2 X 6 =  0\t3 X 6 = 12\t4 X 6 = 24\t\n",
      "2 X 7 =  0\t3 X 7 = 14\t4 X 7 = 28\t\n",
      "2 X 8 =  0\t3 X 8 = 16\t4 X 8 = 32\t\n",
      "2 X 9 =  0\t3 X 9 = 18\t4 X 9 = 36\t\n",
      "\n",
      "5 X 1 =  0\t6 X 1 =  5\t7 X 1 = 10\t\n",
      "5 X 2 =  0\t6 X 2 = 10\t7 X 2 = 20\t\n",
      "5 X 3 =  0\t6 X 3 = 15\t7 X 3 = 30\t\n",
      "5 X 4 =  0\t6 X 4 = 20\t7 X 4 = 40\t\n",
      "5 X 5 =  0\t6 X 5 = 25\t7 X 5 = 50\t\n",
      "5 X 6 =  0\t6 X 6 = 30\t7 X 6 = 60\t\n",
      "5 X 7 =  0\t6 X 7 = 35\t7 X 7 = 70\t\n",
      "5 X 8 =  0\t6 X 8 = 40\t7 X 8 = 80\t\n",
      "5 X 9 =  0\t6 X 9 = 45\t7 X 9 = 90\t\n",
      "\n",
      "8 X 1 =  0\t9 X 1 =  8\t\n",
      "8 X 2 =  0\t9 X 2 = 16\t\n",
      "8 X 3 =  0\t9 X 3 = 24\t\n",
      "8 X 4 =  0\t9 X 4 = 32\t\n",
      "8 X 5 =  0\t9 X 5 = 40\t\n",
      "8 X 6 =  0\t9 X 6 = 48\t\n",
      "8 X 7 =  0\t9 X 7 = 56\t\n",
      "8 X 8 =  0\t9 X 8 = 64\t\n",
      "8 X 9 =  0\t9 X 9 = 72\t\n",
      "\n"
     ]
    }
   ],
   "source": [
    "def printGug():\n",
    "    for i in range(2, 10, 3):\n",
    "        for k in range(1, 10):\n",
    "            for j in range(3):\n",
    "                if i + j > 9:\n",
    "                    break\n",
    "                else:\n",
    "                    print('{} X {} = {:2}'.format(i + j, k, (i * j) * k), end = '\\t')\n",
    "            print()\n",
    "        print()\n",
    "        \n",
    "printGug()"
   ]
  },
  {
   "cell_type": "code",
   "execution_count": 36,
   "id": "74fdf1ec",
   "metadata": {},
   "outputs": [
    {
     "name": "stdout",
     "output_type": "stream",
     "text": [
      "16\n"
     ]
    }
   ],
   "source": [
    "import os\n",
    "print(os.cpu_count())"
   ]
  },
  {
   "cell_type": "code",
   "execution_count": 37,
   "id": "ae7abb49",
   "metadata": {},
   "outputs": [
    {
     "name": "stdout",
     "output_type": "stream",
     "text": [
      "[0, 3, 4, 6, 8, 9, 12, 15, 16, 18, 20, 21, 24, 27, 28, 30, 32, 33, 36, 39, 40, 42, 44, 45, 48, 51, 52, 54, 56, 57, 60, 63, 64, 66, 68, 69, 72, 75, 76, 78, 80, 81, 84, 87, 88, 90, 92, 93, 96, 99, 100]"
     ]
    }
   ],
   "source": [
    "# list comprehension\n",
    "even = [i for i in range(101) if i % 4 == 0 or i % 3 ==0]\n",
    "print(even, end = '')"
   ]
  },
  {
   "cell_type": "code",
   "execution_count": 38,
   "id": "b82c6dfc",
   "metadata": {},
   "outputs": [],
   "source": [
    "article = \"A 61-year-old man whose wife worked as O'Connell’s housekeeper was charged with one count of murder in the shooting death of the much lauded religious leader.\""
   ]
  },
  {
   "cell_type": "code",
   "execution_count": 43,
   "id": "28fc7ee2",
   "metadata": {},
   "outputs": [
    {
     "data": {
      "text/plain": [
       "['A',\n",
       " '61-year-old',\n",
       " 'man',\n",
       " 'whose',\n",
       " 'wife',\n",
       " 'worked',\n",
       " 'as',\n",
       " \"O'Connell’s\",\n",
       " 'housekeeper',\n",
       " 'was',\n",
       " 'charged',\n",
       " 'with',\n",
       " 'one',\n",
       " 'count',\n",
       " 'of',\n",
       " 'murder',\n",
       " 'in',\n",
       " 'the',\n",
       " 'shooting',\n",
       " 'death',\n",
       " 'of',\n",
       " 'the',\n",
       " 'much',\n",
       " 'lauded',\n",
       " 'religious',\n",
       " 'leader.']"
      ]
     },
     "execution_count": 43,
     "metadata": {},
     "output_type": "execute_result"
    }
   ],
   "source": [
    "result = article.split(' ')\n",
    "result"
   ]
  },
  {
   "cell_type": "code",
   "execution_count": 44,
   "id": "74b6ab4e",
   "metadata": {},
   "outputs": [
    {
     "data": {
      "text/plain": [
       "['61', 'year', 'old']"
      ]
     },
     "execution_count": 44,
     "metadata": {},
     "output_type": "execute_result"
    }
   ],
   "source": [
    "temp = result[1].split('-')\n",
    "temp"
   ]
  },
  {
   "cell_type": "code",
   "execution_count": 45,
   "id": "59df3bbf",
   "metadata": {},
   "outputs": [],
   "source": [
    "result.remove(result[1])"
   ]
  },
  {
   "cell_type": "code",
   "execution_count": 46,
   "id": "e61930cc",
   "metadata": {},
   "outputs": [
    {
     "data": {
      "text/plain": [
       "['A',\n",
       " '61',\n",
       " 'year',\n",
       " 'old',\n",
       " 'man',\n",
       " 'whose',\n",
       " 'wife',\n",
       " 'worked',\n",
       " 'as',\n",
       " \"O'Connell’s\",\n",
       " 'housekeeper',\n",
       " 'was',\n",
       " 'charged',\n",
       " 'with',\n",
       " 'one',\n",
       " 'count',\n",
       " 'of',\n",
       " 'murder',\n",
       " 'in',\n",
       " 'the',\n",
       " 'shooting',\n",
       " 'death',\n",
       " 'of',\n",
       " 'the',\n",
       " 'much',\n",
       " 'lauded',\n",
       " 'religious',\n",
       " 'leader.']"
      ]
     },
     "execution_count": 46,
     "metadata": {},
     "output_type": "execute_result"
    }
   ],
   "source": [
    "i = 1\n",
    "for word in temp:\n",
    "    result.insert(i, word)\n",
    "    i = i + 1\n",
    "result"
   ]
  },
  {
   "cell_type": "code",
   "execution_count": 50,
   "id": "577ffd3b",
   "metadata": {},
   "outputs": [],
   "source": [
    "# enumerate 활용\n",
    "article = \"A 61-year-old man whose wife worked as O'Connell’s housekeeper was charged with one count of murder in the shooting death of the much lauded religious leader.\"\n",
    "result = article.split(' ')\n",
    "temp = result[1].split('-')\n",
    "result.remove(result[1])\n"
   ]
  },
  {
   "cell_type": "code",
   "execution_count": 51,
   "id": "b085dd13",
   "metadata": {},
   "outputs": [
    {
     "data": {
      "text/plain": [
       "['A',\n",
       " '61',\n",
       " 'year',\n",
       " 'old',\n",
       " 'man',\n",
       " 'whose',\n",
       " 'wife',\n",
       " 'worked',\n",
       " 'as',\n",
       " \"O'Connell’s\",\n",
       " 'housekeeper',\n",
       " 'was',\n",
       " 'charged',\n",
       " 'with',\n",
       " 'one',\n",
       " 'count',\n",
       " 'of',\n",
       " 'murder',\n",
       " 'in',\n",
       " 'the',\n",
       " 'shooting',\n",
       " 'death',\n",
       " 'of',\n",
       " 'the',\n",
       " 'much',\n",
       " 'lauded',\n",
       " 'religious',\n",
       " 'leader.']"
      ]
     },
     "execution_count": 51,
     "metadata": {},
     "output_type": "execute_result"
    }
   ],
   "source": [
    "for i, word in enumerate(temp):\n",
    "    pos = 1\n",
    "    result.insert(i + pos, word)\n",
    "    i = i + 1\n",
    "result"
   ]
  },
  {
   "cell_type": "code",
   "execution_count": 54,
   "id": "3960e6cc",
   "metadata": {},
   "outputs": [
    {
     "name": "stdout",
     "output_type": "stream",
     "text": [
      "커피 받으시고 잔돈은 1500원입니다\n",
      "\n",
      "커피 받으시고 잔돈은 1000원입니다\n",
      "\n",
      "커피 받으시고 잔돈은 500원입니다\n",
      "\n",
      "커피 받으시고 잔돈은 0원입니다\n",
      "\n",
      "더이상 잔돈이 남아있지 않습니다. \n",
      "\n"
     ]
    }
   ],
   "source": [
    "import time\n",
    "\n",
    "coffee = 500\n",
    "money = 2000\n",
    "while money > 0:\n",
    "    time.sleep(1)\n",
    "    money = money - coffee\n",
    "    print('커피 받으시고 잔돈은 {}원입니다\\n'.format(money))\n",
    "    if money == 0:\n",
    "        print('더이상 잔돈이 남아있지 않습니다. \\n')\n",
    "        break\n",
    "        \n",
    "    "
   ]
  },
  {
   "cell_type": "code",
   "execution_count": 55,
   "id": "34e458b5",
   "metadata": {},
   "outputs": [
    {
     "name": "stdout",
     "output_type": "stream",
     "text": [
      "나무를 1번 베었습니다. \n",
      "\n",
      "나무를 2번 베었습니다. \n",
      "\n",
      "나무를 3번 베었습니다. \n",
      "\n",
      "나무를 4번 베었습니다. \n",
      "\n",
      "나무를 5번 베었습니다. \n",
      "\n",
      "나무를 6번 베었습니다. \n",
      "\n",
      "나무를 7번 베었습니다. \n",
      "\n",
      "나무를 8번 베었습니다. \n",
      "\n",
      "나무를 9번 베었습니다. \n",
      "\n",
      "나무를 10번 베었습니다. \n",
      "\n",
      "더 이상 벨 나무가 없습니다\n"
     ]
    }
   ],
   "source": [
    "# 속담\n",
    "import time\n",
    "treeHit = 0\n",
    "while treeHit < 10:\n",
    "    time.sleep(1)\n",
    "    treeHit = treeHit + 1\n",
    "    print('나무를 {}번 베었습니다. \\n'.format(treeHit))\n",
    "    if treeHit == 10:\n",
    "        print('더 이상 벨 나무가 없습니다')\n",
    "        break\n",
    "        "
   ]
  },
  {
   "cell_type": "code",
   "execution_count": 56,
   "id": "d0342988",
   "metadata": {},
   "outputs": [
    {
     "name": "stdout",
     "output_type": "stream",
     "text": [
      "20:09:14.402270\n"
     ]
    }
   ],
   "source": [
    "# 날짜는 제외하고, 시간만 가져오고 싶을때\n",
    "import time\n",
    "from datetime import datetime\n",
    "\n",
    "current_time = datetime.now().time()\n",
    "print(current_time)"
   ]
  },
  {
   "cell_type": "code",
   "execution_count": 57,
   "id": "456e065c",
   "metadata": {},
   "outputs": [
    {
     "name": "stdout",
     "output_type": "stream",
     "text": [
      "2023-02-25 20:12:29.668009+09:00\n"
     ]
    }
   ],
   "source": [
    "# 한국 시간\n",
    "import time\n",
    "import datetime\n",
    "from pytz import timezone\n",
    "now = datetime.datetime.now(timezone('Asia/Seoul'))\n",
    "print(now)"
   ]
  },
  {
   "cell_type": "code",
   "execution_count": 58,
   "id": "7f6ce164",
   "metadata": {},
   "outputs": [
    {
     "name": "stdout",
     "output_type": "stream",
     "text": [
      "2023년 02월 25일 20시 12분 29초\n"
     ]
    }
   ],
   "source": [
    "mydate = now.strftime('%Y년 %m월 %d일 %H시 %M분 %S초')\n",
    "print(mydate)"
   ]
  },
  {
   "cell_type": "code",
   "execution_count": 63,
   "id": "05ff7a19",
   "metadata": {},
   "outputs": [
    {
     "name": "stdout",
     "output_type": "stream",
     "text": [
      "Hi\n"
     ]
    },
    {
     "data": {
      "text/plain": [
       "7"
      ]
     },
     "execution_count": 63,
     "metadata": {},
     "output_type": "execute_result"
    }
   ],
   "source": [
    "# 계산기 클래스\n",
    "class Calculator:\n",
    "    # __init__: 계산기를 실행하기 전에 초기화 하는 부분(생성자)\n",
    "    def __init__(self):\n",
    "        print('Hi')\n",
    "        self.result = 0\n",
    "        \n",
    "    def add(self, num):\n",
    "        # result = result + num의 표현\n",
    "        self.result = self.result + num\n",
    "        return self.result\n",
    "    \n",
    "cal1 = Calculator()\n",
    "cal1.add(3)\n",
    "cal1.add(4)"
   ]
  },
  {
   "cell_type": "code",
   "execution_count": 64,
   "id": "49ad6a01",
   "metadata": {},
   "outputs": [],
   "source": [
    "class FourCal:\n",
    "    def __init__(self, first, second):\n",
    "        print('Hello')\n",
    "        self.first = first\n",
    "        self.second = second\n",
    "        \n",
    "    def setdata(self, first, second):\n",
    "        self.first = first\n",
    "        self.second = second\n",
    "        \n",
    "    def add(self):\n",
    "        result = self.first + self.second\n",
    "        return result\n",
    "    \n",
    "    def sub(self):\n",
    "        result = self.first - self.second\n",
    "        return result\n",
    "    \n",
    "    def mul(self):\n",
    "        result = self.first * self.second\n",
    "        return result\n",
    "    \n",
    "    def div(self):\n",
    "        result = self.first / self.second\n",
    "        return result\n",
    "    \n"
   ]
  },
  {
   "cell_type": "code",
   "execution_count": 65,
   "id": "2ce74e90",
   "metadata": {},
   "outputs": [
    {
     "name": "stdout",
     "output_type": "stream",
     "text": [
      "Hello\n"
     ]
    },
    {
     "data": {
      "text/plain": [
       "6"
      ]
     },
     "execution_count": 65,
     "metadata": {},
     "output_type": "execute_result"
    }
   ],
   "source": [
    "a = FourCal(4, 2)\n",
    "a.add()"
   ]
  },
  {
   "cell_type": "code",
   "execution_count": 1,
   "id": "74785a17",
   "metadata": {},
   "outputs": [],
   "source": [
    "# 카페 시뮬레이터\n",
    "# 1. 메뉴 출력\n",
    "# 1. 아메리카노, 2. 카페라떼, 3. 바닐라라떼, 4. 녹차라떼, 5.콜드브루"
   ]
  },
  {
   "cell_type": "code",
   "execution_count": 2,
   "id": "6303c1ee",
   "metadata": {},
   "outputs": [],
   "source": [
    "# 2. 주문 받기\n",
    "# input함수 사용 -> 정수형 출력\n",
    "# 'exit'문자열을 입력으로 받으면 프로그램을 종료"
   ]
  },
  {
   "cell_type": "code",
   "execution_count": 4,
   "id": "4cecadce",
   "metadata": {},
   "outputs": [],
   "source": [
    "# 음료를 만드는데 시간 부여하기\n",
    "# sleep()함수 사용해서 키보드 입력을 통한 주문 받기\n",
    "# 1. 1초, 2. 2초, 3. 3초, 4. 3초, 5. 1초 "
   ]
  },
  {
   "cell_type": "code",
   "execution_count": 5,
   "id": "34371528",
   "metadata": {},
   "outputs": [],
   "source": [
    "# 음료가 만들어지면 로그 파일 남기기"
   ]
  },
  {
   "cell_type": "code",
   "execution_count": 6,
   "id": "2ae5ed77",
   "metadata": {},
   "outputs": [
    {
     "name": "stdout",
     "output_type": "stream",
     "text": [
      "===============\n",
      "1. 아메리카노\n",
      "2. 카페라떼\n",
      "3. 바닐라라떼\n",
      "4. 녹차라떼\n",
      "5. 콜드브루\n",
      "===============\n"
     ]
    }
   ],
   "source": [
    "# 1. 출력할 메뉴판\n",
    "def printMenu():\n",
    "    print('===============')\n",
    "    print('1. 아메리카노')\n",
    "    print('2. 카페라떼')\n",
    "    print('3. 바닐라라떼')\n",
    "    print('4. 녹차라떼')\n",
    "    print('5. 콜드브루')\n",
    "    print('===============')\n",
    "printMenu()"
   ]
  },
  {
   "cell_type": "code",
   "execution_count": 7,
   "id": "cd4fde8e",
   "metadata": {},
   "outputs": [],
   "source": [
    "def inputKey():\n",
    "    temp = True\n",
    "    myinput = input()\n",
    "    if myinput != 'exit':\n",
    "        inputMenu = int(myinput)\n",
    "    else:\n",
    "        temp = False\n",
    "        inputMenu = None\n",
    "    \n",
    "    return temp, inputMenu\n"
   ]
  },
  {
   "cell_type": "code",
   "execution_count": 8,
   "id": "0aa8c807",
   "metadata": {},
   "outputs": [],
   "source": [
    "# 입력값 자동화\n",
    "import random\n",
    "def autoKey():\n",
    "    inputMenu = random.randrange(1, 6)\n",
    "    return inputMenu\n"
   ]
  },
  {
   "cell_type": "code",
   "execution_count": 9,
   "id": "130742f7",
   "metadata": {},
   "outputs": [],
   "source": [
    "# 음료 만드는 시간 부여\n",
    "import time\n",
    "def makeCoffee(menuNum):\n",
    "    if menuNum == 1:\n",
    "        time.sleep(1)\n",
    "    elif menuNum == 2:\n",
    "        time.sleep(2)\n",
    "    elif menuNum == 3:\n",
    "        time.sleep(3)\n",
    "    elif menuNum == 4:\n",
    "        time.sleep(3)\n",
    "    elif menuNum == 5:\n",
    "        time.sleep(1)\n",
    "        \n",
    "    return menuNum\n"
   ]
  },
  {
   "cell_type": "code",
   "execution_count": 10,
   "id": "e52f6097",
   "metadata": {},
   "outputs": [],
   "source": [
    "# 프로그램이 새롭게 실행되면 기존 로그는 지우고, 새롭게 저장\n",
    "def newLog():\n",
    "    f = open('./log.txt', 'w', encoding = 'utf-8')\n",
    "    f.close()\n"
   ]
  },
  {
   "cell_type": "code",
   "execution_count": 15,
   "id": "da92da58",
   "metadata": {},
   "outputs": [],
   "source": [
    "def writeLog(makedCoffee):\n",
    "    f = open('./log.txt', 'a', encoding = 'utf-8')\n",
    "    f.write('주문하신 {}제품이 완성되었습니다 \\n'.format(menuDict[makedCoffee]))\n",
    "    f.close()"
   ]
  },
  {
   "cell_type": "code",
   "execution_count": 17,
   "id": "83f31eef",
   "metadata": {
    "scrolled": true
   },
   "outputs": [
    {
     "name": "stdout",
     "output_type": "stream",
     "text": [
      "===============\n",
      "1. 아메리카노\n",
      "2. 카페라떼\n",
      "3. 바닐라라떼\n",
      "4. 녹차라떼\n",
      "5. 콜드브루\n",
      "===============\n",
      "===============\n",
      "1. 아메리카노\n",
      "2. 카페라떼\n",
      "3. 바닐라라떼\n",
      "4. 녹차라떼\n",
      "5. 콜드브루\n",
      "===============\n",
      "===============\n",
      "1. 아메리카노\n",
      "2. 카페라떼\n",
      "3. 바닐라라떼\n",
      "4. 녹차라떼\n",
      "5. 콜드브루\n",
      "===============\n",
      "===============\n",
      "1. 아메리카노\n",
      "2. 카페라떼\n",
      "3. 바닐라라떼\n",
      "4. 녹차라떼\n",
      "5. 콜드브루\n",
      "===============\n",
      "===============\n",
      "1. 아메리카노\n",
      "2. 카페라떼\n",
      "3. 바닐라라떼\n",
      "4. 녹차라떼\n",
      "5. 콜드브루\n",
      "===============\n",
      "===============\n",
      "1. 아메리카노\n",
      "2. 카페라떼\n",
      "3. 바닐라라떼\n",
      "4. 녹차라떼\n",
      "5. 콜드브루\n",
      "===============\n"
     ]
    },
    {
     "ename": "KeyboardInterrupt",
     "evalue": "",
     "output_type": "error",
     "traceback": [
      "\u001b[1;31m---------------------------------------------------------------------------\u001b[0m",
      "\u001b[1;31mKeyboardInterrupt\u001b[0m                         Traceback (most recent call last)",
      "Cell \u001b[1;32mIn [17], line 19\u001b[0m\n\u001b[0;32m     16\u001b[0m     \u001b[38;5;28;01mbreak\u001b[39;00m\n\u001b[0;32m     18\u001b[0m \u001b[38;5;66;03m# 커피만들기 시간 모델링\u001b[39;00m\n\u001b[1;32m---> 19\u001b[0m makedCoffee \u001b[38;5;241m=\u001b[39m \u001b[43mmakeCoffee\u001b[49m\u001b[43m(\u001b[49m\u001b[43minputMenu\u001b[49m\u001b[43m)\u001b[49m\n\u001b[0;32m     21\u001b[0m \u001b[38;5;66;03m# 완성된 시뮬레이터 실행\u001b[39;00m\n\u001b[0;32m     22\u001b[0m writeLog(makedCoffee)\n",
      "Cell \u001b[1;32mIn [9], line 11\u001b[0m, in \u001b[0;36mmakeCoffee\u001b[1;34m(menuNum)\u001b[0m\n\u001b[0;32m      9\u001b[0m     time\u001b[38;5;241m.\u001b[39msleep(\u001b[38;5;241m3\u001b[39m)\n\u001b[0;32m     10\u001b[0m \u001b[38;5;28;01melif\u001b[39;00m menuNum \u001b[38;5;241m==\u001b[39m \u001b[38;5;241m4\u001b[39m:\n\u001b[1;32m---> 11\u001b[0m     \u001b[43mtime\u001b[49m\u001b[38;5;241;43m.\u001b[39;49m\u001b[43msleep\u001b[49m\u001b[43m(\u001b[49m\u001b[38;5;241;43m3\u001b[39;49m\u001b[43m)\u001b[49m\n\u001b[0;32m     12\u001b[0m \u001b[38;5;28;01melif\u001b[39;00m menuNum \u001b[38;5;241m==\u001b[39m \u001b[38;5;241m5\u001b[39m:\n\u001b[0;32m     13\u001b[0m     time\u001b[38;5;241m.\u001b[39msleep(\u001b[38;5;241m1\u001b[39m)\n",
      "\u001b[1;31mKeyboardInterrupt\u001b[0m: "
     ]
    }
   ],
   "source": [
    "# 조건문 실행하여 파일로그생성\n",
    "import time\n",
    "temp = True\n",
    "menuDict = {1:'아메리카노', 2:'카페라떼', 3:'바닐라라떼', 4:'녹차라떼', 5:'콜드브루'}\n",
    "newLog()\n",
    "\n",
    "while True:\n",
    "    # 메뉴출력\n",
    "    printMenu()\n",
    "    \n",
    "    # 주문받기\n",
    "    # temp, inputMenu = inputKey()\n",
    "    inputMenu = autoKey()\n",
    "    # 키보드로부터 'exit'가 들어오면 프로그램 종료\n",
    "    if temp ==  False:\n",
    "        break\n",
    "        \n",
    "    # 커피만들기 시간 모델링\n",
    "    makedCoffee = makeCoffee(inputMenu)\n",
    "    \n",
    "    # 완성된 시뮬레이터 실행\n",
    "    writeLog(makedCoffee)"
   ]
  },
  {
   "cell_type": "code",
   "execution_count": 45,
   "id": "e3b42a32",
   "metadata": {},
   "outputs": [],
   "source": [
    "# 위의 모델 클래스로 응용\n",
    "import time\n",
    "import random\n",
    "\n",
    "class cafeSim:\n",
    "    # 생성자 __init__함수를 통해 초기값 설정 및 초기화\n",
    "    def __init__(self, cafeName, cafeOpenTime, cafeCloseTime):\n",
    "        self.cafeName = cafeName\n",
    "        self.cafeOpenTime = cafeOpenTime\n",
    "        self.cafeCloseTime = cafeCloseTime\n",
    "        self.newLog()\n",
    "    # 카페정보 출력\n",
    "    def printInfo(self):\n",
    "        print('카페이름: {}'.format(self.cafeName))\n",
    "        print('카페시작시간: {}'.format(self.cafeOpenTime))\n",
    "        print('카페마감시간: {}'.format(self.cafeCloseTime))\n",
    "    \n",
    "    # 출력값 리턴\n",
    "    def getInfo(self):\n",
    "        return self.cafename, self.cafeOpenTime, self.cafeCloseTime\n",
    "    \n",
    "    \n",
    "    def printMenu(self):\n",
    "        print('===============')\n",
    "        print('1. 아메리카노')\n",
    "        print('2. 카페라떼')\n",
    "        print('3. 바닐라라떼')\n",
    "        print('4. 녹차라떼')\n",
    "        print('5. 콜드브루')\n",
    "        print('===============')\n",
    "\n",
    "    \n",
    "    def autoKey(self):\n",
    "        self.inputMenu = random.randrange(1, 6)\n",
    "        self.done = False\n",
    "        print(self.inputMenu)\n",
    "    \n",
    "    def makeCoffee(self):\n",
    "        \n",
    "        if self.inputMenu == 1:\n",
    "            time.sleep(1)\n",
    "        elif self.inputMenu == 2:\n",
    "            time.sleep(2)\n",
    "        elif self.inputMenu == 3:\n",
    "            time.sleep(3)\n",
    "        elif self.inputMenu == 4:\n",
    "            time.sleep(3)\n",
    "        elif self.inputMenu == 5:\n",
    "            time.sleep(1)\n",
    "        \n",
    "        self.done = True\n",
    "        \n",
    "    def newLog(self):\n",
    "        f = open('./log.txt', 'a', encoding = 'utf-8')\n",
    "        f.close()\n",
    "        \n",
    "    def writeLog(self):\n",
    "        f = open('./log.txt', 'a', encoding = 'utf-8')\n",
    "        f.write('주문하신 {}제품이 완성되었습니다 \\n'.format(menuDict[self.inputMenu]))\n",
    "        f.close()\n",
    "        "
   ]
  },
  {
   "cell_type": "code",
   "execution_count": 46,
   "id": "bcbec8b7",
   "metadata": {},
   "outputs": [],
   "source": [
    "cafename = '오늘'\n",
    "cafeOpenTime = '9:00'\n",
    "cafeCloseTime = '21:00'"
   ]
  },
  {
   "cell_type": "code",
   "execution_count": 47,
   "id": "1dd30c9c",
   "metadata": {},
   "outputs": [
    {
     "name": "stdout",
     "output_type": "stream",
     "text": [
      "카페이름: 오늘\n",
      "카페시작시간: 9:00\n",
      "카페마감시간: 21:00\n",
      "===============\n",
      "1. 아메리카노\n",
      "2. 카페라떼\n",
      "3. 바닐라라떼\n",
      "4. 녹차라떼\n",
      "5. 콜드브루\n",
      "===============\n"
     ]
    }
   ],
   "source": [
    "# 클래스의 객체 생성\n",
    "myCafe = cafeSim(cafename, cafeOpenTime, cafeCloseTime)\n",
    "myCafe.printInfo()\n",
    "myCafe.printMenu()"
   ]
  },
  {
   "cell_type": "code",
   "execution_count": 49,
   "id": "6ff079c8",
   "metadata": {
    "scrolled": false
   },
   "outputs": [
    {
     "name": "stdout",
     "output_type": "stream",
     "text": [
      "===============\n",
      "1. 아메리카노\n",
      "2. 카페라떼\n",
      "3. 바닐라라떼\n",
      "4. 녹차라떼\n",
      "5. 콜드브루\n",
      "===============\n",
      "3\n",
      "===============\n",
      "1. 아메리카노\n",
      "2. 카페라떼\n",
      "3. 바닐라라떼\n",
      "4. 녹차라떼\n",
      "5. 콜드브루\n",
      "===============\n",
      "3\n",
      "===============\n",
      "1. 아메리카노\n",
      "2. 카페라떼\n",
      "3. 바닐라라떼\n",
      "4. 녹차라떼\n",
      "5. 콜드브루\n",
      "===============\n",
      "2\n",
      "===============\n",
      "1. 아메리카노\n",
      "2. 카페라떼\n",
      "3. 바닐라라떼\n",
      "4. 녹차라떼\n",
      "5. 콜드브루\n",
      "===============\n",
      "4\n"
     ]
    },
    {
     "ename": "KeyboardInterrupt",
     "evalue": "",
     "output_type": "error",
     "traceback": [
      "\u001b[1;31m---------------------------------------------------------------------------\u001b[0m",
      "\u001b[1;31mKeyboardInterrupt\u001b[0m                         Traceback (most recent call last)",
      "Cell \u001b[1;32mIn [49], line 7\u001b[0m\n\u001b[0;32m      5\u001b[0m myCafe\u001b[38;5;241m.\u001b[39mprintMenu()\n\u001b[0;32m      6\u001b[0m myCafe\u001b[38;5;241m.\u001b[39mautoKey()\n\u001b[1;32m----> 7\u001b[0m \u001b[43mmyCafe\u001b[49m\u001b[38;5;241;43m.\u001b[39;49m\u001b[43mmakeCoffee\u001b[49m\u001b[43m(\u001b[49m\u001b[43m)\u001b[49m\n\u001b[0;32m      8\u001b[0m myCafe\u001b[38;5;241m.\u001b[39mwriteLog()\n",
      "Cell \u001b[1;32mIn [45], line 47\u001b[0m, in \u001b[0;36mcafeSim.makeCoffee\u001b[1;34m(self)\u001b[0m\n\u001b[0;32m     45\u001b[0m     time\u001b[38;5;241m.\u001b[39msleep(\u001b[38;5;241m3\u001b[39m)\n\u001b[0;32m     46\u001b[0m \u001b[38;5;28;01melif\u001b[39;00m \u001b[38;5;28mself\u001b[39m\u001b[38;5;241m.\u001b[39minputMenu \u001b[38;5;241m==\u001b[39m \u001b[38;5;241m4\u001b[39m:\n\u001b[1;32m---> 47\u001b[0m     \u001b[43mtime\u001b[49m\u001b[38;5;241;43m.\u001b[39;49m\u001b[43msleep\u001b[49m\u001b[43m(\u001b[49m\u001b[38;5;241;43m3\u001b[39;49m\u001b[43m)\u001b[49m\n\u001b[0;32m     48\u001b[0m \u001b[38;5;28;01melif\u001b[39;00m \u001b[38;5;28mself\u001b[39m\u001b[38;5;241m.\u001b[39minputMenu \u001b[38;5;241m==\u001b[39m \u001b[38;5;241m5\u001b[39m:\n\u001b[0;32m     49\u001b[0m     time\u001b[38;5;241m.\u001b[39msleep(\u001b[38;5;241m1\u001b[39m)\n",
      "\u001b[1;31mKeyboardInterrupt\u001b[0m: "
     ]
    }
   ],
   "source": [
    "temp = True\n",
    "menuDict = {1:'아메리카노', 2:'카페라떼', 3:'바닐라라떼', 4:'녹차라떼', 5:'콜드브루'}\n",
    "newLog()\n",
    "while True:\n",
    "    myCafe.printMenu()\n",
    "    myCafe.autoKey()\n",
    "    myCafe.makeCoffee()\n",
    "    myCafe.writeLog()"
   ]
  },
  {
   "cell_type": "code",
   "execution_count": 52,
   "id": "79c4e192",
   "metadata": {},
   "outputs": [],
   "source": [
    "# 클래스의 상속\n",
    "class calc:\n",
    "    # 객체가 생성될 때 init함수 호출\n",
    "    # 클래스의 객체를 사용하기 전에 초기화 동작\n",
    "    def __init__(self):\n",
    "        self.op1 = 0\n",
    "        self.op2 = 0\n",
    "        \n",
    "    def setdata(self, op1, op2):\n",
    "        self.op1 = op1\n",
    "        self.op2 = op2\n",
    "    \n",
    "    def add(self):\n",
    "        result = self.op1 + self.op2\n",
    "        return result\n",
    "    \n",
    "    def sub(self):\n",
    "        result = self.op1 + self.op2\n",
    "        return result\n",
    "    \n",
    "    def mul(self):\n",
    "        result = self.op1 + self.op2\n",
    "        return result\n",
    "    \n",
    "    def div(self):\n",
    "        result = self.op1 + self.op2\n",
    "        return result\n",
    "    "
   ]
  },
  {
   "cell_type": "code",
   "execution_count": 55,
   "id": "7fcb04ce",
   "metadata": {},
   "outputs": [
    {
     "name": "stdout",
     "output_type": "stream",
     "text": [
      "7\n"
     ]
    }
   ],
   "source": [
    "myCal = calc()\n",
    "myCal.setdata(3, 4)\n",
    "print(myCal.add())"
   ]
  },
  {
   "cell_type": "code",
   "execution_count": 56,
   "id": "8b619c22",
   "metadata": {},
   "outputs": [],
   "source": [
    "class nextCal(calc):\n",
    "    def pow(self):\n",
    "        result = self.op1 ** self.op2\n",
    "        return result\n",
    "    "
   ]
  },
  {
   "cell_type": "code",
   "execution_count": 57,
   "id": "841d0759",
   "metadata": {},
   "outputs": [
    {
     "name": "stdout",
     "output_type": "stream",
     "text": [
      "16\n"
     ]
    }
   ],
   "source": [
    "myCal2 = nextCal()\n",
    "myCal2.setdata(2, 4)\n",
    "print(myCal2.pow())"
   ]
  },
  {
   "cell_type": "code",
   "execution_count": 60,
   "id": "4e05c3a9",
   "metadata": {},
   "outputs": [],
   "source": [
    "# 오버라이딩\n",
    "class safeCalc(calc):\n",
    "    def div(self):\n",
    "        if self.op2 == 0:\n",
    "            return 0\n",
    "        else:\n",
    "            return self.op1 / self.op2\n",
    "        "
   ]
  },
  {
   "cell_type": "code",
   "execution_count": 61,
   "id": "3574522f",
   "metadata": {},
   "outputs": [
    {
     "name": "stdout",
     "output_type": "stream",
     "text": [
      "0\n"
     ]
    }
   ],
   "source": [
    "myCal3 = safeCalc()\n",
    "myCal3.setdata(2,0)\n",
    "print(myCal3.div())"
   ]
  },
  {
   "cell_type": "code",
   "execution_count": 62,
   "id": "181562b5",
   "metadata": {},
   "outputs": [
    {
     "name": "stdout",
     "output_type": "stream",
     "text": [
      "5\n",
      "*\n",
      "**\n",
      "***\n",
      "****\n",
      "*****\n"
     ]
    }
   ],
   "source": [
    "size = int(input())\n",
    "for i in range(1, size + 1):\n",
    "    print('*' * i)"
   ]
  },
  {
   "cell_type": "code",
   "execution_count": 63,
   "id": "9dbdebd9",
   "metadata": {},
   "outputs": [
    {
     "name": "stdout",
     "output_type": "stream",
     "text": [
      "*****\n",
      "****\n",
      "***\n",
      "**\n",
      "*\n"
     ]
    }
   ],
   "source": [
    "size = 5\n",
    "for i in range(size, 0, -1):\n",
    "    print('*' * i)"
   ]
  },
  {
   "cell_type": "code",
   "execution_count": 64,
   "id": "6b74a5ea",
   "metadata": {},
   "outputs": [
    {
     "name": "stdout",
     "output_type": "stream",
     "text": [
      "     *\n",
      "    **\n",
      "   ***\n",
      "  ****\n",
      " *****\n"
     ]
    }
   ],
   "source": [
    "size = 5\n",
    "for i in range(1, size + 1):\n",
    "    print(' '* (size - i), '*' * i)"
   ]
  },
  {
   "cell_type": "code",
   "execution_count": 65,
   "id": "bfd79a5d",
   "metadata": {},
   "outputs": [
    {
     "name": "stdout",
     "output_type": "stream",
     "text": [
      " *****\n",
      "  ****\n",
      "   ***\n",
      "    **\n",
      "     *\n"
     ]
    }
   ],
   "source": [
    "size = 5\n",
    "for i in range(size, 0, -1):\n",
    "    print(' ' * (size - i), '*' * i)"
   ]
  },
  {
   "cell_type": "code",
   "execution_count": 67,
   "id": "46da7676",
   "metadata": {},
   "outputs": [
    {
     "name": "stdout",
     "output_type": "stream",
     "text": [
      "       *\n",
      "      ***\n",
      "     *****\n",
      "    *******\n",
      "   *********\n",
      "  ***********\n",
      " *************\n"
     ]
    }
   ],
   "source": [
    "size = 7\n",
    "for i in range(1, size + 1):\n",
    "    print(' ' * (size - i), '*' * (2* i - 1))"
   ]
  },
  {
   "cell_type": "code",
   "execution_count": 76,
   "id": "69e97db1",
   "metadata": {},
   "outputs": [
    {
     "name": "stdout",
     "output_type": "stream",
     "text": [
      "     *\n",
      "    ***\n",
      "   *****\n",
      "  *******\n",
      " *********\n",
      "***********\n",
      " *********\n",
      "  *******\n",
      "   *****\n",
      "    ***\n",
      "     *\n"
     ]
    }
   ],
   "source": [
    "size = 5\n",
    "for i in range(size + 1):\n",
    "    print(' ' * (size - i) + '*' * (2*i + 1))\n",
    "    \n",
    "    \n",
    "for i in range(size - 1, -1, -1):\n",
    "    print(' ' * (size - i) + '*' * (2*i + 1))"
   ]
  },
  {
   "cell_type": "code",
   "execution_count": 86,
   "id": "c53e8a0c",
   "metadata": {},
   "outputs": [],
   "source": [
    "def makeDiamond(size):\n",
    "    for i in range(size + 1):\n",
    "        if i != 0:\n",
    "            space = 2*i - 1\n",
    "            half = ' ' * space + '*'\n",
    "        else:\n",
    "            half = ' '\n",
    "        print(' ' * (size - i) + '*' + half)\n",
    "    for i in range(size - 1, -1, -1):\n",
    "        if i != 0:\n",
    "            space = 2*i - 1\n",
    "            half = ' ' * space + '*'\n",
    "        else:\n",
    "            half = ' '\n",
    "        print(' ' * (size - i) + '*' + half)"
   ]
  },
  {
   "cell_type": "code",
   "execution_count": 87,
   "id": "9db8d6c7",
   "metadata": {},
   "outputs": [
    {
     "name": "stdout",
     "output_type": "stream",
     "text": [
      "     * \n",
      "    * *\n",
      "   *   *\n",
      "  *     *\n",
      " *       *\n",
      "*         *\n",
      " *       *\n",
      "  *     *\n",
      "   *   *\n",
      "    * *\n",
      "     * \n"
     ]
    }
   ],
   "source": [
    "makeDiamond(5)"
   ]
  },
  {
   "cell_type": "code",
   "execution_count": 1,
   "id": "299786d4",
   "metadata": {},
   "outputs": [
    {
     "name": "stdout",
     "output_type": "stream",
     "text": [
      "2 X 1 =  2    3 X 1 =  3    4 X 1 =  4\n",
      "2 X 2 =  4    3 X 2 =  6    4 X 2 =  8\n",
      "2 X 3 =  6    3 X 3 =  9    4 X 3 = 12\n",
      "2 X 4 =  8    3 X 4 = 12    4 X 4 = 16\n",
      "2 X 5 = 10    3 X 5 = 15    4 X 5 = 20\n",
      "2 X 6 = 12    3 X 6 = 18    4 X 6 = 24\n",
      "2 X 7 = 14    3 X 7 = 21    4 X 7 = 28\n",
      "2 X 8 = 16    3 X 8 = 24    4 X 8 = 32\n",
      "2 X 9 = 18    3 X 9 = 27    4 X 9 = 36\n",
      "\n",
      "5 X 1 =  5    6 X 1 =  6    7 X 1 =  7\n",
      "5 X 2 = 10    6 X 2 = 12    7 X 2 = 14\n",
      "5 X 3 = 15    6 X 3 = 18    7 X 3 = 21\n",
      "5 X 4 = 20    6 X 4 = 24    7 X 4 = 28\n",
      "5 X 5 = 25    6 X 5 = 30    7 X 5 = 35\n",
      "5 X 6 = 30    6 X 6 = 36    7 X 6 = 42\n",
      "5 X 7 = 35    6 X 7 = 42    7 X 7 = 49\n",
      "5 X 8 = 40    6 X 8 = 48    7 X 8 = 56\n",
      "5 X 9 = 45    6 X 9 = 54    7 X 9 = 63\n",
      "\n",
      "8 X 1 =  8    9 X 1 =  9\n",
      "8 X 2 = 16    9 X 2 = 18\n",
      "8 X 3 = 24    9 X 3 = 27\n",
      "8 X 4 = 32    9 X 4 = 36\n",
      "8 X 5 = 40    9 X 5 = 45\n",
      "8 X 6 = 48    9 X 6 = 54\n",
      "8 X 7 = 56    9 X 7 = 63\n",
      "8 X 8 = 64    9 X 8 = 72\n",
      "8 X 9 = 72    9 X 9 = 81\n"
     ]
    }
   ],
   "source": [
    "def printStr(dan):\n",
    "\n",
    "    # 공백 문자열 생성 : 한번만 생성하기 위해 for문 밖에서 생성\n",
    "    space = ' '*2\n",
    "\n",
    "    for i in range(1,10):\n",
    "        # 각 단마다 구구단 문자열 생성\n",
    "        str1 = \"{} X {} = {:2}\".format(dan, i, dan*i)\n",
    "        str2 = \"{} X {} = {:2}\".format(dan+1, i, (dan+1)*i)\n",
    "        str3 = \"{} X {} = {:2}\".format(dan+2, i, (dan+2)*i)\n",
    "\n",
    "        # 8단 출력시 10단 출력을 안하기 위해 조건문 사용\n",
    "        # 8단에서는 2열로 출력한다.\n",
    "        if dan+2 > 9:\n",
    "             print(str1, space, str2)\n",
    "             \n",
    "        # 2단과 5단에서는 3열로 출력한다.\n",
    "        else:\n",
    "            print(str1, space, str2, space, str3)\n",
    "\n",
    "for dan in range(2,9,3):\n",
    "    printStr(dan)\n",
    "\n",
    "    if dan==8:\n",
    "        break\n",
    "\n",
    "    print()\n",
    "\n",
    "# printStr(2)\n",
    "# print()\n",
    "# printStr(5)\n",
    "# print()\n",
    "# printStr(8)"
   ]
  },
  {
   "cell_type": "code",
   "execution_count": 2,
   "id": "f63e09d8",
   "metadata": {},
   "outputs": [
    {
     "name": "stdout",
     "output_type": "stream",
     "text": [
      "2 X 1 =  2    3 X 1 =  3    4 X 1 =  4\n",
      "2 X 2 =  4    3 X 2 =  6    4 X 2 =  8\n",
      "2 X 3 =  6    3 X 3 =  9    4 X 3 = 12\n",
      "2 X 4 =  8    3 X 4 = 12    4 X 4 = 16\n",
      "2 X 5 = 10    3 X 5 = 15    4 X 5 = 20\n",
      "2 X 6 = 12    3 X 6 = 18    4 X 6 = 24\n",
      "2 X 7 = 14    3 X 7 = 21    4 X 7 = 28\n",
      "2 X 8 = 16    3 X 8 = 24    4 X 8 = 32\n",
      "2 X 9 = 18    3 X 9 = 27    4 X 9 = 36\n",
      "\n",
      "5 X 1 =  5    6 X 1 =  6    7 X 1 =  7\n",
      "5 X 2 = 10    6 X 2 = 12    7 X 2 = 14\n",
      "5 X 3 = 15    6 X 3 = 18    7 X 3 = 21\n",
      "5 X 4 = 20    6 X 4 = 24    7 X 4 = 28\n",
      "5 X 5 = 25    6 X 5 = 30    7 X 5 = 35\n",
      "5 X 6 = 30    6 X 6 = 36    7 X 6 = 42\n",
      "5 X 7 = 35    6 X 7 = 42    7 X 7 = 49\n",
      "5 X 8 = 40    6 X 8 = 48    7 X 8 = 56\n",
      "5 X 9 = 45    6 X 9 = 54    7 X 9 = 63\n",
      "\n",
      "8 X 1 =  8    9 X 1 =  9\n",
      "8 X 2 = 16    9 X 2 = 18\n",
      "8 X 3 = 24    9 X 3 = 27\n",
      "8 X 4 = 32    9 X 4 = 36\n",
      "8 X 5 = 40    9 X 5 = 45\n",
      "8 X 6 = 48    9 X 6 = 54\n",
      "8 X 7 = 56    9 X 7 = 63\n",
      "8 X 8 = 64    9 X 8 = 72\n",
      "8 X 9 = 72    9 X 9 = 81\n"
     ]
    }
   ],
   "source": [
    "printStr(2)\n",
    "print()\n",
    "printStr(5)\n",
    "print()\n",
    "printStr(8)\n"
   ]
  },
  {
   "cell_type": "code",
   "execution_count": 6,
   "id": "66d19784",
   "metadata": {},
   "outputs": [],
   "source": [
    "def printGu():\n",
    "    for i in range(2, 10, 3):\n",
    "        for k in range(1, 10):\n",
    "            for j in range(3):\n",
    "                if i + j > 9:\n",
    "                    break\n",
    "                else:\n",
    "                    print('{} X {} = {:2}'.format(i+j, k, (i+j) * k), end = '\\t')\n",
    "            print()\n",
    "        print()"
   ]
  },
  {
   "cell_type": "code",
   "execution_count": 7,
   "id": "673c2fda",
   "metadata": {},
   "outputs": [
    {
     "name": "stdout",
     "output_type": "stream",
     "text": [
      "2 X 1 =  2\t3 X 1 =  3\t4 X 1 =  4\t\n",
      "2 X 2 =  4\t3 X 2 =  6\t4 X 2 =  8\t\n",
      "2 X 3 =  6\t3 X 3 =  9\t4 X 3 = 12\t\n",
      "2 X 4 =  8\t3 X 4 = 12\t4 X 4 = 16\t\n",
      "2 X 5 = 10\t3 X 5 = 15\t4 X 5 = 20\t\n",
      "2 X 6 = 12\t3 X 6 = 18\t4 X 6 = 24\t\n",
      "2 X 7 = 14\t3 X 7 = 21\t4 X 7 = 28\t\n",
      "2 X 8 = 16\t3 X 8 = 24\t4 X 8 = 32\t\n",
      "2 X 9 = 18\t3 X 9 = 27\t4 X 9 = 36\t\n",
      "\n",
      "5 X 1 =  5\t6 X 1 =  6\t7 X 1 =  7\t\n",
      "5 X 2 = 10\t6 X 2 = 12\t7 X 2 = 14\t\n",
      "5 X 3 = 15\t6 X 3 = 18\t7 X 3 = 21\t\n",
      "5 X 4 = 20\t6 X 4 = 24\t7 X 4 = 28\t\n",
      "5 X 5 = 25\t6 X 5 = 30\t7 X 5 = 35\t\n",
      "5 X 6 = 30\t6 X 6 = 36\t7 X 6 = 42\t\n",
      "5 X 7 = 35\t6 X 7 = 42\t7 X 7 = 49\t\n",
      "5 X 8 = 40\t6 X 8 = 48\t7 X 8 = 56\t\n",
      "5 X 9 = 45\t6 X 9 = 54\t7 X 9 = 63\t\n",
      "\n",
      "8 X 1 =  8\t9 X 1 =  9\t\n",
      "8 X 2 = 16\t9 X 2 = 18\t\n",
      "8 X 3 = 24\t9 X 3 = 27\t\n",
      "8 X 4 = 32\t9 X 4 = 36\t\n",
      "8 X 5 = 40\t9 X 5 = 45\t\n",
      "8 X 6 = 48\t9 X 6 = 54\t\n",
      "8 X 7 = 56\t9 X 7 = 63\t\n",
      "8 X 8 = 64\t9 X 8 = 72\t\n",
      "8 X 9 = 72\t9 X 9 = 81\t\n",
      "\n"
     ]
    }
   ],
   "source": [
    "printGu()"
   ]
  },
  {
   "cell_type": "code",
   "execution_count": 8,
   "id": "fab2d917",
   "metadata": {},
   "outputs": [],
   "source": [
    "class FourCal:\n",
    "    def __init__(self, first, second):\n",
    "        self.first = first\n",
    "        self.second = second\n",
    "        \n",
    "    def setdata(self, first, second):\n",
    "        self.first = first\n",
    "        self.second = second\n",
    "        \n",
    "    def add(self):\n",
    "        result = self.first + self.second\n",
    "        return result\n",
    "    \n",
    "    def sub(self):\n",
    "        result = self.first - self.second\n",
    "        return result\n",
    "    \n",
    "    def mul(self):\n",
    "        result = self.first * self.second\n",
    "        return result\n",
    "    \n",
    "    def div(self):\n",
    "        result = self.first / self.second\n",
    "        return result\n",
    "    "
   ]
  },
  {
   "cell_type": "code",
   "execution_count": 9,
   "id": "8eac0522",
   "metadata": {},
   "outputs": [
    {
     "data": {
      "text/plain": [
       "6"
      ]
     },
     "execution_count": 9,
     "metadata": {},
     "output_type": "execute_result"
    }
   ],
   "source": [
    "a = FourCal(4, 2)\n",
    "a.add()"
   ]
  },
  {
   "cell_type": "code",
   "execution_count": 22,
   "id": "ac140307",
   "metadata": {},
   "outputs": [],
   "source": [
    "def printMenu():\n",
    "    print('==============')\n",
    "    print('1. 아메리카노')\n",
    "    print('2. 카페라떼')\n",
    "    print('3. 바닐라라떼')\n",
    "    print('4. 녹차라떼')\n",
    "    print('5. 콜드브루')\n",
    "    print('==============')"
   ]
  },
  {
   "cell_type": "code",
   "execution_count": 23,
   "id": "e47fe157",
   "metadata": {},
   "outputs": [],
   "source": [
    "def inputKey():\n",
    "    opened = True\n",
    "    myinput = input()\n",
    "    if myinput != 'exit':\n",
    "        inputMenu = int(myinput)\n",
    "    else:\n",
    "        opened = False\n",
    "        inputMenu = None\n",
    "    \n",
    "    return opened, inputMenu"
   ]
  },
  {
   "cell_type": "code",
   "execution_count": 24,
   "id": "f6eddde2",
   "metadata": {},
   "outputs": [],
   "source": [
    "import random\n",
    "def autoKey():\n",
    "    inputMenu = random.randrange(1, 6)\n",
    "    return inputMenu"
   ]
  },
  {
   "cell_type": "code",
   "execution_count": 32,
   "id": "7531a845",
   "metadata": {},
   "outputs": [],
   "source": [
    "import time\n",
    "def makeCoffee(menuNum):\n",
    "    if menuNum == 1:\n",
    "        time.sleep(1)\n",
    "    elif menuNum == 2:\n",
    "        time.sleep(2)\n",
    "    elif menuNum == 3:\n",
    "        time.sleep(3)\n",
    "    elif menuNum == 4:\n",
    "        time.sleep(3)\n",
    "    elif menuNum == 5:\n",
    "        time.sleep(1)"
   ]
  },
  {
   "cell_type": "code",
   "execution_count": 33,
   "id": "dacc19a2",
   "metadata": {},
   "outputs": [],
   "source": [
    "def newLog():\n",
    "    f = open('./log.txt', 'w', encoding = 'utf-8')\n",
    "    f.close()"
   ]
  },
  {
   "cell_type": "code",
   "execution_count": 34,
   "id": "27c210d9",
   "metadata": {},
   "outputs": [],
   "source": [
    "def writeLog(makedCoffee):\n",
    "    f = open('./log.txt', 'a', encoding = 'utf-8')\n",
    "    f.write('주문하신 {}가 완성되었습니다\\n'.format(menuDict[makedCoffee]))\n",
    "    f.close()"
   ]
  },
  {
   "cell_type": "code",
   "execution_count": 35,
   "id": "12172886",
   "metadata": {},
   "outputs": [
    {
     "name": "stdout",
     "output_type": "stream",
     "text": [
      "==============\n",
      "1. 아메리카노\n",
      "2. 카페라떼\n",
      "3. 바닐라라떼\n",
      "4. 녹차라떼\n",
      "5. 콜드브루\n",
      "==============\n",
      "1\n"
     ]
    },
    {
     "ename": "KeyError",
     "evalue": "None",
     "output_type": "error",
     "traceback": [
      "\u001b[1;31m---------------------------------------------------------------------------\u001b[0m",
      "\u001b[1;31mKeyError\u001b[0m                                  Traceback (most recent call last)",
      "Cell \u001b[1;32mIn [35], line 13\u001b[0m\n\u001b[0;32m     10\u001b[0m     \u001b[38;5;28;01mbreak\u001b[39;00m\n\u001b[0;32m     12\u001b[0m makedCoffee \u001b[38;5;241m=\u001b[39m makeCoffee(inputMenu)\n\u001b[1;32m---> 13\u001b[0m \u001b[43mwriteLog\u001b[49m\u001b[43m(\u001b[49m\u001b[43mmakedCoffee\u001b[49m\u001b[43m)\u001b[49m\n",
      "Cell \u001b[1;32mIn [34], line 3\u001b[0m, in \u001b[0;36mwriteLog\u001b[1;34m(makedCoffee)\u001b[0m\n\u001b[0;32m      1\u001b[0m \u001b[38;5;28;01mdef\u001b[39;00m \u001b[38;5;21mwriteLog\u001b[39m(makedCoffee):\n\u001b[0;32m      2\u001b[0m     f \u001b[38;5;241m=\u001b[39m \u001b[38;5;28mopen\u001b[39m(\u001b[38;5;124m'\u001b[39m\u001b[38;5;124m./log.txt\u001b[39m\u001b[38;5;124m'\u001b[39m, \u001b[38;5;124m'\u001b[39m\u001b[38;5;124ma\u001b[39m\u001b[38;5;124m'\u001b[39m, encoding \u001b[38;5;241m=\u001b[39m \u001b[38;5;124m'\u001b[39m\u001b[38;5;124mutf-8\u001b[39m\u001b[38;5;124m'\u001b[39m)\n\u001b[1;32m----> 3\u001b[0m     f\u001b[38;5;241m.\u001b[39mwrite(\u001b[38;5;124m'\u001b[39m\u001b[38;5;124m주문하신 \u001b[39m\u001b[38;5;132;01m{}\u001b[39;00m\u001b[38;5;124m가 완성되었습니다\u001b[39m\u001b[38;5;130;01m\\n\u001b[39;00m\u001b[38;5;124m'\u001b[39m\u001b[38;5;241m.\u001b[39mformat(\u001b[43mmenuDict\u001b[49m\u001b[43m[\u001b[49m\u001b[43mmakedCoffee\u001b[49m\u001b[43m]\u001b[49m))\n\u001b[0;32m      4\u001b[0m     f\u001b[38;5;241m.\u001b[39mclose()\n",
      "\u001b[1;31mKeyError\u001b[0m: None"
     ]
    }
   ],
   "source": [
    "import time\n",
    "opened = True\n",
    "menuDict = {1:'아메리카노', 2:'카페라떼', 3:'바닐라라떼', 4:'녹차라떼', 5:'콜드브루'}\n",
    "newLog()\n",
    "\n",
    "while True:\n",
    "    printMenu()\n",
    "    opened, inputMenu = inputKey()\n",
    "    if opened == False:\n",
    "        break\n",
    "    \n",
    "    makedCoffee = makeCoffee(inputMenu)\n",
    "    writeLog(makedCoffee)"
   ]
  },
  {
   "cell_type": "code",
   "execution_count": 53,
   "id": "c6534edf",
   "metadata": {},
   "outputs": [],
   "source": [
    "import time\n",
    "import random\n",
    "# 클래스 생성\n",
    "class cafeSim:\n",
    "    # 생성자 __init__함수를 통해 초기값 설정 및 초기화 \n",
    "    # def setInfo(self, cafeName, cafeOpenTime, cafeCloseTime):\n",
    "    def __init__(self, cafeName, cafeOpenTime, cafeCloseTime):\n",
    "        self.cafeName = cafeName\n",
    "        self.cafeOpenTime = cafeOpenTime\n",
    "        self.cafeCloseTime = cafeCloseTime\n",
    "        # 객체 생성시 파일을 초기화 하기 위해 생성자 함수에 newLog함수를 넣어줌\n",
    "        self.newLog()\n",
    "        \n",
    "    # 카페 정보를 출력해주는 멤버함수\n",
    "    def printInfo(self):\n",
    "        print(\"카페이름 : {}\".format(self.cafeName))\n",
    "        print(\"카페시작시간 : {}\".format(self.cafeOpenTime))\n",
    "        print(\"카페마감시간 : {}\".format(self.cafeCloseTime))\n",
    "    \n",
    "    # 출력값을 리턴해주는 함수\n",
    "    def getInfo(self):\n",
    "        return self.cafeName, self.cafeOpenTime, self.cafeCloseTime\n",
    "    \n",
    "    \n",
    "    # 카페 메뉴를 출력해주는 멤버함수\n",
    "    def printMenu(self):\n",
    "        print(\"==================================\")\n",
    "        print(\"1. 아메리카노\")\n",
    "        print(\"2. 카페라떼\")\n",
    "        print(\"3. 바닐라라떼\")\n",
    "        print(\"4. 녹차라떼\")\n",
    "        print('5. 콜드브루')\n",
    "        print(\"==================================\")\n",
    "    \n",
    "    # 주문번호를 난수를 통해 자동입력해주는 멤버함수\n",
    "    def autoKey(self):\n",
    "        self.inputMenu = random.randrange(1, 6)\n",
    "        self.done = False\n",
    "        print(self.inputMenu)\n",
    "    \n",
    "    \n",
    "    # 커피 만드는 소요시간을 지정해주는 멤버함수\n",
    "    def makeCoffee(self):\n",
    "        if self.inputMenu==1:\n",
    "            time.sleep(1)\n",
    "        elif self.inputMenu==2:\n",
    "            time.sleep(2)\n",
    "        elif self.inputMenu==3:\n",
    "            time.sleep(3)\n",
    "        elif self.inputMenu==4:\n",
    "            time.sleep(3)\n",
    "        elif self.inputMenu==5:\n",
    "            time.sleep(1)\n",
    "        \n",
    "        self.done = True\n",
    "    \n",
    "    # 커피 주문 정보를 남기기 위한 멤버함수들\n",
    "    def newLog(self):\n",
    "        f = open(\"./log.txt\", 'w', encoding = 'utf-8')\n",
    "        f.close()\n",
    "\n",
    "    def writeLog(self):\n",
    "        # append 모드로 파일 열기\n",
    "        f = open(\"./log.txt\", 'a', encoding = 'utf-8')\n",
    "        f.write(\"주문하신 {}가 완성 되었습니다\\n\".format(menuDict[self.inputMenu]))\n",
    "        f.close()    \n",
    "  "
   ]
  },
  {
   "cell_type": "code",
   "execution_count": 54,
   "id": "3a5314c1",
   "metadata": {},
   "outputs": [],
   "source": [
    "cafeName = '오늘'\n",
    "cafeOpenTime = '9:00'\n",
    "cafeCloseTime = '21:00'"
   ]
  },
  {
   "cell_type": "code",
   "execution_count": 55,
   "id": "e6d2160a",
   "metadata": {},
   "outputs": [
    {
     "name": "stdout",
     "output_type": "stream",
     "text": [
      "카페이름 : 오늘\n",
      "카페시작시간 : 9:00\n",
      "카페마감시간 : 21:00\n"
     ]
    }
   ],
   "source": [
    "myCafe = cafeSim(cafeName, cafeOpenTime, cafeCloseTime)\n",
    "myCafe.printInfo()"
   ]
  },
  {
   "cell_type": "code",
   "execution_count": 56,
   "id": "f458cb4a",
   "metadata": {},
   "outputs": [
    {
     "name": "stdout",
     "output_type": "stream",
     "text": [
      "==================================\n",
      "1. 아메리카노\n",
      "2. 카페라떼\n",
      "3. 바닐라라떼\n",
      "4. 녹차라떼\n",
      "5. 콜드브루\n",
      "==================================\n",
      "5\n",
      "==================================\n",
      "1. 아메리카노\n",
      "2. 카페라떼\n",
      "3. 바닐라라떼\n",
      "4. 녹차라떼\n",
      "5. 콜드브루\n",
      "==================================\n",
      "5\n",
      "==================================\n",
      "1. 아메리카노\n",
      "2. 카페라떼\n",
      "3. 바닐라라떼\n",
      "4. 녹차라떼\n",
      "5. 콜드브루\n",
      "==================================\n",
      "4\n"
     ]
    },
    {
     "ename": "KeyboardInterrupt",
     "evalue": "",
     "output_type": "error",
     "traceback": [
      "\u001b[1;31m---------------------------------------------------------------------------\u001b[0m",
      "\u001b[1;31mKeyboardInterrupt\u001b[0m                         Traceback (most recent call last)",
      "Cell \u001b[1;32mIn [56], line 6\u001b[0m\n\u001b[0;32m      4\u001b[0m myCafe\u001b[38;5;241m.\u001b[39mprintMenu()\n\u001b[0;32m      5\u001b[0m myCafe\u001b[38;5;241m.\u001b[39mautoKey()\n\u001b[1;32m----> 6\u001b[0m \u001b[43mmyCafe\u001b[49m\u001b[38;5;241;43m.\u001b[39;49m\u001b[43mmakeCoffee\u001b[49m\u001b[43m(\u001b[49m\u001b[43m)\u001b[49m\n\u001b[0;32m      7\u001b[0m myCafe\u001b[38;5;241m.\u001b[39mwriteLog()\n",
      "Cell \u001b[1;32mIn [53], line 51\u001b[0m, in \u001b[0;36mcafeSim.makeCoffee\u001b[1;34m(self)\u001b[0m\n\u001b[0;32m     49\u001b[0m     time\u001b[38;5;241m.\u001b[39msleep(\u001b[38;5;241m3\u001b[39m)\n\u001b[0;32m     50\u001b[0m \u001b[38;5;28;01melif\u001b[39;00m \u001b[38;5;28mself\u001b[39m\u001b[38;5;241m.\u001b[39minputMenu\u001b[38;5;241m==\u001b[39m\u001b[38;5;241m4\u001b[39m:\n\u001b[1;32m---> 51\u001b[0m     \u001b[43mtime\u001b[49m\u001b[38;5;241;43m.\u001b[39;49m\u001b[43msleep\u001b[49m\u001b[43m(\u001b[49m\u001b[38;5;241;43m3\u001b[39;49m\u001b[43m)\u001b[49m\n\u001b[0;32m     52\u001b[0m \u001b[38;5;28;01melif\u001b[39;00m \u001b[38;5;28mself\u001b[39m\u001b[38;5;241m.\u001b[39minputMenu\u001b[38;5;241m==\u001b[39m\u001b[38;5;241m5\u001b[39m:\n\u001b[0;32m     53\u001b[0m     time\u001b[38;5;241m.\u001b[39msleep(\u001b[38;5;241m1\u001b[39m)\n",
      "\u001b[1;31mKeyboardInterrupt\u001b[0m: "
     ]
    }
   ],
   "source": [
    "opened = True\n",
    "menuDict = {1:'아메리카노', 2:'카페라떼', 3:'바닐라라떼', 4:'녹차라떼', 5:'콜드브루'}\n",
    "while True:\n",
    "    myCafe.printMenu()\n",
    "    myCafe.autoKey()\n",
    "    myCafe.makeCoffee()\n",
    "    myCafe.writeLog()"
   ]
  },
  {
   "cell_type": "code",
   "execution_count": 58,
   "id": "30237172",
   "metadata": {},
   "outputs": [],
   "source": [
    "# 상속\n",
    "class calc:\n",
    "    \n",
    "    def __init__(self):\n",
    "        self.op1 = 0\n",
    "        self.op2 = 0\n",
    "    \n",
    "    def setdata(self, op1, op2):\n",
    "        self.op1 = op1\n",
    "        self.op2 = op2\n",
    "    \n",
    "    def add(self):\n",
    "        result = self.op1 + self.op2\n",
    "        return result\n",
    "    \n",
    "    def sub(self):\n",
    "        result = self.op1 - self.op2\n",
    "        return result\n",
    "    \n",
    "    def mul(self):\n",
    "        result = self.op1 * self.op2\n",
    "        return result\n",
    "    \n",
    "    def div(self):\n",
    "        result = self.op1 / self.op2\n",
    "        return result\n",
    "    "
   ]
  },
  {
   "cell_type": "code",
   "execution_count": 59,
   "id": "282e491d",
   "metadata": {},
   "outputs": [
    {
     "name": "stdout",
     "output_type": "stream",
     "text": [
      "17\n",
      "9\n",
      "52\n",
      "3.25\n"
     ]
    }
   ],
   "source": [
    "myCal = calc()\n",
    "myCal.setdata(13, 4)\n",
    "print(myCal.add())\n",
    "print(myCal.sub())\n",
    "print(myCal.mul())\n",
    "print(myCal.div())"
   ]
  },
  {
   "cell_type": "code",
   "execution_count": 68,
   "id": "b7a7de19",
   "metadata": {},
   "outputs": [],
   "source": [
    "# 질문: nextcal에서 사용할 수 있는 함수의 개수는? -> 7개(calc멤버함수 6개 + nextCal멤버함수 1개)\n",
    "class nextCal(calc):\n",
    "    # 멤버변수만 하나 추가\n",
    "    def pow(self):\n",
    "        result = self.op1 ** self.op2\n",
    "        return result"
   ]
  },
  {
   "cell_type": "code",
   "execution_count": 69,
   "id": "68bd373c",
   "metadata": {},
   "outputs": [
    {
     "name": "stdout",
     "output_type": "stream",
     "text": [
      "4\n"
     ]
    }
   ],
   "source": [
    "myCal2 = nextCal()\n",
    "myCal2.setdata(2, 2)\n",
    "print(myCal2.pow())"
   ]
  },
  {
   "cell_type": "code",
   "execution_count": null,
   "id": "b7a9fec1",
   "metadata": {},
   "outputs": [],
   "source": []
  }
 ],
 "metadata": {
  "kernelspec": {
   "display_name": "Python 3 (ipykernel)",
   "language": "python",
   "name": "python3"
  },
  "language_info": {
   "codemirror_mode": {
    "name": "ipython",
    "version": 3
   },
   "file_extension": ".py",
   "mimetype": "text/x-python",
   "name": "python",
   "nbconvert_exporter": "python",
   "pygments_lexer": "ipython3",
   "version": "3.9.7"
  }
 },
 "nbformat": 4,
 "nbformat_minor": 5
}
