{
 "cells": [
  {
   "cell_type": "markdown",
   "metadata": {
    "id": "C3DKeFm3nS8M"
   },
   "source": [
    "## 반복문 연습"
   ]
  },
  {
   "cell_type": "code",
   "execution_count": null,
   "metadata": {
    "colab": {
     "base_uri": "https://localhost:8080/"
    },
    "executionInfo": {
     "elapsed": 4,
     "status": "ok",
     "timestamp": 1677027457742,
     "user": {
      "displayName": "전창민",
      "userId": "04793944019518067714"
     },
     "user_tz": -540
    },
    "id": "jsAketL-Y6zg",
    "outputId": "36c6d866-1d35-4bbf-a0aa-7aef5f19cfb0"
   },
   "outputs": [
    {
     "data": {
      "text/plain": [
       "([1, 2, 3, 4, 5, 6, 7, 8, 9, 10], list)"
      ]
     },
     "execution_count": 1,
     "metadata": {},
     "output_type": "execute_result"
    }
   ],
   "source": [
    "# 리스트 생성\n",
    "myList = [1, 2, 3, 4, 5, 6, 7, 8, 9, 10]\n",
    "myList, type(myList)"
   ]
  },
  {
   "cell_type": "code",
   "execution_count": null,
   "metadata": {
    "colab": {
     "base_uri": "https://localhost:8080/"
    },
    "executionInfo": {
     "elapsed": 4,
     "status": "ok",
     "timestamp": 1677027491681,
     "user": {
      "displayName": "전창민",
      "userId": "04793944019518067714"
     },
     "user_tz": -540
    },
    "id": "6ZfeON_joBnB",
    "outputId": "5eae3c39-5b3f-492e-d104-a9aca4ccd218"
   },
   "outputs": [
    {
     "data": {
      "text/plain": [
       "(1, 2, 3)"
      ]
     },
     "execution_count": 2,
     "metadata": {},
     "output_type": "execute_result"
    }
   ],
   "source": [
    "# 반복문을 통해서 리스트의 요소를 하나씩 꺼내서 출력\n",
    "myList[0], myList[1], myList[2]"
   ]
  },
  {
   "cell_type": "code",
   "execution_count": null,
   "metadata": {
    "colab": {
     "base_uri": "https://localhost:8080/"
    },
    "executionInfo": {
     "elapsed": 5,
     "status": "ok",
     "timestamp": 1677027537237,
     "user": {
      "displayName": "전창민",
      "userId": "04793944019518067714"
     },
     "user_tz": -540
    },
    "id": "bwRgzWrfoLpU",
    "outputId": "c1dd1a0b-0161-464c-8f8c-0d291f93d024"
   },
   "outputs": [
    {
     "name": "stdout",
     "output_type": "stream",
     "text": [
      "1\n",
      "2\n",
      "3\n",
      "4\n",
      "5\n",
      "6\n",
      "7\n",
      "8\n",
      "9\n",
      "10\n"
     ]
    }
   ],
   "source": [
    "# for [리스트의 값을 하나 저장할 변수] in [리스트, 튜플, dict, set(집합)]\n",
    "for num in myList:\n",
    "    print(num)"
   ]
  },
  {
   "cell_type": "code",
   "execution_count": null,
   "metadata": {
    "colab": {
     "base_uri": "https://localhost:8080/"
    },
    "executionInfo": {
     "elapsed": 3,
     "status": "ok",
     "timestamp": 1677027581040,
     "user": {
      "displayName": "전창민",
      "userId": "04793944019518067714"
     },
     "user_tz": -540
    },
    "id": "CA2N8RlUoWwr",
    "outputId": "17ff915f-2a20-4644-868f-fadbd6988cc9"
   },
   "outputs": [
    {
     "name": "stdout",
     "output_type": "stream",
     "text": [
      "2\n",
      "4\n",
      "6\n",
      "8\n",
      "10\n"
     ]
    }
   ],
   "source": [
    "# 반복문을 통해 myList에서 짝수만 출력\n",
    "for num in myList:\n",
    "    if num % 2 == False:\n",
    "        print(num)"
   ]
  },
  {
   "cell_type": "code",
   "execution_count": null,
   "metadata": {
    "colab": {
     "base_uri": "https://localhost:8080/"
    },
    "executionInfo": {
     "elapsed": 2,
     "status": "ok",
     "timestamp": 1677027616991,
     "user": {
      "displayName": "전창민",
      "userId": "04793944019518067714"
     },
     "user_tz": -540
    },
    "id": "gNZD738cogHO",
    "outputId": "1fbb6066-89ff-4ca3-a931-93427c75e8e9"
   },
   "outputs": [
    {
     "name": "stdout",
     "output_type": "stream",
     "text": [
      "2\n",
      "4\n",
      "6\n",
      "8\n",
      "10\n"
     ]
    }
   ],
   "source": [
    "# 다른 방법\n",
    "for num in myList:\n",
    "    if num % 2 == 0:\n",
    "        print(num)"
   ]
  },
  {
   "cell_type": "code",
   "execution_count": null,
   "metadata": {
    "colab": {
     "base_uri": "https://localhost:8080/"
    },
    "executionInfo": {
     "elapsed": 3,
     "status": "ok",
     "timestamp": 1677027655481,
     "user": {
      "displayName": "전창민",
      "userId": "04793944019518067714"
     },
     "user_tz": -540
    },
    "id": "eVQSlyYUoqSh",
    "outputId": "621bdc53-e06f-4df4-cd6d-ed8b69f965c3"
   },
   "outputs": [
    {
     "name": "stdout",
     "output_type": "stream",
     "text": [
      "1\n",
      "3\n",
      "5\n",
      "7\n",
      "9\n"
     ]
    }
   ],
   "source": [
    "# 반복문을 통해 myList에서 홀수만 출력\n",
    "for num in myList:\n",
    "    if num % 2 == True:\n",
    "        print(num)"
   ]
  },
  {
   "cell_type": "code",
   "execution_count": null,
   "metadata": {
    "colab": {
     "base_uri": "https://localhost:8080/"
    },
    "executionInfo": {
     "elapsed": 3,
     "status": "ok",
     "timestamp": 1677027680976,
     "user": {
      "displayName": "전창민",
      "userId": "04793944019518067714"
     },
     "user_tz": -540
    },
    "id": "zRKelJfjoztW",
    "outputId": "8dc958a4-308a-4a06-8932-d486854979d6"
   },
   "outputs": [
    {
     "name": "stdout",
     "output_type": "stream",
     "text": [
      "1\n",
      "3\n",
      "5\n",
      "7\n",
      "9\n"
     ]
    }
   ],
   "source": [
    "# 다른 방법\n",
    "for num in myList:\n",
    "    if num % 2 == 1:\n",
    "        print(num)"
   ]
  },
  {
   "cell_type": "code",
   "execution_count": null,
   "metadata": {
    "colab": {
     "base_uri": "https://localhost:8080/"
    },
    "executionInfo": {
     "elapsed": 5,
     "status": "ok",
     "timestamp": 1677035358638,
     "user": {
      "displayName": "전창민",
      "userId": "04793944019518067714"
     },
     "user_tz": -540
    },
    "id": "BLnjDxCKo55y",
    "outputId": "88a3d1d7-b7ee-4d2c-fb6a-8d90582aaf5d"
   },
   "outputs": [
    {
     "name": "stdout",
     "output_type": "stream",
     "text": [
      "1\n",
      "2\n",
      "3\n",
      "4\n",
      "5\n",
      "6\n",
      "7\n"
     ]
    }
   ],
   "source": [
    "# 리스트에 1~12까지 생성하고, 1~7사이의 값만 출력\n",
    "# 방법1\n",
    "myList = [1, 2, 3, 4, 5, 6, 7, 8, 9, 10, 11, 12]\n",
    "for num in myList:\n",
    "    if num <= 7:\n",
    "        print(num)"
   ]
  },
  {
   "cell_type": "code",
   "execution_count": null,
   "metadata": {
    "colab": {
     "base_uri": "https://localhost:8080/"
    },
    "executionInfo": {
     "elapsed": 3,
     "status": "ok",
     "timestamp": 1677035405787,
     "user": {
      "displayName": "전창민",
      "userId": "04793944019518067714"
     },
     "user_tz": -540
    },
    "id": "xnf4ja_3GKNF",
    "outputId": "746c987d-fc83-4218-f3fb-9a90e27f30e1"
   },
   "outputs": [
    {
     "name": "stdout",
     "output_type": "stream",
     "text": [
      "1\n",
      "2\n",
      "3\n",
      "4\n",
      "5\n",
      "6\n",
      "7\n"
     ]
    }
   ],
   "source": [
    "# 방법2\n",
    "for i in range(1, 13):\n",
    "    if i <= 7:\n",
    "        print(i)"
   ]
  },
  {
   "cell_type": "code",
   "execution_count": null,
   "metadata": {
    "colab": {
     "base_uri": "https://localhost:8080/"
    },
    "executionInfo": {
     "elapsed": 3,
     "status": "ok",
     "timestamp": 1677035455872,
     "user": {
      "displayName": "전창민",
      "userId": "04793944019518067714"
     },
     "user_tz": -540
    },
    "id": "eQdGleJhGUz6",
    "outputId": "a47c62a5-69c8-4c54-9909-42f9b7c8a302"
   },
   "outputs": [
    {
     "name": "stdout",
     "output_type": "stream",
     "text": [
      "3\n",
      "4\n",
      "5\n",
      "6\n",
      "7\n"
     ]
    }
   ],
   "source": [
    "# 리스트에 1~12까지 생성하고, 3~7사이의 값만 출력\n",
    "for i in range(1, 13):\n",
    "    if i > 2 and i < 8:\n",
    "        print(i)"
   ]
  },
  {
   "cell_type": "code",
   "execution_count": null,
   "metadata": {
    "colab": {
     "base_uri": "https://localhost:8080/"
    },
    "executionInfo": {
     "elapsed": 4,
     "status": "ok",
     "timestamp": 1677035549092,
     "user": {
      "displayName": "전창민",
      "userId": "04793944019518067714"
     },
     "user_tz": -540
    },
    "id": "nWbGzirAGkF2",
    "outputId": "21bd040a-8e0d-4c01-ea40-1be923b5a193"
   },
   "outputs": [
    {
     "name": "stdout",
     "output_type": "stream",
     "text": [
      "3\n",
      "4\n",
      "5\n",
      "6\n",
      "7\n"
     ]
    }
   ],
   "source": [
    "# 다른방법 (and 조건이 길어질 경우, 따로 조건을 할당하여 반복문을 실행하면 된다)\n",
    "\n",
    "for num in myList:\n",
    "    cond = num >=3 and num <= 7\n",
    "    if cond:\n",
    "        print(num)"
   ]
  },
  {
   "cell_type": "markdown",
   "metadata": {
    "id": "c6Cdo3SpG_Mw"
   },
   "source": [
    "debug: 에러를 수정하다"
   ]
  },
  {
   "cell_type": "code",
   "execution_count": null,
   "metadata": {
    "colab": {
     "base_uri": "https://localhost:8080/"
    },
    "executionInfo": {
     "elapsed": 4,
     "status": "ok",
     "timestamp": 1677035633439,
     "user": {
      "displayName": "전창민",
      "userId": "04793944019518067714"
     },
     "user_tz": -540
    },
    "id": "Jup-AXqGG6Vd",
    "outputId": "3889e18f-72d5-4952-d856-993a958b2cbc"
   },
   "outputs": [
    {
     "name": "stdout",
     "output_type": "stream",
     "text": [
      "2\n",
      "4\n",
      "6\n",
      "8\n",
      "10\n",
      "12\n"
     ]
    }
   ],
   "source": [
    "myList = [1, 2, 3, 4, 5, 6, 7, 8, 9, 10, 11, 12]\n",
    "# continue는 아래 부분을 실행하지 않고 반복문릐 시작점으로 분기\n",
    "for num in myList:\n",
    "    if num % 2 == 1:\n",
    "        continue\n",
    "    else:\n",
    "        print(num)\n",
    "\n",
    "# else구문 생략가능"
   ]
  },
  {
   "cell_type": "code",
   "execution_count": null,
   "metadata": {
    "colab": {
     "base_uri": "https://localhost:8080/"
    },
    "executionInfo": {
     "elapsed": 4,
     "status": "ok",
     "timestamp": 1677035692388,
     "user": {
      "displayName": "전창민",
      "userId": "04793944019518067714"
     },
     "user_tz": -540
    },
    "id": "popjBjHOHPde",
    "outputId": "0c95a0e4-434a-4b8f-99ea-f16537104dd9"
   },
   "outputs": [
    {
     "name": "stdout",
     "output_type": "stream",
     "text": [
      "1\n",
      "2\n",
      "3\n",
      "4\n",
      "5\n",
      "6\n",
      "7\n",
      "8\n"
     ]
    }
   ],
   "source": [
    "# 1~8까지만 출력한다\n",
    "myList = [1, 2, 3, 4, 5, 6, 7, 8, 9, 10, 11, 12]\n",
    "for num in myList:\n",
    "    if num > 8:\n",
    "        break\n",
    "    \n",
    "    print(num)"
   ]
  },
  {
   "cell_type": "code",
   "execution_count": null,
   "metadata": {
    "colab": {
     "base_uri": "https://localhost:8080/"
    },
    "executionInfo": {
     "elapsed": 2,
     "status": "ok",
     "timestamp": 1677035724374,
     "user": {
      "displayName": "전창민",
      "userId": "04793944019518067714"
     },
     "user_tz": -540
    },
    "id": "hmZTqrC8Hd15",
    "outputId": "d405d042-5988-4747-a019-57dcab143858"
   },
   "outputs": [
    {
     "name": "stdout",
     "output_type": "stream",
     "text": [
      "0\n",
      "1\n",
      "2\n",
      "3\n",
      "4\n",
      "5\n",
      "6\n",
      "7\n",
      "8\n",
      "9\n"
     ]
    }
   ],
   "source": [
    "# 1~10까지를 입력\n",
    "# range(시작조건, 종료조건, 인터벌)\n",
    "# range(10): 시작조건 0, 종료조건 10미만, step 1\n",
    "\n",
    "# range(0, 10): 시작조건0, 종료조건 10미만, step 1\n",
    "for i in range(10):\n",
    "    print(i)"
   ]
  },
  {
   "cell_type": "code",
   "execution_count": null,
   "metadata": {
    "colab": {
     "base_uri": "https://localhost:8080/"
    },
    "executionInfo": {
     "elapsed": 2,
     "status": "ok",
     "timestamp": 1677035750135,
     "user": {
      "displayName": "전창민",
      "userId": "04793944019518067714"
     },
     "user_tz": -540
    },
    "id": "Pl8wSQdgHleq",
    "outputId": "b90464ea-5945-45b5-c7fa-7817637cfb8e"
   },
   "outputs": [
    {
     "name": "stdout",
     "output_type": "stream",
     "text": [
      "1\n",
      "3\n",
      "5\n",
      "7\n",
      "9\n"
     ]
    }
   ],
   "source": [
    "# 홀수만 나오는 for문\n",
    "for i in range(1, 10, 2):\n",
    "    print(i)"
   ]
  },
  {
   "cell_type": "code",
   "execution_count": null,
   "metadata": {
    "colab": {
     "base_uri": "https://localhost:8080/"
    },
    "executionInfo": {
     "elapsed": 2,
     "status": "ok",
     "timestamp": 1677035797793,
     "user": {
      "displayName": "전창민",
      "userId": "04793944019518067714"
     },
     "user_tz": -540
    },
    "id": "8r4IfNEaHr5A",
    "outputId": "527a697b-352c-4360-d488-1983c9dc4b15"
   },
   "outputs": [
    {
     "name": "stdout",
     "output_type": "stream",
     "text": [
      "*\n",
      "**\n",
      "***\n",
      "****\n",
      "*****\n"
     ]
    }
   ],
   "source": [
    "#*\n",
    "#**\n",
    "#***\n",
    "#****\n",
    "#*****\n",
    "# 별그리기\n",
    "\n",
    "for i in range(1, 6):\n",
    "    print('*' * i)"
   ]
  },
  {
   "cell_type": "code",
   "execution_count": null,
   "metadata": {
    "colab": {
     "base_uri": "https://localhost:8080/"
    },
    "executionInfo": {
     "elapsed": 3,
     "status": "ok",
     "timestamp": 1677035818588,
     "user": {
      "displayName": "전창민",
      "userId": "04793944019518067714"
     },
     "user_tz": -540
    },
    "id": "OZ476lpdH18V",
    "outputId": "b3e104f7-3a99-480d-eab6-0d5327b7cc5c"
   },
   "outputs": [
    {
     "name": "stdout",
     "output_type": "stream",
     "text": [
      "*****\n",
      "****\n",
      "***\n",
      "**\n",
      "*\n"
     ]
    }
   ],
   "source": [
    "for i in range(5, 0, -1):\n",
    "    print('*' * i)"
   ]
  },
  {
   "cell_type": "code",
   "execution_count": null,
   "metadata": {
    "colab": {
     "base_uri": "https://localhost:8080/"
    },
    "executionInfo": {
     "elapsed": 3,
     "status": "ok",
     "timestamp": 1677035856742,
     "user": {
      "displayName": "전창민",
      "userId": "04793944019518067714"
     },
     "user_tz": -540
    },
    "id": "iVb_YeRvH8p5",
    "outputId": "33487c79-98b5-4c9b-8b03-772605bb8d71"
   },
   "outputs": [
    {
     "name": "stdout",
     "output_type": "stream",
     "text": [
      "*\n",
      "**\n",
      "***\n",
      "****\n",
      "*****\n",
      "******\n",
      "*******\n"
     ]
    }
   ],
   "source": [
    "starCount = 7\n",
    "for i in range(1, starCount + 1):\n",
    "    print(\"*\" * i)"
   ]
  },
  {
   "cell_type": "code",
   "execution_count": null,
   "metadata": {
    "colab": {
     "base_uri": "https://localhost:8080/"
    },
    "executionInfo": {
     "elapsed": 2,
     "status": "ok",
     "timestamp": 1677035897444,
     "user": {
      "displayName": "전창민",
      "userId": "04793944019518067714"
     },
     "user_tz": -540
    },
    "id": "6y69zJA_IDyA",
    "outputId": "8b454f00-d8df-4ade-c7a5-a6c02315232d"
   },
   "outputs": [
    {
     "name": "stdout",
     "output_type": "stream",
     "text": [
      "*******\n",
      "******\n",
      "*****\n",
      "****\n",
      "***\n",
      "**\n",
      "*\n"
     ]
    }
   ],
   "source": [
    "starCount = 7\n",
    "for i in range(starCount, 0, -1):\n",
    "    print(\"*\" * i)"
   ]
  },
  {
   "cell_type": "code",
   "execution_count": null,
   "metadata": {
    "colab": {
     "base_uri": "https://localhost:8080/"
    },
    "executionInfo": {
     "elapsed": 275,
     "status": "ok",
     "timestamp": 1677035932077,
     "user": {
      "displayName": "전창민",
      "userId": "04793944019518067714"
     },
     "user_tz": -540
    },
    "id": "eRfNgphHIMh6",
    "outputId": "dc4d8834-fbf1-494b-f931-145a2cf467ea"
   },
   "outputs": [
    {
     "name": "stdout",
     "output_type": "stream",
     "text": [
      "       *\n",
      "      **\n",
      "     ***\n",
      "    ****\n",
      "   *****\n",
      "  ******\n",
      " *******\n"
     ]
    }
   ],
   "source": [
    "starCount = 7\n",
    "for i in range(1, starCount + 1):\n",
    "    print(' ' * (starCount - i), \"*\" * i)"
   ]
  },
  {
   "cell_type": "code",
   "execution_count": null,
   "metadata": {
    "colab": {
     "base_uri": "https://localhost:8080/"
    },
    "executionInfo": {
     "elapsed": 429,
     "status": "ok",
     "timestamp": 1677035952606,
     "user": {
      "displayName": "전창민",
      "userId": "04793944019518067714"
     },
     "user_tz": -540
    },
    "id": "rNwv_V_7IYYy",
    "outputId": "72cece16-3480-49ac-e730-6d6d099d1b72"
   },
   "outputs": [
    {
     "name": "stdout",
     "output_type": "stream",
     "text": [
      " *******\n",
      "  ******\n",
      "   *****\n",
      "    ****\n",
      "     ***\n",
      "      **\n",
      "       *\n"
     ]
    }
   ],
   "source": [
    "starCount = 7\n",
    "for i in range(starCount, 0, -1):\n",
    "    print(' ' * (starCount - i), \"*\" * i)"
   ]
  },
  {
   "cell_type": "code",
   "execution_count": null,
   "metadata": {
    "colab": {
     "base_uri": "https://localhost:8080/"
    },
    "executionInfo": {
     "elapsed": 2,
     "status": "ok",
     "timestamp": 1677036018391,
     "user": {
      "displayName": "전창민",
      "userId": "04793944019518067714"
     },
     "user_tz": -540
    },
    "id": "VJLPL86QIdLb",
    "outputId": "deba7eaf-1239-4c15-90b3-27e5eb01747b"
   },
   "outputs": [
    {
     "name": "stdout",
     "output_type": "stream",
     "text": [
      "       *\n",
      "      ***\n",
      "     *****\n",
      "    *******\n",
      "   *********\n",
      "  ***********\n",
      " *************\n"
     ]
    }
   ],
   "source": [
    "starCount = 7\n",
    "for i in range(1, starCount + 1):\n",
    "    print(' ' * (starCount - i), \"*\" * (2*i - 1))"
   ]
  },
  {
   "cell_type": "code",
   "execution_count": null,
   "metadata": {
    "colab": {
     "base_uri": "https://localhost:8080/"
    },
    "executionInfo": {
     "elapsed": 3,
     "status": "ok",
     "timestamp": 1677036118242,
     "user": {
      "displayName": "전창민",
      "userId": "04793944019518067714"
     },
     "user_tz": -540
    },
    "id": "72dmWk7jIirP",
    "outputId": "6b7dbef3-2ce4-45a0-acd5-631b8209b240"
   },
   "outputs": [
    {
     "name": "stdout",
     "output_type": "stream",
     "text": [
      "    *\n",
      "   ***\n",
      "  *****\n",
      " *******\n",
      "  *****\n",
      "   ***\n",
      "    *\n"
     ]
    }
   ],
   "source": [
    "starCount = 4\n",
    "for i in range(1, starCount + 1):\n",
    "    print(' ' * (starCount - i), \"*\" * (2*i - 1))\n",
    "\n",
    "for i in range(starCount-1, 0, -1):\n",
    "    print(' ' * (starCount - i), \"*\" * (2*i -1))"
   ]
  },
  {
   "cell_type": "code",
   "execution_count": null,
   "metadata": {
    "id": "Nu-HKo8GI67-"
   },
   "outputs": [],
   "source": [
    "# 과제: 속이 비어있는 다이아몬드\n",
    "#   *\n",
    "#  * *\n",
    "# *   *\n",
    "#*     *\n",
    "# *   *\n",
    "#  * *\n",
    "#   *"
   ]
  },
  {
   "cell_type": "code",
   "execution_count": null,
   "metadata": {
    "colab": {
     "base_uri": "https://localhost:8080/"
    },
    "executionInfo": {
     "elapsed": 282,
     "status": "ok",
     "timestamp": 1677036490240,
     "user": {
      "displayName": "전창민",
      "userId": "04793944019518067714"
     },
     "user_tz": -540
    },
    "id": "QFND0eDyKTWa",
    "outputId": "1e44f626-a911-4bf0-c6e9-dad1fc9cd7ec"
   },
   "outputs": [
    {
     "name": "stdout",
     "output_type": "stream",
     "text": [
      "    *      \n",
      "   ***       \n",
      "  *****        \n",
      " *******         \n",
      "  *****        \n",
      "   ***       \n",
      "    *      \n"
     ]
    }
   ],
   "source": [
    "starCount = 4\n",
    "for i in range(1, starCount + 1):\n",
    "    print(' ' * (starCount - i), \"*\" * (2*i - 1))\n",
    "\n",
    "for i in range(starCount-1, 0, -1):\n",
    "    print(' ' * (starCount - i), \"*\" * (2*i -1))"
   ]
  },
  {
   "cell_type": "code",
   "execution_count": null,
   "metadata": {
    "id": "U3gN6DHpJLuy"
   },
   "outputs": [],
   "source": [
    "# 구구단 출력\n",
    "# 2 X 1 = 2\n",
    "# 2 X 2 = 4\n",
    "# ...\n",
    "# 2 X 9 = 18"
   ]
  },
  {
   "cell_type": "code",
   "execution_count": null,
   "metadata": {
    "colab": {
     "base_uri": "https://localhost:8080/"
    },
    "executionInfo": {
     "elapsed": 3,
     "status": "ok",
     "timestamp": 1677036176719,
     "user": {
      "displayName": "전창민",
      "userId": "04793944019518067714"
     },
     "user_tz": -540
    },
    "id": "tHfEiI9bJMob",
    "outputId": "83d08fc8-efee-46d1-f2cf-862699f12e39"
   },
   "outputs": [
    {
     "name": "stdout",
     "output_type": "stream",
     "text": [
      "2 X 1 = 2\n"
     ]
    }
   ],
   "source": [
    "# 2 X 1 = 2\n",
    "a = 2\n",
    "b = 1\n",
    "c = 2\n",
    "\n",
    "print(\"{} X {} = {}\".format(a, b, c))"
   ]
  },
  {
   "cell_type": "code",
   "execution_count": null,
   "metadata": {
    "colab": {
     "base_uri": "https://localhost:8080/"
    },
    "executionInfo": {
     "elapsed": 2,
     "status": "ok",
     "timestamp": 1677036215022,
     "user": {
      "displayName": "전창민",
      "userId": "04793944019518067714"
     },
     "user_tz": -540
    },
    "id": "IdbeicEjJUDq",
    "outputId": "5d9d8f1c-e548-4b2c-b48c-f9455bd4578d"
   },
   "outputs": [
    {
     "name": "stdout",
     "output_type": "stream",
     "text": [
      "2 X 1 = 2\n",
      "2 X 2 = 4\n",
      "2 X 3 = 6\n",
      "2 X 4 = 8\n",
      "2 X 5 = 10\n",
      "2 X 6 = 12\n",
      "2 X 7 = 14\n",
      "2 X 8 = 16\n",
      "2 X 9 = 18\n"
     ]
    }
   ],
   "source": [
    "# 구구단 출력\n",
    "dan = 2\n",
    "for i in range(1, 10):\n",
    "    print(\"{} X {} = {}\".format(dan, i, dan * i))"
   ]
  },
  {
   "cell_type": "code",
   "execution_count": null,
   "metadata": {
    "id": "8zUKmjZEJdc7"
   },
   "outputs": [],
   "source": [
    "# 구구단 함수만들기\n",
    "def printGugudan(dan):\n",
    "    for i in range(1, 10):\n",
    "        print(\"{} X {} = {}\".format(dan, i, dan * i))"
   ]
  },
  {
   "cell_type": "code",
   "execution_count": null,
   "metadata": {
    "colab": {
     "base_uri": "https://localhost:8080/"
    },
    "executionInfo": {
     "elapsed": 2,
     "status": "ok",
     "timestamp": 1677036311316,
     "user": {
      "displayName": "전창민",
      "userId": "04793944019518067714"
     },
     "user_tz": -540
    },
    "id": "UnBlu9M9JrUy",
    "outputId": "9420698f-47b4-4015-a86d-b6474c9178c7"
   },
   "outputs": [
    {
     "name": "stdout",
     "output_type": "stream",
     "text": [
      "3 X 1 = 3\n",
      "3 X 2 = 6\n",
      "3 X 3 = 9\n",
      "3 X 4 = 12\n",
      "3 X 5 = 15\n",
      "3 X 6 = 18\n",
      "3 X 7 = 21\n",
      "3 X 8 = 24\n",
      "3 X 9 = 27\n"
     ]
    }
   ],
   "source": [
    "printGugudan(3)"
   ]
  },
  {
   "cell_type": "code",
   "execution_count": null,
   "metadata": {
    "id": "tcJARKHdJuYB"
   },
   "outputs": [],
   "source": [
    "# 2 X 1 = 2  3 X 1 = 3  4 X 1 = 4\n",
    "# 2 X 2 = 4  3 X 2 = 6  4 X 2 = 8\n",
    "#\n",
    "# 공백\n",
    "#\n",
    "#\n",
    "# 8 X 1 = 8  9 X 1 = 9\n"
   ]
  },
  {
   "cell_type": "code",
   "execution_count": null,
   "metadata": {
    "colab": {
     "base_uri": "https://localhost:8080/"
    },
    "executionInfo": {
     "elapsed": 2,
     "status": "ok",
     "timestamp": 1677036721501,
     "user": {
      "displayName": "전창민",
      "userId": "04793944019518067714"
     },
     "user_tz": -540
    },
    "id": "BjL4EtN7J3zr",
    "outputId": "c5ef9ccc-e156-436a-e599-4588f2db80ee"
   },
   "outputs": [
    {
     "name": "stdout",
     "output_type": "stream",
     "text": [
      "2 X 1 =  2 \t3 X 1 =  3 \t4 X 1 =  4 \t\n",
      "2 X 2 =  4 \t3 X 2 =  6 \t4 X 2 =  8 \t\n",
      "2 X 3 =  6 \t3 X 3 =  9 \t4 X 3 = 12 \t\n",
      "2 X 4 =  8 \t3 X 4 = 12 \t4 X 4 = 16 \t\n",
      "2 X 5 = 10 \t3 X 5 = 15 \t4 X 5 = 20 \t\n",
      "2 X 6 = 12 \t3 X 6 = 18 \t4 X 6 = 24 \t\n",
      "2 X 7 = 14 \t3 X 7 = 21 \t4 X 7 = 28 \t\n",
      "2 X 8 = 16 \t3 X 8 = 24 \t4 X 8 = 32 \t\n",
      "2 X 9 = 18 \t3 X 9 = 27 \t4 X 9 = 36 \t\n",
      "\n",
      "5 X 1 =  5 \t6 X 1 =  6 \t7 X 1 =  7 \t\n",
      "5 X 2 = 10 \t6 X 2 = 12 \t7 X 2 = 14 \t\n",
      "5 X 3 = 15 \t6 X 3 = 18 \t7 X 3 = 21 \t\n",
      "5 X 4 = 20 \t6 X 4 = 24 \t7 X 4 = 28 \t\n",
      "5 X 5 = 25 \t6 X 5 = 30 \t7 X 5 = 35 \t\n",
      "5 X 6 = 30 \t6 X 6 = 36 \t7 X 6 = 42 \t\n",
      "5 X 7 = 35 \t6 X 7 = 42 \t7 X 7 = 49 \t\n",
      "5 X 8 = 40 \t6 X 8 = 48 \t7 X 8 = 56 \t\n",
      "5 X 9 = 45 \t6 X 9 = 54 \t7 X 9 = 63 \t\n",
      "\n",
      "8 X 1 =  8 \t9 X 1 =  9 \t10 X 1 = 10 \t\n",
      "8 X 2 = 16 \t9 X 2 = 18 \t10 X 2 = 20 \t\n",
      "8 X 3 = 24 \t9 X 3 = 27 \t10 X 3 = 30 \t\n",
      "8 X 4 = 32 \t9 X 4 = 36 \t10 X 4 = 40 \t\n",
      "8 X 5 = 40 \t9 X 5 = 45 \t10 X 5 = 50 \t\n",
      "8 X 6 = 48 \t9 X 6 = 54 \t10 X 6 = 60 \t\n",
      "8 X 7 = 56 \t9 X 7 = 63 \t10 X 7 = 70 \t\n",
      "8 X 8 = 64 \t9 X 8 = 72 \t10 X 8 = 80 \t\n",
      "8 X 9 = 72 \t9 X 9 = 81 \t10 X 9 = 90 \t\n",
      "\n"
     ]
    }
   ],
   "source": [
    "for i in range(2, 10, 3):\n",
    "    for k in range(1, 10):\n",
    "        for j in range(3):\n",
    "            print(\"{} X {} = {:2} \".format(i+j, k, (i+j) * k), end = '\\t')\n",
    "        print()\n",
    "    print()"
   ]
  },
  {
   "cell_type": "code",
   "execution_count": null,
   "metadata": {
    "colab": {
     "base_uri": "https://localhost:8080/"
    },
    "executionInfo": {
     "elapsed": 318,
     "status": "ok",
     "timestamp": 1677043227226,
     "user": {
      "displayName": "전창민",
      "userId": "04793944019518067714"
     },
     "user_tz": -540
    },
    "id": "Em6VcMF4KNeT",
    "outputId": "ab6c6a7d-99a2-4b27-c672-eaf964c2d13a"
   },
   "outputs": [
    {
     "name": "stdout",
     "output_type": "stream",
     "text": [
      "2 X 1 =  2\t3 X 1 =  3\t4 X 1 =  4\t\n",
      "2 X 2 =  4\t3 X 2 =  6\t4 X 2 =  8\t\n",
      "2 X 3 =  6\t3 X 3 =  9\t4 X 3 = 12\t\n",
      "2 X 4 =  8\t3 X 4 = 12\t4 X 4 = 16\t\n",
      "2 X 5 = 10\t3 X 5 = 15\t4 X 5 = 20\t\n",
      "2 X 6 = 12\t3 X 6 = 18\t4 X 6 = 24\t\n",
      "2 X 7 = 14\t3 X 7 = 21\t4 X 7 = 28\t\n",
      "2 X 8 = 16\t3 X 8 = 24\t4 X 8 = 32\t\n",
      "2 X 9 = 18\t3 X 9 = 27\t4 X 9 = 36\t\n",
      "\n",
      "5 X 1 =  5\t6 X 1 =  6\t7 X 1 =  7\t\n",
      "5 X 2 = 10\t6 X 2 = 12\t7 X 2 = 14\t\n",
      "5 X 3 = 15\t6 X 3 = 18\t7 X 3 = 21\t\n",
      "5 X 4 = 20\t6 X 4 = 24\t7 X 4 = 28\t\n",
      "5 X 5 = 25\t6 X 5 = 30\t7 X 5 = 35\t\n",
      "5 X 6 = 30\t6 X 6 = 36\t7 X 6 = 42\t\n",
      "5 X 7 = 35\t6 X 7 = 42\t7 X 7 = 49\t\n",
      "5 X 8 = 40\t6 X 8 = 48\t7 X 8 = 56\t\n",
      "5 X 9 = 45\t6 X 9 = 54\t7 X 9 = 63\t\n",
      "\n",
      "8 X 1 =  8\t9 X 1 =  9\t\n",
      "8 X 2 = 16\t9 X 2 = 18\t\n",
      "8 X 3 = 24\t9 X 3 = 27\t\n",
      "8 X 4 = 32\t9 X 4 = 36\t\n",
      "8 X 5 = 40\t9 X 5 = 45\t\n",
      "8 X 6 = 48\t9 X 6 = 54\t\n",
      "8 X 7 = 56\t9 X 7 = 63\t\n",
      "8 X 8 = 64\t9 X 8 = 72\t\n",
      "8 X 9 = 72\t9 X 9 = 81\t\n",
      "\n"
     ]
    }
   ],
   "source": [
    "# 10단을 줄이기 위해 조건문 제시\n",
    "for i in range(2, 10, 3):\n",
    "    for k in range(1, 10):\n",
    "        for j in range(3):\n",
    "            if i + j > 9:\n",
    "                break\n",
    "            else:\n",
    "                print(\"{} X {} = {:2}\".format(i+j, k, (i+j)*k), end = '\\t')\n",
    "        print()\n",
    "    print()"
   ]
  },
  {
   "cell_type": "code",
   "execution_count": null,
   "metadata": {
    "colab": {
     "base_uri": "https://localhost:8080/"
    },
    "executionInfo": {
     "elapsed": 781,
     "status": "ok",
     "timestamp": 1677043491335,
     "user": {
      "displayName": "전창민",
      "userId": "04793944019518067714"
     },
     "user_tz": -540
    },
    "id": "IIiQ42DwkLwm",
    "outputId": "ca27de6b-5c41-47c0-a701-3cbd8b84cb58"
   },
   "outputs": [
    {
     "name": "stdout",
     "output_type": "stream",
     "text": [
      "2 X 1 =  2    3 X 1 =  3    4 X 1 =  4\n",
      "2 X 2 =  4    3 X 2 =  4    4 X 2 =  6\n",
      "2 X 3 =  6    3 X 3 =  5    4 X 3 =  8\n",
      "2 X 4 =  8    3 X 4 =  6    4 X 4 = 10\n",
      "2 X 5 = 10    3 X 5 =  7    4 X 5 = 12\n",
      "2 X 6 = 12    3 X 6 =  8    4 X 6 = 14\n",
      "2 X 7 = 14    3 X 7 =  9    4 X 7 = 16\n",
      "2 X 8 = 16    3 X 8 = 10    4 X 8 = 18\n",
      "2 X 9 = 18    3 X 9 = 11    4 X 9 = 20\n",
      "\n",
      "5 X 1 =  5    6 X 1 =  6\n",
      "5 X 2 = 10    6 X 2 =  7\n",
      "5 X 3 = 15    6 X 3 =  8\n",
      "5 X 4 = 20    6 X 4 =  9\n",
      "5 X 5 = 25    6 X 5 = 10\n",
      "5 X 6 = 30    6 X 6 = 11\n",
      "5 X 7 = 35    6 X 7 = 12\n",
      "5 X 8 = 40    6 X 8 = 13\n",
      "5 X 9 = 45    6 X 9 = 14\n",
      "\n",
      "8 X 1 =  8    9 X 1 =  9\n",
      "8 X 2 = 16    9 X 2 = 10\n",
      "8 X 3 = 24    9 X 3 = 11\n",
      "8 X 4 = 32    9 X 4 = 12\n",
      "8 X 5 = 40    9 X 5 = 13\n",
      "8 X 6 = 48    9 X 6 = 14\n",
      "8 X 7 = 56    9 X 7 = 15\n",
      "8 X 8 = 64    9 X 8 = 16\n",
      "8 X 9 = 72    9 X 9 = 17\n"
     ]
    }
   ],
   "source": [
    "# 다른 방법\n",
    "def printStr(dan):\n",
    "\n",
    "    # 공백 문자열 생성 : 한번만 생성하기 위해 for문 밖에서 생성\n",
    "    space = ' '*2\n",
    "\n",
    "    for i in range(1,10):\n",
    "        # 각 단마다 구구단 문자열 생성\n",
    "        str1 = \"{} X {} = {:2}\".format(dan, i, dan*i)\n",
    "        str2 = \"{} X {} = {:2}\".format(dan+1, i, (dan+1)*i)\n",
    "        str3 = \"{} X {} = {:2}\".format(dan+2, i, (dan+2)*i)\n",
    "\n",
    "        # 8단 출력시 10단 출력을 안하기 위해 조건문 사용\n",
    "        # 8단에서는 2열로 출력한다.\n",
    "        if dan+2 > 9:\n",
    "             print(str1, space, str2)\n",
    "             \n",
    "        # 2단과 5단에서는 3열로 출력한다.\n",
    "        else:\n",
    "            print(str1, space, str2, space, str3)\n",
    "\n",
    "for dan in range(2,9,3):\n",
    "    printStr(dan)\n",
    "\n",
    "    if dan==8:\n",
    "        break\n",
    "\n",
    "    print()\n",
    "\n",
    "# printStr(2)\n",
    "# print()\n",
    "# printStr(5)\n",
    "# print()\n",
    "# printStr(8)\n",
    "        "
   ]
  },
  {
   "cell_type": "code",
   "execution_count": null,
   "metadata": {
    "colab": {
     "base_uri": "https://localhost:8080/"
    },
    "executionInfo": {
     "elapsed": 279,
     "status": "ok",
     "timestamp": 1677043523892,
     "user": {
      "displayName": "전창민",
      "userId": "04793944019518067714"
     },
     "user_tz": -540
    },
    "id": "1INvbfQBlN0U",
    "outputId": "4c9acee4-d915-421f-a6c6-6988132a1b01"
   },
   "outputs": [
    {
     "name": "stdout",
     "output_type": "stream",
     "text": [
      "2 X 1 =  2    3 X 1 =  3    4 X 1 =  4\n",
      "2 X 2 =  4    3 X 2 =  4    4 X 2 =  6\n",
      "2 X 3 =  6    3 X 3 =  5    4 X 3 =  8\n",
      "2 X 4 =  8    3 X 4 =  6    4 X 4 = 10\n",
      "2 X 5 = 10    3 X 5 =  7    4 X 5 = 12\n",
      "2 X 6 = 12    3 X 6 =  8    4 X 6 = 14\n",
      "2 X 7 = 14    3 X 7 =  9    4 X 7 = 16\n",
      "2 X 8 = 16    3 X 8 = 10    4 X 8 = 18\n",
      "2 X 9 = 18    3 X 9 = 11    4 X 9 = 20\n",
      "\n",
      "5 X 1 =  5    6 X 1 =  6\n",
      "5 X 2 = 10    6 X 2 =  7\n",
      "5 X 3 = 15    6 X 3 =  8\n",
      "5 X 4 = 20    6 X 4 =  9\n",
      "5 X 5 = 25    6 X 5 = 10\n",
      "5 X 6 = 30    6 X 6 = 11\n",
      "5 X 7 = 35    6 X 7 = 12\n",
      "5 X 8 = 40    6 X 8 = 13\n",
      "5 X 9 = 45    6 X 9 = 14\n",
      "\n",
      "8 X 1 =  8    9 X 1 =  9\n",
      "8 X 2 = 16    9 X 2 = 10\n",
      "8 X 3 = 24    9 X 3 = 11\n",
      "8 X 4 = 32    9 X 4 = 12\n",
      "8 X 5 = 40    9 X 5 = 13\n",
      "8 X 6 = 48    9 X 6 = 14\n",
      "8 X 7 = 56    9 X 7 = 15\n",
      "8 X 8 = 64    9 X 8 = 16\n",
      "8 X 9 = 72    9 X 9 = 17\n",
      "\n"
     ]
    }
   ],
   "source": [
    "# 아래 공백 생성\n",
    "for dan in range(2, 9, 3):\n",
    "    printStr(dan)\n",
    "    print()"
   ]
  },
  {
   "cell_type": "code",
   "execution_count": null,
   "metadata": {
    "colab": {
     "base_uri": "https://localhost:8080/"
    },
    "executionInfo": {
     "elapsed": 303,
     "status": "ok",
     "timestamp": 1677043569596,
     "user": {
      "displayName": "전창민",
      "userId": "04793944019518067714"
     },
     "user_tz": -540
    },
    "id": "GALqcz-2lV5s",
    "outputId": "b66eda6a-6d8b-4ab9-c923-6b801d2fdf2d"
   },
   "outputs": [
    {
     "name": "stdout",
     "output_type": "stream",
     "text": [
      "2 X 1 =  2    3 X 1 =  3    4 X 1 =  4\n",
      "2 X 2 =  4    3 X 2 =  4    4 X 2 =  6\n",
      "2 X 3 =  6    3 X 3 =  5    4 X 3 =  8\n",
      "2 X 4 =  8    3 X 4 =  6    4 X 4 = 10\n",
      "2 X 5 = 10    3 X 5 =  7    4 X 5 = 12\n",
      "2 X 6 = 12    3 X 6 =  8    4 X 6 = 14\n",
      "2 X 7 = 14    3 X 7 =  9    4 X 7 = 16\n",
      "2 X 8 = 16    3 X 8 = 10    4 X 8 = 18\n",
      "2 X 9 = 18    3 X 9 = 11    4 X 9 = 20\n",
      "\n",
      "5 X 1 =  5    6 X 1 =  6\n",
      "5 X 2 = 10    6 X 2 =  7\n",
      "5 X 3 = 15    6 X 3 =  8\n",
      "5 X 4 = 20    6 X 4 =  9\n",
      "5 X 5 = 25    6 X 5 = 10\n",
      "5 X 6 = 30    6 X 6 = 11\n",
      "5 X 7 = 35    6 X 7 = 12\n",
      "5 X 8 = 40    6 X 8 = 13\n",
      "5 X 9 = 45    6 X 9 = 14\n",
      "\n",
      "8 X 1 =  8    9 X 1 =  9\n",
      "8 X 2 = 16    9 X 2 = 10\n",
      "8 X 3 = 24    9 X 3 = 11\n",
      "8 X 4 = 32    9 X 4 = 12\n",
      "8 X 5 = 40    9 X 5 = 13\n",
      "8 X 6 = 48    9 X 6 = 14\n",
      "8 X 7 = 56    9 X 7 = 15\n",
      "8 X 8 = 64    9 X 8 = 16\n",
      "8 X 9 = 72    9 X 9 = 17\n"
     ]
    }
   ],
   "source": [
    "# 공백 없애기\n",
    "for dan in range(2, 9, 3):\n",
    "    printStr(dan)\n",
    "    if dan == 8:\n",
    "        break\n",
    "    print()"
   ]
  },
  {
   "cell_type": "code",
   "execution_count": null,
   "metadata": {
    "colab": {
     "base_uri": "https://localhost:8080/"
    },
    "executionInfo": {
     "elapsed": 448,
     "status": "ok",
     "timestamp": 1677043717695,
     "user": {
      "displayName": "전창민",
      "userId": "04793944019518067714"
     },
     "user_tz": -540
    },
    "id": "LSKcN9pylhDV",
    "outputId": "618a2c60-39e9-4918-d351-3d7937bf4016"
   },
   "outputs": [
    {
     "name": "stdout",
     "output_type": "stream",
     "text": [
      "2 X 1 =  2\t3 X 1 =  3\t4 X 1 =  4\t\n",
      "2 X 2 =  4\t3 X 2 =  6\t4 X 2 =  8\t\n",
      "2 X 3 =  6\t3 X 3 =  9\t4 X 3 = 12\t\n",
      "2 X 4 =  8\t3 X 4 = 12\t4 X 4 = 16\t\n",
      "2 X 5 = 10\t3 X 5 = 15\t4 X 5 = 20\t\n",
      "2 X 6 = 12\t3 X 6 = 18\t4 X 6 = 24\t\n",
      "2 X 7 = 14\t3 X 7 = 21\t4 X 7 = 28\t\n",
      "2 X 8 = 16\t3 X 8 = 24\t4 X 8 = 32\t\n",
      "2 X 9 = 18\t3 X 9 = 27\t4 X 9 = 36\t\n",
      "\n",
      "5 X 1 =  5\t6 X 1 =  6\t7 X 1 =  7\t\n",
      "5 X 2 = 10\t6 X 2 = 12\t7 X 2 = 14\t\n",
      "5 X 3 = 15\t6 X 3 = 18\t7 X 3 = 21\t\n",
      "5 X 4 = 20\t6 X 4 = 24\t7 X 4 = 28\t\n",
      "5 X 5 = 25\t6 X 5 = 30\t7 X 5 = 35\t\n",
      "5 X 6 = 30\t6 X 6 = 36\t7 X 6 = 42\t\n",
      "5 X 7 = 35\t6 X 7 = 42\t7 X 7 = 49\t\n",
      "5 X 8 = 40\t6 X 8 = 48\t7 X 8 = 56\t\n",
      "5 X 9 = 45\t6 X 9 = 54\t7 X 9 = 63\t\n",
      "\n",
      "8 X 1 =  8\t9 X 1 =  9\t\n",
      "8 X 2 = 16\t9 X 2 = 18\t\n",
      "8 X 3 = 24\t9 X 3 = 27\t\n",
      "8 X 4 = 32\t9 X 4 = 36\t\n",
      "8 X 5 = 40\t9 X 5 = 45\t\n",
      "8 X 6 = 48\t9 X 6 = 54\t\n",
      "8 X 7 = 56\t9 X 7 = 63\t\n",
      "8 X 8 = 64\t9 X 8 = 72\t\n",
      "8 X 9 = 72\t9 X 9 = 81\t\n",
      "\n"
     ]
    }
   ],
   "source": [
    "# 앞선 코드를 함수로 만들기\n",
    "def printStr():\n",
    "    for i in range(2, 10, 3):\n",
    "        for k in range(1, 10):\n",
    "            for j in range(3):\n",
    "                if i + j > 9:\n",
    "                    break\n",
    "                else:\n",
    "                    print(\"{} X {} = {:2}\".format(i+j, k, (i+j)*k), end = '\\t')\n",
    "            print()\n",
    "        print()\n",
    "printStr()"
   ]
  },
  {
   "cell_type": "markdown",
   "metadata": {
    "id": "PelHnFBYsA1R"
   },
   "source": [
    "파이썬으로 cpu개수 검색해보기"
   ]
  },
  {
   "cell_type": "code",
   "execution_count": null,
   "metadata": {
    "colab": {
     "base_uri": "https://localhost:8080/"
    },
    "executionInfo": {
     "elapsed": 1353,
     "status": "ok",
     "timestamp": 1677045451557,
     "user": {
      "displayName": "전창민",
      "userId": "04793944019518067714"
     },
     "user_tz": -540
    },
    "id": "olZ7WnmdmFEi",
    "outputId": "404f6784-197d-4e68-e5b8-7c868cf4fa21"
   },
   "outputs": [
    {
     "name": "stdout",
     "output_type": "stream",
     "text": [
      "2\n"
     ]
    }
   ],
   "source": [
    "# 코랩은 cpu를 2개밖에 할당 안해줌\n",
    "import os\n",
    "print(os.cpu_count())"
   ]
  },
  {
   "cell_type": "code",
   "execution_count": null,
   "metadata": {
    "id": "jNXRx0B3ssQb"
   },
   "outputs": [],
   "source": []
  }
 ],
 "metadata": {
  "colab": {
   "authorship_tag": "ABX9TyNlCHwTBzrgeYJ6boq1WUY3",
   "provenance": []
  },
  "kernelspec": {
   "display_name": "Python 3 (ipykernel)",
   "language": "python",
   "name": "python3"
  },
  "language_info": {
   "codemirror_mode": {
    "name": "ipython",
    "version": 3
   },
   "file_extension": ".py",
   "mimetype": "text/x-python",
   "name": "python",
   "nbconvert_exporter": "python",
   "pygments_lexer": "ipython3",
   "version": "3.9.7"
  }
 },
 "nbformat": 4,
 "nbformat_minor": 1
}
