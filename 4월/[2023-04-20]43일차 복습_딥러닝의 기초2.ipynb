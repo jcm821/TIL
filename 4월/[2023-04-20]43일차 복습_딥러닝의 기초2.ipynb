{
 "cells": [
  {
   "cell_type": "markdown",
   "id": "8d670637",
   "metadata": {},
   "source": [
    "# 모델과 훈련"
   ]
  },
  {
   "cell_type": "markdown",
   "id": "8214fed7",
   "metadata": {},
   "source": [
    "* 케라스에서 모델을 만드는 방법은 3가지가 존재한다."
   ]
  },
  {
   "cell_type": "markdown",
   "id": "787b278f",
   "metadata": {},
   "source": [
    "## Sequential 모델과 함수형 API, Model 서브클래싱이 존재"
   ]
  },
  {
   "cell_type": "markdown",
   "id": "835a9973",
   "metadata": {},
   "source": [
    "### Sequential 모델"
   ]
  },
  {
   "cell_type": "code",
   "execution_count": 1,
   "id": "92bc1782",
   "metadata": {},
   "outputs": [],
   "source": [
    "from tensorflow import keras\n",
    "from keras import layers\n",
    "\n",
    "# keras 내의 Sequential() 클래스 객체 model을 생성\n",
    "model = keras.Sequential([layers.Dense(64, activation = 'relu'),   # 입력/은닉층 생성: output 차원 64, 활성화함수 'relu'\n",
    "                         layers.Dense(10, activation = 'softmax')])  # 출력층 생성: output 차원 10, 활성화함수 'softmax'\n",
    "\n",
    "# 객체 생성시 한번에 정의하는 상기 방법과는 다르게 레이어를 순차적으로 쌓아 네트워크를 구축\n",
    "# keras 내의 Sequential() 클래스 객체 model 생성\n",
    "model = keras.Sequential()\n",
    "\n",
    "# 입력/은닉층 생성: unit 64개, 활성화함수 'relu'\n",
    "model.add(layers.Dense(64, activation = 'relu'))\n",
    "\n",
    "# 출력층 생성: unit 10개, 활성화함수 'softmax'\n",
    "model.add(layers.Dense(10, activation = 'softmax'))"
   ]
  },
  {
   "cell_type": "markdown",
   "id": "993b83a9",
   "metadata": {},
   "source": [
    "### 함수형 API"
   ]
  },
  {
   "cell_type": "code",
   "execution_count": 2,
   "id": "563d38ee",
   "metadata": {},
   "outputs": [],
   "source": [
    "inputs = keras.Input(shape = (3, ), name = 'my_input')\n",
    "\n",
    "# layers.Dense를 사용하여 은닉층 Dense 레이어 정의\n",
    "features = layers.Dense(64, activation = 'relu')(inputs)\n",
    "\n",
    "# layers.Dense를 사용하여 출력층 Dense 레이어 정의\n",
    "outputs = layers.Dense(10, activation = 'softmax')(features)\n",
    "\n",
    "# 생성한 모델에 inputs 변수와 outputs 변수를 인자로 전달하여 모델 설정\n",
    "model = keras.Model(inputs = inputs, outputs = outputs)"
   ]
  },
  {
   "cell_type": "markdown",
   "id": "9fcfa538",
   "metadata": {},
   "source": [
    "### Model 서브 클래싱"
   ]
  },
  {
   "cell_type": "code",
   "execution_count": 3,
   "id": "95e93b39",
   "metadata": {},
   "outputs": [],
   "source": [
    "# 상기 모델을 클래스화\n",
    "# keras.Model 클래스를 상속받아 다중 입/출력을 처리하는 ANN 모델 구현\n",
    "class CustomerTicketModel(keras.Model):\n",
    "    \n",
    "    # 생성자 정의(인자로 num_departments 필요)\n",
    "    def __init__(self, num_departments):\n",
    "        # 부모 클래스인 keras.Model의 생성자 호출\n",
    "        super().__init__()\n",
    "        # 각 레이어 정dml\n",
    "        # input data를 연결하는 concat_layer 정의\n",
    "        self.concat_layer = layers.Concatenate()\n",
    "        # 은닉층 Dense 레이어 mixing_layer 정의\n",
    "        self.mixing_layer = layers.Dense(64, activation = 'relu')\n",
    "        # priority분류 출력 레이어 priority_scorer 정의\n",
    "        self.priority_score = layers.Dense(1, activation = 'sigmoid')\n",
    "        # department 분류 출력 레이어 department_classifier 정의\n",
    "        self.department_classifier = layers.Dense(num_departments, activation = 'softmax')\n",
    "        \n",
    "    # 사용자 정의 함수 call정의(인자로 input data인 inputs 필요)\n",
    "    def call(self, inputs):\n",
    "        \n",
    "        # input data를 각 변수에 할당\n",
    "        title = inputs['title']\n",
    "        test_body = input['text_body']\n",
    "        tags = inputs['tags']\n",
    "        \n",
    "        # 레이어별 변수 정의\n",
    "        # concat_layer 출력값을 features에 할당\n",
    "        features = self.concat_layer([title, text_body, tags])\n",
    "        # 상기 features를 입력받아 mixing_layer에서 출력한 값을 다시 features에 할당\n",
    "        features = self.mixing_layer(features)\n",
    "        # features를 입력받아 priorty_scorer에서 분류한 값을 priority에 할당\n",
    "        priority = self.priority_score(features)\n",
    "        # features를 입력받아 department_classifier에서 분류한 값을 department에 할당\n",
    "        departments = self.departments_classifier(features)\n",
    "        \n",
    "        # 분류 예측 값인 priority, department 반환\n",
    "        return priority, departments\n",
    "    \n",
    "# 모델 클래스 객체 model 생성(인자로 부서수=4개 전달)\n",
    "model = CustomerTicketModel(num_departments=4)"
   ]
  },
  {
   "cell_type": "markdown",
   "id": "417aacea",
   "metadata": {},
   "source": [
    "## 기존의 워크플로우"
   ]
  },
  {
   "cell_type": "code",
   "execution_count": 4,
   "id": "543af5cc",
   "metadata": {},
   "outputs": [
    {
     "name": "stdout",
     "output_type": "stream",
     "text": [
      "Epoch 1/3\n",
      "1563/1563 [==============================] - 9s 6ms/step - loss: 0.2191 - accuracy: 0.9350 - val_loss: 0.1175 - val_accuracy: 0.9667\n",
      "Epoch 2/3\n",
      "1563/1563 [==============================] - 9s 6ms/step - loss: 0.0936 - accuracy: 0.9729 - val_loss: 0.0926 - val_accuracy: 0.9730\n",
      "Epoch 3/3\n",
      "1563/1563 [==============================] - 9s 6ms/step - loss: 0.0640 - accuracy: 0.9807 - val_loss: 0.0836 - val_accuracy: 0.9747\n",
      "313/313 [==============================] - 1s 2ms/step - loss: 0.0777 - accuracy: 0.9769\n",
      "313/313 [==============================] - 1s 2ms/step\n"
     ]
    }
   ],
   "source": [
    "from tensorflow import keras\n",
    "from keras import layers\n",
    "from keras.datasets import mnist\n",
    "\n",
    "# 사용자 함수 작성\n",
    "def get_mnist_model():\n",
    "    # 함수형 API를 사용했으며, 레이어를 설정해준다\n",
    "    # 입력 레이어 설정\n",
    "    inputs = keras.Input(shape = (28*28,))\n",
    "    # 은닉 레이어 설정\n",
    "    features = layers.Dense(512, activation = 'relu')(inputs)\n",
    "    # 드롭아웃 레이어 설정\n",
    "    # 드롭아웃 레이어 : 딥러닝 모델의 오버피팅을 방지하기 위하여 사용\n",
    "    # Dense 레이어 사이에 자리하며 해당 batch 동안 드롭아웃 비율(여기서는 0.5) 만큼 뉴런들을 비활성화\n",
    "    \n",
    "    # 출력 레이어 설정\n",
    "    outputs = layers.Dense(10, activation = 'softmax')(features)\n",
    "    # 입력 레이어와 출력 레이어를 다르게 전달하여 모델 정의\n",
    "    model = keras.Model(inputs, outputs)\n",
    "    return model\n",
    "\n",
    "# 데이터 로드\n",
    "(images, labels), (test_images, test_labels) = mnist.load_data()\n",
    "\n",
    "# 데이터 스케일링\n",
    "images = images.reshape((60000, 28 * 28)).astype('float32') / 255\n",
    "test_images = test_images.reshape((10000, 28 * 28)).astype('float32') / 255\n",
    "\n",
    "# 학습/검증 데이터 분할\n",
    "train_images, val_images = images[10000:], images[:10000]\n",
    "train_labels, val_labels = labels[10000:], labels[:10000]\n",
    "\n",
    "# 사용자 함수를 사용하여 모델 생성\n",
    "model = get_mnist_model()\n",
    "\n",
    "# 모델 컴파일\n",
    "model.compile(optimizer = 'rmsprop', loss = 'sparse_categorical_crossentropy', metrics = ['accuracy'])\n",
    "\n",
    "# 모델 학습\n",
    "model.fit(train_images, train_labels, epochs = 3, validation_data = (val_images, val_labels))\n",
    "\n",
    "# 모델 테스트\n",
    "test_metrics = model.evaluate(test_images, test_labels)\n",
    "\n",
    "# 분류 결과 예측\n",
    "predictions = model.predict(test_images)"
   ]
  },
  {
   "cell_type": "markdown",
   "id": "89e8dc56",
   "metadata": {},
   "source": [
    "## 사용자 정의 지표 만들기"
   ]
  },
  {
   "cell_type": "code",
   "execution_count": 5,
   "id": "6963dc0c",
   "metadata": {},
   "outputs": [],
   "source": [
    "import tensorflow as tf\n",
    "\n",
    "# keras.metrics.Metric 클래스를 상속한 RootMeanSquaredError 클래스 작성\n",
    "class RootMeanSquaredError(keras.metrics.Metric):\n",
    "    \n",
    "    # 생성자 정의\n",
    "    def __init__(self, name=\"rmse\", **kwargs):\n",
    "        super().__init__(name=name, **kwargs)\n",
    "        # MSE의 합을 저장할 가중치를 설정하고 초기값을 0으로 설정\n",
    "        self.mse_sum = self.add_weight(name=\"mse_sum\", initializer=\"zeros\")\n",
    "        # 처리된 전체 샘플 수를 저장할 가중치를 설정하고 초기값을 0으로 설정\n",
    "        # 가중치의 dtype은 int32\n",
    "        self.total_samples = self.add_weight(\n",
    "            name=\"total_samples\", initializer=\"zeros\", dtype=\"int32\")\n",
    "\n",
    "    # 사용자 정의 함수 생성\n",
    "    def update_state(self, y_true, y_pred, sample_weight=None):\n",
    "        # 실제 레이블을 원핫 인코딩\n",
    "        # depth=tf.shape(y_pred)[1]: 원핫 인코딩된 차원은 예측 레이블의 차원과 동일하게 설정 \n",
    "        y_true = tf.one_hot(y_true, depth=tf.shape(y_pred)[1])\n",
    "        # (실제 레이블 - 예측 레이블)의 제곱을 모두 더하여 MSE 산출 (mse 변수에 저장) \n",
    "        mse = tf.reduce_sum(tf.square(y_true - y_pred))\n",
    "        # mse_sum 변수에 계산된 MSE(mse 변수 값)를 누적\n",
    "        self.mse_sum.assign_add(mse)\n",
    "        # 현재 배치에 있는 샘플 수를 구하여 변수 num_samples에 저장\n",
    "        num_samples = tf.shape(y_pred)[0]\n",
    "        # total_samples 변수에 현재 배치의 샘플 수(num_samples 변수 값)를 누적 \n",
    "        self.total_samples.assign_add(num_samples)\n",
    "\n",
    "    # 사용자 정의 함수 생성\n",
    "    def result(self):\n",
    "        # 누적된 MSE 합(self.mse_sum)을 누적된 샘플 수(self.total_samples)로 나누어 평균을 구한 후, \n",
    "        # 그 결과에 제곱근을 적용하여 최종적인 RMSE 값을 계산하고 반환\n",
    "        # tf.cast(self.total_samples, tf.float32): total_samples을 실수 값으로 변환하여 계산 진행\n",
    "        return tf.sqrt(self.mse_sum / tf.cast(self.total_samples, tf.float32))\n",
    "    \n",
    "    # 사용자 정의 함수 생성\n",
    "    def reset_state(self):\n",
    "        # MSE 합계를 저장하는 변수(mse_sum)를 0으로 초기화\n",
    "        self.mse_sum.assign(0.)\n",
    "        # 처리된 샘플 수를 저장하는 변수(total_samples)를 0으로 초기화\n",
    "        self.total_samples.assign(0)"
   ]
  },
  {
   "cell_type": "markdown",
   "id": "acce617f",
   "metadata": {},
   "source": [
    "## 사용자 정의 학습 모델 생성"
   ]
  },
  {
   "cell_type": "code",
   "execution_count": 6,
   "id": "de40a301",
   "metadata": {},
   "outputs": [
    {
     "name": "stdout",
     "output_type": "stream",
     "text": [
      "Epoch 1/3\n",
      "1563/1563 [==============================] - 10s 6ms/step - loss: 0.2164 - accuracy: 0.9356 - rmse: 7.2350 - val_loss: 0.1161 - val_accuracy: 0.9660 - val_rmse: 7.3672\n",
      "Epoch 2/3\n",
      "1563/1563 [==============================] - 9s 6ms/step - loss: 0.0920 - accuracy: 0.9723 - rmse: 7.3867 - val_loss: 0.0951 - val_accuracy: 0.9710 - val_rmse: 7.4029\n",
      "Epoch 3/3\n",
      "1563/1563 [==============================] - 9s 5ms/step - loss: 0.0617 - accuracy: 0.9818 - rmse: 7.4174 - val_loss: 0.0776 - val_accuracy: 0.9777 - val_rmse: 7.4244\n",
      "313/313 [==============================] - 1s 2ms/step - loss: 0.0729 - accuracy: 0.9786 - rmse: 7.4383\n"
     ]
    },
    {
     "data": {
      "text/plain": [
       "[0.07294325530529022, 0.978600025177002, 7.438286781311035]"
      ]
     },
     "execution_count": 6,
     "metadata": {},
     "output_type": "execute_result"
    }
   ],
   "source": [
    "# 상기 정의한 사용자 정의 함수 get_mnist_model()로 model 생성\n",
    "model = get_mnist_model()\n",
    "\n",
    "# 모델 컴파일\n",
    "model.compile(optimizer=\"rmsprop\",\n",
    "              loss=\"sparse_categorical_crossentropy\",\n",
    "              metrics=[\"accuracy\", RootMeanSquaredError()])    # 두번째 평가지표로 상기 작성한 클래스 RootMeanSquaredError() 전달\n",
    "\n",
    "# 모델 학습\n",
    "model.fit(train_images, train_labels,\n",
    "          epochs=3,\n",
    "          validation_data=(val_images, val_labels))\n",
    "\n",
    "# 모델 평가\n",
    "test_metrics = model.evaluate(test_images, test_labels)\n",
    "test_metrics"
   ]
  },
  {
   "cell_type": "markdown",
   "id": "adad0e38",
   "metadata": {},
   "source": [
    "## 콜백 사용"
   ]
  },
  {
   "cell_type": "code",
   "execution_count": 7,
   "id": "e97e205a",
   "metadata": {},
   "outputs": [
    {
     "name": "stdout",
     "output_type": "stream",
     "text": [
      "Epoch 1/10\n",
      "1563/1563 [==============================] - 9s 5ms/step - loss: 0.2227 - accuracy: 0.9343 - val_loss: 0.1329 - val_accuracy: 0.9595\n",
      "Epoch 2/10\n",
      "1563/1563 [==============================] - 9s 6ms/step - loss: 0.0936 - accuracy: 0.9718 - val_loss: 0.1056 - val_accuracy: 0.9696\n",
      "Epoch 3/10\n",
      "1563/1563 [==============================] - 9s 6ms/step - loss: 0.0650 - accuracy: 0.9806 - val_loss: 0.0789 - val_accuracy: 0.9764\n",
      "Epoch 4/10\n",
      "1563/1563 [==============================] - 9s 5ms/step - loss: 0.0467 - accuracy: 0.9865 - val_loss: 0.0808 - val_accuracy: 0.9788\n",
      "Epoch 5/10\n",
      "1563/1563 [==============================] - 9s 6ms/step - loss: 0.0348 - accuracy: 0.9899 - val_loss: 0.0873 - val_accuracy: 0.9775\n",
      "Epoch 6/10\n",
      "1563/1563 [==============================] - 9s 6ms/step - loss: 0.0265 - accuracy: 0.9917 - val_loss: 0.0932 - val_accuracy: 0.9779\n"
     ]
    },
    {
     "data": {
      "text/plain": [
       "<keras.callbacks.History at 0x1feae4e9640>"
      ]
     },
     "execution_count": 7,
     "metadata": {},
     "output_type": "execute_result"
    }
   ],
   "source": [
    "# 콜백(callback): 학습 과정 중 특정 이벤트가 발생했을 때 실행되는 함수\n",
    "\n",
    "## EarlyStopping 콜백 : 정해진 에포크 동안 모니터링 지표가 향상되지 않을 때 훈련 정지\n",
    "## ModelCheckpoint 콜백 : 매 에포크 끝에서 현재 가중치를 저장\n",
    "\n",
    "# 콜백 목록을 정의하는 list 생성\n",
    "callbacks_list = [    # fit()메서드의 매개변수를 사용하여 콜백의 리스트를 모델로 전달\n",
    "    keras.callbacks.EarlyStopping(   # 성능 향상이 멈추면 훈련 중지\n",
    "        monitor=\"val_accuracy\",  # 검증 정확도 모니터링\n",
    "        patience=2,  # 검증 정확도가 2 epoch 동안 향상되지 않으면 학습 중단 \n",
    "    ),\n",
    "\n",
    "    keras.callbacks.ModelCheckpoint(   # 매 에포크 끝에서 현재 가중치를 저장\n",
    "        filepath=\"checkpoint_path.keras\",\n",
    "        monitor=\"val_loss\",  # 검증 손실(val_loss)을 모니터링\n",
    "        save_best_only=True,  # save_best_only가 True로 설정되어 있으므로 가장 낮은 검증 손실을 가진 모델을 저장\n",
    "    )   # 저장은  filepath에 지정한 것 처럼 동일한 경로에 checkpoint_path.keras 이름으로 저장\n",
    "]\n",
    "\n",
    "# 위에서 작성한 사용자 정의 함수를 바탕으로 모델 생성\n",
    "model = get_mnist_model()\n",
    "\n",
    "# 모델 컴파일\n",
    "model.compile(optimizer=\"rmsprop\",\n",
    "              loss=\"sparse_categorical_crossentropy\",\n",
    "              metrics=[\"accuracy\"])\n",
    "\n",
    "# 모델 학습\n",
    "model.fit(train_images, train_labels,\n",
    "          epochs=10,\n",
    "          callbacks=callbacks_list,    # callbacks 인자에 위에서 작성한 callbacks_list 전달\n",
    "          validation_data=(val_images, val_labels))"
   ]
  },
  {
   "cell_type": "code",
   "execution_count": null,
   "id": "983186be",
   "metadata": {},
   "outputs": [],
   "source": [
    "# keras.callbacks.ModelCheckpoint 콜백을 통해 저장된 모델 로드\n",
    "model = keras.models.load_model(\"checkpoint_path.keras\")"
   ]
  }
 ],
 "metadata": {
  "kernelspec": {
   "display_name": "Python 3 (ipykernel)",
   "language": "python",
   "name": "python3"
  },
  "language_info": {
   "codemirror_mode": {
    "name": "ipython",
    "version": 3
   },
   "file_extension": ".py",
   "mimetype": "text/x-python",
   "name": "python",
   "nbconvert_exporter": "python",
   "pygments_lexer": "ipython3",
   "version": "3.8.16"
  }
 },
 "nbformat": 4,
 "nbformat_minor": 5
}
