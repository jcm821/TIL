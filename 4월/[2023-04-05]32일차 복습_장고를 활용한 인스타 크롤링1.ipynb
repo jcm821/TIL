{
 "cells": [
  {
   "cell_type": "markdown",
   "id": "b296cf6a",
   "metadata": {},
   "source": [
    "# 장고를 이용하여 인스타 크롤링 하기"
   ]
  },
  {
   "cell_type": "markdown",
   "id": "61f56587",
   "metadata": {},
   "source": [
    "## 앱 생성"
   ]
  },
  {
   "cell_type": "code",
   "execution_count": null,
   "id": "47d33333",
   "metadata": {},
   "outputs": [],
   "source": [
    "# 기존 장고를 만들었던 mysite디렉토리에서 새로운 앱을 생성해준다\n",
    "python manage.py startapp insta"
   ]
  },
  {
   "cell_type": "code",
   "execution_count": null,
   "id": "c6e94ba0",
   "metadata": {},
   "outputs": [],
   "source": [
    "# insta/models.py에 insta클래스 생성\n",
    "class Insta(models.Model):\n",
    "    content = models.TextField(null=False)\n",
    "    date = models.CharField(null=False, max_length=10)\n",
    "    like = models.IntegerField(null=False, default=0)\n",
    "    place = models.CharField(null=False, max_length=100)\n",
    "    tags = models.TextField(null=False)\n",
    "    create_date = models.DateTimeField(auto_now_add=True)"
   ]
  },
  {
   "cell_type": "markdown",
   "id": "136f30d1",
   "metadata": {},
   "source": [
    "* models.py 파일을 수정해 주었으므로, settings.py파일에 insta앱의 경로를 설정해준다. apps.py파일이 생성됨을 알 수 있다."
   ]
  },
  {
   "cell_type": "code",
   "execution_count": null,
   "id": "41ac5082",
   "metadata": {},
   "outputs": [],
   "source": [
    "# settings.py 파일에 다음을 추가\n",
    "INSTALLED_APPS = [\n",
    "    \"django.contrib.admin\",\n",
    "    \"django.contrib.auth\",\n",
    "    \"django.contrib.contenttypes\",\n",
    "    \"django.contrib.sessions\",\n",
    "    \"django.contrib.messages\",\n",
    "    \"django.contrib.staticfiles\",\n",
    "    \"bbsnote.apps.BbsnoteConfig\",\n",
    "    \"common.apps.CommonConfig\",\n",
    "    \"insta.apps.InstaConfig\",\n",
    "]"
   ]
  },
  {
   "cell_type": "markdown",
   "id": "53e928bb",
   "metadata": {},
   "source": [
    "* 이후 터미널 명령에서 makemigrations와 migrate을 진행해준다."
   ]
  },
  {
   "cell_type": "markdown",
   "id": "30cf2b36",
   "metadata": {},
   "source": [
    "* insta폴더 내에 parser.py를 생성해주고, Jupyter환경에서 인스타 크롤링을 하기 위해 만들었던 함수들을 추가해준다\n",
    "* 크롬 드라이브를 로드하여 사용자의 아이디와 비빌번호를 입력후 설정한 태그 게시물로 이동하여 클릭을 통해 태그의 첫번재 게시물로 이동\n",
    "* 게시글 수집을 위한 크롤링함수를 실행하여 수집이 되면 다음 게시글로 이동하는 것을 target변수를 통해 반복"
   ]
  },
  {
   "cell_type": "code",
   "execution_count": null,
   "id": "e50b1e13",
   "metadata": {},
   "outputs": [],
   "source": [
    "# insta폴더 내에 parser.py를 생성 후 다음의 내용을 추가\n",
    "import selenium\n",
    "from selenium import webdriver\n",
    "from selenium.webdriver.common.by import By\n",
    "import time\n",
    "import re\n",
    "from collections import Counter\n",
    "from bs4 import BeautifulSoup\n",
    "\n",
    "\n",
    "\n",
    "def insta_crawling(results):\n",
    "    # 크롬 드라이버를 로드\n",
    "    driver = webdriver.Chrome('D:/chromedriver/chromedriver.exe')\n",
    "\n",
    "    # 로그인 페이지로 이동\n",
    "    driver.get('https://www.instagram.com/accounts/login/')\n",
    "    time.sleep(2)\n",
    "\n",
    "    # 사용자 이름과 비밀번호를 입력\n",
    "    username = driver.find_element(By.NAME, 'username')\n",
    "    password = driver.find_element(By.NAME, 'password')\n",
    "    username.send_keys('chuncm@naver.com')\n",
    "    password.send_keys('970dnswjsqud0402!')\n",
    "\n",
    "    # 로그인 버튼을 클릭\n",
    "    login_button = driver.find_element(By.XPATH, '//button[@type=\"submit\"]')\n",
    "    login_button.click()\n",
    "    time.sleep(5)\n",
    "\n",
    "    word = \"제주도맛집\"\n",
    "    url = insta_searching(word)\n",
    "    driver.get(url)\n",
    "\n",
    "    def insta_searching(word):\n",
    "    url = 'https://www.instagram.com/explore/tags/' + word\n",
    "    return url\n",
    "\n",
    "\n",
    "def select_first(driver):\n",
    "    # F12를 통해 개발자 도구 페이지로 가서 class명이 '_aagu'인 부분을 살펴보면 게시글에 해당된다\n",
    "    first = driver.find_element(By.CLASS_NAME, '_aagu')\n",
    "    first.click()\n",
    "    time.sleep(3)\n",
    "    select_first(driver)\n",
    "\n",
    "\n",
    "    # 게시글 수집을 위해 크롤링 할 게시글 수 지정\n",
    "    target = 10\n",
    "    for i in range(target):\n",
    "        try:\n",
    "            data = get_content(driver)\n",
    "            results.append(data)\n",
    "            move_next(driver)\n",
    "        except:\n",
    "            # 게시글 수집에 오류 발생 시(네트워크 문제 등의 이유로), 2초 대기 후, 다음게시물로 넘어가도록 지정\n",
    "            time.sleep(2)\n",
    "            move_next(driver)\n",
    "            \n",
    "# 맛집 크롤링\n",
    "def get_content(driver):\n",
    "    # 현재 페이지 html정보 가져오기\n",
    "    html = driver.page_source\n",
    "    soup = BeautifulSoup(html, 'lxml')\n",
    "    # 본문내용 가져오기\n",
    "    try:\n",
    "        content = soup.select('div._a9zs > h1')[0].text\n",
    "    except:\n",
    "        content = ' '\n",
    "    # #으로 시작하여, #뒤에 연속된 문자(공백이나 #, \\기호가 아닌 경우)를 모두 찾아서 리스트 형태로 저장\n",
    "    tags = re.findall(r'#[^\\s#,\\<]+', content)\n",
    "    date = soup.select('time._aaqe')[0]['datetime'][:10]\n",
    "    # 좋아요 수 가져오기\n",
    "    try:\n",
    "        # 태그명이 div, class명이 다음과 같은 태그 바로 아래에 있는 span태그 모두 선택\n",
    "        like = soup.select('div._ae2s._ae3v._ae3w > section._ae5m._ae5n._ae5o > div > div > span > a > span > span')[0].text\n",
    "    except:\n",
    "        like = 0\n",
    "    # 위치(장소)정보 가져오기\n",
    "    try:\n",
    "        # div태그 중 class명이 _aaqm인 것을 선택해 화면에 노출되는 첫 번째 태그의 text를 가져옴\n",
    "        place = soup.select('div._aaqm')[0].text\n",
    "    except:\n",
    "        place = ''\n",
    "    # 수집한 정보 저장하기\n",
    "    data = [content, date, like, place, tags]\n",
    "    return data\n",
    "get_content(driver)\n",
    "\n",
    "\n",
    "# 다음 게시글 열기\n",
    "def move_next(driver):\n",
    "    right = driver.find_element(By.CLASS_NAME, '_aaqg')\n",
    "    right.click()\n",
    "    time.sleep(3)\n",
    "move_next(driver)"
   ]
  },
  {
   "cell_type": "markdown",
   "id": "bfc2e72c",
   "metadata": {},
   "source": [
    "* 경로 지정을 위해 config파일과 insta폴더에 insta의 경로를 지정해준다."
   ]
  },
  {
   "cell_type": "code",
   "execution_count": null,
   "id": "9b655971",
   "metadata": {},
   "outputs": [],
   "source": [
    "# config/urls.py에 insta의 경로 추가\n",
    "urlpatterns = [\n",
    "    path(\"admin/\", admin.site.urls),\n",
    "    path(\"bbsnote/\", include('bbsnote.urls')),\n",
    "    path(\"common/\", include('common.urls')),\n",
    "    path('', views.index, name='index'),\n",
    "    # 인스타라는 경로로 들어오면 'insta.urls'의 URL패턴 목록이 포함된다\n",
    "    path('insta/', include('insta.urls')),\n",
    "]"
   ]
  },
  {
   "cell_type": "code",
   "execution_count": null,
   "id": "c41c4570",
   "metadata": {},
   "outputs": [],
   "source": [
    "# insta폴더 안에 urls.py파일 생성 후 다음의 내용 추가\n",
    "from django.urls import path\n",
    "from . import views\n",
    "\n",
    "app_name = 'insta'\n",
    "\n",
    "urlpatterns = [\n",
    "    # 첫번째 URL패턴이 빈 문자열과 매칭 후, views.index 뷰 함수와 매칭\n",
    "    path('', views.index, name='index'),\n",
    "]"
   ]
  },
  {
   "cell_type": "markdown",
   "id": "873b95c7",
   "metadata": {},
   "source": [
    "* 경로에 지정한 뷰함수를 정의하기 위해 views.py 파일에 index함수를 추가해준다."
   ]
  },
  {
   "cell_type": "code",
   "execution_count": null,
   "id": "2727adec",
   "metadata": {},
   "outputs": [],
   "source": [
    "# insta/views.py파일에 다음의 함수 추가\n",
    "from django.shortcuts import render\n",
    "from .parser import *\n",
    "from .models import Insta\n",
    "\n",
    "def insta(request):\n",
    "    results = []\n",
    "    insta_crawling(results)\n",
    "    \n",
    "    for row in results:\n",
    "        insta = Insta(content=row[0], date=row[1], like=row[2], place=row[3], tags[4])\n",
    "        insta.save()"
   ]
  },
  {
   "cell_type": "markdown",
   "id": "b08763b3",
   "metadata": {},
   "source": [
    "* 터미널 명령 runserver를 통해 서버에 insta항목이 생긴것을 확인한다."
   ]
  },
  {
   "cell_type": "code",
   "execution_count": null,
   "id": "bbc66e51",
   "metadata": {},
   "outputs": [],
   "source": []
  }
 ],
 "metadata": {
  "kernelspec": {
   "display_name": "Python 3 (ipykernel)",
   "language": "python",
   "name": "python3"
  },
  "language_info": {
   "codemirror_mode": {
    "name": "ipython",
    "version": 3
   },
   "file_extension": ".py",
   "mimetype": "text/x-python",
   "name": "python",
   "nbconvert_exporter": "python",
   "pygments_lexer": "ipython3",
   "version": "3.8.16"
  }
 },
 "nbformat": 4,
 "nbformat_minor": 5
}
