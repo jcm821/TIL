{
 "cells": [
  {
   "cell_type": "markdown",
   "id": "b062096f",
   "metadata": {},
   "source": [
    "# UX/UI"
   ]
  },
  {
   "cell_type": "markdown",
   "id": "537e46f9",
   "metadata": {},
   "source": [
    "## UX"
   ]
  },
  {
   "cell_type": "markdown",
   "id": "051df2ee",
   "metadata": {},
   "source": [
    "* User Experience\n",
    "* 사용자 경험이라는 총체적인 관점으로 컨셉을 잡고 개발방향을 정하는 것"
   ]
  },
  {
   "cell_type": "markdown",
   "id": "93dbe983",
   "metadata": {},
   "source": [
    "## UI"
   ]
  },
  {
   "cell_type": "markdown",
   "id": "698708a2",
   "metadata": {},
   "source": [
    "* User Interface\n",
    "* UX를 구현하는 제작단계에서 사용자에게 최적화되도록 디자인 하는 것"
   ]
  },
  {
   "cell_type": "markdown",
   "id": "e2319a43",
   "metadata": {},
   "source": [
    "* 카카오톡을 예시로 비유하자면, 문자를 무료로 보내고 싶고, 문자만이 아닌 감정을 표현할 수 있는 무언가가 필요하다 생각되는 부분이 UX, 이런 것이 총집합되어 만들어진 어플 카카오톡이 UI라고 이해할 수 있다.\n",
    "* 다른 예로, 전화하면서 정보도 공유하고 싶고, 게임을 하고싶고, 음악이나 영화도 보고 싶다고 생각되는 부분이 UX단계, 이를 토대로 휴대폰에 넣어볼까?, 누르면 메뉴에 작동하는건 어떤지에 대한 여러 방안을 모색하는 부분이 UI단계이다."
   ]
  },
  {
   "cell_type": "markdown",
   "id": "272a4625",
   "metadata": {},
   "source": [
    "## UX_UI 사례"
   ]
  },
  {
   "cell_type": "markdown",
   "id": "b83f95a6",
   "metadata": {},
   "source": [
    "* 비상구와 문의 형태\n",
    "* 지하철 방화셔터\n",
    "* 은행 및 ATM기의 문이 열리는 방향은 안쪽(당겨야 됨)\n",
    "* 루브르 미술관의 파란조명\n"
   ]
  },
  {
   "cell_type": "markdown",
   "id": "ec14f6b6",
   "metadata": {},
   "source": [
    "## UX-UI의 세가지 요소"
   ]
  },
  {
   "cell_type": "markdown",
   "id": "1e2a24e9",
   "metadata": {},
   "source": [
    "### 1. 사용성과 기능성\n",
    "* 과거 물자가 귀해서'선택을 강요'받던 시대에서는 '기능성'에 중심을 주었지만, 지금은 선택을 하는 사용자의 '사용성'이 중요하다."
   ]
  },
  {
   "cell_type": "markdown",
   "id": "75b09c15",
   "metadata": {},
   "source": [
    "### 2. 피드백\n",
    "* 즉각적인 반응과 적용\n",
    "* 현상의 이해, 니즈의 변화파악, 소비자 만족제고 -> 컨텐츠의 성공"
   ]
  },
  {
   "cell_type": "markdown",
   "id": "b39cad2b",
   "metadata": {},
   "source": [
    "### 3. 의미의 전달\n",
    "* 다양한 리서치과정을 통해서 의미있는 정보를 캐내야 함\n",
    "* 숨어있는 정보를 찾기 위해서 다양한 리서치와 모델평가를 진행한다.\n",
    "* 의미를 캐내는 과정은 스토리, 스토리텔링이 중요함 -> 서비스를 사용하는 사람을 감동시켜야 한다.\n",
    "* 유머와 재미, 감동으로 인간적인 감성에 어필해야 한다."
   ]
  },
  {
   "cell_type": "markdown",
   "id": "16a70aa1",
   "metadata": {},
   "source": [
    "## 문화컨텐츠"
   ]
  },
  {
   "cell_type": "markdown",
   "id": "8dddc34c",
   "metadata": {},
   "source": [
    "* 재미있는 '문화'적인 요소를 '디지털매체'를 통해 사람들에게 전달하여 '상업적 이윤'을 창출하는 것"
   ]
  },
  {
   "cell_type": "markdown",
   "id": "4ea92c9d",
   "metadata": {},
   "source": [
    "## 스마트문화 컨텐츠"
   ]
  },
  {
   "cell_type": "markdown",
   "id": "71c4e225",
   "metadata": {},
   "source": [
    "* 스마트기기 + 문화 컨텐츠\n",
    "* 구글의 무인자동차, 스마트홈 서비스(IoT활용), 구글글라스, 애플워치"
   ]
  },
  {
   "cell_type": "markdown",
   "id": "be7db663",
   "metadata": {},
   "source": [
    "## 스마트문화 컨텐츠의 특징"
   ]
  },
  {
   "cell_type": "markdown",
   "id": "71a5058d",
   "metadata": {},
   "source": [
    "* 수평적 구조와 아이디어가 핵심"
   ]
  },
  {
   "cell_type": "markdown",
   "id": "5e9d0c9c",
   "metadata": {},
   "source": [
    "## UI란?"
   ]
  },
  {
   "cell_type": "markdown",
   "id": "38e1ec7f",
   "metadata": {},
   "source": [
    "* 디지털 기기를 작동시키는 명령어나 기법을 포함하는 '사용자 환경'\n",
    "* 단순히 어플리케이션만이 아닌 음성(목소리), 동작(제스처), 눈의 움직임(아이트래킹), 뇌파(브레인웨이브) 등과 같은 요소도 UI가 적용할 수 있다."
   ]
  }
 ],
 "metadata": {
  "kernelspec": {
   "display_name": "Python 3 (ipykernel)",
   "language": "python",
   "name": "python3"
  },
  "language_info": {
   "codemirror_mode": {
    "name": "ipython",
    "version": 3
   },
   "file_extension": ".py",
   "mimetype": "text/x-python",
   "name": "python",
   "nbconvert_exporter": "python",
   "pygments_lexer": "ipython3",
   "version": "3.8.16"
  }
 },
 "nbformat": 4,
 "nbformat_minor": 5
}
