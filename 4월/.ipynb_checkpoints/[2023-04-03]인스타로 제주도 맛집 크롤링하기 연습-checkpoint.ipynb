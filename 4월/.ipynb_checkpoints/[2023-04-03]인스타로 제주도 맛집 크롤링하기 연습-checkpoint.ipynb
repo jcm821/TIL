{
 "cells": [
  {
   "cell_type": "markdown",
   "id": "c744ecf4",
   "metadata": {},
   "source": [
    "## 인스타로 제주도 맛집 크롤링하기"
   ]
  },
  {
   "cell_type": "code",
   "execution_count": 1,
   "id": "01fc3797",
   "metadata": {},
   "outputs": [],
   "source": [
    "# 인스타그램 크롤링\n",
    "# 인스타그램 검색결과 URL을 만드는 함수\n",
    "def insta_searching(word):\n",
    "    url = 'https://www.instagram.com/explore/tags/' + word\n",
    "    return url"
   ]
  },
  {
   "cell_type": "code",
   "execution_count": 3,
   "id": "b879ab21",
   "metadata": {},
   "outputs": [
    {
     "name": "stderr",
     "output_type": "stream",
     "text": [
      "C:\\Users\\chunc\\AppData\\Local\\Temp\\ipykernel_43132\\1083056825.py:7: DeprecationWarning: executable_path has been deprecated, please pass in a Service object\n",
      "  driver = webdriver.Chrome('D:/chromedriver/chromedriver.exe')\n"
     ]
    }
   ],
   "source": [
    "# 필요 패키지 불러오기\n",
    "from selenium import webdriver\n",
    "from selenium.webdriver.common.by import By\n",
    "import time\n",
    "\n",
    "# 웹 드라이버 실행\n",
    "driver = webdriver.Chrome('D:/chromedriver/chromedriver.exe')\n",
    "# 제주도맛집이라는 키워드로 인스타그램 검색결과를 확인하는 URL 확인\n",
    "word = '제주도맛집'\n",
    "url = insta_searching(word)\n",
    "driver.get(url)"
   ]
  },
  {
   "cell_type": "code",
   "execution_count": 8,
   "id": "c123f67a",
   "metadata": {},
   "outputs": [],
   "source": [
    "# 첫번째 게시글을 찾아 클릭하여 열어보기\n",
    "def select_first(driver):\n",
    "    # F12를 통해 개발자 페이지로 가서 class명이 '_aagu'인 부분을 살펴보면 게시글에 해당된다\n",
    "    first = driver.find_element(By.CLASS_NAME, '_aagu')\n",
    "    first.click()\n",
    "    time.sleep(3)\n",
    "select_first(driver)"
   ]
  },
  {
   "cell_type": "markdown",
   "id": "62750917",
   "metadata": {},
   "source": [
    "* 위의 방법은 로그인을 일일히 해야하며, 그 이후 자신의 피드로 리다이렉트된다는 번거로움 존재, 아래와 같은 방법을 사용하여 처음부터 로그인을 하고 인스타 크롤링을 진행한다."
   ]
  },
  {
   "cell_type": "code",
   "execution_count": null,
   "id": "1e684d1f",
   "metadata": {},
   "outputs": [],
   "source": []
  }
 ],
 "metadata": {
  "kernelspec": {
   "display_name": "Python 3 (ipykernel)",
   "language": "python",
   "name": "python3"
  },
  "language_info": {
   "codemirror_mode": {
    "name": "ipython",
    "version": 3
   },
   "file_extension": ".py",
   "mimetype": "text/x-python",
   "name": "python",
   "nbconvert_exporter": "python",
   "pygments_lexer": "ipython3",
   "version": "3.8.16"
  }
 },
 "nbformat": 4,
 "nbformat_minor": 5
}
