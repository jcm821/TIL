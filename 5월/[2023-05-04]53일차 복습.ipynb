{
 "cells": [
  {
   "cell_type": "markdown",
   "id": "c2af5979",
   "metadata": {},
   "source": [
    "# 세미 프로젝트"
   ]
  },
  {
   "cell_type": "markdown",
   "id": "a618715f",
   "metadata": {},
   "source": [
    "## 자료조사"
   ]
  },
  {
   "cell_type": "markdown",
   "id": "bbbb9f9b",
   "metadata": {},
   "source": [
    "\n",
    "경제지표와 이슈 사건 지표<br>\n",
    "gdp와 gni는 한국은행 경제통계시스템에서 수집<br>\n",
    "[한국은행 경제통계시스템] https://ecos.bok.or.kr/#/ \n",
    "\n",
    "\n",
    "1. GDP(국내총생산): 한 나라의 영역 내에서 가계, 기업, 정부 등 모든 경제주체가 일정기간 동안 생산한 재화 및 서비스의 부가가치1)를 시장가격으로 평가하여 합산한 것으로 여기에는 비거주자가 제공한 노동, 자본 등 생산요소에 의하여 창출된 것도 포함\n",
    "\n",
    "2. GNI(국민총소득): 한나라의 국민이 국내외 생산 활동에 참가하거나 생산에 필요한 자산을 제공한 대가로 받은 소득의 합계로서 이 지표에는 자국민(거주자)이 국외로부터 받은 소득(국외수취요소소득)은 포함되는 반면 국내총생산 중에서 외국인(비거주자)에게 지급한 소득(국외지급요소소득)은 제외\n",
    "\n",
    "3. 금리: 빌려준 돈이나 예금 따위에 붙는 이자. 또는 그 비율. -> 한국은행 경제통계시스템<br>\n",
    "\t[한국산업은행 금리현황] https://www.data.go.kr/data/15008289/fileData.do <br>\n",
    "\t[중소기업은행 금리정보] https://www.data.go.kr/data/15011687/fileData.do <br>\n",
    "4. 경제활동인구: 만 15세이상인구는 경제활동인구와 비경제활동인구로 나뉜다. 만 15세이상인구 중 수입이 있는 일에 종사하고 있거나 취업을 하기 위하여 구직활동 중에 있는 사람을 경제활동인구라고 하며, 그 외 사람은 비경제활동인구 -> 한국은행 경제통계시스템\n",
    "5. 소비자물가지수: 소비자가 구입하는 상품과 서비스의 가격변동을 측정하기 위한 지표 -> 한국은행 경제통계시스템\n",
    "\n",
    "<한국언론진흥재단_뉴스빅데이터_메타데이터_코로나>: 요건 그냥 언론사가 관련 뉴스 제목이나 내용 등을 텍스트로 저장해놓은 형태인 듯 해요\n",
    "공공데이터포털 -> https://www.data.go.kr/data/15069309/fileData.do\n",
    "\n",
    "\n",
    "\n",
    "\n",
    "\n",
    "\n",
    "지진의 경우\n",
    "최근 튀르키예 -> 강진으로 인한 인명피해는 물론 튀르키예의 경제 피해 규모는 튀르키예 GDP의 최대 10%로 전망\n",
    "[관련 뉴스자료] https://www.donga.com/news/Inter/article/all/20230221/118012629/1\n",
    "\n",
    "화재의 경우\n",
    "재난상황에 따른 데이터 센터의 피해 및 개선방안 관련 사례\n",
    "[카톡 먹통’ 경기도내 데이터센터, 소방 이어 건축·전기·가스 관리도 ‘흔들’]\n",
    "https://www.kyeonggi.com/article/20230422580019\n",
    "[‘네카오’도 재난관리 의무 대상…“데이터센터 분산 관리 강화”]\n",
    "https://www.hani.co.kr/arti/economy/it/1085855.html\n",
    "[`쌍둥이 데이터센터` 있었다면…초유의 카톡 먹통 막았다]\n",
    "https://www.mk.co.kr/news/it/10509448\n",
    "\n",
    "요약\n",
    "1. 데이터 대기업들에게 재난관리 규제 포함시켜 안전성 각인, 안전사고 대체\n",
    "2. 구글의 사례와 같이 데이터센터의 이중화 및 이원화 -> AWS와 같은 클라우드 시스템 활용?\n",
    "3. 디지털재난 예방을 위한 전문 인력 양성?\n",
    "\n",
    "\n",
    "네이버의 경우, 전략적으로 서비스 컴포넌트들을 분산 배치 및 백업을 하고 있었으며 모든 주요 서비스의 이중화를 통해 IDC 장애를 대비 또한, 재해 발생 시 내부 프로세스에 따른 기민한 대응을 한 것으로 보아 DR 테스트 훈련도 정기적으로 했을 것으로 예상됨\n",
    "[관련 글] https://manvscloud.com/?p=1878\n",
    "\n",
    "‘재난상황을 대비하는 미래의 데이터 인프라’"
   ]
  },
  {
   "cell_type": "markdown",
   "id": "da8fd410",
   "metadata": {},
   "source": []
  }
 ],
 "metadata": {
  "kernelspec": {
   "display_name": "Python 3 (ipykernel)",
   "language": "python",
   "name": "python3"
  },
  "language_info": {
   "codemirror_mode": {
    "name": "ipython",
    "version": 3
   },
   "file_extension": ".py",
   "mimetype": "text/x-python",
   "name": "python",
   "nbconvert_exporter": "python",
   "pygments_lexer": "ipython3",
   "version": "3.8.16"
  }
 },
 "nbformat": 4,
 "nbformat_minor": 5
}
